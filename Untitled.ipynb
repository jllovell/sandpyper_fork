{
 "cells": [
  {
   "cell_type": "code",
   "execution_count": 16,
   "id": "790fdac1",
   "metadata": {},
   "outputs": [],
   "source": [
    "import pysal\n",
    "import geopandas\n",
    "from pyproj import CRS"
   ]
  },
  {
   "cell_type": "code",
   "execution_count": 18,
   "id": "f9cc7cf5",
   "metadata": {},
   "outputs": [
    {
     "data": {
      "text/plain": [
       "<Projected CRS: EPSG:32754>\n",
       "Name: WGS 84 / UTM zone 54S\n",
       "Axis Info [cartesian]:\n",
       "- E[east]: Easting (metre)\n",
       "- N[north]: Northing (metre)\n",
       "Area of Use:\n",
       "- name: Between 138°E and 144°E, southern hemisphere between 80°S and equator, onshore and offshore. Australia. Indonesia. Papua New Guinea.\n",
       "- bounds: (138.0, -80.0, 144.0, 0.0)\n",
       "Coordinate Operation:\n",
       "- name: UTM zone 54S\n",
       "- method: Transverse Mercator\n",
       "Datum: World Geodetic System 1984 ensemble\n",
       "- Ellipsoid: WGS 84\n",
       "- Prime Meridian: Greenwich"
      ]
     },
     "execution_count": 18,
     "metadata": {},
     "output_type": "execute_result"
    }
   ],
   "source": [
    "di={'mar':32754}\n",
    "CRS.from_epsg(di['mar'])"
   ]
  },
  {
   "cell_type": "code",
   "execution_count": 12,
   "id": "2e56c8a6",
   "metadata": {},
   "outputs": [],
   "source": [
    "from tqdm.notebook import tqdm_notebook as tqdm\n"
   ]
  },
  {
   "cell_type": "code",
   "execution_count": 11,
   "id": "9863dfef",
   "metadata": {},
   "outputs": [],
   "source": [
    "\n",
    "from pysal.viz.mapclassify import (EqualInterval,\n",
    "                                   FisherJenks,\n",
    "                                   HeadTailBreaks,\n",
    "                                   JenksCaspall,\n",
    "                                   KClassifiers,\n",
    "                                   Quantiles,\n",
    "                                   Percentiles,\n",
    "                                   UserDefined)"
   ]
  }
 ],
 "metadata": {
  "kernelspec": {
   "display_name": "Python [conda env:sandpyper_env_relaxed] *",
   "language": "python",
   "name": "conda-env-sandpyper_env_relaxed-py"
  },
  "language_info": {
   "codemirror_mode": {
    "name": "ipython",
    "version": 3
   },
   "file_extension": ".py",
   "mimetype": "text/x-python",
   "name": "python",
   "nbconvert_exporter": "python",
   "pygments_lexer": "ipython3",
   "version": "3.8.12"
  }
 },
 "nbformat": 4,
 "nbformat_minor": 5
}
