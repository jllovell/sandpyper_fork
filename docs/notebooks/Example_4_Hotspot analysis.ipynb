{
 "cells": [
  {
   "cell_type": "markdown",
   "id": "2eef1d45",
   "metadata": {},
   "source": [
    "# Example 4 - Hotspot analysis"
   ]
  },
  {
   "cell_type": "markdown",
   "id": "civic-indonesian",
   "metadata": {},
   "source": [
    "<img src=\"images/banner3.png\" width=\"100%\" />\n",
    "\n",
    "<font face=\"Calibri\">\n",
    "<br>\n",
    "<font size=\"5\"> <b>Local Indicator of Spatial Association: hotspot analysis and transient sates</b></font>\n",
    "\n",
    "<br>\n",
    "<font size=\"4\"> <b> Nicolas Pucino; PhD Student @ Deakin University, Australia </b> <br>\n",
    "<img style=\"padding:7px;\" src=\"images/sandpiper_sand_retouched.png\" width=\"170\" align=\"right\" /></font>\n",
    "\n",
    "<font size=\"3\">This notebook illustrates how to use Local Moran's I, a popular local indicator of spatial association (LISA) to capture the most signifcant areas of change within the changing beachface in every timestep. This allows us to focus on the most important areas of change, disregarding spatial outilers, to then classify magnitude of changes into relevant transient states, which will be used to model behaviours at the location and transect scales.  <br>\n",
    "\n",
    "<b>This notebook covers the following concepts:</b>\n",
    "\n",
    "- Location-level Local Moran's I.\n",
    "- Magnitude classification.\n",
    "- Transient states definition.\n",
    "</font>\n",
    "\n",
    "\n",
    "</font>"
   ]
  },
  {
   "cell_type": "code",
   "execution_count": 1,
   "id": "6583629d",
   "metadata": {},
   "outputs": [
    {
     "name": "stderr",
     "output_type": "stream",
     "text": [
      "C:\\conda3\\envs\\sandpyper_env\\lib\\site-packages\\pysal\\explore\\segregation\\network\\network.py:15: UserWarning: You need pandana and urbanaccess to work with segregation's network module\n",
      "You can install them with  `pip install urbanaccess pandana` or `conda install -c udst pandana urbanaccess`\n",
      "  warn(\n",
      "C:\\conda3\\envs\\sandpyper_env\\lib\\site-packages\\pysal\\model\\spvcm\\abstracts.py:10: UserWarning: The `dill` module is required to use the sqlite backend fully.\n",
      "  from .sqlite import head_to_sql, start_sql\n"
     ]
    }
   ],
   "source": [
    "from pysal.viz.mapclassify import UserDefined\n",
    "import pysal.viz.mapclassify as mc\n",
    "\n",
    "import pandas as pd\n",
    "import numpy as np\n",
    "from tqdm import tqdm\n",
    "\n",
    "from sandpyper.hotspot import LISA_site_level"
   ]
  },
  {
   "cell_type": "markdown",
   "id": "d12ae8d3",
   "metadata": {},
   "source": [
    "## Load multitemporal datased (dh)"
   ]
  },
  {
   "cell_type": "code",
   "execution_count": 3,
   "id": "ca4952c3",
   "metadata": {},
   "outputs": [],
   "source": [
    "dh_df=pd.read_csv(r\"C:\\my_packages\\doc_data\\profiles\\dh_data.csv\")"
   ]
  },
  {
   "cell_type": "markdown",
   "id": "3164bf88",
   "metadata": {},
   "source": [
    "## Compute location level hotspot "
   ]
  },
  {
   "cell_type": "code",
   "execution_count": 4,
   "id": "d5acab83",
   "metadata": {},
   "outputs": [],
   "source": [
    "crs_dict_string={\"mar\":{'init': 'epsg:32754'},\n",
    "         \"leo\":{'init': 'epsg:32755'}}"
   ]
  },
  {
   "cell_type": "markdown",
   "id": "48ea154b",
   "metadata": {},
   "source": [
    "The function __LISA_site_level__ perform a Local Moran's I with False Discovery Rate (fdr) correction analysis for all the elevation change points in each survey in the dh_df table.\n",
    "\n",
    "This function can use KNN-based, inverse distance weighted or binary distance-based spatial weight matrices. In this example, we model spatial relationships with a distance-based row standardised binary weight matrix with neighborhood radius of 35 m, in order to include two adjacent transect and some points from obliques without getting too far from the focal point.\n",
    "\n",
    "we obtain a dataset containing the fdr threshold, local moran-s Is, p and z values and the quadrant in which each observation falls in a Moran's scatter plot, which represent High-High (HH, hotspot cluster), High-Low (HL, spatial outlier), Low-Low (LL, coldspot cluster) and Low-High (LH, spatial outlier) points.\n",
    "\n",
    "We are interested in HH and LL clusters, which we generally call hotspots, and discard LH and HL points are sptial outliers."
   ]
  },
  {
   "cell_type": "code",
   "execution_count": null,
   "id": "b4385f7c",
   "metadata": {},
   "outputs": [],
   "source": [
    "distance_value=35 #enough to include two adjacent transect and some obliques without getting to the second transect\n",
    "k_value=0\n",
    "mode=\"distance\" #select from \"knn\", \"idw\" or \"distance\""
   ]
  },
  {
   "cell_type": "code",
   "execution_count": 25,
   "id": "d6477af1",
   "metadata": {
    "scrolled": true
   },
   "outputs": [
    {
     "name": "stderr",
     "output_type": "stream",
     "text": [
      "<ipython-input-20-065cd36775bc>:49: TqdmDeprecationWarning: This function will be removed in tqdm==5.0.0\n",
      "Please use `tqdm.notebook.tqdm` instead of `tqdm.tqdm_notebook`\n",
      "  for loc in tqdm(locs):\n"
     ]
    },
    {
     "data": {
      "application/vnd.jupyter.widget-view+json": {
       "model_id": "97c77fb9f9c64d49928c4fa361732262",
       "version_major": 2,
       "version_minor": 0
      },
      "text/plain": [
       "  0%|          | 0/2 [00:00<?, ?it/s]"
      ]
     },
     "metadata": {},
     "output_type": "display_data"
    },
    {
     "name": "stderr",
     "output_type": "stream",
     "text": [
      "<ipython-input-20-065cd36775bc>:54: SettingWithCopyWarning: \n",
      "A value is trying to be set on a copy of a slice from a DataFrame.\n",
      "Try using .loc[row_indexer,col_indexer] = value instead\n",
      "\n",
      "See the caveats in the documentation: https://pandas.pydata.org/pandas-docs/stable/user_guide/indexing.html#returning-a-view-versus-a-copy\n",
      "  df_in['geometry'] = df_in.loc[:, unique_field].apply(\n"
     ]
    },
    {
     "name": "stdout",
     "output_type": "stream",
     "text": [
      "Working on leo\n"
     ]
    },
    {
     "name": "stderr",
     "output_type": "stream",
     "text": [
      "C:\\conda3\\envs\\sandpyper_env\\lib\\site-packages\\pyproj\\crs\\crs.py:53: FutureWarning: '+init=<authority>:<code>' syntax is deprecated. '<authority>:<code>' is the preferred initialization method. When making the change, be mindful of axis order changes: https://pyproj4.github.io/pyproj/stable/gotchas.html#axis-order-changes-in-proj-6\n",
      "  return _prepare_from_string(\" \".join(pjargs))\n",
      "<ipython-input-20-065cd36775bc>:61: TqdmDeprecationWarning: This function will be removed in tqdm==5.0.0\n",
      "Please use `tqdm.notebook.tqdm` instead of `tqdm.tqdm_notebook`\n",
      "  for dt in tqdm(dts):\n"
     ]
    },
    {
     "data": {
      "application/vnd.jupyter.widget-view+json": {
       "model_id": "2a5fd164e8bc47d585bc0b7baf0f23c9",
       "version_major": 2,
       "version_minor": 0
      },
      "text/plain": [
       "  0%|          | 0/6 [00:00<?, ?it/s]"
      ]
     },
     "metadata": {},
     "output_type": "display_data"
    },
    {
     "name": "stderr",
     "output_type": "stream",
     "text": [
      "<ipython-input-20-065cd36775bc>:64: SettingWithCopyWarning: \n",
      "A value is trying to be set on a copy of a slice from a DataFrame\n",
      "\n",
      "See the caveats in the documentation: https://pandas.pydata.org/pandas-docs/stable/user_guide/indexing.html#returning-a-view-versus-a-copy\n",
      "  gdf_input.dropna(axis=0, how='any', subset=['dh'], inplace=True)\n",
      "C:\\conda3\\envs\\sandpyper_env\\lib\\site-packages\\geopandas\\geodataframe.py:853: SettingWithCopyWarning: \n",
      "A value is trying to be set on a copy of a slice from a DataFrame.\n",
      "Try using .loc[row_indexer,col_indexer] = value instead\n",
      "\n",
      "See the caveats in the documentation: https://pandas.pydata.org/pandas-docs/stable/user_guide/indexing.html#returning-a-view-versus-a-copy\n",
      "  super(GeoDataFrame, self).__setitem__(key, value)\n",
      "<ipython-input-20-065cd36775bc>:64: SettingWithCopyWarning: \n",
      "A value is trying to be set on a copy of a slice from a DataFrame\n",
      "\n",
      "See the caveats in the documentation: https://pandas.pydata.org/pandas-docs/stable/user_guide/indexing.html#returning-a-view-versus-a-copy\n",
      "  gdf_input.dropna(axis=0, how='any', subset=['dh'], inplace=True)\n",
      "C:\\conda3\\envs\\sandpyper_env\\lib\\site-packages\\geopandas\\geodataframe.py:853: SettingWithCopyWarning: \n",
      "A value is trying to be set on a copy of a slice from a DataFrame.\n",
      "Try using .loc[row_indexer,col_indexer] = value instead\n",
      "\n",
      "See the caveats in the documentation: https://pandas.pydata.org/pandas-docs/stable/user_guide/indexing.html#returning-a-view-versus-a-copy\n",
      "  super(GeoDataFrame, self).__setitem__(key, value)\n",
      "<ipython-input-20-065cd36775bc>:64: SettingWithCopyWarning: \n",
      "A value is trying to be set on a copy of a slice from a DataFrame\n",
      "\n",
      "See the caveats in the documentation: https://pandas.pydata.org/pandas-docs/stable/user_guide/indexing.html#returning-a-view-versus-a-copy\n",
      "  gdf_input.dropna(axis=0, how='any', subset=['dh'], inplace=True)\n",
      "C:\\conda3\\envs\\sandpyper_env\\lib\\site-packages\\geopandas\\geodataframe.py:853: SettingWithCopyWarning: \n",
      "A value is trying to be set on a copy of a slice from a DataFrame.\n",
      "Try using .loc[row_indexer,col_indexer] = value instead\n",
      "\n",
      "See the caveats in the documentation: https://pandas.pydata.org/pandas-docs/stable/user_guide/indexing.html#returning-a-view-versus-a-copy\n",
      "  super(GeoDataFrame, self).__setitem__(key, value)\n",
      "<ipython-input-20-065cd36775bc>:64: SettingWithCopyWarning: \n",
      "A value is trying to be set on a copy of a slice from a DataFrame\n",
      "\n",
      "See the caveats in the documentation: https://pandas.pydata.org/pandas-docs/stable/user_guide/indexing.html#returning-a-view-versus-a-copy\n",
      "  gdf_input.dropna(axis=0, how='any', subset=['dh'], inplace=True)\n",
      "C:\\conda3\\envs\\sandpyper_env\\lib\\site-packages\\geopandas\\geodataframe.py:853: SettingWithCopyWarning: \n",
      "A value is trying to be set on a copy of a slice from a DataFrame.\n",
      "Try using .loc[row_indexer,col_indexer] = value instead\n",
      "\n",
      "See the caveats in the documentation: https://pandas.pydata.org/pandas-docs/stable/user_guide/indexing.html#returning-a-view-versus-a-copy\n",
      "  super(GeoDataFrame, self).__setitem__(key, value)\n",
      "<ipython-input-20-065cd36775bc>:64: SettingWithCopyWarning: \n",
      "A value is trying to be set on a copy of a slice from a DataFrame\n",
      "\n",
      "See the caveats in the documentation: https://pandas.pydata.org/pandas-docs/stable/user_guide/indexing.html#returning-a-view-versus-a-copy\n",
      "  gdf_input.dropna(axis=0, how='any', subset=['dh'], inplace=True)\n",
      "C:\\conda3\\envs\\sandpyper_env\\lib\\site-packages\\geopandas\\geodataframe.py:853: SettingWithCopyWarning: \n",
      "A value is trying to be set on a copy of a slice from a DataFrame.\n",
      "Try using .loc[row_indexer,col_indexer] = value instead\n",
      "\n",
      "See the caveats in the documentation: https://pandas.pydata.org/pandas-docs/stable/user_guide/indexing.html#returning-a-view-versus-a-copy\n",
      "  super(GeoDataFrame, self).__setitem__(key, value)\n",
      "<ipython-input-20-065cd36775bc>:64: SettingWithCopyWarning: \n",
      "A value is trying to be set on a copy of a slice from a DataFrame\n",
      "\n",
      "See the caveats in the documentation: https://pandas.pydata.org/pandas-docs/stable/user_guide/indexing.html#returning-a-view-versus-a-copy\n",
      "  gdf_input.dropna(axis=0, how='any', subset=['dh'], inplace=True)\n",
      "C:\\conda3\\envs\\sandpyper_env\\lib\\site-packages\\geopandas\\geodataframe.py:853: SettingWithCopyWarning: \n",
      "A value is trying to be set on a copy of a slice from a DataFrame.\n",
      "Try using .loc[row_indexer,col_indexer] = value instead\n",
      "\n",
      "See the caveats in the documentation: https://pandas.pydata.org/pandas-docs/stable/user_guide/indexing.html#returning-a-view-versus-a-copy\n",
      "  super(GeoDataFrame, self).__setitem__(key, value)\n"
     ]
    },
    {
     "name": "stdout",
     "output_type": "stream",
     "text": [
      "Working on mar\n"
     ]
    },
    {
     "name": "stderr",
     "output_type": "stream",
     "text": [
      "<ipython-input-20-065cd36775bc>:54: SettingWithCopyWarning: \n",
      "A value is trying to be set on a copy of a slice from a DataFrame.\n",
      "Try using .loc[row_indexer,col_indexer] = value instead\n",
      "\n",
      "See the caveats in the documentation: https://pandas.pydata.org/pandas-docs/stable/user_guide/indexing.html#returning-a-view-versus-a-copy\n",
      "  df_in['geometry'] = df_in.loc[:, unique_field].apply(\n",
      "C:\\conda3\\envs\\sandpyper_env\\lib\\site-packages\\pyproj\\crs\\crs.py:53: FutureWarning: '+init=<authority>:<code>' syntax is deprecated. '<authority>:<code>' is the preferred initialization method. When making the change, be mindful of axis order changes: https://pyproj4.github.io/pyproj/stable/gotchas.html#axis-order-changes-in-proj-6\n",
      "  return _prepare_from_string(\" \".join(pjargs))\n",
      "<ipython-input-20-065cd36775bc>:61: TqdmDeprecationWarning: This function will be removed in tqdm==5.0.0\n",
      "Please use `tqdm.notebook.tqdm` instead of `tqdm.tqdm_notebook`\n",
      "  for dt in tqdm(dts):\n"
     ]
    },
    {
     "data": {
      "application/vnd.jupyter.widget-view+json": {
       "model_id": "e356eb8273ad4701974c70a459261ad4",
       "version_major": 2,
       "version_minor": 0
      },
      "text/plain": [
       "  0%|          | 0/8 [00:00<?, ?it/s]"
      ]
     },
     "metadata": {},
     "output_type": "display_data"
    },
    {
     "name": "stderr",
     "output_type": "stream",
     "text": [
      "<ipython-input-20-065cd36775bc>:64: SettingWithCopyWarning: \n",
      "A value is trying to be set on a copy of a slice from a DataFrame\n",
      "\n",
      "See the caveats in the documentation: https://pandas.pydata.org/pandas-docs/stable/user_guide/indexing.html#returning-a-view-versus-a-copy\n",
      "  gdf_input.dropna(axis=0, how='any', subset=['dh'], inplace=True)\n",
      "C:\\conda3\\envs\\sandpyper_env\\lib\\site-packages\\pysal\\lib\\weights\\util.py:804: UserWarning: There is one disconnected observation (no neighbors).\n",
      "Island id: 6525\n",
      "  w = W(neighbors, weights, ids, **kwargs)\n",
      "C:\\conda3\\envs\\sandpyper_env\\lib\\site-packages\\pysal\\lib\\weights\\distance.py:783: UserWarning: There is one disconnected observation (no neighbors).\n",
      "Island id: 6525\n",
      "  W.__init__(self, neighbors, weights, ids, silence_warnings=self.silence_warnings)\n",
      "C:\\conda3\\envs\\sandpyper_env\\lib\\site-packages\\geopandas\\geodataframe.py:853: SettingWithCopyWarning: \n",
      "A value is trying to be set on a copy of a slice from a DataFrame.\n",
      "Try using .loc[row_indexer,col_indexer] = value instead\n",
      "\n",
      "See the caveats in the documentation: https://pandas.pydata.org/pandas-docs/stable/user_guide/indexing.html#returning-a-view-versus-a-copy\n",
      "  super(GeoDataFrame, self).__setitem__(key, value)\n",
      "<ipython-input-20-065cd36775bc>:64: SettingWithCopyWarning: \n",
      "A value is trying to be set on a copy of a slice from a DataFrame\n",
      "\n",
      "See the caveats in the documentation: https://pandas.pydata.org/pandas-docs/stable/user_guide/indexing.html#returning-a-view-versus-a-copy\n",
      "  gdf_input.dropna(axis=0, how='any', subset=['dh'], inplace=True)\n"
     ]
    },
    {
     "name": "stdout",
     "output_type": "stream",
     "text": [
      "('WARNING: ', 6525, ' is an island (no neighbors)')\n"
     ]
    },
    {
     "name": "stderr",
     "output_type": "stream",
     "text": [
      "C:\\conda3\\envs\\sandpyper_env\\lib\\site-packages\\geopandas\\geodataframe.py:853: SettingWithCopyWarning: \n",
      "A value is trying to be set on a copy of a slice from a DataFrame.\n",
      "Try using .loc[row_indexer,col_indexer] = value instead\n",
      "\n",
      "See the caveats in the documentation: https://pandas.pydata.org/pandas-docs/stable/user_guide/indexing.html#returning-a-view-versus-a-copy\n",
      "  super(GeoDataFrame, self).__setitem__(key, value)\n",
      "<ipython-input-20-065cd36775bc>:64: SettingWithCopyWarning: \n",
      "A value is trying to be set on a copy of a slice from a DataFrame\n",
      "\n",
      "See the caveats in the documentation: https://pandas.pydata.org/pandas-docs/stable/user_guide/indexing.html#returning-a-view-versus-a-copy\n",
      "  gdf_input.dropna(axis=0, how='any', subset=['dh'], inplace=True)\n",
      "C:\\conda3\\envs\\sandpyper_env\\lib\\site-packages\\geopandas\\geodataframe.py:853: SettingWithCopyWarning: \n",
      "A value is trying to be set on a copy of a slice from a DataFrame.\n",
      "Try using .loc[row_indexer,col_indexer] = value instead\n",
      "\n",
      "See the caveats in the documentation: https://pandas.pydata.org/pandas-docs/stable/user_guide/indexing.html#returning-a-view-versus-a-copy\n",
      "  super(GeoDataFrame, self).__setitem__(key, value)\n",
      "<ipython-input-20-065cd36775bc>:64: SettingWithCopyWarning: \n",
      "A value is trying to be set on a copy of a slice from a DataFrame\n",
      "\n",
      "See the caveats in the documentation: https://pandas.pydata.org/pandas-docs/stable/user_guide/indexing.html#returning-a-view-versus-a-copy\n",
      "  gdf_input.dropna(axis=0, how='any', subset=['dh'], inplace=True)\n",
      "C:\\conda3\\envs\\sandpyper_env\\lib\\site-packages\\geopandas\\geodataframe.py:853: SettingWithCopyWarning: \n",
      "A value is trying to be set on a copy of a slice from a DataFrame.\n",
      "Try using .loc[row_indexer,col_indexer] = value instead\n",
      "\n",
      "See the caveats in the documentation: https://pandas.pydata.org/pandas-docs/stable/user_guide/indexing.html#returning-a-view-versus-a-copy\n",
      "  super(GeoDataFrame, self).__setitem__(key, value)\n",
      "<ipython-input-20-065cd36775bc>:64: SettingWithCopyWarning: \n",
      "A value is trying to be set on a copy of a slice from a DataFrame\n",
      "\n",
      "See the caveats in the documentation: https://pandas.pydata.org/pandas-docs/stable/user_guide/indexing.html#returning-a-view-versus-a-copy\n",
      "  gdf_input.dropna(axis=0, how='any', subset=['dh'], inplace=True)\n",
      "C:\\conda3\\envs\\sandpyper_env\\lib\\site-packages\\geopandas\\geodataframe.py:853: SettingWithCopyWarning: \n",
      "A value is trying to be set on a copy of a slice from a DataFrame.\n",
      "Try using .loc[row_indexer,col_indexer] = value instead\n",
      "\n",
      "See the caveats in the documentation: https://pandas.pydata.org/pandas-docs/stable/user_guide/indexing.html#returning-a-view-versus-a-copy\n",
      "  super(GeoDataFrame, self).__setitem__(key, value)\n",
      "<ipython-input-20-065cd36775bc>:64: SettingWithCopyWarning: \n",
      "A value is trying to be set on a copy of a slice from a DataFrame\n",
      "\n",
      "See the caveats in the documentation: https://pandas.pydata.org/pandas-docs/stable/user_guide/indexing.html#returning-a-view-versus-a-copy\n",
      "  gdf_input.dropna(axis=0, how='any', subset=['dh'], inplace=True)\n",
      "C:\\conda3\\envs\\sandpyper_env\\lib\\site-packages\\geopandas\\geodataframe.py:853: SettingWithCopyWarning: \n",
      "A value is trying to be set on a copy of a slice from a DataFrame.\n",
      "Try using .loc[row_indexer,col_indexer] = value instead\n",
      "\n",
      "See the caveats in the documentation: https://pandas.pydata.org/pandas-docs/stable/user_guide/indexing.html#returning-a-view-versus-a-copy\n",
      "  super(GeoDataFrame, self).__setitem__(key, value)\n",
      "<ipython-input-20-065cd36775bc>:64: SettingWithCopyWarning: \n",
      "A value is trying to be set on a copy of a slice from a DataFrame\n",
      "\n",
      "See the caveats in the documentation: https://pandas.pydata.org/pandas-docs/stable/user_guide/indexing.html#returning-a-view-versus-a-copy\n",
      "  gdf_input.dropna(axis=0, how='any', subset=['dh'], inplace=True)\n",
      "C:\\conda3\\envs\\sandpyper_env\\lib\\site-packages\\geopandas\\geodataframe.py:853: SettingWithCopyWarning: \n",
      "A value is trying to be set on a copy of a slice from a DataFrame.\n",
      "Try using .loc[row_indexer,col_indexer] = value instead\n",
      "\n",
      "See the caveats in the documentation: https://pandas.pydata.org/pandas-docs/stable/user_guide/indexing.html#returning-a-view-versus-a-copy\n",
      "  super(GeoDataFrame, self).__setitem__(key, value)\n",
      "<ipython-input-20-065cd36775bc>:64: SettingWithCopyWarning: \n",
      "A value is trying to be set on a copy of a slice from a DataFrame\n",
      "\n",
      "See the caveats in the documentation: https://pandas.pydata.org/pandas-docs/stable/user_guide/indexing.html#returning-a-view-versus-a-copy\n",
      "  gdf_input.dropna(axis=0, how='any', subset=['dh'], inplace=True)\n",
      "C:\\conda3\\envs\\sandpyper_env\\lib\\site-packages\\geopandas\\geodataframe.py:853: SettingWithCopyWarning: \n",
      "A value is trying to be set on a copy of a slice from a DataFrame.\n",
      "Try using .loc[row_indexer,col_indexer] = value instead\n",
      "\n",
      "See the caveats in the documentation: https://pandas.pydata.org/pandas-docs/stable/user_guide/indexing.html#returning-a-view-versus-a-copy\n",
      "  super(GeoDataFrame, self).__setitem__(key, value)\n"
     ]
    }
   ],
   "source": [
    "%%time\n",
    "\n",
    "lisa_df=LISA_site_level(df=dh_df,\n",
    "                        mode=mode,\n",
    "                        distance_value=35,\n",
    "                        unique_field=\"geometry\",\n",
    "                        crs_dict_string=crs_dict_string)\n",
    "\n",
    "lisa_df.tail()"
   ]
  },
  {
   "cell_type": "code",
   "execution_count": 26,
   "id": "4598c66c",
   "metadata": {},
   "outputs": [],
   "source": [
    "lisa_df.to_csv(r\"C:\\my_packages\\doc_data\\profiles\\lisa_location.csv\")"
   ]
  },
  {
   "cell_type": "markdown",
   "id": "d5a5c604",
   "metadata": {},
   "source": [
    "## Classify dh magnitudes and create classes of elevation changes (transient states)\n",
    "\n",
    "Now that we have statistically significant hotspots of change, we can use those points to capture the most interesting areas of beachface change which we use to model behaviour.\n",
    "\n",
    "However, there is a very important point to consider, which is relevant for our example.<br>\n",
    "Our beachfaces are narrow, and we use only reliable valid points using multiple levels of filtering (LoD, beachface area, sand-only), which significantly reduce the total number of usable points in each timestep.\n",
    "Because in our next step we will compute the Beachface Cluster Dynamics indices both at the location and transect scales, we need to create two different dataframes and (slightly different) transient-states classes:\n",
    "\n",
    "* hotspot-filtered: we discard spatial outliers to capture location scale behaviour. Used for location scale BCDs.\n",
    "* full: we disregard hotspot classification and retain all points beyond LoD. Used for transect scale BCDs.\n",
    "\n",
    "This is necessary to assure that we have enough points in each transect to model their behaviours. Moreover, the hotspot classification has been run at the location scale. Therefore, the HH and LL hotspots are only relevant for location-scale BCD analysis."
   ]
  },
  {
   "cell_type": "code",
   "execution_count": 7,
   "id": "031544aa",
   "metadata": {},
   "outputs": [],
   "source": [
    "lisa_df=pd.read_csv(r\"C:\\my_packages\\doc_data\\profiles\\lisa_location.csv\")"
   ]
  },
  {
   "cell_type": "markdown",
   "id": "bf6a1c9f",
   "metadata": {},
   "source": [
    "### Location-scale"
   ]
  },
  {
   "cell_type": "markdown",
   "id": "59e4b930",
   "metadata": {},
   "source": [
    "Use only hotspots beyond LoD"
   ]
  },
  {
   "cell_type": "code",
   "execution_count": 8,
   "id": "33209b0e",
   "metadata": {},
   "outputs": [],
   "source": [
    "sig_hhll=lisa_df.query(\"lisa_p_sim <= 0.001 & lisa_q in [1,3]\") # discard spatial outliers\n",
    "sig_hhll= sig_hhll[~sig_hhll['dh'].between(-0.05, 0.05)]  # discard points within global limit of detection (5 cm)\n",
    "sig_hhll.index=(range(sig_hhll.shape[0]))"
   ]
  },
  {
   "cell_type": "markdown",
   "id": "3cec2256",
   "metadata": {},
   "source": [
    "separate the erosion and the deposition clusters"
   ]
  },
  {
   "cell_type": "code",
   "execution_count": 9,
   "id": "706b70e6",
   "metadata": {},
   "outputs": [],
   "source": [
    "sig_hhll_ero=sig_hhll[sig_hhll.dh < 0]\n",
    "sig_hhll_depo=sig_hhll[sig_hhll.dh > 0]"
   ]
  },
  {
   "cell_type": "markdown",
   "id": "d56db3f6",
   "metadata": {},
   "source": [
    "Use optimised Jenks-Caspall natural breaks to classify the absolute change"
   ]
  },
  {
   "cell_type": "code",
   "execution_count": 10,
   "id": "666c38e5",
   "metadata": {},
   "outputs": [
    {
     "name": "stdout",
     "output_type": "stream",
     "text": [
      "Fit of the classifier: 1106.8712480317358\n"
     ]
    },
    {
     "data": {
      "text/plain": [
       "              JenksCaspall              \n",
       " \n",
       "Lower          Upper               Count\n",
       "========================================\n",
       "        x[i] <= 0.170               6568\n",
       "0.170 < x[i] <= 0.324               5265\n",
       "0.324 < x[i] <= 0.537               3744\n",
       "0.537 < x[i] <= 1.213               2073\n",
       "1.213 < x[i] <= 4.973                737"
      ]
     },
     "execution_count": 10,
     "metadata": {},
     "output_type": "execute_result"
    }
   ],
   "source": [
    "absolute=np.abs(sig_hhll.dh)\n",
    "bins_abs_JC=mc.JenksCaspall(absolute)\n",
    "print(f\"Fit of the classifier: {bins_abs_JC.adcm}\")\n",
    "\n",
    "bins_abs_JC"
   ]
  },
  {
   "cell_type": "markdown",
   "id": "b22d4139",
   "metadata": {},
   "source": [
    "Based on the above, classify the dh values into magnitude of change classes, which will become transient states."
   ]
  },
  {
   "cell_type": "code",
   "execution_count": 11,
   "id": "c6967829",
   "metadata": {},
   "outputs": [],
   "source": [
    "# Hotspot filtered depositional and erosional classes\n",
    "bins_depo = [0.17, 0.32,0.54,1.21] \n",
    "bins_ero = [-1.21,-0.54,-0.32,-0.17]\n",
    "\n",
    "bins_ero_JC = UserDefined(sig_hhll_ero.dh, bins_ero)\n",
    "bins_depo_JC = UserDefined(sig_hhll_depo.dh, bins_depo)\n",
    "\n",
    "class_erosion=bins_ero_JC.yb.tolist()\n",
    "class_deposition=bins_depo_JC.yb.tolist()"
   ]
  },
  {
   "cell_type": "code",
   "execution_count": 13,
   "id": "31dd1edd",
   "metadata": {},
   "outputs": [
    {
     "name": "stderr",
     "output_type": "stream",
     "text": [
      "<ipython-input-13-4cc224666e7c>:9: SettingWithCopyWarning: \n",
      "A value is trying to be set on a copy of a slice from a DataFrame.\n",
      "Try using .loc[row_indexer,col_indexer] = value instead\n",
      "\n",
      "See the caveats in the documentation: https://pandas.pydata.org/pandas-docs/stable/user_guide/indexing.html#returning-a-view-versus-a-copy\n",
      "  sig_hhll_ero[\"jc_bin\"]=class_erosion\n",
      "<ipython-input-13-4cc224666e7c>:10: SettingWithCopyWarning: \n",
      "A value is trying to be set on a copy of a slice from a DataFrame.\n",
      "Try using .loc[row_indexer,col_indexer] = value instead\n",
      "\n",
      "See the caveats in the documentation: https://pandas.pydata.org/pandas-docs/stable/user_guide/indexing.html#returning-a-view-versus-a-copy\n",
      "  sig_hhll_depo[\"jc_bin\"]=class_deposition\n",
      "<ipython-input-13-4cc224666e7c>:12: SettingWithCopyWarning: \n",
      "A value is trying to be set on a copy of a slice from a DataFrame.\n",
      "Try using .loc[row_indexer,col_indexer] = value instead\n",
      "\n",
      "See the caveats in the documentation: https://pandas.pydata.org/pandas-docs/stable/user_guide/indexing.html#returning-a-view-versus-a-copy\n",
      "  sig_hhll_ero[\"markov_tag\"]=tags_erosion\n",
      "<ipython-input-13-4cc224666e7c>:13: SettingWithCopyWarning: \n",
      "A value is trying to be set on a copy of a slice from a DataFrame.\n",
      "Try using .loc[row_indexer,col_indexer] = value instead\n",
      "\n",
      "See the caveats in the documentation: https://pandas.pydata.org/pandas-docs/stable/user_guide/indexing.html#returning-a-view-versus-a-copy\n",
      "  sig_hhll_depo[\"markov_tag\"]=tags_deposition\n"
     ]
    },
    {
     "data": {
      "text/html": [
       "<div>\n",
       "<style scoped>\n",
       "    .dataframe tbody tr th:only-of-type {\n",
       "        vertical-align: middle;\n",
       "    }\n",
       "\n",
       "    .dataframe tbody tr th {\n",
       "        vertical-align: top;\n",
       "    }\n",
       "\n",
       "    .dataframe thead th {\n",
       "        text-align: right;\n",
       "    }\n",
       "</style>\n",
       "<table border=\"1\" class=\"dataframe\">\n",
       "  <thead>\n",
       "    <tr style=\"text-align: right;\">\n",
       "      <th></th>\n",
       "      <th>Unnamed: 0</th>\n",
       "      <th>geometry</th>\n",
       "      <th>location</th>\n",
       "      <th>tr_id</th>\n",
       "      <th>distance</th>\n",
       "      <th>dt</th>\n",
       "      <th>date_pre</th>\n",
       "      <th>date_post</th>\n",
       "      <th>z_pre</th>\n",
       "      <th>z_post</th>\n",
       "      <th>...</th>\n",
       "      <th>lisa_I</th>\n",
       "      <th>lisa_n_val_obs</th>\n",
       "      <th>lisa_opt_dist</th>\n",
       "      <th>lisa_dist_mode</th>\n",
       "      <th>lisa_p_sim</th>\n",
       "      <th>lisa_z_sim</th>\n",
       "      <th>lisa_z</th>\n",
       "      <th>decay</th>\n",
       "      <th>jc_bin</th>\n",
       "      <th>markov_tag</th>\n",
       "    </tr>\n",
       "  </thead>\n",
       "  <tbody>\n",
       "    <tr>\n",
       "      <th>0</th>\n",
       "      <td>79</td>\n",
       "      <td>POINT (299913.6160173207 5773633.211653235)</td>\n",
       "      <td>leo</td>\n",
       "      <td>66</td>\n",
       "      <td>25.9</td>\n",
       "      <td>dt_5</td>\n",
       "      <td>2019-03-28</td>\n",
       "      <td>2019-07-31</td>\n",
       "      <td>0.254045</td>\n",
       "      <td>0.063604</td>\n",
       "      <td>...</td>\n",
       "      <td>0.064880</td>\n",
       "      <td>1526</td>\n",
       "      <td>35</td>\n",
       "      <td>distance_band</td>\n",
       "      <td>0.001</td>\n",
       "      <td>2.855193</td>\n",
       "      <td>-0.324401</td>\n",
       "      <td>0</td>\n",
       "      <td>3</td>\n",
       "      <td>se</td>\n",
       "    </tr>\n",
       "    <tr>\n",
       "      <th>1</th>\n",
       "      <td>82</td>\n",
       "      <td>POINT (299913.3229148819 5773633.14769262)</td>\n",
       "      <td>leo</td>\n",
       "      <td>66</td>\n",
       "      <td>26.2</td>\n",
       "      <td>dt_5</td>\n",
       "      <td>2019-03-28</td>\n",
       "      <td>2019-07-31</td>\n",
       "      <td>0.282150</td>\n",
       "      <td>0.101436</td>\n",
       "      <td>...</td>\n",
       "      <td>0.052581</td>\n",
       "      <td>1526</td>\n",
       "      <td>35</td>\n",
       "      <td>distance_band</td>\n",
       "      <td>0.001</td>\n",
       "      <td>2.782864</td>\n",
       "      <td>-0.262422</td>\n",
       "      <td>0</td>\n",
       "      <td>3</td>\n",
       "      <td>se</td>\n",
       "    </tr>\n",
       "    <tr>\n",
       "      <th>2</th>\n",
       "      <td>87</td>\n",
       "      <td>POINT (299912.8344108172 5773633.041091593)</td>\n",
       "      <td>leo</td>\n",
       "      <td>66</td>\n",
       "      <td>26.7</td>\n",
       "      <td>dt_5</td>\n",
       "      <td>2019-03-28</td>\n",
       "      <td>2019-07-31</td>\n",
       "      <td>0.334896</td>\n",
       "      <td>0.155535</td>\n",
       "      <td>...</td>\n",
       "      <td>0.050868</td>\n",
       "      <td>1526</td>\n",
       "      <td>35</td>\n",
       "      <td>distance_band</td>\n",
       "      <td>0.001</td>\n",
       "      <td>2.748782</td>\n",
       "      <td>-0.253808</td>\n",
       "      <td>0</td>\n",
       "      <td>3</td>\n",
       "      <td>se</td>\n",
       "    </tr>\n",
       "    <tr>\n",
       "      <th>3</th>\n",
       "      <td>94</td>\n",
       "      <td>POINT (299912.1505051267 5773632.891850157)</td>\n",
       "      <td>leo</td>\n",
       "      <td>66</td>\n",
       "      <td>27.4</td>\n",
       "      <td>dt_5</td>\n",
       "      <td>2019-03-28</td>\n",
       "      <td>2019-07-31</td>\n",
       "      <td>0.422973</td>\n",
       "      <td>0.256882</td>\n",
       "      <td>...</td>\n",
       "      <td>0.034007</td>\n",
       "      <td>1526</td>\n",
       "      <td>35</td>\n",
       "      <td>distance_band</td>\n",
       "      <td>0.001</td>\n",
       "      <td>2.681361</td>\n",
       "      <td>-0.169253</td>\n",
       "      <td>0</td>\n",
       "      <td>4</td>\n",
       "      <td>ue</td>\n",
       "    </tr>\n",
       "    <tr>\n",
       "      <th>4</th>\n",
       "      <td>110</td>\n",
       "      <td>POINT (299910.1964888682 5773632.465446051)</td>\n",
       "      <td>leo</td>\n",
       "      <td>66</td>\n",
       "      <td>29.4</td>\n",
       "      <td>dt_5</td>\n",
       "      <td>2019-03-28</td>\n",
       "      <td>2019-07-31</td>\n",
       "      <td>0.664177</td>\n",
       "      <td>0.523974</td>\n",
       "      <td>...</td>\n",
       "      <td>0.000868</td>\n",
       "      <td>1526</td>\n",
       "      <td>35</td>\n",
       "      <td>distance_band</td>\n",
       "      <td>0.001</td>\n",
       "      <td>2.835987</td>\n",
       "      <td>-0.004299</td>\n",
       "      <td>0</td>\n",
       "      <td>4</td>\n",
       "      <td>ue</td>\n",
       "    </tr>\n",
       "  </tbody>\n",
       "</table>\n",
       "<p>5 rows × 23 columns</p>\n",
       "</div>"
      ],
      "text/plain": [
       "   Unnamed: 0                                     geometry location  tr_id  \\\n",
       "0          79  POINT (299913.6160173207 5773633.211653235)      leo     66   \n",
       "1          82   POINT (299913.3229148819 5773633.14769262)      leo     66   \n",
       "2          87  POINT (299912.8344108172 5773633.041091593)      leo     66   \n",
       "3          94  POINT (299912.1505051267 5773632.891850157)      leo     66   \n",
       "4         110  POINT (299910.1964888682 5773632.465446051)      leo     66   \n",
       "\n",
       "   distance    dt    date_pre   date_post     z_pre    z_post  ...    lisa_I  \\\n",
       "0      25.9  dt_5  2019-03-28  2019-07-31  0.254045  0.063604  ...  0.064880   \n",
       "1      26.2  dt_5  2019-03-28  2019-07-31  0.282150  0.101436  ...  0.052581   \n",
       "2      26.7  dt_5  2019-03-28  2019-07-31  0.334896  0.155535  ...  0.050868   \n",
       "3      27.4  dt_5  2019-03-28  2019-07-31  0.422973  0.256882  ...  0.034007   \n",
       "4      29.4  dt_5  2019-03-28  2019-07-31  0.664177  0.523974  ...  0.000868   \n",
       "\n",
       "   lisa_n_val_obs  lisa_opt_dist  lisa_dist_mode  lisa_p_sim  lisa_z_sim  \\\n",
       "0            1526             35   distance_band       0.001    2.855193   \n",
       "1            1526             35   distance_band       0.001    2.782864   \n",
       "2            1526             35   distance_band       0.001    2.748782   \n",
       "3            1526             35   distance_band       0.001    2.681361   \n",
       "4            1526             35   distance_band       0.001    2.835987   \n",
       "\n",
       "     lisa_z  decay  jc_bin  markov_tag  \n",
       "0 -0.324401      0       3          se  \n",
       "1 -0.262422      0       3          se  \n",
       "2 -0.253808      0       3          se  \n",
       "3 -0.169253      0       4          ue  \n",
       "4 -0.004299      0       4          ue  \n",
       "\n",
       "[5 rows x 23 columns]"
      ]
     },
     "execution_count": 13,
     "metadata": {},
     "output_type": "execute_result"
    }
   ],
   "source": [
    "# assign every bin to the right label\n",
    "\n",
    "states_ero={0:\"ee\",1:\"he\",2:\"me\",3:\"se\",4:\"ue\"}   \n",
    "states_depo={0:\"ud\",1:\"sd\",2:\"md\",3:\"hd\",4:\"ed\"}\n",
    "\n",
    "tags_erosion=[states_ero[i] for i in class_erosion]\n",
    "tags_deposition=[states_depo[i] for i in class_deposition]\n",
    "\n",
    "sig_hhll_ero[\"jc_bin\"]=class_erosion\n",
    "sig_hhll_depo[\"jc_bin\"]=class_deposition\n",
    "\n",
    "sig_hhll_ero[\"markov_tag\"]=tags_erosion\n",
    "sig_hhll_depo[\"markov_tag\"]=tags_deposition\n",
    "\n",
    "labelled_hotspot_df=pd.concat([sig_hhll_ero,sig_hhll_depo],ignore_index=False)\n",
    "labelled_hotspot_df.head()"
   ]
  },
  {
   "cell_type": "markdown",
   "id": "fb93be34",
   "metadata": {},
   "source": [
    "### Transect-scale"
   ]
  },
  {
   "cell_type": "markdown",
   "id": "c91eec6a",
   "metadata": {},
   "source": [
    "Use everything beyond LoD"
   ]
  },
  {
   "cell_type": "code",
   "execution_count": 14,
   "id": "75c65b9c",
   "metadata": {},
   "outputs": [],
   "source": [
    "dh_df= dh_df[~dh_df['dh'].between(-0.05, 0.05)]  # discard points within global limit of detection (5 cm)\n",
    "dh_df.index=(range(dh_df.shape[0]))"
   ]
  },
  {
   "cell_type": "markdown",
   "id": "88d9427d",
   "metadata": {},
   "source": [
    "separate the erosion and the deposition clusters"
   ]
  },
  {
   "cell_type": "code",
   "execution_count": 15,
   "id": "9697e4b2",
   "metadata": {},
   "outputs": [],
   "source": [
    "full_dh_ero=dh_df[dh_df.dh < 0]\n",
    "full_dh_depo=dh_df[dh_df.dh > 0]"
   ]
  },
  {
   "cell_type": "markdown",
   "id": "879a5ce7",
   "metadata": {},
   "source": [
    "Use optimised Jenks-Caspall natural breaks to classify the absolute change"
   ]
  },
  {
   "cell_type": "code",
   "execution_count": 16,
   "id": "aed21076",
   "metadata": {},
   "outputs": [
    {
     "name": "stdout",
     "output_type": "stream",
     "text": [
      "Fit of the classifier: 1669.4758029968957\n"
     ]
    },
    {
     "data": {
      "text/plain": [
       "               JenksCaspall              \n",
       " \n",
       "Lower          Upper                Count\n",
       "=========================================\n",
       "        x[i] <= 0.154               11583\n",
       "0.154 < x[i] <= 0.295                8583\n",
       "0.295 < x[i] <= 0.492                6197\n",
       "0.492 < x[i] <= 1.154                3662\n",
       "1.154 < x[i] <= 4.973                1067"
      ]
     },
     "execution_count": 16,
     "metadata": {},
     "output_type": "execute_result"
    }
   ],
   "source": [
    "absolute_fulldh=np.abs(dh_df.dh)\n",
    "bins_abs_JC_fulldh=mc.JenksCaspall(absolute_fulldh)\n",
    "print(f\"Fit of the classifier: {bins_abs_JC_fulldh.adcm}\")\n",
    "\n",
    "bins_abs_JC_fulldh"
   ]
  },
  {
   "cell_type": "markdown",
   "id": "9cfcb1b2",
   "metadata": {},
   "source": [
    "Based on the above, classify the dh values into magnitude of change classes, which will become transient states."
   ]
  },
  {
   "cell_type": "code",
   "execution_count": 17,
   "id": "d4e13b7c",
   "metadata": {},
   "outputs": [],
   "source": [
    "bins_depo_fulldh = [0.15, 0.29,0.49,1.54] \n",
    "bins_ero_fulldh = [-1.54,-0.49,-0.29,-0.15]\n",
    "\n",
    "bins_ero_JC_fulldh = UserDefined(full_dh_ero.dh, bins_ero_fulldh)\n",
    "bins_depo_JC_fulldh = UserDefined(full_dh_depo.dh, bins_depo_fulldh)\n",
    "\n",
    "class_erosion_fulldh=bins_ero_JC_fulldh.yb.tolist()\n",
    "class_deposition_fulldh=bins_depo_JC_fulldh.yb.tolist()"
   ]
  },
  {
   "cell_type": "code",
   "execution_count": 20,
   "id": "72ec1142",
   "metadata": {},
   "outputs": [
    {
     "name": "stderr",
     "output_type": "stream",
     "text": [
      "<ipython-input-20-70a6bda00e43>:9: SettingWithCopyWarning: \n",
      "A value is trying to be set on a copy of a slice from a DataFrame.\n",
      "Try using .loc[row_indexer,col_indexer] = value instead\n",
      "\n",
      "See the caveats in the documentation: https://pandas.pydata.org/pandas-docs/stable/user_guide/indexing.html#returning-a-view-versus-a-copy\n",
      "  full_dh_ero[\"jc_bin\"]=class_erosion_fulldh\n",
      "<ipython-input-20-70a6bda00e43>:10: SettingWithCopyWarning: \n",
      "A value is trying to be set on a copy of a slice from a DataFrame.\n",
      "Try using .loc[row_indexer,col_indexer] = value instead\n",
      "\n",
      "See the caveats in the documentation: https://pandas.pydata.org/pandas-docs/stable/user_guide/indexing.html#returning-a-view-versus-a-copy\n",
      "  full_dh_depo[\"jc_bin\"]=class_deposition_fulldh\n",
      "<ipython-input-20-70a6bda00e43>:12: SettingWithCopyWarning: \n",
      "A value is trying to be set on a copy of a slice from a DataFrame.\n",
      "Try using .loc[row_indexer,col_indexer] = value instead\n",
      "\n",
      "See the caveats in the documentation: https://pandas.pydata.org/pandas-docs/stable/user_guide/indexing.html#returning-a-view-versus-a-copy\n",
      "  full_dh_ero[\"markov_tag\"]=tags_erosion_fulldh\n",
      "<ipython-input-20-70a6bda00e43>:13: SettingWithCopyWarning: \n",
      "A value is trying to be set on a copy of a slice from a DataFrame.\n",
      "Try using .loc[row_indexer,col_indexer] = value instead\n",
      "\n",
      "See the caveats in the documentation: https://pandas.pydata.org/pandas-docs/stable/user_guide/indexing.html#returning-a-view-versus-a-copy\n",
      "  full_dh_depo[\"markov_tag\"]=tags_deposition_fulldh\n"
     ]
    },
    {
     "data": {
      "text/html": [
       "<div>\n",
       "<style scoped>\n",
       "    .dataframe tbody tr th:only-of-type {\n",
       "        vertical-align: middle;\n",
       "    }\n",
       "\n",
       "    .dataframe tbody tr th {\n",
       "        vertical-align: top;\n",
       "    }\n",
       "\n",
       "    .dataframe thead th {\n",
       "        text-align: right;\n",
       "    }\n",
       "</style>\n",
       "<table border=\"1\" class=\"dataframe\">\n",
       "  <thead>\n",
       "    <tr style=\"text-align: right;\">\n",
       "      <th></th>\n",
       "      <th>geometry</th>\n",
       "      <th>location</th>\n",
       "      <th>tr_id</th>\n",
       "      <th>distance</th>\n",
       "      <th>dt</th>\n",
       "      <th>date_pre</th>\n",
       "      <th>date_post</th>\n",
       "      <th>z_pre</th>\n",
       "      <th>z_post</th>\n",
       "      <th>dh</th>\n",
       "      <th>jc_bin</th>\n",
       "      <th>markov_tag</th>\n",
       "    </tr>\n",
       "  </thead>\n",
       "  <tbody>\n",
       "    <tr>\n",
       "      <th>0</th>\n",
       "      <td>POINT (299901.7782793006 5773692.070767866)</td>\n",
       "      <td>leo</td>\n",
       "      <td>69</td>\n",
       "      <td>26.8</td>\n",
       "      <td>dt_5</td>\n",
       "      <td>2019-03-28</td>\n",
       "      <td>2019-07-31</td>\n",
       "      <td>0.223866</td>\n",
       "      <td>0.112838</td>\n",
       "      <td>-0.111029</td>\n",
       "      <td>4</td>\n",
       "      <td>ue</td>\n",
       "    </tr>\n",
       "    <tr>\n",
       "      <th>1</th>\n",
       "      <td>POINT (299901.4828779417 5773692.018441608)</td>\n",
       "      <td>leo</td>\n",
       "      <td>69</td>\n",
       "      <td>27.1</td>\n",
       "      <td>dt_5</td>\n",
       "      <td>2019-03-28</td>\n",
       "      <td>2019-07-31</td>\n",
       "      <td>0.256890</td>\n",
       "      <td>0.152005</td>\n",
       "      <td>-0.104885</td>\n",
       "      <td>4</td>\n",
       "      <td>ue</td>\n",
       "    </tr>\n",
       "    <tr>\n",
       "      <th>2</th>\n",
       "      <td>POINT (299901.2859437025 5773691.983557437)</td>\n",
       "      <td>leo</td>\n",
       "      <td>69</td>\n",
       "      <td>27.3</td>\n",
       "      <td>dt_5</td>\n",
       "      <td>2019-03-28</td>\n",
       "      <td>2019-07-31</td>\n",
       "      <td>0.283333</td>\n",
       "      <td>0.176710</td>\n",
       "      <td>-0.106624</td>\n",
       "      <td>4</td>\n",
       "      <td>ue</td>\n",
       "    </tr>\n",
       "    <tr>\n",
       "      <th>3</th>\n",
       "      <td>POINT (299901.1874765829 5773691.966115351)</td>\n",
       "      <td>leo</td>\n",
       "      <td>69</td>\n",
       "      <td>27.4</td>\n",
       "      <td>dt_5</td>\n",
       "      <td>2019-03-28</td>\n",
       "      <td>2019-07-31</td>\n",
       "      <td>0.305573</td>\n",
       "      <td>0.188821</td>\n",
       "      <td>-0.116752</td>\n",
       "      <td>4</td>\n",
       "      <td>ue</td>\n",
       "    </tr>\n",
       "    <tr>\n",
       "      <th>4</th>\n",
       "      <td>POINT (299901.0890094633 5773691.948673265)</td>\n",
       "      <td>leo</td>\n",
       "      <td>69</td>\n",
       "      <td>27.5</td>\n",
       "      <td>dt_5</td>\n",
       "      <td>2019-03-28</td>\n",
       "      <td>2019-07-31</td>\n",
       "      <td>0.329158</td>\n",
       "      <td>0.197999</td>\n",
       "      <td>-0.131160</td>\n",
       "      <td>4</td>\n",
       "      <td>ue</td>\n",
       "    </tr>\n",
       "  </tbody>\n",
       "</table>\n",
       "</div>"
      ],
      "text/plain": [
       "                                      geometry location  tr_id  distance  \\\n",
       "0  POINT (299901.7782793006 5773692.070767866)      leo     69      26.8   \n",
       "1  POINT (299901.4828779417 5773692.018441608)      leo     69      27.1   \n",
       "2  POINT (299901.2859437025 5773691.983557437)      leo     69      27.3   \n",
       "3  POINT (299901.1874765829 5773691.966115351)      leo     69      27.4   \n",
       "4  POINT (299901.0890094633 5773691.948673265)      leo     69      27.5   \n",
       "\n",
       "     dt    date_pre   date_post     z_pre    z_post        dh  jc_bin  \\\n",
       "0  dt_5  2019-03-28  2019-07-31  0.223866  0.112838 -0.111029       4   \n",
       "1  dt_5  2019-03-28  2019-07-31  0.256890  0.152005 -0.104885       4   \n",
       "2  dt_5  2019-03-28  2019-07-31  0.283333  0.176710 -0.106624       4   \n",
       "3  dt_5  2019-03-28  2019-07-31  0.305573  0.188821 -0.116752       4   \n",
       "4  dt_5  2019-03-28  2019-07-31  0.329158  0.197999 -0.131160       4   \n",
       "\n",
       "  markov_tag  \n",
       "0         ue  \n",
       "1         ue  \n",
       "2         ue  \n",
       "3         ue  \n",
       "4         ue  "
      ]
     },
     "execution_count": 20,
     "metadata": {},
     "output_type": "execute_result"
    }
   ],
   "source": [
    "# assign every bin to the right label (see table 1)\n",
    "\n",
    "states_ero={0:\"ee\",1:\"he\",2:\"me\",3:\"se\",4:\"ue\"}   \n",
    "states_depo={0:\"ud\",1:\"sd\",2:\"md\",3:\"hd\",4:\"ed\"}\n",
    "\n",
    "tags_erosion_fulldh=[states_ero[i] for i in class_erosion_fulldh]\n",
    "tags_deposition_fulldh=[states_depo[i] for i in class_deposition_fulldh]\n",
    "\n",
    "full_dh_ero[\"jc_bin\"]=class_erosion_fulldh\n",
    "full_dh_depo[\"jc_bin\"]=class_deposition_fulldh\n",
    "\n",
    "full_dh_ero[\"markov_tag\"]=tags_erosion_fulldh\n",
    "full_dh_depo[\"markov_tag\"]=tags_deposition_fulldh\n",
    "\n",
    "labelled_fulldh_df=pd.concat([full_dh_ero,full_dh_depo],ignore_index=False)\n",
    "labelled_fulldh_df.head()"
   ]
  },
  {
   "cell_type": "markdown",
   "id": "258603a1",
   "metadata": {},
   "source": [
    "## Save both datasets\n",
    "\n",
    "Now that we have the \"markov tagged\" dataset, we can model beahviour at both location and transect scales!"
   ]
  },
  {
   "cell_type": "code",
   "execution_count": 18,
   "id": "afab3b47",
   "metadata": {},
   "outputs": [],
   "source": [
    "# these dataframes are ready for BCD indices computation\n",
    "\n",
    "labelled_hotspot_df.to_csv(r\"C:\\my_packages\\doc_data\\profiles\\markov_tagged_df.csv\")\n",
    "labelled_fulldh_df.to_csv(r\"C:\\my_packages\\doc_data\\profiles\\markov_tagged_fulldh_df.csv\")"
   ]
  }
 ],
 "metadata": {
  "kernelspec": {
   "display_name": "Python 3",
   "language": "python",
   "name": "python3"
  },
  "language_info": {
   "codemirror_mode": {
    "name": "ipython",
    "version": 3
   },
   "file_extension": ".py",
   "mimetype": "text/x-python",
   "name": "python",
   "nbconvert_exporter": "python",
   "pygments_lexer": "ipython3",
   "version": "3.9.4"
  }
 },
 "nbformat": 4,
 "nbformat_minor": 5
}
