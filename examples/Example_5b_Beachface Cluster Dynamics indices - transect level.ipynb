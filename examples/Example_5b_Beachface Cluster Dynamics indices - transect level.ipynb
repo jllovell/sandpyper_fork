{
 "cells": [
  {
   "cell_type": "markdown",
   "id": "0142e115",
   "metadata": {},
   "source": [
    "<font size=\"5\"><center> <b>Sandpyper: sandy beaches SfM-UAV analysis tools</b></center></font>\n",
    "<font size=\"4\"><center> <b> Example 5a - Beachface Cluster Dynamics indices - transect level </b></center> <br>\n",
    "\n",
    "    \n",
    "<center><img src=\"images/banner.png\" width=\"80%\"  /></center>\n",
    "\n",
    "<font face=\"Calibri\">\n",
    "<br>\n",
    "<font size=\"5\"> <b>Transect scale beachface behavioural modelling</b></font>\n",
    "\n",
    "<br>\n",
    "<font size=\"4\"> <b> Nicolas Pucino; PhD Student @ Deakin University, Australia </b> <br>\n",
    "\n",
    "<font size=\"3\">These indices represents the tendency of the location, or transect, to either erode or accrete, based on the temporal succession of sand-only change. <br>\n",
    "\n",
    "<b>This notebook covers the following concepts:</b>\n",
    "\n",
    "- Modelling r-BCDs at the transect scale.\n",
    "- Plotting.\n",
    "- Sensitivity analysis.\n",
    "</font>\n",
    "\n",
    "\n",
    "</font>"
   ]
  },
  {
   "cell_type": "code",
   "execution_count": 98,
   "id": "25367685",
   "metadata": {},
   "outputs": [],
   "source": [
    "import pandas as pd\n",
    "import geopandas as gpd\n",
    "import numpy as np\n",
    "import matplotlib.pyplot as plt\n",
    "import seaborn as sb\n",
    "import itertools\n",
    "from tqdm.notebook import tqdm\n",
    "\n",
    "\n",
    "from sandpyper.outils import getLoc, getDate,coords_to_points\n",
    "from sandpyper.dynamics import  steady_state_transect, compute_rBCD_transects, infer_weights\n",
    "\n",
    "crs_dict_string={\"mar\":{'init': 'epsg:32754'},\n",
    "         \"leo\":{'init': 'epsg:32755'}}\n",
    "\n",
    "pd.options.mode.chained_assignment = None  # default='warn'"
   ]
  },
  {
   "cell_type": "markdown",
   "id": "2f3c9278",
   "metadata": {},
   "source": [
    "This time, as previously specified, we use the __full dh dataset__, not the hotspot filtered one."
   ]
  },
  {
   "cell_type": "code",
   "execution_count": 230,
   "id": "f6607eb9",
   "metadata": {},
   "outputs": [
    {
     "name": "stderr",
     "output_type": "stream",
     "text": [
      "C:\\conda3\\envs\\sandpyper_env\\lib\\site-packages\\pyproj\\crs\\crs.py:53: FutureWarning: '+init=<authority>:<code>' syntax is deprecated. '<authority>:<code>' is the preferred initialization method. When making the change, be mindful of axis order changes: https://pyproj4.github.io/pyproj/stable/gotchas.html#axis-order-changes-in-proj-6\n",
      "  return _prepare_from_string(\" \".join(pjargs))\n"
     ]
    }
   ],
   "source": [
    "in_file=r\"C:\\my_packages\\doc_data\\markov_tagged\\markov_tagged_fulldh_df.csv\"\n",
    "dirNameTrans=r\"C:\\my_packages\\doc_data\\transects\\\\\"\n",
    "\n",
    "dataset=pd.read_csv(in_file)\n",
    "\n",
    "dataset[\"coordinates\"]=dataset.geometry.apply(coords_to_points)\n",
    "dataset_gdf=gpd.GeoDataFrame(dataset, geometry=\"coordinates\",crs=crs_dict_string['mar'])\n",
    "dataset_gdf.sort_values(['date_pre'], inplace=True)"
   ]
  },
  {
   "cell_type": "code",
   "execution_count": 231,
   "id": "dcd47120",
   "metadata": {},
   "outputs": [
    {
     "data": {
      "text/html": [
       "<div>\n",
       "<style scoped>\n",
       "    .dataframe tbody tr th:only-of-type {\n",
       "        vertical-align: middle;\n",
       "    }\n",
       "\n",
       "    .dataframe tbody tr th {\n",
       "        vertical-align: top;\n",
       "    }\n",
       "\n",
       "    .dataframe thead th {\n",
       "        text-align: right;\n",
       "    }\n",
       "</style>\n",
       "<table border=\"1\" class=\"dataframe\">\n",
       "  <thead>\n",
       "    <tr style=\"text-align: right;\">\n",
       "      <th></th>\n",
       "      <th>Unnamed: 0</th>\n",
       "      <th>geometry</th>\n",
       "      <th>location</th>\n",
       "      <th>tr_id</th>\n",
       "      <th>distance</th>\n",
       "      <th>dt</th>\n",
       "      <th>date_pre</th>\n",
       "      <th>date_post</th>\n",
       "      <th>z_pre</th>\n",
       "      <th>z_post</th>\n",
       "      <th>dh</th>\n",
       "      <th>jc_bin</th>\n",
       "      <th>markov_tag</th>\n",
       "      <th>coordinates</th>\n",
       "    </tr>\n",
       "  </thead>\n",
       "  <tbody>\n",
       "    <tr>\n",
       "      <th>31091</th>\n",
       "      <td>31091</td>\n",
       "      <td>POINT (731467.5216240293 5705156.429089419)</td>\n",
       "      <td>mar</td>\n",
       "      <td>3</td>\n",
       "      <td>45.2</td>\n",
       "      <td>dt_0</td>\n",
       "      <td>2018-06-01</td>\n",
       "      <td>2018-06-21</td>\n",
       "      <td>2.166688</td>\n",
       "      <td>3.388355</td>\n",
       "      <td>1.221667</td>\n",
       "      <td>3</td>\n",
       "      <td>hd</td>\n",
       "      <td>POINT (731467.522 5705156.429)</td>\n",
       "    </tr>\n",
       "    <tr>\n",
       "      <th>29121</th>\n",
       "      <td>28352</td>\n",
       "      <td>POINT (731568.3976020521 5705480.122417443)</td>\n",
       "      <td>mar</td>\n",
       "      <td>20</td>\n",
       "      <td>43.2</td>\n",
       "      <td>dt_0</td>\n",
       "      <td>2018-06-01</td>\n",
       "      <td>2018-06-21</td>\n",
       "      <td>1.144477</td>\n",
       "      <td>1.658706</td>\n",
       "      <td>0.514229</td>\n",
       "      <td>3</td>\n",
       "      <td>hd</td>\n",
       "      <td>POINT (731568.398 5705480.122)</td>\n",
       "    </tr>\n",
       "    <tr>\n",
       "      <th>29122</th>\n",
       "      <td>28353</td>\n",
       "      <td>POINT (731568.3123749822 5705480.174727542)</td>\n",
       "      <td>mar</td>\n",
       "      <td>20</td>\n",
       "      <td>43.3</td>\n",
       "      <td>dt_0</td>\n",
       "      <td>2018-06-01</td>\n",
       "      <td>2018-06-21</td>\n",
       "      <td>1.167545</td>\n",
       "      <td>1.662670</td>\n",
       "      <td>0.495125</td>\n",
       "      <td>3</td>\n",
       "      <td>hd</td>\n",
       "      <td>POINT (731568.312 5705480.175)</td>\n",
       "    </tr>\n",
       "    <tr>\n",
       "      <th>29123</th>\n",
       "      <td>28354</td>\n",
       "      <td>POINT (731568.2271479121 5705480.227037642)</td>\n",
       "      <td>mar</td>\n",
       "      <td>20</td>\n",
       "      <td>43.4</td>\n",
       "      <td>dt_0</td>\n",
       "      <td>2018-06-01</td>\n",
       "      <td>2018-06-21</td>\n",
       "      <td>1.187715</td>\n",
       "      <td>1.666856</td>\n",
       "      <td>0.479141</td>\n",
       "      <td>2</td>\n",
       "      <td>md</td>\n",
       "      <td>POINT (731568.227 5705480.227)</td>\n",
       "    </tr>\n",
       "    <tr>\n",
       "      <th>29124</th>\n",
       "      <td>28355</td>\n",
       "      <td>POINT (731568.1419208422 5705480.279347742)</td>\n",
       "      <td>mar</td>\n",
       "      <td>20</td>\n",
       "      <td>43.5</td>\n",
       "      <td>dt_0</td>\n",
       "      <td>2018-06-01</td>\n",
       "      <td>2018-06-21</td>\n",
       "      <td>1.200375</td>\n",
       "      <td>1.672475</td>\n",
       "      <td>0.472100</td>\n",
       "      <td>2</td>\n",
       "      <td>md</td>\n",
       "      <td>POINT (731568.142 5705480.279)</td>\n",
       "    </tr>\n",
       "  </tbody>\n",
       "</table>\n",
       "</div>"
      ],
      "text/plain": [
       "       Unnamed: 0                                     geometry location  \\\n",
       "31091       31091  POINT (731467.5216240293 5705156.429089419)      mar   \n",
       "29121       28352  POINT (731568.3976020521 5705480.122417443)      mar   \n",
       "29122       28353  POINT (731568.3123749822 5705480.174727542)      mar   \n",
       "29123       28354  POINT (731568.2271479121 5705480.227037642)      mar   \n",
       "29124       28355  POINT (731568.1419208422 5705480.279347742)      mar   \n",
       "\n",
       "       tr_id  distance    dt    date_pre   date_post     z_pre    z_post  \\\n",
       "31091      3      45.2  dt_0  2018-06-01  2018-06-21  2.166688  3.388355   \n",
       "29121     20      43.2  dt_0  2018-06-01  2018-06-21  1.144477  1.658706   \n",
       "29122     20      43.3  dt_0  2018-06-01  2018-06-21  1.167545  1.662670   \n",
       "29123     20      43.4  dt_0  2018-06-01  2018-06-21  1.187715  1.666856   \n",
       "29124     20      43.5  dt_0  2018-06-01  2018-06-21  1.200375  1.672475   \n",
       "\n",
       "             dh  jc_bin markov_tag                     coordinates  \n",
       "31091  1.221667       3         hd  POINT (731467.522 5705156.429)  \n",
       "29121  0.514229       3         hd  POINT (731568.398 5705480.122)  \n",
       "29122  0.495125       3         hd  POINT (731568.312 5705480.175)  \n",
       "29123  0.479141       2         md  POINT (731568.227 5705480.227)  \n",
       "29124  0.472100       2         md  POINT (731568.142 5705480.279)  "
      ]
     },
     "execution_count": 231,
     "metadata": {},
     "output_type": "execute_result"
    }
   ],
   "source": [
    "dataset_gdf.head()"
   ]
  },
  {
   "cell_type": "markdown",
   "id": "9459c21c",
   "metadata": {},
   "source": [
    "Let's use only Marengo data, which has a longer timeseries compared to St. Leonards."
   ]
  },
  {
   "cell_type": "code",
   "execution_count": 4,
   "id": "a6f0ae78",
   "metadata": {
    "scrolled": true
   },
   "outputs": [
    {
     "data": {
      "text/html": [
       "<div>\n",
       "<style scoped>\n",
       "    .dataframe tbody tr th:only-of-type {\n",
       "        vertical-align: middle;\n",
       "    }\n",
       "\n",
       "    .dataframe tbody tr th {\n",
       "        vertical-align: top;\n",
       "    }\n",
       "\n",
       "    .dataframe thead th {\n",
       "        text-align: right;\n",
       "    }\n",
       "</style>\n",
       "<table border=\"1\" class=\"dataframe\">\n",
       "  <thead>\n",
       "    <tr style=\"text-align: right;\">\n",
       "      <th></th>\n",
       "      <th>Unnamed: 0</th>\n",
       "      <th>geometry</th>\n",
       "      <th>location</th>\n",
       "      <th>tr_id</th>\n",
       "      <th>distance</th>\n",
       "      <th>dt</th>\n",
       "      <th>date_pre</th>\n",
       "      <th>date_post</th>\n",
       "      <th>z_pre</th>\n",
       "      <th>z_post</th>\n",
       "      <th>dh</th>\n",
       "      <th>jc_bin</th>\n",
       "      <th>markov_tag</th>\n",
       "      <th>coordinates</th>\n",
       "    </tr>\n",
       "  </thead>\n",
       "  <tbody>\n",
       "    <tr>\n",
       "      <th>2725</th>\n",
       "      <td>4733</td>\n",
       "      <td>POINT (731579.306667006 5705473.42672466)</td>\n",
       "      <td>mar</td>\n",
       "      <td>20</td>\n",
       "      <td>30.4</td>\n",
       "      <td>dt_7</td>\n",
       "      <td>2019-03-13</td>\n",
       "      <td>2019-05-16</td>\n",
       "      <td>1.392407</td>\n",
       "      <td>1.127059</td>\n",
       "      <td>-0.265348</td>\n",
       "      <td>3</td>\n",
       "      <td>se</td>\n",
       "      <td>POINT (731579.307 5705473.427)</td>\n",
       "    </tr>\n",
       "    <tr>\n",
       "      <th>2726</th>\n",
       "      <td>4734</td>\n",
       "      <td>POINT (731579.221439936 5705473.47903476)</td>\n",
       "      <td>mar</td>\n",
       "      <td>20</td>\n",
       "      <td>30.5</td>\n",
       "      <td>dt_7</td>\n",
       "      <td>2019-03-13</td>\n",
       "      <td>2019-05-16</td>\n",
       "      <td>1.414008</td>\n",
       "      <td>1.135922</td>\n",
       "      <td>-0.278085</td>\n",
       "      <td>3</td>\n",
       "      <td>se</td>\n",
       "      <td>POINT (731579.221 5705473.479)</td>\n",
       "    </tr>\n",
       "    <tr>\n",
       "      <th>2727</th>\n",
       "      <td>4735</td>\n",
       "      <td>POINT (731579.1362128661 5705473.53134486)</td>\n",
       "      <td>mar</td>\n",
       "      <td>20</td>\n",
       "      <td>30.6</td>\n",
       "      <td>dt_7</td>\n",
       "      <td>2019-03-13</td>\n",
       "      <td>2019-05-16</td>\n",
       "      <td>1.427494</td>\n",
       "      <td>1.147608</td>\n",
       "      <td>-0.279886</td>\n",
       "      <td>3</td>\n",
       "      <td>se</td>\n",
       "      <td>POINT (731579.136 5705473.531)</td>\n",
       "    </tr>\n",
       "    <tr>\n",
       "      <th>2728</th>\n",
       "      <td>4742</td>\n",
       "      <td>POINT (731556.3417177059 5705441.53390942)</td>\n",
       "      <td>mar</td>\n",
       "      <td>18</td>\n",
       "      <td>36.5</td>\n",
       "      <td>dt_7</td>\n",
       "      <td>2019-03-13</td>\n",
       "      <td>2019-05-16</td>\n",
       "      <td>1.774062</td>\n",
       "      <td>1.608972</td>\n",
       "      <td>-0.165090</td>\n",
       "      <td>3</td>\n",
       "      <td>se</td>\n",
       "      <td>POINT (731556.342 5705441.534)</td>\n",
       "    </tr>\n",
       "    <tr>\n",
       "      <th>2729</th>\n",
       "      <td>4743</td>\n",
       "      <td>POINT (731555.141984757 5705442.03454986)</td>\n",
       "      <td>mar</td>\n",
       "      <td>18</td>\n",
       "      <td>37.8</td>\n",
       "      <td>dt_7</td>\n",
       "      <td>2019-03-13</td>\n",
       "      <td>2019-05-16</td>\n",
       "      <td>1.847479</td>\n",
       "      <td>1.734514</td>\n",
       "      <td>-0.112966</td>\n",
       "      <td>4</td>\n",
       "      <td>ue</td>\n",
       "      <td>POINT (731555.142 5705442.035)</td>\n",
       "    </tr>\n",
       "    <tr>\n",
       "      <th>...</th>\n",
       "      <td>...</td>\n",
       "      <td>...</td>\n",
       "      <td>...</td>\n",
       "      <td>...</td>\n",
       "      <td>...</td>\n",
       "      <td>...</td>\n",
       "      <td>...</td>\n",
       "      <td>...</td>\n",
       "      <td>...</td>\n",
       "      <td>...</td>\n",
       "      <td>...</td>\n",
       "      <td>...</td>\n",
       "      <td>...</td>\n",
       "      <td>...</td>\n",
       "    </tr>\n",
       "    <tr>\n",
       "      <th>31087</th>\n",
       "      <td>31087</td>\n",
       "      <td>POINT (731468.0187435427 5705156.375496609)</td>\n",
       "      <td>mar</td>\n",
       "      <td>3</td>\n",
       "      <td>44.7</td>\n",
       "      <td>dt_0</td>\n",
       "      <td>2018-06-01</td>\n",
       "      <td>2018-06-21</td>\n",
       "      <td>2.075071</td>\n",
       "      <td>2.708724</td>\n",
       "      <td>0.633653</td>\n",
       "      <td>3</td>\n",
       "      <td>hd</td>\n",
       "      <td>POINT (731468.019 5705156.375)</td>\n",
       "    </tr>\n",
       "    <tr>\n",
       "      <th>31088</th>\n",
       "      <td>31088</td>\n",
       "      <td>POINT (731467.8198957373 5705156.396933733)</td>\n",
       "      <td>mar</td>\n",
       "      <td>3</td>\n",
       "      <td>44.9</td>\n",
       "      <td>dt_0</td>\n",
       "      <td>2018-06-01</td>\n",
       "      <td>2018-06-21</td>\n",
       "      <td>2.090222</td>\n",
       "      <td>2.918043</td>\n",
       "      <td>0.827821</td>\n",
       "      <td>3</td>\n",
       "      <td>hd</td>\n",
       "      <td>POINT (731467.820 5705156.397)</td>\n",
       "    </tr>\n",
       "    <tr>\n",
       "      <th>31089</th>\n",
       "      <td>31089</td>\n",
       "      <td>POINT (731467.7204718346 5705156.407652295)</td>\n",
       "      <td>mar</td>\n",
       "      <td>3</td>\n",
       "      <td>45.0</td>\n",
       "      <td>dt_0</td>\n",
       "      <td>2018-06-01</td>\n",
       "      <td>2018-06-21</td>\n",
       "      <td>2.116984</td>\n",
       "      <td>3.143203</td>\n",
       "      <td>1.026220</td>\n",
       "      <td>3</td>\n",
       "      <td>hd</td>\n",
       "      <td>POINT (731467.720 5705156.408)</td>\n",
       "    </tr>\n",
       "    <tr>\n",
       "      <th>31090</th>\n",
       "      <td>31090</td>\n",
       "      <td>POINT (731467.621047932 5705156.418370857)</td>\n",
       "      <td>mar</td>\n",
       "      <td>3</td>\n",
       "      <td>45.1</td>\n",
       "      <td>dt_0</td>\n",
       "      <td>2018-06-01</td>\n",
       "      <td>2018-06-21</td>\n",
       "      <td>2.140646</td>\n",
       "      <td>3.303227</td>\n",
       "      <td>1.162581</td>\n",
       "      <td>3</td>\n",
       "      <td>hd</td>\n",
       "      <td>POINT (731467.621 5705156.418)</td>\n",
       "    </tr>\n",
       "    <tr>\n",
       "      <th>31091</th>\n",
       "      <td>31091</td>\n",
       "      <td>POINT (731467.5216240293 5705156.429089419)</td>\n",
       "      <td>mar</td>\n",
       "      <td>3</td>\n",
       "      <td>45.2</td>\n",
       "      <td>dt_0</td>\n",
       "      <td>2018-06-01</td>\n",
       "      <td>2018-06-21</td>\n",
       "      <td>2.166688</td>\n",
       "      <td>3.388355</td>\n",
       "      <td>1.221667</td>\n",
       "      <td>3</td>\n",
       "      <td>hd</td>\n",
       "      <td>POINT (731467.522 5705156.429)</td>\n",
       "    </tr>\n",
       "  </tbody>\n",
       "</table>\n",
       "<p>26359 rows × 14 columns</p>\n",
       "</div>"
      ],
      "text/plain": [
       "       Unnamed: 0                                     geometry location  \\\n",
       "2725         4733    POINT (731579.306667006 5705473.42672466)      mar   \n",
       "2726         4734    POINT (731579.221439936 5705473.47903476)      mar   \n",
       "2727         4735   POINT (731579.1362128661 5705473.53134486)      mar   \n",
       "2728         4742   POINT (731556.3417177059 5705441.53390942)      mar   \n",
       "2729         4743    POINT (731555.141984757 5705442.03454986)      mar   \n",
       "...           ...                                          ...      ...   \n",
       "31087       31087  POINT (731468.0187435427 5705156.375496609)      mar   \n",
       "31088       31088  POINT (731467.8198957373 5705156.396933733)      mar   \n",
       "31089       31089  POINT (731467.7204718346 5705156.407652295)      mar   \n",
       "31090       31090   POINT (731467.621047932 5705156.418370857)      mar   \n",
       "31091       31091  POINT (731467.5216240293 5705156.429089419)      mar   \n",
       "\n",
       "       tr_id  distance    dt    date_pre   date_post     z_pre    z_post  \\\n",
       "2725      20      30.4  dt_7  2019-03-13  2019-05-16  1.392407  1.127059   \n",
       "2726      20      30.5  dt_7  2019-03-13  2019-05-16  1.414008  1.135922   \n",
       "2727      20      30.6  dt_7  2019-03-13  2019-05-16  1.427494  1.147608   \n",
       "2728      18      36.5  dt_7  2019-03-13  2019-05-16  1.774062  1.608972   \n",
       "2729      18      37.8  dt_7  2019-03-13  2019-05-16  1.847479  1.734514   \n",
       "...      ...       ...   ...         ...         ...       ...       ...   \n",
       "31087      3      44.7  dt_0  2018-06-01  2018-06-21  2.075071  2.708724   \n",
       "31088      3      44.9  dt_0  2018-06-01  2018-06-21  2.090222  2.918043   \n",
       "31089      3      45.0  dt_0  2018-06-01  2018-06-21  2.116984  3.143203   \n",
       "31090      3      45.1  dt_0  2018-06-01  2018-06-21  2.140646  3.303227   \n",
       "31091      3      45.2  dt_0  2018-06-01  2018-06-21  2.166688  3.388355   \n",
       "\n",
       "             dh  jc_bin markov_tag                     coordinates  \n",
       "2725  -0.265348       3         se  POINT (731579.307 5705473.427)  \n",
       "2726  -0.278085       3         se  POINT (731579.221 5705473.479)  \n",
       "2727  -0.279886       3         se  POINT (731579.136 5705473.531)  \n",
       "2728  -0.165090       3         se  POINT (731556.342 5705441.534)  \n",
       "2729  -0.112966       4         ue  POINT (731555.142 5705442.035)  \n",
       "...         ...     ...        ...                             ...  \n",
       "31087  0.633653       3         hd  POINT (731468.019 5705156.375)  \n",
       "31088  0.827821       3         hd  POINT (731467.820 5705156.397)  \n",
       "31089  1.026220       3         hd  POINT (731467.720 5705156.408)  \n",
       "31090  1.162581       3         hd  POINT (731467.621 5705156.418)  \n",
       "31091  1.221667       3         hd  POINT (731467.522 5705156.429)  \n",
       "\n",
       "[26359 rows x 14 columns]"
      ]
     },
     "execution_count": 4,
     "metadata": {},
     "output_type": "execute_result"
    }
   ],
   "source": [
    "dataset_mar=dataset.query(\"location=='mar'\")\n",
    "dataset_mar"
   ]
  },
  {
   "cell_type": "markdown",
   "id": "e2c778ed",
   "metadata": {},
   "source": [
    "As no transitions are represented, there is no need to use weights. However, the use of weights can be implemented with passing the weights dictionary."
   ]
  },
  {
   "cell_type": "code",
   "execution_count": 232,
   "id": "591d03fa",
   "metadata": {},
   "outputs": [],
   "source": [
    "# Weights are all ones, which means no weights.\n",
    "\n",
    "weights_dict={\"ee\":1,\"ed\":1,\n",
    "        \"he\":1,\"hd\":1,\n",
    "        \"me\":1,\"md\":1,\n",
    "        \"se\":1,\"sd\":1,\n",
    "        \"ue\":1,\"ud\":1}\n",
    "\n",
    "label_order=['ed', 'hd', 'md', 'sd', 'ud', 'ue', 'se', 'me', 'he', 'ee']"
   ]
  },
  {
   "cell_type": "markdown",
   "id": "37677f7b",
   "metadata": {},
   "source": [
    "two parameters are important:\n",
    "* __min_points__: the minimum required valid points per transect to consider a transect reliable.\n",
    "* __thresh__: the minimum number of timesteps required to retain a transect.\n"
   ]
  },
  {
   "cell_type": "code",
   "execution_count": 11,
   "id": "74122db5",
   "metadata": {},
   "outputs": [],
   "source": [
    "import numpy as np\n",
    "from scipy.stats import median_abs_deviation, shapiro, normaltest\n",
    "from statsmodels.api import qqplot\n",
    "from tqdm.notebook import tqdm\n",
    "import pandas as pd\n",
    "import geopandas as gpd\n",
    "import itertools\n",
    "from itertools import product, combinations\n",
    "\n",
    "from pysal.explore.giddy.markov import Markov\n",
    "import matplotlib.pyplot as plt\n",
    "import seaborn as sb\n",
    "\n",
    "from sandpyper.outils import getListOfFiles, getLoc, create_spatial_id"
   ]
  },
  {
   "cell_type": "code",
   "execution_count": 233,
   "id": "4d8ef4da",
   "metadata": {},
   "outputs": [],
   "source": [
    "weights_dict={\"ee\":1,\"ed\":1,\n",
    "        \"he\":1,\"hd\":1,\n",
    "        \"me\":1,\"md\":1,\n",
    "        \"se\":1,\"sd\":1,\n",
    "        \"ue\":1,\"ud\":1}\n",
    "\n",
    "loc_codes=[\"mar\",\"leo\"]\n",
    "loc_search_dict = {   'leo': ['St','Leonards','leonards','leo'],\n",
    "                      'mar': ['Marengo','marengo','mar'] }\n",
    "crs_dict_string= {\n",
    "                 'mar': {'init': 'epsg:32754'},\n",
    "                 'leo':{'init': 'epsg:32755'}\n",
    "                 }\n",
    "\n",
    "dirNameTrans=r'C:\\my_packages\\sandpyper\\tests\\test_data\\transects'\n",
    "\n",
    "label_order=[\"ed\", \"hd\", \"md\", \"sd\", \"ud\", \"nnn\", \"ue\", \"se\", \"me\", \"he\", \"ee\"]\n",
    "geo=True"
   ]
  },
  {
   "cell_type": "code",
   "execution_count": 170,
   "id": "30a82bb3",
   "metadata": {},
   "outputs": [],
   "source": [
    "from sandpyper.dynamics import attach_trs_geometry"
   ]
  },
  {
   "cell_type": "code",
   "execution_count": 234,
   "id": "a70bd932",
   "metadata": {},
   "outputs": [
    {
     "data": {
      "text/html": [
       "<div>\n",
       "<style scoped>\n",
       "    .dataframe tbody tr th:only-of-type {\n",
       "        vertical-align: middle;\n",
       "    }\n",
       "\n",
       "    .dataframe tbody tr th {\n",
       "        vertical-align: top;\n",
       "    }\n",
       "\n",
       "    .dataframe thead th {\n",
       "        text-align: right;\n",
       "    }\n",
       "</style>\n",
       "<table border=\"1\" class=\"dataframe\">\n",
       "  <thead>\n",
       "    <tr style=\"text-align: right;\">\n",
       "      <th></th>\n",
       "      <th>Unnamed: 0</th>\n",
       "      <th>geometry</th>\n",
       "      <th>location</th>\n",
       "      <th>tr_id</th>\n",
       "      <th>distance</th>\n",
       "      <th>dt</th>\n",
       "      <th>date_pre</th>\n",
       "      <th>date_post</th>\n",
       "      <th>z_pre</th>\n",
       "      <th>z_post</th>\n",
       "      <th>dh</th>\n",
       "      <th>jc_bin</th>\n",
       "      <th>markov_tag</th>\n",
       "      <th>coordinates</th>\n",
       "    </tr>\n",
       "  </thead>\n",
       "  <tbody>\n",
       "    <tr>\n",
       "      <th>0</th>\n",
       "      <td>0</td>\n",
       "      <td>POINT (299901.7782793006 5773692.070767866)</td>\n",
       "      <td>leo</td>\n",
       "      <td>69</td>\n",
       "      <td>26.8</td>\n",
       "      <td>dt_5</td>\n",
       "      <td>2019-03-28</td>\n",
       "      <td>2019-07-31</td>\n",
       "      <td>0.223866</td>\n",
       "      <td>0.112838</td>\n",
       "      <td>-0.111029</td>\n",
       "      <td>4</td>\n",
       "      <td>ue</td>\n",
       "      <td>POINT (299901.778 5773692.071)</td>\n",
       "    </tr>\n",
       "    <tr>\n",
       "      <th>1</th>\n",
       "      <td>1</td>\n",
       "      <td>POINT (299901.4828779417 5773692.018441608)</td>\n",
       "      <td>leo</td>\n",
       "      <td>69</td>\n",
       "      <td>27.1</td>\n",
       "      <td>dt_5</td>\n",
       "      <td>2019-03-28</td>\n",
       "      <td>2019-07-31</td>\n",
       "      <td>0.256890</td>\n",
       "      <td>0.152005</td>\n",
       "      <td>-0.104885</td>\n",
       "      <td>4</td>\n",
       "      <td>ue</td>\n",
       "      <td>POINT (299901.483 5773692.018)</td>\n",
       "    </tr>\n",
       "    <tr>\n",
       "      <th>2</th>\n",
       "      <td>2</td>\n",
       "      <td>POINT (299901.2859437025 5773691.983557437)</td>\n",
       "      <td>leo</td>\n",
       "      <td>69</td>\n",
       "      <td>27.3</td>\n",
       "      <td>dt_5</td>\n",
       "      <td>2019-03-28</td>\n",
       "      <td>2019-07-31</td>\n",
       "      <td>0.283333</td>\n",
       "      <td>0.176710</td>\n",
       "      <td>-0.106624</td>\n",
       "      <td>4</td>\n",
       "      <td>ue</td>\n",
       "      <td>POINT (299901.286 5773691.984)</td>\n",
       "    </tr>\n",
       "    <tr>\n",
       "      <th>3</th>\n",
       "      <td>3</td>\n",
       "      <td>POINT (299901.1874765829 5773691.966115351)</td>\n",
       "      <td>leo</td>\n",
       "      <td>69</td>\n",
       "      <td>27.4</td>\n",
       "      <td>dt_5</td>\n",
       "      <td>2019-03-28</td>\n",
       "      <td>2019-07-31</td>\n",
       "      <td>0.305573</td>\n",
       "      <td>0.188821</td>\n",
       "      <td>-0.116752</td>\n",
       "      <td>4</td>\n",
       "      <td>ue</td>\n",
       "      <td>POINT (299901.187 5773691.966)</td>\n",
       "    </tr>\n",
       "    <tr>\n",
       "      <th>4</th>\n",
       "      <td>4</td>\n",
       "      <td>POINT (299901.0890094633 5773691.948673265)</td>\n",
       "      <td>leo</td>\n",
       "      <td>69</td>\n",
       "      <td>27.5</td>\n",
       "      <td>dt_5</td>\n",
       "      <td>2019-03-28</td>\n",
       "      <td>2019-07-31</td>\n",
       "      <td>0.329158</td>\n",
       "      <td>0.197999</td>\n",
       "      <td>-0.131160</td>\n",
       "      <td>4</td>\n",
       "      <td>ue</td>\n",
       "      <td>POINT (299901.089 5773691.949)</td>\n",
       "    </tr>\n",
       "    <tr>\n",
       "      <th>...</th>\n",
       "      <td>...</td>\n",
       "      <td>...</td>\n",
       "      <td>...</td>\n",
       "      <td>...</td>\n",
       "      <td>...</td>\n",
       "      <td>...</td>\n",
       "      <td>...</td>\n",
       "      <td>...</td>\n",
       "      <td>...</td>\n",
       "      <td>...</td>\n",
       "      <td>...</td>\n",
       "      <td>...</td>\n",
       "      <td>...</td>\n",
       "      <td>...</td>\n",
       "    </tr>\n",
       "    <tr>\n",
       "      <th>31087</th>\n",
       "      <td>31087</td>\n",
       "      <td>POINT (731468.0187435427 5705156.375496609)</td>\n",
       "      <td>mar</td>\n",
       "      <td>3</td>\n",
       "      <td>44.7</td>\n",
       "      <td>dt_0</td>\n",
       "      <td>2018-06-01</td>\n",
       "      <td>2018-06-21</td>\n",
       "      <td>2.075071</td>\n",
       "      <td>2.708724</td>\n",
       "      <td>0.633653</td>\n",
       "      <td>3</td>\n",
       "      <td>hd</td>\n",
       "      <td>POINT (731468.019 5705156.375)</td>\n",
       "    </tr>\n",
       "    <tr>\n",
       "      <th>31088</th>\n",
       "      <td>31088</td>\n",
       "      <td>POINT (731467.8198957373 5705156.396933733)</td>\n",
       "      <td>mar</td>\n",
       "      <td>3</td>\n",
       "      <td>44.9</td>\n",
       "      <td>dt_0</td>\n",
       "      <td>2018-06-01</td>\n",
       "      <td>2018-06-21</td>\n",
       "      <td>2.090222</td>\n",
       "      <td>2.918043</td>\n",
       "      <td>0.827821</td>\n",
       "      <td>3</td>\n",
       "      <td>hd</td>\n",
       "      <td>POINT (731467.820 5705156.397)</td>\n",
       "    </tr>\n",
       "    <tr>\n",
       "      <th>31089</th>\n",
       "      <td>31089</td>\n",
       "      <td>POINT (731467.7204718346 5705156.407652295)</td>\n",
       "      <td>mar</td>\n",
       "      <td>3</td>\n",
       "      <td>45.0</td>\n",
       "      <td>dt_0</td>\n",
       "      <td>2018-06-01</td>\n",
       "      <td>2018-06-21</td>\n",
       "      <td>2.116984</td>\n",
       "      <td>3.143203</td>\n",
       "      <td>1.026220</td>\n",
       "      <td>3</td>\n",
       "      <td>hd</td>\n",
       "      <td>POINT (731467.720 5705156.408)</td>\n",
       "    </tr>\n",
       "    <tr>\n",
       "      <th>31090</th>\n",
       "      <td>31090</td>\n",
       "      <td>POINT (731467.621047932 5705156.418370857)</td>\n",
       "      <td>mar</td>\n",
       "      <td>3</td>\n",
       "      <td>45.1</td>\n",
       "      <td>dt_0</td>\n",
       "      <td>2018-06-01</td>\n",
       "      <td>2018-06-21</td>\n",
       "      <td>2.140646</td>\n",
       "      <td>3.303227</td>\n",
       "      <td>1.162581</td>\n",
       "      <td>3</td>\n",
       "      <td>hd</td>\n",
       "      <td>POINT (731467.621 5705156.418)</td>\n",
       "    </tr>\n",
       "    <tr>\n",
       "      <th>31091</th>\n",
       "      <td>31091</td>\n",
       "      <td>POINT (731467.5216240293 5705156.429089419)</td>\n",
       "      <td>mar</td>\n",
       "      <td>3</td>\n",
       "      <td>45.2</td>\n",
       "      <td>dt_0</td>\n",
       "      <td>2018-06-01</td>\n",
       "      <td>2018-06-21</td>\n",
       "      <td>2.166688</td>\n",
       "      <td>3.388355</td>\n",
       "      <td>1.221667</td>\n",
       "      <td>3</td>\n",
       "      <td>hd</td>\n",
       "      <td>POINT (731467.522 5705156.429)</td>\n",
       "    </tr>\n",
       "  </tbody>\n",
       "</table>\n",
       "<p>31092 rows × 14 columns</p>\n",
       "</div>"
      ],
      "text/plain": [
       "       Unnamed: 0                                     geometry location  \\\n",
       "0               0  POINT (299901.7782793006 5773692.070767866)      leo   \n",
       "1               1  POINT (299901.4828779417 5773692.018441608)      leo   \n",
       "2               2  POINT (299901.2859437025 5773691.983557437)      leo   \n",
       "3               3  POINT (299901.1874765829 5773691.966115351)      leo   \n",
       "4               4  POINT (299901.0890094633 5773691.948673265)      leo   \n",
       "...           ...                                          ...      ...   \n",
       "31087       31087  POINT (731468.0187435427 5705156.375496609)      mar   \n",
       "31088       31088  POINT (731467.8198957373 5705156.396933733)      mar   \n",
       "31089       31089  POINT (731467.7204718346 5705156.407652295)      mar   \n",
       "31090       31090   POINT (731467.621047932 5705156.418370857)      mar   \n",
       "31091       31091  POINT (731467.5216240293 5705156.429089419)      mar   \n",
       "\n",
       "       tr_id  distance    dt    date_pre   date_post     z_pre    z_post  \\\n",
       "0         69      26.8  dt_5  2019-03-28  2019-07-31  0.223866  0.112838   \n",
       "1         69      27.1  dt_5  2019-03-28  2019-07-31  0.256890  0.152005   \n",
       "2         69      27.3  dt_5  2019-03-28  2019-07-31  0.283333  0.176710   \n",
       "3         69      27.4  dt_5  2019-03-28  2019-07-31  0.305573  0.188821   \n",
       "4         69      27.5  dt_5  2019-03-28  2019-07-31  0.329158  0.197999   \n",
       "...      ...       ...   ...         ...         ...       ...       ...   \n",
       "31087      3      44.7  dt_0  2018-06-01  2018-06-21  2.075071  2.708724   \n",
       "31088      3      44.9  dt_0  2018-06-01  2018-06-21  2.090222  2.918043   \n",
       "31089      3      45.0  dt_0  2018-06-01  2018-06-21  2.116984  3.143203   \n",
       "31090      3      45.1  dt_0  2018-06-01  2018-06-21  2.140646  3.303227   \n",
       "31091      3      45.2  dt_0  2018-06-01  2018-06-21  2.166688  3.388355   \n",
       "\n",
       "             dh  jc_bin markov_tag                     coordinates  \n",
       "0     -0.111029       4         ue  POINT (299901.778 5773692.071)  \n",
       "1     -0.104885       4         ue  POINT (299901.483 5773692.018)  \n",
       "2     -0.106624       4         ue  POINT (299901.286 5773691.984)  \n",
       "3     -0.116752       4         ue  POINT (299901.187 5773691.966)  \n",
       "4     -0.131160       4         ue  POINT (299901.089 5773691.949)  \n",
       "...         ...     ...        ...                             ...  \n",
       "31087  0.633653       3         hd  POINT (731468.019 5705156.375)  \n",
       "31088  0.827821       3         hd  POINT (731467.820 5705156.397)  \n",
       "31089  1.026220       3         hd  POINT (731467.720 5705156.408)  \n",
       "31090  1.162581       3         hd  POINT (731467.621 5705156.418)  \n",
       "31091  1.221667       3         hd  POINT (731467.522 5705156.429)  \n",
       "\n",
       "[31092 rows x 14 columns]"
      ]
     },
     "execution_count": 234,
     "metadata": {},
     "output_type": "execute_result"
    }
   ],
   "source": [
    "dataset"
   ]
  },
  {
   "cell_type": "code",
   "execution_count": 236,
   "id": "0d04fa7b",
   "metadata": {},
   "outputs": [
    {
     "data": {
      "application/vnd.jupyter.widget-view+json": {
       "model_id": "39215c0396834e7f9b75c4d23299f74d",
       "version_major": 2,
       "version_minor": 0
      },
      "text/plain": [
       "  0%|          | 0/2 [00:00<?, ?it/s]"
      ]
     },
     "metadata": {},
     "output_type": "display_data"
    },
    {
     "name": "stdout",
     "output_type": "stream",
     "text": [
      "In leo, threshold of valid transitions (thresh=7) of transect ID 69 returned 0 points, which is less than the specified min_points (20) parameter.\n",
      "In leo, threshold of valid transitions (thresh=7) of transect ID 68 returned 0 points, which is less than the specified min_points (20) parameter.\n",
      "In leo, threshold of valid transitions (thresh=7) of transect ID 67 returned 0 points, which is less than the specified min_points (20) parameter.\n",
      "In leo, threshold of valid transitions (thresh=7) of transect ID 66 returned 0 points, which is less than the specified min_points (20) parameter.\n",
      "In leo, threshold of valid transitions (thresh=7) of transect ID 65 returned 0 points, which is less than the specified min_points (20) parameter.\n",
      "In leo, threshold of valid transitions (thresh=7) of transect ID 64 returned 0 points, which is less than the specified min_points (20) parameter.\n",
      "In leo, threshold of valid transitions (thresh=7) of transect ID 63 returned 0 points, which is less than the specified min_points (20) parameter.\n",
      "In leo, threshold of valid transitions (thresh=7) of transect ID 62 returned 0 points, which is less than the specified min_points (20) parameter.\n",
      "In leo, threshold of valid transitions (thresh=7) of transect ID 61 returned 0 points, which is less than the specified min_points (20) parameter.\n",
      "In leo, threshold of valid transitions (thresh=7) of transect ID 60 returned 0 points, which is less than the specified min_points (20) parameter.\n",
      "In leo, threshold of valid transitions (thresh=7) of transect ID 59 returned 0 points, which is less than the specified min_points (20) parameter.\n",
      "In leo, threshold of valid transitions (thresh=7) of transect ID 58 returned 0 points, which is less than the specified min_points (20) parameter.\n",
      "In leo, threshold of valid transitions (thresh=7) of transect ID 57 returned 0 points, which is less than the specified min_points (20) parameter.\n",
      "In leo, threshold of valid transitions (thresh=7) of transect ID 56 returned 0 points, which is less than the specified min_points (20) parameter.\n",
      "In leo, threshold of valid transitions (thresh=7) of transect ID 55 returned 0 points, which is less than the specified min_points (20) parameter.\n",
      "In leo, threshold of valid transitions (thresh=7) of transect ID 54 returned 0 points, which is less than the specified min_points (20) parameter.\n",
      "In leo, threshold of valid transitions (thresh=7) of transect ID 53 returned 0 points, which is less than the specified min_points (20) parameter.\n",
      "In leo, threshold of valid transitions (thresh=7) of transect ID 52 returned 0 points, which is less than the specified min_points (20) parameter.\n",
      "In leo, threshold of valid transitions (thresh=7) of transect ID 51 returned 0 points, which is less than the specified min_points (20) parameter.\n",
      "In leo, threshold of valid transitions (thresh=7) of transect ID 50 returned 0 points, which is less than the specified min_points (20) parameter.\n",
      "In leo, threshold of valid transitions (thresh=7) of transect ID 49 returned 0 points, which is less than the specified min_points (20) parameter.\n",
      "In leo, threshold of valid transitions (thresh=7) of transect ID 48 returned 0 points, which is less than the specified min_points (20) parameter.\n",
      "In leo, threshold of valid transitions (thresh=7) of transect ID 47 returned 0 points, which is less than the specified min_points (20) parameter.\n",
      "In leo, threshold of valid transitions (thresh=7) of transect ID 46 returned 0 points, which is less than the specified min_points (20) parameter.\n",
      "In leo, threshold of valid transitions (thresh=7) of transect ID 45 returned 0 points, which is less than the specified min_points (20) parameter.\n",
      "In mar, threshold of valid transitions (thresh=7) of transect ID 10 returned 14 points, which is less than the specified min_points (20) parameter.\n",
      "In mar, threshold of valid transitions (thresh=7) of transect ID 24 returned 0 points, which is less than the specified min_points (20) parameter.\n",
      "In mar, threshold of valid transitions (thresh=7) of transect ID 5 returned 0 points, which is less than the specified min_points (20) parameter.\n",
      "In mar, threshold of valid transitions (thresh=7) of transect ID 4 returned 0 points, which is less than the specified min_points (20) parameter.\n",
      "In mar, threshold of valid transitions (thresh=7) of transect ID 3 returned 0 points, which is less than the specified min_points (20) parameter.\n"
     ]
    },
    {
     "data": {
      "text/html": [
       "<div>\n",
       "<style scoped>\n",
       "    .dataframe tbody tr th:only-of-type {\n",
       "        vertical-align: middle;\n",
       "    }\n",
       "\n",
       "    .dataframe tbody tr th {\n",
       "        vertical-align: top;\n",
       "    }\n",
       "\n",
       "    .dataframe thead th {\n",
       "        text-align: right;\n",
       "    }\n",
       "</style>\n",
       "<table border=\"1\" class=\"dataframe\">\n",
       "  <thead>\n",
       "    <tr style=\"text-align: right;\">\n",
       "      <th></th>\n",
       "      <th>markov_tag</th>\n",
       "      <th>tr_id</th>\n",
       "      <th>p</th>\n",
       "      <th>location</th>\n",
       "      <th>thresh</th>\n",
       "      <th>min_pts</th>\n",
       "      <th>valid_pts</th>\n",
       "      <th>reliable</th>\n",
       "    </tr>\n",
       "  </thead>\n",
       "  <tbody>\n",
       "    <tr>\n",
       "      <th>0</th>\n",
       "      <td>ed</td>\n",
       "      <td>3</td>\n",
       "      <td>0.011612</td>\n",
       "      <td>mar</td>\n",
       "      <td>7</td>\n",
       "      <td>20</td>\n",
       "      <td>0</td>\n",
       "      <td>False</td>\n",
       "    </tr>\n",
       "    <tr>\n",
       "      <th>1</th>\n",
       "      <td>hd</td>\n",
       "      <td>3</td>\n",
       "      <td>0.054296</td>\n",
       "      <td>mar</td>\n",
       "      <td>7</td>\n",
       "      <td>20</td>\n",
       "      <td>0</td>\n",
       "      <td>False</td>\n",
       "    </tr>\n",
       "    <tr>\n",
       "      <th>2</th>\n",
       "      <td>he</td>\n",
       "      <td>3</td>\n",
       "      <td>0.083252</td>\n",
       "      <td>mar</td>\n",
       "      <td>7</td>\n",
       "      <td>20</td>\n",
       "      <td>0</td>\n",
       "      <td>False</td>\n",
       "    </tr>\n",
       "    <tr>\n",
       "      <th>3</th>\n",
       "      <td>md</td>\n",
       "      <td>3</td>\n",
       "      <td>0.109668</td>\n",
       "      <td>mar</td>\n",
       "      <td>7</td>\n",
       "      <td>20</td>\n",
       "      <td>0</td>\n",
       "      <td>False</td>\n",
       "    </tr>\n",
       "    <tr>\n",
       "      <th>4</th>\n",
       "      <td>me</td>\n",
       "      <td>3</td>\n",
       "      <td>0.078748</td>\n",
       "      <td>mar</td>\n",
       "      <td>7</td>\n",
       "      <td>20</td>\n",
       "      <td>0</td>\n",
       "      <td>False</td>\n",
       "    </tr>\n",
       "    <tr>\n",
       "      <th>...</th>\n",
       "      <td>...</td>\n",
       "      <td>...</td>\n",
       "      <td>...</td>\n",
       "      <td>...</td>\n",
       "      <td>...</td>\n",
       "      <td>...</td>\n",
       "      <td>...</td>\n",
       "      <td>...</td>\n",
       "    </tr>\n",
       "    <tr>\n",
       "      <th>374</th>\n",
       "      <td>nnn</td>\n",
       "      <td>69</td>\n",
       "      <td>0.459459</td>\n",
       "      <td>leo</td>\n",
       "      <td>7</td>\n",
       "      <td>20</td>\n",
       "      <td>0</td>\n",
       "      <td>False</td>\n",
       "    </tr>\n",
       "    <tr>\n",
       "      <th>375</th>\n",
       "      <td>sd</td>\n",
       "      <td>69</td>\n",
       "      <td>0.000000</td>\n",
       "      <td>leo</td>\n",
       "      <td>7</td>\n",
       "      <td>20</td>\n",
       "      <td>0</td>\n",
       "      <td>False</td>\n",
       "    </tr>\n",
       "    <tr>\n",
       "      <th>376</th>\n",
       "      <td>se</td>\n",
       "      <td>69</td>\n",
       "      <td>0.191120</td>\n",
       "      <td>leo</td>\n",
       "      <td>7</td>\n",
       "      <td>20</td>\n",
       "      <td>0</td>\n",
       "      <td>False</td>\n",
       "    </tr>\n",
       "    <tr>\n",
       "      <th>377</th>\n",
       "      <td>ud</td>\n",
       "      <td>69</td>\n",
       "      <td>0.217761</td>\n",
       "      <td>leo</td>\n",
       "      <td>7</td>\n",
       "      <td>20</td>\n",
       "      <td>0</td>\n",
       "      <td>False</td>\n",
       "    </tr>\n",
       "    <tr>\n",
       "      <th>378</th>\n",
       "      <td>ue</td>\n",
       "      <td>69</td>\n",
       "      <td>0.125097</td>\n",
       "      <td>leo</td>\n",
       "      <td>7</td>\n",
       "      <td>20</td>\n",
       "      <td>0</td>\n",
       "      <td>False</td>\n",
       "    </tr>\n",
       "  </tbody>\n",
       "</table>\n",
       "<p>379 rows × 8 columns</p>\n",
       "</div>"
      ],
      "text/plain": [
       "    markov_tag tr_id         p location  thresh  min_pts  valid_pts  reliable\n",
       "0           ed     3  0.011612      mar       7       20          0     False\n",
       "1           hd     3  0.054296      mar       7       20          0     False\n",
       "2           he     3  0.083252      mar       7       20          0     False\n",
       "3           md     3  0.109668      mar       7       20          0     False\n",
       "4           me     3  0.078748      mar       7       20          0     False\n",
       "..         ...   ...       ...      ...     ...      ...        ...       ...\n",
       "374        nnn    69  0.459459      leo       7       20          0     False\n",
       "375         sd    69  0.000000      leo       7       20          0     False\n",
       "376         se    69  0.191120      leo       7       20          0     False\n",
       "377         ud    69  0.217761      leo       7       20          0     False\n",
       "378         ue    69  0.125097      leo       7       20          0     False\n",
       "\n",
       "[379 rows x 8 columns]"
      ]
     },
     "execution_count": 236,
     "metadata": {},
     "output_type": "execute_result"
    }
   ],
   "source": [
    "\n",
    "dataset=dataset\n",
    "thresh=7\n",
    "min_points=20\n",
    "dirNameTrans\n",
    "\n",
    "\n",
    "field_markov_tags=\"markov_tag\"\n",
    "field_unique_id=\"geometry\"\n",
    "field_discrete_time=\"dt\"\n",
    "use_neg=True\n",
    "\n",
    "steady_state_tr = pd.DataFrame()\n",
    "markov_indexes_tr = pd.DataFrame()\n",
    "\n",
    "# in mode, insert \"drop\" to remove cluster to no-cluster transitions or \"nnn\" to retain them and label them \"nnn\"\n",
    "# If drop, only cluster to cluster points that happend during all the\n",
    "# surveys are retained\n",
    "\n",
    "for loc in tqdm(dataset.location.unique()):\n",
    "    data_loc = dataset.query(f\"location=='{loc}'\")\n",
    "\n",
    "    for tr_id in data_loc.tr_id.unique():\n",
    "\n",
    "        data_tr = data_loc.query(f\"tr_id=='{tr_id}'\")\n",
    "\n",
    "        if data_tr.empty:\n",
    "            data_tr = data_loc.query(f\"tr_id=={tr_id}\")\n",
    "\n",
    "        data_piv = data_tr.pivot(\n",
    "            values=field_markov_tags,\n",
    "            index=field_unique_id,\n",
    "            columns=field_discrete_time,\n",
    "        )\n",
    "        \n",
    "        # identify the points that have less than the required number of transitions (thresh) of non nan states\n",
    "        valid_pts=((~data_piv.isnull()).sum(axis=1)>=thresh).sum()\n",
    "\n",
    "        # has this transect a number of valid points above the specified min_pts parameter?\n",
    "        valid_transect= valid_pts >= min_points\n",
    "        \n",
    "        # all the  NaN will be named 'nnn'\n",
    "        data_piv.fillna(\"nnn\", inplace=True)\n",
    "\n",
    "        if valid_transect != True:\n",
    "            print(\n",
    "                f\"In {loc}, threshold of valid transitions (thresh={thresh}) of transect ID {tr_id} returned {valid_pts} points, which is less than the specified min_points ({min_points}) parameter.\"\n",
    "            )\n",
    "\n",
    "        n = data_piv.shape[0]\n",
    "        arr = np.array(data_piv)\n",
    "        m = Markov(arr)\n",
    "\n",
    "        try:\n",
    "            steady_state = m.steady_state\n",
    "            steady_state = pd.DataFrame(\n",
    "                m.steady_state, index=m.classes, columns=[tr_id]\n",
    "            )\n",
    "\n",
    "            steady_state.reset_index(inplace=True)\n",
    "            steady_state.rename({\"index\": \"markov_tag\"}, axis=1, inplace=True)\n",
    "            steady_state = steady_state.melt(\n",
    "                id_vars=\"markov_tag\", value_name=\"p\", var_name=\"tr_id\"\n",
    "            )\n",
    "            steady_state[\"location\"] = loc\n",
    "            steady_state[\"thresh\"] = thresh\n",
    "            steady_state[\"min_pts\"] = min_points\n",
    "            steady_state[\"valid_pts\"] = valid_pts\n",
    "            steady_state[\"reliable\"] = valid_transect\n",
    "\n",
    "            steady_state_tr = pd.concat(\n",
    "                [steady_state, steady_state_tr], ignore_index=True\n",
    "            )\n",
    "\n",
    "        except BaseException:\n",
    "            print(f\"tr_id {tr_id} has {n} valid points.\")\n",
    "            null_df=pd.DataFrame({'markov_tag':dataset.markov_tag.unique(),\n",
    "                                'p':[np.nan for i in dataset.markov_tag.unique()]})\n",
    "            null_df[\"tr_id\"]=tr_id\n",
    "            null_df[\"location\"]=loc\n",
    "            null_df[\"thresh\"]=thresh\n",
    "            null_df[\"min_pts\"]=min_points\n",
    "            null_df[\"valid_pts\"]=valid_pts\n",
    "            null_df[\"reliable\"]=valid_transect\n",
    "\n",
    "            steady_state_tr = pd.concat(\n",
    "                [null_df, steady_state_tr], ignore_index=True\n",
    "            )\n",
    "\n",
    "steady_state_tr"
   ]
  },
  {
   "cell_type": "code",
   "execution_count": 237,
   "id": "8beb38fc",
   "metadata": {},
   "outputs": [
    {
     "name": "stderr",
     "output_type": "stream",
     "text": [
      "C:\\conda3\\envs\\sandpyper_env\\lib\\site-packages\\geopandas\\geodataframe.py:422: RuntimeWarning: Sequential read of iterator was interrupted. Resetting iterator. This can negatively impact the performance.\n",
      "  for feature in features_lst:\n"
     ]
    },
    {
     "data": {
      "text/html": [
       "<div>\n",
       "<style scoped>\n",
       "    .dataframe tbody tr th:only-of-type {\n",
       "        vertical-align: middle;\n",
       "    }\n",
       "\n",
       "    .dataframe tbody tr th {\n",
       "        vertical-align: top;\n",
       "    }\n",
       "\n",
       "    .dataframe thead th {\n",
       "        text-align: right;\n",
       "    }\n",
       "</style>\n",
       "<table border=\"1\" class=\"dataframe\">\n",
       "  <thead>\n",
       "    <tr style=\"text-align: right;\">\n",
       "      <th>markov_tag</th>\n",
       "      <th>tr_id</th>\n",
       "      <th>erosion</th>\n",
       "      <th>deposition</th>\n",
       "      <th>residual</th>\n",
       "      <th>location</th>\n",
       "      <th>geometry</th>\n",
       "    </tr>\n",
       "  </thead>\n",
       "  <tbody>\n",
       "    <tr>\n",
       "      <th>0</th>\n",
       "      <td>45</td>\n",
       "      <td>0.797168</td>\n",
       "      <td>0.791961</td>\n",
       "      <td>-0.005207</td>\n",
       "      <td>leo</td>\n",
       "      <td>LINESTRING (299877.680 5773692.109, 299927.368...</td>\n",
       "    </tr>\n",
       "    <tr>\n",
       "      <th>1</th>\n",
       "      <td>46</td>\n",
       "      <td>0.788544</td>\n",
       "      <td>0.830032</td>\n",
       "      <td>0.041488</td>\n",
       "      <td>leo</td>\n",
       "      <td>LINESTRING (299875.449 5773711.984, 299925.137...</td>\n",
       "    </tr>\n",
       "    <tr>\n",
       "      <th>2</th>\n",
       "      <td>47</td>\n",
       "      <td>0.669716</td>\n",
       "      <td>0.773256</td>\n",
       "      <td>0.103539</td>\n",
       "      <td>leo</td>\n",
       "      <td>LINESTRING (299873.218 5773731.860, 299922.906...</td>\n",
       "    </tr>\n",
       "    <tr>\n",
       "      <th>3</th>\n",
       "      <td>48</td>\n",
       "      <td>0.749860</td>\n",
       "      <td>0.795782</td>\n",
       "      <td>0.045922</td>\n",
       "      <td>leo</td>\n",
       "      <td>LINESTRING (299870.987 5773751.735, 299920.675...</td>\n",
       "    </tr>\n",
       "    <tr>\n",
       "      <th>4</th>\n",
       "      <td>49</td>\n",
       "      <td>0.738382</td>\n",
       "      <td>0.840372</td>\n",
       "      <td>0.101989</td>\n",
       "      <td>leo</td>\n",
       "      <td>LINESTRING (299869.467 5773772.681, 299919.339...</td>\n",
       "    </tr>\n",
       "    <tr>\n",
       "      <th>5</th>\n",
       "      <td>50</td>\n",
       "      <td>0.874611</td>\n",
       "      <td>0.720929</td>\n",
       "      <td>-0.153682</td>\n",
       "      <td>leo</td>\n",
       "      <td>LINESTRING (299868.295 5773792.997, 299918.212...</td>\n",
       "    </tr>\n",
       "    <tr>\n",
       "      <th>6</th>\n",
       "      <td>51</td>\n",
       "      <td>0.952226</td>\n",
       "      <td>0.716851</td>\n",
       "      <td>-0.235374</td>\n",
       "      <td>leo</td>\n",
       "      <td>LINESTRING (299867.146 5773812.964, 299917.063...</td>\n",
       "    </tr>\n",
       "    <tr>\n",
       "      <th>7</th>\n",
       "      <td>52</td>\n",
       "      <td>0.813245</td>\n",
       "      <td>0.755008</td>\n",
       "      <td>-0.058237</td>\n",
       "      <td>leo</td>\n",
       "      <td>LINESTRING (299865.996 5773832.931, 299915.914...</td>\n",
       "    </tr>\n",
       "    <tr>\n",
       "      <th>8</th>\n",
       "      <td>53</td>\n",
       "      <td>0.711310</td>\n",
       "      <td>0.796813</td>\n",
       "      <td>0.085503</td>\n",
       "      <td>leo</td>\n",
       "      <td>LINESTRING (299864.847 5773852.898, 299914.765...</td>\n",
       "    </tr>\n",
       "    <tr>\n",
       "      <th>9</th>\n",
       "      <td>54</td>\n",
       "      <td>0.659353</td>\n",
       "      <td>0.697326</td>\n",
       "      <td>0.037973</td>\n",
       "      <td>leo</td>\n",
       "      <td>LINESTRING (299863.698 5773872.865, 299913.615...</td>\n",
       "    </tr>\n",
       "    <tr>\n",
       "      <th>10</th>\n",
       "      <td>55</td>\n",
       "      <td>0.627270</td>\n",
       "      <td>0.659762</td>\n",
       "      <td>0.032492</td>\n",
       "      <td>leo</td>\n",
       "      <td>LINESTRING (299862.549 5773892.832, 299912.466...</td>\n",
       "    </tr>\n",
       "    <tr>\n",
       "      <th>11</th>\n",
       "      <td>56</td>\n",
       "      <td>0.748164</td>\n",
       "      <td>0.676427</td>\n",
       "      <td>-0.071737</td>\n",
       "      <td>leo</td>\n",
       "      <td>LINESTRING (299861.400 5773912.799, 299911.317...</td>\n",
       "    </tr>\n",
       "    <tr>\n",
       "      <th>12</th>\n",
       "      <td>57</td>\n",
       "      <td>0.684406</td>\n",
       "      <td>0.783011</td>\n",
       "      <td>0.098605</td>\n",
       "      <td>leo</td>\n",
       "      <td>LINESTRING (299861.400 5773912.799, 299911.317...</td>\n",
       "    </tr>\n",
       "    <tr>\n",
       "      <th>13</th>\n",
       "      <td>58</td>\n",
       "      <td>0.830002</td>\n",
       "      <td>0.793112</td>\n",
       "      <td>-0.036890</td>\n",
       "      <td>leo</td>\n",
       "      <td>LINESTRING (299860.251 5773932.766, 299910.168...</td>\n",
       "    </tr>\n",
       "    <tr>\n",
       "      <th>14</th>\n",
       "      <td>59</td>\n",
       "      <td>0.960714</td>\n",
       "      <td>0.801190</td>\n",
       "      <td>-0.159524</td>\n",
       "      <td>leo</td>\n",
       "      <td>None</td>\n",
       "    </tr>\n",
       "    <tr>\n",
       "      <th>15</th>\n",
       "      <td>60</td>\n",
       "      <td>0.891213</td>\n",
       "      <td>0.780937</td>\n",
       "      <td>-0.110275</td>\n",
       "      <td>leo</td>\n",
       "      <td>None</td>\n",
       "    </tr>\n",
       "    <tr>\n",
       "      <th>16</th>\n",
       "      <td>61</td>\n",
       "      <td>0.909164</td>\n",
       "      <td>0.654485</td>\n",
       "      <td>-0.254679</td>\n",
       "      <td>leo</td>\n",
       "      <td>None</td>\n",
       "    </tr>\n",
       "    <tr>\n",
       "      <th>17</th>\n",
       "      <td>62</td>\n",
       "      <td>0.837521</td>\n",
       "      <td>0.664548</td>\n",
       "      <td>-0.172973</td>\n",
       "      <td>leo</td>\n",
       "      <td>None</td>\n",
       "    </tr>\n",
       "    <tr>\n",
       "      <th>18</th>\n",
       "      <td>63</td>\n",
       "      <td>0.879676</td>\n",
       "      <td>0.776621</td>\n",
       "      <td>-0.103054</td>\n",
       "      <td>leo</td>\n",
       "      <td>None</td>\n",
       "    </tr>\n",
       "    <tr>\n",
       "      <th>19</th>\n",
       "      <td>64</td>\n",
       "      <td>0.888480</td>\n",
       "      <td>0.763478</td>\n",
       "      <td>-0.125002</td>\n",
       "      <td>leo</td>\n",
       "      <td>None</td>\n",
       "    </tr>\n",
       "    <tr>\n",
       "      <th>20</th>\n",
       "      <td>65</td>\n",
       "      <td>0.871737</td>\n",
       "      <td>0.772958</td>\n",
       "      <td>-0.098779</td>\n",
       "      <td>leo</td>\n",
       "      <td>None</td>\n",
       "    </tr>\n",
       "    <tr>\n",
       "      <th>21</th>\n",
       "      <td>66</td>\n",
       "      <td>0.837804</td>\n",
       "      <td>0.798476</td>\n",
       "      <td>-0.039328</td>\n",
       "      <td>leo</td>\n",
       "      <td>None</td>\n",
       "    </tr>\n",
       "    <tr>\n",
       "      <th>22</th>\n",
       "      <td>67</td>\n",
       "      <td>0.885643</td>\n",
       "      <td>0.780556</td>\n",
       "      <td>-0.105088</td>\n",
       "      <td>leo</td>\n",
       "      <td>None</td>\n",
       "    </tr>\n",
       "    <tr>\n",
       "      <th>23</th>\n",
       "      <td>68</td>\n",
       "      <td>0.895056</td>\n",
       "      <td>0.816833</td>\n",
       "      <td>-0.078223</td>\n",
       "      <td>leo</td>\n",
       "      <td>None</td>\n",
       "    </tr>\n",
       "    <tr>\n",
       "      <th>24</th>\n",
       "      <td>69</td>\n",
       "      <td>0.782239</td>\n",
       "      <td>0.677220</td>\n",
       "      <td>-0.105019</td>\n",
       "      <td>leo</td>\n",
       "      <td>None</td>\n",
       "    </tr>\n",
       "    <tr>\n",
       "      <th>25</th>\n",
       "      <td>3</td>\n",
       "      <td>0.575920</td>\n",
       "      <td>0.643411</td>\n",
       "      <td>0.067491</td>\n",
       "      <td>mar</td>\n",
       "      <td>MULTILINESTRING ((731512.461 5705151.584, 7314...</td>\n",
       "    </tr>\n",
       "    <tr>\n",
       "      <th>26</th>\n",
       "      <td>4</td>\n",
       "      <td>0.535433</td>\n",
       "      <td>0.663351</td>\n",
       "      <td>0.127919</td>\n",
       "      <td>mar</td>\n",
       "      <td>MULTILINESTRING ((731514.605 5705171.469, 7314...</td>\n",
       "    </tr>\n",
       "    <tr>\n",
       "      <th>27</th>\n",
       "      <td>5</td>\n",
       "      <td>0.624398</td>\n",
       "      <td>0.611378</td>\n",
       "      <td>-0.013021</td>\n",
       "      <td>mar</td>\n",
       "      <td>MULTILINESTRING ((731516.749 5705191.354, 7314...</td>\n",
       "    </tr>\n",
       "    <tr>\n",
       "      <th>28</th>\n",
       "      <td>6</td>\n",
       "      <td>0.703238</td>\n",
       "      <td>0.823743</td>\n",
       "      <td>0.120505</td>\n",
       "      <td>mar</td>\n",
       "      <td>MULTILINESTRING ((731518.785 5705210.340, 7314...</td>\n",
       "    </tr>\n",
       "    <tr>\n",
       "      <th>29</th>\n",
       "      <td>7</td>\n",
       "      <td>0.539687</td>\n",
       "      <td>0.803206</td>\n",
       "      <td>0.263519</td>\n",
       "      <td>mar</td>\n",
       "      <td>MULTILINESTRING ((731521.351 5705227.262, 7314...</td>\n",
       "    </tr>\n",
       "    <tr>\n",
       "      <th>30</th>\n",
       "      <td>8</td>\n",
       "      <td>0.626317</td>\n",
       "      <td>0.844343</td>\n",
       "      <td>0.218026</td>\n",
       "      <td>mar</td>\n",
       "      <td>MULTILINESTRING ((731525.857 5705244.754, 7314...</td>\n",
       "    </tr>\n",
       "    <tr>\n",
       "      <th>31</th>\n",
       "      <td>9</td>\n",
       "      <td>0.676055</td>\n",
       "      <td>0.804395</td>\n",
       "      <td>0.128340</td>\n",
       "      <td>mar</td>\n",
       "      <td>MULTILINESTRING ((731530.795 5705264.135, 7314...</td>\n",
       "    </tr>\n",
       "    <tr>\n",
       "      <th>32</th>\n",
       "      <td>10</td>\n",
       "      <td>0.649000</td>\n",
       "      <td>0.831896</td>\n",
       "      <td>0.182896</td>\n",
       "      <td>mar</td>\n",
       "      <td>MULTILINESTRING ((731535.734 5705283.516, 7314...</td>\n",
       "    </tr>\n",
       "    <tr>\n",
       "      <th>33</th>\n",
       "      <td>11</td>\n",
       "      <td>0.694563</td>\n",
       "      <td>0.843859</td>\n",
       "      <td>0.149296</td>\n",
       "      <td>mar</td>\n",
       "      <td>MULTILINESTRING ((731540.659 5705302.846, 7314...</td>\n",
       "    </tr>\n",
       "    <tr>\n",
       "      <th>34</th>\n",
       "      <td>12</td>\n",
       "      <td>0.700018</td>\n",
       "      <td>0.831897</td>\n",
       "      <td>0.131878</td>\n",
       "      <td>mar</td>\n",
       "      <td>MULTILINESTRING ((731544.821 5705319.413, 7314...</td>\n",
       "    </tr>\n",
       "    <tr>\n",
       "      <th>35</th>\n",
       "      <td>13</td>\n",
       "      <td>0.695280</td>\n",
       "      <td>0.871220</td>\n",
       "      <td>0.175941</td>\n",
       "      <td>mar</td>\n",
       "      <td>MULTILINESTRING ((731551.516 5705335.190, 7314...</td>\n",
       "    </tr>\n",
       "    <tr>\n",
       "      <th>36</th>\n",
       "      <td>14</td>\n",
       "      <td>0.731891</td>\n",
       "      <td>0.815379</td>\n",
       "      <td>0.083488</td>\n",
       "      <td>mar</td>\n",
       "      <td>MULTILINESTRING ((731559.218 5705353.648, 7314...</td>\n",
       "    </tr>\n",
       "    <tr>\n",
       "      <th>37</th>\n",
       "      <td>15</td>\n",
       "      <td>0.696533</td>\n",
       "      <td>0.767450</td>\n",
       "      <td>0.070917</td>\n",
       "      <td>mar</td>\n",
       "      <td>MULTILINESTRING ((731566.920 5705372.105, 7314...</td>\n",
       "    </tr>\n",
       "    <tr>\n",
       "      <th>38</th>\n",
       "      <td>16</td>\n",
       "      <td>0.668420</td>\n",
       "      <td>0.838188</td>\n",
       "      <td>0.169769</td>\n",
       "      <td>mar</td>\n",
       "      <td>MULTILINESTRING ((731574.622 5705390.563, 7315...</td>\n",
       "    </tr>\n",
       "    <tr>\n",
       "      <th>39</th>\n",
       "      <td>17</td>\n",
       "      <td>0.580813</td>\n",
       "      <td>0.847779</td>\n",
       "      <td>0.266966</td>\n",
       "      <td>mar</td>\n",
       "      <td>MULTILINESTRING ((731582.324 5705409.020, 7315...</td>\n",
       "    </tr>\n",
       "    <tr>\n",
       "      <th>40</th>\n",
       "      <td>18</td>\n",
       "      <td>0.656841</td>\n",
       "      <td>0.785591</td>\n",
       "      <td>0.128750</td>\n",
       "      <td>mar</td>\n",
       "      <td>MULTILINESTRING ((731590.027 5705427.477, 7315...</td>\n",
       "    </tr>\n",
       "    <tr>\n",
       "      <th>41</th>\n",
       "      <td>19</td>\n",
       "      <td>0.591574</td>\n",
       "      <td>0.876783</td>\n",
       "      <td>0.285209</td>\n",
       "      <td>mar</td>\n",
       "      <td>MULTILINESTRING ((731596.497 5705443.265, 7315...</td>\n",
       "    </tr>\n",
       "    <tr>\n",
       "      <th>42</th>\n",
       "      <td>20</td>\n",
       "      <td>0.632054</td>\n",
       "      <td>0.768536</td>\n",
       "      <td>0.136482</td>\n",
       "      <td>mar</td>\n",
       "      <td>MULTILINESTRING ((731605.216 5705457.524, 7315...</td>\n",
       "    </tr>\n",
       "    <tr>\n",
       "      <th>43</th>\n",
       "      <td>21</td>\n",
       "      <td>0.674469</td>\n",
       "      <td>0.719388</td>\n",
       "      <td>0.044919</td>\n",
       "      <td>mar</td>\n",
       "      <td>MULTILINESTRING ((731615.645 5705474.209, 7315...</td>\n",
       "    </tr>\n",
       "    <tr>\n",
       "      <th>44</th>\n",
       "      <td>22</td>\n",
       "      <td>0.721648</td>\n",
       "      <td>0.633763</td>\n",
       "      <td>-0.087885</td>\n",
       "      <td>mar</td>\n",
       "      <td>MULTILINESTRING ((731626.245 5705491.168, 7315...</td>\n",
       "    </tr>\n",
       "    <tr>\n",
       "      <th>45</th>\n",
       "      <td>23</td>\n",
       "      <td>0.655592</td>\n",
       "      <td>0.646420</td>\n",
       "      <td>-0.009172</td>\n",
       "      <td>mar</td>\n",
       "      <td>MULTILINESTRING ((731636.613 5705507.762, 7315...</td>\n",
       "    </tr>\n",
       "    <tr>\n",
       "      <th>46</th>\n",
       "      <td>24</td>\n",
       "      <td>0.729897</td>\n",
       "      <td>0.831377</td>\n",
       "      <td>0.101480</td>\n",
       "      <td>mar</td>\n",
       "      <td>MULTILINESTRING ((731646.904 5705523.469, 7316...</td>\n",
       "    </tr>\n",
       "  </tbody>\n",
       "</table>\n",
       "</div>"
      ],
      "text/plain": [
       "markov_tag  tr_id   erosion  deposition  residual location  \\\n",
       "0              45  0.797168    0.791961 -0.005207      leo   \n",
       "1              46  0.788544    0.830032  0.041488      leo   \n",
       "2              47  0.669716    0.773256  0.103539      leo   \n",
       "3              48  0.749860    0.795782  0.045922      leo   \n",
       "4              49  0.738382    0.840372  0.101989      leo   \n",
       "5              50  0.874611    0.720929 -0.153682      leo   \n",
       "6              51  0.952226    0.716851 -0.235374      leo   \n",
       "7              52  0.813245    0.755008 -0.058237      leo   \n",
       "8              53  0.711310    0.796813  0.085503      leo   \n",
       "9              54  0.659353    0.697326  0.037973      leo   \n",
       "10             55  0.627270    0.659762  0.032492      leo   \n",
       "11             56  0.748164    0.676427 -0.071737      leo   \n",
       "12             57  0.684406    0.783011  0.098605      leo   \n",
       "13             58  0.830002    0.793112 -0.036890      leo   \n",
       "14             59  0.960714    0.801190 -0.159524      leo   \n",
       "15             60  0.891213    0.780937 -0.110275      leo   \n",
       "16             61  0.909164    0.654485 -0.254679      leo   \n",
       "17             62  0.837521    0.664548 -0.172973      leo   \n",
       "18             63  0.879676    0.776621 -0.103054      leo   \n",
       "19             64  0.888480    0.763478 -0.125002      leo   \n",
       "20             65  0.871737    0.772958 -0.098779      leo   \n",
       "21             66  0.837804    0.798476 -0.039328      leo   \n",
       "22             67  0.885643    0.780556 -0.105088      leo   \n",
       "23             68  0.895056    0.816833 -0.078223      leo   \n",
       "24             69  0.782239    0.677220 -0.105019      leo   \n",
       "25              3  0.575920    0.643411  0.067491      mar   \n",
       "26              4  0.535433    0.663351  0.127919      mar   \n",
       "27              5  0.624398    0.611378 -0.013021      mar   \n",
       "28              6  0.703238    0.823743  0.120505      mar   \n",
       "29              7  0.539687    0.803206  0.263519      mar   \n",
       "30              8  0.626317    0.844343  0.218026      mar   \n",
       "31              9  0.676055    0.804395  0.128340      mar   \n",
       "32             10  0.649000    0.831896  0.182896      mar   \n",
       "33             11  0.694563    0.843859  0.149296      mar   \n",
       "34             12  0.700018    0.831897  0.131878      mar   \n",
       "35             13  0.695280    0.871220  0.175941      mar   \n",
       "36             14  0.731891    0.815379  0.083488      mar   \n",
       "37             15  0.696533    0.767450  0.070917      mar   \n",
       "38             16  0.668420    0.838188  0.169769      mar   \n",
       "39             17  0.580813    0.847779  0.266966      mar   \n",
       "40             18  0.656841    0.785591  0.128750      mar   \n",
       "41             19  0.591574    0.876783  0.285209      mar   \n",
       "42             20  0.632054    0.768536  0.136482      mar   \n",
       "43             21  0.674469    0.719388  0.044919      mar   \n",
       "44             22  0.721648    0.633763 -0.087885      mar   \n",
       "45             23  0.655592    0.646420 -0.009172      mar   \n",
       "46             24  0.729897    0.831377  0.101480      mar   \n",
       "\n",
       "markov_tag                                           geometry  \n",
       "0           LINESTRING (299877.680 5773692.109, 299927.368...  \n",
       "1           LINESTRING (299875.449 5773711.984, 299925.137...  \n",
       "2           LINESTRING (299873.218 5773731.860, 299922.906...  \n",
       "3           LINESTRING (299870.987 5773751.735, 299920.675...  \n",
       "4           LINESTRING (299869.467 5773772.681, 299919.339...  \n",
       "5           LINESTRING (299868.295 5773792.997, 299918.212...  \n",
       "6           LINESTRING (299867.146 5773812.964, 299917.063...  \n",
       "7           LINESTRING (299865.996 5773832.931, 299915.914...  \n",
       "8           LINESTRING (299864.847 5773852.898, 299914.765...  \n",
       "9           LINESTRING (299863.698 5773872.865, 299913.615...  \n",
       "10          LINESTRING (299862.549 5773892.832, 299912.466...  \n",
       "11          LINESTRING (299861.400 5773912.799, 299911.317...  \n",
       "12          LINESTRING (299861.400 5773912.799, 299911.317...  \n",
       "13          LINESTRING (299860.251 5773932.766, 299910.168...  \n",
       "14                                                       None  \n",
       "15                                                       None  \n",
       "16                                                       None  \n",
       "17                                                       None  \n",
       "18                                                       None  \n",
       "19                                                       None  \n",
       "20                                                       None  \n",
       "21                                                       None  \n",
       "22                                                       None  \n",
       "23                                                       None  \n",
       "24                                                       None  \n",
       "25          MULTILINESTRING ((731512.461 5705151.584, 7314...  \n",
       "26          MULTILINESTRING ((731514.605 5705171.469, 7314...  \n",
       "27          MULTILINESTRING ((731516.749 5705191.354, 7314...  \n",
       "28          MULTILINESTRING ((731518.785 5705210.340, 7314...  \n",
       "29          MULTILINESTRING ((731521.351 5705227.262, 7314...  \n",
       "30          MULTILINESTRING ((731525.857 5705244.754, 7314...  \n",
       "31          MULTILINESTRING ((731530.795 5705264.135, 7314...  \n",
       "32          MULTILINESTRING ((731535.734 5705283.516, 7314...  \n",
       "33          MULTILINESTRING ((731540.659 5705302.846, 7314...  \n",
       "34          MULTILINESTRING ((731544.821 5705319.413, 7314...  \n",
       "35          MULTILINESTRING ((731551.516 5705335.190, 7314...  \n",
       "36          MULTILINESTRING ((731559.218 5705353.648, 7314...  \n",
       "37          MULTILINESTRING ((731566.920 5705372.105, 7314...  \n",
       "38          MULTILINESTRING ((731574.622 5705390.563, 7315...  \n",
       "39          MULTILINESTRING ((731582.324 5705409.020, 7315...  \n",
       "40          MULTILINESTRING ((731590.027 5705427.477, 7315...  \n",
       "41          MULTILINESTRING ((731596.497 5705443.265, 7315...  \n",
       "42          MULTILINESTRING ((731605.216 5705457.524, 7315...  \n",
       "43          MULTILINESTRING ((731615.645 5705474.209, 7315...  \n",
       "44          MULTILINESTRING ((731626.245 5705491.168, 7315...  \n",
       "45          MULTILINESTRING ((731636.613 5705507.762, 7315...  \n",
       "46          MULTILINESTRING ((731646.904 5705523.469, 7316...  "
      ]
     },
     "execution_count": 237,
     "metadata": {},
     "output_type": "execute_result"
    }
   ],
   "source": [
    "ss_transects_idx = pd.DataFrame()\n",
    "idx_matrix=len(label_order)//2\n",
    "\n",
    "\n",
    "for loc in steady_state_tr.location.unique():\n",
    "\n",
    "    sub = steady_state_tr.query(f\"location=='{loc}'\")\n",
    "    sub = sub.pivot(index=\"markov_tag\", columns=\"tr_id\", values=(\"p\"))\n",
    "    sub = sub.loc[label_order, :]\n",
    "      \n",
    "    # Create erosion and deposition sub-matrix\n",
    "    erosion = sub.iloc[idx_matrix:, :].transpose()\n",
    "    erosion[\"erosion\"] = erosion.sum(axis=1)\n",
    "    erosion=erosion.reset_index()[[\"tr_id\",\"erosion\"]]\n",
    "\n",
    "    deposition = sub.iloc[:-idx_matrix, :].transpose()\n",
    "    deposition[\"deposition\"] = deposition.sum(axis=1)\n",
    "    deposition=deposition.reset_index()[[\"tr_id\",\"deposition\"]]\n",
    "    merged_erodepo=pd.merge(erosion, deposition)\n",
    "    \n",
    "    merged_erodepo[\"residual\"] = merged_erodepo.deposition - merged_erodepo.erosion\n",
    "    merged_erodepo[\"location\"] = loc\n",
    "    \n",
    "    to_plot = merged_erodepo.melt(\n",
    "        id_vars=[\"tr_id\"], var_name=\"process\", value_name=\"coastal_index\"\n",
    "    )\n",
    "    to_plot[\"location\"] = loc\n",
    "\n",
    "    coastal_markov_trs_steady = attach_trs_geometry(\n",
    "        to_plot, dirNameTrans, list_loc_codes=loc_codes\n",
    "    )\n",
    "\n",
    "\n",
    "    path_trs=glob.glob(f\"{dirNameTrans}\\{loc}*\")[0]\n",
    "    transect_in = gpd.read_file(path_trs)\n",
    "    transect_in.columns= transect_in.columns.str.lower()\n",
    "\n",
    "    merged_erodepo[\"geometry\"] = pd.merge(\n",
    "                merged_erodepo, transect_in[[\"tr_id\",\"geometry\"]], how=\"left\", on=\"tr_id\"\n",
    "            ).geometry\n",
    "\n",
    "    ss_transects_idx_loc = gpd.GeoDataFrame(\n",
    "                    merged_erodepo, geometry=\"geometry\", crs=crs_dict_string[loc]\n",
    "                )\n",
    "    ss_transects_idx=pd.concat([ss_transects_idx_loc,ss_transects_idx], ignore_index=True)\n",
    "ss_transects_idx"
   ]
  },
  {
   "cell_type": "code",
   "execution_count": 241,
   "id": "d6b9ea36",
   "metadata": {},
   "outputs": [
    {
     "name": "stderr",
     "output_type": "stream",
     "text": [
      "C:\\conda3\\envs\\sandpyper_env\\lib\\site-packages\\geopandas\\geodataframe.py:422: RuntimeWarning: Sequential read of iterator was interrupted. Resetting iterator. This can negatively impact the performance.\n",
      "  for feature in features_lst:\n"
     ]
    },
    {
     "data": {
      "text/html": [
       "<div>\n",
       "<style scoped>\n",
       "    .dataframe tbody tr th:only-of-type {\n",
       "        vertical-align: middle;\n",
       "    }\n",
       "\n",
       "    .dataframe tbody tr th {\n",
       "        vertical-align: top;\n",
       "    }\n",
       "\n",
       "    .dataframe thead th {\n",
       "        text-align: right;\n",
       "    }\n",
       "</style>\n",
       "<table border=\"1\" class=\"dataframe\">\n",
       "  <thead>\n",
       "    <tr style=\"text-align: right;\">\n",
       "      <th></th>\n",
       "      <th>tr_id</th>\n",
       "      <th>location</th>\n",
       "      <th>geometry</th>\n",
       "    </tr>\n",
       "  </thead>\n",
       "  <tbody>\n",
       "    <tr>\n",
       "      <th>0</th>\n",
       "      <td>0</td>\n",
       "      <td>leo</td>\n",
       "      <td>LINESTRING (300166.471 5772833.267, 300206.279...</td>\n",
       "    </tr>\n",
       "    <tr>\n",
       "      <th>1</th>\n",
       "      <td>1</td>\n",
       "      <td>leo</td>\n",
       "      <td>LINESTRING (300154.369 5772849.190, 300194.177...</td>\n",
       "    </tr>\n",
       "    <tr>\n",
       "      <th>2</th>\n",
       "      <td>2</td>\n",
       "      <td>leo</td>\n",
       "      <td>LINESTRING (300142.267 5772865.113, 300182.075...</td>\n",
       "    </tr>\n",
       "    <tr>\n",
       "      <th>3</th>\n",
       "      <td>3</td>\n",
       "      <td>leo</td>\n",
       "      <td>LINESTRING (300130.166 5772881.037, 300169.974...</td>\n",
       "    </tr>\n",
       "    <tr>\n",
       "      <th>4</th>\n",
       "      <td>4</td>\n",
       "      <td>leo</td>\n",
       "      <td>LINESTRING (300119.411 5772904.944, 300165.639...</td>\n",
       "    </tr>\n",
       "    <tr>\n",
       "      <th>5</th>\n",
       "      <td>5</td>\n",
       "      <td>leo</td>\n",
       "      <td>LINESTRING (300112.575 5772925.781, 300160.136...</td>\n",
       "    </tr>\n",
       "    <tr>\n",
       "      <th>6</th>\n",
       "      <td>6</td>\n",
       "      <td>leo</td>\n",
       "      <td>LINESTRING (300106.259 5772944.393, 300153.608...</td>\n",
       "    </tr>\n",
       "    <tr>\n",
       "      <th>7</th>\n",
       "      <td>7</td>\n",
       "      <td>leo</td>\n",
       "      <td>LINESTRING (300099.076 5772960.959, 300145.034...</td>\n",
       "    </tr>\n",
       "    <tr>\n",
       "      <th>8</th>\n",
       "      <td>8</td>\n",
       "      <td>leo</td>\n",
       "      <td>LINESTRING (300091.198 5772979.342, 300137.155...</td>\n",
       "    </tr>\n",
       "    <tr>\n",
       "      <th>9</th>\n",
       "      <td>9</td>\n",
       "      <td>leo</td>\n",
       "      <td>LINESTRING (300083.320 5772997.725, 300129.277...</td>\n",
       "    </tr>\n",
       "    <tr>\n",
       "      <th>10</th>\n",
       "      <td>10</td>\n",
       "      <td>leo</td>\n",
       "      <td>LINESTRING (300075.441 5773016.108, 300121.399...</td>\n",
       "    </tr>\n",
       "    <tr>\n",
       "      <th>11</th>\n",
       "      <td>11</td>\n",
       "      <td>leo</td>\n",
       "      <td>LINESTRING (300067.563 5773034.491, 300113.520...</td>\n",
       "    </tr>\n",
       "    <tr>\n",
       "      <th>12</th>\n",
       "      <td>12</td>\n",
       "      <td>leo</td>\n",
       "      <td>LINESTRING (300059.685 5773052.873, 300105.642...</td>\n",
       "    </tr>\n",
       "    <tr>\n",
       "      <th>13</th>\n",
       "      <td>13</td>\n",
       "      <td>leo</td>\n",
       "      <td>LINESTRING (300052.413 5773073.123, 300099.508...</td>\n",
       "    </tr>\n",
       "    <tr>\n",
       "      <th>14</th>\n",
       "      <td>14</td>\n",
       "      <td>leo</td>\n",
       "      <td>LINESTRING (300046.483 5773094.013, 300094.620...</td>\n",
       "    </tr>\n",
       "    <tr>\n",
       "      <th>15</th>\n",
       "      <td>15</td>\n",
       "      <td>leo</td>\n",
       "      <td>LINESTRING (300041.075 5773113.268, 300089.212...</td>\n",
       "    </tr>\n",
       "    <tr>\n",
       "      <th>16</th>\n",
       "      <td>16</td>\n",
       "      <td>leo</td>\n",
       "      <td>LINESTRING (300035.666 5773132.523, 300083.803...</td>\n",
       "    </tr>\n",
       "    <tr>\n",
       "      <th>17</th>\n",
       "      <td>17</td>\n",
       "      <td>leo</td>\n",
       "      <td>LINESTRING (300030.258 5773151.778, 300078.394...</td>\n",
       "    </tr>\n",
       "    <tr>\n",
       "      <th>18</th>\n",
       "      <td>18</td>\n",
       "      <td>leo</td>\n",
       "      <td>LINESTRING (300024.849 5773171.033, 300072.986...</td>\n",
       "    </tr>\n",
       "    <tr>\n",
       "      <th>19</th>\n",
       "      <td>19</td>\n",
       "      <td>leo</td>\n",
       "      <td>LINESTRING (300019.742 5773190.952, 300068.180...</td>\n",
       "    </tr>\n",
       "    <tr>\n",
       "      <th>20</th>\n",
       "      <td>20</td>\n",
       "      <td>leo</td>\n",
       "      <td>LINESTRING (300015.786 5773212.358, 300064.980...</td>\n",
       "    </tr>\n",
       "    <tr>\n",
       "      <th>21</th>\n",
       "      <td>21</td>\n",
       "      <td>leo</td>\n",
       "      <td>LINESTRING (300012.209 5773232.035, 300061.402...</td>\n",
       "    </tr>\n",
       "    <tr>\n",
       "      <th>22</th>\n",
       "      <td>22</td>\n",
       "      <td>leo</td>\n",
       "      <td>LINESTRING (300008.631 5773251.713, 300057.824...</td>\n",
       "    </tr>\n",
       "    <tr>\n",
       "      <th>23</th>\n",
       "      <td>23</td>\n",
       "      <td>leo</td>\n",
       "      <td>LINESTRING (300003.749 5773268.513, 300051.854...</td>\n",
       "    </tr>\n",
       "    <tr>\n",
       "      <th>24</th>\n",
       "      <td>24</td>\n",
       "      <td>leo</td>\n",
       "      <td>LINESTRING (299997.162 5773284.615, 300043.586...</td>\n",
       "    </tr>\n",
       "    <tr>\n",
       "      <th>25</th>\n",
       "      <td>25</td>\n",
       "      <td>leo</td>\n",
       "      <td>LINESTRING (299989.734 5773303.184, 300036.158...</td>\n",
       "    </tr>\n",
       "    <tr>\n",
       "      <th>26</th>\n",
       "      <td>26</td>\n",
       "      <td>leo</td>\n",
       "      <td>LINESTRING (299982.306 5773321.754, 300028.730...</td>\n",
       "    </tr>\n",
       "    <tr>\n",
       "      <th>27</th>\n",
       "      <td>27</td>\n",
       "      <td>leo</td>\n",
       "      <td>LINESTRING (299974.878 5773340.324, 300021.302...</td>\n",
       "    </tr>\n",
       "    <tr>\n",
       "      <th>28</th>\n",
       "      <td>28</td>\n",
       "      <td>leo</td>\n",
       "      <td>LINESTRING (299967.450 5773358.893, 300013.874...</td>\n",
       "    </tr>\n",
       "    <tr>\n",
       "      <th>29</th>\n",
       "      <td>29</td>\n",
       "      <td>leo</td>\n",
       "      <td>LINESTRING (299960.023 5773377.463, 300006.446...</td>\n",
       "    </tr>\n",
       "    <tr>\n",
       "      <th>30</th>\n",
       "      <td>30</td>\n",
       "      <td>leo</td>\n",
       "      <td>LINESTRING (299952.595 5773396.032, 299999.019...</td>\n",
       "    </tr>\n",
       "    <tr>\n",
       "      <th>31</th>\n",
       "      <td>31</td>\n",
       "      <td>leo</td>\n",
       "      <td>LINESTRING (299945.167 5773414.602, 299991.591...</td>\n",
       "    </tr>\n",
       "    <tr>\n",
       "      <th>32</th>\n",
       "      <td>32</td>\n",
       "      <td>leo</td>\n",
       "      <td>LINESTRING (299937.739 5773433.171, 299984.163...</td>\n",
       "    </tr>\n",
       "    <tr>\n",
       "      <th>33</th>\n",
       "      <td>33</td>\n",
       "      <td>leo</td>\n",
       "      <td>LINESTRING (299930.311 5773451.741, 299976.735...</td>\n",
       "    </tr>\n",
       "    <tr>\n",
       "      <th>34</th>\n",
       "      <td>34</td>\n",
       "      <td>leo</td>\n",
       "      <td>LINESTRING (299923.206 5773471.248, 299970.196...</td>\n",
       "    </tr>\n",
       "    <tr>\n",
       "      <th>35</th>\n",
       "      <td>35</td>\n",
       "      <td>leo</td>\n",
       "      <td>LINESTRING (299917.624 5773493.190, 299966.157...</td>\n",
       "    </tr>\n",
       "    <tr>\n",
       "      <th>36</th>\n",
       "      <td>36</td>\n",
       "      <td>leo</td>\n",
       "      <td>LINESTRING (299912.814 5773512.603, 299961.346...</td>\n",
       "    </tr>\n",
       "    <tr>\n",
       "      <th>37</th>\n",
       "      <td>37</td>\n",
       "      <td>leo</td>\n",
       "      <td>LINESTRING (299908.004 5773532.016, 299956.536...</td>\n",
       "    </tr>\n",
       "    <tr>\n",
       "      <th>38</th>\n",
       "      <td>38</td>\n",
       "      <td>leo</td>\n",
       "      <td>LINESTRING (299903.194 5773551.429, 299951.726...</td>\n",
       "    </tr>\n",
       "    <tr>\n",
       "      <th>39</th>\n",
       "      <td>39</td>\n",
       "      <td>leo</td>\n",
       "      <td>LINESTRING (299898.383 5773570.842, 299946.916...</td>\n",
       "    </tr>\n",
       "    <tr>\n",
       "      <th>40</th>\n",
       "      <td>40</td>\n",
       "      <td>leo</td>\n",
       "      <td>LINESTRING (299893.573 5773590.255, 299942.105...</td>\n",
       "    </tr>\n",
       "    <tr>\n",
       "      <th>41</th>\n",
       "      <td>41</td>\n",
       "      <td>leo</td>\n",
       "      <td>LINESTRING (299888.763 5773609.668, 299937.295...</td>\n",
       "    </tr>\n",
       "    <tr>\n",
       "      <th>42</th>\n",
       "      <td>42</td>\n",
       "      <td>leo</td>\n",
       "      <td>LINESTRING (299884.677 5773630.497, 299933.756...</td>\n",
       "    </tr>\n",
       "    <tr>\n",
       "      <th>43</th>\n",
       "      <td>43</td>\n",
       "      <td>leo</td>\n",
       "      <td>LINESTRING (299882.142 5773652.359, 299931.829...</td>\n",
       "    </tr>\n",
       "    <tr>\n",
       "      <th>44</th>\n",
       "      <td>44</td>\n",
       "      <td>leo</td>\n",
       "      <td>LINESTRING (299879.911 5773672.234, 299929.599...</td>\n",
       "    </tr>\n",
       "    <tr>\n",
       "      <th>45</th>\n",
       "      <td>45</td>\n",
       "      <td>leo</td>\n",
       "      <td>LINESTRING (299877.680 5773692.109, 299927.368...</td>\n",
       "    </tr>\n",
       "    <tr>\n",
       "      <th>46</th>\n",
       "      <td>46</td>\n",
       "      <td>leo</td>\n",
       "      <td>LINESTRING (299875.449 5773711.984, 299925.137...</td>\n",
       "    </tr>\n",
       "    <tr>\n",
       "      <th>47</th>\n",
       "      <td>47</td>\n",
       "      <td>leo</td>\n",
       "      <td>LINESTRING (299873.218 5773731.860, 299922.906...</td>\n",
       "    </tr>\n",
       "    <tr>\n",
       "      <th>48</th>\n",
       "      <td>48</td>\n",
       "      <td>leo</td>\n",
       "      <td>LINESTRING (299870.987 5773751.735, 299920.675...</td>\n",
       "    </tr>\n",
       "    <tr>\n",
       "      <th>49</th>\n",
       "      <td>49</td>\n",
       "      <td>leo</td>\n",
       "      <td>LINESTRING (299869.467 5773772.681, 299919.339...</td>\n",
       "    </tr>\n",
       "    <tr>\n",
       "      <th>50</th>\n",
       "      <td>50</td>\n",
       "      <td>leo</td>\n",
       "      <td>LINESTRING (299868.295 5773792.997, 299918.212...</td>\n",
       "    </tr>\n",
       "    <tr>\n",
       "      <th>51</th>\n",
       "      <td>51</td>\n",
       "      <td>leo</td>\n",
       "      <td>LINESTRING (299867.146 5773812.964, 299917.063...</td>\n",
       "    </tr>\n",
       "    <tr>\n",
       "      <th>52</th>\n",
       "      <td>52</td>\n",
       "      <td>leo</td>\n",
       "      <td>LINESTRING (299865.996 5773832.931, 299915.914...</td>\n",
       "    </tr>\n",
       "    <tr>\n",
       "      <th>53</th>\n",
       "      <td>53</td>\n",
       "      <td>leo</td>\n",
       "      <td>LINESTRING (299864.847 5773852.898, 299914.765...</td>\n",
       "    </tr>\n",
       "    <tr>\n",
       "      <th>54</th>\n",
       "      <td>54</td>\n",
       "      <td>leo</td>\n",
       "      <td>LINESTRING (299863.698 5773872.865, 299913.615...</td>\n",
       "    </tr>\n",
       "    <tr>\n",
       "      <th>55</th>\n",
       "      <td>55</td>\n",
       "      <td>leo</td>\n",
       "      <td>LINESTRING (299862.549 5773892.832, 299912.466...</td>\n",
       "    </tr>\n",
       "    <tr>\n",
       "      <th>56</th>\n",
       "      <td>56</td>\n",
       "      <td>leo</td>\n",
       "      <td>LINESTRING (299861.400 5773912.799, 299911.317...</td>\n",
       "    </tr>\n",
       "    <tr>\n",
       "      <th>57</th>\n",
       "      <td>57</td>\n",
       "      <td>leo</td>\n",
       "      <td>LINESTRING (299861.400 5773912.799, 299911.317...</td>\n",
       "    </tr>\n",
       "    <tr>\n",
       "      <th>58</th>\n",
       "      <td>58</td>\n",
       "      <td>leo</td>\n",
       "      <td>LINESTRING (299860.251 5773932.766, 299910.168...</td>\n",
       "    </tr>\n",
       "  </tbody>\n",
       "</table>\n",
       "</div>"
      ],
      "text/plain": [
       "    tr_id location                                           geometry\n",
       "0       0      leo  LINESTRING (300166.471 5772833.267, 300206.279...\n",
       "1       1      leo  LINESTRING (300154.369 5772849.190, 300194.177...\n",
       "2       2      leo  LINESTRING (300142.267 5772865.113, 300182.075...\n",
       "3       3      leo  LINESTRING (300130.166 5772881.037, 300169.974...\n",
       "4       4      leo  LINESTRING (300119.411 5772904.944, 300165.639...\n",
       "5       5      leo  LINESTRING (300112.575 5772925.781, 300160.136...\n",
       "6       6      leo  LINESTRING (300106.259 5772944.393, 300153.608...\n",
       "7       7      leo  LINESTRING (300099.076 5772960.959, 300145.034...\n",
       "8       8      leo  LINESTRING (300091.198 5772979.342, 300137.155...\n",
       "9       9      leo  LINESTRING (300083.320 5772997.725, 300129.277...\n",
       "10     10      leo  LINESTRING (300075.441 5773016.108, 300121.399...\n",
       "11     11      leo  LINESTRING (300067.563 5773034.491, 300113.520...\n",
       "12     12      leo  LINESTRING (300059.685 5773052.873, 300105.642...\n",
       "13     13      leo  LINESTRING (300052.413 5773073.123, 300099.508...\n",
       "14     14      leo  LINESTRING (300046.483 5773094.013, 300094.620...\n",
       "15     15      leo  LINESTRING (300041.075 5773113.268, 300089.212...\n",
       "16     16      leo  LINESTRING (300035.666 5773132.523, 300083.803...\n",
       "17     17      leo  LINESTRING (300030.258 5773151.778, 300078.394...\n",
       "18     18      leo  LINESTRING (300024.849 5773171.033, 300072.986...\n",
       "19     19      leo  LINESTRING (300019.742 5773190.952, 300068.180...\n",
       "20     20      leo  LINESTRING (300015.786 5773212.358, 300064.980...\n",
       "21     21      leo  LINESTRING (300012.209 5773232.035, 300061.402...\n",
       "22     22      leo  LINESTRING (300008.631 5773251.713, 300057.824...\n",
       "23     23      leo  LINESTRING (300003.749 5773268.513, 300051.854...\n",
       "24     24      leo  LINESTRING (299997.162 5773284.615, 300043.586...\n",
       "25     25      leo  LINESTRING (299989.734 5773303.184, 300036.158...\n",
       "26     26      leo  LINESTRING (299982.306 5773321.754, 300028.730...\n",
       "27     27      leo  LINESTRING (299974.878 5773340.324, 300021.302...\n",
       "28     28      leo  LINESTRING (299967.450 5773358.893, 300013.874...\n",
       "29     29      leo  LINESTRING (299960.023 5773377.463, 300006.446...\n",
       "30     30      leo  LINESTRING (299952.595 5773396.032, 299999.019...\n",
       "31     31      leo  LINESTRING (299945.167 5773414.602, 299991.591...\n",
       "32     32      leo  LINESTRING (299937.739 5773433.171, 299984.163...\n",
       "33     33      leo  LINESTRING (299930.311 5773451.741, 299976.735...\n",
       "34     34      leo  LINESTRING (299923.206 5773471.248, 299970.196...\n",
       "35     35      leo  LINESTRING (299917.624 5773493.190, 299966.157...\n",
       "36     36      leo  LINESTRING (299912.814 5773512.603, 299961.346...\n",
       "37     37      leo  LINESTRING (299908.004 5773532.016, 299956.536...\n",
       "38     38      leo  LINESTRING (299903.194 5773551.429, 299951.726...\n",
       "39     39      leo  LINESTRING (299898.383 5773570.842, 299946.916...\n",
       "40     40      leo  LINESTRING (299893.573 5773590.255, 299942.105...\n",
       "41     41      leo  LINESTRING (299888.763 5773609.668, 299937.295...\n",
       "42     42      leo  LINESTRING (299884.677 5773630.497, 299933.756...\n",
       "43     43      leo  LINESTRING (299882.142 5773652.359, 299931.829...\n",
       "44     44      leo  LINESTRING (299879.911 5773672.234, 299929.599...\n",
       "45     45      leo  LINESTRING (299877.680 5773692.109, 299927.368...\n",
       "46     46      leo  LINESTRING (299875.449 5773711.984, 299925.137...\n",
       "47     47      leo  LINESTRING (299873.218 5773731.860, 299922.906...\n",
       "48     48      leo  LINESTRING (299870.987 5773751.735, 299920.675...\n",
       "49     49      leo  LINESTRING (299869.467 5773772.681, 299919.339...\n",
       "50     50      leo  LINESTRING (299868.295 5773792.997, 299918.212...\n",
       "51     51      leo  LINESTRING (299867.146 5773812.964, 299917.063...\n",
       "52     52      leo  LINESTRING (299865.996 5773832.931, 299915.914...\n",
       "53     53      leo  LINESTRING (299864.847 5773852.898, 299914.765...\n",
       "54     54      leo  LINESTRING (299863.698 5773872.865, 299913.615...\n",
       "55     55      leo  LINESTRING (299862.549 5773892.832, 299912.466...\n",
       "56     56      leo  LINESTRING (299861.400 5773912.799, 299911.317...\n",
       "57     57      leo  LINESTRING (299861.400 5773912.799, 299911.317...\n",
       "58     58      leo  LINESTRING (299860.251 5773932.766, 299910.168..."
      ]
     },
     "execution_count": 241,
     "metadata": {},
     "output_type": "execute_result"
    }
   ],
   "source": [
    "path_trs=glob.glob(f\"{dirNameTrans}\\{loc}*\")[0]\n",
    "transect_in = gpd.read_file(path_trs)\n",
    "transect_in.columns= transect_in.columns.str.lower()\n",
    "transect_in"
   ]
  },
  {
   "cell_type": "code",
   "execution_count": 240,
   "id": "f120a20b",
   "metadata": {},
   "outputs": [
    {
     "data": {
      "text/html": [
       "<div>\n",
       "<style scoped>\n",
       "    .dataframe tbody tr th:only-of-type {\n",
       "        vertical-align: middle;\n",
       "    }\n",
       "\n",
       "    .dataframe tbody tr th {\n",
       "        vertical-align: top;\n",
       "    }\n",
       "\n",
       "    .dataframe thead th {\n",
       "        text-align: right;\n",
       "    }\n",
       "</style>\n",
       "<table border=\"1\" class=\"dataframe\">\n",
       "  <thead>\n",
       "    <tr style=\"text-align: right;\">\n",
       "      <th>markov_tag</th>\n",
       "      <th>tr_id</th>\n",
       "      <th>erosion</th>\n",
       "      <th>deposition</th>\n",
       "      <th>residual</th>\n",
       "      <th>location</th>\n",
       "      <th>geometry</th>\n",
       "    </tr>\n",
       "  </thead>\n",
       "  <tbody>\n",
       "    <tr>\n",
       "      <th>0</th>\n",
       "      <td>45</td>\n",
       "      <td>0.797168</td>\n",
       "      <td>0.791961</td>\n",
       "      <td>-0.005207</td>\n",
       "      <td>leo</td>\n",
       "      <td>LINESTRING (299877.680 5773692.109, 299927.368...</td>\n",
       "    </tr>\n",
       "    <tr>\n",
       "      <th>1</th>\n",
       "      <td>46</td>\n",
       "      <td>0.788544</td>\n",
       "      <td>0.830032</td>\n",
       "      <td>0.041488</td>\n",
       "      <td>leo</td>\n",
       "      <td>LINESTRING (299875.449 5773711.984, 299925.137...</td>\n",
       "    </tr>\n",
       "    <tr>\n",
       "      <th>2</th>\n",
       "      <td>47</td>\n",
       "      <td>0.669716</td>\n",
       "      <td>0.773256</td>\n",
       "      <td>0.103539</td>\n",
       "      <td>leo</td>\n",
       "      <td>LINESTRING (299873.218 5773731.860, 299922.906...</td>\n",
       "    </tr>\n",
       "    <tr>\n",
       "      <th>3</th>\n",
       "      <td>48</td>\n",
       "      <td>0.749860</td>\n",
       "      <td>0.795782</td>\n",
       "      <td>0.045922</td>\n",
       "      <td>leo</td>\n",
       "      <td>LINESTRING (299870.987 5773751.735, 299920.675...</td>\n",
       "    </tr>\n",
       "    <tr>\n",
       "      <th>4</th>\n",
       "      <td>49</td>\n",
       "      <td>0.738382</td>\n",
       "      <td>0.840372</td>\n",
       "      <td>0.101989</td>\n",
       "      <td>leo</td>\n",
       "      <td>LINESTRING (299869.467 5773772.681, 299919.339...</td>\n",
       "    </tr>\n",
       "    <tr>\n",
       "      <th>5</th>\n",
       "      <td>50</td>\n",
       "      <td>0.874611</td>\n",
       "      <td>0.720929</td>\n",
       "      <td>-0.153682</td>\n",
       "      <td>leo</td>\n",
       "      <td>LINESTRING (299868.295 5773792.997, 299918.212...</td>\n",
       "    </tr>\n",
       "    <tr>\n",
       "      <th>6</th>\n",
       "      <td>51</td>\n",
       "      <td>0.952226</td>\n",
       "      <td>0.716851</td>\n",
       "      <td>-0.235374</td>\n",
       "      <td>leo</td>\n",
       "      <td>LINESTRING (299867.146 5773812.964, 299917.063...</td>\n",
       "    </tr>\n",
       "    <tr>\n",
       "      <th>7</th>\n",
       "      <td>52</td>\n",
       "      <td>0.813245</td>\n",
       "      <td>0.755008</td>\n",
       "      <td>-0.058237</td>\n",
       "      <td>leo</td>\n",
       "      <td>LINESTRING (299865.996 5773832.931, 299915.914...</td>\n",
       "    </tr>\n",
       "    <tr>\n",
       "      <th>8</th>\n",
       "      <td>53</td>\n",
       "      <td>0.711310</td>\n",
       "      <td>0.796813</td>\n",
       "      <td>0.085503</td>\n",
       "      <td>leo</td>\n",
       "      <td>LINESTRING (299864.847 5773852.898, 299914.765...</td>\n",
       "    </tr>\n",
       "    <tr>\n",
       "      <th>9</th>\n",
       "      <td>54</td>\n",
       "      <td>0.659353</td>\n",
       "      <td>0.697326</td>\n",
       "      <td>0.037973</td>\n",
       "      <td>leo</td>\n",
       "      <td>LINESTRING (299863.698 5773872.865, 299913.615...</td>\n",
       "    </tr>\n",
       "    <tr>\n",
       "      <th>10</th>\n",
       "      <td>55</td>\n",
       "      <td>0.627270</td>\n",
       "      <td>0.659762</td>\n",
       "      <td>0.032492</td>\n",
       "      <td>leo</td>\n",
       "      <td>LINESTRING (299862.549 5773892.832, 299912.466...</td>\n",
       "    </tr>\n",
       "    <tr>\n",
       "      <th>11</th>\n",
       "      <td>56</td>\n",
       "      <td>0.748164</td>\n",
       "      <td>0.676427</td>\n",
       "      <td>-0.071737</td>\n",
       "      <td>leo</td>\n",
       "      <td>LINESTRING (299861.400 5773912.799, 299911.317...</td>\n",
       "    </tr>\n",
       "    <tr>\n",
       "      <th>12</th>\n",
       "      <td>57</td>\n",
       "      <td>0.684406</td>\n",
       "      <td>0.783011</td>\n",
       "      <td>0.098605</td>\n",
       "      <td>leo</td>\n",
       "      <td>LINESTRING (299861.400 5773912.799, 299911.317...</td>\n",
       "    </tr>\n",
       "    <tr>\n",
       "      <th>13</th>\n",
       "      <td>58</td>\n",
       "      <td>0.830002</td>\n",
       "      <td>0.793112</td>\n",
       "      <td>-0.036890</td>\n",
       "      <td>leo</td>\n",
       "      <td>LINESTRING (299860.251 5773932.766, 299910.168...</td>\n",
       "    </tr>\n",
       "    <tr>\n",
       "      <th>14</th>\n",
       "      <td>59</td>\n",
       "      <td>0.960714</td>\n",
       "      <td>0.801190</td>\n",
       "      <td>-0.159524</td>\n",
       "      <td>leo</td>\n",
       "      <td>None</td>\n",
       "    </tr>\n",
       "    <tr>\n",
       "      <th>15</th>\n",
       "      <td>60</td>\n",
       "      <td>0.891213</td>\n",
       "      <td>0.780937</td>\n",
       "      <td>-0.110275</td>\n",
       "      <td>leo</td>\n",
       "      <td>None</td>\n",
       "    </tr>\n",
       "    <tr>\n",
       "      <th>16</th>\n",
       "      <td>61</td>\n",
       "      <td>0.909164</td>\n",
       "      <td>0.654485</td>\n",
       "      <td>-0.254679</td>\n",
       "      <td>leo</td>\n",
       "      <td>None</td>\n",
       "    </tr>\n",
       "    <tr>\n",
       "      <th>17</th>\n",
       "      <td>62</td>\n",
       "      <td>0.837521</td>\n",
       "      <td>0.664548</td>\n",
       "      <td>-0.172973</td>\n",
       "      <td>leo</td>\n",
       "      <td>None</td>\n",
       "    </tr>\n",
       "    <tr>\n",
       "      <th>18</th>\n",
       "      <td>63</td>\n",
       "      <td>0.879676</td>\n",
       "      <td>0.776621</td>\n",
       "      <td>-0.103054</td>\n",
       "      <td>leo</td>\n",
       "      <td>None</td>\n",
       "    </tr>\n",
       "    <tr>\n",
       "      <th>19</th>\n",
       "      <td>64</td>\n",
       "      <td>0.888480</td>\n",
       "      <td>0.763478</td>\n",
       "      <td>-0.125002</td>\n",
       "      <td>leo</td>\n",
       "      <td>None</td>\n",
       "    </tr>\n",
       "    <tr>\n",
       "      <th>20</th>\n",
       "      <td>65</td>\n",
       "      <td>0.871737</td>\n",
       "      <td>0.772958</td>\n",
       "      <td>-0.098779</td>\n",
       "      <td>leo</td>\n",
       "      <td>None</td>\n",
       "    </tr>\n",
       "    <tr>\n",
       "      <th>21</th>\n",
       "      <td>66</td>\n",
       "      <td>0.837804</td>\n",
       "      <td>0.798476</td>\n",
       "      <td>-0.039328</td>\n",
       "      <td>leo</td>\n",
       "      <td>None</td>\n",
       "    </tr>\n",
       "    <tr>\n",
       "      <th>22</th>\n",
       "      <td>67</td>\n",
       "      <td>0.885643</td>\n",
       "      <td>0.780556</td>\n",
       "      <td>-0.105088</td>\n",
       "      <td>leo</td>\n",
       "      <td>None</td>\n",
       "    </tr>\n",
       "    <tr>\n",
       "      <th>23</th>\n",
       "      <td>68</td>\n",
       "      <td>0.895056</td>\n",
       "      <td>0.816833</td>\n",
       "      <td>-0.078223</td>\n",
       "      <td>leo</td>\n",
       "      <td>None</td>\n",
       "    </tr>\n",
       "    <tr>\n",
       "      <th>24</th>\n",
       "      <td>69</td>\n",
       "      <td>0.782239</td>\n",
       "      <td>0.677220</td>\n",
       "      <td>-0.105019</td>\n",
       "      <td>leo</td>\n",
       "      <td>None</td>\n",
       "    </tr>\n",
       "  </tbody>\n",
       "</table>\n",
       "</div>"
      ],
      "text/plain": [
       "markov_tag  tr_id   erosion  deposition  residual location  \\\n",
       "0              45  0.797168    0.791961 -0.005207      leo   \n",
       "1              46  0.788544    0.830032  0.041488      leo   \n",
       "2              47  0.669716    0.773256  0.103539      leo   \n",
       "3              48  0.749860    0.795782  0.045922      leo   \n",
       "4              49  0.738382    0.840372  0.101989      leo   \n",
       "5              50  0.874611    0.720929 -0.153682      leo   \n",
       "6              51  0.952226    0.716851 -0.235374      leo   \n",
       "7              52  0.813245    0.755008 -0.058237      leo   \n",
       "8              53  0.711310    0.796813  0.085503      leo   \n",
       "9              54  0.659353    0.697326  0.037973      leo   \n",
       "10             55  0.627270    0.659762  0.032492      leo   \n",
       "11             56  0.748164    0.676427 -0.071737      leo   \n",
       "12             57  0.684406    0.783011  0.098605      leo   \n",
       "13             58  0.830002    0.793112 -0.036890      leo   \n",
       "14             59  0.960714    0.801190 -0.159524      leo   \n",
       "15             60  0.891213    0.780937 -0.110275      leo   \n",
       "16             61  0.909164    0.654485 -0.254679      leo   \n",
       "17             62  0.837521    0.664548 -0.172973      leo   \n",
       "18             63  0.879676    0.776621 -0.103054      leo   \n",
       "19             64  0.888480    0.763478 -0.125002      leo   \n",
       "20             65  0.871737    0.772958 -0.098779      leo   \n",
       "21             66  0.837804    0.798476 -0.039328      leo   \n",
       "22             67  0.885643    0.780556 -0.105088      leo   \n",
       "23             68  0.895056    0.816833 -0.078223      leo   \n",
       "24             69  0.782239    0.677220 -0.105019      leo   \n",
       "\n",
       "markov_tag                                           geometry  \n",
       "0           LINESTRING (299877.680 5773692.109, 299927.368...  \n",
       "1           LINESTRING (299875.449 5773711.984, 299925.137...  \n",
       "2           LINESTRING (299873.218 5773731.860, 299922.906...  \n",
       "3           LINESTRING (299870.987 5773751.735, 299920.675...  \n",
       "4           LINESTRING (299869.467 5773772.681, 299919.339...  \n",
       "5           LINESTRING (299868.295 5773792.997, 299918.212...  \n",
       "6           LINESTRING (299867.146 5773812.964, 299917.063...  \n",
       "7           LINESTRING (299865.996 5773832.931, 299915.914...  \n",
       "8           LINESTRING (299864.847 5773852.898, 299914.765...  \n",
       "9           LINESTRING (299863.698 5773872.865, 299913.615...  \n",
       "10          LINESTRING (299862.549 5773892.832, 299912.466...  \n",
       "11          LINESTRING (299861.400 5773912.799, 299911.317...  \n",
       "12          LINESTRING (299861.400 5773912.799, 299911.317...  \n",
       "13          LINESTRING (299860.251 5773932.766, 299910.168...  \n",
       "14                                                       None  \n",
       "15                                                       None  \n",
       "16                                                       None  \n",
       "17                                                       None  \n",
       "18                                                       None  \n",
       "19                                                       None  \n",
       "20                                                       None  \n",
       "21                                                       None  \n",
       "22                                                       None  \n",
       "23                                                       None  \n",
       "24                                                       None  "
      ]
     },
     "execution_count": 240,
     "metadata": {},
     "output_type": "execute_result"
    }
   ],
   "source": [
    "merged_erodepo"
   ]
  },
  {
   "cell_type": "code",
   "execution_count": null,
   "id": "7619fc12",
   "metadata": {},
   "outputs": [],
   "source": []
  },
  {
   "cell_type": "code",
   "execution_count": null,
   "id": "f434d10d",
   "metadata": {},
   "outputs": [],
   "source": []
  },
  {
   "cell_type": "code",
   "execution_count": null,
   "id": "aca2168e",
   "metadata": {},
   "outputs": [],
   "source": []
  },
  {
   "cell_type": "code",
   "execution_count": null,
   "id": "2d59e089",
   "metadata": {},
   "outputs": [],
   "source": []
  },
  {
   "cell_type": "code",
   "execution_count": 99,
   "id": "3cb85c9b",
   "metadata": {
    "scrolled": true
   },
   "outputs": [
    {
     "data": {
      "application/vnd.jupyter.widget-view+json": {
       "model_id": "fb22b2f61ab64d689503c2762b49a84a",
       "version_major": 2,
       "version_minor": 0
      },
      "text/plain": [
       "  0%|          | 0/1 [00:00<?, ?it/s]"
      ]
     },
     "metadata": {},
     "output_type": "display_data"
    },
    {
     "name": "stdout",
     "output_type": "stream",
     "text": [
      "Threshold of points per transect 10 not reached. It has 14 points.\n",
      "Threshold of points per transect 24 not reached. It has 0 points.\n",
      "tr_id 24 has not enough points. Go ahead...\n",
      "Threshold of points per transect 5 not reached. It has 0 points.\n",
      "tr_id 5 has not enough points. Go ahead...\n",
      "Threshold of points per transect 4 not reached. It has 0 points.\n",
      "tr_id 4 has not enough points. Go ahead...\n",
      "Threshold of points per transect 3 not reached. It has 0 points.\n",
      "tr_id 3 has not enough points. Go ahead...\n",
      "eliminating unreliable transects . . . \n"
     ]
    },
    {
     "data": {
      "text/html": [
       "<div>\n",
       "<style scoped>\n",
       "    .dataframe tbody tr th:only-of-type {\n",
       "        vertical-align: middle;\n",
       "    }\n",
       "\n",
       "    .dataframe tbody tr th {\n",
       "        vertical-align: top;\n",
       "    }\n",
       "\n",
       "    .dataframe thead th {\n",
       "        text-align: right;\n",
       "    }\n",
       "</style>\n",
       "<table border=\"1\" class=\"dataframe\">\n",
       "  <thead>\n",
       "    <tr style=\"text-align: right;\">\n",
       "      <th></th>\n",
       "      <th>markov_tag</th>\n",
       "      <th>tr_id</th>\n",
       "      <th>p</th>\n",
       "      <th>location</th>\n",
       "      <th>thresh</th>\n",
       "      <th>min_pts</th>\n",
       "      <th>valid_pts</th>\n",
       "    </tr>\n",
       "  </thead>\n",
       "  <tbody>\n",
       "    <tr>\n",
       "      <th>0</th>\n",
       "      <td>ed</td>\n",
       "      <td>7</td>\n",
       "      <td>0.019709</td>\n",
       "      <td>mar</td>\n",
       "      <td>7</td>\n",
       "      <td>20</td>\n",
       "      <td>68</td>\n",
       "    </tr>\n",
       "    <tr>\n",
       "      <th>1</th>\n",
       "      <td>ee</td>\n",
       "      <td>7</td>\n",
       "      <td>0.025622</td>\n",
       "      <td>mar</td>\n",
       "      <td>7</td>\n",
       "      <td>20</td>\n",
       "      <td>68</td>\n",
       "    </tr>\n",
       "    <tr>\n",
       "      <th>2</th>\n",
       "      <td>hd</td>\n",
       "      <td>7</td>\n",
       "      <td>0.013796</td>\n",
       "      <td>mar</td>\n",
       "      <td>7</td>\n",
       "      <td>20</td>\n",
       "      <td>68</td>\n",
       "    </tr>\n",
       "    <tr>\n",
       "      <th>3</th>\n",
       "      <td>he</td>\n",
       "      <td>7</td>\n",
       "      <td>0.007884</td>\n",
       "      <td>mar</td>\n",
       "      <td>7</td>\n",
       "      <td>20</td>\n",
       "      <td>68</td>\n",
       "    </tr>\n",
       "    <tr>\n",
       "      <th>4</th>\n",
       "      <td>md</td>\n",
       "      <td>7</td>\n",
       "      <td>0.073959</td>\n",
       "      <td>mar</td>\n",
       "      <td>7</td>\n",
       "      <td>20</td>\n",
       "      <td>68</td>\n",
       "    </tr>\n",
       "    <tr>\n",
       "      <th>...</th>\n",
       "      <td>...</td>\n",
       "      <td>...</td>\n",
       "      <td>...</td>\n",
       "      <td>...</td>\n",
       "      <td>...</td>\n",
       "      <td>...</td>\n",
       "      <td>...</td>\n",
       "    </tr>\n",
       "    <tr>\n",
       "      <th>154</th>\n",
       "      <td>nnn</td>\n",
       "      <td>20</td>\n",
       "      <td>0.140533</td>\n",
       "      <td>mar</td>\n",
       "      <td>7</td>\n",
       "      <td>20</td>\n",
       "      <td>31</td>\n",
       "    </tr>\n",
       "    <tr>\n",
       "      <th>155</th>\n",
       "      <td>sd</td>\n",
       "      <td>20</td>\n",
       "      <td>0.082767</td>\n",
       "      <td>mar</td>\n",
       "      <td>7</td>\n",
       "      <td>20</td>\n",
       "      <td>31</td>\n",
       "    </tr>\n",
       "    <tr>\n",
       "      <th>156</th>\n",
       "      <td>se</td>\n",
       "      <td>20</td>\n",
       "      <td>0.011735</td>\n",
       "      <td>mar</td>\n",
       "      <td>7</td>\n",
       "      <td>20</td>\n",
       "      <td>31</td>\n",
       "    </tr>\n",
       "    <tr>\n",
       "      <th>157</th>\n",
       "      <td>ud</td>\n",
       "      <td>20</td>\n",
       "      <td>0.179821</td>\n",
       "      <td>mar</td>\n",
       "      <td>7</td>\n",
       "      <td>20</td>\n",
       "      <td>31</td>\n",
       "    </tr>\n",
       "    <tr>\n",
       "      <th>158</th>\n",
       "      <td>ue</td>\n",
       "      <td>20</td>\n",
       "      <td>0.150194</td>\n",
       "      <td>mar</td>\n",
       "      <td>7</td>\n",
       "      <td>20</td>\n",
       "      <td>31</td>\n",
       "    </tr>\n",
       "  </tbody>\n",
       "</table>\n",
       "<p>151 rows × 7 columns</p>\n",
       "</div>"
      ],
      "text/plain": [
       "    markov_tag tr_id         p location  thresh  min_pts  valid_pts\n",
       "0           ed     7  0.019709      mar       7       20         68\n",
       "1           ee     7  0.025622      mar       7       20         68\n",
       "2           hd     7  0.013796      mar       7       20         68\n",
       "3           he     7  0.007884      mar       7       20         68\n",
       "4           md     7  0.073959      mar       7       20         68\n",
       "..         ...   ...       ...      ...     ...      ...        ...\n",
       "154        nnn    20  0.140533      mar       7       20         31\n",
       "155         sd    20  0.082767      mar       7       20         31\n",
       "156         se    20  0.011735      mar       7       20         31\n",
       "157         ud    20  0.179821      mar       7       20         31\n",
       "158         ue    20  0.150194      mar       7       20         31\n",
       "\n",
       "[151 rows x 7 columns]"
      ]
     },
     "execution_count": 99,
     "metadata": {},
     "output_type": "execute_result"
    }
   ],
   "source": [
    "thresh=7\n",
    "min_points=20\n",
    "\n",
    "ss_tr=steady_state_transect(dataset_mar,\n",
    "                            field_unique_id='geometry',\n",
    "                            min_points=min_points,\n",
    "                            thresh=thresh,\n",
    "                            mode='nnn',\n",
    "                            unreal=\"drop\"\n",
    "                           )\n",
    "ss_tr"
   ]
  },
  {
   "cell_type": "code",
   "execution_count": 8,
   "id": "bb37d3e2",
   "metadata": {},
   "outputs": [
    {
     "data": {
      "text/html": [
       "<div>\n",
       "<style scoped>\n",
       "    .dataframe tbody tr th:only-of-type {\n",
       "        vertical-align: middle;\n",
       "    }\n",
       "\n",
       "    .dataframe tbody tr th {\n",
       "        vertical-align: top;\n",
       "    }\n",
       "\n",
       "    .dataframe thead th {\n",
       "        text-align: right;\n",
       "    }\n",
       "</style>\n",
       "<table border=\"1\" class=\"dataframe\">\n",
       "  <thead>\n",
       "    <tr style=\"text-align: right;\">\n",
       "      <th></th>\n",
       "      <th>markov_tag</th>\n",
       "      <th>tr_id</th>\n",
       "      <th>p</th>\n",
       "      <th>location</th>\n",
       "      <th>thresh</th>\n",
       "      <th>min_pts</th>\n",
       "      <th>valid_pts</th>\n",
       "    </tr>\n",
       "  </thead>\n",
       "  <tbody>\n",
       "    <tr>\n",
       "      <th>0</th>\n",
       "      <td>ed</td>\n",
       "      <td>7</td>\n",
       "      <td>0.019709</td>\n",
       "      <td>mar</td>\n",
       "      <td>7</td>\n",
       "      <td>20</td>\n",
       "      <td>68</td>\n",
       "    </tr>\n",
       "    <tr>\n",
       "      <th>1</th>\n",
       "      <td>ee</td>\n",
       "      <td>7</td>\n",
       "      <td>0.025622</td>\n",
       "      <td>mar</td>\n",
       "      <td>7</td>\n",
       "      <td>20</td>\n",
       "      <td>68</td>\n",
       "    </tr>\n",
       "    <tr>\n",
       "      <th>2</th>\n",
       "      <td>hd</td>\n",
       "      <td>7</td>\n",
       "      <td>0.013796</td>\n",
       "      <td>mar</td>\n",
       "      <td>7</td>\n",
       "      <td>20</td>\n",
       "      <td>68</td>\n",
       "    </tr>\n",
       "    <tr>\n",
       "      <th>3</th>\n",
       "      <td>he</td>\n",
       "      <td>7</td>\n",
       "      <td>0.007884</td>\n",
       "      <td>mar</td>\n",
       "      <td>7</td>\n",
       "      <td>20</td>\n",
       "      <td>68</td>\n",
       "    </tr>\n",
       "    <tr>\n",
       "      <th>4</th>\n",
       "      <td>md</td>\n",
       "      <td>7</td>\n",
       "      <td>0.073959</td>\n",
       "      <td>mar</td>\n",
       "      <td>7</td>\n",
       "      <td>20</td>\n",
       "      <td>68</td>\n",
       "    </tr>\n",
       "    <tr>\n",
       "      <th>...</th>\n",
       "      <td>...</td>\n",
       "      <td>...</td>\n",
       "      <td>...</td>\n",
       "      <td>...</td>\n",
       "      <td>...</td>\n",
       "      <td>...</td>\n",
       "      <td>...</td>\n",
       "    </tr>\n",
       "    <tr>\n",
       "      <th>154</th>\n",
       "      <td>nnn</td>\n",
       "      <td>20</td>\n",
       "      <td>0.140533</td>\n",
       "      <td>mar</td>\n",
       "      <td>7</td>\n",
       "      <td>20</td>\n",
       "      <td>31</td>\n",
       "    </tr>\n",
       "    <tr>\n",
       "      <th>155</th>\n",
       "      <td>sd</td>\n",
       "      <td>20</td>\n",
       "      <td>0.082767</td>\n",
       "      <td>mar</td>\n",
       "      <td>7</td>\n",
       "      <td>20</td>\n",
       "      <td>31</td>\n",
       "    </tr>\n",
       "    <tr>\n",
       "      <th>156</th>\n",
       "      <td>se</td>\n",
       "      <td>20</td>\n",
       "      <td>0.011735</td>\n",
       "      <td>mar</td>\n",
       "      <td>7</td>\n",
       "      <td>20</td>\n",
       "      <td>31</td>\n",
       "    </tr>\n",
       "    <tr>\n",
       "      <th>157</th>\n",
       "      <td>ud</td>\n",
       "      <td>20</td>\n",
       "      <td>0.179821</td>\n",
       "      <td>mar</td>\n",
       "      <td>7</td>\n",
       "      <td>20</td>\n",
       "      <td>31</td>\n",
       "    </tr>\n",
       "    <tr>\n",
       "      <th>158</th>\n",
       "      <td>ue</td>\n",
       "      <td>20</td>\n",
       "      <td>0.150194</td>\n",
       "      <td>mar</td>\n",
       "      <td>7</td>\n",
       "      <td>20</td>\n",
       "      <td>31</td>\n",
       "    </tr>\n",
       "  </tbody>\n",
       "</table>\n",
       "<p>151 rows × 7 columns</p>\n",
       "</div>"
      ],
      "text/plain": [
       "    markov_tag tr_id         p location  thresh  min_pts  valid_pts\n",
       "0           ed     7  0.019709      mar       7       20         68\n",
       "1           ee     7  0.025622      mar       7       20         68\n",
       "2           hd     7  0.013796      mar       7       20         68\n",
       "3           he     7  0.007884      mar       7       20         68\n",
       "4           md     7  0.073959      mar       7       20         68\n",
       "..         ...   ...       ...      ...     ...      ...        ...\n",
       "154        nnn    20  0.140533      mar       7       20         31\n",
       "155         sd    20  0.082767      mar       7       20         31\n",
       "156         se    20  0.011735      mar       7       20         31\n",
       "157         ud    20  0.179821      mar       7       20         31\n",
       "158         ue    20  0.150194      mar       7       20         31\n",
       "\n",
       "[151 rows x 7 columns]"
      ]
     },
     "execution_count": 8,
     "metadata": {},
     "output_type": "execute_result"
    }
   ],
   "source": [
    "ss_tr"
   ]
  },
  {
   "cell_type": "code",
   "execution_count": 114,
   "id": "82119627",
   "metadata": {
    "scrolled": false
   },
   "outputs": [
    {
     "name": "stderr",
     "output_type": "stream",
     "text": [
      "C:\\conda3\\envs\\sandpyper_env\\lib\\site-packages\\geopandas\\geodataframe.py:422: RuntimeWarning: Sequential read of iterator was interrupted. Resetting iterator. This can negatively impact the performance.\n",
      "  for feature in features_lst:\n",
      "C:\\conda3\\envs\\sandpyper_env\\lib\\site-packages\\geopandas\\geodataframe.py:422: RuntimeWarning: Sequential read of iterator was interrupted. Resetting iterator. This can negatively impact the performance.\n",
      "  for feature in features_lst:\n"
     ]
    },
    {
     "data": {
      "image/png": "[encoded data removed]",
      "text/plain": [
       "<Figure size 1440x1440 with 1 Axes>"
      ]
     },
     "metadata": {
      "needs_background": "light"
     },
     "output_type": "display_data"
    }
   ],
   "source": [
    "f,ax= plt.subplots(figsize=(20,20))\n",
    "\n",
    "ss_transects_idx,idx_table=compute_rBCD_transects(dirNameTrans=dirNameTrans,label_order=label_order,\n",
    "                                                  crs_dict_string=crs_dict_string,\n",
    "                                                steady_state_tr=steady_state_tr,weights_dict=weights_dict,\n",
    "                                                loc='mar')\n",
    "\n",
    "ss_transects_idx.plot(column='residual', ax=ax, cmap='seismic_r');"
   ]
  },
  {
   "cell_type": "code",
   "execution_count": 246,
   "id": "331bc0d4",
   "metadata": {},
   "outputs": [
    {
     "data": {
      "text/html": [
       "<div>\n",
       "<style scoped>\n",
       "    .dataframe tbody tr th:only-of-type {\n",
       "        vertical-align: middle;\n",
       "    }\n",
       "\n",
       "    .dataframe tbody tr th {\n",
       "        vertical-align: top;\n",
       "    }\n",
       "\n",
       "    .dataframe thead th {\n",
       "        text-align: right;\n",
       "    }\n",
       "</style>\n",
       "<table border=\"1\" class=\"dataframe\">\n",
       "  <thead>\n",
       "    <tr style=\"text-align: right;\">\n",
       "      <th></th>\n",
       "      <th>tr_id</th>\n",
       "      <th>erosion</th>\n",
       "      <th>deposition</th>\n",
       "      <th>residual</th>\n",
       "      <th>location</th>\n",
       "      <th>geometry</th>\n",
       "      <th>n_dt_x</th>\n",
       "      <th>n_dt_y</th>\n",
       "      <th>n_dt_x</th>\n",
       "      <th>n_dt_y</th>\n",
       "    </tr>\n",
       "  </thead>\n",
       "  <tbody>\n",
       "    <tr>\n",
       "      <th>0</th>\n",
       "      <td>45</td>\n",
       "      <td>0.797168</td>\n",
       "      <td>0.791961</td>\n",
       "      <td>-0.005207</td>\n",
       "      <td>leo</td>\n",
       "      <td>LINESTRING (299877.680 5773692.109, 299927.368...</td>\n",
       "      <td>NaN</td>\n",
       "      <td>6</td>\n",
       "      <td>6</td>\n",
       "      <td>6</td>\n",
       "    </tr>\n",
       "    <tr>\n",
       "      <th>1</th>\n",
       "      <td>46</td>\n",
       "      <td>0.788544</td>\n",
       "      <td>0.830032</td>\n",
       "      <td>0.041488</td>\n",
       "      <td>leo</td>\n",
       "      <td>LINESTRING (299875.449 5773711.984, 299925.137...</td>\n",
       "      <td>NaN</td>\n",
       "      <td>6</td>\n",
       "      <td>6</td>\n",
       "      <td>6</td>\n",
       "    </tr>\n",
       "    <tr>\n",
       "      <th>2</th>\n",
       "      <td>47</td>\n",
       "      <td>0.669716</td>\n",
       "      <td>0.773256</td>\n",
       "      <td>0.103539</td>\n",
       "      <td>leo</td>\n",
       "      <td>LINESTRING (299873.218 5773731.860, 299922.906...</td>\n",
       "      <td>NaN</td>\n",
       "      <td>6</td>\n",
       "      <td>6</td>\n",
       "      <td>6</td>\n",
       "    </tr>\n",
       "    <tr>\n",
       "      <th>3</th>\n",
       "      <td>48</td>\n",
       "      <td>0.749860</td>\n",
       "      <td>0.795782</td>\n",
       "      <td>0.045922</td>\n",
       "      <td>leo</td>\n",
       "      <td>LINESTRING (299870.987 5773751.735, 299920.675...</td>\n",
       "      <td>NaN</td>\n",
       "      <td>6</td>\n",
       "      <td>6</td>\n",
       "      <td>6</td>\n",
       "    </tr>\n",
       "    <tr>\n",
       "      <th>4</th>\n",
       "      <td>49</td>\n",
       "      <td>0.738382</td>\n",
       "      <td>0.840372</td>\n",
       "      <td>0.101989</td>\n",
       "      <td>leo</td>\n",
       "      <td>LINESTRING (299869.467 5773772.681, 299919.339...</td>\n",
       "      <td>NaN</td>\n",
       "      <td>6</td>\n",
       "      <td>6</td>\n",
       "      <td>6</td>\n",
       "    </tr>\n",
       "    <tr>\n",
       "      <th>5</th>\n",
       "      <td>50</td>\n",
       "      <td>0.874611</td>\n",
       "      <td>0.720929</td>\n",
       "      <td>-0.153682</td>\n",
       "      <td>leo</td>\n",
       "      <td>LINESTRING (299868.295 5773792.997, 299918.212...</td>\n",
       "      <td>NaN</td>\n",
       "      <td>6</td>\n",
       "      <td>6</td>\n",
       "      <td>6</td>\n",
       "    </tr>\n",
       "    <tr>\n",
       "      <th>6</th>\n",
       "      <td>51</td>\n",
       "      <td>0.952226</td>\n",
       "      <td>0.716851</td>\n",
       "      <td>-0.235374</td>\n",
       "      <td>leo</td>\n",
       "      <td>LINESTRING (299867.146 5773812.964, 299917.063...</td>\n",
       "      <td>NaN</td>\n",
       "      <td>6</td>\n",
       "      <td>6</td>\n",
       "      <td>6</td>\n",
       "    </tr>\n",
       "    <tr>\n",
       "      <th>7</th>\n",
       "      <td>52</td>\n",
       "      <td>0.813245</td>\n",
       "      <td>0.755008</td>\n",
       "      <td>-0.058237</td>\n",
       "      <td>leo</td>\n",
       "      <td>LINESTRING (299865.996 5773832.931, 299915.914...</td>\n",
       "      <td>NaN</td>\n",
       "      <td>6</td>\n",
       "      <td>6</td>\n",
       "      <td>6</td>\n",
       "    </tr>\n",
       "    <tr>\n",
       "      <th>8</th>\n",
       "      <td>53</td>\n",
       "      <td>0.711310</td>\n",
       "      <td>0.796813</td>\n",
       "      <td>0.085503</td>\n",
       "      <td>leo</td>\n",
       "      <td>LINESTRING (299864.847 5773852.898, 299914.765...</td>\n",
       "      <td>NaN</td>\n",
       "      <td>6</td>\n",
       "      <td>6</td>\n",
       "      <td>6</td>\n",
       "    </tr>\n",
       "    <tr>\n",
       "      <th>9</th>\n",
       "      <td>54</td>\n",
       "      <td>0.659353</td>\n",
       "      <td>0.697326</td>\n",
       "      <td>0.037973</td>\n",
       "      <td>leo</td>\n",
       "      <td>LINESTRING (299863.698 5773872.865, 299913.615...</td>\n",
       "      <td>NaN</td>\n",
       "      <td>6</td>\n",
       "      <td>6</td>\n",
       "      <td>6</td>\n",
       "    </tr>\n",
       "    <tr>\n",
       "      <th>10</th>\n",
       "      <td>55</td>\n",
       "      <td>0.627270</td>\n",
       "      <td>0.659762</td>\n",
       "      <td>0.032492</td>\n",
       "      <td>leo</td>\n",
       "      <td>LINESTRING (299862.549 5773892.832, 299912.466...</td>\n",
       "      <td>NaN</td>\n",
       "      <td>6</td>\n",
       "      <td>6</td>\n",
       "      <td>6</td>\n",
       "    </tr>\n",
       "    <tr>\n",
       "      <th>11</th>\n",
       "      <td>56</td>\n",
       "      <td>0.748164</td>\n",
       "      <td>0.676427</td>\n",
       "      <td>-0.071737</td>\n",
       "      <td>leo</td>\n",
       "      <td>LINESTRING (299861.400 5773912.799, 299911.317...</td>\n",
       "      <td>NaN</td>\n",
       "      <td>6</td>\n",
       "      <td>6</td>\n",
       "      <td>6</td>\n",
       "    </tr>\n",
       "    <tr>\n",
       "      <th>12</th>\n",
       "      <td>57</td>\n",
       "      <td>0.684406</td>\n",
       "      <td>0.783011</td>\n",
       "      <td>0.098605</td>\n",
       "      <td>leo</td>\n",
       "      <td>LINESTRING (299861.400 5773912.799, 299911.317...</td>\n",
       "      <td>NaN</td>\n",
       "      <td>6</td>\n",
       "      <td>6</td>\n",
       "      <td>6</td>\n",
       "    </tr>\n",
       "    <tr>\n",
       "      <th>13</th>\n",
       "      <td>58</td>\n",
       "      <td>0.830002</td>\n",
       "      <td>0.793112</td>\n",
       "      <td>-0.036890</td>\n",
       "      <td>leo</td>\n",
       "      <td>LINESTRING (299860.251 5773932.766, 299910.168...</td>\n",
       "      <td>NaN</td>\n",
       "      <td>6</td>\n",
       "      <td>6</td>\n",
       "      <td>6</td>\n",
       "    </tr>\n",
       "    <tr>\n",
       "      <th>14</th>\n",
       "      <td>59</td>\n",
       "      <td>0.960714</td>\n",
       "      <td>0.801190</td>\n",
       "      <td>-0.159524</td>\n",
       "      <td>leo</td>\n",
       "      <td>None</td>\n",
       "      <td>NaN</td>\n",
       "      <td>6</td>\n",
       "      <td>6</td>\n",
       "      <td>6</td>\n",
       "    </tr>\n",
       "    <tr>\n",
       "      <th>15</th>\n",
       "      <td>60</td>\n",
       "      <td>0.891213</td>\n",
       "      <td>0.780937</td>\n",
       "      <td>-0.110275</td>\n",
       "      <td>leo</td>\n",
       "      <td>None</td>\n",
       "      <td>NaN</td>\n",
       "      <td>6</td>\n",
       "      <td>6</td>\n",
       "      <td>6</td>\n",
       "    </tr>\n",
       "    <tr>\n",
       "      <th>16</th>\n",
       "      <td>61</td>\n",
       "      <td>0.909164</td>\n",
       "      <td>0.654485</td>\n",
       "      <td>-0.254679</td>\n",
       "      <td>leo</td>\n",
       "      <td>None</td>\n",
       "      <td>NaN</td>\n",
       "      <td>6</td>\n",
       "      <td>6</td>\n",
       "      <td>6</td>\n",
       "    </tr>\n",
       "    <tr>\n",
       "      <th>17</th>\n",
       "      <td>62</td>\n",
       "      <td>0.837521</td>\n",
       "      <td>0.664548</td>\n",
       "      <td>-0.172973</td>\n",
       "      <td>leo</td>\n",
       "      <td>None</td>\n",
       "      <td>NaN</td>\n",
       "      <td>6</td>\n",
       "      <td>6</td>\n",
       "      <td>6</td>\n",
       "    </tr>\n",
       "    <tr>\n",
       "      <th>18</th>\n",
       "      <td>63</td>\n",
       "      <td>0.879676</td>\n",
       "      <td>0.776621</td>\n",
       "      <td>-0.103054</td>\n",
       "      <td>leo</td>\n",
       "      <td>None</td>\n",
       "      <td>NaN</td>\n",
       "      <td>6</td>\n",
       "      <td>6</td>\n",
       "      <td>6</td>\n",
       "    </tr>\n",
       "    <tr>\n",
       "      <th>19</th>\n",
       "      <td>64</td>\n",
       "      <td>0.888480</td>\n",
       "      <td>0.763478</td>\n",
       "      <td>-0.125002</td>\n",
       "      <td>leo</td>\n",
       "      <td>None</td>\n",
       "      <td>NaN</td>\n",
       "      <td>6</td>\n",
       "      <td>6</td>\n",
       "      <td>6</td>\n",
       "    </tr>\n",
       "    <tr>\n",
       "      <th>20</th>\n",
       "      <td>65</td>\n",
       "      <td>0.871737</td>\n",
       "      <td>0.772958</td>\n",
       "      <td>-0.098779</td>\n",
       "      <td>leo</td>\n",
       "      <td>None</td>\n",
       "      <td>NaN</td>\n",
       "      <td>6</td>\n",
       "      <td>6</td>\n",
       "      <td>6</td>\n",
       "    </tr>\n",
       "    <tr>\n",
       "      <th>21</th>\n",
       "      <td>66</td>\n",
       "      <td>0.837804</td>\n",
       "      <td>0.798476</td>\n",
       "      <td>-0.039328</td>\n",
       "      <td>leo</td>\n",
       "      <td>None</td>\n",
       "      <td>NaN</td>\n",
       "      <td>6</td>\n",
       "      <td>6</td>\n",
       "      <td>6</td>\n",
       "    </tr>\n",
       "    <tr>\n",
       "      <th>22</th>\n",
       "      <td>67</td>\n",
       "      <td>0.885643</td>\n",
       "      <td>0.780556</td>\n",
       "      <td>-0.105088</td>\n",
       "      <td>leo</td>\n",
       "      <td>None</td>\n",
       "      <td>NaN</td>\n",
       "      <td>6</td>\n",
       "      <td>6</td>\n",
       "      <td>6</td>\n",
       "    </tr>\n",
       "    <tr>\n",
       "      <th>23</th>\n",
       "      <td>68</td>\n",
       "      <td>0.895056</td>\n",
       "      <td>0.816833</td>\n",
       "      <td>-0.078223</td>\n",
       "      <td>leo</td>\n",
       "      <td>None</td>\n",
       "      <td>NaN</td>\n",
       "      <td>5</td>\n",
       "      <td>5</td>\n",
       "      <td>5</td>\n",
       "    </tr>\n",
       "    <tr>\n",
       "      <th>24</th>\n",
       "      <td>69</td>\n",
       "      <td>0.782239</td>\n",
       "      <td>0.677220</td>\n",
       "      <td>-0.105019</td>\n",
       "      <td>leo</td>\n",
       "      <td>None</td>\n",
       "      <td>NaN</td>\n",
       "      <td>5</td>\n",
       "      <td>5</td>\n",
       "      <td>5</td>\n",
       "    </tr>\n",
       "    <tr>\n",
       "      <th>25</th>\n",
       "      <td>3</td>\n",
       "      <td>0.575920</td>\n",
       "      <td>0.643411</td>\n",
       "      <td>0.067491</td>\n",
       "      <td>mar</td>\n",
       "      <td>MULTILINESTRING ((731512.461 5705151.584, 7314...</td>\n",
       "      <td>6.0</td>\n",
       "      <td>6</td>\n",
       "      <td>6</td>\n",
       "      <td>6</td>\n",
       "    </tr>\n",
       "    <tr>\n",
       "      <th>26</th>\n",
       "      <td>4</td>\n",
       "      <td>0.535433</td>\n",
       "      <td>0.663351</td>\n",
       "      <td>0.127919</td>\n",
       "      <td>mar</td>\n",
       "      <td>MULTILINESTRING ((731514.605 5705171.469, 7314...</td>\n",
       "      <td>6.0</td>\n",
       "      <td>6</td>\n",
       "      <td>6</td>\n",
       "      <td>6</td>\n",
       "    </tr>\n",
       "    <tr>\n",
       "      <th>27</th>\n",
       "      <td>5</td>\n",
       "      <td>0.624398</td>\n",
       "      <td>0.611378</td>\n",
       "      <td>-0.013021</td>\n",
       "      <td>mar</td>\n",
       "      <td>MULTILINESTRING ((731516.749 5705191.354, 7314...</td>\n",
       "      <td>6.0</td>\n",
       "      <td>6</td>\n",
       "      <td>6</td>\n",
       "      <td>6</td>\n",
       "    </tr>\n",
       "    <tr>\n",
       "      <th>28</th>\n",
       "      <td>6</td>\n",
       "      <td>0.703238</td>\n",
       "      <td>0.823743</td>\n",
       "      <td>0.120505</td>\n",
       "      <td>mar</td>\n",
       "      <td>MULTILINESTRING ((731518.785 5705210.340, 7314...</td>\n",
       "      <td>8.0</td>\n",
       "      <td>8</td>\n",
       "      <td>8</td>\n",
       "      <td>8</td>\n",
       "    </tr>\n",
       "    <tr>\n",
       "      <th>29</th>\n",
       "      <td>7</td>\n",
       "      <td>0.539687</td>\n",
       "      <td>0.803206</td>\n",
       "      <td>0.263519</td>\n",
       "      <td>mar</td>\n",
       "      <td>MULTILINESTRING ((731521.351 5705227.262, 7314...</td>\n",
       "      <td>7.0</td>\n",
       "      <td>7</td>\n",
       "      <td>7</td>\n",
       "      <td>7</td>\n",
       "    </tr>\n",
       "    <tr>\n",
       "      <th>30</th>\n",
       "      <td>8</td>\n",
       "      <td>0.626317</td>\n",
       "      <td>0.844343</td>\n",
       "      <td>0.218026</td>\n",
       "      <td>mar</td>\n",
       "      <td>MULTILINESTRING ((731525.857 5705244.754, 7314...</td>\n",
       "      <td>8.0</td>\n",
       "      <td>8</td>\n",
       "      <td>8</td>\n",
       "      <td>8</td>\n",
       "    </tr>\n",
       "    <tr>\n",
       "      <th>31</th>\n",
       "      <td>9</td>\n",
       "      <td>0.676055</td>\n",
       "      <td>0.804395</td>\n",
       "      <td>0.128340</td>\n",
       "      <td>mar</td>\n",
       "      <td>MULTILINESTRING ((731530.795 5705264.135, 7314...</td>\n",
       "      <td>8.0</td>\n",
       "      <td>8</td>\n",
       "      <td>8</td>\n",
       "      <td>8</td>\n",
       "    </tr>\n",
       "    <tr>\n",
       "      <th>32</th>\n",
       "      <td>10</td>\n",
       "      <td>0.649000</td>\n",
       "      <td>0.831896</td>\n",
       "      <td>0.182896</td>\n",
       "      <td>mar</td>\n",
       "      <td>MULTILINESTRING ((731535.734 5705283.516, 7314...</td>\n",
       "      <td>8.0</td>\n",
       "      <td>8</td>\n",
       "      <td>8</td>\n",
       "      <td>8</td>\n",
       "    </tr>\n",
       "    <tr>\n",
       "      <th>33</th>\n",
       "      <td>11</td>\n",
       "      <td>0.694563</td>\n",
       "      <td>0.843859</td>\n",
       "      <td>0.149296</td>\n",
       "      <td>mar</td>\n",
       "      <td>MULTILINESTRING ((731540.659 5705302.846, 7314...</td>\n",
       "      <td>8.0</td>\n",
       "      <td>8</td>\n",
       "      <td>8</td>\n",
       "      <td>8</td>\n",
       "    </tr>\n",
       "    <tr>\n",
       "      <th>34</th>\n",
       "      <td>12</td>\n",
       "      <td>0.700018</td>\n",
       "      <td>0.831897</td>\n",
       "      <td>0.131878</td>\n",
       "      <td>mar</td>\n",
       "      <td>MULTILINESTRING ((731544.821 5705319.413, 7314...</td>\n",
       "      <td>8.0</td>\n",
       "      <td>8</td>\n",
       "      <td>8</td>\n",
       "      <td>8</td>\n",
       "    </tr>\n",
       "    <tr>\n",
       "      <th>35</th>\n",
       "      <td>13</td>\n",
       "      <td>0.695280</td>\n",
       "      <td>0.871220</td>\n",
       "      <td>0.175941</td>\n",
       "      <td>mar</td>\n",
       "      <td>MULTILINESTRING ((731551.516 5705335.190, 7314...</td>\n",
       "      <td>8.0</td>\n",
       "      <td>8</td>\n",
       "      <td>8</td>\n",
       "      <td>8</td>\n",
       "    </tr>\n",
       "    <tr>\n",
       "      <th>36</th>\n",
       "      <td>14</td>\n",
       "      <td>0.731891</td>\n",
       "      <td>0.815379</td>\n",
       "      <td>0.083488</td>\n",
       "      <td>mar</td>\n",
       "      <td>MULTILINESTRING ((731559.218 5705353.648, 7314...</td>\n",
       "      <td>8.0</td>\n",
       "      <td>8</td>\n",
       "      <td>8</td>\n",
       "      <td>8</td>\n",
       "    </tr>\n",
       "    <tr>\n",
       "      <th>37</th>\n",
       "      <td>15</td>\n",
       "      <td>0.696533</td>\n",
       "      <td>0.767450</td>\n",
       "      <td>0.070917</td>\n",
       "      <td>mar</td>\n",
       "      <td>MULTILINESTRING ((731566.920 5705372.105, 7314...</td>\n",
       "      <td>8.0</td>\n",
       "      <td>8</td>\n",
       "      <td>8</td>\n",
       "      <td>8</td>\n",
       "    </tr>\n",
       "    <tr>\n",
       "      <th>38</th>\n",
       "      <td>16</td>\n",
       "      <td>0.668420</td>\n",
       "      <td>0.838188</td>\n",
       "      <td>0.169769</td>\n",
       "      <td>mar</td>\n",
       "      <td>MULTILINESTRING ((731574.622 5705390.563, 7315...</td>\n",
       "      <td>8.0</td>\n",
       "      <td>8</td>\n",
       "      <td>8</td>\n",
       "      <td>8</td>\n",
       "    </tr>\n",
       "    <tr>\n",
       "      <th>39</th>\n",
       "      <td>17</td>\n",
       "      <td>0.580813</td>\n",
       "      <td>0.847779</td>\n",
       "      <td>0.266966</td>\n",
       "      <td>mar</td>\n",
       "      <td>MULTILINESTRING ((731582.324 5705409.020, 7315...</td>\n",
       "      <td>8.0</td>\n",
       "      <td>8</td>\n",
       "      <td>8</td>\n",
       "      <td>8</td>\n",
       "    </tr>\n",
       "    <tr>\n",
       "      <th>40</th>\n",
       "      <td>18</td>\n",
       "      <td>0.656841</td>\n",
       "      <td>0.785591</td>\n",
       "      <td>0.128750</td>\n",
       "      <td>mar</td>\n",
       "      <td>MULTILINESTRING ((731590.027 5705427.477, 7315...</td>\n",
       "      <td>8.0</td>\n",
       "      <td>8</td>\n",
       "      <td>8</td>\n",
       "      <td>8</td>\n",
       "    </tr>\n",
       "    <tr>\n",
       "      <th>41</th>\n",
       "      <td>19</td>\n",
       "      <td>0.591574</td>\n",
       "      <td>0.876783</td>\n",
       "      <td>0.285209</td>\n",
       "      <td>mar</td>\n",
       "      <td>MULTILINESTRING ((731596.497 5705443.265, 7315...</td>\n",
       "      <td>8.0</td>\n",
       "      <td>8</td>\n",
       "      <td>8</td>\n",
       "      <td>8</td>\n",
       "    </tr>\n",
       "    <tr>\n",
       "      <th>42</th>\n",
       "      <td>20</td>\n",
       "      <td>0.632054</td>\n",
       "      <td>0.768536</td>\n",
       "      <td>0.136482</td>\n",
       "      <td>mar</td>\n",
       "      <td>MULTILINESTRING ((731605.216 5705457.524, 7315...</td>\n",
       "      <td>8.0</td>\n",
       "      <td>8</td>\n",
       "      <td>8</td>\n",
       "      <td>8</td>\n",
       "    </tr>\n",
       "    <tr>\n",
       "      <th>43</th>\n",
       "      <td>21</td>\n",
       "      <td>0.674469</td>\n",
       "      <td>0.719388</td>\n",
       "      <td>0.044919</td>\n",
       "      <td>mar</td>\n",
       "      <td>MULTILINESTRING ((731615.645 5705474.209, 7315...</td>\n",
       "      <td>7.0</td>\n",
       "      <td>7</td>\n",
       "      <td>7</td>\n",
       "      <td>7</td>\n",
       "    </tr>\n",
       "    <tr>\n",
       "      <th>44</th>\n",
       "      <td>22</td>\n",
       "      <td>0.721648</td>\n",
       "      <td>0.633763</td>\n",
       "      <td>-0.087885</td>\n",
       "      <td>mar</td>\n",
       "      <td>MULTILINESTRING ((731626.245 5705491.168, 7315...</td>\n",
       "      <td>7.0</td>\n",
       "      <td>7</td>\n",
       "      <td>7</td>\n",
       "      <td>7</td>\n",
       "    </tr>\n",
       "    <tr>\n",
       "      <th>45</th>\n",
       "      <td>23</td>\n",
       "      <td>0.655592</td>\n",
       "      <td>0.646420</td>\n",
       "      <td>-0.009172</td>\n",
       "      <td>mar</td>\n",
       "      <td>MULTILINESTRING ((731636.613 5705507.762, 7315...</td>\n",
       "      <td>7.0</td>\n",
       "      <td>7</td>\n",
       "      <td>7</td>\n",
       "      <td>7</td>\n",
       "    </tr>\n",
       "    <tr>\n",
       "      <th>46</th>\n",
       "      <td>24</td>\n",
       "      <td>0.729897</td>\n",
       "      <td>0.831377</td>\n",
       "      <td>0.101480</td>\n",
       "      <td>mar</td>\n",
       "      <td>MULTILINESTRING ((731646.904 5705523.469, 7316...</td>\n",
       "      <td>5.0</td>\n",
       "      <td>5</td>\n",
       "      <td>5</td>\n",
       "      <td>5</td>\n",
       "    </tr>\n",
       "  </tbody>\n",
       "</table>\n",
       "</div>"
      ],
      "text/plain": [
       "    tr_id   erosion  deposition  residual location  \\\n",
       "0      45  0.797168    0.791961 -0.005207      leo   \n",
       "1      46  0.788544    0.830032  0.041488      leo   \n",
       "2      47  0.669716    0.773256  0.103539      leo   \n",
       "3      48  0.749860    0.795782  0.045922      leo   \n",
       "4      49  0.738382    0.840372  0.101989      leo   \n",
       "5      50  0.874611    0.720929 -0.153682      leo   \n",
       "6      51  0.952226    0.716851 -0.235374      leo   \n",
       "7      52  0.813245    0.755008 -0.058237      leo   \n",
       "8      53  0.711310    0.796813  0.085503      leo   \n",
       "9      54  0.659353    0.697326  0.037973      leo   \n",
       "10     55  0.627270    0.659762  0.032492      leo   \n",
       "11     56  0.748164    0.676427 -0.071737      leo   \n",
       "12     57  0.684406    0.783011  0.098605      leo   \n",
       "13     58  0.830002    0.793112 -0.036890      leo   \n",
       "14     59  0.960714    0.801190 -0.159524      leo   \n",
       "15     60  0.891213    0.780937 -0.110275      leo   \n",
       "16     61  0.909164    0.654485 -0.254679      leo   \n",
       "17     62  0.837521    0.664548 -0.172973      leo   \n",
       "18     63  0.879676    0.776621 -0.103054      leo   \n",
       "19     64  0.888480    0.763478 -0.125002      leo   \n",
       "20     65  0.871737    0.772958 -0.098779      leo   \n",
       "21     66  0.837804    0.798476 -0.039328      leo   \n",
       "22     67  0.885643    0.780556 -0.105088      leo   \n",
       "23     68  0.895056    0.816833 -0.078223      leo   \n",
       "24     69  0.782239    0.677220 -0.105019      leo   \n",
       "25      3  0.575920    0.643411  0.067491      mar   \n",
       "26      4  0.535433    0.663351  0.127919      mar   \n",
       "27      5  0.624398    0.611378 -0.013021      mar   \n",
       "28      6  0.703238    0.823743  0.120505      mar   \n",
       "29      7  0.539687    0.803206  0.263519      mar   \n",
       "30      8  0.626317    0.844343  0.218026      mar   \n",
       "31      9  0.676055    0.804395  0.128340      mar   \n",
       "32     10  0.649000    0.831896  0.182896      mar   \n",
       "33     11  0.694563    0.843859  0.149296      mar   \n",
       "34     12  0.700018    0.831897  0.131878      mar   \n",
       "35     13  0.695280    0.871220  0.175941      mar   \n",
       "36     14  0.731891    0.815379  0.083488      mar   \n",
       "37     15  0.696533    0.767450  0.070917      mar   \n",
       "38     16  0.668420    0.838188  0.169769      mar   \n",
       "39     17  0.580813    0.847779  0.266966      mar   \n",
       "40     18  0.656841    0.785591  0.128750      mar   \n",
       "41     19  0.591574    0.876783  0.285209      mar   \n",
       "42     20  0.632054    0.768536  0.136482      mar   \n",
       "43     21  0.674469    0.719388  0.044919      mar   \n",
       "44     22  0.721648    0.633763 -0.087885      mar   \n",
       "45     23  0.655592    0.646420 -0.009172      mar   \n",
       "46     24  0.729897    0.831377  0.101480      mar   \n",
       "\n",
       "                                             geometry  n_dt_x  n_dt_y  n_dt_x  \\\n",
       "0   LINESTRING (299877.680 5773692.109, 299927.368...     NaN       6       6   \n",
       "1   LINESTRING (299875.449 5773711.984, 299925.137...     NaN       6       6   \n",
       "2   LINESTRING (299873.218 5773731.860, 299922.906...     NaN       6       6   \n",
       "3   LINESTRING (299870.987 5773751.735, 299920.675...     NaN       6       6   \n",
       "4   LINESTRING (299869.467 5773772.681, 299919.339...     NaN       6       6   \n",
       "5   LINESTRING (299868.295 5773792.997, 299918.212...     NaN       6       6   \n",
       "6   LINESTRING (299867.146 5773812.964, 299917.063...     NaN       6       6   \n",
       "7   LINESTRING (299865.996 5773832.931, 299915.914...     NaN       6       6   \n",
       "8   LINESTRING (299864.847 5773852.898, 299914.765...     NaN       6       6   \n",
       "9   LINESTRING (299863.698 5773872.865, 299913.615...     NaN       6       6   \n",
       "10  LINESTRING (299862.549 5773892.832, 299912.466...     NaN       6       6   \n",
       "11  LINESTRING (299861.400 5773912.799, 299911.317...     NaN       6       6   \n",
       "12  LINESTRING (299861.400 5773912.799, 299911.317...     NaN       6       6   \n",
       "13  LINESTRING (299860.251 5773932.766, 299910.168...     NaN       6       6   \n",
       "14                                               None     NaN       6       6   \n",
       "15                                               None     NaN       6       6   \n",
       "16                                               None     NaN       6       6   \n",
       "17                                               None     NaN       6       6   \n",
       "18                                               None     NaN       6       6   \n",
       "19                                               None     NaN       6       6   \n",
       "20                                               None     NaN       6       6   \n",
       "21                                               None     NaN       6       6   \n",
       "22                                               None     NaN       6       6   \n",
       "23                                               None     NaN       5       5   \n",
       "24                                               None     NaN       5       5   \n",
       "25  MULTILINESTRING ((731512.461 5705151.584, 7314...     6.0       6       6   \n",
       "26  MULTILINESTRING ((731514.605 5705171.469, 7314...     6.0       6       6   \n",
       "27  MULTILINESTRING ((731516.749 5705191.354, 7314...     6.0       6       6   \n",
       "28  MULTILINESTRING ((731518.785 5705210.340, 7314...     8.0       8       8   \n",
       "29  MULTILINESTRING ((731521.351 5705227.262, 7314...     7.0       7       7   \n",
       "30  MULTILINESTRING ((731525.857 5705244.754, 7314...     8.0       8       8   \n",
       "31  MULTILINESTRING ((731530.795 5705264.135, 7314...     8.0       8       8   \n",
       "32  MULTILINESTRING ((731535.734 5705283.516, 7314...     8.0       8       8   \n",
       "33  MULTILINESTRING ((731540.659 5705302.846, 7314...     8.0       8       8   \n",
       "34  MULTILINESTRING ((731544.821 5705319.413, 7314...     8.0       8       8   \n",
       "35  MULTILINESTRING ((731551.516 5705335.190, 7314...     8.0       8       8   \n",
       "36  MULTILINESTRING ((731559.218 5705353.648, 7314...     8.0       8       8   \n",
       "37  MULTILINESTRING ((731566.920 5705372.105, 7314...     8.0       8       8   \n",
       "38  MULTILINESTRING ((731574.622 5705390.563, 7315...     8.0       8       8   \n",
       "39  MULTILINESTRING ((731582.324 5705409.020, 7315...     8.0       8       8   \n",
       "40  MULTILINESTRING ((731590.027 5705427.477, 7315...     8.0       8       8   \n",
       "41  MULTILINESTRING ((731596.497 5705443.265, 7315...     8.0       8       8   \n",
       "42  MULTILINESTRING ((731605.216 5705457.524, 7315...     8.0       8       8   \n",
       "43  MULTILINESTRING ((731615.645 5705474.209, 7315...     7.0       7       7   \n",
       "44  MULTILINESTRING ((731626.245 5705491.168, 7315...     7.0       7       7   \n",
       "45  MULTILINESTRING ((731636.613 5705507.762, 7315...     7.0       7       7   \n",
       "46  MULTILINESTRING ((731646.904 5705523.469, 7316...     5.0       5       5   \n",
       "\n",
       "    n_dt_y  \n",
       "0        6  \n",
       "1        6  \n",
       "2        6  \n",
       "3        6  \n",
       "4        6  \n",
       "5        6  \n",
       "6        6  \n",
       "7        6  \n",
       "8        6  \n",
       "9        6  \n",
       "10       6  \n",
       "11       6  \n",
       "12       6  \n",
       "13       6  \n",
       "14       6  \n",
       "15       6  \n",
       "16       6  \n",
       "17       6  \n",
       "18       6  \n",
       "19       6  \n",
       "20       6  \n",
       "21       6  \n",
       "22       6  \n",
       "23       5  \n",
       "24       5  \n",
       "25       6  \n",
       "26       6  \n",
       "27       6  \n",
       "28       8  \n",
       "29       7  \n",
       "30       8  \n",
       "31       8  \n",
       "32       8  \n",
       "33       8  \n",
       "34       8  \n",
       "35       8  \n",
       "36       8  \n",
       "37       8  \n",
       "38       8  \n",
       "39       8  \n",
       "40       8  \n",
       "41       8  \n",
       "42       8  \n",
       "43       7  \n",
       "44       7  \n",
       "45       7  \n",
       "46       5  "
      ]
     },
     "execution_count": 246,
     "metadata": {},
     "output_type": "execute_result"
    }
   ],
   "source": [
    "n_trans=dataset.groupby(['tr_id'])[\"dt\"].unique().reset_index()\n",
    "n_trans['n_dt']=[n_trans.iloc[i,-1].shape[0] for i in np.arange(n_trans.shape[0]) ]\n",
    "\n",
    "ss_transects_idx=pd.merge(ss_transects_idx,n_trans[[\"tr_id\",\"n_dt\"]], on=['tr_id'], how='left')\n",
    "ss_transects_idx"
   ]
  },
  {
   "cell_type": "markdown",
   "id": "5b4b2c8f",
   "metadata": {},
   "source": [
    "## Sensitivity analysis"
   ]
  },
  {
   "cell_type": "markdown",
   "id": "de030965",
   "metadata": {},
   "source": [
    "For a reliable computation of r-BCDs at the transect scale the Δh points within the subaerial beachface must be beyond the period-specific LoDs.\n",
    "\n",
    "This filtering process assures that only high quality data is used in the r-BCDs computation to the detriment of the total number of valid observations per transect. Moreover, two additional filtering steps are applied at the site-level, to ensure that are only retained:\n",
    "* points that remain valid for at least a certain amount of Δh periods (t)\n",
    "* transects that have a number of valid points greater than a determined minimum threshold (pt)\n",
    "\n",
    "This is done to ensure comparability across time and transects in a determined location.\n",
    "Therefore, __t is an important parameter that should ideally be as high as the available time periods__, in order to ensure that the maximum behavioural variability is captured.<br>\n",
    "Yet, setting this parameter very high can reduce considerably the number of valid points retained in a single transect, which in turn can fall below t, leading to the loss of transects from the final behavioural map.<br>\n",
    "It is also informative to monitor and try to minimise the number of transects that __passed from a depositional to erosional behavioral regime (or vice versa) in the last time period (i. e. changed sign from t-1 to t),__ for any chosen t. Those transects could signal a behaviour that only emerged by choosing a determined value for t, signaling a potentially __lower confidence in their r-BCD values__.<br>\n",
    "For these reasons, the sensitivity analysis helps in choosing a __sub-optimal combination of t and p such as__:\n",
    "* at least 85% (arbitrary) of the total transects are retained\n",
    "* a reasonably low number of sign changes occurred"
   ]
  },
  {
   "cell_type": "markdown",
   "id": "888dd093",
   "metadata": {},
   "source": [
    "We start by defining all the combinations between the parameters __thresh (t)__ and __min_pts (pt)__, given ranges that we define.<br>\n",
    "The thresh parameter can be up to the total number of timesteps available, while the min_pts, we decide to test the values from 0 to 210, with a step of 10."
   ]
  },
  {
   "cell_type": "code",
   "execution_count": 28,
   "id": "40271b37",
   "metadata": {},
   "outputs": [],
   "source": [
    "range_thresh=range(0,dataset.dt.unique().shape[0]+1)\n",
    "range_min_pts=range(0,100,10)\n",
    "combs = list(itertools.product(range_min_pts,range_thresh))"
   ]
  },
  {
   "cell_type": "markdown",
   "id": "cab7f9c5",
   "metadata": {},
   "source": [
    "And, we run the analysis."
   ]
  },
  {
   "cell_type": "code",
   "execution_count": 29,
   "id": "e5ea07e4",
   "metadata": {
    "scrolled": true
   },
   "outputs": [
    {
     "data": {
      "application/vnd.jupyter.widget-view+json": {
       "model_id": "85252c14e83f42efa9bf848617ea2a1a",
       "version_major": 2,
       "version_minor": 0
      },
      "text/plain": [
       "  0%|          | 0/90 [00:00<?, ?it/s]"
      ]
     },
     "metadata": {},
     "output_type": "display_data"
    },
    {
     "name": "stdout",
     "output_type": "stream",
     "text": [
      "Working on threshold 0 and min points 0.\n"
     ]
    },
    {
     "data": {
      "application/vnd.jupyter.widget-view+json": {
       "model_id": "1a9ae72091ac4b2090b501b6c13b4f9a",
       "version_major": 2,
       "version_minor": 0
      },
      "text/plain": [
       "  0%|          | 0/1 [00:00<?, ?it/s]"
      ]
     },
     "metadata": {},
     "output_type": "display_data"
    },
    {
     "name": "stdout",
     "output_type": "stream",
     "text": [
      "eliminating unreliable transects . . . \n"
     ]
    },
    {
     "name": "stderr",
     "output_type": "stream",
     "text": [
      "C:\\conda3\\envs\\sandpyper_env\\lib\\site-packages\\geopandas\\geodataframe.py:422: RuntimeWarning: Sequential read of iterator was interrupted. Resetting iterator. This can negatively impact the performance.\n",
      "  for feature in features_lst:\n",
      "C:\\conda3\\envs\\sandpyper_env\\lib\\site-packages\\geopandas\\geodataframe.py:422: RuntimeWarning: Sequential read of iterator was interrupted. Resetting iterator. This can negatively impact the performance.\n",
      "  for feature in features_lst:\n"
     ]
    },
    {
     "name": "stdout",
     "output_type": "stream",
     "text": [
      "Working on threshold 1 and min points 0.\n"
     ]
    },
    {
     "data": {
      "application/vnd.jupyter.widget-view+json": {
       "model_id": "107816b138474c3aa1da2a7f9832111e",
       "version_major": 2,
       "version_minor": 0
      },
      "text/plain": [
       "  0%|          | 0/1 [00:00<?, ?it/s]"
      ]
     },
     "metadata": {},
     "output_type": "display_data"
    },
    {
     "name": "stdout",
     "output_type": "stream",
     "text": [
      "eliminating unreliable transects . . . \n"
     ]
    },
    {
     "name": "stderr",
     "output_type": "stream",
     "text": [
      "C:\\conda3\\envs\\sandpyper_env\\lib\\site-packages\\geopandas\\geodataframe.py:422: RuntimeWarning: Sequential read of iterator was interrupted. Resetting iterator. This can negatively impact the performance.\n",
      "  for feature in features_lst:\n",
      "C:\\conda3\\envs\\sandpyper_env\\lib\\site-packages\\geopandas\\geodataframe.py:422: RuntimeWarning: Sequential read of iterator was interrupted. Resetting iterator. This can negatively impact the performance.\n",
      "  for feature in features_lst:\n"
     ]
    },
    {
     "name": "stdout",
     "output_type": "stream",
     "text": [
      "Working on threshold 2 and min points 0.\n"
     ]
    },
    {
     "data": {
      "application/vnd.jupyter.widget-view+json": {
       "model_id": "4d27cc1934894f9193a764bcabb1165f",
       "version_major": 2,
       "version_minor": 0
      },
      "text/plain": [
       "  0%|          | 0/1 [00:00<?, ?it/s]"
      ]
     },
     "metadata": {},
     "output_type": "display_data"
    },
    {
     "name": "stdout",
     "output_type": "stream",
     "text": [
      "eliminating unreliable transects . . . \n"
     ]
    },
    {
     "name": "stderr",
     "output_type": "stream",
     "text": [
      "C:\\conda3\\envs\\sandpyper_env\\lib\\site-packages\\geopandas\\geodataframe.py:422: RuntimeWarning: Sequential read of iterator was interrupted. Resetting iterator. This can negatively impact the performance.\n",
      "  for feature in features_lst:\n",
      "C:\\conda3\\envs\\sandpyper_env\\lib\\site-packages\\geopandas\\geodataframe.py:422: RuntimeWarning: Sequential read of iterator was interrupted. Resetting iterator. This can negatively impact the performance.\n",
      "  for feature in features_lst:\n"
     ]
    },
    {
     "name": "stdout",
     "output_type": "stream",
     "text": [
      "Working on threshold 3 and min points 0.\n"
     ]
    },
    {
     "data": {
      "application/vnd.jupyter.widget-view+json": {
       "model_id": "4b453b8dbb5c43a28fb9dcc607d9f0b0",
       "version_major": 2,
       "version_minor": 0
      },
      "text/plain": [
       "  0%|          | 0/1 [00:00<?, ?it/s]"
      ]
     },
     "metadata": {},
     "output_type": "display_data"
    },
    {
     "name": "stdout",
     "output_type": "stream",
     "text": [
      "eliminating unreliable transects . . . \n"
     ]
    },
    {
     "name": "stderr",
     "output_type": "stream",
     "text": [
      "C:\\conda3\\envs\\sandpyper_env\\lib\\site-packages\\geopandas\\geodataframe.py:422: RuntimeWarning: Sequential read of iterator was interrupted. Resetting iterator. This can negatively impact the performance.\n",
      "  for feature in features_lst:\n",
      "C:\\conda3\\envs\\sandpyper_env\\lib\\site-packages\\geopandas\\geodataframe.py:422: RuntimeWarning: Sequential read of iterator was interrupted. Resetting iterator. This can negatively impact the performance.\n",
      "  for feature in features_lst:\n"
     ]
    },
    {
     "name": "stdout",
     "output_type": "stream",
     "text": [
      "Working on threshold 4 and min points 0.\n"
     ]
    },
    {
     "data": {
      "application/vnd.jupyter.widget-view+json": {
       "model_id": "385b0b03fedc4cfa9cb71502ca731991",
       "version_major": 2,
       "version_minor": 0
      },
      "text/plain": [
       "  0%|          | 0/1 [00:00<?, ?it/s]"
      ]
     },
     "metadata": {},
     "output_type": "display_data"
    },
    {
     "name": "stdout",
     "output_type": "stream",
     "text": [
      "eliminating unreliable transects . . . \n"
     ]
    },
    {
     "name": "stderr",
     "output_type": "stream",
     "text": [
      "C:\\conda3\\envs\\sandpyper_env\\lib\\site-packages\\geopandas\\geodataframe.py:422: RuntimeWarning: Sequential read of iterator was interrupted. Resetting iterator. This can negatively impact the performance.\n",
      "  for feature in features_lst:\n",
      "C:\\conda3\\envs\\sandpyper_env\\lib\\site-packages\\geopandas\\geodataframe.py:422: RuntimeWarning: Sequential read of iterator was interrupted. Resetting iterator. This can negatively impact the performance.\n",
      "  for feature in features_lst:\n"
     ]
    },
    {
     "name": "stdout",
     "output_type": "stream",
     "text": [
      "Working on threshold 5 and min points 0.\n"
     ]
    },
    {
     "data": {
      "application/vnd.jupyter.widget-view+json": {
       "model_id": "a5b17442276f48d8a9288c9d37bddc30",
       "version_major": 2,
       "version_minor": 0
      },
      "text/plain": [
       "  0%|          | 0/1 [00:00<?, ?it/s]"
      ]
     },
     "metadata": {},
     "output_type": "display_data"
    },
    {
     "name": "stdout",
     "output_type": "stream",
     "text": [
      "eliminating unreliable transects . . . \n"
     ]
    },
    {
     "name": "stderr",
     "output_type": "stream",
     "text": [
      "C:\\conda3\\envs\\sandpyper_env\\lib\\site-packages\\geopandas\\geodataframe.py:422: RuntimeWarning: Sequential read of iterator was interrupted. Resetting iterator. This can negatively impact the performance.\n",
      "  for feature in features_lst:\n",
      "C:\\conda3\\envs\\sandpyper_env\\lib\\site-packages\\geopandas\\geodataframe.py:422: RuntimeWarning: Sequential read of iterator was interrupted. Resetting iterator. This can negatively impact the performance.\n",
      "  for feature in features_lst:\n"
     ]
    },
    {
     "name": "stdout",
     "output_type": "stream",
     "text": [
      "Working on threshold 6 and min points 0.\n"
     ]
    },
    {
     "data": {
      "application/vnd.jupyter.widget-view+json": {
       "model_id": "a5e54cfcedbb4e2498f7c0cab80d0cd8",
       "version_major": 2,
       "version_minor": 0
      },
      "text/plain": [
       "  0%|          | 0/1 [00:00<?, ?it/s]"
      ]
     },
     "metadata": {},
     "output_type": "display_data"
    },
    {
     "name": "stdout",
     "output_type": "stream",
     "text": [
      "tr_id 24 has not enough points. Go ahead...\n",
      "eliminating unreliable transects . . . \n"
     ]
    },
    {
     "name": "stderr",
     "output_type": "stream",
     "text": [
      "C:\\conda3\\envs\\sandpyper_env\\lib\\site-packages\\geopandas\\geodataframe.py:422: RuntimeWarning: Sequential read of iterator was interrupted. Resetting iterator. This can negatively impact the performance.\n",
      "  for feature in features_lst:\n",
      "C:\\conda3\\envs\\sandpyper_env\\lib\\site-packages\\geopandas\\geodataframe.py:422: RuntimeWarning: Sequential read of iterator was interrupted. Resetting iterator. This can negatively impact the performance.\n",
      "  for feature in features_lst:\n"
     ]
    },
    {
     "name": "stdout",
     "output_type": "stream",
     "text": [
      "Working on threshold 7 and min points 0.\n"
     ]
    },
    {
     "data": {
      "application/vnd.jupyter.widget-view+json": {
       "model_id": "d822157c40db49cdbadc523e05b21f56",
       "version_major": 2,
       "version_minor": 0
      },
      "text/plain": [
       "  0%|          | 0/1 [00:00<?, ?it/s]"
      ]
     },
     "metadata": {},
     "output_type": "display_data"
    },
    {
     "name": "stdout",
     "output_type": "stream",
     "text": [
      "tr_id 24 has not enough points. Go ahead...\n",
      "tr_id 5 has not enough points. Go ahead...\n",
      "tr_id 4 has not enough points. Go ahead...\n",
      "tr_id 3 has not enough points. Go ahead...\n",
      "eliminating unreliable transects . . . \n"
     ]
    },
    {
     "name": "stderr",
     "output_type": "stream",
     "text": [
      "C:\\conda3\\envs\\sandpyper_env\\lib\\site-packages\\geopandas\\geodataframe.py:422: RuntimeWarning: Sequential read of iterator was interrupted. Resetting iterator. This can negatively impact the performance.\n",
      "  for feature in features_lst:\n",
      "C:\\conda3\\envs\\sandpyper_env\\lib\\site-packages\\geopandas\\geodataframe.py:422: RuntimeWarning: Sequential read of iterator was interrupted. Resetting iterator. This can negatively impact the performance.\n",
      "  for feature in features_lst:\n"
     ]
    },
    {
     "name": "stdout",
     "output_type": "stream",
     "text": [
      "Working on threshold 8 and min points 0.\n"
     ]
    },
    {
     "data": {
      "application/vnd.jupyter.widget-view+json": {
       "model_id": "033c2ad992b546399b64f8dd12899b96",
       "version_major": 2,
       "version_minor": 0
      },
      "text/plain": [
       "  0%|          | 0/1 [00:00<?, ?it/s]"
      ]
     },
     "metadata": {},
     "output_type": "display_data"
    },
    {
     "name": "stdout",
     "output_type": "stream",
     "text": [
      "tr_id 18 has not enough points. Go ahead...\n",
      "tr_id 13 has not enough points. Go ahead...\n",
      "tr_id 12 has not enough points. Go ahead...\n",
      "tr_id 10 has not enough points. Go ahead...\n",
      "tr_id 9 has not enough points. Go ahead...\n",
      "tr_id 6 has not enough points. Go ahead...\n",
      "tr_id 24 has not enough points. Go ahead...\n",
      "tr_id 23 has not enough points. Go ahead...\n",
      "tr_id 22 has not enough points. Go ahead...\n",
      "tr_id 21 has not enough points. Go ahead...\n",
      "tr_id 7 has not enough points. Go ahead...\n",
      "tr_id 5 has not enough points. Go ahead...\n",
      "tr_id 4 has not enough points. Go ahead...\n",
      "tr_id 3 has not enough points. Go ahead...\n",
      "eliminating unreliable transects . . . \n",
      "Skipping\n",
      "Working on threshold 0 and min points 10.\n"
     ]
    },
    {
     "data": {
      "application/vnd.jupyter.widget-view+json": {
       "model_id": "9292304fd83b43fa85b4b9ed14edbe29",
       "version_major": 2,
       "version_minor": 0
      },
      "text/plain": [
       "  0%|          | 0/1 [00:00<?, ?it/s]"
      ]
     },
     "metadata": {},
     "output_type": "display_data"
    },
    {
     "name": "stdout",
     "output_type": "stream",
     "text": [
      "eliminating unreliable transects . . . \n"
     ]
    },
    {
     "name": "stderr",
     "output_type": "stream",
     "text": [
      "C:\\conda3\\envs\\sandpyper_env\\lib\\site-packages\\geopandas\\geodataframe.py:422: RuntimeWarning: Sequential read of iterator was interrupted. Resetting iterator. This can negatively impact the performance.\n",
      "  for feature in features_lst:\n",
      "C:\\conda3\\envs\\sandpyper_env\\lib\\site-packages\\geopandas\\geodataframe.py:422: RuntimeWarning: Sequential read of iterator was interrupted. Resetting iterator. This can negatively impact the performance.\n",
      "  for feature in features_lst:\n"
     ]
    },
    {
     "name": "stdout",
     "output_type": "stream",
     "text": [
      "Working on threshold 1 and min points 10.\n"
     ]
    },
    {
     "data": {
      "application/vnd.jupyter.widget-view+json": {
       "model_id": "c407149f655542358a5b482b3d735c10",
       "version_major": 2,
       "version_minor": 0
      },
      "text/plain": [
       "  0%|          | 0/1 [00:00<?, ?it/s]"
      ]
     },
     "metadata": {},
     "output_type": "display_data"
    },
    {
     "name": "stdout",
     "output_type": "stream",
     "text": [
      "eliminating unreliable transects . . . \n"
     ]
    },
    {
     "name": "stderr",
     "output_type": "stream",
     "text": [
      "C:\\conda3\\envs\\sandpyper_env\\lib\\site-packages\\geopandas\\geodataframe.py:422: RuntimeWarning: Sequential read of iterator was interrupted. Resetting iterator. This can negatively impact the performance.\n",
      "  for feature in features_lst:\n",
      "C:\\conda3\\envs\\sandpyper_env\\lib\\site-packages\\geopandas\\geodataframe.py:422: RuntimeWarning: Sequential read of iterator was interrupted. Resetting iterator. This can negatively impact the performance.\n",
      "  for feature in features_lst:\n"
     ]
    },
    {
     "name": "stdout",
     "output_type": "stream",
     "text": [
      "Working on threshold 2 and min points 10.\n"
     ]
    },
    {
     "data": {
      "application/vnd.jupyter.widget-view+json": {
       "model_id": "b440e9a8c02f44909075e42e8caccbc2",
       "version_major": 2,
       "version_minor": 0
      },
      "text/plain": [
       "  0%|          | 0/1 [00:00<?, ?it/s]"
      ]
     },
     "metadata": {},
     "output_type": "display_data"
    },
    {
     "name": "stdout",
     "output_type": "stream",
     "text": [
      "eliminating unreliable transects . . . \n"
     ]
    },
    {
     "name": "stderr",
     "output_type": "stream",
     "text": [
      "C:\\conda3\\envs\\sandpyper_env\\lib\\site-packages\\geopandas\\geodataframe.py:422: RuntimeWarning: Sequential read of iterator was interrupted. Resetting iterator. This can negatively impact the performance.\n",
      "  for feature in features_lst:\n",
      "C:\\conda3\\envs\\sandpyper_env\\lib\\site-packages\\geopandas\\geodataframe.py:422: RuntimeWarning: Sequential read of iterator was interrupted. Resetting iterator. This can negatively impact the performance.\n",
      "  for feature in features_lst:\n"
     ]
    },
    {
     "name": "stdout",
     "output_type": "stream",
     "text": [
      "Working on threshold 3 and min points 10.\n"
     ]
    },
    {
     "data": {
      "application/vnd.jupyter.widget-view+json": {
       "model_id": "2d40b9b7c7994a9492565a91313e08b1",
       "version_major": 2,
       "version_minor": 0
      },
      "text/plain": [
       "  0%|          | 0/1 [00:00<?, ?it/s]"
      ]
     },
     "metadata": {},
     "output_type": "display_data"
    },
    {
     "name": "stdout",
     "output_type": "stream",
     "text": [
      "eliminating unreliable transects . . . \n"
     ]
    },
    {
     "name": "stderr",
     "output_type": "stream",
     "text": [
      "C:\\conda3\\envs\\sandpyper_env\\lib\\site-packages\\geopandas\\geodataframe.py:422: RuntimeWarning: Sequential read of iterator was interrupted. Resetting iterator. This can negatively impact the performance.\n",
      "  for feature in features_lst:\n",
      "C:\\conda3\\envs\\sandpyper_env\\lib\\site-packages\\geopandas\\geodataframe.py:422: RuntimeWarning: Sequential read of iterator was interrupted. Resetting iterator. This can negatively impact the performance.\n",
      "  for feature in features_lst:\n"
     ]
    },
    {
     "name": "stdout",
     "output_type": "stream",
     "text": [
      "Working on threshold 4 and min points 10.\n"
     ]
    },
    {
     "data": {
      "application/vnd.jupyter.widget-view+json": {
       "model_id": "f8dfa948e8144bc08a05b3c67e5ba213",
       "version_major": 2,
       "version_minor": 0
      },
      "text/plain": [
       "  0%|          | 0/1 [00:00<?, ?it/s]"
      ]
     },
     "metadata": {},
     "output_type": "display_data"
    },
    {
     "name": "stdout",
     "output_type": "stream",
     "text": [
      "eliminating unreliable transects . . . \n"
     ]
    },
    {
     "name": "stderr",
     "output_type": "stream",
     "text": [
      "C:\\conda3\\envs\\sandpyper_env\\lib\\site-packages\\geopandas\\geodataframe.py:422: RuntimeWarning: Sequential read of iterator was interrupted. Resetting iterator. This can negatively impact the performance.\n",
      "  for feature in features_lst:\n",
      "C:\\conda3\\envs\\sandpyper_env\\lib\\site-packages\\geopandas\\geodataframe.py:422: RuntimeWarning: Sequential read of iterator was interrupted. Resetting iterator. This can negatively impact the performance.\n",
      "  for feature in features_lst:\n"
     ]
    },
    {
     "name": "stdout",
     "output_type": "stream",
     "text": [
      "Working on threshold 5 and min points 10.\n"
     ]
    },
    {
     "data": {
      "application/vnd.jupyter.widget-view+json": {
       "model_id": "b6bd18482ffc4461a24fd85d0f3d8495",
       "version_major": 2,
       "version_minor": 0
      },
      "text/plain": [
       "  0%|          | 0/1 [00:00<?, ?it/s]"
      ]
     },
     "metadata": {},
     "output_type": "display_data"
    },
    {
     "name": "stdout",
     "output_type": "stream",
     "text": [
      "Threshold of points per transect 24 not reached. It has 3 points.\n",
      "eliminating unreliable transects . . . \n"
     ]
    },
    {
     "name": "stderr",
     "output_type": "stream",
     "text": [
      "C:\\conda3\\envs\\sandpyper_env\\lib\\site-packages\\geopandas\\geodataframe.py:422: RuntimeWarning: Sequential read of iterator was interrupted. Resetting iterator. This can negatively impact the performance.\n",
      "  for feature in features_lst:\n",
      "C:\\conda3\\envs\\sandpyper_env\\lib\\site-packages\\geopandas\\geodataframe.py:422: RuntimeWarning: Sequential read of iterator was interrupted. Resetting iterator. This can negatively impact the performance.\n",
      "  for feature in features_lst:\n"
     ]
    },
    {
     "name": "stdout",
     "output_type": "stream",
     "text": [
      "Working on threshold 6 and min points 10.\n"
     ]
    },
    {
     "data": {
      "application/vnd.jupyter.widget-view+json": {
       "model_id": "272f14f92a934aa19d059e0949cdcb97",
       "version_major": 2,
       "version_minor": 0
      },
      "text/plain": [
       "  0%|          | 0/1 [00:00<?, ?it/s]"
      ]
     },
     "metadata": {},
     "output_type": "display_data"
    },
    {
     "name": "stdout",
     "output_type": "stream",
     "text": [
      "Threshold of points per transect 24 not reached. It has 0 points.\n",
      "tr_id 24 has not enough points. Go ahead...\n",
      "eliminating unreliable transects . . . \n"
     ]
    },
    {
     "name": "stderr",
     "output_type": "stream",
     "text": [
      "C:\\conda3\\envs\\sandpyper_env\\lib\\site-packages\\geopandas\\geodataframe.py:422: RuntimeWarning: Sequential read of iterator was interrupted. Resetting iterator. This can negatively impact the performance.\n",
      "  for feature in features_lst:\n",
      "C:\\conda3\\envs\\sandpyper_env\\lib\\site-packages\\geopandas\\geodataframe.py:422: RuntimeWarning: Sequential read of iterator was interrupted. Resetting iterator. This can negatively impact the performance.\n",
      "  for feature in features_lst:\n"
     ]
    },
    {
     "name": "stdout",
     "output_type": "stream",
     "text": [
      "Working on threshold 7 and min points 10.\n"
     ]
    },
    {
     "data": {
      "application/vnd.jupyter.widget-view+json": {
       "model_id": "a57e2d9cb03047ffaf95550c04c4b901",
       "version_major": 2,
       "version_minor": 0
      },
      "text/plain": [
       "  0%|          | 0/1 [00:00<?, ?it/s]"
      ]
     },
     "metadata": {},
     "output_type": "display_data"
    },
    {
     "name": "stdout",
     "output_type": "stream",
     "text": [
      "Threshold of points per transect 24 not reached. It has 0 points.\n",
      "tr_id 24 has not enough points. Go ahead...\n",
      "Threshold of points per transect 5 not reached. It has 0 points.\n",
      "tr_id 5 has not enough points. Go ahead...\n",
      "Threshold of points per transect 4 not reached. It has 0 points.\n",
      "tr_id 4 has not enough points. Go ahead...\n",
      "Threshold of points per transect 3 not reached. It has 0 points.\n",
      "tr_id 3 has not enough points. Go ahead...\n",
      "eliminating unreliable transects . . . \n"
     ]
    },
    {
     "name": "stderr",
     "output_type": "stream",
     "text": [
      "C:\\conda3\\envs\\sandpyper_env\\lib\\site-packages\\geopandas\\geodataframe.py:422: RuntimeWarning: Sequential read of iterator was interrupted. Resetting iterator. This can negatively impact the performance.\n",
      "  for feature in features_lst:\n",
      "C:\\conda3\\envs\\sandpyper_env\\lib\\site-packages\\geopandas\\geodataframe.py:422: RuntimeWarning: Sequential read of iterator was interrupted. Resetting iterator. This can negatively impact the performance.\n",
      "  for feature in features_lst:\n"
     ]
    },
    {
     "name": "stdout",
     "output_type": "stream",
     "text": [
      "Working on threshold 8 and min points 10.\n"
     ]
    },
    {
     "data": {
      "application/vnd.jupyter.widget-view+json": {
       "model_id": "ffae88daa5c145f0afb5774d19698cbb",
       "version_major": 2,
       "version_minor": 0
      },
      "text/plain": [
       "  0%|          | 0/1 [00:00<?, ?it/s]"
      ]
     },
     "metadata": {},
     "output_type": "display_data"
    },
    {
     "name": "stdout",
     "output_type": "stream",
     "text": [
      "Threshold of points per transect 20 not reached. It has 4 points.\n",
      "Threshold of points per transect 18 not reached. It has 0 points.\n",
      "tr_id 18 has not enough points. Go ahead...\n",
      "Threshold of points per transect 17 not reached. It has 1 points.\n",
      "Threshold of points per transect 16 not reached. It has 1 points.\n",
      "Threshold of points per transect 15 not reached. It has 1 points.\n",
      "Threshold of points per transect 14 not reached. It has 1 points.\n",
      "Threshold of points per transect 13 not reached. It has 0 points.\n",
      "tr_id 13 has not enough points. Go ahead...\n",
      "Threshold of points per transect 12 not reached. It has 0 points.\n",
      "tr_id 12 has not enough points. Go ahead...\n",
      "Threshold of points per transect 11 not reached. It has 1 points.\n",
      "Threshold of points per transect 10 not reached. It has 0 points.\n",
      "tr_id 10 has not enough points. Go ahead...\n",
      "Threshold of points per transect 9 not reached. It has 0 points.\n",
      "tr_id 9 has not enough points. Go ahead...\n",
      "Threshold of points per transect 8 not reached. It has 1 points.\n",
      "Threshold of points per transect 6 not reached. It has 0 points.\n",
      "tr_id 6 has not enough points. Go ahead...\n",
      "Threshold of points per transect 24 not reached. It has 0 points.\n",
      "tr_id 24 has not enough points. Go ahead...\n",
      "Threshold of points per transect 23 not reached. It has 0 points.\n",
      "tr_id 23 has not enough points. Go ahead...\n",
      "Threshold of points per transect 22 not reached. It has 0 points.\n",
      "tr_id 22 has not enough points. Go ahead...\n",
      "Threshold of points per transect 21 not reached. It has 0 points.\n",
      "tr_id 21 has not enough points. Go ahead...\n",
      "Threshold of points per transect 19 not reached. It has 1 points.\n",
      "Threshold of points per transect 7 not reached. It has 0 points.\n",
      "tr_id 7 has not enough points. Go ahead...\n",
      "Threshold of points per transect 5 not reached. It has 0 points.\n",
      "tr_id 5 has not enough points. Go ahead...\n",
      "Threshold of points per transect 4 not reached. It has 0 points.\n",
      "tr_id 4 has not enough points. Go ahead...\n",
      "Threshold of points per transect 3 not reached. It has 0 points.\n",
      "tr_id 3 has not enough points. Go ahead...\n",
      "eliminating unreliable transects . . . \n",
      "Working on threshold 0 and min points 20.\n"
     ]
    },
    {
     "data": {
      "application/vnd.jupyter.widget-view+json": {
       "model_id": "d8ef3d8d115149229e30166768d28862",
       "version_major": 2,
       "version_minor": 0
      },
      "text/plain": [
       "  0%|          | 0/1 [00:00<?, ?it/s]"
      ]
     },
     "metadata": {},
     "output_type": "display_data"
    },
    {
     "name": "stdout",
     "output_type": "stream",
     "text": [
      "eliminating unreliable transects . . . \n"
     ]
    },
    {
     "name": "stderr",
     "output_type": "stream",
     "text": [
      "C:\\conda3\\envs\\sandpyper_env\\lib\\site-packages\\geopandas\\geodataframe.py:422: RuntimeWarning: Sequential read of iterator was interrupted. Resetting iterator. This can negatively impact the performance.\n",
      "  for feature in features_lst:\n",
      "C:\\conda3\\envs\\sandpyper_env\\lib\\site-packages\\geopandas\\geodataframe.py:422: RuntimeWarning: Sequential read of iterator was interrupted. Resetting iterator. This can negatively impact the performance.\n",
      "  for feature in features_lst:\n"
     ]
    },
    {
     "name": "stdout",
     "output_type": "stream",
     "text": [
      "Working on threshold 1 and min points 20.\n"
     ]
    },
    {
     "data": {
      "application/vnd.jupyter.widget-view+json": {
       "model_id": "36e0113dd7b6462f821992eb3ad9a786",
       "version_major": 2,
       "version_minor": 0
      },
      "text/plain": [
       "  0%|          | 0/1 [00:00<?, ?it/s]"
      ]
     },
     "metadata": {},
     "output_type": "display_data"
    },
    {
     "name": "stdout",
     "output_type": "stream",
     "text": [
      "eliminating unreliable transects . . . \n"
     ]
    },
    {
     "name": "stderr",
     "output_type": "stream",
     "text": [
      "C:\\conda3\\envs\\sandpyper_env\\lib\\site-packages\\geopandas\\geodataframe.py:422: RuntimeWarning: Sequential read of iterator was interrupted. Resetting iterator. This can negatively impact the performance.\n",
      "  for feature in features_lst:\n",
      "C:\\conda3\\envs\\sandpyper_env\\lib\\site-packages\\geopandas\\geodataframe.py:422: RuntimeWarning: Sequential read of iterator was interrupted. Resetting iterator. This can negatively impact the performance.\n",
      "  for feature in features_lst:\n"
     ]
    },
    {
     "name": "stdout",
     "output_type": "stream",
     "text": [
      "Working on threshold 2 and min points 20.\n"
     ]
    },
    {
     "data": {
      "application/vnd.jupyter.widget-view+json": {
       "model_id": "31bbef437e9a47f897c086b4c1a8f69b",
       "version_major": 2,
       "version_minor": 0
      },
      "text/plain": [
       "  0%|          | 0/1 [00:00<?, ?it/s]"
      ]
     },
     "metadata": {},
     "output_type": "display_data"
    },
    {
     "name": "stdout",
     "output_type": "stream",
     "text": [
      "eliminating unreliable transects . . . \n"
     ]
    },
    {
     "name": "stderr",
     "output_type": "stream",
     "text": [
      "C:\\conda3\\envs\\sandpyper_env\\lib\\site-packages\\geopandas\\geodataframe.py:422: RuntimeWarning: Sequential read of iterator was interrupted. Resetting iterator. This can negatively impact the performance.\n",
      "  for feature in features_lst:\n",
      "C:\\conda3\\envs\\sandpyper_env\\lib\\site-packages\\geopandas\\geodataframe.py:422: RuntimeWarning: Sequential read of iterator was interrupted. Resetting iterator. This can negatively impact the performance.\n",
      "  for feature in features_lst:\n"
     ]
    },
    {
     "name": "stdout",
     "output_type": "stream",
     "text": [
      "Working on threshold 3 and min points 20.\n"
     ]
    },
    {
     "data": {
      "application/vnd.jupyter.widget-view+json": {
       "model_id": "dc1e9f7a68454bc88668ee1f739a6065",
       "version_major": 2,
       "version_minor": 0
      },
      "text/plain": [
       "  0%|          | 0/1 [00:00<?, ?it/s]"
      ]
     },
     "metadata": {},
     "output_type": "display_data"
    },
    {
     "name": "stdout",
     "output_type": "stream",
     "text": [
      "eliminating unreliable transects . . . \n"
     ]
    },
    {
     "name": "stderr",
     "output_type": "stream",
     "text": [
      "C:\\conda3\\envs\\sandpyper_env\\lib\\site-packages\\geopandas\\geodataframe.py:422: RuntimeWarning: Sequential read of iterator was interrupted. Resetting iterator. This can negatively impact the performance.\n",
      "  for feature in features_lst:\n",
      "C:\\conda3\\envs\\sandpyper_env\\lib\\site-packages\\geopandas\\geodataframe.py:422: RuntimeWarning: Sequential read of iterator was interrupted. Resetting iterator. This can negatively impact the performance.\n",
      "  for feature in features_lst:\n"
     ]
    },
    {
     "name": "stdout",
     "output_type": "stream",
     "text": [
      "Working on threshold 4 and min points 20.\n"
     ]
    },
    {
     "data": {
      "application/vnd.jupyter.widget-view+json": {
       "model_id": "f0aaf11eb6d044a5af82772da4b124f7",
       "version_major": 2,
       "version_minor": 0
      },
      "text/plain": [
       "  0%|          | 0/1 [00:00<?, ?it/s]"
      ]
     },
     "metadata": {},
     "output_type": "display_data"
    },
    {
     "name": "stdout",
     "output_type": "stream",
     "text": [
      "eliminating unreliable transects . . . \n"
     ]
    },
    {
     "name": "stderr",
     "output_type": "stream",
     "text": [
      "C:\\conda3\\envs\\sandpyper_env\\lib\\site-packages\\geopandas\\geodataframe.py:422: RuntimeWarning: Sequential read of iterator was interrupted. Resetting iterator. This can negatively impact the performance.\n",
      "  for feature in features_lst:\n",
      "C:\\conda3\\envs\\sandpyper_env\\lib\\site-packages\\geopandas\\geodataframe.py:422: RuntimeWarning: Sequential read of iterator was interrupted. Resetting iterator. This can negatively impact the performance.\n",
      "  for feature in features_lst:\n"
     ]
    },
    {
     "name": "stdout",
     "output_type": "stream",
     "text": [
      "Working on threshold 5 and min points 20.\n"
     ]
    },
    {
     "data": {
      "application/vnd.jupyter.widget-view+json": {
       "model_id": "f9fcbf956fd24e2daf33d8456fa6367e",
       "version_major": 2,
       "version_minor": 0
      },
      "text/plain": [
       "  0%|          | 0/1 [00:00<?, ?it/s]"
      ]
     },
     "metadata": {},
     "output_type": "display_data"
    },
    {
     "name": "stdout",
     "output_type": "stream",
     "text": [
      "Threshold of points per transect 24 not reached. It has 3 points.\n",
      "eliminating unreliable transects . . . \n"
     ]
    },
    {
     "name": "stderr",
     "output_type": "stream",
     "text": [
      "C:\\conda3\\envs\\sandpyper_env\\lib\\site-packages\\geopandas\\geodataframe.py:422: RuntimeWarning: Sequential read of iterator was interrupted. Resetting iterator. This can negatively impact the performance.\n",
      "  for feature in features_lst:\n",
      "C:\\conda3\\envs\\sandpyper_env\\lib\\site-packages\\geopandas\\geodataframe.py:422: RuntimeWarning: Sequential read of iterator was interrupted. Resetting iterator. This can negatively impact the performance.\n",
      "  for feature in features_lst:\n"
     ]
    },
    {
     "name": "stdout",
     "output_type": "stream",
     "text": [
      "Working on threshold 6 and min points 20.\n"
     ]
    },
    {
     "data": {
      "application/vnd.jupyter.widget-view+json": {
       "model_id": "351c9167f30643dd92a3e3acdbb153c5",
       "version_major": 2,
       "version_minor": 0
      },
      "text/plain": [
       "  0%|          | 0/1 [00:00<?, ?it/s]"
      ]
     },
     "metadata": {},
     "output_type": "display_data"
    },
    {
     "name": "stdout",
     "output_type": "stream",
     "text": [
      "Threshold of points per transect 24 not reached. It has 0 points.\n",
      "tr_id 24 has not enough points. Go ahead...\n",
      "eliminating unreliable transects . . . \n"
     ]
    },
    {
     "name": "stderr",
     "output_type": "stream",
     "text": [
      "C:\\conda3\\envs\\sandpyper_env\\lib\\site-packages\\geopandas\\geodataframe.py:422: RuntimeWarning: Sequential read of iterator was interrupted. Resetting iterator. This can negatively impact the performance.\n",
      "  for feature in features_lst:\n",
      "C:\\conda3\\envs\\sandpyper_env\\lib\\site-packages\\geopandas\\geodataframe.py:422: RuntimeWarning: Sequential read of iterator was interrupted. Resetting iterator. This can negatively impact the performance.\n",
      "  for feature in features_lst:\n"
     ]
    },
    {
     "name": "stdout",
     "output_type": "stream",
     "text": [
      "Working on threshold 7 and min points 20.\n"
     ]
    },
    {
     "data": {
      "application/vnd.jupyter.widget-view+json": {
       "model_id": "e16952efa4bc4c2a8de35679f67617ec",
       "version_major": 2,
       "version_minor": 0
      },
      "text/plain": [
       "  0%|          | 0/1 [00:00<?, ?it/s]"
      ]
     },
     "metadata": {},
     "output_type": "display_data"
    },
    {
     "name": "stdout",
     "output_type": "stream",
     "text": [
      "Threshold of points per transect 10 not reached. It has 14 points.\n",
      "Threshold of points per transect 24 not reached. It has 0 points.\n",
      "tr_id 24 has not enough points. Go ahead...\n",
      "Threshold of points per transect 5 not reached. It has 0 points.\n",
      "tr_id 5 has not enough points. Go ahead...\n",
      "Threshold of points per transect 4 not reached. It has 0 points.\n",
      "tr_id 4 has not enough points. Go ahead...\n",
      "Threshold of points per transect 3 not reached. It has 0 points.\n",
      "tr_id 3 has not enough points. Go ahead...\n",
      "eliminating unreliable transects . . . \n"
     ]
    },
    {
     "name": "stderr",
     "output_type": "stream",
     "text": [
      "C:\\conda3\\envs\\sandpyper_env\\lib\\site-packages\\geopandas\\geodataframe.py:422: RuntimeWarning: Sequential read of iterator was interrupted. Resetting iterator. This can negatively impact the performance.\n",
      "  for feature in features_lst:\n",
      "C:\\conda3\\envs\\sandpyper_env\\lib\\site-packages\\geopandas\\geodataframe.py:422: RuntimeWarning: Sequential read of iterator was interrupted. Resetting iterator. This can negatively impact the performance.\n",
      "  for feature in features_lst:\n"
     ]
    },
    {
     "name": "stdout",
     "output_type": "stream",
     "text": [
      "Working on threshold 8 and min points 20.\n"
     ]
    },
    {
     "data": {
      "application/vnd.jupyter.widget-view+json": {
       "model_id": "5ec0dc8ed1c7441cb4c61ae74206c60b",
       "version_major": 2,
       "version_minor": 0
      },
      "text/plain": [
       "  0%|          | 0/1 [00:00<?, ?it/s]"
      ]
     },
     "metadata": {},
     "output_type": "display_data"
    },
    {
     "name": "stdout",
     "output_type": "stream",
     "text": [
      "Threshold of points per transect 20 not reached. It has 4 points.\n",
      "Threshold of points per transect 18 not reached. It has 0 points.\n",
      "tr_id 18 has not enough points. Go ahead...\n",
      "Threshold of points per transect 17 not reached. It has 1 points.\n",
      "Threshold of points per transect 16 not reached. It has 1 points.\n",
      "Threshold of points per transect 15 not reached. It has 1 points.\n",
      "Threshold of points per transect 14 not reached. It has 1 points.\n",
      "Threshold of points per transect 13 not reached. It has 0 points.\n",
      "tr_id 13 has not enough points. Go ahead...\n",
      "Threshold of points per transect 12 not reached. It has 0 points.\n",
      "tr_id 12 has not enough points. Go ahead...\n",
      "Threshold of points per transect 11 not reached. It has 1 points.\n",
      "Threshold of points per transect 10 not reached. It has 0 points.\n",
      "tr_id 10 has not enough points. Go ahead...\n",
      "Threshold of points per transect 9 not reached. It has 0 points.\n",
      "tr_id 9 has not enough points. Go ahead...\n",
      "Threshold of points per transect 8 not reached. It has 1 points.\n",
      "Threshold of points per transect 6 not reached. It has 0 points.\n",
      "tr_id 6 has not enough points. Go ahead...\n",
      "Threshold of points per transect 24 not reached. It has 0 points.\n",
      "tr_id 24 has not enough points. Go ahead...\n",
      "Threshold of points per transect 23 not reached. It has 0 points.\n",
      "tr_id 23 has not enough points. Go ahead...\n",
      "Threshold of points per transect 22 not reached. It has 0 points.\n",
      "tr_id 22 has not enough points. Go ahead...\n",
      "Threshold of points per transect 21 not reached. It has 0 points.\n",
      "tr_id 21 has not enough points. Go ahead...\n",
      "Threshold of points per transect 19 not reached. It has 1 points.\n",
      "Threshold of points per transect 7 not reached. It has 0 points.\n",
      "tr_id 7 has not enough points. Go ahead...\n",
      "Threshold of points per transect 5 not reached. It has 0 points.\n",
      "tr_id 5 has not enough points. Go ahead...\n",
      "Threshold of points per transect 4 not reached. It has 0 points.\n",
      "tr_id 4 has not enough points. Go ahead...\n",
      "Threshold of points per transect 3 not reached. It has 0 points.\n",
      "tr_id 3 has not enough points. Go ahead...\n",
      "eliminating unreliable transects . . . \n",
      "Working on threshold 0 and min points 30.\n"
     ]
    },
    {
     "data": {
      "application/vnd.jupyter.widget-view+json": {
       "model_id": "3d49517b22cf4c9aa85335c923cd6781",
       "version_major": 2,
       "version_minor": 0
      },
      "text/plain": [
       "  0%|          | 0/1 [00:00<?, ?it/s]"
      ]
     },
     "metadata": {},
     "output_type": "display_data"
    },
    {
     "name": "stdout",
     "output_type": "stream",
     "text": [
      "eliminating unreliable transects . . . \n"
     ]
    },
    {
     "name": "stderr",
     "output_type": "stream",
     "text": [
      "C:\\conda3\\envs\\sandpyper_env\\lib\\site-packages\\geopandas\\geodataframe.py:422: RuntimeWarning: Sequential read of iterator was interrupted. Resetting iterator. This can negatively impact the performance.\n",
      "  for feature in features_lst:\n"
     ]
    },
    {
     "name": "stdout",
     "output_type": "stream",
     "text": [
      "Working on threshold 1 and min points 30.\n"
     ]
    },
    {
     "name": "stderr",
     "output_type": "stream",
     "text": [
      "C:\\conda3\\envs\\sandpyper_env\\lib\\site-packages\\geopandas\\geodataframe.py:422: RuntimeWarning: Sequential read of iterator was interrupted. Resetting iterator. This can negatively impact the performance.\n",
      "  for feature in features_lst:\n"
     ]
    },
    {
     "data": {
      "application/vnd.jupyter.widget-view+json": {
       "model_id": "e237f6f43aa943d98a3b8cbb5ca103af",
       "version_major": 2,
       "version_minor": 0
      },
      "text/plain": [
       "  0%|          | 0/1 [00:00<?, ?it/s]"
      ]
     },
     "metadata": {},
     "output_type": "display_data"
    },
    {
     "name": "stdout",
     "output_type": "stream",
     "text": [
      "eliminating unreliable transects . . . \n"
     ]
    },
    {
     "name": "stderr",
     "output_type": "stream",
     "text": [
      "C:\\conda3\\envs\\sandpyper_env\\lib\\site-packages\\geopandas\\geodataframe.py:422: RuntimeWarning: Sequential read of iterator was interrupted. Resetting iterator. This can negatively impact the performance.\n",
      "  for feature in features_lst:\n",
      "C:\\conda3\\envs\\sandpyper_env\\lib\\site-packages\\geopandas\\geodataframe.py:422: RuntimeWarning: Sequential read of iterator was interrupted. Resetting iterator. This can negatively impact the performance.\n",
      "  for feature in features_lst:\n"
     ]
    },
    {
     "name": "stdout",
     "output_type": "stream",
     "text": [
      "Working on threshold 2 and min points 30.\n"
     ]
    },
    {
     "data": {
      "application/vnd.jupyter.widget-view+json": {
       "model_id": "518540c25dea408a8e48c66d8b880c2c",
       "version_major": 2,
       "version_minor": 0
      },
      "text/plain": [
       "  0%|          | 0/1 [00:00<?, ?it/s]"
      ]
     },
     "metadata": {},
     "output_type": "display_data"
    },
    {
     "name": "stdout",
     "output_type": "stream",
     "text": [
      "eliminating unreliable transects . . . \n"
     ]
    },
    {
     "name": "stderr",
     "output_type": "stream",
     "text": [
      "C:\\conda3\\envs\\sandpyper_env\\lib\\site-packages\\geopandas\\geodataframe.py:422: RuntimeWarning: Sequential read of iterator was interrupted. Resetting iterator. This can negatively impact the performance.\n",
      "  for feature in features_lst:\n",
      "C:\\conda3\\envs\\sandpyper_env\\lib\\site-packages\\geopandas\\geodataframe.py:422: RuntimeWarning: Sequential read of iterator was interrupted. Resetting iterator. This can negatively impact the performance.\n",
      "  for feature in features_lst:\n"
     ]
    },
    {
     "name": "stdout",
     "output_type": "stream",
     "text": [
      "Working on threshold 3 and min points 30.\n"
     ]
    },
    {
     "data": {
      "application/vnd.jupyter.widget-view+json": {
       "model_id": "e1b68325ee9d43828d82dd3efe2b7646",
       "version_major": 2,
       "version_minor": 0
      },
      "text/plain": [
       "  0%|          | 0/1 [00:00<?, ?it/s]"
      ]
     },
     "metadata": {},
     "output_type": "display_data"
    },
    {
     "name": "stdout",
     "output_type": "stream",
     "text": [
      "eliminating unreliable transects . . . \n"
     ]
    },
    {
     "name": "stderr",
     "output_type": "stream",
     "text": [
      "C:\\conda3\\envs\\sandpyper_env\\lib\\site-packages\\geopandas\\geodataframe.py:422: RuntimeWarning: Sequential read of iterator was interrupted. Resetting iterator. This can negatively impact the performance.\n",
      "  for feature in features_lst:\n",
      "C:\\conda3\\envs\\sandpyper_env\\lib\\site-packages\\geopandas\\geodataframe.py:422: RuntimeWarning: Sequential read of iterator was interrupted. Resetting iterator. This can negatively impact the performance.\n",
      "  for feature in features_lst:\n"
     ]
    },
    {
     "name": "stdout",
     "output_type": "stream",
     "text": [
      "Working on threshold 4 and min points 30.\n"
     ]
    },
    {
     "data": {
      "application/vnd.jupyter.widget-view+json": {
       "model_id": "7d23383d8a9948cfb40efa541d331649",
       "version_major": 2,
       "version_minor": 0
      },
      "text/plain": [
       "  0%|          | 0/1 [00:00<?, ?it/s]"
      ]
     },
     "metadata": {},
     "output_type": "display_data"
    },
    {
     "name": "stdout",
     "output_type": "stream",
     "text": [
      "Threshold of points per transect 24 not reached. It has 20 points.\n",
      "eliminating unreliable transects . . . \n"
     ]
    },
    {
     "name": "stderr",
     "output_type": "stream",
     "text": [
      "C:\\conda3\\envs\\sandpyper_env\\lib\\site-packages\\geopandas\\geodataframe.py:422: RuntimeWarning: Sequential read of iterator was interrupted. Resetting iterator. This can negatively impact the performance.\n",
      "  for feature in features_lst:\n",
      "C:\\conda3\\envs\\sandpyper_env\\lib\\site-packages\\geopandas\\geodataframe.py:422: RuntimeWarning: Sequential read of iterator was interrupted. Resetting iterator. This can negatively impact the performance.\n",
      "  for feature in features_lst:\n"
     ]
    },
    {
     "name": "stdout",
     "output_type": "stream",
     "text": [
      "Working on threshold 5 and min points 30.\n"
     ]
    },
    {
     "data": {
      "application/vnd.jupyter.widget-view+json": {
       "model_id": "34022824e80447b79102fb1ca065bd0b",
       "version_major": 2,
       "version_minor": 0
      },
      "text/plain": [
       "  0%|          | 0/1 [00:00<?, ?it/s]"
      ]
     },
     "metadata": {},
     "output_type": "display_data"
    },
    {
     "name": "stdout",
     "output_type": "stream",
     "text": [
      "Threshold of points per transect 24 not reached. It has 3 points.\n",
      "eliminating unreliable transects . . . \n"
     ]
    },
    {
     "name": "stderr",
     "output_type": "stream",
     "text": [
      "C:\\conda3\\envs\\sandpyper_env\\lib\\site-packages\\geopandas\\geodataframe.py:422: RuntimeWarning: Sequential read of iterator was interrupted. Resetting iterator. This can negatively impact the performance.\n",
      "  for feature in features_lst:\n",
      "C:\\conda3\\envs\\sandpyper_env\\lib\\site-packages\\geopandas\\geodataframe.py:422: RuntimeWarning: Sequential read of iterator was interrupted. Resetting iterator. This can negatively impact the performance.\n",
      "  for feature in features_lst:\n"
     ]
    },
    {
     "name": "stdout",
     "output_type": "stream",
     "text": [
      "Working on threshold 6 and min points 30.\n"
     ]
    },
    {
     "data": {
      "application/vnd.jupyter.widget-view+json": {
       "model_id": "fc39452c26de4f3689d95753e752a4db",
       "version_major": 2,
       "version_minor": 0
      },
      "text/plain": [
       "  0%|          | 0/1 [00:00<?, ?it/s]"
      ]
     },
     "metadata": {},
     "output_type": "display_data"
    },
    {
     "name": "stdout",
     "output_type": "stream",
     "text": [
      "Threshold of points per transect 24 not reached. It has 0 points.\n",
      "tr_id 24 has not enough points. Go ahead...\n",
      "eliminating unreliable transects . . . \n"
     ]
    },
    {
     "name": "stderr",
     "output_type": "stream",
     "text": [
      "C:\\conda3\\envs\\sandpyper_env\\lib\\site-packages\\geopandas\\geodataframe.py:422: RuntimeWarning: Sequential read of iterator was interrupted. Resetting iterator. This can negatively impact the performance.\n",
      "  for feature in features_lst:\n",
      "C:\\conda3\\envs\\sandpyper_env\\lib\\site-packages\\geopandas\\geodataframe.py:422: RuntimeWarning: Sequential read of iterator was interrupted. Resetting iterator. This can negatively impact the performance.\n",
      "  for feature in features_lst:\n"
     ]
    },
    {
     "name": "stdout",
     "output_type": "stream",
     "text": [
      "Working on threshold 7 and min points 30.\n"
     ]
    },
    {
     "data": {
      "application/vnd.jupyter.widget-view+json": {
       "model_id": "22e35e1401534b43a605942bd2171c5a",
       "version_major": 2,
       "version_minor": 0
      },
      "text/plain": [
       "  0%|          | 0/1 [00:00<?, ?it/s]"
      ]
     },
     "metadata": {},
     "output_type": "display_data"
    },
    {
     "name": "stdout",
     "output_type": "stream",
     "text": [
      "Threshold of points per transect 18 not reached. It has 24 points.\n",
      "Threshold of points per transect 12 not reached. It has 29 points.\n",
      "Threshold of points per transect 11 not reached. It has 22 points.\n",
      "Threshold of points per transect 10 not reached. It has 14 points.\n",
      "Threshold of points per transect 24 not reached. It has 0 points.\n",
      "tr_id 24 has not enough points. Go ahead...\n",
      "Threshold of points per transect 21 not reached. It has 27 points.\n",
      "Threshold of points per transect 5 not reached. It has 0 points.\n",
      "tr_id 5 has not enough points. Go ahead...\n",
      "Threshold of points per transect 4 not reached. It has 0 points.\n",
      "tr_id 4 has not enough points. Go ahead...\n",
      "Threshold of points per transect 3 not reached. It has 0 points.\n",
      "tr_id 3 has not enough points. Go ahead...\n",
      "eliminating unreliable transects . . . \n"
     ]
    },
    {
     "name": "stderr",
     "output_type": "stream",
     "text": [
      "C:\\conda3\\envs\\sandpyper_env\\lib\\site-packages\\geopandas\\geodataframe.py:422: RuntimeWarning: Sequential read of iterator was interrupted. Resetting iterator. This can negatively impact the performance.\n",
      "  for feature in features_lst:\n",
      "C:\\conda3\\envs\\sandpyper_env\\lib\\site-packages\\geopandas\\geodataframe.py:422: RuntimeWarning: Sequential read of iterator was interrupted. Resetting iterator. This can negatively impact the performance.\n",
      "  for feature in features_lst:\n"
     ]
    },
    {
     "name": "stdout",
     "output_type": "stream",
     "text": [
      "Working on threshold 8 and min points 30.\n"
     ]
    },
    {
     "data": {
      "application/vnd.jupyter.widget-view+json": {
       "model_id": "a143aa62ff1d45db8b26a97d6348132d",
       "version_major": 2,
       "version_minor": 0
      },
      "text/plain": [
       "  0%|          | 0/1 [00:00<?, ?it/s]"
      ]
     },
     "metadata": {},
     "output_type": "display_data"
    },
    {
     "name": "stdout",
     "output_type": "stream",
     "text": [
      "Threshold of points per transect 20 not reached. It has 4 points.\n",
      "Threshold of points per transect 18 not reached. It has 0 points.\n",
      "tr_id 18 has not enough points. Go ahead...\n",
      "Threshold of points per transect 17 not reached. It has 1 points.\n",
      "Threshold of points per transect 16 not reached. It has 1 points.\n",
      "Threshold of points per transect 15 not reached. It has 1 points.\n",
      "Threshold of points per transect 14 not reached. It has 1 points.\n",
      "Threshold of points per transect 13 not reached. It has 0 points.\n",
      "tr_id 13 has not enough points. Go ahead...\n",
      "Threshold of points per transect 12 not reached. It has 0 points.\n",
      "tr_id 12 has not enough points. Go ahead...\n",
      "Threshold of points per transect 11 not reached. It has 1 points.\n",
      "Threshold of points per transect 10 not reached. It has 0 points.\n",
      "tr_id 10 has not enough points. Go ahead...\n",
      "Threshold of points per transect 9 not reached. It has 0 points.\n",
      "tr_id 9 has not enough points. Go ahead...\n",
      "Threshold of points per transect 8 not reached. It has 1 points.\n",
      "Threshold of points per transect 6 not reached. It has 0 points.\n",
      "tr_id 6 has not enough points. Go ahead...\n",
      "Threshold of points per transect 24 not reached. It has 0 points.\n",
      "tr_id 24 has not enough points. Go ahead...\n",
      "Threshold of points per transect 23 not reached. It has 0 points.\n",
      "tr_id 23 has not enough points. Go ahead...\n",
      "Threshold of points per transect 22 not reached. It has 0 points.\n",
      "tr_id 22 has not enough points. Go ahead...\n",
      "Threshold of points per transect 21 not reached. It has 0 points.\n",
      "tr_id 21 has not enough points. Go ahead...\n",
      "Threshold of points per transect 19 not reached. It has 1 points.\n",
      "Threshold of points per transect 7 not reached. It has 0 points.\n",
      "tr_id 7 has not enough points. Go ahead...\n",
      "Threshold of points per transect 5 not reached. It has 0 points.\n",
      "tr_id 5 has not enough points. Go ahead...\n",
      "Threshold of points per transect 4 not reached. It has 0 points.\n",
      "tr_id 4 has not enough points. Go ahead...\n",
      "Threshold of points per transect 3 not reached. It has 0 points.\n",
      "tr_id 3 has not enough points. Go ahead...\n",
      "eliminating unreliable transects . . . \n",
      "Working on threshold 0 and min points 40.\n"
     ]
    },
    {
     "data": {
      "application/vnd.jupyter.widget-view+json": {
       "model_id": "2d11c687b3074799b50019d084f303c4",
       "version_major": 2,
       "version_minor": 0
      },
      "text/plain": [
       "  0%|          | 0/1 [00:00<?, ?it/s]"
      ]
     },
     "metadata": {},
     "output_type": "display_data"
    },
    {
     "name": "stdout",
     "output_type": "stream",
     "text": [
      "eliminating unreliable transects . . . \n"
     ]
    },
    {
     "name": "stderr",
     "output_type": "stream",
     "text": [
      "C:\\conda3\\envs\\sandpyper_env\\lib\\site-packages\\geopandas\\geodataframe.py:422: RuntimeWarning: Sequential read of iterator was interrupted. Resetting iterator. This can negatively impact the performance.\n",
      "  for feature in features_lst:\n",
      "C:\\conda3\\envs\\sandpyper_env\\lib\\site-packages\\geopandas\\geodataframe.py:422: RuntimeWarning: Sequential read of iterator was interrupted. Resetting iterator. This can negatively impact the performance.\n",
      "  for feature in features_lst:\n"
     ]
    },
    {
     "name": "stdout",
     "output_type": "stream",
     "text": [
      "Working on threshold 1 and min points 40.\n"
     ]
    },
    {
     "data": {
      "application/vnd.jupyter.widget-view+json": {
       "model_id": "cfc933bf96ed41318e20612466774aef",
       "version_major": 2,
       "version_minor": 0
      },
      "text/plain": [
       "  0%|          | 0/1 [00:00<?, ?it/s]"
      ]
     },
     "metadata": {},
     "output_type": "display_data"
    },
    {
     "name": "stdout",
     "output_type": "stream",
     "text": [
      "eliminating unreliable transects . . . \n"
     ]
    },
    {
     "name": "stderr",
     "output_type": "stream",
     "text": [
      "C:\\conda3\\envs\\sandpyper_env\\lib\\site-packages\\geopandas\\geodataframe.py:422: RuntimeWarning: Sequential read of iterator was interrupted. Resetting iterator. This can negatively impact the performance.\n",
      "  for feature in features_lst:\n",
      "C:\\conda3\\envs\\sandpyper_env\\lib\\site-packages\\geopandas\\geodataframe.py:422: RuntimeWarning: Sequential read of iterator was interrupted. Resetting iterator. This can negatively impact the performance.\n",
      "  for feature in features_lst:\n"
     ]
    },
    {
     "name": "stdout",
     "output_type": "stream",
     "text": [
      "Working on threshold 2 and min points 40.\n"
     ]
    },
    {
     "data": {
      "application/vnd.jupyter.widget-view+json": {
       "model_id": "f806735596e54f309d758883876f49e8",
       "version_major": 2,
       "version_minor": 0
      },
      "text/plain": [
       "  0%|          | 0/1 [00:00<?, ?it/s]"
      ]
     },
     "metadata": {},
     "output_type": "display_data"
    },
    {
     "name": "stdout",
     "output_type": "stream",
     "text": [
      "eliminating unreliable transects . . . \n"
     ]
    },
    {
     "name": "stderr",
     "output_type": "stream",
     "text": [
      "C:\\conda3\\envs\\sandpyper_env\\lib\\site-packages\\geopandas\\geodataframe.py:422: RuntimeWarning: Sequential read of iterator was interrupted. Resetting iterator. This can negatively impact the performance.\n",
      "  for feature in features_lst:\n",
      "C:\\conda3\\envs\\sandpyper_env\\lib\\site-packages\\geopandas\\geodataframe.py:422: RuntimeWarning: Sequential read of iterator was interrupted. Resetting iterator. This can negatively impact the performance.\n",
      "  for feature in features_lst:\n"
     ]
    },
    {
     "name": "stdout",
     "output_type": "stream",
     "text": [
      "Working on threshold 3 and min points 40.\n"
     ]
    },
    {
     "data": {
      "application/vnd.jupyter.widget-view+json": {
       "model_id": "a42ad869382949c08ee4220b743b91f4",
       "version_major": 2,
       "version_minor": 0
      },
      "text/plain": [
       "  0%|          | 0/1 [00:00<?, ?it/s]"
      ]
     },
     "metadata": {},
     "output_type": "display_data"
    },
    {
     "name": "stdout",
     "output_type": "stream",
     "text": [
      "Threshold of points per transect 24 not reached. It has 39 points.\n",
      "eliminating unreliable transects . . . \n"
     ]
    },
    {
     "name": "stderr",
     "output_type": "stream",
     "text": [
      "C:\\conda3\\envs\\sandpyper_env\\lib\\site-packages\\geopandas\\geodataframe.py:422: RuntimeWarning: Sequential read of iterator was interrupted. Resetting iterator. This can negatively impact the performance.\n",
      "  for feature in features_lst:\n",
      "C:\\conda3\\envs\\sandpyper_env\\lib\\site-packages\\geopandas\\geodataframe.py:422: RuntimeWarning: Sequential read of iterator was interrupted. Resetting iterator. This can negatively impact the performance.\n",
      "  for feature in features_lst:\n"
     ]
    },
    {
     "name": "stdout",
     "output_type": "stream",
     "text": [
      "Working on threshold 4 and min points 40.\n"
     ]
    },
    {
     "data": {
      "application/vnd.jupyter.widget-view+json": {
       "model_id": "409a02af325744c9a33613a68dc3cbb2",
       "version_major": 2,
       "version_minor": 0
      },
      "text/plain": [
       "  0%|          | 0/1 [00:00<?, ?it/s]"
      ]
     },
     "metadata": {},
     "output_type": "display_data"
    },
    {
     "name": "stdout",
     "output_type": "stream",
     "text": [
      "Threshold of points per transect 24 not reached. It has 20 points.\n",
      "eliminating unreliable transects . . . \n"
     ]
    },
    {
     "name": "stderr",
     "output_type": "stream",
     "text": [
      "C:\\conda3\\envs\\sandpyper_env\\lib\\site-packages\\geopandas\\geodataframe.py:422: RuntimeWarning: Sequential read of iterator was interrupted. Resetting iterator. This can negatively impact the performance.\n",
      "  for feature in features_lst:\n",
      "C:\\conda3\\envs\\sandpyper_env\\lib\\site-packages\\geopandas\\geodataframe.py:422: RuntimeWarning: Sequential read of iterator was interrupted. Resetting iterator. This can negatively impact the performance.\n",
      "  for feature in features_lst:\n"
     ]
    },
    {
     "name": "stdout",
     "output_type": "stream",
     "text": [
      "Working on threshold 5 and min points 40.\n"
     ]
    },
    {
     "data": {
      "application/vnd.jupyter.widget-view+json": {
       "model_id": "c7e907c0cf5647588a0695c039f517e6",
       "version_major": 2,
       "version_minor": 0
      },
      "text/plain": [
       "  0%|          | 0/1 [00:00<?, ?it/s]"
      ]
     },
     "metadata": {},
     "output_type": "display_data"
    },
    {
     "name": "stdout",
     "output_type": "stream",
     "text": [
      "Threshold of points per transect 24 not reached. It has 3 points.\n",
      "eliminating unreliable transects . . . \n"
     ]
    },
    {
     "name": "stderr",
     "output_type": "stream",
     "text": [
      "C:\\conda3\\envs\\sandpyper_env\\lib\\site-packages\\geopandas\\geodataframe.py:422: RuntimeWarning: Sequential read of iterator was interrupted. Resetting iterator. This can negatively impact the performance.\n",
      "  for feature in features_lst:\n",
      "C:\\conda3\\envs\\sandpyper_env\\lib\\site-packages\\geopandas\\geodataframe.py:422: RuntimeWarning: Sequential read of iterator was interrupted. Resetting iterator. This can negatively impact the performance.\n",
      "  for feature in features_lst:\n"
     ]
    },
    {
     "name": "stdout",
     "output_type": "stream",
     "text": [
      "Working on threshold 6 and min points 40.\n"
     ]
    },
    {
     "data": {
      "application/vnd.jupyter.widget-view+json": {
       "model_id": "ceae75e361214d448920ff2495979f61",
       "version_major": 2,
       "version_minor": 0
      },
      "text/plain": [
       "  0%|          | 0/1 [00:00<?, ?it/s]"
      ]
     },
     "metadata": {},
     "output_type": "display_data"
    },
    {
     "name": "stdout",
     "output_type": "stream",
     "text": [
      "Threshold of points per transect 24 not reached. It has 0 points.\n",
      "tr_id 24 has not enough points. Go ahead...\n",
      "eliminating unreliable transects . . . \n"
     ]
    },
    {
     "name": "stderr",
     "output_type": "stream",
     "text": [
      "C:\\conda3\\envs\\sandpyper_env\\lib\\site-packages\\geopandas\\geodataframe.py:422: RuntimeWarning: Sequential read of iterator was interrupted. Resetting iterator. This can negatively impact the performance.\n",
      "  for feature in features_lst:\n",
      "C:\\conda3\\envs\\sandpyper_env\\lib\\site-packages\\geopandas\\geodataframe.py:422: RuntimeWarning: Sequential read of iterator was interrupted. Resetting iterator. This can negatively impact the performance.\n",
      "  for feature in features_lst:\n"
     ]
    },
    {
     "name": "stdout",
     "output_type": "stream",
     "text": [
      "Working on threshold 7 and min points 40.\n"
     ]
    },
    {
     "data": {
      "application/vnd.jupyter.widget-view+json": {
       "model_id": "919e5e2e640041d5bde923cce5bf54b6",
       "version_major": 2,
       "version_minor": 0
      },
      "text/plain": [
       "  0%|          | 0/1 [00:00<?, ?it/s]"
      ]
     },
     "metadata": {},
     "output_type": "display_data"
    },
    {
     "name": "stdout",
     "output_type": "stream",
     "text": [
      "Threshold of points per transect 20 not reached. It has 31 points.\n",
      "Threshold of points per transect 18 not reached. It has 24 points.\n",
      "Threshold of points per transect 17 not reached. It has 36 points.\n",
      "Threshold of points per transect 16 not reached. It has 31 points.\n",
      "Threshold of points per transect 12 not reached. It has 29 points.\n",
      "Threshold of points per transect 11 not reached. It has 22 points.\n",
      "Threshold of points per transect 10 not reached. It has 14 points.\n",
      "Threshold of points per transect 9 not reached. It has 32 points.\n",
      "Threshold of points per transect 24 not reached. It has 0 points.\n",
      "tr_id 24 has not enough points. Go ahead...\n",
      "Threshold of points per transect 21 not reached. It has 27 points.\n",
      "Threshold of points per transect 5 not reached. It has 0 points.\n",
      "tr_id 5 has not enough points. Go ahead...\n",
      "Threshold of points per transect 4 not reached. It has 0 points.\n",
      "tr_id 4 has not enough points. Go ahead...\n",
      "Threshold of points per transect 3 not reached. It has 0 points.\n",
      "tr_id 3 has not enough points. Go ahead...\n",
      "eliminating unreliable transects . . . \n"
     ]
    },
    {
     "name": "stderr",
     "output_type": "stream",
     "text": [
      "C:\\conda3\\envs\\sandpyper_env\\lib\\site-packages\\geopandas\\geodataframe.py:422: RuntimeWarning: Sequential read of iterator was interrupted. Resetting iterator. This can negatively impact the performance.\n",
      "  for feature in features_lst:\n",
      "C:\\conda3\\envs\\sandpyper_env\\lib\\site-packages\\geopandas\\geodataframe.py:422: RuntimeWarning: Sequential read of iterator was interrupted. Resetting iterator. This can negatively impact the performance.\n",
      "  for feature in features_lst:\n"
     ]
    },
    {
     "name": "stdout",
     "output_type": "stream",
     "text": [
      "Working on threshold 8 and min points 40.\n"
     ]
    },
    {
     "data": {
      "application/vnd.jupyter.widget-view+json": {
       "model_id": "3da706ba42974d1186bdb00f21cf07f7",
       "version_major": 2,
       "version_minor": 0
      },
      "text/plain": [
       "  0%|          | 0/1 [00:00<?, ?it/s]"
      ]
     },
     "metadata": {},
     "output_type": "display_data"
    },
    {
     "name": "stdout",
     "output_type": "stream",
     "text": [
      "Threshold of points per transect 20 not reached. It has 4 points.\n",
      "Threshold of points per transect 18 not reached. It has 0 points.\n",
      "tr_id 18 has not enough points. Go ahead...\n",
      "Threshold of points per transect 17 not reached. It has 1 points.\n",
      "Threshold of points per transect 16 not reached. It has 1 points.\n",
      "Threshold of points per transect 15 not reached. It has 1 points.\n",
      "Threshold of points per transect 14 not reached. It has 1 points.\n",
      "Threshold of points per transect 13 not reached. It has 0 points.\n",
      "tr_id 13 has not enough points. Go ahead...\n",
      "Threshold of points per transect 12 not reached. It has 0 points.\n",
      "tr_id 12 has not enough points. Go ahead...\n",
      "Threshold of points per transect 11 not reached. It has 1 points.\n",
      "Threshold of points per transect 10 not reached. It has 0 points.\n",
      "tr_id 10 has not enough points. Go ahead...\n",
      "Threshold of points per transect 9 not reached. It has 0 points.\n",
      "tr_id 9 has not enough points. Go ahead...\n",
      "Threshold of points per transect 8 not reached. It has 1 points.\n",
      "Threshold of points per transect 6 not reached. It has 0 points.\n",
      "tr_id 6 has not enough points. Go ahead...\n",
      "Threshold of points per transect 24 not reached. It has 0 points.\n",
      "tr_id 24 has not enough points. Go ahead...\n",
      "Threshold of points per transect 23 not reached. It has 0 points.\n",
      "tr_id 23 has not enough points. Go ahead...\n",
      "Threshold of points per transect 22 not reached. It has 0 points.\n",
      "tr_id 22 has not enough points. Go ahead...\n",
      "Threshold of points per transect 21 not reached. It has 0 points.\n",
      "tr_id 21 has not enough points. Go ahead...\n",
      "Threshold of points per transect 19 not reached. It has 1 points.\n",
      "Threshold of points per transect 7 not reached. It has 0 points.\n",
      "tr_id 7 has not enough points. Go ahead...\n",
      "Threshold of points per transect 5 not reached. It has 0 points.\n",
      "tr_id 5 has not enough points. Go ahead...\n",
      "Threshold of points per transect 4 not reached. It has 0 points.\n",
      "tr_id 4 has not enough points. Go ahead...\n",
      "Threshold of points per transect 3 not reached. It has 0 points.\n",
      "tr_id 3 has not enough points. Go ahead...\n",
      "eliminating unreliable transects . . . \n",
      "Working on threshold 0 and min points 50.\n"
     ]
    },
    {
     "data": {
      "application/vnd.jupyter.widget-view+json": {
       "model_id": "8d7cd99ba8c643b6a8e51523c9a5c05b",
       "version_major": 2,
       "version_minor": 0
      },
      "text/plain": [
       "  0%|          | 0/1 [00:00<?, ?it/s]"
      ]
     },
     "metadata": {},
     "output_type": "display_data"
    },
    {
     "name": "stdout",
     "output_type": "stream",
     "text": [
      "eliminating unreliable transects . . . \n"
     ]
    },
    {
     "name": "stderr",
     "output_type": "stream",
     "text": [
      "C:\\conda3\\envs\\sandpyper_env\\lib\\site-packages\\geopandas\\geodataframe.py:422: RuntimeWarning: Sequential read of iterator was interrupted. Resetting iterator. This can negatively impact the performance.\n",
      "  for feature in features_lst:\n",
      "C:\\conda3\\envs\\sandpyper_env\\lib\\site-packages\\geopandas\\geodataframe.py:422: RuntimeWarning: Sequential read of iterator was interrupted. Resetting iterator. This can negatively impact the performance.\n",
      "  for feature in features_lst:\n"
     ]
    },
    {
     "name": "stdout",
     "output_type": "stream",
     "text": [
      "Working on threshold 1 and min points 50.\n"
     ]
    },
    {
     "data": {
      "application/vnd.jupyter.widget-view+json": {
       "model_id": "37d55757c5644b789f3700a224081d7c",
       "version_major": 2,
       "version_minor": 0
      },
      "text/plain": [
       "  0%|          | 0/1 [00:00<?, ?it/s]"
      ]
     },
     "metadata": {},
     "output_type": "display_data"
    },
    {
     "name": "stdout",
     "output_type": "stream",
     "text": [
      "eliminating unreliable transects . . . \n"
     ]
    },
    {
     "name": "stderr",
     "output_type": "stream",
     "text": [
      "C:\\conda3\\envs\\sandpyper_env\\lib\\site-packages\\geopandas\\geodataframe.py:422: RuntimeWarning: Sequential read of iterator was interrupted. Resetting iterator. This can negatively impact the performance.\n",
      "  for feature in features_lst:\n",
      "C:\\conda3\\envs\\sandpyper_env\\lib\\site-packages\\geopandas\\geodataframe.py:422: RuntimeWarning: Sequential read of iterator was interrupted. Resetting iterator. This can negatively impact the performance.\n",
      "  for feature in features_lst:\n"
     ]
    },
    {
     "name": "stdout",
     "output_type": "stream",
     "text": [
      "Working on threshold 2 and min points 50.\n"
     ]
    },
    {
     "data": {
      "application/vnd.jupyter.widget-view+json": {
       "model_id": "a7f9ae35379d4a3d88482d62745cab1e",
       "version_major": 2,
       "version_minor": 0
      },
      "text/plain": [
       "  0%|          | 0/1 [00:00<?, ?it/s]"
      ]
     },
     "metadata": {},
     "output_type": "display_data"
    },
    {
     "name": "stdout",
     "output_type": "stream",
     "text": [
      "eliminating unreliable transects . . . \n"
     ]
    },
    {
     "name": "stderr",
     "output_type": "stream",
     "text": [
      "C:\\conda3\\envs\\sandpyper_env\\lib\\site-packages\\geopandas\\geodataframe.py:422: RuntimeWarning: Sequential read of iterator was interrupted. Resetting iterator. This can negatively impact the performance.\n",
      "  for feature in features_lst:\n",
      "C:\\conda3\\envs\\sandpyper_env\\lib\\site-packages\\geopandas\\geodataframe.py:422: RuntimeWarning: Sequential read of iterator was interrupted. Resetting iterator. This can negatively impact the performance.\n",
      "  for feature in features_lst:\n"
     ]
    },
    {
     "name": "stdout",
     "output_type": "stream",
     "text": [
      "Working on threshold 3 and min points 50.\n"
     ]
    },
    {
     "data": {
      "application/vnd.jupyter.widget-view+json": {
       "model_id": "96b7a98ea7db4a68b6bb7b06e814f607",
       "version_major": 2,
       "version_minor": 0
      },
      "text/plain": [
       "  0%|          | 0/1 [00:00<?, ?it/s]"
      ]
     },
     "metadata": {},
     "output_type": "display_data"
    },
    {
     "name": "stdout",
     "output_type": "stream",
     "text": [
      "Threshold of points per transect 24 not reached. It has 39 points.\n",
      "eliminating unreliable transects . . . \n"
     ]
    },
    {
     "name": "stderr",
     "output_type": "stream",
     "text": [
      "C:\\conda3\\envs\\sandpyper_env\\lib\\site-packages\\geopandas\\geodataframe.py:422: RuntimeWarning: Sequential read of iterator was interrupted. Resetting iterator. This can negatively impact the performance.\n",
      "  for feature in features_lst:\n",
      "C:\\conda3\\envs\\sandpyper_env\\lib\\site-packages\\geopandas\\geodataframe.py:422: RuntimeWarning: Sequential read of iterator was interrupted. Resetting iterator. This can negatively impact the performance.\n",
      "  for feature in features_lst:\n"
     ]
    },
    {
     "name": "stdout",
     "output_type": "stream",
     "text": [
      "Working on threshold 4 and min points 50.\n"
     ]
    },
    {
     "data": {
      "application/vnd.jupyter.widget-view+json": {
       "model_id": "b45497d084f64c00b32fa2854b23a31a",
       "version_major": 2,
       "version_minor": 0
      },
      "text/plain": [
       "  0%|          | 0/1 [00:00<?, ?it/s]"
      ]
     },
     "metadata": {},
     "output_type": "display_data"
    },
    {
     "name": "stdout",
     "output_type": "stream",
     "text": [
      "Threshold of points per transect 24 not reached. It has 20 points.\n",
      "eliminating unreliable transects . . . \n"
     ]
    },
    {
     "name": "stderr",
     "output_type": "stream",
     "text": [
      "C:\\conda3\\envs\\sandpyper_env\\lib\\site-packages\\geopandas\\geodataframe.py:422: RuntimeWarning: Sequential read of iterator was interrupted. Resetting iterator. This can negatively impact the performance.\n",
      "  for feature in features_lst:\n",
      "C:\\conda3\\envs\\sandpyper_env\\lib\\site-packages\\geopandas\\geodataframe.py:422: RuntimeWarning: Sequential read of iterator was interrupted. Resetting iterator. This can negatively impact the performance.\n",
      "  for feature in features_lst:\n"
     ]
    },
    {
     "name": "stdout",
     "output_type": "stream",
     "text": [
      "Working on threshold 5 and min points 50.\n"
     ]
    },
    {
     "data": {
      "application/vnd.jupyter.widget-view+json": {
       "model_id": "71f0d880969f43a88493dc6de0c654f8",
       "version_major": 2,
       "version_minor": 0
      },
      "text/plain": [
       "  0%|          | 0/1 [00:00<?, ?it/s]"
      ]
     },
     "metadata": {},
     "output_type": "display_data"
    },
    {
     "name": "stdout",
     "output_type": "stream",
     "text": [
      "Threshold of points per transect 24 not reached. It has 3 points.\n",
      "eliminating unreliable transects . . . \n"
     ]
    },
    {
     "name": "stderr",
     "output_type": "stream",
     "text": [
      "C:\\conda3\\envs\\sandpyper_env\\lib\\site-packages\\geopandas\\geodataframe.py:422: RuntimeWarning: Sequential read of iterator was interrupted. Resetting iterator. This can negatively impact the performance.\n",
      "  for feature in features_lst:\n",
      "C:\\conda3\\envs\\sandpyper_env\\lib\\site-packages\\geopandas\\geodataframe.py:422: RuntimeWarning: Sequential read of iterator was interrupted. Resetting iterator. This can negatively impact the performance.\n",
      "  for feature in features_lst:\n"
     ]
    },
    {
     "name": "stdout",
     "output_type": "stream",
     "text": [
      "Working on threshold 6 and min points 50.\n"
     ]
    },
    {
     "data": {
      "application/vnd.jupyter.widget-view+json": {
       "model_id": "6afd2fc548f84a92a8c9edf662683d94",
       "version_major": 2,
       "version_minor": 0
      },
      "text/plain": [
       "  0%|          | 0/1 [00:00<?, ?it/s]"
      ]
     },
     "metadata": {},
     "output_type": "display_data"
    },
    {
     "name": "stdout",
     "output_type": "stream",
     "text": [
      "Threshold of points per transect 24 not reached. It has 0 points.\n",
      "tr_id 24 has not enough points. Go ahead...\n",
      "Threshold of points per transect 4 not reached. It has 44 points.\n",
      "eliminating unreliable transects . . . \n"
     ]
    },
    {
     "name": "stderr",
     "output_type": "stream",
     "text": [
      "C:\\conda3\\envs\\sandpyper_env\\lib\\site-packages\\geopandas\\geodataframe.py:422: RuntimeWarning: Sequential read of iterator was interrupted. Resetting iterator. This can negatively impact the performance.\n",
      "  for feature in features_lst:\n",
      "C:\\conda3\\envs\\sandpyper_env\\lib\\site-packages\\geopandas\\geodataframe.py:422: RuntimeWarning: Sequential read of iterator was interrupted. Resetting iterator. This can negatively impact the performance.\n",
      "  for feature in features_lst:\n"
     ]
    },
    {
     "name": "stdout",
     "output_type": "stream",
     "text": [
      "Working on threshold 7 and min points 50.\n"
     ]
    },
    {
     "data": {
      "application/vnd.jupyter.widget-view+json": {
       "model_id": "7944d0800a164138b8bf39c0ed76d915",
       "version_major": 2,
       "version_minor": 0
      },
      "text/plain": [
       "  0%|          | 0/1 [00:00<?, ?it/s]"
      ]
     },
     "metadata": {},
     "output_type": "display_data"
    },
    {
     "name": "stdout",
     "output_type": "stream",
     "text": [
      "Threshold of points per transect 20 not reached. It has 31 points.\n",
      "Threshold of points per transect 18 not reached. It has 24 points.\n",
      "Threshold of points per transect 17 not reached. It has 36 points.\n",
      "Threshold of points per transect 16 not reached. It has 31 points.\n",
      "Threshold of points per transect 12 not reached. It has 29 points.\n",
      "Threshold of points per transect 11 not reached. It has 22 points.\n",
      "Threshold of points per transect 10 not reached. It has 14 points.\n",
      "Threshold of points per transect 9 not reached. It has 32 points.\n",
      "Threshold of points per transect 8 not reached. It has 47 points.\n",
      "Threshold of points per transect 6 not reached. It has 45 points.\n",
      "Threshold of points per transect 24 not reached. It has 0 points.\n",
      "tr_id 24 has not enough points. Go ahead...\n",
      "Threshold of points per transect 22 not reached. It has 45 points.\n",
      "Threshold of points per transect 21 not reached. It has 27 points.\n",
      "Threshold of points per transect 5 not reached. It has 0 points.\n",
      "tr_id 5 has not enough points. Go ahead...\n",
      "Threshold of points per transect 4 not reached. It has 0 points.\n",
      "tr_id 4 has not enough points. Go ahead...\n",
      "Threshold of points per transect 3 not reached. It has 0 points.\n",
      "tr_id 3 has not enough points. Go ahead...\n",
      "eliminating unreliable transects . . . \n"
     ]
    },
    {
     "name": "stderr",
     "output_type": "stream",
     "text": [
      "C:\\conda3\\envs\\sandpyper_env\\lib\\site-packages\\geopandas\\geodataframe.py:422: RuntimeWarning: Sequential read of iterator was interrupted. Resetting iterator. This can negatively impact the performance.\n",
      "  for feature in features_lst:\n",
      "C:\\conda3\\envs\\sandpyper_env\\lib\\site-packages\\geopandas\\geodataframe.py:422: RuntimeWarning: Sequential read of iterator was interrupted. Resetting iterator. This can negatively impact the performance.\n",
      "  for feature in features_lst:\n"
     ]
    },
    {
     "name": "stdout",
     "output_type": "stream",
     "text": [
      "Working on threshold 8 and min points 50.\n"
     ]
    },
    {
     "data": {
      "application/vnd.jupyter.widget-view+json": {
       "model_id": "2fefa59047634588a53515807d7af5cd",
       "version_major": 2,
       "version_minor": 0
      },
      "text/plain": [
       "  0%|          | 0/1 [00:00<?, ?it/s]"
      ]
     },
     "metadata": {},
     "output_type": "display_data"
    },
    {
     "name": "stdout",
     "output_type": "stream",
     "text": [
      "Threshold of points per transect 20 not reached. It has 4 points.\n",
      "Threshold of points per transect 18 not reached. It has 0 points.\n",
      "tr_id 18 has not enough points. Go ahead...\n",
      "Threshold of points per transect 17 not reached. It has 1 points.\n",
      "Threshold of points per transect 16 not reached. It has 1 points.\n",
      "Threshold of points per transect 15 not reached. It has 1 points.\n",
      "Threshold of points per transect 14 not reached. It has 1 points.\n",
      "Threshold of points per transect 13 not reached. It has 0 points.\n",
      "tr_id 13 has not enough points. Go ahead...\n",
      "Threshold of points per transect 12 not reached. It has 0 points.\n",
      "tr_id 12 has not enough points. Go ahead...\n",
      "Threshold of points per transect 11 not reached. It has 1 points.\n",
      "Threshold of points per transect 10 not reached. It has 0 points.\n",
      "tr_id 10 has not enough points. Go ahead...\n",
      "Threshold of points per transect 9 not reached. It has 0 points.\n",
      "tr_id 9 has not enough points. Go ahead...\n",
      "Threshold of points per transect 8 not reached. It has 1 points.\n",
      "Threshold of points per transect 6 not reached. It has 0 points.\n",
      "tr_id 6 has not enough points. Go ahead...\n",
      "Threshold of points per transect 24 not reached. It has 0 points.\n",
      "tr_id 24 has not enough points. Go ahead...\n",
      "Threshold of points per transect 23 not reached. It has 0 points.\n",
      "tr_id 23 has not enough points. Go ahead...\n",
      "Threshold of points per transect 22 not reached. It has 0 points.\n",
      "tr_id 22 has not enough points. Go ahead...\n",
      "Threshold of points per transect 21 not reached. It has 0 points.\n",
      "tr_id 21 has not enough points. Go ahead...\n",
      "Threshold of points per transect 19 not reached. It has 1 points.\n",
      "Threshold of points per transect 7 not reached. It has 0 points.\n",
      "tr_id 7 has not enough points. Go ahead...\n",
      "Threshold of points per transect 5 not reached. It has 0 points.\n",
      "tr_id 5 has not enough points. Go ahead...\n",
      "Threshold of points per transect 4 not reached. It has 0 points.\n",
      "tr_id 4 has not enough points. Go ahead...\n",
      "Threshold of points per transect 3 not reached. It has 0 points.\n",
      "tr_id 3 has not enough points. Go ahead...\n",
      "eliminating unreliable transects . . . \n",
      "Working on threshold 0 and min points 60.\n"
     ]
    },
    {
     "data": {
      "application/vnd.jupyter.widget-view+json": {
       "model_id": "ec652e93666c495f9a5e9cba06c9e47f",
       "version_major": 2,
       "version_minor": 0
      },
      "text/plain": [
       "  0%|          | 0/1 [00:00<?, ?it/s]"
      ]
     },
     "metadata": {},
     "output_type": "display_data"
    },
    {
     "name": "stdout",
     "output_type": "stream",
     "text": [
      "eliminating unreliable transects . . . \n"
     ]
    },
    {
     "name": "stderr",
     "output_type": "stream",
     "text": [
      "C:\\conda3\\envs\\sandpyper_env\\lib\\site-packages\\geopandas\\geodataframe.py:422: RuntimeWarning: Sequential read of iterator was interrupted. Resetting iterator. This can negatively impact the performance.\n",
      "  for feature in features_lst:\n",
      "C:\\conda3\\envs\\sandpyper_env\\lib\\site-packages\\geopandas\\geodataframe.py:422: RuntimeWarning: Sequential read of iterator was interrupted. Resetting iterator. This can negatively impact the performance.\n",
      "  for feature in features_lst:\n"
     ]
    },
    {
     "name": "stdout",
     "output_type": "stream",
     "text": [
      "Working on threshold 1 and min points 60.\n"
     ]
    },
    {
     "data": {
      "application/vnd.jupyter.widget-view+json": {
       "model_id": "a8808007cf34470c8338da888b2caf8a",
       "version_major": 2,
       "version_minor": 0
      },
      "text/plain": [
       "  0%|          | 0/1 [00:00<?, ?it/s]"
      ]
     },
     "metadata": {},
     "output_type": "display_data"
    },
    {
     "name": "stdout",
     "output_type": "stream",
     "text": [
      "eliminating unreliable transects . . . \n"
     ]
    },
    {
     "name": "stderr",
     "output_type": "stream",
     "text": [
      "C:\\conda3\\envs\\sandpyper_env\\lib\\site-packages\\geopandas\\geodataframe.py:422: RuntimeWarning: Sequential read of iterator was interrupted. Resetting iterator. This can negatively impact the performance.\n",
      "  for feature in features_lst:\n",
      "C:\\conda3\\envs\\sandpyper_env\\lib\\site-packages\\geopandas\\geodataframe.py:422: RuntimeWarning: Sequential read of iterator was interrupted. Resetting iterator. This can negatively impact the performance.\n",
      "  for feature in features_lst:\n"
     ]
    },
    {
     "name": "stdout",
     "output_type": "stream",
     "text": [
      "Working on threshold 2 and min points 60.\n"
     ]
    },
    {
     "data": {
      "application/vnd.jupyter.widget-view+json": {
       "model_id": "54de8610724b48cda1bc3a7064f07bac",
       "version_major": 2,
       "version_minor": 0
      },
      "text/plain": [
       "  0%|          | 0/1 [00:00<?, ?it/s]"
      ]
     },
     "metadata": {},
     "output_type": "display_data"
    },
    {
     "name": "stdout",
     "output_type": "stream",
     "text": [
      "Threshold of points per transect 24 not reached. It has 54 points.\n",
      "eliminating unreliable transects . . . \n"
     ]
    },
    {
     "name": "stderr",
     "output_type": "stream",
     "text": [
      "C:\\conda3\\envs\\sandpyper_env\\lib\\site-packages\\geopandas\\geodataframe.py:422: RuntimeWarning: Sequential read of iterator was interrupted. Resetting iterator. This can negatively impact the performance.\n",
      "  for feature in features_lst:\n",
      "C:\\conda3\\envs\\sandpyper_env\\lib\\site-packages\\geopandas\\geodataframe.py:422: RuntimeWarning: Sequential read of iterator was interrupted. Resetting iterator. This can negatively impact the performance.\n",
      "  for feature in features_lst:\n"
     ]
    },
    {
     "name": "stdout",
     "output_type": "stream",
     "text": [
      "Working on threshold 3 and min points 60.\n"
     ]
    },
    {
     "data": {
      "application/vnd.jupyter.widget-view+json": {
       "model_id": "4cc58e7f721142bfb8620bf5b90c240c",
       "version_major": 2,
       "version_minor": 0
      },
      "text/plain": [
       "  0%|          | 0/1 [00:00<?, ?it/s]"
      ]
     },
     "metadata": {},
     "output_type": "display_data"
    },
    {
     "name": "stdout",
     "output_type": "stream",
     "text": [
      "Threshold of points per transect 24 not reached. It has 39 points.\n",
      "eliminating unreliable transects . . . \n"
     ]
    },
    {
     "name": "stderr",
     "output_type": "stream",
     "text": [
      "C:\\conda3\\envs\\sandpyper_env\\lib\\site-packages\\geopandas\\geodataframe.py:422: RuntimeWarning: Sequential read of iterator was interrupted. Resetting iterator. This can negatively impact the performance.\n",
      "  for feature in features_lst:\n",
      "C:\\conda3\\envs\\sandpyper_env\\lib\\site-packages\\geopandas\\geodataframe.py:422: RuntimeWarning: Sequential read of iterator was interrupted. Resetting iterator. This can negatively impact the performance.\n",
      "  for feature in features_lst:\n"
     ]
    },
    {
     "name": "stdout",
     "output_type": "stream",
     "text": [
      "Working on threshold 4 and min points 60.\n"
     ]
    },
    {
     "data": {
      "application/vnd.jupyter.widget-view+json": {
       "model_id": "338ce18836ee41989d682e0cd848fb1d",
       "version_major": 2,
       "version_minor": 0
      },
      "text/plain": [
       "  0%|          | 0/1 [00:00<?, ?it/s]"
      ]
     },
     "metadata": {},
     "output_type": "display_data"
    },
    {
     "name": "stdout",
     "output_type": "stream",
     "text": [
      "Threshold of points per transect 24 not reached. It has 20 points.\n",
      "eliminating unreliable transects . . . \n"
     ]
    },
    {
     "name": "stderr",
     "output_type": "stream",
     "text": [
      "C:\\conda3\\envs\\sandpyper_env\\lib\\site-packages\\geopandas\\geodataframe.py:422: RuntimeWarning: Sequential read of iterator was interrupted. Resetting iterator. This can negatively impact the performance.\n",
      "  for feature in features_lst:\n",
      "C:\\conda3\\envs\\sandpyper_env\\lib\\site-packages\\geopandas\\geodataframe.py:422: RuntimeWarning: Sequential read of iterator was interrupted. Resetting iterator. This can negatively impact the performance.\n",
      "  for feature in features_lst:\n"
     ]
    },
    {
     "name": "stdout",
     "output_type": "stream",
     "text": [
      "Working on threshold 5 and min points 60.\n"
     ]
    },
    {
     "data": {
      "application/vnd.jupyter.widget-view+json": {
       "model_id": "a96603b0ebe647a897a0be5bba8bab8f",
       "version_major": 2,
       "version_minor": 0
      },
      "text/plain": [
       "  0%|          | 0/1 [00:00<?, ?it/s]"
      ]
     },
     "metadata": {},
     "output_type": "display_data"
    },
    {
     "name": "stdout",
     "output_type": "stream",
     "text": [
      "Threshold of points per transect 24 not reached. It has 3 points.\n",
      "eliminating unreliable transects . . . \n"
     ]
    },
    {
     "name": "stderr",
     "output_type": "stream",
     "text": [
      "C:\\conda3\\envs\\sandpyper_env\\lib\\site-packages\\geopandas\\geodataframe.py:422: RuntimeWarning: Sequential read of iterator was interrupted. Resetting iterator. This can negatively impact the performance.\n",
      "  for feature in features_lst:\n",
      "C:\\conda3\\envs\\sandpyper_env\\lib\\site-packages\\geopandas\\geodataframe.py:422: RuntimeWarning: Sequential read of iterator was interrupted. Resetting iterator. This can negatively impact the performance.\n",
      "  for feature in features_lst:\n"
     ]
    },
    {
     "name": "stdout",
     "output_type": "stream",
     "text": [
      "Working on threshold 6 and min points 60.\n"
     ]
    },
    {
     "data": {
      "application/vnd.jupyter.widget-view+json": {
       "model_id": "eb0391fc90d34aaa8d67a8a36d40f620",
       "version_major": 2,
       "version_minor": 0
      },
      "text/plain": [
       "  0%|          | 0/1 [00:00<?, ?it/s]"
      ]
     },
     "metadata": {},
     "output_type": "display_data"
    },
    {
     "name": "stdout",
     "output_type": "stream",
     "text": [
      "Threshold of points per transect 24 not reached. It has 0 points.\n",
      "tr_id 24 has not enough points. Go ahead...\n",
      "Threshold of points per transect 4 not reached. It has 44 points.\n",
      "eliminating unreliable transects . . . \n"
     ]
    },
    {
     "name": "stderr",
     "output_type": "stream",
     "text": [
      "C:\\conda3\\envs\\sandpyper_env\\lib\\site-packages\\geopandas\\geodataframe.py:422: RuntimeWarning: Sequential read of iterator was interrupted. Resetting iterator. This can negatively impact the performance.\n",
      "  for feature in features_lst:\n",
      "C:\\conda3\\envs\\sandpyper_env\\lib\\site-packages\\geopandas\\geodataframe.py:422: RuntimeWarning: Sequential read of iterator was interrupted. Resetting iterator. This can negatively impact the performance.\n",
      "  for feature in features_lst:\n"
     ]
    },
    {
     "name": "stdout",
     "output_type": "stream",
     "text": [
      "Working on threshold 7 and min points 60.\n"
     ]
    },
    {
     "data": {
      "application/vnd.jupyter.widget-view+json": {
       "model_id": "5ca6c395cb024fb38df3205aa53a6389",
       "version_major": 2,
       "version_minor": 0
      },
      "text/plain": [
       "  0%|          | 0/1 [00:00<?, ?it/s]"
      ]
     },
     "metadata": {},
     "output_type": "display_data"
    },
    {
     "name": "stdout",
     "output_type": "stream",
     "text": [
      "Threshold of points per transect 20 not reached. It has 31 points.\n",
      "Threshold of points per transect 18 not reached. It has 24 points.\n",
      "Threshold of points per transect 17 not reached. It has 36 points.\n",
      "Threshold of points per transect 16 not reached. It has 31 points.\n",
      "Threshold of points per transect 14 not reached. It has 52 points.\n",
      "Threshold of points per transect 13 not reached. It has 57 points.\n",
      "Threshold of points per transect 12 not reached. It has 29 points.\n",
      "Threshold of points per transect 11 not reached. It has 22 points.\n",
      "Threshold of points per transect 10 not reached. It has 14 points.\n",
      "Threshold of points per transect 9 not reached. It has 32 points.\n",
      "Threshold of points per transect 8 not reached. It has 47 points.\n",
      "Threshold of points per transect 6 not reached. It has 45 points.\n",
      "Threshold of points per transect 24 not reached. It has 0 points.\n",
      "tr_id 24 has not enough points. Go ahead...\n",
      "Threshold of points per transect 23 not reached. It has 52 points.\n",
      "Threshold of points per transect 22 not reached. It has 45 points.\n",
      "Threshold of points per transect 21 not reached. It has 27 points.\n",
      "Threshold of points per transect 5 not reached. It has 0 points.\n",
      "tr_id 5 has not enough points. Go ahead...\n",
      "Threshold of points per transect 4 not reached. It has 0 points.\n",
      "tr_id 4 has not enough points. Go ahead...\n",
      "Threshold of points per transect 3 not reached. It has 0 points.\n",
      "tr_id 3 has not enough points. Go ahead...\n",
      "eliminating unreliable transects . . . \n"
     ]
    },
    {
     "name": "stderr",
     "output_type": "stream",
     "text": [
      "C:\\conda3\\envs\\sandpyper_env\\lib\\site-packages\\geopandas\\geodataframe.py:422: RuntimeWarning: Sequential read of iterator was interrupted. Resetting iterator. This can negatively impact the performance.\n",
      "  for feature in features_lst:\n",
      "C:\\conda3\\envs\\sandpyper_env\\lib\\site-packages\\geopandas\\geodataframe.py:422: RuntimeWarning: Sequential read of iterator was interrupted. Resetting iterator. This can negatively impact the performance.\n",
      "  for feature in features_lst:\n"
     ]
    },
    {
     "name": "stdout",
     "output_type": "stream",
     "text": [
      "Working on threshold 8 and min points 60.\n"
     ]
    },
    {
     "data": {
      "application/vnd.jupyter.widget-view+json": {
       "model_id": "a01729988c534d2b98f144b193268806",
       "version_major": 2,
       "version_minor": 0
      },
      "text/plain": [
       "  0%|          | 0/1 [00:00<?, ?it/s]"
      ]
     },
     "metadata": {},
     "output_type": "display_data"
    },
    {
     "name": "stdout",
     "output_type": "stream",
     "text": [
      "Threshold of points per transect 20 not reached. It has 4 points.\n",
      "Threshold of points per transect 18 not reached. It has 0 points.\n",
      "tr_id 18 has not enough points. Go ahead...\n",
      "Threshold of points per transect 17 not reached. It has 1 points.\n",
      "Threshold of points per transect 16 not reached. It has 1 points.\n",
      "Threshold of points per transect 15 not reached. It has 1 points.\n",
      "Threshold of points per transect 14 not reached. It has 1 points.\n",
      "Threshold of points per transect 13 not reached. It has 0 points.\n",
      "tr_id 13 has not enough points. Go ahead...\n",
      "Threshold of points per transect 12 not reached. It has 0 points.\n",
      "tr_id 12 has not enough points. Go ahead...\n",
      "Threshold of points per transect 11 not reached. It has 1 points.\n",
      "Threshold of points per transect 10 not reached. It has 0 points.\n",
      "tr_id 10 has not enough points. Go ahead...\n",
      "Threshold of points per transect 9 not reached. It has 0 points.\n",
      "tr_id 9 has not enough points. Go ahead...\n",
      "Threshold of points per transect 8 not reached. It has 1 points.\n",
      "Threshold of points per transect 6 not reached. It has 0 points.\n",
      "tr_id 6 has not enough points. Go ahead...\n",
      "Threshold of points per transect 24 not reached. It has 0 points.\n",
      "tr_id 24 has not enough points. Go ahead...\n",
      "Threshold of points per transect 23 not reached. It has 0 points.\n",
      "tr_id 23 has not enough points. Go ahead...\n",
      "Threshold of points per transect 22 not reached. It has 0 points.\n",
      "tr_id 22 has not enough points. Go ahead...\n",
      "Threshold of points per transect 21 not reached. It has 0 points.\n",
      "tr_id 21 has not enough points. Go ahead...\n",
      "Threshold of points per transect 19 not reached. It has 1 points.\n",
      "Threshold of points per transect 7 not reached. It has 0 points.\n",
      "tr_id 7 has not enough points. Go ahead...\n",
      "Threshold of points per transect 5 not reached. It has 0 points.\n",
      "tr_id 5 has not enough points. Go ahead...\n",
      "Threshold of points per transect 4 not reached. It has 0 points.\n",
      "tr_id 4 has not enough points. Go ahead...\n",
      "Threshold of points per transect 3 not reached. It has 0 points.\n",
      "tr_id 3 has not enough points. Go ahead...\n",
      "eliminating unreliable transects . . . \n",
      "Working on threshold 0 and min points 70.\n"
     ]
    },
    {
     "data": {
      "application/vnd.jupyter.widget-view+json": {
       "model_id": "648c5fa8fa1940dcb63e18da43ba6521",
       "version_major": 2,
       "version_minor": 0
      },
      "text/plain": [
       "  0%|          | 0/1 [00:00<?, ?it/s]"
      ]
     },
     "metadata": {},
     "output_type": "display_data"
    },
    {
     "name": "stdout",
     "output_type": "stream",
     "text": [
      "eliminating unreliable transects . . . \n"
     ]
    },
    {
     "name": "stderr",
     "output_type": "stream",
     "text": [
      "C:\\conda3\\envs\\sandpyper_env\\lib\\site-packages\\geopandas\\geodataframe.py:422: RuntimeWarning: Sequential read of iterator was interrupted. Resetting iterator. This can negatively impact the performance.\n",
      "  for feature in features_lst:\n",
      "C:\\conda3\\envs\\sandpyper_env\\lib\\site-packages\\geopandas\\geodataframe.py:422: RuntimeWarning: Sequential read of iterator was interrupted. Resetting iterator. This can negatively impact the performance.\n",
      "  for feature in features_lst:\n"
     ]
    },
    {
     "name": "stdout",
     "output_type": "stream",
     "text": [
      "Working on threshold 1 and min points 70.\n"
     ]
    },
    {
     "data": {
      "application/vnd.jupyter.widget-view+json": {
       "model_id": "3450d69e01f6401fb83816e94bfbfd81",
       "version_major": 2,
       "version_minor": 0
      },
      "text/plain": [
       "  0%|          | 0/1 [00:00<?, ?it/s]"
      ]
     },
     "metadata": {},
     "output_type": "display_data"
    },
    {
     "name": "stdout",
     "output_type": "stream",
     "text": [
      "eliminating unreliable transects . . . \n"
     ]
    },
    {
     "name": "stderr",
     "output_type": "stream",
     "text": [
      "C:\\conda3\\envs\\sandpyper_env\\lib\\site-packages\\geopandas\\geodataframe.py:422: RuntimeWarning: Sequential read of iterator was interrupted. Resetting iterator. This can negatively impact the performance.\n",
      "  for feature in features_lst:\n",
      "C:\\conda3\\envs\\sandpyper_env\\lib\\site-packages\\geopandas\\geodataframe.py:422: RuntimeWarning: Sequential read of iterator was interrupted. Resetting iterator. This can negatively impact the performance.\n",
      "  for feature in features_lst:\n"
     ]
    },
    {
     "name": "stdout",
     "output_type": "stream",
     "text": [
      "Working on threshold 2 and min points 70.\n"
     ]
    },
    {
     "data": {
      "application/vnd.jupyter.widget-view+json": {
       "model_id": "d3b645171f5243f3b0a335e7c43f860e",
       "version_major": 2,
       "version_minor": 0
      },
      "text/plain": [
       "  0%|          | 0/1 [00:00<?, ?it/s]"
      ]
     },
     "metadata": {},
     "output_type": "display_data"
    },
    {
     "name": "stdout",
     "output_type": "stream",
     "text": [
      "Threshold of points per transect 24 not reached. It has 54 points.\n",
      "eliminating unreliable transects . . . \n"
     ]
    },
    {
     "name": "stderr",
     "output_type": "stream",
     "text": [
      "C:\\conda3\\envs\\sandpyper_env\\lib\\site-packages\\geopandas\\geodataframe.py:422: RuntimeWarning: Sequential read of iterator was interrupted. Resetting iterator. This can negatively impact the performance.\n",
      "  for feature in features_lst:\n",
      "C:\\conda3\\envs\\sandpyper_env\\lib\\site-packages\\geopandas\\geodataframe.py:422: RuntimeWarning: Sequential read of iterator was interrupted. Resetting iterator. This can negatively impact the performance.\n",
      "  for feature in features_lst:\n"
     ]
    },
    {
     "name": "stdout",
     "output_type": "stream",
     "text": [
      "Working on threshold 3 and min points 70.\n"
     ]
    },
    {
     "data": {
      "application/vnd.jupyter.widget-view+json": {
       "model_id": "6f1c456a733e47219a5d188eaac3118e",
       "version_major": 2,
       "version_minor": 0
      },
      "text/plain": [
       "  0%|          | 0/1 [00:00<?, ?it/s]"
      ]
     },
     "metadata": {},
     "output_type": "display_data"
    },
    {
     "name": "stdout",
     "output_type": "stream",
     "text": [
      "Threshold of points per transect 24 not reached. It has 39 points.\n",
      "eliminating unreliable transects . . . \n"
     ]
    },
    {
     "name": "stderr",
     "output_type": "stream",
     "text": [
      "C:\\conda3\\envs\\sandpyper_env\\lib\\site-packages\\geopandas\\geodataframe.py:422: RuntimeWarning: Sequential read of iterator was interrupted. Resetting iterator. This can negatively impact the performance.\n",
      "  for feature in features_lst:\n",
      "C:\\conda3\\envs\\sandpyper_env\\lib\\site-packages\\geopandas\\geodataframe.py:422: RuntimeWarning: Sequential read of iterator was interrupted. Resetting iterator. This can negatively impact the performance.\n",
      "  for feature in features_lst:\n"
     ]
    },
    {
     "name": "stdout",
     "output_type": "stream",
     "text": [
      "Working on threshold 4 and min points 70.\n"
     ]
    },
    {
     "data": {
      "application/vnd.jupyter.widget-view+json": {
       "model_id": "b4ab20530ba04d7987875fb0ce472420",
       "version_major": 2,
       "version_minor": 0
      },
      "text/plain": [
       "  0%|          | 0/1 [00:00<?, ?it/s]"
      ]
     },
     "metadata": {},
     "output_type": "display_data"
    },
    {
     "name": "stdout",
     "output_type": "stream",
     "text": [
      "Threshold of points per transect 24 not reached. It has 20 points.\n",
      "eliminating unreliable transects . . . \n"
     ]
    },
    {
     "name": "stderr",
     "output_type": "stream",
     "text": [
      "C:\\conda3\\envs\\sandpyper_env\\lib\\site-packages\\geopandas\\geodataframe.py:422: RuntimeWarning: Sequential read of iterator was interrupted. Resetting iterator. This can negatively impact the performance.\n",
      "  for feature in features_lst:\n",
      "C:\\conda3\\envs\\sandpyper_env\\lib\\site-packages\\geopandas\\geodataframe.py:422: RuntimeWarning: Sequential read of iterator was interrupted. Resetting iterator. This can negatively impact the performance.\n",
      "  for feature in features_lst:\n"
     ]
    },
    {
     "name": "stdout",
     "output_type": "stream",
     "text": [
      "Working on threshold 5 and min points 70.\n"
     ]
    },
    {
     "data": {
      "application/vnd.jupyter.widget-view+json": {
       "model_id": "4f459519ce034978944421062d5e964c",
       "version_major": 2,
       "version_minor": 0
      },
      "text/plain": [
       "  0%|          | 0/1 [00:00<?, ?it/s]"
      ]
     },
     "metadata": {},
     "output_type": "display_data"
    },
    {
     "name": "stdout",
     "output_type": "stream",
     "text": [
      "Threshold of points per transect 24 not reached. It has 3 points.\n",
      "eliminating unreliable transects . . . \n"
     ]
    },
    {
     "name": "stderr",
     "output_type": "stream",
     "text": [
      "C:\\conda3\\envs\\sandpyper_env\\lib\\site-packages\\geopandas\\geodataframe.py:422: RuntimeWarning: Sequential read of iterator was interrupted. Resetting iterator. This can negatively impact the performance.\n",
      "  for feature in features_lst:\n"
     ]
    },
    {
     "name": "stdout",
     "output_type": "stream",
     "text": [
      "Working on threshold 6 and min points 70.\n"
     ]
    },
    {
     "name": "stderr",
     "output_type": "stream",
     "text": [
      "C:\\conda3\\envs\\sandpyper_env\\lib\\site-packages\\geopandas\\geodataframe.py:422: RuntimeWarning: Sequential read of iterator was interrupted. Resetting iterator. This can negatively impact the performance.\n",
      "  for feature in features_lst:\n"
     ]
    },
    {
     "data": {
      "application/vnd.jupyter.widget-view+json": {
       "model_id": "6a0eb781a805442e8eebd32b30009572",
       "version_major": 2,
       "version_minor": 0
      },
      "text/plain": [
       "  0%|          | 0/1 [00:00<?, ?it/s]"
      ]
     },
     "metadata": {},
     "output_type": "display_data"
    },
    {
     "name": "stdout",
     "output_type": "stream",
     "text": [
      "Threshold of points per transect 24 not reached. It has 0 points.\n",
      "tr_id 24 has not enough points. Go ahead...\n",
      "Threshold of points per transect 4 not reached. It has 44 points.\n",
      "Threshold of points per transect 3 not reached. It has 60 points.\n",
      "eliminating unreliable transects . . . \n"
     ]
    },
    {
     "name": "stderr",
     "output_type": "stream",
     "text": [
      "C:\\conda3\\envs\\sandpyper_env\\lib\\site-packages\\geopandas\\geodataframe.py:422: RuntimeWarning: Sequential read of iterator was interrupted. Resetting iterator. This can negatively impact the performance.\n",
      "  for feature in features_lst:\n",
      "C:\\conda3\\envs\\sandpyper_env\\lib\\site-packages\\geopandas\\geodataframe.py:422: RuntimeWarning: Sequential read of iterator was interrupted. Resetting iterator. This can negatively impact the performance.\n",
      "  for feature in features_lst:\n"
     ]
    },
    {
     "name": "stdout",
     "output_type": "stream",
     "text": [
      "Working on threshold 7 and min points 70.\n"
     ]
    },
    {
     "data": {
      "application/vnd.jupyter.widget-view+json": {
       "model_id": "c3bcf575217d4f6b87be640d6c9234bc",
       "version_major": 2,
       "version_minor": 0
      },
      "text/plain": [
       "  0%|          | 0/1 [00:00<?, ?it/s]"
      ]
     },
     "metadata": {},
     "output_type": "display_data"
    },
    {
     "name": "stdout",
     "output_type": "stream",
     "text": [
      "Threshold of points per transect 20 not reached. It has 31 points.\n",
      "Threshold of points per transect 18 not reached. It has 24 points.\n",
      "Threshold of points per transect 17 not reached. It has 36 points.\n",
      "Threshold of points per transect 16 not reached. It has 31 points.\n",
      "Threshold of points per transect 14 not reached. It has 52 points.\n",
      "Threshold of points per transect 13 not reached. It has 57 points.\n",
      "Threshold of points per transect 12 not reached. It has 29 points.\n",
      "Threshold of points per transect 11 not reached. It has 22 points.\n",
      "Threshold of points per transect 10 not reached. It has 14 points.\n",
      "Threshold of points per transect 9 not reached. It has 32 points.\n",
      "Threshold of points per transect 8 not reached. It has 47 points.\n",
      "Threshold of points per transect 6 not reached. It has 45 points.\n",
      "Threshold of points per transect 24 not reached. It has 0 points.\n",
      "tr_id 24 has not enough points. Go ahead...\n",
      "Threshold of points per transect 23 not reached. It has 52 points.\n",
      "Threshold of points per transect 22 not reached. It has 45 points.\n",
      "Threshold of points per transect 21 not reached. It has 27 points.\n",
      "Threshold of points per transect 19 not reached. It has 62 points.\n",
      "Threshold of points per transect 7 not reached. It has 68 points.\n",
      "Threshold of points per transect 5 not reached. It has 0 points.\n",
      "tr_id 5 has not enough points. Go ahead...\n",
      "Threshold of points per transect 4 not reached. It has 0 points.\n",
      "tr_id 4 has not enough points. Go ahead...\n",
      "Threshold of points per transect 3 not reached. It has 0 points.\n",
      "tr_id 3 has not enough points. Go ahead...\n",
      "eliminating unreliable transects . . . \n",
      "Skipping\n",
      "Working on threshold 8 and min points 70.\n"
     ]
    },
    {
     "data": {
      "application/vnd.jupyter.widget-view+json": {
       "model_id": "79e1802ecda84b9d97181729ecb93cb4",
       "version_major": 2,
       "version_minor": 0
      },
      "text/plain": [
       "  0%|          | 0/1 [00:00<?, ?it/s]"
      ]
     },
     "metadata": {},
     "output_type": "display_data"
    },
    {
     "name": "stdout",
     "output_type": "stream",
     "text": [
      "Threshold of points per transect 20 not reached. It has 4 points.\n",
      "Threshold of points per transect 18 not reached. It has 0 points.\n",
      "tr_id 18 has not enough points. Go ahead...\n",
      "Threshold of points per transect 17 not reached. It has 1 points.\n",
      "Threshold of points per transect 16 not reached. It has 1 points.\n",
      "Threshold of points per transect 15 not reached. It has 1 points.\n",
      "Threshold of points per transect 14 not reached. It has 1 points.\n",
      "Threshold of points per transect 13 not reached. It has 0 points.\n",
      "tr_id 13 has not enough points. Go ahead...\n",
      "Threshold of points per transect 12 not reached. It has 0 points.\n",
      "tr_id 12 has not enough points. Go ahead...\n",
      "Threshold of points per transect 11 not reached. It has 1 points.\n",
      "Threshold of points per transect 10 not reached. It has 0 points.\n",
      "tr_id 10 has not enough points. Go ahead...\n",
      "Threshold of points per transect 9 not reached. It has 0 points.\n",
      "tr_id 9 has not enough points. Go ahead...\n",
      "Threshold of points per transect 8 not reached. It has 1 points.\n",
      "Threshold of points per transect 6 not reached. It has 0 points.\n",
      "tr_id 6 has not enough points. Go ahead...\n",
      "Threshold of points per transect 24 not reached. It has 0 points.\n",
      "tr_id 24 has not enough points. Go ahead...\n",
      "Threshold of points per transect 23 not reached. It has 0 points.\n",
      "tr_id 23 has not enough points. Go ahead...\n",
      "Threshold of points per transect 22 not reached. It has 0 points.\n",
      "tr_id 22 has not enough points. Go ahead...\n",
      "Threshold of points per transect 21 not reached. It has 0 points.\n",
      "tr_id 21 has not enough points. Go ahead...\n",
      "Threshold of points per transect 19 not reached. It has 1 points.\n",
      "Threshold of points per transect 7 not reached. It has 0 points.\n",
      "tr_id 7 has not enough points. Go ahead...\n",
      "Threshold of points per transect 5 not reached. It has 0 points.\n",
      "tr_id 5 has not enough points. Go ahead...\n",
      "Threshold of points per transect 4 not reached. It has 0 points.\n",
      "tr_id 4 has not enough points. Go ahead...\n",
      "Threshold of points per transect 3 not reached. It has 0 points.\n",
      "tr_id 3 has not enough points. Go ahead...\n",
      "eliminating unreliable transects . . . \n",
      "Working on threshold 0 and min points 80.\n"
     ]
    },
    {
     "data": {
      "application/vnd.jupyter.widget-view+json": {
       "model_id": "0ad45aed30b14137bec04378ef7029e8",
       "version_major": 2,
       "version_minor": 0
      },
      "text/plain": [
       "  0%|          | 0/1 [00:00<?, ?it/s]"
      ]
     },
     "metadata": {},
     "output_type": "display_data"
    },
    {
     "name": "stdout",
     "output_type": "stream",
     "text": [
      "Threshold of points per transect 24 not reached. It has 79 points.\n",
      "eliminating unreliable transects . . . \n"
     ]
    },
    {
     "name": "stderr",
     "output_type": "stream",
     "text": [
      "C:\\conda3\\envs\\sandpyper_env\\lib\\site-packages\\geopandas\\geodataframe.py:422: RuntimeWarning: Sequential read of iterator was interrupted. Resetting iterator. This can negatively impact the performance.\n",
      "  for feature in features_lst:\n",
      "C:\\conda3\\envs\\sandpyper_env\\lib\\site-packages\\geopandas\\geodataframe.py:422: RuntimeWarning: Sequential read of iterator was interrupted. Resetting iterator. This can negatively impact the performance.\n",
      "  for feature in features_lst:\n"
     ]
    },
    {
     "name": "stdout",
     "output_type": "stream",
     "text": [
      "Working on threshold 1 and min points 80.\n"
     ]
    },
    {
     "data": {
      "application/vnd.jupyter.widget-view+json": {
       "model_id": "1dc62846c0fe4a1c82f710f22951ac48",
       "version_major": 2,
       "version_minor": 0
      },
      "text/plain": [
       "  0%|          | 0/1 [00:00<?, ?it/s]"
      ]
     },
     "metadata": {},
     "output_type": "display_data"
    },
    {
     "name": "stdout",
     "output_type": "stream",
     "text": [
      "Threshold of points per transect 24 not reached. It has 79 points.\n",
      "eliminating unreliable transects . . . \n"
     ]
    },
    {
     "name": "stderr",
     "output_type": "stream",
     "text": [
      "C:\\conda3\\envs\\sandpyper_env\\lib\\site-packages\\geopandas\\geodataframe.py:422: RuntimeWarning: Sequential read of iterator was interrupted. Resetting iterator. This can negatively impact the performance.\n",
      "  for feature in features_lst:\n",
      "C:\\conda3\\envs\\sandpyper_env\\lib\\site-packages\\geopandas\\geodataframe.py:422: RuntimeWarning: Sequential read of iterator was interrupted. Resetting iterator. This can negatively impact the performance.\n",
      "  for feature in features_lst:\n"
     ]
    },
    {
     "name": "stdout",
     "output_type": "stream",
     "text": [
      "Working on threshold 2 and min points 80.\n"
     ]
    },
    {
     "data": {
      "application/vnd.jupyter.widget-view+json": {
       "model_id": "8118377d8b9d492694010719134ce56f",
       "version_major": 2,
       "version_minor": 0
      },
      "text/plain": [
       "  0%|          | 0/1 [00:00<?, ?it/s]"
      ]
     },
     "metadata": {},
     "output_type": "display_data"
    },
    {
     "name": "stdout",
     "output_type": "stream",
     "text": [
      "Threshold of points per transect 24 not reached. It has 54 points.\n",
      "eliminating unreliable transects . . . \n"
     ]
    },
    {
     "name": "stderr",
     "output_type": "stream",
     "text": [
      "C:\\conda3\\envs\\sandpyper_env\\lib\\site-packages\\geopandas\\geodataframe.py:422: RuntimeWarning: Sequential read of iterator was interrupted. Resetting iterator. This can negatively impact the performance.\n",
      "  for feature in features_lst:\n",
      "C:\\conda3\\envs\\sandpyper_env\\lib\\site-packages\\geopandas\\geodataframe.py:422: RuntimeWarning: Sequential read of iterator was interrupted. Resetting iterator. This can negatively impact the performance.\n",
      "  for feature in features_lst:\n"
     ]
    },
    {
     "name": "stdout",
     "output_type": "stream",
     "text": [
      "Working on threshold 3 and min points 80.\n"
     ]
    },
    {
     "data": {
      "application/vnd.jupyter.widget-view+json": {
       "model_id": "dc278ca3b91449f381f7b3bf243fe3be",
       "version_major": 2,
       "version_minor": 0
      },
      "text/plain": [
       "  0%|          | 0/1 [00:00<?, ?it/s]"
      ]
     },
     "metadata": {},
     "output_type": "display_data"
    },
    {
     "name": "stdout",
     "output_type": "stream",
     "text": [
      "Threshold of points per transect 24 not reached. It has 39 points.\n",
      "eliminating unreliable transects . . . \n"
     ]
    },
    {
     "name": "stderr",
     "output_type": "stream",
     "text": [
      "C:\\conda3\\envs\\sandpyper_env\\lib\\site-packages\\geopandas\\geodataframe.py:422: RuntimeWarning: Sequential read of iterator was interrupted. Resetting iterator. This can negatively impact the performance.\n",
      "  for feature in features_lst:\n",
      "C:\\conda3\\envs\\sandpyper_env\\lib\\site-packages\\geopandas\\geodataframe.py:422: RuntimeWarning: Sequential read of iterator was interrupted. Resetting iterator. This can negatively impact the performance.\n",
      "  for feature in features_lst:\n"
     ]
    },
    {
     "name": "stdout",
     "output_type": "stream",
     "text": [
      "Working on threshold 4 and min points 80.\n"
     ]
    },
    {
     "data": {
      "application/vnd.jupyter.widget-view+json": {
       "model_id": "f807633bb126445ca72a84b75d0567b4",
       "version_major": 2,
       "version_minor": 0
      },
      "text/plain": [
       "  0%|          | 0/1 [00:00<?, ?it/s]"
      ]
     },
     "metadata": {},
     "output_type": "display_data"
    },
    {
     "name": "stdout",
     "output_type": "stream",
     "text": [
      "Threshold of points per transect 24 not reached. It has 20 points.\n",
      "eliminating unreliable transects . . . \n"
     ]
    },
    {
     "name": "stderr",
     "output_type": "stream",
     "text": [
      "C:\\conda3\\envs\\sandpyper_env\\lib\\site-packages\\geopandas\\geodataframe.py:422: RuntimeWarning: Sequential read of iterator was interrupted. Resetting iterator. This can negatively impact the performance.\n",
      "  for feature in features_lst:\n",
      "C:\\conda3\\envs\\sandpyper_env\\lib\\site-packages\\geopandas\\geodataframe.py:422: RuntimeWarning: Sequential read of iterator was interrupted. Resetting iterator. This can negatively impact the performance.\n",
      "  for feature in features_lst:\n"
     ]
    },
    {
     "name": "stdout",
     "output_type": "stream",
     "text": [
      "Working on threshold 5 and min points 80.\n"
     ]
    },
    {
     "data": {
      "application/vnd.jupyter.widget-view+json": {
       "model_id": "85d49978043d41c8a854e4df84594b79",
       "version_major": 2,
       "version_minor": 0
      },
      "text/plain": [
       "  0%|          | 0/1 [00:00<?, ?it/s]"
      ]
     },
     "metadata": {},
     "output_type": "display_data"
    },
    {
     "name": "stdout",
     "output_type": "stream",
     "text": [
      "Threshold of points per transect 24 not reached. It has 3 points.\n",
      "eliminating unreliable transects . . . \n"
     ]
    },
    {
     "name": "stderr",
     "output_type": "stream",
     "text": [
      "C:\\conda3\\envs\\sandpyper_env\\lib\\site-packages\\geopandas\\geodataframe.py:422: RuntimeWarning: Sequential read of iterator was interrupted. Resetting iterator. This can negatively impact the performance.\n",
      "  for feature in features_lst:\n",
      "C:\\conda3\\envs\\sandpyper_env\\lib\\site-packages\\geopandas\\geodataframe.py:422: RuntimeWarning: Sequential read of iterator was interrupted. Resetting iterator. This can negatively impact the performance.\n",
      "  for feature in features_lst:\n"
     ]
    },
    {
     "name": "stdout",
     "output_type": "stream",
     "text": [
      "Working on threshold 6 and min points 80.\n"
     ]
    },
    {
     "data": {
      "application/vnd.jupyter.widget-view+json": {
       "model_id": "00e045a5d93846a1bd46fb27cb25ae8a",
       "version_major": 2,
       "version_minor": 0
      },
      "text/plain": [
       "  0%|          | 0/1 [00:00<?, ?it/s]"
      ]
     },
     "metadata": {},
     "output_type": "display_data"
    },
    {
     "name": "stdout",
     "output_type": "stream",
     "text": [
      "Threshold of points per transect 24 not reached. It has 0 points.\n",
      "tr_id 24 has not enough points. Go ahead...\n",
      "Threshold of points per transect 4 not reached. It has 44 points.\n",
      "Threshold of points per transect 3 not reached. It has 60 points.\n",
      "eliminating unreliable transects . . . \n"
     ]
    },
    {
     "name": "stderr",
     "output_type": "stream",
     "text": [
      "C:\\conda3\\envs\\sandpyper_env\\lib\\site-packages\\geopandas\\geodataframe.py:422: RuntimeWarning: Sequential read of iterator was interrupted. Resetting iterator. This can negatively impact the performance.\n",
      "  for feature in features_lst:\n",
      "C:\\conda3\\envs\\sandpyper_env\\lib\\site-packages\\geopandas\\geodataframe.py:422: RuntimeWarning: Sequential read of iterator was interrupted. Resetting iterator. This can negatively impact the performance.\n",
      "  for feature in features_lst:\n"
     ]
    },
    {
     "name": "stdout",
     "output_type": "stream",
     "text": [
      "Working on threshold 7 and min points 80.\n"
     ]
    },
    {
     "data": {
      "application/vnd.jupyter.widget-view+json": {
       "model_id": "7547129ba45a45b99fc194f08a62729b",
       "version_major": 2,
       "version_minor": 0
      },
      "text/plain": [
       "  0%|          | 0/1 [00:00<?, ?it/s]"
      ]
     },
     "metadata": {},
     "output_type": "display_data"
    },
    {
     "name": "stdout",
     "output_type": "stream",
     "text": [
      "Threshold of points per transect 20 not reached. It has 31 points.\n",
      "Threshold of points per transect 18 not reached. It has 24 points.\n",
      "Threshold of points per transect 17 not reached. It has 36 points.\n",
      "Threshold of points per transect 16 not reached. It has 31 points.\n",
      "Threshold of points per transect 15 not reached. It has 76 points.\n",
      "Threshold of points per transect 14 not reached. It has 52 points.\n",
      "Threshold of points per transect 13 not reached. It has 57 points.\n",
      "Threshold of points per transect 12 not reached. It has 29 points.\n",
      "Threshold of points per transect 11 not reached. It has 22 points.\n",
      "Threshold of points per transect 10 not reached. It has 14 points.\n",
      "Threshold of points per transect 9 not reached. It has 32 points.\n",
      "Threshold of points per transect 8 not reached. It has 47 points.\n",
      "Threshold of points per transect 6 not reached. It has 45 points.\n",
      "Threshold of points per transect 24 not reached. It has 0 points.\n",
      "tr_id 24 has not enough points. Go ahead...\n",
      "Threshold of points per transect 23 not reached. It has 52 points.\n",
      "Threshold of points per transect 22 not reached. It has 45 points.\n",
      "Threshold of points per transect 21 not reached. It has 27 points.\n",
      "Threshold of points per transect 19 not reached. It has 62 points.\n",
      "Threshold of points per transect 7 not reached. It has 68 points.\n",
      "Threshold of points per transect 5 not reached. It has 0 points.\n",
      "tr_id 5 has not enough points. Go ahead...\n",
      "Threshold of points per transect 4 not reached. It has 0 points.\n",
      "tr_id 4 has not enough points. Go ahead...\n",
      "Threshold of points per transect 3 not reached. It has 0 points.\n",
      "tr_id 3 has not enough points. Go ahead...\n",
      "eliminating unreliable transects . . . \n",
      "Working on threshold 8 and min points 80.\n"
     ]
    },
    {
     "data": {
      "application/vnd.jupyter.widget-view+json": {
       "model_id": "773e10045fe14ecdac06715e3c103b74",
       "version_major": 2,
       "version_minor": 0
      },
      "text/plain": [
       "  0%|          | 0/1 [00:00<?, ?it/s]"
      ]
     },
     "metadata": {},
     "output_type": "display_data"
    },
    {
     "name": "stdout",
     "output_type": "stream",
     "text": [
      "Threshold of points per transect 20 not reached. It has 4 points.\n",
      "Threshold of points per transect 18 not reached. It has 0 points.\n",
      "tr_id 18 has not enough points. Go ahead...\n",
      "Threshold of points per transect 17 not reached. It has 1 points.\n",
      "Threshold of points per transect 16 not reached. It has 1 points.\n",
      "Threshold of points per transect 15 not reached. It has 1 points.\n",
      "Threshold of points per transect 14 not reached. It has 1 points.\n",
      "Threshold of points per transect 13 not reached. It has 0 points.\n",
      "tr_id 13 has not enough points. Go ahead...\n",
      "Threshold of points per transect 12 not reached. It has 0 points.\n",
      "tr_id 12 has not enough points. Go ahead...\n",
      "Threshold of points per transect 11 not reached. It has 1 points.\n",
      "Threshold of points per transect 10 not reached. It has 0 points.\n",
      "tr_id 10 has not enough points. Go ahead...\n",
      "Threshold of points per transect 9 not reached. It has 0 points.\n",
      "tr_id 9 has not enough points. Go ahead...\n",
      "Threshold of points per transect 8 not reached. It has 1 points.\n",
      "Threshold of points per transect 6 not reached. It has 0 points.\n",
      "tr_id 6 has not enough points. Go ahead...\n",
      "Threshold of points per transect 24 not reached. It has 0 points.\n",
      "tr_id 24 has not enough points. Go ahead...\n",
      "Threshold of points per transect 23 not reached. It has 0 points.\n",
      "tr_id 23 has not enough points. Go ahead...\n",
      "Threshold of points per transect 22 not reached. It has 0 points.\n",
      "tr_id 22 has not enough points. Go ahead...\n",
      "Threshold of points per transect 21 not reached. It has 0 points.\n",
      "tr_id 21 has not enough points. Go ahead...\n",
      "Threshold of points per transect 19 not reached. It has 1 points.\n",
      "Threshold of points per transect 7 not reached. It has 0 points.\n",
      "tr_id 7 has not enough points. Go ahead...\n",
      "Threshold of points per transect 5 not reached. It has 0 points.\n",
      "tr_id 5 has not enough points. Go ahead...\n",
      "Threshold of points per transect 4 not reached. It has 0 points.\n",
      "tr_id 4 has not enough points. Go ahead...\n",
      "Threshold of points per transect 3 not reached. It has 0 points.\n",
      "tr_id 3 has not enough points. Go ahead...\n",
      "eliminating unreliable transects . . . \n",
      "Working on threshold 0 and min points 90.\n"
     ]
    },
    {
     "data": {
      "application/vnd.jupyter.widget-view+json": {
       "model_id": "dee32ade7e7d423991f194e8701f3ee0",
       "version_major": 2,
       "version_minor": 0
      },
      "text/plain": [
       "  0%|          | 0/1 [00:00<?, ?it/s]"
      ]
     },
     "metadata": {},
     "output_type": "display_data"
    },
    {
     "name": "stdout",
     "output_type": "stream",
     "text": [
      "Threshold of points per transect 24 not reached. It has 79 points.\n",
      "eliminating unreliable transects . . . \n"
     ]
    },
    {
     "name": "stderr",
     "output_type": "stream",
     "text": [
      "C:\\conda3\\envs\\sandpyper_env\\lib\\site-packages\\geopandas\\geodataframe.py:422: RuntimeWarning: Sequential read of iterator was interrupted. Resetting iterator. This can negatively impact the performance.\n",
      "  for feature in features_lst:\n",
      "C:\\conda3\\envs\\sandpyper_env\\lib\\site-packages\\geopandas\\geodataframe.py:422: RuntimeWarning: Sequential read of iterator was interrupted. Resetting iterator. This can negatively impact the performance.\n",
      "  for feature in features_lst:\n"
     ]
    },
    {
     "name": "stdout",
     "output_type": "stream",
     "text": [
      "Working on threshold 1 and min points 90.\n"
     ]
    },
    {
     "data": {
      "application/vnd.jupyter.widget-view+json": {
       "model_id": "be305a7820754c5f8a6b8aea1a86ebc3",
       "version_major": 2,
       "version_minor": 0
      },
      "text/plain": [
       "  0%|          | 0/1 [00:00<?, ?it/s]"
      ]
     },
     "metadata": {},
     "output_type": "display_data"
    },
    {
     "name": "stdout",
     "output_type": "stream",
     "text": [
      "Threshold of points per transect 24 not reached. It has 79 points.\n",
      "eliminating unreliable transects . . . \n"
     ]
    },
    {
     "name": "stderr",
     "output_type": "stream",
     "text": [
      "C:\\conda3\\envs\\sandpyper_env\\lib\\site-packages\\geopandas\\geodataframe.py:422: RuntimeWarning: Sequential read of iterator was interrupted. Resetting iterator. This can negatively impact the performance.\n",
      "  for feature in features_lst:\n",
      "C:\\conda3\\envs\\sandpyper_env\\lib\\site-packages\\geopandas\\geodataframe.py:422: RuntimeWarning: Sequential read of iterator was interrupted. Resetting iterator. This can negatively impact the performance.\n",
      "  for feature in features_lst:\n"
     ]
    },
    {
     "name": "stdout",
     "output_type": "stream",
     "text": [
      "Working on threshold 2 and min points 90.\n"
     ]
    },
    {
     "data": {
      "application/vnd.jupyter.widget-view+json": {
       "model_id": "f539a63f898a41e88b89e47da68c44a7",
       "version_major": 2,
       "version_minor": 0
      },
      "text/plain": [
       "  0%|          | 0/1 [00:00<?, ?it/s]"
      ]
     },
     "metadata": {},
     "output_type": "display_data"
    },
    {
     "name": "stdout",
     "output_type": "stream",
     "text": [
      "Threshold of points per transect 24 not reached. It has 54 points.\n",
      "eliminating unreliable transects . . . \n"
     ]
    },
    {
     "name": "stderr",
     "output_type": "stream",
     "text": [
      "C:\\conda3\\envs\\sandpyper_env\\lib\\site-packages\\geopandas\\geodataframe.py:422: RuntimeWarning: Sequential read of iterator was interrupted. Resetting iterator. This can negatively impact the performance.\n",
      "  for feature in features_lst:\n",
      "C:\\conda3\\envs\\sandpyper_env\\lib\\site-packages\\geopandas\\geodataframe.py:422: RuntimeWarning: Sequential read of iterator was interrupted. Resetting iterator. This can negatively impact the performance.\n",
      "  for feature in features_lst:\n"
     ]
    },
    {
     "name": "stdout",
     "output_type": "stream",
     "text": [
      "Working on threshold 3 and min points 90.\n"
     ]
    },
    {
     "data": {
      "application/vnd.jupyter.widget-view+json": {
       "model_id": "6264e7f3a5394d72a89d468850105bd0",
       "version_major": 2,
       "version_minor": 0
      },
      "text/plain": [
       "  0%|          | 0/1 [00:00<?, ?it/s]"
      ]
     },
     "metadata": {},
     "output_type": "display_data"
    },
    {
     "name": "stdout",
     "output_type": "stream",
     "text": [
      "Threshold of points per transect 24 not reached. It has 39 points.\n",
      "eliminating unreliable transects . . . \n"
     ]
    },
    {
     "name": "stderr",
     "output_type": "stream",
     "text": [
      "C:\\conda3\\envs\\sandpyper_env\\lib\\site-packages\\geopandas\\geodataframe.py:422: RuntimeWarning: Sequential read of iterator was interrupted. Resetting iterator. This can negatively impact the performance.\n",
      "  for feature in features_lst:\n",
      "C:\\conda3\\envs\\sandpyper_env\\lib\\site-packages\\geopandas\\geodataframe.py:422: RuntimeWarning: Sequential read of iterator was interrupted. Resetting iterator. This can negatively impact the performance.\n",
      "  for feature in features_lst:\n"
     ]
    },
    {
     "name": "stdout",
     "output_type": "stream",
     "text": [
      "Working on threshold 4 and min points 90.\n"
     ]
    },
    {
     "data": {
      "application/vnd.jupyter.widget-view+json": {
       "model_id": "94ca4a1c5b5c4871979567576d071b91",
       "version_major": 2,
       "version_minor": 0
      },
      "text/plain": [
       "  0%|          | 0/1 [00:00<?, ?it/s]"
      ]
     },
     "metadata": {},
     "output_type": "display_data"
    },
    {
     "name": "stdout",
     "output_type": "stream",
     "text": [
      "Threshold of points per transect 24 not reached. It has 20 points.\n",
      "eliminating unreliable transects . . . \n"
     ]
    },
    {
     "name": "stderr",
     "output_type": "stream",
     "text": [
      "C:\\conda3\\envs\\sandpyper_env\\lib\\site-packages\\geopandas\\geodataframe.py:422: RuntimeWarning: Sequential read of iterator was interrupted. Resetting iterator. This can negatively impact the performance.\n",
      "  for feature in features_lst:\n",
      "C:\\conda3\\envs\\sandpyper_env\\lib\\site-packages\\geopandas\\geodataframe.py:422: RuntimeWarning: Sequential read of iterator was interrupted. Resetting iterator. This can negatively impact the performance.\n",
      "  for feature in features_lst:\n"
     ]
    },
    {
     "name": "stdout",
     "output_type": "stream",
     "text": [
      "Working on threshold 5 and min points 90.\n"
     ]
    },
    {
     "data": {
      "application/vnd.jupyter.widget-view+json": {
       "model_id": "fabc2476a5ab4f66a237810cdcb7a15e",
       "version_major": 2,
       "version_minor": 0
      },
      "text/plain": [
       "  0%|          | 0/1 [00:00<?, ?it/s]"
      ]
     },
     "metadata": {},
     "output_type": "display_data"
    },
    {
     "name": "stdout",
     "output_type": "stream",
     "text": [
      "Threshold of points per transect 24 not reached. It has 3 points.\n",
      "eliminating unreliable transects . . . \n"
     ]
    },
    {
     "name": "stderr",
     "output_type": "stream",
     "text": [
      "C:\\conda3\\envs\\sandpyper_env\\lib\\site-packages\\geopandas\\geodataframe.py:422: RuntimeWarning: Sequential read of iterator was interrupted. Resetting iterator. This can negatively impact the performance.\n",
      "  for feature in features_lst:\n",
      "C:\\conda3\\envs\\sandpyper_env\\lib\\site-packages\\geopandas\\geodataframe.py:422: RuntimeWarning: Sequential read of iterator was interrupted. Resetting iterator. This can negatively impact the performance.\n",
      "  for feature in features_lst:\n"
     ]
    },
    {
     "name": "stdout",
     "output_type": "stream",
     "text": [
      "Working on threshold 6 and min points 90.\n"
     ]
    },
    {
     "data": {
      "application/vnd.jupyter.widget-view+json": {
       "model_id": "5108d963f9704b6e8eaba68ef98a0884",
       "version_major": 2,
       "version_minor": 0
      },
      "text/plain": [
       "  0%|          | 0/1 [00:00<?, ?it/s]"
      ]
     },
     "metadata": {},
     "output_type": "display_data"
    },
    {
     "name": "stdout",
     "output_type": "stream",
     "text": [
      "Threshold of points per transect 24 not reached. It has 0 points.\n",
      "tr_id 24 has not enough points. Go ahead...\n",
      "Threshold of points per transect 4 not reached. It has 44 points.\n",
      "Threshold of points per transect 3 not reached. It has 60 points.\n",
      "eliminating unreliable transects . . . \n"
     ]
    },
    {
     "name": "stderr",
     "output_type": "stream",
     "text": [
      "C:\\conda3\\envs\\sandpyper_env\\lib\\site-packages\\geopandas\\geodataframe.py:422: RuntimeWarning: Sequential read of iterator was interrupted. Resetting iterator. This can negatively impact the performance.\n",
      "  for feature in features_lst:\n",
      "C:\\conda3\\envs\\sandpyper_env\\lib\\site-packages\\geopandas\\geodataframe.py:422: RuntimeWarning: Sequential read of iterator was interrupted. Resetting iterator. This can negatively impact the performance.\n",
      "  for feature in features_lst:\n"
     ]
    },
    {
     "name": "stdout",
     "output_type": "stream",
     "text": [
      "Working on threshold 7 and min points 90.\n"
     ]
    },
    {
     "data": {
      "application/vnd.jupyter.widget-view+json": {
       "model_id": "bf0a2385d37a4300a69db3baf37b53a4",
       "version_major": 2,
       "version_minor": 0
      },
      "text/plain": [
       "  0%|          | 0/1 [00:00<?, ?it/s]"
      ]
     },
     "metadata": {},
     "output_type": "display_data"
    },
    {
     "name": "stdout",
     "output_type": "stream",
     "text": [
      "Threshold of points per transect 20 not reached. It has 31 points.\n",
      "Threshold of points per transect 18 not reached. It has 24 points.\n",
      "Threshold of points per transect 17 not reached. It has 36 points.\n",
      "Threshold of points per transect 16 not reached. It has 31 points.\n",
      "Threshold of points per transect 15 not reached. It has 76 points.\n",
      "Threshold of points per transect 14 not reached. It has 52 points.\n",
      "Threshold of points per transect 13 not reached. It has 57 points.\n",
      "Threshold of points per transect 12 not reached. It has 29 points.\n",
      "Threshold of points per transect 11 not reached. It has 22 points.\n",
      "Threshold of points per transect 10 not reached. It has 14 points.\n",
      "Threshold of points per transect 9 not reached. It has 32 points.\n",
      "Threshold of points per transect 8 not reached. It has 47 points.\n",
      "Threshold of points per transect 6 not reached. It has 45 points.\n",
      "Threshold of points per transect 24 not reached. It has 0 points.\n",
      "tr_id 24 has not enough points. Go ahead...\n",
      "Threshold of points per transect 23 not reached. It has 52 points.\n",
      "Threshold of points per transect 22 not reached. It has 45 points.\n",
      "Threshold of points per transect 21 not reached. It has 27 points.\n",
      "Threshold of points per transect 19 not reached. It has 62 points.\n",
      "Threshold of points per transect 7 not reached. It has 68 points.\n",
      "Threshold of points per transect 5 not reached. It has 0 points.\n",
      "tr_id 5 has not enough points. Go ahead...\n",
      "Threshold of points per transect 4 not reached. It has 0 points.\n",
      "tr_id 4 has not enough points. Go ahead...\n",
      "Threshold of points per transect 3 not reached. It has 0 points.\n",
      "tr_id 3 has not enough points. Go ahead...\n",
      "eliminating unreliable transects . . . \n",
      "Working on threshold 8 and min points 90.\n"
     ]
    },
    {
     "data": {
      "application/vnd.jupyter.widget-view+json": {
       "model_id": "6b694f3eece241c69039edf0c6069717",
       "version_major": 2,
       "version_minor": 0
      },
      "text/plain": [
       "  0%|          | 0/1 [00:00<?, ?it/s]"
      ]
     },
     "metadata": {},
     "output_type": "display_data"
    },
    {
     "name": "stdout",
     "output_type": "stream",
     "text": [
      "Threshold of points per transect 20 not reached. It has 4 points.\n",
      "Threshold of points per transect 18 not reached. It has 0 points.\n",
      "tr_id 18 has not enough points. Go ahead...\n",
      "Threshold of points per transect 17 not reached. It has 1 points.\n",
      "Threshold of points per transect 16 not reached. It has 1 points.\n",
      "Threshold of points per transect 15 not reached. It has 1 points.\n",
      "Threshold of points per transect 14 not reached. It has 1 points.\n",
      "Threshold of points per transect 13 not reached. It has 0 points.\n",
      "tr_id 13 has not enough points. Go ahead...\n",
      "Threshold of points per transect 12 not reached. It has 0 points.\n",
      "tr_id 12 has not enough points. Go ahead...\n",
      "Threshold of points per transect 11 not reached. It has 1 points.\n",
      "Threshold of points per transect 10 not reached. It has 0 points.\n",
      "tr_id 10 has not enough points. Go ahead...\n",
      "Threshold of points per transect 9 not reached. It has 0 points.\n",
      "tr_id 9 has not enough points. Go ahead...\n",
      "Threshold of points per transect 8 not reached. It has 1 points.\n",
      "Threshold of points per transect 6 not reached. It has 0 points.\n",
      "tr_id 6 has not enough points. Go ahead...\n",
      "Threshold of points per transect 24 not reached. It has 0 points.\n",
      "tr_id 24 has not enough points. Go ahead...\n",
      "Threshold of points per transect 23 not reached. It has 0 points.\n",
      "tr_id 23 has not enough points. Go ahead...\n",
      "Threshold of points per transect 22 not reached. It has 0 points.\n",
      "tr_id 22 has not enough points. Go ahead...\n",
      "Threshold of points per transect 21 not reached. It has 0 points.\n",
      "tr_id 21 has not enough points. Go ahead...\n",
      "Threshold of points per transect 19 not reached. It has 1 points.\n",
      "Threshold of points per transect 7 not reached. It has 0 points.\n",
      "tr_id 7 has not enough points. Go ahead...\n",
      "Threshold of points per transect 5 not reached. It has 0 points.\n",
      "tr_id 5 has not enough points. Go ahead...\n",
      "Threshold of points per transect 4 not reached. It has 0 points.\n",
      "tr_id 4 has not enough points. Go ahead...\n",
      "Threshold of points per transect 3 not reached. It has 0 points.\n",
      "tr_id 3 has not enough points. Go ahead...\n",
      "eliminating unreliable transects . . . \n",
      "Wall time: 1min 28s\n"
     ]
    },
    {
     "data": {
      "text/html": [
       "<div>\n",
       "<style scoped>\n",
       "    .dataframe tbody tr th:only-of-type {\n",
       "        vertical-align: middle;\n",
       "    }\n",
       "\n",
       "    .dataframe tbody tr th {\n",
       "        vertical-align: top;\n",
       "    }\n",
       "\n",
       "    .dataframe thead th {\n",
       "        text-align: right;\n",
       "    }\n",
       "</style>\n",
       "<table border=\"1\" class=\"dataframe\">\n",
       "  <thead>\n",
       "    <tr style=\"text-align: right;\">\n",
       "      <th>process</th>\n",
       "      <th>location</th>\n",
       "      <th>tr_id</th>\n",
       "      <th>deposition</th>\n",
       "      <th>erosion</th>\n",
       "      <th>residual</th>\n",
       "      <th>geometry</th>\n",
       "      <th>thresh</th>\n",
       "      <th>min_pts</th>\n",
       "    </tr>\n",
       "  </thead>\n",
       "  <tbody>\n",
       "    <tr>\n",
       "      <th>0</th>\n",
       "      <td>mar</td>\n",
       "      <td>3</td>\n",
       "      <td>0.424080</td>\n",
       "      <td>0.356589</td>\n",
       "      <td>0.067491</td>\n",
       "      <td>MULTILINESTRING ((731512.461 5705151.584, 7314...</td>\n",
       "      <td>0</td>\n",
       "      <td>0</td>\n",
       "    </tr>\n",
       "    <tr>\n",
       "      <th>1</th>\n",
       "      <td>mar</td>\n",
       "      <td>4</td>\n",
       "      <td>0.464567</td>\n",
       "      <td>0.336649</td>\n",
       "      <td>0.127919</td>\n",
       "      <td>MULTILINESTRING ((731514.605 5705171.469, 7314...</td>\n",
       "      <td>0</td>\n",
       "      <td>0</td>\n",
       "    </tr>\n",
       "    <tr>\n",
       "      <th>2</th>\n",
       "      <td>mar</td>\n",
       "      <td>5</td>\n",
       "      <td>0.375602</td>\n",
       "      <td>0.388622</td>\n",
       "      <td>-0.013021</td>\n",
       "      <td>MULTILINESTRING ((731516.749 5705191.354, 7314...</td>\n",
       "      <td>0</td>\n",
       "      <td>0</td>\n",
       "    </tr>\n",
       "    <tr>\n",
       "      <th>3</th>\n",
       "      <td>mar</td>\n",
       "      <td>6</td>\n",
       "      <td>0.296762</td>\n",
       "      <td>0.176257</td>\n",
       "      <td>0.120505</td>\n",
       "      <td>MULTILINESTRING ((731518.785 5705210.340, 7314...</td>\n",
       "      <td>0</td>\n",
       "      <td>0</td>\n",
       "    </tr>\n",
       "    <tr>\n",
       "      <th>4</th>\n",
       "      <td>mar</td>\n",
       "      <td>7</td>\n",
       "      <td>0.460313</td>\n",
       "      <td>0.196794</td>\n",
       "      <td>0.263519</td>\n",
       "      <td>MULTILINESTRING ((731521.351 5705227.262, 7314...</td>\n",
       "      <td>0</td>\n",
       "      <td>0</td>\n",
       "    </tr>\n",
       "    <tr>\n",
       "      <th>...</th>\n",
       "      <td>...</td>\n",
       "      <td>...</td>\n",
       "      <td>...</td>\n",
       "      <td>...</td>\n",
       "      <td>...</td>\n",
       "      <td>...</td>\n",
       "      <td>...</td>\n",
       "      <td>...</td>\n",
       "    </tr>\n",
       "    <tr>\n",
       "      <th>1571</th>\n",
       "      <td>mar</td>\n",
       "      <td>19</td>\n",
       "      <td>0.643998</td>\n",
       "      <td>0.153892</td>\n",
       "      <td>0.490106</td>\n",
       "      <td>MULTILINESTRING ((731596.497 5705443.265, 7315...</td>\n",
       "      <td>6</td>\n",
       "      <td>90</td>\n",
       "    </tr>\n",
       "    <tr>\n",
       "      <th>1572</th>\n",
       "      <td>mar</td>\n",
       "      <td>20</td>\n",
       "      <td>0.503569</td>\n",
       "      <td>0.331634</td>\n",
       "      <td>0.171935</td>\n",
       "      <td>MULTILINESTRING ((731605.216 5705457.524, 7315...</td>\n",
       "      <td>6</td>\n",
       "      <td>90</td>\n",
       "    </tr>\n",
       "    <tr>\n",
       "      <th>1573</th>\n",
       "      <td>mar</td>\n",
       "      <td>21</td>\n",
       "      <td>0.477398</td>\n",
       "      <td>0.418235</td>\n",
       "      <td>0.059163</td>\n",
       "      <td>MULTILINESTRING ((731615.645 5705474.209, 7315...</td>\n",
       "      <td>6</td>\n",
       "      <td>90</td>\n",
       "    </tr>\n",
       "    <tr>\n",
       "      <th>1574</th>\n",
       "      <td>mar</td>\n",
       "      <td>22</td>\n",
       "      <td>0.477237</td>\n",
       "      <td>0.426491</td>\n",
       "      <td>0.050746</td>\n",
       "      <td>MULTILINESTRING ((731626.245 5705491.168, 7315...</td>\n",
       "      <td>6</td>\n",
       "      <td>90</td>\n",
       "    </tr>\n",
       "    <tr>\n",
       "      <th>1575</th>\n",
       "      <td>mar</td>\n",
       "      <td>23</td>\n",
       "      <td>0.555038</td>\n",
       "      <td>0.343017</td>\n",
       "      <td>0.212021</td>\n",
       "      <td>MULTILINESTRING ((731636.613 5705507.762, 7315...</td>\n",
       "      <td>6</td>\n",
       "      <td>90</td>\n",
       "    </tr>\n",
       "  </tbody>\n",
       "</table>\n",
       "<p>1576 rows × 8 columns</p>\n",
       "</div>"
      ],
      "text/plain": [
       "process location  tr_id  deposition   erosion  residual  \\\n",
       "0            mar      3    0.424080  0.356589  0.067491   \n",
       "1            mar      4    0.464567  0.336649  0.127919   \n",
       "2            mar      5    0.375602  0.388622 -0.013021   \n",
       "3            mar      6    0.296762  0.176257  0.120505   \n",
       "4            mar      7    0.460313  0.196794  0.263519   \n",
       "...          ...    ...         ...       ...       ...   \n",
       "1571         mar     19    0.643998  0.153892  0.490106   \n",
       "1572         mar     20    0.503569  0.331634  0.171935   \n",
       "1573         mar     21    0.477398  0.418235  0.059163   \n",
       "1574         mar     22    0.477237  0.426491  0.050746   \n",
       "1575         mar     23    0.555038  0.343017  0.212021   \n",
       "\n",
       "process                                           geometry  thresh  min_pts  \n",
       "0        MULTILINESTRING ((731512.461 5705151.584, 7314...       0        0  \n",
       "1        MULTILINESTRING ((731514.605 5705171.469, 7314...       0        0  \n",
       "2        MULTILINESTRING ((731516.749 5705191.354, 7314...       0        0  \n",
       "3        MULTILINESTRING ((731518.785 5705210.340, 7314...       0        0  \n",
       "4        MULTILINESTRING ((731521.351 5705227.262, 7314...       0        0  \n",
       "...                                                    ...     ...      ...  \n",
       "1571     MULTILINESTRING ((731596.497 5705443.265, 7315...       6       90  \n",
       "1572     MULTILINESTRING ((731605.216 5705457.524, 7315...       6       90  \n",
       "1573     MULTILINESTRING ((731615.645 5705474.209, 7315...       6       90  \n",
       "1574     MULTILINESTRING ((731626.245 5705491.168, 7315...       6       90  \n",
       "1575     MULTILINESTRING ((731636.613 5705507.762, 7315...       6       90  \n",
       "\n",
       "[1576 rows x 8 columns]"
      ]
     },
     "execution_count": 29,
     "metadata": {},
     "output_type": "execute_result"
    }
   ],
   "source": [
    "%%time\n",
    "\n",
    "ss_tr_big=pd.DataFrame()\n",
    "\n",
    "for i in tqdm(combs):\n",
    "    print(f\"Working on threshold {i[1]} and min points {i[0]}.\")\n",
    "    try:\n",
    "        ss_tr=steady_state_transect(dataset_mar,\n",
    "                     field_unique_id='geometry',\n",
    "                     thresh=i[1], min_points=i[0], unreal=\"drop\" )\n",
    "        if ss_tr.shape[0] > 0:\n",
    "            ss_transects_idx,to_plot=compute_rBCD_transects(dirNameTrans=dirNameTrans,\n",
    "                                                            label_order=label_order,\n",
    "                                                            steady_state_tr=ss_tr,\n",
    "                                                            loc='mar',\n",
    "                                                            crs_dict_string=crs_dict_string,\n",
    "                                                            weights_dict=weights_dict)\n",
    "            ss_transects_idx['thresh']=i[1]\n",
    "            ss_transects_idx['min_pts']=i[0]\n",
    "\n",
    "            ss_tr_big=pd.concat([ss_tr_big,ss_transects_idx], ignore_index=True)\n",
    "\n",
    "        else:\n",
    "            pass\n",
    "    except:\n",
    "        print(f\"Skipping\")\n",
    "    \n",
    "ss_tr_big"
   ]
  },
  {
   "cell_type": "markdown",
   "id": "1093ca82",
   "metadata": {},
   "source": [
    "Let's plot the transect r-BCDs in function of the thresh parameter."
   ]
  },
  {
   "cell_type": "code",
   "execution_count": 30,
   "id": "425c4072",
   "metadata": {},
   "outputs": [
    {
     "data": {
      "image/png": "[encoded data removed]",
      "text/plain": [
       "<Figure size 720x720 with 1 Axes>"
      ]
     },
     "metadata": {
      "needs_background": "light"
     },
     "output_type": "display_data"
    }
   ],
   "source": [
    "f,ax=plt.subplots(figsize=(10,10))\n",
    "\n",
    "palette=sb.color_palette(\"Blues\", n_colors=ss_tr_big.tr_id.unique().shape[0])\n",
    "sb.lineplot(data=ss_tr_big, x='thresh',y='residual', hue='tr_id',\n",
    "            palette=palette, legend=False, **dict(alpha=0.1),\n",
    "            ax=ax\n",
    ")\n",
    "ax.set_ylabel(\"r_bcd\")\n",
    "ax.axhline(y=0, lw=2, c='r');"
   ]
  },
  {
   "cell_type": "markdown",
   "id": "c0a50d39",
   "metadata": {},
   "source": [
    "As we can see, there are only 3 transects that flipped their r-BCD sign (depo to ero or viceversa) as a consequence of an increase in the minimum number of timesteps.\n",
    "\n",
    "In order to better decide a sub-optimal combination of thresh and min_pts that retains the majority of the transects (while keeping an eye on transects that flipped r-BCD), here below we do some plotting.\n",
    "\n",
    "First, some preprocessing..."
   ]
  },
  {
   "cell_type": "code",
   "execution_count": 31,
   "id": "ea88d9d2",
   "metadata": {},
   "outputs": [
    {
     "data": {
      "text/html": [
       "<div>\n",
       "<style scoped>\n",
       "    .dataframe tbody tr th:only-of-type {\n",
       "        vertical-align: middle;\n",
       "    }\n",
       "\n",
       "    .dataframe tbody tr th {\n",
       "        vertical-align: top;\n",
       "    }\n",
       "\n",
       "    .dataframe thead th {\n",
       "        text-align: right;\n",
       "    }\n",
       "</style>\n",
       "<table border=\"1\" class=\"dataframe\">\n",
       "  <thead>\n",
       "    <tr style=\"text-align: right;\">\n",
       "      <th></th>\n",
       "      <th>thresh</th>\n",
       "      <th>min_pts</th>\n",
       "      <th>tot_trs</th>\n",
       "      <th>trs_10</th>\n",
       "      <th>sign_change_thresh</th>\n",
       "      <th>tot_jumps</th>\n",
       "    </tr>\n",
       "  </thead>\n",
       "  <tbody>\n",
       "    <tr>\n",
       "      <th>0</th>\n",
       "      <td>0</td>\n",
       "      <td>0</td>\n",
       "      <td>22</td>\n",
       "      <td>2.2</td>\n",
       "      <td>NaN</td>\n",
       "      <td>NaN</td>\n",
       "    </tr>\n",
       "    <tr>\n",
       "      <th>1</th>\n",
       "      <td>0</td>\n",
       "      <td>10</td>\n",
       "      <td>22</td>\n",
       "      <td>2.2</td>\n",
       "      <td>NaN</td>\n",
       "      <td>NaN</td>\n",
       "    </tr>\n",
       "    <tr>\n",
       "      <th>2</th>\n",
       "      <td>0</td>\n",
       "      <td>20</td>\n",
       "      <td>22</td>\n",
       "      <td>2.2</td>\n",
       "      <td>NaN</td>\n",
       "      <td>NaN</td>\n",
       "    </tr>\n",
       "    <tr>\n",
       "      <th>3</th>\n",
       "      <td>0</td>\n",
       "      <td>30</td>\n",
       "      <td>22</td>\n",
       "      <td>2.2</td>\n",
       "      <td>NaN</td>\n",
       "      <td>NaN</td>\n",
       "    </tr>\n",
       "    <tr>\n",
       "      <th>4</th>\n",
       "      <td>0</td>\n",
       "      <td>40</td>\n",
       "      <td>22</td>\n",
       "      <td>2.2</td>\n",
       "      <td>NaN</td>\n",
       "      <td>NaN</td>\n",
       "    </tr>\n",
       "    <tr>\n",
       "      <th>...</th>\n",
       "      <td>...</td>\n",
       "      <td>...</td>\n",
       "      <td>...</td>\n",
       "      <td>...</td>\n",
       "      <td>...</td>\n",
       "      <td>...</td>\n",
       "    </tr>\n",
       "    <tr>\n",
       "      <th>72</th>\n",
       "      <td>7</td>\n",
       "      <td>20</td>\n",
       "      <td>17</td>\n",
       "      <td>1.7</td>\n",
       "      <td>7.0</td>\n",
       "      <td>1.0</td>\n",
       "    </tr>\n",
       "    <tr>\n",
       "      <th>73</th>\n",
       "      <td>7</td>\n",
       "      <td>30</td>\n",
       "      <td>13</td>\n",
       "      <td>1.3</td>\n",
       "      <td>7.0</td>\n",
       "      <td>1.0</td>\n",
       "    </tr>\n",
       "    <tr>\n",
       "      <th>74</th>\n",
       "      <td>7</td>\n",
       "      <td>40</td>\n",
       "      <td>9</td>\n",
       "      <td>0.9</td>\n",
       "      <td>7.0</td>\n",
       "      <td>1.0</td>\n",
       "    </tr>\n",
       "    <tr>\n",
       "      <th>75</th>\n",
       "      <td>7</td>\n",
       "      <td>50</td>\n",
       "      <td>6</td>\n",
       "      <td>0.6</td>\n",
       "      <td>7.0</td>\n",
       "      <td>1.0</td>\n",
       "    </tr>\n",
       "    <tr>\n",
       "      <th>76</th>\n",
       "      <td>7</td>\n",
       "      <td>60</td>\n",
       "      <td>3</td>\n",
       "      <td>0.3</td>\n",
       "      <td>NaN</td>\n",
       "      <td>NaN</td>\n",
       "    </tr>\n",
       "  </tbody>\n",
       "</table>\n",
       "<p>77 rows × 6 columns</p>\n",
       "</div>"
      ],
      "text/plain": [
       "    thresh  min_pts  tot_trs  trs_10  sign_change_thresh  tot_jumps\n",
       "0        0        0       22     2.2                 NaN        NaN\n",
       "1        0       10       22     2.2                 NaN        NaN\n",
       "2        0       20       22     2.2                 NaN        NaN\n",
       "3        0       30       22     2.2                 NaN        NaN\n",
       "4        0       40       22     2.2                 NaN        NaN\n",
       "..     ...      ...      ...     ...                 ...        ...\n",
       "72       7       20       17     1.7                 7.0        1.0\n",
       "73       7       30       13     1.3                 7.0        1.0\n",
       "74       7       40        9     0.9                 7.0        1.0\n",
       "75       7       50        6     0.6                 7.0        1.0\n",
       "76       7       60        3     0.3                 NaN        NaN\n",
       "\n",
       "[77 rows x 6 columns]"
      ]
     },
     "execution_count": 31,
     "metadata": {},
     "output_type": "execute_result"
    }
   ],
   "source": [
    "trs_res_ar=ss_tr_big.groupby([\"tr_id\",\"min_pts\"])['residual'].apply(np.array).reset_index()\n",
    "tot_trs=ss_tr_big.groupby([\"thresh\",\"min_pts\"])['geometry'].count().reset_index()\n",
    "tot_trs['trs_10']=tot_trs.geometry / 10\n",
    "zero_crossings=pd.DataFrame([pd.Series({'tr_id':trs_res_ar.loc[i,'tr_id'],\n",
    "                                        'sign_change_thresh':np.where(np.diff(np.sign(trs_res_ar.iloc[i,-1])))[0][-1]+1,\n",
    "                                       'min_pts':trs_res_ar.loc[i,'min_pts']}) for i in range(trs_res_ar.shape[0]) if np.where(np.diff(np.sign(trs_res_ar.iloc[i,-1])))[0].shape[0] !=0])\n",
    "tot_jumps=zero_crossings.groupby([\"sign_change_thresh\",\"min_pts\"]).count().reset_index() # how many jumps per thresh and minpts\n",
    "\n",
    "joined=pd.merge(tot_trs,tot_jumps, left_on=['thresh','min_pts'], right_on=['sign_change_thresh','min_pts'], how='left')\n",
    "joined.rename({'geometry':'tot_trs',\n",
    "              'tr_id':'tot_jumps'}, axis=1, inplace=True)\n",
    "joined"
   ]
  },
  {
   "cell_type": "code",
   "execution_count": 32,
   "id": "d1fb8755",
   "metadata": {
    "scrolled": false
   },
   "outputs": [
    {
     "data": {
      "image/png": "[encoded data removed]",
      "text/plain": [
       "<Figure size 504x288 with 2 Axes>"
      ]
     },
     "metadata": {
      "needs_background": "light"
     },
     "output_type": "display_data"
    },
    {
     "data": {
      "image/png": "[encoded data removed]",
      "text/plain": [
       "<Figure size 504x288 with 2 Axes>"
      ]
     },
     "metadata": {
      "needs_background": "light"
     },
     "output_type": "display_data"
    },
    {
     "data": {
      "image/png": "[encoded data removed]",
      "text/plain": [
       "<Figure size 504x288 with 2 Axes>"
      ]
     },
     "metadata": {
      "needs_background": "light"
     },
     "output_type": "display_data"
    },
    {
     "data": {
      "image/png": "[encoded data removed]",
      "text/plain": [
       "<Figure size 504x288 with 2 Axes>"
      ]
     },
     "metadata": {
      "needs_background": "light"
     },
     "output_type": "display_data"
    },
    {
     "data": {
      "image/png": "[encoded data removed]",
      "text/plain": [
       "<Figure size 504x288 with 2 Axes>"
      ]
     },
     "metadata": {
      "needs_background": "light"
     },
     "output_type": "display_data"
    },
    {
     "data": {
      "image/png": "[encoded data removed]",
      "text/plain": [
       "<Figure size 504x288 with 2 Axes>"
      ]
     },
     "metadata": {
      "needs_background": "light"
     },
     "output_type": "display_data"
    },
    {
     "data": {
      "image/png": "[encoded data removed]",
      "text/plain": [
       "<Figure size 504x288 with 2 Axes>"
      ]
     },
     "metadata": {
      "needs_background": "light"
     },
     "output_type": "display_data"
    },
    {
     "data": {
      "image/png": "[encoded data removed]",
      "text/plain": [
       "<Figure size 504x288 with 2 Axes>"
      ]
     },
     "metadata": {
      "needs_background": "light"
     },
     "output_type": "display_data"
    },
    {
     "data": {
      "image/png": "[encoded data removed]",
      "text/plain": [
       "<Figure size 504x288 with 2 Axes>"
      ]
     },
     "metadata": {
      "needs_background": "light"
     },
     "output_type": "display_data"
    },
    {
     "data": {
      "image/png": "[encoded data removed]",
      "text/plain": [
       "<Figure size 504x288 with 2 Axes>"
      ]
     },
     "metadata": {
      "needs_background": "light"
     },
     "output_type": "display_data"
    }
   ],
   "source": [
    "plt.rcParams['font.sans-serif'] = 'Arial'\n",
    "# Then, \"ALWAYS use sans-serif fonts\"\n",
    "plt.rcParams['font.family'] = 'sans-serif'\n",
    "sb.set_context(\"paper\", font_scale=2.8)\n",
    "\n",
    "\n",
    "x_ticks=[0,2,4,6,8]\n",
    "\n",
    "q_up_val=0.95\n",
    "q_low_val=0.85\n",
    "\n",
    "list_minpts=ss_tr_big.min_pts.unique()\n",
    "\n",
    "for minpts in list_minpts:\n",
    "\n",
    "    f,ax=plt.subplots(figsize=(7,4))\n",
    "    ax2=ax.twinx()\n",
    "    \n",
    "    datain=joined.query(f\"min_pts=={minpts}\")  \n",
    "\n",
    "\n",
    "    sb.lineplot(x=\"thresh\", y=\"tot_jumps\",ci=None,\n",
    "                    data=datain,color='b',\n",
    "                   alpha=.4,linewidth=3,\n",
    "                ax=ax2, label=\"sign changes\")\n",
    "\n",
    "    sb.lineplot(data=datain,x='thresh',y='trs_10',\n",
    "                alpha=.4,color='r',linewidth=3,\n",
    "                ax=ax,label=\"transects * 10\")\n",
    "    \n",
    "    \n",
    "    kde_x, kde_y = ax.lines[0].get_data()\n",
    "    kde_x2, kde_y2 = ax2.lines[0].get_data()\n",
    "    ax.fill_between(kde_x, kde_y,interpolate=True, color='r',alpha=0.5)\n",
    "    ax2.fill_between(kde_x2, kde_y2,interpolate=True,color='b',alpha=0.5)\n",
    "    \n",
    "    ax.axhline((datain.tot_trs.fillna(0).max()*q_up_val)/10,c='k',ls='-',label='95%')\n",
    "    ax.axhline((datain.tot_trs.fillna(0).max()*q_low_val)/10,c='k',lw=2.5,ls='--',label='85%')\n",
    "    \n",
    "    ax.set_ylabel('n. transects x 10', c='r')\n",
    "    ax.set_xlabel('t')\n",
    "    ax2.set_ylabel('sign changes', c='b')\n",
    "    ax2.set_ylim(0,3)\n",
    "    ax.set_ylim(0,3)\n",
    "    ax.set_xlim(0,8)\n",
    "    \n",
    "\n",
    "    plt.tight_layout()\n",
    "    ax.get_legend().remove()\n",
    "    ax2.get_legend().remove()\n",
    "    \n",
    "    \n",
    "    plt.xticks(x_ticks)\n",
    "    savetxt=f\"E:\\\\path\\\\to\\\\save\\\\revision_0\\\\location_sensit_minpts_{minpts}.png\"\n",
    "    \n",
    "    ax.set_title(f\"pt: {minpts}\")\n",
    "    plt.tight_layout()\n",
    "    \n",
    "#   f.savefig(savetxt, dpi=600); #uncomment to save all images"
   ]
  },
  {
   "cell_type": "markdown",
   "id": "0461ad41",
   "metadata": {},
   "source": [
    "___"
   ]
  }
 ],
 "metadata": {
  "kernelspec": {
   "display_name": "Python 3",
   "language": "python",
   "name": "python3"
  },
  "language_info": {
   "codemirror_mode": {
    "name": "ipython",
    "version": 3
   },
   "file_extension": ".py",
   "mimetype": "text/x-python",
   "name": "python",
   "nbconvert_exporter": "python",
   "pygments_lexer": "ipython3",
   "version": "3.9.4"
  }
 },
 "nbformat": 4,
 "nbformat_minor": 5
}
