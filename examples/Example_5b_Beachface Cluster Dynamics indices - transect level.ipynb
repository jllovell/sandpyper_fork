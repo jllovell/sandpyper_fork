{
 "cells": [
  {
   "cell_type": "markdown",
   "id": "0142e115",
   "metadata": {},
   "source": [
    "<font size=\"5\"><center> <b>Sandpyper: sandy beaches SfM-UAV analysis tools</b></center></font>\n",
    "<font size=\"4\"><center> <b> Example 5a - Beachface Cluster Dynamics indices - transect level </b></center> <br>\n",
    "\n",
    "    \n",
    "<center><img src=\"images/banner.png\" width=\"80%\"  /></center>\n",
    "\n",
    "<font face=\"Calibri\">\n",
    "<br>\n",
    "<font size=\"5\"> <b>Transect scale beachface behavioural modelling</b></font>\n",
    "\n",
    "<br>\n",
    "<font size=\"4\"> <b> Nicolas Pucino; PhD Student @ Deakin University, Australia </b> <br>\n",
    "\n",
    "<font size=\"3\">These indices represents the tendency of the location, or transect, to either erode or accrete, based on the temporal succession of sand-only change. <br>\n",
    "\n",
    "<b>This notebook covers the following concepts:</b>\n",
    "\n",
    "- Modelling r-BCDs at the transect scale.\n",
    "- Plotting.\n",
    "- Sensitivity analysis.\n",
    "</font>\n",
    "\n",
    "\n",
    "</font>"
   ]
  },
  {
   "cell_type": "code",
   "execution_count": 1,
   "id": "25367685",
   "metadata": {},
   "outputs": [
    {
     "name": "stderr",
     "output_type": "stream",
     "text": [
      "C:\\conda3\\envs\\sandpyper_env\\lib\\site-packages\\pysal\\explore\\segregation\\network\\network.py:15: UserWarning: You need pandana and urbanaccess to work with segregation's network module\n",
      "You can install them with  `pip install urbanaccess pandana` or `conda install -c udst pandana urbanaccess`\n",
      "  warn(\n",
      "C:\\conda3\\envs\\sandpyper_env\\lib\\site-packages\\pysal\\model\\spvcm\\abstracts.py:10: UserWarning: The `dill` module is required to use the sqlite backend fully.\n",
      "  from .sqlite import head_to_sql, start_sql\n"
     ]
    }
   ],
   "source": [
    "import pandas as pd\n",
    "import geopandas as gpd\n",
    "import numpy as np\n",
    "import matplotlib.pyplot as plt\n",
    "import seaborn as sb\n",
    "import itertools\n",
    "from tqdm.notebook import tqdm\n",
    "\n",
    "\n",
    "from sandpyper.outils import getLoc, getDate,coords_to_points\n",
    "from sandpyper.dynamics import  steady_state_transect, compute_rBCD_transects, infer_weights\n",
    "\n",
    "crs_dict_string={\"mar\":{'init': 'epsg:32754'},\n",
    "         \"leo\":{'init': 'epsg:32755'}}\n",
    "\n",
    "pd.options.mode.chained_assignment = None  # default='warn'"
   ]
  },
  {
   "cell_type": "markdown",
   "id": "ab745d05",
   "metadata": {},
   "source": [
    "## Create Class"
   ]
  },
  {
   "cell_type": "code",
   "execution_count": null,
   "id": "71ac6484",
   "metadata": {},
   "outputs": [],
   "source": []
  },
  {
   "cell_type": "code",
   "execution_count": null,
   "id": "1bd731ee",
   "metadata": {},
   "outputs": [],
   "source": []
  },
  {
   "cell_type": "code",
   "execution_count": null,
   "id": "f2c06928",
   "metadata": {},
   "outputs": [],
   "source": []
  },
  {
   "cell_type": "code",
   "execution_count": null,
   "id": "4c14e4fc",
   "metadata": {},
   "outputs": [],
   "source": []
  },
  {
   "cell_type": "code",
   "execution_count": null,
   "id": "ca1aebe7",
   "metadata": {},
   "outputs": [],
   "source": []
  },
  {
   "cell_type": "code",
   "execution_count": null,
   "id": "c7bc43a6",
   "metadata": {},
   "outputs": [],
   "source": []
  },
  {
   "cell_type": "code",
   "execution_count": null,
   "id": "4f3e052b",
   "metadata": {},
   "outputs": [],
   "source": []
  },
  {
   "cell_type": "code",
   "execution_count": null,
   "id": "ef484e72",
   "metadata": {},
   "outputs": [],
   "source": []
  },
  {
   "cell_type": "code",
   "execution_count": null,
   "id": "2a53d6c9",
   "metadata": {},
   "outputs": [],
   "source": []
  },
  {
   "cell_type": "code",
   "execution_count": null,
   "id": "1188491c",
   "metadata": {},
   "outputs": [],
   "source": []
  },
  {
   "cell_type": "code",
   "execution_count": null,
   "id": "0af5cddc",
   "metadata": {},
   "outputs": [],
   "source": []
  },
  {
   "cell_type": "code",
   "execution_count": null,
   "id": "dc0e3c6b",
   "metadata": {},
   "outputs": [],
   "source": []
  },
  {
   "cell_type": "code",
   "execution_count": null,
   "id": "5430b2f0",
   "metadata": {},
   "outputs": [],
   "source": []
  },
  {
   "cell_type": "code",
   "execution_count": null,
   "id": "b0e5dca9",
   "metadata": {},
   "outputs": [],
   "source": []
  },
  {
   "cell_type": "code",
   "execution_count": null,
   "id": "cdca9a14",
   "metadata": {},
   "outputs": [],
   "source": []
  },
  {
   "cell_type": "code",
   "execution_count": null,
   "id": "ef65774b",
   "metadata": {},
   "outputs": [],
   "source": []
  },
  {
   "cell_type": "code",
   "execution_count": null,
   "id": "aa5e8731",
   "metadata": {},
   "outputs": [],
   "source": []
  },
  {
   "cell_type": "code",
   "execution_count": null,
   "id": "269f1207",
   "metadata": {},
   "outputs": [],
   "source": []
  },
  {
   "cell_type": "markdown",
   "id": "2f3c9278",
   "metadata": {},
   "source": [
    "This time, as previously specified, we use the __full dh dataset__, not the hotspot filtered one."
   ]
  },
  {
   "cell_type": "code",
   "execution_count": 2,
   "id": "f6607eb9",
   "metadata": {},
   "outputs": [
    {
     "name": "stderr",
     "output_type": "stream",
     "text": [
      "C:\\conda3\\envs\\sandpyper_env\\lib\\site-packages\\pyproj\\crs\\crs.py:53: FutureWarning: '+init=<authority>:<code>' syntax is deprecated. '<authority>:<code>' is the preferred initialization method. When making the change, be mindful of axis order changes: https://pyproj4.github.io/pyproj/stable/gotchas.html#axis-order-changes-in-proj-6\n",
      "  return _prepare_from_string(\" \".join(pjargs))\n"
     ]
    }
   ],
   "source": [
    "in_file=r\"C:\\my_packages\\doc_data\\markov_tagged\\markov_tagged_fulldh_df.csv\"\n",
    "dirNameTrans=r\"C:\\my_packages\\doc_data\\transects\\\\\"\n",
    "\n",
    "dataset=pd.read_csv(in_file)\n",
    "\n",
    "dataset[\"coordinates\"]=dataset.geometry.apply(coords_to_points)\n",
    "dataset_gdf=gpd.GeoDataFrame(dataset, geometry=\"coordinates\",crs=crs_dict_string['mar'])\n",
    "dataset_gdf.sort_values(['date_pre'], inplace=True)"
   ]
  },
  {
   "cell_type": "code",
   "execution_count": 3,
   "id": "dcd47120",
   "metadata": {},
   "outputs": [
    {
     "data": {
      "text/html": [
       "<div>\n",
       "<style scoped>\n",
       "    .dataframe tbody tr th:only-of-type {\n",
       "        vertical-align: middle;\n",
       "    }\n",
       "\n",
       "    .dataframe tbody tr th {\n",
       "        vertical-align: top;\n",
       "    }\n",
       "\n",
       "    .dataframe thead th {\n",
       "        text-align: right;\n",
       "    }\n",
       "</style>\n",
       "<table border=\"1\" class=\"dataframe\">\n",
       "  <thead>\n",
       "    <tr style=\"text-align: right;\">\n",
       "      <th></th>\n",
       "      <th>Unnamed: 0</th>\n",
       "      <th>geometry</th>\n",
       "      <th>location</th>\n",
       "      <th>tr_id</th>\n",
       "      <th>distance</th>\n",
       "      <th>dt</th>\n",
       "      <th>date_pre</th>\n",
       "      <th>date_post</th>\n",
       "      <th>z_pre</th>\n",
       "      <th>z_post</th>\n",
       "      <th>dh</th>\n",
       "      <th>jc_bin</th>\n",
       "      <th>markov_tag</th>\n",
       "      <th>coordinates</th>\n",
       "    </tr>\n",
       "  </thead>\n",
       "  <tbody>\n",
       "    <tr>\n",
       "      <th>31091</th>\n",
       "      <td>31091</td>\n",
       "      <td>POINT (731467.5216240293 5705156.429089419)</td>\n",
       "      <td>mar</td>\n",
       "      <td>3</td>\n",
       "      <td>45.2</td>\n",
       "      <td>dt_0</td>\n",
       "      <td>2018-06-01</td>\n",
       "      <td>2018-06-21</td>\n",
       "      <td>2.166688</td>\n",
       "      <td>3.388355</td>\n",
       "      <td>1.221667</td>\n",
       "      <td>3</td>\n",
       "      <td>hd</td>\n",
       "      <td>POINT (731467.522 5705156.429)</td>\n",
       "    </tr>\n",
       "    <tr>\n",
       "      <th>29121</th>\n",
       "      <td>28352</td>\n",
       "      <td>POINT (731568.3976020521 5705480.122417443)</td>\n",
       "      <td>mar</td>\n",
       "      <td>20</td>\n",
       "      <td>43.2</td>\n",
       "      <td>dt_0</td>\n",
       "      <td>2018-06-01</td>\n",
       "      <td>2018-06-21</td>\n",
       "      <td>1.144477</td>\n",
       "      <td>1.658706</td>\n",
       "      <td>0.514229</td>\n",
       "      <td>3</td>\n",
       "      <td>hd</td>\n",
       "      <td>POINT (731568.398 5705480.122)</td>\n",
       "    </tr>\n",
       "    <tr>\n",
       "      <th>29122</th>\n",
       "      <td>28353</td>\n",
       "      <td>POINT (731568.3123749822 5705480.174727542)</td>\n",
       "      <td>mar</td>\n",
       "      <td>20</td>\n",
       "      <td>43.3</td>\n",
       "      <td>dt_0</td>\n",
       "      <td>2018-06-01</td>\n",
       "      <td>2018-06-21</td>\n",
       "      <td>1.167545</td>\n",
       "      <td>1.662670</td>\n",
       "      <td>0.495125</td>\n",
       "      <td>3</td>\n",
       "      <td>hd</td>\n",
       "      <td>POINT (731568.312 5705480.175)</td>\n",
       "    </tr>\n",
       "    <tr>\n",
       "      <th>29123</th>\n",
       "      <td>28354</td>\n",
       "      <td>POINT (731568.2271479121 5705480.227037642)</td>\n",
       "      <td>mar</td>\n",
       "      <td>20</td>\n",
       "      <td>43.4</td>\n",
       "      <td>dt_0</td>\n",
       "      <td>2018-06-01</td>\n",
       "      <td>2018-06-21</td>\n",
       "      <td>1.187715</td>\n",
       "      <td>1.666856</td>\n",
       "      <td>0.479141</td>\n",
       "      <td>2</td>\n",
       "      <td>md</td>\n",
       "      <td>POINT (731568.227 5705480.227)</td>\n",
       "    </tr>\n",
       "    <tr>\n",
       "      <th>29124</th>\n",
       "      <td>28355</td>\n",
       "      <td>POINT (731568.1419208422 5705480.279347742)</td>\n",
       "      <td>mar</td>\n",
       "      <td>20</td>\n",
       "      <td>43.5</td>\n",
       "      <td>dt_0</td>\n",
       "      <td>2018-06-01</td>\n",
       "      <td>2018-06-21</td>\n",
       "      <td>1.200375</td>\n",
       "      <td>1.672475</td>\n",
       "      <td>0.472100</td>\n",
       "      <td>2</td>\n",
       "      <td>md</td>\n",
       "      <td>POINT (731568.142 5705480.279)</td>\n",
       "    </tr>\n",
       "  </tbody>\n",
       "</table>\n",
       "</div>"
      ],
      "text/plain": [
       "       Unnamed: 0                                     geometry location  \\\n",
       "31091       31091  POINT (731467.5216240293 5705156.429089419)      mar   \n",
       "29121       28352  POINT (731568.3976020521 5705480.122417443)      mar   \n",
       "29122       28353  POINT (731568.3123749822 5705480.174727542)      mar   \n",
       "29123       28354  POINT (731568.2271479121 5705480.227037642)      mar   \n",
       "29124       28355  POINT (731568.1419208422 5705480.279347742)      mar   \n",
       "\n",
       "       tr_id  distance    dt    date_pre   date_post     z_pre    z_post  \\\n",
       "31091      3      45.2  dt_0  2018-06-01  2018-06-21  2.166688  3.388355   \n",
       "29121     20      43.2  dt_0  2018-06-01  2018-06-21  1.144477  1.658706   \n",
       "29122     20      43.3  dt_0  2018-06-01  2018-06-21  1.167545  1.662670   \n",
       "29123     20      43.4  dt_0  2018-06-01  2018-06-21  1.187715  1.666856   \n",
       "29124     20      43.5  dt_0  2018-06-01  2018-06-21  1.200375  1.672475   \n",
       "\n",
       "             dh  jc_bin markov_tag                     coordinates  \n",
       "31091  1.221667       3         hd  POINT (731467.522 5705156.429)  \n",
       "29121  0.514229       3         hd  POINT (731568.398 5705480.122)  \n",
       "29122  0.495125       3         hd  POINT (731568.312 5705480.175)  \n",
       "29123  0.479141       2         md  POINT (731568.227 5705480.227)  \n",
       "29124  0.472100       2         md  POINT (731568.142 5705480.279)  "
      ]
     },
     "execution_count": 3,
     "metadata": {},
     "output_type": "execute_result"
    }
   ],
   "source": [
    "dataset_gdf.head()"
   ]
  },
  {
   "cell_type": "markdown",
   "id": "9459c21c",
   "metadata": {},
   "source": [
    "Let's use only Marengo data, which has a longer timeseries compared to St. Leonards."
   ]
  },
  {
   "cell_type": "code",
   "execution_count": 4,
   "id": "a6f0ae78",
   "metadata": {
    "scrolled": true
   },
   "outputs": [
    {
     "data": {
      "text/html": [
       "<div>\n",
       "<style scoped>\n",
       "    .dataframe tbody tr th:only-of-type {\n",
       "        vertical-align: middle;\n",
       "    }\n",
       "\n",
       "    .dataframe tbody tr th {\n",
       "        vertical-align: top;\n",
       "    }\n",
       "\n",
       "    .dataframe thead th {\n",
       "        text-align: right;\n",
       "    }\n",
       "</style>\n",
       "<table border=\"1\" class=\"dataframe\">\n",
       "  <thead>\n",
       "    <tr style=\"text-align: right;\">\n",
       "      <th></th>\n",
       "      <th>Unnamed: 0</th>\n",
       "      <th>geometry</th>\n",
       "      <th>location</th>\n",
       "      <th>tr_id</th>\n",
       "      <th>distance</th>\n",
       "      <th>dt</th>\n",
       "      <th>date_pre</th>\n",
       "      <th>date_post</th>\n",
       "      <th>z_pre</th>\n",
       "      <th>z_post</th>\n",
       "      <th>dh</th>\n",
       "      <th>jc_bin</th>\n",
       "      <th>markov_tag</th>\n",
       "      <th>coordinates</th>\n",
       "    </tr>\n",
       "  </thead>\n",
       "  <tbody>\n",
       "    <tr>\n",
       "      <th>2725</th>\n",
       "      <td>4733</td>\n",
       "      <td>POINT (731579.306667006 5705473.42672466)</td>\n",
       "      <td>mar</td>\n",
       "      <td>20</td>\n",
       "      <td>30.4</td>\n",
       "      <td>dt_7</td>\n",
       "      <td>2019-03-13</td>\n",
       "      <td>2019-05-16</td>\n",
       "      <td>1.392407</td>\n",
       "      <td>1.127059</td>\n",
       "      <td>-0.265348</td>\n",
       "      <td>3</td>\n",
       "      <td>se</td>\n",
       "      <td>POINT (731579.307 5705473.427)</td>\n",
       "    </tr>\n",
       "    <tr>\n",
       "      <th>2726</th>\n",
       "      <td>4734</td>\n",
       "      <td>POINT (731579.221439936 5705473.47903476)</td>\n",
       "      <td>mar</td>\n",
       "      <td>20</td>\n",
       "      <td>30.5</td>\n",
       "      <td>dt_7</td>\n",
       "      <td>2019-03-13</td>\n",
       "      <td>2019-05-16</td>\n",
       "      <td>1.414008</td>\n",
       "      <td>1.135922</td>\n",
       "      <td>-0.278085</td>\n",
       "      <td>3</td>\n",
       "      <td>se</td>\n",
       "      <td>POINT (731579.221 5705473.479)</td>\n",
       "    </tr>\n",
       "    <tr>\n",
       "      <th>2727</th>\n",
       "      <td>4735</td>\n",
       "      <td>POINT (731579.1362128661 5705473.53134486)</td>\n",
       "      <td>mar</td>\n",
       "      <td>20</td>\n",
       "      <td>30.6</td>\n",
       "      <td>dt_7</td>\n",
       "      <td>2019-03-13</td>\n",
       "      <td>2019-05-16</td>\n",
       "      <td>1.427494</td>\n",
       "      <td>1.147608</td>\n",
       "      <td>-0.279886</td>\n",
       "      <td>3</td>\n",
       "      <td>se</td>\n",
       "      <td>POINT (731579.136 5705473.531)</td>\n",
       "    </tr>\n",
       "    <tr>\n",
       "      <th>2728</th>\n",
       "      <td>4742</td>\n",
       "      <td>POINT (731556.3417177059 5705441.53390942)</td>\n",
       "      <td>mar</td>\n",
       "      <td>18</td>\n",
       "      <td>36.5</td>\n",
       "      <td>dt_7</td>\n",
       "      <td>2019-03-13</td>\n",
       "      <td>2019-05-16</td>\n",
       "      <td>1.774062</td>\n",
       "      <td>1.608972</td>\n",
       "      <td>-0.165090</td>\n",
       "      <td>3</td>\n",
       "      <td>se</td>\n",
       "      <td>POINT (731556.342 5705441.534)</td>\n",
       "    </tr>\n",
       "    <tr>\n",
       "      <th>2729</th>\n",
       "      <td>4743</td>\n",
       "      <td>POINT (731555.141984757 5705442.03454986)</td>\n",
       "      <td>mar</td>\n",
       "      <td>18</td>\n",
       "      <td>37.8</td>\n",
       "      <td>dt_7</td>\n",
       "      <td>2019-03-13</td>\n",
       "      <td>2019-05-16</td>\n",
       "      <td>1.847479</td>\n",
       "      <td>1.734514</td>\n",
       "      <td>-0.112966</td>\n",
       "      <td>4</td>\n",
       "      <td>ue</td>\n",
       "      <td>POINT (731555.142 5705442.035)</td>\n",
       "    </tr>\n",
       "    <tr>\n",
       "      <th>...</th>\n",
       "      <td>...</td>\n",
       "      <td>...</td>\n",
       "      <td>...</td>\n",
       "      <td>...</td>\n",
       "      <td>...</td>\n",
       "      <td>...</td>\n",
       "      <td>...</td>\n",
       "      <td>...</td>\n",
       "      <td>...</td>\n",
       "      <td>...</td>\n",
       "      <td>...</td>\n",
       "      <td>...</td>\n",
       "      <td>...</td>\n",
       "      <td>...</td>\n",
       "    </tr>\n",
       "    <tr>\n",
       "      <th>31087</th>\n",
       "      <td>31087</td>\n",
       "      <td>POINT (731468.0187435427 5705156.375496609)</td>\n",
       "      <td>mar</td>\n",
       "      <td>3</td>\n",
       "      <td>44.7</td>\n",
       "      <td>dt_0</td>\n",
       "      <td>2018-06-01</td>\n",
       "      <td>2018-06-21</td>\n",
       "      <td>2.075071</td>\n",
       "      <td>2.708724</td>\n",
       "      <td>0.633653</td>\n",
       "      <td>3</td>\n",
       "      <td>hd</td>\n",
       "      <td>POINT (731468.019 5705156.375)</td>\n",
       "    </tr>\n",
       "    <tr>\n",
       "      <th>31088</th>\n",
       "      <td>31088</td>\n",
       "      <td>POINT (731467.8198957373 5705156.396933733)</td>\n",
       "      <td>mar</td>\n",
       "      <td>3</td>\n",
       "      <td>44.9</td>\n",
       "      <td>dt_0</td>\n",
       "      <td>2018-06-01</td>\n",
       "      <td>2018-06-21</td>\n",
       "      <td>2.090222</td>\n",
       "      <td>2.918043</td>\n",
       "      <td>0.827821</td>\n",
       "      <td>3</td>\n",
       "      <td>hd</td>\n",
       "      <td>POINT (731467.820 5705156.397)</td>\n",
       "    </tr>\n",
       "    <tr>\n",
       "      <th>31089</th>\n",
       "      <td>31089</td>\n",
       "      <td>POINT (731467.7204718346 5705156.407652295)</td>\n",
       "      <td>mar</td>\n",
       "      <td>3</td>\n",
       "      <td>45.0</td>\n",
       "      <td>dt_0</td>\n",
       "      <td>2018-06-01</td>\n",
       "      <td>2018-06-21</td>\n",
       "      <td>2.116984</td>\n",
       "      <td>3.143203</td>\n",
       "      <td>1.026220</td>\n",
       "      <td>3</td>\n",
       "      <td>hd</td>\n",
       "      <td>POINT (731467.720 5705156.408)</td>\n",
       "    </tr>\n",
       "    <tr>\n",
       "      <th>31090</th>\n",
       "      <td>31090</td>\n",
       "      <td>POINT (731467.621047932 5705156.418370857)</td>\n",
       "      <td>mar</td>\n",
       "      <td>3</td>\n",
       "      <td>45.1</td>\n",
       "      <td>dt_0</td>\n",
       "      <td>2018-06-01</td>\n",
       "      <td>2018-06-21</td>\n",
       "      <td>2.140646</td>\n",
       "      <td>3.303227</td>\n",
       "      <td>1.162581</td>\n",
       "      <td>3</td>\n",
       "      <td>hd</td>\n",
       "      <td>POINT (731467.621 5705156.418)</td>\n",
       "    </tr>\n",
       "    <tr>\n",
       "      <th>31091</th>\n",
       "      <td>31091</td>\n",
       "      <td>POINT (731467.5216240293 5705156.429089419)</td>\n",
       "      <td>mar</td>\n",
       "      <td>3</td>\n",
       "      <td>45.2</td>\n",
       "      <td>dt_0</td>\n",
       "      <td>2018-06-01</td>\n",
       "      <td>2018-06-21</td>\n",
       "      <td>2.166688</td>\n",
       "      <td>3.388355</td>\n",
       "      <td>1.221667</td>\n",
       "      <td>3</td>\n",
       "      <td>hd</td>\n",
       "      <td>POINT (731467.522 5705156.429)</td>\n",
       "    </tr>\n",
       "  </tbody>\n",
       "</table>\n",
       "<p>26359 rows × 14 columns</p>\n",
       "</div>"
      ],
      "text/plain": [
       "       Unnamed: 0                                     geometry location  \\\n",
       "2725         4733    POINT (731579.306667006 5705473.42672466)      mar   \n",
       "2726         4734    POINT (731579.221439936 5705473.47903476)      mar   \n",
       "2727         4735   POINT (731579.1362128661 5705473.53134486)      mar   \n",
       "2728         4742   POINT (731556.3417177059 5705441.53390942)      mar   \n",
       "2729         4743    POINT (731555.141984757 5705442.03454986)      mar   \n",
       "...           ...                                          ...      ...   \n",
       "31087       31087  POINT (731468.0187435427 5705156.375496609)      mar   \n",
       "31088       31088  POINT (731467.8198957373 5705156.396933733)      mar   \n",
       "31089       31089  POINT (731467.7204718346 5705156.407652295)      mar   \n",
       "31090       31090   POINT (731467.621047932 5705156.418370857)      mar   \n",
       "31091       31091  POINT (731467.5216240293 5705156.429089419)      mar   \n",
       "\n",
       "       tr_id  distance    dt    date_pre   date_post     z_pre    z_post  \\\n",
       "2725      20      30.4  dt_7  2019-03-13  2019-05-16  1.392407  1.127059   \n",
       "2726      20      30.5  dt_7  2019-03-13  2019-05-16  1.414008  1.135922   \n",
       "2727      20      30.6  dt_7  2019-03-13  2019-05-16  1.427494  1.147608   \n",
       "2728      18      36.5  dt_7  2019-03-13  2019-05-16  1.774062  1.608972   \n",
       "2729      18      37.8  dt_7  2019-03-13  2019-05-16  1.847479  1.734514   \n",
       "...      ...       ...   ...         ...         ...       ...       ...   \n",
       "31087      3      44.7  dt_0  2018-06-01  2018-06-21  2.075071  2.708724   \n",
       "31088      3      44.9  dt_0  2018-06-01  2018-06-21  2.090222  2.918043   \n",
       "31089      3      45.0  dt_0  2018-06-01  2018-06-21  2.116984  3.143203   \n",
       "31090      3      45.1  dt_0  2018-06-01  2018-06-21  2.140646  3.303227   \n",
       "31091      3      45.2  dt_0  2018-06-01  2018-06-21  2.166688  3.388355   \n",
       "\n",
       "             dh  jc_bin markov_tag                     coordinates  \n",
       "2725  -0.265348       3         se  POINT (731579.307 5705473.427)  \n",
       "2726  -0.278085       3         se  POINT (731579.221 5705473.479)  \n",
       "2727  -0.279886       3         se  POINT (731579.136 5705473.531)  \n",
       "2728  -0.165090       3         se  POINT (731556.342 5705441.534)  \n",
       "2729  -0.112966       4         ue  POINT (731555.142 5705442.035)  \n",
       "...         ...     ...        ...                             ...  \n",
       "31087  0.633653       3         hd  POINT (731468.019 5705156.375)  \n",
       "31088  0.827821       3         hd  POINT (731467.820 5705156.397)  \n",
       "31089  1.026220       3         hd  POINT (731467.720 5705156.408)  \n",
       "31090  1.162581       3         hd  POINT (731467.621 5705156.418)  \n",
       "31091  1.221667       3         hd  POINT (731467.522 5705156.429)  \n",
       "\n",
       "[26359 rows x 14 columns]"
      ]
     },
     "execution_count": 4,
     "metadata": {},
     "output_type": "execute_result"
    }
   ],
   "source": [
    "dataset_mar=dataset.query(\"location=='mar'\")\n",
    "dataset_mar"
   ]
  },
  {
   "cell_type": "markdown",
   "id": "e2c778ed",
   "metadata": {},
   "source": [
    "As no transitions are represented, there is no need to use weights. However, the use of weights can be implemented with passing the weights dictionary."
   ]
  },
  {
   "cell_type": "code",
   "execution_count": 5,
   "id": "591d03fa",
   "metadata": {},
   "outputs": [],
   "source": [
    "# Weights are all ones, which means no weights.\n",
    "\n",
    "weights_dict={\"ee\":1,\"ed\":1,\n",
    "        \"he\":1,\"hd\":1,\n",
    "        \"me\":1,\"md\":1,\n",
    "        \"se\":1,\"sd\":1,\n",
    "        \"ue\":1,\"ud\":1}\n",
    "\n",
    "label_order=['ed', 'hd', 'md', 'sd', 'ud', 'ue', 'se', 'me', 'he', 'ee']"
   ]
  },
  {
   "cell_type": "markdown",
   "id": "37677f7b",
   "metadata": {},
   "source": [
    "two parameters are important:\n",
    "* __min_points__: the minimum required valid points per transect to consider a transect reliable.\n",
    "* __thresh__: the minimum number of timesteps required to retain a transect.\n"
   ]
  },
  {
   "cell_type": "code",
   "execution_count": 6,
   "id": "3cb85c9b",
   "metadata": {
    "scrolled": true
   },
   "outputs": [
    {
     "data": {
      "application/vnd.jupyter.widget-view+json": {
       "model_id": "40f867f3b25643e8a83011a1d267cfc5",
       "version_major": 2,
       "version_minor": 0
      },
      "text/plain": [
       "  0%|          | 0/1 [00:00<?, ?it/s]"
      ]
     },
     "metadata": {},
     "output_type": "display_data"
    },
    {
     "name": "stdout",
     "output_type": "stream",
     "text": [
      "Threshold of points per transect 10 not reached. It has 14 points.\n",
      "Threshold of points per transect 24 not reached. It has 0 points.\n",
      "tr_id 24 has not enough points. Go ahead...\n",
      "Threshold of points per transect 5 not reached. It has 0 points.\n",
      "tr_id 5 has not enough points. Go ahead...\n",
      "Threshold of points per transect 4 not reached. It has 0 points.\n",
      "tr_id 4 has not enough points. Go ahead...\n",
      "Threshold of points per transect 3 not reached. It has 0 points.\n",
      "tr_id 3 has not enough points. Go ahead...\n",
      "eliminating unreliable transects . . . \n"
     ]
    },
    {
     "data": {
      "text/html": [
       "<div>\n",
       "<style scoped>\n",
       "    .dataframe tbody tr th:only-of-type {\n",
       "        vertical-align: middle;\n",
       "    }\n",
       "\n",
       "    .dataframe tbody tr th {\n",
       "        vertical-align: top;\n",
       "    }\n",
       "\n",
       "    .dataframe thead th {\n",
       "        text-align: right;\n",
       "    }\n",
       "</style>\n",
       "<table border=\"1\" class=\"dataframe\">\n",
       "  <thead>\n",
       "    <tr style=\"text-align: right;\">\n",
       "      <th></th>\n",
       "      <th>markov_tag</th>\n",
       "      <th>tr_id</th>\n",
       "      <th>p</th>\n",
       "      <th>location</th>\n",
       "      <th>thresh</th>\n",
       "      <th>min_pts</th>\n",
       "      <th>valid_pts</th>\n",
       "    </tr>\n",
       "  </thead>\n",
       "  <tbody>\n",
       "    <tr>\n",
       "      <th>0</th>\n",
       "      <td>ed</td>\n",
       "      <td>7</td>\n",
       "      <td>0.019709</td>\n",
       "      <td>mar</td>\n",
       "      <td>7</td>\n",
       "      <td>20</td>\n",
       "      <td>68</td>\n",
       "    </tr>\n",
       "    <tr>\n",
       "      <th>1</th>\n",
       "      <td>ee</td>\n",
       "      <td>7</td>\n",
       "      <td>0.025622</td>\n",
       "      <td>mar</td>\n",
       "      <td>7</td>\n",
       "      <td>20</td>\n",
       "      <td>68</td>\n",
       "    </tr>\n",
       "    <tr>\n",
       "      <th>2</th>\n",
       "      <td>hd</td>\n",
       "      <td>7</td>\n",
       "      <td>0.013796</td>\n",
       "      <td>mar</td>\n",
       "      <td>7</td>\n",
       "      <td>20</td>\n",
       "      <td>68</td>\n",
       "    </tr>\n",
       "    <tr>\n",
       "      <th>3</th>\n",
       "      <td>he</td>\n",
       "      <td>7</td>\n",
       "      <td>0.007884</td>\n",
       "      <td>mar</td>\n",
       "      <td>7</td>\n",
       "      <td>20</td>\n",
       "      <td>68</td>\n",
       "    </tr>\n",
       "    <tr>\n",
       "      <th>4</th>\n",
       "      <td>md</td>\n",
       "      <td>7</td>\n",
       "      <td>0.073959</td>\n",
       "      <td>mar</td>\n",
       "      <td>7</td>\n",
       "      <td>20</td>\n",
       "      <td>68</td>\n",
       "    </tr>\n",
       "    <tr>\n",
       "      <th>...</th>\n",
       "      <td>...</td>\n",
       "      <td>...</td>\n",
       "      <td>...</td>\n",
       "      <td>...</td>\n",
       "      <td>...</td>\n",
       "      <td>...</td>\n",
       "      <td>...</td>\n",
       "    </tr>\n",
       "    <tr>\n",
       "      <th>154</th>\n",
       "      <td>nnn</td>\n",
       "      <td>20</td>\n",
       "      <td>0.140533</td>\n",
       "      <td>mar</td>\n",
       "      <td>7</td>\n",
       "      <td>20</td>\n",
       "      <td>31</td>\n",
       "    </tr>\n",
       "    <tr>\n",
       "      <th>155</th>\n",
       "      <td>sd</td>\n",
       "      <td>20</td>\n",
       "      <td>0.082767</td>\n",
       "      <td>mar</td>\n",
       "      <td>7</td>\n",
       "      <td>20</td>\n",
       "      <td>31</td>\n",
       "    </tr>\n",
       "    <tr>\n",
       "      <th>156</th>\n",
       "      <td>se</td>\n",
       "      <td>20</td>\n",
       "      <td>0.011735</td>\n",
       "      <td>mar</td>\n",
       "      <td>7</td>\n",
       "      <td>20</td>\n",
       "      <td>31</td>\n",
       "    </tr>\n",
       "    <tr>\n",
       "      <th>157</th>\n",
       "      <td>ud</td>\n",
       "      <td>20</td>\n",
       "      <td>0.179821</td>\n",
       "      <td>mar</td>\n",
       "      <td>7</td>\n",
       "      <td>20</td>\n",
       "      <td>31</td>\n",
       "    </tr>\n",
       "    <tr>\n",
       "      <th>158</th>\n",
       "      <td>ue</td>\n",
       "      <td>20</td>\n",
       "      <td>0.150194</td>\n",
       "      <td>mar</td>\n",
       "      <td>7</td>\n",
       "      <td>20</td>\n",
       "      <td>31</td>\n",
       "    </tr>\n",
       "  </tbody>\n",
       "</table>\n",
       "<p>151 rows × 7 columns</p>\n",
       "</div>"
      ],
      "text/plain": [
       "    markov_tag tr_id         p location  thresh  min_pts  valid_pts\n",
       "0           ed     7  0.019709      mar       7       20         68\n",
       "1           ee     7  0.025622      mar       7       20         68\n",
       "2           hd     7  0.013796      mar       7       20         68\n",
       "3           he     7  0.007884      mar       7       20         68\n",
       "4           md     7  0.073959      mar       7       20         68\n",
       "..         ...   ...       ...      ...     ...      ...        ...\n",
       "154        nnn    20  0.140533      mar       7       20         31\n",
       "155         sd    20  0.082767      mar       7       20         31\n",
       "156         se    20  0.011735      mar       7       20         31\n",
       "157         ud    20  0.179821      mar       7       20         31\n",
       "158         ue    20  0.150194      mar       7       20         31\n",
       "\n",
       "[151 rows x 7 columns]"
      ]
     },
     "execution_count": 6,
     "metadata": {},
     "output_type": "execute_result"
    }
   ],
   "source": [
    "thresh=7\n",
    "min_points=20\n",
    "\n",
    "ss_tr=steady_state_transect(dataset_mar,\n",
    "                            field_unique_id='geometry',\n",
    "                            min_points=min_points,\n",
    "                            thresh=thresh,\n",
    "                            mode='nnn',\n",
    "                            unreal=\"drop\"\n",
    "                           )\n",
    "ss_tr"
   ]
  },
  {
   "cell_type": "code",
   "execution_count": 17,
   "id": "82119627",
   "metadata": {
    "scrolled": false
   },
   "outputs": [
    {
     "name": "stderr",
     "output_type": "stream",
     "text": [
      "C:\\conda3\\envs\\sandpyper_env\\lib\\site-packages\\geopandas\\geodataframe.py:422: RuntimeWarning: Sequential read of iterator was interrupted. Resetting iterator. This can negatively impact the performance.\n",
      "  for feature in features_lst:\n"
     ]
    },
    {
     "data": {
      "image/png": "[encoded data removed]",
      "text/plain": [
       "<Figure size 1440x1440 with 1 Axes>"
      ]
     },
     "metadata": {
      "needs_background": "light"
     },
     "output_type": "display_data"
    }
   ],
   "source": [
    "f,ax= plt.subplots(figsize=(20,20))\n",
    "\n",
    "ss_transects_idx,idx_table=compute_rBCD_transects(dirNameTrans=dirNameTrans,label_order=label_order,\n",
    "                                                  crs_dict_string=crs_dict_string,\n",
    "                                                steady_state_tr=ss_tr,weights_dict=weights_dict,\n",
    "                                                loc='mar')\n",
    "\n",
    "ss_transects_idx.plot(column='residual', ax=ax, cmap='seismic_r');"
   ]
  },
  {
   "cell_type": "code",
   "execution_count": 18,
   "id": "331bc0d4",
   "metadata": {},
   "outputs": [
    {
     "data": {
      "text/html": [
       "<div>\n",
       "<style scoped>\n",
       "    .dataframe tbody tr th:only-of-type {\n",
       "        vertical-align: middle;\n",
       "    }\n",
       "\n",
       "    .dataframe tbody tr th {\n",
       "        vertical-align: top;\n",
       "    }\n",
       "\n",
       "    .dataframe thead th {\n",
       "        text-align: right;\n",
       "    }\n",
       "</style>\n",
       "<table border=\"1\" class=\"dataframe\">\n",
       "  <thead>\n",
       "    <tr style=\"text-align: right;\">\n",
       "      <th></th>\n",
       "      <th>location</th>\n",
       "      <th>tr_id</th>\n",
       "      <th>deposition</th>\n",
       "      <th>erosion</th>\n",
       "      <th>residual</th>\n",
       "      <th>geometry</th>\n",
       "      <th>n_dt</th>\n",
       "    </tr>\n",
       "  </thead>\n",
       "  <tbody>\n",
       "    <tr>\n",
       "      <th>0</th>\n",
       "      <td>mar</td>\n",
       "      <td>6</td>\n",
       "      <td>0.517730</td>\n",
       "      <td>0.373158</td>\n",
       "      <td>0.144572</td>\n",
       "      <td>MULTILINESTRING ((731518.785 5705210.340, 7314...</td>\n",
       "      <td>8</td>\n",
       "    </tr>\n",
       "    <tr>\n",
       "      <th>1</th>\n",
       "      <td>mar</td>\n",
       "      <td>7</td>\n",
       "      <td>0.710250</td>\n",
       "      <td>0.289750</td>\n",
       "      <td>0.420501</td>\n",
       "      <td>MULTILINESTRING ((731521.351 5705227.262, 7314...</td>\n",
       "      <td>7</td>\n",
       "    </tr>\n",
       "    <tr>\n",
       "      <th>2</th>\n",
       "      <td>mar</td>\n",
       "      <td>8</td>\n",
       "      <td>0.552693</td>\n",
       "      <td>0.340064</td>\n",
       "      <td>0.212629</td>\n",
       "      <td>MULTILINESTRING ((731525.857 5705244.754, 7314...</td>\n",
       "      <td>8</td>\n",
       "    </tr>\n",
       "    <tr>\n",
       "      <th>3</th>\n",
       "      <td>mar</td>\n",
       "      <td>9</td>\n",
       "      <td>0.515361</td>\n",
       "      <td>0.382947</td>\n",
       "      <td>0.132415</td>\n",
       "      <td>MULTILINESTRING ((731530.795 5705264.135, 7314...</td>\n",
       "      <td>8</td>\n",
       "    </tr>\n",
       "    <tr>\n",
       "      <th>4</th>\n",
       "      <td>mar</td>\n",
       "      <td>11</td>\n",
       "      <td>0.486919</td>\n",
       "      <td>0.384346</td>\n",
       "      <td>0.102573</td>\n",
       "      <td>MULTILINESTRING ((731540.659 5705302.846, 7314...</td>\n",
       "      <td>8</td>\n",
       "    </tr>\n",
       "    <tr>\n",
       "      <th>5</th>\n",
       "      <td>mar</td>\n",
       "      <td>12</td>\n",
       "      <td>0.616032</td>\n",
       "      <td>0.263605</td>\n",
       "      <td>0.352427</td>\n",
       "      <td>MULTILINESTRING ((731544.821 5705319.413, 7314...</td>\n",
       "      <td>8</td>\n",
       "    </tr>\n",
       "    <tr>\n",
       "      <th>6</th>\n",
       "      <td>mar</td>\n",
       "      <td>13</td>\n",
       "      <td>0.547248</td>\n",
       "      <td>0.324287</td>\n",
       "      <td>0.222961</td>\n",
       "      <td>MULTILINESTRING ((731551.516 5705335.190, 7314...</td>\n",
       "      <td>8</td>\n",
       "    </tr>\n",
       "    <tr>\n",
       "      <th>7</th>\n",
       "      <td>mar</td>\n",
       "      <td>14</td>\n",
       "      <td>0.372486</td>\n",
       "      <td>0.519190</td>\n",
       "      <td>-0.146704</td>\n",
       "      <td>MULTILINESTRING ((731559.218 5705353.648, 7314...</td>\n",
       "      <td>8</td>\n",
       "    </tr>\n",
       "    <tr>\n",
       "      <th>8</th>\n",
       "      <td>mar</td>\n",
       "      <td>15</td>\n",
       "      <td>0.419885</td>\n",
       "      <td>0.425370</td>\n",
       "      <td>-0.005485</td>\n",
       "      <td>MULTILINESTRING ((731566.920 5705372.105, 7314...</td>\n",
       "      <td>8</td>\n",
       "    </tr>\n",
       "    <tr>\n",
       "      <th>9</th>\n",
       "      <td>mar</td>\n",
       "      <td>16</td>\n",
       "      <td>0.553842</td>\n",
       "      <td>0.308799</td>\n",
       "      <td>0.245044</td>\n",
       "      <td>MULTILINESTRING ((731574.622 5705390.563, 7315...</td>\n",
       "      <td>8</td>\n",
       "    </tr>\n",
       "    <tr>\n",
       "      <th>10</th>\n",
       "      <td>mar</td>\n",
       "      <td>17</td>\n",
       "      <td>0.540195</td>\n",
       "      <td>0.295664</td>\n",
       "      <td>0.244531</td>\n",
       "      <td>MULTILINESTRING ((731582.324 5705409.020, 7315...</td>\n",
       "      <td>8</td>\n",
       "    </tr>\n",
       "    <tr>\n",
       "      <th>11</th>\n",
       "      <td>mar</td>\n",
       "      <td>18</td>\n",
       "      <td>0.618356</td>\n",
       "      <td>0.188522</td>\n",
       "      <td>0.429834</td>\n",
       "      <td>MULTILINESTRING ((731590.027 5705427.477, 7315...</td>\n",
       "      <td>8</td>\n",
       "    </tr>\n",
       "    <tr>\n",
       "      <th>12</th>\n",
       "      <td>mar</td>\n",
       "      <td>19</td>\n",
       "      <td>0.705274</td>\n",
       "      <td>0.142412</td>\n",
       "      <td>0.562862</td>\n",
       "      <td>MULTILINESTRING ((731596.497 5705443.265, 7315...</td>\n",
       "      <td>8</td>\n",
       "    </tr>\n",
       "    <tr>\n",
       "      <th>13</th>\n",
       "      <td>mar</td>\n",
       "      <td>20</td>\n",
       "      <td>0.582215</td>\n",
       "      <td>0.277252</td>\n",
       "      <td>0.304963</td>\n",
       "      <td>MULTILINESTRING ((731605.216 5705457.524, 7315...</td>\n",
       "      <td>8</td>\n",
       "    </tr>\n",
       "    <tr>\n",
       "      <th>14</th>\n",
       "      <td>mar</td>\n",
       "      <td>21</td>\n",
       "      <td>0.611429</td>\n",
       "      <td>0.388571</td>\n",
       "      <td>0.222857</td>\n",
       "      <td>MULTILINESTRING ((731615.645 5705474.209, 7315...</td>\n",
       "      <td>7</td>\n",
       "    </tr>\n",
       "    <tr>\n",
       "      <th>15</th>\n",
       "      <td>mar</td>\n",
       "      <td>22</td>\n",
       "      <td>0.534683</td>\n",
       "      <td>0.465317</td>\n",
       "      <td>0.069366</td>\n",
       "      <td>MULTILINESTRING ((731626.245 5705491.168, 7315...</td>\n",
       "      <td>7</td>\n",
       "    </tr>\n",
       "    <tr>\n",
       "      <th>16</th>\n",
       "      <td>mar</td>\n",
       "      <td>23</td>\n",
       "      <td>0.802150</td>\n",
       "      <td>0.197850</td>\n",
       "      <td>0.604301</td>\n",
       "      <td>MULTILINESTRING ((731636.613 5705507.762, 7315...</td>\n",
       "      <td>7</td>\n",
       "    </tr>\n",
       "  </tbody>\n",
       "</table>\n",
       "</div>"
      ],
      "text/plain": [
       "   location  tr_id  deposition   erosion  residual  \\\n",
       "0       mar      6    0.517730  0.373158  0.144572   \n",
       "1       mar      7    0.710250  0.289750  0.420501   \n",
       "2       mar      8    0.552693  0.340064  0.212629   \n",
       "3       mar      9    0.515361  0.382947  0.132415   \n",
       "4       mar     11    0.486919  0.384346  0.102573   \n",
       "5       mar     12    0.616032  0.263605  0.352427   \n",
       "6       mar     13    0.547248  0.324287  0.222961   \n",
       "7       mar     14    0.372486  0.519190 -0.146704   \n",
       "8       mar     15    0.419885  0.425370 -0.005485   \n",
       "9       mar     16    0.553842  0.308799  0.245044   \n",
       "10      mar     17    0.540195  0.295664  0.244531   \n",
       "11      mar     18    0.618356  0.188522  0.429834   \n",
       "12      mar     19    0.705274  0.142412  0.562862   \n",
       "13      mar     20    0.582215  0.277252  0.304963   \n",
       "14      mar     21    0.611429  0.388571  0.222857   \n",
       "15      mar     22    0.534683  0.465317  0.069366   \n",
       "16      mar     23    0.802150  0.197850  0.604301   \n",
       "\n",
       "                                             geometry  n_dt  \n",
       "0   MULTILINESTRING ((731518.785 5705210.340, 7314...     8  \n",
       "1   MULTILINESTRING ((731521.351 5705227.262, 7314...     7  \n",
       "2   MULTILINESTRING ((731525.857 5705244.754, 7314...     8  \n",
       "3   MULTILINESTRING ((731530.795 5705264.135, 7314...     8  \n",
       "4   MULTILINESTRING ((731540.659 5705302.846, 7314...     8  \n",
       "5   MULTILINESTRING ((731544.821 5705319.413, 7314...     8  \n",
       "6   MULTILINESTRING ((731551.516 5705335.190, 7314...     8  \n",
       "7   MULTILINESTRING ((731559.218 5705353.648, 7314...     8  \n",
       "8   MULTILINESTRING ((731566.920 5705372.105, 7314...     8  \n",
       "9   MULTILINESTRING ((731574.622 5705390.563, 7315...     8  \n",
       "10  MULTILINESTRING ((731582.324 5705409.020, 7315...     8  \n",
       "11  MULTILINESTRING ((731590.027 5705427.477, 7315...     8  \n",
       "12  MULTILINESTRING ((731596.497 5705443.265, 7315...     8  \n",
       "13  MULTILINESTRING ((731605.216 5705457.524, 7315...     8  \n",
       "14  MULTILINESTRING ((731615.645 5705474.209, 7315...     7  \n",
       "15  MULTILINESTRING ((731626.245 5705491.168, 7315...     7  \n",
       "16  MULTILINESTRING ((731636.613 5705507.762, 7315...     7  "
      ]
     },
     "execution_count": 18,
     "metadata": {},
     "output_type": "execute_result"
    }
   ],
   "source": [
    "n_trans=dataset_mar.groupby(['tr_id'])[\"dt\"].unique().reset_index()\n",
    "n_trans['n_dt']=[n_trans.iloc[i,-1].shape[0] for i in np.arange(n_trans.shape[0]) ]\n",
    "\n",
    "ss_transects_idx=pd.merge(ss_transects_idx,n_trans[[\"tr_id\",\"n_dt\"]], on=['tr_id'], how='left')\n",
    "ss_transects_idx"
   ]
  },
  {
   "cell_type": "markdown",
   "id": "5b4b2c8f",
   "metadata": {},
   "source": [
    "## Sensitivity analysis"
   ]
  },
  {
   "cell_type": "markdown",
   "id": "de030965",
   "metadata": {},
   "source": [
    "For a reliable computation of r-BCDs at the transect scale the Δh points within the subaerial beachface must be beyond the period-specific LoDs.\n",
    "\n",
    "This filtering process assures that only high quality data is used in the r-BCDs computation to the detriment of the total number of valid observations per transect. Moreover, two additional filtering steps are applied at the site-level, to ensure that are only retained:\n",
    "* points that remain valid for at least a certain amount of Δh periods (t)\n",
    "* transects that have a number of valid points greater than a determined minimum threshold (pt)\n",
    "\n",
    "This is done to ensure comparability across time and transects in a determined location.\n",
    "Therefore, __t is an important parameter that should ideally be as high as the available time periods__, in order to ensure that the maximum behavioural variability is captured.<br>\n",
    "Yet, setting this parameter very high can reduce considerably the number of valid points retained in a single transect, which in turn can fall below t, leading to the loss of transects from the final behavioural map.<br>\n",
    "It is also informative to monitor and try to minimise the number of transects that __passed from a depositional to erosional behavioral regime (or vice versa) in the last time period (i. e. changed sign from t-1 to t),__ for any chosen t. Those transects could signal a behaviour that only emerged by choosing a determined value for t, signaling a potentially __lower confidence in their r-BCD values__.<br>\n",
    "For these reasons, the sensitivity analysis helps in choosing a __sub-optimal combination of t and p such as__:\n",
    "* at least 85% (arbitrary) of the total transects are retained\n",
    "* a reasonably low number of sign changes occurred"
   ]
  },
  {
   "cell_type": "markdown",
   "id": "888dd093",
   "metadata": {},
   "source": [
    "We start by defining all the combinations between the parameters __thresh (t)__ and __min_pts (pt)__, given ranges that we define.<br>\n",
    "The thresh parameter can be up to the total number of timesteps available, while the min_pts, we decide to test the values from 0 to 210, with a step of 10."
   ]
  },
  {
   "cell_type": "code",
   "execution_count": 28,
   "id": "40271b37",
   "metadata": {},
   "outputs": [],
   "source": [
    "range_thresh=range(0,dataset.dt.unique().shape[0]+1)\n",
    "range_min_pts=range(0,100,10)\n",
    "combs = list(itertools.product(range_min_pts,range_thresh))"
   ]
  },
  {
   "cell_type": "markdown",
   "id": "cab7f9c5",
   "metadata": {},
   "source": [
    "And, we run the analysis."
   ]
  },
  {
   "cell_type": "code",
   "execution_count": 29,
   "id": "e5ea07e4",
   "metadata": {
    "scrolled": true
   },
   "outputs": [
    {
     "data": {
      "application/vnd.jupyter.widget-view+json": {
       "model_id": "85252c14e83f42efa9bf848617ea2a1a",
       "version_major": 2,
       "version_minor": 0
      },
      "text/plain": [
       "  0%|          | 0/90 [00:00<?, ?it/s]"
      ]
     },
     "metadata": {},
     "output_type": "display_data"
    },
    {
     "name": "stdout",
     "output_type": "stream",
     "text": [
      "Working on threshold 0 and min points 0.\n"
     ]
    },
    {
     "data": {
      "application/vnd.jupyter.widget-view+json": {
       "model_id": "1a9ae72091ac4b2090b501b6c13b4f9a",
       "version_major": 2,
       "version_minor": 0
      },
      "text/plain": [
       "  0%|          | 0/1 [00:00<?, ?it/s]"
      ]
     },
     "metadata": {},
     "output_type": "display_data"
    },
    {
     "name": "stdout",
     "output_type": "stream",
     "text": [
      "eliminating unreliable transects . . . \n"
     ]
    },
    {
     "name": "stderr",
     "output_type": "stream",
     "text": [
      "C:\\conda3\\envs\\sandpyper_env\\lib\\site-packages\\geopandas\\geodataframe.py:422: RuntimeWarning: Sequential read of iterator was interrupted. Resetting iterator. This can negatively impact the performance.\n",
      "  for feature in features_lst:\n",
      "C:\\conda3\\envs\\sandpyper_env\\lib\\site-packages\\geopandas\\geodataframe.py:422: RuntimeWarning: Sequential read of iterator was interrupted. Resetting iterator. This can negatively impact the performance.\n",
      "  for feature in features_lst:\n"
     ]
    },
    {
     "name": "stdout",
     "output_type": "stream",
     "text": [
      "Working on threshold 1 and min points 0.\n"
     ]
    },
    {
     "data": {
      "application/vnd.jupyter.widget-view+json": {
       "model_id": "107816b138474c3aa1da2a7f9832111e",
       "version_major": 2,
       "version_minor": 0
      },
      "text/plain": [
       "  0%|          | 0/1 [00:00<?, ?it/s]"
      ]
     },
     "metadata": {},
     "output_type": "display_data"
    },
    {
     "name": "stdout",
     "output_type": "stream",
     "text": [
      "eliminating unreliable transects . . . \n"
     ]
    },
    {
     "name": "stderr",
     "output_type": "stream",
     "text": [
      "C:\\conda3\\envs\\sandpyper_env\\lib\\site-packages\\geopandas\\geodataframe.py:422: RuntimeWarning: Sequential read of iterator was interrupted. Resetting iterator. This can negatively impact the performance.\n",
      "  for feature in features_lst:\n",
      "C:\\conda3\\envs\\sandpyper_env\\lib\\site-packages\\geopandas\\geodataframe.py:422: RuntimeWarning: Sequential read of iterator was interrupted. Resetting iterator. This can negatively impact the performance.\n",
      "  for feature in features_lst:\n"
     ]
    },
    {
     "name": "stdout",
     "output_type": "stream",
     "text": [
      "Working on threshold 2 and min points 0.\n"
     ]
    },
    {
     "data": {
      "application/vnd.jupyter.widget-view+json": {
       "model_id": "4d27cc1934894f9193a764bcabb1165f",
       "version_major": 2,
       "version_minor": 0
      },
      "text/plain": [
       "  0%|          | 0/1 [00:00<?, ?it/s]"
      ]
     },
     "metadata": {},
     "output_type": "display_data"
    },
    {
     "name": "stdout",
     "output_type": "stream",
     "text": [
      "eliminating unreliable transects . . . \n"
     ]
    },
    {
     "name": "stderr",
     "output_type": "stream",
     "text": [
      "C:\\conda3\\envs\\sandpyper_env\\lib\\site-packages\\geopandas\\geodataframe.py:422: RuntimeWarning: Sequential read of iterator was interrupted. Resetting iterator. This can negatively impact the performance.\n",
      "  for feature in features_lst:\n",
      "C:\\conda3\\envs\\sandpyper_env\\lib\\site-packages\\geopandas\\geodataframe.py:422: RuntimeWarning: Sequential read of iterator was interrupted. Resetting iterator. This can negatively impact the performance.\n",
      "  for feature in features_lst:\n"
     ]
    },
    {
     "name": "stdout",
     "output_type": "stream",
     "text": [
      "Working on threshold 3 and min points 0.\n"
     ]
    },
    {
     "data": {
      "application/vnd.jupyter.widget-view+json": {
       "model_id": "4b453b8dbb5c43a28fb9dcc607d9f0b0",
       "version_major": 2,
       "version_minor": 0
      },
      "text/plain": [
       "  0%|          | 0/1 [00:00<?, ?it/s]"
      ]
     },
     "metadata": {},
     "output_type": "display_data"
    },
    {
     "name": "stdout",
     "output_type": "stream",
     "text": [
      "eliminating unreliable transects . . . \n"
     ]
    },
    {
     "name": "stderr",
     "output_type": "stream",
     "text": [
      "C:\\conda3\\envs\\sandpyper_env\\lib\\site-packages\\geopandas\\geodataframe.py:422: RuntimeWarning: Sequential read of iterator was interrupted. Resetting iterator. This can negatively impact the performance.\n",
      "  for feature in features_lst:\n",
      "C:\\conda3\\envs\\sandpyper_env\\lib\\site-packages\\geopandas\\geodataframe.py:422: RuntimeWarning: Sequential read of iterator was interrupted. Resetting iterator. This can negatively impact the performance.\n",
      "  for feature in features_lst:\n"
     ]
    },
    {
     "name": "stdout",
     "output_type": "stream",
     "text": [
      "Working on threshold 4 and min points 0.\n"
     ]
    },
    {
     "data": {
      "application/vnd.jupyter.widget-view+json": {
       "model_id": "385b0b03fedc4cfa9cb71502ca731991",
       "version_major": 2,
       "version_minor": 0
      },
      "text/plain": [
       "  0%|          | 0/1 [00:00<?, ?it/s]"
      ]
     },
     "metadata": {},
     "output_type": "display_data"
    },
    {
     "name": "stdout",
     "output_type": "stream",
     "text": [
      "eliminating unreliable transects . . . \n"
     ]
    },
    {
     "name": "stderr",
     "output_type": "stream",
     "text": [
      "C:\\conda3\\envs\\sandpyper_env\\lib\\site-packages\\geopandas\\geodataframe.py:422: RuntimeWarning: Sequential read of iterator was interrupted. Resetting iterator. This can negatively impact the performance.\n",
      "  for feature in features_lst:\n",
      "C:\\conda3\\envs\\sandpyper_env\\lib\\site-packages\\geopandas\\geodataframe.py:422: RuntimeWarning: Sequential read of iterator was interrupted. Resetting iterator. This can negatively impact the performance.\n",
      "  for feature in features_lst:\n"
     ]
    },
    {
     "name": "stdout",
     "output_type": "stream",
     "text": [
      "Working on threshold 5 and min points 0.\n"
     ]
    },
    {
     "data": {
      "application/vnd.jupyter.widget-view+json": {
       "model_id": "a5b17442276f48d8a9288c9d37bddc30",
       "version_major": 2,
       "version_minor": 0
      },
      "text/plain": [
       "  0%|          | 0/1 [00:00<?, ?it/s]"
      ]
     },
     "metadata": {},
     "output_type": "display_data"
    },
    {
     "name": "stdout",
     "output_type": "stream",
     "text": [
      "eliminating unreliable transects . . . \n"
     ]
    },
    {
     "name": "stderr",
     "output_type": "stream",
     "text": [
      "C:\\conda3\\envs\\sandpyper_env\\lib\\site-packages\\geopandas\\geodataframe.py:422: RuntimeWarning: Sequential read of iterator was interrupted. Resetting iterator. This can negatively impact the performance.\n",
      "  for feature in features_lst:\n",
      "C:\\conda3\\envs\\sandpyper_env\\lib\\site-packages\\geopandas\\geodataframe.py:422: RuntimeWarning: Sequential read of iterator was interrupted. Resetting iterator. This can negatively impact the performance.\n",
      "  for feature in features_lst:\n"
     ]
    },
    {
     "name": "stdout",
     "output_type": "stream",
     "text": [
      "Working on threshold 6 and min points 0.\n"
     ]
    },
    {
     "data": {
      "application/vnd.jupyter.widget-view+json": {
       "model_id": "a5e54cfcedbb4e2498f7c0cab80d0cd8",
       "version_major": 2,
       "version_minor": 0
      },
      "text/plain": [
       "  0%|          | 0/1 [00:00<?, ?it/s]"
      ]
     },
     "metadata": {},
     "output_type": "display_data"
    },
    {
     "name": "stdout",
     "output_type": "stream",
     "text": [
      "tr_id 24 has not enough points. Go ahead...\n",
      "eliminating unreliable transects . . . \n"
     ]
    },
    {
     "name": "stderr",
     "output_type": "stream",
     "text": [
      "C:\\conda3\\envs\\sandpyper_env\\lib\\site-packages\\geopandas\\geodataframe.py:422: RuntimeWarning: Sequential read of iterator was interrupted. Resetting iterator. This can negatively impact the performance.\n",
      "  for feature in features_lst:\n",
      "C:\\conda3\\envs\\sandpyper_env\\lib\\site-packages\\geopandas\\geodataframe.py:422: RuntimeWarning: Sequential read of iterator was interrupted. Resetting iterator. This can negatively impact the performance.\n",
      "  for feature in features_lst:\n"
     ]
    },
    {
     "name": "stdout",
     "output_type": "stream",
     "text": [
      "Working on threshold 7 and min points 0.\n"
     ]
    },
    {
     "data": {
      "application/vnd.jupyter.widget-view+json": {
       "model_id": "d822157c40db49cdbadc523e05b21f56",
       "version_major": 2,
       "version_minor": 0
      },
      "text/plain": [
       "  0%|          | 0/1 [00:00<?, ?it/s]"
      ]
     },
     "metadata": {},
     "output_type": "display_data"
    },
    {
     "name": "stdout",
     "output_type": "stream",
     "text": [
      "tr_id 24 has not enough points. Go ahead...\n",
      "tr_id 5 has not enough points. Go ahead...\n",
      "tr_id 4 has not enough points. Go ahead...\n",
      "tr_id 3 has not enough points. Go ahead...\n",
      "eliminating unreliable transects . . . \n"
     ]
    },
    {
     "name": "stderr",
     "output_type": "stream",
     "text": [
      "C:\\conda3\\envs\\sandpyper_env\\lib\\site-packages\\geopandas\\geodataframe.py:422: RuntimeWarning: Sequential read of iterator was interrupted. Resetting iterator. This can negatively impact the performance.\n",
      "  for feature in features_lst:\n",
      "C:\\conda3\\envs\\sandpyper_env\\lib\\site-packages\\geopandas\\geodataframe.py:422: RuntimeWarning: Sequential read of iterator was interrupted. Resetting iterator. This can negatively impact the performance.\n",
      "  for feature in features_lst:\n"
     ]
    },
    {
     "name": "stdout",
     "output_type": "stream",
     "text": [
      "Working on threshold 8 and min points 0.\n"
     ]
    },
    {
     "data": {
      "application/vnd.jupyter.widget-view+json": {
       "model_id": "033c2ad992b546399b64f8dd12899b96",
       "version_major": 2,
       "version_minor": 0
      },
      "text/plain": [
       "  0%|          | 0/1 [00:00<?, ?it/s]"
      ]
     },
     "metadata": {},
     "output_type": "display_data"
    },
    {
     "name": "stdout",
     "output_type": "stream",
     "text": [
      "tr_id 18 has not enough points. Go ahead...\n",
      "tr_id 13 has not enough points. Go ahead...\n",
      "tr_id 12 has not enough points. Go ahead...\n",
      "tr_id 10 has not enough points. Go ahead...\n",
      "tr_id 9 has not enough points. Go ahead...\n",
      "tr_id 6 has not enough points. Go ahead...\n",
      "tr_id 24 has not enough points. Go ahead...\n",
      "tr_id 23 has not enough points. Go ahead...\n",
      "tr_id 22 has not enough points. Go ahead...\n",
      "tr_id 21 has not enough points. Go ahead...\n",
      "tr_id 7 has not enough points. Go ahead...\n",
      "tr_id 5 has not enough points. Go ahead...\n",
      "tr_id 4 has not enough points. Go ahead...\n",
      "tr_id 3 has not enough points. Go ahead...\n",
      "eliminating unreliable transects . . . \n",
      "Skipping\n",
      "Working on threshold 0 and min points 10.\n"
     ]
    },
    {
     "data": {
      "application/vnd.jupyter.widget-view+json": {
       "model_id": "9292304fd83b43fa85b4b9ed14edbe29",
       "version_major": 2,
       "version_minor": 0
      },
      "text/plain": [
       "  0%|          | 0/1 [00:00<?, ?it/s]"
      ]
     },
     "metadata": {},
     "output_type": "display_data"
    },
    {
     "name": "stdout",
     "output_type": "stream",
     "text": [
      "eliminating unreliable transects . . . \n"
     ]
    },
    {
     "name": "stderr",
     "output_type": "stream",
     "text": [
      "C:\\conda3\\envs\\sandpyper_env\\lib\\site-packages\\geopandas\\geodataframe.py:422: RuntimeWarning: Sequential read of iterator was interrupted. Resetting iterator. This can negatively impact the performance.\n",
      "  for feature in features_lst:\n",
      "C:\\conda3\\envs\\sandpyper_env\\lib\\site-packages\\geopandas\\geodataframe.py:422: RuntimeWarning: Sequential read of iterator was interrupted. Resetting iterator. This can negatively impact the performance.\n",
      "  for feature in features_lst:\n"
     ]
    },
    {
     "name": "stdout",
     "output_type": "stream",
     "text": [
      "Working on threshold 1 and min points 10.\n"
     ]
    },
    {
     "data": {
      "application/vnd.jupyter.widget-view+json": {
       "model_id": "c407149f655542358a5b482b3d735c10",
       "version_major": 2,
       "version_minor": 0
      },
      "text/plain": [
       "  0%|          | 0/1 [00:00<?, ?it/s]"
      ]
     },
     "metadata": {},
     "output_type": "display_data"
    },
    {
     "name": "stdout",
     "output_type": "stream",
     "text": [
      "eliminating unreliable transects . . . \n"
     ]
    },
    {
     "name": "stderr",
     "output_type": "stream",
     "text": [
      "C:\\conda3\\envs\\sandpyper_env\\lib\\site-packages\\geopandas\\geodataframe.py:422: RuntimeWarning: Sequential read of iterator was interrupted. Resetting iterator. This can negatively impact the performance.\n",
      "  for feature in features_lst:\n",
      "C:\\conda3\\envs\\sandpyper_env\\lib\\site-packages\\geopandas\\geodataframe.py:422: RuntimeWarning: Sequential read of iterator was interrupted. Resetting iterator. This can negatively impact the performance.\n",
      "  for feature in features_lst:\n"
     ]
    },
    {
     "name": "stdout",
     "output_type": "stream",
     "text": [
      "Working on threshold 2 and min points 10.\n"
     ]
    },
    {
     "data": {
      "application/vnd.jupyter.widget-view+json": {
       "model_id": "b440e9a8c02f44909075e42e8caccbc2",
       "version_major": 2,
       "version_minor": 0
      },
      "text/plain": [
       "  0%|          | 0/1 [00:00<?, ?it/s]"
      ]
     },
     "metadata": {},
     "output_type": "display_data"
    },
    {
     "name": "stdout",
     "output_type": "stream",
     "text": [
      "eliminating unreliable transects . . . \n"
     ]
    },
    {
     "name": "stderr",
     "output_type": "stream",
     "text": [
      "C:\\conda3\\envs\\sandpyper_env\\lib\\site-packages\\geopandas\\geodataframe.py:422: RuntimeWarning: Sequential read of iterator was interrupted. Resetting iterator. This can negatively impact the performance.\n",
      "  for feature in features_lst:\n",
      "C:\\conda3\\envs\\sandpyper_env\\lib\\site-packages\\geopandas\\geodataframe.py:422: RuntimeWarning: Sequential read of iterator was interrupted. Resetting iterator. This can negatively impact the performance.\n",
      "  for feature in features_lst:\n"
     ]
    },
    {
     "name": "stdout",
     "output_type": "stream",
     "text": [
      "Working on threshold 3 and min points 10.\n"
     ]
    },
    {
     "data": {
      "application/vnd.jupyter.widget-view+json": {
       "model_id": "2d40b9b7c7994a9492565a91313e08b1",
       "version_major": 2,
       "version_minor": 0
      },
      "text/plain": [
       "  0%|          | 0/1 [00:00<?, ?it/s]"
      ]
     },
     "metadata": {},
     "output_type": "display_data"
    },
    {
     "name": "stdout",
     "output_type": "stream",
     "text": [
      "eliminating unreliable transects . . . \n"
     ]
    },
    {
     "name": "stderr",
     "output_type": "stream",
     "text": [
      "C:\\conda3\\envs\\sandpyper_env\\lib\\site-packages\\geopandas\\geodataframe.py:422: RuntimeWarning: Sequential read of iterator was interrupted. Resetting iterator. This can negatively impact the performance.\n",
      "  for feature in features_lst:\n",
      "C:\\conda3\\envs\\sandpyper_env\\lib\\site-packages\\geopandas\\geodataframe.py:422: RuntimeWarning: Sequential read of iterator was interrupted. Resetting iterator. This can negatively impact the performance.\n",
      "  for feature in features_lst:\n"
     ]
    },
    {
     "name": "stdout",
     "output_type": "stream",
     "text": [
      "Working on threshold 4 and min points 10.\n"
     ]
    },
    {
     "data": {
      "application/vnd.jupyter.widget-view+json": {
       "model_id": "f8dfa948e8144bc08a05b3c67e5ba213",
       "version_major": 2,
       "version_minor": 0
      },
      "text/plain": [
       "  0%|          | 0/1 [00:00<?, ?it/s]"
      ]
     },
     "metadata": {},
     "output_type": "display_data"
    },
    {
     "name": "stdout",
     "output_type": "stream",
     "text": [
      "eliminating unreliable transects . . . \n"
     ]
    },
    {
     "name": "stderr",
     "output_type": "stream",
     "text": [
      "C:\\conda3\\envs\\sandpyper_env\\lib\\site-packages\\geopandas\\geodataframe.py:422: RuntimeWarning: Sequential read of iterator was interrupted. Resetting iterator. This can negatively impact the performance.\n",
      "  for feature in features_lst:\n",
      "C:\\conda3\\envs\\sandpyper_env\\lib\\site-packages\\geopandas\\geodataframe.py:422: RuntimeWarning: Sequential read of iterator was interrupted. Resetting iterator. This can negatively impact the performance.\n",
      "  for feature in features_lst:\n"
     ]
    },
    {
     "name": "stdout",
     "output_type": "stream",
     "text": [
      "Working on threshold 5 and min points 10.\n"
     ]
    },
    {
     "data": {
      "application/vnd.jupyter.widget-view+json": {
       "model_id": "b6bd18482ffc4461a24fd85d0f3d8495",
       "version_major": 2,
       "version_minor": 0
      },
      "text/plain": [
       "  0%|          | 0/1 [00:00<?, ?it/s]"
      ]
     },
     "metadata": {},
     "output_type": "display_data"
    },
    {
     "name": "stdout",
     "output_type": "stream",
     "text": [
      "Threshold of points per transect 24 not reached. It has 3 points.\n",
      "eliminating unreliable transects . . . \n"
     ]
    },
    {
     "name": "stderr",
     "output_type": "stream",
     "text": [
      "C:\\conda3\\envs\\sandpyper_env\\lib\\site-packages\\geopandas\\geodataframe.py:422: RuntimeWarning: Sequential read of iterator was interrupted. Resetting iterator. This can negatively impact the performance.\n",
      "  for feature in features_lst:\n",
      "C:\\conda3\\envs\\sandpyper_env\\lib\\site-packages\\geopandas\\geodataframe.py:422: RuntimeWarning: Sequential read of iterator was interrupted. Resetting iterator. This can negatively impact the performance.\n",
      "  for feature in features_lst:\n"
     ]
    },
    {
     "name": "stdout",
     "output_type": "stream",
     "text": [
      "Working on threshold 6 and min points 10.\n"
     ]
    },
    {
     "data": {
      "application/vnd.jupyter.widget-view+json": {
       "model_id": "272f14f92a934aa19d059e0949cdcb97",
       "version_major": 2,
       "version_minor": 0
      },
      "text/plain": [
       "  0%|          | 0/1 [00:00<?, ?it/s]"
      ]
     },
     "metadata": {},
     "output_type": "display_data"
    },
    {
     "name": "stdout",
     "output_type": "stream",
     "text": [
      "Threshold of points per transect 24 not reached. It has 0 points.\n",
      "tr_id 24 has not enough points. Go ahead...\n",
      "eliminating unreliable transects . . . \n"
     ]
    },
    {
     "name": "stderr",
     "output_type": "stream",
     "text": [
      "C:\\conda3\\envs\\sandpyper_env\\lib\\site-packages\\geopandas\\geodataframe.py:422: RuntimeWarning: Sequential read of iterator was interrupted. Resetting iterator. This can negatively impact the performance.\n",
      "  for feature in features_lst:\n",
      "C:\\conda3\\envs\\sandpyper_env\\lib\\site-packages\\geopandas\\geodataframe.py:422: RuntimeWarning: Sequential read of iterator was interrupted. Resetting iterator. This can negatively impact the performance.\n",
      "  for feature in features_lst:\n"
     ]
    },
    {
     "name": "stdout",
     "output_type": "stream",
     "text": [
      "Working on threshold 7 and min points 10.\n"
     ]
    },
    {
     "data": {
      "application/vnd.jupyter.widget-view+json": {
       "model_id": "a57e2d9cb03047ffaf95550c04c4b901",
       "version_major": 2,
       "version_minor": 0
      },
      "text/plain": [
       "  0%|          | 0/1 [00:00<?, ?it/s]"
      ]
     },
     "metadata": {},
     "output_type": "display_data"
    },
    {
     "name": "stdout",
     "output_type": "stream",
     "text": [
      "Threshold of points per transect 24 not reached. It has 0 points.\n",
      "tr_id 24 has not enough points. Go ahead...\n",
      "Threshold of points per transect 5 not reached. It has 0 points.\n",
      "tr_id 5 has not enough points. Go ahead...\n",
      "Threshold of points per transect 4 not reached. It has 0 points.\n",
      "tr_id 4 has not enough points. Go ahead...\n",
      "Threshold of points per transect 3 not reached. It has 0 points.\n",
      "tr_id 3 has not enough points. Go ahead...\n",
      "eliminating unreliable transects . . . \n"
     ]
    },
    {
     "name": "stderr",
     "output_type": "stream",
     "text": [
      "C:\\conda3\\envs\\sandpyper_env\\lib\\site-packages\\geopandas\\geodataframe.py:422: RuntimeWarning: Sequential read of iterator was interrupted. Resetting iterator. This can negatively impact the performance.\n",
      "  for feature in features_lst:\n",
      "C:\\conda3\\envs\\sandpyper_env\\lib\\site-packages\\geopandas\\geodataframe.py:422: RuntimeWarning: Sequential read of iterator was interrupted. Resetting iterator. This can negatively impact the performance.\n",
      "  for feature in features_lst:\n"
     ]
    },
    {
     "name": "stdout",
     "output_type": "stream",
     "text": [
      "Working on threshold 8 and min points 10.\n"
     ]
    },
    {
     "data": {
      "application/vnd.jupyter.widget-view+json": {
       "model_id": "ffae88daa5c145f0afb5774d19698cbb",
       "version_major": 2,
       "version_minor": 0
      },
      "text/plain": [
       "  0%|          | 0/1 [00:00<?, ?it/s]"
      ]
     },
     "metadata": {},
     "output_type": "display_data"
    },
    {
     "name": "stdout",
     "output_type": "stream",
     "text": [
      "Threshold of points per transect 20 not reached. It has 4 points.\n",
      "Threshold of points per transect 18 not reached. It has 0 points.\n",
      "tr_id 18 has not enough points. Go ahead...\n",
      "Threshold of points per transect 17 not reached. It has 1 points.\n",
      "Threshold of points per transect 16 not reached. It has 1 points.\n",
      "Threshold of points per transect 15 not reached. It has 1 points.\n",
      "Threshold of points per transect 14 not reached. It has 1 points.\n",
      "Threshold of points per transect 13 not reached. It has 0 points.\n",
      "tr_id 13 has not enough points. Go ahead...\n",
      "Threshold of points per transect 12 not reached. It has 0 points.\n",
      "tr_id 12 has not enough points. Go ahead...\n",
      "Threshold of points per transect 11 not reached. It has 1 points.\n",
      "Threshold of points per transect 10 not reached. It has 0 points.\n",
      "tr_id 10 has not enough points. Go ahead...\n",
      "Threshold of points per transect 9 not reached. It has 0 points.\n",
      "tr_id 9 has not enough points. Go ahead...\n",
      "Threshold of points per transect 8 not reached. It has 1 points.\n",
      "Threshold of points per transect 6 not reached. It has 0 points.\n",
      "tr_id 6 has not enough points. Go ahead...\n",
      "Threshold of points per transect 24 not reached. It has 0 points.\n",
      "tr_id 24 has not enough points. Go ahead...\n",
      "Threshold of points per transect 23 not reached. It has 0 points.\n",
      "tr_id 23 has not enough points. Go ahead...\n",
      "Threshold of points per transect 22 not reached. It has 0 points.\n",
      "tr_id 22 has not enough points. Go ahead...\n",
      "Threshold of points per transect 21 not reached. It has 0 points.\n",
      "tr_id 21 has not enough points. Go ahead...\n",
      "Threshold of points per transect 19 not reached. It has 1 points.\n",
      "Threshold of points per transect 7 not reached. It has 0 points.\n",
      "tr_id 7 has not enough points. Go ahead...\n",
      "Threshold of points per transect 5 not reached. It has 0 points.\n",
      "tr_id 5 has not enough points. Go ahead...\n",
      "Threshold of points per transect 4 not reached. It has 0 points.\n",
      "tr_id 4 has not enough points. Go ahead...\n",
      "Threshold of points per transect 3 not reached. It has 0 points.\n",
      "tr_id 3 has not enough points. Go ahead...\n",
      "eliminating unreliable transects . . . \n",
      "Working on threshold 0 and min points 20.\n"
     ]
    },
    {
     "data": {
      "application/vnd.jupyter.widget-view+json": {
       "model_id": "d8ef3d8d115149229e30166768d28862",
       "version_major": 2,
       "version_minor": 0
      },
      "text/plain": [
       "  0%|          | 0/1 [00:00<?, ?it/s]"
      ]
     },
     "metadata": {},
     "output_type": "display_data"
    },
    {
     "name": "stdout",
     "output_type": "stream",
     "text": [
      "eliminating unreliable transects . . . \n"
     ]
    },
    {
     "name": "stderr",
     "output_type": "stream",
     "text": [
      "C:\\conda3\\envs\\sandpyper_env\\lib\\site-packages\\geopandas\\geodataframe.py:422: RuntimeWarning: Sequential read of iterator was interrupted. Resetting iterator. This can negatively impact the performance.\n",
      "  for feature in features_lst:\n",
      "C:\\conda3\\envs\\sandpyper_env\\lib\\site-packages\\geopandas\\geodataframe.py:422: RuntimeWarning: Sequential read of iterator was interrupted. Resetting iterator. This can negatively impact the performance.\n",
      "  for feature in features_lst:\n"
     ]
    },
    {
     "name": "stdout",
     "output_type": "stream",
     "text": [
      "Working on threshold 1 and min points 20.\n"
     ]
    },
    {
     "data": {
      "application/vnd.jupyter.widget-view+json": {
       "model_id": "36e0113dd7b6462f821992eb3ad9a786",
       "version_major": 2,
       "version_minor": 0
      },
      "text/plain": [
       "  0%|          | 0/1 [00:00<?, ?it/s]"
      ]
     },
     "metadata": {},
     "output_type": "display_data"
    },
    {
     "name": "stdout",
     "output_type": "stream",
     "text": [
      "eliminating unreliable transects . . . \n"
     ]
    },
    {
     "name": "stderr",
     "output_type": "stream",
     "text": [
      "C:\\conda3\\envs\\sandpyper_env\\lib\\site-packages\\geopandas\\geodataframe.py:422: RuntimeWarning: Sequential read of iterator was interrupted. Resetting iterator. This can negatively impact the performance.\n",
      "  for feature in features_lst:\n",
      "C:\\conda3\\envs\\sandpyper_env\\lib\\site-packages\\geopandas\\geodataframe.py:422: RuntimeWarning: Sequential read of iterator was interrupted. Resetting iterator. This can negatively impact the performance.\n",
      "  for feature in features_lst:\n"
     ]
    },
    {
     "name": "stdout",
     "output_type": "stream",
     "text": [
      "Working on threshold 2 and min points 20.\n"
     ]
    },
    {
     "data": {
      "application/vnd.jupyter.widget-view+json": {
       "model_id": "31bbef437e9a47f897c086b4c1a8f69b",
       "version_major": 2,
       "version_minor": 0
      },
      "text/plain": [
       "  0%|          | 0/1 [00:00<?, ?it/s]"
      ]
     },
     "metadata": {},
     "output_type": "display_data"
    },
    {
     "name": "stdout",
     "output_type": "stream",
     "text": [
      "eliminating unreliable transects . . . \n"
     ]
    },
    {
     "name": "stderr",
     "output_type": "stream",
     "text": [
      "C:\\conda3\\envs\\sandpyper_env\\lib\\site-packages\\geopandas\\geodataframe.py:422: RuntimeWarning: Sequential read of iterator was interrupted. Resetting iterator. This can negatively impact the performance.\n",
      "  for feature in features_lst:\n",
      "C:\\conda3\\envs\\sandpyper_env\\lib\\site-packages\\geopandas\\geodataframe.py:422: RuntimeWarning: Sequential read of iterator was interrupted. Resetting iterator. This can negatively impact the performance.\n",
      "  for feature in features_lst:\n"
     ]
    },
    {
     "name": "stdout",
     "output_type": "stream",
     "text": [
      "Working on threshold 3 and min points 20.\n"
     ]
    },
    {
     "data": {
      "application/vnd.jupyter.widget-view+json": {
       "model_id": "dc1e9f7a68454bc88668ee1f739a6065",
       "version_major": 2,
       "version_minor": 0
      },
      "text/plain": [
       "  0%|          | 0/1 [00:00<?, ?it/s]"
      ]
     },
     "metadata": {},
     "output_type": "display_data"
    },
    {
     "name": "stdout",
     "output_type": "stream",
     "text": [
      "eliminating unreliable transects . . . \n"
     ]
    },
    {
     "name": "stderr",
     "output_type": "stream",
     "text": [
      "C:\\conda3\\envs\\sandpyper_env\\lib\\site-packages\\geopandas\\geodataframe.py:422: RuntimeWarning: Sequential read of iterator was interrupted. Resetting iterator. This can negatively impact the performance.\n",
      "  for feature in features_lst:\n",
      "C:\\conda3\\envs\\sandpyper_env\\lib\\site-packages\\geopandas\\geodataframe.py:422: RuntimeWarning: Sequential read of iterator was interrupted. Resetting iterator. This can negatively impact the performance.\n",
      "  for feature in features_lst:\n"
     ]
    },
    {
     "name": "stdout",
     "output_type": "stream",
     "text": [
      "Working on threshold 4 and min points 20.\n"
     ]
    },
    {
     "data": {
      "application/vnd.jupyter.widget-view+json": {
       "model_id": "f0aaf11eb6d044a5af82772da4b124f7",
       "version_major": 2,
       "version_minor": 0
      },
      "text/plain": [
       "  0%|          | 0/1 [00:00<?, ?it/s]"
      ]
     },
     "metadata": {},
     "output_type": "display_data"
    },
    {
     "name": "stdout",
     "output_type": "stream",
     "text": [
      "eliminating unreliable transects . . . \n"
     ]
    },
    {
     "name": "stderr",
     "output_type": "stream",
     "text": [
      "C:\\conda3\\envs\\sandpyper_env\\lib\\site-packages\\geopandas\\geodataframe.py:422: RuntimeWarning: Sequential read of iterator was interrupted. Resetting iterator. This can negatively impact the performance.\n",
      "  for feature in features_lst:\n",
      "C:\\conda3\\envs\\sandpyper_env\\lib\\site-packages\\geopandas\\geodataframe.py:422: RuntimeWarning: Sequential read of iterator was interrupted. Resetting iterator. This can negatively impact the performance.\n",
      "  for feature in features_lst:\n"
     ]
    },
    {
     "name": "stdout",
     "output_type": "stream",
     "text": [
      "Working on threshold 5 and min points 20.\n"
     ]
    },
    {
     "data": {
      "application/vnd.jupyter.widget-view+json": {
       "model_id": "f9fcbf956fd24e2daf33d8456fa6367e",
       "version_major": 2,
       "version_minor": 0
      },
      "text/plain": [
       "  0%|          | 0/1 [00:00<?, ?it/s]"
      ]
     },
     "metadata": {},
     "output_type": "display_data"
    },
    {
     "name": "stdout",
     "output_type": "stream",
     "text": [
      "Threshold of points per transect 24 not reached. It has 3 points.\n",
      "eliminating unreliable transects . . . \n"
     ]
    },
    {
     "name": "stderr",
     "output_type": "stream",
     "text": [
      "C:\\conda3\\envs\\sandpyper_env\\lib\\site-packages\\geopandas\\geodataframe.py:422: RuntimeWarning: Sequential read of iterator was interrupted. Resetting iterator. This can negatively impact the performance.\n",
      "  for feature in features_lst:\n",
      "C:\\conda3\\envs\\sandpyper_env\\lib\\site-packages\\geopandas\\geodataframe.py:422: RuntimeWarning: Sequential read of iterator was interrupted. Resetting iterator. This can negatively impact the performance.\n",
      "  for feature in features_lst:\n"
     ]
    },
    {
     "name": "stdout",
     "output_type": "stream",
     "text": [
      "Working on threshold 6 and min points 20.\n"
     ]
    },
    {
     "data": {
      "application/vnd.jupyter.widget-view+json": {
       "model_id": "351c9167f30643dd92a3e3acdbb153c5",
       "version_major": 2,
       "version_minor": 0
      },
      "text/plain": [
       "  0%|          | 0/1 [00:00<?, ?it/s]"
      ]
     },
     "metadata": {},
     "output_type": "display_data"
    },
    {
     "name": "stdout",
     "output_type": "stream",
     "text": [
      "Threshold of points per transect 24 not reached. It has 0 points.\n",
      "tr_id 24 has not enough points. Go ahead...\n",
      "eliminating unreliable transects . . . \n"
     ]
    },
    {
     "name": "stderr",
     "output_type": "stream",
     "text": [
      "C:\\conda3\\envs\\sandpyper_env\\lib\\site-packages\\geopandas\\geodataframe.py:422: RuntimeWarning: Sequential read of iterator was interrupted. Resetting iterator. This can negatively impact the performance.\n",
      "  for feature in features_lst:\n",
      "C:\\conda3\\envs\\sandpyper_env\\lib\\site-packages\\geopandas\\geodataframe.py:422: RuntimeWarning: Sequential read of iterator was interrupted. Resetting iterator. This can negatively impact the performance.\n",
      "  for feature in features_lst:\n"
     ]
    },
    {
     "name": "stdout",
     "output_type": "stream",
     "text": [
      "Working on threshold 7 and min points 20.\n"
     ]
    },
    {
     "data": {
      "application/vnd.jupyter.widget-view+json": {
       "model_id": "e16952efa4bc4c2a8de35679f67617ec",
       "version_major": 2,
       "version_minor": 0
      },
      "text/plain": [
       "  0%|          | 0/1 [00:00<?, ?it/s]"
      ]
     },
     "metadata": {},
     "output_type": "display_data"
    },
    {
     "name": "stdout",
     "output_type": "stream",
     "text": [
      "Threshold of points per transect 10 not reached. It has 14 points.\n",
      "Threshold of points per transect 24 not reached. It has 0 points.\n",
      "tr_id 24 has not enough points. Go ahead...\n",
      "Threshold of points per transect 5 not reached. It has 0 points.\n",
      "tr_id 5 has not enough points. Go ahead...\n",
      "Threshold of points per transect 4 not reached. It has 0 points.\n",
      "tr_id 4 has not enough points. Go ahead...\n",
      "Threshold of points per transect 3 not reached. It has 0 points.\n",
      "tr_id 3 has not enough points. Go ahead...\n",
      "eliminating unreliable transects . . . \n"
     ]
    },
    {
     "name": "stderr",
     "output_type": "stream",
     "text": [
      "C:\\conda3\\envs\\sandpyper_env\\lib\\site-packages\\geopandas\\geodataframe.py:422: RuntimeWarning: Sequential read of iterator was interrupted. Resetting iterator. This can negatively impact the performance.\n",
      "  for feature in features_lst:\n",
      "C:\\conda3\\envs\\sandpyper_env\\lib\\site-packages\\geopandas\\geodataframe.py:422: RuntimeWarning: Sequential read of iterator was interrupted. Resetting iterator. This can negatively impact the performance.\n",
      "  for feature in features_lst:\n"
     ]
    },
    {
     "name": "stdout",
     "output_type": "stream",
     "text": [
      "Working on threshold 8 and min points 20.\n"
     ]
    },
    {
     "data": {
      "application/vnd.jupyter.widget-view+json": {
       "model_id": "5ec0dc8ed1c7441cb4c61ae74206c60b",
       "version_major": 2,
       "version_minor": 0
      },
      "text/plain": [
       "  0%|          | 0/1 [00:00<?, ?it/s]"
      ]
     },
     "metadata": {},
     "output_type": "display_data"
    },
    {
     "name": "stdout",
     "output_type": "stream",
     "text": [
      "Threshold of points per transect 20 not reached. It has 4 points.\n",
      "Threshold of points per transect 18 not reached. It has 0 points.\n",
      "tr_id 18 has not enough points. Go ahead...\n",
      "Threshold of points per transect 17 not reached. It has 1 points.\n",
      "Threshold of points per transect 16 not reached. It has 1 points.\n",
      "Threshold of points per transect 15 not reached. It has 1 points.\n",
      "Threshold of points per transect 14 not reached. It has 1 points.\n",
      "Threshold of points per transect 13 not reached. It has 0 points.\n",
      "tr_id 13 has not enough points. Go ahead...\n",
      "Threshold of points per transect 12 not reached. It has 0 points.\n",
      "tr_id 12 has not enough points. Go ahead...\n",
      "Threshold of points per transect 11 not reached. It has 1 points.\n",
      "Threshold of points per transect 10 not reached. It has 0 points.\n",
      "tr_id 10 has not enough points. Go ahead...\n",
      "Threshold of points per transect 9 not reached. It has 0 points.\n",
      "tr_id 9 has not enough points. Go ahead...\n",
      "Threshold of points per transect 8 not reached. It has 1 points.\n",
      "Threshold of points per transect 6 not reached. It has 0 points.\n",
      "tr_id 6 has not enough points. Go ahead...\n",
      "Threshold of points per transect 24 not reached. It has 0 points.\n",
      "tr_id 24 has not enough points. Go ahead...\n",
      "Threshold of points per transect 23 not reached. It has 0 points.\n",
      "tr_id 23 has not enough points. Go ahead...\n",
      "Threshold of points per transect 22 not reached. It has 0 points.\n",
      "tr_id 22 has not enough points. Go ahead...\n",
      "Threshold of points per transect 21 not reached. It has 0 points.\n",
      "tr_id 21 has not enough points. Go ahead...\n",
      "Threshold of points per transect 19 not reached. It has 1 points.\n",
      "Threshold of points per transect 7 not reached. It has 0 points.\n",
      "tr_id 7 has not enough points. Go ahead...\n",
      "Threshold of points per transect 5 not reached. It has 0 points.\n",
      "tr_id 5 has not enough points. Go ahead...\n",
      "Threshold of points per transect 4 not reached. It has 0 points.\n",
      "tr_id 4 has not enough points. Go ahead...\n",
      "Threshold of points per transect 3 not reached. It has 0 points.\n",
      "tr_id 3 has not enough points. Go ahead...\n",
      "eliminating unreliable transects . . . \n",
      "Working on threshold 0 and min points 30.\n"
     ]
    },
    {
     "data": {
      "application/vnd.jupyter.widget-view+json": {
       "model_id": "3d49517b22cf4c9aa85335c923cd6781",
       "version_major": 2,
       "version_minor": 0
      },
      "text/plain": [
       "  0%|          | 0/1 [00:00<?, ?it/s]"
      ]
     },
     "metadata": {},
     "output_type": "display_data"
    },
    {
     "name": "stdout",
     "output_type": "stream",
     "text": [
      "eliminating unreliable transects . . . \n"
     ]
    },
    {
     "name": "stderr",
     "output_type": "stream",
     "text": [
      "C:\\conda3\\envs\\sandpyper_env\\lib\\site-packages\\geopandas\\geodataframe.py:422: RuntimeWarning: Sequential read of iterator was interrupted. Resetting iterator. This can negatively impact the performance.\n",
      "  for feature in features_lst:\n"
     ]
    },
    {
     "name": "stdout",
     "output_type": "stream",
     "text": [
      "Working on threshold 1 and min points 30.\n"
     ]
    },
    {
     "name": "stderr",
     "output_type": "stream",
     "text": [
      "C:\\conda3\\envs\\sandpyper_env\\lib\\site-packages\\geopandas\\geodataframe.py:422: RuntimeWarning: Sequential read of iterator was interrupted. Resetting iterator. This can negatively impact the performance.\n",
      "  for feature in features_lst:\n"
     ]
    },
    {
     "data": {
      "application/vnd.jupyter.widget-view+json": {
       "model_id": "e237f6f43aa943d98a3b8cbb5ca103af",
       "version_major": 2,
       "version_minor": 0
      },
      "text/plain": [
       "  0%|          | 0/1 [00:00<?, ?it/s]"
      ]
     },
     "metadata": {},
     "output_type": "display_data"
    },
    {
     "name": "stdout",
     "output_type": "stream",
     "text": [
      "eliminating unreliable transects . . . \n"
     ]
    },
    {
     "name": "stderr",
     "output_type": "stream",
     "text": [
      "C:\\conda3\\envs\\sandpyper_env\\lib\\site-packages\\geopandas\\geodataframe.py:422: RuntimeWarning: Sequential read of iterator was interrupted. Resetting iterator. This can negatively impact the performance.\n",
      "  for feature in features_lst:\n",
      "C:\\conda3\\envs\\sandpyper_env\\lib\\site-packages\\geopandas\\geodataframe.py:422: RuntimeWarning: Sequential read of iterator was interrupted. Resetting iterator. This can negatively impact the performance.\n",
      "  for feature in features_lst:\n"
     ]
    },
    {
     "name": "stdout",
     "output_type": "stream",
     "text": [
      "Working on threshold 2 and min points 30.\n"
     ]
    },
    {
     "data": {
      "application/vnd.jupyter.widget-view+json": {
       "model_id": "518540c25dea408a8e48c66d8b880c2c",
       "version_major": 2,
       "version_minor": 0
      },
      "text/plain": [
       "  0%|          | 0/1 [00:00<?, ?it/s]"
      ]
     },
     "metadata": {},
     "output_type": "display_data"
    },
    {
     "name": "stdout",
     "output_type": "stream",
     "text": [
      "eliminating unreliable transects . . . \n"
     ]
    },
    {
     "name": "stderr",
     "output_type": "stream",
     "text": [
      "C:\\conda3\\envs\\sandpyper_env\\lib\\site-packages\\geopandas\\geodataframe.py:422: RuntimeWarning: Sequential read of iterator was interrupted. Resetting iterator. This can negatively impact the performance.\n",
      "  for feature in features_lst:\n",
      "C:\\conda3\\envs\\sandpyper_env\\lib\\site-packages\\geopandas\\geodataframe.py:422: RuntimeWarning: Sequential read of iterator was interrupted. Resetting iterator. This can negatively impact the performance.\n",
      "  for feature in features_lst:\n"
     ]
    },
    {
     "name": "stdout",
     "output_type": "stream",
     "text": [
      "Working on threshold 3 and min points 30.\n"
     ]
    },
    {
     "data": {
      "application/vnd.jupyter.widget-view+json": {
       "model_id": "e1b68325ee9d43828d82dd3efe2b7646",
       "version_major": 2,
       "version_minor": 0
      },
      "text/plain": [
       "  0%|          | 0/1 [00:00<?, ?it/s]"
      ]
     },
     "metadata": {},
     "output_type": "display_data"
    },
    {
     "name": "stdout",
     "output_type": "stream",
     "text": [
      "eliminating unreliable transects . . . \n"
     ]
    },
    {
     "name": "stderr",
     "output_type": "stream",
     "text": [
      "C:\\conda3\\envs\\sandpyper_env\\lib\\site-packages\\geopandas\\geodataframe.py:422: RuntimeWarning: Sequential read of iterator was interrupted. Resetting iterator. This can negatively impact the performance.\n",
      "  for feature in features_lst:\n",
      "C:\\conda3\\envs\\sandpyper_env\\lib\\site-packages\\geopandas\\geodataframe.py:422: RuntimeWarning: Sequential read of iterator was interrupted. Resetting iterator. This can negatively impact the performance.\n",
      "  for feature in features_lst:\n"
     ]
    },
    {
     "name": "stdout",
     "output_type": "stream",
     "text": [
      "Working on threshold 4 and min points 30.\n"
     ]
    },
    {
     "data": {
      "application/vnd.jupyter.widget-view+json": {
       "model_id": "7d23383d8a9948cfb40efa541d331649",
       "version_major": 2,
       "version_minor": 0
      },
      "text/plain": [
       "  0%|          | 0/1 [00:00<?, ?it/s]"
      ]
     },
     "metadata": {},
     "output_type": "display_data"
    },
    {
     "name": "stdout",
     "output_type": "stream",
     "text": [
      "Threshold of points per transect 24 not reached. It has 20 points.\n",
      "eliminating unreliable transects . . . \n"
     ]
    },
    {
     "name": "stderr",
     "output_type": "stream",
     "text": [
      "C:\\conda3\\envs\\sandpyper_env\\lib\\site-packages\\geopandas\\geodataframe.py:422: RuntimeWarning: Sequential read of iterator was interrupted. Resetting iterator. This can negatively impact the performance.\n",
      "  for feature in features_lst:\n",
      "C:\\conda3\\envs\\sandpyper_env\\lib\\site-packages\\geopandas\\geodataframe.py:422: RuntimeWarning: Sequential read of iterator was interrupted. Resetting iterator. This can negatively impact the performance.\n",
      "  for feature in features_lst:\n"
     ]
    },
    {
     "name": "stdout",
     "output_type": "stream",
     "text": [
      "Working on threshold 5 and min points 30.\n"
     ]
    },
    {
     "data": {
      "application/vnd.jupyter.widget-view+json": {
       "model_id": "34022824e80447b79102fb1ca065bd0b",
       "version_major": 2,
       "version_minor": 0
      },
      "text/plain": [
       "  0%|          | 0/1 [00:00<?, ?it/s]"
      ]
     },
     "metadata": {},
     "output_type": "display_data"
    },
    {
     "name": "stdout",
     "output_type": "stream",
     "text": [
      "Threshold of points per transect 24 not reached. It has 3 points.\n",
      "eliminating unreliable transects . . . \n"
     ]
    },
    {
     "name": "stderr",
     "output_type": "stream",
     "text": [
      "C:\\conda3\\envs\\sandpyper_env\\lib\\site-packages\\geopandas\\geodataframe.py:422: RuntimeWarning: Sequential read of iterator was interrupted. Resetting iterator. This can negatively impact the performance.\n",
      "  for feature in features_lst:\n",
      "C:\\conda3\\envs\\sandpyper_env\\lib\\site-packages\\geopandas\\geodataframe.py:422: RuntimeWarning: Sequential read of iterator was interrupted. Resetting iterator. This can negatively impact the performance.\n",
      "  for feature in features_lst:\n"
     ]
    },
    {
     "name": "stdout",
     "output_type": "stream",
     "text": [
      "Working on threshold 6 and min points 30.\n"
     ]
    },
    {
     "data": {
      "application/vnd.jupyter.widget-view+json": {
       "model_id": "fc39452c26de4f3689d95753e752a4db",
       "version_major": 2,
       "version_minor": 0
      },
      "text/plain": [
       "  0%|          | 0/1 [00:00<?, ?it/s]"
      ]
     },
     "metadata": {},
     "output_type": "display_data"
    },
    {
     "name": "stdout",
     "output_type": "stream",
     "text": [
      "Threshold of points per transect 24 not reached. It has 0 points.\n",
      "tr_id 24 has not enough points. Go ahead...\n",
      "eliminating unreliable transects . . . \n"
     ]
    },
    {
     "name": "stderr",
     "output_type": "stream",
     "text": [
      "C:\\conda3\\envs\\sandpyper_env\\lib\\site-packages\\geopandas\\geodataframe.py:422: RuntimeWarning: Sequential read of iterator was interrupted. Resetting iterator. This can negatively impact the performance.\n",
      "  for feature in features_lst:\n",
      "C:\\conda3\\envs\\sandpyper_env\\lib\\site-packages\\geopandas\\geodataframe.py:422: RuntimeWarning: Sequential read of iterator was interrupted. Resetting iterator. This can negatively impact the performance.\n",
      "  for feature in features_lst:\n"
     ]
    },
    {
     "name": "stdout",
     "output_type": "stream",
     "text": [
      "Working on threshold 7 and min points 30.\n"
     ]
    },
    {
     "data": {
      "application/vnd.jupyter.widget-view+json": {
       "model_id": "22e35e1401534b43a605942bd2171c5a",
       "version_major": 2,
       "version_minor": 0
      },
      "text/plain": [
       "  0%|          | 0/1 [00:00<?, ?it/s]"
      ]
     },
     "metadata": {},
     "output_type": "display_data"
    },
    {
     "name": "stdout",
     "output_type": "stream",
     "text": [
      "Threshold of points per transect 18 not reached. It has 24 points.\n",
      "Threshold of points per transect 12 not reached. It has 29 points.\n",
      "Threshold of points per transect 11 not reached. It has 22 points.\n",
      "Threshold of points per transect 10 not reached. It has 14 points.\n",
      "Threshold of points per transect 24 not reached. It has 0 points.\n",
      "tr_id 24 has not enough points. Go ahead...\n",
      "Threshold of points per transect 21 not reached. It has 27 points.\n",
      "Threshold of points per transect 5 not reached. It has 0 points.\n",
      "tr_id 5 has not enough points. Go ahead...\n",
      "Threshold of points per transect 4 not reached. It has 0 points.\n",
      "tr_id 4 has not enough points. Go ahead...\n",
      "Threshold of points per transect 3 not reached. It has 0 points.\n",
      "tr_id 3 has not enough points. Go ahead...\n",
      "eliminating unreliable transects . . . \n"
     ]
    },
    {
     "name": "stderr",
     "output_type": "stream",
     "text": [
      "C:\\conda3\\envs\\sandpyper_env\\lib\\site-packages\\geopandas\\geodataframe.py:422: RuntimeWarning: Sequential read of iterator was interrupted. Resetting iterator. This can negatively impact the performance.\n",
      "  for feature in features_lst:\n",
      "C:\\conda3\\envs\\sandpyper_env\\lib\\site-packages\\geopandas\\geodataframe.py:422: RuntimeWarning: Sequential read of iterator was interrupted. Resetting iterator. This can negatively impact the performance.\n",
      "  for feature in features_lst:\n"
     ]
    },
    {
     "name": "stdout",
     "output_type": "stream",
     "text": [
      "Working on threshold 8 and min points 30.\n"
     ]
    },
    {
     "data": {
      "application/vnd.jupyter.widget-view+json": {
       "model_id": "a143aa62ff1d45db8b26a97d6348132d",
       "version_major": 2,
       "version_minor": 0
      },
      "text/plain": [
       "  0%|          | 0/1 [00:00<?, ?it/s]"
      ]
     },
     "metadata": {},
     "output_type": "display_data"
    },
    {
     "name": "stdout",
     "output_type": "stream",
     "text": [
      "Threshold of points per transect 20 not reached. It has 4 points.\n",
      "Threshold of points per transect 18 not reached. It has 0 points.\n",
      "tr_id 18 has not enough points. Go ahead...\n",
      "Threshold of points per transect 17 not reached. It has 1 points.\n",
      "Threshold of points per transect 16 not reached. It has 1 points.\n",
      "Threshold of points per transect 15 not reached. It has 1 points.\n",
      "Threshold of points per transect 14 not reached. It has 1 points.\n",
      "Threshold of points per transect 13 not reached. It has 0 points.\n",
      "tr_id 13 has not enough points. Go ahead...\n",
      "Threshold of points per transect 12 not reached. It has 0 points.\n",
      "tr_id 12 has not enough points. Go ahead...\n",
      "Threshold of points per transect 11 not reached. It has 1 points.\n",
      "Threshold of points per transect 10 not reached. It has 0 points.\n",
      "tr_id 10 has not enough points. Go ahead...\n",
      "Threshold of points per transect 9 not reached. It has 0 points.\n",
      "tr_id 9 has not enough points. Go ahead...\n",
      "Threshold of points per transect 8 not reached. It has 1 points.\n",
      "Threshold of points per transect 6 not reached. It has 0 points.\n",
      "tr_id 6 has not enough points. Go ahead...\n",
      "Threshold of points per transect 24 not reached. It has 0 points.\n",
      "tr_id 24 has not enough points. Go ahead...\n",
      "Threshold of points per transect 23 not reached. It has 0 points.\n",
      "tr_id 23 has not enough points. Go ahead...\n",
      "Threshold of points per transect 22 not reached. It has 0 points.\n",
      "tr_id 22 has not enough points. Go ahead...\n",
      "Threshold of points per transect 21 not reached. It has 0 points.\n",
      "tr_id 21 has not enough points. Go ahead...\n",
      "Threshold of points per transect 19 not reached. It has 1 points.\n",
      "Threshold of points per transect 7 not reached. It has 0 points.\n",
      "tr_id 7 has not enough points. Go ahead...\n",
      "Threshold of points per transect 5 not reached. It has 0 points.\n",
      "tr_id 5 has not enough points. Go ahead...\n",
      "Threshold of points per transect 4 not reached. It has 0 points.\n",
      "tr_id 4 has not enough points. Go ahead...\n",
      "Threshold of points per transect 3 not reached. It has 0 points.\n",
      "tr_id 3 has not enough points. Go ahead...\n",
      "eliminating unreliable transects . . . \n",
      "Working on threshold 0 and min points 40.\n"
     ]
    },
    {
     "data": {
      "application/vnd.jupyter.widget-view+json": {
       "model_id": "2d11c687b3074799b50019d084f303c4",
       "version_major": 2,
       "version_minor": 0
      },
      "text/plain": [
       "  0%|          | 0/1 [00:00<?, ?it/s]"
      ]
     },
     "metadata": {},
     "output_type": "display_data"
    },
    {
     "name": "stdout",
     "output_type": "stream",
     "text": [
      "eliminating unreliable transects . . . \n"
     ]
    },
    {
     "name": "stderr",
     "output_type": "stream",
     "text": [
      "C:\\conda3\\envs\\sandpyper_env\\lib\\site-packages\\geopandas\\geodataframe.py:422: RuntimeWarning: Sequential read of iterator was interrupted. Resetting iterator. This can negatively impact the performance.\n",
      "  for feature in features_lst:\n",
      "C:\\conda3\\envs\\sandpyper_env\\lib\\site-packages\\geopandas\\geodataframe.py:422: RuntimeWarning: Sequential read of iterator was interrupted. Resetting iterator. This can negatively impact the performance.\n",
      "  for feature in features_lst:\n"
     ]
    },
    {
     "name": "stdout",
     "output_type": "stream",
     "text": [
      "Working on threshold 1 and min points 40.\n"
     ]
    },
    {
     "data": {
      "application/vnd.jupyter.widget-view+json": {
       "model_id": "cfc933bf96ed41318e20612466774aef",
       "version_major": 2,
       "version_minor": 0
      },
      "text/plain": [
       "  0%|          | 0/1 [00:00<?, ?it/s]"
      ]
     },
     "metadata": {},
     "output_type": "display_data"
    },
    {
     "name": "stdout",
     "output_type": "stream",
     "text": [
      "eliminating unreliable transects . . . \n"
     ]
    },
    {
     "name": "stderr",
     "output_type": "stream",
     "text": [
      "C:\\conda3\\envs\\sandpyper_env\\lib\\site-packages\\geopandas\\geodataframe.py:422: RuntimeWarning: Sequential read of iterator was interrupted. Resetting iterator. This can negatively impact the performance.\n",
      "  for feature in features_lst:\n",
      "C:\\conda3\\envs\\sandpyper_env\\lib\\site-packages\\geopandas\\geodataframe.py:422: RuntimeWarning: Sequential read of iterator was interrupted. Resetting iterator. This can negatively impact the performance.\n",
      "  for feature in features_lst:\n"
     ]
    },
    {
     "name": "stdout",
     "output_type": "stream",
     "text": [
      "Working on threshold 2 and min points 40.\n"
     ]
    },
    {
     "data": {
      "application/vnd.jupyter.widget-view+json": {
       "model_id": "f806735596e54f309d758883876f49e8",
       "version_major": 2,
       "version_minor": 0
      },
      "text/plain": [
       "  0%|          | 0/1 [00:00<?, ?it/s]"
      ]
     },
     "metadata": {},
     "output_type": "display_data"
    },
    {
     "name": "stdout",
     "output_type": "stream",
     "text": [
      "eliminating unreliable transects . . . \n"
     ]
    },
    {
     "name": "stderr",
     "output_type": "stream",
     "text": [
      "C:\\conda3\\envs\\sandpyper_env\\lib\\site-packages\\geopandas\\geodataframe.py:422: RuntimeWarning: Sequential read of iterator was interrupted. Resetting iterator. This can negatively impact the performance.\n",
      "  for feature in features_lst:\n",
      "C:\\conda3\\envs\\sandpyper_env\\lib\\site-packages\\geopandas\\geodataframe.py:422: RuntimeWarning: Sequential read of iterator was interrupted. Resetting iterator. This can negatively impact the performance.\n",
      "  for feature in features_lst:\n"
     ]
    },
    {
     "name": "stdout",
     "output_type": "stream",
     "text": [
      "Working on threshold 3 and min points 40.\n"
     ]
    },
    {
     "data": {
      "application/vnd.jupyter.widget-view+json": {
       "model_id": "a42ad869382949c08ee4220b743b91f4",
       "version_major": 2,
       "version_minor": 0
      },
      "text/plain": [
       "  0%|          | 0/1 [00:00<?, ?it/s]"
      ]
     },
     "metadata": {},
     "output_type": "display_data"
    },
    {
     "name": "stdout",
     "output_type": "stream",
     "text": [
      "Threshold of points per transect 24 not reached. It has 39 points.\n",
      "eliminating unreliable transects . . . \n"
     ]
    },
    {
     "name": "stderr",
     "output_type": "stream",
     "text": [
      "C:\\conda3\\envs\\sandpyper_env\\lib\\site-packages\\geopandas\\geodataframe.py:422: RuntimeWarning: Sequential read of iterator was interrupted. Resetting iterator. This can negatively impact the performance.\n",
      "  for feature in features_lst:\n",
      "C:\\conda3\\envs\\sandpyper_env\\lib\\site-packages\\geopandas\\geodataframe.py:422: RuntimeWarning: Sequential read of iterator was interrupted. Resetting iterator. This can negatively impact the performance.\n",
      "  for feature in features_lst:\n"
     ]
    },
    {
     "name": "stdout",
     "output_type": "stream",
     "text": [
      "Working on threshold 4 and min points 40.\n"
     ]
    },
    {
     "data": {
      "application/vnd.jupyter.widget-view+json": {
       "model_id": "409a02af325744c9a33613a68dc3cbb2",
       "version_major": 2,
       "version_minor": 0
      },
      "text/plain": [
       "  0%|          | 0/1 [00:00<?, ?it/s]"
      ]
     },
     "metadata": {},
     "output_type": "display_data"
    },
    {
     "name": "stdout",
     "output_type": "stream",
     "text": [
      "Threshold of points per transect 24 not reached. It has 20 points.\n",
      "eliminating unreliable transects . . . \n"
     ]
    },
    {
     "name": "stderr",
     "output_type": "stream",
     "text": [
      "C:\\conda3\\envs\\sandpyper_env\\lib\\site-packages\\geopandas\\geodataframe.py:422: RuntimeWarning: Sequential read of iterator was interrupted. Resetting iterator. This can negatively impact the performance.\n",
      "  for feature in features_lst:\n",
      "C:\\conda3\\envs\\sandpyper_env\\lib\\site-packages\\geopandas\\geodataframe.py:422: RuntimeWarning: Sequential read of iterator was interrupted. Resetting iterator. This can negatively impact the performance.\n",
      "  for feature in features_lst:\n"
     ]
    },
    {
     "name": "stdout",
     "output_type": "stream",
     "text": [
      "Working on threshold 5 and min points 40.\n"
     ]
    },
    {
     "data": {
      "application/vnd.jupyter.widget-view+json": {
       "model_id": "c7e907c0cf5647588a0695c039f517e6",
       "version_major": 2,
       "version_minor": 0
      },
      "text/plain": [
       "  0%|          | 0/1 [00:00<?, ?it/s]"
      ]
     },
     "metadata": {},
     "output_type": "display_data"
    },
    {
     "name": "stdout",
     "output_type": "stream",
     "text": [
      "Threshold of points per transect 24 not reached. It has 3 points.\n",
      "eliminating unreliable transects . . . \n"
     ]
    },
    {
     "name": "stderr",
     "output_type": "stream",
     "text": [
      "C:\\conda3\\envs\\sandpyper_env\\lib\\site-packages\\geopandas\\geodataframe.py:422: RuntimeWarning: Sequential read of iterator was interrupted. Resetting iterator. This can negatively impact the performance.\n",
      "  for feature in features_lst:\n",
      "C:\\conda3\\envs\\sandpyper_env\\lib\\site-packages\\geopandas\\geodataframe.py:422: RuntimeWarning: Sequential read of iterator was interrupted. Resetting iterator. This can negatively impact the performance.\n",
      "  for feature in features_lst:\n"
     ]
    },
    {
     "name": "stdout",
     "output_type": "stream",
     "text": [
      "Working on threshold 6 and min points 40.\n"
     ]
    },
    {
     "data": {
      "application/vnd.jupyter.widget-view+json": {
       "model_id": "ceae75e361214d448920ff2495979f61",
       "version_major": 2,
       "version_minor": 0
      },
      "text/plain": [
       "  0%|          | 0/1 [00:00<?, ?it/s]"
      ]
     },
     "metadata": {},
     "output_type": "display_data"
    },
    {
     "name": "stdout",
     "output_type": "stream",
     "text": [
      "Threshold of points per transect 24 not reached. It has 0 points.\n",
      "tr_id 24 has not enough points. Go ahead...\n",
      "eliminating unreliable transects . . . \n"
     ]
    },
    {
     "name": "stderr",
     "output_type": "stream",
     "text": [
      "C:\\conda3\\envs\\sandpyper_env\\lib\\site-packages\\geopandas\\geodataframe.py:422: RuntimeWarning: Sequential read of iterator was interrupted. Resetting iterator. This can negatively impact the performance.\n",
      "  for feature in features_lst:\n",
      "C:\\conda3\\envs\\sandpyper_env\\lib\\site-packages\\geopandas\\geodataframe.py:422: RuntimeWarning: Sequential read of iterator was interrupted. Resetting iterator. This can negatively impact the performance.\n",
      "  for feature in features_lst:\n"
     ]
    },
    {
     "name": "stdout",
     "output_type": "stream",
     "text": [
      "Working on threshold 7 and min points 40.\n"
     ]
    },
    {
     "data": {
      "application/vnd.jupyter.widget-view+json": {
       "model_id": "919e5e2e640041d5bde923cce5bf54b6",
       "version_major": 2,
       "version_minor": 0
      },
      "text/plain": [
       "  0%|          | 0/1 [00:00<?, ?it/s]"
      ]
     },
     "metadata": {},
     "output_type": "display_data"
    },
    {
     "name": "stdout",
     "output_type": "stream",
     "text": [
      "Threshold of points per transect 20 not reached. It has 31 points.\n",
      "Threshold of points per transect 18 not reached. It has 24 points.\n",
      "Threshold of points per transect 17 not reached. It has 36 points.\n",
      "Threshold of points per transect 16 not reached. It has 31 points.\n",
      "Threshold of points per transect 12 not reached. It has 29 points.\n",
      "Threshold of points per transect 11 not reached. It has 22 points.\n",
      "Threshold of points per transect 10 not reached. It has 14 points.\n",
      "Threshold of points per transect 9 not reached. It has 32 points.\n",
      "Threshold of points per transect 24 not reached. It has 0 points.\n",
      "tr_id 24 has not enough points. Go ahead...\n",
      "Threshold of points per transect 21 not reached. It has 27 points.\n",
      "Threshold of points per transect 5 not reached. It has 0 points.\n",
      "tr_id 5 has not enough points. Go ahead...\n",
      "Threshold of points per transect 4 not reached. It has 0 points.\n",
      "tr_id 4 has not enough points. Go ahead...\n",
      "Threshold of points per transect 3 not reached. It has 0 points.\n",
      "tr_id 3 has not enough points. Go ahead...\n",
      "eliminating unreliable transects . . . \n"
     ]
    },
    {
     "name": "stderr",
     "output_type": "stream",
     "text": [
      "C:\\conda3\\envs\\sandpyper_env\\lib\\site-packages\\geopandas\\geodataframe.py:422: RuntimeWarning: Sequential read of iterator was interrupted. Resetting iterator. This can negatively impact the performance.\n",
      "  for feature in features_lst:\n",
      "C:\\conda3\\envs\\sandpyper_env\\lib\\site-packages\\geopandas\\geodataframe.py:422: RuntimeWarning: Sequential read of iterator was interrupted. Resetting iterator. This can negatively impact the performance.\n",
      "  for feature in features_lst:\n"
     ]
    },
    {
     "name": "stdout",
     "output_type": "stream",
     "text": [
      "Working on threshold 8 and min points 40.\n"
     ]
    },
    {
     "data": {
      "application/vnd.jupyter.widget-view+json": {
       "model_id": "3da706ba42974d1186bdb00f21cf07f7",
       "version_major": 2,
       "version_minor": 0
      },
      "text/plain": [
       "  0%|          | 0/1 [00:00<?, ?it/s]"
      ]
     },
     "metadata": {},
     "output_type": "display_data"
    },
    {
     "name": "stdout",
     "output_type": "stream",
     "text": [
      "Threshold of points per transect 20 not reached. It has 4 points.\n",
      "Threshold of points per transect 18 not reached. It has 0 points.\n",
      "tr_id 18 has not enough points. Go ahead...\n",
      "Threshold of points per transect 17 not reached. It has 1 points.\n",
      "Threshold of points per transect 16 not reached. It has 1 points.\n",
      "Threshold of points per transect 15 not reached. It has 1 points.\n",
      "Threshold of points per transect 14 not reached. It has 1 points.\n",
      "Threshold of points per transect 13 not reached. It has 0 points.\n",
      "tr_id 13 has not enough points. Go ahead...\n",
      "Threshold of points per transect 12 not reached. It has 0 points.\n",
      "tr_id 12 has not enough points. Go ahead...\n",
      "Threshold of points per transect 11 not reached. It has 1 points.\n",
      "Threshold of points per transect 10 not reached. It has 0 points.\n",
      "tr_id 10 has not enough points. Go ahead...\n",
      "Threshold of points per transect 9 not reached. It has 0 points.\n",
      "tr_id 9 has not enough points. Go ahead...\n",
      "Threshold of points per transect 8 not reached. It has 1 points.\n",
      "Threshold of points per transect 6 not reached. It has 0 points.\n",
      "tr_id 6 has not enough points. Go ahead...\n",
      "Threshold of points per transect 24 not reached. It has 0 points.\n",
      "tr_id 24 has not enough points. Go ahead...\n",
      "Threshold of points per transect 23 not reached. It has 0 points.\n",
      "tr_id 23 has not enough points. Go ahead...\n",
      "Threshold of points per transect 22 not reached. It has 0 points.\n",
      "tr_id 22 has not enough points. Go ahead...\n",
      "Threshold of points per transect 21 not reached. It has 0 points.\n",
      "tr_id 21 has not enough points. Go ahead...\n",
      "Threshold of points per transect 19 not reached. It has 1 points.\n",
      "Threshold of points per transect 7 not reached. It has 0 points.\n",
      "tr_id 7 has not enough points. Go ahead...\n",
      "Threshold of points per transect 5 not reached. It has 0 points.\n",
      "tr_id 5 has not enough points. Go ahead...\n",
      "Threshold of points per transect 4 not reached. It has 0 points.\n",
      "tr_id 4 has not enough points. Go ahead...\n",
      "Threshold of points per transect 3 not reached. It has 0 points.\n",
      "tr_id 3 has not enough points. Go ahead...\n",
      "eliminating unreliable transects . . . \n",
      "Working on threshold 0 and min points 50.\n"
     ]
    },
    {
     "data": {
      "application/vnd.jupyter.widget-view+json": {
       "model_id": "8d7cd99ba8c643b6a8e51523c9a5c05b",
       "version_major": 2,
       "version_minor": 0
      },
      "text/plain": [
       "  0%|          | 0/1 [00:00<?, ?it/s]"
      ]
     },
     "metadata": {},
     "output_type": "display_data"
    },
    {
     "name": "stdout",
     "output_type": "stream",
     "text": [
      "eliminating unreliable transects . . . \n"
     ]
    },
    {
     "name": "stderr",
     "output_type": "stream",
     "text": [
      "C:\\conda3\\envs\\sandpyper_env\\lib\\site-packages\\geopandas\\geodataframe.py:422: RuntimeWarning: Sequential read of iterator was interrupted. Resetting iterator. This can negatively impact the performance.\n",
      "  for feature in features_lst:\n",
      "C:\\conda3\\envs\\sandpyper_env\\lib\\site-packages\\geopandas\\geodataframe.py:422: RuntimeWarning: Sequential read of iterator was interrupted. Resetting iterator. This can negatively impact the performance.\n",
      "  for feature in features_lst:\n"
     ]
    },
    {
     "name": "stdout",
     "output_type": "stream",
     "text": [
      "Working on threshold 1 and min points 50.\n"
     ]
    },
    {
     "data": {
      "application/vnd.jupyter.widget-view+json": {
       "model_id": "37d55757c5644b789f3700a224081d7c",
       "version_major": 2,
       "version_minor": 0
      },
      "text/plain": [
       "  0%|          | 0/1 [00:00<?, ?it/s]"
      ]
     },
     "metadata": {},
     "output_type": "display_data"
    },
    {
     "name": "stdout",
     "output_type": "stream",
     "text": [
      "eliminating unreliable transects . . . \n"
     ]
    },
    {
     "name": "stderr",
     "output_type": "stream",
     "text": [
      "C:\\conda3\\envs\\sandpyper_env\\lib\\site-packages\\geopandas\\geodataframe.py:422: RuntimeWarning: Sequential read of iterator was interrupted. Resetting iterator. This can negatively impact the performance.\n",
      "  for feature in features_lst:\n",
      "C:\\conda3\\envs\\sandpyper_env\\lib\\site-packages\\geopandas\\geodataframe.py:422: RuntimeWarning: Sequential read of iterator was interrupted. Resetting iterator. This can negatively impact the performance.\n",
      "  for feature in features_lst:\n"
     ]
    },
    {
     "name": "stdout",
     "output_type": "stream",
     "text": [
      "Working on threshold 2 and min points 50.\n"
     ]
    },
    {
     "data": {
      "application/vnd.jupyter.widget-view+json": {
       "model_id": "a7f9ae35379d4a3d88482d62745cab1e",
       "version_major": 2,
       "version_minor": 0
      },
      "text/plain": [
       "  0%|          | 0/1 [00:00<?, ?it/s]"
      ]
     },
     "metadata": {},
     "output_type": "display_data"
    },
    {
     "name": "stdout",
     "output_type": "stream",
     "text": [
      "eliminating unreliable transects . . . \n"
     ]
    },
    {
     "name": "stderr",
     "output_type": "stream",
     "text": [
      "C:\\conda3\\envs\\sandpyper_env\\lib\\site-packages\\geopandas\\geodataframe.py:422: RuntimeWarning: Sequential read of iterator was interrupted. Resetting iterator. This can negatively impact the performance.\n",
      "  for feature in features_lst:\n",
      "C:\\conda3\\envs\\sandpyper_env\\lib\\site-packages\\geopandas\\geodataframe.py:422: RuntimeWarning: Sequential read of iterator was interrupted. Resetting iterator. This can negatively impact the performance.\n",
      "  for feature in features_lst:\n"
     ]
    },
    {
     "name": "stdout",
     "output_type": "stream",
     "text": [
      "Working on threshold 3 and min points 50.\n"
     ]
    },
    {
     "data": {
      "application/vnd.jupyter.widget-view+json": {
       "model_id": "96b7a98ea7db4a68b6bb7b06e814f607",
       "version_major": 2,
       "version_minor": 0
      },
      "text/plain": [
       "  0%|          | 0/1 [00:00<?, ?it/s]"
      ]
     },
     "metadata": {},
     "output_type": "display_data"
    },
    {
     "name": "stdout",
     "output_type": "stream",
     "text": [
      "Threshold of points per transect 24 not reached. It has 39 points.\n",
      "eliminating unreliable transects . . . \n"
     ]
    },
    {
     "name": "stderr",
     "output_type": "stream",
     "text": [
      "C:\\conda3\\envs\\sandpyper_env\\lib\\site-packages\\geopandas\\geodataframe.py:422: RuntimeWarning: Sequential read of iterator was interrupted. Resetting iterator. This can negatively impact the performance.\n",
      "  for feature in features_lst:\n",
      "C:\\conda3\\envs\\sandpyper_env\\lib\\site-packages\\geopandas\\geodataframe.py:422: RuntimeWarning: Sequential read of iterator was interrupted. Resetting iterator. This can negatively impact the performance.\n",
      "  for feature in features_lst:\n"
     ]
    },
    {
     "name": "stdout",
     "output_type": "stream",
     "text": [
      "Working on threshold 4 and min points 50.\n"
     ]
    },
    {
     "data": {
      "application/vnd.jupyter.widget-view+json": {
       "model_id": "b45497d084f64c00b32fa2854b23a31a",
       "version_major": 2,
       "version_minor": 0
      },
      "text/plain": [
       "  0%|          | 0/1 [00:00<?, ?it/s]"
      ]
     },
     "metadata": {},
     "output_type": "display_data"
    },
    {
     "name": "stdout",
     "output_type": "stream",
     "text": [
      "Threshold of points per transect 24 not reached. It has 20 points.\n",
      "eliminating unreliable transects . . . \n"
     ]
    },
    {
     "name": "stderr",
     "output_type": "stream",
     "text": [
      "C:\\conda3\\envs\\sandpyper_env\\lib\\site-packages\\geopandas\\geodataframe.py:422: RuntimeWarning: Sequential read of iterator was interrupted. Resetting iterator. This can negatively impact the performance.\n",
      "  for feature in features_lst:\n",
      "C:\\conda3\\envs\\sandpyper_env\\lib\\site-packages\\geopandas\\geodataframe.py:422: RuntimeWarning: Sequential read of iterator was interrupted. Resetting iterator. This can negatively impact the performance.\n",
      "  for feature in features_lst:\n"
     ]
    },
    {
     "name": "stdout",
     "output_type": "stream",
     "text": [
      "Working on threshold 5 and min points 50.\n"
     ]
    },
    {
     "data": {
      "application/vnd.jupyter.widget-view+json": {
       "model_id": "71f0d880969f43a88493dc6de0c654f8",
       "version_major": 2,
       "version_minor": 0
      },
      "text/plain": [
       "  0%|          | 0/1 [00:00<?, ?it/s]"
      ]
     },
     "metadata": {},
     "output_type": "display_data"
    },
    {
     "name": "stdout",
     "output_type": "stream",
     "text": [
      "Threshold of points per transect 24 not reached. It has 3 points.\n",
      "eliminating unreliable transects . . . \n"
     ]
    },
    {
     "name": "stderr",
     "output_type": "stream",
     "text": [
      "C:\\conda3\\envs\\sandpyper_env\\lib\\site-packages\\geopandas\\geodataframe.py:422: RuntimeWarning: Sequential read of iterator was interrupted. Resetting iterator. This can negatively impact the performance.\n",
      "  for feature in features_lst:\n",
      "C:\\conda3\\envs\\sandpyper_env\\lib\\site-packages\\geopandas\\geodataframe.py:422: RuntimeWarning: Sequential read of iterator was interrupted. Resetting iterator. This can negatively impact the performance.\n",
      "  for feature in features_lst:\n"
     ]
    },
    {
     "name": "stdout",
     "output_type": "stream",
     "text": [
      "Working on threshold 6 and min points 50.\n"
     ]
    },
    {
     "data": {
      "application/vnd.jupyter.widget-view+json": {
       "model_id": "6afd2fc548f84a92a8c9edf662683d94",
       "version_major": 2,
       "version_minor": 0
      },
      "text/plain": [
       "  0%|          | 0/1 [00:00<?, ?it/s]"
      ]
     },
     "metadata": {},
     "output_type": "display_data"
    },
    {
     "name": "stdout",
     "output_type": "stream",
     "text": [
      "Threshold of points per transect 24 not reached. It has 0 points.\n",
      "tr_id 24 has not enough points. Go ahead...\n",
      "Threshold of points per transect 4 not reached. It has 44 points.\n",
      "eliminating unreliable transects . . . \n"
     ]
    },
    {
     "name": "stderr",
     "output_type": "stream",
     "text": [
      "C:\\conda3\\envs\\sandpyper_env\\lib\\site-packages\\geopandas\\geodataframe.py:422: RuntimeWarning: Sequential read of iterator was interrupted. Resetting iterator. This can negatively impact the performance.\n",
      "  for feature in features_lst:\n",
      "C:\\conda3\\envs\\sandpyper_env\\lib\\site-packages\\geopandas\\geodataframe.py:422: RuntimeWarning: Sequential read of iterator was interrupted. Resetting iterator. This can negatively impact the performance.\n",
      "  for feature in features_lst:\n"
     ]
    },
    {
     "name": "stdout",
     "output_type": "stream",
     "text": [
      "Working on threshold 7 and min points 50.\n"
     ]
    },
    {
     "data": {
      "application/vnd.jupyter.widget-view+json": {
       "model_id": "7944d0800a164138b8bf39c0ed76d915",
       "version_major": 2,
       "version_minor": 0
      },
      "text/plain": [
       "  0%|          | 0/1 [00:00<?, ?it/s]"
      ]
     },
     "metadata": {},
     "output_type": "display_data"
    },
    {
     "name": "stdout",
     "output_type": "stream",
     "text": [
      "Threshold of points per transect 20 not reached. It has 31 points.\n",
      "Threshold of points per transect 18 not reached. It has 24 points.\n",
      "Threshold of points per transect 17 not reached. It has 36 points.\n",
      "Threshold of points per transect 16 not reached. It has 31 points.\n",
      "Threshold of points per transect 12 not reached. It has 29 points.\n",
      "Threshold of points per transect 11 not reached. It has 22 points.\n",
      "Threshold of points per transect 10 not reached. It has 14 points.\n",
      "Threshold of points per transect 9 not reached. It has 32 points.\n",
      "Threshold of points per transect 8 not reached. It has 47 points.\n",
      "Threshold of points per transect 6 not reached. It has 45 points.\n",
      "Threshold of points per transect 24 not reached. It has 0 points.\n",
      "tr_id 24 has not enough points. Go ahead...\n",
      "Threshold of points per transect 22 not reached. It has 45 points.\n",
      "Threshold of points per transect 21 not reached. It has 27 points.\n",
      "Threshold of points per transect 5 not reached. It has 0 points.\n",
      "tr_id 5 has not enough points. Go ahead...\n",
      "Threshold of points per transect 4 not reached. It has 0 points.\n",
      "tr_id 4 has not enough points. Go ahead...\n",
      "Threshold of points per transect 3 not reached. It has 0 points.\n",
      "tr_id 3 has not enough points. Go ahead...\n",
      "eliminating unreliable transects . . . \n"
     ]
    },
    {
     "name": "stderr",
     "output_type": "stream",
     "text": [
      "C:\\conda3\\envs\\sandpyper_env\\lib\\site-packages\\geopandas\\geodataframe.py:422: RuntimeWarning: Sequential read of iterator was interrupted. Resetting iterator. This can negatively impact the performance.\n",
      "  for feature in features_lst:\n",
      "C:\\conda3\\envs\\sandpyper_env\\lib\\site-packages\\geopandas\\geodataframe.py:422: RuntimeWarning: Sequential read of iterator was interrupted. Resetting iterator. This can negatively impact the performance.\n",
      "  for feature in features_lst:\n"
     ]
    },
    {
     "name": "stdout",
     "output_type": "stream",
     "text": [
      "Working on threshold 8 and min points 50.\n"
     ]
    },
    {
     "data": {
      "application/vnd.jupyter.widget-view+json": {
       "model_id": "2fefa59047634588a53515807d7af5cd",
       "version_major": 2,
       "version_minor": 0
      },
      "text/plain": [
       "  0%|          | 0/1 [00:00<?, ?it/s]"
      ]
     },
     "metadata": {},
     "output_type": "display_data"
    },
    {
     "name": "stdout",
     "output_type": "stream",
     "text": [
      "Threshold of points per transect 20 not reached. It has 4 points.\n",
      "Threshold of points per transect 18 not reached. It has 0 points.\n",
      "tr_id 18 has not enough points. Go ahead...\n",
      "Threshold of points per transect 17 not reached. It has 1 points.\n",
      "Threshold of points per transect 16 not reached. It has 1 points.\n",
      "Threshold of points per transect 15 not reached. It has 1 points.\n",
      "Threshold of points per transect 14 not reached. It has 1 points.\n",
      "Threshold of points per transect 13 not reached. It has 0 points.\n",
      "tr_id 13 has not enough points. Go ahead...\n",
      "Threshold of points per transect 12 not reached. It has 0 points.\n",
      "tr_id 12 has not enough points. Go ahead...\n",
      "Threshold of points per transect 11 not reached. It has 1 points.\n",
      "Threshold of points per transect 10 not reached. It has 0 points.\n",
      "tr_id 10 has not enough points. Go ahead...\n",
      "Threshold of points per transect 9 not reached. It has 0 points.\n",
      "tr_id 9 has not enough points. Go ahead...\n",
      "Threshold of points per transect 8 not reached. It has 1 points.\n",
      "Threshold of points per transect 6 not reached. It has 0 points.\n",
      "tr_id 6 has not enough points. Go ahead...\n",
      "Threshold of points per transect 24 not reached. It has 0 points.\n",
      "tr_id 24 has not enough points. Go ahead...\n",
      "Threshold of points per transect 23 not reached. It has 0 points.\n",
      "tr_id 23 has not enough points. Go ahead...\n",
      "Threshold of points per transect 22 not reached. It has 0 points.\n",
      "tr_id 22 has not enough points. Go ahead...\n",
      "Threshold of points per transect 21 not reached. It has 0 points.\n",
      "tr_id 21 has not enough points. Go ahead...\n",
      "Threshold of points per transect 19 not reached. It has 1 points.\n",
      "Threshold of points per transect 7 not reached. It has 0 points.\n",
      "tr_id 7 has not enough points. Go ahead...\n",
      "Threshold of points per transect 5 not reached. It has 0 points.\n",
      "tr_id 5 has not enough points. Go ahead...\n",
      "Threshold of points per transect 4 not reached. It has 0 points.\n",
      "tr_id 4 has not enough points. Go ahead...\n",
      "Threshold of points per transect 3 not reached. It has 0 points.\n",
      "tr_id 3 has not enough points. Go ahead...\n",
      "eliminating unreliable transects . . . \n",
      "Working on threshold 0 and min points 60.\n"
     ]
    },
    {
     "data": {
      "application/vnd.jupyter.widget-view+json": {
       "model_id": "ec652e93666c495f9a5e9cba06c9e47f",
       "version_major": 2,
       "version_minor": 0
      },
      "text/plain": [
       "  0%|          | 0/1 [00:00<?, ?it/s]"
      ]
     },
     "metadata": {},
     "output_type": "display_data"
    },
    {
     "name": "stdout",
     "output_type": "stream",
     "text": [
      "eliminating unreliable transects . . . \n"
     ]
    },
    {
     "name": "stderr",
     "output_type": "stream",
     "text": [
      "C:\\conda3\\envs\\sandpyper_env\\lib\\site-packages\\geopandas\\geodataframe.py:422: RuntimeWarning: Sequential read of iterator was interrupted. Resetting iterator. This can negatively impact the performance.\n",
      "  for feature in features_lst:\n",
      "C:\\conda3\\envs\\sandpyper_env\\lib\\site-packages\\geopandas\\geodataframe.py:422: RuntimeWarning: Sequential read of iterator was interrupted. Resetting iterator. This can negatively impact the performance.\n",
      "  for feature in features_lst:\n"
     ]
    },
    {
     "name": "stdout",
     "output_type": "stream",
     "text": [
      "Working on threshold 1 and min points 60.\n"
     ]
    },
    {
     "data": {
      "application/vnd.jupyter.widget-view+json": {
       "model_id": "a8808007cf34470c8338da888b2caf8a",
       "version_major": 2,
       "version_minor": 0
      },
      "text/plain": [
       "  0%|          | 0/1 [00:00<?, ?it/s]"
      ]
     },
     "metadata": {},
     "output_type": "display_data"
    },
    {
     "name": "stdout",
     "output_type": "stream",
     "text": [
      "eliminating unreliable transects . . . \n"
     ]
    },
    {
     "name": "stderr",
     "output_type": "stream",
     "text": [
      "C:\\conda3\\envs\\sandpyper_env\\lib\\site-packages\\geopandas\\geodataframe.py:422: RuntimeWarning: Sequential read of iterator was interrupted. Resetting iterator. This can negatively impact the performance.\n",
      "  for feature in features_lst:\n",
      "C:\\conda3\\envs\\sandpyper_env\\lib\\site-packages\\geopandas\\geodataframe.py:422: RuntimeWarning: Sequential read of iterator was interrupted. Resetting iterator. This can negatively impact the performance.\n",
      "  for feature in features_lst:\n"
     ]
    },
    {
     "name": "stdout",
     "output_type": "stream",
     "text": [
      "Working on threshold 2 and min points 60.\n"
     ]
    },
    {
     "data": {
      "application/vnd.jupyter.widget-view+json": {
       "model_id": "54de8610724b48cda1bc3a7064f07bac",
       "version_major": 2,
       "version_minor": 0
      },
      "text/plain": [
       "  0%|          | 0/1 [00:00<?, ?it/s]"
      ]
     },
     "metadata": {},
     "output_type": "display_data"
    },
    {
     "name": "stdout",
     "output_type": "stream",
     "text": [
      "Threshold of points per transect 24 not reached. It has 54 points.\n",
      "eliminating unreliable transects . . . \n"
     ]
    },
    {
     "name": "stderr",
     "output_type": "stream",
     "text": [
      "C:\\conda3\\envs\\sandpyper_env\\lib\\site-packages\\geopandas\\geodataframe.py:422: RuntimeWarning: Sequential read of iterator was interrupted. Resetting iterator. This can negatively impact the performance.\n",
      "  for feature in features_lst:\n",
      "C:\\conda3\\envs\\sandpyper_env\\lib\\site-packages\\geopandas\\geodataframe.py:422: RuntimeWarning: Sequential read of iterator was interrupted. Resetting iterator. This can negatively impact the performance.\n",
      "  for feature in features_lst:\n"
     ]
    },
    {
     "name": "stdout",
     "output_type": "stream",
     "text": [
      "Working on threshold 3 and min points 60.\n"
     ]
    },
    {
     "data": {
      "application/vnd.jupyter.widget-view+json": {
       "model_id": "4cc58e7f721142bfb8620bf5b90c240c",
       "version_major": 2,
       "version_minor": 0
      },
      "text/plain": [
       "  0%|          | 0/1 [00:00<?, ?it/s]"
      ]
     },
     "metadata": {},
     "output_type": "display_data"
    },
    {
     "name": "stdout",
     "output_type": "stream",
     "text": [
      "Threshold of points per transect 24 not reached. It has 39 points.\n",
      "eliminating unreliable transects . . . \n"
     ]
    },
    {
     "name": "stderr",
     "output_type": "stream",
     "text": [
      "C:\\conda3\\envs\\sandpyper_env\\lib\\site-packages\\geopandas\\geodataframe.py:422: RuntimeWarning: Sequential read of iterator was interrupted. Resetting iterator. This can negatively impact the performance.\n",
      "  for feature in features_lst:\n",
      "C:\\conda3\\envs\\sandpyper_env\\lib\\site-packages\\geopandas\\geodataframe.py:422: RuntimeWarning: Sequential read of iterator was interrupted. Resetting iterator. This can negatively impact the performance.\n",
      "  for feature in features_lst:\n"
     ]
    },
    {
     "name": "stdout",
     "output_type": "stream",
     "text": [
      "Working on threshold 4 and min points 60.\n"
     ]
    },
    {
     "data": {
      "application/vnd.jupyter.widget-view+json": {
       "model_id": "338ce18836ee41989d682e0cd848fb1d",
       "version_major": 2,
       "version_minor": 0
      },
      "text/plain": [
       "  0%|          | 0/1 [00:00<?, ?it/s]"
      ]
     },
     "metadata": {},
     "output_type": "display_data"
    },
    {
     "name": "stdout",
     "output_type": "stream",
     "text": [
      "Threshold of points per transect 24 not reached. It has 20 points.\n",
      "eliminating unreliable transects . . . \n"
     ]
    },
    {
     "name": "stderr",
     "output_type": "stream",
     "text": [
      "C:\\conda3\\envs\\sandpyper_env\\lib\\site-packages\\geopandas\\geodataframe.py:422: RuntimeWarning: Sequential read of iterator was interrupted. Resetting iterator. This can negatively impact the performance.\n",
      "  for feature in features_lst:\n",
      "C:\\conda3\\envs\\sandpyper_env\\lib\\site-packages\\geopandas\\geodataframe.py:422: RuntimeWarning: Sequential read of iterator was interrupted. Resetting iterator. This can negatively impact the performance.\n",
      "  for feature in features_lst:\n"
     ]
    },
    {
     "name": "stdout",
     "output_type": "stream",
     "text": [
      "Working on threshold 5 and min points 60.\n"
     ]
    },
    {
     "data": {
      "application/vnd.jupyter.widget-view+json": {
       "model_id": "a96603b0ebe647a897a0be5bba8bab8f",
       "version_major": 2,
       "version_minor": 0
      },
      "text/plain": [
       "  0%|          | 0/1 [00:00<?, ?it/s]"
      ]
     },
     "metadata": {},
     "output_type": "display_data"
    },
    {
     "name": "stdout",
     "output_type": "stream",
     "text": [
      "Threshold of points per transect 24 not reached. It has 3 points.\n",
      "eliminating unreliable transects . . . \n"
     ]
    },
    {
     "name": "stderr",
     "output_type": "stream",
     "text": [
      "C:\\conda3\\envs\\sandpyper_env\\lib\\site-packages\\geopandas\\geodataframe.py:422: RuntimeWarning: Sequential read of iterator was interrupted. Resetting iterator. This can negatively impact the performance.\n",
      "  for feature in features_lst:\n",
      "C:\\conda3\\envs\\sandpyper_env\\lib\\site-packages\\geopandas\\geodataframe.py:422: RuntimeWarning: Sequential read of iterator was interrupted. Resetting iterator. This can negatively impact the performance.\n",
      "  for feature in features_lst:\n"
     ]
    },
    {
     "name": "stdout",
     "output_type": "stream",
     "text": [
      "Working on threshold 6 and min points 60.\n"
     ]
    },
    {
     "data": {
      "application/vnd.jupyter.widget-view+json": {
       "model_id": "eb0391fc90d34aaa8d67a8a36d40f620",
       "version_major": 2,
       "version_minor": 0
      },
      "text/plain": [
       "  0%|          | 0/1 [00:00<?, ?it/s]"
      ]
     },
     "metadata": {},
     "output_type": "display_data"
    },
    {
     "name": "stdout",
     "output_type": "stream",
     "text": [
      "Threshold of points per transect 24 not reached. It has 0 points.\n",
      "tr_id 24 has not enough points. Go ahead...\n",
      "Threshold of points per transect 4 not reached. It has 44 points.\n",
      "eliminating unreliable transects . . . \n"
     ]
    },
    {
     "name": "stderr",
     "output_type": "stream",
     "text": [
      "C:\\conda3\\envs\\sandpyper_env\\lib\\site-packages\\geopandas\\geodataframe.py:422: RuntimeWarning: Sequential read of iterator was interrupted. Resetting iterator. This can negatively impact the performance.\n",
      "  for feature in features_lst:\n",
      "C:\\conda3\\envs\\sandpyper_env\\lib\\site-packages\\geopandas\\geodataframe.py:422: RuntimeWarning: Sequential read of iterator was interrupted. Resetting iterator. This can negatively impact the performance.\n",
      "  for feature in features_lst:\n"
     ]
    },
    {
     "name": "stdout",
     "output_type": "stream",
     "text": [
      "Working on threshold 7 and min points 60.\n"
     ]
    },
    {
     "data": {
      "application/vnd.jupyter.widget-view+json": {
       "model_id": "5ca6c395cb024fb38df3205aa53a6389",
       "version_major": 2,
       "version_minor": 0
      },
      "text/plain": [
       "  0%|          | 0/1 [00:00<?, ?it/s]"
      ]
     },
     "metadata": {},
     "output_type": "display_data"
    },
    {
     "name": "stdout",
     "output_type": "stream",
     "text": [
      "Threshold of points per transect 20 not reached. It has 31 points.\n",
      "Threshold of points per transect 18 not reached. It has 24 points.\n",
      "Threshold of points per transect 17 not reached. It has 36 points.\n",
      "Threshold of points per transect 16 not reached. It has 31 points.\n",
      "Threshold of points per transect 14 not reached. It has 52 points.\n",
      "Threshold of points per transect 13 not reached. It has 57 points.\n",
      "Threshold of points per transect 12 not reached. It has 29 points.\n",
      "Threshold of points per transect 11 not reached. It has 22 points.\n",
      "Threshold of points per transect 10 not reached. It has 14 points.\n",
      "Threshold of points per transect 9 not reached. It has 32 points.\n",
      "Threshold of points per transect 8 not reached. It has 47 points.\n",
      "Threshold of points per transect 6 not reached. It has 45 points.\n",
      "Threshold of points per transect 24 not reached. It has 0 points.\n",
      "tr_id 24 has not enough points. Go ahead...\n",
      "Threshold of points per transect 23 not reached. It has 52 points.\n",
      "Threshold of points per transect 22 not reached. It has 45 points.\n",
      "Threshold of points per transect 21 not reached. It has 27 points.\n",
      "Threshold of points per transect 5 not reached. It has 0 points.\n",
      "tr_id 5 has not enough points. Go ahead...\n",
      "Threshold of points per transect 4 not reached. It has 0 points.\n",
      "tr_id 4 has not enough points. Go ahead...\n",
      "Threshold of points per transect 3 not reached. It has 0 points.\n",
      "tr_id 3 has not enough points. Go ahead...\n",
      "eliminating unreliable transects . . . \n"
     ]
    },
    {
     "name": "stderr",
     "output_type": "stream",
     "text": [
      "C:\\conda3\\envs\\sandpyper_env\\lib\\site-packages\\geopandas\\geodataframe.py:422: RuntimeWarning: Sequential read of iterator was interrupted. Resetting iterator. This can negatively impact the performance.\n",
      "  for feature in features_lst:\n",
      "C:\\conda3\\envs\\sandpyper_env\\lib\\site-packages\\geopandas\\geodataframe.py:422: RuntimeWarning: Sequential read of iterator was interrupted. Resetting iterator. This can negatively impact the performance.\n",
      "  for feature in features_lst:\n"
     ]
    },
    {
     "name": "stdout",
     "output_type": "stream",
     "text": [
      "Working on threshold 8 and min points 60.\n"
     ]
    },
    {
     "data": {
      "application/vnd.jupyter.widget-view+json": {
       "model_id": "a01729988c534d2b98f144b193268806",
       "version_major": 2,
       "version_minor": 0
      },
      "text/plain": [
       "  0%|          | 0/1 [00:00<?, ?it/s]"
      ]
     },
     "metadata": {},
     "output_type": "display_data"
    },
    {
     "name": "stdout",
     "output_type": "stream",
     "text": [
      "Threshold of points per transect 20 not reached. It has 4 points.\n",
      "Threshold of points per transect 18 not reached. It has 0 points.\n",
      "tr_id 18 has not enough points. Go ahead...\n",
      "Threshold of points per transect 17 not reached. It has 1 points.\n",
      "Threshold of points per transect 16 not reached. It has 1 points.\n",
      "Threshold of points per transect 15 not reached. It has 1 points.\n",
      "Threshold of points per transect 14 not reached. It has 1 points.\n",
      "Threshold of points per transect 13 not reached. It has 0 points.\n",
      "tr_id 13 has not enough points. Go ahead...\n",
      "Threshold of points per transect 12 not reached. It has 0 points.\n",
      "tr_id 12 has not enough points. Go ahead...\n",
      "Threshold of points per transect 11 not reached. It has 1 points.\n",
      "Threshold of points per transect 10 not reached. It has 0 points.\n",
      "tr_id 10 has not enough points. Go ahead...\n",
      "Threshold of points per transect 9 not reached. It has 0 points.\n",
      "tr_id 9 has not enough points. Go ahead...\n",
      "Threshold of points per transect 8 not reached. It has 1 points.\n",
      "Threshold of points per transect 6 not reached. It has 0 points.\n",
      "tr_id 6 has not enough points. Go ahead...\n",
      "Threshold of points per transect 24 not reached. It has 0 points.\n",
      "tr_id 24 has not enough points. Go ahead...\n",
      "Threshold of points per transect 23 not reached. It has 0 points.\n",
      "tr_id 23 has not enough points. Go ahead...\n",
      "Threshold of points per transect 22 not reached. It has 0 points.\n",
      "tr_id 22 has not enough points. Go ahead...\n",
      "Threshold of points per transect 21 not reached. It has 0 points.\n",
      "tr_id 21 has not enough points. Go ahead...\n",
      "Threshold of points per transect 19 not reached. It has 1 points.\n",
      "Threshold of points per transect 7 not reached. It has 0 points.\n",
      "tr_id 7 has not enough points. Go ahead...\n",
      "Threshold of points per transect 5 not reached. It has 0 points.\n",
      "tr_id 5 has not enough points. Go ahead...\n",
      "Threshold of points per transect 4 not reached. It has 0 points.\n",
      "tr_id 4 has not enough points. Go ahead...\n",
      "Threshold of points per transect 3 not reached. It has 0 points.\n",
      "tr_id 3 has not enough points. Go ahead...\n",
      "eliminating unreliable transects . . . \n",
      "Working on threshold 0 and min points 70.\n"
     ]
    },
    {
     "data": {
      "application/vnd.jupyter.widget-view+json": {
       "model_id": "648c5fa8fa1940dcb63e18da43ba6521",
       "version_major": 2,
       "version_minor": 0
      },
      "text/plain": [
       "  0%|          | 0/1 [00:00<?, ?it/s]"
      ]
     },
     "metadata": {},
     "output_type": "display_data"
    },
    {
     "name": "stdout",
     "output_type": "stream",
     "text": [
      "eliminating unreliable transects . . . \n"
     ]
    },
    {
     "name": "stderr",
     "output_type": "stream",
     "text": [
      "C:\\conda3\\envs\\sandpyper_env\\lib\\site-packages\\geopandas\\geodataframe.py:422: RuntimeWarning: Sequential read of iterator was interrupted. Resetting iterator. This can negatively impact the performance.\n",
      "  for feature in features_lst:\n",
      "C:\\conda3\\envs\\sandpyper_env\\lib\\site-packages\\geopandas\\geodataframe.py:422: RuntimeWarning: Sequential read of iterator was interrupted. Resetting iterator. This can negatively impact the performance.\n",
      "  for feature in features_lst:\n"
     ]
    },
    {
     "name": "stdout",
     "output_type": "stream",
     "text": [
      "Working on threshold 1 and min points 70.\n"
     ]
    },
    {
     "data": {
      "application/vnd.jupyter.widget-view+json": {
       "model_id": "3450d69e01f6401fb83816e94bfbfd81",
       "version_major": 2,
       "version_minor": 0
      },
      "text/plain": [
       "  0%|          | 0/1 [00:00<?, ?it/s]"
      ]
     },
     "metadata": {},
     "output_type": "display_data"
    },
    {
     "name": "stdout",
     "output_type": "stream",
     "text": [
      "eliminating unreliable transects . . . \n"
     ]
    },
    {
     "name": "stderr",
     "output_type": "stream",
     "text": [
      "C:\\conda3\\envs\\sandpyper_env\\lib\\site-packages\\geopandas\\geodataframe.py:422: RuntimeWarning: Sequential read of iterator was interrupted. Resetting iterator. This can negatively impact the performance.\n",
      "  for feature in features_lst:\n",
      "C:\\conda3\\envs\\sandpyper_env\\lib\\site-packages\\geopandas\\geodataframe.py:422: RuntimeWarning: Sequential read of iterator was interrupted. Resetting iterator. This can negatively impact the performance.\n",
      "  for feature in features_lst:\n"
     ]
    },
    {
     "name": "stdout",
     "output_type": "stream",
     "text": [
      "Working on threshold 2 and min points 70.\n"
     ]
    },
    {
     "data": {
      "application/vnd.jupyter.widget-view+json": {
       "model_id": "d3b645171f5243f3b0a335e7c43f860e",
       "version_major": 2,
       "version_minor": 0
      },
      "text/plain": [
       "  0%|          | 0/1 [00:00<?, ?it/s]"
      ]
     },
     "metadata": {},
     "output_type": "display_data"
    },
    {
     "name": "stdout",
     "output_type": "stream",
     "text": [
      "Threshold of points per transect 24 not reached. It has 54 points.\n",
      "eliminating unreliable transects . . . \n"
     ]
    },
    {
     "name": "stderr",
     "output_type": "stream",
     "text": [
      "C:\\conda3\\envs\\sandpyper_env\\lib\\site-packages\\geopandas\\geodataframe.py:422: RuntimeWarning: Sequential read of iterator was interrupted. Resetting iterator. This can negatively impact the performance.\n",
      "  for feature in features_lst:\n",
      "C:\\conda3\\envs\\sandpyper_env\\lib\\site-packages\\geopandas\\geodataframe.py:422: RuntimeWarning: Sequential read of iterator was interrupted. Resetting iterator. This can negatively impact the performance.\n",
      "  for feature in features_lst:\n"
     ]
    },
    {
     "name": "stdout",
     "output_type": "stream",
     "text": [
      "Working on threshold 3 and min points 70.\n"
     ]
    },
    {
     "data": {
      "application/vnd.jupyter.widget-view+json": {
       "model_id": "6f1c456a733e47219a5d188eaac3118e",
       "version_major": 2,
       "version_minor": 0
      },
      "text/plain": [
       "  0%|          | 0/1 [00:00<?, ?it/s]"
      ]
     },
     "metadata": {},
     "output_type": "display_data"
    },
    {
     "name": "stdout",
     "output_type": "stream",
     "text": [
      "Threshold of points per transect 24 not reached. It has 39 points.\n",
      "eliminating unreliable transects . . . \n"
     ]
    },
    {
     "name": "stderr",
     "output_type": "stream",
     "text": [
      "C:\\conda3\\envs\\sandpyper_env\\lib\\site-packages\\geopandas\\geodataframe.py:422: RuntimeWarning: Sequential read of iterator was interrupted. Resetting iterator. This can negatively impact the performance.\n",
      "  for feature in features_lst:\n",
      "C:\\conda3\\envs\\sandpyper_env\\lib\\site-packages\\geopandas\\geodataframe.py:422: RuntimeWarning: Sequential read of iterator was interrupted. Resetting iterator. This can negatively impact the performance.\n",
      "  for feature in features_lst:\n"
     ]
    },
    {
     "name": "stdout",
     "output_type": "stream",
     "text": [
      "Working on threshold 4 and min points 70.\n"
     ]
    },
    {
     "data": {
      "application/vnd.jupyter.widget-view+json": {
       "model_id": "b4ab20530ba04d7987875fb0ce472420",
       "version_major": 2,
       "version_minor": 0
      },
      "text/plain": [
       "  0%|          | 0/1 [00:00<?, ?it/s]"
      ]
     },
     "metadata": {},
     "output_type": "display_data"
    },
    {
     "name": "stdout",
     "output_type": "stream",
     "text": [
      "Threshold of points per transect 24 not reached. It has 20 points.\n",
      "eliminating unreliable transects . . . \n"
     ]
    },
    {
     "name": "stderr",
     "output_type": "stream",
     "text": [
      "C:\\conda3\\envs\\sandpyper_env\\lib\\site-packages\\geopandas\\geodataframe.py:422: RuntimeWarning: Sequential read of iterator was interrupted. Resetting iterator. This can negatively impact the performance.\n",
      "  for feature in features_lst:\n",
      "C:\\conda3\\envs\\sandpyper_env\\lib\\site-packages\\geopandas\\geodataframe.py:422: RuntimeWarning: Sequential read of iterator was interrupted. Resetting iterator. This can negatively impact the performance.\n",
      "  for feature in features_lst:\n"
     ]
    },
    {
     "name": "stdout",
     "output_type": "stream",
     "text": [
      "Working on threshold 5 and min points 70.\n"
     ]
    },
    {
     "data": {
      "application/vnd.jupyter.widget-view+json": {
       "model_id": "4f459519ce034978944421062d5e964c",
       "version_major": 2,
       "version_minor": 0
      },
      "text/plain": [
       "  0%|          | 0/1 [00:00<?, ?it/s]"
      ]
     },
     "metadata": {},
     "output_type": "display_data"
    },
    {
     "name": "stdout",
     "output_type": "stream",
     "text": [
      "Threshold of points per transect 24 not reached. It has 3 points.\n",
      "eliminating unreliable transects . . . \n"
     ]
    },
    {
     "name": "stderr",
     "output_type": "stream",
     "text": [
      "C:\\conda3\\envs\\sandpyper_env\\lib\\site-packages\\geopandas\\geodataframe.py:422: RuntimeWarning: Sequential read of iterator was interrupted. Resetting iterator. This can negatively impact the performance.\n",
      "  for feature in features_lst:\n"
     ]
    },
    {
     "name": "stdout",
     "output_type": "stream",
     "text": [
      "Working on threshold 6 and min points 70.\n"
     ]
    },
    {
     "name": "stderr",
     "output_type": "stream",
     "text": [
      "C:\\conda3\\envs\\sandpyper_env\\lib\\site-packages\\geopandas\\geodataframe.py:422: RuntimeWarning: Sequential read of iterator was interrupted. Resetting iterator. This can negatively impact the performance.\n",
      "  for feature in features_lst:\n"
     ]
    },
    {
     "data": {
      "application/vnd.jupyter.widget-view+json": {
       "model_id": "6a0eb781a805442e8eebd32b30009572",
       "version_major": 2,
       "version_minor": 0
      },
      "text/plain": [
       "  0%|          | 0/1 [00:00<?, ?it/s]"
      ]
     },
     "metadata": {},
     "output_type": "display_data"
    },
    {
     "name": "stdout",
     "output_type": "stream",
     "text": [
      "Threshold of points per transect 24 not reached. It has 0 points.\n",
      "tr_id 24 has not enough points. Go ahead...\n",
      "Threshold of points per transect 4 not reached. It has 44 points.\n",
      "Threshold of points per transect 3 not reached. It has 60 points.\n",
      "eliminating unreliable transects . . . \n"
     ]
    },
    {
     "name": "stderr",
     "output_type": "stream",
     "text": [
      "C:\\conda3\\envs\\sandpyper_env\\lib\\site-packages\\geopandas\\geodataframe.py:422: RuntimeWarning: Sequential read of iterator was interrupted. Resetting iterator. This can negatively impact the performance.\n",
      "  for feature in features_lst:\n",
      "C:\\conda3\\envs\\sandpyper_env\\lib\\site-packages\\geopandas\\geodataframe.py:422: RuntimeWarning: Sequential read of iterator was interrupted. Resetting iterator. This can negatively impact the performance.\n",
      "  for feature in features_lst:\n"
     ]
    },
    {
     "name": "stdout",
     "output_type": "stream",
     "text": [
      "Working on threshold 7 and min points 70.\n"
     ]
    },
    {
     "data": {
      "application/vnd.jupyter.widget-view+json": {
       "model_id": "c3bcf575217d4f6b87be640d6c9234bc",
       "version_major": 2,
       "version_minor": 0
      },
      "text/plain": [
       "  0%|          | 0/1 [00:00<?, ?it/s]"
      ]
     },
     "metadata": {},
     "output_type": "display_data"
    },
    {
     "name": "stdout",
     "output_type": "stream",
     "text": [
      "Threshold of points per transect 20 not reached. It has 31 points.\n",
      "Threshold of points per transect 18 not reached. It has 24 points.\n",
      "Threshold of points per transect 17 not reached. It has 36 points.\n",
      "Threshold of points per transect 16 not reached. It has 31 points.\n",
      "Threshold of points per transect 14 not reached. It has 52 points.\n",
      "Threshold of points per transect 13 not reached. It has 57 points.\n",
      "Threshold of points per transect 12 not reached. It has 29 points.\n",
      "Threshold of points per transect 11 not reached. It has 22 points.\n",
      "Threshold of points per transect 10 not reached. It has 14 points.\n",
      "Threshold of points per transect 9 not reached. It has 32 points.\n",
      "Threshold of points per transect 8 not reached. It has 47 points.\n",
      "Threshold of points per transect 6 not reached. It has 45 points.\n",
      "Threshold of points per transect 24 not reached. It has 0 points.\n",
      "tr_id 24 has not enough points. Go ahead...\n",
      "Threshold of points per transect 23 not reached. It has 52 points.\n",
      "Threshold of points per transect 22 not reached. It has 45 points.\n",
      "Threshold of points per transect 21 not reached. It has 27 points.\n",
      "Threshold of points per transect 19 not reached. It has 62 points.\n",
      "Threshold of points per transect 7 not reached. It has 68 points.\n",
      "Threshold of points per transect 5 not reached. It has 0 points.\n",
      "tr_id 5 has not enough points. Go ahead...\n",
      "Threshold of points per transect 4 not reached. It has 0 points.\n",
      "tr_id 4 has not enough points. Go ahead...\n",
      "Threshold of points per transect 3 not reached. It has 0 points.\n",
      "tr_id 3 has not enough points. Go ahead...\n",
      "eliminating unreliable transects . . . \n",
      "Skipping\n",
      "Working on threshold 8 and min points 70.\n"
     ]
    },
    {
     "data": {
      "application/vnd.jupyter.widget-view+json": {
       "model_id": "79e1802ecda84b9d97181729ecb93cb4",
       "version_major": 2,
       "version_minor": 0
      },
      "text/plain": [
       "  0%|          | 0/1 [00:00<?, ?it/s]"
      ]
     },
     "metadata": {},
     "output_type": "display_data"
    },
    {
     "name": "stdout",
     "output_type": "stream",
     "text": [
      "Threshold of points per transect 20 not reached. It has 4 points.\n",
      "Threshold of points per transect 18 not reached. It has 0 points.\n",
      "tr_id 18 has not enough points. Go ahead...\n",
      "Threshold of points per transect 17 not reached. It has 1 points.\n",
      "Threshold of points per transect 16 not reached. It has 1 points.\n",
      "Threshold of points per transect 15 not reached. It has 1 points.\n",
      "Threshold of points per transect 14 not reached. It has 1 points.\n",
      "Threshold of points per transect 13 not reached. It has 0 points.\n",
      "tr_id 13 has not enough points. Go ahead...\n",
      "Threshold of points per transect 12 not reached. It has 0 points.\n",
      "tr_id 12 has not enough points. Go ahead...\n",
      "Threshold of points per transect 11 not reached. It has 1 points.\n",
      "Threshold of points per transect 10 not reached. It has 0 points.\n",
      "tr_id 10 has not enough points. Go ahead...\n",
      "Threshold of points per transect 9 not reached. It has 0 points.\n",
      "tr_id 9 has not enough points. Go ahead...\n",
      "Threshold of points per transect 8 not reached. It has 1 points.\n",
      "Threshold of points per transect 6 not reached. It has 0 points.\n",
      "tr_id 6 has not enough points. Go ahead...\n",
      "Threshold of points per transect 24 not reached. It has 0 points.\n",
      "tr_id 24 has not enough points. Go ahead...\n",
      "Threshold of points per transect 23 not reached. It has 0 points.\n",
      "tr_id 23 has not enough points. Go ahead...\n",
      "Threshold of points per transect 22 not reached. It has 0 points.\n",
      "tr_id 22 has not enough points. Go ahead...\n",
      "Threshold of points per transect 21 not reached. It has 0 points.\n",
      "tr_id 21 has not enough points. Go ahead...\n",
      "Threshold of points per transect 19 not reached. It has 1 points.\n",
      "Threshold of points per transect 7 not reached. It has 0 points.\n",
      "tr_id 7 has not enough points. Go ahead...\n",
      "Threshold of points per transect 5 not reached. It has 0 points.\n",
      "tr_id 5 has not enough points. Go ahead...\n",
      "Threshold of points per transect 4 not reached. It has 0 points.\n",
      "tr_id 4 has not enough points. Go ahead...\n",
      "Threshold of points per transect 3 not reached. It has 0 points.\n",
      "tr_id 3 has not enough points. Go ahead...\n",
      "eliminating unreliable transects . . . \n",
      "Working on threshold 0 and min points 80.\n"
     ]
    },
    {
     "data": {
      "application/vnd.jupyter.widget-view+json": {
       "model_id": "0ad45aed30b14137bec04378ef7029e8",
       "version_major": 2,
       "version_minor": 0
      },
      "text/plain": [
       "  0%|          | 0/1 [00:00<?, ?it/s]"
      ]
     },
     "metadata": {},
     "output_type": "display_data"
    },
    {
     "name": "stdout",
     "output_type": "stream",
     "text": [
      "Threshold of points per transect 24 not reached. It has 79 points.\n",
      "eliminating unreliable transects . . . \n"
     ]
    },
    {
     "name": "stderr",
     "output_type": "stream",
     "text": [
      "C:\\conda3\\envs\\sandpyper_env\\lib\\site-packages\\geopandas\\geodataframe.py:422: RuntimeWarning: Sequential read of iterator was interrupted. Resetting iterator. This can negatively impact the performance.\n",
      "  for feature in features_lst:\n",
      "C:\\conda3\\envs\\sandpyper_env\\lib\\site-packages\\geopandas\\geodataframe.py:422: RuntimeWarning: Sequential read of iterator was interrupted. Resetting iterator. This can negatively impact the performance.\n",
      "  for feature in features_lst:\n"
     ]
    },
    {
     "name": "stdout",
     "output_type": "stream",
     "text": [
      "Working on threshold 1 and min points 80.\n"
     ]
    },
    {
     "data": {
      "application/vnd.jupyter.widget-view+json": {
       "model_id": "1dc62846c0fe4a1c82f710f22951ac48",
       "version_major": 2,
       "version_minor": 0
      },
      "text/plain": [
       "  0%|          | 0/1 [00:00<?, ?it/s]"
      ]
     },
     "metadata": {},
     "output_type": "display_data"
    },
    {
     "name": "stdout",
     "output_type": "stream",
     "text": [
      "Threshold of points per transect 24 not reached. It has 79 points.\n",
      "eliminating unreliable transects . . . \n"
     ]
    },
    {
     "name": "stderr",
     "output_type": "stream",
     "text": [
      "C:\\conda3\\envs\\sandpyper_env\\lib\\site-packages\\geopandas\\geodataframe.py:422: RuntimeWarning: Sequential read of iterator was interrupted. Resetting iterator. This can negatively impact the performance.\n",
      "  for feature in features_lst:\n",
      "C:\\conda3\\envs\\sandpyper_env\\lib\\site-packages\\geopandas\\geodataframe.py:422: RuntimeWarning: Sequential read of iterator was interrupted. Resetting iterator. This can negatively impact the performance.\n",
      "  for feature in features_lst:\n"
     ]
    },
    {
     "name": "stdout",
     "output_type": "stream",
     "text": [
      "Working on threshold 2 and min points 80.\n"
     ]
    },
    {
     "data": {
      "application/vnd.jupyter.widget-view+json": {
       "model_id": "8118377d8b9d492694010719134ce56f",
       "version_major": 2,
       "version_minor": 0
      },
      "text/plain": [
       "  0%|          | 0/1 [00:00<?, ?it/s]"
      ]
     },
     "metadata": {},
     "output_type": "display_data"
    },
    {
     "name": "stdout",
     "output_type": "stream",
     "text": [
      "Threshold of points per transect 24 not reached. It has 54 points.\n",
      "eliminating unreliable transects . . . \n"
     ]
    },
    {
     "name": "stderr",
     "output_type": "stream",
     "text": [
      "C:\\conda3\\envs\\sandpyper_env\\lib\\site-packages\\geopandas\\geodataframe.py:422: RuntimeWarning: Sequential read of iterator was interrupted. Resetting iterator. This can negatively impact the performance.\n",
      "  for feature in features_lst:\n",
      "C:\\conda3\\envs\\sandpyper_env\\lib\\site-packages\\geopandas\\geodataframe.py:422: RuntimeWarning: Sequential read of iterator was interrupted. Resetting iterator. This can negatively impact the performance.\n",
      "  for feature in features_lst:\n"
     ]
    },
    {
     "name": "stdout",
     "output_type": "stream",
     "text": [
      "Working on threshold 3 and min points 80.\n"
     ]
    },
    {
     "data": {
      "application/vnd.jupyter.widget-view+json": {
       "model_id": "dc278ca3b91449f381f7b3bf243fe3be",
       "version_major": 2,
       "version_minor": 0
      },
      "text/plain": [
       "  0%|          | 0/1 [00:00<?, ?it/s]"
      ]
     },
     "metadata": {},
     "output_type": "display_data"
    },
    {
     "name": "stdout",
     "output_type": "stream",
     "text": [
      "Threshold of points per transect 24 not reached. It has 39 points.\n",
      "eliminating unreliable transects . . . \n"
     ]
    },
    {
     "name": "stderr",
     "output_type": "stream",
     "text": [
      "C:\\conda3\\envs\\sandpyper_env\\lib\\site-packages\\geopandas\\geodataframe.py:422: RuntimeWarning: Sequential read of iterator was interrupted. Resetting iterator. This can negatively impact the performance.\n",
      "  for feature in features_lst:\n",
      "C:\\conda3\\envs\\sandpyper_env\\lib\\site-packages\\geopandas\\geodataframe.py:422: RuntimeWarning: Sequential read of iterator was interrupted. Resetting iterator. This can negatively impact the performance.\n",
      "  for feature in features_lst:\n"
     ]
    },
    {
     "name": "stdout",
     "output_type": "stream",
     "text": [
      "Working on threshold 4 and min points 80.\n"
     ]
    },
    {
     "data": {
      "application/vnd.jupyter.widget-view+json": {
       "model_id": "f807633bb126445ca72a84b75d0567b4",
       "version_major": 2,
       "version_minor": 0
      },
      "text/plain": [
       "  0%|          | 0/1 [00:00<?, ?it/s]"
      ]
     },
     "metadata": {},
     "output_type": "display_data"
    },
    {
     "name": "stdout",
     "output_type": "stream",
     "text": [
      "Threshold of points per transect 24 not reached. It has 20 points.\n",
      "eliminating unreliable transects . . . \n"
     ]
    },
    {
     "name": "stderr",
     "output_type": "stream",
     "text": [
      "C:\\conda3\\envs\\sandpyper_env\\lib\\site-packages\\geopandas\\geodataframe.py:422: RuntimeWarning: Sequential read of iterator was interrupted. Resetting iterator. This can negatively impact the performance.\n",
      "  for feature in features_lst:\n",
      "C:\\conda3\\envs\\sandpyper_env\\lib\\site-packages\\geopandas\\geodataframe.py:422: RuntimeWarning: Sequential read of iterator was interrupted. Resetting iterator. This can negatively impact the performance.\n",
      "  for feature in features_lst:\n"
     ]
    },
    {
     "name": "stdout",
     "output_type": "stream",
     "text": [
      "Working on threshold 5 and min points 80.\n"
     ]
    },
    {
     "data": {
      "application/vnd.jupyter.widget-view+json": {
       "model_id": "85d49978043d41c8a854e4df84594b79",
       "version_major": 2,
       "version_minor": 0
      },
      "text/plain": [
       "  0%|          | 0/1 [00:00<?, ?it/s]"
      ]
     },
     "metadata": {},
     "output_type": "display_data"
    },
    {
     "name": "stdout",
     "output_type": "stream",
     "text": [
      "Threshold of points per transect 24 not reached. It has 3 points.\n",
      "eliminating unreliable transects . . . \n"
     ]
    },
    {
     "name": "stderr",
     "output_type": "stream",
     "text": [
      "C:\\conda3\\envs\\sandpyper_env\\lib\\site-packages\\geopandas\\geodataframe.py:422: RuntimeWarning: Sequential read of iterator was interrupted. Resetting iterator. This can negatively impact the performance.\n",
      "  for feature in features_lst:\n",
      "C:\\conda3\\envs\\sandpyper_env\\lib\\site-packages\\geopandas\\geodataframe.py:422: RuntimeWarning: Sequential read of iterator was interrupted. Resetting iterator. This can negatively impact the performance.\n",
      "  for feature in features_lst:\n"
     ]
    },
    {
     "name": "stdout",
     "output_type": "stream",
     "text": [
      "Working on threshold 6 and min points 80.\n"
     ]
    },
    {
     "data": {
      "application/vnd.jupyter.widget-view+json": {
       "model_id": "00e045a5d93846a1bd46fb27cb25ae8a",
       "version_major": 2,
       "version_minor": 0
      },
      "text/plain": [
       "  0%|          | 0/1 [00:00<?, ?it/s]"
      ]
     },
     "metadata": {},
     "output_type": "display_data"
    },
    {
     "name": "stdout",
     "output_type": "stream",
     "text": [
      "Threshold of points per transect 24 not reached. It has 0 points.\n",
      "tr_id 24 has not enough points. Go ahead...\n",
      "Threshold of points per transect 4 not reached. It has 44 points.\n",
      "Threshold of points per transect 3 not reached. It has 60 points.\n",
      "eliminating unreliable transects . . . \n"
     ]
    },
    {
     "name": "stderr",
     "output_type": "stream",
     "text": [
      "C:\\conda3\\envs\\sandpyper_env\\lib\\site-packages\\geopandas\\geodataframe.py:422: RuntimeWarning: Sequential read of iterator was interrupted. Resetting iterator. This can negatively impact the performance.\n",
      "  for feature in features_lst:\n",
      "C:\\conda3\\envs\\sandpyper_env\\lib\\site-packages\\geopandas\\geodataframe.py:422: RuntimeWarning: Sequential read of iterator was interrupted. Resetting iterator. This can negatively impact the performance.\n",
      "  for feature in features_lst:\n"
     ]
    },
    {
     "name": "stdout",
     "output_type": "stream",
     "text": [
      "Working on threshold 7 and min points 80.\n"
     ]
    },
    {
     "data": {
      "application/vnd.jupyter.widget-view+json": {
       "model_id": "7547129ba45a45b99fc194f08a62729b",
       "version_major": 2,
       "version_minor": 0
      },
      "text/plain": [
       "  0%|          | 0/1 [00:00<?, ?it/s]"
      ]
     },
     "metadata": {},
     "output_type": "display_data"
    },
    {
     "name": "stdout",
     "output_type": "stream",
     "text": [
      "Threshold of points per transect 20 not reached. It has 31 points.\n",
      "Threshold of points per transect 18 not reached. It has 24 points.\n",
      "Threshold of points per transect 17 not reached. It has 36 points.\n",
      "Threshold of points per transect 16 not reached. It has 31 points.\n",
      "Threshold of points per transect 15 not reached. It has 76 points.\n",
      "Threshold of points per transect 14 not reached. It has 52 points.\n",
      "Threshold of points per transect 13 not reached. It has 57 points.\n",
      "Threshold of points per transect 12 not reached. It has 29 points.\n",
      "Threshold of points per transect 11 not reached. It has 22 points.\n",
      "Threshold of points per transect 10 not reached. It has 14 points.\n",
      "Threshold of points per transect 9 not reached. It has 32 points.\n",
      "Threshold of points per transect 8 not reached. It has 47 points.\n",
      "Threshold of points per transect 6 not reached. It has 45 points.\n",
      "Threshold of points per transect 24 not reached. It has 0 points.\n",
      "tr_id 24 has not enough points. Go ahead...\n",
      "Threshold of points per transect 23 not reached. It has 52 points.\n",
      "Threshold of points per transect 22 not reached. It has 45 points.\n",
      "Threshold of points per transect 21 not reached. It has 27 points.\n",
      "Threshold of points per transect 19 not reached. It has 62 points.\n",
      "Threshold of points per transect 7 not reached. It has 68 points.\n",
      "Threshold of points per transect 5 not reached. It has 0 points.\n",
      "tr_id 5 has not enough points. Go ahead...\n",
      "Threshold of points per transect 4 not reached. It has 0 points.\n",
      "tr_id 4 has not enough points. Go ahead...\n",
      "Threshold of points per transect 3 not reached. It has 0 points.\n",
      "tr_id 3 has not enough points. Go ahead...\n",
      "eliminating unreliable transects . . . \n",
      "Working on threshold 8 and min points 80.\n"
     ]
    },
    {
     "data": {
      "application/vnd.jupyter.widget-view+json": {
       "model_id": "773e10045fe14ecdac06715e3c103b74",
       "version_major": 2,
       "version_minor": 0
      },
      "text/plain": [
       "  0%|          | 0/1 [00:00<?, ?it/s]"
      ]
     },
     "metadata": {},
     "output_type": "display_data"
    },
    {
     "name": "stdout",
     "output_type": "stream",
     "text": [
      "Threshold of points per transect 20 not reached. It has 4 points.\n",
      "Threshold of points per transect 18 not reached. It has 0 points.\n",
      "tr_id 18 has not enough points. Go ahead...\n",
      "Threshold of points per transect 17 not reached. It has 1 points.\n",
      "Threshold of points per transect 16 not reached. It has 1 points.\n",
      "Threshold of points per transect 15 not reached. It has 1 points.\n",
      "Threshold of points per transect 14 not reached. It has 1 points.\n",
      "Threshold of points per transect 13 not reached. It has 0 points.\n",
      "tr_id 13 has not enough points. Go ahead...\n",
      "Threshold of points per transect 12 not reached. It has 0 points.\n",
      "tr_id 12 has not enough points. Go ahead...\n",
      "Threshold of points per transect 11 not reached. It has 1 points.\n",
      "Threshold of points per transect 10 not reached. It has 0 points.\n",
      "tr_id 10 has not enough points. Go ahead...\n",
      "Threshold of points per transect 9 not reached. It has 0 points.\n",
      "tr_id 9 has not enough points. Go ahead...\n",
      "Threshold of points per transect 8 not reached. It has 1 points.\n",
      "Threshold of points per transect 6 not reached. It has 0 points.\n",
      "tr_id 6 has not enough points. Go ahead...\n",
      "Threshold of points per transect 24 not reached. It has 0 points.\n",
      "tr_id 24 has not enough points. Go ahead...\n",
      "Threshold of points per transect 23 not reached. It has 0 points.\n",
      "tr_id 23 has not enough points. Go ahead...\n",
      "Threshold of points per transect 22 not reached. It has 0 points.\n",
      "tr_id 22 has not enough points. Go ahead...\n",
      "Threshold of points per transect 21 not reached. It has 0 points.\n",
      "tr_id 21 has not enough points. Go ahead...\n",
      "Threshold of points per transect 19 not reached. It has 1 points.\n",
      "Threshold of points per transect 7 not reached. It has 0 points.\n",
      "tr_id 7 has not enough points. Go ahead...\n",
      "Threshold of points per transect 5 not reached. It has 0 points.\n",
      "tr_id 5 has not enough points. Go ahead...\n",
      "Threshold of points per transect 4 not reached. It has 0 points.\n",
      "tr_id 4 has not enough points. Go ahead...\n",
      "Threshold of points per transect 3 not reached. It has 0 points.\n",
      "tr_id 3 has not enough points. Go ahead...\n",
      "eliminating unreliable transects . . . \n",
      "Working on threshold 0 and min points 90.\n"
     ]
    },
    {
     "data": {
      "application/vnd.jupyter.widget-view+json": {
       "model_id": "dee32ade7e7d423991f194e8701f3ee0",
       "version_major": 2,
       "version_minor": 0
      },
      "text/plain": [
       "  0%|          | 0/1 [00:00<?, ?it/s]"
      ]
     },
     "metadata": {},
     "output_type": "display_data"
    },
    {
     "name": "stdout",
     "output_type": "stream",
     "text": [
      "Threshold of points per transect 24 not reached. It has 79 points.\n",
      "eliminating unreliable transects . . . \n"
     ]
    },
    {
     "name": "stderr",
     "output_type": "stream",
     "text": [
      "C:\\conda3\\envs\\sandpyper_env\\lib\\site-packages\\geopandas\\geodataframe.py:422: RuntimeWarning: Sequential read of iterator was interrupted. Resetting iterator. This can negatively impact the performance.\n",
      "  for feature in features_lst:\n",
      "C:\\conda3\\envs\\sandpyper_env\\lib\\site-packages\\geopandas\\geodataframe.py:422: RuntimeWarning: Sequential read of iterator was interrupted. Resetting iterator. This can negatively impact the performance.\n",
      "  for feature in features_lst:\n"
     ]
    },
    {
     "name": "stdout",
     "output_type": "stream",
     "text": [
      "Working on threshold 1 and min points 90.\n"
     ]
    },
    {
     "data": {
      "application/vnd.jupyter.widget-view+json": {
       "model_id": "be305a7820754c5f8a6b8aea1a86ebc3",
       "version_major": 2,
       "version_minor": 0
      },
      "text/plain": [
       "  0%|          | 0/1 [00:00<?, ?it/s]"
      ]
     },
     "metadata": {},
     "output_type": "display_data"
    },
    {
     "name": "stdout",
     "output_type": "stream",
     "text": [
      "Threshold of points per transect 24 not reached. It has 79 points.\n",
      "eliminating unreliable transects . . . \n"
     ]
    },
    {
     "name": "stderr",
     "output_type": "stream",
     "text": [
      "C:\\conda3\\envs\\sandpyper_env\\lib\\site-packages\\geopandas\\geodataframe.py:422: RuntimeWarning: Sequential read of iterator was interrupted. Resetting iterator. This can negatively impact the performance.\n",
      "  for feature in features_lst:\n",
      "C:\\conda3\\envs\\sandpyper_env\\lib\\site-packages\\geopandas\\geodataframe.py:422: RuntimeWarning: Sequential read of iterator was interrupted. Resetting iterator. This can negatively impact the performance.\n",
      "  for feature in features_lst:\n"
     ]
    },
    {
     "name": "stdout",
     "output_type": "stream",
     "text": [
      "Working on threshold 2 and min points 90.\n"
     ]
    },
    {
     "data": {
      "application/vnd.jupyter.widget-view+json": {
       "model_id": "f539a63f898a41e88b89e47da68c44a7",
       "version_major": 2,
       "version_minor": 0
      },
      "text/plain": [
       "  0%|          | 0/1 [00:00<?, ?it/s]"
      ]
     },
     "metadata": {},
     "output_type": "display_data"
    },
    {
     "name": "stdout",
     "output_type": "stream",
     "text": [
      "Threshold of points per transect 24 not reached. It has 54 points.\n",
      "eliminating unreliable transects . . . \n"
     ]
    },
    {
     "name": "stderr",
     "output_type": "stream",
     "text": [
      "C:\\conda3\\envs\\sandpyper_env\\lib\\site-packages\\geopandas\\geodataframe.py:422: RuntimeWarning: Sequential read of iterator was interrupted. Resetting iterator. This can negatively impact the performance.\n",
      "  for feature in features_lst:\n",
      "C:\\conda3\\envs\\sandpyper_env\\lib\\site-packages\\geopandas\\geodataframe.py:422: RuntimeWarning: Sequential read of iterator was interrupted. Resetting iterator. This can negatively impact the performance.\n",
      "  for feature in features_lst:\n"
     ]
    },
    {
     "name": "stdout",
     "output_type": "stream",
     "text": [
      "Working on threshold 3 and min points 90.\n"
     ]
    },
    {
     "data": {
      "application/vnd.jupyter.widget-view+json": {
       "model_id": "6264e7f3a5394d72a89d468850105bd0",
       "version_major": 2,
       "version_minor": 0
      },
      "text/plain": [
       "  0%|          | 0/1 [00:00<?, ?it/s]"
      ]
     },
     "metadata": {},
     "output_type": "display_data"
    },
    {
     "name": "stdout",
     "output_type": "stream",
     "text": [
      "Threshold of points per transect 24 not reached. It has 39 points.\n",
      "eliminating unreliable transects . . . \n"
     ]
    },
    {
     "name": "stderr",
     "output_type": "stream",
     "text": [
      "C:\\conda3\\envs\\sandpyper_env\\lib\\site-packages\\geopandas\\geodataframe.py:422: RuntimeWarning: Sequential read of iterator was interrupted. Resetting iterator. This can negatively impact the performance.\n",
      "  for feature in features_lst:\n",
      "C:\\conda3\\envs\\sandpyper_env\\lib\\site-packages\\geopandas\\geodataframe.py:422: RuntimeWarning: Sequential read of iterator was interrupted. Resetting iterator. This can negatively impact the performance.\n",
      "  for feature in features_lst:\n"
     ]
    },
    {
     "name": "stdout",
     "output_type": "stream",
     "text": [
      "Working on threshold 4 and min points 90.\n"
     ]
    },
    {
     "data": {
      "application/vnd.jupyter.widget-view+json": {
       "model_id": "94ca4a1c5b5c4871979567576d071b91",
       "version_major": 2,
       "version_minor": 0
      },
      "text/plain": [
       "  0%|          | 0/1 [00:00<?, ?it/s]"
      ]
     },
     "metadata": {},
     "output_type": "display_data"
    },
    {
     "name": "stdout",
     "output_type": "stream",
     "text": [
      "Threshold of points per transect 24 not reached. It has 20 points.\n",
      "eliminating unreliable transects . . . \n"
     ]
    },
    {
     "name": "stderr",
     "output_type": "stream",
     "text": [
      "C:\\conda3\\envs\\sandpyper_env\\lib\\site-packages\\geopandas\\geodataframe.py:422: RuntimeWarning: Sequential read of iterator was interrupted. Resetting iterator. This can negatively impact the performance.\n",
      "  for feature in features_lst:\n",
      "C:\\conda3\\envs\\sandpyper_env\\lib\\site-packages\\geopandas\\geodataframe.py:422: RuntimeWarning: Sequential read of iterator was interrupted. Resetting iterator. This can negatively impact the performance.\n",
      "  for feature in features_lst:\n"
     ]
    },
    {
     "name": "stdout",
     "output_type": "stream",
     "text": [
      "Working on threshold 5 and min points 90.\n"
     ]
    },
    {
     "data": {
      "application/vnd.jupyter.widget-view+json": {
       "model_id": "fabc2476a5ab4f66a237810cdcb7a15e",
       "version_major": 2,
       "version_minor": 0
      },
      "text/plain": [
       "  0%|          | 0/1 [00:00<?, ?it/s]"
      ]
     },
     "metadata": {},
     "output_type": "display_data"
    },
    {
     "name": "stdout",
     "output_type": "stream",
     "text": [
      "Threshold of points per transect 24 not reached. It has 3 points.\n",
      "eliminating unreliable transects . . . \n"
     ]
    },
    {
     "name": "stderr",
     "output_type": "stream",
     "text": [
      "C:\\conda3\\envs\\sandpyper_env\\lib\\site-packages\\geopandas\\geodataframe.py:422: RuntimeWarning: Sequential read of iterator was interrupted. Resetting iterator. This can negatively impact the performance.\n",
      "  for feature in features_lst:\n",
      "C:\\conda3\\envs\\sandpyper_env\\lib\\site-packages\\geopandas\\geodataframe.py:422: RuntimeWarning: Sequential read of iterator was interrupted. Resetting iterator. This can negatively impact the performance.\n",
      "  for feature in features_lst:\n"
     ]
    },
    {
     "name": "stdout",
     "output_type": "stream",
     "text": [
      "Working on threshold 6 and min points 90.\n"
     ]
    },
    {
     "data": {
      "application/vnd.jupyter.widget-view+json": {
       "model_id": "5108d963f9704b6e8eaba68ef98a0884",
       "version_major": 2,
       "version_minor": 0
      },
      "text/plain": [
       "  0%|          | 0/1 [00:00<?, ?it/s]"
      ]
     },
     "metadata": {},
     "output_type": "display_data"
    },
    {
     "name": "stdout",
     "output_type": "stream",
     "text": [
      "Threshold of points per transect 24 not reached. It has 0 points.\n",
      "tr_id 24 has not enough points. Go ahead...\n",
      "Threshold of points per transect 4 not reached. It has 44 points.\n",
      "Threshold of points per transect 3 not reached. It has 60 points.\n",
      "eliminating unreliable transects . . . \n"
     ]
    },
    {
     "name": "stderr",
     "output_type": "stream",
     "text": [
      "C:\\conda3\\envs\\sandpyper_env\\lib\\site-packages\\geopandas\\geodataframe.py:422: RuntimeWarning: Sequential read of iterator was interrupted. Resetting iterator. This can negatively impact the performance.\n",
      "  for feature in features_lst:\n",
      "C:\\conda3\\envs\\sandpyper_env\\lib\\site-packages\\geopandas\\geodataframe.py:422: RuntimeWarning: Sequential read of iterator was interrupted. Resetting iterator. This can negatively impact the performance.\n",
      "  for feature in features_lst:\n"
     ]
    },
    {
     "name": "stdout",
     "output_type": "stream",
     "text": [
      "Working on threshold 7 and min points 90.\n"
     ]
    },
    {
     "data": {
      "application/vnd.jupyter.widget-view+json": {
       "model_id": "bf0a2385d37a4300a69db3baf37b53a4",
       "version_major": 2,
       "version_minor": 0
      },
      "text/plain": [
       "  0%|          | 0/1 [00:00<?, ?it/s]"
      ]
     },
     "metadata": {},
     "output_type": "display_data"
    },
    {
     "name": "stdout",
     "output_type": "stream",
     "text": [
      "Threshold of points per transect 20 not reached. It has 31 points.\n",
      "Threshold of points per transect 18 not reached. It has 24 points.\n",
      "Threshold of points per transect 17 not reached. It has 36 points.\n",
      "Threshold of points per transect 16 not reached. It has 31 points.\n",
      "Threshold of points per transect 15 not reached. It has 76 points.\n",
      "Threshold of points per transect 14 not reached. It has 52 points.\n",
      "Threshold of points per transect 13 not reached. It has 57 points.\n",
      "Threshold of points per transect 12 not reached. It has 29 points.\n",
      "Threshold of points per transect 11 not reached. It has 22 points.\n",
      "Threshold of points per transect 10 not reached. It has 14 points.\n",
      "Threshold of points per transect 9 not reached. It has 32 points.\n",
      "Threshold of points per transect 8 not reached. It has 47 points.\n",
      "Threshold of points per transect 6 not reached. It has 45 points.\n",
      "Threshold of points per transect 24 not reached. It has 0 points.\n",
      "tr_id 24 has not enough points. Go ahead...\n",
      "Threshold of points per transect 23 not reached. It has 52 points.\n",
      "Threshold of points per transect 22 not reached. It has 45 points.\n",
      "Threshold of points per transect 21 not reached. It has 27 points.\n",
      "Threshold of points per transect 19 not reached. It has 62 points.\n",
      "Threshold of points per transect 7 not reached. It has 68 points.\n",
      "Threshold of points per transect 5 not reached. It has 0 points.\n",
      "tr_id 5 has not enough points. Go ahead...\n",
      "Threshold of points per transect 4 not reached. It has 0 points.\n",
      "tr_id 4 has not enough points. Go ahead...\n",
      "Threshold of points per transect 3 not reached. It has 0 points.\n",
      "tr_id 3 has not enough points. Go ahead...\n",
      "eliminating unreliable transects . . . \n",
      "Working on threshold 8 and min points 90.\n"
     ]
    },
    {
     "data": {
      "application/vnd.jupyter.widget-view+json": {
       "model_id": "6b694f3eece241c69039edf0c6069717",
       "version_major": 2,
       "version_minor": 0
      },
      "text/plain": [
       "  0%|          | 0/1 [00:00<?, ?it/s]"
      ]
     },
     "metadata": {},
     "output_type": "display_data"
    },
    {
     "name": "stdout",
     "output_type": "stream",
     "text": [
      "Threshold of points per transect 20 not reached. It has 4 points.\n",
      "Threshold of points per transect 18 not reached. It has 0 points.\n",
      "tr_id 18 has not enough points. Go ahead...\n",
      "Threshold of points per transect 17 not reached. It has 1 points.\n",
      "Threshold of points per transect 16 not reached. It has 1 points.\n",
      "Threshold of points per transect 15 not reached. It has 1 points.\n",
      "Threshold of points per transect 14 not reached. It has 1 points.\n",
      "Threshold of points per transect 13 not reached. It has 0 points.\n",
      "tr_id 13 has not enough points. Go ahead...\n",
      "Threshold of points per transect 12 not reached. It has 0 points.\n",
      "tr_id 12 has not enough points. Go ahead...\n",
      "Threshold of points per transect 11 not reached. It has 1 points.\n",
      "Threshold of points per transect 10 not reached. It has 0 points.\n",
      "tr_id 10 has not enough points. Go ahead...\n",
      "Threshold of points per transect 9 not reached. It has 0 points.\n",
      "tr_id 9 has not enough points. Go ahead...\n",
      "Threshold of points per transect 8 not reached. It has 1 points.\n",
      "Threshold of points per transect 6 not reached. It has 0 points.\n",
      "tr_id 6 has not enough points. Go ahead...\n",
      "Threshold of points per transect 24 not reached. It has 0 points.\n",
      "tr_id 24 has not enough points. Go ahead...\n",
      "Threshold of points per transect 23 not reached. It has 0 points.\n",
      "tr_id 23 has not enough points. Go ahead...\n",
      "Threshold of points per transect 22 not reached. It has 0 points.\n",
      "tr_id 22 has not enough points. Go ahead...\n",
      "Threshold of points per transect 21 not reached. It has 0 points.\n",
      "tr_id 21 has not enough points. Go ahead...\n",
      "Threshold of points per transect 19 not reached. It has 1 points.\n",
      "Threshold of points per transect 7 not reached. It has 0 points.\n",
      "tr_id 7 has not enough points. Go ahead...\n",
      "Threshold of points per transect 5 not reached. It has 0 points.\n",
      "tr_id 5 has not enough points. Go ahead...\n",
      "Threshold of points per transect 4 not reached. It has 0 points.\n",
      "tr_id 4 has not enough points. Go ahead...\n",
      "Threshold of points per transect 3 not reached. It has 0 points.\n",
      "tr_id 3 has not enough points. Go ahead...\n",
      "eliminating unreliable transects . . . \n",
      "Wall time: 1min 28s\n"
     ]
    },
    {
     "data": {
      "text/html": [
       "<div>\n",
       "<style scoped>\n",
       "    .dataframe tbody tr th:only-of-type {\n",
       "        vertical-align: middle;\n",
       "    }\n",
       "\n",
       "    .dataframe tbody tr th {\n",
       "        vertical-align: top;\n",
       "    }\n",
       "\n",
       "    .dataframe thead th {\n",
       "        text-align: right;\n",
       "    }\n",
       "</style>\n",
       "<table border=\"1\" class=\"dataframe\">\n",
       "  <thead>\n",
       "    <tr style=\"text-align: right;\">\n",
       "      <th>process</th>\n",
       "      <th>location</th>\n",
       "      <th>tr_id</th>\n",
       "      <th>deposition</th>\n",
       "      <th>erosion</th>\n",
       "      <th>residual</th>\n",
       "      <th>geometry</th>\n",
       "      <th>thresh</th>\n",
       "      <th>min_pts</th>\n",
       "    </tr>\n",
       "  </thead>\n",
       "  <tbody>\n",
       "    <tr>\n",
       "      <th>0</th>\n",
       "      <td>mar</td>\n",
       "      <td>3</td>\n",
       "      <td>0.424080</td>\n",
       "      <td>0.356589</td>\n",
       "      <td>0.067491</td>\n",
       "      <td>MULTILINESTRING ((731512.461 5705151.584, 7314...</td>\n",
       "      <td>0</td>\n",
       "      <td>0</td>\n",
       "    </tr>\n",
       "    <tr>\n",
       "      <th>1</th>\n",
       "      <td>mar</td>\n",
       "      <td>4</td>\n",
       "      <td>0.464567</td>\n",
       "      <td>0.336649</td>\n",
       "      <td>0.127919</td>\n",
       "      <td>MULTILINESTRING ((731514.605 5705171.469, 7314...</td>\n",
       "      <td>0</td>\n",
       "      <td>0</td>\n",
       "    </tr>\n",
       "    <tr>\n",
       "      <th>2</th>\n",
       "      <td>mar</td>\n",
       "      <td>5</td>\n",
       "      <td>0.375602</td>\n",
       "      <td>0.388622</td>\n",
       "      <td>-0.013021</td>\n",
       "      <td>MULTILINESTRING ((731516.749 5705191.354, 7314...</td>\n",
       "      <td>0</td>\n",
       "      <td>0</td>\n",
       "    </tr>\n",
       "    <tr>\n",
       "      <th>3</th>\n",
       "      <td>mar</td>\n",
       "      <td>6</td>\n",
       "      <td>0.296762</td>\n",
       "      <td>0.176257</td>\n",
       "      <td>0.120505</td>\n",
       "      <td>MULTILINESTRING ((731518.785 5705210.340, 7314...</td>\n",
       "      <td>0</td>\n",
       "      <td>0</td>\n",
       "    </tr>\n",
       "    <tr>\n",
       "      <th>4</th>\n",
       "      <td>mar</td>\n",
       "      <td>7</td>\n",
       "      <td>0.460313</td>\n",
       "      <td>0.196794</td>\n",
       "      <td>0.263519</td>\n",
       "      <td>MULTILINESTRING ((731521.351 5705227.262, 7314...</td>\n",
       "      <td>0</td>\n",
       "      <td>0</td>\n",
       "    </tr>\n",
       "    <tr>\n",
       "      <th>...</th>\n",
       "      <td>...</td>\n",
       "      <td>...</td>\n",
       "      <td>...</td>\n",
       "      <td>...</td>\n",
       "      <td>...</td>\n",
       "      <td>...</td>\n",
       "      <td>...</td>\n",
       "      <td>...</td>\n",
       "    </tr>\n",
       "    <tr>\n",
       "      <th>1571</th>\n",
       "      <td>mar</td>\n",
       "      <td>19</td>\n",
       "      <td>0.643998</td>\n",
       "      <td>0.153892</td>\n",
       "      <td>0.490106</td>\n",
       "      <td>MULTILINESTRING ((731596.497 5705443.265, 7315...</td>\n",
       "      <td>6</td>\n",
       "      <td>90</td>\n",
       "    </tr>\n",
       "    <tr>\n",
       "      <th>1572</th>\n",
       "      <td>mar</td>\n",
       "      <td>20</td>\n",
       "      <td>0.503569</td>\n",
       "      <td>0.331634</td>\n",
       "      <td>0.171935</td>\n",
       "      <td>MULTILINESTRING ((731605.216 5705457.524, 7315...</td>\n",
       "      <td>6</td>\n",
       "      <td>90</td>\n",
       "    </tr>\n",
       "    <tr>\n",
       "      <th>1573</th>\n",
       "      <td>mar</td>\n",
       "      <td>21</td>\n",
       "      <td>0.477398</td>\n",
       "      <td>0.418235</td>\n",
       "      <td>0.059163</td>\n",
       "      <td>MULTILINESTRING ((731615.645 5705474.209, 7315...</td>\n",
       "      <td>6</td>\n",
       "      <td>90</td>\n",
       "    </tr>\n",
       "    <tr>\n",
       "      <th>1574</th>\n",
       "      <td>mar</td>\n",
       "      <td>22</td>\n",
       "      <td>0.477237</td>\n",
       "      <td>0.426491</td>\n",
       "      <td>0.050746</td>\n",
       "      <td>MULTILINESTRING ((731626.245 5705491.168, 7315...</td>\n",
       "      <td>6</td>\n",
       "      <td>90</td>\n",
       "    </tr>\n",
       "    <tr>\n",
       "      <th>1575</th>\n",
       "      <td>mar</td>\n",
       "      <td>23</td>\n",
       "      <td>0.555038</td>\n",
       "      <td>0.343017</td>\n",
       "      <td>0.212021</td>\n",
       "      <td>MULTILINESTRING ((731636.613 5705507.762, 7315...</td>\n",
       "      <td>6</td>\n",
       "      <td>90</td>\n",
       "    </tr>\n",
       "  </tbody>\n",
       "</table>\n",
       "<p>1576 rows × 8 columns</p>\n",
       "</div>"
      ],
      "text/plain": [
       "process location  tr_id  deposition   erosion  residual  \\\n",
       "0            mar      3    0.424080  0.356589  0.067491   \n",
       "1            mar      4    0.464567  0.336649  0.127919   \n",
       "2            mar      5    0.375602  0.388622 -0.013021   \n",
       "3            mar      6    0.296762  0.176257  0.120505   \n",
       "4            mar      7    0.460313  0.196794  0.263519   \n",
       "...          ...    ...         ...       ...       ...   \n",
       "1571         mar     19    0.643998  0.153892  0.490106   \n",
       "1572         mar     20    0.503569  0.331634  0.171935   \n",
       "1573         mar     21    0.477398  0.418235  0.059163   \n",
       "1574         mar     22    0.477237  0.426491  0.050746   \n",
       "1575         mar     23    0.555038  0.343017  0.212021   \n",
       "\n",
       "process                                           geometry  thresh  min_pts  \n",
       "0        MULTILINESTRING ((731512.461 5705151.584, 7314...       0        0  \n",
       "1        MULTILINESTRING ((731514.605 5705171.469, 7314...       0        0  \n",
       "2        MULTILINESTRING ((731516.749 5705191.354, 7314...       0        0  \n",
       "3        MULTILINESTRING ((731518.785 5705210.340, 7314...       0        0  \n",
       "4        MULTILINESTRING ((731521.351 5705227.262, 7314...       0        0  \n",
       "...                                                    ...     ...      ...  \n",
       "1571     MULTILINESTRING ((731596.497 5705443.265, 7315...       6       90  \n",
       "1572     MULTILINESTRING ((731605.216 5705457.524, 7315...       6       90  \n",
       "1573     MULTILINESTRING ((731615.645 5705474.209, 7315...       6       90  \n",
       "1574     MULTILINESTRING ((731626.245 5705491.168, 7315...       6       90  \n",
       "1575     MULTILINESTRING ((731636.613 5705507.762, 7315...       6       90  \n",
       "\n",
       "[1576 rows x 8 columns]"
      ]
     },
     "execution_count": 29,
     "metadata": {},
     "output_type": "execute_result"
    }
   ],
   "source": [
    "%%time\n",
    "\n",
    "ss_tr_big=pd.DataFrame()\n",
    "\n",
    "for i in tqdm(combs):\n",
    "    print(f\"Working on threshold {i[1]} and min points {i[0]}.\")\n",
    "    try:\n",
    "        ss_tr=steady_state_transect(dataset_mar,\n",
    "                     field_unique_id='geometry',\n",
    "                     thresh=i[1], min_points=i[0], unreal=\"drop\" )\n",
    "        if ss_tr.shape[0] > 0:\n",
    "            ss_transects_idx,to_plot=compute_rBCD_transects(dirNameTrans=dirNameTrans,\n",
    "                                                            label_order=label_order,\n",
    "                                                            steady_state_tr=ss_tr,\n",
    "                                                            loc='mar',\n",
    "                                                            crs_dict_string=crs_dict_string,\n",
    "                                                            weights_dict=weights_dict)\n",
    "            ss_transects_idx['thresh']=i[1]\n",
    "            ss_transects_idx['min_pts']=i[0]\n",
    "\n",
    "            ss_tr_big=pd.concat([ss_tr_big,ss_transects_idx], ignore_index=True)\n",
    "\n",
    "        else:\n",
    "            pass\n",
    "    except:\n",
    "        print(f\"Skipping\")\n",
    "    \n",
    "ss_tr_big"
   ]
  },
  {
   "cell_type": "markdown",
   "id": "1093ca82",
   "metadata": {},
   "source": [
    "Let's plot the transect r-BCDs in function of the thresh parameter."
   ]
  },
  {
   "cell_type": "code",
   "execution_count": 30,
   "id": "425c4072",
   "metadata": {},
   "outputs": [
    {
     "data": {
      "image/png": "[encoded data removed]",
      "text/plain": [
       "<Figure size 720x720 with 1 Axes>"
      ]
     },
     "metadata": {
      "needs_background": "light"
     },
     "output_type": "display_data"
    }
   ],
   "source": [
    "f,ax=plt.subplots(figsize=(10,10))\n",
    "\n",
    "palette=sb.color_palette(\"Blues\", n_colors=ss_tr_big.tr_id.unique().shape[0])\n",
    "sb.lineplot(data=ss_tr_big, x='thresh',y='residual', hue='tr_id',\n",
    "            palette=palette, legend=False, **dict(alpha=0.1),\n",
    "            ax=ax\n",
    ")\n",
    "ax.set_ylabel(\"r_bcd\")\n",
    "ax.axhline(y=0, lw=2, c='r');"
   ]
  },
  {
   "cell_type": "markdown",
   "id": "c0a50d39",
   "metadata": {},
   "source": [
    "As we can see, there are only 3 transects that flipped their r-BCD sign (depo to ero or viceversa) as a consequence of an increase in the minimum number of timesteps.\n",
    "\n",
    "In order to better decide a sub-optimal combination of thresh and min_pts that retains the majority of the transects (while keeping an eye on transects that flipped r-BCD), here below we do some plotting.\n",
    "\n",
    "First, some preprocessing..."
   ]
  },
  {
   "cell_type": "code",
   "execution_count": 31,
   "id": "ea88d9d2",
   "metadata": {},
   "outputs": [
    {
     "data": {
      "text/html": [
       "<div>\n",
       "<style scoped>\n",
       "    .dataframe tbody tr th:only-of-type {\n",
       "        vertical-align: middle;\n",
       "    }\n",
       "\n",
       "    .dataframe tbody tr th {\n",
       "        vertical-align: top;\n",
       "    }\n",
       "\n",
       "    .dataframe thead th {\n",
       "        text-align: right;\n",
       "    }\n",
       "</style>\n",
       "<table border=\"1\" class=\"dataframe\">\n",
       "  <thead>\n",
       "    <tr style=\"text-align: right;\">\n",
       "      <th></th>\n",
       "      <th>thresh</th>\n",
       "      <th>min_pts</th>\n",
       "      <th>tot_trs</th>\n",
       "      <th>trs_10</th>\n",
       "      <th>sign_change_thresh</th>\n",
       "      <th>tot_jumps</th>\n",
       "    </tr>\n",
       "  </thead>\n",
       "  <tbody>\n",
       "    <tr>\n",
       "      <th>0</th>\n",
       "      <td>0</td>\n",
       "      <td>0</td>\n",
       "      <td>22</td>\n",
       "      <td>2.2</td>\n",
       "      <td>NaN</td>\n",
       "      <td>NaN</td>\n",
       "    </tr>\n",
       "    <tr>\n",
       "      <th>1</th>\n",
       "      <td>0</td>\n",
       "      <td>10</td>\n",
       "      <td>22</td>\n",
       "      <td>2.2</td>\n",
       "      <td>NaN</td>\n",
       "      <td>NaN</td>\n",
       "    </tr>\n",
       "    <tr>\n",
       "      <th>2</th>\n",
       "      <td>0</td>\n",
       "      <td>20</td>\n",
       "      <td>22</td>\n",
       "      <td>2.2</td>\n",
       "      <td>NaN</td>\n",
       "      <td>NaN</td>\n",
       "    </tr>\n",
       "    <tr>\n",
       "      <th>3</th>\n",
       "      <td>0</td>\n",
       "      <td>30</td>\n",
       "      <td>22</td>\n",
       "      <td>2.2</td>\n",
       "      <td>NaN</td>\n",
       "      <td>NaN</td>\n",
       "    </tr>\n",
       "    <tr>\n",
       "      <th>4</th>\n",
       "      <td>0</td>\n",
       "      <td>40</td>\n",
       "      <td>22</td>\n",
       "      <td>2.2</td>\n",
       "      <td>NaN</td>\n",
       "      <td>NaN</td>\n",
       "    </tr>\n",
       "    <tr>\n",
       "      <th>...</th>\n",
       "      <td>...</td>\n",
       "      <td>...</td>\n",
       "      <td>...</td>\n",
       "      <td>...</td>\n",
       "      <td>...</td>\n",
       "      <td>...</td>\n",
       "    </tr>\n",
       "    <tr>\n",
       "      <th>72</th>\n",
       "      <td>7</td>\n",
       "      <td>20</td>\n",
       "      <td>17</td>\n",
       "      <td>1.7</td>\n",
       "      <td>7.0</td>\n",
       "      <td>1.0</td>\n",
       "    </tr>\n",
       "    <tr>\n",
       "      <th>73</th>\n",
       "      <td>7</td>\n",
       "      <td>30</td>\n",
       "      <td>13</td>\n",
       "      <td>1.3</td>\n",
       "      <td>7.0</td>\n",
       "      <td>1.0</td>\n",
       "    </tr>\n",
       "    <tr>\n",
       "      <th>74</th>\n",
       "      <td>7</td>\n",
       "      <td>40</td>\n",
       "      <td>9</td>\n",
       "      <td>0.9</td>\n",
       "      <td>7.0</td>\n",
       "      <td>1.0</td>\n",
       "    </tr>\n",
       "    <tr>\n",
       "      <th>75</th>\n",
       "      <td>7</td>\n",
       "      <td>50</td>\n",
       "      <td>6</td>\n",
       "      <td>0.6</td>\n",
       "      <td>7.0</td>\n",
       "      <td>1.0</td>\n",
       "    </tr>\n",
       "    <tr>\n",
       "      <th>76</th>\n",
       "      <td>7</td>\n",
       "      <td>60</td>\n",
       "      <td>3</td>\n",
       "      <td>0.3</td>\n",
       "      <td>NaN</td>\n",
       "      <td>NaN</td>\n",
       "    </tr>\n",
       "  </tbody>\n",
       "</table>\n",
       "<p>77 rows × 6 columns</p>\n",
       "</div>"
      ],
      "text/plain": [
       "    thresh  min_pts  tot_trs  trs_10  sign_change_thresh  tot_jumps\n",
       "0        0        0       22     2.2                 NaN        NaN\n",
       "1        0       10       22     2.2                 NaN        NaN\n",
       "2        0       20       22     2.2                 NaN        NaN\n",
       "3        0       30       22     2.2                 NaN        NaN\n",
       "4        0       40       22     2.2                 NaN        NaN\n",
       "..     ...      ...      ...     ...                 ...        ...\n",
       "72       7       20       17     1.7                 7.0        1.0\n",
       "73       7       30       13     1.3                 7.0        1.0\n",
       "74       7       40        9     0.9                 7.0        1.0\n",
       "75       7       50        6     0.6                 7.0        1.0\n",
       "76       7       60        3     0.3                 NaN        NaN\n",
       "\n",
       "[77 rows x 6 columns]"
      ]
     },
     "execution_count": 31,
     "metadata": {},
     "output_type": "execute_result"
    }
   ],
   "source": [
    "trs_res_ar=ss_tr_big.groupby([\"tr_id\",\"min_pts\"])['residual'].apply(np.array).reset_index()\n",
    "tot_trs=ss_tr_big.groupby([\"thresh\",\"min_pts\"])['geometry'].count().reset_index()\n",
    "tot_trs['trs_10']=tot_trs.geometry / 10\n",
    "zero_crossings=pd.DataFrame([pd.Series({'tr_id':trs_res_ar.loc[i,'tr_id'],\n",
    "                                        'sign_change_thresh':np.where(np.diff(np.sign(trs_res_ar.iloc[i,-1])))[0][-1]+1,\n",
    "                                       'min_pts':trs_res_ar.loc[i,'min_pts']}) for i in range(trs_res_ar.shape[0]) if np.where(np.diff(np.sign(trs_res_ar.iloc[i,-1])))[0].shape[0] !=0])\n",
    "tot_jumps=zero_crossings.groupby([\"sign_change_thresh\",\"min_pts\"]).count().reset_index() # how many jumps per thresh and minpts\n",
    "\n",
    "joined=pd.merge(tot_trs,tot_jumps, left_on=['thresh','min_pts'], right_on=['sign_change_thresh','min_pts'], how='left')\n",
    "joined.rename({'geometry':'tot_trs',\n",
    "              'tr_id':'tot_jumps'}, axis=1, inplace=True)\n",
    "joined"
   ]
  },
  {
   "cell_type": "code",
   "execution_count": 32,
   "id": "d1fb8755",
   "metadata": {
    "scrolled": false
   },
   "outputs": [
    {
     "data": {
      "image/png": "[encoded data removed]",
      "text/plain": [
       "<Figure size 504x288 with 2 Axes>"
      ]
     },
     "metadata": {
      "needs_background": "light"
     },
     "output_type": "display_data"
    },
    {
     "data": {
      "image/png": "[encoded data removed]",
      "text/plain": [
       "<Figure size 504x288 with 2 Axes>"
      ]
     },
     "metadata": {
      "needs_background": "light"
     },
     "output_type": "display_data"
    },
    {
     "data": {
      "image/png": "[encoded data removed]",
      "text/plain": [
       "<Figure size 504x288 with 2 Axes>"
      ]
     },
     "metadata": {
      "needs_background": "light"
     },
     "output_type": "display_data"
    },
    {
     "data": {
      "image/png": "[encoded data removed]",
      "text/plain": [
       "<Figure size 504x288 with 2 Axes>"
      ]
     },
     "metadata": {
      "needs_background": "light"
     },
     "output_type": "display_data"
    },
    {
     "data": {
      "image/png": "[encoded data removed]",
      "text/plain": [
       "<Figure size 504x288 with 2 Axes>"
      ]
     },
     "metadata": {
      "needs_background": "light"
     },
     "output_type": "display_data"
    },
    {
     "data": {
      "image/png": "[encoded data removed]",
      "text/plain": [
       "<Figure size 504x288 with 2 Axes>"
      ]
     },
     "metadata": {
      "needs_background": "light"
     },
     "output_type": "display_data"
    },
    {
     "data": {
      "image/png": "[encoded data removed]",
      "text/plain": [
       "<Figure size 504x288 with 2 Axes>"
      ]
     },
     "metadata": {
      "needs_background": "light"
     },
     "output_type": "display_data"
    },
    {
     "data": {
      "image/png": "[encoded data removed]",
      "text/plain": [
       "<Figure size 504x288 with 2 Axes>"
      ]
     },
     "metadata": {
      "needs_background": "light"
     },
     "output_type": "display_data"
    },
    {
     "data": {
      "image/png": "[encoded data removed]",
      "text/plain": [
       "<Figure size 504x288 with 2 Axes>"
      ]
     },
     "metadata": {
      "needs_background": "light"
     },
     "output_type": "display_data"
    },
    {
     "data": {
      "image/png": "[encoded data removed]",
      "text/plain": [
       "<Figure size 504x288 with 2 Axes>"
      ]
     },
     "metadata": {
      "needs_background": "light"
     },
     "output_type": "display_data"
    }
   ],
   "source": [
    "plt.rcParams['font.sans-serif'] = 'Arial'\n",
    "# Then, \"ALWAYS use sans-serif fonts\"\n",
    "plt.rcParams['font.family'] = 'sans-serif'\n",
    "sb.set_context(\"paper\", font_scale=2.8)\n",
    "\n",
    "\n",
    "x_ticks=[0,2,4,6,8]\n",
    "\n",
    "q_up_val=0.95\n",
    "q_low_val=0.85\n",
    "\n",
    "list_minpts=ss_tr_big.min_pts.unique()\n",
    "\n",
    "for minpts in list_minpts:\n",
    "\n",
    "    f,ax=plt.subplots(figsize=(7,4))\n",
    "    ax2=ax.twinx()\n",
    "    \n",
    "    datain=joined.query(f\"min_pts=={minpts}\")  \n",
    "\n",
    "\n",
    "    sb.lineplot(x=\"thresh\", y=\"tot_jumps\",ci=None,\n",
    "                    data=datain,color='b',\n",
    "                   alpha=.4,linewidth=3,\n",
    "                ax=ax2, label=\"sign changes\")\n",
    "\n",
    "    sb.lineplot(data=datain,x='thresh',y='trs_10',\n",
    "                alpha=.4,color='r',linewidth=3,\n",
    "                ax=ax,label=\"transects * 10\")\n",
    "    \n",
    "    \n",
    "    kde_x, kde_y = ax.lines[0].get_data()\n",
    "    kde_x2, kde_y2 = ax2.lines[0].get_data()\n",
    "    ax.fill_between(kde_x, kde_y,interpolate=True, color='r',alpha=0.5)\n",
    "    ax2.fill_between(kde_x2, kde_y2,interpolate=True,color='b',alpha=0.5)\n",
    "    \n",
    "    ax.axhline((datain.tot_trs.fillna(0).max()*q_up_val)/10,c='k',ls='-',label='95%')\n",
    "    ax.axhline((datain.tot_trs.fillna(0).max()*q_low_val)/10,c='k',lw=2.5,ls='--',label='85%')\n",
    "    \n",
    "    ax.set_ylabel('n. transects x 10', c='r')\n",
    "    ax.set_xlabel('t')\n",
    "    ax2.set_ylabel('sign changes', c='b')\n",
    "    ax2.set_ylim(0,3)\n",
    "    ax.set_ylim(0,3)\n",
    "    ax.set_xlim(0,8)\n",
    "    \n",
    "\n",
    "    plt.tight_layout()\n",
    "    ax.get_legend().remove()\n",
    "    ax2.get_legend().remove()\n",
    "    \n",
    "    \n",
    "    plt.xticks(x_ticks)\n",
    "    savetxt=f\"E:\\\\path\\\\to\\\\save\\\\revision_0\\\\location_sensit_minpts_{minpts}.png\"\n",
    "    \n",
    "    ax.set_title(f\"pt: {minpts}\")\n",
    "    plt.tight_layout()\n",
    "    \n",
    "#   f.savefig(savetxt, dpi=600); #uncomment to save all images"
   ]
  },
  {
   "cell_type": "markdown",
   "id": "0461ad41",
   "metadata": {},
   "source": [
    "___"
   ]
  }
 ],
 "metadata": {
  "kernelspec": {
   "display_name": "Python 3",
   "language": "python",
   "name": "python3"
  },
  "language_info": {
   "codemirror_mode": {
    "name": "ipython",
    "version": 3
   },
   "file_extension": ".py",
   "mimetype": "text/x-python",
   "name": "python",
   "nbconvert_exporter": "python",
   "pygments_lexer": "ipython3",
   "version": "3.9.4"
  }
 },
 "nbformat": 4,
 "nbformat_minor": 5
}
