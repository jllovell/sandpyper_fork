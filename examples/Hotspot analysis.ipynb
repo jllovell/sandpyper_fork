{
 "cells": [
  {
   "cell_type": "code",
   "execution_count": 2,
   "id": "6583629d",
   "metadata": {},
   "outputs": [
    {
     "name": "stderr",
     "output_type": "stream",
     "text": [
      "C:\\conda3\\envs\\sandpyper_env\\lib\\site-packages\\pysal\\explore\\segregation\\network\\network.py:15: UserWarning: You need pandana and urbanaccess to work with segregation's network module\n",
      "You can install them with  `pip install urbanaccess pandana` or `conda install -c udst pandana urbanaccess`\n",
      "  warn(\n",
      "C:\\conda3\\envs\\sandpyper_env\\lib\\site-packages\\pysal\\model\\spvcm\\abstracts.py:10: UserWarning: The `dill` module is required to use the sqlite backend fully.\n",
      "  from .sqlite import head_to_sql, start_sql\n"
     ]
    }
   ],
   "source": [
    "from pysal.viz.mapclassify import UserDefined\n",
    "import pysal.viz.mapclassify as mc\n",
    "\n",
    "import pandas as pd\n",
    "import numpy as np\n",
    "from tqdm import tqdm\n",
    "\n",
    "from sandpyper.hotspot import LISA_site_level"
   ]
  },
  {
   "cell_type": "markdown",
   "id": "d12ae8d3",
   "metadata": {},
   "source": [
    "### Create multitemporal datased (dh)"
   ]
  },
  {
   "cell_type": "code",
   "execution_count": 3,
   "id": "ca4952c3",
   "metadata": {},
   "outputs": [],
   "source": [
    "full_dataset=pd.read_csv(r\"C:\\my_packages\\doc_data\\profiles\\classified_data.csv\")"
   ]
  },
  {
   "cell_type": "code",
   "execution_count": 4,
   "id": "b6417369",
   "metadata": {},
   "outputs": [],
   "source": [
    "def compute_multitemporal (df,\n",
    "                           date_field='survey_date',\n",
    "                          sand_label_field='label_sand',\n",
    "                          common_field=\"geometry\"):\n",
    "\n",
    "\n",
    "\n",
    "    fusion_long=pd.DataFrame()\n",
    "\n",
    "    for location in full_dataset.location.unique():\n",
    "        print(f\"working on {location}\")\n",
    "        loc_data=full_dataset.query(f\"location=='{location}'\")\n",
    "        list_dates=loc_data.loc[:,date_field].unique()\n",
    "        list_dates.sort()\n",
    "\n",
    "\n",
    "        for i in tqdm(range(list_dates.shape[0])):\n",
    "\n",
    "            if i < list_dates.shape[0]-1:\n",
    "                date_pre=list_dates[i]\n",
    "                date_post=list_dates[i+1]\n",
    "                print(f\"Calculating dt{i}, from {date_pre} to {date_post} in {location}.\")\n",
    "\n",
    "                df_pre=loc_data.query(f\"{date_field} =='{date_pre}' & {sand_label_field} == 0\").dropna(subset=['z'])\n",
    "                df_post=loc_data.query(f\"{date_field} =='{date_post}' & {sand_label_field} == 0\").dropna(subset=['z'])\n",
    "\n",
    "                merged=pd.merge(df_pre,df_post, how='inner', on=common_field,validate=\"one_to_one\",suffixes=('_pre','_post'))\n",
    "                merged[\"dh\"]=merged.z_post.astype(float) - merged.z_pre.astype(float)\n",
    "\n",
    "                dict_short={\"geometry\": merged.geometry,\n",
    "                            \"location\":location,\n",
    "                            \"tr_id\":merged.tr_id_pre,\n",
    "                            \"distance\":merged.distance_pre,\n",
    "                            \"dt\":  f\"dt_{i}\",\n",
    "                            \"date_pre\":date_pre,\n",
    "                            \"date_post\":date_post,\n",
    "                            \"z_pre\":merged.z_pre.astype(float),\n",
    "                            \"z_post\":merged.z_post.astype(float),\n",
    "                            \"dh\":merged.dh}\n",
    "\n",
    "                short_df=pd.DataFrame(dict_short)\n",
    "                fusion_long=pd.concat([short_df,fusion_long],ignore_index=True)\n",
    "\n",
    "    print(\"done\")\n",
    "    return fusion_long"
   ]
  },
  {
   "cell_type": "code",
   "execution_count": 5,
   "id": "3981a745",
   "metadata": {},
   "outputs": [
    {
     "name": "stderr",
     "output_type": "stream",
     "text": [
      " 33%|████████████████████████████                                                        | 3/9 [00:00<00:00, 23.87it/s]"
     ]
    },
    {
     "name": "stdout",
     "output_type": "stream",
     "text": [
      "working on mar\n",
      "Calculating dt0, from 2018-06-01 to 2018-06-21 in mar.\n",
      "Calculating dt1, from 2018-06-21 to 2018-07-27 in mar.\n",
      "Calculating dt2, from 2018-07-27 to 2018-09-25 in mar.\n",
      "Calculating dt3, from 2018-09-25 to 2018-11-13 in mar.\n",
      "Calculating dt4, from 2018-11-13 to 2018-12-11 in mar.\n"
     ]
    },
    {
     "name": "stderr",
     "output_type": "stream",
     "text": [
      "100%|████████████████████████████████████████████████████████████████████████████████████| 9/9 [00:00<00:00, 24.59it/s]\n",
      "  0%|                                                                                            | 0/7 [00:00<?, ?it/s]"
     ]
    },
    {
     "name": "stdout",
     "output_type": "stream",
     "text": [
      "Calculating dt5, from 2018-12-11 to 2019-02-05 in mar.\n",
      "Calculating dt6, from 2019-02-05 to 2019-03-13 in mar.\n",
      "Calculating dt7, from 2019-03-13 to 2019-05-16 in mar.\n",
      "working on leo\n",
      "Calculating dt0, from 2018-06-06 to 2018-07-13 in leo.\n",
      "Calculating dt1, from 2018-07-13 to 2018-07-25 in leo.\n"
     ]
    },
    {
     "name": "stderr",
     "output_type": "stream",
     "text": [
      "100%|████████████████████████████████████████████████████████████████████████████████████| 7/7 [00:00<00:00, 33.26it/s]"
     ]
    },
    {
     "name": "stdout",
     "output_type": "stream",
     "text": [
      "Calculating dt2, from 2018-07-25 to 2018-09-20 in leo.\n",
      "Calculating dt3, from 2018-09-20 to 2019-02-11 in leo.\n",
      "Calculating dt4, from 2019-02-11 to 2019-03-28 in leo.\n",
      "Calculating dt5, from 2019-03-28 to 2019-07-31 in leo.\n",
      "done\n"
     ]
    },
    {
     "name": "stderr",
     "output_type": "stream",
     "text": [
      "\n"
     ]
    }
   ],
   "source": [
    "dh_df=compute_multitemporal(full_dataset,\n",
    "                      date_field='survey_date',\n",
    "                      sand_label_field='label_sand')"
   ]
  },
  {
   "cell_type": "markdown",
   "id": "3164bf88",
   "metadata": {},
   "source": [
    "## Compute location level hotspot "
   ]
  },
  {
   "cell_type": "code",
   "execution_count": 21,
   "id": "d5acab83",
   "metadata": {},
   "outputs": [],
   "source": [
    "crs_dict_string={\"mar\":{'init': 'epsg:32754'},\n",
    "         \"leo\":{'init': 'epsg:32755'}}"
   ]
  },
  {
   "cell_type": "code",
   "execution_count": 23,
   "id": "ccf27187",
   "metadata": {},
   "outputs": [],
   "source": [
    "distance_value=35 #enough to include two adjacent transect and some obliques without getting to the second transect\n",
    "k_value=0\n",
    "mode=\"idw\" #select from \"knn\" or \"distance\""
   ]
  },
  {
   "cell_type": "code",
   "execution_count": 24,
   "id": "15a5e37f",
   "metadata": {},
   "outputs": [
    {
     "data": {
      "text/plain": [
       "array(['leo', 'mar'], dtype=object)"
      ]
     },
     "execution_count": 24,
     "metadata": {},
     "output_type": "execute_result"
    }
   ],
   "source": [
    "dh_df.location.unique()"
   ]
  },
  {
   "cell_type": "code",
   "execution_count": 25,
   "id": "d6477af1",
   "metadata": {
    "scrolled": true
   },
   "outputs": [
    {
     "name": "stderr",
     "output_type": "stream",
     "text": [
      "<ipython-input-20-065cd36775bc>:49: TqdmDeprecationWarning: This function will be removed in tqdm==5.0.0\n",
      "Please use `tqdm.notebook.tqdm` instead of `tqdm.tqdm_notebook`\n",
      "  for loc in tqdm(locs):\n"
     ]
    },
    {
     "data": {
      "application/vnd.jupyter.widget-view+json": {
       "model_id": "97c77fb9f9c64d49928c4fa361732262",
       "version_major": 2,
       "version_minor": 0
      },
      "text/plain": [
       "  0%|          | 0/2 [00:00<?, ?it/s]"
      ]
     },
     "metadata": {},
     "output_type": "display_data"
    },
    {
     "name": "stderr",
     "output_type": "stream",
     "text": [
      "<ipython-input-20-065cd36775bc>:54: SettingWithCopyWarning: \n",
      "A value is trying to be set on a copy of a slice from a DataFrame.\n",
      "Try using .loc[row_indexer,col_indexer] = value instead\n",
      "\n",
      "See the caveats in the documentation: https://pandas.pydata.org/pandas-docs/stable/user_guide/indexing.html#returning-a-view-versus-a-copy\n",
      "  df_in['geometry'] = df_in.loc[:, unique_field].apply(\n"
     ]
    },
    {
     "name": "stdout",
     "output_type": "stream",
     "text": [
      "Working on leo\n"
     ]
    },
    {
     "name": "stderr",
     "output_type": "stream",
     "text": [
      "C:\\conda3\\envs\\sandpyper_env\\lib\\site-packages\\pyproj\\crs\\crs.py:53: FutureWarning: '+init=<authority>:<code>' syntax is deprecated. '<authority>:<code>' is the preferred initialization method. When making the change, be mindful of axis order changes: https://pyproj4.github.io/pyproj/stable/gotchas.html#axis-order-changes-in-proj-6\n",
      "  return _prepare_from_string(\" \".join(pjargs))\n",
      "<ipython-input-20-065cd36775bc>:61: TqdmDeprecationWarning: This function will be removed in tqdm==5.0.0\n",
      "Please use `tqdm.notebook.tqdm` instead of `tqdm.tqdm_notebook`\n",
      "  for dt in tqdm(dts):\n"
     ]
    },
    {
     "data": {
      "application/vnd.jupyter.widget-view+json": {
       "model_id": "2a5fd164e8bc47d585bc0b7baf0f23c9",
       "version_major": 2,
       "version_minor": 0
      },
      "text/plain": [
       "  0%|          | 0/6 [00:00<?, ?it/s]"
      ]
     },
     "metadata": {},
     "output_type": "display_data"
    },
    {
     "name": "stderr",
     "output_type": "stream",
     "text": [
      "<ipython-input-20-065cd36775bc>:64: SettingWithCopyWarning: \n",
      "A value is trying to be set on a copy of a slice from a DataFrame\n",
      "\n",
      "See the caveats in the documentation: https://pandas.pydata.org/pandas-docs/stable/user_guide/indexing.html#returning-a-view-versus-a-copy\n",
      "  gdf_input.dropna(axis=0, how='any', subset=['dh'], inplace=True)\n",
      "C:\\conda3\\envs\\sandpyper_env\\lib\\site-packages\\geopandas\\geodataframe.py:853: SettingWithCopyWarning: \n",
      "A value is trying to be set on a copy of a slice from a DataFrame.\n",
      "Try using .loc[row_indexer,col_indexer] = value instead\n",
      "\n",
      "See the caveats in the documentation: https://pandas.pydata.org/pandas-docs/stable/user_guide/indexing.html#returning-a-view-versus-a-copy\n",
      "  super(GeoDataFrame, self).__setitem__(key, value)\n",
      "<ipython-input-20-065cd36775bc>:64: SettingWithCopyWarning: \n",
      "A value is trying to be set on a copy of a slice from a DataFrame\n",
      "\n",
      "See the caveats in the documentation: https://pandas.pydata.org/pandas-docs/stable/user_guide/indexing.html#returning-a-view-versus-a-copy\n",
      "  gdf_input.dropna(axis=0, how='any', subset=['dh'], inplace=True)\n",
      "C:\\conda3\\envs\\sandpyper_env\\lib\\site-packages\\geopandas\\geodataframe.py:853: SettingWithCopyWarning: \n",
      "A value is trying to be set on a copy of a slice from a DataFrame.\n",
      "Try using .loc[row_indexer,col_indexer] = value instead\n",
      "\n",
      "See the caveats in the documentation: https://pandas.pydata.org/pandas-docs/stable/user_guide/indexing.html#returning-a-view-versus-a-copy\n",
      "  super(GeoDataFrame, self).__setitem__(key, value)\n",
      "<ipython-input-20-065cd36775bc>:64: SettingWithCopyWarning: \n",
      "A value is trying to be set on a copy of a slice from a DataFrame\n",
      "\n",
      "See the caveats in the documentation: https://pandas.pydata.org/pandas-docs/stable/user_guide/indexing.html#returning-a-view-versus-a-copy\n",
      "  gdf_input.dropna(axis=0, how='any', subset=['dh'], inplace=True)\n",
      "C:\\conda3\\envs\\sandpyper_env\\lib\\site-packages\\geopandas\\geodataframe.py:853: SettingWithCopyWarning: \n",
      "A value is trying to be set on a copy of a slice from a DataFrame.\n",
      "Try using .loc[row_indexer,col_indexer] = value instead\n",
      "\n",
      "See the caveats in the documentation: https://pandas.pydata.org/pandas-docs/stable/user_guide/indexing.html#returning-a-view-versus-a-copy\n",
      "  super(GeoDataFrame, self).__setitem__(key, value)\n",
      "<ipython-input-20-065cd36775bc>:64: SettingWithCopyWarning: \n",
      "A value is trying to be set on a copy of a slice from a DataFrame\n",
      "\n",
      "See the caveats in the documentation: https://pandas.pydata.org/pandas-docs/stable/user_guide/indexing.html#returning-a-view-versus-a-copy\n",
      "  gdf_input.dropna(axis=0, how='any', subset=['dh'], inplace=True)\n",
      "C:\\conda3\\envs\\sandpyper_env\\lib\\site-packages\\geopandas\\geodataframe.py:853: SettingWithCopyWarning: \n",
      "A value is trying to be set on a copy of a slice from a DataFrame.\n",
      "Try using .loc[row_indexer,col_indexer] = value instead\n",
      "\n",
      "See the caveats in the documentation: https://pandas.pydata.org/pandas-docs/stable/user_guide/indexing.html#returning-a-view-versus-a-copy\n",
      "  super(GeoDataFrame, self).__setitem__(key, value)\n",
      "<ipython-input-20-065cd36775bc>:64: SettingWithCopyWarning: \n",
      "A value is trying to be set on a copy of a slice from a DataFrame\n",
      "\n",
      "See the caveats in the documentation: https://pandas.pydata.org/pandas-docs/stable/user_guide/indexing.html#returning-a-view-versus-a-copy\n",
      "  gdf_input.dropna(axis=0, how='any', subset=['dh'], inplace=True)\n",
      "C:\\conda3\\envs\\sandpyper_env\\lib\\site-packages\\geopandas\\geodataframe.py:853: SettingWithCopyWarning: \n",
      "A value is trying to be set on a copy of a slice from a DataFrame.\n",
      "Try using .loc[row_indexer,col_indexer] = value instead\n",
      "\n",
      "See the caveats in the documentation: https://pandas.pydata.org/pandas-docs/stable/user_guide/indexing.html#returning-a-view-versus-a-copy\n",
      "  super(GeoDataFrame, self).__setitem__(key, value)\n",
      "<ipython-input-20-065cd36775bc>:64: SettingWithCopyWarning: \n",
      "A value is trying to be set on a copy of a slice from a DataFrame\n",
      "\n",
      "See the caveats in the documentation: https://pandas.pydata.org/pandas-docs/stable/user_guide/indexing.html#returning-a-view-versus-a-copy\n",
      "  gdf_input.dropna(axis=0, how='any', subset=['dh'], inplace=True)\n",
      "C:\\conda3\\envs\\sandpyper_env\\lib\\site-packages\\geopandas\\geodataframe.py:853: SettingWithCopyWarning: \n",
      "A value is trying to be set on a copy of a slice from a DataFrame.\n",
      "Try using .loc[row_indexer,col_indexer] = value instead\n",
      "\n",
      "See the caveats in the documentation: https://pandas.pydata.org/pandas-docs/stable/user_guide/indexing.html#returning-a-view-versus-a-copy\n",
      "  super(GeoDataFrame, self).__setitem__(key, value)\n"
     ]
    },
    {
     "name": "stdout",
     "output_type": "stream",
     "text": [
      "Working on mar\n"
     ]
    },
    {
     "name": "stderr",
     "output_type": "stream",
     "text": [
      "<ipython-input-20-065cd36775bc>:54: SettingWithCopyWarning: \n",
      "A value is trying to be set on a copy of a slice from a DataFrame.\n",
      "Try using .loc[row_indexer,col_indexer] = value instead\n",
      "\n",
      "See the caveats in the documentation: https://pandas.pydata.org/pandas-docs/stable/user_guide/indexing.html#returning-a-view-versus-a-copy\n",
      "  df_in['geometry'] = df_in.loc[:, unique_field].apply(\n",
      "C:\\conda3\\envs\\sandpyper_env\\lib\\site-packages\\pyproj\\crs\\crs.py:53: FutureWarning: '+init=<authority>:<code>' syntax is deprecated. '<authority>:<code>' is the preferred initialization method. When making the change, be mindful of axis order changes: https://pyproj4.github.io/pyproj/stable/gotchas.html#axis-order-changes-in-proj-6\n",
      "  return _prepare_from_string(\" \".join(pjargs))\n",
      "<ipython-input-20-065cd36775bc>:61: TqdmDeprecationWarning: This function will be removed in tqdm==5.0.0\n",
      "Please use `tqdm.notebook.tqdm` instead of `tqdm.tqdm_notebook`\n",
      "  for dt in tqdm(dts):\n"
     ]
    },
    {
     "data": {
      "application/vnd.jupyter.widget-view+json": {
       "model_id": "e356eb8273ad4701974c70a459261ad4",
       "version_major": 2,
       "version_minor": 0
      },
      "text/plain": [
       "  0%|          | 0/8 [00:00<?, ?it/s]"
      ]
     },
     "metadata": {},
     "output_type": "display_data"
    },
    {
     "name": "stderr",
     "output_type": "stream",
     "text": [
      "<ipython-input-20-065cd36775bc>:64: SettingWithCopyWarning: \n",
      "A value is trying to be set on a copy of a slice from a DataFrame\n",
      "\n",
      "See the caveats in the documentation: https://pandas.pydata.org/pandas-docs/stable/user_guide/indexing.html#returning-a-view-versus-a-copy\n",
      "  gdf_input.dropna(axis=0, how='any', subset=['dh'], inplace=True)\n",
      "C:\\conda3\\envs\\sandpyper_env\\lib\\site-packages\\pysal\\lib\\weights\\util.py:804: UserWarning: There is one disconnected observation (no neighbors).\n",
      "Island id: 6525\n",
      "  w = W(neighbors, weights, ids, **kwargs)\n",
      "C:\\conda3\\envs\\sandpyper_env\\lib\\site-packages\\pysal\\lib\\weights\\distance.py:783: UserWarning: There is one disconnected observation (no neighbors).\n",
      "Island id: 6525\n",
      "  W.__init__(self, neighbors, weights, ids, silence_warnings=self.silence_warnings)\n",
      "C:\\conda3\\envs\\sandpyper_env\\lib\\site-packages\\geopandas\\geodataframe.py:853: SettingWithCopyWarning: \n",
      "A value is trying to be set on a copy of a slice from a DataFrame.\n",
      "Try using .loc[row_indexer,col_indexer] = value instead\n",
      "\n",
      "See the caveats in the documentation: https://pandas.pydata.org/pandas-docs/stable/user_guide/indexing.html#returning-a-view-versus-a-copy\n",
      "  super(GeoDataFrame, self).__setitem__(key, value)\n",
      "<ipython-input-20-065cd36775bc>:64: SettingWithCopyWarning: \n",
      "A value is trying to be set on a copy of a slice from a DataFrame\n",
      "\n",
      "See the caveats in the documentation: https://pandas.pydata.org/pandas-docs/stable/user_guide/indexing.html#returning-a-view-versus-a-copy\n",
      "  gdf_input.dropna(axis=0, how='any', subset=['dh'], inplace=True)\n"
     ]
    },
    {
     "name": "stdout",
     "output_type": "stream",
     "text": [
      "('WARNING: ', 6525, ' is an island (no neighbors)')\n"
     ]
    },
    {
     "name": "stderr",
     "output_type": "stream",
     "text": [
      "C:\\conda3\\envs\\sandpyper_env\\lib\\site-packages\\geopandas\\geodataframe.py:853: SettingWithCopyWarning: \n",
      "A value is trying to be set on a copy of a slice from a DataFrame.\n",
      "Try using .loc[row_indexer,col_indexer] = value instead\n",
      "\n",
      "See the caveats in the documentation: https://pandas.pydata.org/pandas-docs/stable/user_guide/indexing.html#returning-a-view-versus-a-copy\n",
      "  super(GeoDataFrame, self).__setitem__(key, value)\n",
      "<ipython-input-20-065cd36775bc>:64: SettingWithCopyWarning: \n",
      "A value is trying to be set on a copy of a slice from a DataFrame\n",
      "\n",
      "See the caveats in the documentation: https://pandas.pydata.org/pandas-docs/stable/user_guide/indexing.html#returning-a-view-versus-a-copy\n",
      "  gdf_input.dropna(axis=0, how='any', subset=['dh'], inplace=True)\n",
      "C:\\conda3\\envs\\sandpyper_env\\lib\\site-packages\\geopandas\\geodataframe.py:853: SettingWithCopyWarning: \n",
      "A value is trying to be set on a copy of a slice from a DataFrame.\n",
      "Try using .loc[row_indexer,col_indexer] = value instead\n",
      "\n",
      "See the caveats in the documentation: https://pandas.pydata.org/pandas-docs/stable/user_guide/indexing.html#returning-a-view-versus-a-copy\n",
      "  super(GeoDataFrame, self).__setitem__(key, value)\n",
      "<ipython-input-20-065cd36775bc>:64: SettingWithCopyWarning: \n",
      "A value is trying to be set on a copy of a slice from a DataFrame\n",
      "\n",
      "See the caveats in the documentation: https://pandas.pydata.org/pandas-docs/stable/user_guide/indexing.html#returning-a-view-versus-a-copy\n",
      "  gdf_input.dropna(axis=0, how='any', subset=['dh'], inplace=True)\n",
      "C:\\conda3\\envs\\sandpyper_env\\lib\\site-packages\\geopandas\\geodataframe.py:853: SettingWithCopyWarning: \n",
      "A value is trying to be set on a copy of a slice from a DataFrame.\n",
      "Try using .loc[row_indexer,col_indexer] = value instead\n",
      "\n",
      "See the caveats in the documentation: https://pandas.pydata.org/pandas-docs/stable/user_guide/indexing.html#returning-a-view-versus-a-copy\n",
      "  super(GeoDataFrame, self).__setitem__(key, value)\n",
      "<ipython-input-20-065cd36775bc>:64: SettingWithCopyWarning: \n",
      "A value is trying to be set on a copy of a slice from a DataFrame\n",
      "\n",
      "See the caveats in the documentation: https://pandas.pydata.org/pandas-docs/stable/user_guide/indexing.html#returning-a-view-versus-a-copy\n",
      "  gdf_input.dropna(axis=0, how='any', subset=['dh'], inplace=True)\n",
      "C:\\conda3\\envs\\sandpyper_env\\lib\\site-packages\\geopandas\\geodataframe.py:853: SettingWithCopyWarning: \n",
      "A value is trying to be set on a copy of a slice from a DataFrame.\n",
      "Try using .loc[row_indexer,col_indexer] = value instead\n",
      "\n",
      "See the caveats in the documentation: https://pandas.pydata.org/pandas-docs/stable/user_guide/indexing.html#returning-a-view-versus-a-copy\n",
      "  super(GeoDataFrame, self).__setitem__(key, value)\n",
      "<ipython-input-20-065cd36775bc>:64: SettingWithCopyWarning: \n",
      "A value is trying to be set on a copy of a slice from a DataFrame\n",
      "\n",
      "See the caveats in the documentation: https://pandas.pydata.org/pandas-docs/stable/user_guide/indexing.html#returning-a-view-versus-a-copy\n",
      "  gdf_input.dropna(axis=0, how='any', subset=['dh'], inplace=True)\n",
      "C:\\conda3\\envs\\sandpyper_env\\lib\\site-packages\\geopandas\\geodataframe.py:853: SettingWithCopyWarning: \n",
      "A value is trying to be set on a copy of a slice from a DataFrame.\n",
      "Try using .loc[row_indexer,col_indexer] = value instead\n",
      "\n",
      "See the caveats in the documentation: https://pandas.pydata.org/pandas-docs/stable/user_guide/indexing.html#returning-a-view-versus-a-copy\n",
      "  super(GeoDataFrame, self).__setitem__(key, value)\n",
      "<ipython-input-20-065cd36775bc>:64: SettingWithCopyWarning: \n",
      "A value is trying to be set on a copy of a slice from a DataFrame\n",
      "\n",
      "See the caveats in the documentation: https://pandas.pydata.org/pandas-docs/stable/user_guide/indexing.html#returning-a-view-versus-a-copy\n",
      "  gdf_input.dropna(axis=0, how='any', subset=['dh'], inplace=True)\n",
      "C:\\conda3\\envs\\sandpyper_env\\lib\\site-packages\\geopandas\\geodataframe.py:853: SettingWithCopyWarning: \n",
      "A value is trying to be set on a copy of a slice from a DataFrame.\n",
      "Try using .loc[row_indexer,col_indexer] = value instead\n",
      "\n",
      "See the caveats in the documentation: https://pandas.pydata.org/pandas-docs/stable/user_guide/indexing.html#returning-a-view-versus-a-copy\n",
      "  super(GeoDataFrame, self).__setitem__(key, value)\n",
      "<ipython-input-20-065cd36775bc>:64: SettingWithCopyWarning: \n",
      "A value is trying to be set on a copy of a slice from a DataFrame\n",
      "\n",
      "See the caveats in the documentation: https://pandas.pydata.org/pandas-docs/stable/user_guide/indexing.html#returning-a-view-versus-a-copy\n",
      "  gdf_input.dropna(axis=0, how='any', subset=['dh'], inplace=True)\n",
      "C:\\conda3\\envs\\sandpyper_env\\lib\\site-packages\\geopandas\\geodataframe.py:853: SettingWithCopyWarning: \n",
      "A value is trying to be set on a copy of a slice from a DataFrame.\n",
      "Try using .loc[row_indexer,col_indexer] = value instead\n",
      "\n",
      "See the caveats in the documentation: https://pandas.pydata.org/pandas-docs/stable/user_guide/indexing.html#returning-a-view-versus-a-copy\n",
      "  super(GeoDataFrame, self).__setitem__(key, value)\n"
     ]
    }
   ],
   "source": [
    "# run the analysis using a row standardised binary weight matrix with neighborhood radius of 35 m.\n",
    "\n",
    "lisa_df=LISA_site_level(df=dh_df,\n",
    "                        mode='distance',\n",
    "                        distance_value=35,\n",
    "                        unique_field=\"geometry\",\n",
    "                        crs_dict_string=crs_dict_string\n",
    ")"
   ]
  },
  {
   "cell_type": "code",
   "execution_count": 27,
   "id": "4045af9c",
   "metadata": {},
   "outputs": [
    {
     "data": {
      "text/html": [
       "<div>\n",
       "<style scoped>\n",
       "    .dataframe tbody tr th:only-of-type {\n",
       "        vertical-align: middle;\n",
       "    }\n",
       "\n",
       "    .dataframe tbody tr th {\n",
       "        vertical-align: top;\n",
       "    }\n",
       "\n",
       "    .dataframe thead th {\n",
       "        text-align: right;\n",
       "    }\n",
       "</style>\n",
       "<table border=\"1\" class=\"dataframe\">\n",
       "  <thead>\n",
       "    <tr style=\"text-align: right;\">\n",
       "      <th></th>\n",
       "      <th>geometry</th>\n",
       "      <th>location</th>\n",
       "      <th>tr_id</th>\n",
       "      <th>distance</th>\n",
       "      <th>dt</th>\n",
       "      <th>date_pre</th>\n",
       "      <th>date_post</th>\n",
       "      <th>z_pre</th>\n",
       "      <th>z_post</th>\n",
       "      <th>dh</th>\n",
       "      <th>lisa_fdr</th>\n",
       "      <th>lisa_q</th>\n",
       "      <th>lisa_I</th>\n",
       "      <th>lisa_n_val_obs</th>\n",
       "      <th>lisa_opt_dist</th>\n",
       "      <th>lisa_dist_mode</th>\n",
       "      <th>lisa_p_sim</th>\n",
       "      <th>lisa_z_sim</th>\n",
       "      <th>lisa_z</th>\n",
       "      <th>decay</th>\n",
       "    </tr>\n",
       "  </thead>\n",
       "  <tbody>\n",
       "    <tr>\n",
       "      <th>38676</th>\n",
       "      <td>POINT (731460.363 5705157.201)</td>\n",
       "      <td>mar</td>\n",
       "      <td>3</td>\n",
       "      <td>52.4</td>\n",
       "      <td>dt_0</td>\n",
       "      <td>2018-06-01</td>\n",
       "      <td>2018-06-21</td>\n",
       "      <td>4.663569</td>\n",
       "      <td>4.665780</td>\n",
       "      <td>0.002210</td>\n",
       "      <td>0.042946</td>\n",
       "      <td>2</td>\n",
       "      <td>-0.074988</td>\n",
       "      <td>4083</td>\n",
       "      <td>35</td>\n",
       "      <td>distance_band</td>\n",
       "      <td>0.001</td>\n",
       "      <td>-5.634389</td>\n",
       "      <td>-0.264330</td>\n",
       "      <td>0</td>\n",
       "    </tr>\n",
       "    <tr>\n",
       "      <th>38677</th>\n",
       "      <td>POINT (731460.264 5705157.212)</td>\n",
       "      <td>mar</td>\n",
       "      <td>3</td>\n",
       "      <td>52.5</td>\n",
       "      <td>dt_0</td>\n",
       "      <td>2018-06-01</td>\n",
       "      <td>2018-06-21</td>\n",
       "      <td>4.780209</td>\n",
       "      <td>4.787802</td>\n",
       "      <td>0.007593</td>\n",
       "      <td>0.042946</td>\n",
       "      <td>2</td>\n",
       "      <td>-0.069911</td>\n",
       "      <td>4083</td>\n",
       "      <td>35</td>\n",
       "      <td>distance_band</td>\n",
       "      <td>0.001</td>\n",
       "      <td>-5.678814</td>\n",
       "      <td>-0.246477</td>\n",
       "      <td>0</td>\n",
       "    </tr>\n",
       "    <tr>\n",
       "      <th>38678</th>\n",
       "      <td>POINT (731460.164 5705157.222)</td>\n",
       "      <td>mar</td>\n",
       "      <td>3</td>\n",
       "      <td>52.6</td>\n",
       "      <td>dt_0</td>\n",
       "      <td>2018-06-01</td>\n",
       "      <td>2018-06-21</td>\n",
       "      <td>4.875618</td>\n",
       "      <td>4.903659</td>\n",
       "      <td>0.028041</td>\n",
       "      <td>0.042946</td>\n",
       "      <td>2</td>\n",
       "      <td>-0.050642</td>\n",
       "      <td>4083</td>\n",
       "      <td>35</td>\n",
       "      <td>distance_band</td>\n",
       "      <td>0.001</td>\n",
       "      <td>-5.780715</td>\n",
       "      <td>-0.178654</td>\n",
       "      <td>0</td>\n",
       "    </tr>\n",
       "    <tr>\n",
       "      <th>38679</th>\n",
       "      <td>POINT (731460.065 5705157.233)</td>\n",
       "      <td>mar</td>\n",
       "      <td>3</td>\n",
       "      <td>52.7</td>\n",
       "      <td>dt_0</td>\n",
       "      <td>2018-06-01</td>\n",
       "      <td>2018-06-21</td>\n",
       "      <td>4.970114</td>\n",
       "      <td>4.974202</td>\n",
       "      <td>0.004088</td>\n",
       "      <td>0.042946</td>\n",
       "      <td>2</td>\n",
       "      <td>-0.073217</td>\n",
       "      <td>4083</td>\n",
       "      <td>35</td>\n",
       "      <td>distance_band</td>\n",
       "      <td>0.001</td>\n",
       "      <td>-5.848848</td>\n",
       "      <td>-0.258102</td>\n",
       "      <td>0</td>\n",
       "    </tr>\n",
       "    <tr>\n",
       "      <th>38680</th>\n",
       "      <td>POINT (731458.673 5705157.383)</td>\n",
       "      <td>mar</td>\n",
       "      <td>3</td>\n",
       "      <td>54.1</td>\n",
       "      <td>dt_0</td>\n",
       "      <td>2018-06-01</td>\n",
       "      <td>2018-06-21</td>\n",
       "      <td>5.917675</td>\n",
       "      <td>5.955576</td>\n",
       "      <td>0.037901</td>\n",
       "      <td>0.042946</td>\n",
       "      <td>2</td>\n",
       "      <td>-0.041359</td>\n",
       "      <td>4083</td>\n",
       "      <td>35</td>\n",
       "      <td>distance_band</td>\n",
       "      <td>0.001</td>\n",
       "      <td>-5.841232</td>\n",
       "      <td>-0.145950</td>\n",
       "      <td>0</td>\n",
       "    </tr>\n",
       "  </tbody>\n",
       "</table>\n",
       "</div>"
      ],
      "text/plain": [
       "                             geometry location  tr_id  distance    dt  \\\n",
       "38676  POINT (731460.363 5705157.201)      mar      3      52.4  dt_0   \n",
       "38677  POINT (731460.264 5705157.212)      mar      3      52.5  dt_0   \n",
       "38678  POINT (731460.164 5705157.222)      mar      3      52.6  dt_0   \n",
       "38679  POINT (731460.065 5705157.233)      mar      3      52.7  dt_0   \n",
       "38680  POINT (731458.673 5705157.383)      mar      3      54.1  dt_0   \n",
       "\n",
       "         date_pre   date_post     z_pre    z_post        dh  lisa_fdr  lisa_q  \\\n",
       "38676  2018-06-01  2018-06-21  4.663569  4.665780  0.002210  0.042946       2   \n",
       "38677  2018-06-01  2018-06-21  4.780209  4.787802  0.007593  0.042946       2   \n",
       "38678  2018-06-01  2018-06-21  4.875618  4.903659  0.028041  0.042946       2   \n",
       "38679  2018-06-01  2018-06-21  4.970114  4.974202  0.004088  0.042946       2   \n",
       "38680  2018-06-01  2018-06-21  5.917675  5.955576  0.037901  0.042946       2   \n",
       "\n",
       "         lisa_I  lisa_n_val_obs  lisa_opt_dist lisa_dist_mode  lisa_p_sim  \\\n",
       "38676 -0.074988            4083             35  distance_band       0.001   \n",
       "38677 -0.069911            4083             35  distance_band       0.001   \n",
       "38678 -0.050642            4083             35  distance_band       0.001   \n",
       "38679 -0.073217            4083             35  distance_band       0.001   \n",
       "38680 -0.041359            4083             35  distance_band       0.001   \n",
       "\n",
       "       lisa_z_sim    lisa_z  decay  \n",
       "38676   -5.634389 -0.264330      0  \n",
       "38677   -5.678814 -0.246477      0  \n",
       "38678   -5.780715 -0.178654      0  \n",
       "38679   -5.848848 -0.258102      0  \n",
       "38680   -5.841232 -0.145950      0  "
      ]
     },
     "execution_count": 27,
     "metadata": {},
     "output_type": "execute_result"
    }
   ],
   "source": [
    "# we obtain a dataset containing the fdr threshold, local moran-s Is, p and z values and,\n",
    "# the quadrant in which each observation falls in a Moran's scatter plot.\n",
    "\n",
    "# We are interested in HH and LL clusters, which we call hotspots, while Lh and HL points are sptial outliers.\n",
    "\n",
    "lisa_df.tail()"
   ]
  },
  {
   "cell_type": "code",
   "execution_count": 26,
   "id": "4598c66c",
   "metadata": {},
   "outputs": [],
   "source": [
    "lisa_df.to_csv(r\"C:\\my_packages\\doc_data\\profiles\\lisa_location.csv\")"
   ]
  },
  {
   "cell_type": "markdown",
   "id": "d5a5c604",
   "metadata": {},
   "source": [
    "### Classify dh magnitudes and create classes of elevation changes (transient states)\n",
    "\n",
    "We perform this steps creating two dataframes:\n",
    "* hotspot-filtered: we discard spatial outliers to capture location scale behaviour.\n",
    "* full: we retain all the elevation changes to use it at the transect scale"
   ]
  },
  {
   "cell_type": "code",
   "execution_count": 10,
   "id": "d15e3ea1",
   "metadata": {},
   "outputs": [],
   "source": [
    "# For location-scale analysis\n",
    "#sig_hhll=lisa_df.query(\"lisa_p_sim <= 0.001 & lisa_q in [1,3]\") # discard spatial outliers\n",
    "#sig_hhll= sig_hhll[~sig_hhll['dh'].between(-0.05, 0.05)]  # discard points within global limit of detection (5 cm)\n",
    "#sig_hhll.index=(range(sig_hhll.shape[0]))\n",
    "\n",
    "dh_df= dh_df[~dh_df['dh'].between(-0.05, 0.05)]  # discard points within global limit of detection (5 cm)\n",
    "dh_df.index=(range(dh_df.shape[0]))\n"
   ]
  },
  {
   "cell_type": "code",
   "execution_count": 11,
   "id": "3fd0938f",
   "metadata": {},
   "outputs": [],
   "source": [
    "#separate the erosion and the deposition clusters\n",
    "\n",
    "#sig_hhll_ero=sig_hhll[sig_hhll.dh < 0]\n",
    "#sig_hhll_depo=sig_hhll[sig_hhll.dh > 0]\n",
    "\n",
    "full_dh_ero=dh_df[dh_df.dh < 0]\n",
    "full_dh_depo=dh_df[dh_df.dh > 0]"
   ]
  },
  {
   "cell_type": "markdown",
   "id": "42242cae",
   "metadata": {},
   "source": [
    "## Equal classes adapted from JC"
   ]
  },
  {
   "cell_type": "markdown",
   "id": "f4e00cb0",
   "metadata": {},
   "source": [
    "First, we use __Jenks_Caspall classification method (Natural Breaks)__ to obtain 5 classes of erosional and depositional elevation change values  in hotspots (LL and HH).\n",
    "\n",
    "Then, in order to have the same magnitude classes for both erosion and deposition, we compute the __mean between cut-off values__ and obtain a Jenks-Caspall informed classification scheme."
   ]
  },
  {
   "cell_type": "markdown",
   "id": "2395aa1f",
   "metadata": {},
   "source": [
    "__UPDATED__: we use JC on absolute value of dh outside -0.05 to 0.05"
   ]
  },
  {
   "cell_type": "code",
   "execution_count": 12,
   "id": "1f2570f9",
   "metadata": {},
   "outputs": [
    {
     "name": "stdout",
     "output_type": "stream",
     "text": [
      "Fit of the classifier: 1669.4758029968957\n"
     ]
    },
    {
     "data": {
      "text/plain": [
       "               JenksCaspall              \n",
       " \n",
       "Lower          Upper                Count\n",
       "=========================================\n",
       "        x[i] <= 0.154               11583\n",
       "0.154 < x[i] <= 0.295                8583\n",
       "0.295 < x[i] <= 0.492                6197\n",
       "0.492 < x[i] <= 1.154                3662\n",
       "1.154 < x[i] <= 4.973                1067"
      ]
     },
     "execution_count": 12,
     "metadata": {},
     "output_type": "execute_result"
    }
   ],
   "source": [
    "absolute_fulldh=np.abs(dh_df.dh)\n",
    "bins_abs_JC_fulldh=mc.JenksCaspall(absolute_fulldh)\n",
    "print(f\"Fit of the classifier: {bins_abs_JC_fulldh.adcm}\")\n",
    "\n",
    "bins_abs_JC_fulldh"
   ]
  },
  {
   "cell_type": "code",
   "execution_count": 43,
   "id": "ecb5cc1a",
   "metadata": {},
   "outputs": [
    {
     "name": "stdout",
     "output_type": "stream",
     "text": [
      "Fit of the classifier: 1106.8712480317356\n"
     ]
    },
    {
     "data": {
      "text/plain": [
       "              JenksCaspall              \n",
       " \n",
       "Lower          Upper               Count\n",
       "========================================\n",
       "        x[i] <= 0.170               6568\n",
       "0.170 < x[i] <= 0.324               5265\n",
       "0.324 < x[i] <= 0.537               3744\n",
       "0.537 < x[i] <= 1.213               2073\n",
       "1.213 < x[i] <= 4.973                737"
      ]
     },
     "execution_count": 43,
     "metadata": {},
     "output_type": "execute_result"
    }
   ],
   "source": [
    "absolute=np.abs(sig_hhll.dh)\n",
    "bins_abs_JC=mc.JenksCaspall(absolute)\n",
    "print(f\"Fit of the classifier: {bins_abs_JC.adcm}\")\n",
    "\n",
    "bins_abs_JC"
   ]
  },
  {
   "cell_type": "code",
   "execution_count": 14,
   "id": "b9913928",
   "metadata": {},
   "outputs": [],
   "source": [
    "# Hotspot filtered depositional and erosional classes\n",
    "bins_depo = [0.17, 0.32,0.54,1.21] \n",
    "bins_ero = [-1.21,-0.54,-0.32,-0.17]\n",
    "\n",
    "# Hotspot filtered depositional and erosional classes\n",
    "bins_depo_fulldh = [0.15, 0.29,0.49,1.54] \n",
    "bins_ero_fulldh = [-1.54,-0.49,-0.29,-0.15]\n",
    "\n",
    "\n",
    "#bins_ero_JC = UserDefined(sig_hhll_ero.dh, bins_ero)\n",
    "#bins_depo_JC = UserDefined(sig_hhll_depo.dh, bins_depo)\n",
    "bins_ero_JC_fulldh = UserDefined(full_dh_ero.dh, bins_ero_fulldh)\n",
    "bins_depo_JC_fulldh = UserDefined(full_dh_depo.dh, bins_depo_fulldh)\n",
    "\n",
    "# in what bin is my data?\n",
    "\n",
    "#class_erosion=bins_ero_JC.yb.tolist()\n",
    "#class_deposition=bins_depo_JC.yb.tolist()\n",
    "class_erosion_fulldh=bins_ero_JC_fulldh.yb.tolist()\n",
    "class_deposition_fulldh=bins_depo_JC_fulldh.yb.tolist()\n"
   ]
  },
  {
   "cell_type": "code",
   "execution_count": 16,
   "id": "8d55ac90",
   "metadata": {},
   "outputs": [
    {
     "name": "stderr",
     "output_type": "stream",
     "text": [
      "<ipython-input-16-4ca090d7444d>:14: SettingWithCopyWarning: \n",
      "A value is trying to be set on a copy of a slice from a DataFrame.\n",
      "Try using .loc[row_indexer,col_indexer] = value instead\n",
      "\n",
      "See the caveats in the documentation: https://pandas.pydata.org/pandas-docs/stable/user_guide/indexing.html#returning-a-view-versus-a-copy\n",
      "  full_dh_ero[\"jc_bin\"]=class_erosion_fulldh\n",
      "<ipython-input-16-4ca090d7444d>:15: SettingWithCopyWarning: \n",
      "A value is trying to be set on a copy of a slice from a DataFrame.\n",
      "Try using .loc[row_indexer,col_indexer] = value instead\n",
      "\n",
      "See the caveats in the documentation: https://pandas.pydata.org/pandas-docs/stable/user_guide/indexing.html#returning-a-view-versus-a-copy\n",
      "  full_dh_depo[\"jc_bin\"]=class_deposition_fulldh\n",
      "<ipython-input-16-4ca090d7444d>:19: SettingWithCopyWarning: \n",
      "A value is trying to be set on a copy of a slice from a DataFrame.\n",
      "Try using .loc[row_indexer,col_indexer] = value instead\n",
      "\n",
      "See the caveats in the documentation: https://pandas.pydata.org/pandas-docs/stable/user_guide/indexing.html#returning-a-view-versus-a-copy\n",
      "  full_dh_ero[\"markov_tag\"]=tags_erosion_fulldh\n",
      "<ipython-input-16-4ca090d7444d>:20: SettingWithCopyWarning: \n",
      "A value is trying to be set on a copy of a slice from a DataFrame.\n",
      "Try using .loc[row_indexer,col_indexer] = value instead\n",
      "\n",
      "See the caveats in the documentation: https://pandas.pydata.org/pandas-docs/stable/user_guide/indexing.html#returning-a-view-versus-a-copy\n",
      "  full_dh_depo[\"markov_tag\"]=tags_deposition_fulldh\n"
     ]
    }
   ],
   "source": [
    "# assign every bin to the right label (see table 1)\n",
    "\n",
    "states_ero={0:\"ee\",1:\"he\",2:\"me\",3:\"se\",4:\"ue\"}   \n",
    "states_depo={0:\"ud\",1:\"sd\",2:\"md\",3:\"hd\",4:\"ed\"}\n",
    "\n",
    "\n",
    "#tags_erosion=[states_ero[i] for i in class_erosion]\n",
    "#tags_deposition=[states_depo[i] for i in class_deposition]\n",
    "tags_erosion_fulldh=[states_ero[i] for i in class_erosion_fulldh]\n",
    "tags_deposition_fulldh=[states_depo[i] for i in class_deposition_fulldh]\n",
    "\n",
    "#sig_hhll_ero[\"jc_bin\"]=class_erosion\n",
    "#sig_hhll_depo[\"jc_bin\"]=class_deposition\n",
    "full_dh_ero[\"jc_bin\"]=class_erosion_fulldh\n",
    "full_dh_depo[\"jc_bin\"]=class_deposition_fulldh\n",
    "\n",
    "#sig_hhll_ero[\"markov_tag\"]=tags_erosion\n",
    "#sig_hhll_depo[\"markov_tag\"]=tags_deposition\n",
    "full_dh_ero[\"markov_tag\"]=tags_erosion_fulldh\n",
    "full_dh_depo[\"markov_tag\"]=tags_deposition_fulldh"
   ]
  },
  {
   "cell_type": "markdown",
   "id": "e5b62bfe",
   "metadata": {},
   "source": [
    "Concatenate both classified datasets to finally obtain the 2 datasets:\n",
    "* Significant HH and LL hotspots of sand-only beyond limit of detection beachface change\n",
    "* Full dataset beyond limit of detection"
   ]
  },
  {
   "cell_type": "code",
   "execution_count": 17,
   "id": "5c8b9a88",
   "metadata": {},
   "outputs": [
    {
     "data": {
      "text/html": [
       "<div>\n",
       "<style scoped>\n",
       "    .dataframe tbody tr th:only-of-type {\n",
       "        vertical-align: middle;\n",
       "    }\n",
       "\n",
       "    .dataframe tbody tr th {\n",
       "        vertical-align: top;\n",
       "    }\n",
       "\n",
       "    .dataframe thead th {\n",
       "        text-align: right;\n",
       "    }\n",
       "</style>\n",
       "<table border=\"1\" class=\"dataframe\">\n",
       "  <thead>\n",
       "    <tr style=\"text-align: right;\">\n",
       "      <th></th>\n",
       "      <th>geometry</th>\n",
       "      <th>location</th>\n",
       "      <th>tr_id</th>\n",
       "      <th>distance</th>\n",
       "      <th>dt</th>\n",
       "      <th>date_pre</th>\n",
       "      <th>date_post</th>\n",
       "      <th>z_pre</th>\n",
       "      <th>z_post</th>\n",
       "      <th>dh</th>\n",
       "      <th>jc_bin</th>\n",
       "      <th>markov_tag</th>\n",
       "    </tr>\n",
       "  </thead>\n",
       "  <tbody>\n",
       "    <tr>\n",
       "      <th>0</th>\n",
       "      <td>POINT (299901.7782793006 5773692.070767866)</td>\n",
       "      <td>leo</td>\n",
       "      <td>69</td>\n",
       "      <td>26.8</td>\n",
       "      <td>dt_5</td>\n",
       "      <td>2019-03-28</td>\n",
       "      <td>2019-07-31</td>\n",
       "      <td>0.223866</td>\n",
       "      <td>0.112838</td>\n",
       "      <td>-0.111029</td>\n",
       "      <td>4</td>\n",
       "      <td>ue</td>\n",
       "    </tr>\n",
       "    <tr>\n",
       "      <th>1</th>\n",
       "      <td>POINT (299901.4828779417 5773692.018441608)</td>\n",
       "      <td>leo</td>\n",
       "      <td>69</td>\n",
       "      <td>27.1</td>\n",
       "      <td>dt_5</td>\n",
       "      <td>2019-03-28</td>\n",
       "      <td>2019-07-31</td>\n",
       "      <td>0.256890</td>\n",
       "      <td>0.152005</td>\n",
       "      <td>-0.104885</td>\n",
       "      <td>4</td>\n",
       "      <td>ue</td>\n",
       "    </tr>\n",
       "    <tr>\n",
       "      <th>2</th>\n",
       "      <td>POINT (299901.2859437025 5773691.983557437)</td>\n",
       "      <td>leo</td>\n",
       "      <td>69</td>\n",
       "      <td>27.3</td>\n",
       "      <td>dt_5</td>\n",
       "      <td>2019-03-28</td>\n",
       "      <td>2019-07-31</td>\n",
       "      <td>0.283333</td>\n",
       "      <td>0.176710</td>\n",
       "      <td>-0.106624</td>\n",
       "      <td>4</td>\n",
       "      <td>ue</td>\n",
       "    </tr>\n",
       "    <tr>\n",
       "      <th>3</th>\n",
       "      <td>POINT (299901.1874765829 5773691.966115351)</td>\n",
       "      <td>leo</td>\n",
       "      <td>69</td>\n",
       "      <td>27.4</td>\n",
       "      <td>dt_5</td>\n",
       "      <td>2019-03-28</td>\n",
       "      <td>2019-07-31</td>\n",
       "      <td>0.305573</td>\n",
       "      <td>0.188821</td>\n",
       "      <td>-0.116752</td>\n",
       "      <td>4</td>\n",
       "      <td>ue</td>\n",
       "    </tr>\n",
       "    <tr>\n",
       "      <th>4</th>\n",
       "      <td>POINT (299901.0890094633 5773691.948673265)</td>\n",
       "      <td>leo</td>\n",
       "      <td>69</td>\n",
       "      <td>27.5</td>\n",
       "      <td>dt_5</td>\n",
       "      <td>2019-03-28</td>\n",
       "      <td>2019-07-31</td>\n",
       "      <td>0.329158</td>\n",
       "      <td>0.197999</td>\n",
       "      <td>-0.131160</td>\n",
       "      <td>4</td>\n",
       "      <td>ue</td>\n",
       "    </tr>\n",
       "    <tr>\n",
       "      <th>...</th>\n",
       "      <td>...</td>\n",
       "      <td>...</td>\n",
       "      <td>...</td>\n",
       "      <td>...</td>\n",
       "      <td>...</td>\n",
       "      <td>...</td>\n",
       "      <td>...</td>\n",
       "      <td>...</td>\n",
       "      <td>...</td>\n",
       "      <td>...</td>\n",
       "      <td>...</td>\n",
       "      <td>...</td>\n",
       "    </tr>\n",
       "    <tr>\n",
       "      <th>31087</th>\n",
       "      <td>POINT (731468.0187435427 5705156.375496609)</td>\n",
       "      <td>mar</td>\n",
       "      <td>3</td>\n",
       "      <td>44.7</td>\n",
       "      <td>dt_0</td>\n",
       "      <td>2018-06-01</td>\n",
       "      <td>2018-06-21</td>\n",
       "      <td>2.075071</td>\n",
       "      <td>2.708724</td>\n",
       "      <td>0.633653</td>\n",
       "      <td>3</td>\n",
       "      <td>hd</td>\n",
       "    </tr>\n",
       "    <tr>\n",
       "      <th>31088</th>\n",
       "      <td>POINT (731467.8198957373 5705156.396933733)</td>\n",
       "      <td>mar</td>\n",
       "      <td>3</td>\n",
       "      <td>44.9</td>\n",
       "      <td>dt_0</td>\n",
       "      <td>2018-06-01</td>\n",
       "      <td>2018-06-21</td>\n",
       "      <td>2.090222</td>\n",
       "      <td>2.918043</td>\n",
       "      <td>0.827821</td>\n",
       "      <td>3</td>\n",
       "      <td>hd</td>\n",
       "    </tr>\n",
       "    <tr>\n",
       "      <th>31089</th>\n",
       "      <td>POINT (731467.7204718346 5705156.407652295)</td>\n",
       "      <td>mar</td>\n",
       "      <td>3</td>\n",
       "      <td>45.0</td>\n",
       "      <td>dt_0</td>\n",
       "      <td>2018-06-01</td>\n",
       "      <td>2018-06-21</td>\n",
       "      <td>2.116984</td>\n",
       "      <td>3.143203</td>\n",
       "      <td>1.026220</td>\n",
       "      <td>3</td>\n",
       "      <td>hd</td>\n",
       "    </tr>\n",
       "    <tr>\n",
       "      <th>31090</th>\n",
       "      <td>POINT (731467.621047932 5705156.418370857)</td>\n",
       "      <td>mar</td>\n",
       "      <td>3</td>\n",
       "      <td>45.1</td>\n",
       "      <td>dt_0</td>\n",
       "      <td>2018-06-01</td>\n",
       "      <td>2018-06-21</td>\n",
       "      <td>2.140646</td>\n",
       "      <td>3.303227</td>\n",
       "      <td>1.162581</td>\n",
       "      <td>3</td>\n",
       "      <td>hd</td>\n",
       "    </tr>\n",
       "    <tr>\n",
       "      <th>31091</th>\n",
       "      <td>POINT (731467.5216240293 5705156.429089419)</td>\n",
       "      <td>mar</td>\n",
       "      <td>3</td>\n",
       "      <td>45.2</td>\n",
       "      <td>dt_0</td>\n",
       "      <td>2018-06-01</td>\n",
       "      <td>2018-06-21</td>\n",
       "      <td>2.166688</td>\n",
       "      <td>3.388355</td>\n",
       "      <td>1.221667</td>\n",
       "      <td>3</td>\n",
       "      <td>hd</td>\n",
       "    </tr>\n",
       "  </tbody>\n",
       "</table>\n",
       "<p>31092 rows × 12 columns</p>\n",
       "</div>"
      ],
      "text/plain": [
       "                                          geometry location  tr_id  distance  \\\n",
       "0      POINT (299901.7782793006 5773692.070767866)      leo     69      26.8   \n",
       "1      POINT (299901.4828779417 5773692.018441608)      leo     69      27.1   \n",
       "2      POINT (299901.2859437025 5773691.983557437)      leo     69      27.3   \n",
       "3      POINT (299901.1874765829 5773691.966115351)      leo     69      27.4   \n",
       "4      POINT (299901.0890094633 5773691.948673265)      leo     69      27.5   \n",
       "...                                            ...      ...    ...       ...   \n",
       "31087  POINT (731468.0187435427 5705156.375496609)      mar      3      44.7   \n",
       "31088  POINT (731467.8198957373 5705156.396933733)      mar      3      44.9   \n",
       "31089  POINT (731467.7204718346 5705156.407652295)      mar      3      45.0   \n",
       "31090   POINT (731467.621047932 5705156.418370857)      mar      3      45.1   \n",
       "31091  POINT (731467.5216240293 5705156.429089419)      mar      3      45.2   \n",
       "\n",
       "         dt    date_pre   date_post     z_pre    z_post        dh  jc_bin  \\\n",
       "0      dt_5  2019-03-28  2019-07-31  0.223866  0.112838 -0.111029       4   \n",
       "1      dt_5  2019-03-28  2019-07-31  0.256890  0.152005 -0.104885       4   \n",
       "2      dt_5  2019-03-28  2019-07-31  0.283333  0.176710 -0.106624       4   \n",
       "3      dt_5  2019-03-28  2019-07-31  0.305573  0.188821 -0.116752       4   \n",
       "4      dt_5  2019-03-28  2019-07-31  0.329158  0.197999 -0.131160       4   \n",
       "...     ...         ...         ...       ...       ...       ...     ...   \n",
       "31087  dt_0  2018-06-01  2018-06-21  2.075071  2.708724  0.633653       3   \n",
       "31088  dt_0  2018-06-01  2018-06-21  2.090222  2.918043  0.827821       3   \n",
       "31089  dt_0  2018-06-01  2018-06-21  2.116984  3.143203  1.026220       3   \n",
       "31090  dt_0  2018-06-01  2018-06-21  2.140646  3.303227  1.162581       3   \n",
       "31091  dt_0  2018-06-01  2018-06-21  2.166688  3.388355  1.221667       3   \n",
       "\n",
       "      markov_tag  \n",
       "0             ue  \n",
       "1             ue  \n",
       "2             ue  \n",
       "3             ue  \n",
       "4             ue  \n",
       "...          ...  \n",
       "31087         hd  \n",
       "31088         hd  \n",
       "31089         hd  \n",
       "31090         hd  \n",
       "31091         hd  \n",
       "\n",
       "[31092 rows x 12 columns]"
      ]
     },
     "execution_count": 17,
     "metadata": {},
     "output_type": "execute_result"
    }
   ],
   "source": [
    "#labelled_hotspot_df=pd.concat([sig_hhll_ero,sig_hhll_depo],ignore_index=False)\n",
    "labelled_fulldh_df=pd.concat([full_dh_ero,full_dh_depo],ignore_index=False)\n",
    "\n",
    "labelled_fulldh_df"
   ]
  },
  {
   "cell_type": "code",
   "execution_count": 18,
   "id": "afab3b47",
   "metadata": {},
   "outputs": [],
   "source": [
    "# these dataframes are ready for BCD indices computation\n",
    "# labelled_hotspot_df.to_csv(r\"C:\\my_packages\\doc_data\\profiles\\markov_tagged_df.csv\")\n",
    "labelled_fulldh_df.to_csv(r\"C:\\my_packages\\doc_data\\profiles\\markov_tagged_fulldh_df.csv\")"
   ]
  }
 ],
 "metadata": {
  "kernelspec": {
   "display_name": "Python 3",
   "language": "python",
   "name": "python3"
  },
  "language_info": {
   "codemirror_mode": {
    "name": "ipython",
    "version": 3
   },
   "file_extension": ".py",
   "mimetype": "text/x-python",
   "name": "python",
   "nbconvert_exporter": "python",
   "pygments_lexer": "ipython3",
   "version": "3.9.4"
  }
 },
 "nbformat": 4,
 "nbformat_minor": 5
}
