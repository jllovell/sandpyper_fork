{
 "cells": [
  {
   "cell_type": "markdown",
   "metadata": {},
   "source": [
    "<font size=\"5\"><center> <b>Sandpyper: sandy beaches SfM-UAV analysis tools</b></center></font>\n",
    "<font size=\"4\"><center> <b> Example 1 - Profiles extraction </b></center> <br>\n",
    "\n",
    "    \n",
    "<center><img src=\"images/banner.png\" width=\"80%\"  /></center>\n",
    "\n",
    "<font face=\"Calibri\">\n",
    "<br>\n",
    "<font size=\"5\"> <b>Profiles creation and data extraction from DSM and orthophotos</b></font>\n",
    "\n",
    "<br>\n",
    "<font size=\"4\"> <b> Nicolas Pucino; PhD Student @ Deakin University, Australia </b> <br>\n",
    "\n",
    "<font size=\"3\">The first steps in a typical workflow is to create cross-shore transects in all the locations and extract elevation and RGB information along those transects. Sandpiper allows the data extraction from hundreds of rasters at once, in an organised way. <br>\n",
    "\n",
    "<b>This notebook covers the following concepts:</b>\n",
    "\n",
    "- Naming conventions and global parameters.\n",
    "- Setting up the folders.\n",
    "- Setting up the folders.\n",
    "</font>\n",
    "\n",
    "\n",
    "</font>"
   ]
  },
  {
   "cell_type": "markdown",
   "metadata": {},
   "source": [
    "Import all it is required."
   ]
  },
  {
   "cell_type": "code",
   "execution_count": 1,
   "metadata": {
    "scrolled": true
   },
   "outputs": [
    {
     "name": "stderr",
     "output_type": "stream",
     "text": [
      "C:\\conda3\\envs\\sandpyper_env\\lib\\site-packages\\pysal\\explore\\segregation\\network\\network.py:15: UserWarning: You need pandana and urbanaccess to work with segregation's network module\n",
      "You can install them with  `pip install urbanaccess pandana` or `conda install -c udst pandana urbanaccess`\n",
      "  warn(\n",
      "C:\\conda3\\envs\\sandpyper_env\\lib\\site-packages\\pysal\\model\\spvcm\\abstracts.py:10: UserWarning: The `dill` module is required to use the sqlite backend fully.\n",
      "  from .sqlite import head_to_sql, start_sql\n",
      "C:\\conda3\\envs\\sandpyper_env\\lib\\site-packages\\fuzzywuzzy\\fuzz.py:11: UserWarning: Using slow pure-python SequenceMatcher. Install python-Levenshtein to remove this warning\n",
      "  warnings.warn('Using slow pure-python SequenceMatcher. Install python-Levenshtein to remove this warning')\n"
     ]
    }
   ],
   "source": [
    "import matplotlib.pyplot as plt\n",
    "import numpy as np\n",
    "import pandas as pd\n",
    "import geopandas as gpd\n",
    "import os\n",
    "import pickle\n",
    "from tqdm.notebook import tqdm\n",
    "\n",
    "from sandpyper.profile import ProfileSet\n",
    "from sandpyper.hotspot import ProfileDynamics\n",
    "\n",
    "pd.options.mode.chained_assignment = None  # default='warn'"
   ]
  },
  {
   "cell_type": "code",
   "execution_count": 2,
   "metadata": {},
   "outputs": [],
   "source": [
    "dirNameDSM=r'C:\\my_packages\\sandpyper\\tests\\test_data\\dsm_1m'\n",
    "dirNameOrtho=r'C:\\my_packages\\sandpyper\\tests\\test_data\\orthos_1m'\n",
    "dirNameTrans=r'C:\\my_packages\\sandpyper\\tests\\test_data\\transects'\n",
    "transects_spacing=20\n",
    "\n",
    "loc_codes=[\"mar\",\"leo\"]\n",
    "loc_search_dict = {   'leo': ['St','Leonards','leonards','leo'],\n",
    "                      'mar': ['Marengo','marengo','mar'] }\n",
    "crs_dict_string= {\n",
    "                 'mar': {'init': 'epsg:32754'},\n",
    "                 'leo':{'init': 'epsg:32755'}\n",
    "                 }\n",
    "lod_mode=r\"C:\\my_packages\\sandpyper\\tests\\test_data\\lod_transects\"\n",
    "\n",
    "D=pickle.load(open(r\"C:\\my_packages\\sandpyper\\tests\\test_data\\test.p\", \"rb\"))\n",
    "\n",
    "loc_subset=[\"mar\"] # the function is optimised for single-location plots, but you can also pass a list of location codes\n",
    "colors_dict={\"mar\":'r',        # if you use multiple locations, then dictionary key is the location code and value the color\n",
    "            \"leo\":'b'}"
   ]
  },
  {
   "cell_type": "code",
   "execution_count": 3,
   "metadata": {},
   "outputs": [
    {
     "name": "stdout",
     "output_type": "stream",
     "text": [
      "Filter activated: only ['sand'] points will be retained.\n",
      "working on leo\n"
     ]
    },
    {
     "data": {
      "application/vnd.jupyter.widget-view+json": {
       "model_id": "cf2b27451f9249e9b97858e04a7b97ad",
       "version_major": 2,
       "version_minor": 0
      },
      "text/plain": [
       "  0%|          | 0/6 [00:00<?, ?it/s]"
      ]
     },
     "metadata": {},
     "output_type": "display_data"
    },
    {
     "name": "stdout",
     "output_type": "stream",
     "text": [
      "Calculating dt0, from 20180606 to 20180713 in leo.\n",
      "Calculating dt1, from 20180713 to 20180920 in leo.\n",
      "Calculating dt2, from 20180920 to 20190211 in leo.\n",
      "Calculating dt3, from 20190211 to 20190328 in leo.\n",
      "Calculating dt4, from 20190328 to 20190731 in leo.\n",
      "working on mar\n"
     ]
    },
    {
     "data": {
      "application/vnd.jupyter.widget-view+json": {
       "model_id": "978978605935452fa9ba16b2fa3ea268",
       "version_major": 2,
       "version_minor": 0
      },
      "text/plain": [
       "  0%|          | 0/9 [00:00<?, ?it/s]"
      ]
     },
     "metadata": {},
     "output_type": "display_data"
    },
    {
     "name": "stdout",
     "output_type": "stream",
     "text": [
      "Calculating dt0, from 20180601 to 20180621 in mar.\n",
      "Calculating dt1, from 20180621 to 20180727 in mar.\n",
      "Calculating dt2, from 20180727 to 20180925 in mar.\n",
      "Calculating dt3, from 20180925 to 20181113 in mar.\n",
      "Calculating dt4, from 20181113 to 20181211 in mar.\n",
      "Calculating dt5, from 20181211 to 20190205 in mar.\n",
      "Calculating dt6, from 20190205 to 20190313 in mar.\n",
      "Calculating dt7, from 20190313 to 20190516 in mar.\n",
      "done\n",
      "working on mar\n"
     ]
    },
    {
     "data": {
      "application/vnd.jupyter.widget-view+json": {
       "model_id": "788e82559cf74b1fb06a856719a535ab",
       "version_major": 2,
       "version_minor": 0
      },
      "text/plain": [
       "  0%|          | 0/9 [00:00<?, ?it/s]"
      ]
     },
     "metadata": {},
     "output_type": "display_data"
    },
    {
     "name": "stdout",
     "output_type": "stream",
     "text": [
      "Calculating dt0, from 20180601 to 20180621 in mar.\n",
      "Calculating dt1, from 20180621 to 20180727 in mar.\n",
      "Calculating dt2, from 20180727 to 20180925 in mar.\n",
      "Calculating dt3, from 20180925 to 20181113 in mar.\n",
      "Calculating dt4, from 20181113 to 20181211 in mar.\n",
      "Calculating dt5, from 20181211 to 20190205 in mar.\n",
      "Calculating dt6, from 20190205 to 20190313 in mar.\n",
      "Calculating dt7, from 20190313 to 20190516 in mar.\n",
      "working on leo\n"
     ]
    },
    {
     "data": {
      "application/vnd.jupyter.widget-view+json": {
       "model_id": "2387b0cda8724c38a3a6929cfa798da5",
       "version_major": 2,
       "version_minor": 0
      },
      "text/plain": [
       "  0%|          | 0/6 [00:00<?, ?it/s]"
      ]
     },
     "metadata": {},
     "output_type": "display_data"
    },
    {
     "name": "stdout",
     "output_type": "stream",
     "text": [
      "Calculating dt0, from 20180606 to 20180713 in leo.\n",
      "Calculating dt1, from 20180713 to 20180920 in leo.\n",
      "Calculating dt2, from 20180920 to 20190211 in leo.\n",
      "Calculating dt3, from 20190211 to 20190328 in leo.\n",
      "Calculating dt4, from 20190328 to 20190731 in leo.\n",
      "done\n"
     ]
    }
   ],
   "source": [
    "D.compute_multitemporal(loc_full={'mar': 'Marengo',\n",
    "         'leo': 'St. Leonards'}, filter_class='sand')"
   ]
  },
  {
   "cell_type": "code",
   "execution_count": 4,
   "metadata": {},
   "outputs": [
    {
     "data": {
      "image/png": "[encoded data removed]",
      "text/plain": [
       "<Figure size 720x360 with 1 Axes>"
      ]
     },
     "metadata": {
      "needs_background": "light"
     },
     "output_type": "display_data"
    }
   ],
   "source": [
    "D.plot_transects(location='mar',tr_id=10, dt='dt_5', classified=True)"
   ]
  },
  {
   "cell_type": "code",
   "execution_count": 11,
   "metadata": {
    "scrolled": true
   },
   "outputs": [
    {
     "name": "stdout",
     "output_type": "stream",
     "text": [
      "Working on mar at dt_0\n"
     ]
    },
    {
     "data": {
      "image/png": "[encoded data removed]",
      "text/plain": [
       "<Figure size 525.6x216 with 2 Axes>"
      ]
     },
     "metadata": {
      "needs_background": "light"
     },
     "output_type": "display_data"
    },
    {
     "name": "stdout",
     "output_type": "stream",
     "text": [
      "Working on mar at dt_3\n"
     ]
    },
    {
     "data": {
      "image/png": "[encoded data removed]",
      "text/plain": [
       "<Figure size 525.6x216 with 2 Axes>"
      ]
     },
     "metadata": {
      "needs_background": "light"
     },
     "output_type": "display_data"
    },
    {
     "name": "stdout",
     "output_type": "stream",
     "text": [
      "Working on mar at dt_4\n"
     ]
    },
    {
     "data": {
      "image/png": "[encoded data removed]",
      "text/plain": [
       "<Figure size 525.6x216 with 2 Axes>"
      ]
     },
     "metadata": {
      "needs_background": "light"
     },
     "output_type": "display_data"
    }
   ],
   "source": [
    "mode=\"subset\" # if 'subset', only the provided location_subset and dt_subset will be plotted. If 'all', plot all.\n",
    "location_subset=['mar'] # provide a list of location codes. Only these locations will be plotted\n",
    "y_heat_bottom_limit=4 # bottom limit of the heatmaps (altimetric change)\n",
    "ax2_y_lims=[-1.5,1.5] # axis limit of the alongshore volumetric plot\n",
    "dt_subset=[\"dt_0\",\"dt_3\",\"dt_4\"]\n",
    "\n",
    "D.plot_alongshore_change(mode=mode, lod=D.lod_df,dt_subset=dt_subset,\n",
    "                        location_subset=location_subset,\n",
    "                        y_heat_bottom_limit=y_heat_bottom_limit,\n",
    "                        ax2_y_lims=ax2_y_lims)"
   ]
  },
  {
   "cell_type": "code",
   "execution_count": 20,
   "metadata": {},
   "outputs": [],
   "source": [
    "from sandpyper.volumetrics import prep_heatmap,fill_gaps\n",
    "import seaborn as sb"
   ]
  },
  {
   "cell_type": "code",
   "execution_count": 21,
   "metadata": {},
   "outputs": [
    {
     "data": {
      "text/html": [
       "<div>\n",
       "<style scoped>\n",
       "    .dataframe tbody tr th:only-of-type {\n",
       "        vertical-align: middle;\n",
       "    }\n",
       "\n",
       "    .dataframe tbody tr th {\n",
       "        vertical-align: top;\n",
       "    }\n",
       "\n",
       "    .dataframe thead th {\n",
       "        text-align: right;\n",
       "    }\n",
       "</style>\n",
       "<table border=\"1\" class=\"dataframe\">\n",
       "  <thead>\n",
       "    <tr style=\"text-align: right;\">\n",
       "      <th>int_tr</th>\n",
       "      <th>0</th>\n",
       "      <th>20</th>\n",
       "      <th>40</th>\n",
       "      <th>60</th>\n",
       "      <th>80</th>\n",
       "      <th>100</th>\n",
       "      <th>120</th>\n",
       "      <th>140</th>\n",
       "      <th>160</th>\n",
       "      <th>180</th>\n",
       "      <th>...</th>\n",
       "      <th>240</th>\n",
       "      <th>260</th>\n",
       "      <th>280</th>\n",
       "      <th>300</th>\n",
       "      <th>320</th>\n",
       "      <th>340</th>\n",
       "      <th>360</th>\n",
       "      <th>380</th>\n",
       "      <th>400</th>\n",
       "      <th>420</th>\n",
       "    </tr>\n",
       "  </thead>\n",
       "  <tbody>\n",
       "    <tr>\n",
       "      <th>0.0</th>\n",
       "      <td>NaN</td>\n",
       "      <td>NaN</td>\n",
       "      <td>NaN</td>\n",
       "      <td>NaN</td>\n",
       "      <td>NaN</td>\n",
       "      <td>NaN</td>\n",
       "      <td>NaN</td>\n",
       "      <td>NaN</td>\n",
       "      <td>NaN</td>\n",
       "      <td>NaN</td>\n",
       "      <td>...</td>\n",
       "      <td>NaN</td>\n",
       "      <td>NaN</td>\n",
       "      <td>NaN</td>\n",
       "      <td>NaN</td>\n",
       "      <td>NaN</td>\n",
       "      <td>NaN</td>\n",
       "      <td>NaN</td>\n",
       "      <td>NaN</td>\n",
       "      <td>NaN</td>\n",
       "      <td>NaN</td>\n",
       "    </tr>\n",
       "    <tr>\n",
       "      <th>1.0</th>\n",
       "      <td>NaN</td>\n",
       "      <td>NaN</td>\n",
       "      <td>NaN</td>\n",
       "      <td>NaN</td>\n",
       "      <td>NaN</td>\n",
       "      <td>NaN</td>\n",
       "      <td>NaN</td>\n",
       "      <td>NaN</td>\n",
       "      <td>NaN</td>\n",
       "      <td>NaN</td>\n",
       "      <td>...</td>\n",
       "      <td>NaN</td>\n",
       "      <td>NaN</td>\n",
       "      <td>NaN</td>\n",
       "      <td>NaN</td>\n",
       "      <td>NaN</td>\n",
       "      <td>NaN</td>\n",
       "      <td>NaN</td>\n",
       "      <td>NaN</td>\n",
       "      <td>NaN</td>\n",
       "      <td>NaN</td>\n",
       "    </tr>\n",
       "    <tr>\n",
       "      <th>2.0</th>\n",
       "      <td>NaN</td>\n",
       "      <td>NaN</td>\n",
       "      <td>NaN</td>\n",
       "      <td>NaN</td>\n",
       "      <td>NaN</td>\n",
       "      <td>NaN</td>\n",
       "      <td>NaN</td>\n",
       "      <td>NaN</td>\n",
       "      <td>NaN</td>\n",
       "      <td>NaN</td>\n",
       "      <td>...</td>\n",
       "      <td>NaN</td>\n",
       "      <td>NaN</td>\n",
       "      <td>NaN</td>\n",
       "      <td>NaN</td>\n",
       "      <td>NaN</td>\n",
       "      <td>NaN</td>\n",
       "      <td>NaN</td>\n",
       "      <td>NaN</td>\n",
       "      <td>NaN</td>\n",
       "      <td>NaN</td>\n",
       "    </tr>\n",
       "    <tr>\n",
       "      <th>3.0</th>\n",
       "      <td>NaN</td>\n",
       "      <td>NaN</td>\n",
       "      <td>NaN</td>\n",
       "      <td>NaN</td>\n",
       "      <td>NaN</td>\n",
       "      <td>NaN</td>\n",
       "      <td>NaN</td>\n",
       "      <td>NaN</td>\n",
       "      <td>NaN</td>\n",
       "      <td>NaN</td>\n",
       "      <td>...</td>\n",
       "      <td>NaN</td>\n",
       "      <td>NaN</td>\n",
       "      <td>NaN</td>\n",
       "      <td>NaN</td>\n",
       "      <td>NaN</td>\n",
       "      <td>NaN</td>\n",
       "      <td>NaN</td>\n",
       "      <td>NaN</td>\n",
       "      <td>NaN</td>\n",
       "      <td>NaN</td>\n",
       "    </tr>\n",
       "    <tr>\n",
       "      <th>4.0</th>\n",
       "      <td>NaN</td>\n",
       "      <td>NaN</td>\n",
       "      <td>NaN</td>\n",
       "      <td>NaN</td>\n",
       "      <td>NaN</td>\n",
       "      <td>NaN</td>\n",
       "      <td>NaN</td>\n",
       "      <td>NaN</td>\n",
       "      <td>NaN</td>\n",
       "      <td>NaN</td>\n",
       "      <td>...</td>\n",
       "      <td>NaN</td>\n",
       "      <td>NaN</td>\n",
       "      <td>NaN</td>\n",
       "      <td>NaN</td>\n",
       "      <td>NaN</td>\n",
       "      <td>NaN</td>\n",
       "      <td>NaN</td>\n",
       "      <td>NaN</td>\n",
       "      <td>NaN</td>\n",
       "      <td>NaN</td>\n",
       "    </tr>\n",
       "    <tr>\n",
       "      <th>5.0</th>\n",
       "      <td>NaN</td>\n",
       "      <td>NaN</td>\n",
       "      <td>NaN</td>\n",
       "      <td>NaN</td>\n",
       "      <td>NaN</td>\n",
       "      <td>NaN</td>\n",
       "      <td>NaN</td>\n",
       "      <td>NaN</td>\n",
       "      <td>NaN</td>\n",
       "      <td>NaN</td>\n",
       "      <td>...</td>\n",
       "      <td>NaN</td>\n",
       "      <td>NaN</td>\n",
       "      <td>NaN</td>\n",
       "      <td>NaN</td>\n",
       "      <td>NaN</td>\n",
       "      <td>NaN</td>\n",
       "      <td>NaN</td>\n",
       "      <td>NaN</td>\n",
       "      <td>NaN</td>\n",
       "      <td>NaN</td>\n",
       "    </tr>\n",
       "    <tr>\n",
       "      <th>6.0</th>\n",
       "      <td>NaN</td>\n",
       "      <td>NaN</td>\n",
       "      <td>NaN</td>\n",
       "      <td>NaN</td>\n",
       "      <td>NaN</td>\n",
       "      <td>NaN</td>\n",
       "      <td>NaN</td>\n",
       "      <td>NaN</td>\n",
       "      <td>NaN</td>\n",
       "      <td>NaN</td>\n",
       "      <td>...</td>\n",
       "      <td>NaN</td>\n",
       "      <td>NaN</td>\n",
       "      <td>NaN</td>\n",
       "      <td>NaN</td>\n",
       "      <td>NaN</td>\n",
       "      <td>NaN</td>\n",
       "      <td>NaN</td>\n",
       "      <td>NaN</td>\n",
       "      <td>NaN</td>\n",
       "      <td>NaN</td>\n",
       "    </tr>\n",
       "    <tr>\n",
       "      <th>7.0</th>\n",
       "      <td>NaN</td>\n",
       "      <td>NaN</td>\n",
       "      <td>NaN</td>\n",
       "      <td>NaN</td>\n",
       "      <td>NaN</td>\n",
       "      <td>NaN</td>\n",
       "      <td>NaN</td>\n",
       "      <td>NaN</td>\n",
       "      <td>NaN</td>\n",
       "      <td>NaN</td>\n",
       "      <td>...</td>\n",
       "      <td>NaN</td>\n",
       "      <td>NaN</td>\n",
       "      <td>NaN</td>\n",
       "      <td>NaN</td>\n",
       "      <td>NaN</td>\n",
       "      <td>NaN</td>\n",
       "      <td>NaN</td>\n",
       "      <td>NaN</td>\n",
       "      <td>NaN</td>\n",
       "      <td>NaN</td>\n",
       "    </tr>\n",
       "    <tr>\n",
       "      <th>8.0</th>\n",
       "      <td>NaN</td>\n",
       "      <td>NaN</td>\n",
       "      <td>NaN</td>\n",
       "      <td>NaN</td>\n",
       "      <td>NaN</td>\n",
       "      <td>NaN</td>\n",
       "      <td>NaN</td>\n",
       "      <td>NaN</td>\n",
       "      <td>NaN</td>\n",
       "      <td>NaN</td>\n",
       "      <td>...</td>\n",
       "      <td>NaN</td>\n",
       "      <td>NaN</td>\n",
       "      <td>NaN</td>\n",
       "      <td>NaN</td>\n",
       "      <td>NaN</td>\n",
       "      <td>NaN</td>\n",
       "      <td>NaN</td>\n",
       "      <td>NaN</td>\n",
       "      <td>NaN</td>\n",
       "      <td>NaN</td>\n",
       "    </tr>\n",
       "    <tr>\n",
       "      <th>9.0</th>\n",
       "      <td>NaN</td>\n",
       "      <td>NaN</td>\n",
       "      <td>NaN</td>\n",
       "      <td>NaN</td>\n",
       "      <td>NaN</td>\n",
       "      <td>NaN</td>\n",
       "      <td>NaN</td>\n",
       "      <td>NaN</td>\n",
       "      <td>NaN</td>\n",
       "      <td>NaN</td>\n",
       "      <td>...</td>\n",
       "      <td>NaN</td>\n",
       "      <td>NaN</td>\n",
       "      <td>NaN</td>\n",
       "      <td>NaN</td>\n",
       "      <td>NaN</td>\n",
       "      <td>NaN</td>\n",
       "      <td>NaN</td>\n",
       "      <td>NaN</td>\n",
       "      <td>NaN</td>\n",
       "      <td>NaN</td>\n",
       "    </tr>\n",
       "    <tr>\n",
       "      <th>10.0</th>\n",
       "      <td>NaN</td>\n",
       "      <td>NaN</td>\n",
       "      <td>NaN</td>\n",
       "      <td>NaN</td>\n",
       "      <td>NaN</td>\n",
       "      <td>NaN</td>\n",
       "      <td>NaN</td>\n",
       "      <td>NaN</td>\n",
       "      <td>NaN</td>\n",
       "      <td>NaN</td>\n",
       "      <td>...</td>\n",
       "      <td>NaN</td>\n",
       "      <td>NaN</td>\n",
       "      <td>NaN</td>\n",
       "      <td>NaN</td>\n",
       "      <td>NaN</td>\n",
       "      <td>NaN</td>\n",
       "      <td>NaN</td>\n",
       "      <td>NaN</td>\n",
       "      <td>NaN</td>\n",
       "      <td>NaN</td>\n",
       "    </tr>\n",
       "    <tr>\n",
       "      <th>11.0</th>\n",
       "      <td>NaN</td>\n",
       "      <td>NaN</td>\n",
       "      <td>NaN</td>\n",
       "      <td>NaN</td>\n",
       "      <td>NaN</td>\n",
       "      <td>NaN</td>\n",
       "      <td>NaN</td>\n",
       "      <td>NaN</td>\n",
       "      <td>NaN</td>\n",
       "      <td>NaN</td>\n",
       "      <td>...</td>\n",
       "      <td>NaN</td>\n",
       "      <td>NaN</td>\n",
       "      <td>NaN</td>\n",
       "      <td>NaN</td>\n",
       "      <td>NaN</td>\n",
       "      <td>NaN</td>\n",
       "      <td>NaN</td>\n",
       "      <td>NaN</td>\n",
       "      <td>NaN</td>\n",
       "      <td>NaN</td>\n",
       "    </tr>\n",
       "    <tr>\n",
       "      <th>12.0</th>\n",
       "      <td>NaN</td>\n",
       "      <td>NaN</td>\n",
       "      <td>NaN</td>\n",
       "      <td>NaN</td>\n",
       "      <td>NaN</td>\n",
       "      <td>NaN</td>\n",
       "      <td>NaN</td>\n",
       "      <td>NaN</td>\n",
       "      <td>NaN</td>\n",
       "      <td>NaN</td>\n",
       "      <td>...</td>\n",
       "      <td>NaN</td>\n",
       "      <td>NaN</td>\n",
       "      <td>NaN</td>\n",
       "      <td>NaN</td>\n",
       "      <td>NaN</td>\n",
       "      <td>NaN</td>\n",
       "      <td>NaN</td>\n",
       "      <td>NaN</td>\n",
       "      <td>NaN</td>\n",
       "      <td>NaN</td>\n",
       "    </tr>\n",
       "    <tr>\n",
       "      <th>13.0</th>\n",
       "      <td>NaN</td>\n",
       "      <td>NaN</td>\n",
       "      <td>NaN</td>\n",
       "      <td>NaN</td>\n",
       "      <td>NaN</td>\n",
       "      <td>NaN</td>\n",
       "      <td>NaN</td>\n",
       "      <td>NaN</td>\n",
       "      <td>NaN</td>\n",
       "      <td>NaN</td>\n",
       "      <td>...</td>\n",
       "      <td>NaN</td>\n",
       "      <td>NaN</td>\n",
       "      <td>NaN</td>\n",
       "      <td>NaN</td>\n",
       "      <td>NaN</td>\n",
       "      <td>NaN</td>\n",
       "      <td>NaN</td>\n",
       "      <td>NaN</td>\n",
       "      <td>NaN</td>\n",
       "      <td>NaN</td>\n",
       "    </tr>\n",
       "    <tr>\n",
       "      <th>14.0</th>\n",
       "      <td>NaN</td>\n",
       "      <td>NaN</td>\n",
       "      <td>NaN</td>\n",
       "      <td>NaN</td>\n",
       "      <td>NaN</td>\n",
       "      <td>NaN</td>\n",
       "      <td>NaN</td>\n",
       "      <td>NaN</td>\n",
       "      <td>NaN</td>\n",
       "      <td>NaN</td>\n",
       "      <td>...</td>\n",
       "      <td>NaN</td>\n",
       "      <td>NaN</td>\n",
       "      <td>NaN</td>\n",
       "      <td>NaN</td>\n",
       "      <td>NaN</td>\n",
       "      <td>NaN</td>\n",
       "      <td>NaN</td>\n",
       "      <td>NaN</td>\n",
       "      <td>NaN</td>\n",
       "      <td>NaN</td>\n",
       "    </tr>\n",
       "    <tr>\n",
       "      <th>15.0</th>\n",
       "      <td>NaN</td>\n",
       "      <td>NaN</td>\n",
       "      <td>NaN</td>\n",
       "      <td>NaN</td>\n",
       "      <td>NaN</td>\n",
       "      <td>NaN</td>\n",
       "      <td>NaN</td>\n",
       "      <td>NaN</td>\n",
       "      <td>NaN</td>\n",
       "      <td>NaN</td>\n",
       "      <td>...</td>\n",
       "      <td>NaN</td>\n",
       "      <td>NaN</td>\n",
       "      <td>NaN</td>\n",
       "      <td>NaN</td>\n",
       "      <td>NaN</td>\n",
       "      <td>NaN</td>\n",
       "      <td>NaN</td>\n",
       "      <td>-0.301389</td>\n",
       "      <td>NaN</td>\n",
       "      <td>NaN</td>\n",
       "    </tr>\n",
       "    <tr>\n",
       "      <th>16.0</th>\n",
       "      <td>NaN</td>\n",
       "      <td>NaN</td>\n",
       "      <td>NaN</td>\n",
       "      <td>NaN</td>\n",
       "      <td>NaN</td>\n",
       "      <td>NaN</td>\n",
       "      <td>NaN</td>\n",
       "      <td>NaN</td>\n",
       "      <td>NaN</td>\n",
       "      <td>NaN</td>\n",
       "      <td>...</td>\n",
       "      <td>NaN</td>\n",
       "      <td>NaN</td>\n",
       "      <td>NaN</td>\n",
       "      <td>NaN</td>\n",
       "      <td>NaN</td>\n",
       "      <td>NaN</td>\n",
       "      <td>NaN</td>\n",
       "      <td>NaN</td>\n",
       "      <td>-0.177551</td>\n",
       "      <td>NaN</td>\n",
       "    </tr>\n",
       "    <tr>\n",
       "      <th>17.0</th>\n",
       "      <td>NaN</td>\n",
       "      <td>NaN</td>\n",
       "      <td>NaN</td>\n",
       "      <td>NaN</td>\n",
       "      <td>NaN</td>\n",
       "      <td>NaN</td>\n",
       "      <td>NaN</td>\n",
       "      <td>NaN</td>\n",
       "      <td>NaN</td>\n",
       "      <td>NaN</td>\n",
       "      <td>...</td>\n",
       "      <td>0.696397</td>\n",
       "      <td>NaN</td>\n",
       "      <td>NaN</td>\n",
       "      <td>NaN</td>\n",
       "      <td>NaN</td>\n",
       "      <td>NaN</td>\n",
       "      <td>NaN</td>\n",
       "      <td>NaN</td>\n",
       "      <td>-0.167682</td>\n",
       "      <td>NaN</td>\n",
       "    </tr>\n",
       "    <tr>\n",
       "      <th>18.0</th>\n",
       "      <td>NaN</td>\n",
       "      <td>NaN</td>\n",
       "      <td>NaN</td>\n",
       "      <td>NaN</td>\n",
       "      <td>NaN</td>\n",
       "      <td>NaN</td>\n",
       "      <td>NaN</td>\n",
       "      <td>NaN</td>\n",
       "      <td>NaN</td>\n",
       "      <td>NaN</td>\n",
       "      <td>...</td>\n",
       "      <td>0.622460</td>\n",
       "      <td>0.431434</td>\n",
       "      <td>NaN</td>\n",
       "      <td>NaN</td>\n",
       "      <td>NaN</td>\n",
       "      <td>NaN</td>\n",
       "      <td>NaN</td>\n",
       "      <td>NaN</td>\n",
       "      <td>0.000000</td>\n",
       "      <td>NaN</td>\n",
       "    </tr>\n",
       "    <tr>\n",
       "      <th>19.0</th>\n",
       "      <td>NaN</td>\n",
       "      <td>NaN</td>\n",
       "      <td>NaN</td>\n",
       "      <td>NaN</td>\n",
       "      <td>NaN</td>\n",
       "      <td>NaN</td>\n",
       "      <td>NaN</td>\n",
       "      <td>NaN</td>\n",
       "      <td>NaN</td>\n",
       "      <td>NaN</td>\n",
       "      <td>...</td>\n",
       "      <td>0.494615</td>\n",
       "      <td>NaN</td>\n",
       "      <td>NaN</td>\n",
       "      <td>NaN</td>\n",
       "      <td>NaN</td>\n",
       "      <td>NaN</td>\n",
       "      <td>NaN</td>\n",
       "      <td>NaN</td>\n",
       "      <td>NaN</td>\n",
       "      <td>NaN</td>\n",
       "    </tr>\n",
       "    <tr>\n",
       "      <th>20.0</th>\n",
       "      <td>NaN</td>\n",
       "      <td>0.000000</td>\n",
       "      <td>NaN</td>\n",
       "      <td>NaN</td>\n",
       "      <td>NaN</td>\n",
       "      <td>NaN</td>\n",
       "      <td>NaN</td>\n",
       "      <td>NaN</td>\n",
       "      <td>NaN</td>\n",
       "      <td>NaN</td>\n",
       "      <td>...</td>\n",
       "      <td>NaN</td>\n",
       "      <td>NaN</td>\n",
       "      <td>NaN</td>\n",
       "      <td>NaN</td>\n",
       "      <td>-0.780748</td>\n",
       "      <td>NaN</td>\n",
       "      <td>-0.637956</td>\n",
       "      <td>NaN</td>\n",
       "      <td>NaN</td>\n",
       "      <td>NaN</td>\n",
       "    </tr>\n",
       "    <tr>\n",
       "      <th>21.0</th>\n",
       "      <td>NaN</td>\n",
       "      <td>0.000000</td>\n",
       "      <td>NaN</td>\n",
       "      <td>NaN</td>\n",
       "      <td>NaN</td>\n",
       "      <td>NaN</td>\n",
       "      <td>NaN</td>\n",
       "      <td>NaN</td>\n",
       "      <td>NaN</td>\n",
       "      <td>NaN</td>\n",
       "      <td>...</td>\n",
       "      <td>NaN</td>\n",
       "      <td>NaN</td>\n",
       "      <td>NaN</td>\n",
       "      <td>-0.457809</td>\n",
       "      <td>-0.780566</td>\n",
       "      <td>-0.623563</td>\n",
       "      <td>-0.648220</td>\n",
       "      <td>NaN</td>\n",
       "      <td>NaN</td>\n",
       "      <td>NaN</td>\n",
       "    </tr>\n",
       "    <tr>\n",
       "      <th>22.0</th>\n",
       "      <td>0.0</td>\n",
       "      <td>0.000000</td>\n",
       "      <td>-0.284249</td>\n",
       "      <td>NaN</td>\n",
       "      <td>NaN</td>\n",
       "      <td>NaN</td>\n",
       "      <td>NaN</td>\n",
       "      <td>-0.481047</td>\n",
       "      <td>NaN</td>\n",
       "      <td>NaN</td>\n",
       "      <td>...</td>\n",
       "      <td>0.398926</td>\n",
       "      <td>0.390510</td>\n",
       "      <td>NaN</td>\n",
       "      <td>-0.374725</td>\n",
       "      <td>-0.757061</td>\n",
       "      <td>-0.596389</td>\n",
       "      <td>-0.631008</td>\n",
       "      <td>NaN</td>\n",
       "      <td>NaN</td>\n",
       "      <td>NaN</td>\n",
       "    </tr>\n",
       "    <tr>\n",
       "      <th>23.0</th>\n",
       "      <td>0.0</td>\n",
       "      <td>0.000000</td>\n",
       "      <td>-0.314859</td>\n",
       "      <td>NaN</td>\n",
       "      <td>NaN</td>\n",
       "      <td>NaN</td>\n",
       "      <td>NaN</td>\n",
       "      <td>-0.445597</td>\n",
       "      <td>-0.501015</td>\n",
       "      <td>NaN</td>\n",
       "      <td>...</td>\n",
       "      <td>0.294615</td>\n",
       "      <td>0.425129</td>\n",
       "      <td>0.403013</td>\n",
       "      <td>-0.258556</td>\n",
       "      <td>-0.688797</td>\n",
       "      <td>-0.571247</td>\n",
       "      <td>-0.552883</td>\n",
       "      <td>-0.532151</td>\n",
       "      <td>NaN</td>\n",
       "      <td>NaN</td>\n",
       "    </tr>\n",
       "    <tr>\n",
       "      <th>24.0</th>\n",
       "      <td>0.0</td>\n",
       "      <td>0.000000</td>\n",
       "      <td>-0.280735</td>\n",
       "      <td>NaN</td>\n",
       "      <td>NaN</td>\n",
       "      <td>NaN</td>\n",
       "      <td>-0.310688</td>\n",
       "      <td>-0.452025</td>\n",
       "      <td>-0.479596</td>\n",
       "      <td>NaN</td>\n",
       "      <td>...</td>\n",
       "      <td>0.294030</td>\n",
       "      <td>0.386471</td>\n",
       "      <td>0.299298</td>\n",
       "      <td>-0.163411</td>\n",
       "      <td>-0.585231</td>\n",
       "      <td>-0.435628</td>\n",
       "      <td>-0.623268</td>\n",
       "      <td>-0.606318</td>\n",
       "      <td>NaN</td>\n",
       "      <td>NaN</td>\n",
       "    </tr>\n",
       "    <tr>\n",
       "      <th>25.0</th>\n",
       "      <td>0.0</td>\n",
       "      <td>0.000000</td>\n",
       "      <td>-0.240390</td>\n",
       "      <td>-0.329342</td>\n",
       "      <td>NaN</td>\n",
       "      <td>NaN</td>\n",
       "      <td>-0.301431</td>\n",
       "      <td>-0.484537</td>\n",
       "      <td>-0.469437</td>\n",
       "      <td>-0.262197</td>\n",
       "      <td>...</td>\n",
       "      <td>0.282593</td>\n",
       "      <td>0.481517</td>\n",
       "      <td>0.358443</td>\n",
       "      <td>0.000000</td>\n",
       "      <td>-0.423249</td>\n",
       "      <td>-0.431845</td>\n",
       "      <td>-0.694111</td>\n",
       "      <td>-0.504758</td>\n",
       "      <td>-0.153682</td>\n",
       "      <td>NaN</td>\n",
       "    </tr>\n",
       "    <tr>\n",
       "      <th>26.0</th>\n",
       "      <td>0.0</td>\n",
       "      <td>0.000000</td>\n",
       "      <td>-0.185541</td>\n",
       "      <td>-0.235473</td>\n",
       "      <td>-0.290618</td>\n",
       "      <td>NaN</td>\n",
       "      <td>-0.307250</td>\n",
       "      <td>-0.483794</td>\n",
       "      <td>-0.461454</td>\n",
       "      <td>-0.197805</td>\n",
       "      <td>...</td>\n",
       "      <td>0.320032</td>\n",
       "      <td>0.489101</td>\n",
       "      <td>0.387858</td>\n",
       "      <td>0.000000</td>\n",
       "      <td>-0.395999</td>\n",
       "      <td>-0.342838</td>\n",
       "      <td>-0.600126</td>\n",
       "      <td>-0.555095</td>\n",
       "      <td>-0.159485</td>\n",
       "      <td>NaN</td>\n",
       "    </tr>\n",
       "    <tr>\n",
       "      <th>27.0</th>\n",
       "      <td>0.0</td>\n",
       "      <td>-0.156669</td>\n",
       "      <td>-0.122249</td>\n",
       "      <td>-0.128173</td>\n",
       "      <td>-0.226669</td>\n",
       "      <td>-0.181932</td>\n",
       "      <td>-0.271076</td>\n",
       "      <td>-0.497208</td>\n",
       "      <td>-0.384929</td>\n",
       "      <td>-0.173482</td>\n",
       "      <td>...</td>\n",
       "      <td>0.295829</td>\n",
       "      <td>0.448908</td>\n",
       "      <td>0.362189</td>\n",
       "      <td>0.000000</td>\n",
       "      <td>-0.229581</td>\n",
       "      <td>NaN</td>\n",
       "      <td>-0.633855</td>\n",
       "      <td>-0.370662</td>\n",
       "      <td>-0.183888</td>\n",
       "      <td>NaN</td>\n",
       "    </tr>\n",
       "    <tr>\n",
       "      <th>28.0</th>\n",
       "      <td>0.0</td>\n",
       "      <td>-0.153781</td>\n",
       "      <td>-0.203870</td>\n",
       "      <td>0.000000</td>\n",
       "      <td>0.000000</td>\n",
       "      <td>-0.141965</td>\n",
       "      <td>-0.265514</td>\n",
       "      <td>-0.542944</td>\n",
       "      <td>-0.171802</td>\n",
       "      <td>-0.191025</td>\n",
       "      <td>...</td>\n",
       "      <td>0.306471</td>\n",
       "      <td>0.385904</td>\n",
       "      <td>0.367769</td>\n",
       "      <td>0.000000</td>\n",
       "      <td>0.000000</td>\n",
       "      <td>NaN</td>\n",
       "      <td>NaN</td>\n",
       "      <td>-0.497511</td>\n",
       "      <td>-0.210025</td>\n",
       "      <td>NaN</td>\n",
       "    </tr>\n",
       "    <tr>\n",
       "      <th>29.0</th>\n",
       "      <td>0.0</td>\n",
       "      <td>0.000000</td>\n",
       "      <td>0.000000</td>\n",
       "      <td>0.000000</td>\n",
       "      <td>0.000000</td>\n",
       "      <td>-0.105900</td>\n",
       "      <td>-0.243473</td>\n",
       "      <td>-0.523845</td>\n",
       "      <td>0.000000</td>\n",
       "      <td>-0.143453</td>\n",
       "      <td>...</td>\n",
       "      <td>0.366132</td>\n",
       "      <td>0.400973</td>\n",
       "      <td>0.406325</td>\n",
       "      <td>0.233122</td>\n",
       "      <td>0.000000</td>\n",
       "      <td>NaN</td>\n",
       "      <td>NaN</td>\n",
       "      <td>-0.513110</td>\n",
       "      <td>-0.154865</td>\n",
       "      <td>NaN</td>\n",
       "    </tr>\n",
       "    <tr>\n",
       "      <th>30.0</th>\n",
       "      <td>0.0</td>\n",
       "      <td>0.000000</td>\n",
       "      <td>0.000000</td>\n",
       "      <td>0.000000</td>\n",
       "      <td>0.000000</td>\n",
       "      <td>0.000000</td>\n",
       "      <td>-0.213671</td>\n",
       "      <td>-0.458566</td>\n",
       "      <td>NaN</td>\n",
       "      <td>NaN</td>\n",
       "      <td>...</td>\n",
       "      <td>0.311023</td>\n",
       "      <td>0.365012</td>\n",
       "      <td>0.325781</td>\n",
       "      <td>0.329158</td>\n",
       "      <td>0.138480</td>\n",
       "      <td>NaN</td>\n",
       "      <td>NaN</td>\n",
       "      <td>-0.387926</td>\n",
       "      <td>0.000000</td>\n",
       "      <td>NaN</td>\n",
       "    </tr>\n",
       "    <tr>\n",
       "      <th>31.0</th>\n",
       "      <td>0.0</td>\n",
       "      <td>0.000000</td>\n",
       "      <td>0.000000</td>\n",
       "      <td>0.000000</td>\n",
       "      <td>0.000000</td>\n",
       "      <td>-0.102463</td>\n",
       "      <td>-0.255266</td>\n",
       "      <td>-0.313072</td>\n",
       "      <td>NaN</td>\n",
       "      <td>NaN</td>\n",
       "      <td>...</td>\n",
       "      <td>0.340619</td>\n",
       "      <td>0.270976</td>\n",
       "      <td>0.404520</td>\n",
       "      <td>0.554339</td>\n",
       "      <td>NaN</td>\n",
       "      <td>NaN</td>\n",
       "      <td>NaN</td>\n",
       "      <td>-0.235600</td>\n",
       "      <td>0.000000</td>\n",
       "      <td>0.000000</td>\n",
       "    </tr>\n",
       "    <tr>\n",
       "      <th>32.0</th>\n",
       "      <td>0.0</td>\n",
       "      <td>0.000000</td>\n",
       "      <td>0.157885</td>\n",
       "      <td>0.124039</td>\n",
       "      <td>0.112918</td>\n",
       "      <td>0.000000</td>\n",
       "      <td>-0.318404</td>\n",
       "      <td>-0.244612</td>\n",
       "      <td>NaN</td>\n",
       "      <td>NaN</td>\n",
       "      <td>...</td>\n",
       "      <td>0.355784</td>\n",
       "      <td>0.297750</td>\n",
       "      <td>0.504462</td>\n",
       "      <td>0.538505</td>\n",
       "      <td>NaN</td>\n",
       "      <td>NaN</td>\n",
       "      <td>NaN</td>\n",
       "      <td>NaN</td>\n",
       "      <td>0.000000</td>\n",
       "      <td>0.000000</td>\n",
       "    </tr>\n",
       "    <tr>\n",
       "      <th>33.0</th>\n",
       "      <td>0.0</td>\n",
       "      <td>0.000000</td>\n",
       "      <td>0.250098</td>\n",
       "      <td>0.202327</td>\n",
       "      <td>0.176806</td>\n",
       "      <td>0.000000</td>\n",
       "      <td>-0.273860</td>\n",
       "      <td>-0.198851</td>\n",
       "      <td>NaN</td>\n",
       "      <td>NaN</td>\n",
       "      <td>...</td>\n",
       "      <td>NaN</td>\n",
       "      <td>0.323802</td>\n",
       "      <td>0.584148</td>\n",
       "      <td>0.651799</td>\n",
       "      <td>NaN</td>\n",
       "      <td>NaN</td>\n",
       "      <td>NaN</td>\n",
       "      <td>NaN</td>\n",
       "      <td>-0.117962</td>\n",
       "      <td>0.000000</td>\n",
       "    </tr>\n",
       "    <tr>\n",
       "      <th>34.0</th>\n",
       "      <td>0.0</td>\n",
       "      <td>0.000000</td>\n",
       "      <td>0.400171</td>\n",
       "      <td>0.298642</td>\n",
       "      <td>NaN</td>\n",
       "      <td>0.000000</td>\n",
       "      <td>-0.206364</td>\n",
       "      <td>NaN</td>\n",
       "      <td>NaN</td>\n",
       "      <td>NaN</td>\n",
       "      <td>...</td>\n",
       "      <td>NaN</td>\n",
       "      <td>0.494498</td>\n",
       "      <td>0.651783</td>\n",
       "      <td>NaN</td>\n",
       "      <td>NaN</td>\n",
       "      <td>NaN</td>\n",
       "      <td>NaN</td>\n",
       "      <td>NaN</td>\n",
       "      <td>0.109291</td>\n",
       "      <td>0.000000</td>\n",
       "    </tr>\n",
       "    <tr>\n",
       "      <th>35.0</th>\n",
       "      <td>0.0</td>\n",
       "      <td>0.174793</td>\n",
       "      <td>0.493530</td>\n",
       "      <td>NaN</td>\n",
       "      <td>NaN</td>\n",
       "      <td>0.000000</td>\n",
       "      <td>-0.201014</td>\n",
       "      <td>NaN</td>\n",
       "      <td>NaN</td>\n",
       "      <td>NaN</td>\n",
       "      <td>...</td>\n",
       "      <td>NaN</td>\n",
       "      <td>NaN</td>\n",
       "      <td>NaN</td>\n",
       "      <td>NaN</td>\n",
       "      <td>NaN</td>\n",
       "      <td>NaN</td>\n",
       "      <td>NaN</td>\n",
       "      <td>NaN</td>\n",
       "      <td>0.190298</td>\n",
       "      <td>0.000000</td>\n",
       "    </tr>\n",
       "    <tr>\n",
       "      <th>36.0</th>\n",
       "      <td>NaN</td>\n",
       "      <td>0.250392</td>\n",
       "      <td>NaN</td>\n",
       "      <td>NaN</td>\n",
       "      <td>NaN</td>\n",
       "      <td>0.000000</td>\n",
       "      <td>-0.198221</td>\n",
       "      <td>NaN</td>\n",
       "      <td>NaN</td>\n",
       "      <td>NaN</td>\n",
       "      <td>...</td>\n",
       "      <td>NaN</td>\n",
       "      <td>NaN</td>\n",
       "      <td>NaN</td>\n",
       "      <td>NaN</td>\n",
       "      <td>NaN</td>\n",
       "      <td>NaN</td>\n",
       "      <td>NaN</td>\n",
       "      <td>NaN</td>\n",
       "      <td>NaN</td>\n",
       "      <td>0.000000</td>\n",
       "    </tr>\n",
       "    <tr>\n",
       "      <th>37.0</th>\n",
       "      <td>0.0</td>\n",
       "      <td>0.263761</td>\n",
       "      <td>NaN</td>\n",
       "      <td>NaN</td>\n",
       "      <td>NaN</td>\n",
       "      <td>NaN</td>\n",
       "      <td>-0.196978</td>\n",
       "      <td>NaN</td>\n",
       "      <td>NaN</td>\n",
       "      <td>NaN</td>\n",
       "      <td>...</td>\n",
       "      <td>NaN</td>\n",
       "      <td>NaN</td>\n",
       "      <td>NaN</td>\n",
       "      <td>NaN</td>\n",
       "      <td>NaN</td>\n",
       "      <td>NaN</td>\n",
       "      <td>NaN</td>\n",
       "      <td>NaN</td>\n",
       "      <td>NaN</td>\n",
       "      <td>0.095213</td>\n",
       "    </tr>\n",
       "    <tr>\n",
       "      <th>38.0</th>\n",
       "      <td>0.0</td>\n",
       "      <td>0.269390</td>\n",
       "      <td>NaN</td>\n",
       "      <td>NaN</td>\n",
       "      <td>NaN</td>\n",
       "      <td>NaN</td>\n",
       "      <td>NaN</td>\n",
       "      <td>NaN</td>\n",
       "      <td>NaN</td>\n",
       "      <td>NaN</td>\n",
       "      <td>...</td>\n",
       "      <td>NaN</td>\n",
       "      <td>NaN</td>\n",
       "      <td>NaN</td>\n",
       "      <td>NaN</td>\n",
       "      <td>NaN</td>\n",
       "      <td>NaN</td>\n",
       "      <td>NaN</td>\n",
       "      <td>NaN</td>\n",
       "      <td>NaN</td>\n",
       "      <td>0.157313</td>\n",
       "    </tr>\n",
       "    <tr>\n",
       "      <th>39.0</th>\n",
       "      <td>NaN</td>\n",
       "      <td>NaN</td>\n",
       "      <td>NaN</td>\n",
       "      <td>NaN</td>\n",
       "      <td>NaN</td>\n",
       "      <td>NaN</td>\n",
       "      <td>NaN</td>\n",
       "      <td>NaN</td>\n",
       "      <td>NaN</td>\n",
       "      <td>NaN</td>\n",
       "      <td>...</td>\n",
       "      <td>NaN</td>\n",
       "      <td>NaN</td>\n",
       "      <td>NaN</td>\n",
       "      <td>NaN</td>\n",
       "      <td>NaN</td>\n",
       "      <td>NaN</td>\n",
       "      <td>NaN</td>\n",
       "      <td>NaN</td>\n",
       "      <td>NaN</td>\n",
       "      <td>0.253377</td>\n",
       "    </tr>\n",
       "    <tr>\n",
       "      <th>40.0</th>\n",
       "      <td>NaN</td>\n",
       "      <td>NaN</td>\n",
       "      <td>NaN</td>\n",
       "      <td>NaN</td>\n",
       "      <td>NaN</td>\n",
       "      <td>NaN</td>\n",
       "      <td>NaN</td>\n",
       "      <td>NaN</td>\n",
       "      <td>NaN</td>\n",
       "      <td>NaN</td>\n",
       "      <td>...</td>\n",
       "      <td>NaN</td>\n",
       "      <td>NaN</td>\n",
       "      <td>NaN</td>\n",
       "      <td>NaN</td>\n",
       "      <td>NaN</td>\n",
       "      <td>NaN</td>\n",
       "      <td>NaN</td>\n",
       "      <td>NaN</td>\n",
       "      <td>NaN</td>\n",
       "      <td>NaN</td>\n",
       "    </tr>\n",
       "    <tr>\n",
       "      <th>41.0</th>\n",
       "      <td>NaN</td>\n",
       "      <td>NaN</td>\n",
       "      <td>NaN</td>\n",
       "      <td>NaN</td>\n",
       "      <td>NaN</td>\n",
       "      <td>NaN</td>\n",
       "      <td>NaN</td>\n",
       "      <td>NaN</td>\n",
       "      <td>NaN</td>\n",
       "      <td>NaN</td>\n",
       "      <td>...</td>\n",
       "      <td>NaN</td>\n",
       "      <td>NaN</td>\n",
       "      <td>NaN</td>\n",
       "      <td>NaN</td>\n",
       "      <td>NaN</td>\n",
       "      <td>NaN</td>\n",
       "      <td>NaN</td>\n",
       "      <td>NaN</td>\n",
       "      <td>NaN</td>\n",
       "      <td>NaN</td>\n",
       "    </tr>\n",
       "    <tr>\n",
       "      <th>42.0</th>\n",
       "      <td>NaN</td>\n",
       "      <td>NaN</td>\n",
       "      <td>NaN</td>\n",
       "      <td>NaN</td>\n",
       "      <td>NaN</td>\n",
       "      <td>NaN</td>\n",
       "      <td>NaN</td>\n",
       "      <td>NaN</td>\n",
       "      <td>NaN</td>\n",
       "      <td>NaN</td>\n",
       "      <td>...</td>\n",
       "      <td>NaN</td>\n",
       "      <td>NaN</td>\n",
       "      <td>NaN</td>\n",
       "      <td>NaN</td>\n",
       "      <td>NaN</td>\n",
       "      <td>NaN</td>\n",
       "      <td>NaN</td>\n",
       "      <td>NaN</td>\n",
       "      <td>NaN</td>\n",
       "      <td>NaN</td>\n",
       "    </tr>\n",
       "    <tr>\n",
       "      <th>43.0</th>\n",
       "      <td>NaN</td>\n",
       "      <td>NaN</td>\n",
       "      <td>NaN</td>\n",
       "      <td>NaN</td>\n",
       "      <td>NaN</td>\n",
       "      <td>NaN</td>\n",
       "      <td>NaN</td>\n",
       "      <td>NaN</td>\n",
       "      <td>NaN</td>\n",
       "      <td>NaN</td>\n",
       "      <td>...</td>\n",
       "      <td>NaN</td>\n",
       "      <td>NaN</td>\n",
       "      <td>NaN</td>\n",
       "      <td>NaN</td>\n",
       "      <td>NaN</td>\n",
       "      <td>NaN</td>\n",
       "      <td>NaN</td>\n",
       "      <td>NaN</td>\n",
       "      <td>NaN</td>\n",
       "      <td>NaN</td>\n",
       "    </tr>\n",
       "    <tr>\n",
       "      <th>44.0</th>\n",
       "      <td>NaN</td>\n",
       "      <td>NaN</td>\n",
       "      <td>NaN</td>\n",
       "      <td>NaN</td>\n",
       "      <td>NaN</td>\n",
       "      <td>NaN</td>\n",
       "      <td>NaN</td>\n",
       "      <td>NaN</td>\n",
       "      <td>NaN</td>\n",
       "      <td>NaN</td>\n",
       "      <td>...</td>\n",
       "      <td>NaN</td>\n",
       "      <td>NaN</td>\n",
       "      <td>NaN</td>\n",
       "      <td>NaN</td>\n",
       "      <td>NaN</td>\n",
       "      <td>NaN</td>\n",
       "      <td>NaN</td>\n",
       "      <td>NaN</td>\n",
       "      <td>NaN</td>\n",
       "      <td>NaN</td>\n",
       "    </tr>\n",
       "    <tr>\n",
       "      <th>45.0</th>\n",
       "      <td>NaN</td>\n",
       "      <td>NaN</td>\n",
       "      <td>NaN</td>\n",
       "      <td>NaN</td>\n",
       "      <td>NaN</td>\n",
       "      <td>NaN</td>\n",
       "      <td>NaN</td>\n",
       "      <td>NaN</td>\n",
       "      <td>NaN</td>\n",
       "      <td>NaN</td>\n",
       "      <td>...</td>\n",
       "      <td>NaN</td>\n",
       "      <td>NaN</td>\n",
       "      <td>NaN</td>\n",
       "      <td>NaN</td>\n",
       "      <td>NaN</td>\n",
       "      <td>NaN</td>\n",
       "      <td>NaN</td>\n",
       "      <td>NaN</td>\n",
       "      <td>NaN</td>\n",
       "      <td>NaN</td>\n",
       "    </tr>\n",
       "    <tr>\n",
       "      <th>46.0</th>\n",
       "      <td>NaN</td>\n",
       "      <td>NaN</td>\n",
       "      <td>NaN</td>\n",
       "      <td>NaN</td>\n",
       "      <td>NaN</td>\n",
       "      <td>NaN</td>\n",
       "      <td>NaN</td>\n",
       "      <td>NaN</td>\n",
       "      <td>NaN</td>\n",
       "      <td>NaN</td>\n",
       "      <td>...</td>\n",
       "      <td>NaN</td>\n",
       "      <td>NaN</td>\n",
       "      <td>NaN</td>\n",
       "      <td>NaN</td>\n",
       "      <td>NaN</td>\n",
       "      <td>NaN</td>\n",
       "      <td>NaN</td>\n",
       "      <td>NaN</td>\n",
       "      <td>NaN</td>\n",
       "      <td>NaN</td>\n",
       "    </tr>\n",
       "    <tr>\n",
       "      <th>47.0</th>\n",
       "      <td>NaN</td>\n",
       "      <td>NaN</td>\n",
       "      <td>NaN</td>\n",
       "      <td>NaN</td>\n",
       "      <td>NaN</td>\n",
       "      <td>NaN</td>\n",
       "      <td>NaN</td>\n",
       "      <td>NaN</td>\n",
       "      <td>NaN</td>\n",
       "      <td>NaN</td>\n",
       "      <td>...</td>\n",
       "      <td>NaN</td>\n",
       "      <td>NaN</td>\n",
       "      <td>NaN</td>\n",
       "      <td>NaN</td>\n",
       "      <td>NaN</td>\n",
       "      <td>NaN</td>\n",
       "      <td>NaN</td>\n",
       "      <td>NaN</td>\n",
       "      <td>NaN</td>\n",
       "      <td>NaN</td>\n",
       "    </tr>\n",
       "    <tr>\n",
       "      <th>48.0</th>\n",
       "      <td>NaN</td>\n",
       "      <td>NaN</td>\n",
       "      <td>NaN</td>\n",
       "      <td>NaN</td>\n",
       "      <td>NaN</td>\n",
       "      <td>NaN</td>\n",
       "      <td>NaN</td>\n",
       "      <td>NaN</td>\n",
       "      <td>NaN</td>\n",
       "      <td>NaN</td>\n",
       "      <td>...</td>\n",
       "      <td>NaN</td>\n",
       "      <td>NaN</td>\n",
       "      <td>NaN</td>\n",
       "      <td>NaN</td>\n",
       "      <td>NaN</td>\n",
       "      <td>NaN</td>\n",
       "      <td>NaN</td>\n",
       "      <td>NaN</td>\n",
       "      <td>NaN</td>\n",
       "      <td>NaN</td>\n",
       "    </tr>\n",
       "    <tr>\n",
       "      <th>49.0</th>\n",
       "      <td>NaN</td>\n",
       "      <td>NaN</td>\n",
       "      <td>NaN</td>\n",
       "      <td>NaN</td>\n",
       "      <td>NaN</td>\n",
       "      <td>NaN</td>\n",
       "      <td>NaN</td>\n",
       "      <td>NaN</td>\n",
       "      <td>NaN</td>\n",
       "      <td>NaN</td>\n",
       "      <td>...</td>\n",
       "      <td>NaN</td>\n",
       "      <td>NaN</td>\n",
       "      <td>NaN</td>\n",
       "      <td>NaN</td>\n",
       "      <td>NaN</td>\n",
       "      <td>NaN</td>\n",
       "      <td>NaN</td>\n",
       "      <td>NaN</td>\n",
       "      <td>NaN</td>\n",
       "      <td>NaN</td>\n",
       "    </tr>\n",
       "    <tr>\n",
       "      <th>50.0</th>\n",
       "      <td>NaN</td>\n",
       "      <td>NaN</td>\n",
       "      <td>NaN</td>\n",
       "      <td>NaN</td>\n",
       "      <td>NaN</td>\n",
       "      <td>NaN</td>\n",
       "      <td>NaN</td>\n",
       "      <td>NaN</td>\n",
       "      <td>NaN</td>\n",
       "      <td>NaN</td>\n",
       "      <td>...</td>\n",
       "      <td>NaN</td>\n",
       "      <td>NaN</td>\n",
       "      <td>NaN</td>\n",
       "      <td>NaN</td>\n",
       "      <td>NaN</td>\n",
       "      <td>NaN</td>\n",
       "      <td>NaN</td>\n",
       "      <td>NaN</td>\n",
       "      <td>NaN</td>\n",
       "      <td>NaN</td>\n",
       "    </tr>\n",
       "  </tbody>\n",
       "</table>\n",
       "<p>51 rows × 22 columns</p>\n",
       "</div>"
      ],
      "text/plain": [
       "int_tr  0         20        40        60        80        100       120  \\\n",
       "0.0     NaN       NaN       NaN       NaN       NaN       NaN       NaN   \n",
       "1.0     NaN       NaN       NaN       NaN       NaN       NaN       NaN   \n",
       "2.0     NaN       NaN       NaN       NaN       NaN       NaN       NaN   \n",
       "3.0     NaN       NaN       NaN       NaN       NaN       NaN       NaN   \n",
       "4.0     NaN       NaN       NaN       NaN       NaN       NaN       NaN   \n",
       "5.0     NaN       NaN       NaN       NaN       NaN       NaN       NaN   \n",
       "6.0     NaN       NaN       NaN       NaN       NaN       NaN       NaN   \n",
       "7.0     NaN       NaN       NaN       NaN       NaN       NaN       NaN   \n",
       "8.0     NaN       NaN       NaN       NaN       NaN       NaN       NaN   \n",
       "9.0     NaN       NaN       NaN       NaN       NaN       NaN       NaN   \n",
       "10.0    NaN       NaN       NaN       NaN       NaN       NaN       NaN   \n",
       "11.0    NaN       NaN       NaN       NaN       NaN       NaN       NaN   \n",
       "12.0    NaN       NaN       NaN       NaN       NaN       NaN       NaN   \n",
       "13.0    NaN       NaN       NaN       NaN       NaN       NaN       NaN   \n",
       "14.0    NaN       NaN       NaN       NaN       NaN       NaN       NaN   \n",
       "15.0    NaN       NaN       NaN       NaN       NaN       NaN       NaN   \n",
       "16.0    NaN       NaN       NaN       NaN       NaN       NaN       NaN   \n",
       "17.0    NaN       NaN       NaN       NaN       NaN       NaN       NaN   \n",
       "18.0    NaN       NaN       NaN       NaN       NaN       NaN       NaN   \n",
       "19.0    NaN       NaN       NaN       NaN       NaN       NaN       NaN   \n",
       "20.0    NaN  0.000000       NaN       NaN       NaN       NaN       NaN   \n",
       "21.0    NaN  0.000000       NaN       NaN       NaN       NaN       NaN   \n",
       "22.0    0.0  0.000000 -0.284249       NaN       NaN       NaN       NaN   \n",
       "23.0    0.0  0.000000 -0.314859       NaN       NaN       NaN       NaN   \n",
       "24.0    0.0  0.000000 -0.280735       NaN       NaN       NaN -0.310688   \n",
       "25.0    0.0  0.000000 -0.240390 -0.329342       NaN       NaN -0.301431   \n",
       "26.0    0.0  0.000000 -0.185541 -0.235473 -0.290618       NaN -0.307250   \n",
       "27.0    0.0 -0.156669 -0.122249 -0.128173 -0.226669 -0.181932 -0.271076   \n",
       "28.0    0.0 -0.153781 -0.203870  0.000000  0.000000 -0.141965 -0.265514   \n",
       "29.0    0.0  0.000000  0.000000  0.000000  0.000000 -0.105900 -0.243473   \n",
       "30.0    0.0  0.000000  0.000000  0.000000  0.000000  0.000000 -0.213671   \n",
       "31.0    0.0  0.000000  0.000000  0.000000  0.000000 -0.102463 -0.255266   \n",
       "32.0    0.0  0.000000  0.157885  0.124039  0.112918  0.000000 -0.318404   \n",
       "33.0    0.0  0.000000  0.250098  0.202327  0.176806  0.000000 -0.273860   \n",
       "34.0    0.0  0.000000  0.400171  0.298642       NaN  0.000000 -0.206364   \n",
       "35.0    0.0  0.174793  0.493530       NaN       NaN  0.000000 -0.201014   \n",
       "36.0    NaN  0.250392       NaN       NaN       NaN  0.000000 -0.198221   \n",
       "37.0    0.0  0.263761       NaN       NaN       NaN       NaN -0.196978   \n",
       "38.0    0.0  0.269390       NaN       NaN       NaN       NaN       NaN   \n",
       "39.0    NaN       NaN       NaN       NaN       NaN       NaN       NaN   \n",
       "40.0    NaN       NaN       NaN       NaN       NaN       NaN       NaN   \n",
       "41.0    NaN       NaN       NaN       NaN       NaN       NaN       NaN   \n",
       "42.0    NaN       NaN       NaN       NaN       NaN       NaN       NaN   \n",
       "43.0    NaN       NaN       NaN       NaN       NaN       NaN       NaN   \n",
       "44.0    NaN       NaN       NaN       NaN       NaN       NaN       NaN   \n",
       "45.0    NaN       NaN       NaN       NaN       NaN       NaN       NaN   \n",
       "46.0    NaN       NaN       NaN       NaN       NaN       NaN       NaN   \n",
       "47.0    NaN       NaN       NaN       NaN       NaN       NaN       NaN   \n",
       "48.0    NaN       NaN       NaN       NaN       NaN       NaN       NaN   \n",
       "49.0    NaN       NaN       NaN       NaN       NaN       NaN       NaN   \n",
       "50.0    NaN       NaN       NaN       NaN       NaN       NaN       NaN   \n",
       "\n",
       "int_tr       140       160       180  ...       240       260       280  \\\n",
       "0.0          NaN       NaN       NaN  ...       NaN       NaN       NaN   \n",
       "1.0          NaN       NaN       NaN  ...       NaN       NaN       NaN   \n",
       "2.0          NaN       NaN       NaN  ...       NaN       NaN       NaN   \n",
       "3.0          NaN       NaN       NaN  ...       NaN       NaN       NaN   \n",
       "4.0          NaN       NaN       NaN  ...       NaN       NaN       NaN   \n",
       "5.0          NaN       NaN       NaN  ...       NaN       NaN       NaN   \n",
       "6.0          NaN       NaN       NaN  ...       NaN       NaN       NaN   \n",
       "7.0          NaN       NaN       NaN  ...       NaN       NaN       NaN   \n",
       "8.0          NaN       NaN       NaN  ...       NaN       NaN       NaN   \n",
       "9.0          NaN       NaN       NaN  ...       NaN       NaN       NaN   \n",
       "10.0         NaN       NaN       NaN  ...       NaN       NaN       NaN   \n",
       "11.0         NaN       NaN       NaN  ...       NaN       NaN       NaN   \n",
       "12.0         NaN       NaN       NaN  ...       NaN       NaN       NaN   \n",
       "13.0         NaN       NaN       NaN  ...       NaN       NaN       NaN   \n",
       "14.0         NaN       NaN       NaN  ...       NaN       NaN       NaN   \n",
       "15.0         NaN       NaN       NaN  ...       NaN       NaN       NaN   \n",
       "16.0         NaN       NaN       NaN  ...       NaN       NaN       NaN   \n",
       "17.0         NaN       NaN       NaN  ...  0.696397       NaN       NaN   \n",
       "18.0         NaN       NaN       NaN  ...  0.622460  0.431434       NaN   \n",
       "19.0         NaN       NaN       NaN  ...  0.494615       NaN       NaN   \n",
       "20.0         NaN       NaN       NaN  ...       NaN       NaN       NaN   \n",
       "21.0         NaN       NaN       NaN  ...       NaN       NaN       NaN   \n",
       "22.0   -0.481047       NaN       NaN  ...  0.398926  0.390510       NaN   \n",
       "23.0   -0.445597 -0.501015       NaN  ...  0.294615  0.425129  0.403013   \n",
       "24.0   -0.452025 -0.479596       NaN  ...  0.294030  0.386471  0.299298   \n",
       "25.0   -0.484537 -0.469437 -0.262197  ...  0.282593  0.481517  0.358443   \n",
       "26.0   -0.483794 -0.461454 -0.197805  ...  0.320032  0.489101  0.387858   \n",
       "27.0   -0.497208 -0.384929 -0.173482  ...  0.295829  0.448908  0.362189   \n",
       "28.0   -0.542944 -0.171802 -0.191025  ...  0.306471  0.385904  0.367769   \n",
       "29.0   -0.523845  0.000000 -0.143453  ...  0.366132  0.400973  0.406325   \n",
       "30.0   -0.458566       NaN       NaN  ...  0.311023  0.365012  0.325781   \n",
       "31.0   -0.313072       NaN       NaN  ...  0.340619  0.270976  0.404520   \n",
       "32.0   -0.244612       NaN       NaN  ...  0.355784  0.297750  0.504462   \n",
       "33.0   -0.198851       NaN       NaN  ...       NaN  0.323802  0.584148   \n",
       "34.0         NaN       NaN       NaN  ...       NaN  0.494498  0.651783   \n",
       "35.0         NaN       NaN       NaN  ...       NaN       NaN       NaN   \n",
       "36.0         NaN       NaN       NaN  ...       NaN       NaN       NaN   \n",
       "37.0         NaN       NaN       NaN  ...       NaN       NaN       NaN   \n",
       "38.0         NaN       NaN       NaN  ...       NaN       NaN       NaN   \n",
       "39.0         NaN       NaN       NaN  ...       NaN       NaN       NaN   \n",
       "40.0         NaN       NaN       NaN  ...       NaN       NaN       NaN   \n",
       "41.0         NaN       NaN       NaN  ...       NaN       NaN       NaN   \n",
       "42.0         NaN       NaN       NaN  ...       NaN       NaN       NaN   \n",
       "43.0         NaN       NaN       NaN  ...       NaN       NaN       NaN   \n",
       "44.0         NaN       NaN       NaN  ...       NaN       NaN       NaN   \n",
       "45.0         NaN       NaN       NaN  ...       NaN       NaN       NaN   \n",
       "46.0         NaN       NaN       NaN  ...       NaN       NaN       NaN   \n",
       "47.0         NaN       NaN       NaN  ...       NaN       NaN       NaN   \n",
       "48.0         NaN       NaN       NaN  ...       NaN       NaN       NaN   \n",
       "49.0         NaN       NaN       NaN  ...       NaN       NaN       NaN   \n",
       "50.0         NaN       NaN       NaN  ...       NaN       NaN       NaN   \n",
       "\n",
       "int_tr       300       320       340       360       380       400       420  \n",
       "0.0          NaN       NaN       NaN       NaN       NaN       NaN       NaN  \n",
       "1.0          NaN       NaN       NaN       NaN       NaN       NaN       NaN  \n",
       "2.0          NaN       NaN       NaN       NaN       NaN       NaN       NaN  \n",
       "3.0          NaN       NaN       NaN       NaN       NaN       NaN       NaN  \n",
       "4.0          NaN       NaN       NaN       NaN       NaN       NaN       NaN  \n",
       "5.0          NaN       NaN       NaN       NaN       NaN       NaN       NaN  \n",
       "6.0          NaN       NaN       NaN       NaN       NaN       NaN       NaN  \n",
       "7.0          NaN       NaN       NaN       NaN       NaN       NaN       NaN  \n",
       "8.0          NaN       NaN       NaN       NaN       NaN       NaN       NaN  \n",
       "9.0          NaN       NaN       NaN       NaN       NaN       NaN       NaN  \n",
       "10.0         NaN       NaN       NaN       NaN       NaN       NaN       NaN  \n",
       "11.0         NaN       NaN       NaN       NaN       NaN       NaN       NaN  \n",
       "12.0         NaN       NaN       NaN       NaN       NaN       NaN       NaN  \n",
       "13.0         NaN       NaN       NaN       NaN       NaN       NaN       NaN  \n",
       "14.0         NaN       NaN       NaN       NaN       NaN       NaN       NaN  \n",
       "15.0         NaN       NaN       NaN       NaN -0.301389       NaN       NaN  \n",
       "16.0         NaN       NaN       NaN       NaN       NaN -0.177551       NaN  \n",
       "17.0         NaN       NaN       NaN       NaN       NaN -0.167682       NaN  \n",
       "18.0         NaN       NaN       NaN       NaN       NaN  0.000000       NaN  \n",
       "19.0         NaN       NaN       NaN       NaN       NaN       NaN       NaN  \n",
       "20.0         NaN -0.780748       NaN -0.637956       NaN       NaN       NaN  \n",
       "21.0   -0.457809 -0.780566 -0.623563 -0.648220       NaN       NaN       NaN  \n",
       "22.0   -0.374725 -0.757061 -0.596389 -0.631008       NaN       NaN       NaN  \n",
       "23.0   -0.258556 -0.688797 -0.571247 -0.552883 -0.532151       NaN       NaN  \n",
       "24.0   -0.163411 -0.585231 -0.435628 -0.623268 -0.606318       NaN       NaN  \n",
       "25.0    0.000000 -0.423249 -0.431845 -0.694111 -0.504758 -0.153682       NaN  \n",
       "26.0    0.000000 -0.395999 -0.342838 -0.600126 -0.555095 -0.159485       NaN  \n",
       "27.0    0.000000 -0.229581       NaN -0.633855 -0.370662 -0.183888       NaN  \n",
       "28.0    0.000000  0.000000       NaN       NaN -0.497511 -0.210025       NaN  \n",
       "29.0    0.233122  0.000000       NaN       NaN -0.513110 -0.154865       NaN  \n",
       "30.0    0.329158  0.138480       NaN       NaN -0.387926  0.000000       NaN  \n",
       "31.0    0.554339       NaN       NaN       NaN -0.235600  0.000000  0.000000  \n",
       "32.0    0.538505       NaN       NaN       NaN       NaN  0.000000  0.000000  \n",
       "33.0    0.651799       NaN       NaN       NaN       NaN -0.117962  0.000000  \n",
       "34.0         NaN       NaN       NaN       NaN       NaN  0.109291  0.000000  \n",
       "35.0         NaN       NaN       NaN       NaN       NaN  0.190298  0.000000  \n",
       "36.0         NaN       NaN       NaN       NaN       NaN       NaN  0.000000  \n",
       "37.0         NaN       NaN       NaN       NaN       NaN       NaN  0.095213  \n",
       "38.0         NaN       NaN       NaN       NaN       NaN       NaN  0.157313  \n",
       "39.0         NaN       NaN       NaN       NaN       NaN       NaN  0.253377  \n",
       "40.0         NaN       NaN       NaN       NaN       NaN       NaN       NaN  \n",
       "41.0         NaN       NaN       NaN       NaN       NaN       NaN       NaN  \n",
       "42.0         NaN       NaN       NaN       NaN       NaN       NaN       NaN  \n",
       "43.0         NaN       NaN       NaN       NaN       NaN       NaN       NaN  \n",
       "44.0         NaN       NaN       NaN       NaN       NaN       NaN       NaN  \n",
       "45.0         NaN       NaN       NaN       NaN       NaN       NaN       NaN  \n",
       "46.0         NaN       NaN       NaN       NaN       NaN       NaN       NaN  \n",
       "47.0         NaN       NaN       NaN       NaN       NaN       NaN       NaN  \n",
       "48.0         NaN       NaN       NaN       NaN       NaN       NaN       NaN  \n",
       "49.0         NaN       NaN       NaN       NaN       NaN       NaN       NaN  \n",
       "50.0         NaN       NaN       NaN       NaN       NaN       NaN       NaN  \n",
       "\n",
       "[51 rows x 22 columns]"
      ]
     },
     "execution_count": 21,
     "metadata": {},
     "output_type": "execute_result"
    }
   ],
   "source": [
    "temp = D.dh_df.query(f\"location == 'mar' and dt =='dt_3'\")\n",
    "data_in=prep_heatmap(temp,D.lod_df,outliers=True)\n",
    "\n",
    "land_limits = pd.DataFrame(\n",
    "        D.dh_df.groupby([\"location\"]).distance.max()\n",
    "    ).reset_index()\n",
    "\n",
    "land_lim = land_limits.query(f\"location=='mar'\").distance.values[0]\n",
    "data_in[\"m_from_land\"] = np.round(land_lim - data_in.index, 1)\n",
    "data_in.set_index(\"m_from_land\", inplace=True)\n",
    "data_in.columns = data_in.columns.astype(\"int\") * D.ProfileSet.transects_spacing\n",
    "\n",
    "data_in_filled = fill_gaps(data_in, 50, bottom=True, spacing=1)\n",
    "\n",
    "data_in_filled"
   ]
  },
  {
   "cell_type": "code",
   "execution_count": 25,
   "metadata": {},
   "outputs": [
    {
     "data": {
      "text/plain": [
       "<AxesSubplot:xlabel='int_tr'>"
      ]
     },
     "execution_count": 25,
     "metadata": {},
     "output_type": "execute_result"
    },
    {
     "data": {
      "image/png": "[encoded data removed]",
      "text/plain": [
       "<Figure size 504x288 with 2 Axes>"
      ]
     },
     "metadata": {
      "needs_background": "light"
     },
     "output_type": "display_data"
    }
   ],
   "source": [
    "f,ax=plt.subplots(figsize=(7,4))\n",
    "\n",
    "sb.heatmap(\n",
    "            data=data_in_filled,\n",
    "            xticklabels=5,\n",
    "            facecolor=\"w\",\n",
    "            robust=True,\n",
    "            center=0,\n",
    "            ax=ax,\n",
    "            cbar_kws={\"label\": \"Δh m AHD\"},\n",
    "            cbar=True,\n",
    "            cmap=\"seismic_r\",\n",
    "            vmin=-0.8,\n",
    "            vmax=0.8,\n",
    "        )"
   ]
  },
  {
   "cell_type": "code",
   "execution_count": null,
   "metadata": {},
   "outputs": [],
   "source": []
  },
  {
   "cell_type": "code",
   "execution_count": 12,
   "metadata": {},
   "outputs": [
    {
     "ename": "NameError",
     "evalue": "name 'data_in' is not defined",
     "output_type": "error",
     "traceback": [
      "\u001b[1;31m---------------------------------------------------------------------------\u001b[0m",
      "\u001b[1;31mNameError\u001b[0m                                 Traceback (most recent call last)",
      "\u001b[1;32m<ipython-input-12-0dae9477e5eb>\u001b[0m in \u001b[0;36m<module>\u001b[1;34m\u001b[0m\n\u001b[1;32m----> 1\u001b[1;33m \u001b[0mdata_in\u001b[0m\u001b[1;33m=\u001b[0m\u001b[0mdata_in\u001b[0m\u001b[1;33m\u001b[0m\u001b[1;33m\u001b[0m\u001b[0m\n\u001b[0m\u001b[0;32m      2\u001b[0m \u001b[0my_heat_bottom_limit\u001b[0m\u001b[1;33m=\u001b[0m\u001b[1;36m50\u001b[0m\u001b[1;33m\u001b[0m\u001b[1;33m\u001b[0m\u001b[0m\n\u001b[0;32m      3\u001b[0m \u001b[0mbottom\u001b[0m\u001b[1;33m=\u001b[0m\u001b[1;32mTrue\u001b[0m\u001b[1;33m\u001b[0m\u001b[1;33m\u001b[0m\u001b[0m\n\u001b[0;32m      4\u001b[0m \u001b[0my_heat_start\u001b[0m\u001b[1;33m=\u001b[0m\u001b[1;36m0\u001b[0m\u001b[1;33m\u001b[0m\u001b[1;33m\u001b[0m\u001b[0m\n\u001b[0;32m      5\u001b[0m \u001b[0mspacing\u001b[0m\u001b[1;33m=\u001b[0m\u001b[1;36m1\u001b[0m\u001b[1;33m\u001b[0m\u001b[1;33m\u001b[0m\u001b[0m\n",
      "\u001b[1;31mNameError\u001b[0m: name 'data_in' is not defined"
     ]
    }
   ],
   "source": [
    "data_in=data_in \n",
    "y_heat_bottom_limit=50\n",
    "bottom=True\n",
    "y_heat_start=0 \n",
    "spacing=1\n",
    "\n",
    "if bool(bottom):\n",
    "    bottom_fill_array = np.empty(\n",
    "        (\n",
    "            (\n",
    "                int(\n",
    "                    np.round(y_heat_bottom_limit + spacing - data_in.index[-1], 1)\n",
    "                    \n",
    "                )\n",
    "            ),\n",
    "            data_in.shape[1],\n",
    "        )\n",
    "    )\n",
    "    bottom_fill_array[:] = np.NaN\n",
    "    to_concat_after = pd.DataFrame(\n",
    "        data=bottom_fill_array,\n",
    "        index=np.arange(data_in.index[-1], y_heat_bottom_limit + spacing, spacing),\n",
    "        columns=data_in.columns,\n",
    "    )\n",
    "else:\n",
    "    pass\n",
    "\n",
    "before_fill_array = np.empty((int(data_in.index[0]), data_in.shape[1]))\n",
    "before_fill_array[:] = np.NaN\n",
    "to_concat_before = pd.DataFrame(\n",
    "    data=before_fill_array,\n",
    "    index=np.arange(y_heat_start, data_in.index[0], spacing),\n",
    "    columns=data_in.columns,\n",
    ")\n",
    "\n",
    "if bool(bottom):\n",
    "    pd.concat([to_concat_before, data_in, to_concat_after.iloc[1:]])\n",
    "else:\n",
    "    pd.concat([to_concat_before, data_in])"
   ]
  },
  {
   "cell_type": "code",
   "execution_count": 89,
   "metadata": {},
   "outputs": [],
   "source": [
    "def fill_gaps(data_in, y_heat_bottom_limit, bottom=True, y_heat_start=0, spacing=0.1):\n",
    "    \"\"\"\n",
    "    Function to fill the pivoted table (returned from prep_heatmap function) with missing across-shore distances, due to align data on heatmaps.\n",
    "    Empty rows (NaN) will be added on top (from 0 to the first valid distance) and, optionally on the bottom of each transect,\n",
    "    (from the last valid distance to a specified seaward limit).\n",
    "\n",
    "    Warning:\n",
    "        This function assume along-transect distances to be going from land to water, which is not what the profiles distances represent originally.\n",
    "\n",
    "    Args:\n",
    "        data_in (Pandas dataframe): Pivoted dataframe, where each column is a transect and row is a along-shore distance.\n",
    "        y_heat_bottom_limit (int): Lower boundary distance to extend all transects.\n",
    "        bottom (bool): If True (default), rows are extended seaward too, up to y_heat_bottom_limit. If False, only distances from 0 to the first valid values will be added.\n",
    "        y_heat_start (int): Landward starting distance value (default=0)\n",
    "        spacing(float): Sampling step (meters) used to extract points (default=0.1)\n",
    "    Returns:\n",
    "        Complete dataframe with extra rows of NaN added.\n",
    "    \"\"\"\n",
    "    if y_heat_bottom_limit < data_in.index[-1]:\n",
    "        raise ValueError(f\"The provided y_heat_bottom_limit is lower ({y_heat_bottom_limit}) cannot be lower than the distance value present in the data ({data_in.index[-1]}). \")\n",
    "    if bool(bottom):\n",
    "        bottom_fill_array = np.empty(\n",
    "            (\n",
    "                (\n",
    "                    int(\n",
    "                        np.round(y_heat_bottom_limit + spacing - data_in.index[-1], 1)\n",
    "                    )\n",
    "                ),\n",
    "                data_in.shape[1],\n",
    "            )\n",
    "        )\n",
    "        bottom_fill_array[:] = np.NaN\n",
    "        to_concat_after = pd.DataFrame(\n",
    "            data=bottom_fill_array,\n",
    "            index=np.arange(data_in.index[-1], y_heat_bottom_limit + spacing, spacing),\n",
    "            columns=data_in.columns,\n",
    "        )\n",
    "    else:\n",
    "        pass\n",
    "\n",
    "    before_fill_array = np.empty((int(data_in.index[0] * multiplier), data_in.shape[1]))\n",
    "    before_fill_array[:] = np.NaN\n",
    "    to_concat_before = pd.DataFrame(\n",
    "        data=before_fill_array,\n",
    "        index=np.arange(y_heat_start, data_in.index[0], spacing),\n",
    "        columns=data_in.columns,\n",
    "    )\n",
    "\n",
    "    if bool(bottom):\n",
    "        return pd.concat([to_concat_before, data_in, to_concat_after.iloc[1:]])\n",
    "    else:\n",
    "        return pd.concat([to_concat_before, data_in])"
   ]
  },
  {
   "cell_type": "code",
   "execution_count": null,
   "metadata": {},
   "outputs": [],
   "source": []
  },
  {
   "cell_type": "code",
   "execution_count": 20,
   "metadata": {},
   "outputs": [
    {
     "data": {
      "text/html": [
       "<div>\n",
       "<style scoped>\n",
       "    .dataframe tbody tr th:only-of-type {\n",
       "        vertical-align: middle;\n",
       "    }\n",
       "\n",
       "    .dataframe tbody tr th {\n",
       "        vertical-align: top;\n",
       "    }\n",
       "\n",
       "    .dataframe thead th {\n",
       "        text-align: right;\n",
       "    }\n",
       "</style>\n",
       "<table border=\"1\" class=\"dataframe\">\n",
       "  <thead>\n",
       "    <tr style=\"text-align: right;\">\n",
       "      <th></th>\n",
       "      <th>geometry</th>\n",
       "      <th>location</th>\n",
       "      <th>tr_id</th>\n",
       "      <th>distance</th>\n",
       "      <th>class_filter</th>\n",
       "      <th>dt</th>\n",
       "      <th>date_pre</th>\n",
       "      <th>date_post</th>\n",
       "      <th>z_pre</th>\n",
       "      <th>z_post</th>\n",
       "      <th>dh</th>\n",
       "    </tr>\n",
       "  </thead>\n",
       "  <tbody>\n",
       "    <tr>\n",
       "      <th>1986</th>\n",
       "      <td>POINT (731628.744 5705535.887)</td>\n",
       "      <td>mar</td>\n",
       "      <td>21</td>\n",
       "      <td>22.0</td>\n",
       "      <td>sand</td>\n",
       "      <td>dt_3</td>\n",
       "      <td>20180925</td>\n",
       "      <td>20181113</td>\n",
       "      <td>0.267436</td>\n",
       "      <td>0.520813</td>\n",
       "      <td>0.253377</td>\n",
       "    </tr>\n",
       "    <tr>\n",
       "      <th>1987</th>\n",
       "      <td>POINT (731627.918 5705536.452)</td>\n",
       "      <td>mar</td>\n",
       "      <td>21</td>\n",
       "      <td>23.0</td>\n",
       "      <td>sand</td>\n",
       "      <td>dt_3</td>\n",
       "      <td>20180925</td>\n",
       "      <td>20181113</td>\n",
       "      <td>0.361855</td>\n",
       "      <td>0.519168</td>\n",
       "      <td>0.157313</td>\n",
       "    </tr>\n",
       "    <tr>\n",
       "      <th>1988</th>\n",
       "      <td>POINT (731627.093 5705537.016)</td>\n",
       "      <td>mar</td>\n",
       "      <td>21</td>\n",
       "      <td>24.0</td>\n",
       "      <td>sand</td>\n",
       "      <td>dt_3</td>\n",
       "      <td>20180925</td>\n",
       "      <td>20181113</td>\n",
       "      <td>0.415132</td>\n",
       "      <td>0.510345</td>\n",
       "      <td>0.095213</td>\n",
       "    </tr>\n",
       "    <tr>\n",
       "      <th>1989</th>\n",
       "      <td>POINT (731626.267 5705537.581)</td>\n",
       "      <td>mar</td>\n",
       "      <td>21</td>\n",
       "      <td>25.0</td>\n",
       "      <td>sand</td>\n",
       "      <td>dt_3</td>\n",
       "      <td>20180925</td>\n",
       "      <td>20181113</td>\n",
       "      <td>0.517589</td>\n",
       "      <td>0.517888</td>\n",
       "      <td>0.000299</td>\n",
       "    </tr>\n",
       "    <tr>\n",
       "      <th>1990</th>\n",
       "      <td>POINT (731625.442 5705538.145)</td>\n",
       "      <td>mar</td>\n",
       "      <td>21</td>\n",
       "      <td>26.0</td>\n",
       "      <td>sand</td>\n",
       "      <td>dt_3</td>\n",
       "      <td>20180925</td>\n",
       "      <td>20181113</td>\n",
       "      <td>0.517589</td>\n",
       "      <td>0.489429</td>\n",
       "      <td>-0.028160</td>\n",
       "    </tr>\n",
       "    <tr>\n",
       "      <th>...</th>\n",
       "      <td>...</td>\n",
       "      <td>...</td>\n",
       "      <td>...</td>\n",
       "      <td>...</td>\n",
       "      <td>...</td>\n",
       "      <td>...</td>\n",
       "      <td>...</td>\n",
       "      <td>...</td>\n",
       "      <td>...</td>\n",
       "      <td>...</td>\n",
       "      <td>...</td>\n",
       "    </tr>\n",
       "    <tr>\n",
       "      <th>2220</th>\n",
       "      <td>POINT (731477.663 5705155.336)</td>\n",
       "      <td>mar</td>\n",
       "      <td>0</td>\n",
       "      <td>35.0</td>\n",
       "      <td>sand</td>\n",
       "      <td>dt_3</td>\n",
       "      <td>20180925</td>\n",
       "      <td>20181113</td>\n",
       "      <td>0.888197</td>\n",
       "      <td>0.855022</td>\n",
       "      <td>-0.033175</td>\n",
       "    </tr>\n",
       "    <tr>\n",
       "      <th>2221</th>\n",
       "      <td>POINT (731476.669 5705155.443)</td>\n",
       "      <td>mar</td>\n",
       "      <td>0</td>\n",
       "      <td>36.0</td>\n",
       "      <td>sand</td>\n",
       "      <td>dt_3</td>\n",
       "      <td>20180925</td>\n",
       "      <td>20181113</td>\n",
       "      <td>0.943136</td>\n",
       "      <td>0.929963</td>\n",
       "      <td>-0.013173</td>\n",
       "    </tr>\n",
       "    <tr>\n",
       "      <th>2222</th>\n",
       "      <td>POINT (731475.674 5705155.550)</td>\n",
       "      <td>mar</td>\n",
       "      <td>0</td>\n",
       "      <td>37.0</td>\n",
       "      <td>sand</td>\n",
       "      <td>dt_3</td>\n",
       "      <td>20180925</td>\n",
       "      <td>20181113</td>\n",
       "      <td>1.004766</td>\n",
       "      <td>1.001957</td>\n",
       "      <td>-0.002809</td>\n",
       "    </tr>\n",
       "    <tr>\n",
       "      <th>2223</th>\n",
       "      <td>POINT (731474.680 5705155.657)</td>\n",
       "      <td>mar</td>\n",
       "      <td>0</td>\n",
       "      <td>38.0</td>\n",
       "      <td>sand</td>\n",
       "      <td>dt_3</td>\n",
       "      <td>20180925</td>\n",
       "      <td>20181113</td>\n",
       "      <td>1.079356</td>\n",
       "      <td>1.096907</td>\n",
       "      <td>0.017552</td>\n",
       "    </tr>\n",
       "    <tr>\n",
       "      <th>2224</th>\n",
       "      <td>POINT (731473.686 5705155.765)</td>\n",
       "      <td>mar</td>\n",
       "      <td>0</td>\n",
       "      <td>39.0</td>\n",
       "      <td>sand</td>\n",
       "      <td>dt_3</td>\n",
       "      <td>20180925</td>\n",
       "      <td>20181113</td>\n",
       "      <td>1.150281</td>\n",
       "      <td>1.183142</td>\n",
       "      <td>0.032860</td>\n",
       "    </tr>\n",
       "  </tbody>\n",
       "</table>\n",
       "<p>239 rows × 11 columns</p>\n",
       "</div>"
      ],
      "text/plain": [
       "                            geometry location  tr_id  distance class_filter  \\\n",
       "1986  POINT (731628.744 5705535.887)      mar     21      22.0         sand   \n",
       "1987  POINT (731627.918 5705536.452)      mar     21      23.0         sand   \n",
       "1988  POINT (731627.093 5705537.016)      mar     21      24.0         sand   \n",
       "1989  POINT (731626.267 5705537.581)      mar     21      25.0         sand   \n",
       "1990  POINT (731625.442 5705538.145)      mar     21      26.0         sand   \n",
       "...                              ...      ...    ...       ...          ...   \n",
       "2220  POINT (731477.663 5705155.336)      mar      0      35.0         sand   \n",
       "2221  POINT (731476.669 5705155.443)      mar      0      36.0         sand   \n",
       "2222  POINT (731475.674 5705155.550)      mar      0      37.0         sand   \n",
       "2223  POINT (731474.680 5705155.657)      mar      0      38.0         sand   \n",
       "2224  POINT (731473.686 5705155.765)      mar      0      39.0         sand   \n",
       "\n",
       "        dt  date_pre date_post     z_pre    z_post        dh  \n",
       "1986  dt_3  20180925  20181113  0.267436  0.520813  0.253377  \n",
       "1987  dt_3  20180925  20181113  0.361855  0.519168  0.157313  \n",
       "1988  dt_3  20180925  20181113  0.415132  0.510345  0.095213  \n",
       "1989  dt_3  20180925  20181113  0.517589  0.517888  0.000299  \n",
       "1990  dt_3  20180925  20181113  0.517589  0.489429 -0.028160  \n",
       "...    ...       ...       ...       ...       ...       ...  \n",
       "2220  dt_3  20180925  20181113  0.888197  0.855022 -0.033175  \n",
       "2221  dt_3  20180925  20181113  0.943136  0.929963 -0.013173  \n",
       "2222  dt_3  20180925  20181113  1.004766  1.001957 -0.002809  \n",
       "2223  dt_3  20180925  20181113  1.079356  1.096907  0.017552  \n",
       "2224  dt_3  20180925  20181113  1.150281  1.183142  0.032860  \n",
       "\n",
       "[239 rows x 11 columns]"
      ]
     },
     "execution_count": 20,
     "metadata": {},
     "output_type": "execute_result"
    }
   ],
   "source": [
    "D.dh_df.query(\"location=='mar' and dt=='dt_3'\")"
   ]
  },
  {
   "cell_type": "code",
   "execution_count": null,
   "metadata": {},
   "outputs": [],
   "source": []
  },
  {
   "cell_type": "markdown",
   "metadata": {},
   "source": [
    "### Sensitivity Analysis r-bcd transects"
   ]
  },
  {
   "cell_type": "code",
   "execution_count": null,
   "metadata": {},
   "outputs": [],
   "source": [
    "from sandpyper.dynamics import get_rbcd_transect\n",
    "import seaborn as sb\n",
    "from tqdm.notebook import tqdm_notebook as tqdm"
   ]
  },
  {
   "cell_type": "code",
   "execution_count": null,
   "metadata": {},
   "outputs": [],
   "source": [
    "import itertools"
   ]
  },
  {
   "cell_type": "code",
   "execution_count": null,
   "metadata": {},
   "outputs": [],
   "source": [
    "range_thresh=range(0,data_in.dt.unique().shape[0]+1)\n",
    "range_min_pts=range(0,50,10)\n",
    "combs = list(itertools.product(range_min_pts,range_thresh))"
   ]
  },
  {
   "cell_type": "code",
   "execution_count": null,
   "metadata": {
    "scrolled": true
   },
   "outputs": [],
   "source": [
    "ss_tr_big=pd.DataFrame()\n",
    "\n",
    "for i in tqdm(combs):\n",
    "    print(f\"Working on threshold {i[1]} and min points {i[0]}.\")\n",
    "    \n",
    "    ss_transects_idx = get_rbcd_transect(df_labelled=data_in,\n",
    "              thresh=i[1], min_points=i[0], reliable_action='drop',\n",
    "              dirNameTrans=D.ProfileSet.dirNameTrans,\n",
    "              labels_order=D.tags_order,\n",
    "              loc_codes=D.ProfileSet.loc_codes,\n",
    "              crs_dict_string=D.ProfileSet.crs_dict_string)\n",
    "\n",
    "    ss_transects_idx['thresh']=i[1]\n",
    "    ss_transects_idx['min_pts']=i[0]\n",
    "\n",
    "    ss_tr_big=pd.concat([ss_tr_big,ss_transects_idx], ignore_index=True)\n",
    "    \n",
    "ss_tr_big"
   ]
  },
  {
   "cell_type": "code",
   "execution_count": null,
   "metadata": {},
   "outputs": [],
   "source": [
    "f,ax=plt.subplots(figsize=(10,10))\n",
    "\n",
    "palette=sb.color_palette( n_colors=ss_tr_big.tr_id.unique().shape[0])\n",
    "sb.lineplot(data=ss_tr_big, x='thresh',y='residual', hue='tr_id',\n",
    "            palette=palette, legend=False, **dict(alpha=0.1),\n",
    "            ax=ax\n",
    ")\n",
    "ax.set_ylabel(\"r_bcd\")\n",
    "ax.axhline(y=0, lw=2, c='r');"
   ]
  },
  {
   "cell_type": "code",
   "execution_count": null,
   "metadata": {},
   "outputs": [],
   "source": [
    "trs_res_ar=ss_tr_big_loc.groupby([\"tr_id\",\"min_pts\"])['residual'].apply(np.array).reset_index()\n",
    "tot_trs=ss_tr_big_loc.groupby([\"thresh\",\"min_pts\"])['geometry'].count().reset_index()\n",
    "tot_trs['trs_10']=tot_trs.geometry / 10\n",
    "zero_crossings=pd.DataFrame([pd.Series({'tr_id':trs_res_ar.loc[i,'tr_id'],\n",
    "                                        'sign_change_thresh':np.where(np.diff(np.sign(trs_res_ar.iloc[i,-1])))[0][-1]+1,\n",
    "                                       'min_pts':trs_res_ar.loc[i,'min_pts']}) for i in range(trs_res_ar.shape[0]) if np.where(np.diff(np.sign(trs_res_ar.iloc[i,-1])))[0].shape[0] !=0])\n",
    "tot_jumps=zero_crossings.groupby([\"sign_change_thresh\",\"min_pts\"]).count().reset_index() # how many jumps per thresh and minpts\n",
    "\n",
    "joined=pd.merge(tot_trs,tot_jumps, left_on=['thresh','min_pts'], right_on=['sign_change_thresh','min_pts'], how='left')\n",
    "joined.rename({'geometry':'tot_trs',\n",
    "              'tr_id':'tot_jumps'}, axis=1, inplace=True)\n",
    "joined"
   ]
  },
  {
   "cell_type": "code",
   "execution_count": null,
   "metadata": {
    "scrolled": true
   },
   "outputs": [],
   "source": [
    "plt.rcParams['font.sans-serif'] = 'Arial'\n",
    "# Then, \"ALWAYS use sans-serif fonts\"\n",
    "plt.rcParams['font.family'] = 'sans-serif'\n",
    "sb.set_context(\"paper\", font_scale=2.8)\n",
    "\n",
    "\n",
    "x_ticks=[0,2,4,6,8]\n",
    "\n",
    "q_up_val=0.95\n",
    "q_low_val=0.85\n",
    "\n",
    "list_minpts=ss_tr_big.min_pts.unique()\n",
    "\n",
    "for minpts in list_minpts:\n",
    "\n",
    "    f,ax=plt.subplots(figsize=(7,4))\n",
    "    ax2=ax.twinx()\n",
    "    \n",
    "    datain=joined.query(f\"min_pts=={minpts}\")  \n",
    "\n",
    "\n",
    "    sb.lineplot(x=\"thresh\", y=\"tot_jumps\",ci=None,\n",
    "                    data=datain,color='b',\n",
    "                   alpha=.4,linewidth=3,\n",
    "                ax=ax2, label=\"sign changes\")\n",
    "\n",
    "    sb.lineplot(data=datain,x='thresh',y='trs_10',\n",
    "                alpha=.4,color='r',linewidth=3,\n",
    "                ax=ax,label=\"transects * 10\")\n",
    "    \n",
    "    \n",
    "    kde_x, kde_y = ax.lines[0].get_data()\n",
    "    kde_x2, kde_y2 = ax2.lines[0].get_data()\n",
    "    ax.fill_between(kde_x, kde_y,interpolate=True, color='r',alpha=0.5)\n",
    "    ax2.fill_between(kde_x2, kde_y2,interpolate=True,color='b',alpha=0.5)\n",
    "    \n",
    "    ax.axhline((datain.tot_trs.fillna(0).max()*q_up_val)/10,c='k',ls='-',label='95%')\n",
    "    ax.axhline((datain.tot_trs.fillna(0).max()*q_low_val)/10,c='k',lw=2.5,ls='--',label='85%')\n",
    "    \n",
    "    ax.set_ylabel('n. transects x 10', c='r')\n",
    "    ax.set_xlabel('t')\n",
    "    ax2.set_ylabel('sign changes', c='b')\n",
    "    ax2.set_ylim(0,3)\n",
    "    ax.set_ylim(0,3)\n",
    "    ax.set_xlim(0,8)\n",
    "    \n",
    "\n",
    "    plt.tight_layout()\n",
    "    ax.get_legend().remove()\n",
    "    ax2.get_legend().remove()\n",
    "    \n",
    "    \n",
    "    plt.xticks(x_ticks)\n",
    "    savetxt=f\"E:\\\\path\\\\to\\\\save\\\\revision_0\\\\location_sensit_minpts_{minpts}.png\"\n",
    "    \n",
    "    ax.set_title(f\"pt: {minpts}\")\n",
    "    plt.tight_layout()\n",
    "    \n",
    "#   f.savefig(savetxt, dpi=600); #uncomment to save all images"
   ]
  },
  {
   "cell_type": "code",
   "execution_count": null,
   "metadata": {},
   "outputs": [],
   "source": []
  },
  {
   "cell_type": "code",
   "execution_count": null,
   "metadata": {},
   "outputs": [],
   "source": []
  },
  {
   "cell_type": "code",
   "execution_count": null,
   "metadata": {},
   "outputs": [],
   "source": []
  },
  {
   "cell_type": "code",
   "execution_count": null,
   "metadata": {},
   "outputs": [],
   "source": []
  },
  {
   "cell_type": "code",
   "execution_count": null,
   "metadata": {},
   "outputs": [],
   "source": []
  },
  {
   "cell_type": "markdown",
   "metadata": {},
   "source": [
    "### ProfileSet"
   ]
  },
  {
   "cell_type": "code",
   "execution_count": 3,
   "metadata": {},
   "outputs": [
    {
     "name": "stderr",
     "output_type": "stream",
     "text": [
      "C:\\conda3\\envs\\sandpyper_env\\lib\\site-packages\\geopandas\\geodataframe.py:422: RuntimeWarning: Sequential read of iterator was interrupted. Resetting iterator. This can negatively impact the performance.\n",
      "  for feature in features_lst:\n"
     ]
    },
    {
     "name": "stdout",
     "output_type": "stream",
     "text": [
      "dsm from leo = 6\n",
      "\n",
      "ortho from leo = 6\n",
      "\n",
      "dsm from mar = 9\n",
      "\n",
      "ortho from mar = 9\n",
      "\n",
      "\n",
      "NUMBER OF DATASETS TO PROCESS: 30\n"
     ]
    }
   ],
   "source": [
    "P=ProfileSet(dirNameDSM=dirNameDSM,\n",
    "            dirNameOrtho=dirNameOrtho,\n",
    "            dirNameTrans=dirNameTrans,\n",
    "            transects_spacing=transects_spacing,\n",
    "            loc_codes=loc_codes,\n",
    "            loc_search_dict=loc_search_dict,\n",
    "            crs_dict_string=crs_dict_string,\n",
    "            check=\"all\")"
   ]
  },
  {
   "cell_type": "code",
   "execution_count": 4,
   "metadata": {
    "scrolled": true
   },
   "outputs": [
    {
     "name": "stdout",
     "output_type": "stream",
     "text": [
      "Extracting elevation from DSMs . . .\n"
     ]
    },
    {
     "data": {
      "application/vnd.jupyter.widget-view+json": {
       "model_id": "26c00acdc43b4368acfe0b51d9cf575a",
       "version_major": 2,
       "version_minor": 0
      },
      "text/plain": [
       "  0%|          | 0/15 [00:00<?, ?it/s]"
      ]
     },
     "metadata": {},
     "output_type": "display_data"
    },
    {
     "data": {
      "application/vnd.jupyter.widget-view+json": {
       "model_id": "2905dbffa1a44531ad4e6a78ea2d7a5c",
       "version_major": 2,
       "version_minor": 0
      },
      "text/plain": [
       "  0%|          | 0/59 [00:00<?, ?it/s]"
      ]
     },
     "metadata": {},
     "output_type": "display_data"
    },
    {
     "data": {
      "application/vnd.jupyter.widget-view+json": {
       "model_id": "843e189fa1d745108e935cbd36b8bb66",
       "version_major": 2,
       "version_minor": 0
      },
      "text/plain": [
       "  0%|          | 0/59 [00:00<?, ?it/s]"
      ]
     },
     "metadata": {},
     "output_type": "display_data"
    },
    {
     "data": {
      "application/vnd.jupyter.widget-view+json": {
       "model_id": "fd2dccfdb9854ab092195ec357c2f5f6",
       "version_major": 2,
       "version_minor": 0
      },
      "text/plain": [
       "  0%|          | 0/59 [00:00<?, ?it/s]"
      ]
     },
     "metadata": {},
     "output_type": "display_data"
    },
    {
     "data": {
      "application/vnd.jupyter.widget-view+json": {
       "model_id": "08cdbfb50e8c4b7a81df0760e953ba93",
       "version_major": 2,
       "version_minor": 0
      },
      "text/plain": [
       "  0%|          | 0/59 [00:00<?, ?it/s]"
      ]
     },
     "metadata": {},
     "output_type": "display_data"
    },
    {
     "data": {
      "application/vnd.jupyter.widget-view+json": {
       "model_id": "faaa1e963d7f41ddb6dd0e09a77000b8",
       "version_major": 2,
       "version_minor": 0
      },
      "text/plain": [
       "  0%|          | 0/59 [00:00<?, ?it/s]"
      ]
     },
     "metadata": {},
     "output_type": "display_data"
    },
    {
     "data": {
      "application/vnd.jupyter.widget-view+json": {
       "model_id": "28665a77881d44ceb442b2c710418041",
       "version_major": 2,
       "version_minor": 0
      },
      "text/plain": [
       "  0%|          | 0/59 [00:00<?, ?it/s]"
      ]
     },
     "metadata": {},
     "output_type": "display_data"
    },
    {
     "data": {
      "application/vnd.jupyter.widget-view+json": {
       "model_id": "9340745db8f64e569d4f404ad05fdbb0",
       "version_major": 2,
       "version_minor": 0
      },
      "text/plain": [
       "  0%|          | 0/22 [00:00<?, ?it/s]"
      ]
     },
     "metadata": {},
     "output_type": "display_data"
    },
    {
     "data": {
      "application/vnd.jupyter.widget-view+json": {
       "model_id": "ac2681059ff64aedb6453b3d512064a5",
       "version_major": 2,
       "version_minor": 0
      },
      "text/plain": [
       "  0%|          | 0/22 [00:00<?, ?it/s]"
      ]
     },
     "metadata": {},
     "output_type": "display_data"
    },
    {
     "data": {
      "application/vnd.jupyter.widget-view+json": {
       "model_id": "79e6f652edc345f0b4e888629033e391",
       "version_major": 2,
       "version_minor": 0
      },
      "text/plain": [
       "  0%|          | 0/22 [00:00<?, ?it/s]"
      ]
     },
     "metadata": {},
     "output_type": "display_data"
    },
    {
     "data": {
      "application/vnd.jupyter.widget-view+json": {
       "model_id": "bf6a6c8c719547a981d562940259436a",
       "version_major": 2,
       "version_minor": 0
      },
      "text/plain": [
       "  0%|          | 0/22 [00:00<?, ?it/s]"
      ]
     },
     "metadata": {},
     "output_type": "display_data"
    },
    {
     "data": {
      "application/vnd.jupyter.widget-view+json": {
       "model_id": "b3762d1f0b0641e8b35d5195696eaca1",
       "version_major": 2,
       "version_minor": 0
      },
      "text/plain": [
       "  0%|          | 0/22 [00:00<?, ?it/s]"
      ]
     },
     "metadata": {},
     "output_type": "display_data"
    },
    {
     "data": {
      "application/vnd.jupyter.widget-view+json": {
       "model_id": "d4d772a919e8401dba516d4b908d4720",
       "version_major": 2,
       "version_minor": 0
      },
      "text/plain": [
       "  0%|          | 0/22 [00:00<?, ?it/s]"
      ]
     },
     "metadata": {},
     "output_type": "display_data"
    },
    {
     "data": {
      "application/vnd.jupyter.widget-view+json": {
       "model_id": "6efb589c803e464f9d5e1d2d3adbd3e3",
       "version_major": 2,
       "version_minor": 0
      },
      "text/plain": [
       "  0%|          | 0/22 [00:00<?, ?it/s]"
      ]
     },
     "metadata": {},
     "output_type": "display_data"
    },
    {
     "data": {
      "application/vnd.jupyter.widget-view+json": {
       "model_id": "aaed82c351cb4ad5875e335615177fe5",
       "version_major": 2,
       "version_minor": 0
      },
      "text/plain": [
       "  0%|          | 0/22 [00:00<?, ?it/s]"
      ]
     },
     "metadata": {},
     "output_type": "display_data"
    },
    {
     "data": {
      "application/vnd.jupyter.widget-view+json": {
       "model_id": "c4e241e337f745af9f869903c488387e",
       "version_major": 2,
       "version_minor": 0
      },
      "text/plain": [
       "  0%|          | 0/22 [00:00<?, ?it/s]"
      ]
     },
     "metadata": {},
     "output_type": "display_data"
    },
    {
     "name": "stdout",
     "output_type": "stream",
     "text": [
      "Extraction succesfull\n",
      "Number of points extracted:32805\n",
      "Time for processing=37.97621178627014 seconds\n",
      "First 10 rows are printed below\n",
      "Number of points outside the raster extents: 9066\n",
      "The extraction assigns NaN.\n",
      "Number of points in NoData areas within the raster extents: 250\n",
      "The extraction assigns NaN.\n",
      "Extracting rgb values from orthos . . .\n"
     ]
    },
    {
     "data": {
      "application/vnd.jupyter.widget-view+json": {
       "model_id": "b73f6e9b2aee4f3dbfeb371909f69cd6",
       "version_major": 2,
       "version_minor": 0
      },
      "text/plain": [
       "  0%|          | 0/15 [00:00<?, ?it/s]"
      ]
     },
     "metadata": {},
     "output_type": "display_data"
    },
    {
     "name": "stderr",
     "output_type": "stream",
     "text": [
      "C:\\conda3\\envs\\sandpyper_env\\lib\\site-packages\\geopandas\\geodataframe.py:422: RuntimeWarning: Sequential read of iterator was interrupted. Resetting iterator. This can negatively impact the performance.\n",
      "  for feature in features_lst:\n"
     ]
    },
    {
     "data": {
      "application/vnd.jupyter.widget-view+json": {
       "model_id": "63f1f47c9f404d1087d4ca4744575199",
       "version_major": 2,
       "version_minor": 0
      },
      "text/plain": [
       "  0%|          | 0/59 [00:00<?, ?it/s]"
      ]
     },
     "metadata": {},
     "output_type": "display_data"
    },
    {
     "data": {
      "application/vnd.jupyter.widget-view+json": {
       "model_id": "7ed94312ad4b4edfa839cb5b4d84d367",
       "version_major": 2,
       "version_minor": 0
      },
      "text/plain": [
       "  0%|          | 0/59 [00:00<?, ?it/s]"
      ]
     },
     "metadata": {},
     "output_type": "display_data"
    },
    {
     "data": {
      "application/vnd.jupyter.widget-view+json": {
       "model_id": "b5106bf3180d40c6b32d93d04297bdaf",
       "version_major": 2,
       "version_minor": 0
      },
      "text/plain": [
       "  0%|          | 0/59 [00:00<?, ?it/s]"
      ]
     },
     "metadata": {},
     "output_type": "display_data"
    },
    {
     "data": {
      "application/vnd.jupyter.widget-view+json": {
       "model_id": "9b002f9e400e48a38f07249adaee4f5e",
       "version_major": 2,
       "version_minor": 0
      },
      "text/plain": [
       "  0%|          | 0/59 [00:00<?, ?it/s]"
      ]
     },
     "metadata": {},
     "output_type": "display_data"
    },
    {
     "data": {
      "application/vnd.jupyter.widget-view+json": {
       "model_id": "5dde795708ca4165bd7e85c0151a7ccc",
       "version_major": 2,
       "version_minor": 0
      },
      "text/plain": [
       "  0%|          | 0/59 [00:00<?, ?it/s]"
      ]
     },
     "metadata": {},
     "output_type": "display_data"
    },
    {
     "data": {
      "application/vnd.jupyter.widget-view+json": {
       "model_id": "ae356214c461414eb623085c092d9be7",
       "version_major": 2,
       "version_minor": 0
      },
      "text/plain": [
       "  0%|          | 0/59 [00:00<?, ?it/s]"
      ]
     },
     "metadata": {},
     "output_type": "display_data"
    },
    {
     "data": {
      "application/vnd.jupyter.widget-view+json": {
       "model_id": "f0ece6bc5bb642cdb09efbc2bf1b590a",
       "version_major": 2,
       "version_minor": 0
      },
      "text/plain": [
       "  0%|          | 0/22 [00:00<?, ?it/s]"
      ]
     },
     "metadata": {},
     "output_type": "display_data"
    },
    {
     "data": {
      "application/vnd.jupyter.widget-view+json": {
       "model_id": "3a6af76f434f498f8785c2a8e2935654",
       "version_major": 2,
       "version_minor": 0
      },
      "text/plain": [
       "  0%|          | 0/22 [00:00<?, ?it/s]"
      ]
     },
     "metadata": {},
     "output_type": "display_data"
    },
    {
     "data": {
      "application/vnd.jupyter.widget-view+json": {
       "model_id": "0c6fa59198a94620b01e1f78fbe020ea",
       "version_major": 2,
       "version_minor": 0
      },
      "text/plain": [
       "  0%|          | 0/22 [00:00<?, ?it/s]"
      ]
     },
     "metadata": {},
     "output_type": "display_data"
    },
    {
     "data": {
      "application/vnd.jupyter.widget-view+json": {
       "model_id": "102546259be54126a9d99185fb4e7b1e",
       "version_major": 2,
       "version_minor": 0
      },
      "text/plain": [
       "  0%|          | 0/22 [00:00<?, ?it/s]"
      ]
     },
     "metadata": {},
     "output_type": "display_data"
    },
    {
     "data": {
      "application/vnd.jupyter.widget-view+json": {
       "model_id": "69df128e567f4b3b96f786ebf50f8ae0",
       "version_major": 2,
       "version_minor": 0
      },
      "text/plain": [
       "  0%|          | 0/22 [00:00<?, ?it/s]"
      ]
     },
     "metadata": {},
     "output_type": "display_data"
    },
    {
     "data": {
      "application/vnd.jupyter.widget-view+json": {
       "model_id": "1a2c1eaa9a8f4876a0eb834296798d77",
       "version_major": 2,
       "version_minor": 0
      },
      "text/plain": [
       "  0%|          | 0/22 [00:00<?, ?it/s]"
      ]
     },
     "metadata": {},
     "output_type": "display_data"
    },
    {
     "data": {
      "application/vnd.jupyter.widget-view+json": {
       "model_id": "ce041e5f9a6743f0a11c8faa3d08337f",
       "version_major": 2,
       "version_minor": 0
      },
      "text/plain": [
       "  0%|          | 0/22 [00:00<?, ?it/s]"
      ]
     },
     "metadata": {},
     "output_type": "display_data"
    },
    {
     "data": {
      "application/vnd.jupyter.widget-view+json": {
       "model_id": "234f1ab483b640c684e45ea1153b5d89",
       "version_major": 2,
       "version_minor": 0
      },
      "text/plain": [
       "  0%|          | 0/22 [00:00<?, ?it/s]"
      ]
     },
     "metadata": {},
     "output_type": "display_data"
    },
    {
     "data": {
      "application/vnd.jupyter.widget-view+json": {
       "model_id": "6f01e536a5c2431ca9ab4c29754cd90e",
       "version_major": 2,
       "version_minor": 0
      },
      "text/plain": [
       "  0%|          | 0/22 [00:00<?, ?it/s]"
      ]
     },
     "metadata": {},
     "output_type": "display_data"
    },
    {
     "name": "stdout",
     "output_type": "stream",
     "text": [
      "Extraction succesfull\n",
      "Number of points extracted:32805\n",
      "Time for processing=41.75910520553589 seconds\n",
      "First 10 rows are printed below\n",
      "Number of points outside the raster extents: 27198\n",
      "The extraction assigns NaN.\n",
      "Number of points in NoData areas within the raster extents: 0\n",
      "The extraction assigns NaN.\n",
      "Extracting LoD values\n"
     ]
    },
    {
     "data": {
      "application/vnd.jupyter.widget-view+json": {
       "model_id": "a6de870d04134f23b9d7a48d35c21441",
       "version_major": 2,
       "version_minor": 0
      },
      "text/plain": [
       "  0%|          | 0/15 [00:00<?, ?it/s]"
      ]
     },
     "metadata": {},
     "output_type": "display_data"
    },
    {
     "name": "stderr",
     "output_type": "stream",
     "text": [
      "C:\\conda3\\envs\\sandpyper_env\\lib\\site-packages\\geopandas\\geodataframe.py:422: RuntimeWarning: Sequential read of iterator was interrupted. Resetting iterator. This can negatively impact the performance.\n",
      "  for feature in features_lst:\n"
     ]
    },
    {
     "data": {
      "application/vnd.jupyter.widget-view+json": {
       "model_id": "b25ec7940ab147d19fc8b3a41aa21f70",
       "version_major": 2,
       "version_minor": 0
      },
      "text/plain": [
       "  0%|          | 0/7 [00:00<?, ?it/s]"
      ]
     },
     "metadata": {},
     "output_type": "display_data"
    },
    {
     "data": {
      "application/vnd.jupyter.widget-view+json": {
       "model_id": "1632d4782b374cefb6648f2e3ecfce69",
       "version_major": 2,
       "version_minor": 0
      },
      "text/plain": [
       "  0%|          | 0/7 [00:00<?, ?it/s]"
      ]
     },
     "metadata": {},
     "output_type": "display_data"
    },
    {
     "data": {
      "application/vnd.jupyter.widget-view+json": {
       "model_id": "5ebbdd2a46814f6daa58e0fc95412fba",
       "version_major": 2,
       "version_minor": 0
      },
      "text/plain": [
       "  0%|          | 0/7 [00:00<?, ?it/s]"
      ]
     },
     "metadata": {},
     "output_type": "display_data"
    },
    {
     "data": {
      "application/vnd.jupyter.widget-view+json": {
       "model_id": "5e17ad400ae441bca1cc7a205f6967cc",
       "version_major": 2,
       "version_minor": 0
      },
      "text/plain": [
       "  0%|          | 0/7 [00:00<?, ?it/s]"
      ]
     },
     "metadata": {},
     "output_type": "display_data"
    },
    {
     "data": {
      "application/vnd.jupyter.widget-view+json": {
       "model_id": "6423f4d0a4674ca0b6f8867e9d5a918f",
       "version_major": 2,
       "version_minor": 0
      },
      "text/plain": [
       "  0%|          | 0/7 [00:00<?, ?it/s]"
      ]
     },
     "metadata": {},
     "output_type": "display_data"
    },
    {
     "data": {
      "application/vnd.jupyter.widget-view+json": {
       "model_id": "a1856124cc294d3c80c085d25f15280a",
       "version_major": 2,
       "version_minor": 0
      },
      "text/plain": [
       "  0%|          | 0/7 [00:00<?, ?it/s]"
      ]
     },
     "metadata": {},
     "output_type": "display_data"
    },
    {
     "data": {
      "application/vnd.jupyter.widget-view+json": {
       "model_id": "8b5924233256499c81efa1d4d3a56c4b",
       "version_major": 2,
       "version_minor": 0
      },
      "text/plain": [
       "  0%|          | 0/6 [00:00<?, ?it/s]"
      ]
     },
     "metadata": {},
     "output_type": "display_data"
    },
    {
     "data": {
      "application/vnd.jupyter.widget-view+json": {
       "model_id": "911d9d48423942e6b711fffdc8805b60",
       "version_major": 2,
       "version_minor": 0
      },
      "text/plain": [
       "  0%|          | 0/6 [00:00<?, ?it/s]"
      ]
     },
     "metadata": {},
     "output_type": "display_data"
    },
    {
     "data": {
      "application/vnd.jupyter.widget-view+json": {
       "model_id": "603f1fa3f613415084670157ecefac54",
       "version_major": 2,
       "version_minor": 0
      },
      "text/plain": [
       "  0%|          | 0/6 [00:00<?, ?it/s]"
      ]
     },
     "metadata": {},
     "output_type": "display_data"
    },
    {
     "data": {
      "application/vnd.jupyter.widget-view+json": {
       "model_id": "710e5ef9114348a08feb641cb06570c1",
       "version_major": 2,
       "version_minor": 0
      },
      "text/plain": [
       "  0%|          | 0/6 [00:00<?, ?it/s]"
      ]
     },
     "metadata": {},
     "output_type": "display_data"
    },
    {
     "data": {
      "application/vnd.jupyter.widget-view+json": {
       "model_id": "164aa4dfaa94441e91ebb90e3c8951e7",
       "version_major": 2,
       "version_minor": 0
      },
      "text/plain": [
       "  0%|          | 0/6 [00:00<?, ?it/s]"
      ]
     },
     "metadata": {},
     "output_type": "display_data"
    },
    {
     "data": {
      "application/vnd.jupyter.widget-view+json": {
       "model_id": "c5fe75a1d32640409fd6840bf33664b6",
       "version_major": 2,
       "version_minor": 0
      },
      "text/plain": [
       "  0%|          | 0/6 [00:00<?, ?it/s]"
      ]
     },
     "metadata": {},
     "output_type": "display_data"
    },
    {
     "data": {
      "application/vnd.jupyter.widget-view+json": {
       "model_id": "d1957dc10de94d0cbb31f897d77d2f95",
       "version_major": 2,
       "version_minor": 0
      },
      "text/plain": [
       "  0%|          | 0/6 [00:00<?, ?it/s]"
      ]
     },
     "metadata": {},
     "output_type": "display_data"
    },
    {
     "data": {
      "application/vnd.jupyter.widget-view+json": {
       "model_id": "76828aca19fc42579a79f449c5346521",
       "version_major": 2,
       "version_minor": 0
      },
      "text/plain": [
       "  0%|          | 0/6 [00:00<?, ?it/s]"
      ]
     },
     "metadata": {},
     "output_type": "display_data"
    },
    {
     "data": {
      "application/vnd.jupyter.widget-view+json": {
       "model_id": "2dfe68843e7b47c398117b27bb49d272",
       "version_major": 2,
       "version_minor": 0
      },
      "text/plain": [
       "  0%|          | 0/6 [00:00<?, ?it/s]"
      ]
     },
     "metadata": {},
     "output_type": "display_data"
    },
    {
     "name": "stdout",
     "output_type": "stream",
     "text": [
      "Extraction succesfull\n",
      "Number of points extracted:1395\n",
      "Time for processing=4.658345937728882 seconds\n",
      "First 10 rows are printed below\n",
      "Number of points outside the raster extents: 27\n",
      "The extraction assigns NaN.\n",
      "Number of points in NoData areas within the raster extents: 0\n",
      "The extraction assigns NaN.\n"
     ]
    }
   ],
   "source": [
    "P.extract_profiles(mode='all',sampling_step=1,add_xy=True,lod_mode=lod_mode)"
   ]
  },
  {
   "cell_type": "markdown",
   "metadata": {},
   "source": [
    "#### Cleaning"
   ]
  },
  {
   "cell_type": "code",
   "execution_count": 5,
   "metadata": {},
   "outputs": [],
   "source": [
    "from sandpyper.labels import get_sil_location, get_opt_k\n"
   ]
  },
  {
   "cell_type": "code",
   "execution_count": 6,
   "metadata": {
    "scrolled": true
   },
   "outputs": [
    {
     "data": {
      "application/vnd.jupyter.widget-view+json": {
       "model_id": "78a3dc4bc7954f17b3dcd5c4db195fde",
       "version_major": 2,
       "version_minor": 0
      },
      "text/plain": [
       "  0%|          | 0/2 [00:00<?, ?it/s]"
      ]
     },
     "metadata": {},
     "output_type": "display_data"
    },
    {
     "data": {
      "application/vnd.jupyter.widget-view+json": {
       "model_id": "78a4395c9349414dbcdbaf6bb056629f",
       "version_major": 2,
       "version_minor": 0
      },
      "text/plain": [
       "  0%|          | 0/9 [00:00<?, ?it/s]"
      ]
     },
     "metadata": {},
     "output_type": "display_data"
    },
    {
     "name": "stdout",
     "output_type": "stream",
     "text": [
      "Working on : mar, 20190516.\n"
     ]
    },
    {
     "data": {
      "application/vnd.jupyter.widget-view+json": {
       "model_id": "697397ff230c4cb091e3ec557a002b39",
       "version_major": 2,
       "version_minor": 0
      },
      "text/plain": [
       "  0%|          | 0/13 [00:00<?, ?it/s]"
      ]
     },
     "metadata": {},
     "output_type": "display_data"
    },
    {
     "name": "stdout",
     "output_type": "stream",
     "text": [
      "For n_clusters = 2 The average silhouette_score is : 0.6219865168763407\n",
      "For n_clusters = 3 The average silhouette_score is : 0.535782834177223\n",
      "For n_clusters = 4 The average silhouette_score is : 0.5360693626824162\n",
      "For n_clusters = 5 The average silhouette_score is : 0.4560535847617118\n",
      "For n_clusters = 6 The average silhouette_score is : 0.45529082978244856\n",
      "For n_clusters = 7 The average silhouette_score is : 0.44623104595368007\n",
      "For n_clusters = 8 The average silhouette_score is : 0.4276467073078296\n",
      "For n_clusters = 9 The average silhouette_score is : 0.39984472497160034\n",
      "For n_clusters = 10 The average silhouette_score is : 0.3944833658664287\n",
      "For n_clusters = 11 The average silhouette_score is : 0.39290037915600995\n",
      "For n_clusters = 12 The average silhouette_score is : 0.3626866522843635\n",
      "For n_clusters = 13 The average silhouette_score is : 0.3537214969510808\n",
      "For n_clusters = 14 The average silhouette_score is : 0.360049558138258\n",
      "Working on : mar, 20190313.\n"
     ]
    },
    {
     "data": {
      "application/vnd.jupyter.widget-view+json": {
       "model_id": "7085c2d28cb841fc80517e423f1b2baf",
       "version_major": 2,
       "version_minor": 0
      },
      "text/plain": [
       "  0%|          | 0/13 [00:00<?, ?it/s]"
      ]
     },
     "metadata": {},
     "output_type": "display_data"
    },
    {
     "name": "stdout",
     "output_type": "stream",
     "text": [
      "For n_clusters = 2 The average silhouette_score is : 0.557958595647791\n",
      "For n_clusters = 3 The average silhouette_score is : 0.5140648301846097\n",
      "For n_clusters = 4 The average silhouette_score is : 0.5018436513556769\n",
      "For n_clusters = 5 The average silhouette_score is : 0.433979206893076\n",
      "For n_clusters = 6 The average silhouette_score is : 0.417124057365699\n",
      "For n_clusters = 7 The average silhouette_score is : 0.41877526043796687\n",
      "For n_clusters = 8 The average silhouette_score is : 0.3813644990945346\n",
      "For n_clusters = 9 The average silhouette_score is : 0.38298598316290156\n",
      "For n_clusters = 10 The average silhouette_score is : 0.38780357139523025\n",
      "For n_clusters = 11 The average silhouette_score is : 0.3705944933198418\n",
      "For n_clusters = 12 The average silhouette_score is : 0.3651637741592011\n",
      "For n_clusters = 13 The average silhouette_score is : 0.3626901435079943\n",
      "For n_clusters = 14 The average silhouette_score is : 0.364312347054231\n",
      "Working on : mar, 20190205.\n"
     ]
    },
    {
     "data": {
      "application/vnd.jupyter.widget-view+json": {
       "model_id": "9519271dc587407e8c05017ba36838fd",
       "version_major": 2,
       "version_minor": 0
      },
      "text/plain": [
       "  0%|          | 0/13 [00:00<?, ?it/s]"
      ]
     },
     "metadata": {},
     "output_type": "display_data"
    },
    {
     "name": "stdout",
     "output_type": "stream",
     "text": [
      "For n_clusters = 2 The average silhouette_score is : 0.5864811907668233\n",
      "For n_clusters = 3 The average silhouette_score is : 0.5287826504696901\n",
      "For n_clusters = 4 The average silhouette_score is : 0.5135421029464969\n",
      "For n_clusters = 5 The average silhouette_score is : 0.4307716357147362\n",
      "For n_clusters = 6 The average silhouette_score is : 0.4198951039452866\n",
      "For n_clusters = 7 The average silhouette_score is : 0.4216561839748987\n",
      "For n_clusters = 8 The average silhouette_score is : 0.4048963177852256\n",
      "For n_clusters = 9 The average silhouette_score is : 0.40309220394346107\n",
      "For n_clusters = 10 The average silhouette_score is : 0.3863324302013023\n",
      "For n_clusters = 11 The average silhouette_score is : 0.3797930282754271\n",
      "For n_clusters = 12 The average silhouette_score is : 0.38096229910474133\n",
      "For n_clusters = 13 The average silhouette_score is : 0.38270148296414735\n",
      "For n_clusters = 14 The average silhouette_score is : 0.38101196831610196\n",
      "Working on : mar, 20181211.\n"
     ]
    },
    {
     "data": {
      "application/vnd.jupyter.widget-view+json": {
       "model_id": "a0a8c80e3c534c109ba0414934e5afd8",
       "version_major": 2,
       "version_minor": 0
      },
      "text/plain": [
       "  0%|          | 0/13 [00:00<?, ?it/s]"
      ]
     },
     "metadata": {},
     "output_type": "display_data"
    },
    {
     "name": "stdout",
     "output_type": "stream",
     "text": [
      "For n_clusters = 2 The average silhouette_score is : 0.5408421089322027\n",
      "For n_clusters = 3 The average silhouette_score is : 0.5230591336669079\n",
      "For n_clusters = 4 The average silhouette_score is : 0.5212604455141028\n",
      "For n_clusters = 5 The average silhouette_score is : 0.4229400387683722\n",
      "For n_clusters = 6 The average silhouette_score is : 0.45245862927127983\n",
      "For n_clusters = 7 The average silhouette_score is : 0.4483238394769186\n",
      "For n_clusters = 8 The average silhouette_score is : 0.4196417680949735\n",
      "For n_clusters = 9 The average silhouette_score is : 0.40611511715414134\n",
      "For n_clusters = 10 The average silhouette_score is : 0.38659542553842996\n",
      "For n_clusters = 11 The average silhouette_score is : 0.3696055524901218\n",
      "For n_clusters = 12 The average silhouette_score is : 0.37009962399500085\n",
      "For n_clusters = 13 The average silhouette_score is : 0.35527656663572244\n",
      "For n_clusters = 14 The average silhouette_score is : 0.3465435289160837\n",
      "Working on : mar, 20181113.\n"
     ]
    },
    {
     "data": {
      "application/vnd.jupyter.widget-view+json": {
       "model_id": "b84de308bd004c529a25dfba872e7b51",
       "version_major": 2,
       "version_minor": 0
      },
      "text/plain": [
       "  0%|          | 0/13 [00:00<?, ?it/s]"
      ]
     },
     "metadata": {},
     "output_type": "display_data"
    },
    {
     "name": "stdout",
     "output_type": "stream",
     "text": [
      "For n_clusters = 2 The average silhouette_score is : 0.5653353599190023\n",
      "For n_clusters = 3 The average silhouette_score is : 0.48082172651613736\n",
      "For n_clusters = 4 The average silhouette_score is : 0.4739355249881875\n",
      "For n_clusters = 5 The average silhouette_score is : 0.44998542160594424\n",
      "For n_clusters = 6 The average silhouette_score is : 0.46793686792032685\n",
      "For n_clusters = 7 The average silhouette_score is : 0.45141377362406754\n",
      "For n_clusters = 8 The average silhouette_score is : 0.4282875609756635\n",
      "For n_clusters = 9 The average silhouette_score is : 0.41407851845524357\n",
      "For n_clusters = 10 The average silhouette_score is : 0.40718423656045105\n",
      "For n_clusters = 11 The average silhouette_score is : 0.3903647922431344\n",
      "For n_clusters = 12 The average silhouette_score is : 0.3839833647433829\n",
      "For n_clusters = 13 The average silhouette_score is : 0.38065272471925277\n",
      "For n_clusters = 14 The average silhouette_score is : 0.3832072967705472\n",
      "Working on : mar, 20180925.\n"
     ]
    },
    {
     "data": {
      "application/vnd.jupyter.widget-view+json": {
       "model_id": "3014fdd66d114734b51c23bfcb54b750",
       "version_major": 2,
       "version_minor": 0
      },
      "text/plain": [
       "  0%|          | 0/13 [00:00<?, ?it/s]"
      ]
     },
     "metadata": {},
     "output_type": "display_data"
    },
    {
     "name": "stdout",
     "output_type": "stream",
     "text": [
      "For n_clusters = 2 The average silhouette_score is : 0.5781993163219185\n",
      "For n_clusters = 3 The average silhouette_score is : 0.5170856406873439\n",
      "For n_clusters = 4 The average silhouette_score is : 0.48466929384434043\n",
      "For n_clusters = 5 The average silhouette_score is : 0.4373504056027659\n",
      "For n_clusters = 6 The average silhouette_score is : 0.39375906953445383\n",
      "For n_clusters = 7 The average silhouette_score is : 0.38864190848914665\n",
      "For n_clusters = 8 The average silhouette_score is : 0.4035256487664215\n",
      "For n_clusters = 9 The average silhouette_score is : 0.3798356038299367\n",
      "For n_clusters = 10 The average silhouette_score is : 0.37962054426443537\n",
      "For n_clusters = 11 The average silhouette_score is : 0.3644375001522226\n",
      "For n_clusters = 12 The average silhouette_score is : 0.3558265298038209\n",
      "For n_clusters = 13 The average silhouette_score is : 0.34528697717595713\n",
      "For n_clusters = 14 The average silhouette_score is : 0.35004508855406896\n",
      "Working on : mar, 20180727.\n"
     ]
    },
    {
     "data": {
      "application/vnd.jupyter.widget-view+json": {
       "model_id": "586d810907914c9780c49af7bac5ad22",
       "version_major": 2,
       "version_minor": 0
      },
      "text/plain": [
       "  0%|          | 0/13 [00:00<?, ?it/s]"
      ]
     },
     "metadata": {},
     "output_type": "display_data"
    },
    {
     "name": "stdout",
     "output_type": "stream",
     "text": [
      "For n_clusters = 2 The average silhouette_score is : 0.5803251747670938\n",
      "For n_clusters = 3 The average silhouette_score is : 0.48850610227959923\n",
      "For n_clusters = 4 The average silhouette_score is : 0.4772654299979584\n",
      "For n_clusters = 5 The average silhouette_score is : 0.4135001777584117\n",
      "For n_clusters = 6 The average silhouette_score is : 0.38283314263428714\n",
      "For n_clusters = 7 The average silhouette_score is : 0.3755827513627956\n",
      "For n_clusters = 8 The average silhouette_score is : 0.3486272625814806\n",
      "For n_clusters = 9 The average silhouette_score is : 0.3367906257895182\n",
      "For n_clusters = 10 The average silhouette_score is : 0.3273888373123684\n",
      "For n_clusters = 11 The average silhouette_score is : 0.30071888963336296\n",
      "For n_clusters = 12 The average silhouette_score is : 0.3219840164575009\n",
      "For n_clusters = 13 The average silhouette_score is : 0.3222155159146202\n",
      "For n_clusters = 14 The average silhouette_score is : 0.307958370621084\n",
      "Working on : mar, 20180621.\n"
     ]
    },
    {
     "data": {
      "application/vnd.jupyter.widget-view+json": {
       "model_id": "21b9d63f2f77453bb0d5d946bc33fe3e",
       "version_major": 2,
       "version_minor": 0
      },
      "text/plain": [
       "  0%|          | 0/13 [00:00<?, ?it/s]"
      ]
     },
     "metadata": {},
     "output_type": "display_data"
    },
    {
     "name": "stdout",
     "output_type": "stream",
     "text": [
      "For n_clusters = 2 The average silhouette_score is : 0.5439589764752933\n",
      "For n_clusters = 3 The average silhouette_score is : 0.4387708619085413\n",
      "For n_clusters = 4 The average silhouette_score is : 0.4501935908699898\n",
      "For n_clusters = 5 The average silhouette_score is : 0.3963414382040067\n",
      "For n_clusters = 6 The average silhouette_score is : 0.41807731086369254\n",
      "For n_clusters = 7 The average silhouette_score is : 0.3871968978951222\n",
      "For n_clusters = 8 The average silhouette_score is : 0.37393061831106983\n",
      "For n_clusters = 9 The average silhouette_score is : 0.3443142601476958\n",
      "For n_clusters = 10 The average silhouette_score is : 0.3585650473719073\n",
      "For n_clusters = 11 The average silhouette_score is : 0.35570748604269775\n",
      "For n_clusters = 12 The average silhouette_score is : 0.3575633171508779\n",
      "For n_clusters = 13 The average silhouette_score is : 0.37087632012718563\n",
      "For n_clusters = 14 The average silhouette_score is : 0.3795271430686032\n",
      "Working on : mar, 20180601.\n"
     ]
    },
    {
     "data": {
      "application/vnd.jupyter.widget-view+json": {
       "model_id": "10cbabc2743044bb8770e21e0a6e3089",
       "version_major": 2,
       "version_minor": 0
      },
      "text/plain": [
       "  0%|          | 0/13 [00:00<?, ?it/s]"
      ]
     },
     "metadata": {},
     "output_type": "display_data"
    },
    {
     "name": "stdout",
     "output_type": "stream",
     "text": [
      "For n_clusters = 2 The average silhouette_score is : 0.48270415311106846\n",
      "For n_clusters = 3 The average silhouette_score is : 0.3772084152830261\n",
      "For n_clusters = 4 The average silhouette_score is : 0.38234628609235827\n",
      "For n_clusters = 5 The average silhouette_score is : 0.38128225187445997\n",
      "For n_clusters = 6 The average silhouette_score is : 0.36428432858349613\n",
      "For n_clusters = 7 The average silhouette_score is : 0.36240034713437685\n",
      "For n_clusters = 8 The average silhouette_score is : 0.3701424025696913\n",
      "For n_clusters = 9 The average silhouette_score is : 0.37175207788683484\n",
      "For n_clusters = 10 The average silhouette_score is : 0.37676977350569846\n",
      "For n_clusters = 11 The average silhouette_score is : 0.37582649170780724\n",
      "For n_clusters = 12 The average silhouette_score is : 0.3619596723553155\n",
      "For n_clusters = 13 The average silhouette_score is : 0.360705274650356\n",
      "For n_clusters = 14 The average silhouette_score is : 0.3549151019500089\n"
     ]
    },
    {
     "data": {
      "application/vnd.jupyter.widget-view+json": {
       "model_id": "a1728116dcc84da399cec4c9c7552a78",
       "version_major": 2,
       "version_minor": 0
      },
      "text/plain": [
       "  0%|          | 0/6 [00:00<?, ?it/s]"
      ]
     },
     "metadata": {},
     "output_type": "display_data"
    },
    {
     "name": "stdout",
     "output_type": "stream",
     "text": [
      "Working on : leo, 20190731.\n"
     ]
    },
    {
     "data": {
      "application/vnd.jupyter.widget-view+json": {
       "model_id": "d2167a669bf24604b2a56644d73f602f",
       "version_major": 2,
       "version_minor": 0
      },
      "text/plain": [
       "  0%|          | 0/13 [00:00<?, ?it/s]"
      ]
     },
     "metadata": {},
     "output_type": "display_data"
    },
    {
     "name": "stdout",
     "output_type": "stream",
     "text": [
      "For n_clusters = 2 The average silhouette_score is : 0.3899198233106219\n",
      "For n_clusters = 3 The average silhouette_score is : 0.5071438060156596\n",
      "For n_clusters = 4 The average silhouette_score is : 0.47005119135652856\n",
      "For n_clusters = 5 The average silhouette_score is : 0.4481907289981238\n",
      "For n_clusters = 6 The average silhouette_score is : 0.42502882450684076\n",
      "For n_clusters = 7 The average silhouette_score is : 0.4011433092740131\n",
      "For n_clusters = 8 The average silhouette_score is : 0.38998808479733066\n",
      "For n_clusters = 9 The average silhouette_score is : 0.38559916622535073\n",
      "For n_clusters = 10 The average silhouette_score is : 0.38736594985557654\n",
      "For n_clusters = 11 The average silhouette_score is : 0.3788805356672864\n",
      "For n_clusters = 12 The average silhouette_score is : 0.37132878563783606\n",
      "For n_clusters = 13 The average silhouette_score is : 0.3728000521740459\n",
      "For n_clusters = 14 The average silhouette_score is : 0.37291633707910765\n",
      "Working on : leo, 20190328.\n"
     ]
    },
    {
     "data": {
      "application/vnd.jupyter.widget-view+json": {
       "model_id": "39439501ea3b4d6ea95453c500d020f4",
       "version_major": 2,
       "version_minor": 0
      },
      "text/plain": [
       "  0%|          | 0/13 [00:00<?, ?it/s]"
      ]
     },
     "metadata": {},
     "output_type": "display_data"
    },
    {
     "name": "stdout",
     "output_type": "stream",
     "text": [
      "For n_clusters = 2 The average silhouette_score is : 0.3988524141238273\n",
      "For n_clusters = 3 The average silhouette_score is : 0.4304685615621422\n",
      "For n_clusters = 4 The average silhouette_score is : 0.431227035737659\n",
      "For n_clusters = 5 The average silhouette_score is : 0.4509750902886234\n",
      "For n_clusters = 6 The average silhouette_score is : 0.42012497505273527\n",
      "For n_clusters = 7 The average silhouette_score is : 0.4094032569946379\n",
      "For n_clusters = 8 The average silhouette_score is : 0.42729379253757904\n",
      "For n_clusters = 9 The average silhouette_score is : 0.41690585873078206\n",
      "For n_clusters = 10 The average silhouette_score is : 0.4226788217215935\n",
      "For n_clusters = 11 The average silhouette_score is : 0.41351261817558693\n",
      "For n_clusters = 12 The average silhouette_score is : 0.4087415403998031\n",
      "For n_clusters = 13 The average silhouette_score is : 0.38543846003780563\n",
      "For n_clusters = 14 The average silhouette_score is : 0.3783301865582882\n",
      "Working on : leo, 20190211.\n"
     ]
    },
    {
     "data": {
      "application/vnd.jupyter.widget-view+json": {
       "model_id": "70f5e09ea523425ba7cd51f21f14815e",
       "version_major": 2,
       "version_minor": 0
      },
      "text/plain": [
       "  0%|          | 0/13 [00:00<?, ?it/s]"
      ]
     },
     "metadata": {},
     "output_type": "display_data"
    },
    {
     "name": "stdout",
     "output_type": "stream",
     "text": [
      "For n_clusters = 2 The average silhouette_score is : 0.3811803323084047\n",
      "For n_clusters = 3 The average silhouette_score is : 0.48727929000883047\n",
      "For n_clusters = 4 The average silhouette_score is : 0.44313687819005354\n",
      "For n_clusters = 5 The average silhouette_score is : 0.45097582364485633\n",
      "For n_clusters = 6 The average silhouette_score is : 0.4320727369612193\n",
      "For n_clusters = 7 The average silhouette_score is : 0.4166514336483687\n",
      "For n_clusters = 8 The average silhouette_score is : 0.39445247084076124\n",
      "For n_clusters = 9 The average silhouette_score is : 0.3718047003108205\n",
      "For n_clusters = 10 The average silhouette_score is : 0.36905766574894283\n",
      "For n_clusters = 11 The average silhouette_score is : 0.3723670925736636\n",
      "For n_clusters = 12 The average silhouette_score is : 0.35518841237259613\n",
      "For n_clusters = 13 The average silhouette_score is : 0.35415290301652735\n",
      "For n_clusters = 14 The average silhouette_score is : 0.33383141602938693\n",
      "Working on : leo, 20180920.\n"
     ]
    },
    {
     "data": {
      "application/vnd.jupyter.widget-view+json": {
       "model_id": "1a517a5c4a0f43eabfa3c7f825e3c3ec",
       "version_major": 2,
       "version_minor": 0
      },
      "text/plain": [
       "  0%|          | 0/13 [00:00<?, ?it/s]"
      ]
     },
     "metadata": {},
     "output_type": "display_data"
    },
    {
     "name": "stdout",
     "output_type": "stream",
     "text": [
      "For n_clusters = 2 The average silhouette_score is : 0.4039166622963731\n",
      "For n_clusters = 3 The average silhouette_score is : 0.4367493135688848\n",
      "For n_clusters = 4 The average silhouette_score is : 0.42434419318841404\n",
      "For n_clusters = 5 The average silhouette_score is : 0.4443994359362926\n",
      "For n_clusters = 6 The average silhouette_score is : 0.4175864662989779\n",
      "For n_clusters = 7 The average silhouette_score is : 0.38860870508958795\n",
      "For n_clusters = 8 The average silhouette_score is : 0.38880003508342514\n",
      "For n_clusters = 9 The average silhouette_score is : 0.3830287983992327\n",
      "For n_clusters = 10 The average silhouette_score is : 0.37353163965128733\n",
      "For n_clusters = 11 The average silhouette_score is : 0.36620965721819637\n",
      "For n_clusters = 12 The average silhouette_score is : 0.3536600836899299\n",
      "For n_clusters = 13 The average silhouette_score is : 0.3585083805642395\n",
      "For n_clusters = 14 The average silhouette_score is : 0.35672016047028215\n",
      "Working on : leo, 20180713.\n"
     ]
    },
    {
     "data": {
      "application/vnd.jupyter.widget-view+json": {
       "model_id": "4906630405294e46a1529829d48a5be7",
       "version_major": 2,
       "version_minor": 0
      },
      "text/plain": [
       "  0%|          | 0/13 [00:00<?, ?it/s]"
      ]
     },
     "metadata": {},
     "output_type": "display_data"
    },
    {
     "name": "stdout",
     "output_type": "stream",
     "text": [
      "For n_clusters = 2 The average silhouette_score is : 0.49629965872244686\n",
      "For n_clusters = 3 The average silhouette_score is : 0.5092406492417487\n",
      "For n_clusters = 4 The average silhouette_score is : 0.46159478658042724\n",
      "For n_clusters = 5 The average silhouette_score is : 0.4488595142176017\n",
      "For n_clusters = 6 The average silhouette_score is : 0.4183623304561938\n",
      "For n_clusters = 7 The average silhouette_score is : 0.39004221840210485\n",
      "For n_clusters = 8 The average silhouette_score is : 0.3842278112748862\n",
      "For n_clusters = 9 The average silhouette_score is : 0.36304035595403583\n",
      "For n_clusters = 10 The average silhouette_score is : 0.3463760386521644\n",
      "For n_clusters = 11 The average silhouette_score is : 0.34841430296451464\n",
      "For n_clusters = 12 The average silhouette_score is : 0.3460546307634773\n",
      "For n_clusters = 13 The average silhouette_score is : 0.34457917043266856\n",
      "For n_clusters = 14 The average silhouette_score is : 0.3318667826222712\n",
      "Working on : leo, 20180606.\n"
     ]
    },
    {
     "data": {
      "application/vnd.jupyter.widget-view+json": {
       "model_id": "9d48712a820c4039846da2bce6b84afc",
       "version_major": 2,
       "version_minor": 0
      },
      "text/plain": [
       "  0%|          | 0/13 [00:00<?, ?it/s]"
      ]
     },
     "metadata": {},
     "output_type": "display_data"
    },
    {
     "name": "stdout",
     "output_type": "stream",
     "text": [
      "For n_clusters = 2 The average silhouette_score is : 0.4012079287817844\n",
      "For n_clusters = 3 The average silhouette_score is : 0.4563078554750914\n",
      "For n_clusters = 4 The average silhouette_score is : 0.40640166442880776\n",
      "For n_clusters = 5 The average silhouette_score is : 0.4001757072050638\n",
      "For n_clusters = 6 The average silhouette_score is : 0.3890044660503746\n",
      "For n_clusters = 7 The average silhouette_score is : 0.3716889344520391\n",
      "For n_clusters = 8 The average silhouette_score is : 0.36600629265911533\n",
      "For n_clusters = 9 The average silhouette_score is : 0.3503569988098764\n",
      "For n_clusters = 10 The average silhouette_score is : 0.34651080656561367\n",
      "For n_clusters = 11 The average silhouette_score is : 0.34322073624826754\n",
      "For n_clusters = 12 The average silhouette_score is : 0.3439561998875081\n",
      "For n_clusters = 13 The average silhouette_score is : 0.347961415981389\n",
      "For n_clusters = 14 The average silhouette_score is : 0.33782737875946023\n"
     ]
    },
    {
     "data": {
      "text/html": [
       "<div>\n",
       "<style scoped>\n",
       "    .dataframe tbody tr th:only-of-type {\n",
       "        vertical-align: middle;\n",
       "    }\n",
       "\n",
       "    .dataframe tbody tr th {\n",
       "        vertical-align: top;\n",
       "    }\n",
       "\n",
       "    .dataframe thead th {\n",
       "        text-align: right;\n",
       "    }\n",
       "</style>\n",
       "<table border=\"1\" class=\"dataframe\">\n",
       "  <thead>\n",
       "    <tr style=\"text-align: right;\">\n",
       "      <th></th>\n",
       "      <th>location</th>\n",
       "      <th>raw_date</th>\n",
       "      <th>k</th>\n",
       "      <th>silhouette_mean</th>\n",
       "    </tr>\n",
       "  </thead>\n",
       "  <tbody>\n",
       "    <tr>\n",
       "      <th>0</th>\n",
       "      <td>mar</td>\n",
       "      <td>20190516</td>\n",
       "      <td>2</td>\n",
       "      <td>0.621987</td>\n",
       "    </tr>\n",
       "    <tr>\n",
       "      <th>1</th>\n",
       "      <td>mar</td>\n",
       "      <td>20190516</td>\n",
       "      <td>3</td>\n",
       "      <td>0.535783</td>\n",
       "    </tr>\n",
       "    <tr>\n",
       "      <th>2</th>\n",
       "      <td>mar</td>\n",
       "      <td>20190516</td>\n",
       "      <td>4</td>\n",
       "      <td>0.536069</td>\n",
       "    </tr>\n",
       "    <tr>\n",
       "      <th>3</th>\n",
       "      <td>mar</td>\n",
       "      <td>20190516</td>\n",
       "      <td>5</td>\n",
       "      <td>0.456054</td>\n",
       "    </tr>\n",
       "    <tr>\n",
       "      <th>4</th>\n",
       "      <td>mar</td>\n",
       "      <td>20190516</td>\n",
       "      <td>6</td>\n",
       "      <td>0.455291</td>\n",
       "    </tr>\n",
       "    <tr>\n",
       "      <th>...</th>\n",
       "      <td>...</td>\n",
       "      <td>...</td>\n",
       "      <td>...</td>\n",
       "      <td>...</td>\n",
       "    </tr>\n",
       "    <tr>\n",
       "      <th>190</th>\n",
       "      <td>leo</td>\n",
       "      <td>20180606</td>\n",
       "      <td>10</td>\n",
       "      <td>0.346511</td>\n",
       "    </tr>\n",
       "    <tr>\n",
       "      <th>191</th>\n",
       "      <td>leo</td>\n",
       "      <td>20180606</td>\n",
       "      <td>11</td>\n",
       "      <td>0.343221</td>\n",
       "    </tr>\n",
       "    <tr>\n",
       "      <th>192</th>\n",
       "      <td>leo</td>\n",
       "      <td>20180606</td>\n",
       "      <td>12</td>\n",
       "      <td>0.343956</td>\n",
       "    </tr>\n",
       "    <tr>\n",
       "      <th>193</th>\n",
       "      <td>leo</td>\n",
       "      <td>20180606</td>\n",
       "      <td>13</td>\n",
       "      <td>0.347961</td>\n",
       "    </tr>\n",
       "    <tr>\n",
       "      <th>194</th>\n",
       "      <td>leo</td>\n",
       "      <td>20180606</td>\n",
       "      <td>14</td>\n",
       "      <td>0.337827</td>\n",
       "    </tr>\n",
       "  </tbody>\n",
       "</table>\n",
       "<p>195 rows × 4 columns</p>\n",
       "</div>"
      ],
      "text/plain": [
       "    location  raw_date   k  silhouette_mean\n",
       "0        mar  20190516   2         0.621987\n",
       "1        mar  20190516   3         0.535783\n",
       "2        mar  20190516   4         0.536069\n",
       "3        mar  20190516   5         0.456054\n",
       "4        mar  20190516   6         0.455291\n",
       "..       ...       ...  ..              ...\n",
       "190      leo  20180606  10         0.346511\n",
       "191      leo  20180606  11         0.343221\n",
       "192      leo  20180606  12         0.343956\n",
       "193      leo  20180606  13         0.347961\n",
       "194      leo  20180606  14         0.337827\n",
       "\n",
       "[195 rows x 4 columns]"
      ]
     },
     "execution_count": 6,
     "metadata": {},
     "output_type": "execute_result"
    }
   ],
   "source": [
    "# Run interatively KMeans + SA\n",
    "\n",
    "feature_set=[\"band1\",\"band2\",\"band3\",\"distance\"]\n",
    "sil_df=get_sil_location(P.profiles,\n",
    "                        ks=(2,15), \n",
    "                        feature_set=feature_set,\n",
    "                       random_state=10)\n",
    "sil_df"
   ]
  },
  {
   "cell_type": "code",
   "execution_count": 7,
   "metadata": {},
   "outputs": [
    {
     "data": {
      "text/plain": [
       "{'leo_20180606': 11,\n",
       " 'leo_20180713': 10,\n",
       " 'leo_20180920': 4,\n",
       " 'leo_20190211': 4,\n",
       " 'leo_20190328': 7,\n",
       " 'leo_20190731': 9,\n",
       " 'mar_20180601': 3,\n",
       " 'mar_20180621': 3,\n",
       " 'mar_20180727': 11,\n",
       " 'mar_20180925': 7,\n",
       " 'mar_20181113': 5,\n",
       " 'mar_20181211': 5,\n",
       " 'mar_20190205': 6,\n",
       " 'mar_20190313': 6,\n",
       " 'mar_20190516': 3}"
      ]
     },
     "execution_count": 7,
     "metadata": {},
     "output_type": "execute_result"
    }
   ],
   "source": [
    "opt_k=get_opt_k(sil_df, sigma=0 )\n",
    "opt_k"
   ]
  },
  {
   "cell_type": "code",
   "execution_count": 8,
   "metadata": {},
   "outputs": [
    {
     "data": {
      "application/vnd.jupyter.widget-view+json": {
       "model_id": "f2b83c24fac14d70a03740db8bbceafb",
       "version_major": 2,
       "version_minor": 0
      },
      "text/plain": [
       "  0%|          | 0/2 [00:00<?, ?it/s]"
      ]
     },
     "metadata": {},
     "output_type": "display_data"
    },
    {
     "data": {
      "application/vnd.jupyter.widget-view+json": {
       "model_id": "d5004d19514f4a36b7e436175cfae83c",
       "version_major": 2,
       "version_minor": 0
      },
      "text/plain": [
       "  0%|          | 0/9 [00:00<?, ?it/s]"
      ]
     },
     "metadata": {},
     "output_type": "display_data"
    },
    {
     "data": {
      "application/vnd.jupyter.widget-view+json": {
       "model_id": "b28c579d454648d5ba7622dc2af6b172",
       "version_major": 2,
       "version_minor": 0
      },
      "text/plain": [
       "  0%|          | 0/6 [00:00<?, ?it/s]"
      ]
     },
     "metadata": {},
     "output_type": "display_data"
    }
   ],
   "source": [
    "P.kmeans_sa(opt_k,feature_set)"
   ]
  },
  {
   "cell_type": "code",
   "execution_count": 9,
   "metadata": {},
   "outputs": [],
   "source": [
    "water_dict={'leo_20180606':[0,9,10],\n",
    "'leo_20180713':[0,3,4,7],\n",
    "'leo_20180920':[0,2,6,7],\n",
    "'leo_20190211':[0,2,5],\n",
    "'leo_20190328':[2,4,5],\n",
    "'leo_20190731':[0,2,8,6],\n",
    "'mar_20180601':[1,6],\n",
    "'mar_20180621':[4,6],\n",
    "'mar_20180727':[0,5,9,10],\n",
    "'mar_20180925':[0],\n",
    "'mar_20181113':[1],\n",
    "'mar_20181211':[4],\n",
    "'mar_20190205':[],\n",
    "'mar_20190313':[],\n",
    "'mar_20190516':[4,7]}\n",
    "\n",
    "no_sand_dict={'leo_20180606':[5],\n",
    "'leo_20180713':[],\n",
    "'leo_20180920':[],\n",
    "'leo_20190211':[1],\n",
    "'leo_20190328':[],\n",
    "'leo_20190731':[1],\n",
    "'mar_20180601':[4,5],\n",
    "'mar_20180621':[3,5],\n",
    "'mar_20180727':[4,7],\n",
    "'mar_20180925':[1,6],\n",
    "'mar_20181113':[0],\n",
    "'mar_20181211':[0],\n",
    "'mar_20190205':[0,5],\n",
    "'mar_20190313':[4],\n",
    "'mar_20190516':[2,5]}\n",
    "\n",
    "veg_dict={'leo_20180606':[1,3,7,8],\n",
    "'leo_20180713':[1,5,9],\n",
    "'leo_20180920':[1,4,5],\n",
    "'leo_20190211':[4],\n",
    "'leo_20190328':[0,1,6],\n",
    "'leo_20190731':[3,7],\n",
    "'mar_20180601':[0,7],\n",
    "'mar_20180621':[1,7],\n",
    "'mar_20180727':[1,3],\n",
    "'mar_20180925':[4],\n",
    "'mar_20181113':[3],\n",
    "'mar_20181211':[2],\n",
    "'mar_20190205':[3],\n",
    "'mar_20190313':[1,5],\n",
    "'mar_20190516':[0]}\n",
    "\n",
    "sand_dict={'leo_20180606':[2,4,6],\n",
    "'leo_20180713':[2,6,8],\n",
    "'leo_20180920':[3],\n",
    "'leo_20190211':[3],\n",
    "'leo_20190328':[3],\n",
    "'leo_20190731':[4,5],\n",
    "'mar_20180601':[2,3],\n",
    "'mar_20180621':[0,2],\n",
    "'mar_20180727':[2,6,8],\n",
    "'mar_20180925':[2,3,5],\n",
    "'mar_20181113':[2,4],\n",
    "'mar_20181211':[3,1],\n",
    "'mar_20190205':[1,2,4],\n",
    "'mar_20190313':[0,2,3],\n",
    "'mar_20190516':[1,3,6]}\n",
    "\n",
    "\n",
    "l_dicts={'no_sand': no_sand_dict,\n",
    "         'sand': sand_dict,\n",
    "        'water': water_dict,\n",
    "        'veg':veg_dict}"
   ]
  },
  {
   "cell_type": "code",
   "execution_count": 10,
   "metadata": {},
   "outputs": [],
   "source": [
    "label_corrections_path=r\"C:\\my_packages\\sandpyper\\tests\\test_data\\label_corrections.gpkg\"\n",
    "watermasks_path=r\"C:\\my_packages\\sandpyper\\tests\\test_data\\watermasks.gpkg\"\n",
    "shoremasks_path=r\"C:\\my_packages\\sandpyper\\tests\\test_data\\shoremasks.gpkg\""
   ]
  },
  {
   "cell_type": "code",
   "execution_count": 11,
   "metadata": {},
   "outputs": [
    {
     "name": "stdout",
     "output_type": "stream",
     "text": [
      "Reclassifying dataset with the provided dictionaries.\n",
      "<class 'geopandas.geodataframe.GeoDataFrame'>\n",
      "<class 'geopandas.geodataframe.GeoDataFrame'>\n",
      "Label corrections provided in CRS: epsg:32754\n",
      "Fine tuning in leo.\n"
     ]
    },
    {
     "name": "stderr",
     "output_type": "stream",
     "text": [
      "C:\\conda3\\envs\\sandpyper_env\\lib\\site-packages\\geopandas\\geodataframe.py:422: RuntimeWarning: Sequential read of iterator was interrupted. Resetting iterator. This can negatively impact the performance.\n",
      "  for feature in features_lst:\n"
     ]
    },
    {
     "data": {
      "application/vnd.jupyter.widget-view+json": {
       "model_id": "31ab1077bc754f849340b99a37fbe71d",
       "version_major": 2,
       "version_minor": 0
      },
      "text/plain": [
       "  0%|          | 0/6 [00:00<?, ?it/s]"
      ]
     },
     "metadata": {},
     "output_type": "display_data"
    },
    {
     "name": "stdout",
     "output_type": "stream",
     "text": [
      "Fine-tuning label_k 3 to no_sand in leo-20180606, found 127 pts.\n",
      "Fine-tuning label_k 8 to no_sand in leo-20180606, found 73 pts.\n",
      "Fine-tuning label_k 5 to no_sand in leo-20180713, found 56 pts.\n",
      "Fine-tuning label_k 6 to no_sand in leo-20180713, found 7 pts.\n",
      "Fine-tuning label_k 1 to no_sand in leo-20180920, found 89 pts.\n",
      "Fine-tuning label_k 2 to sand in leo-20180920, found 9 pts.\n",
      "Fine-tuning label_k 2 to veg in leo-20180920, found 31 pts.\n",
      "Fine-tuning label_k 6 to sand in leo-20180920, found 17 pts.\n",
      "Fine-tuning label_k 2 to veg in leo-20190211, found 2 pts.\n",
      "Fine-tuning label_k 6 to veg in leo-20190211, found 29 pts.\n",
      "Fine-tuning label_k 6 to no_sand in leo-20190211, found 2 pts.\n",
      "Fine-tuning label_k 6 to veg in leo-20190211, found 6 pts.\n",
      "Fine-tuning label_k 6 to sand in leo-20190211, found 28 pts.\n",
      "Fine-tuning label_k 7 to no_sand in leo-20190211, found 41 pts.\n",
      "Fine-tuning label_k 0 to sand in leo-20190328, found 6 pts.\n",
      "Fine-tuning label_k 0 to no_sand in leo-20190328, found 52 pts.\n",
      "Fine-tuning label_k 1 to sand in leo-20190328, found 21 pts.\n",
      "Fine-tuning label_k 1 to no_sand in leo-20190328, found 2 pts.\n",
      "Fine-tuning label_k 2 to sand in leo-20190328, found 16 pts.\n",
      "Fine-tuning label_k 4 to sand in leo-20190328, found 25 pts.\n",
      "Fine-tuning label_k 5 to veg in leo-20190328, found 3 pts.\n",
      "Fine-tuning label_k 1 to sand in leo-20190731, found 5 pts.\n",
      "Fine-tuning label_k 3 to no_sand in leo-20190731, found 11 pts.\n",
      "Fine-tuning label_k 7 to no_sand in leo-20190731, found 72 pts.\n",
      "Fine-tuning label_k 6 to sand in leo-20190731, found 25 pts.\n",
      "Fine-tuning label_k 6 to veg in leo-20190731, found 42 pts.\n",
      "Fine tuning in mar.\n"
     ]
    },
    {
     "data": {
      "application/vnd.jupyter.widget-view+json": {
       "model_id": "622a3701cfa143bd93f622fd44984c04",
       "version_major": 2,
       "version_minor": 0
      },
      "text/plain": [
       "  0%|          | 0/6 [00:00<?, ?it/s]"
      ]
     },
     "metadata": {},
     "output_type": "display_data"
    },
    {
     "name": "stdout",
     "output_type": "stream",
     "text": [
      "Fine-tuning label_k 3 to water in mar-20180601, found 163 pts.\n",
      "Fine-tuning label_k 7 to no_sand in mar-20180601, found 15 pts.\n",
      "Fine-tuning label_k 7 to sand in mar-20180601, found 53 pts.\n",
      "Fine-tuning label_k 1 to sand in mar-20180621, found 48 pts.\n",
      "Fine-tuning label_k 3 to sand in mar-20180621, found 42 pts.\n",
      "Fine-tuning label_k 2 to water in mar-20180727, found 98 pts.\n",
      "Fine-tuning label_k 4 to sand in mar-20180727, found 29 pts.\n",
      "Fine-tuning label_k 2 to no_sand in mar-20181211, found 45 pts.\n",
      "Fine-tuning label_k 1 to water in mar-20181211, found 149 pts.\n",
      "Fine-tuning label_k 2 to water in mar-20190205, found 304 pts.\n",
      "Fine-tuning label_k 3 to no_sand in mar-20190205, found 23 pts.\n",
      "Fine-tuning label_k 2 to water in mar-20190313, found 100 pts.\n",
      "Fine-tuning label_k 5 to no_sand in mar-20190313, found 77 pts.\n",
      "<class 'geopandas.geodataframe.GeoDataFrame'>\n",
      "watermask  provided in CRS: epsg:32754\n",
      "Applying watermasks cleaning.\n",
      "Watermasking in mar.\n"
     ]
    },
    {
     "name": "stderr",
     "output_type": "stream",
     "text": [
      "C:\\conda3\\envs\\sandpyper_env\\lib\\site-packages\\geopandas\\geodataframe.py:422: RuntimeWarning: Sequential read of iterator was interrupted. Resetting iterator. This can negatively impact the performance.\n",
      "  for feature in features_lst:\n"
     ]
    },
    {
     "data": {
      "application/vnd.jupyter.widget-view+json": {
       "model_id": "cb6a3dc79d074b96865b65b1e7ee7fbb",
       "version_major": 2,
       "version_minor": 0
      },
      "text/plain": [
       "  0%|          | 0/9 [00:00<?, ?it/s]"
      ]
     },
     "metadata": {},
     "output_type": "display_data"
    },
    {
     "name": "stderr",
     "output_type": "stream",
     "text": [
      "C:\\conda3\\envs\\sandpyper_env\\lib\\site-packages\\geopandas\\base.py:39: UserWarning: The indices of the two GeoSeries are different.\n",
      "  warn(\"The indices of the two GeoSeries are different.\")\n",
      "C:\\conda3\\envs\\sandpyper_env\\lib\\site-packages\\geopandas\\geodataframe.py:828: UserWarning: Boolean Series key will be reindexed to match DataFrame index.\n",
      "  result = super(GeoDataFrame, self).__getitem__(key)\n",
      "C:\\conda3\\envs\\sandpyper_env\\lib\\site-packages\\pyproj\\crs\\crs.py:53: FutureWarning: '+init=<authority>:<code>' syntax is deprecated. '<authority>:<code>' is the preferred initialization method. When making the change, be mindful of axis order changes: https://pyproj4.github.io/pyproj/stable/gotchas.html#axis-order-changes-in-proj-6\n",
      "  return _prepare_from_string(\" \".join(pjargs))\n",
      "C:\\conda3\\envs\\sandpyper_env\\lib\\site-packages\\geopandas\\base.py:39: UserWarning: The indices of the two GeoSeries are different.\n",
      "  warn(\"The indices of the two GeoSeries are different.\")\n",
      "C:\\conda3\\envs\\sandpyper_env\\lib\\site-packages\\geopandas\\geodataframe.py:828: UserWarning: Boolean Series key will be reindexed to match DataFrame index.\n",
      "  result = super(GeoDataFrame, self).__getitem__(key)\n",
      "C:\\conda3\\envs\\sandpyper_env\\lib\\site-packages\\pyproj\\crs\\crs.py:53: FutureWarning: '+init=<authority>:<code>' syntax is deprecated. '<authority>:<code>' is the preferred initialization method. When making the change, be mindful of axis order changes: https://pyproj4.github.io/pyproj/stable/gotchas.html#axis-order-changes-in-proj-6\n",
      "  return _prepare_from_string(\" \".join(pjargs))\n"
     ]
    },
    {
     "name": "stdout",
     "output_type": "stream",
     "text": [
      "Setting to water 750 pts overlapping provided watermasks.\n",
      "Setting to water 532 pts overlapping provided watermasks.\n"
     ]
    },
    {
     "name": "stderr",
     "output_type": "stream",
     "text": [
      "C:\\conda3\\envs\\sandpyper_env\\lib\\site-packages\\geopandas\\base.py:39: UserWarning: The indices of the two GeoSeries are different.\n",
      "  warn(\"The indices of the two GeoSeries are different.\")\n",
      "C:\\conda3\\envs\\sandpyper_env\\lib\\site-packages\\geopandas\\geodataframe.py:828: UserWarning: Boolean Series key will be reindexed to match DataFrame index.\n",
      "  result = super(GeoDataFrame, self).__getitem__(key)\n",
      "C:\\conda3\\envs\\sandpyper_env\\lib\\site-packages\\pyproj\\crs\\crs.py:53: FutureWarning: '+init=<authority>:<code>' syntax is deprecated. '<authority>:<code>' is the preferred initialization method. When making the change, be mindful of axis order changes: https://pyproj4.github.io/pyproj/stable/gotchas.html#axis-order-changes-in-proj-6\n",
      "  return _prepare_from_string(\" \".join(pjargs))\n",
      "C:\\conda3\\envs\\sandpyper_env\\lib\\site-packages\\geopandas\\base.py:39: UserWarning: The indices of the two GeoSeries are different.\n",
      "  warn(\"The indices of the two GeoSeries are different.\")\n",
      "C:\\conda3\\envs\\sandpyper_env\\lib\\site-packages\\geopandas\\geodataframe.py:828: UserWarning: Boolean Series key will be reindexed to match DataFrame index.\n",
      "  result = super(GeoDataFrame, self).__getitem__(key)\n",
      "C:\\conda3\\envs\\sandpyper_env\\lib\\site-packages\\pyproj\\crs\\crs.py:53: FutureWarning: '+init=<authority>:<code>' syntax is deprecated. '<authority>:<code>' is the preferred initialization method. When making the change, be mindful of axis order changes: https://pyproj4.github.io/pyproj/stable/gotchas.html#axis-order-changes-in-proj-6\n",
      "  return _prepare_from_string(\" \".join(pjargs))\n"
     ]
    },
    {
     "name": "stdout",
     "output_type": "stream",
     "text": [
      "Setting to water 710 pts overlapping provided watermasks.\n",
      "Setting to water 532 pts overlapping provided watermasks.\n"
     ]
    },
    {
     "name": "stderr",
     "output_type": "stream",
     "text": [
      "C:\\conda3\\envs\\sandpyper_env\\lib\\site-packages\\geopandas\\base.py:39: UserWarning: The indices of the two GeoSeries are different.\n",
      "  warn(\"The indices of the two GeoSeries are different.\")\n",
      "C:\\conda3\\envs\\sandpyper_env\\lib\\site-packages\\geopandas\\geodataframe.py:828: UserWarning: Boolean Series key will be reindexed to match DataFrame index.\n",
      "  result = super(GeoDataFrame, self).__getitem__(key)\n",
      "C:\\conda3\\envs\\sandpyper_env\\lib\\site-packages\\pyproj\\crs\\crs.py:53: FutureWarning: '+init=<authority>:<code>' syntax is deprecated. '<authority>:<code>' is the preferred initialization method. When making the change, be mindful of axis order changes: https://pyproj4.github.io/pyproj/stable/gotchas.html#axis-order-changes-in-proj-6\n",
      "  return _prepare_from_string(\" \".join(pjargs))\n",
      "C:\\conda3\\envs\\sandpyper_env\\lib\\site-packages\\geopandas\\base.py:39: UserWarning: The indices of the two GeoSeries are different.\n",
      "  warn(\"The indices of the two GeoSeries are different.\")\n",
      "C:\\conda3\\envs\\sandpyper_env\\lib\\site-packages\\geopandas\\geodataframe.py:828: UserWarning: Boolean Series key will be reindexed to match DataFrame index.\n",
      "  result = super(GeoDataFrame, self).__getitem__(key)\n",
      "C:\\conda3\\envs\\sandpyper_env\\lib\\site-packages\\pyproj\\crs\\crs.py:53: FutureWarning: '+init=<authority>:<code>' syntax is deprecated. '<authority>:<code>' is the preferred initialization method. When making the change, be mindful of axis order changes: https://pyproj4.github.io/pyproj/stable/gotchas.html#axis-order-changes-in-proj-6\n",
      "  return _prepare_from_string(\" \".join(pjargs))\n"
     ]
    },
    {
     "name": "stdout",
     "output_type": "stream",
     "text": [
      "Setting to water 599 pts overlapping provided watermasks.\n",
      "Setting to water 557 pts overlapping provided watermasks.\n"
     ]
    },
    {
     "name": "stderr",
     "output_type": "stream",
     "text": [
      "C:\\conda3\\envs\\sandpyper_env\\lib\\site-packages\\geopandas\\base.py:39: UserWarning: The indices of the two GeoSeries are different.\n",
      "  warn(\"The indices of the two GeoSeries are different.\")\n",
      "C:\\conda3\\envs\\sandpyper_env\\lib\\site-packages\\geopandas\\geodataframe.py:828: UserWarning: Boolean Series key will be reindexed to match DataFrame index.\n",
      "  result = super(GeoDataFrame, self).__getitem__(key)\n",
      "C:\\conda3\\envs\\sandpyper_env\\lib\\site-packages\\pyproj\\crs\\crs.py:53: FutureWarning: '+init=<authority>:<code>' syntax is deprecated. '<authority>:<code>' is the preferred initialization method. When making the change, be mindful of axis order changes: https://pyproj4.github.io/pyproj/stable/gotchas.html#axis-order-changes-in-proj-6\n",
      "  return _prepare_from_string(\" \".join(pjargs))\n",
      "C:\\conda3\\envs\\sandpyper_env\\lib\\site-packages\\geopandas\\base.py:39: UserWarning: The indices of the two GeoSeries are different.\n",
      "  warn(\"The indices of the two GeoSeries are different.\")\n",
      "C:\\conda3\\envs\\sandpyper_env\\lib\\site-packages\\geopandas\\geodataframe.py:828: UserWarning: Boolean Series key will be reindexed to match DataFrame index.\n",
      "  result = super(GeoDataFrame, self).__getitem__(key)\n",
      "C:\\conda3\\envs\\sandpyper_env\\lib\\site-packages\\pyproj\\crs\\crs.py:53: FutureWarning: '+init=<authority>:<code>' syntax is deprecated. '<authority>:<code>' is the preferred initialization method. When making the change, be mindful of axis order changes: https://pyproj4.github.io/pyproj/stable/gotchas.html#axis-order-changes-in-proj-6\n",
      "  return _prepare_from_string(\" \".join(pjargs))\n"
     ]
    },
    {
     "name": "stdout",
     "output_type": "stream",
     "text": [
      "Setting to water 339 pts overlapping provided watermasks.\n",
      "Setting to water 133 pts overlapping provided watermasks.\n",
      "Setting to water 441 pts overlapping provided watermasks.\n",
      "Watermasking in leo.\n"
     ]
    },
    {
     "name": "stderr",
     "output_type": "stream",
     "text": [
      "C:\\conda3\\envs\\sandpyper_env\\lib\\site-packages\\geopandas\\base.py:39: UserWarning: The indices of the two GeoSeries are different.\n",
      "  warn(\"The indices of the two GeoSeries are different.\")\n",
      "C:\\conda3\\envs\\sandpyper_env\\lib\\site-packages\\geopandas\\geodataframe.py:828: UserWarning: Boolean Series key will be reindexed to match DataFrame index.\n",
      "  result = super(GeoDataFrame, self).__getitem__(key)\n",
      "C:\\conda3\\envs\\sandpyper_env\\lib\\site-packages\\pyproj\\crs\\crs.py:53: FutureWarning: '+init=<authority>:<code>' syntax is deprecated. '<authority>:<code>' is the preferred initialization method. When making the change, be mindful of axis order changes: https://pyproj4.github.io/pyproj/stable/gotchas.html#axis-order-changes-in-proj-6\n",
      "  return _prepare_from_string(\" \".join(pjargs))\n"
     ]
    },
    {
     "data": {
      "application/vnd.jupyter.widget-view+json": {
       "model_id": "83948b764230427f80e80d5edbaf4040",
       "version_major": 2,
       "version_minor": 0
      },
      "text/plain": [
       "  0%|          | 0/6 [00:00<?, ?it/s]"
      ]
     },
     "metadata": {},
     "output_type": "display_data"
    },
    {
     "name": "stderr",
     "output_type": "stream",
     "text": [
      "C:\\conda3\\envs\\sandpyper_env\\lib\\site-packages\\geopandas\\base.py:39: UserWarning: The indices of the two GeoSeries are different.\n",
      "  warn(\"The indices of the two GeoSeries are different.\")\n",
      "C:\\conda3\\envs\\sandpyper_env\\lib\\site-packages\\pyproj\\crs\\crs.py:53: FutureWarning: '+init=<authority>:<code>' syntax is deprecated. '<authority>:<code>' is the preferred initialization method. When making the change, be mindful of axis order changes: https://pyproj4.github.io/pyproj/stable/gotchas.html#axis-order-changes-in-proj-6\n",
      "  return _prepare_from_string(\" \".join(pjargs))\n"
     ]
    },
    {
     "name": "stdout",
     "output_type": "stream",
     "text": [
      "Setting to water 652 pts overlapping provided watermasks.\n"
     ]
    },
    {
     "name": "stderr",
     "output_type": "stream",
     "text": [
      "C:\\conda3\\envs\\sandpyper_env\\lib\\site-packages\\geopandas\\base.py:39: UserWarning: The indices of the two GeoSeries are different.\n",
      "  warn(\"The indices of the two GeoSeries are different.\")\n",
      "C:\\conda3\\envs\\sandpyper_env\\lib\\site-packages\\geopandas\\geodataframe.py:828: UserWarning: Boolean Series key will be reindexed to match DataFrame index.\n",
      "  result = super(GeoDataFrame, self).__getitem__(key)\n",
      "C:\\conda3\\envs\\sandpyper_env\\lib\\site-packages\\pyproj\\crs\\crs.py:53: FutureWarning: '+init=<authority>:<code>' syntax is deprecated. '<authority>:<code>' is the preferred initialization method. When making the change, be mindful of axis order changes: https://pyproj4.github.io/pyproj/stable/gotchas.html#axis-order-changes-in-proj-6\n",
      "  return _prepare_from_string(\" \".join(pjargs))\n",
      "C:\\conda3\\envs\\sandpyper_env\\lib\\site-packages\\geopandas\\base.py:39: UserWarning: The indices of the two GeoSeries are different.\n",
      "  warn(\"The indices of the two GeoSeries are different.\")\n",
      "C:\\conda3\\envs\\sandpyper_env\\lib\\site-packages\\geopandas\\geodataframe.py:828: UserWarning: Boolean Series key will be reindexed to match DataFrame index.\n",
      "  result = super(GeoDataFrame, self).__getitem__(key)\n",
      "C:\\conda3\\envs\\sandpyper_env\\lib\\site-packages\\pyproj\\crs\\crs.py:53: FutureWarning: '+init=<authority>:<code>' syntax is deprecated. '<authority>:<code>' is the preferred initialization method. When making the change, be mindful of axis order changes: https://pyproj4.github.io/pyproj/stable/gotchas.html#axis-order-changes-in-proj-6\n",
      "  return _prepare_from_string(\" \".join(pjargs))\n"
     ]
    },
    {
     "name": "stdout",
     "output_type": "stream",
     "text": [
      "Setting to water 555 pts overlapping provided watermasks.\n"
     ]
    },
    {
     "name": "stderr",
     "output_type": "stream",
     "text": [
      "C:\\conda3\\envs\\sandpyper_env\\lib\\site-packages\\geopandas\\base.py:39: UserWarning: The indices of the two GeoSeries are different.\n",
      "  warn(\"The indices of the two GeoSeries are different.\")\n",
      "C:\\conda3\\envs\\sandpyper_env\\lib\\site-packages\\geopandas\\geodataframe.py:828: UserWarning: Boolean Series key will be reindexed to match DataFrame index.\n",
      "  result = super(GeoDataFrame, self).__getitem__(key)\n",
      "C:\\conda3\\envs\\sandpyper_env\\lib\\site-packages\\pyproj\\crs\\crs.py:53: FutureWarning: '+init=<authority>:<code>' syntax is deprecated. '<authority>:<code>' is the preferred initialization method. When making the change, be mindful of axis order changes: https://pyproj4.github.io/pyproj/stable/gotchas.html#axis-order-changes-in-proj-6\n",
      "  return _prepare_from_string(\" \".join(pjargs))\n"
     ]
    },
    {
     "name": "stdout",
     "output_type": "stream",
     "text": [
      "Setting to water 638 pts overlapping provided watermasks.\n"
     ]
    },
    {
     "name": "stderr",
     "output_type": "stream",
     "text": [
      "C:\\conda3\\envs\\sandpyper_env\\lib\\site-packages\\geopandas\\base.py:39: UserWarning: The indices of the two GeoSeries are different.\n",
      "  warn(\"The indices of the two GeoSeries are different.\")\n",
      "C:\\conda3\\envs\\sandpyper_env\\lib\\site-packages\\geopandas\\geodataframe.py:828: UserWarning: Boolean Series key will be reindexed to match DataFrame index.\n",
      "  result = super(GeoDataFrame, self).__getitem__(key)\n",
      "C:\\conda3\\envs\\sandpyper_env\\lib\\site-packages\\pyproj\\crs\\crs.py:53: FutureWarning: '+init=<authority>:<code>' syntax is deprecated. '<authority>:<code>' is the preferred initialization method. When making the change, be mindful of axis order changes: https://pyproj4.github.io/pyproj/stable/gotchas.html#axis-order-changes-in-proj-6\n",
      "  return _prepare_from_string(\" \".join(pjargs))\n"
     ]
    },
    {
     "name": "stdout",
     "output_type": "stream",
     "text": [
      "Setting to water 627 pts overlapping provided watermasks.\n"
     ]
    },
    {
     "name": "stderr",
     "output_type": "stream",
     "text": [
      "C:\\conda3\\envs\\sandpyper_env\\lib\\site-packages\\geopandas\\base.py:39: UserWarning: The indices of the two GeoSeries are different.\n",
      "  warn(\"The indices of the two GeoSeries are different.\")\n",
      "C:\\conda3\\envs\\sandpyper_env\\lib\\site-packages\\geopandas\\geodataframe.py:828: UserWarning: Boolean Series key will be reindexed to match DataFrame index.\n",
      "  result = super(GeoDataFrame, self).__getitem__(key)\n",
      "C:\\conda3\\envs\\sandpyper_env\\lib\\site-packages\\pyproj\\crs\\crs.py:53: FutureWarning: '+init=<authority>:<code>' syntax is deprecated. '<authority>:<code>' is the preferred initialization method. When making the change, be mindful of axis order changes: https://pyproj4.github.io/pyproj/stable/gotchas.html#axis-order-changes-in-proj-6\n",
      "  return _prepare_from_string(\" \".join(pjargs))\n"
     ]
    },
    {
     "name": "stdout",
     "output_type": "stream",
     "text": [
      "Setting to water 583 pts overlapping provided watermasks.\n"
     ]
    },
    {
     "name": "stderr",
     "output_type": "stream",
     "text": [
      "C:\\conda3\\envs\\sandpyper_env\\lib\\site-packages\\geopandas\\geodataframe.py:422: RuntimeWarning: Sequential read of iterator was interrupted. Resetting iterator. This can negatively impact the performance.\n",
      "  for feature in features_lst:\n",
      "C:\\conda3\\envs\\sandpyper_env\\lib\\site-packages\\geopandas\\base.py:39: UserWarning: The indices of the two GeoSeries are different.\n",
      "  warn(\"The indices of the two GeoSeries are different.\")\n",
      "C:\\conda3\\envs\\sandpyper_env\\lib\\site-packages\\geopandas\\geodataframe.py:828: UserWarning: Boolean Series key will be reindexed to match DataFrame index.\n",
      "  result = super(GeoDataFrame, self).__getitem__(key)\n"
     ]
    },
    {
     "name": "stdout",
     "output_type": "stream",
     "text": [
      "Setting to water 643 pts overlapping provided watermasks.\n",
      "shoremask  provided in CRS: epsg:32754\n",
      "Applying shoremasks cleaning.\n",
      "Shoremasking in mar.\n"
     ]
    },
    {
     "name": "stderr",
     "output_type": "stream",
     "text": [
      "C:\\conda3\\envs\\sandpyper_env\\lib\\site-packages\\pyproj\\crs\\crs.py:53: FutureWarning: '+init=<authority>:<code>' syntax is deprecated. '<authority>:<code>' is the preferred initialization method. When making the change, be mindful of axis order changes: https://pyproj4.github.io/pyproj/stable/gotchas.html#axis-order-changes-in-proj-6\n",
      "  return _prepare_from_string(\" \".join(pjargs))\n"
     ]
    },
    {
     "name": "stdout",
     "output_type": "stream",
     "text": [
      "Removing 3621 pts falling outside provided shore polygones.\n",
      "Shoremasking in leo.\n"
     ]
    },
    {
     "name": "stderr",
     "output_type": "stream",
     "text": [
      "C:\\conda3\\envs\\sandpyper_env\\lib\\site-packages\\geopandas\\base.py:39: UserWarning: The indices of the two GeoSeries are different.\n",
      "  warn(\"The indices of the two GeoSeries are different.\")\n",
      "C:\\conda3\\envs\\sandpyper_env\\lib\\site-packages\\pyproj\\crs\\crs.py:53: FutureWarning: '+init=<authority>:<code>' syntax is deprecated. '<authority>:<code>' is the preferred initialization method. When making the change, be mindful of axis order changes: https://pyproj4.github.io/pyproj/stable/gotchas.html#axis-order-changes-in-proj-6\n",
      "  return _prepare_from_string(\" \".join(pjargs))\n"
     ]
    },
    {
     "name": "stdout",
     "output_type": "stream",
     "text": [
      "Removing 2358 pts falling outside provided shore polygones.\n",
      "['polygon finetuning', 'watermasking', 'shoremasking'] completed.\n"
     ]
    }
   ],
   "source": [
    "P.cleanit(l_dicts=l_dicts,\n",
    "          watermasks_path=watermasks_path,\n",
    "          shoremasks_path=shoremasks_path,\n",
    "          label_corrections_path=label_corrections_path)"
   ]
  },
  {
   "cell_type": "markdown",
   "metadata": {},
   "source": [
    "### ProfileDynamics"
   ]
  },
  {
   "cell_type": "code",
   "execution_count": 12,
   "metadata": {},
   "outputs": [
    {
     "name": "stdout",
     "output_type": "stream",
     "text": [
      "Data will be partitioned into 5 discrete classes.\n",
      "Labels provided.\n",
      "Filter activated: only ['sand'] points will be retained.\n",
      "working on leo\n"
     ]
    },
    {
     "data": {
      "application/vnd.jupyter.widget-view+json": {
       "model_id": "679073bbdcfe49249e61cabe4e44b9b5",
       "version_major": 2,
       "version_minor": 0
      },
      "text/plain": [
       "  0%|          | 0/6 [00:00<?, ?it/s]"
      ]
     },
     "metadata": {},
     "output_type": "display_data"
    },
    {
     "name": "stdout",
     "output_type": "stream",
     "text": [
      "Calculating dt0, from 20180606 to 20180713 in leo.\n",
      "Calculating dt1, from 20180713 to 20180920 in leo.\n",
      "Calculating dt2, from 20180920 to 20190211 in leo.\n",
      "Calculating dt3, from 20190211 to 20190328 in leo.\n",
      "Calculating dt4, from 20190328 to 20190731 in leo.\n",
      "working on mar\n"
     ]
    },
    {
     "data": {
      "application/vnd.jupyter.widget-view+json": {
       "model_id": "94aa3cc7332b498b99f2b678e5345ad4",
       "version_major": 2,
       "version_minor": 0
      },
      "text/plain": [
       "  0%|          | 0/9 [00:00<?, ?it/s]"
      ]
     },
     "metadata": {},
     "output_type": "display_data"
    },
    {
     "name": "stdout",
     "output_type": "stream",
     "text": [
      "Calculating dt0, from 20180601 to 20180621 in mar.\n",
      "Calculating dt1, from 20180621 to 20180727 in mar.\n",
      "Calculating dt2, from 20180727 to 20180925 in mar.\n",
      "Calculating dt3, from 20180925 to 20181113 in mar.\n",
      "Calculating dt4, from 20181113 to 20181211 in mar.\n",
      "Calculating dt5, from 20181211 to 20190205 in mar.\n",
      "Calculating dt6, from 20190205 to 20190313 in mar.\n",
      "Calculating dt7, from 20190313 to 20190516 in mar.\n",
      "done\n",
      "working on mar\n"
     ]
    },
    {
     "data": {
      "application/vnd.jupyter.widget-view+json": {
       "model_id": "a5fdf890ad2748bf952b9f2a5973009e",
       "version_major": 2,
       "version_minor": 0
      },
      "text/plain": [
       "  0%|          | 0/9 [00:00<?, ?it/s]"
      ]
     },
     "metadata": {},
     "output_type": "display_data"
    },
    {
     "name": "stdout",
     "output_type": "stream",
     "text": [
      "Calculating dt0, from 20180601 to 20180621 in mar.\n",
      "Calculating dt1, from 20180621 to 20180727 in mar.\n",
      "Calculating dt2, from 20180727 to 20180925 in mar.\n",
      "Calculating dt3, from 20180925 to 20181113 in mar.\n",
      "Calculating dt4, from 20181113 to 20181211 in mar.\n",
      "Calculating dt5, from 20181211 to 20190205 in mar.\n",
      "Calculating dt6, from 20190205 to 20190313 in mar.\n",
      "Calculating dt7, from 20190313 to 20190516 in mar.\n",
      "working on leo\n"
     ]
    },
    {
     "data": {
      "application/vnd.jupyter.widget-view+json": {
       "model_id": "093b20824cc24233966cbee06f8ece22",
       "version_major": 2,
       "version_minor": 0
      },
      "text/plain": [
       "  0%|          | 0/6 [00:00<?, ?it/s]"
      ]
     },
     "metadata": {},
     "output_type": "display_data"
    },
    {
     "name": "stdout",
     "output_type": "stream",
     "text": [
      "Calculating dt0, from 20180606 to 20180713 in leo.\n",
      "Calculating dt1, from 20180713 to 20180920 in leo.\n",
      "Calculating dt2, from 20180920 to 20190211 in leo.\n",
      "Calculating dt3, from 20190211 to 20190328 in leo.\n",
      "Calculating dt4, from 20190328 to 20190731 in leo.\n",
      "done\n"
     ]
    },
    {
     "data": {
      "application/vnd.jupyter.widget-view+json": {
       "model_id": "3c65d52ff6e14ef69e077c42bdd1ff7a",
       "version_major": 2,
       "version_minor": 0
      },
      "text/plain": [
       "  0%|          | 0/2 [00:00<?, ?it/s]"
      ]
     },
     "metadata": {},
     "output_type": "display_data"
    },
    {
     "name": "stdout",
     "output_type": "stream",
     "text": [
      "Working on mar\n"
     ]
    },
    {
     "data": {
      "application/vnd.jupyter.widget-view+json": {
       "model_id": "8a8440d3d2324958902a8f1ed6fcb27d",
       "version_major": 2,
       "version_minor": 0
      },
      "text/plain": [
       "  0%|          | 0/8 [00:00<?, ?it/s]"
      ]
     },
     "metadata": {},
     "output_type": "display_data"
    },
    {
     "name": "stdout",
     "output_type": "stream",
     "text": [
      "Working on leo\n"
     ]
    },
    {
     "data": {
      "application/vnd.jupyter.widget-view+json": {
       "model_id": "f3f3577cd2464b2d8d5b1f4542bbdfcf",
       "version_major": 2,
       "version_minor": 0
      },
      "text/plain": [
       "  0%|          | 0/5 [00:00<?, ?it/s]"
      ]
     },
     "metadata": {},
     "output_type": "display_data"
    },
    {
     "name": "stdout",
     "output_type": "stream",
     "text": [
      "              JenksCaspall              \n",
      " \n",
      "Lower          Upper               Count\n",
      "========================================\n",
      "        x[i] <= 0.108               1799\n",
      "0.108 < x[i] <= 0.247               1515\n",
      "0.247 < x[i] <= 0.453               1082\n",
      "0.453 < x[i] <= 1.096                601\n",
      "1.096 < x[i] <= 3.012                115\n",
      "\n",
      "Fit of JenksCaspall with 5 bins: 254.46116716298275\n"
     ]
    }
   ],
   "source": [
    "labels=[\"Undefined\", \"Small\", \"Medium\", \"High\", \"Extreme\"]\n",
    "appendix=[\"_deposition\", \"_erosion\"]\n",
    "\n",
    "\n",
    "D = ProfileDynamics(P, bins=5, method=\"JenksCaspall\", labels=labels)\n",
    "\n",
    "D.compute_multitemporal(loc_full={'mar': 'Marengo',\n",
    "         'leo': 'St. Leonards'}, filter_class='sand')\n",
    "\n",
    "D.LISA_site_level(mode=\"distance\", distance_value=35)\n",
    "\n",
    "D.discretise(absolute=True, print_summary=True)\n",
    "\n",
    "D.infer_weights()\n",
    "\n",
    "D.BCD_compute_location(\"geometry\",\"all\",True)"
   ]
  },
  {
   "cell_type": "code",
   "execution_count": 13,
   "metadata": {},
   "outputs": [
    {
     "data": {
      "image/png": "[encoded data removed]",
      "text/plain": [
       "<Figure size 432x288 with 8 Axes>"
      ]
     },
     "metadata": {
      "needs_background": "light"
     },
     "output_type": "display_data"
    },
    {
     "data": {
      "image/png": "[encoded data removed]",
      "text/plain": [
       "<Figure size 432x288 with 8 Axes>"
      ]
     },
     "metadata": {
      "needs_background": "light"
     },
     "output_type": "display_data"
    }
   ],
   "source": [
    "relabel_dict={\"Undefined_erosion\":\"ue\",\n",
    "\"Small_erosion\":\"se\",\n",
    "\"Medium_erosion\":\"me\",\n",
    "\"High_erosion\":\"he\",\n",
    "\"Extreme_erosion\":\"ee\",\n",
    " \"Undefined_deposition\":\"ud\",\n",
    " \"Small_deposition\":\"sd\",\n",
    " \"Medium_deposition\":\"md\",\n",
    " \"High_deposition\":\"hd\",\n",
    " \"Extreme_deposition\":\"ed\"\n",
    "}\n",
    "\n",
    "D.plot_trans_matrices(relabel_dict)"
   ]
  },
  {
   "cell_type": "code",
   "execution_count": 14,
   "metadata": {},
   "outputs": [],
   "source": [
    "D.BCD_compute_location(unique_field='geometry',mode='all', store_neg=True)"
   ]
  },
  {
   "cell_type": "code",
   "execution_count": 15,
   "metadata": {},
   "outputs": [],
   "source": [
    "D.compute_volumetrics(lod=D.lod_df)"
   ]
  },
  {
   "cell_type": "code",
   "execution_count": 16,
   "metadata": {},
   "outputs": [],
   "source": [
    "loc_subset=[\"mar\"] # the function is optimised for single-location plots, but you can also pass a list of location codes\n",
    "colors_dict={\"mar\":'r',        # if you use multiple locations, then dictionary key is the location code and value the color\n",
    "            \"leo\":'b'}"
   ]
  },
  {
   "cell_type": "code",
   "execution_count": 17,
   "metadata": {},
   "outputs": [
    {
     "data": {
      "image/png": "[encoded data removed]",
      "text/plain": [
       "<Figure size 720x360 with 1 Axes>"
      ]
     },
     "metadata": {
      "needs_background": "light"
     },
     "output_type": "display_data"
    },
    {
     "data": {
      "image/png": "[encoded data removed]",
      "text/plain": [
       "<Figure size 720x360 with 1 Axes>"
      ]
     },
     "metadata": {
      "needs_background": "light"
     },
     "output_type": "display_data"
    }
   ],
   "source": [
    "D.plot_transects(location='mar', tr_id=10, dt=['dt_0','dt_2'], classified=False)"
   ]
  },
  {
   "cell_type": "code",
   "execution_count": 18,
   "metadata": {},
   "outputs": [
    {
     "data": {
      "image/png": "[encoded data removed]",
      "text/plain": [
       "<Figure size 720x360 with 1 Axes>"
      ]
     },
     "metadata": {
      "needs_background": "light"
     },
     "output_type": "display_data"
    },
    {
     "data": {
      "image/png": "[encoded data removed]",
      "text/plain": [
       "<Figure size 720x360 with 1 Axes>"
      ]
     },
     "metadata": {
      "needs_background": "light"
     },
     "output_type": "display_data"
    }
   ],
   "source": [
    "D.plot_transects(location='mar', tr_id=10, dt=['dt_0','dt_2'], classified=True)"
   ]
  },
  {
   "cell_type": "code",
   "execution_count": 19,
   "metadata": {},
   "outputs": [
    {
     "data": {
      "image/png": "[encoded data removed]",
      "text/plain": [
       "<Figure size 720x360 with 2 Axes>"
      ]
     },
     "metadata": {
      "needs_background": "light"
     },
     "output_type": "display_data"
    }
   ],
   "source": [
    "D.plot_transect_mecs(location='leo',tr_id=28)"
   ]
  },
  {
   "cell_type": "code",
   "execution_count": 20,
   "metadata": {},
   "outputs": [
    {
     "name": "stderr",
     "output_type": "stream",
     "text": [
      "*c* argument looks like a single numeric RGB or RGBA sequence, which should be avoided as value-mapping will have precedence in case its length matches with *x* & *y*.  Please use the *color* keyword-argument or provide a 2-D array with a single row if you intend to specify the same RGB or RGBA value for all points.\n"
     ]
    },
    {
     "data": {
      "image/png": "[encoded data removed]",
      "text/plain": [
       "<Figure size 612x288 with 1 Axes>"
      ]
     },
     "metadata": {
      "needs_background": "light"
     },
     "output_type": "display_data"
    }
   ],
   "source": [
    "D.plot_single_loc([\"mar\"],None)"
   ]
  },
  {
   "cell_type": "code",
   "execution_count": null,
   "metadata": {},
   "outputs": [],
   "source": [
    "mode=\"subset\" # if 'subset', only the provided location_subset and dt_subset will be plotted. If 'all', plot all.\n",
    "location_subset=['mar'] # provide a list of location codes. Only these locations will be plotted\n",
    "y_heat_bottom_limit=9 # bottom limit of the heatmaps (altimetric change)\n",
    "ax2_y_lims=[-1.5,1.5] # axis limit of the alongshore volumetric plot\n",
    "dt_subset=[\"dt_0\",\"dt_3\"]\n",
    "\n",
    "D.plot_alongshore_change(mode=mode, lod=0.05,dt_subset=dt_subset,\n",
    "                        location_subset=location_subset,\n",
    "                        y_heat_bottom_limit=y_heat_bottom_limit,\n",
    "                        ax2_y_lims=ax2_y_lims)"
   ]
  },
  {
   "cell_type": "code",
   "execution_count": null,
   "metadata": {},
   "outputs": [],
   "source": [
    "D.plot_mec_evolution(location_field=\"location\",\n",
    "                     loc_order=[\"leo\",\"mar\"])"
   ]
  },
  {
   "cell_type": "code",
   "execution_count": null,
   "metadata": {},
   "outputs": [],
   "source": [
    "D.BCD_compute_transects(thresh=7, min_points=20,reliable_action='keep', dirNameTrans=D.ProfileSet.dirNameTrans)"
   ]
  },
  {
   "cell_type": "code",
   "execution_count": null,
   "metadata": {},
   "outputs": [],
   "source": [
    "D.transects_rbcd.query(\"location=='leo'\").plot(column=\"residual\", cmap='RdBu_r')"
   ]
  },
  {
   "cell_type": "markdown",
   "metadata": {},
   "source": [
    "### Save"
   ]
  },
  {
   "cell_type": "code",
   "execution_count": null,
   "metadata": {},
   "outputs": [],
   "source": [
    "dir_out=r'C:\\my_packages\\sandpyper\\tests\\test_data'\n",
    "name=\"test\"\n",
    "D.save(name,dir_out)\n",
    "D"
   ]
  },
  {
   "cell_type": "markdown",
   "metadata": {},
   "source": [
    "### Load"
   ]
  },
  {
   "cell_type": "code",
   "execution_count": null,
   "metadata": {},
   "outputs": [],
   "source": [
    "D=pickle.load(open(r\"C:\\my_packages\\sandpyper\\tests\\test_data\\test.p\", \"rb\"))\n",
    "\n",
    "loc_subset=[\"mar\"] # the function is optimised for single-location plots, but you can also pass a list of location codes\n",
    "colors_dict={\"mar\":'r',        # if you use multiple locations, then dictionary key is the location code and value the color\n",
    "            \"leo\":'b'}"
   ]
  },
  {
   "cell_type": "markdown",
   "metadata": {},
   "source": [
    "___"
   ]
  }
 ],
 "metadata": {
  "kernelspec": {
   "display_name": "Python 3",
   "language": "python",
   "name": "python3"
  },
  "language_info": {
   "codemirror_mode": {
    "name": "ipython",
    "version": 3
   },
   "file_extension": ".py",
   "mimetype": "text/x-python",
   "name": "python",
   "nbconvert_exporter": "python",
   "pygments_lexer": "ipython3",
   "version": "3.9.4"
  }
 },
 "nbformat": 4,
 "nbformat_minor": 2
}
