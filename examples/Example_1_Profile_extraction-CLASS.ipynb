{
 "cells": [
  {
   "cell_type": "markdown",
   "metadata": {},
   "source": [
    "<font size=\"5\"><center> <b>Sandpyper: sandy beaches SfM-UAV analysis tools</b></center></font>\n",
    "<font size=\"4\"><center> <b> Example 1 - Profiles extraction </b></center> <br>\n",
    "\n",
    "    \n",
    "<center><img src=\"images/banner.png\" width=\"80%\"  /></center>\n",
    "\n",
    "<font face=\"Calibri\">\n",
    "<br>\n",
    "<font size=\"5\"> <b>Profiles creation and data extraction from DSM and orthophotos</b></font>\n",
    "\n",
    "<br>\n",
    "<font size=\"4\"> <b> Nicolas Pucino; PhD Student @ Deakin University, Australia </b> <br>\n",
    "\n",
    "<font size=\"3\">The first steps in a typical workflow is to create cross-shore transects in all the locations and extract elevation and RGB information along those transects. Sandpiper allows the data extraction from hundreds of rasters at once, in an organised way. <br>\n",
    "\n",
    "<b>This notebook covers the following concepts:</b>\n",
    "\n",
    "- Naming conventions and global parameters.\n",
    "- Setting up the folders.\n",
    "- Setting up the folders.\n",
    "</font>\n",
    "\n",
    "\n",
    "</font>"
   ]
  },
  {
   "cell_type": "markdown",
   "metadata": {},
   "source": [
    "Import all it is required."
   ]
  },
  {
   "cell_type": "code",
   "execution_count": 1,
   "metadata": {
    "scrolled": true
   },
   "outputs": [
    {
     "name": "stderr",
     "output_type": "stream",
     "text": [
      "C:\\conda3\\envs\\sandpyper_env\\lib\\site-packages\\pysal\\explore\\segregation\\network\\network.py:15: UserWarning: You need pandana and urbanaccess to work with segregation's network module\n",
      "You can install them with  `pip install urbanaccess pandana` or `conda install -c udst pandana urbanaccess`\n",
      "  warn(\n",
      "C:\\conda3\\envs\\sandpyper_env\\lib\\site-packages\\pysal\\model\\spvcm\\abstracts.py:10: UserWarning: The `dill` module is required to use the sqlite backend fully.\n",
      "  from .sqlite import head_to_sql, start_sql\n",
      "C:\\conda3\\envs\\sandpyper_env\\lib\\site-packages\\fuzzywuzzy\\fuzz.py:11: UserWarning: Using slow pure-python SequenceMatcher. Install python-Levenshtein to remove this warning\n",
      "  warnings.warn('Using slow pure-python SequenceMatcher. Install python-Levenshtein to remove this warning')\n"
     ]
    }
   ],
   "source": [
    "import matplotlib.pyplot as plt\n",
    "import numpy as np\n",
    "import pandas as pd\n",
    "import geopandas as gpd\n",
    "import os\n",
    "import pickle\n",
    "from tqdm.notebook import tqdm\n",
    "\n",
    "from sandpyper.profile import ProfileSet\n",
    "from sandpyper.hotspot import ProfileDynamics\n",
    "\n",
    "pd.options.mode.chained_assignment = None  # default='warn'"
   ]
  },
  {
   "cell_type": "code",
   "execution_count": 2,
   "metadata": {},
   "outputs": [],
   "source": [
    "dirNameDSM=r'C:\\my_packages\\sandpyper\\tests\\test_data\\dsm_1m'\n",
    "dirNameOrtho=r'C:\\my_packages\\sandpyper\\tests\\test_data\\orthos_1m'\n",
    "dirNameTrans=r'C:\\my_packages\\sandpyper\\tests\\test_data\\transects'\n",
    "transects_spacing=20\n",
    "\n",
    "loc_codes=[\"mar\",\"leo\"]\n",
    "loc_search_dict = {   'leo': ['St','Leonards','leonards','leo'],\n",
    "                      'mar': ['Marengo','marengo','mar'] }\n",
    "crs_dict_string= {\n",
    "                 'mar': {'init': 'epsg:32754'},\n",
    "                 'leo':{'init': 'epsg:32755'}\n",
    "                 }\n",
    "lod_mode=r\"C:\\my_packages\\sandpyper\\tests\\test_data\\lod_transects\"\n",
    "\n",
    "D=pickle.load(open(r\"C:\\my_packages\\sandpyper\\tests\\test_data\\test.p\", \"rb\"))\n",
    "\n",
    "loc_subset=[\"mar\"] # the function is optimised for single-location plots, but you can also pass a list of location codes\n",
    "colors_dict={\"mar\":'r',        # if you use multiple locations, then dictionary key is the location code and value the color\n",
    "            \"leo\":'b'}"
   ]
  },
  {
   "cell_type": "code",
   "execution_count": 3,
   "metadata": {},
   "outputs": [
    {
     "name": "stdout",
     "output_type": "stream",
     "text": [
      "Filter activated: only ['sand'] points will be retained.\n",
      "working on leo\n"
     ]
    },
    {
     "data": {
      "application/vnd.jupyter.widget-view+json": {
       "model_id": "e3ceb55ce437481c971157689fe43110",
       "version_major": 2,
       "version_minor": 0
      },
      "text/plain": [
       "  0%|          | 0/6 [00:00<?, ?it/s]"
      ]
     },
     "metadata": {},
     "output_type": "display_data"
    },
    {
     "name": "stdout",
     "output_type": "stream",
     "text": [
      "Calculating dt0, from 20180606 to 20180713 in leo.\n",
      "Calculating dt1, from 20180713 to 20180920 in leo.\n",
      "Calculating dt2, from 20180920 to 20190211 in leo.\n",
      "Calculating dt3, from 20190211 to 20190328 in leo.\n",
      "Calculating dt4, from 20190328 to 20190731 in leo.\n",
      "working on mar\n"
     ]
    },
    {
     "data": {
      "application/vnd.jupyter.widget-view+json": {
       "model_id": "7fa95fba050f474c88ed126e04001a46",
       "version_major": 2,
       "version_minor": 0
      },
      "text/plain": [
       "  0%|          | 0/9 [00:00<?, ?it/s]"
      ]
     },
     "metadata": {},
     "output_type": "display_data"
    },
    {
     "name": "stdout",
     "output_type": "stream",
     "text": [
      "Calculating dt0, from 20180601 to 20180621 in mar.\n",
      "Calculating dt1, from 20180621 to 20180727 in mar.\n",
      "Calculating dt2, from 20180727 to 20180925 in mar.\n",
      "Calculating dt3, from 20180925 to 20181113 in mar.\n",
      "Calculating dt4, from 20181113 to 20181211 in mar.\n",
      "Calculating dt5, from 20181211 to 20190205 in mar.\n",
      "Calculating dt6, from 20190205 to 20190313 in mar.\n",
      "Calculating dt7, from 20190313 to 20190516 in mar.\n",
      "done\n",
      "working on mar\n"
     ]
    },
    {
     "data": {
      "application/vnd.jupyter.widget-view+json": {
       "model_id": "71102152c51d4723aa244015a6d8b180",
       "version_major": 2,
       "version_minor": 0
      },
      "text/plain": [
       "  0%|          | 0/9 [00:00<?, ?it/s]"
      ]
     },
     "metadata": {},
     "output_type": "display_data"
    },
    {
     "name": "stdout",
     "output_type": "stream",
     "text": [
      "Calculating dt0, from 20180601 to 20180621 in mar.\n",
      "Calculating dt1, from 20180621 to 20180727 in mar.\n",
      "Calculating dt2, from 20180727 to 20180925 in mar.\n",
      "Calculating dt3, from 20180925 to 20181113 in mar.\n",
      "Calculating dt4, from 20181113 to 20181211 in mar.\n",
      "Calculating dt5, from 20181211 to 20190205 in mar.\n",
      "Calculating dt6, from 20190205 to 20190313 in mar.\n",
      "Calculating dt7, from 20190313 to 20190516 in mar.\n",
      "working on leo\n"
     ]
    },
    {
     "data": {
      "application/vnd.jupyter.widget-view+json": {
       "model_id": "31de1f9768d644a7b964839c9003c0b8",
       "version_major": 2,
       "version_minor": 0
      },
      "text/plain": [
       "  0%|          | 0/6 [00:00<?, ?it/s]"
      ]
     },
     "metadata": {},
     "output_type": "display_data"
    },
    {
     "name": "stdout",
     "output_type": "stream",
     "text": [
      "Calculating dt0, from 20180606 to 20180713 in leo.\n",
      "Calculating dt1, from 20180713 to 20180920 in leo.\n",
      "Calculating dt2, from 20180920 to 20190211 in leo.\n",
      "Calculating dt3, from 20190211 to 20190328 in leo.\n",
      "Calculating dt4, from 20190328 to 20190731 in leo.\n",
      "done\n"
     ]
    }
   ],
   "source": [
    "D.compute_multitemporal(loc_full={'mar': 'Marengo',\n",
    "         'leo': 'St. Leonards'}, filter_class='sand')"
   ]
  },
  {
   "cell_type": "code",
   "execution_count": 4,
   "metadata": {},
   "outputs": [
    {
     "data": {
      "image/png": "[encoded data removed]",
      "text/plain": [
       "<Figure size 720x360 with 1 Axes>"
      ]
     },
     "metadata": {
      "needs_background": "light"
     },
     "output_type": "display_data"
    }
   ],
   "source": [
    "D.plot_transects(location='mar',tr_id=10, dt='dt_5', classified=True)"
   ]
  },
  {
   "cell_type": "code",
   "execution_count": 5,
   "metadata": {},
   "outputs": [
    {
     "name": "stdout",
     "output_type": "stream",
     "text": [
      "Working on leo at dt_0\n"
     ]
    },
    {
     "data": {
      "image/png": "[encoded data removed]",
      "text/plain": [
       "<Figure size 432x288 with 2 Axes>"
      ]
     },
     "metadata": {
      "needs_background": "light"
     },
     "output_type": "display_data"
    },
    {
     "name": "stdout",
     "output_type": "stream",
     "text": [
      "Working on leo at dt_1\n"
     ]
    },
    {
     "data": {
      "image/png": "[encoded data removed]",
      "text/plain": [
       "<Figure size 432x288 with 2 Axes>"
      ]
     },
     "metadata": {
      "needs_background": "light"
     },
     "output_type": "display_data"
    },
    {
     "name": "stdout",
     "output_type": "stream",
     "text": [
      "Working on leo at dt_2\n"
     ]
    },
    {
     "data": {
      "image/png": "[encoded data removed]",
      "text/plain": [
       "<Figure size 432x288 with 2 Axes>"
      ]
     },
     "metadata": {
      "needs_background": "light"
     },
     "output_type": "display_data"
    }
   ],
   "source": [
    "mode=\"subset\" # if 'subset', only the provided location_subset and dt_subset will be plotted. If 'all', plot all.\n",
    "location_subset=['leo'] # provide a list of location codes. Only these locations will be plotted\n",
    "y_heat_bottom_limit=25 # bottom limit of the heatmaps (altimetric change)\n",
    "heat_yticklabels_freq=5\n",
    "heat_xticklabels_freq=2\n",
    "ax2_y_lims=[-15,15] # axis limit of the alongshore volumetric plot\n",
    "dt_subset=[\"dt_0\", \"dt_1\",\"dt_2\"]\n",
    "\n",
    "D.plot_alongshore_change(mode=mode, lod=D.lod_df,dt_subset=dt_subset,\n",
    "                        location_subset=location_subset,\n",
    "                        y_heat_bottom_limit=y_heat_bottom_limit,\n",
    "                        heat_yticklabels_freq=heat_yticklabels_freq,\n",
    "                         heat_xticklabels_freq=heat_xticklabels_freq,\n",
    "                        ax2_y_lims=ax2_y_lims)"
   ]
  },
  {
   "cell_type": "code",
   "execution_count": 6,
   "metadata": {},
   "outputs": [
    {
     "name": "stdout",
     "output_type": "stream",
     "text": [
      "Statistics are computed based on the following classes only: sand\n"
     ]
    },
    {
     "data": {
      "image/png": "[encoded data removed]",
      "text/plain": [
       "<Figure size 720x360 with 2 Axes>"
      ]
     },
     "metadata": {
      "needs_background": "light"
     },
     "output_type": "display_data"
    }
   ],
   "source": [
    "D.plot_transect_mecs('leo',tr_id=39)"
   ]
  },
  {
   "cell_type": "code",
   "execution_count": 7,
   "metadata": {},
   "outputs": [
    {
     "name": "stdout",
     "output_type": "stream",
     "text": [
      "Using LoDs.\n",
      "Statistics are computed based on the following classes only: sand\n"
     ]
    },
    {
     "data": {
      "image/png": "[encoded data removed]",
      "text/plain": [
       "<Figure size 720x360 with 2 Axes>"
      ]
     },
     "metadata": {
      "needs_background": "light"
     },
     "output_type": "display_data"
    }
   ],
   "source": [
    "D.plot_transect_mecs('leo',tr_id=39, lod=D.lod_df)"
   ]
  },
  {
   "cell_type": "code",
   "execution_count": 16,
   "metadata": {},
   "outputs": [
    {
     "data": {
      "text/html": [
       "<div>\n",
       "<style scoped>\n",
       "    .dataframe tbody tr th:only-of-type {\n",
       "        vertical-align: middle;\n",
       "    }\n",
       "\n",
       "    .dataframe tbody tr th {\n",
       "        vertical-align: top;\n",
       "    }\n",
       "\n",
       "    .dataframe thead th {\n",
       "        text-align: right;\n",
       "    }\n",
       "</style>\n",
       "<table border=\"1\" class=\"dataframe\">\n",
       "  <thead>\n",
       "    <tr style=\"text-align: right;\">\n",
       "      <th></th>\n",
       "      <th>location</th>\n",
       "      <th>location_full</th>\n",
       "      <th>dt</th>\n",
       "      <th>date_from</th>\n",
       "      <th>date_to</th>\n",
       "      <th>n_days</th>\n",
       "      <th>abs_in</th>\n",
       "      <th>abs_out</th>\n",
       "      <th>abs_net_change</th>\n",
       "      <th>mec_m</th>\n",
       "      <th>norm_in</th>\n",
       "      <th>norm_out</th>\n",
       "      <th>norm_net_change</th>\n",
       "      <th>tot_vol_depo</th>\n",
       "      <th>tot_vol_ero</th>\n",
       "      <th>net_vol_change</th>\n",
       "      <th>location_m3_m</th>\n",
       "      <th>n_obs_valid</th>\n",
       "    </tr>\n",
       "  </thead>\n",
       "  <tbody>\n",
       "    <tr>\n",
       "      <th>0</th>\n",
       "      <td>leo</td>\n",
       "      <td>St. Leonards</td>\n",
       "      <td>dt_0</td>\n",
       "      <td>20180606</td>\n",
       "      <td>20180713</td>\n",
       "      <td>37</td>\n",
       "      <td>9.489928</td>\n",
       "      <td>-20.506530</td>\n",
       "      <td>-11.016602</td>\n",
       "      <td>-0.018994</td>\n",
       "      <td>0.041082</td>\n",
       "      <td>-0.088773</td>\n",
       "      <td>-0.047691</td>\n",
       "      <td>134.334184</td>\n",
       "      <td>-362.662966</td>\n",
       "      <td>-228.328782</td>\n",
       "      <td>-0.393670</td>\n",
       "      <td>231</td>\n",
       "    </tr>\n",
       "    <tr>\n",
       "      <th>1</th>\n",
       "      <td>leo</td>\n",
       "      <td>St. Leonards</td>\n",
       "      <td>dt_1</td>\n",
       "      <td>20180713</td>\n",
       "      <td>20180920</td>\n",
       "      <td>69</td>\n",
       "      <td>18.725955</td>\n",
       "      <td>-9.525609</td>\n",
       "      <td>9.200346</td>\n",
       "      <td>0.016429</td>\n",
       "      <td>0.085507</td>\n",
       "      <td>-0.043496</td>\n",
       "      <td>0.042011</td>\n",
       "      <td>322.445395</td>\n",
       "      <td>-103.237953</td>\n",
       "      <td>219.207442</td>\n",
       "      <td>0.391442</td>\n",
       "      <td>219</td>\n",
       "    </tr>\n",
       "    <tr>\n",
       "      <th>2</th>\n",
       "      <td>leo</td>\n",
       "      <td>St. Leonards</td>\n",
       "      <td>dt_2</td>\n",
       "      <td>20180920</td>\n",
       "      <td>20190211</td>\n",
       "      <td>144</td>\n",
       "      <td>15.840791</td>\n",
       "      <td>-7.481373</td>\n",
       "      <td>8.359419</td>\n",
       "      <td>0.014928</td>\n",
       "      <td>0.076158</td>\n",
       "      <td>-0.035968</td>\n",
       "      <td>0.040190</td>\n",
       "      <td>285.138428</td>\n",
       "      <td>-138.500707</td>\n",
       "      <td>146.637721</td>\n",
       "      <td>0.261853</td>\n",
       "      <td>208</td>\n",
       "    </tr>\n",
       "    <tr>\n",
       "      <th>3</th>\n",
       "      <td>leo</td>\n",
       "      <td>St. Leonards</td>\n",
       "      <td>dt_3</td>\n",
       "      <td>20190211</td>\n",
       "      <td>20190328</td>\n",
       "      <td>45</td>\n",
       "      <td>10.163696</td>\n",
       "      <td>-11.862978</td>\n",
       "      <td>-1.699282</td>\n",
       "      <td>-0.002930</td>\n",
       "      <td>0.040015</td>\n",
       "      <td>-0.046705</td>\n",
       "      <td>-0.006690</td>\n",
       "      <td>181.204725</td>\n",
       "      <td>-171.608277</td>\n",
       "      <td>9.596448</td>\n",
       "      <td>0.016546</td>\n",
       "      <td>254</td>\n",
       "    </tr>\n",
       "    <tr>\n",
       "      <th>4</th>\n",
       "      <td>leo</td>\n",
       "      <td>St. Leonards</td>\n",
       "      <td>dt_4</td>\n",
       "      <td>20190328</td>\n",
       "      <td>20190731</td>\n",
       "      <td>125</td>\n",
       "      <td>6.105440</td>\n",
       "      <td>-29.049858</td>\n",
       "      <td>-22.944418</td>\n",
       "      <td>-0.040972</td>\n",
       "      <td>0.026896</td>\n",
       "      <td>-0.127973</td>\n",
       "      <td>-0.101077</td>\n",
       "      <td>89.599553</td>\n",
       "      <td>-511.175997</td>\n",
       "      <td>-421.576444</td>\n",
       "      <td>-0.752815</td>\n",
       "      <td>227</td>\n",
       "    </tr>\n",
       "    <tr>\n",
       "      <th>5</th>\n",
       "      <td>mar</td>\n",
       "      <td>Marengo</td>\n",
       "      <td>dt_0</td>\n",
       "      <td>20180601</td>\n",
       "      <td>20180621</td>\n",
       "      <td>20</td>\n",
       "      <td>47.933825</td>\n",
       "      <td>-30.648133</td>\n",
       "      <td>17.285693</td>\n",
       "      <td>0.041156</td>\n",
       "      <td>0.127824</td>\n",
       "      <td>-0.081728</td>\n",
       "      <td>0.046095</td>\n",
       "      <td>1030.634869</td>\n",
       "      <td>-606.379918</td>\n",
       "      <td>424.254951</td>\n",
       "      <td>1.010131</td>\n",
       "      <td>375</td>\n",
       "    </tr>\n",
       "    <tr>\n",
       "      <th>6</th>\n",
       "      <td>mar</td>\n",
       "      <td>Marengo</td>\n",
       "      <td>dt_1</td>\n",
       "      <td>20180621</td>\n",
       "      <td>20180727</td>\n",
       "      <td>36</td>\n",
       "      <td>25.375054</td>\n",
       "      <td>-46.167231</td>\n",
       "      <td>-20.792177</td>\n",
       "      <td>-0.049505</td>\n",
       "      <td>0.066776</td>\n",
       "      <td>-0.121493</td>\n",
       "      <td>-0.054716</td>\n",
       "      <td>536.013932</td>\n",
       "      <td>-1095.568154</td>\n",
       "      <td>-559.554222</td>\n",
       "      <td>-1.332272</td>\n",
       "      <td>380</td>\n",
       "    </tr>\n",
       "    <tr>\n",
       "      <th>7</th>\n",
       "      <td>mar</td>\n",
       "      <td>Marengo</td>\n",
       "      <td>dt_2</td>\n",
       "      <td>20180727</td>\n",
       "      <td>20180925</td>\n",
       "      <td>60</td>\n",
       "      <td>144.146997</td>\n",
       "      <td>-38.435384</td>\n",
       "      <td>105.711614</td>\n",
       "      <td>0.251694</td>\n",
       "      <td>0.367722</td>\n",
       "      <td>-0.098049</td>\n",
       "      <td>0.269672</td>\n",
       "      <td>2860.189079</td>\n",
       "      <td>-760.660241</td>\n",
       "      <td>2099.528838</td>\n",
       "      <td>4.998878</td>\n",
       "      <td>392</td>\n",
       "    </tr>\n",
       "    <tr>\n",
       "      <th>8</th>\n",
       "      <td>mar</td>\n",
       "      <td>Marengo</td>\n",
       "      <td>dt_3</td>\n",
       "      <td>20180925</td>\n",
       "      <td>20181113</td>\n",
       "      <td>49</td>\n",
       "      <td>25.104553</td>\n",
       "      <td>-35.649872</td>\n",
       "      <td>-10.545319</td>\n",
       "      <td>-0.023967</td>\n",
       "      <td>0.105040</td>\n",
       "      <td>-0.149163</td>\n",
       "      <td>-0.044123</td>\n",
       "      <td>492.032262</td>\n",
       "      <td>-717.083270</td>\n",
       "      <td>-225.051008</td>\n",
       "      <td>-0.511480</td>\n",
       "      <td>239</td>\n",
       "    </tr>\n",
       "    <tr>\n",
       "      <th>9</th>\n",
       "      <td>mar</td>\n",
       "      <td>Marengo</td>\n",
       "      <td>dt_4</td>\n",
       "      <td>20181113</td>\n",
       "      <td>20181211</td>\n",
       "      <td>28</td>\n",
       "      <td>48.356887</td>\n",
       "      <td>-4.653221</td>\n",
       "      <td>43.703666</td>\n",
       "      <td>0.099327</td>\n",
       "      <td>0.209337</td>\n",
       "      <td>-0.020144</td>\n",
       "      <td>0.189193</td>\n",
       "      <td>893.964017</td>\n",
       "      <td>-141.652205</td>\n",
       "      <td>752.311812</td>\n",
       "      <td>1.709800</td>\n",
       "      <td>231</td>\n",
       "    </tr>\n",
       "    <tr>\n",
       "      <th>10</th>\n",
       "      <td>mar</td>\n",
       "      <td>Marengo</td>\n",
       "      <td>dt_5</td>\n",
       "      <td>20181211</td>\n",
       "      <td>20190205</td>\n",
       "      <td>56</td>\n",
       "      <td>141.006324</td>\n",
       "      <td>-14.144656</td>\n",
       "      <td>126.861668</td>\n",
       "      <td>0.288322</td>\n",
       "      <td>0.248688</td>\n",
       "      <td>-0.024946</td>\n",
       "      <td>0.223742</td>\n",
       "      <td>2797.224761</td>\n",
       "      <td>-243.881220</td>\n",
       "      <td>2553.343541</td>\n",
       "      <td>5.803054</td>\n",
       "      <td>567</td>\n",
       "    </tr>\n",
       "    <tr>\n",
       "      <th>11</th>\n",
       "      <td>mar</td>\n",
       "      <td>Marengo</td>\n",
       "      <td>dt_6</td>\n",
       "      <td>20190205</td>\n",
       "      <td>20190313</td>\n",
       "      <td>36</td>\n",
       "      <td>119.051780</td>\n",
       "      <td>-21.376202</td>\n",
       "      <td>97.675578</td>\n",
       "      <td>0.257041</td>\n",
       "      <td>0.189573</td>\n",
       "      <td>-0.034039</td>\n",
       "      <td>0.155534</td>\n",
       "      <td>2450.495858</td>\n",
       "      <td>-546.159490</td>\n",
       "      <td>1904.336369</td>\n",
       "      <td>5.011411</td>\n",
       "      <td>628</td>\n",
       "    </tr>\n",
       "    <tr>\n",
       "      <th>12</th>\n",
       "      <td>mar</td>\n",
       "      <td>Marengo</td>\n",
       "      <td>dt_7</td>\n",
       "      <td>20190313</td>\n",
       "      <td>20190516</td>\n",
       "      <td>64</td>\n",
       "      <td>14.061030</td>\n",
       "      <td>-108.687533</td>\n",
       "      <td>-94.626502</td>\n",
       "      <td>-0.249017</td>\n",
       "      <td>0.025109</td>\n",
       "      <td>-0.194085</td>\n",
       "      <td>-0.168976</td>\n",
       "      <td>350.419139</td>\n",
       "      <td>-2745.887094</td>\n",
       "      <td>-2395.467956</td>\n",
       "      <td>-6.303863</td>\n",
       "      <td>560</td>\n",
       "    </tr>\n",
       "  </tbody>\n",
       "</table>\n",
       "</div>"
      ],
      "text/plain": [
       "   location location_full    dt date_from   date_to  n_days      abs_in  \\\n",
       "0       leo  St. Leonards  dt_0  20180606  20180713      37    9.489928   \n",
       "1       leo  St. Leonards  dt_1  20180713  20180920      69   18.725955   \n",
       "2       leo  St. Leonards  dt_2  20180920  20190211     144   15.840791   \n",
       "3       leo  St. Leonards  dt_3  20190211  20190328      45   10.163696   \n",
       "4       leo  St. Leonards  dt_4  20190328  20190731     125    6.105440   \n",
       "5       mar       Marengo  dt_0  20180601  20180621      20   47.933825   \n",
       "6       mar       Marengo  dt_1  20180621  20180727      36   25.375054   \n",
       "7       mar       Marengo  dt_2  20180727  20180925      60  144.146997   \n",
       "8       mar       Marengo  dt_3  20180925  20181113      49   25.104553   \n",
       "9       mar       Marengo  dt_4  20181113  20181211      28   48.356887   \n",
       "10      mar       Marengo  dt_5  20181211  20190205      56  141.006324   \n",
       "11      mar       Marengo  dt_6  20190205  20190313      36  119.051780   \n",
       "12      mar       Marengo  dt_7  20190313  20190516      64   14.061030   \n",
       "\n",
       "       abs_out  abs_net_change     mec_m   norm_in  norm_out  norm_net_change  \\\n",
       "0   -20.506530      -11.016602 -0.018994  0.041082 -0.088773        -0.047691   \n",
       "1    -9.525609        9.200346  0.016429  0.085507 -0.043496         0.042011   \n",
       "2    -7.481373        8.359419  0.014928  0.076158 -0.035968         0.040190   \n",
       "3   -11.862978       -1.699282 -0.002930  0.040015 -0.046705        -0.006690   \n",
       "4   -29.049858      -22.944418 -0.040972  0.026896 -0.127973        -0.101077   \n",
       "5   -30.648133       17.285693  0.041156  0.127824 -0.081728         0.046095   \n",
       "6   -46.167231      -20.792177 -0.049505  0.066776 -0.121493        -0.054716   \n",
       "7   -38.435384      105.711614  0.251694  0.367722 -0.098049         0.269672   \n",
       "8   -35.649872      -10.545319 -0.023967  0.105040 -0.149163        -0.044123   \n",
       "9    -4.653221       43.703666  0.099327  0.209337 -0.020144         0.189193   \n",
       "10  -14.144656      126.861668  0.288322  0.248688 -0.024946         0.223742   \n",
       "11  -21.376202       97.675578  0.257041  0.189573 -0.034039         0.155534   \n",
       "12 -108.687533      -94.626502 -0.249017  0.025109 -0.194085        -0.168976   \n",
       "\n",
       "    tot_vol_depo  tot_vol_ero  net_vol_change  location_m3_m  n_obs_valid  \n",
       "0     134.334184  -362.662966     -228.328782      -0.393670          231  \n",
       "1     322.445395  -103.237953      219.207442       0.391442          219  \n",
       "2     285.138428  -138.500707      146.637721       0.261853          208  \n",
       "3     181.204725  -171.608277        9.596448       0.016546          254  \n",
       "4      89.599553  -511.175997     -421.576444      -0.752815          227  \n",
       "5    1030.634869  -606.379918      424.254951       1.010131          375  \n",
       "6     536.013932 -1095.568154     -559.554222      -1.332272          380  \n",
       "7    2860.189079  -760.660241     2099.528838       4.998878          392  \n",
       "8     492.032262  -717.083270     -225.051008      -0.511480          239  \n",
       "9     893.964017  -141.652205      752.311812       1.709800          231  \n",
       "10   2797.224761  -243.881220     2553.343541       5.803054          567  \n",
       "11   2450.495858  -546.159490     1904.336369       5.011411          628  \n",
       "12    350.419139 -2745.887094    -2395.467956      -6.303863          560  "
      ]
     },
     "execution_count": 16,
     "metadata": {},
     "output_type": "execute_result"
    }
   ],
   "source": [
    "D.compute_volumetrics(lod=D.lod_df)\n",
    "D.location_volumetrics"
   ]
  },
  {
   "cell_type": "code",
   "execution_count": 17,
   "metadata": {},
   "outputs": [
    {
     "data": {
      "text/html": [
       "<div>\n",
       "<style scoped>\n",
       "    .dataframe tbody tr th:only-of-type {\n",
       "        vertical-align: middle;\n",
       "    }\n",
       "\n",
       "    .dataframe tbody tr th {\n",
       "        vertical-align: top;\n",
       "    }\n",
       "\n",
       "    .dataframe thead th {\n",
       "        text-align: right;\n",
       "    }\n",
       "</style>\n",
       "<table border=\"1\" class=\"dataframe\">\n",
       "  <thead>\n",
       "    <tr style=\"text-align: right;\">\n",
       "      <th></th>\n",
       "      <th>location</th>\n",
       "      <th>location_full</th>\n",
       "      <th>dt</th>\n",
       "      <th>date_from</th>\n",
       "      <th>date_to</th>\n",
       "      <th>n_days</th>\n",
       "      <th>abs_in</th>\n",
       "      <th>abs_out</th>\n",
       "      <th>abs_net_change</th>\n",
       "      <th>mec_m</th>\n",
       "      <th>norm_in</th>\n",
       "      <th>norm_out</th>\n",
       "      <th>norm_net_change</th>\n",
       "      <th>tot_vol_depo</th>\n",
       "      <th>tot_vol_ero</th>\n",
       "      <th>net_vol_change</th>\n",
       "      <th>location_m3_m</th>\n",
       "      <th>n_obs_valid</th>\n",
       "    </tr>\n",
       "  </thead>\n",
       "  <tbody>\n",
       "    <tr>\n",
       "      <th>0</th>\n",
       "      <td>leo</td>\n",
       "      <td>St. Leonards</td>\n",
       "      <td>dt_0</td>\n",
       "      <td>20180606</td>\n",
       "      <td>20180713</td>\n",
       "      <td>37</td>\n",
       "      <td>10.323267</td>\n",
       "      <td>-23.795113</td>\n",
       "      <td>-13.471845</td>\n",
       "      <td>-0.023227</td>\n",
       "      <td>0.044689</td>\n",
       "      <td>-0.103009</td>\n",
       "      <td>-0.058320</td>\n",
       "      <td>149.572205</td>\n",
       "      <td>-398.448784</td>\n",
       "      <td>-248.876579</td>\n",
       "      <td>-0.429098</td>\n",
       "      <td>231</td>\n",
       "    </tr>\n",
       "    <tr>\n",
       "      <th>1</th>\n",
       "      <td>leo</td>\n",
       "      <td>St. Leonards</td>\n",
       "      <td>dt_1</td>\n",
       "      <td>20180713</td>\n",
       "      <td>20180920</td>\n",
       "      <td>69</td>\n",
       "      <td>20.625028</td>\n",
       "      <td>-11.409182</td>\n",
       "      <td>9.215845</td>\n",
       "      <td>0.016457</td>\n",
       "      <td>0.094178</td>\n",
       "      <td>-0.052097</td>\n",
       "      <td>0.042081</td>\n",
       "      <td>382.344291</td>\n",
       "      <td>-163.748037</td>\n",
       "      <td>218.596254</td>\n",
       "      <td>0.390350</td>\n",
       "      <td>219</td>\n",
       "    </tr>\n",
       "    <tr>\n",
       "      <th>2</th>\n",
       "      <td>leo</td>\n",
       "      <td>St. Leonards</td>\n",
       "      <td>dt_2</td>\n",
       "      <td>20180920</td>\n",
       "      <td>20190211</td>\n",
       "      <td>144</td>\n",
       "      <td>16.458533</td>\n",
       "      <td>-8.027606</td>\n",
       "      <td>8.430927</td>\n",
       "      <td>0.015055</td>\n",
       "      <td>0.079128</td>\n",
       "      <td>-0.038594</td>\n",
       "      <td>0.040533</td>\n",
       "      <td>291.875816</td>\n",
       "      <td>-157.124944</td>\n",
       "      <td>134.750872</td>\n",
       "      <td>0.240627</td>\n",
       "      <td>208</td>\n",
       "    </tr>\n",
       "    <tr>\n",
       "      <th>3</th>\n",
       "      <td>leo</td>\n",
       "      <td>St. Leonards</td>\n",
       "      <td>dt_3</td>\n",
       "      <td>20190211</td>\n",
       "      <td>20190328</td>\n",
       "      <td>45</td>\n",
       "      <td>11.911923</td>\n",
       "      <td>-14.268533</td>\n",
       "      <td>-2.356610</td>\n",
       "      <td>-0.004063</td>\n",
       "      <td>0.046897</td>\n",
       "      <td>-0.056175</td>\n",
       "      <td>-0.009278</td>\n",
       "      <td>246.130330</td>\n",
       "      <td>-284.623295</td>\n",
       "      <td>-38.492966</td>\n",
       "      <td>-0.066367</td>\n",
       "      <td>254</td>\n",
       "    </tr>\n",
       "    <tr>\n",
       "      <th>4</th>\n",
       "      <td>leo</td>\n",
       "      <td>St. Leonards</td>\n",
       "      <td>dt_4</td>\n",
       "      <td>20190328</td>\n",
       "      <td>20190731</td>\n",
       "      <td>125</td>\n",
       "      <td>8.350759</td>\n",
       "      <td>-30.195398</td>\n",
       "      <td>-21.844640</td>\n",
       "      <td>-0.039008</td>\n",
       "      <td>0.036787</td>\n",
       "      <td>-0.133019</td>\n",
       "      <td>-0.096232</td>\n",
       "      <td>141.301677</td>\n",
       "      <td>-534.854452</td>\n",
       "      <td>-393.552776</td>\n",
       "      <td>-0.702773</td>\n",
       "      <td>227</td>\n",
       "    </tr>\n",
       "    <tr>\n",
       "      <th>5</th>\n",
       "      <td>mar</td>\n",
       "      <td>Marengo</td>\n",
       "      <td>dt_0</td>\n",
       "      <td>20180601</td>\n",
       "      <td>20180621</td>\n",
       "      <td>20</td>\n",
       "      <td>47.080817</td>\n",
       "      <td>-30.190215</td>\n",
       "      <td>16.890602</td>\n",
       "      <td>0.040216</td>\n",
       "      <td>0.125549</td>\n",
       "      <td>-0.080507</td>\n",
       "      <td>0.045042</td>\n",
       "      <td>1023.074357</td>\n",
       "      <td>-551.946541</td>\n",
       "      <td>471.127816</td>\n",
       "      <td>1.121733</td>\n",
       "      <td>375</td>\n",
       "    </tr>\n",
       "    <tr>\n",
       "      <th>6</th>\n",
       "      <td>mar</td>\n",
       "      <td>Marengo</td>\n",
       "      <td>dt_1</td>\n",
       "      <td>20180621</td>\n",
       "      <td>20180727</td>\n",
       "      <td>36</td>\n",
       "      <td>25.375054</td>\n",
       "      <td>-46.167231</td>\n",
       "      <td>-20.792177</td>\n",
       "      <td>-0.049505</td>\n",
       "      <td>0.066776</td>\n",
       "      <td>-0.121493</td>\n",
       "      <td>-0.054716</td>\n",
       "      <td>536.013932</td>\n",
       "      <td>-1095.568154</td>\n",
       "      <td>-559.554222</td>\n",
       "      <td>-1.332272</td>\n",
       "      <td>380</td>\n",
       "    </tr>\n",
       "    <tr>\n",
       "      <th>7</th>\n",
       "      <td>mar</td>\n",
       "      <td>Marengo</td>\n",
       "      <td>dt_2</td>\n",
       "      <td>20180727</td>\n",
       "      <td>20180925</td>\n",
       "      <td>60</td>\n",
       "      <td>143.913355</td>\n",
       "      <td>-37.840407</td>\n",
       "      <td>106.072948</td>\n",
       "      <td>0.252555</td>\n",
       "      <td>0.367126</td>\n",
       "      <td>-0.096532</td>\n",
       "      <td>0.270594</td>\n",
       "      <td>2842.428631</td>\n",
       "      <td>-751.125486</td>\n",
       "      <td>2091.303145</td>\n",
       "      <td>4.979293</td>\n",
       "      <td>392</td>\n",
       "    </tr>\n",
       "    <tr>\n",
       "      <th>8</th>\n",
       "      <td>mar</td>\n",
       "      <td>Marengo</td>\n",
       "      <td>dt_3</td>\n",
       "      <td>20180925</td>\n",
       "      <td>20181113</td>\n",
       "      <td>49</td>\n",
       "      <td>25.550511</td>\n",
       "      <td>-37.228701</td>\n",
       "      <td>-11.678190</td>\n",
       "      <td>-0.026541</td>\n",
       "      <td>0.106906</td>\n",
       "      <td>-0.155769</td>\n",
       "      <td>-0.048863</td>\n",
       "      <td>504.537241</td>\n",
       "      <td>-739.151502</td>\n",
       "      <td>-234.614261</td>\n",
       "      <td>-0.533214</td>\n",
       "      <td>239</td>\n",
       "    </tr>\n",
       "    <tr>\n",
       "      <th>9</th>\n",
       "      <td>mar</td>\n",
       "      <td>Marengo</td>\n",
       "      <td>dt_4</td>\n",
       "      <td>20181113</td>\n",
       "      <td>20181211</td>\n",
       "      <td>28</td>\n",
       "      <td>49.116777</td>\n",
       "      <td>-5.773403</td>\n",
       "      <td>43.343374</td>\n",
       "      <td>0.098508</td>\n",
       "      <td>0.212627</td>\n",
       "      <td>-0.024993</td>\n",
       "      <td>0.187634</td>\n",
       "      <td>913.987438</td>\n",
       "      <td>-176.205276</td>\n",
       "      <td>737.782163</td>\n",
       "      <td>1.676778</td>\n",
       "      <td>231</td>\n",
       "    </tr>\n",
       "    <tr>\n",
       "      <th>10</th>\n",
       "      <td>mar</td>\n",
       "      <td>Marengo</td>\n",
       "      <td>dt_5</td>\n",
       "      <td>20181211</td>\n",
       "      <td>20190205</td>\n",
       "      <td>56</td>\n",
       "      <td>142.324137</td>\n",
       "      <td>-15.129613</td>\n",
       "      <td>127.194524</td>\n",
       "      <td>0.289078</td>\n",
       "      <td>0.251013</td>\n",
       "      <td>-0.026684</td>\n",
       "      <td>0.224329</td>\n",
       "      <td>2795.414479</td>\n",
       "      <td>-289.384731</td>\n",
       "      <td>2506.029748</td>\n",
       "      <td>5.695522</td>\n",
       "      <td>567</td>\n",
       "    </tr>\n",
       "    <tr>\n",
       "      <th>11</th>\n",
       "      <td>mar</td>\n",
       "      <td>Marengo</td>\n",
       "      <td>dt_6</td>\n",
       "      <td>20190205</td>\n",
       "      <td>20190313</td>\n",
       "      <td>36</td>\n",
       "      <td>118.323259</td>\n",
       "      <td>-21.289132</td>\n",
       "      <td>97.034127</td>\n",
       "      <td>0.255353</td>\n",
       "      <td>0.188413</td>\n",
       "      <td>-0.033900</td>\n",
       "      <td>0.154513</td>\n",
       "      <td>2474.424050</td>\n",
       "      <td>-550.772435</td>\n",
       "      <td>1923.651615</td>\n",
       "      <td>5.062241</td>\n",
       "      <td>628</td>\n",
       "    </tr>\n",
       "    <tr>\n",
       "      <th>12</th>\n",
       "      <td>mar</td>\n",
       "      <td>Marengo</td>\n",
       "      <td>dt_7</td>\n",
       "      <td>20190313</td>\n",
       "      <td>20190516</td>\n",
       "      <td>64</td>\n",
       "      <td>16.302222</td>\n",
       "      <td>-111.436783</td>\n",
       "      <td>-95.134561</td>\n",
       "      <td>-0.250354</td>\n",
       "      <td>0.029111</td>\n",
       "      <td>-0.198994</td>\n",
       "      <td>-0.169883</td>\n",
       "      <td>392.414234</td>\n",
       "      <td>-2587.582504</td>\n",
       "      <td>-2195.168270</td>\n",
       "      <td>-5.776759</td>\n",
       "      <td>560</td>\n",
       "    </tr>\n",
       "  </tbody>\n",
       "</table>\n",
       "</div>"
      ],
      "text/plain": [
       "   location location_full    dt date_from   date_to  n_days      abs_in  \\\n",
       "0       leo  St. Leonards  dt_0  20180606  20180713      37   10.323267   \n",
       "1       leo  St. Leonards  dt_1  20180713  20180920      69   20.625028   \n",
       "2       leo  St. Leonards  dt_2  20180920  20190211     144   16.458533   \n",
       "3       leo  St. Leonards  dt_3  20190211  20190328      45   11.911923   \n",
       "4       leo  St. Leonards  dt_4  20190328  20190731     125    8.350759   \n",
       "5       mar       Marengo  dt_0  20180601  20180621      20   47.080817   \n",
       "6       mar       Marengo  dt_1  20180621  20180727      36   25.375054   \n",
       "7       mar       Marengo  dt_2  20180727  20180925      60  143.913355   \n",
       "8       mar       Marengo  dt_3  20180925  20181113      49   25.550511   \n",
       "9       mar       Marengo  dt_4  20181113  20181211      28   49.116777   \n",
       "10      mar       Marengo  dt_5  20181211  20190205      56  142.324137   \n",
       "11      mar       Marengo  dt_6  20190205  20190313      36  118.323259   \n",
       "12      mar       Marengo  dt_7  20190313  20190516      64   16.302222   \n",
       "\n",
       "       abs_out  abs_net_change     mec_m   norm_in  norm_out  norm_net_change  \\\n",
       "0   -23.795113      -13.471845 -0.023227  0.044689 -0.103009        -0.058320   \n",
       "1   -11.409182        9.215845  0.016457  0.094178 -0.052097         0.042081   \n",
       "2    -8.027606        8.430927  0.015055  0.079128 -0.038594         0.040533   \n",
       "3   -14.268533       -2.356610 -0.004063  0.046897 -0.056175        -0.009278   \n",
       "4   -30.195398      -21.844640 -0.039008  0.036787 -0.133019        -0.096232   \n",
       "5   -30.190215       16.890602  0.040216  0.125549 -0.080507         0.045042   \n",
       "6   -46.167231      -20.792177 -0.049505  0.066776 -0.121493        -0.054716   \n",
       "7   -37.840407      106.072948  0.252555  0.367126 -0.096532         0.270594   \n",
       "8   -37.228701      -11.678190 -0.026541  0.106906 -0.155769        -0.048863   \n",
       "9    -5.773403       43.343374  0.098508  0.212627 -0.024993         0.187634   \n",
       "10  -15.129613      127.194524  0.289078  0.251013 -0.026684         0.224329   \n",
       "11  -21.289132       97.034127  0.255353  0.188413 -0.033900         0.154513   \n",
       "12 -111.436783      -95.134561 -0.250354  0.029111 -0.198994        -0.169883   \n",
       "\n",
       "    tot_vol_depo  tot_vol_ero  net_vol_change  location_m3_m  n_obs_valid  \n",
       "0     149.572205  -398.448784     -248.876579      -0.429098          231  \n",
       "1     382.344291  -163.748037      218.596254       0.390350          219  \n",
       "2     291.875816  -157.124944      134.750872       0.240627          208  \n",
       "3     246.130330  -284.623295      -38.492966      -0.066367          254  \n",
       "4     141.301677  -534.854452     -393.552776      -0.702773          227  \n",
       "5    1023.074357  -551.946541      471.127816       1.121733          375  \n",
       "6     536.013932 -1095.568154     -559.554222      -1.332272          380  \n",
       "7    2842.428631  -751.125486     2091.303145       4.979293          392  \n",
       "8     504.537241  -739.151502     -234.614261      -0.533214          239  \n",
       "9     913.987438  -176.205276      737.782163       1.676778          231  \n",
       "10   2795.414479  -289.384731     2506.029748       5.695522          567  \n",
       "11   2474.424050  -550.772435     1923.651615       5.062241          628  \n",
       "12    392.414234 -2587.582504    -2195.168270      -5.776759          560  "
      ]
     },
     "execution_count": 17,
     "metadata": {},
     "output_type": "execute_result"
    }
   ],
   "source": [
    "D.compute_volumetrics(lod=None)\n",
    "D.location_volumetrics"
   ]
  },
  {
   "cell_type": "code",
   "execution_count": 14,
   "metadata": {},
   "outputs": [
    {
     "name": "stdout",
     "output_type": "stream",
     "text": [
      "Color dictionary provided.\n"
     ]
    },
    {
     "data": {
      "image/png": "[encoded data removed]",
      "text/plain": [
       "<Figure size 612x288 with 1 Axes>"
      ]
     },
     "metadata": {
      "needs_background": "light"
     },
     "output_type": "display_data"
    }
   ],
   "source": [
    "D.plot_single_loc(['mar'], colors_dict=colors_dict)"
   ]
  },
  {
   "cell_type": "code",
   "execution_count": 9,
   "metadata": {},
   "outputs": [
    {
     "name": "stdout",
     "output_type": "stream",
     "text": [
      "Color dictionary provided.\n"
     ]
    },
    {
     "data": {
      "image/png": "[encoded data removed]",
      "text/plain": [
       "<Figure size 612x288 with 1 Axes>"
      ]
     },
     "metadata": {
      "needs_background": "light"
     },
     "output_type": "display_data"
    }
   ],
   "source": [
    "D.plot_single_loc(['mar'], colors_dict=colors_dict)"
   ]
  },
  {
   "cell_type": "code",
   "execution_count": 15,
   "metadata": {},
   "outputs": [
    {
     "ename": "NameError",
     "evalue": "name 'location' is not defined",
     "output_type": "error",
     "traceback": [
      "\u001b[1;31m---------------------------------------------------------------------------\u001b[0m",
      "\u001b[1;31mNameError\u001b[0m                                 Traceback (most recent call last)",
      "\u001b[1;32m<ipython-input-15-05afea4a1b4a>\u001b[0m in \u001b[0;36m<module>\u001b[1;34m\u001b[0m\n\u001b[1;32m----> 1\u001b[1;33m \u001b[0mdata\u001b[0m\u001b[1;33m=\u001b[0m\u001b[0mD\u001b[0m\u001b[1;33m.\u001b[0m\u001b[0mdh_df\u001b[0m\u001b[1;33m.\u001b[0m\u001b[0mquery\u001b[0m\u001b[1;33m(\u001b[0m\u001b[1;34mf\"location=='{location}' and tr_id=={tr_id}\"\u001b[0m\u001b[1;33m)\u001b[0m\u001b[1;33m.\u001b[0m\u001b[0mcopy\u001b[0m\u001b[1;33m(\u001b[0m\u001b[1;33m)\u001b[0m\u001b[1;33m\u001b[0m\u001b[1;33m\u001b[0m\u001b[0m\n\u001b[0m\u001b[0;32m      2\u001b[0m \u001b[1;33m\u001b[0m\u001b[0m\n\u001b[0;32m      3\u001b[0m \u001b[0mlods\u001b[0m\u001b[1;33m=\u001b[0m\u001b[0mD\u001b[0m\u001b[1;33m.\u001b[0m\u001b[0mlod_df\u001b[0m\u001b[1;33m.\u001b[0m\u001b[0mquery\u001b[0m\u001b[1;33m(\u001b[0m\u001b[1;34mf\"location=='{location}'\"\u001b[0m\u001b[1;33m)\u001b[0m\u001b[1;33m[\u001b[0m\u001b[1;33m[\u001b[0m\u001b[1;34m\"dt\"\u001b[0m\u001b[1;33m,\u001b[0m\u001b[1;34m\"lod\"\u001b[0m\u001b[1;33m]\u001b[0m\u001b[1;33m]\u001b[0m\u001b[1;33m\u001b[0m\u001b[1;33m\u001b[0m\u001b[0m\n\u001b[0;32m      4\u001b[0m \u001b[0mdata\u001b[0m\u001b[1;33m=\u001b[0m\u001b[0mpd\u001b[0m\u001b[1;33m.\u001b[0m\u001b[0mmerge\u001b[0m\u001b[1;33m(\u001b[0m\u001b[0mdata\u001b[0m\u001b[1;33m,\u001b[0m\u001b[0mlods\u001b[0m\u001b[1;33m,\u001b[0m \u001b[0mhow\u001b[0m\u001b[1;33m=\u001b[0m\u001b[1;34m'left'\u001b[0m\u001b[1;33m,\u001b[0m \u001b[0mon\u001b[0m\u001b[1;33m=\u001b[0m\u001b[1;34m'dt'\u001b[0m\u001b[1;33m)\u001b[0m\u001b[1;33m\u001b[0m\u001b[1;33m\u001b[0m\u001b[0m\n\u001b[0;32m      5\u001b[0m \u001b[0mdata\u001b[0m\u001b[1;33m[\u001b[0m\u001b[1;34m\"dh_abs\"\u001b[0m\u001b[1;33m]\u001b[0m\u001b[1;33m=\u001b[0m\u001b[1;33m[\u001b[0m\u001b[0mabs\u001b[0m\u001b[1;33m(\u001b[0m\u001b[0mdh_i\u001b[0m\u001b[1;33m)\u001b[0m \u001b[1;32mfor\u001b[0m \u001b[0mdh_i\u001b[0m \u001b[1;32min\u001b[0m \u001b[0mdata\u001b[0m\u001b[1;33m.\u001b[0m\u001b[0mdh\u001b[0m\u001b[1;33m]\u001b[0m\u001b[1;33m\u001b[0m\u001b[1;33m\u001b[0m\u001b[0m\n",
      "\u001b[1;31mNameError\u001b[0m: name 'location' is not defined"
     ]
    }
   ],
   "source": [
    "data=D.dh_df.query(f\"location=='{location}' and tr_id=={tr_id}\").copy()\n",
    "\n",
    "lods=D.lod_df.query(f\"location=='{location}'\")[[\"dt\",\"lod\"]]\n",
    "data=pd.merge(data,lods, how='left', on='dt')\n",
    "data[\"dh_abs\"]=[abs(dh_i) for dh_i in data.dh]\n",
    "data[\"dh\"]=np.where(data.dh_abs<data.lod, 0,data.dh)\n",
    "data.drop('dh_abs', axis=1, inplace=True)\n",
    "data.iloc[101]"
   ]
  },
  {
   "cell_type": "code",
   "execution_count": 23,
   "metadata": {},
   "outputs": [
    {
     "data": {
      "text/html": [
       "<div>\n",
       "<style scoped>\n",
       "    .dataframe tbody tr th:only-of-type {\n",
       "        vertical-align: middle;\n",
       "    }\n",
       "\n",
       "    .dataframe tbody tr th {\n",
       "        vertical-align: top;\n",
       "    }\n",
       "\n",
       "    .dataframe thead th {\n",
       "        text-align: right;\n",
       "    }\n",
       "</style>\n",
       "<table border=\"1\" class=\"dataframe\">\n",
       "  <thead>\n",
       "    <tr style=\"text-align: right;\">\n",
       "      <th></th>\n",
       "      <th>dt</th>\n",
       "      <th>mec</th>\n",
       "      <th>dt_i</th>\n",
       "      <th>net</th>\n",
       "    </tr>\n",
       "  </thead>\n",
       "  <tbody>\n",
       "    <tr>\n",
       "      <th>0</th>\n",
       "      <td>dt_0</td>\n",
       "      <td>-0.041592</td>\n",
       "      <td>0</td>\n",
       "      <td>negative</td>\n",
       "    </tr>\n",
       "    <tr>\n",
       "      <th>1</th>\n",
       "      <td>dt_1</td>\n",
       "      <td>0.155148</td>\n",
       "      <td>1</td>\n",
       "      <td>positive</td>\n",
       "    </tr>\n",
       "    <tr>\n",
       "      <th>2</th>\n",
       "      <td>dt_2</td>\n",
       "      <td>-0.298516</td>\n",
       "      <td>2</td>\n",
       "      <td>negative</td>\n",
       "    </tr>\n",
       "    <tr>\n",
       "      <th>3</th>\n",
       "      <td>dt_3</td>\n",
       "      <td>0.399428</td>\n",
       "      <td>3</td>\n",
       "      <td>positive</td>\n",
       "    </tr>\n",
       "    <tr>\n",
       "      <th>4</th>\n",
       "      <td>dt_4</td>\n",
       "      <td>-0.041660</td>\n",
       "      <td>4</td>\n",
       "      <td>negative</td>\n",
       "    </tr>\n",
       "    <tr>\n",
       "      <th>5</th>\n",
       "      <td>dt_5</td>\n",
       "      <td>0.173740</td>\n",
       "      <td>5</td>\n",
       "      <td>positive</td>\n",
       "    </tr>\n",
       "    <tr>\n",
       "      <th>6</th>\n",
       "      <td>dt_6</td>\n",
       "      <td>0.289967</td>\n",
       "      <td>6</td>\n",
       "      <td>positive</td>\n",
       "    </tr>\n",
       "    <tr>\n",
       "      <th>7</th>\n",
       "      <td>dt_7</td>\n",
       "      <td>-0.188238</td>\n",
       "      <td>7</td>\n",
       "      <td>negative</td>\n",
       "    </tr>\n",
       "  </tbody>\n",
       "</table>\n",
       "</div>"
      ],
      "text/plain": [
       "     dt       mec  dt_i       net\n",
       "0  dt_0 -0.041592     0  negative\n",
       "1  dt_1  0.155148     1  positive\n",
       "2  dt_2 -0.298516     2  negative\n",
       "3  dt_3  0.399428     3  positive\n",
       "4  dt_4 -0.041660     4  negative\n",
       "5  dt_5  0.173740     5  positive\n",
       "6  dt_6  0.289967     6  positive\n",
       "7  dt_7 -0.188238     7  negative"
      ]
     },
     "execution_count": 23,
     "metadata": {},
     "output_type": "execute_result"
    }
   ],
   "source": [
    "mecs['net']=['positive' if mec_i >=0 else 'negative' for mec_i in mecs.mec]\n",
    "mecs"
   ]
  },
  {
   "cell_type": "code",
   "execution_count": 33,
   "metadata": {},
   "outputs": [
    {
     "name": "stdout",
     "output_type": "stream",
     "text": [
      "Statistics are computed based on the following classes only: sand\n"
     ]
    },
    {
     "data": {
      "image/png": "[encoded data removed]",
      "text/plain": [
       "<Figure size 720x360 with 2 Axes>"
      ]
     },
     "metadata": {
      "needs_background": "light"
     },
     "output_type": "display_data"
    }
   ],
   "source": [
    "import seaborn as sb\n",
    "\n",
    "location='mar'\n",
    "tr_id=13\n",
    "lod=None\n",
    "\n",
    "details=D.dh_details.query(f\"location=='{location}'\")\n",
    "full_loc=details.iloc[0][\"loc_full\"]\n",
    "\n",
    "f,axs=plt.subplots(nrows=1,\n",
    "                  ncols=2,\n",
    "                  figsize=(10,5))\n",
    "\n",
    "\n",
    "\n",
    "data=D.dh_df.query(f\"location=='{location}' and tr_id=={tr_id}\")\n",
    "\n",
    "\n",
    "filter_used=D.dh_df.class_filter.unique()[0]\n",
    "if filter_used != \"no_filters_applied\":\n",
    "    print(f\"Statistics are computed based on the following classes only: {filter_used}\")\n",
    "\n",
    "mecs=data.groupby(['dt']).dh.sum()/data.groupby(['dt']).geometry.count()\n",
    "mecs=mecs.reset_index()\n",
    "mecs.columns=['dt','mec']\n",
    "mecs['dt_i']=[int(mecs.iloc[i,0].split(\"_\")[-1]) for i in range(mecs.dt.shape[0])]\n",
    "mecs['net_change']=['positive' if mec_i >=0 else 'negative' for mec_i in mecs.mec]\n",
    "\n",
    "\n",
    "barplot=sb.barplot(data=mecs.sort_values(['dt_i']),x='mec',y='dt', ax=axs[0],\n",
    "                   hue='net_change', palette={'positive':'b','negative': 'r'})\n",
    "\n",
    "barplot.set_ylabel(\"Time period (dt)\")\n",
    "barplot.set_xlabel(\"Mean Elevation Change (m)\")\n",
    "barplot.set_title('Barplot')\n",
    "\n",
    "trend=sb.regplot(data=mecs, x='dt_i',y='mec',ax=axs[1])\n",
    "sb.lineplot(data=mecs, x='dt',y='mec',ax=axs[1])\n",
    "trend.set_title('Trend')\n",
    "\n",
    "f.suptitle(f\"Location: {full_loc}\\nTransect: {tr_id}\");"
   ]
  },
  {
   "cell_type": "code",
   "execution_count": 23,
   "metadata": {},
   "outputs": [
    {
     "name": "stdout",
     "output_type": "stream",
     "text": [
      "Statistics are computed based on the following classes only: sand\n"
     ]
    },
    {
     "data": {
      "image/png": "[encoded data removed]",
      "text/plain": [
       "<Figure size 720x360 with 2 Axes>"
      ]
     },
     "metadata": {
      "needs_background": "light"
     },
     "output_type": "display_data"
    }
   ],
   "source": [
    "D.plot_transect_mecs('mar',tr_id=13)"
   ]
  },
  {
   "cell_type": "markdown",
   "metadata": {},
   "source": [
    "### Sensitivity Analysis r-bcd transects"
   ]
  },
  {
   "cell_type": "code",
   "execution_count": null,
   "metadata": {},
   "outputs": [],
   "source": [
    "from sandpyper.dynamics import get_rbcd_transect\n",
    "import seaborn as sb\n",
    "from tqdm.notebook import tqdm_notebook as tqdm"
   ]
  },
  {
   "cell_type": "code",
   "execution_count": null,
   "metadata": {},
   "outputs": [],
   "source": [
    "import itertools"
   ]
  },
  {
   "cell_type": "code",
   "execution_count": null,
   "metadata": {},
   "outputs": [],
   "source": [
    "range_thresh=range(0,data_in.dt.unique().shape[0]+1)\n",
    "range_min_pts=range(0,50,10)\n",
    "combs = list(itertools.product(range_min_pts,range_thresh))"
   ]
  },
  {
   "cell_type": "code",
   "execution_count": null,
   "metadata": {
    "scrolled": true
   },
   "outputs": [],
   "source": [
    "ss_tr_big=pd.DataFrame()\n",
    "\n",
    "for i in tqdm(combs):\n",
    "    print(f\"Working on threshold {i[1]} and min points {i[0]}.\")\n",
    "    \n",
    "    ss_transects_idx = get_rbcd_transect(df_labelled=data_in,\n",
    "              thresh=i[1], min_points=i[0], reliable_action='drop',\n",
    "              dirNameTrans=D.ProfileSet.dirNameTrans,\n",
    "              labels_order=D.tags_order,\n",
    "              loc_codes=D.ProfileSet.loc_codes,\n",
    "              crs_dict_string=D.ProfileSet.crs_dict_string)\n",
    "\n",
    "    ss_transects_idx['thresh']=i[1]\n",
    "    ss_transects_idx['min_pts']=i[0]\n",
    "\n",
    "    ss_tr_big=pd.concat([ss_tr_big,ss_transects_idx], ignore_index=True)\n",
    "    \n",
    "ss_tr_big"
   ]
  },
  {
   "cell_type": "code",
   "execution_count": null,
   "metadata": {},
   "outputs": [],
   "source": [
    "f,ax=plt.subplots(figsize=(10,10))\n",
    "\n",
    "palette=sb.color_palette( n_colors=ss_tr_big.tr_id.unique().shape[0])\n",
    "sb.lineplot(data=ss_tr_big, x='thresh',y='residual', hue='tr_id',\n",
    "            palette=palette, legend=False, **dict(alpha=0.1),\n",
    "            ax=ax\n",
    ")\n",
    "ax.set_ylabel(\"r_bcd\")\n",
    "ax.axhline(y=0, lw=2, c='r');"
   ]
  },
  {
   "cell_type": "code",
   "execution_count": null,
   "metadata": {},
   "outputs": [],
   "source": [
    "trs_res_ar=ss_tr_big_loc.groupby([\"tr_id\",\"min_pts\"])['residual'].apply(np.array).reset_index()\n",
    "tot_trs=ss_tr_big_loc.groupby([\"thresh\",\"min_pts\"])['geometry'].count().reset_index()\n",
    "tot_trs['trs_10']=tot_trs.geometry / 10\n",
    "zero_crossings=pd.DataFrame([pd.Series({'tr_id':trs_res_ar.loc[i,'tr_id'],\n",
    "                                        'sign_change_thresh':np.where(np.diff(np.sign(trs_res_ar.iloc[i,-1])))[0][-1]+1,\n",
    "                                       'min_pts':trs_res_ar.loc[i,'min_pts']}) for i in range(trs_res_ar.shape[0]) if np.where(np.diff(np.sign(trs_res_ar.iloc[i,-1])))[0].shape[0] !=0])\n",
    "tot_jumps=zero_crossings.groupby([\"sign_change_thresh\",\"min_pts\"]).count().reset_index() # how many jumps per thresh and minpts\n",
    "\n",
    "joined=pd.merge(tot_trs,tot_jumps, left_on=['thresh','min_pts'], right_on=['sign_change_thresh','min_pts'], how='left')\n",
    "joined.rename({'geometry':'tot_trs',\n",
    "              'tr_id':'tot_jumps'}, axis=1, inplace=True)\n",
    "joined"
   ]
  },
  {
   "cell_type": "code",
   "execution_count": null,
   "metadata": {
    "scrolled": true
   },
   "outputs": [],
   "source": [
    "plt.rcParams['font.sans-serif'] = 'Arial'\n",
    "# Then, \"ALWAYS use sans-serif fonts\"\n",
    "plt.rcParams['font.family'] = 'sans-serif'\n",
    "sb.set_context(\"paper\", font_scale=2.8)\n",
    "\n",
    "\n",
    "x_ticks=[0,2,4,6,8]\n",
    "\n",
    "q_up_val=0.95\n",
    "q_low_val=0.85\n",
    "\n",
    "list_minpts=ss_tr_big.min_pts.unique()\n",
    "\n",
    "for minpts in list_minpts:\n",
    "\n",
    "    f,ax=plt.subplots(figsize=(7,4))\n",
    "    ax2=ax.twinx()\n",
    "    \n",
    "    datain=joined.query(f\"min_pts=={minpts}\")  \n",
    "\n",
    "\n",
    "    sb.lineplot(x=\"thresh\", y=\"tot_jumps\",ci=None,\n",
    "                    data=datain,color='b',\n",
    "                   alpha=.4,linewidth=3,\n",
    "                ax=ax2, label=\"sign changes\")\n",
    "\n",
    "    sb.lineplot(data=datain,x='thresh',y='trs_10',\n",
    "                alpha=.4,color='r',linewidth=3,\n",
    "                ax=ax,label=\"transects * 10\")\n",
    "    \n",
    "    \n",
    "    kde_x, kde_y = ax.lines[0].get_data()\n",
    "    kde_x2, kde_y2 = ax2.lines[0].get_data()\n",
    "    ax.fill_between(kde_x, kde_y,interpolate=True, color='r',alpha=0.5)\n",
    "    ax2.fill_between(kde_x2, kde_y2,interpolate=True,color='b',alpha=0.5)\n",
    "    \n",
    "    ax.axhline((datain.tot_trs.fillna(0).max()*q_up_val)/10,c='k',ls='-',label='95%')\n",
    "    ax.axhline((datain.tot_trs.fillna(0).max()*q_low_val)/10,c='k',lw=2.5,ls='--',label='85%')\n",
    "    \n",
    "    ax.set_ylabel('n. transects x 10', c='r')\n",
    "    ax.set_xlabel('t')\n",
    "    ax2.set_ylabel('sign changes', c='b')\n",
    "    ax2.set_ylim(0,3)\n",
    "    ax.set_ylim(0,3)\n",
    "    ax.set_xlim(0,8)\n",
    "    \n",
    "\n",
    "    plt.tight_layout()\n",
    "    ax.get_legend().remove()\n",
    "    ax2.get_legend().remove()\n",
    "    \n",
    "    \n",
    "    plt.xticks(x_ticks)\n",
    "    savetxt=f\"E:\\\\path\\\\to\\\\save\\\\revision_0\\\\location_sensit_minpts_{minpts}.png\"\n",
    "    \n",
    "    ax.set_title(f\"pt: {minpts}\")\n",
    "    plt.tight_layout()\n",
    "    \n",
    "#   f.savefig(savetxt, dpi=600); #uncomment to save all images"
   ]
  },
  {
   "cell_type": "code",
   "execution_count": null,
   "metadata": {},
   "outputs": [],
   "source": []
  },
  {
   "cell_type": "code",
   "execution_count": null,
   "metadata": {},
   "outputs": [],
   "source": []
  },
  {
   "cell_type": "code",
   "execution_count": null,
   "metadata": {},
   "outputs": [],
   "source": []
  },
  {
   "cell_type": "code",
   "execution_count": null,
   "metadata": {},
   "outputs": [],
   "source": []
  },
  {
   "cell_type": "code",
   "execution_count": null,
   "metadata": {},
   "outputs": [],
   "source": []
  },
  {
   "cell_type": "markdown",
   "metadata": {},
   "source": [
    "### ProfileSet"
   ]
  },
  {
   "cell_type": "code",
   "execution_count": null,
   "metadata": {},
   "outputs": [],
   "source": [
    "P=ProfileSet(dirNameDSM=dirNameDSM,\n",
    "            dirNameOrtho=dirNameOrtho,\n",
    "            dirNameTrans=dirNameTrans,\n",
    "            transects_spacing=transects_spacing,\n",
    "            loc_codes=loc_codes,\n",
    "            loc_search_dict=loc_search_dict,\n",
    "            crs_dict_string=crs_dict_string,\n",
    "            check=\"all\")"
   ]
  },
  {
   "cell_type": "code",
   "execution_count": null,
   "metadata": {
    "scrolled": true
   },
   "outputs": [],
   "source": [
    "P.extract_profiles(mode='all',sampling_step=1,add_xy=True,lod_mode=lod_mode)"
   ]
  },
  {
   "cell_type": "markdown",
   "metadata": {},
   "source": [
    "#### Cleaning"
   ]
  },
  {
   "cell_type": "code",
   "execution_count": null,
   "metadata": {},
   "outputs": [],
   "source": [
    "from sandpyper.labels import get_sil_location, get_opt_k\n"
   ]
  },
  {
   "cell_type": "code",
   "execution_count": null,
   "metadata": {
    "scrolled": true
   },
   "outputs": [],
   "source": [
    "# Run interatively KMeans + SA\n",
    "\n",
    "feature_set=[\"band1\",\"band2\",\"band3\",\"distance\"]\n",
    "sil_df=get_sil_location(P.profiles,\n",
    "                        ks=(2,15), \n",
    "                        feature_set=feature_set,\n",
    "                       random_state=10)\n",
    "sil_df"
   ]
  },
  {
   "cell_type": "code",
   "execution_count": null,
   "metadata": {},
   "outputs": [],
   "source": [
    "opt_k=get_opt_k(sil_df, sigma=0 )\n",
    "opt_k"
   ]
  },
  {
   "cell_type": "code",
   "execution_count": null,
   "metadata": {},
   "outputs": [],
   "source": [
    "P.kmeans_sa(opt_k,feature_set)"
   ]
  },
  {
   "cell_type": "code",
   "execution_count": null,
   "metadata": {},
   "outputs": [],
   "source": [
    "water_dict={'leo_20180606':[0,9,10],\n",
    "'leo_20180713':[0,3,4,7],\n",
    "'leo_20180920':[0,2,6,7],\n",
    "'leo_20190211':[0,2,5],\n",
    "'leo_20190328':[2,4,5],\n",
    "'leo_20190731':[0,2,8,6],\n",
    "'mar_20180601':[1,6],\n",
    "'mar_20180621':[4,6],\n",
    "'mar_20180727':[0,5,9,10],\n",
    "'mar_20180925':[0],\n",
    "'mar_20181113':[1],\n",
    "'mar_20181211':[4],\n",
    "'mar_20190205':[],\n",
    "'mar_20190313':[],\n",
    "'mar_20190516':[4,7]}\n",
    "\n",
    "no_sand_dict={'leo_20180606':[5],\n",
    "'leo_20180713':[],\n",
    "'leo_20180920':[],\n",
    "'leo_20190211':[1],\n",
    "'leo_20190328':[],\n",
    "'leo_20190731':[1],\n",
    "'mar_20180601':[4,5],\n",
    "'mar_20180621':[3,5],\n",
    "'mar_20180727':[4,7],\n",
    "'mar_20180925':[1,6],\n",
    "'mar_20181113':[0],\n",
    "'mar_20181211':[0],\n",
    "'mar_20190205':[0,5],\n",
    "'mar_20190313':[4],\n",
    "'mar_20190516':[2,5]}\n",
    "\n",
    "veg_dict={'leo_20180606':[1,3,7,8],\n",
    "'leo_20180713':[1,5,9],\n",
    "'leo_20180920':[1,4,5],\n",
    "'leo_20190211':[4],\n",
    "'leo_20190328':[0,1,6],\n",
    "'leo_20190731':[3,7],\n",
    "'mar_20180601':[0,7],\n",
    "'mar_20180621':[1,7],\n",
    "'mar_20180727':[1,3],\n",
    "'mar_20180925':[4],\n",
    "'mar_20181113':[3],\n",
    "'mar_20181211':[2],\n",
    "'mar_20190205':[3],\n",
    "'mar_20190313':[1,5],\n",
    "'mar_20190516':[0]}\n",
    "\n",
    "sand_dict={'leo_20180606':[2,4,6],\n",
    "'leo_20180713':[2,6,8],\n",
    "'leo_20180920':[3],\n",
    "'leo_20190211':[3],\n",
    "'leo_20190328':[3],\n",
    "'leo_20190731':[4,5],\n",
    "'mar_20180601':[2,3],\n",
    "'mar_20180621':[0,2],\n",
    "'mar_20180727':[2,6,8],\n",
    "'mar_20180925':[2,3,5],\n",
    "'mar_20181113':[2,4],\n",
    "'mar_20181211':[3,1],\n",
    "'mar_20190205':[1,2,4],\n",
    "'mar_20190313':[0,2,3],\n",
    "'mar_20190516':[1,3,6]}\n",
    "\n",
    "\n",
    "l_dicts={'no_sand': no_sand_dict,\n",
    "         'sand': sand_dict,\n",
    "        'water': water_dict,\n",
    "        'veg':veg_dict}"
   ]
  },
  {
   "cell_type": "code",
   "execution_count": null,
   "metadata": {},
   "outputs": [],
   "source": [
    "label_corrections_path=r\"C:\\my_packages\\sandpyper\\tests\\test_data\\label_corrections.gpkg\"\n",
    "watermasks_path=r\"C:\\my_packages\\sandpyper\\tests\\test_data\\watermasks.gpkg\"\n",
    "shoremasks_path=r\"C:\\my_packages\\sandpyper\\tests\\test_data\\shoremasks.gpkg\""
   ]
  },
  {
   "cell_type": "code",
   "execution_count": null,
   "metadata": {},
   "outputs": [],
   "source": [
    "P.cleanit(l_dicts=l_dicts,\n",
    "          watermasks_path=watermasks_path,\n",
    "          shoremasks_path=shoremasks_path,\n",
    "          label_corrections_path=label_corrections_path)"
   ]
  },
  {
   "cell_type": "markdown",
   "metadata": {},
   "source": [
    "### ProfileDynamics"
   ]
  },
  {
   "cell_type": "code",
   "execution_count": null,
   "metadata": {},
   "outputs": [],
   "source": [
    "labels=[\"Undefined\", \"Small\", \"Medium\", \"High\", \"Extreme\"]\n",
    "appendix=[\"_deposition\", \"_erosion\"]\n",
    "\n",
    "\n",
    "D = ProfileDynamics(P, bins=5, method=\"JenksCaspall\", labels=labels)\n",
    "\n",
    "D.compute_multitemporal(loc_full={'mar': 'Marengo',\n",
    "         'leo': 'St. Leonards'}, filter_class='sand')\n",
    "\n",
    "D.LISA_site_level(mode=\"distance\", distance_value=35)\n",
    "\n",
    "D.discretise(absolute=True, print_summary=True)\n",
    "\n",
    "D.infer_weights()\n",
    "\n",
    "D.BCD_compute_location(\"geometry\",\"all\",True)"
   ]
  },
  {
   "cell_type": "code",
   "execution_count": null,
   "metadata": {},
   "outputs": [],
   "source": [
    "relabel_dict={\"Undefined_erosion\":\"ue\",\n",
    "\"Small_erosion\":\"se\",\n",
    "\"Medium_erosion\":\"me\",\n",
    "\"High_erosion\":\"he\",\n",
    "\"Extreme_erosion\":\"ee\",\n",
    " \"Undefined_deposition\":\"ud\",\n",
    " \"Small_deposition\":\"sd\",\n",
    " \"Medium_deposition\":\"md\",\n",
    " \"High_deposition\":\"hd\",\n",
    " \"Extreme_deposition\":\"ed\"\n",
    "}\n",
    "\n",
    "D.plot_trans_matrices(relabel_dict)"
   ]
  },
  {
   "cell_type": "code",
   "execution_count": null,
   "metadata": {},
   "outputs": [],
   "source": [
    "D.BCD_compute_location(unique_field='geometry',mode='all', store_neg=True)"
   ]
  },
  {
   "cell_type": "code",
   "execution_count": null,
   "metadata": {},
   "outputs": [],
   "source": [
    "D.compute_volumetrics(lod=D.lod_df)"
   ]
  },
  {
   "cell_type": "code",
   "execution_count": null,
   "metadata": {},
   "outputs": [],
   "source": [
    "loc_subset=[\"mar\"] # the function is optimised for single-location plots, but you can also pass a list of location codes\n",
    "colors_dict={\"mar\":'r',        # if you use multiple locations, then dictionary key is the location code and value the color\n",
    "            \"leo\":'b'}"
   ]
  },
  {
   "cell_type": "code",
   "execution_count": null,
   "metadata": {},
   "outputs": [],
   "source": [
    "D.plot_transects(location='mar', tr_id=10, dt=['dt_0','dt_2'], classified=False)"
   ]
  },
  {
   "cell_type": "code",
   "execution_count": null,
   "metadata": {},
   "outputs": [],
   "source": [
    "D.plot_transects(location='mar', tr_id=10, dt=['dt_0','dt_2'], classified=True)"
   ]
  },
  {
   "cell_type": "code",
   "execution_count": null,
   "metadata": {},
   "outputs": [],
   "source": [
    "D.plot_transect_mecs(location='leo',tr_id=28)"
   ]
  },
  {
   "cell_type": "code",
   "execution_count": null,
   "metadata": {},
   "outputs": [],
   "source": [
    "D.plot_single_loc([\"mar\"],None)"
   ]
  },
  {
   "cell_type": "code",
   "execution_count": null,
   "metadata": {},
   "outputs": [],
   "source": [
    "mode=\"subset\" # if 'subset', only the provided location_subset and dt_subset will be plotted. If 'all', plot all.\n",
    "location_subset=['mar'] # provide a list of location codes. Only these locations will be plotted\n",
    "y_heat_bottom_limit=9 # bottom limit of the heatmaps (altimetric change)\n",
    "ax2_y_lims=[-1.5,1.5] # axis limit of the alongshore volumetric plot\n",
    "dt_subset=[\"dt_0\",\"dt_3\"]\n",
    "\n",
    "D.plot_alongshore_change(mode=mode, lod=0.05,dt_subset=dt_subset,\n",
    "                        location_subset=location_subset,\n",
    "                        y_heat_bottom_limit=y_heat_bottom_limit,\n",
    "                        ax2_y_lims=ax2_y_lims)"
   ]
  },
  {
   "cell_type": "code",
   "execution_count": null,
   "metadata": {},
   "outputs": [],
   "source": [
    "D.plot_mec_evolution(location_field=\"location\",\n",
    "                     loc_order=[\"leo\",\"mar\"])"
   ]
  },
  {
   "cell_type": "code",
   "execution_count": null,
   "metadata": {},
   "outputs": [],
   "source": [
    "D.BCD_compute_transects(thresh=7, min_points=20,reliable_action='keep', dirNameTrans=D.ProfileSet.dirNameTrans)"
   ]
  },
  {
   "cell_type": "code",
   "execution_count": null,
   "metadata": {},
   "outputs": [],
   "source": [
    "D.transects_rbcd.query(\"location=='leo'\").plot(column=\"residual\", cmap='RdBu_r')"
   ]
  },
  {
   "cell_type": "markdown",
   "metadata": {},
   "source": [
    "### Save"
   ]
  },
  {
   "cell_type": "code",
   "execution_count": null,
   "metadata": {},
   "outputs": [],
   "source": [
    "dir_out=r'C:\\my_packages\\sandpyper\\tests\\test_data'\n",
    "name=\"test\"\n",
    "D.save(name,dir_out)\n",
    "D"
   ]
  },
  {
   "cell_type": "markdown",
   "metadata": {},
   "source": [
    "### Load"
   ]
  },
  {
   "cell_type": "code",
   "execution_count": null,
   "metadata": {},
   "outputs": [],
   "source": [
    "D=pickle.load(open(r\"C:\\my_packages\\sandpyper\\tests\\test_data\\test.p\", \"rb\"))\n",
    "\n",
    "loc_subset=[\"mar\"] # the function is optimised for single-location plots, but you can also pass a list of location codes\n",
    "colors_dict={\"mar\":'r',        # if you use multiple locations, then dictionary key is the location code and value the color\n",
    "            \"leo\":'b'}"
   ]
  },
  {
   "cell_type": "markdown",
   "metadata": {},
   "source": [
    "___"
   ]
  }
 ],
 "metadata": {
  "kernelspec": {
   "display_name": "Python 3",
   "language": "python",
   "name": "python3"
  },
  "language_info": {
   "codemirror_mode": {
    "name": "ipython",
    "version": 3
   },
   "file_extension": ".py",
   "mimetype": "text/x-python",
   "name": "python",
   "nbconvert_exporter": "python",
   "pygments_lexer": "ipython3",
   "version": "3.9.4"
  }
 },
 "nbformat": 4,
 "nbformat_minor": 2
}
