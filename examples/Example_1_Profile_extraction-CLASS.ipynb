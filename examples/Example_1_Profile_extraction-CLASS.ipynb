{
 "cells": [
  {
   "cell_type": "markdown",
   "metadata": {},
   "source": [
    "<font size=\"5\"><center> <b>Sandpyper: sandy beaches SfM-UAV analysis tools</b></center></font>\n",
    "<font size=\"4\"><center> <b> Example 1 - Profiles extraction </b></center> <br>\n",
    "\n",
    "    \n",
    "<center><img src=\"images/banner.png\" width=\"80%\"  /></center>\n",
    "\n",
    "<font face=\"Calibri\">\n",
    "<br>\n",
    "<font size=\"5\"> <b>Profiles creation and data extraction from DSM and orthophotos</b></font>\n",
    "\n",
    "<br>\n",
    "<font size=\"4\"> <b> Nicolas Pucino; PhD Student @ Deakin University, Australia </b> <br>\n",
    "\n",
    "<font size=\"3\">The first steps in a typical workflow is to create cross-shore transects in all the locations and extract elevation and RGB information along those transects. Sandpiper allows the data extraction from hundreds of rasters at once, in an organised way. <br>\n",
    "\n",
    "<b>This notebook covers the following concepts:</b>\n",
    "\n",
    "- Naming conventions and global parameters.\n",
    "- Setting up the folders.\n",
    "- Setting up the folders.\n",
    "</font>\n",
    "\n",
    "\n",
    "</font>"
   ]
  },
  {
   "cell_type": "markdown",
   "metadata": {},
   "source": [
    "Import all it is required."
   ]
  },
  {
   "cell_type": "code",
   "execution_count": 1,
   "metadata": {
    "scrolled": true
   },
   "outputs": [
    {
     "name": "stderr",
     "output_type": "stream",
     "text": [
      "C:\\conda3\\envs\\sandpyper_env\\lib\\site-packages\\pysal\\explore\\segregation\\network\\network.py:15: UserWarning: You need pandana and urbanaccess to work with segregation's network module\n",
      "You can install them with  `pip install urbanaccess pandana` or `conda install -c udst pandana urbanaccess`\n",
      "  warn(\n",
      "C:\\conda3\\envs\\sandpyper_env\\lib\\site-packages\\pysal\\model\\spvcm\\abstracts.py:10: UserWarning: The `dill` module is required to use the sqlite backend fully.\n",
      "  from .sqlite import head_to_sql, start_sql\n",
      "C:\\conda3\\envs\\sandpyper_env\\lib\\site-packages\\fuzzywuzzy\\fuzz.py:11: UserWarning: Using slow pure-python SequenceMatcher. Install python-Levenshtein to remove this warning\n",
      "  warnings.warn('Using slow pure-python SequenceMatcher. Install python-Levenshtein to remove this warning')\n"
     ]
    }
   ],
   "source": [
    "import matplotlib.pyplot as plt\n",
    "import numpy as np\n",
    "import pandas as pd\n",
    "import geopandas as gpd\n",
    "import os\n",
    "import pickle\n",
    "from tqdm.notebook import tqdm\n",
    "\n",
    "from sandpyper.profile import ProfileSet\n",
    "from sandpyper.hotspot import ProfileDynamics\n",
    "\n",
    "pd.options.mode.chained_assignment = None  # default='warn'"
   ]
  },
  {
   "cell_type": "code",
   "execution_count": 2,
   "metadata": {},
   "outputs": [],
   "source": [
    "dirNameDSM=r'C:\\my_packages\\sandpyper\\tests\\test_data\\dsm_1m'\n",
    "dirNameOrtho=r'C:\\my_packages\\sandpyper\\tests\\test_data\\orthos_1m'\n",
    "dirNameTrans=r'C:\\my_packages\\sandpyper\\tests\\test_data\\transects'\n",
    "transects_spacing=20\n",
    "\n",
    "loc_codes=[\"mar\",\"leo\"]\n",
    "loc_search_dict = {   'leo': ['St','Leonards','leonards','leo'],\n",
    "                      'mar': ['Marengo','marengo','mar'] }\n",
    "crs_dict_string= {\n",
    "                 'mar': {'init': 'epsg:32754'},\n",
    "                 'leo':{'init': 'epsg:32755'}\n",
    "                 }\n",
    "lod_mode=r\"C:\\my_packages\\sandpyper\\tests\\test_data\\lod_transects\"\n",
    "\n",
    "D=pickle.load(open(r\"C:\\my_packages\\sandpyper\\tests\\test_data\\test.p\", \"rb\"))\n",
    "\n",
    "loc_subset=[\"mar\"] # the function is optimised for single-location plots, but you can also pass a list of location codes\n",
    "colors_dict={\"mar\":'r',        # if you use multiple locations, then dictionary key is the location code and value the color\n",
    "            \"leo\":'b'}"
   ]
  },
  {
   "cell_type": "code",
   "execution_count": 3,
   "metadata": {},
   "outputs": [
    {
     "name": "stdout",
     "output_type": "stream",
     "text": [
      "working on leo\n"
     ]
    },
    {
     "data": {
      "application/vnd.jupyter.widget-view+json": {
       "model_id": "9d0bc9b5aba4438fa8ea527a1c162b15",
       "version_major": 2,
       "version_minor": 0
      },
      "text/plain": [
       "  0%|          | 0/6 [00:00<?, ?it/s]"
      ]
     },
     "metadata": {},
     "output_type": "display_data"
    },
    {
     "name": "stdout",
     "output_type": "stream",
     "text": [
      "Calculating dt0, from 20180606 to 20180713 in leo.\n",
      "Calculating dt1, from 20180713 to 20180920 in leo.\n",
      "Calculating dt2, from 20180920 to 20190211 in leo.\n",
      "Calculating dt3, from 20190211 to 20190328 in leo.\n",
      "Calculating dt4, from 20190328 to 20190731 in leo.\n",
      "working on mar\n"
     ]
    },
    {
     "data": {
      "application/vnd.jupyter.widget-view+json": {
       "model_id": "20c137f2a2a24764af819c69fc05fe30",
       "version_major": 2,
       "version_minor": 0
      },
      "text/plain": [
       "  0%|          | 0/9 [00:00<?, ?it/s]"
      ]
     },
     "metadata": {},
     "output_type": "display_data"
    },
    {
     "name": "stdout",
     "output_type": "stream",
     "text": [
      "Calculating dt0, from 20180601 to 20180621 in mar.\n",
      "Calculating dt1, from 20180621 to 20180727 in mar.\n",
      "Calculating dt2, from 20180727 to 20180925 in mar.\n",
      "Calculating dt3, from 20180925 to 20181113 in mar.\n",
      "Calculating dt4, from 20181113 to 20181211 in mar.\n",
      "Calculating dt5, from 20181211 to 20190205 in mar.\n",
      "Calculating dt6, from 20190205 to 20190313 in mar.\n",
      "Calculating dt7, from 20190313 to 20190516 in mar.\n",
      "done\n"
     ]
    },
    {
     "ename": "NameError",
     "evalue": "name 'filter_sand' is not defined",
     "output_type": "error",
     "traceback": [
      "\u001b[1;31m---------------------------------------------------------------------------\u001b[0m",
      "\u001b[1;31mNameError\u001b[0m                                 Traceback (most recent call last)",
      "\u001b[1;32m<ipython-input-3-c1bfb29e134a>\u001b[0m in \u001b[0;36m<module>\u001b[1;34m\u001b[0m\n\u001b[1;32m----> 1\u001b[1;33m D.compute_multitemporal(loc_full={'mar': 'Marengo',\n\u001b[0m\u001b[0;32m      2\u001b[0m          'leo': 'St. Leonards'})\n",
      "\u001b[1;32mC:\\conda3\\envs\\sandpyper_env\\lib\\site-packages\\sandpyper\\hotspot.py\u001b[0m in \u001b[0;36mcompute_multitemporal\u001b[1;34m(self, loc_full, lod_mode, geometry_column, date_field, filter_class)\u001b[0m\n\u001b[0;32m    140\u001b[0m                     \u001b[0mgeometry_column\u001b[0m\u001b[1;33m=\u001b[0m\u001b[0mgeometry_column\u001b[0m\u001b[1;33m,\u001b[0m\u001b[1;33m\u001b[0m\u001b[1;33m\u001b[0m\u001b[0m\n\u001b[0;32m    141\u001b[0m                     \u001b[0mdate_field\u001b[0m\u001b[1;33m=\u001b[0m\u001b[0mdate_field\u001b[0m\u001b[1;33m,\u001b[0m\u001b[1;33m\u001b[0m\u001b[1;33m\u001b[0m\u001b[0m\n\u001b[1;32m--> 142\u001b[1;33m                     \u001b[0mfilter_sand\u001b[0m\u001b[1;33m=\u001b[0m\u001b[0mfilter_sand\u001b[0m\u001b[1;33m,\u001b[0m\u001b[1;33m\u001b[0m\u001b[1;33m\u001b[0m\u001b[0m\n\u001b[0m\u001b[0;32m    143\u001b[0m                     sand_label_field=sand_label_field)\n\u001b[0;32m    144\u001b[0m                 \u001b[0mself\u001b[0m\u001b[1;33m.\u001b[0m\u001b[0mlod_df\u001b[0m\u001b[1;33m=\u001b[0m\u001b[0mget_lod_table\u001b[0m\u001b[1;33m(\u001b[0m\u001b[0mlod_dh\u001b[0m\u001b[1;33m)\u001b[0m\u001b[1;33m\u001b[0m\u001b[1;33m\u001b[0m\u001b[0m\n",
      "\u001b[1;31mNameError\u001b[0m: name 'filter_sand' is not defined"
     ]
    }
   ],
   "source": [
    "D.compute_multitemporal(loc_full={'mar': 'Marengo',\n",
    "         'leo': 'St. Leonards'})"
   ]
  },
  {
   "cell_type": "markdown",
   "metadata": {},
   "source": [
    "### Sensitivity Analysis r-bcd transects"
   ]
  },
  {
   "cell_type": "code",
   "execution_count": null,
   "metadata": {},
   "outputs": [],
   "source": [
    "from sandpyper.dynamics import get_rbcd_transect\n",
    "import seaborn as sb\n",
    "from tqdm.notebook import tqdm_notebook as tqdm"
   ]
  },
  {
   "cell_type": "code",
   "execution_count": null,
   "metadata": {},
   "outputs": [],
   "source": [
    "import itertools"
   ]
  },
  {
   "cell_type": "code",
   "execution_count": null,
   "metadata": {},
   "outputs": [],
   "source": [
    "range_thresh=range(0,data_in.dt.unique().shape[0]+1)\n",
    "range_min_pts=range(0,50,10)\n",
    "combs = list(itertools.product(range_min_pts,range_thresh))"
   ]
  },
  {
   "cell_type": "code",
   "execution_count": null,
   "metadata": {
    "scrolled": true
   },
   "outputs": [],
   "source": [
    "ss_tr_big=pd.DataFrame()\n",
    "\n",
    "for i in tqdm(combs):\n",
    "    print(f\"Working on threshold {i[1]} and min points {i[0]}.\")\n",
    "    \n",
    "    ss_transects_idx = get_rbcd_transect(df_labelled=data_in,\n",
    "              thresh=i[1], min_points=i[0], reliable_action='drop',\n",
    "              dirNameTrans=D.ProfileSet.dirNameTrans,\n",
    "              labels_order=D.tags_order,\n",
    "              loc_codes=D.ProfileSet.loc_codes,\n",
    "              crs_dict_string=D.ProfileSet.crs_dict_string)\n",
    "\n",
    "    ss_transects_idx['thresh']=i[1]\n",
    "    ss_transects_idx['min_pts']=i[0]\n",
    "\n",
    "    ss_tr_big=pd.concat([ss_tr_big,ss_transects_idx], ignore_index=True)\n",
    "    \n",
    "ss_tr_big"
   ]
  },
  {
   "cell_type": "code",
   "execution_count": null,
   "metadata": {},
   "outputs": [],
   "source": [
    "f,ax=plt.subplots(figsize=(10,10))\n",
    "\n",
    "palette=sb.color_palette( n_colors=ss_tr_big.tr_id.unique().shape[0])\n",
    "sb.lineplot(data=ss_tr_big, x='thresh',y='residual', hue='tr_id',\n",
    "            palette=palette, legend=False, **dict(alpha=0.1),\n",
    "            ax=ax\n",
    ")\n",
    "ax.set_ylabel(\"r_bcd\")\n",
    "ax.axhline(y=0, lw=2, c='r');"
   ]
  },
  {
   "cell_type": "code",
   "execution_count": null,
   "metadata": {},
   "outputs": [],
   "source": [
    "trs_res_ar=ss_tr_big_loc.groupby([\"tr_id\",\"min_pts\"])['residual'].apply(np.array).reset_index()\n",
    "tot_trs=ss_tr_big_loc.groupby([\"thresh\",\"min_pts\"])['geometry'].count().reset_index()\n",
    "tot_trs['trs_10']=tot_trs.geometry / 10\n",
    "zero_crossings=pd.DataFrame([pd.Series({'tr_id':trs_res_ar.loc[i,'tr_id'],\n",
    "                                        'sign_change_thresh':np.where(np.diff(np.sign(trs_res_ar.iloc[i,-1])))[0][-1]+1,\n",
    "                                       'min_pts':trs_res_ar.loc[i,'min_pts']}) for i in range(trs_res_ar.shape[0]) if np.where(np.diff(np.sign(trs_res_ar.iloc[i,-1])))[0].shape[0] !=0])\n",
    "tot_jumps=zero_crossings.groupby([\"sign_change_thresh\",\"min_pts\"]).count().reset_index() # how many jumps per thresh and minpts\n",
    "\n",
    "joined=pd.merge(tot_trs,tot_jumps, left_on=['thresh','min_pts'], right_on=['sign_change_thresh','min_pts'], how='left')\n",
    "joined.rename({'geometry':'tot_trs',\n",
    "              'tr_id':'tot_jumps'}, axis=1, inplace=True)\n",
    "joined"
   ]
  },
  {
   "cell_type": "code",
   "execution_count": null,
   "metadata": {
    "scrolled": true
   },
   "outputs": [],
   "source": [
    "plt.rcParams['font.sans-serif'] = 'Arial'\n",
    "# Then, \"ALWAYS use sans-serif fonts\"\n",
    "plt.rcParams['font.family'] = 'sans-serif'\n",
    "sb.set_context(\"paper\", font_scale=2.8)\n",
    "\n",
    "\n",
    "x_ticks=[0,2,4,6,8]\n",
    "\n",
    "q_up_val=0.95\n",
    "q_low_val=0.85\n",
    "\n",
    "list_minpts=ss_tr_big.min_pts.unique()\n",
    "\n",
    "for minpts in list_minpts:\n",
    "\n",
    "    f,ax=plt.subplots(figsize=(7,4))\n",
    "    ax2=ax.twinx()\n",
    "    \n",
    "    datain=joined.query(f\"min_pts=={minpts}\")  \n",
    "\n",
    "\n",
    "    sb.lineplot(x=\"thresh\", y=\"tot_jumps\",ci=None,\n",
    "                    data=datain,color='b',\n",
    "                   alpha=.4,linewidth=3,\n",
    "                ax=ax2, label=\"sign changes\")\n",
    "\n",
    "    sb.lineplot(data=datain,x='thresh',y='trs_10',\n",
    "                alpha=.4,color='r',linewidth=3,\n",
    "                ax=ax,label=\"transects * 10\")\n",
    "    \n",
    "    \n",
    "    kde_x, kde_y = ax.lines[0].get_data()\n",
    "    kde_x2, kde_y2 = ax2.lines[0].get_data()\n",
    "    ax.fill_between(kde_x, kde_y,interpolate=True, color='r',alpha=0.5)\n",
    "    ax2.fill_between(kde_x2, kde_y2,interpolate=True,color='b',alpha=0.5)\n",
    "    \n",
    "    ax.axhline((datain.tot_trs.fillna(0).max()*q_up_val)/10,c='k',ls='-',label='95%')\n",
    "    ax.axhline((datain.tot_trs.fillna(0).max()*q_low_val)/10,c='k',lw=2.5,ls='--',label='85%')\n",
    "    \n",
    "    ax.set_ylabel('n. transects x 10', c='r')\n",
    "    ax.set_xlabel('t')\n",
    "    ax2.set_ylabel('sign changes', c='b')\n",
    "    ax2.set_ylim(0,3)\n",
    "    ax.set_ylim(0,3)\n",
    "    ax.set_xlim(0,8)\n",
    "    \n",
    "\n",
    "    plt.tight_layout()\n",
    "    ax.get_legend().remove()\n",
    "    ax2.get_legend().remove()\n",
    "    \n",
    "    \n",
    "    plt.xticks(x_ticks)\n",
    "    savetxt=f\"E:\\\\path\\\\to\\\\save\\\\revision_0\\\\location_sensit_minpts_{minpts}.png\"\n",
    "    \n",
    "    ax.set_title(f\"pt: {minpts}\")\n",
    "    plt.tight_layout()\n",
    "    \n",
    "#   f.savefig(savetxt, dpi=600); #uncomment to save all images"
   ]
  },
  {
   "cell_type": "code",
   "execution_count": null,
   "metadata": {},
   "outputs": [],
   "source": []
  },
  {
   "cell_type": "code",
   "execution_count": null,
   "metadata": {},
   "outputs": [],
   "source": []
  },
  {
   "cell_type": "code",
   "execution_count": null,
   "metadata": {},
   "outputs": [],
   "source": []
  },
  {
   "cell_type": "code",
   "execution_count": null,
   "metadata": {},
   "outputs": [],
   "source": []
  },
  {
   "cell_type": "code",
   "execution_count": null,
   "metadata": {},
   "outputs": [],
   "source": []
  },
  {
   "cell_type": "markdown",
   "metadata": {},
   "source": [
    "### ProfileSet"
   ]
  },
  {
   "cell_type": "code",
   "execution_count": 3,
   "metadata": {},
   "outputs": [
    {
     "name": "stderr",
     "output_type": "stream",
     "text": [
      "C:\\conda3\\envs\\sandpyper_env\\lib\\site-packages\\geopandas\\geodataframe.py:422: RuntimeWarning: Sequential read of iterator was interrupted. Resetting iterator. This can negatively impact the performance.\n",
      "  for feature in features_lst:\n"
     ]
    },
    {
     "name": "stdout",
     "output_type": "stream",
     "text": [
      "dsm from leo = 6\n",
      "\n",
      "ortho from leo = 6\n",
      "\n",
      "dsm from mar = 9\n",
      "\n",
      "ortho from mar = 9\n",
      "\n",
      "\n",
      "NUMBER OF DATASETS TO PROCESS: 30\n"
     ]
    }
   ],
   "source": [
    "P=ProfileSet(dirNameDSM=dirNameDSM,\n",
    "            dirNameOrtho=dirNameOrtho,\n",
    "            dirNameTrans=dirNameTrans,\n",
    "            transects_spacing=transects_spacing,\n",
    "            loc_codes=loc_codes,\n",
    "            loc_search_dict=loc_search_dict,\n",
    "            crs_dict_string=crs_dict_string,\n",
    "            check=\"all\")"
   ]
  },
  {
   "cell_type": "code",
   "execution_count": 4,
   "metadata": {
    "scrolled": true
   },
   "outputs": [
    {
     "name": "stdout",
     "output_type": "stream",
     "text": [
      "Extracting elevation from DSMs . . .\n"
     ]
    },
    {
     "data": {
      "application/vnd.jupyter.widget-view+json": {
       "model_id": "7c7e5aa3b6854e9a9063585e24787d1f",
       "version_major": 2,
       "version_minor": 0
      },
      "text/plain": [
       "  0%|          | 0/15 [00:00<?, ?it/s]"
      ]
     },
     "metadata": {},
     "output_type": "display_data"
    },
    {
     "data": {
      "application/vnd.jupyter.widget-view+json": {
       "model_id": "087817671f9341feba6e4eaf0bfc6dd6",
       "version_major": 2,
       "version_minor": 0
      },
      "text/plain": [
       "  0%|          | 0/59 [00:00<?, ?it/s]"
      ]
     },
     "metadata": {},
     "output_type": "display_data"
    },
    {
     "data": {
      "application/vnd.jupyter.widget-view+json": {
       "model_id": "3bcb968d15444cbaa6df8373e4cbdc93",
       "version_major": 2,
       "version_minor": 0
      },
      "text/plain": [
       "  0%|          | 0/59 [00:00<?, ?it/s]"
      ]
     },
     "metadata": {},
     "output_type": "display_data"
    },
    {
     "data": {
      "application/vnd.jupyter.widget-view+json": {
       "model_id": "2842372fca824e958487405356c3e05f",
       "version_major": 2,
       "version_minor": 0
      },
      "text/plain": [
       "  0%|          | 0/59 [00:00<?, ?it/s]"
      ]
     },
     "metadata": {},
     "output_type": "display_data"
    },
    {
     "data": {
      "application/vnd.jupyter.widget-view+json": {
       "model_id": "2a7873e9d9bb49278080f438b7085372",
       "version_major": 2,
       "version_minor": 0
      },
      "text/plain": [
       "  0%|          | 0/59 [00:00<?, ?it/s]"
      ]
     },
     "metadata": {},
     "output_type": "display_data"
    },
    {
     "data": {
      "application/vnd.jupyter.widget-view+json": {
       "model_id": "b1fc35d229a2434ba24ec4c122275d3b",
       "version_major": 2,
       "version_minor": 0
      },
      "text/plain": [
       "  0%|          | 0/59 [00:00<?, ?it/s]"
      ]
     },
     "metadata": {},
     "output_type": "display_data"
    },
    {
     "data": {
      "application/vnd.jupyter.widget-view+json": {
       "model_id": "0a740e004cac4d61a305dfd9eee4c191",
       "version_major": 2,
       "version_minor": 0
      },
      "text/plain": [
       "  0%|          | 0/59 [00:00<?, ?it/s]"
      ]
     },
     "metadata": {},
     "output_type": "display_data"
    },
    {
     "data": {
      "application/vnd.jupyter.widget-view+json": {
       "model_id": "8e191b3f46ba474ea88b8ca61a966724",
       "version_major": 2,
       "version_minor": 0
      },
      "text/plain": [
       "  0%|          | 0/22 [00:00<?, ?it/s]"
      ]
     },
     "metadata": {},
     "output_type": "display_data"
    },
    {
     "data": {
      "application/vnd.jupyter.widget-view+json": {
       "model_id": "74b31512ffe64140831df36c05974eb7",
       "version_major": 2,
       "version_minor": 0
      },
      "text/plain": [
       "  0%|          | 0/22 [00:00<?, ?it/s]"
      ]
     },
     "metadata": {},
     "output_type": "display_data"
    },
    {
     "data": {
      "application/vnd.jupyter.widget-view+json": {
       "model_id": "bd22267cb54349bea03a6f5e24ef0a85",
       "version_major": 2,
       "version_minor": 0
      },
      "text/plain": [
       "  0%|          | 0/22 [00:00<?, ?it/s]"
      ]
     },
     "metadata": {},
     "output_type": "display_data"
    },
    {
     "data": {
      "application/vnd.jupyter.widget-view+json": {
       "model_id": "4d9124e1520049cbb83d9c9c49b5404b",
       "version_major": 2,
       "version_minor": 0
      },
      "text/plain": [
       "  0%|          | 0/22 [00:00<?, ?it/s]"
      ]
     },
     "metadata": {},
     "output_type": "display_data"
    },
    {
     "data": {
      "application/vnd.jupyter.widget-view+json": {
       "model_id": "a49ff8dc2a50413ea248636ad4722e05",
       "version_major": 2,
       "version_minor": 0
      },
      "text/plain": [
       "  0%|          | 0/22 [00:00<?, ?it/s]"
      ]
     },
     "metadata": {},
     "output_type": "display_data"
    },
    {
     "data": {
      "application/vnd.jupyter.widget-view+json": {
       "model_id": "d07164d119e44d85baa52e9987c55e93",
       "version_major": 2,
       "version_minor": 0
      },
      "text/plain": [
       "  0%|          | 0/22 [00:00<?, ?it/s]"
      ]
     },
     "metadata": {},
     "output_type": "display_data"
    },
    {
     "data": {
      "application/vnd.jupyter.widget-view+json": {
       "model_id": "b0cfbfefd9aa4fd991dd0915e18fc5ab",
       "version_major": 2,
       "version_minor": 0
      },
      "text/plain": [
       "  0%|          | 0/22 [00:00<?, ?it/s]"
      ]
     },
     "metadata": {},
     "output_type": "display_data"
    },
    {
     "data": {
      "application/vnd.jupyter.widget-view+json": {
       "model_id": "3cd1e631edfc4088ad20df2e584f9706",
       "version_major": 2,
       "version_minor": 0
      },
      "text/plain": [
       "  0%|          | 0/22 [00:00<?, ?it/s]"
      ]
     },
     "metadata": {},
     "output_type": "display_data"
    },
    {
     "data": {
      "application/vnd.jupyter.widget-view+json": {
       "model_id": "1ce5b779197c42d2afd45b4eff1fb44d",
       "version_major": 2,
       "version_minor": 0
      },
      "text/plain": [
       "  0%|          | 0/22 [00:00<?, ?it/s]"
      ]
     },
     "metadata": {},
     "output_type": "display_data"
    },
    {
     "name": "stdout",
     "output_type": "stream",
     "text": [
      "Extraction succesfull\n",
      "Number of points extracted:32805\n",
      "Time for processing=39.271567821502686 seconds\n",
      "First 10 rows are printed below\n",
      "Number of points outside the raster extents: 9066\n",
      "The extraction assigns NaN.\n",
      "Number of points in NoData areas within the raster extents: 250\n",
      "The extraction assigns NaN.\n",
      "Extracting rgb values from orthos . . .\n"
     ]
    },
    {
     "data": {
      "application/vnd.jupyter.widget-view+json": {
       "model_id": "585fc75cd5894bc09cc5d1468e2b82d4",
       "version_major": 2,
       "version_minor": 0
      },
      "text/plain": [
       "  0%|          | 0/15 [00:00<?, ?it/s]"
      ]
     },
     "metadata": {},
     "output_type": "display_data"
    },
    {
     "name": "stderr",
     "output_type": "stream",
     "text": [
      "C:\\conda3\\envs\\sandpyper_env\\lib\\site-packages\\geopandas\\geodataframe.py:422: RuntimeWarning: Sequential read of iterator was interrupted. Resetting iterator. This can negatively impact the performance.\n",
      "  for feature in features_lst:\n"
     ]
    },
    {
     "data": {
      "application/vnd.jupyter.widget-view+json": {
       "model_id": "b7bb5656991f4de3881d6b335584522c",
       "version_major": 2,
       "version_minor": 0
      },
      "text/plain": [
       "  0%|          | 0/59 [00:00<?, ?it/s]"
      ]
     },
     "metadata": {},
     "output_type": "display_data"
    },
    {
     "data": {
      "application/vnd.jupyter.widget-view+json": {
       "model_id": "44e9587541f2449db43671d4509b6bd9",
       "version_major": 2,
       "version_minor": 0
      },
      "text/plain": [
       "  0%|          | 0/59 [00:00<?, ?it/s]"
      ]
     },
     "metadata": {},
     "output_type": "display_data"
    },
    {
     "data": {
      "application/vnd.jupyter.widget-view+json": {
       "model_id": "ce92784257a4412593c41a92ac4b2d31",
       "version_major": 2,
       "version_minor": 0
      },
      "text/plain": [
       "  0%|          | 0/59 [00:00<?, ?it/s]"
      ]
     },
     "metadata": {},
     "output_type": "display_data"
    },
    {
     "data": {
      "application/vnd.jupyter.widget-view+json": {
       "model_id": "d71e033edfd0467085b7b7fcf54f9cf2",
       "version_major": 2,
       "version_minor": 0
      },
      "text/plain": [
       "  0%|          | 0/59 [00:00<?, ?it/s]"
      ]
     },
     "metadata": {},
     "output_type": "display_data"
    },
    {
     "data": {
      "application/vnd.jupyter.widget-view+json": {
       "model_id": "3166757a48804aa89b6865c62593b210",
       "version_major": 2,
       "version_minor": 0
      },
      "text/plain": [
       "  0%|          | 0/59 [00:00<?, ?it/s]"
      ]
     },
     "metadata": {},
     "output_type": "display_data"
    },
    {
     "data": {
      "application/vnd.jupyter.widget-view+json": {
       "model_id": "f8b82a2b3b564f4ea7f89be2c43b9e4c",
       "version_major": 2,
       "version_minor": 0
      },
      "text/plain": [
       "  0%|          | 0/59 [00:00<?, ?it/s]"
      ]
     },
     "metadata": {},
     "output_type": "display_data"
    },
    {
     "data": {
      "application/vnd.jupyter.widget-view+json": {
       "model_id": "9f19c81dc7794e4ea69767ea6480fe98",
       "version_major": 2,
       "version_minor": 0
      },
      "text/plain": [
       "  0%|          | 0/22 [00:00<?, ?it/s]"
      ]
     },
     "metadata": {},
     "output_type": "display_data"
    },
    {
     "data": {
      "application/vnd.jupyter.widget-view+json": {
       "model_id": "552c3922da8648f4bd3f597ce756eaad",
       "version_major": 2,
       "version_minor": 0
      },
      "text/plain": [
       "  0%|          | 0/22 [00:00<?, ?it/s]"
      ]
     },
     "metadata": {},
     "output_type": "display_data"
    },
    {
     "data": {
      "application/vnd.jupyter.widget-view+json": {
       "model_id": "7a111fba77de4b209f6faf83afc10d74",
       "version_major": 2,
       "version_minor": 0
      },
      "text/plain": [
       "  0%|          | 0/22 [00:00<?, ?it/s]"
      ]
     },
     "metadata": {},
     "output_type": "display_data"
    },
    {
     "data": {
      "application/vnd.jupyter.widget-view+json": {
       "model_id": "136640b96f6442a7a4f172f7adc3af79",
       "version_major": 2,
       "version_minor": 0
      },
      "text/plain": [
       "  0%|          | 0/22 [00:00<?, ?it/s]"
      ]
     },
     "metadata": {},
     "output_type": "display_data"
    },
    {
     "data": {
      "application/vnd.jupyter.widget-view+json": {
       "model_id": "934d3cd277f84f1bb768e0a820bebf64",
       "version_major": 2,
       "version_minor": 0
      },
      "text/plain": [
       "  0%|          | 0/22 [00:00<?, ?it/s]"
      ]
     },
     "metadata": {},
     "output_type": "display_data"
    },
    {
     "data": {
      "application/vnd.jupyter.widget-view+json": {
       "model_id": "33a3babbe7194597b1f1bea227337dc2",
       "version_major": 2,
       "version_minor": 0
      },
      "text/plain": [
       "  0%|          | 0/22 [00:00<?, ?it/s]"
      ]
     },
     "metadata": {},
     "output_type": "display_data"
    },
    {
     "data": {
      "application/vnd.jupyter.widget-view+json": {
       "model_id": "87831cfa8e4846039191215a622f0f96",
       "version_major": 2,
       "version_minor": 0
      },
      "text/plain": [
       "  0%|          | 0/22 [00:00<?, ?it/s]"
      ]
     },
     "metadata": {},
     "output_type": "display_data"
    },
    {
     "data": {
      "application/vnd.jupyter.widget-view+json": {
       "model_id": "5e49073ade9c4db49198b5b24ead13d2",
       "version_major": 2,
       "version_minor": 0
      },
      "text/plain": [
       "  0%|          | 0/22 [00:00<?, ?it/s]"
      ]
     },
     "metadata": {},
     "output_type": "display_data"
    },
    {
     "data": {
      "application/vnd.jupyter.widget-view+json": {
       "model_id": "e914828c23f9487ba6580b7b34ac74d7",
       "version_major": 2,
       "version_minor": 0
      },
      "text/plain": [
       "  0%|          | 0/22 [00:00<?, ?it/s]"
      ]
     },
     "metadata": {},
     "output_type": "display_data"
    },
    {
     "name": "stdout",
     "output_type": "stream",
     "text": [
      "Extraction succesfull\n",
      "Number of points extracted:32805\n",
      "Time for processing=40.9917733669281 seconds\n",
      "First 10 rows are printed below\n",
      "Number of points outside the raster extents: 27198\n",
      "The extraction assigns NaN.\n",
      "Number of points in NoData areas within the raster extents: 0\n",
      "The extraction assigns NaN.\n",
      "Extracting LoD values\n"
     ]
    },
    {
     "data": {
      "application/vnd.jupyter.widget-view+json": {
       "model_id": "17032edd373e47fda35f06cbe4428ff5",
       "version_major": 2,
       "version_minor": 0
      },
      "text/plain": [
       "  0%|          | 0/15 [00:00<?, ?it/s]"
      ]
     },
     "metadata": {},
     "output_type": "display_data"
    },
    {
     "name": "stderr",
     "output_type": "stream",
     "text": [
      "C:\\conda3\\envs\\sandpyper_env\\lib\\site-packages\\geopandas\\geodataframe.py:422: RuntimeWarning: Sequential read of iterator was interrupted. Resetting iterator. This can negatively impact the performance.\n",
      "  for feature in features_lst:\n"
     ]
    },
    {
     "data": {
      "application/vnd.jupyter.widget-view+json": {
       "model_id": "ebec164d443241638c4cdd1653d6ac31",
       "version_major": 2,
       "version_minor": 0
      },
      "text/plain": [
       "  0%|          | 0/7 [00:00<?, ?it/s]"
      ]
     },
     "metadata": {},
     "output_type": "display_data"
    },
    {
     "data": {
      "application/vnd.jupyter.widget-view+json": {
       "model_id": "c2b227895ca14dd0809827d2da247729",
       "version_major": 2,
       "version_minor": 0
      },
      "text/plain": [
       "  0%|          | 0/7 [00:00<?, ?it/s]"
      ]
     },
     "metadata": {},
     "output_type": "display_data"
    },
    {
     "data": {
      "application/vnd.jupyter.widget-view+json": {
       "model_id": "ba4c1b67e4374059bce49c44604c9bf8",
       "version_major": 2,
       "version_minor": 0
      },
      "text/plain": [
       "  0%|          | 0/7 [00:00<?, ?it/s]"
      ]
     },
     "metadata": {},
     "output_type": "display_data"
    },
    {
     "data": {
      "application/vnd.jupyter.widget-view+json": {
       "model_id": "ea36356de1ce44da82c9a97d40e20c9b",
       "version_major": 2,
       "version_minor": 0
      },
      "text/plain": [
       "  0%|          | 0/7 [00:00<?, ?it/s]"
      ]
     },
     "metadata": {},
     "output_type": "display_data"
    },
    {
     "data": {
      "application/vnd.jupyter.widget-view+json": {
       "model_id": "6bc0e4160b884ce69b3999e8a1ced6ec",
       "version_major": 2,
       "version_minor": 0
      },
      "text/plain": [
       "  0%|          | 0/7 [00:00<?, ?it/s]"
      ]
     },
     "metadata": {},
     "output_type": "display_data"
    },
    {
     "data": {
      "application/vnd.jupyter.widget-view+json": {
       "model_id": "e4d05c17c4b1413691490c96410c1029",
       "version_major": 2,
       "version_minor": 0
      },
      "text/plain": [
       "  0%|          | 0/7 [00:00<?, ?it/s]"
      ]
     },
     "metadata": {},
     "output_type": "display_data"
    },
    {
     "data": {
      "application/vnd.jupyter.widget-view+json": {
       "model_id": "09e0a0fc8b9341fda0c8e8c73ec32299",
       "version_major": 2,
       "version_minor": 0
      },
      "text/plain": [
       "  0%|          | 0/6 [00:00<?, ?it/s]"
      ]
     },
     "metadata": {},
     "output_type": "display_data"
    },
    {
     "data": {
      "application/vnd.jupyter.widget-view+json": {
       "model_id": "66a705bfc37949508a711cdf65439b04",
       "version_major": 2,
       "version_minor": 0
      },
      "text/plain": [
       "  0%|          | 0/6 [00:00<?, ?it/s]"
      ]
     },
     "metadata": {},
     "output_type": "display_data"
    },
    {
     "data": {
      "application/vnd.jupyter.widget-view+json": {
       "model_id": "67963fa44b0c424c94f00fb15ec7744f",
       "version_major": 2,
       "version_minor": 0
      },
      "text/plain": [
       "  0%|          | 0/6 [00:00<?, ?it/s]"
      ]
     },
     "metadata": {},
     "output_type": "display_data"
    },
    {
     "data": {
      "application/vnd.jupyter.widget-view+json": {
       "model_id": "3bedcb813576480c8222806893bb8681",
       "version_major": 2,
       "version_minor": 0
      },
      "text/plain": [
       "  0%|          | 0/6 [00:00<?, ?it/s]"
      ]
     },
     "metadata": {},
     "output_type": "display_data"
    },
    {
     "data": {
      "application/vnd.jupyter.widget-view+json": {
       "model_id": "6bd21fb85d2346dda81243095a52e55c",
       "version_major": 2,
       "version_minor": 0
      },
      "text/plain": [
       "  0%|          | 0/6 [00:00<?, ?it/s]"
      ]
     },
     "metadata": {},
     "output_type": "display_data"
    },
    {
     "data": {
      "application/vnd.jupyter.widget-view+json": {
       "model_id": "4cd26c173c404a83977d7b454416dd0a",
       "version_major": 2,
       "version_minor": 0
      },
      "text/plain": [
       "  0%|          | 0/6 [00:00<?, ?it/s]"
      ]
     },
     "metadata": {},
     "output_type": "display_data"
    },
    {
     "data": {
      "application/vnd.jupyter.widget-view+json": {
       "model_id": "90c1bad43822459f8c4f86c395fd49ca",
       "version_major": 2,
       "version_minor": 0
      },
      "text/plain": [
       "  0%|          | 0/6 [00:00<?, ?it/s]"
      ]
     },
     "metadata": {},
     "output_type": "display_data"
    },
    {
     "data": {
      "application/vnd.jupyter.widget-view+json": {
       "model_id": "9b33289b2af34ab798b13fe6ae7717d3",
       "version_major": 2,
       "version_minor": 0
      },
      "text/plain": [
       "  0%|          | 0/6 [00:00<?, ?it/s]"
      ]
     },
     "metadata": {},
     "output_type": "display_data"
    },
    {
     "data": {
      "application/vnd.jupyter.widget-view+json": {
       "model_id": "4705ff3bb71e4577a548a1090b07c466",
       "version_major": 2,
       "version_minor": 0
      },
      "text/plain": [
       "  0%|          | 0/6 [00:00<?, ?it/s]"
      ]
     },
     "metadata": {},
     "output_type": "display_data"
    },
    {
     "name": "stdout",
     "output_type": "stream",
     "text": [
      "Extraction succesfull\n",
      "Number of points extracted:1395\n",
      "Time for processing=4.733765125274658 seconds\n",
      "First 10 rows are printed below\n",
      "Number of points outside the raster extents: 27\n",
      "The extraction assigns NaN.\n",
      "Number of points in NoData areas within the raster extents: 0\n",
      "The extraction assigns NaN.\n"
     ]
    }
   ],
   "source": [
    "P.extract_profiles(mode='all',sampling_step=1,add_xy=True,lod_mode=lod_mode)"
   ]
  },
  {
   "cell_type": "markdown",
   "metadata": {},
   "source": [
    "#### Cleaning"
   ]
  },
  {
   "cell_type": "code",
   "execution_count": 5,
   "metadata": {},
   "outputs": [],
   "source": [
    "from sandpyper.labels import get_sil_location, get_opt_k\n"
   ]
  },
  {
   "cell_type": "code",
   "execution_count": 6,
   "metadata": {
    "scrolled": true
   },
   "outputs": [
    {
     "data": {
      "application/vnd.jupyter.widget-view+json": {
       "model_id": "57fd3719e67b4598825e5f0c1c779090",
       "version_major": 2,
       "version_minor": 0
      },
      "text/plain": [
       "  0%|          | 0/2 [00:00<?, ?it/s]"
      ]
     },
     "metadata": {},
     "output_type": "display_data"
    },
    {
     "data": {
      "application/vnd.jupyter.widget-view+json": {
       "model_id": "8cd55804c66c4f7b9281fc24da571077",
       "version_major": 2,
       "version_minor": 0
      },
      "text/plain": [
       "  0%|          | 0/9 [00:00<?, ?it/s]"
      ]
     },
     "metadata": {},
     "output_type": "display_data"
    },
    {
     "name": "stdout",
     "output_type": "stream",
     "text": [
      "Working on : mar, 20190516.\n"
     ]
    },
    {
     "data": {
      "application/vnd.jupyter.widget-view+json": {
       "model_id": "139abb10076a471bb860ef8e133c60b5",
       "version_major": 2,
       "version_minor": 0
      },
      "text/plain": [
       "  0%|          | 0/13 [00:00<?, ?it/s]"
      ]
     },
     "metadata": {},
     "output_type": "display_data"
    },
    {
     "name": "stdout",
     "output_type": "stream",
     "text": [
      "For n_clusters = 2 The average silhouette_score is : 0.6219865168763407\n",
      "For n_clusters = 3 The average silhouette_score is : 0.535782834177223\n",
      "For n_clusters = 4 The average silhouette_score is : 0.5360693626824162\n",
      "For n_clusters = 5 The average silhouette_score is : 0.4560535847617118\n",
      "For n_clusters = 6 The average silhouette_score is : 0.45529082978244856\n",
      "For n_clusters = 7 The average silhouette_score is : 0.44623104595368007\n",
      "For n_clusters = 8 The average silhouette_score is : 0.4276467073078296\n",
      "For n_clusters = 9 The average silhouette_score is : 0.39984472497160034\n",
      "For n_clusters = 10 The average silhouette_score is : 0.3944833658664287\n",
      "For n_clusters = 11 The average silhouette_score is : 0.39290037915600995\n",
      "For n_clusters = 12 The average silhouette_score is : 0.3626866522843635\n",
      "For n_clusters = 13 The average silhouette_score is : 0.3537214969510808\n",
      "For n_clusters = 14 The average silhouette_score is : 0.360049558138258\n",
      "Working on : mar, 20190313.\n"
     ]
    },
    {
     "data": {
      "application/vnd.jupyter.widget-view+json": {
       "model_id": "46ff4720f1d44cf8bd8ca7f45ca67f22",
       "version_major": 2,
       "version_minor": 0
      },
      "text/plain": [
       "  0%|          | 0/13 [00:00<?, ?it/s]"
      ]
     },
     "metadata": {},
     "output_type": "display_data"
    },
    {
     "name": "stdout",
     "output_type": "stream",
     "text": [
      "For n_clusters = 2 The average silhouette_score is : 0.557958595647791\n",
      "For n_clusters = 3 The average silhouette_score is : 0.5140648301846097\n",
      "For n_clusters = 4 The average silhouette_score is : 0.5018436513556769\n",
      "For n_clusters = 5 The average silhouette_score is : 0.433979206893076\n",
      "For n_clusters = 6 The average silhouette_score is : 0.417124057365699\n",
      "For n_clusters = 7 The average silhouette_score is : 0.41877526043796687\n",
      "For n_clusters = 8 The average silhouette_score is : 0.3813644990945346\n",
      "For n_clusters = 9 The average silhouette_score is : 0.38298598316290156\n",
      "For n_clusters = 10 The average silhouette_score is : 0.38780357139523025\n",
      "For n_clusters = 11 The average silhouette_score is : 0.3705944933198418\n",
      "For n_clusters = 12 The average silhouette_score is : 0.3651637741592011\n",
      "For n_clusters = 13 The average silhouette_score is : 0.3626901435079943\n",
      "For n_clusters = 14 The average silhouette_score is : 0.364312347054231\n",
      "Working on : mar, 20190205.\n"
     ]
    },
    {
     "data": {
      "application/vnd.jupyter.widget-view+json": {
       "model_id": "db0a3fa949d54863b41f3506cdcceac3",
       "version_major": 2,
       "version_minor": 0
      },
      "text/plain": [
       "  0%|          | 0/13 [00:00<?, ?it/s]"
      ]
     },
     "metadata": {},
     "output_type": "display_data"
    },
    {
     "name": "stdout",
     "output_type": "stream",
     "text": [
      "For n_clusters = 2 The average silhouette_score is : 0.5864811907668233\n",
      "For n_clusters = 3 The average silhouette_score is : 0.5287826504696901\n",
      "For n_clusters = 4 The average silhouette_score is : 0.5135421029464969\n",
      "For n_clusters = 5 The average silhouette_score is : 0.4307716357147362\n",
      "For n_clusters = 6 The average silhouette_score is : 0.4198951039452866\n",
      "For n_clusters = 7 The average silhouette_score is : 0.4216561839748987\n",
      "For n_clusters = 8 The average silhouette_score is : 0.4048963177852256\n",
      "For n_clusters = 9 The average silhouette_score is : 0.40309220394346107\n",
      "For n_clusters = 10 The average silhouette_score is : 0.3863324302013023\n",
      "For n_clusters = 11 The average silhouette_score is : 0.3797930282754271\n",
      "For n_clusters = 12 The average silhouette_score is : 0.38096229910474133\n",
      "For n_clusters = 13 The average silhouette_score is : 0.38270148296414735\n",
      "For n_clusters = 14 The average silhouette_score is : 0.38101196831610196\n",
      "Working on : mar, 20181211.\n"
     ]
    },
    {
     "data": {
      "application/vnd.jupyter.widget-view+json": {
       "model_id": "610dd08e5ad640ba8ae23d9160d60e87",
       "version_major": 2,
       "version_minor": 0
      },
      "text/plain": [
       "  0%|          | 0/13 [00:00<?, ?it/s]"
      ]
     },
     "metadata": {},
     "output_type": "display_data"
    },
    {
     "name": "stdout",
     "output_type": "stream",
     "text": [
      "For n_clusters = 2 The average silhouette_score is : 0.5408421089322027\n",
      "For n_clusters = 3 The average silhouette_score is : 0.5230591336669079\n",
      "For n_clusters = 4 The average silhouette_score is : 0.5212604455141028\n",
      "For n_clusters = 5 The average silhouette_score is : 0.4229400387683722\n",
      "For n_clusters = 6 The average silhouette_score is : 0.45245862927127983\n",
      "For n_clusters = 7 The average silhouette_score is : 0.4483238394769186\n",
      "For n_clusters = 8 The average silhouette_score is : 0.4196417680949735\n",
      "For n_clusters = 9 The average silhouette_score is : 0.40611511715414134\n",
      "For n_clusters = 10 The average silhouette_score is : 0.38659542553842996\n",
      "For n_clusters = 11 The average silhouette_score is : 0.3696055524901218\n",
      "For n_clusters = 12 The average silhouette_score is : 0.37009962399500085\n",
      "For n_clusters = 13 The average silhouette_score is : 0.35527656663572244\n",
      "For n_clusters = 14 The average silhouette_score is : 0.3465435289160837\n",
      "Working on : mar, 20181113.\n"
     ]
    },
    {
     "data": {
      "application/vnd.jupyter.widget-view+json": {
       "model_id": "508b1f03326c4c268a07bc9c849f404d",
       "version_major": 2,
       "version_minor": 0
      },
      "text/plain": [
       "  0%|          | 0/13 [00:00<?, ?it/s]"
      ]
     },
     "metadata": {},
     "output_type": "display_data"
    },
    {
     "name": "stdout",
     "output_type": "stream",
     "text": [
      "For n_clusters = 2 The average silhouette_score is : 0.5653353599190023\n",
      "For n_clusters = 3 The average silhouette_score is : 0.48082172651613736\n",
      "For n_clusters = 4 The average silhouette_score is : 0.4739355249881875\n",
      "For n_clusters = 5 The average silhouette_score is : 0.44998542160594424\n",
      "For n_clusters = 6 The average silhouette_score is : 0.46793686792032685\n",
      "For n_clusters = 7 The average silhouette_score is : 0.45141377362406754\n",
      "For n_clusters = 8 The average silhouette_score is : 0.4282875609756635\n",
      "For n_clusters = 9 The average silhouette_score is : 0.41407851845524357\n",
      "For n_clusters = 10 The average silhouette_score is : 0.40718423656045105\n",
      "For n_clusters = 11 The average silhouette_score is : 0.3903647922431344\n",
      "For n_clusters = 12 The average silhouette_score is : 0.3839833647433829\n",
      "For n_clusters = 13 The average silhouette_score is : 0.38065272471925277\n",
      "For n_clusters = 14 The average silhouette_score is : 0.3832072967705472\n",
      "Working on : mar, 20180925.\n"
     ]
    },
    {
     "data": {
      "application/vnd.jupyter.widget-view+json": {
       "model_id": "9fa6ae2c5a7c4a59a0e9406ec9ddd46f",
       "version_major": 2,
       "version_minor": 0
      },
      "text/plain": [
       "  0%|          | 0/13 [00:00<?, ?it/s]"
      ]
     },
     "metadata": {},
     "output_type": "display_data"
    },
    {
     "name": "stdout",
     "output_type": "stream",
     "text": [
      "For n_clusters = 2 The average silhouette_score is : 0.5781993163219185\n",
      "For n_clusters = 3 The average silhouette_score is : 0.5170856406873439\n",
      "For n_clusters = 4 The average silhouette_score is : 0.48466929384434043\n",
      "For n_clusters = 5 The average silhouette_score is : 0.4373504056027659\n",
      "For n_clusters = 6 The average silhouette_score is : 0.39375906953445383\n",
      "For n_clusters = 7 The average silhouette_score is : 0.38864190848914665\n",
      "For n_clusters = 8 The average silhouette_score is : 0.4035256487664215\n",
      "For n_clusters = 9 The average silhouette_score is : 0.3798356038299367\n",
      "For n_clusters = 10 The average silhouette_score is : 0.37962054426443537\n",
      "For n_clusters = 11 The average silhouette_score is : 0.3644375001522226\n",
      "For n_clusters = 12 The average silhouette_score is : 0.3558265298038209\n",
      "For n_clusters = 13 The average silhouette_score is : 0.34528697717595713\n",
      "For n_clusters = 14 The average silhouette_score is : 0.35004508855406896\n",
      "Working on : mar, 20180727.\n"
     ]
    },
    {
     "data": {
      "application/vnd.jupyter.widget-view+json": {
       "model_id": "6407644176ee4abeb20c2d43ca9fcddf",
       "version_major": 2,
       "version_minor": 0
      },
      "text/plain": [
       "  0%|          | 0/13 [00:00<?, ?it/s]"
      ]
     },
     "metadata": {},
     "output_type": "display_data"
    },
    {
     "name": "stdout",
     "output_type": "stream",
     "text": [
      "For n_clusters = 2 The average silhouette_score is : 0.5803251747670938\n",
      "For n_clusters = 3 The average silhouette_score is : 0.48850610227959923\n",
      "For n_clusters = 4 The average silhouette_score is : 0.4772654299979584\n",
      "For n_clusters = 5 The average silhouette_score is : 0.4135001777584117\n",
      "For n_clusters = 6 The average silhouette_score is : 0.38283314263428714\n",
      "For n_clusters = 7 The average silhouette_score is : 0.3755827513627956\n",
      "For n_clusters = 8 The average silhouette_score is : 0.3486272625814806\n",
      "For n_clusters = 9 The average silhouette_score is : 0.3367906257895182\n",
      "For n_clusters = 10 The average silhouette_score is : 0.3273888373123684\n",
      "For n_clusters = 11 The average silhouette_score is : 0.30071888963336296\n",
      "For n_clusters = 12 The average silhouette_score is : 0.3219840164575009\n",
      "For n_clusters = 13 The average silhouette_score is : 0.3222155159146202\n",
      "For n_clusters = 14 The average silhouette_score is : 0.307958370621084\n",
      "Working on : mar, 20180621.\n"
     ]
    },
    {
     "data": {
      "application/vnd.jupyter.widget-view+json": {
       "model_id": "01e0bc2edcec4c76a04200348fabb5ef",
       "version_major": 2,
       "version_minor": 0
      },
      "text/plain": [
       "  0%|          | 0/13 [00:00<?, ?it/s]"
      ]
     },
     "metadata": {},
     "output_type": "display_data"
    },
    {
     "name": "stdout",
     "output_type": "stream",
     "text": [
      "For n_clusters = 2 The average silhouette_score is : 0.5439589764752933\n",
      "For n_clusters = 3 The average silhouette_score is : 0.4387708619085413\n",
      "For n_clusters = 4 The average silhouette_score is : 0.4501935908699898\n",
      "For n_clusters = 5 The average silhouette_score is : 0.3963414382040067\n",
      "For n_clusters = 6 The average silhouette_score is : 0.41807731086369254\n",
      "For n_clusters = 7 The average silhouette_score is : 0.3871968978951222\n",
      "For n_clusters = 8 The average silhouette_score is : 0.37393061831106983\n",
      "For n_clusters = 9 The average silhouette_score is : 0.3443142601476958\n",
      "For n_clusters = 10 The average silhouette_score is : 0.3585650473719073\n",
      "For n_clusters = 11 The average silhouette_score is : 0.35570748604269775\n",
      "For n_clusters = 12 The average silhouette_score is : 0.3575633171508779\n",
      "For n_clusters = 13 The average silhouette_score is : 0.37087632012718563\n",
      "For n_clusters = 14 The average silhouette_score is : 0.3795271430686032\n",
      "Working on : mar, 20180601.\n"
     ]
    },
    {
     "data": {
      "application/vnd.jupyter.widget-view+json": {
       "model_id": "fd812590b9634821867137a4380e78b1",
       "version_major": 2,
       "version_minor": 0
      },
      "text/plain": [
       "  0%|          | 0/13 [00:00<?, ?it/s]"
      ]
     },
     "metadata": {},
     "output_type": "display_data"
    },
    {
     "name": "stdout",
     "output_type": "stream",
     "text": [
      "For n_clusters = 2 The average silhouette_score is : 0.48270415311106846\n",
      "For n_clusters = 3 The average silhouette_score is : 0.3772084152830261\n",
      "For n_clusters = 4 The average silhouette_score is : 0.38234628609235827\n",
      "For n_clusters = 5 The average silhouette_score is : 0.38128225187445997\n",
      "For n_clusters = 6 The average silhouette_score is : 0.36428432858349613\n",
      "For n_clusters = 7 The average silhouette_score is : 0.36240034713437685\n",
      "For n_clusters = 8 The average silhouette_score is : 0.3701424025696913\n",
      "For n_clusters = 9 The average silhouette_score is : 0.37175207788683484\n",
      "For n_clusters = 10 The average silhouette_score is : 0.37676977350569846\n",
      "For n_clusters = 11 The average silhouette_score is : 0.37582649170780724\n",
      "For n_clusters = 12 The average silhouette_score is : 0.3619596723553155\n",
      "For n_clusters = 13 The average silhouette_score is : 0.360705274650356\n",
      "For n_clusters = 14 The average silhouette_score is : 0.3549151019500089\n"
     ]
    },
    {
     "data": {
      "application/vnd.jupyter.widget-view+json": {
       "model_id": "2db58265a6a64867a176f5d1add7a595",
       "version_major": 2,
       "version_minor": 0
      },
      "text/plain": [
       "  0%|          | 0/6 [00:00<?, ?it/s]"
      ]
     },
     "metadata": {},
     "output_type": "display_data"
    },
    {
     "name": "stdout",
     "output_type": "stream",
     "text": [
      "Working on : leo, 20190731.\n"
     ]
    },
    {
     "data": {
      "application/vnd.jupyter.widget-view+json": {
       "model_id": "9d4b047f5d874bb880e3f349b770771a",
       "version_major": 2,
       "version_minor": 0
      },
      "text/plain": [
       "  0%|          | 0/13 [00:00<?, ?it/s]"
      ]
     },
     "metadata": {},
     "output_type": "display_data"
    },
    {
     "name": "stdout",
     "output_type": "stream",
     "text": [
      "For n_clusters = 2 The average silhouette_score is : 0.3899198233106219\n",
      "For n_clusters = 3 The average silhouette_score is : 0.5071438060156596\n",
      "For n_clusters = 4 The average silhouette_score is : 0.47005119135652856\n",
      "For n_clusters = 5 The average silhouette_score is : 0.4481907289981238\n",
      "For n_clusters = 6 The average silhouette_score is : 0.42502882450684076\n",
      "For n_clusters = 7 The average silhouette_score is : 0.4011433092740131\n",
      "For n_clusters = 8 The average silhouette_score is : 0.38998808479733066\n",
      "For n_clusters = 9 The average silhouette_score is : 0.38559916622535073\n",
      "For n_clusters = 10 The average silhouette_score is : 0.38736594985557654\n",
      "For n_clusters = 11 The average silhouette_score is : 0.3788805356672864\n",
      "For n_clusters = 12 The average silhouette_score is : 0.37132878563783606\n",
      "For n_clusters = 13 The average silhouette_score is : 0.3728000521740459\n",
      "For n_clusters = 14 The average silhouette_score is : 0.37291633707910765\n",
      "Working on : leo, 20190328.\n"
     ]
    },
    {
     "data": {
      "application/vnd.jupyter.widget-view+json": {
       "model_id": "f0118ec8ee9b44068546364299e66265",
       "version_major": 2,
       "version_minor": 0
      },
      "text/plain": [
       "  0%|          | 0/13 [00:00<?, ?it/s]"
      ]
     },
     "metadata": {},
     "output_type": "display_data"
    },
    {
     "name": "stdout",
     "output_type": "stream",
     "text": [
      "For n_clusters = 2 The average silhouette_score is : 0.3988524141238273\n",
      "For n_clusters = 3 The average silhouette_score is : 0.4304685615621422\n",
      "For n_clusters = 4 The average silhouette_score is : 0.431227035737659\n",
      "For n_clusters = 5 The average silhouette_score is : 0.4509750902886234\n",
      "For n_clusters = 6 The average silhouette_score is : 0.42012497505273527\n",
      "For n_clusters = 7 The average silhouette_score is : 0.4094032569946379\n",
      "For n_clusters = 8 The average silhouette_score is : 0.42729379253757904\n",
      "For n_clusters = 9 The average silhouette_score is : 0.41690585873078206\n",
      "For n_clusters = 10 The average silhouette_score is : 0.4226788217215935\n",
      "For n_clusters = 11 The average silhouette_score is : 0.41351261817558693\n",
      "For n_clusters = 12 The average silhouette_score is : 0.4087415403998031\n",
      "For n_clusters = 13 The average silhouette_score is : 0.38543846003780563\n",
      "For n_clusters = 14 The average silhouette_score is : 0.3783301865582882\n",
      "Working on : leo, 20190211.\n"
     ]
    },
    {
     "data": {
      "application/vnd.jupyter.widget-view+json": {
       "model_id": "0854576c83f34b31b1c0a3124614bb4b",
       "version_major": 2,
       "version_minor": 0
      },
      "text/plain": [
       "  0%|          | 0/13 [00:00<?, ?it/s]"
      ]
     },
     "metadata": {},
     "output_type": "display_data"
    },
    {
     "name": "stdout",
     "output_type": "stream",
     "text": [
      "For n_clusters = 2 The average silhouette_score is : 0.3811803323084047\n",
      "For n_clusters = 3 The average silhouette_score is : 0.48727929000883047\n",
      "For n_clusters = 4 The average silhouette_score is : 0.44313687819005354\n",
      "For n_clusters = 5 The average silhouette_score is : 0.45097582364485633\n",
      "For n_clusters = 6 The average silhouette_score is : 0.4320727369612193\n",
      "For n_clusters = 7 The average silhouette_score is : 0.4166514336483687\n",
      "For n_clusters = 8 The average silhouette_score is : 0.39445247084076124\n",
      "For n_clusters = 9 The average silhouette_score is : 0.3718047003108205\n",
      "For n_clusters = 10 The average silhouette_score is : 0.36905766574894283\n",
      "For n_clusters = 11 The average silhouette_score is : 0.3723670925736636\n",
      "For n_clusters = 12 The average silhouette_score is : 0.35518841237259613\n",
      "For n_clusters = 13 The average silhouette_score is : 0.35415290301652735\n",
      "For n_clusters = 14 The average silhouette_score is : 0.33383141602938693\n",
      "Working on : leo, 20180920.\n"
     ]
    },
    {
     "data": {
      "application/vnd.jupyter.widget-view+json": {
       "model_id": "0e420842cbba40be8df279f92c31d243",
       "version_major": 2,
       "version_minor": 0
      },
      "text/plain": [
       "  0%|          | 0/13 [00:00<?, ?it/s]"
      ]
     },
     "metadata": {},
     "output_type": "display_data"
    },
    {
     "name": "stdout",
     "output_type": "stream",
     "text": [
      "For n_clusters = 2 The average silhouette_score is : 0.4039166622963731\n",
      "For n_clusters = 3 The average silhouette_score is : 0.4367493135688848\n",
      "For n_clusters = 4 The average silhouette_score is : 0.42434419318841404\n",
      "For n_clusters = 5 The average silhouette_score is : 0.4443994359362926\n",
      "For n_clusters = 6 The average silhouette_score is : 0.4175864662989779\n",
      "For n_clusters = 7 The average silhouette_score is : 0.38860870508958795\n",
      "For n_clusters = 8 The average silhouette_score is : 0.38880003508342514\n",
      "For n_clusters = 9 The average silhouette_score is : 0.3830287983992327\n",
      "For n_clusters = 10 The average silhouette_score is : 0.37353163965128733\n",
      "For n_clusters = 11 The average silhouette_score is : 0.36620965721819637\n",
      "For n_clusters = 12 The average silhouette_score is : 0.3536600836899299\n",
      "For n_clusters = 13 The average silhouette_score is : 0.3585083805642395\n",
      "For n_clusters = 14 The average silhouette_score is : 0.35672016047028215\n",
      "Working on : leo, 20180713.\n"
     ]
    },
    {
     "data": {
      "application/vnd.jupyter.widget-view+json": {
       "model_id": "0ff6dda9280f4ae5b829a9226deeb228",
       "version_major": 2,
       "version_minor": 0
      },
      "text/plain": [
       "  0%|          | 0/13 [00:00<?, ?it/s]"
      ]
     },
     "metadata": {},
     "output_type": "display_data"
    },
    {
     "name": "stdout",
     "output_type": "stream",
     "text": [
      "For n_clusters = 2 The average silhouette_score is : 0.49629965872244686\n",
      "For n_clusters = 3 The average silhouette_score is : 0.5092406492417487\n",
      "For n_clusters = 4 The average silhouette_score is : 0.46159478658042724\n",
      "For n_clusters = 5 The average silhouette_score is : 0.4488595142176017\n",
      "For n_clusters = 6 The average silhouette_score is : 0.4183623304561938\n",
      "For n_clusters = 7 The average silhouette_score is : 0.39004221840210485\n",
      "For n_clusters = 8 The average silhouette_score is : 0.3842278112748862\n",
      "For n_clusters = 9 The average silhouette_score is : 0.36304035595403583\n",
      "For n_clusters = 10 The average silhouette_score is : 0.3463760386521644\n",
      "For n_clusters = 11 The average silhouette_score is : 0.34841430296451464\n",
      "For n_clusters = 12 The average silhouette_score is : 0.3460546307634773\n",
      "For n_clusters = 13 The average silhouette_score is : 0.34457917043266856\n",
      "For n_clusters = 14 The average silhouette_score is : 0.3318667826222712\n",
      "Working on : leo, 20180606.\n"
     ]
    },
    {
     "data": {
      "application/vnd.jupyter.widget-view+json": {
       "model_id": "b7245b6929c14578916bde7bdbbb7fe0",
       "version_major": 2,
       "version_minor": 0
      },
      "text/plain": [
       "  0%|          | 0/13 [00:00<?, ?it/s]"
      ]
     },
     "metadata": {},
     "output_type": "display_data"
    },
    {
     "name": "stdout",
     "output_type": "stream",
     "text": [
      "For n_clusters = 2 The average silhouette_score is : 0.4012079287817844\n",
      "For n_clusters = 3 The average silhouette_score is : 0.4563078554750914\n",
      "For n_clusters = 4 The average silhouette_score is : 0.40640166442880776\n",
      "For n_clusters = 5 The average silhouette_score is : 0.4001757072050638\n",
      "For n_clusters = 6 The average silhouette_score is : 0.3890044660503746\n",
      "For n_clusters = 7 The average silhouette_score is : 0.3716889344520391\n",
      "For n_clusters = 8 The average silhouette_score is : 0.36600629265911533\n",
      "For n_clusters = 9 The average silhouette_score is : 0.3503569988098764\n",
      "For n_clusters = 10 The average silhouette_score is : 0.34651080656561367\n",
      "For n_clusters = 11 The average silhouette_score is : 0.34322073624826754\n",
      "For n_clusters = 12 The average silhouette_score is : 0.3439561998875081\n",
      "For n_clusters = 13 The average silhouette_score is : 0.347961415981389\n",
      "For n_clusters = 14 The average silhouette_score is : 0.33782737875946023\n"
     ]
    },
    {
     "data": {
      "text/html": [
       "<div>\n",
       "<style scoped>\n",
       "    .dataframe tbody tr th:only-of-type {\n",
       "        vertical-align: middle;\n",
       "    }\n",
       "\n",
       "    .dataframe tbody tr th {\n",
       "        vertical-align: top;\n",
       "    }\n",
       "\n",
       "    .dataframe thead th {\n",
       "        text-align: right;\n",
       "    }\n",
       "</style>\n",
       "<table border=\"1\" class=\"dataframe\">\n",
       "  <thead>\n",
       "    <tr style=\"text-align: right;\">\n",
       "      <th></th>\n",
       "      <th>location</th>\n",
       "      <th>raw_date</th>\n",
       "      <th>k</th>\n",
       "      <th>silhouette_mean</th>\n",
       "    </tr>\n",
       "  </thead>\n",
       "  <tbody>\n",
       "    <tr>\n",
       "      <th>0</th>\n",
       "      <td>mar</td>\n",
       "      <td>20190516</td>\n",
       "      <td>2</td>\n",
       "      <td>0.621987</td>\n",
       "    </tr>\n",
       "    <tr>\n",
       "      <th>1</th>\n",
       "      <td>mar</td>\n",
       "      <td>20190516</td>\n",
       "      <td>3</td>\n",
       "      <td>0.535783</td>\n",
       "    </tr>\n",
       "    <tr>\n",
       "      <th>2</th>\n",
       "      <td>mar</td>\n",
       "      <td>20190516</td>\n",
       "      <td>4</td>\n",
       "      <td>0.536069</td>\n",
       "    </tr>\n",
       "    <tr>\n",
       "      <th>3</th>\n",
       "      <td>mar</td>\n",
       "      <td>20190516</td>\n",
       "      <td>5</td>\n",
       "      <td>0.456054</td>\n",
       "    </tr>\n",
       "    <tr>\n",
       "      <th>4</th>\n",
       "      <td>mar</td>\n",
       "      <td>20190516</td>\n",
       "      <td>6</td>\n",
       "      <td>0.455291</td>\n",
       "    </tr>\n",
       "    <tr>\n",
       "      <th>...</th>\n",
       "      <td>...</td>\n",
       "      <td>...</td>\n",
       "      <td>...</td>\n",
       "      <td>...</td>\n",
       "    </tr>\n",
       "    <tr>\n",
       "      <th>190</th>\n",
       "      <td>leo</td>\n",
       "      <td>20180606</td>\n",
       "      <td>10</td>\n",
       "      <td>0.346511</td>\n",
       "    </tr>\n",
       "    <tr>\n",
       "      <th>191</th>\n",
       "      <td>leo</td>\n",
       "      <td>20180606</td>\n",
       "      <td>11</td>\n",
       "      <td>0.343221</td>\n",
       "    </tr>\n",
       "    <tr>\n",
       "      <th>192</th>\n",
       "      <td>leo</td>\n",
       "      <td>20180606</td>\n",
       "      <td>12</td>\n",
       "      <td>0.343956</td>\n",
       "    </tr>\n",
       "    <tr>\n",
       "      <th>193</th>\n",
       "      <td>leo</td>\n",
       "      <td>20180606</td>\n",
       "      <td>13</td>\n",
       "      <td>0.347961</td>\n",
       "    </tr>\n",
       "    <tr>\n",
       "      <th>194</th>\n",
       "      <td>leo</td>\n",
       "      <td>20180606</td>\n",
       "      <td>14</td>\n",
       "      <td>0.337827</td>\n",
       "    </tr>\n",
       "  </tbody>\n",
       "</table>\n",
       "<p>195 rows × 4 columns</p>\n",
       "</div>"
      ],
      "text/plain": [
       "    location  raw_date   k  silhouette_mean\n",
       "0        mar  20190516   2         0.621987\n",
       "1        mar  20190516   3         0.535783\n",
       "2        mar  20190516   4         0.536069\n",
       "3        mar  20190516   5         0.456054\n",
       "4        mar  20190516   6         0.455291\n",
       "..       ...       ...  ..              ...\n",
       "190      leo  20180606  10         0.346511\n",
       "191      leo  20180606  11         0.343221\n",
       "192      leo  20180606  12         0.343956\n",
       "193      leo  20180606  13         0.347961\n",
       "194      leo  20180606  14         0.337827\n",
       "\n",
       "[195 rows x 4 columns]"
      ]
     },
     "execution_count": 6,
     "metadata": {},
     "output_type": "execute_result"
    }
   ],
   "source": [
    "# Run interatively KMeans + SA\n",
    "\n",
    "feature_set=[\"band1\",\"band2\",\"band3\",\"distance\"]\n",
    "sil_df=get_sil_location(P.profiles,\n",
    "                        ks=(2,15), \n",
    "                        feature_set=feature_set,\n",
    "                       random_state=10)\n",
    "sil_df"
   ]
  },
  {
   "cell_type": "code",
   "execution_count": 7,
   "metadata": {},
   "outputs": [
    {
     "data": {
      "text/plain": [
       "{'leo_20180606': 11,\n",
       " 'leo_20180713': 10,\n",
       " 'leo_20180920': 4,\n",
       " 'leo_20190211': 4,\n",
       " 'leo_20190328': 7,\n",
       " 'leo_20190731': 9,\n",
       " 'mar_20180601': 3,\n",
       " 'mar_20180621': 3,\n",
       " 'mar_20180727': 11,\n",
       " 'mar_20180925': 7,\n",
       " 'mar_20181113': 5,\n",
       " 'mar_20181211': 5,\n",
       " 'mar_20190205': 6,\n",
       " 'mar_20190313': 6,\n",
       " 'mar_20190516': 3}"
      ]
     },
     "execution_count": 7,
     "metadata": {},
     "output_type": "execute_result"
    }
   ],
   "source": [
    "opt_k=get_opt_k(sil_df, sigma=0 )\n",
    "opt_k"
   ]
  },
  {
   "cell_type": "code",
   "execution_count": 8,
   "metadata": {},
   "outputs": [
    {
     "data": {
      "application/vnd.jupyter.widget-view+json": {
       "model_id": "59522ec6481f462da50899477ba55ec9",
       "version_major": 2,
       "version_minor": 0
      },
      "text/plain": [
       "  0%|          | 0/2 [00:00<?, ?it/s]"
      ]
     },
     "metadata": {},
     "output_type": "display_data"
    },
    {
     "data": {
      "application/vnd.jupyter.widget-view+json": {
       "model_id": "5a8b89ea39d8452ca3f0119c2cfa8f54",
       "version_major": 2,
       "version_minor": 0
      },
      "text/plain": [
       "  0%|          | 0/9 [00:00<?, ?it/s]"
      ]
     },
     "metadata": {},
     "output_type": "display_data"
    },
    {
     "data": {
      "application/vnd.jupyter.widget-view+json": {
       "model_id": "17639d172a9e44e1946644c9e5156cf1",
       "version_major": 2,
       "version_minor": 0
      },
      "text/plain": [
       "  0%|          | 0/6 [00:00<?, ?it/s]"
      ]
     },
     "metadata": {},
     "output_type": "display_data"
    }
   ],
   "source": [
    "P.kmeans_sa(opt_k,feature_set)"
   ]
  },
  {
   "cell_type": "code",
   "execution_count": 9,
   "metadata": {},
   "outputs": [],
   "source": [
    "water_dict={'leo_20180606':[0,9,10],\n",
    "'leo_20180713':[0,3,4,7],\n",
    "'leo_20180920':[0,2,6,7],\n",
    "'leo_20190211':[0,2,5],\n",
    "'leo_20190328':[2,4,5],\n",
    "'leo_20190731':[0,2,8,6],\n",
    "'mar_20180601':[1,6],\n",
    "'mar_20180621':[4,6],\n",
    "'mar_20180727':[0,5,9,10],\n",
    "'mar_20180925':[0],\n",
    "'mar_20181113':[1],\n",
    "'mar_20181211':[4],\n",
    "'mar_20190205':[],\n",
    "'mar_20190313':[],\n",
    "'mar_20190516':[4,7]}\n",
    "\n",
    "no_sand_dict={'leo_20180606':[5],\n",
    "'leo_20180713':[],\n",
    "'leo_20180920':[],\n",
    "'leo_20190211':[1],\n",
    "'leo_20190328':[],\n",
    "'leo_20190731':[1],\n",
    "'mar_20180601':[4,5],\n",
    "'mar_20180621':[3,5],\n",
    "'mar_20180727':[4,7],\n",
    "'mar_20180925':[1,6],\n",
    "'mar_20181113':[0],\n",
    "'mar_20181211':[0],\n",
    "'mar_20190205':[0,5],\n",
    "'mar_20190313':[4],\n",
    "'mar_20190516':[2,5]}\n",
    "\n",
    "veg_dict={'leo_20180606':[1,3,7,8],\n",
    "'leo_20180713':[1,5,9],\n",
    "'leo_20180920':[1,4,5],\n",
    "'leo_20190211':[4],\n",
    "'leo_20190328':[0,1,6],\n",
    "'leo_20190731':[3,7],\n",
    "'mar_20180601':[0,7],\n",
    "'mar_20180621':[1,7],\n",
    "'mar_20180727':[1,3],\n",
    "'mar_20180925':[4],\n",
    "'mar_20181113':[3],\n",
    "'mar_20181211':[2],\n",
    "'mar_20190205':[3],\n",
    "'mar_20190313':[1,5],\n",
    "'mar_20190516':[0]}\n",
    "\n",
    "sand_dict={'leo_20180606':[2,4,6],\n",
    "'leo_20180713':[2,6,8],\n",
    "'leo_20180920':[3],\n",
    "'leo_20190211':[3],\n",
    "'leo_20190328':[3],\n",
    "'leo_20190731':[4,5],\n",
    "'mar_20180601':[2,3],\n",
    "'mar_20180621':[0,2],\n",
    "'mar_20180727':[2,6,8],\n",
    "'mar_20180925':[2,3,5],\n",
    "'mar_20181113':[2,4],\n",
    "'mar_20181211':[3,1],\n",
    "'mar_20190205':[1,2,4],\n",
    "'mar_20190313':[0,2,3],\n",
    "'mar_20190516':[1,3,6]}\n",
    "\n",
    "\n",
    "l_dicts={'no_sand': no_sand_dict,\n",
    "         'sand': sand_dict,\n",
    "        'water': water_dict,\n",
    "        'veg':veg_dict}"
   ]
  },
  {
   "cell_type": "code",
   "execution_count": 10,
   "metadata": {},
   "outputs": [],
   "source": [
    "label_corrections_path=r\"C:\\my_packages\\sandpyper\\tests\\test_data\\label_corrections.gpkg\"\n",
    "watermasks_path=r\"C:\\my_packages\\sandpyper\\tests\\test_data\\watermasks.gpkg\"\n",
    "shoremasks_path=r\"C:\\my_packages\\sandpyper\\tests\\test_data\\shoremasks.gpkg\""
   ]
  },
  {
   "cell_type": "code",
   "execution_count": 11,
   "metadata": {},
   "outputs": [
    {
     "name": "stdout",
     "output_type": "stream",
     "text": [
      "Reclassifying dataset with the provided dictionaries.\n",
      "<class 'geopandas.geodataframe.GeoDataFrame'>\n",
      "<class 'geopandas.geodataframe.GeoDataFrame'>\n",
      "Label corrections provided in CRS: epsg:32754\n",
      "Fine tuning in leo.\n"
     ]
    },
    {
     "name": "stderr",
     "output_type": "stream",
     "text": [
      "C:\\conda3\\envs\\sandpyper_env\\lib\\site-packages\\geopandas\\geodataframe.py:422: RuntimeWarning: Sequential read of iterator was interrupted. Resetting iterator. This can negatively impact the performance.\n",
      "  for feature in features_lst:\n"
     ]
    },
    {
     "data": {
      "application/vnd.jupyter.widget-view+json": {
       "model_id": "07f0d4c7c1ae46559c11e2d80c1ed1e1",
       "version_major": 2,
       "version_minor": 0
      },
      "text/plain": [
       "  0%|          | 0/6 [00:00<?, ?it/s]"
      ]
     },
     "metadata": {},
     "output_type": "display_data"
    },
    {
     "name": "stdout",
     "output_type": "stream",
     "text": [
      "Fine-tuning label_k 3 to no_sand in leo-20180606, found 127 pts.\n",
      "Fine-tuning label_k 8 to no_sand in leo-20180606, found 73 pts.\n",
      "Fine-tuning label_k 5 to no_sand in leo-20180713, found 56 pts.\n",
      "Fine-tuning label_k 6 to no_sand in leo-20180713, found 7 pts.\n",
      "Fine-tuning label_k 1 to no_sand in leo-20180920, found 89 pts.\n",
      "Fine-tuning label_k 2 to sand in leo-20180920, found 9 pts.\n",
      "Fine-tuning label_k 2 to veg in leo-20180920, found 31 pts.\n",
      "Fine-tuning label_k 6 to sand in leo-20180920, found 17 pts.\n",
      "Fine-tuning label_k 2 to veg in leo-20190211, found 2 pts.\n",
      "Fine-tuning label_k 6 to veg in leo-20190211, found 29 pts.\n",
      "Fine-tuning label_k 6 to no_sand in leo-20190211, found 2 pts.\n",
      "Fine-tuning label_k 6 to veg in leo-20190211, found 6 pts.\n",
      "Fine-tuning label_k 6 to sand in leo-20190211, found 28 pts.\n",
      "Fine-tuning label_k 7 to no_sand in leo-20190211, found 41 pts.\n",
      "Fine-tuning label_k 0 to sand in leo-20190328, found 6 pts.\n",
      "Fine-tuning label_k 0 to no_sand in leo-20190328, found 52 pts.\n",
      "Fine-tuning label_k 1 to sand in leo-20190328, found 21 pts.\n",
      "Fine-tuning label_k 1 to no_sand in leo-20190328, found 2 pts.\n",
      "Fine-tuning label_k 2 to sand in leo-20190328, found 16 pts.\n",
      "Fine-tuning label_k 4 to sand in leo-20190328, found 25 pts.\n",
      "Fine-tuning label_k 5 to veg in leo-20190328, found 3 pts.\n",
      "Fine-tuning label_k 1 to sand in leo-20190731, found 5 pts.\n",
      "Fine-tuning label_k 3 to no_sand in leo-20190731, found 11 pts.\n",
      "Fine-tuning label_k 7 to no_sand in leo-20190731, found 72 pts.\n",
      "Fine-tuning label_k 6 to sand in leo-20190731, found 25 pts.\n",
      "Fine-tuning label_k 6 to veg in leo-20190731, found 42 pts.\n",
      "Fine tuning in mar.\n"
     ]
    },
    {
     "data": {
      "application/vnd.jupyter.widget-view+json": {
       "model_id": "d624a9dd43d04d06b55e60ec01bb8bfd",
       "version_major": 2,
       "version_minor": 0
      },
      "text/plain": [
       "  0%|          | 0/6 [00:00<?, ?it/s]"
      ]
     },
     "metadata": {},
     "output_type": "display_data"
    },
    {
     "name": "stdout",
     "output_type": "stream",
     "text": [
      "Fine-tuning label_k 3 to water in mar-20180601, found 163 pts.\n",
      "Fine-tuning label_k 7 to no_sand in mar-20180601, found 15 pts.\n",
      "Fine-tuning label_k 7 to sand in mar-20180601, found 53 pts.\n",
      "Fine-tuning label_k 1 to sand in mar-20180621, found 48 pts.\n",
      "Fine-tuning label_k 3 to sand in mar-20180621, found 42 pts.\n",
      "Fine-tuning label_k 2 to water in mar-20180727, found 98 pts.\n",
      "Fine-tuning label_k 4 to sand in mar-20180727, found 29 pts.\n",
      "Fine-tuning label_k 2 to no_sand in mar-20181211, found 45 pts.\n",
      "Fine-tuning label_k 1 to water in mar-20181211, found 149 pts.\n",
      "Fine-tuning label_k 2 to water in mar-20190205, found 304 pts.\n",
      "Fine-tuning label_k 3 to no_sand in mar-20190205, found 23 pts.\n",
      "Fine-tuning label_k 2 to water in mar-20190313, found 100 pts.\n",
      "Fine-tuning label_k 5 to no_sand in mar-20190313, found 77 pts.\n",
      "<class 'geopandas.geodataframe.GeoDataFrame'>\n",
      "watermask  provided in CRS: epsg:32754\n",
      "Applying watermasks cleaning.\n",
      "Watermasking in mar.\n"
     ]
    },
    {
     "name": "stderr",
     "output_type": "stream",
     "text": [
      "C:\\conda3\\envs\\sandpyper_env\\lib\\site-packages\\geopandas\\geodataframe.py:422: RuntimeWarning: Sequential read of iterator was interrupted. Resetting iterator. This can negatively impact the performance.\n",
      "  for feature in features_lst:\n"
     ]
    },
    {
     "data": {
      "application/vnd.jupyter.widget-view+json": {
       "model_id": "d0839e8486d04d748c5d40ab2983ccaf",
       "version_major": 2,
       "version_minor": 0
      },
      "text/plain": [
       "  0%|          | 0/9 [00:00<?, ?it/s]"
      ]
     },
     "metadata": {},
     "output_type": "display_data"
    },
    {
     "name": "stderr",
     "output_type": "stream",
     "text": [
      "C:\\conda3\\envs\\sandpyper_env\\lib\\site-packages\\geopandas\\base.py:39: UserWarning: The indices of the two GeoSeries are different.\n",
      "  warn(\"The indices of the two GeoSeries are different.\")\n",
      "C:\\conda3\\envs\\sandpyper_env\\lib\\site-packages\\geopandas\\geodataframe.py:828: UserWarning: Boolean Series key will be reindexed to match DataFrame index.\n",
      "  result = super(GeoDataFrame, self).__getitem__(key)\n",
      "C:\\conda3\\envs\\sandpyper_env\\lib\\site-packages\\pyproj\\crs\\crs.py:53: FutureWarning: '+init=<authority>:<code>' syntax is deprecated. '<authority>:<code>' is the preferred initialization method. When making the change, be mindful of axis order changes: https://pyproj4.github.io/pyproj/stable/gotchas.html#axis-order-changes-in-proj-6\n",
      "  return _prepare_from_string(\" \".join(pjargs))\n"
     ]
    },
    {
     "name": "stdout",
     "output_type": "stream",
     "text": [
      "Setting to water 750 pts overlapping provided watermasks.\n"
     ]
    },
    {
     "name": "stderr",
     "output_type": "stream",
     "text": [
      "C:\\conda3\\envs\\sandpyper_env\\lib\\site-packages\\geopandas\\base.py:39: UserWarning: The indices of the two GeoSeries are different.\n",
      "  warn(\"The indices of the two GeoSeries are different.\")\n",
      "C:\\conda3\\envs\\sandpyper_env\\lib\\site-packages\\geopandas\\geodataframe.py:828: UserWarning: Boolean Series key will be reindexed to match DataFrame index.\n",
      "  result = super(GeoDataFrame, self).__getitem__(key)\n",
      "C:\\conda3\\envs\\sandpyper_env\\lib\\site-packages\\pyproj\\crs\\crs.py:53: FutureWarning: '+init=<authority>:<code>' syntax is deprecated. '<authority>:<code>' is the preferred initialization method. When making the change, be mindful of axis order changes: https://pyproj4.github.io/pyproj/stable/gotchas.html#axis-order-changes-in-proj-6\n",
      "  return _prepare_from_string(\" \".join(pjargs))\n"
     ]
    },
    {
     "name": "stdout",
     "output_type": "stream",
     "text": [
      "Setting to water 532 pts overlapping provided watermasks.\n"
     ]
    },
    {
     "name": "stderr",
     "output_type": "stream",
     "text": [
      "C:\\conda3\\envs\\sandpyper_env\\lib\\site-packages\\geopandas\\base.py:39: UserWarning: The indices of the two GeoSeries are different.\n",
      "  warn(\"The indices of the two GeoSeries are different.\")\n",
      "C:\\conda3\\envs\\sandpyper_env\\lib\\site-packages\\geopandas\\geodataframe.py:828: UserWarning: Boolean Series key will be reindexed to match DataFrame index.\n",
      "  result = super(GeoDataFrame, self).__getitem__(key)\n",
      "C:\\conda3\\envs\\sandpyper_env\\lib\\site-packages\\pyproj\\crs\\crs.py:53: FutureWarning: '+init=<authority>:<code>' syntax is deprecated. '<authority>:<code>' is the preferred initialization method. When making the change, be mindful of axis order changes: https://pyproj4.github.io/pyproj/stable/gotchas.html#axis-order-changes-in-proj-6\n",
      "  return _prepare_from_string(\" \".join(pjargs))\n"
     ]
    },
    {
     "name": "stdout",
     "output_type": "stream",
     "text": [
      "Setting to water 710 pts overlapping provided watermasks.\n"
     ]
    },
    {
     "name": "stderr",
     "output_type": "stream",
     "text": [
      "C:\\conda3\\envs\\sandpyper_env\\lib\\site-packages\\geopandas\\base.py:39: UserWarning: The indices of the two GeoSeries are different.\n",
      "  warn(\"The indices of the two GeoSeries are different.\")\n"
     ]
    },
    {
     "name": "stdout",
     "output_type": "stream",
     "text": [
      "Setting to water 532 pts overlapping provided watermasks."
     ]
    },
    {
     "name": "stderr",
     "output_type": "stream",
     "text": [
      "C:\\conda3\\envs\\sandpyper_env\\lib\\site-packages\\geopandas\\geodataframe.py:828: UserWarning: Boolean Series key will be reindexed to match DataFrame index.\n",
      "  result = super(GeoDataFrame, self).__getitem__(key)\n",
      "C:\\conda3\\envs\\sandpyper_env\\lib\\site-packages\\pyproj\\crs\\crs.py:53: FutureWarning: '+init=<authority>:<code>' syntax is deprecated. '<authority>:<code>' is the preferred initialization method. When making the change, be mindful of axis order changes: https://pyproj4.github.io/pyproj/stable/gotchas.html#axis-order-changes-in-proj-6\n",
      "  return _prepare_from_string(\" \".join(pjargs))\n",
      "C:\\conda3\\envs\\sandpyper_env\\lib\\site-packages\\geopandas\\base.py:39: UserWarning: The indices of the two GeoSeries are different.\n",
      "  warn(\"The indices of the two GeoSeries are different.\")\n",
      "C:\\conda3\\envs\\sandpyper_env\\lib\\site-packages\\geopandas\\geodataframe.py:828: UserWarning: Boolean Series key will be reindexed to match DataFrame index.\n",
      "  result = super(GeoDataFrame, self).__getitem__(key)\n",
      "C:\\conda3\\envs\\sandpyper_env\\lib\\site-packages\\pyproj\\crs\\crs.py:53: FutureWarning: '+init=<authority>:<code>' syntax is deprecated. '<authority>:<code>' is the preferred initialization method. When making the change, be mindful of axis order changes: https://pyproj4.github.io/pyproj/stable/gotchas.html#axis-order-changes-in-proj-6\n",
      "  return _prepare_from_string(\" \".join(pjargs))\n"
     ]
    },
    {
     "name": "stdout",
     "output_type": "stream",
     "text": [
      "\n",
      "Setting to water 599 pts overlapping provided watermasks.\n"
     ]
    },
    {
     "name": "stderr",
     "output_type": "stream",
     "text": [
      "C:\\conda3\\envs\\sandpyper_env\\lib\\site-packages\\geopandas\\base.py:39: UserWarning: The indices of the two GeoSeries are different.\n",
      "  warn(\"The indices of the two GeoSeries are different.\")\n",
      "C:\\conda3\\envs\\sandpyper_env\\lib\\site-packages\\geopandas\\geodataframe.py:828: UserWarning: Boolean Series key will be reindexed to match DataFrame index.\n",
      "  result = super(GeoDataFrame, self).__getitem__(key)\n",
      "C:\\conda3\\envs\\sandpyper_env\\lib\\site-packages\\pyproj\\crs\\crs.py:53: FutureWarning: '+init=<authority>:<code>' syntax is deprecated. '<authority>:<code>' is the preferred initialization method. When making the change, be mindful of axis order changes: https://pyproj4.github.io/pyproj/stable/gotchas.html#axis-order-changes-in-proj-6\n",
      "  return _prepare_from_string(\" \".join(pjargs))\n",
      "C:\\conda3\\envs\\sandpyper_env\\lib\\site-packages\\geopandas\\base.py:39: UserWarning: The indices of the two GeoSeries are different.\n",
      "  warn(\"The indices of the two GeoSeries are different.\")\n",
      "C:\\conda3\\envs\\sandpyper_env\\lib\\site-packages\\geopandas\\geodataframe.py:828: UserWarning: Boolean Series key will be reindexed to match DataFrame index.\n",
      "  result = super(GeoDataFrame, self).__getitem__(key)\n",
      "C:\\conda3\\envs\\sandpyper_env\\lib\\site-packages\\pyproj\\crs\\crs.py:53: FutureWarning: '+init=<authority>:<code>' syntax is deprecated. '<authority>:<code>' is the preferred initialization method. When making the change, be mindful of axis order changes: https://pyproj4.github.io/pyproj/stable/gotchas.html#axis-order-changes-in-proj-6\n",
      "  return _prepare_from_string(\" \".join(pjargs))\n",
      "C:\\conda3\\envs\\sandpyper_env\\lib\\site-packages\\geopandas\\base.py:39: UserWarning: The indices of the two GeoSeries are different.\n",
      "  warn(\"The indices of the two GeoSeries are different.\")\n"
     ]
    },
    {
     "name": "stdout",
     "output_type": "stream",
     "text": [
      "Setting to water 557 pts overlapping provided watermasks.\n",
      "Setting to water 339 pts overlapping provided watermasks.\n"
     ]
    },
    {
     "name": "stderr",
     "output_type": "stream",
     "text": [
      "C:\\conda3\\envs\\sandpyper_env\\lib\\site-packages\\geopandas\\geodataframe.py:828: UserWarning: Boolean Series key will be reindexed to match DataFrame index.\n",
      "  result = super(GeoDataFrame, self).__getitem__(key)\n",
      "C:\\conda3\\envs\\sandpyper_env\\lib\\site-packages\\pyproj\\crs\\crs.py:53: FutureWarning: '+init=<authority>:<code>' syntax is deprecated. '<authority>:<code>' is the preferred initialization method. When making the change, be mindful of axis order changes: https://pyproj4.github.io/pyproj/stable/gotchas.html#axis-order-changes-in-proj-6\n",
      "  return _prepare_from_string(\" \".join(pjargs))\n",
      "C:\\conda3\\envs\\sandpyper_env\\lib\\site-packages\\geopandas\\base.py:39: UserWarning: The indices of the two GeoSeries are different.\n",
      "  warn(\"The indices of the two GeoSeries are different.\")\n",
      "C:\\conda3\\envs\\sandpyper_env\\lib\\site-packages\\geopandas\\geodataframe.py:828: UserWarning: Boolean Series key will be reindexed to match DataFrame index.\n",
      "  result = super(GeoDataFrame, self).__getitem__(key)\n",
      "C:\\conda3\\envs\\sandpyper_env\\lib\\site-packages\\pyproj\\crs\\crs.py:53: FutureWarning: '+init=<authority>:<code>' syntax is deprecated. '<authority>:<code>' is the preferred initialization method. When making the change, be mindful of axis order changes: https://pyproj4.github.io/pyproj/stable/gotchas.html#axis-order-changes-in-proj-6\n",
      "  return _prepare_from_string(\" \".join(pjargs))\n"
     ]
    },
    {
     "name": "stdout",
     "output_type": "stream",
     "text": [
      "Setting to water 133 pts overlapping provided watermasks.\n",
      "Setting to water 441 pts overlapping provided watermasks.\n",
      "Watermasking in leo.\n"
     ]
    },
    {
     "data": {
      "application/vnd.jupyter.widget-view+json": {
       "model_id": "db446b57c6b240bd80756c195934805e",
       "version_major": 2,
       "version_minor": 0
      },
      "text/plain": [
       "  0%|          | 0/6 [00:00<?, ?it/s]"
      ]
     },
     "metadata": {},
     "output_type": "display_data"
    },
    {
     "name": "stderr",
     "output_type": "stream",
     "text": [
      "C:\\conda3\\envs\\sandpyper_env\\lib\\site-packages\\geopandas\\base.py:39: UserWarning: The indices of the two GeoSeries are different.\n",
      "  warn(\"The indices of the two GeoSeries are different.\")\n",
      "C:\\conda3\\envs\\sandpyper_env\\lib\\site-packages\\pyproj\\crs\\crs.py:53: FutureWarning: '+init=<authority>:<code>' syntax is deprecated. '<authority>:<code>' is the preferred initialization method. When making the change, be mindful of axis order changes: https://pyproj4.github.io/pyproj/stable/gotchas.html#axis-order-changes-in-proj-6\n",
      "  return _prepare_from_string(\" \".join(pjargs))\n"
     ]
    },
    {
     "name": "stdout",
     "output_type": "stream",
     "text": [
      "Setting to water 652 pts overlapping provided watermasks.\n"
     ]
    },
    {
     "name": "stderr",
     "output_type": "stream",
     "text": [
      "C:\\conda3\\envs\\sandpyper_env\\lib\\site-packages\\geopandas\\base.py:39: UserWarning: The indices of the two GeoSeries are different.\n",
      "  warn(\"The indices of the two GeoSeries are different.\")\n",
      "C:\\conda3\\envs\\sandpyper_env\\lib\\site-packages\\geopandas\\geodataframe.py:828: UserWarning: Boolean Series key will be reindexed to match DataFrame index.\n",
      "  result = super(GeoDataFrame, self).__getitem__(key)\n",
      "C:\\conda3\\envs\\sandpyper_env\\lib\\site-packages\\pyproj\\crs\\crs.py:53: FutureWarning: '+init=<authority>:<code>' syntax is deprecated. '<authority>:<code>' is the preferred initialization method. When making the change, be mindful of axis order changes: https://pyproj4.github.io/pyproj/stable/gotchas.html#axis-order-changes-in-proj-6\n",
      "  return _prepare_from_string(\" \".join(pjargs))\n"
     ]
    },
    {
     "name": "stdout",
     "output_type": "stream",
     "text": [
      "Setting to water 555 pts overlapping provided watermasks.\n"
     ]
    },
    {
     "name": "stderr",
     "output_type": "stream",
     "text": [
      "C:\\conda3\\envs\\sandpyper_env\\lib\\site-packages\\geopandas\\base.py:39: UserWarning: The indices of the two GeoSeries are different.\n",
      "  warn(\"The indices of the two GeoSeries are different.\")\n",
      "C:\\conda3\\envs\\sandpyper_env\\lib\\site-packages\\geopandas\\geodataframe.py:828: UserWarning: Boolean Series key will be reindexed to match DataFrame index.\n",
      "  result = super(GeoDataFrame, self).__getitem__(key)\n",
      "C:\\conda3\\envs\\sandpyper_env\\lib\\site-packages\\pyproj\\crs\\crs.py:53: FutureWarning: '+init=<authority>:<code>' syntax is deprecated. '<authority>:<code>' is the preferred initialization method. When making the change, be mindful of axis order changes: https://pyproj4.github.io/pyproj/stable/gotchas.html#axis-order-changes-in-proj-6\n",
      "  return _prepare_from_string(\" \".join(pjargs))\n"
     ]
    },
    {
     "name": "stdout",
     "output_type": "stream",
     "text": [
      "Setting to water 638 pts overlapping provided watermasks.\n"
     ]
    },
    {
     "name": "stderr",
     "output_type": "stream",
     "text": [
      "C:\\conda3\\envs\\sandpyper_env\\lib\\site-packages\\geopandas\\base.py:39: UserWarning: The indices of the two GeoSeries are different.\n",
      "  warn(\"The indices of the two GeoSeries are different.\")\n",
      "C:\\conda3\\envs\\sandpyper_env\\lib\\site-packages\\geopandas\\geodataframe.py:828: UserWarning: Boolean Series key will be reindexed to match DataFrame index.\n",
      "  result = super(GeoDataFrame, self).__getitem__(key)\n",
      "C:\\conda3\\envs\\sandpyper_env\\lib\\site-packages\\pyproj\\crs\\crs.py:53: FutureWarning: '+init=<authority>:<code>' syntax is deprecated. '<authority>:<code>' is the preferred initialization method. When making the change, be mindful of axis order changes: https://pyproj4.github.io/pyproj/stable/gotchas.html#axis-order-changes-in-proj-6\n",
      "  return _prepare_from_string(\" \".join(pjargs))\n"
     ]
    },
    {
     "name": "stdout",
     "output_type": "stream",
     "text": [
      "Setting to water 627 pts overlapping provided watermasks.\n"
     ]
    },
    {
     "name": "stderr",
     "output_type": "stream",
     "text": [
      "C:\\conda3\\envs\\sandpyper_env\\lib\\site-packages\\geopandas\\base.py:39: UserWarning: The indices of the two GeoSeries are different.\n",
      "  warn(\"The indices of the two GeoSeries are different.\")\n",
      "C:\\conda3\\envs\\sandpyper_env\\lib\\site-packages\\geopandas\\geodataframe.py:828: UserWarning: Boolean Series key will be reindexed to match DataFrame index.\n",
      "  result = super(GeoDataFrame, self).__getitem__(key)\n",
      "C:\\conda3\\envs\\sandpyper_env\\lib\\site-packages\\pyproj\\crs\\crs.py:53: FutureWarning: '+init=<authority>:<code>' syntax is deprecated. '<authority>:<code>' is the preferred initialization method. When making the change, be mindful of axis order changes: https://pyproj4.github.io/pyproj/stable/gotchas.html#axis-order-changes-in-proj-6\n",
      "  return _prepare_from_string(\" \".join(pjargs))\n"
     ]
    },
    {
     "name": "stdout",
     "output_type": "stream",
     "text": [
      "Setting to water 583 pts overlapping provided watermasks.\n"
     ]
    },
    {
     "name": "stderr",
     "output_type": "stream",
     "text": [
      "C:\\conda3\\envs\\sandpyper_env\\lib\\site-packages\\geopandas\\base.py:39: UserWarning: The indices of the two GeoSeries are different.\n",
      "  warn(\"The indices of the two GeoSeries are different.\")\n",
      "C:\\conda3\\envs\\sandpyper_env\\lib\\site-packages\\geopandas\\geodataframe.py:828: UserWarning: Boolean Series key will be reindexed to match DataFrame index.\n",
      "  result = super(GeoDataFrame, self).__getitem__(key)\n",
      "C:\\conda3\\envs\\sandpyper_env\\lib\\site-packages\\pyproj\\crs\\crs.py:53: FutureWarning: '+init=<authority>:<code>' syntax is deprecated. '<authority>:<code>' is the preferred initialization method. When making the change, be mindful of axis order changes: https://pyproj4.github.io/pyproj/stable/gotchas.html#axis-order-changes-in-proj-6\n",
      "  return _prepare_from_string(\" \".join(pjargs))\n",
      "C:\\conda3\\envs\\sandpyper_env\\lib\\site-packages\\geopandas\\geodataframe.py:422: RuntimeWarning: Sequential read of iterator was interrupted. Resetting iterator. This can negatively impact the performance.\n",
      "  for feature in features_lst:\n",
      "C:\\conda3\\envs\\sandpyper_env\\lib\\site-packages\\geopandas\\base.py:39: UserWarning: The indices of the two GeoSeries are different.\n",
      "  warn(\"The indices of the two GeoSeries are different.\")\n"
     ]
    },
    {
     "name": "stdout",
     "output_type": "stream",
     "text": [
      "Setting to water 643 pts overlapping provided watermasks.\n",
      "shoremask  provided in CRS: epsg:32754\n",
      "Applying shoremasks cleaning.\n",
      "Shoremasking in mar.\n"
     ]
    },
    {
     "name": "stderr",
     "output_type": "stream",
     "text": [
      "C:\\conda3\\envs\\sandpyper_env\\lib\\site-packages\\geopandas\\geodataframe.py:828: UserWarning: Boolean Series key will be reindexed to match DataFrame index.\n",
      "  result = super(GeoDataFrame, self).__getitem__(key)\n",
      "C:\\conda3\\envs\\sandpyper_env\\lib\\site-packages\\pyproj\\crs\\crs.py:53: FutureWarning: '+init=<authority>:<code>' syntax is deprecated. '<authority>:<code>' is the preferred initialization method. When making the change, be mindful of axis order changes: https://pyproj4.github.io/pyproj/stable/gotchas.html#axis-order-changes-in-proj-6\n",
      "  return _prepare_from_string(\" \".join(pjargs))\n"
     ]
    },
    {
     "name": "stdout",
     "output_type": "stream",
     "text": [
      "Removing 3621 pts falling outside provided shore polygones.\n",
      "Shoremasking in leo.\n"
     ]
    },
    {
     "name": "stderr",
     "output_type": "stream",
     "text": [
      "C:\\conda3\\envs\\sandpyper_env\\lib\\site-packages\\geopandas\\base.py:39: UserWarning: The indices of the two GeoSeries are different.\n",
      "  warn(\"The indices of the two GeoSeries are different.\")\n",
      "C:\\conda3\\envs\\sandpyper_env\\lib\\site-packages\\pyproj\\crs\\crs.py:53: FutureWarning: '+init=<authority>:<code>' syntax is deprecated. '<authority>:<code>' is the preferred initialization method. When making the change, be mindful of axis order changes: https://pyproj4.github.io/pyproj/stable/gotchas.html#axis-order-changes-in-proj-6\n",
      "  return _prepare_from_string(\" \".join(pjargs))\n"
     ]
    },
    {
     "name": "stdout",
     "output_type": "stream",
     "text": [
      "Removing 2358 pts falling outside provided shore polygones.\n",
      "['polygon finetuning', 'watermasking', 'shoremasking'] completed.\n"
     ]
    }
   ],
   "source": [
    "P.cleanit(l_dicts=l_dicts,\n",
    "          watermasks_path=watermasks_path,\n",
    "          shoremasks_path=shoremasks_path,\n",
    "          label_corrections_path=label_corrections_path)"
   ]
  },
  {
   "cell_type": "markdown",
   "metadata": {},
   "source": [
    "### ProfileDynamics"
   ]
  },
  {
   "cell_type": "code",
   "execution_count": 12,
   "metadata": {},
   "outputs": [
    {
     "name": "stdout",
     "output_type": "stream",
     "text": [
      "Data will be partitioned into 5 discrete classes.\n",
      "Labels provided.\n",
      "working on leo\n"
     ]
    },
    {
     "data": {
      "application/vnd.jupyter.widget-view+json": {
       "model_id": "5c251782c4d1490484e2e389525bff46",
       "version_major": 2,
       "version_minor": 0
      },
      "text/plain": [
       "  0%|          | 0/6 [00:00<?, ?it/s]"
      ]
     },
     "metadata": {},
     "output_type": "display_data"
    },
    {
     "name": "stdout",
     "output_type": "stream",
     "text": [
      "Calculating dt0, from 20180606 to 20180713 in leo.\n",
      "Calculating dt1, from 20180713 to 20180920 in leo.\n",
      "Calculating dt2, from 20180920 to 20190211 in leo.\n",
      "Calculating dt3, from 20190211 to 20190328 in leo.\n",
      "Calculating dt4, from 20190328 to 20190731 in leo.\n",
      "working on mar\n"
     ]
    },
    {
     "data": {
      "application/vnd.jupyter.widget-view+json": {
       "model_id": "43cd7970d5874f0b9d03dc69e5d195e3",
       "version_major": 2,
       "version_minor": 0
      },
      "text/plain": [
       "  0%|          | 0/9 [00:00<?, ?it/s]"
      ]
     },
     "metadata": {},
     "output_type": "display_data"
    },
    {
     "name": "stdout",
     "output_type": "stream",
     "text": [
      "Calculating dt0, from 20180601 to 20180621 in mar.\n",
      "Calculating dt1, from 20180621 to 20180727 in mar.\n",
      "Calculating dt2, from 20180727 to 20180925 in mar.\n",
      "Calculating dt3, from 20180925 to 20181113 in mar.\n",
      "Calculating dt4, from 20181113 to 20181211 in mar.\n",
      "Calculating dt5, from 20181211 to 20190205 in mar.\n",
      "Calculating dt6, from 20190205 to 20190313 in mar.\n",
      "Calculating dt7, from 20190313 to 20190516 in mar.\n",
      "done\n",
      "working on mar\n"
     ]
    },
    {
     "data": {
      "application/vnd.jupyter.widget-view+json": {
       "model_id": "54b2979a533d461a95419f97031a7c22",
       "version_major": 2,
       "version_minor": 0
      },
      "text/plain": [
       "  0%|          | 0/9 [00:00<?, ?it/s]"
      ]
     },
     "metadata": {},
     "output_type": "display_data"
    },
    {
     "name": "stdout",
     "output_type": "stream",
     "text": [
      "Calculating dt0, from 20180601 to 20180621 in mar.\n",
      "Calculating dt1, from 20180621 to 20180727 in mar.\n",
      "Calculating dt2, from 20180727 to 20180925 in mar.\n",
      "Calculating dt3, from 20180925 to 20181113 in mar.\n",
      "Calculating dt4, from 20181113 to 20181211 in mar.\n",
      "Calculating dt5, from 20181211 to 20190205 in mar.\n",
      "Calculating dt6, from 20190205 to 20190313 in mar.\n",
      "Calculating dt7, from 20190313 to 20190516 in mar.\n",
      "working on leo\n"
     ]
    },
    {
     "data": {
      "application/vnd.jupyter.widget-view+json": {
       "model_id": "6a5eb8c8d8cb4cddbc78ad5e437b8d2d",
       "version_major": 2,
       "version_minor": 0
      },
      "text/plain": [
       "  0%|          | 0/6 [00:00<?, ?it/s]"
      ]
     },
     "metadata": {},
     "output_type": "display_data"
    },
    {
     "name": "stdout",
     "output_type": "stream",
     "text": [
      "Calculating dt0, from 20180606 to 20180713 in leo.\n",
      "Calculating dt1, from 20180713 to 20180920 in leo.\n",
      "Calculating dt2, from 20180920 to 20190211 in leo.\n",
      "Calculating dt3, from 20190211 to 20190328 in leo.\n",
      "Calculating dt4, from 20190328 to 20190731 in leo.\n",
      "done\n"
     ]
    },
    {
     "data": {
      "application/vnd.jupyter.widget-view+json": {
       "model_id": "f042b83519ef4000bf32e8174ca992b7",
       "version_major": 2,
       "version_minor": 0
      },
      "text/plain": [
       "  0%|          | 0/2 [00:00<?, ?it/s]"
      ]
     },
     "metadata": {},
     "output_type": "display_data"
    },
    {
     "name": "stdout",
     "output_type": "stream",
     "text": [
      "Working on mar\n"
     ]
    },
    {
     "data": {
      "application/vnd.jupyter.widget-view+json": {
       "model_id": "0a906e0973194ea0a757de1e9f9c3acf",
       "version_major": 2,
       "version_minor": 0
      },
      "text/plain": [
       "  0%|          | 0/8 [00:00<?, ?it/s]"
      ]
     },
     "metadata": {},
     "output_type": "display_data"
    },
    {
     "name": "stdout",
     "output_type": "stream",
     "text": [
      "Working on leo\n"
     ]
    },
    {
     "data": {
      "application/vnd.jupyter.widget-view+json": {
       "model_id": "58378901d3fc43d6a048572216556d8e",
       "version_major": 2,
       "version_minor": 0
      },
      "text/plain": [
       "  0%|          | 0/5 [00:00<?, ?it/s]"
      ]
     },
     "metadata": {},
     "output_type": "display_data"
    },
    {
     "name": "stdout",
     "output_type": "stream",
     "text": [
      "              JenksCaspall              \n",
      " \n",
      "Lower          Upper               Count\n",
      "========================================\n",
      "        x[i] <= 0.124               5223\n",
      "0.124 < x[i] <= 0.279               4137\n",
      "0.279 < x[i] <= 0.502               2937\n",
      "0.502 < x[i] <= 0.841               1783\n",
      "0.841 < x[i] <= 3.490                720\n",
      "\n",
      "Fit of JenksCaspall with 5 bins: 806.6385612705199\n"
     ]
    }
   ],
   "source": [
    "labels=[\"Undefined\", \"Small\", \"Medium\", \"High\", \"Extreme\"]\n",
    "appendix=[\"_deposition\", \"_erosion\"]\n",
    "\n",
    "\n",
    "D = ProfileDynamics(P, bins=5, method=\"JenksCaspall\", labels=labels)\n",
    "\n",
    "D.compute_multitemporal(loc_full={'mar': 'Marengo',\n",
    "         'leo': 'St. Leonards'})\n",
    "\n",
    "D.LISA_site_level(mode=\"distance\", distance_value=35)\n",
    "\n",
    "D.discretise(absolute=True, print_summary=True)\n",
    "\n",
    "D.infer_weights()\n",
    "\n",
    "D.BCD_compute_location(\"geometry\",\"all\",True)"
   ]
  },
  {
   "cell_type": "code",
   "execution_count": 13,
   "metadata": {},
   "outputs": [
    {
     "data": {
      "image/png": "[encoded data removed]",
      "text/plain": [
       "<Figure size 432x288 with 8 Axes>"
      ]
     },
     "metadata": {
      "needs_background": "light"
     },
     "output_type": "display_data"
    },
    {
     "data": {
      "image/png": "[encoded data removed]",
      "text/plain": [
       "<Figure size 432x288 with 8 Axes>"
      ]
     },
     "metadata": {
      "needs_background": "light"
     },
     "output_type": "display_data"
    }
   ],
   "source": [
    "relabel_dict={\"Undefined_erosion\":\"ue\",\n",
    "\"Small_erosion\":\"se\",\n",
    "\"Medium_erosion\":\"me\",\n",
    "\"High_erosion\":\"he\",\n",
    "\"Extreme_erosion\":\"ee\",\n",
    " \"Undefined_deposition\":\"ud\",\n",
    " \"Small_deposition\":\"sd\",\n",
    " \"Medium_deposition\":\"md\",\n",
    " \"High_deposition\":\"hd\",\n",
    " \"Extreme_deposition\":\"ed\"\n",
    "}\n",
    "\n",
    "D.plot_trans_matrices(relabel_dict)"
   ]
  },
  {
   "cell_type": "code",
   "execution_count": 14,
   "metadata": {},
   "outputs": [],
   "source": [
    "D.BCD_compute_location(unique_field='geometry',mode='all', store_neg=True)"
   ]
  },
  {
   "cell_type": "code",
   "execution_count": 15,
   "metadata": {},
   "outputs": [],
   "source": [
    "D.compute_volumetrics(lod=D.lod_df)"
   ]
  },
  {
   "cell_type": "code",
   "execution_count": 16,
   "metadata": {},
   "outputs": [],
   "source": [
    "loc_subset=[\"mar\"] # the function is optimised for single-location plots, but you can also pass a list of location codes\n",
    "colors_dict={\"mar\":'r',        # if you use multiple locations, then dictionary key is the location code and value the color\n",
    "            \"leo\":'b'}"
   ]
  },
  {
   "cell_type": "code",
   "execution_count": 17,
   "metadata": {},
   "outputs": [
    {
     "data": {
      "image/png": "[encoded data removed]",
      "text/plain": [
       "<Figure size 720x360 with 1 Axes>"
      ]
     },
     "metadata": {
      "needs_background": "light"
     },
     "output_type": "display_data"
    },
    {
     "data": {
      "image/png": "[encoded data removed]",
      "text/plain": [
       "<Figure size 720x360 with 1 Axes>"
      ]
     },
     "metadata": {
      "needs_background": "light"
     },
     "output_type": "display_data"
    }
   ],
   "source": [
    "D.plot_transects(location='mar', tr_id=10, dt=['dt_0','dt_2'])"
   ]
  },
  {
   "cell_type": "code",
   "execution_count": 18,
   "metadata": {},
   "outputs": [
    {
     "data": {
      "image/png": "[encoded data removed]",
      "text/plain": [
       "<Figure size 720x360 with 2 Axes>"
      ]
     },
     "metadata": {
      "needs_background": "light"
     },
     "output_type": "display_data"
    }
   ],
   "source": [
    "D.plot_transect_mecs(location='leo',tr_id=28)"
   ]
  },
  {
   "cell_type": "code",
   "execution_count": 19,
   "metadata": {},
   "outputs": [
    {
     "name": "stderr",
     "output_type": "stream",
     "text": [
      "*c* argument looks like a single numeric RGB or RGBA sequence, which should be avoided as value-mapping will have precedence in case its length matches with *x* & *y*.  Please use the *color* keyword-argument or provide a 2-D array with a single row if you intend to specify the same RGB or RGBA value for all points.\n"
     ]
    },
    {
     "data": {
      "image/png": "[encoded data removed]",
      "text/plain": [
       "<Figure size 612x288 with 1 Axes>"
      ]
     },
     "metadata": {
      "needs_background": "light"
     },
     "output_type": "display_data"
    }
   ],
   "source": [
    "D.plot_single_loc([\"mar\"],None)"
   ]
  },
  {
   "cell_type": "code",
   "execution_count": 20,
   "metadata": {},
   "outputs": [
    {
     "name": "stdout",
     "output_type": "stream",
     "text": [
      "Working on mar at dt_0\n"
     ]
    },
    {
     "data": {
      "image/png": "[encoded data removed]",
      "text/plain": [
       "<Figure size 525.6x216 with 2 Axes>"
      ]
     },
     "metadata": {
      "needs_background": "light"
     },
     "output_type": "display_data"
    },
    {
     "name": "stdout",
     "output_type": "stream",
     "text": [
      "Working on mar at dt_3\n"
     ]
    },
    {
     "data": {
      "image/png": "[encoded data removed]",
      "text/plain": [
       "<Figure size 525.6x216 with 2 Axes>"
      ]
     },
     "metadata": {
      "needs_background": "light"
     },
     "output_type": "display_data"
    }
   ],
   "source": [
    "mode=\"subset\" # if 'subset', only the provided location_subset and dt_subset will be plotted. If 'all', plot all.\n",
    "location_subset=['mar'] # provide a list of location codes. Only these locations will be plotted\n",
    "y_heat_bottom_limit=9 # bottom limit of the heatmaps (altimetric change)\n",
    "ax2_y_lims=[-1.5,1.5] # axis limit of the alongshore volumetric plot\n",
    "dt_subset=[\"dt_0\",\"dt_3\"]\n",
    "\n",
    "D.plot_alongshore_change(mode=mode, lod=0.05,dt_subset=dt_subset,\n",
    "                        location_subset=location_subset,\n",
    "                        y_heat_bottom_limit=y_heat_bottom_limit,\n",
    "                        ax2_y_lims=ax2_y_lims)"
   ]
  },
  {
   "cell_type": "code",
   "execution_count": 21,
   "metadata": {},
   "outputs": [
    {
     "data": {
      "image/png": "[encoded data removed]",
      "text/plain": [
       "<Figure size 504x288 with 2 Axes>"
      ]
     },
     "metadata": {
      "needs_background": "light"
     },
     "output_type": "display_data"
    }
   ],
   "source": [
    "D.plot_mec_evolution(location_field=\"location\",\n",
    "                     loc_order=[\"leo\",\"mar\"])"
   ]
  },
  {
   "cell_type": "code",
   "execution_count": 22,
   "metadata": {},
   "outputs": [
    {
     "data": {
      "application/vnd.jupyter.widget-view+json": {
       "model_id": "81216a5d62ed4f659325ed88ce22982f",
       "version_major": 2,
       "version_minor": 0
      },
      "text/plain": [
       "  0%|          | 0/2 [00:00<?, ?it/s]"
      ]
     },
     "metadata": {},
     "output_type": "display_data"
    },
    {
     "name": "stderr",
     "output_type": "stream",
     "text": [
      "C:\\conda3\\envs\\sandpyper_env\\lib\\site-packages\\geopandas\\geodataframe.py:422: RuntimeWarning: Sequential read of iterator was interrupted. Resetting iterator. This can negatively impact the performance.\n",
      "  for feature in features_lst:\n"
     ]
    }
   ],
   "source": [
    "D.BCD_compute_transects(thresh=7, min_points=20,reliable_action='keep', dirNameTrans=D.ProfileSet.dirNameTrans)"
   ]
  },
  {
   "cell_type": "code",
   "execution_count": 23,
   "metadata": {},
   "outputs": [
    {
     "data": {
      "text/plain": [
       "<AxesSubplot:>"
      ]
     },
     "execution_count": 23,
     "metadata": {},
     "output_type": "execute_result"
    },
    {
     "data": {
      "image/png": "[encoded data removed]",
      "text/plain": [
       "<Figure size 432x288 with 1 Axes>"
      ]
     },
     "metadata": {
      "needs_background": "light"
     },
     "output_type": "display_data"
    }
   ],
   "source": [
    "D.transects_rbcd.query(\"location=='leo'\").plot(column=\"residual\", cmap='RdBu_r')"
   ]
  },
  {
   "cell_type": "markdown",
   "metadata": {},
   "source": [
    "### Save"
   ]
  },
  {
   "cell_type": "code",
   "execution_count": 24,
   "metadata": {},
   "outputs": [
    {
     "name": "stdout",
     "output_type": "stream",
     "text": [
      "ProfileDynamics object saved in C:\\my_packages\\sandpyper\\tests\\test_data\\test.p .\n"
     ]
    },
    {
     "data": {
      "text/plain": [
       "<sandpyper.hotspot.ProfileDynamics at 0x1d290357b50>"
      ]
     },
     "execution_count": 24,
     "metadata": {},
     "output_type": "execute_result"
    }
   ],
   "source": [
    "dir_out=r'C:\\my_packages\\sandpyper\\tests\\test_data'\n",
    "name=\"test\"\n",
    "D.save(name,dir_out)\n",
    "D"
   ]
  },
  {
   "cell_type": "markdown",
   "metadata": {},
   "source": [
    "### Load"
   ]
  },
  {
   "cell_type": "code",
   "execution_count": 25,
   "metadata": {},
   "outputs": [],
   "source": [
    "D=pickle.load(open(r\"C:\\my_packages\\sandpyper\\tests\\test_data\\test.p\", \"rb\"))\n",
    "\n",
    "loc_subset=[\"mar\"] # the function is optimised for single-location plots, but you can also pass a list of location codes\n",
    "colors_dict={\"mar\":'r',        # if you use multiple locations, then dictionary key is the location code and value the color\n",
    "            \"leo\":'b'}"
   ]
  },
  {
   "cell_type": "markdown",
   "metadata": {},
   "source": [
    "___"
   ]
  }
 ],
 "metadata": {
  "kernelspec": {
   "display_name": "Python 3",
   "language": "python",
   "name": "python3"
  },
  "language_info": {
   "codemirror_mode": {
    "name": "ipython",
    "version": 3
   },
   "file_extension": ".py",
   "mimetype": "text/x-python",
   "name": "python",
   "nbconvert_exporter": "python",
   "pygments_lexer": "ipython3",
   "version": "3.9.4"
  }
 },
 "nbformat": 4,
 "nbformat_minor": 2
}
