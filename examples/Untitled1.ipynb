{
 "cells": [
  {
   "cell_type": "code",
   "execution_count": 1,
   "id": "9d1d2d45",
   "metadata": {},
   "outputs": [
    {
     "name": "stderr",
     "output_type": "stream",
     "text": [
      "C:\\anaconda3\\envs\\sandpyper_env\\lib\\site-packages\\pysal\\explore\\segregation\\network\\network.py:15: UserWarning: You need pandana and urbanaccess to work with segregation's network module\n",
      "You can install them with  `pip install urbanaccess pandana` or `conda install -c udst pandana urbanaccess`\n",
      "  warn(\n",
      "C:\\anaconda3\\envs\\sandpyper_env\\lib\\site-packages\\pysal\\model\\spvcm\\abstracts.py:10: UserWarning: The `dill` module is required to use the sqlite backend fully.\n",
      "  from .sqlite import head_to_sql, start_sql\n"
     ]
    }
   ],
   "source": [
    "import unittest\n",
    "import os\n",
    "import pickle\n",
    "import numpy as np\n",
    "import geopandas as gpd\n",
    "import pandas as pd\n",
    "import shapely\n",
    "\n",
    "import sandpyper\n",
    "from sandpyper.sandpyper import ProfileSet, ProfileDynamics\n",
    "from sandpyper.common import get_sil_location, get_opt_k, create_transects, sensitivity_tr_rbcd\n",
    "\n",
    "pd.options.mode.chained_assignment = None  # default='warn'"
   ]
  },
  {
   "cell_type": "code",
   "execution_count": 2,
   "id": "65f49b01",
   "metadata": {},
   "outputs": [],
   "source": [
    "# create global variables used across the test analysis\n",
    "loc_codes=[\"mar\",\"leo\"]\n",
    "\n",
    "loc_full={'mar': 'Marengo',\n",
    "         'leo': 'St. Leonards'}\n",
    "\n",
    "loc_specs={'mar':{'thresh':6,\n",
    "       'min_points':6}}\n",
    "\n",
    "loc_search_dict = {'leo': ['St', 'Leonards', 'leonards', 'leo'], 'mar': ['Marengo', 'marengo', 'mar'] }\n",
    "crs_dict_string = {'mar': {'init': 'epsg:32754'}, 'leo':{'init': 'epsg:32755'} }\n",
    "\n",
    "labels=[\"Undefined\", \"Small\", \"Medium\", \"High\", \"Extreme\"]\n",
    "\n",
    "appendix=[\"_deposition\", \"_erosion\"]\n",
    "\n",
    "relabel_dict={\"Undefined_erosion\":\"ue\",\n",
    "            \"Small_erosion\":\"se\",\n",
    "            \"Medium_erosion\":\"me\",\n",
    "            \"High_erosion\":\"he\",\n",
    "            \"Extreme_erosion\":\"ee\",\n",
    "             \"Undefined_deposition\":\"ud\",\n",
    "             \"Small_deposition\":\"sd\",\n",
    "             \"Medium_deposition\":\"md\",\n",
    "             \"High_deposition\":\"hd\",\n",
    "             \"Extreme_deposition\":\"ed\"\n",
    "            }\n",
    "\n",
    "transects_spacing=20\n",
    "\n",
    "feature_set=[\"band1\",\"band2\",\"band3\",\"distance\"]\n",
    "\n",
    "water_dict={'leo_20180606':[0,9,10],\n",
    "'leo_20180713':[0,3,4,7],\n",
    "'leo_20180920':[0,2,6,7],\n",
    "'leo_20190211':[0,2,5],\n",
    "'leo_20190328':[2,4,5],\n",
    "'leo_20190731':[0,2,8,6],\n",
    "'mar_20180601':[1,6],\n",
    "'mar_20180621':[4,6],\n",
    "'mar_20180727':[0,5,9,10],\n",
    "'mar_20180925':[6],\n",
    "'mar_20181113':[1],\n",
    "'mar_20181211':[4],\n",
    "'mar_20190205':[],\n",
    "'mar_20190313':[],\n",
    "'mar_20190516':[4,7]}\n",
    "\n",
    "no_sand_dict={'leo_20180606':[5],\n",
    "'leo_20180713':[],\n",
    "'leo_20180920':[],\n",
    "'leo_20190211':[1],\n",
    "'leo_20190328':[],\n",
    "'leo_20190731':[1],\n",
    "'mar_20180601':[4,5],\n",
    "'mar_20180621':[3,5],\n",
    "'mar_20180727':[4,7],\n",
    "'mar_20180925':[5],\n",
    "'mar_20181113':[0],\n",
    "'mar_20181211':[0],\n",
    "'mar_20190205':[0,5],\n",
    "'mar_20190313':[4],\n",
    "'mar_20190516':[2,5]}\n",
    "\n",
    "veg_dict={'leo_20180606':[1,3,7,8],\n",
    "'leo_20180713':[1,5,9],\n",
    "'leo_20180920':[1,4,5],\n",
    "'leo_20190211':[4],\n",
    "'leo_20190328':[0,1,6],\n",
    "'leo_20190731':[3,7],\n",
    "'mar_20180601':[0,7],\n",
    "'mar_20180621':[1,7],\n",
    "'mar_20180727':[1,3],\n",
    "'mar_20180925':[1,3],\n",
    "'mar_20181113':[3],\n",
    "'mar_20181211':[2],\n",
    "'mar_20190205':[3],\n",
    "'mar_20190313':[1,5],\n",
    "'mar_20190516':[0]}\n",
    "\n",
    "sand_dict={'leo_20180606':[2,4,6],\n",
    "'leo_20180713':[2,6,8],\n",
    "'leo_20180920':[3],\n",
    "'leo_20190211':[3],\n",
    "'leo_20190328':[3],\n",
    "'leo_20190731':[4,5],\n",
    "'mar_20180601':[2,3],\n",
    "'mar_20180621':[0,2],\n",
    "'mar_20180727':[2,6,8],\n",
    "'mar_20180925':[0,4,2],\n",
    "'mar_20181113':[2,4],\n",
    "'mar_20181211':[3,1],\n",
    "'mar_20190205':[1,2,4],\n",
    "'mar_20190313':[0,2,3],\n",
    "'mar_20190516':[1,3,6]}\n",
    "\n",
    "\n",
    "l_dicts={'no_sand': no_sand_dict,\n",
    "         'sand': sand_dict,\n",
    "        'water': water_dict,\n",
    "        'veg':veg_dict}"
   ]
  },
  {
   "cell_type": "code",
   "execution_count": 5,
   "id": "44adc5ce",
   "metadata": {},
   "outputs": [],
   "source": [
    "from pathlib import Path"
   ]
  },
  {
   "cell_type": "code",
   "execution_count": 6,
   "id": "815cc385",
   "metadata": {},
   "outputs": [],
   "source": [
    "test_data_folder = r\"C:\\my_packages\\sandpyper\\examples\\test_data\"\n",
    "\n",
    "# the paths to the DSM, orthophotos and transect directories\n",
    "dirNameDSM=Path(test_data_folder + r\"\\dsm_1m\")\n",
    "dirNameOrtho=Path(test_data_folder + r\"\\orthos_1m\")\n",
    "dirNameTrans=Path(test_data_folder + r\"\\transects\")\n",
    "\n",
    "# path to the LoD transects\n",
    "\n",
    "lod_mode=Path(test_data_folder + r\"\\lod_transects\")"
   ]
  },
  {
   "cell_type": "code",
   "execution_count": 3,
   "id": "990318c0",
   "metadata": {},
   "outputs": [],
   "source": [
    "dsms_dir_path = os.path.abspath(\"examples/test_data/dsm_1m/\")\n",
    "orthos_dir_path = os.path.abspath(\"examples/test_data/orthos_1m\")\n",
    "\n",
    "transects_path = os.path.abspath(\"examples/test_data/transects\")\n",
    "lod_mode=os.path.abspath(\"examples/test_data/lod_transects/\")\n",
    "\n",
    "label_corrections_path=os.path.abspath(\"examples/test_data/clean/label_corrections.gpkg\")\n",
    "watermasks_path=os.path.abspath(\"examples/test_data/clean/watermasks.gpkg\")\n",
    "shoremasks_path=os.path.abspath(\"examples/test_data/clean/shoremasks.gpkg\")\n"
   ]
  },
  {
   "cell_type": "code",
   "execution_count": 8,
   "id": "c84fea14",
   "metadata": {},
   "outputs": [
    {
     "name": "stderr",
     "output_type": "stream",
     "text": [
      "C:\\anaconda3\\envs\\sandpyper_env\\lib\\site-packages\\geopandas\\geodataframe.py:422: RuntimeWarning: Sequential read of iterator was interrupted. Resetting iterator. This can negatively impact the performance.\n",
      "  for feature in features_lst:\n"
     ]
    },
    {
     "name": "stdout",
     "output_type": "stream",
     "text": [
      "C:\\my_packages\\sandpyper\\examples\\test_data\\dsm_1m\n",
      "C:\\my_packages\\sandpyper\\examples\\test_data\\orthos_1m\n",
      "dsm from leo = 6\n",
      "\n",
      "ortho from leo = 6\n",
      "\n",
      "dsm from mar = 9\n",
      "\n",
      "ortho from mar = 9\n",
      "\n",
      "\n",
      "umber OF DATASETS TO PROCESS: 30\n"
     ]
    }
   ],
   "source": [
    "P = ProfileSet(dirNameDSM=dirNameDSM,\n",
    "                        dirNameOrtho=dirNameOrtho,\n",
    "                        dirNameTrans=dirNameTrans,\n",
    "                        transects_spacing=transects_spacing,\n",
    "                        loc_codes=loc_codes,\n",
    "                        loc_search_dict=loc_search_dict,\n",
    "                        crs_dict_string=crs_dict_string,\n",
    "                        check=\"all\")"
   ]
  },
  {
   "cell_type": "code",
   "execution_count": null,
   "id": "6acd6f97",
   "metadata": {},
   "outputs": [],
   "source": []
  }
 ],
 "metadata": {
  "kernelspec": {
   "display_name": "Python 3 (ipykernel)",
   "language": "python",
   "name": "python3"
  },
  "language_info": {
   "codemirror_mode": {
    "name": "ipython",
    "version": 3
   },
   "file_extension": ".py",
   "mimetype": "text/x-python",
   "name": "python",
   "nbconvert_exporter": "python",
   "pygments_lexer": "ipython3",
   "version": "3.8.10"
  }
 },
 "nbformat": 4,
 "nbformat_minor": 5
}
