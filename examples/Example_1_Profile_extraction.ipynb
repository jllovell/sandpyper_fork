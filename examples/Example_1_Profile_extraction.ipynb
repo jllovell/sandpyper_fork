{
 "cells": [
  {
   "cell_type": "markdown",
   "metadata": {},
   "source": [
    "# Example 1 - Profiles extraction"
   ]
  },
  {
   "cell_type": "markdown",
   "metadata": {},
   "source": [
    "<img src=\"images/banner3.png\" width=\"100%\" />\n",
    "\n",
    "<font face=\"Calibri\">\n",
    "<br>\n",
    "<font size=\"5\"> <b>Profiles creation and data extraction from DSM and orthophotos</b></font>\n",
    "\n",
    "<br>\n",
    "<font size=\"4\"> <b> Nicolas Pucino; PhD Student @ Deakin University, Australia </b> <br>\n",
    "<img style=\"padding:7px;\" src=\"images/sandpiper_sand_retouched.png\" width=\"170\" align=\"right\" /></font>\n",
    "\n",
    "<font size=\"3\">The first steps in a typical workflow is to create cross-shore transects in all the locations and extract elevation and RGB information along those transects. Sandpiper allows the data extraction from hundreds of rasters at once, in an organised way. <br>\n",
    "\n",
    "<b>This notebook covers the following concepts:</b>\n",
    "\n",
    "- Naming conventions and global parameters.\n",
    "- Setting up the folders.\n",
    "- Setting up the folders.\n",
    "</font>\n",
    "\n",
    "\n",
    "</font>"
   ]
  },
  {
   "cell_type": "markdown",
   "metadata": {},
   "source": [
    "Import all it is required."
   ]
  },
  {
   "cell_type": "code",
   "execution_count": 1,
   "metadata": {
    "scrolled": true
   },
   "outputs": [],
   "source": [
    "import matplotlib.pyplot as plt\n",
    "import pandas as pd\n",
    "import geopandas as gpd\n",
    "\n",
    "from sandpyper.outils import cross_ref\n",
    "from sandpyper.profile import extract_from_folder\n",
    "from sandpyper.space import create_transects\n",
    "\n",
    "pd.options.mode.chained_assignment = None  # default='warn'"
   ]
  },
  {
   "cell_type": "code",
   "execution_count": 2,
   "metadata": {},
   "outputs": [
    {
     "data": {
      "text/html": [
       "<div>\n",
       "<style scoped>\n",
       "    .dataframe tbody tr th:only-of-type {\n",
       "        vertical-align: middle;\n",
       "    }\n",
       "\n",
       "    .dataframe tbody tr th {\n",
       "        vertical-align: top;\n",
       "    }\n",
       "\n",
       "    .dataframe thead th {\n",
       "        text-align: right;\n",
       "    }\n",
       "</style>\n",
       "<table border=\"1\" class=\"dataframe\">\n",
       "  <thead>\n",
       "    <tr style=\"text-align: right;\">\n",
       "      <th></th>\n",
       "      <th>point_id</th>\n",
       "      <th>label_k</th>\n",
       "      <th>distance</th>\n",
       "      <th>z</th>\n",
       "      <th>tr_id</th>\n",
       "      <th>raw_date</th>\n",
       "      <th>coordinates</th>\n",
       "      <th>location</th>\n",
       "      <th>survey_date</th>\n",
       "      <th>x</th>\n",
       "      <th>y</th>\n",
       "      <th>geometry</th>\n",
       "      <th>band1</th>\n",
       "      <th>band2</th>\n",
       "      <th>band3</th>\n",
       "      <th>slope</th>\n",
       "      <th>curve</th>\n",
       "    </tr>\n",
       "  </thead>\n",
       "  <tbody>\n",
       "    <tr>\n",
       "      <th>0</th>\n",
       "      <td>67143080l2610320eo00</td>\n",
       "      <td>3</td>\n",
       "      <td>0.2</td>\n",
       "      <td>1.105616</td>\n",
       "      <td>47</td>\n",
       "      <td>20180606</td>\n",
       "      <td>POINT (299873.4167173313 5773731.881880409)</td>\n",
       "      <td>leo</td>\n",
       "      <td>2018-06-06</td>\n",
       "      <td>299873.416717</td>\n",
       "      <td>5.773732e+06</td>\n",
       "      <td>POINT (299873.4167173313 5773731.881880409)</td>\n",
       "      <td>141.0</td>\n",
       "      <td>142.0</td>\n",
       "      <td>132.0</td>\n",
       "      <td>-0.006003</td>\n",
       "      <td>0.002122</td>\n",
       "    </tr>\n",
       "    <tr>\n",
       "      <th>1</th>\n",
       "      <td>67142080l2670630eo00</td>\n",
       "      <td>3</td>\n",
       "      <td>0.3</td>\n",
       "      <td>1.101189</td>\n",
       "      <td>47</td>\n",
       "      <td>20180606</td>\n",
       "      <td>POINT (299873.516093276 5773731.893034852)</td>\n",
       "      <td>leo</td>\n",
       "      <td>2018-06-06</td>\n",
       "      <td>299873.516093</td>\n",
       "      <td>5.773732e+06</td>\n",
       "      <td>POINT (299873.516093276 5773731.893034852)</td>\n",
       "      <td>148.0</td>\n",
       "      <td>148.0</td>\n",
       "      <td>143.0</td>\n",
       "      <td>-0.003264</td>\n",
       "      <td>0.001769</td>\n",
       "    </tr>\n",
       "    <tr>\n",
       "      <th>2</th>\n",
       "      <td>67142080l2600940eo00</td>\n",
       "      <td>3</td>\n",
       "      <td>0.4</td>\n",
       "      <td>1.099089</td>\n",
       "      <td>47</td>\n",
       "      <td>20180606</td>\n",
       "      <td>POINT (299873.6154692209 5773731.904189295)</td>\n",
       "      <td>leo</td>\n",
       "      <td>2018-06-06</td>\n",
       "      <td>299873.615469</td>\n",
       "      <td>5.773732e+06</td>\n",
       "      <td>POINT (299873.6154692209 5773731.904189295)</td>\n",
       "      <td>140.0</td>\n",
       "      <td>142.0</td>\n",
       "      <td>129.0</td>\n",
       "      <td>-0.002465</td>\n",
       "      <td>0.001138</td>\n",
       "    </tr>\n",
       "    <tr>\n",
       "      <th>3</th>\n",
       "      <td>67146080l2650750eo00</td>\n",
       "      <td>6</td>\n",
       "      <td>0.5</td>\n",
       "      <td>1.096259</td>\n",
       "      <td>47</td>\n",
       "      <td>20180606</td>\n",
       "      <td>POINT (299873.7148451657 5773731.915343738)</td>\n",
       "      <td>leo</td>\n",
       "      <td>2018-06-06</td>\n",
       "      <td>299873.714845</td>\n",
       "      <td>5.773732e+06</td>\n",
       "      <td>POINT (299873.7148451657 5773731.915343738)</td>\n",
       "      <td>162.0</td>\n",
       "      <td>165.0</td>\n",
       "      <td>155.0</td>\n",
       "      <td>-0.000988</td>\n",
       "      <td>0.001301</td>\n",
       "    </tr>\n",
       "    <tr>\n",
       "      <th>4</th>\n",
       "      <td>67141080l2600560eo00</td>\n",
       "      <td>3</td>\n",
       "      <td>0.6</td>\n",
       "      <td>1.097113</td>\n",
       "      <td>47</td>\n",
       "      <td>20180606</td>\n",
       "      <td>POINT (299873.8142211105 5773731.92649818)</td>\n",
       "      <td>leo</td>\n",
       "      <td>2018-06-06</td>\n",
       "      <td>299873.814221</td>\n",
       "      <td>5.773732e+06</td>\n",
       "      <td>POINT (299873.8142211105 5773731.92649818)</td>\n",
       "      <td>152.0</td>\n",
       "      <td>154.0</td>\n",
       "      <td>137.0</td>\n",
       "      <td>0.000136</td>\n",
       "      <td>0.001117</td>\n",
       "    </tr>\n",
       "    <tr>\n",
       "      <th>...</th>\n",
       "      <td>...</td>\n",
       "      <td>...</td>\n",
       "      <td>...</td>\n",
       "      <td>...</td>\n",
       "      <td>...</td>\n",
       "      <td>...</td>\n",
       "      <td>...</td>\n",
       "      <td>...</td>\n",
       "      <td>...</td>\n",
       "      <td>...</td>\n",
       "      <td>...</td>\n",
       "      <td>...</td>\n",
       "      <td>...</td>\n",
       "      <td>...</td>\n",
       "      <td>...</td>\n",
       "      <td>...</td>\n",
       "      <td>...</td>\n",
       "    </tr>\n",
       "    <tr>\n",
       "      <th>185180</th>\n",
       "      <td>60108091m2528500ar21</td>\n",
       "      <td>9</td>\n",
       "      <td>28.1</td>\n",
       "      <td>1.753726</td>\n",
       "      <td>0</td>\n",
       "      <td>20190516</td>\n",
       "      <td>POINT (731474.0709976825 5705142.514267173)</td>\n",
       "      <td>mar</td>\n",
       "      <td>2019-05-16</td>\n",
       "      <td>731474.070998</td>\n",
       "      <td>5.705143e+06</td>\n",
       "      <td>POINT (731474.0709976825 5705142.514267173)</td>\n",
       "      <td>198.0</td>\n",
       "      <td>190.0</td>\n",
       "      <td>164.0</td>\n",
       "      <td>-0.007479</td>\n",
       "      <td>0.001382</td>\n",
       "    </tr>\n",
       "    <tr>\n",
       "      <th>185181</th>\n",
       "      <td>60103091m2518200ar22</td>\n",
       "      <td>4</td>\n",
       "      <td>28.2</td>\n",
       "      <td>1.748035</td>\n",
       "      <td>0</td>\n",
       "      <td>20190516</td>\n",
       "      <td>POINT (731474.1704055312 5705142.503400728)</td>\n",
       "      <td>mar</td>\n",
       "      <td>2019-05-16</td>\n",
       "      <td>731474.170406</td>\n",
       "      <td>5.705143e+06</td>\n",
       "      <td>POINT (731474.1704055312 5705142.503400728)</td>\n",
       "      <td>196.0</td>\n",
       "      <td>187.0</td>\n",
       "      <td>161.0</td>\n",
       "      <td>-0.006537</td>\n",
       "      <td>0.000006</td>\n",
       "    </tr>\n",
       "    <tr>\n",
       "      <th>185182</th>\n",
       "      <td>60107091m2598900ar23</td>\n",
       "      <td>9</td>\n",
       "      <td>28.3</td>\n",
       "      <td>1.740652</td>\n",
       "      <td>0</td>\n",
       "      <td>20190516</td>\n",
       "      <td>POINT (731474.2698133799 5705142.492534284)</td>\n",
       "      <td>mar</td>\n",
       "      <td>2019-05-16</td>\n",
       "      <td>731474.269813</td>\n",
       "      <td>5.705142e+06</td>\n",
       "      <td>POINT (731474.2698133799 5705142.492534284)</td>\n",
       "      <td>200.0</td>\n",
       "      <td>192.0</td>\n",
       "      <td>165.0</td>\n",
       "      <td>-0.007468</td>\n",
       "      <td>-0.000615</td>\n",
       "    </tr>\n",
       "    <tr>\n",
       "      <th>185183</th>\n",
       "      <td>60102091m2588500ar24</td>\n",
       "      <td>9</td>\n",
       "      <td>28.4</td>\n",
       "      <td>1.733099</td>\n",
       "      <td>0</td>\n",
       "      <td>20190516</td>\n",
       "      <td>POINT (731474.3692212285 5705142.481667838)</td>\n",
       "      <td>mar</td>\n",
       "      <td>2019-05-16</td>\n",
       "      <td>731474.369221</td>\n",
       "      <td>5.705142e+06</td>\n",
       "      <td>POINT (731474.3692212285 5705142.481667838)</td>\n",
       "      <td>200.0</td>\n",
       "      <td>191.0</td>\n",
       "      <td>164.0</td>\n",
       "      <td>-0.007767</td>\n",
       "      <td>-0.000747</td>\n",
       "    </tr>\n",
       "    <tr>\n",
       "      <th>185184</th>\n",
       "      <td>60107091m2578200ar25</td>\n",
       "      <td>4</td>\n",
       "      <td>28.5</td>\n",
       "      <td>1.725118</td>\n",
       "      <td>0</td>\n",
       "      <td>20190516</td>\n",
       "      <td>POINT (731474.4686290772 5705142.470801394)</td>\n",
       "      <td>mar</td>\n",
       "      <td>2019-05-16</td>\n",
       "      <td>731474.468629</td>\n",
       "      <td>5.705142e+06</td>\n",
       "      <td>POINT (731474.4686290772 5705142.470801394)</td>\n",
       "      <td>196.0</td>\n",
       "      <td>186.0</td>\n",
       "      <td>159.0</td>\n",
       "      <td>-0.008962</td>\n",
       "      <td>-0.000517</td>\n",
       "    </tr>\n",
       "  </tbody>\n",
       "</table>\n",
       "<p>185185 rows × 17 columns</p>\n",
       "</div>"
      ],
      "text/plain": [
       "                    point_id  label_k  distance         z  tr_id  raw_date  \\\n",
       "0       67143080l2610320eo00        3       0.2  1.105616     47  20180606   \n",
       "1       67142080l2670630eo00        3       0.3  1.101189     47  20180606   \n",
       "2       67142080l2600940eo00        3       0.4  1.099089     47  20180606   \n",
       "3       67146080l2650750eo00        6       0.5  1.096259     47  20180606   \n",
       "4       67141080l2600560eo00        3       0.6  1.097113     47  20180606   \n",
       "...                      ...      ...       ...       ...    ...       ...   \n",
       "185180  60108091m2528500ar21        9      28.1  1.753726      0  20190516   \n",
       "185181  60103091m2518200ar22        4      28.2  1.748035      0  20190516   \n",
       "185182  60107091m2598900ar23        9      28.3  1.740652      0  20190516   \n",
       "185183  60102091m2588500ar24        9      28.4  1.733099      0  20190516   \n",
       "185184  60107091m2578200ar25        4      28.5  1.725118      0  20190516   \n",
       "\n",
       "                                        coordinates location survey_date  \\\n",
       "0       POINT (299873.4167173313 5773731.881880409)      leo  2018-06-06   \n",
       "1        POINT (299873.516093276 5773731.893034852)      leo  2018-06-06   \n",
       "2       POINT (299873.6154692209 5773731.904189295)      leo  2018-06-06   \n",
       "3       POINT (299873.7148451657 5773731.915343738)      leo  2018-06-06   \n",
       "4        POINT (299873.8142211105 5773731.92649818)      leo  2018-06-06   \n",
       "...                                             ...      ...         ...   \n",
       "185180  POINT (731474.0709976825 5705142.514267173)      mar  2019-05-16   \n",
       "185181  POINT (731474.1704055312 5705142.503400728)      mar  2019-05-16   \n",
       "185182  POINT (731474.2698133799 5705142.492534284)      mar  2019-05-16   \n",
       "185183  POINT (731474.3692212285 5705142.481667838)      mar  2019-05-16   \n",
       "185184  POINT (731474.4686290772 5705142.470801394)      mar  2019-05-16   \n",
       "\n",
       "                    x             y  \\\n",
       "0       299873.416717  5.773732e+06   \n",
       "1       299873.516093  5.773732e+06   \n",
       "2       299873.615469  5.773732e+06   \n",
       "3       299873.714845  5.773732e+06   \n",
       "4       299873.814221  5.773732e+06   \n",
       "...               ...           ...   \n",
       "185180  731474.070998  5.705143e+06   \n",
       "185181  731474.170406  5.705143e+06   \n",
       "185182  731474.269813  5.705142e+06   \n",
       "185183  731474.369221  5.705142e+06   \n",
       "185184  731474.468629  5.705142e+06   \n",
       "\n",
       "                                           geometry  band1  band2  band3  \\\n",
       "0       POINT (299873.4167173313 5773731.881880409)  141.0  142.0  132.0   \n",
       "1        POINT (299873.516093276 5773731.893034852)  148.0  148.0  143.0   \n",
       "2       POINT (299873.6154692209 5773731.904189295)  140.0  142.0  129.0   \n",
       "3       POINT (299873.7148451657 5773731.915343738)  162.0  165.0  155.0   \n",
       "4        POINT (299873.8142211105 5773731.92649818)  152.0  154.0  137.0   \n",
       "...                                             ...    ...    ...    ...   \n",
       "185180  POINT (731474.0709976825 5705142.514267173)  198.0  190.0  164.0   \n",
       "185181  POINT (731474.1704055312 5705142.503400728)  196.0  187.0  161.0   \n",
       "185182  POINT (731474.2698133799 5705142.492534284)  200.0  192.0  165.0   \n",
       "185183  POINT (731474.3692212285 5705142.481667838)  200.0  191.0  164.0   \n",
       "185184  POINT (731474.4686290772 5705142.470801394)  196.0  186.0  159.0   \n",
       "\n",
       "           slope     curve  \n",
       "0      -0.006003  0.002122  \n",
       "1      -0.003264  0.001769  \n",
       "2      -0.002465  0.001138  \n",
       "3      -0.000988  0.001301  \n",
       "4       0.000136  0.001117  \n",
       "...          ...       ...  \n",
       "185180 -0.007479  0.001382  \n",
       "185181 -0.006537  0.000006  \n",
       "185182 -0.007468 -0.000615  \n",
       "185183 -0.007767 -0.000747  \n",
       "185184 -0.008962 -0.000517  \n",
       "\n",
       "[185185 rows x 17 columns]"
      ]
     },
     "execution_count": 2,
     "metadata": {},
     "output_type": "execute_result"
    }
   ],
   "source": [
    "pd.read_csv(\"../doc_data/labels/data_classified.csv\")"
   ]
  },
  {
   "cell_type": "markdown",
   "metadata": {},
   "source": [
    "## Global parameters\n",
    "### Location codes\n",
    "When your analysis involves a multi-site approach, it is convenient to assign each location a __small code__ to easy the handling of every associated file and its coordinate reference system.\n",
    "\n",
    "Here are some examples:\n",
    "* Saint Leonards : __leo__\n",
    "* Marengo : __mar__"
   ]
  },
  {
   "cell_type": "code",
   "execution_count": 3,
   "metadata": {},
   "outputs": [],
   "source": [
    "# The location codes used troughout the analysis\n",
    "loc_codes=[\"mar\",\"leo\"]"
   ]
  },
  {
   "cell_type": "markdown",
   "metadata": {},
   "source": [
    "### Location search dictionary\n",
    "Sometimes, we need to automatically obtain the right location code from raster files, either of Digital Surface Models (DSM) or Orthophotos (ORTO), whose filenames contains the original location name (e.g. Saint_Leonards or Warrnambool).\n",
    "\n",
    "An easy and fast way to do this, is to create a dictionary, where __keys are the location codes__ and the __values are lists of possible full names__ we expect to find in the files.\n",
    "Here are some examples:\n",
    "\n",
    "```python\n",
    "loc_search_dict = {   'leo': ['St','Leonards','leonards','leo'],\n",
    "                      'mar': ['Marengo','marengo','mar'] }\n",
    "```\n",
    "> __NOTE__: always include the location codes in the list of possible names, in case the original raster filenames are already formatted!\n"
   ]
  },
  {
   "cell_type": "code",
   "execution_count": 4,
   "metadata": {},
   "outputs": [],
   "source": [
    "# The terms used in the original filenames.\n",
    "# These will be used to properly format files, extracting location codes and dates.\n",
    "\n",
    "loc_search_dict = {   'leo': ['St','Leonards','leonards','leo'],\n",
    "                      'mar': ['Marengo','marengo','mar'] }"
   ]
  },
  {
   "cell_type": "markdown",
   "metadata": {},
   "source": [
    "### Coordinate Reference Systems dictionary\n",
    "\n",
    "Working on a wide area, often requires dealing with multiple Coordinate Reference Systems (CRS). Therefore, it is important to assign __each location code with its appropriate CRS__ at the beginning, in order to always take it into account trhoughout the analysis.\n",
    "\n",
    "We do this with another dictionary, called `crs_dict_string`, where as keys we store the location codes and as values we store another dictionary, in this form `{'init': 'epsg:32754'}` .\n",
    "Modify the __EPSG code__ to change CRS. Here is an example of the resulting dictionary:\n",
    "\n",
    "```python\n",
    "crs_dict_string = {'wbl': {'init': 'epsg:32754'},\n",
    "                   'apo': {'init': 'epsg:32754'},\n",
    "                   'prd': {'init': 'epsg:32755'},\n",
    "                   'dem': {'init': 'epsg:32755'} }\n",
    "```\n",
    "\n",
    "\n",
    "\n",
    "> __NOTE:__ to specify the CRS, use the dictionary format supported by Geopandas 0.6.3. Only projected CRS are supported.\n"
   ]
  },
  {
   "cell_type": "code",
   "execution_count": 5,
   "metadata": {},
   "outputs": [],
   "source": [
    "# The Coordinate Reference Systems used troughout this example\n",
    "\n",
    "crs_dict_string= {\n",
    "                 'mar': {'init': 'epsg:32754'},\n",
    "                 'leo':{'init': 'epsg:32755'}\n",
    "                 }"
   ]
  },
  {
   "cell_type": "markdown",
   "metadata": {},
   "source": [
    "## Transects creation\n",
    "### Shoreline baseline"
   ]
  },
  {
   "cell_type": "markdown",
   "metadata": {},
   "source": [
    "Any Shapely line or polyline object can be used as input as a transect. In coastal geomeorphometric studies, transects are usually equally spaced alongshore, and place normal to the shoreline. However, any type of line can be used to extract values from both orthophtos and DSMs.\n",
    "\n",
    "You can construct transects in 2 ways:\n",
    "1. **Any GIS**\n",
    "2. Using the function **create_transects**, starting from a __shoreline baseline__.\n",
    "\n",
    "If you use your favourite GIS (Qgis preferred), ensure that the output format is __geopackage (.gpkg)__, and:\n",
    "> **each transect must be in a separate row (geometry)**\n",
    "\n",
    "If you want to use in-built sandpyper function, see below:"
   ]
  },
  {
   "cell_type": "code",
   "execution_count": 6,
   "metadata": {},
   "outputs": [
    {
     "name": "stderr",
     "output_type": "stream",
     "text": [
      "C:\\conda3\\envs\\sandpyper_env\\lib\\site-packages\\geopandas\\geodataframe.py:422: RuntimeWarning: Sequential read of iterator was interrupted. Resetting iterator. This can negatively impact the performance.\n",
      "  for feature in features_lst:\n"
     ]
    },
    {
     "data": {
      "text/plain": [
       "<AxesSubplot:>"
      ]
     },
     "execution_count": 6,
     "metadata": {},
     "output_type": "execute_result"
    },
    {
     "data": {
      "image/png": "[encoded data removed]",
      "text/plain": [
       "<Figure size 432x288 with 1 Axes>"
      ]
     },
     "metadata": {
      "needs_background": "light"
     },
     "output_type": "display_data"
    }
   ],
   "source": [
    "# load and display the shoreline\n",
    "path_to_shoreline_mar=r'C:\\my_packages\\doc_data\\shorelines\\leo_shoreline_short.gpkg' # Marengo shoreline\n",
    "\n",
    "shoreline=gpd.read_file(path_to_shoreline_mar)\n",
    "shoreline.plot()"
   ]
  },
  {
   "cell_type": "code",
   "execution_count": 7,
   "metadata": {},
   "outputs": [
    {
     "name": "stderr",
     "output_type": "stream",
     "text": [
      "C:\\conda3\\envs\\sandpyper_env\\lib\\site-packages\\pyproj\\crs\\crs.py:53: FutureWarning: '+init=<authority>:<code>' syntax is deprecated. '<authority>:<code>' is the preferred initialization method. When making the change, be mindful of axis order changes: https://pyproj4.github.io/pyproj/stable/gotchas.html#axis-order-changes-in-proj-6\n",
      "  return _prepare_from_string(\" \".join(pjargs))\n"
     ]
    },
    {
     "data": {
      "text/html": [
       "<div>\n",
       "<style scoped>\n",
       "    .dataframe tbody tr th:only-of-type {\n",
       "        vertical-align: middle;\n",
       "    }\n",
       "\n",
       "    .dataframe tbody tr th {\n",
       "        vertical-align: top;\n",
       "    }\n",
       "\n",
       "    .dataframe thead th {\n",
       "        text-align: right;\n",
       "    }\n",
       "</style>\n",
       "<table border=\"1\" class=\"dataframe\">\n",
       "  <thead>\n",
       "    <tr style=\"text-align: right;\">\n",
       "      <th></th>\n",
       "      <th>tr_id</th>\n",
       "      <th>geometry</th>\n",
       "      <th>location</th>\n",
       "    </tr>\n",
       "  </thead>\n",
       "  <tbody>\n",
       "    <tr>\n",
       "      <th>0</th>\n",
       "      <td>0</td>\n",
       "      <td>LINESTRING (300166.471 5772833.267, 300206.279...</td>\n",
       "      <td>leo</td>\n",
       "    </tr>\n",
       "    <tr>\n",
       "      <th>1</th>\n",
       "      <td>1</td>\n",
       "      <td>LINESTRING (300154.369 5772849.190, 300194.177...</td>\n",
       "      <td>leo</td>\n",
       "    </tr>\n",
       "    <tr>\n",
       "      <th>2</th>\n",
       "      <td>2</td>\n",
       "      <td>LINESTRING (300142.267 5772865.113, 300182.075...</td>\n",
       "      <td>leo</td>\n",
       "    </tr>\n",
       "    <tr>\n",
       "      <th>3</th>\n",
       "      <td>3</td>\n",
       "      <td>LINESTRING (300130.166 5772881.037, 300169.974...</td>\n",
       "      <td>leo</td>\n",
       "    </tr>\n",
       "    <tr>\n",
       "      <th>4</th>\n",
       "      <td>4</td>\n",
       "      <td>LINESTRING (300119.411 5772904.944, 300165.639...</td>\n",
       "      <td>leo</td>\n",
       "    </tr>\n",
       "  </tbody>\n",
       "</table>\n",
       "</div>"
      ],
      "text/plain": [
       "   tr_id                                           geometry location\n",
       "0      0  LINESTRING (300166.471 5772833.267, 300206.279...      leo\n",
       "1      1  LINESTRING (300154.369 5772849.190, 300194.177...      leo\n",
       "2      2  LINESTRING (300142.267 5772865.113, 300182.075...      leo\n",
       "3      3  LINESTRING (300130.166 5772881.037, 300169.974...      leo\n",
       "4      4  LINESTRING (300119.411 5772904.944, 300165.639...      leo"
      ]
     },
     "execution_count": 7,
     "metadata": {},
     "output_type": "execute_result"
    },
    {
     "data": {
      "image/png": "[encoded data removed]",
      "text/plain": [
       "<Figure size 720x720 with 1 Axes>"
      ]
     },
     "metadata": {
      "needs_background": "light"
     },
     "output_type": "display_data"
    }
   ],
   "source": [
    "# create and display the transects (in red)\n",
    "\n",
    "f,ax=plt.subplots(figsize=(10,10))  # Change figsize if you want bigger images\n",
    "location='leo'  # insert the location code for this transect.\n",
    "\n",
    "transects=create_transects(shoreline,\n",
    "                           sampling_step=20, # alongshore spacing\n",
    "                           tick_length=50, # transects length\n",
    "                           location=location,crs=crs_dict_string[location],\n",
    "                           side='both' # 'both':transect is centered at the interesction with the baseline\n",
    "                          )\n",
    "\n",
    "# Modify the figure by plotting shoreline, transects and transect IDs.\n",
    "shoreline.plot(ax=ax,color='b')\n",
    "transects.plot(ax=ax,color='r')\n",
    "\n",
    "for x, y, label in zip(transects.geometry.centroid.x, transects.geometry.centroid.y, transects.tr_id):\n",
    "    ax.annotate(label, xy=(x, y), xytext=(4, 1), textcoords=\"offset points\")\n",
    "\n",
    "transects.head()"
   ]
  },
  {
   "cell_type": "markdown",
   "metadata": {},
   "source": [
    "The following cell saves transect to file and name it as:\n",
    "\n",
    ">__locationCode_whateverYouWant.gpkg__\n",
    "\n",
    "(example: __leo_transects.gpkg__)\n",
    "\n",
    "and place it to a folder where you store all the transects for each location.\n",
    "\n",
    ">__Note:__ If the saving throws an error \"PLE_NotSupported in dataset leo_transects.gpkg does not support layer creation option ENCODING\", the file should be created and valid anyway. Double-check by opening it in Qgis."
   ]
  },
  {
   "cell_type": "code",
   "execution_count": 8,
   "metadata": {},
   "outputs": [],
   "source": [
    "# transects.to_file(filename=r'C:\\my_packages\\doc_data\\transects\\leo_transects.gpkg',driver='GPKG')"
   ]
  },
  {
   "cell_type": "markdown",
   "metadata": {},
   "source": [
    "## Elevation and RGB data extraction"
   ]
  },
  {
   "cell_type": "markdown",
   "metadata": {},
   "source": [
    "### Define the folders containing the datasets\n",
    "\n",
    "First, let's define the paths to the folders containing the raster DSMs or ORTOs and the transects.\n",
    "\n",
    "> __SUPPORTED FORMATS:__\n",
    ">* Rasters: __geotiffs (.tif, .tiff)__\n",
    ">* Transects: __geopackages (.gpkg).__\n",
    ">\n",
    ">__Transects filenames:__ when creating transects, save them with the location code as filename."
   ]
  },
  {
   "cell_type": "markdown",
   "metadata": {},
   "source": [
    "<img src=\"images/profiles/hill_ortho_profiles_cow.png\" width=\"85%\" />"
   ]
  },
  {
   "cell_type": "code",
   "execution_count": 9,
   "metadata": {
    "scrolled": true
   },
   "outputs": [],
   "source": [
    "# Set the path to the folders containing the DSMs (dirNameDSM) and the transect files (dirNameTrans)\n",
    "\n",
    "dirNameDSM=r'C:\\my_packages\\doc_data\\dsm'\n",
    "\n",
    "dirNameOrtho=r'C:\\my_packages\\doc_data\\ortho'\n",
    "\n",
    "dirNameTrans=r'C:\\my_packages\\doc_data\\transects'\n"
   ]
  },
  {
   "cell_type": "markdown",
   "metadata": {},
   "source": [
    "###  Check cross-reference table and CRS matches\n",
    "\n",
    "The EPSG codes in the raster and transect columns __must match__.\n",
    "\n",
    "Please also check the dsm and date columns match transect file and dsm file paths."
   ]
  },
  {
   "cell_type": "code",
   "execution_count": 10,
   "metadata": {
    "scrolled": false
   },
   "outputs": [
    {
     "name": "stdout",
     "output_type": "stream",
     "text": [
      "DSM from leo = 6\n",
      "\n",
      "DSM from mar = 9\n",
      "\n",
      "\n",
      "NUMBER OF DATASETS TO PROCESS: 15\n"
     ]
    },
    {
     "name": "stderr",
     "output_type": "stream",
     "text": [
      "C:\\conda3\\envs\\sandpyper_env\\lib\\site-packages\\geopandas\\geodataframe.py:422: RuntimeWarning: Sequential read of iterator was interrupted. Resetting iterator. This can negatively impact the performance.\n",
      "  for feature in features_lst:\n"
     ]
    },
    {
     "data": {
      "text/html": [
       "<div>\n",
       "<style scoped>\n",
       "    .dataframe tbody tr th:only-of-type {\n",
       "        vertical-align: middle;\n",
       "    }\n",
       "\n",
       "    .dataframe tbody tr th {\n",
       "        vertical-align: top;\n",
       "    }\n",
       "\n",
       "    .dataframe thead th {\n",
       "        text-align: right;\n",
       "    }\n",
       "</style>\n",
       "<table border=\"1\" class=\"dataframe\">\n",
       "  <thead>\n",
       "    <tr style=\"text-align: right;\">\n",
       "      <th></th>\n",
       "      <th>raw_date</th>\n",
       "      <th>filename_raster</th>\n",
       "      <th>crs_raster</th>\n",
       "      <th>filename_trs</th>\n",
       "      <th>crs_transect</th>\n",
       "    </tr>\n",
       "    <tr>\n",
       "      <th>location</th>\n",
       "      <th></th>\n",
       "      <th></th>\n",
       "      <th></th>\n",
       "      <th></th>\n",
       "      <th></th>\n",
       "    </tr>\n",
       "  </thead>\n",
       "  <tbody>\n",
       "    <tr>\n",
       "      <th>leo</th>\n",
       "      <td>20180606</td>\n",
       "      <td>C:\\my_packages\\doc_data\\dsm\\leo_20180606_dsm_c...</td>\n",
       "      <td>32755</td>\n",
       "      <td>C:\\my_packages\\doc_data\\transects\\leo_transect...</td>\n",
       "      <td>epsg:32755</td>\n",
       "    </tr>\n",
       "    <tr>\n",
       "      <th>leo</th>\n",
       "      <td>20180713</td>\n",
       "      <td>C:\\my_packages\\doc_data\\dsm\\leo_20180713_dsm_c...</td>\n",
       "      <td>32755</td>\n",
       "      <td>C:\\my_packages\\doc_data\\transects\\leo_transect...</td>\n",
       "      <td>epsg:32755</td>\n",
       "    </tr>\n",
       "    <tr>\n",
       "      <th>leo</th>\n",
       "      <td>20180920</td>\n",
       "      <td>C:\\my_packages\\doc_data\\dsm\\leo_20180920_dsm_c...</td>\n",
       "      <td>32755</td>\n",
       "      <td>C:\\my_packages\\doc_data\\transects\\leo_transect...</td>\n",
       "      <td>epsg:32755</td>\n",
       "    </tr>\n",
       "    <tr>\n",
       "      <th>leo</th>\n",
       "      <td>20190211</td>\n",
       "      <td>C:\\my_packages\\doc_data\\dsm\\leo_20190211_dsm_c...</td>\n",
       "      <td>32755</td>\n",
       "      <td>C:\\my_packages\\doc_data\\transects\\leo_transect...</td>\n",
       "      <td>epsg:32755</td>\n",
       "    </tr>\n",
       "    <tr>\n",
       "      <th>leo</th>\n",
       "      <td>20190328</td>\n",
       "      <td>C:\\my_packages\\doc_data\\dsm\\leo_20190328_dsm_c...</td>\n",
       "      <td>32755</td>\n",
       "      <td>C:\\my_packages\\doc_data\\transects\\leo_transect...</td>\n",
       "      <td>epsg:32755</td>\n",
       "    </tr>\n",
       "    <tr>\n",
       "      <th>leo</th>\n",
       "      <td>20190731</td>\n",
       "      <td>C:\\my_packages\\doc_data\\dsm\\leo_20190731_dsm_c...</td>\n",
       "      <td>32755</td>\n",
       "      <td>C:\\my_packages\\doc_data\\transects\\leo_transect...</td>\n",
       "      <td>epsg:32755</td>\n",
       "    </tr>\n",
       "    <tr>\n",
       "      <th>mar</th>\n",
       "      <td>20180601</td>\n",
       "      <td>C:\\my_packages\\doc_data\\dsm\\mar_20180601_dsm_c...</td>\n",
       "      <td>32754</td>\n",
       "      <td>C:\\my_packages\\doc_data\\transects\\mar_transect...</td>\n",
       "      <td>epsg:32754</td>\n",
       "    </tr>\n",
       "    <tr>\n",
       "      <th>mar</th>\n",
       "      <td>20180621</td>\n",
       "      <td>C:\\my_packages\\doc_data\\dsm\\mar_20180621_dsm_c...</td>\n",
       "      <td>32754</td>\n",
       "      <td>C:\\my_packages\\doc_data\\transects\\mar_transect...</td>\n",
       "      <td>epsg:32754</td>\n",
       "    </tr>\n",
       "    <tr>\n",
       "      <th>mar</th>\n",
       "      <td>20180727</td>\n",
       "      <td>C:\\my_packages\\doc_data\\dsm\\mar_20180727_dsm_c...</td>\n",
       "      <td>32754</td>\n",
       "      <td>C:\\my_packages\\doc_data\\transects\\mar_transect...</td>\n",
       "      <td>epsg:32754</td>\n",
       "    </tr>\n",
       "    <tr>\n",
       "      <th>mar</th>\n",
       "      <td>20180925</td>\n",
       "      <td>C:\\my_packages\\doc_data\\dsm\\mar_20180925_dsm_c...</td>\n",
       "      <td>32754</td>\n",
       "      <td>C:\\my_packages\\doc_data\\transects\\mar_transect...</td>\n",
       "      <td>epsg:32754</td>\n",
       "    </tr>\n",
       "    <tr>\n",
       "      <th>mar</th>\n",
       "      <td>20181113</td>\n",
       "      <td>C:\\my_packages\\doc_data\\dsm\\mar_20181113_dsm_c...</td>\n",
       "      <td>32754</td>\n",
       "      <td>C:\\my_packages\\doc_data\\transects\\mar_transect...</td>\n",
       "      <td>epsg:32754</td>\n",
       "    </tr>\n",
       "    <tr>\n",
       "      <th>mar</th>\n",
       "      <td>20181211</td>\n",
       "      <td>C:\\my_packages\\doc_data\\dsm\\mar_20181211_dsm_c...</td>\n",
       "      <td>32754</td>\n",
       "      <td>C:\\my_packages\\doc_data\\transects\\mar_transect...</td>\n",
       "      <td>epsg:32754</td>\n",
       "    </tr>\n",
       "    <tr>\n",
       "      <th>mar</th>\n",
       "      <td>20190205</td>\n",
       "      <td>C:\\my_packages\\doc_data\\dsm\\mar_20190205_dsm_c...</td>\n",
       "      <td>32754</td>\n",
       "      <td>C:\\my_packages\\doc_data\\transects\\mar_transect...</td>\n",
       "      <td>epsg:32754</td>\n",
       "    </tr>\n",
       "    <tr>\n",
       "      <th>mar</th>\n",
       "      <td>20190313</td>\n",
       "      <td>C:\\my_packages\\doc_data\\dsm\\mar_20190313_dsm_c...</td>\n",
       "      <td>32754</td>\n",
       "      <td>C:\\my_packages\\doc_data\\transects\\mar_transect...</td>\n",
       "      <td>epsg:32754</td>\n",
       "    </tr>\n",
       "    <tr>\n",
       "      <th>mar</th>\n",
       "      <td>20190516</td>\n",
       "      <td>C:\\my_packages\\doc_data\\dsm\\mar_20190516_dsm_c...</td>\n",
       "      <td>32754</td>\n",
       "      <td>C:\\my_packages\\doc_data\\transects\\mar_transect...</td>\n",
       "      <td>epsg:32754</td>\n",
       "    </tr>\n",
       "  </tbody>\n",
       "</table>\n",
       "</div>"
      ],
      "text/plain": [
       "          raw_date                                    filename_raster  \\\n",
       "location                                                                \n",
       "leo       20180606  C:\\my_packages\\doc_data\\dsm\\leo_20180606_dsm_c...   \n",
       "leo       20180713  C:\\my_packages\\doc_data\\dsm\\leo_20180713_dsm_c...   \n",
       "leo       20180920  C:\\my_packages\\doc_data\\dsm\\leo_20180920_dsm_c...   \n",
       "leo       20190211  C:\\my_packages\\doc_data\\dsm\\leo_20190211_dsm_c...   \n",
       "leo       20190328  C:\\my_packages\\doc_data\\dsm\\leo_20190328_dsm_c...   \n",
       "leo       20190731  C:\\my_packages\\doc_data\\dsm\\leo_20190731_dsm_c...   \n",
       "mar       20180601  C:\\my_packages\\doc_data\\dsm\\mar_20180601_dsm_c...   \n",
       "mar       20180621  C:\\my_packages\\doc_data\\dsm\\mar_20180621_dsm_c...   \n",
       "mar       20180727  C:\\my_packages\\doc_data\\dsm\\mar_20180727_dsm_c...   \n",
       "mar       20180925  C:\\my_packages\\doc_data\\dsm\\mar_20180925_dsm_c...   \n",
       "mar       20181113  C:\\my_packages\\doc_data\\dsm\\mar_20181113_dsm_c...   \n",
       "mar       20181211  C:\\my_packages\\doc_data\\dsm\\mar_20181211_dsm_c...   \n",
       "mar       20190205  C:\\my_packages\\doc_data\\dsm\\mar_20190205_dsm_c...   \n",
       "mar       20190313  C:\\my_packages\\doc_data\\dsm\\mar_20190313_dsm_c...   \n",
       "mar       20190516  C:\\my_packages\\doc_data\\dsm\\mar_20190516_dsm_c...   \n",
       "\n",
       "          crs_raster                                       filename_trs  \\\n",
       "location                                                                  \n",
       "leo            32755  C:\\my_packages\\doc_data\\transects\\leo_transect...   \n",
       "leo            32755  C:\\my_packages\\doc_data\\transects\\leo_transect...   \n",
       "leo            32755  C:\\my_packages\\doc_data\\transects\\leo_transect...   \n",
       "leo            32755  C:\\my_packages\\doc_data\\transects\\leo_transect...   \n",
       "leo            32755  C:\\my_packages\\doc_data\\transects\\leo_transect...   \n",
       "leo            32755  C:\\my_packages\\doc_data\\transects\\leo_transect...   \n",
       "mar            32754  C:\\my_packages\\doc_data\\transects\\mar_transect...   \n",
       "mar            32754  C:\\my_packages\\doc_data\\transects\\mar_transect...   \n",
       "mar            32754  C:\\my_packages\\doc_data\\transects\\mar_transect...   \n",
       "mar            32754  C:\\my_packages\\doc_data\\transects\\mar_transect...   \n",
       "mar            32754  C:\\my_packages\\doc_data\\transects\\mar_transect...   \n",
       "mar            32754  C:\\my_packages\\doc_data\\transects\\mar_transect...   \n",
       "mar            32754  C:\\my_packages\\doc_data\\transects\\mar_transect...   \n",
       "mar            32754  C:\\my_packages\\doc_data\\transects\\mar_transect...   \n",
       "mar            32754  C:\\my_packages\\doc_data\\transects\\mar_transect...   \n",
       "\n",
       "         crs_transect  \n",
       "location               \n",
       "leo        epsg:32755  \n",
       "leo        epsg:32755  \n",
       "leo        epsg:32755  \n",
       "leo        epsg:32755  \n",
       "leo        epsg:32755  \n",
       "leo        epsg:32755  \n",
       "mar        epsg:32754  \n",
       "mar        epsg:32754  \n",
       "mar        epsg:32754  \n",
       "mar        epsg:32754  \n",
       "mar        epsg:32754  \n",
       "mar        epsg:32754  \n",
       "mar        epsg:32754  \n",
       "mar        epsg:32754  \n",
       "mar        epsg:32754  "
      ]
     },
     "execution_count": 10,
     "metadata": {},
     "output_type": "execute_result"
    }
   ],
   "source": [
    "check=cross_ref(dirNameDSM,dirNameTrans,print_info=True, loc_search_dict=loc_search_dict,list_loc_codes=loc_codes)\n",
    "check"
   ]
  },
  {
   "cell_type": "markdown",
   "metadata": {},
   "source": [
    "Nice! We are now ready to extract data from DSMs or ORTOs with the provided transect files."
   ]
  },
  {
   "cell_type": "markdown",
   "metadata": {},
   "source": [
    "### Extraction of profiles from folder\n",
    "\n",
    "This is the cell where the automatic extraction gets processed.\n",
    "The only parameter to set is the __sampling step__ variable, which indicates the __cross-shore sampling distance (m)__ that we want to use along our transects. Beware, although you could use a very small sampling distance (UAV datasets tend to be between few to 10 cm pixel size), file dimension will increase significantly!."
   ]
  },
  {
   "cell_type": "markdown",
   "metadata": {},
   "source": [
    "__Dealing with NaNs__\n",
    "\n",
    ">NaNs might come from two different cases:\n",
    ">1. extraction of points generated on transects falling __outside__ of the underlying raster extent\n",
    ">2. points sampled from transect __inside__ the raster extent but containing NoData cells.\n",
    ">\n",
    ">Conveniently, the extraction profile function makes sure that if points fall outside the raster extent (case 1), those >elevations are assigned a default nan value, in the NumPy np.nan form.\n",
    ">In case 2, however, the values extracted depends on the definition of NaNs of the source raster format."
   ]
  },
  {
   "cell_type": "code",
   "execution_count": 11,
   "metadata": {
    "scrolled": true
   },
   "outputs": [
    {
     "data": {
      "application/vnd.jupyter.widget-view+json": {
       "model_id": "1bc95bffd47a4d48b0c0694920320385",
       "version_major": 2,
       "version_minor": 0
      },
      "text/plain": [
       "  0%|          | 0/15 [00:00<?, ?it/s]"
      ]
     },
     "metadata": {},
     "output_type": "display_data"
    },
    {
     "name": "stderr",
     "output_type": "stream",
     "text": [
      "C:\\conda3\\envs\\sandpyper_env\\lib\\site-packages\\geopandas\\geodataframe.py:422: RuntimeWarning: Sequential read of iterator was interrupted. Resetting iterator. This can negatively impact the performance.\n",
      "  for feature in features_lst:\n"
     ]
    },
    {
     "data": {
      "application/vnd.jupyter.widget-view+json": {
       "model_id": "29418617df664eca8231210ec22b3c70",
       "version_major": 2,
       "version_minor": 0
      },
      "text/plain": [
       "  0%|          | 0/59 [00:00<?, ?it/s]"
      ]
     },
     "metadata": {},
     "output_type": "display_data"
    },
    {
     "data": {
      "application/vnd.jupyter.widget-view+json": {
       "model_id": "2e656d60c38e44db89d6fba4a53301ad",
       "version_major": 2,
       "version_minor": 0
      },
      "text/plain": [
       "  0%|          | 0/59 [00:00<?, ?it/s]"
      ]
     },
     "metadata": {},
     "output_type": "display_data"
    },
    {
     "data": {
      "application/vnd.jupyter.widget-view+json": {
       "model_id": "f57d6b751ade4cdd8f8d7365a00adce9",
       "version_major": 2,
       "version_minor": 0
      },
      "text/plain": [
       "  0%|          | 0/59 [00:00<?, ?it/s]"
      ]
     },
     "metadata": {},
     "output_type": "display_data"
    },
    {
     "data": {
      "application/vnd.jupyter.widget-view+json": {
       "model_id": "933e70b942b84290bc06816be9c1ae9c",
       "version_major": 2,
       "version_minor": 0
      },
      "text/plain": [
       "  0%|          | 0/59 [00:00<?, ?it/s]"
      ]
     },
     "metadata": {},
     "output_type": "display_data"
    },
    {
     "data": {
      "application/vnd.jupyter.widget-view+json": {
       "model_id": "2fe20f9a73ac4bba8e942184110a4675",
       "version_major": 2,
       "version_minor": 0
      },
      "text/plain": [
       "  0%|          | 0/59 [00:00<?, ?it/s]"
      ]
     },
     "metadata": {},
     "output_type": "display_data"
    },
    {
     "data": {
      "application/vnd.jupyter.widget-view+json": {
       "model_id": "fa899a2be9de413f9cc2d1e5feacc186",
       "version_major": 2,
       "version_minor": 0
      },
      "text/plain": [
       "  0%|          | 0/59 [00:00<?, ?it/s]"
      ]
     },
     "metadata": {},
     "output_type": "display_data"
    },
    {
     "data": {
      "application/vnd.jupyter.widget-view+json": {
       "model_id": "987fe0db34bc428182c747394100e378",
       "version_major": 2,
       "version_minor": 0
      },
      "text/plain": [
       "  0%|          | 0/27 [00:00<?, ?it/s]"
      ]
     },
     "metadata": {},
     "output_type": "display_data"
    },
    {
     "data": {
      "application/vnd.jupyter.widget-view+json": {
       "model_id": "d84b70135e494e1ba9f4221318d91513",
       "version_major": 2,
       "version_minor": 0
      },
      "text/plain": [
       "  0%|          | 0/27 [00:00<?, ?it/s]"
      ]
     },
     "metadata": {},
     "output_type": "display_data"
    },
    {
     "data": {
      "application/vnd.jupyter.widget-view+json": {
       "model_id": "f687aeca4ab24d4aa7a0f128778d2ec8",
       "version_major": 2,
       "version_minor": 0
      },
      "text/plain": [
       "  0%|          | 0/27 [00:00<?, ?it/s]"
      ]
     },
     "metadata": {},
     "output_type": "display_data"
    },
    {
     "data": {
      "application/vnd.jupyter.widget-view+json": {
       "model_id": "2309be50e0ee46d1b735fb5d2ba1bc59",
       "version_major": 2,
       "version_minor": 0
      },
      "text/plain": [
       "  0%|          | 0/27 [00:00<?, ?it/s]"
      ]
     },
     "metadata": {},
     "output_type": "display_data"
    },
    {
     "data": {
      "application/vnd.jupyter.widget-view+json": {
       "model_id": "9aee18827bae437db6e51f8395d38265",
       "version_major": 2,
       "version_minor": 0
      },
      "text/plain": [
       "  0%|          | 0/27 [00:00<?, ?it/s]"
      ]
     },
     "metadata": {},
     "output_type": "display_data"
    },
    {
     "data": {
      "application/vnd.jupyter.widget-view+json": {
       "model_id": "ff0a1336bb0a46de81496d510d7dd078",
       "version_major": 2,
       "version_minor": 0
      },
      "text/plain": [
       "  0%|          | 0/27 [00:00<?, ?it/s]"
      ]
     },
     "metadata": {},
     "output_type": "display_data"
    },
    {
     "data": {
      "application/vnd.jupyter.widget-view+json": {
       "model_id": "444bae06fb4943858544064e99d02189",
       "version_major": 2,
       "version_minor": 0
      },
      "text/plain": [
       "  0%|          | 0/27 [00:00<?, ?it/s]"
      ]
     },
     "metadata": {},
     "output_type": "display_data"
    },
    {
     "data": {
      "application/vnd.jupyter.widget-view+json": {
       "model_id": "55d59d2930a0468d9b9a49910ca6f150",
       "version_major": 2,
       "version_minor": 0
      },
      "text/plain": [
       "  0%|          | 0/27 [00:00<?, ?it/s]"
      ]
     },
     "metadata": {},
     "output_type": "display_data"
    },
    {
     "data": {
      "application/vnd.jupyter.widget-view+json": {
       "model_id": "90ae03502fd74d73bcb03e2a2fe3d2a6",
       "version_major": 2,
       "version_minor": 0
      },
      "text/plain": [
       "  0%|          | 0/27 [00:00<?, ?it/s]"
      ]
     },
     "metadata": {},
     "output_type": "display_data"
    },
    {
     "name": "stdout",
     "output_type": "stream",
     "text": [
      "Extraction succesfull\n",
      "Number of points extracted:295740\n",
      "Time for processing=274.16132616996765 seconds\n",
      "First 10 rows are printed below\n",
      "Number of points outside the raster extents: 329697\n",
      "The extraction assigns NaN.\n",
      "Number of points in NoData areas within the raster extents: 0\n",
      "The extraction assigns NaN.\n"
     ]
    },
    {
     "data": {
      "application/vnd.jupyter.widget-view+json": {
       "model_id": "57644abab37149e8b17e278071f846cd",
       "version_major": 2,
       "version_minor": 0
      },
      "text/plain": [
       "  0%|          | 0/15 [00:00<?, ?it/s]"
      ]
     },
     "metadata": {},
     "output_type": "display_data"
    },
    {
     "name": "stderr",
     "output_type": "stream",
     "text": [
      "C:\\conda3\\envs\\sandpyper_env\\lib\\site-packages\\geopandas\\geodataframe.py:422: RuntimeWarning: Sequential read of iterator was interrupted. Resetting iterator. This can negatively impact the performance.\n",
      "  for feature in features_lst:\n"
     ]
    },
    {
     "data": {
      "application/vnd.jupyter.widget-view+json": {
       "model_id": "ed88955ffccf4f9fb7fa4469f404a2fe",
       "version_major": 2,
       "version_minor": 0
      },
      "text/plain": [
       "  0%|          | 0/59 [00:00<?, ?it/s]"
      ]
     },
     "metadata": {},
     "output_type": "display_data"
    },
    {
     "data": {
      "application/vnd.jupyter.widget-view+json": {
       "model_id": "c5f7ec4b7af34a248cefa48c1f93b435",
       "version_major": 2,
       "version_minor": 0
      },
      "text/plain": [
       "  0%|          | 0/59 [00:00<?, ?it/s]"
      ]
     },
     "metadata": {},
     "output_type": "display_data"
    },
    {
     "data": {
      "application/vnd.jupyter.widget-view+json": {
       "model_id": "b7d41d1a57844e4eb41317b007717d7d",
       "version_major": 2,
       "version_minor": 0
      },
      "text/plain": [
       "  0%|          | 0/59 [00:00<?, ?it/s]"
      ]
     },
     "metadata": {},
     "output_type": "display_data"
    },
    {
     "data": {
      "application/vnd.jupyter.widget-view+json": {
       "model_id": "c4dc7b9beb0b4bee8c078e18f043ddbb",
       "version_major": 2,
       "version_minor": 0
      },
      "text/plain": [
       "  0%|          | 0/59 [00:00<?, ?it/s]"
      ]
     },
     "metadata": {},
     "output_type": "display_data"
    },
    {
     "data": {
      "application/vnd.jupyter.widget-view+json": {
       "model_id": "717849fd825a4f64976dc725634b7c94",
       "version_major": 2,
       "version_minor": 0
      },
      "text/plain": [
       "  0%|          | 0/59 [00:00<?, ?it/s]"
      ]
     },
     "metadata": {},
     "output_type": "display_data"
    },
    {
     "data": {
      "application/vnd.jupyter.widget-view+json": {
       "model_id": "2e496ff22ab64930bac8c88cc095c277",
       "version_major": 2,
       "version_minor": 0
      },
      "text/plain": [
       "  0%|          | 0/59 [00:00<?, ?it/s]"
      ]
     },
     "metadata": {},
     "output_type": "display_data"
    },
    {
     "data": {
      "application/vnd.jupyter.widget-view+json": {
       "model_id": "17463a3191d841b6adab196d90c07ca7",
       "version_major": 2,
       "version_minor": 0
      },
      "text/plain": [
       "  0%|          | 0/27 [00:00<?, ?it/s]"
      ]
     },
     "metadata": {},
     "output_type": "display_data"
    },
    {
     "data": {
      "application/vnd.jupyter.widget-view+json": {
       "model_id": "71f937997e364b31a0abced9f67890a4",
       "version_major": 2,
       "version_minor": 0
      },
      "text/plain": [
       "  0%|          | 0/27 [00:00<?, ?it/s]"
      ]
     },
     "metadata": {},
     "output_type": "display_data"
    },
    {
     "data": {
      "application/vnd.jupyter.widget-view+json": {
       "model_id": "33e911e6eea7448a9d2e475df8dda4d8",
       "version_major": 2,
       "version_minor": 0
      },
      "text/plain": [
       "  0%|          | 0/27 [00:00<?, ?it/s]"
      ]
     },
     "metadata": {},
     "output_type": "display_data"
    },
    {
     "data": {
      "application/vnd.jupyter.widget-view+json": {
       "model_id": "69ffdfed56a5447cab55c6715f79714f",
       "version_major": 2,
       "version_minor": 0
      },
      "text/plain": [
       "  0%|          | 0/27 [00:00<?, ?it/s]"
      ]
     },
     "metadata": {},
     "output_type": "display_data"
    },
    {
     "data": {
      "application/vnd.jupyter.widget-view+json": {
       "model_id": "8a656d8699f64a7593f6d5e87b838789",
       "version_major": 2,
       "version_minor": 0
      },
      "text/plain": [
       "  0%|          | 0/27 [00:00<?, ?it/s]"
      ]
     },
     "metadata": {},
     "output_type": "display_data"
    },
    {
     "data": {
      "application/vnd.jupyter.widget-view+json": {
       "model_id": "a59097eeb86d458bab46bed361cc4d36",
       "version_major": 2,
       "version_minor": 0
      },
      "text/plain": [
       "  0%|          | 0/27 [00:00<?, ?it/s]"
      ]
     },
     "metadata": {},
     "output_type": "display_data"
    },
    {
     "data": {
      "application/vnd.jupyter.widget-view+json": {
       "model_id": "cecf6a4c5cca4487bd073b62f0f42d9d",
       "version_major": 2,
       "version_minor": 0
      },
      "text/plain": [
       "  0%|          | 0/27 [00:00<?, ?it/s]"
      ]
     },
     "metadata": {},
     "output_type": "display_data"
    },
    {
     "data": {
      "application/vnd.jupyter.widget-view+json": {
       "model_id": "8d440069a87d4c999322ccce229aa9c0",
       "version_major": 2,
       "version_minor": 0
      },
      "text/plain": [
       "  0%|          | 0/27 [00:00<?, ?it/s]"
      ]
     },
     "metadata": {},
     "output_type": "display_data"
    },
    {
     "data": {
      "application/vnd.jupyter.widget-view+json": {
       "model_id": "1cbaddd94fe94970a2e6d75e7d0ba0c4",
       "version_major": 2,
       "version_minor": 0
      },
      "text/plain": [
       "  0%|          | 0/27 [00:00<?, ?it/s]"
      ]
     },
     "metadata": {},
     "output_type": "display_data"
    },
    {
     "name": "stdout",
     "output_type": "stream",
     "text": [
      "Extraction succesfull\n",
      "Number of points extracted:295740\n",
      "Time for processing=265.16719675064087 seconds\n",
      "First 10 rows are printed below\n",
      "Number of points outside the raster extents: 109897\n",
      "The extraction assigns NaN.\n",
      "Number of points in NoData areas within the raster extents: 486\n",
      "The extraction assigns NaN.\n",
      "Wall time: 8min 59s\n"
     ]
    }
   ],
   "source": [
    "%%time\n",
    "\n",
    "## Parameters to specify\n",
    "\n",
    "transect_folder=dirNameTrans\n",
    "sampling_step=0.1\n",
    "\n",
    "\n",
    "gdf_rgb=extract_from_folder(dataset_folder=dirNameOrtho,\n",
    "                        transect_folder=transect_folder,\n",
    "                        mode=\"ortho\",sampling_step=sampling_step,\n",
    "                        list_loc_codes=loc_codes,\n",
    "                        add_xy=True)\n",
    "\n",
    "gdf=extract_from_folder(dataset_folder=dirNameDSM,\n",
    "                        transect_folder=transect_folder,\n",
    "                        mode=\"dsm\",sampling_step=sampling_step,\n",
    "                        list_loc_codes=loc_codes,\n",
    "                        add_xy=True)\n"
   ]
  },
  {
   "cell_type": "markdown",
   "metadata": {},
   "source": [
    "### GOOD!\n",
    "\n",
    "save the Geodataframes (gdf and gdf_rgb) as a CSV file and head to the __SANDPYPER Labeling sand notebook__."
   ]
  },
  {
   "cell_type": "code",
   "execution_count": 13,
   "metadata": {},
   "outputs": [],
   "source": [
    "# Saving the files\n",
    "\n",
    "#gdf.to_csv(r\"C:\\my_packages\\doc_data\\profiles\\elevation.csv\",index=False)\n",
    "#gdf_rgb.to_csv(r\"C:\\my_packages\\doc_data\\profiles\\rgb.csv\",index=False)"
   ]
  },
  {
   "cell_type": "markdown",
   "metadata": {},
   "source": [
    "___"
   ]
  }
 ],
 "metadata": {
  "kernelspec": {
   "display_name": "Python 3",
   "language": "python",
   "name": "python3"
  },
  "language_info": {
   "codemirror_mode": {
    "name": "ipython",
    "version": 3
   },
   "file_extension": ".py",
   "mimetype": "text/x-python",
   "name": "python",
   "nbconvert_exporter": "python",
   "pygments_lexer": "ipython3",
   "version": "3.9.4"
  }
 },
 "nbformat": 4,
 "nbformat_minor": 2
}
