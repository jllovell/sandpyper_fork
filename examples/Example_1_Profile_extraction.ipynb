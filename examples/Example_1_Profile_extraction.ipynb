{
 "cells": [
  {
   "cell_type": "markdown",
   "metadata": {},
   "source": [
    "<font size=\"5\"><center> <b>Sandpyper: sandy beaches SfM-UAV analysis tools</b></center></font>\n",
    "<font size=\"4\"><center> <b> Example 1 - Profiles extraction </b></center> <br>\n",
    "\n",
    "    \n",
    "<center><img src=\"images/banner.png\" width=\"80%\"  /></center>\n",
    "\n",
    "<font face=\"Calibri\">\n",
    "<br>\n",
    "<font size=\"5\"> <b>Profiles creation and data extraction from DSM and orthophotos</b></font>\n",
    "\n",
    "<br>\n",
    "<font size=\"4\"> <b> Nicolas Pucino; PhD Student @ Deakin University, Australia </b> <br>\n",
    "\n",
    "<font size=\"3\">The first steps in a typical workflow is to create cross-shore transects in all the locations and extract elevation and RGB information along those transects. Sandpiper allows the data extraction from hundreds of rasters at once, in an organised way. <br>\n",
    "\n",
    "<b>This notebook covers the following concepts:</b>\n",
    "\n",
    "- Naming conventions and global parameters.\n",
    "- Setting up the folders.\n",
    "- Setting up the folders.\n",
    "</font>\n",
    "\n",
    "\n",
    "</font>"
   ]
  },
  {
   "cell_type": "markdown",
   "metadata": {},
   "source": [
    "Import all it is required."
   ]
  },
  {
   "cell_type": "code",
   "execution_count": 1,
   "metadata": {
    "scrolled": true
   },
   "outputs": [
    {
     "name": "stderr",
     "output_type": "stream",
     "text": [
      "C:\\conda3\\envs\\sandpyper_env\\lib\\site-packages\\fuzzywuzzy\\fuzz.py:11: UserWarning: Using slow pure-python SequenceMatcher. Install python-Levenshtein to remove this warning\n",
      "  warnings.warn('Using slow pure-python SequenceMatcher. Install python-Levenshtein to remove this warning')\n"
     ]
    }
   ],
   "source": [
    "import matplotlib.pyplot as plt\n",
    "import pandas as pd\n",
    "import geopandas as gpd\n",
    "\n",
    "from sandpyper.outils import cross_ref\n",
    "from sandpyper.profile import extract_from_folder\n",
    "from sandpyper.space import create_transects\n",
    "\n",
    "pd.options.mode.chained_assignment = None  # default='warn'"
   ]
  },
  {
   "cell_type": "code",
   "execution_count": 2,
   "metadata": {},
   "outputs": [],
   "source": [
    "class ProfileSet():\n",
    "    \"\"\"\n",
    "    ciao\n",
    "    \"\"\"\n",
    "    def __init__(self,\n",
    "                 dirNameDSM=None,\n",
    "                 dirNameOrtho=None,\n",
    "                 dirNameTrans=None,\n",
    "                 loc_codes=None,\n",
    "                 loc_search_dict=None,\n",
    "                 crs_dict_string=None,\n",
    "                check=\"dsm\"):\n",
    "        \n",
    "        if check==\"dsm\":\n",
    "            path_in=self.dirNameDSM\n",
    "        elif check == \"ortho\":\n",
    "            path_in=self.dirNameOrtho\n",
    "        elif check == \"all\":\n",
    "            path_in=[self.dirNameDSM, self.dirNameOrtho]\n",
    "        \n",
    "        \n",
    "        self.dirNameDSM=dirNameDSM\n",
    "        self.dirNameOrtho=dirNameOrtho\n",
    "        self.dirNameTrans=dirNameTrans\n",
    "        \n",
    "        self.loc_codes=loc_codes\n",
    "        self.loc_search_dict=loc_search_dict\n",
    "        self.crs_dict_string=crs_dict_string\n",
    "        \n",
    "        self.check=cross_ref(path_in,\n",
    "                        self.dirNameTrans,\n",
    "                        print_info=True, \n",
    "                        loc_search_dict=self.loc_search_dict,\n",
    "                        list_loc_codes=self.loc_codes)\n",
    "\n",
    "        \n",
    "    def extract_profiles(self,\n",
    "                         mode,\n",
    "                         sampling_step,\n",
    "                         add_xy,\n",
    "                         add_slope=False,\n",
    "                         default_nan_values=-10000):\n",
    "        \n",
    "        if mode==\"dsm\":\n",
    "            path_in=self.dirNameDSM\n",
    "        elif mode == \"ortho\":\n",
    "            path_in=self.dirNameOrtho\n",
    "        else:\n",
    "            raise NameError(\"mode must be either 'dsm' or 'rgb'.\")\n",
    "        \n",
    "        profiles=extract_from_folder(dataset_folder=path_in,\n",
    "                        transect_folder=self.dirNameTrans,\n",
    "                        mode=mode,sampling_step=sampling_step,\n",
    "                        list_loc_codes=self.loc_codes,\n",
    "                        add_xy=True)\n",
    "        if mode==\"dsm\":\n",
    "            self.profiles_z=profiles\n",
    "        else:\n",
    "            self.profiles_rgb=profiles\n",
    "        \n",
    "        self.sampling_step=sampling_step\n"
   ]
  },
  {
   "cell_type": "code",
   "execution_count": 3,
   "metadata": {},
   "outputs": [],
   "source": [
    "from sandpyper.outils import extract_loc_date,getCrs_from_raster_path,getCrs_from_transect,getLoc\n",
    "def filepath_raster_type(ras_path):\n",
    "        \"\"\"Returns 'dsm' if ras_path is of a DSM (1 single band) or 'ortho' if has multiple bands.\"\"\"\n",
    "        with ras.open(r\"{}\".format(ras_path)) as raster:\n",
    "            if raster.count==1:\n",
    "                return \"dsm\"\n",
    "            else:\n",
    "                return \"ortho\""
   ]
  },
  {
   "cell_type": "code",
   "execution_count": 13,
   "metadata": {},
   "outputs": [],
   "source": [
    "import rasterio as ras"
   ]
  },
  {
   "cell_type": "code",
   "execution_count": 57,
   "metadata": {},
   "outputs": [],
   "source": [
    "def cross_ref(\n",
    "    dir_inputs, dirNameTrans, loc_search_dict, list_loc_codes, print_info=False\n",
    "):\n",
    "    \"\"\"\n",
    "    Returns a dataframe with location, raw_date, filenames (paths)\n",
    "    and CRS of each raster and associated transect files. Used to double-check.\n",
    "\n",
    "    Args:\n",
    "        dirNameDSM (str): Path of the directory containing the geotiffs datasets (.tiff or .tif).\n",
    "        dirNameTrans (str): Path of the directory containing the transects (geopackages, .gpkg).\n",
    "        loc_search_dict (list): Dictionary used to match filename with right location code.\n",
    "        list_loc_codes (list): list of strings containing location codes.\n",
    "        print_info (bool): If True, prints count of datasets/location and total. Default = False.\n",
    "\n",
    "    Returns:\n",
    "        Dataframe and information about raster-transect files matches.\n",
    "    \"\"\"\n",
    "\n",
    "    # DF transects\n",
    "    list_transects = glob.glob(f\"{dirNameTrans}\\*.gpkg\")\n",
    "    locs_transects = pd.DataFrame(\n",
    "        pd.Series(\n",
    "            [getLoc(trs, list_loc_codes) for trs in list_transects], name=\"location\"\n",
    "        )\n",
    "    )\n",
    "    \n",
    "    df_tmp_trd = pd.DataFrame(locs_transects, columns=[\"location\"])\n",
    "    df_tmp_trd[\"filename_trs\"] = list_transects\n",
    "    df_tmp_trd[\"crs_transect\"] = df_tmp_trd.filename_trs.apply(getCrs_from_transect)\n",
    "        \n",
    "    if isinstance(dir_inputs, list):\n",
    "        dirs=dir_inputs\n",
    "    else:\n",
    "        dirs=[dir_inputs]\n",
    "        \n",
    "    rasters_df=pd.DataFrame()\n",
    "    \n",
    "    for path_in in dirs:\n",
    "\n",
    "        list_rasters = glob.glob(f\"{path_in}\\*.ti*\")\n",
    "        loc_date_labels_raster = [\n",
    "            extract_loc_date(file1, loc_search_dict=loc_search_dict)\n",
    "            for file1 in list_rasters\n",
    "        ]\n",
    "\n",
    "        df_tmp_raster = pd.DataFrame(\n",
    "            loc_date_labels_raster, columns=[\"location\", \"raw_date\"]\n",
    "        )\n",
    "        df_tmp_raster[\"filename_raster\"] = list_rasters\n",
    "        df_tmp_raster[\"crs_raster\"] = df_tmp_raster.filename_raster.apply(\n",
    "            getCrs_from_raster_path\n",
    "        )\n",
    "        df_tmp_raster[\"raster_type\"]=[filepath_raster_type(i) for i in list_rasters]\n",
    "        \n",
    "        rasters_df=pd.concat([rasters_df,df_tmp_raster], ignore_index=True)\n",
    "\n",
    "    matched = pd.merge(rasters_df, df_tmp_trd, on=\"location\", how=\"left\").set_index(\n",
    "        [\"location\"]\n",
    "    )\n",
    "\n",
    "    if bool(print_info) is True:\n",
    "        counts=check.groupby([\"location\",\"raster_type\"]).count().reset_index()\n",
    "\n",
    "        for i,row in counts.iterrows():\n",
    "            print(f\"{row['raster_type']} from {row['location']} = {row['raw_date']}\\n\")\n",
    "\n",
    "        print(f\"\\nNUMBER OF DATASETS TO PROCESS: {counts.raw_date.sum()}\")\n",
    "\n",
    "    return matched"
   ]
  },
  {
   "cell_type": "code",
   "execution_count": 58,
   "metadata": {
    "scrolled": true
   },
   "outputs": [
    {
     "name": "stderr",
     "output_type": "stream",
     "text": [
      "C:\\conda3\\envs\\sandpyper_env\\lib\\site-packages\\geopandas\\geodataframe.py:422: RuntimeWarning: Sequential read of iterator was interrupted. Resetting iterator. This can negatively impact the performance.\n",
      "  for feature in features_lst:\n"
     ]
    },
    {
     "name": "stdout",
     "output_type": "stream",
     "text": [
      "dsm from leo = 6\n",
      "\n",
      "ortho from leo = 6\n",
      "\n",
      "dsm from mar = 9\n",
      "\n",
      "ortho from mar = 9\n",
      "\n",
      "\n",
      "NUMBER OF DATASETS TO PROCESS: 30\n"
     ]
    },
    {
     "data": {
      "text/html": [
       "<div>\n",
       "<style scoped>\n",
       "    .dataframe tbody tr th:only-of-type {\n",
       "        vertical-align: middle;\n",
       "    }\n",
       "\n",
       "    .dataframe tbody tr th {\n",
       "        vertical-align: top;\n",
       "    }\n",
       "\n",
       "    .dataframe thead th {\n",
       "        text-align: right;\n",
       "    }\n",
       "</style>\n",
       "<table border=\"1\" class=\"dataframe\">\n",
       "  <thead>\n",
       "    <tr style=\"text-align: right;\">\n",
       "      <th></th>\n",
       "      <th>raw_date</th>\n",
       "      <th>filename_raster</th>\n",
       "      <th>crs_raster</th>\n",
       "      <th>raster_type</th>\n",
       "      <th>filename_trs</th>\n",
       "      <th>crs_transect</th>\n",
       "    </tr>\n",
       "    <tr>\n",
       "      <th>location</th>\n",
       "      <th></th>\n",
       "      <th></th>\n",
       "      <th></th>\n",
       "      <th></th>\n",
       "      <th></th>\n",
       "      <th></th>\n",
       "    </tr>\n",
       "  </thead>\n",
       "  <tbody>\n",
       "    <tr>\n",
       "      <th>leo</th>\n",
       "      <td>20180606</td>\n",
       "      <td>C:\\my_packages\\sandpyper\\tests\\test_data\\dsm_1...</td>\n",
       "      <td>32755</td>\n",
       "      <td>dsm</td>\n",
       "      <td>C:\\my_packages\\sandpyper\\tests\\test_data\\trans...</td>\n",
       "      <td>epsg:32755</td>\n",
       "    </tr>\n",
       "    <tr>\n",
       "      <th>leo</th>\n",
       "      <td>20180713</td>\n",
       "      <td>C:\\my_packages\\sandpyper\\tests\\test_data\\dsm_1...</td>\n",
       "      <td>32755</td>\n",
       "      <td>dsm</td>\n",
       "      <td>C:\\my_packages\\sandpyper\\tests\\test_data\\trans...</td>\n",
       "      <td>epsg:32755</td>\n",
       "    </tr>\n",
       "    <tr>\n",
       "      <th>leo</th>\n",
       "      <td>20180920</td>\n",
       "      <td>C:\\my_packages\\sandpyper\\tests\\test_data\\dsm_1...</td>\n",
       "      <td>32755</td>\n",
       "      <td>dsm</td>\n",
       "      <td>C:\\my_packages\\sandpyper\\tests\\test_data\\trans...</td>\n",
       "      <td>epsg:32755</td>\n",
       "    </tr>\n",
       "    <tr>\n",
       "      <th>leo</th>\n",
       "      <td>20190211</td>\n",
       "      <td>C:\\my_packages\\sandpyper\\tests\\test_data\\dsm_1...</td>\n",
       "      <td>32755</td>\n",
       "      <td>dsm</td>\n",
       "      <td>C:\\my_packages\\sandpyper\\tests\\test_data\\trans...</td>\n",
       "      <td>epsg:32755</td>\n",
       "    </tr>\n",
       "    <tr>\n",
       "      <th>leo</th>\n",
       "      <td>20190328</td>\n",
       "      <td>C:\\my_packages\\sandpyper\\tests\\test_data\\dsm_1...</td>\n",
       "      <td>32755</td>\n",
       "      <td>dsm</td>\n",
       "      <td>C:\\my_packages\\sandpyper\\tests\\test_data\\trans...</td>\n",
       "      <td>epsg:32755</td>\n",
       "    </tr>\n",
       "    <tr>\n",
       "      <th>leo</th>\n",
       "      <td>20190731</td>\n",
       "      <td>C:\\my_packages\\sandpyper\\tests\\test_data\\dsm_1...</td>\n",
       "      <td>32755</td>\n",
       "      <td>dsm</td>\n",
       "      <td>C:\\my_packages\\sandpyper\\tests\\test_data\\trans...</td>\n",
       "      <td>epsg:32755</td>\n",
       "    </tr>\n",
       "    <tr>\n",
       "      <th>mar</th>\n",
       "      <td>20180601</td>\n",
       "      <td>C:\\my_packages\\sandpyper\\tests\\test_data\\dsm_1...</td>\n",
       "      <td>32754</td>\n",
       "      <td>dsm</td>\n",
       "      <td>C:\\my_packages\\sandpyper\\tests\\test_data\\trans...</td>\n",
       "      <td>epsg:32754</td>\n",
       "    </tr>\n",
       "    <tr>\n",
       "      <th>mar</th>\n",
       "      <td>20180621</td>\n",
       "      <td>C:\\my_packages\\sandpyper\\tests\\test_data\\dsm_1...</td>\n",
       "      <td>32754</td>\n",
       "      <td>dsm</td>\n",
       "      <td>C:\\my_packages\\sandpyper\\tests\\test_data\\trans...</td>\n",
       "      <td>epsg:32754</td>\n",
       "    </tr>\n",
       "    <tr>\n",
       "      <th>mar</th>\n",
       "      <td>20180727</td>\n",
       "      <td>C:\\my_packages\\sandpyper\\tests\\test_data\\dsm_1...</td>\n",
       "      <td>32754</td>\n",
       "      <td>dsm</td>\n",
       "      <td>C:\\my_packages\\sandpyper\\tests\\test_data\\trans...</td>\n",
       "      <td>epsg:32754</td>\n",
       "    </tr>\n",
       "    <tr>\n",
       "      <th>mar</th>\n",
       "      <td>20180925</td>\n",
       "      <td>C:\\my_packages\\sandpyper\\tests\\test_data\\dsm_1...</td>\n",
       "      <td>32754</td>\n",
       "      <td>dsm</td>\n",
       "      <td>C:\\my_packages\\sandpyper\\tests\\test_data\\trans...</td>\n",
       "      <td>epsg:32754</td>\n",
       "    </tr>\n",
       "    <tr>\n",
       "      <th>mar</th>\n",
       "      <td>20181113</td>\n",
       "      <td>C:\\my_packages\\sandpyper\\tests\\test_data\\dsm_1...</td>\n",
       "      <td>32754</td>\n",
       "      <td>dsm</td>\n",
       "      <td>C:\\my_packages\\sandpyper\\tests\\test_data\\trans...</td>\n",
       "      <td>epsg:32754</td>\n",
       "    </tr>\n",
       "    <tr>\n",
       "      <th>mar</th>\n",
       "      <td>20181211</td>\n",
       "      <td>C:\\my_packages\\sandpyper\\tests\\test_data\\dsm_1...</td>\n",
       "      <td>32754</td>\n",
       "      <td>dsm</td>\n",
       "      <td>C:\\my_packages\\sandpyper\\tests\\test_data\\trans...</td>\n",
       "      <td>epsg:32754</td>\n",
       "    </tr>\n",
       "    <tr>\n",
       "      <th>mar</th>\n",
       "      <td>20190205</td>\n",
       "      <td>C:\\my_packages\\sandpyper\\tests\\test_data\\dsm_1...</td>\n",
       "      <td>32754</td>\n",
       "      <td>dsm</td>\n",
       "      <td>C:\\my_packages\\sandpyper\\tests\\test_data\\trans...</td>\n",
       "      <td>epsg:32754</td>\n",
       "    </tr>\n",
       "    <tr>\n",
       "      <th>mar</th>\n",
       "      <td>20190313</td>\n",
       "      <td>C:\\my_packages\\sandpyper\\tests\\test_data\\dsm_1...</td>\n",
       "      <td>32754</td>\n",
       "      <td>dsm</td>\n",
       "      <td>C:\\my_packages\\sandpyper\\tests\\test_data\\trans...</td>\n",
       "      <td>epsg:32754</td>\n",
       "    </tr>\n",
       "    <tr>\n",
       "      <th>mar</th>\n",
       "      <td>20190516</td>\n",
       "      <td>C:\\my_packages\\sandpyper\\tests\\test_data\\dsm_1...</td>\n",
       "      <td>32754</td>\n",
       "      <td>dsm</td>\n",
       "      <td>C:\\my_packages\\sandpyper\\tests\\test_data\\trans...</td>\n",
       "      <td>epsg:32754</td>\n",
       "    </tr>\n",
       "    <tr>\n",
       "      <th>leo</th>\n",
       "      <td>20180606</td>\n",
       "      <td>C:\\my_packages\\sandpyper\\tests\\test_data\\ortho...</td>\n",
       "      <td>32755</td>\n",
       "      <td>ortho</td>\n",
       "      <td>C:\\my_packages\\sandpyper\\tests\\test_data\\trans...</td>\n",
       "      <td>epsg:32755</td>\n",
       "    </tr>\n",
       "    <tr>\n",
       "      <th>leo</th>\n",
       "      <td>20180713</td>\n",
       "      <td>C:\\my_packages\\sandpyper\\tests\\test_data\\ortho...</td>\n",
       "      <td>32755</td>\n",
       "      <td>ortho</td>\n",
       "      <td>C:\\my_packages\\sandpyper\\tests\\test_data\\trans...</td>\n",
       "      <td>epsg:32755</td>\n",
       "    </tr>\n",
       "    <tr>\n",
       "      <th>leo</th>\n",
       "      <td>20180920</td>\n",
       "      <td>C:\\my_packages\\sandpyper\\tests\\test_data\\ortho...</td>\n",
       "      <td>32755</td>\n",
       "      <td>ortho</td>\n",
       "      <td>C:\\my_packages\\sandpyper\\tests\\test_data\\trans...</td>\n",
       "      <td>epsg:32755</td>\n",
       "    </tr>\n",
       "    <tr>\n",
       "      <th>leo</th>\n",
       "      <td>20190211</td>\n",
       "      <td>C:\\my_packages\\sandpyper\\tests\\test_data\\ortho...</td>\n",
       "      <td>32755</td>\n",
       "      <td>ortho</td>\n",
       "      <td>C:\\my_packages\\sandpyper\\tests\\test_data\\trans...</td>\n",
       "      <td>epsg:32755</td>\n",
       "    </tr>\n",
       "    <tr>\n",
       "      <th>leo</th>\n",
       "      <td>20190328</td>\n",
       "      <td>C:\\my_packages\\sandpyper\\tests\\test_data\\ortho...</td>\n",
       "      <td>32755</td>\n",
       "      <td>ortho</td>\n",
       "      <td>C:\\my_packages\\sandpyper\\tests\\test_data\\trans...</td>\n",
       "      <td>epsg:32755</td>\n",
       "    </tr>\n",
       "    <tr>\n",
       "      <th>leo</th>\n",
       "      <td>20190731</td>\n",
       "      <td>C:\\my_packages\\sandpyper\\tests\\test_data\\ortho...</td>\n",
       "      <td>32755</td>\n",
       "      <td>ortho</td>\n",
       "      <td>C:\\my_packages\\sandpyper\\tests\\test_data\\trans...</td>\n",
       "      <td>epsg:32755</td>\n",
       "    </tr>\n",
       "    <tr>\n",
       "      <th>mar</th>\n",
       "      <td>20180601</td>\n",
       "      <td>C:\\my_packages\\sandpyper\\tests\\test_data\\ortho...</td>\n",
       "      <td>32754</td>\n",
       "      <td>ortho</td>\n",
       "      <td>C:\\my_packages\\sandpyper\\tests\\test_data\\trans...</td>\n",
       "      <td>epsg:32754</td>\n",
       "    </tr>\n",
       "    <tr>\n",
       "      <th>mar</th>\n",
       "      <td>20180621</td>\n",
       "      <td>C:\\my_packages\\sandpyper\\tests\\test_data\\ortho...</td>\n",
       "      <td>32754</td>\n",
       "      <td>ortho</td>\n",
       "      <td>C:\\my_packages\\sandpyper\\tests\\test_data\\trans...</td>\n",
       "      <td>epsg:32754</td>\n",
       "    </tr>\n",
       "    <tr>\n",
       "      <th>mar</th>\n",
       "      <td>20180727</td>\n",
       "      <td>C:\\my_packages\\sandpyper\\tests\\test_data\\ortho...</td>\n",
       "      <td>32754</td>\n",
       "      <td>ortho</td>\n",
       "      <td>C:\\my_packages\\sandpyper\\tests\\test_data\\trans...</td>\n",
       "      <td>epsg:32754</td>\n",
       "    </tr>\n",
       "    <tr>\n",
       "      <th>mar</th>\n",
       "      <td>20180925</td>\n",
       "      <td>C:\\my_packages\\sandpyper\\tests\\test_data\\ortho...</td>\n",
       "      <td>32754</td>\n",
       "      <td>ortho</td>\n",
       "      <td>C:\\my_packages\\sandpyper\\tests\\test_data\\trans...</td>\n",
       "      <td>epsg:32754</td>\n",
       "    </tr>\n",
       "    <tr>\n",
       "      <th>mar</th>\n",
       "      <td>20181113</td>\n",
       "      <td>C:\\my_packages\\sandpyper\\tests\\test_data\\ortho...</td>\n",
       "      <td>32754</td>\n",
       "      <td>ortho</td>\n",
       "      <td>C:\\my_packages\\sandpyper\\tests\\test_data\\trans...</td>\n",
       "      <td>epsg:32754</td>\n",
       "    </tr>\n",
       "    <tr>\n",
       "      <th>mar</th>\n",
       "      <td>20181211</td>\n",
       "      <td>C:\\my_packages\\sandpyper\\tests\\test_data\\ortho...</td>\n",
       "      <td>32754</td>\n",
       "      <td>ortho</td>\n",
       "      <td>C:\\my_packages\\sandpyper\\tests\\test_data\\trans...</td>\n",
       "      <td>epsg:32754</td>\n",
       "    </tr>\n",
       "    <tr>\n",
       "      <th>mar</th>\n",
       "      <td>20190205</td>\n",
       "      <td>C:\\my_packages\\sandpyper\\tests\\test_data\\ortho...</td>\n",
       "      <td>32754</td>\n",
       "      <td>ortho</td>\n",
       "      <td>C:\\my_packages\\sandpyper\\tests\\test_data\\trans...</td>\n",
       "      <td>epsg:32754</td>\n",
       "    </tr>\n",
       "    <tr>\n",
       "      <th>mar</th>\n",
       "      <td>20190313</td>\n",
       "      <td>C:\\my_packages\\sandpyper\\tests\\test_data\\ortho...</td>\n",
       "      <td>32754</td>\n",
       "      <td>ortho</td>\n",
       "      <td>C:\\my_packages\\sandpyper\\tests\\test_data\\trans...</td>\n",
       "      <td>epsg:32754</td>\n",
       "    </tr>\n",
       "    <tr>\n",
       "      <th>mar</th>\n",
       "      <td>20190516</td>\n",
       "      <td>C:\\my_packages\\sandpyper\\tests\\test_data\\ortho...</td>\n",
       "      <td>32754</td>\n",
       "      <td>ortho</td>\n",
       "      <td>C:\\my_packages\\sandpyper\\tests\\test_data\\trans...</td>\n",
       "      <td>epsg:32754</td>\n",
       "    </tr>\n",
       "  </tbody>\n",
       "</table>\n",
       "</div>"
      ],
      "text/plain": [
       "          raw_date                                    filename_raster  \\\n",
       "location                                                                \n",
       "leo       20180606  C:\\my_packages\\sandpyper\\tests\\test_data\\dsm_1...   \n",
       "leo       20180713  C:\\my_packages\\sandpyper\\tests\\test_data\\dsm_1...   \n",
       "leo       20180920  C:\\my_packages\\sandpyper\\tests\\test_data\\dsm_1...   \n",
       "leo       20190211  C:\\my_packages\\sandpyper\\tests\\test_data\\dsm_1...   \n",
       "leo       20190328  C:\\my_packages\\sandpyper\\tests\\test_data\\dsm_1...   \n",
       "leo       20190731  C:\\my_packages\\sandpyper\\tests\\test_data\\dsm_1...   \n",
       "mar       20180601  C:\\my_packages\\sandpyper\\tests\\test_data\\dsm_1...   \n",
       "mar       20180621  C:\\my_packages\\sandpyper\\tests\\test_data\\dsm_1...   \n",
       "mar       20180727  C:\\my_packages\\sandpyper\\tests\\test_data\\dsm_1...   \n",
       "mar       20180925  C:\\my_packages\\sandpyper\\tests\\test_data\\dsm_1...   \n",
       "mar       20181113  C:\\my_packages\\sandpyper\\tests\\test_data\\dsm_1...   \n",
       "mar       20181211  C:\\my_packages\\sandpyper\\tests\\test_data\\dsm_1...   \n",
       "mar       20190205  C:\\my_packages\\sandpyper\\tests\\test_data\\dsm_1...   \n",
       "mar       20190313  C:\\my_packages\\sandpyper\\tests\\test_data\\dsm_1...   \n",
       "mar       20190516  C:\\my_packages\\sandpyper\\tests\\test_data\\dsm_1...   \n",
       "leo       20180606  C:\\my_packages\\sandpyper\\tests\\test_data\\ortho...   \n",
       "leo       20180713  C:\\my_packages\\sandpyper\\tests\\test_data\\ortho...   \n",
       "leo       20180920  C:\\my_packages\\sandpyper\\tests\\test_data\\ortho...   \n",
       "leo       20190211  C:\\my_packages\\sandpyper\\tests\\test_data\\ortho...   \n",
       "leo       20190328  C:\\my_packages\\sandpyper\\tests\\test_data\\ortho...   \n",
       "leo       20190731  C:\\my_packages\\sandpyper\\tests\\test_data\\ortho...   \n",
       "mar       20180601  C:\\my_packages\\sandpyper\\tests\\test_data\\ortho...   \n",
       "mar       20180621  C:\\my_packages\\sandpyper\\tests\\test_data\\ortho...   \n",
       "mar       20180727  C:\\my_packages\\sandpyper\\tests\\test_data\\ortho...   \n",
       "mar       20180925  C:\\my_packages\\sandpyper\\tests\\test_data\\ortho...   \n",
       "mar       20181113  C:\\my_packages\\sandpyper\\tests\\test_data\\ortho...   \n",
       "mar       20181211  C:\\my_packages\\sandpyper\\tests\\test_data\\ortho...   \n",
       "mar       20190205  C:\\my_packages\\sandpyper\\tests\\test_data\\ortho...   \n",
       "mar       20190313  C:\\my_packages\\sandpyper\\tests\\test_data\\ortho...   \n",
       "mar       20190516  C:\\my_packages\\sandpyper\\tests\\test_data\\ortho...   \n",
       "\n",
       "          crs_raster raster_type  \\\n",
       "location                           \n",
       "leo            32755         dsm   \n",
       "leo            32755         dsm   \n",
       "leo            32755         dsm   \n",
       "leo            32755         dsm   \n",
       "leo            32755         dsm   \n",
       "leo            32755         dsm   \n",
       "mar            32754         dsm   \n",
       "mar            32754         dsm   \n",
       "mar            32754         dsm   \n",
       "mar            32754         dsm   \n",
       "mar            32754         dsm   \n",
       "mar            32754         dsm   \n",
       "mar            32754         dsm   \n",
       "mar            32754         dsm   \n",
       "mar            32754         dsm   \n",
       "leo            32755       ortho   \n",
       "leo            32755       ortho   \n",
       "leo            32755       ortho   \n",
       "leo            32755       ortho   \n",
       "leo            32755       ortho   \n",
       "leo            32755       ortho   \n",
       "mar            32754       ortho   \n",
       "mar            32754       ortho   \n",
       "mar            32754       ortho   \n",
       "mar            32754       ortho   \n",
       "mar            32754       ortho   \n",
       "mar            32754       ortho   \n",
       "mar            32754       ortho   \n",
       "mar            32754       ortho   \n",
       "mar            32754       ortho   \n",
       "\n",
       "                                               filename_trs crs_transect  \n",
       "location                                                                  \n",
       "leo       C:\\my_packages\\sandpyper\\tests\\test_data\\trans...   epsg:32755  \n",
       "leo       C:\\my_packages\\sandpyper\\tests\\test_data\\trans...   epsg:32755  \n",
       "leo       C:\\my_packages\\sandpyper\\tests\\test_data\\trans...   epsg:32755  \n",
       "leo       C:\\my_packages\\sandpyper\\tests\\test_data\\trans...   epsg:32755  \n",
       "leo       C:\\my_packages\\sandpyper\\tests\\test_data\\trans...   epsg:32755  \n",
       "leo       C:\\my_packages\\sandpyper\\tests\\test_data\\trans...   epsg:32755  \n",
       "mar       C:\\my_packages\\sandpyper\\tests\\test_data\\trans...   epsg:32754  \n",
       "mar       C:\\my_packages\\sandpyper\\tests\\test_data\\trans...   epsg:32754  \n",
       "mar       C:\\my_packages\\sandpyper\\tests\\test_data\\trans...   epsg:32754  \n",
       "mar       C:\\my_packages\\sandpyper\\tests\\test_data\\trans...   epsg:32754  \n",
       "mar       C:\\my_packages\\sandpyper\\tests\\test_data\\trans...   epsg:32754  \n",
       "mar       C:\\my_packages\\sandpyper\\tests\\test_data\\trans...   epsg:32754  \n",
       "mar       C:\\my_packages\\sandpyper\\tests\\test_data\\trans...   epsg:32754  \n",
       "mar       C:\\my_packages\\sandpyper\\tests\\test_data\\trans...   epsg:32754  \n",
       "mar       C:\\my_packages\\sandpyper\\tests\\test_data\\trans...   epsg:32754  \n",
       "leo       C:\\my_packages\\sandpyper\\tests\\test_data\\trans...   epsg:32755  \n",
       "leo       C:\\my_packages\\sandpyper\\tests\\test_data\\trans...   epsg:32755  \n",
       "leo       C:\\my_packages\\sandpyper\\tests\\test_data\\trans...   epsg:32755  \n",
       "leo       C:\\my_packages\\sandpyper\\tests\\test_data\\trans...   epsg:32755  \n",
       "leo       C:\\my_packages\\sandpyper\\tests\\test_data\\trans...   epsg:32755  \n",
       "leo       C:\\my_packages\\sandpyper\\tests\\test_data\\trans...   epsg:32755  \n",
       "mar       C:\\my_packages\\sandpyper\\tests\\test_data\\trans...   epsg:32754  \n",
       "mar       C:\\my_packages\\sandpyper\\tests\\test_data\\trans...   epsg:32754  \n",
       "mar       C:\\my_packages\\sandpyper\\tests\\test_data\\trans...   epsg:32754  \n",
       "mar       C:\\my_packages\\sandpyper\\tests\\test_data\\trans...   epsg:32754  \n",
       "mar       C:\\my_packages\\sandpyper\\tests\\test_data\\trans...   epsg:32754  \n",
       "mar       C:\\my_packages\\sandpyper\\tests\\test_data\\trans...   epsg:32754  \n",
       "mar       C:\\my_packages\\sandpyper\\tests\\test_data\\trans...   epsg:32754  \n",
       "mar       C:\\my_packages\\sandpyper\\tests\\test_data\\trans...   epsg:32754  \n",
       "mar       C:\\my_packages\\sandpyper\\tests\\test_data\\trans...   epsg:32754  "
      ]
     },
     "execution_count": 58,
     "metadata": {},
     "output_type": "execute_result"
    }
   ],
   "source": [
    "check=cross_ref([dirNameDSM,dirNameOrtho],dirNameTrans,print_info=True, loc_search_dict=loc_search_dict,list_loc_codes=loc_codes)\n",
    "check"
   ]
  },
  {
   "cell_type": "code",
   "execution_count": 51,
   "metadata": {},
   "outputs": [
    {
     "name": "stdout",
     "output_type": "stream",
     "text": [
      "dsm from leo = 6\n",
      "\n",
      "ortho from leo = 6\n",
      "\n",
      "dsm from mar = 9\n",
      "\n",
      "ortho from mar = 9\n",
      "\n"
     ]
    }
   ],
   "source": [
    "counts=check.groupby([\"location\",\"raster_type\"]).count().reset_index()\n",
    "\n",
    "for i,row in counts.iterrows():\n",
    "    print(f\"{row['raster_type']} from {row['location']} = {row['raw_date']}\\n\")\n",
    "    \n",
    "print(f\"\\nNUMBER OF DATASETS TO PROCESS: {counts.raw_date.sum()}\")"
   ]
  },
  {
   "cell_type": "code",
   "execution_count": 6,
   "metadata": {},
   "outputs": [],
   "source": [
    "dirNameDSM=r'C:\\my_packages\\sandpyper\\tests\\test_data\\dsm_1m'\n",
    "\n",
    "dirNameOrtho=r'C:\\my_packages\\sandpyper\\tests\\test_data\\orthos_1m'\n",
    "\n",
    "dirNameTrans=r'C:\\my_packages\\sandpyper\\tests\\test_data\\transects'"
   ]
  },
  {
   "cell_type": "code",
   "execution_count": 78,
   "metadata": {},
   "outputs": [
    {
     "ename": "RasterioIOError",
     "evalue": "C:/my_packages/sandpyper/tests/test_data/dsm_1m: Permission denied",
     "output_type": "error",
     "traceback": [
      "\u001b[1;31m---------------------------------------------------------------------------\u001b[0m",
      "\u001b[1;31mCPLE_OpenFailedError\u001b[0m                      Traceback (most recent call last)",
      "\u001b[1;32mrasterio\\_base.pyx\u001b[0m in \u001b[0;36mrasterio._base.DatasetBase.__init__\u001b[1;34m()\u001b[0m\n",
      "\u001b[1;32mrasterio\\_shim.pyx\u001b[0m in \u001b[0;36mrasterio._shim.open_dataset\u001b[1;34m()\u001b[0m\n",
      "\u001b[1;32mrasterio\\_err.pyx\u001b[0m in \u001b[0;36mrasterio._err.exc_wrap_pointer\u001b[1;34m()\u001b[0m\n",
      "\u001b[1;31mCPLE_OpenFailedError\u001b[0m: C:/my_packages/sandpyper/tests/test_data/dsm_1m: Permission denied",
      "\nDuring handling of the above exception, another exception occurred:\n",
      "\u001b[1;31mRasterioIOError\u001b[0m                           Traceback (most recent call last)",
      "\u001b[1;32m<ipython-input-78-7ded830558f0>\u001b[0m in \u001b[0;36m<module>\u001b[1;34m\u001b[0m\n\u001b[1;32m----> 1\u001b[1;33m P=ProfileSet(dirNameDSM,\n\u001b[0m\u001b[0;32m      2\u001b[0m             \u001b[0mdirNameOrtho\u001b[0m\u001b[1;33m,\u001b[0m\u001b[1;33m\u001b[0m\u001b[1;33m\u001b[0m\u001b[0m\n\u001b[0;32m      3\u001b[0m             \u001b[0mdirNameTrans\u001b[0m\u001b[1;33m,\u001b[0m\u001b[1;33m\u001b[0m\u001b[1;33m\u001b[0m\u001b[0m\n\u001b[0;32m      4\u001b[0m             \u001b[0mloc_codes\u001b[0m\u001b[1;33m,\u001b[0m\u001b[1;33m\u001b[0m\u001b[1;33m\u001b[0m\u001b[0m\n\u001b[0;32m      5\u001b[0m             \u001b[0mloc_search_dict\u001b[0m\u001b[1;33m,\u001b[0m\u001b[1;33m\u001b[0m\u001b[1;33m\u001b[0m\u001b[0m\n",
      "\u001b[1;32m<ipython-input-30-83b937d97f8b>\u001b[0m in \u001b[0;36m__init__\u001b[1;34m(self, dirNameDSM, dirNameOrtho, dirNameTrans, loc_codes, loc_search_dict, crs_dict_string)\u001b[0m\n\u001b[0;32m     19\u001b[0m         \u001b[0mself\u001b[0m\u001b[1;33m.\u001b[0m\u001b[0mcrs_dict_string\u001b[0m\u001b[1;33m=\u001b[0m\u001b[0mcrs_dict_string\u001b[0m\u001b[1;33m\u001b[0m\u001b[1;33m\u001b[0m\u001b[0m\n\u001b[0;32m     20\u001b[0m \u001b[1;33m\u001b[0m\u001b[0m\n\u001b[1;32m---> 21\u001b[1;33m         self.check=cross_ref(self.dirNameDSM,\n\u001b[0m\u001b[0;32m     22\u001b[0m                         \u001b[0mself\u001b[0m\u001b[1;33m.\u001b[0m\u001b[0mdirNameTrans\u001b[0m\u001b[1;33m,\u001b[0m\u001b[1;33m\u001b[0m\u001b[1;33m\u001b[0m\u001b[0m\n\u001b[0;32m     23\u001b[0m                         \u001b[0mprint_info\u001b[0m\u001b[1;33m=\u001b[0m\u001b[1;32mTrue\u001b[0m\u001b[1;33m,\u001b[0m\u001b[1;33m\u001b[0m\u001b[1;33m\u001b[0m\u001b[0m\n",
      "\u001b[1;32m<ipython-input-76-b128d76f8c4e>\u001b[0m in \u001b[0;36mcross_ref\u001b[1;34m(dir_inputs, dirNameTrans, loc_search_dict, list_loc_codes, print_info)\u001b[0m\n\u001b[0;32m     45\u001b[0m                 \u001b[0mgetCrs_from_raster_path\u001b[0m\u001b[1;33m\u001b[0m\u001b[1;33m\u001b[0m\u001b[0m\n\u001b[0;32m     46\u001b[0m             )\n\u001b[1;32m---> 47\u001b[1;33m             \u001b[0mdf_tmp_raster\u001b[0m\u001b[1;33m[\u001b[0m\u001b[1;34m\"raster_type\"\u001b[0m\u001b[1;33m]\u001b[0m\u001b[1;33m=\u001b[0m\u001b[0mfilepath_raster_type\u001b[0m\u001b[1;33m(\u001b[0m\u001b[0mpath_in\u001b[0m\u001b[1;33m)\u001b[0m\u001b[1;33m\u001b[0m\u001b[1;33m\u001b[0m\u001b[0m\n\u001b[0m\u001b[0;32m     48\u001b[0m             \u001b[0mdf_tmp_trd\u001b[0m \u001b[1;33m=\u001b[0m \u001b[0mpd\u001b[0m\u001b[1;33m.\u001b[0m\u001b[0mDataFrame\u001b[0m\u001b[1;33m(\u001b[0m\u001b[0mlocs_transects\u001b[0m\u001b[1;33m,\u001b[0m \u001b[0mcolumns\u001b[0m\u001b[1;33m=\u001b[0m\u001b[1;33m[\u001b[0m\u001b[1;34m\"location\"\u001b[0m\u001b[1;33m]\u001b[0m\u001b[1;33m)\u001b[0m\u001b[1;33m\u001b[0m\u001b[1;33m\u001b[0m\u001b[0m\n\u001b[0;32m     49\u001b[0m             \u001b[0mdf_tmp_trd\u001b[0m\u001b[1;33m[\u001b[0m\u001b[1;34m\"filename_trs\"\u001b[0m\u001b[1;33m]\u001b[0m \u001b[1;33m=\u001b[0m \u001b[0mlist_transects\u001b[0m\u001b[1;33m\u001b[0m\u001b[1;33m\u001b[0m\u001b[0m\n",
      "\u001b[1;32m<ipython-input-71-d76eab3fe974>\u001b[0m in \u001b[0;36mfilepath_raster_type\u001b[1;34m(ras_path)\u001b[0m\n\u001b[0;32m      2\u001b[0m \u001b[1;32mdef\u001b[0m \u001b[0mfilepath_raster_type\u001b[0m\u001b[1;33m(\u001b[0m\u001b[0mras_path\u001b[0m\u001b[1;33m)\u001b[0m\u001b[1;33m:\u001b[0m\u001b[1;33m\u001b[0m\u001b[1;33m\u001b[0m\u001b[0m\n\u001b[0;32m      3\u001b[0m         \u001b[1;34m\"\"\"Returns 'dsm' if ras_path is of a DSM (1 single band) or 'ortho' if has multiple bands.\"\"\"\u001b[0m\u001b[1;33m\u001b[0m\u001b[1;33m\u001b[0m\u001b[0m\n\u001b[1;32m----> 4\u001b[1;33m         \u001b[1;32mwith\u001b[0m \u001b[0mras\u001b[0m\u001b[1;33m.\u001b[0m\u001b[0mopen\u001b[0m\u001b[1;33m(\u001b[0m\u001b[1;34mr\"{}\"\u001b[0m\u001b[1;33m.\u001b[0m\u001b[0mformat\u001b[0m\u001b[1;33m(\u001b[0m\u001b[0mras_path\u001b[0m\u001b[1;33m)\u001b[0m\u001b[1;33m)\u001b[0m \u001b[1;32mas\u001b[0m \u001b[0mraster\u001b[0m\u001b[1;33m:\u001b[0m\u001b[1;33m\u001b[0m\u001b[1;33m\u001b[0m\u001b[0m\n\u001b[0m\u001b[0;32m      5\u001b[0m             \u001b[1;32mif\u001b[0m \u001b[0mraster\u001b[0m\u001b[1;33m.\u001b[0m\u001b[0mcount\u001b[0m\u001b[1;33m==\u001b[0m\u001b[1;36m1\u001b[0m\u001b[1;33m:\u001b[0m\u001b[1;33m\u001b[0m\u001b[1;33m\u001b[0m\u001b[0m\n\u001b[0;32m      6\u001b[0m                 \u001b[1;32mreturn\u001b[0m \u001b[1;34m\"dsm\"\u001b[0m\u001b[1;33m\u001b[0m\u001b[1;33m\u001b[0m\u001b[0m\n",
      "\u001b[1;32mC:\\conda3\\envs\\sandpyper_env\\lib\\site-packages\\rasterio\\env.py\u001b[0m in \u001b[0;36mwrapper\u001b[1;34m(*args, **kwds)\u001b[0m\n\u001b[0;32m    433\u001b[0m \u001b[1;33m\u001b[0m\u001b[0m\n\u001b[0;32m    434\u001b[0m         \u001b[1;32mwith\u001b[0m \u001b[0menv_ctor\u001b[0m\u001b[1;33m(\u001b[0m\u001b[0msession\u001b[0m\u001b[1;33m=\u001b[0m\u001b[0msession\u001b[0m\u001b[1;33m)\u001b[0m\u001b[1;33m:\u001b[0m\u001b[1;33m\u001b[0m\u001b[1;33m\u001b[0m\u001b[0m\n\u001b[1;32m--> 435\u001b[1;33m             \u001b[1;32mreturn\u001b[0m \u001b[0mf\u001b[0m\u001b[1;33m(\u001b[0m\u001b[1;33m*\u001b[0m\u001b[0margs\u001b[0m\u001b[1;33m,\u001b[0m \u001b[1;33m**\u001b[0m\u001b[0mkwds\u001b[0m\u001b[1;33m)\u001b[0m\u001b[1;33m\u001b[0m\u001b[1;33m\u001b[0m\u001b[0m\n\u001b[0m\u001b[0;32m    436\u001b[0m \u001b[1;33m\u001b[0m\u001b[0m\n\u001b[0;32m    437\u001b[0m     \u001b[1;32mreturn\u001b[0m \u001b[0mwrapper\u001b[0m\u001b[1;33m\u001b[0m\u001b[1;33m\u001b[0m\u001b[0m\n",
      "\u001b[1;32mC:\\conda3\\envs\\sandpyper_env\\lib\\site-packages\\rasterio\\__init__.py\u001b[0m in \u001b[0;36mopen\u001b[1;34m(fp, mode, driver, width, height, count, crs, transform, dtype, nodata, sharing, **kwargs)\u001b[0m\n\u001b[0;32m    205\u001b[0m         \u001b[1;31m# None.\u001b[0m\u001b[1;33m\u001b[0m\u001b[1;33m\u001b[0m\u001b[1;33m\u001b[0m\u001b[0m\n\u001b[0;32m    206\u001b[0m         \u001b[1;32mif\u001b[0m \u001b[0mmode\u001b[0m \u001b[1;33m==\u001b[0m \u001b[1;34m'r'\u001b[0m\u001b[1;33m:\u001b[0m\u001b[1;33m\u001b[0m\u001b[1;33m\u001b[0m\u001b[0m\n\u001b[1;32m--> 207\u001b[1;33m             \u001b[0ms\u001b[0m \u001b[1;33m=\u001b[0m \u001b[0mDatasetReader\u001b[0m\u001b[1;33m(\u001b[0m\u001b[0mpath\u001b[0m\u001b[1;33m,\u001b[0m \u001b[0mdriver\u001b[0m\u001b[1;33m=\u001b[0m\u001b[0mdriver\u001b[0m\u001b[1;33m,\u001b[0m \u001b[0msharing\u001b[0m\u001b[1;33m=\u001b[0m\u001b[0msharing\u001b[0m\u001b[1;33m,\u001b[0m \u001b[1;33m**\u001b[0m\u001b[0mkwargs\u001b[0m\u001b[1;33m)\u001b[0m\u001b[1;33m\u001b[0m\u001b[1;33m\u001b[0m\u001b[0m\n\u001b[0m\u001b[0;32m    208\u001b[0m         \u001b[1;32melif\u001b[0m \u001b[0mmode\u001b[0m \u001b[1;33m==\u001b[0m \u001b[1;34m\"r+\"\u001b[0m\u001b[1;33m:\u001b[0m\u001b[1;33m\u001b[0m\u001b[1;33m\u001b[0m\u001b[0m\n\u001b[0;32m    209\u001b[0m             s = get_writer_for_path(path, driver=driver)(\n",
      "\u001b[1;32mrasterio\\_base.pyx\u001b[0m in \u001b[0;36mrasterio._base.DatasetBase.__init__\u001b[1;34m()\u001b[0m\n",
      "\u001b[1;31mRasterioIOError\u001b[0m: C:/my_packages/sandpyper/tests/test_data/dsm_1m: Permission denied"
     ]
    }
   ],
   "source": [
    "P=ProfileSet(dirNameDSM,\n",
    "            dirNameOrtho,\n",
    "            dirNameTrans,\n",
    "            loc_codes,\n",
    "            loc_search_dict,\n",
    "            crs_dict_string)"
   ]
  },
  {
   "cell_type": "code",
   "execution_count": 35,
   "metadata": {
    "scrolled": false
   },
   "outputs": [
    {
     "data": {
      "application/vnd.jupyter.widget-view+json": {
       "model_id": "98750464514149d5a1827d68284890ae",
       "version_major": 2,
       "version_minor": 0
      },
      "text/plain": [
       "  0%|          | 0/15 [00:00<?, ?it/s]"
      ]
     },
     "metadata": {},
     "output_type": "display_data"
    },
    {
     "name": "stderr",
     "output_type": "stream",
     "text": [
      "C:\\conda3\\envs\\sandpyper_env\\lib\\site-packages\\geopandas\\geodataframe.py:422: RuntimeWarning: Sequential read of iterator was interrupted. Resetting iterator. This can negatively impact the performance.\n",
      "  for feature in features_lst:\n"
     ]
    },
    {
     "data": {
      "application/vnd.jupyter.widget-view+json": {
       "model_id": "6bc1b231d06445448662c391d71ae74e",
       "version_major": 2,
       "version_minor": 0
      },
      "text/plain": [
       "  0%|          | 0/59 [00:00<?, ?it/s]"
      ]
     },
     "metadata": {},
     "output_type": "display_data"
    },
    {
     "data": {
      "application/vnd.jupyter.widget-view+json": {
       "model_id": "86d4572aaff24071bf7fed644cea2e6f",
       "version_major": 2,
       "version_minor": 0
      },
      "text/plain": [
       "  0%|          | 0/59 [00:00<?, ?it/s]"
      ]
     },
     "metadata": {},
     "output_type": "display_data"
    },
    {
     "data": {
      "application/vnd.jupyter.widget-view+json": {
       "model_id": "32b16abcbcd5432583505dbaf3c12306",
       "version_major": 2,
       "version_minor": 0
      },
      "text/plain": [
       "  0%|          | 0/59 [00:00<?, ?it/s]"
      ]
     },
     "metadata": {},
     "output_type": "display_data"
    },
    {
     "data": {
      "application/vnd.jupyter.widget-view+json": {
       "model_id": "32499189adcd40c391b6f8b73b965d66",
       "version_major": 2,
       "version_minor": 0
      },
      "text/plain": [
       "  0%|          | 0/59 [00:00<?, ?it/s]"
      ]
     },
     "metadata": {},
     "output_type": "display_data"
    },
    {
     "data": {
      "application/vnd.jupyter.widget-view+json": {
       "model_id": "55f98ea6fd794f33a0e2afec57d37b11",
       "version_major": 2,
       "version_minor": 0
      },
      "text/plain": [
       "  0%|          | 0/59 [00:00<?, ?it/s]"
      ]
     },
     "metadata": {},
     "output_type": "display_data"
    },
    {
     "data": {
      "application/vnd.jupyter.widget-view+json": {
       "model_id": "e2128aa3138e47ef9f4dcfe3d6ab9d22",
       "version_major": 2,
       "version_minor": 0
      },
      "text/plain": [
       "  0%|          | 0/59 [00:00<?, ?it/s]"
      ]
     },
     "metadata": {},
     "output_type": "display_data"
    },
    {
     "data": {
      "application/vnd.jupyter.widget-view+json": {
       "model_id": "d10ae7f5c6f747cbb2112708c75ca7d2",
       "version_major": 2,
       "version_minor": 0
      },
      "text/plain": [
       "  0%|          | 0/22 [00:00<?, ?it/s]"
      ]
     },
     "metadata": {},
     "output_type": "display_data"
    },
    {
     "data": {
      "application/vnd.jupyter.widget-view+json": {
       "model_id": "fb3a95ba265845cc910b771da068e5b4",
       "version_major": 2,
       "version_minor": 0
      },
      "text/plain": [
       "  0%|          | 0/22 [00:00<?, ?it/s]"
      ]
     },
     "metadata": {},
     "output_type": "display_data"
    },
    {
     "data": {
      "application/vnd.jupyter.widget-view+json": {
       "model_id": "e8e8b739291f4e378df1affefac30e20",
       "version_major": 2,
       "version_minor": 0
      },
      "text/plain": [
       "  0%|          | 0/22 [00:00<?, ?it/s]"
      ]
     },
     "metadata": {},
     "output_type": "display_data"
    },
    {
     "data": {
      "application/vnd.jupyter.widget-view+json": {
       "model_id": "6a2d540be330425090e8e2be141511fc",
       "version_major": 2,
       "version_minor": 0
      },
      "text/plain": [
       "  0%|          | 0/22 [00:00<?, ?it/s]"
      ]
     },
     "metadata": {},
     "output_type": "display_data"
    },
    {
     "data": {
      "application/vnd.jupyter.widget-view+json": {
       "model_id": "54cd2e3454be48a88824afafa5bbd3d6",
       "version_major": 2,
       "version_minor": 0
      },
      "text/plain": [
       "  0%|          | 0/22 [00:00<?, ?it/s]"
      ]
     },
     "metadata": {},
     "output_type": "display_data"
    },
    {
     "data": {
      "application/vnd.jupyter.widget-view+json": {
       "model_id": "6600c1c6beda42c58613ae4a1ee4652c",
       "version_major": 2,
       "version_minor": 0
      },
      "text/plain": [
       "  0%|          | 0/22 [00:00<?, ?it/s]"
      ]
     },
     "metadata": {},
     "output_type": "display_data"
    },
    {
     "data": {
      "application/vnd.jupyter.widget-view+json": {
       "model_id": "928729cf21ef46b2bcdfa31f4dbf7259",
       "version_major": 2,
       "version_minor": 0
      },
      "text/plain": [
       "  0%|          | 0/22 [00:00<?, ?it/s]"
      ]
     },
     "metadata": {},
     "output_type": "display_data"
    },
    {
     "data": {
      "application/vnd.jupyter.widget-view+json": {
       "model_id": "c470660d4a0e4629aec1f03ca3d9ab95",
       "version_major": 2,
       "version_minor": 0
      },
      "text/plain": [
       "  0%|          | 0/22 [00:00<?, ?it/s]"
      ]
     },
     "metadata": {},
     "output_type": "display_data"
    },
    {
     "data": {
      "application/vnd.jupyter.widget-view+json": {
       "model_id": "f73baf6454f34a7e8b8fead73205e8e9",
       "version_major": 2,
       "version_minor": 0
      },
      "text/plain": [
       "  0%|          | 0/22 [00:00<?, ?it/s]"
      ]
     },
     "metadata": {},
     "output_type": "display_data"
    },
    {
     "name": "stdout",
     "output_type": "stream",
     "text": [
      "Extraction succesfull\n",
      "Number of points extracted:3318\n",
      "Time for processing=18.865577936172485 seconds\n",
      "First 10 rows are printed below\n",
      "Number of points outside the raster extents: 912\n",
      "The extraction assigns NaN.\n",
      "Number of points in NoData areas within the raster extents: 32\n",
      "The extraction assigns NaN.\n"
     ]
    }
   ],
   "source": [
    "P.extract_profiles('dsm',10,True)"
   ]
  },
  {
   "cell_type": "code",
   "execution_count": 28,
   "metadata": {},
   "outputs": [
    {
     "data": {
      "text/plain": [
       "<AxesSubplot:>"
      ]
     },
     "execution_count": 28,
     "metadata": {},
     "output_type": "execute_result"
    },
    {
     "data": {
      "image/png": "[encoded data removed]",
      "text/plain": [
       "<Figure size 432x288 with 1 Axes>"
      ]
     },
     "metadata": {
      "needs_background": "light"
     },
     "output_type": "display_data"
    }
   ],
   "source": [
    "P.profiles_rgb.query(\"location=='mar'\").plot(column=\"z\")"
   ]
  },
  {
   "cell_type": "markdown",
   "metadata": {},
   "source": [
    "## Global parameters\n",
    "### Location codes\n",
    "When your analysis involves a multi-site approach, it is convenient to assign each location a __small code__ to easy the handling of every associated file and its coordinate reference system.\n",
    "\n",
    "Here are some examples:\n",
    "* Saint Leonards : __leo__\n",
    "* Marengo : __mar__"
   ]
  },
  {
   "cell_type": "code",
   "execution_count": 7,
   "metadata": {},
   "outputs": [],
   "source": [
    "# The location codes used troughout the analysis\n",
    "loc_codes=[\"mar\",\"leo\"]"
   ]
  },
  {
   "cell_type": "markdown",
   "metadata": {},
   "source": [
    "### Location search dictionary\n",
    "Sometimes, we need to automatically obtain the right location code from raster files, either of Digital Surface Models (DSM) or Orthophotos (ORTO), whose filenames contains the original location name (e.g. Saint_Leonards or Warrnambool).\n",
    "\n",
    "An easy and fast way to do this, is to create a dictionary, where __keys are the location codes__ and the __values are lists of possible full names__ we expect to find in the files.\n",
    "Here are some examples:\n",
    "\n",
    "```python\n",
    "loc_search_dict = {   'leo': ['St','Leonards','leonards','leo'],\n",
    "                      'mar': ['Marengo','marengo','mar'] }\n",
    "```\n",
    "> __NOTE__: always include the location codes in the list of possible names, in case the original raster filenames are already formatted!\n"
   ]
  },
  {
   "cell_type": "code",
   "execution_count": 8,
   "metadata": {},
   "outputs": [],
   "source": [
    "# The terms used in the original filenames.\n",
    "# These will be used to properly format files, extracting location codes and dates.\n",
    "\n",
    "loc_search_dict = {   'leo': ['St','Leonards','leonards','leo'],\n",
    "                      'mar': ['Marengo','marengo','mar'] }"
   ]
  },
  {
   "cell_type": "markdown",
   "metadata": {},
   "source": [
    "### Coordinate Reference Systems dictionary\n",
    "\n",
    "Working on a wide area, often requires dealing with multiple Coordinate Reference Systems (CRS). Therefore, it is important to assign __each location code with its appropriate CRS__ at the beginning, in order to always take it into account trhoughout the analysis.\n",
    "\n",
    "We do this with another dictionary, called `crs_dict_string`, where as keys we store the location codes and as values we store another dictionary, in this form `{'init': 'epsg:32754'}` .\n",
    "Modify the __EPSG code__ to change CRS. Here is an example of the resulting dictionary:\n",
    "\n",
    "```python\n",
    "crs_dict_string = {'wbl': {'init': 'epsg:32754'},\n",
    "                   'apo': {'init': 'epsg:32754'},\n",
    "                   'prd': {'init': 'epsg:32755'},\n",
    "                   'dem': {'init': 'epsg:32755'} }\n",
    "```\n",
    "\n",
    "\n",
    "\n",
    "> __NOTE:__ to specify the CRS, use the dictionary format supported by Geopandas 0.6.3. Only projected CRS are supported.\n"
   ]
  },
  {
   "cell_type": "code",
   "execution_count": 9,
   "metadata": {},
   "outputs": [],
   "source": [
    "# The Coordinate Reference Systems used troughout this example\n",
    "\n",
    "crs_dict_string= {\n",
    "                 'mar': {'init': 'epsg:32754'},\n",
    "                 'leo':{'init': 'epsg:32755'}\n",
    "                 }"
   ]
  },
  {
   "cell_type": "markdown",
   "metadata": {},
   "source": [
    "## Transects creation\n",
    "### Shoreline baseline"
   ]
  },
  {
   "cell_type": "markdown",
   "metadata": {},
   "source": [
    "Any Shapely line or polyline object can be used as input as a transect. In coastal geomeorphometric studies, transects are usually equally spaced alongshore, and place normal to the shoreline. However, any type of line can be used to extract values from both orthophtos and DSMs.\n",
    "\n",
    "You can construct transects in 2 ways:\n",
    "1. **Any GIS**\n",
    "2. Using the function **create_transects**, starting from a __shoreline baseline__.\n",
    "\n",
    "If you use your favourite GIS (Qgis preferred), ensure that the output format is __geopackage (.gpkg)__, and:\n",
    "> **each transect must be in a separate row (geometry)**\n",
    "\n",
    "If you want to use in-built sandpyper function, see below:"
   ]
  },
  {
   "cell_type": "code",
   "execution_count": 5,
   "metadata": {},
   "outputs": [
    {
     "name": "stderr",
     "output_type": "stream",
     "text": [
      "C:\\conda3\\envs\\sandpyper_env\\lib\\site-packages\\geopandas\\geodataframe.py:422: RuntimeWarning: Sequential read of iterator was interrupted. Resetting iterator. This can negatively impact the performance.\n",
      "  for feature in features_lst:\n"
     ]
    },
    {
     "data": {
      "text/plain": [
       "<AxesSubplot:>"
      ]
     },
     "execution_count": 5,
     "metadata": {},
     "output_type": "execute_result"
    },
    {
     "data": {
      "image/png": "[encoded data removed]",
      "text/plain": [
       "<Figure size 432x288 with 1 Axes>"
      ]
     },
     "metadata": {
      "needs_background": "light"
     },
     "output_type": "display_data"
    }
   ],
   "source": [
    "# load and display the shoreline\n",
    "path_to_shoreline_mar=r'C:\\my_packages\\doc_data\\test_data\\shorelines\\leo_shoreline_short.gpkg' # Marengo shoreline\n",
    "\n",
    "shoreline=gpd.read_file(path_to_shoreline_mar)\n",
    "shoreline.plot()"
   ]
  },
  {
   "cell_type": "code",
   "execution_count": 6,
   "metadata": {},
   "outputs": [
    {
     "name": "stderr",
     "output_type": "stream",
     "text": [
      "C:\\conda3\\envs\\sandpyper_env\\lib\\site-packages\\pyproj\\crs\\crs.py:53: FutureWarning: '+init=<authority>:<code>' syntax is deprecated. '<authority>:<code>' is the preferred initialization method. When making the change, be mindful of axis order changes: https://pyproj4.github.io/pyproj/stable/gotchas.html#axis-order-changes-in-proj-6\n",
      "  return _prepare_from_string(\" \".join(pjargs))\n"
     ]
    },
    {
     "data": {
      "text/html": [
       "<div>\n",
       "<style scoped>\n",
       "    .dataframe tbody tr th:only-of-type {\n",
       "        vertical-align: middle;\n",
       "    }\n",
       "\n",
       "    .dataframe tbody tr th {\n",
       "        vertical-align: top;\n",
       "    }\n",
       "\n",
       "    .dataframe thead th {\n",
       "        text-align: right;\n",
       "    }\n",
       "</style>\n",
       "<table border=\"1\" class=\"dataframe\">\n",
       "  <thead>\n",
       "    <tr style=\"text-align: right;\">\n",
       "      <th></th>\n",
       "      <th>tr_id</th>\n",
       "      <th>geometry</th>\n",
       "      <th>location</th>\n",
       "    </tr>\n",
       "  </thead>\n",
       "  <tbody>\n",
       "    <tr>\n",
       "      <th>0</th>\n",
       "      <td>0</td>\n",
       "      <td>LINESTRING (300166.471 5772833.267, 300206.279...</td>\n",
       "      <td>mar</td>\n",
       "    </tr>\n",
       "    <tr>\n",
       "      <th>1</th>\n",
       "      <td>1</td>\n",
       "      <td>LINESTRING (300154.369 5772849.190, 300194.177...</td>\n",
       "      <td>mar</td>\n",
       "    </tr>\n",
       "    <tr>\n",
       "      <th>2</th>\n",
       "      <td>2</td>\n",
       "      <td>LINESTRING (300142.267 5772865.113, 300182.075...</td>\n",
       "      <td>mar</td>\n",
       "    </tr>\n",
       "    <tr>\n",
       "      <th>3</th>\n",
       "      <td>3</td>\n",
       "      <td>LINESTRING (300130.166 5772881.037, 300169.974...</td>\n",
       "      <td>mar</td>\n",
       "    </tr>\n",
       "    <tr>\n",
       "      <th>4</th>\n",
       "      <td>4</td>\n",
       "      <td>LINESTRING (300119.411 5772904.944, 300165.639...</td>\n",
       "      <td>mar</td>\n",
       "    </tr>\n",
       "  </tbody>\n",
       "</table>\n",
       "</div>"
      ],
      "text/plain": [
       "   tr_id                                           geometry location\n",
       "0      0  LINESTRING (300166.471 5772833.267, 300206.279...      mar\n",
       "1      1  LINESTRING (300154.369 5772849.190, 300194.177...      mar\n",
       "2      2  LINESTRING (300142.267 5772865.113, 300182.075...      mar\n",
       "3      3  LINESTRING (300130.166 5772881.037, 300169.974...      mar\n",
       "4      4  LINESTRING (300119.411 5772904.944, 300165.639...      mar"
      ]
     },
     "execution_count": 6,
     "metadata": {},
     "output_type": "execute_result"
    },
    {
     "data": {
      "image/png": "[encoded data removed]",
      "text/plain": [
       "<Figure size 720x720 with 1 Axes>"
      ]
     },
     "metadata": {
      "needs_background": "light"
     },
     "output_type": "display_data"
    }
   ],
   "source": [
    "# create and display the transects (in red)\n",
    "\n",
    "f,ax=plt.subplots(figsize=(10,10))  # Change figsize if you want bigger images\n",
    "location='mar'  # insert the location code for this transect.\n",
    "\n",
    "transects=create_transects(shoreline,\n",
    "                           sampling_step=20, # alongshore spacing\n",
    "                           tick_length=50, # transects length\n",
    "                           location=location,crs=crs_dict_string[location],\n",
    "                           side='both' # 'both':transect is centered at the interesction with the baseline\n",
    "                          )\n",
    "\n",
    "# Modify the figure by plotting shoreline, transects and transect IDs.\n",
    "shoreline.plot(ax=ax,color='b')\n",
    "transects.plot(ax=ax,color='r')\n",
    "\n",
    "for x, y, label in zip(transects.geometry.centroid.x, transects.geometry.centroid.y, transects.tr_id):\n",
    "    ax.annotate(label, xy=(x, y), xytext=(4, 1), textcoords=\"offset points\")\n",
    "\n",
    "transects.head()"
   ]
  },
  {
   "cell_type": "markdown",
   "metadata": {},
   "source": [
    "The following cell saves transect to file and name it as:\n",
    "\n",
    ">__locationCode_whateverYouWant.gpkg__\n",
    "\n",
    "(example: __leo_transects.gpkg__)\n",
    "\n",
    "and place it to a folder where you store all the transects for each location.\n",
    "\n",
    ">__Note:__ If the saving throws an error \"PLE_NotSupported in dataset leo_transects.gpkg does not support layer creation option ENCODING\", the file should be created and valid anyway. Double-check by opening it in Qgis."
   ]
  },
  {
   "cell_type": "code",
   "execution_count": 7,
   "metadata": {},
   "outputs": [],
   "source": [
    "transects.to_file(filename=r'C:\\my_packages\\doc_data\\transects\\leo_transects.gpkg',driver='GPKG')"
   ]
  },
  {
   "cell_type": "markdown",
   "metadata": {},
   "source": [
    "## Elevation and RGB data extraction"
   ]
  },
  {
   "cell_type": "markdown",
   "metadata": {},
   "source": [
    "### Define the folders containing the datasets\n",
    "\n",
    "First, let's define the paths to the folders containing the raster DSMs or ORTOs and the transects.\n",
    "\n",
    "> __SUPPORTED FORMATS:__\n",
    ">* Rasters: __geotiffs (.tif, .tiff)__\n",
    ">* Transects: __geopackages (.gpkg).__\n",
    ">\n",
    ">__Transects filenames:__ when creating transects, save them with the location code as filename."
   ]
  },
  {
   "cell_type": "markdown",
   "metadata": {},
   "source": [
    "<img src=\"images/hill_ortho_profiles_cow.png\" width=\"85%\" />"
   ]
  },
  {
   "cell_type": "code",
   "execution_count": 5,
   "metadata": {
    "scrolled": true
   },
   "outputs": [],
   "source": [
    "# Set the path to the folders containing the DSMs (dirNameDSM) and the transect files (dirNameTrans)\n",
    "\n",
    "dirNameDSM=r'C:\\my_packages\\sandpyper\\tests\\test_data\\dsm_1m'\n",
    "\n",
    "dirNameOrtho=r'C:\\my_packages\\sandpyper\\tests\\test_data\\orthos_1m'\n",
    "\n",
    "dirNameTrans=r'C:\\my_packages\\sandpyper\\tests\\test_data\\transects'\n"
   ]
  },
  {
   "cell_type": "markdown",
   "metadata": {},
   "source": [
    "###  Check cross-reference table and CRS matches\n",
    "\n",
    "The EPSG codes in the raster and transect columns __must match__.\n",
    "\n",
    "Please also check the dsm and date columns match transect file and dsm file paths."
   ]
  },
  {
   "cell_type": "code",
   "execution_count": 6,
   "metadata": {
    "scrolled": false
   },
   "outputs": [
    {
     "name": "stdout",
     "output_type": "stream",
     "text": [
      "DSM from leo = 6\n",
      "\n",
      "DSM from mar = 9\n",
      "\n",
      "\n",
      "NUMBER OF DATASETS TO PROCESS: 15\n"
     ]
    },
    {
     "name": "stderr",
     "output_type": "stream",
     "text": [
      "C:\\conda3\\envs\\sandpyper_env\\lib\\site-packages\\geopandas\\geodataframe.py:422: RuntimeWarning: Sequential read of iterator was interrupted. Resetting iterator. This can negatively impact the performance.\n",
      "  for feature in features_lst:\n"
     ]
    },
    {
     "data": {
      "text/html": [
       "<div>\n",
       "<style scoped>\n",
       "    .dataframe tbody tr th:only-of-type {\n",
       "        vertical-align: middle;\n",
       "    }\n",
       "\n",
       "    .dataframe tbody tr th {\n",
       "        vertical-align: top;\n",
       "    }\n",
       "\n",
       "    .dataframe thead th {\n",
       "        text-align: right;\n",
       "    }\n",
       "</style>\n",
       "<table border=\"1\" class=\"dataframe\">\n",
       "  <thead>\n",
       "    <tr style=\"text-align: right;\">\n",
       "      <th></th>\n",
       "      <th>raw_date</th>\n",
       "      <th>filename_raster</th>\n",
       "      <th>crs_raster</th>\n",
       "      <th>filename_trs</th>\n",
       "      <th>crs_transect</th>\n",
       "    </tr>\n",
       "    <tr>\n",
       "      <th>location</th>\n",
       "      <th></th>\n",
       "      <th></th>\n",
       "      <th></th>\n",
       "      <th></th>\n",
       "      <th></th>\n",
       "    </tr>\n",
       "  </thead>\n",
       "  <tbody>\n",
       "    <tr>\n",
       "      <th>leo</th>\n",
       "      <td>20180606</td>\n",
       "      <td>C:\\my_packages\\sandpyper\\tests\\test_data\\dsm_1...</td>\n",
       "      <td>32755</td>\n",
       "      <td>C:\\my_packages\\sandpyper\\tests\\test_data\\trans...</td>\n",
       "      <td>epsg:32755</td>\n",
       "    </tr>\n",
       "    <tr>\n",
       "      <th>leo</th>\n",
       "      <td>20180713</td>\n",
       "      <td>C:\\my_packages\\sandpyper\\tests\\test_data\\dsm_1...</td>\n",
       "      <td>32755</td>\n",
       "      <td>C:\\my_packages\\sandpyper\\tests\\test_data\\trans...</td>\n",
       "      <td>epsg:32755</td>\n",
       "    </tr>\n",
       "    <tr>\n",
       "      <th>leo</th>\n",
       "      <td>20180920</td>\n",
       "      <td>C:\\my_packages\\sandpyper\\tests\\test_data\\dsm_1...</td>\n",
       "      <td>32755</td>\n",
       "      <td>C:\\my_packages\\sandpyper\\tests\\test_data\\trans...</td>\n",
       "      <td>epsg:32755</td>\n",
       "    </tr>\n",
       "    <tr>\n",
       "      <th>leo</th>\n",
       "      <td>20190211</td>\n",
       "      <td>C:\\my_packages\\sandpyper\\tests\\test_data\\dsm_1...</td>\n",
       "      <td>32755</td>\n",
       "      <td>C:\\my_packages\\sandpyper\\tests\\test_data\\trans...</td>\n",
       "      <td>epsg:32755</td>\n",
       "    </tr>\n",
       "    <tr>\n",
       "      <th>leo</th>\n",
       "      <td>20190328</td>\n",
       "      <td>C:\\my_packages\\sandpyper\\tests\\test_data\\dsm_1...</td>\n",
       "      <td>32755</td>\n",
       "      <td>C:\\my_packages\\sandpyper\\tests\\test_data\\trans...</td>\n",
       "      <td>epsg:32755</td>\n",
       "    </tr>\n",
       "    <tr>\n",
       "      <th>leo</th>\n",
       "      <td>20190731</td>\n",
       "      <td>C:\\my_packages\\sandpyper\\tests\\test_data\\dsm_1...</td>\n",
       "      <td>32755</td>\n",
       "      <td>C:\\my_packages\\sandpyper\\tests\\test_data\\trans...</td>\n",
       "      <td>epsg:32755</td>\n",
       "    </tr>\n",
       "    <tr>\n",
       "      <th>mar</th>\n",
       "      <td>20180601</td>\n",
       "      <td>C:\\my_packages\\sandpyper\\tests\\test_data\\dsm_1...</td>\n",
       "      <td>32754</td>\n",
       "      <td>C:\\my_packages\\sandpyper\\tests\\test_data\\trans...</td>\n",
       "      <td>epsg:32754</td>\n",
       "    </tr>\n",
       "    <tr>\n",
       "      <th>mar</th>\n",
       "      <td>20180621</td>\n",
       "      <td>C:\\my_packages\\sandpyper\\tests\\test_data\\dsm_1...</td>\n",
       "      <td>32754</td>\n",
       "      <td>C:\\my_packages\\sandpyper\\tests\\test_data\\trans...</td>\n",
       "      <td>epsg:32754</td>\n",
       "    </tr>\n",
       "    <tr>\n",
       "      <th>mar</th>\n",
       "      <td>20180727</td>\n",
       "      <td>C:\\my_packages\\sandpyper\\tests\\test_data\\dsm_1...</td>\n",
       "      <td>32754</td>\n",
       "      <td>C:\\my_packages\\sandpyper\\tests\\test_data\\trans...</td>\n",
       "      <td>epsg:32754</td>\n",
       "    </tr>\n",
       "    <tr>\n",
       "      <th>mar</th>\n",
       "      <td>20180925</td>\n",
       "      <td>C:\\my_packages\\sandpyper\\tests\\test_data\\dsm_1...</td>\n",
       "      <td>32754</td>\n",
       "      <td>C:\\my_packages\\sandpyper\\tests\\test_data\\trans...</td>\n",
       "      <td>epsg:32754</td>\n",
       "    </tr>\n",
       "    <tr>\n",
       "      <th>mar</th>\n",
       "      <td>20181113</td>\n",
       "      <td>C:\\my_packages\\sandpyper\\tests\\test_data\\dsm_1...</td>\n",
       "      <td>32754</td>\n",
       "      <td>C:\\my_packages\\sandpyper\\tests\\test_data\\trans...</td>\n",
       "      <td>epsg:32754</td>\n",
       "    </tr>\n",
       "    <tr>\n",
       "      <th>mar</th>\n",
       "      <td>20181211</td>\n",
       "      <td>C:\\my_packages\\sandpyper\\tests\\test_data\\dsm_1...</td>\n",
       "      <td>32754</td>\n",
       "      <td>C:\\my_packages\\sandpyper\\tests\\test_data\\trans...</td>\n",
       "      <td>epsg:32754</td>\n",
       "    </tr>\n",
       "    <tr>\n",
       "      <th>mar</th>\n",
       "      <td>20190205</td>\n",
       "      <td>C:\\my_packages\\sandpyper\\tests\\test_data\\dsm_1...</td>\n",
       "      <td>32754</td>\n",
       "      <td>C:\\my_packages\\sandpyper\\tests\\test_data\\trans...</td>\n",
       "      <td>epsg:32754</td>\n",
       "    </tr>\n",
       "    <tr>\n",
       "      <th>mar</th>\n",
       "      <td>20190313</td>\n",
       "      <td>C:\\my_packages\\sandpyper\\tests\\test_data\\dsm_1...</td>\n",
       "      <td>32754</td>\n",
       "      <td>C:\\my_packages\\sandpyper\\tests\\test_data\\trans...</td>\n",
       "      <td>epsg:32754</td>\n",
       "    </tr>\n",
       "    <tr>\n",
       "      <th>mar</th>\n",
       "      <td>20190516</td>\n",
       "      <td>C:\\my_packages\\sandpyper\\tests\\test_data\\dsm_1...</td>\n",
       "      <td>32754</td>\n",
       "      <td>C:\\my_packages\\sandpyper\\tests\\test_data\\trans...</td>\n",
       "      <td>epsg:32754</td>\n",
       "    </tr>\n",
       "  </tbody>\n",
       "</table>\n",
       "</div>"
      ],
      "text/plain": [
       "          raw_date                                    filename_raster  \\\n",
       "location                                                                \n",
       "leo       20180606  C:\\my_packages\\sandpyper\\tests\\test_data\\dsm_1...   \n",
       "leo       20180713  C:\\my_packages\\sandpyper\\tests\\test_data\\dsm_1...   \n",
       "leo       20180920  C:\\my_packages\\sandpyper\\tests\\test_data\\dsm_1...   \n",
       "leo       20190211  C:\\my_packages\\sandpyper\\tests\\test_data\\dsm_1...   \n",
       "leo       20190328  C:\\my_packages\\sandpyper\\tests\\test_data\\dsm_1...   \n",
       "leo       20190731  C:\\my_packages\\sandpyper\\tests\\test_data\\dsm_1...   \n",
       "mar       20180601  C:\\my_packages\\sandpyper\\tests\\test_data\\dsm_1...   \n",
       "mar       20180621  C:\\my_packages\\sandpyper\\tests\\test_data\\dsm_1...   \n",
       "mar       20180727  C:\\my_packages\\sandpyper\\tests\\test_data\\dsm_1...   \n",
       "mar       20180925  C:\\my_packages\\sandpyper\\tests\\test_data\\dsm_1...   \n",
       "mar       20181113  C:\\my_packages\\sandpyper\\tests\\test_data\\dsm_1...   \n",
       "mar       20181211  C:\\my_packages\\sandpyper\\tests\\test_data\\dsm_1...   \n",
       "mar       20190205  C:\\my_packages\\sandpyper\\tests\\test_data\\dsm_1...   \n",
       "mar       20190313  C:\\my_packages\\sandpyper\\tests\\test_data\\dsm_1...   \n",
       "mar       20190516  C:\\my_packages\\sandpyper\\tests\\test_data\\dsm_1...   \n",
       "\n",
       "          crs_raster                                       filename_trs  \\\n",
       "location                                                                  \n",
       "leo            32755  C:\\my_packages\\sandpyper\\tests\\test_data\\trans...   \n",
       "leo            32755  C:\\my_packages\\sandpyper\\tests\\test_data\\trans...   \n",
       "leo            32755  C:\\my_packages\\sandpyper\\tests\\test_data\\trans...   \n",
       "leo            32755  C:\\my_packages\\sandpyper\\tests\\test_data\\trans...   \n",
       "leo            32755  C:\\my_packages\\sandpyper\\tests\\test_data\\trans...   \n",
       "leo            32755  C:\\my_packages\\sandpyper\\tests\\test_data\\trans...   \n",
       "mar            32754  C:\\my_packages\\sandpyper\\tests\\test_data\\trans...   \n",
       "mar            32754  C:\\my_packages\\sandpyper\\tests\\test_data\\trans...   \n",
       "mar            32754  C:\\my_packages\\sandpyper\\tests\\test_data\\trans...   \n",
       "mar            32754  C:\\my_packages\\sandpyper\\tests\\test_data\\trans...   \n",
       "mar            32754  C:\\my_packages\\sandpyper\\tests\\test_data\\trans...   \n",
       "mar            32754  C:\\my_packages\\sandpyper\\tests\\test_data\\trans...   \n",
       "mar            32754  C:\\my_packages\\sandpyper\\tests\\test_data\\trans...   \n",
       "mar            32754  C:\\my_packages\\sandpyper\\tests\\test_data\\trans...   \n",
       "mar            32754  C:\\my_packages\\sandpyper\\tests\\test_data\\trans...   \n",
       "\n",
       "         crs_transect  \n",
       "location               \n",
       "leo        epsg:32755  \n",
       "leo        epsg:32755  \n",
       "leo        epsg:32755  \n",
       "leo        epsg:32755  \n",
       "leo        epsg:32755  \n",
       "leo        epsg:32755  \n",
       "mar        epsg:32754  \n",
       "mar        epsg:32754  \n",
       "mar        epsg:32754  \n",
       "mar        epsg:32754  \n",
       "mar        epsg:32754  \n",
       "mar        epsg:32754  \n",
       "mar        epsg:32754  \n",
       "mar        epsg:32754  \n",
       "mar        epsg:32754  "
      ]
     },
     "execution_count": 6,
     "metadata": {},
     "output_type": "execute_result"
    }
   ],
   "source": [
    "check=cross_ref(dirNameDSM,dirNameTrans,print_info=True, loc_search_dict=loc_search_dict,list_loc_codes=loc_codes)\n",
    "check"
   ]
  },
  {
   "cell_type": "markdown",
   "metadata": {},
   "source": [
    "Nice! We are now ready to extract data from DSMs or ORTOs with the provided transect files."
   ]
  },
  {
   "cell_type": "markdown",
   "metadata": {},
   "source": [
    "### Extraction of profiles from folder\n",
    "\n",
    "This is the cell where the automatic extraction gets processed.\n",
    "The only parameter to set is the __sampling step__ variable, which indicates the __cross-shore sampling distance (m)__ that we want to use along our transects. Beware, although you could use a very small sampling distance (UAV datasets tend to be between few to 10 cm pixel size), file dimension will increase significantly!."
   ]
  },
  {
   "cell_type": "markdown",
   "metadata": {},
   "source": [
    "__Dealing with NaNs__\n",
    "\n",
    ">NaNs might come from two different cases:\n",
    ">1. extraction of points generated on transects falling __outside__ of the underlying raster extent\n",
    ">2. points sampled from transect __inside__ the raster extent but containing NoData cells.\n",
    ">\n",
    ">Conveniently, the extraction profile function makes sure that if points fall outside the raster extent (case 1), those >elevations are assigned a default nan value, in the NumPy np.nan form.\n",
    ">In case 2, however, the values extracted depends on the definition of NaNs of the source raster format."
   ]
  },
  {
   "cell_type": "code",
   "execution_count": 7,
   "metadata": {
    "scrolled": false
   },
   "outputs": [
    {
     "data": {
      "application/vnd.jupyter.widget-view+json": {
       "model_id": "23fda23ba0b640c0ae011d0fcd0e81d3",
       "version_major": 2,
       "version_minor": 0
      },
      "text/plain": [
       "  0%|          | 0/15 [00:00<?, ?it/s]"
      ]
     },
     "metadata": {},
     "output_type": "display_data"
    },
    {
     "name": "stderr",
     "output_type": "stream",
     "text": [
      "C:\\conda3\\envs\\sandpyper_env\\lib\\site-packages\\geopandas\\geodataframe.py:422: RuntimeWarning: Sequential read of iterator was interrupted. Resetting iterator. This can negatively impact the performance.\n",
      "  for feature in features_lst:\n"
     ]
    },
    {
     "data": {
      "application/vnd.jupyter.widget-view+json": {
       "model_id": "7849c76dab8a49b89db76579e877c6fd",
       "version_major": 2,
       "version_minor": 0
      },
      "text/plain": [
       "  0%|          | 0/59 [00:00<?, ?it/s]"
      ]
     },
     "metadata": {},
     "output_type": "display_data"
    },
    {
     "data": {
      "application/vnd.jupyter.widget-view+json": {
       "model_id": "452e1ff8fc284a718a062f075dfe8205",
       "version_major": 2,
       "version_minor": 0
      },
      "text/plain": [
       "  0%|          | 0/59 [00:00<?, ?it/s]"
      ]
     },
     "metadata": {},
     "output_type": "display_data"
    },
    {
     "data": {
      "application/vnd.jupyter.widget-view+json": {
       "model_id": "efd194e7bfee4cc29568dfe9b4c2e3ac",
       "version_major": 2,
       "version_minor": 0
      },
      "text/plain": [
       "  0%|          | 0/59 [00:00<?, ?it/s]"
      ]
     },
     "metadata": {},
     "output_type": "display_data"
    },
    {
     "data": {
      "application/vnd.jupyter.widget-view+json": {
       "model_id": "08c4b45015684f39803e9f091d7accb1",
       "version_major": 2,
       "version_minor": 0
      },
      "text/plain": [
       "  0%|          | 0/59 [00:00<?, ?it/s]"
      ]
     },
     "metadata": {},
     "output_type": "display_data"
    },
    {
     "data": {
      "application/vnd.jupyter.widget-view+json": {
       "model_id": "3fa8358a54f7475aaa382bfd65e1aab3",
       "version_major": 2,
       "version_minor": 0
      },
      "text/plain": [
       "  0%|          | 0/59 [00:00<?, ?it/s]"
      ]
     },
     "metadata": {},
     "output_type": "display_data"
    },
    {
     "data": {
      "application/vnd.jupyter.widget-view+json": {
       "model_id": "9c8f57184a784cc7b109d9527c4cf633",
       "version_major": 2,
       "version_minor": 0
      },
      "text/plain": [
       "  0%|          | 0/59 [00:00<?, ?it/s]"
      ]
     },
     "metadata": {},
     "output_type": "display_data"
    },
    {
     "data": {
      "application/vnd.jupyter.widget-view+json": {
       "model_id": "0b31bfb316fb4ba1b11a80bec12bc277",
       "version_major": 2,
       "version_minor": 0
      },
      "text/plain": [
       "  0%|          | 0/22 [00:00<?, ?it/s]"
      ]
     },
     "metadata": {},
     "output_type": "display_data"
    },
    {
     "data": {
      "application/vnd.jupyter.widget-view+json": {
       "model_id": "d0f39877494d436bbdbed29c2884973a",
       "version_major": 2,
       "version_minor": 0
      },
      "text/plain": [
       "  0%|          | 0/22 [00:00<?, ?it/s]"
      ]
     },
     "metadata": {},
     "output_type": "display_data"
    },
    {
     "data": {
      "application/vnd.jupyter.widget-view+json": {
       "model_id": "757062cd6dea48a0919dd710d2d8c94b",
       "version_major": 2,
       "version_minor": 0
      },
      "text/plain": [
       "  0%|          | 0/22 [00:00<?, ?it/s]"
      ]
     },
     "metadata": {},
     "output_type": "display_data"
    },
    {
     "data": {
      "application/vnd.jupyter.widget-view+json": {
       "model_id": "0069191bffea49148cdaa16c4c0060a5",
       "version_major": 2,
       "version_minor": 0
      },
      "text/plain": [
       "  0%|          | 0/22 [00:00<?, ?it/s]"
      ]
     },
     "metadata": {},
     "output_type": "display_data"
    },
    {
     "data": {
      "application/vnd.jupyter.widget-view+json": {
       "model_id": "2ae8114a634947a4a70f50974f02e4fe",
       "version_major": 2,
       "version_minor": 0
      },
      "text/plain": [
       "  0%|          | 0/22 [00:00<?, ?it/s]"
      ]
     },
     "metadata": {},
     "output_type": "display_data"
    },
    {
     "data": {
      "application/vnd.jupyter.widget-view+json": {
       "model_id": "64973489d4454d02939144c91f6c2572",
       "version_major": 2,
       "version_minor": 0
      },
      "text/plain": [
       "  0%|          | 0/22 [00:00<?, ?it/s]"
      ]
     },
     "metadata": {},
     "output_type": "display_data"
    },
    {
     "data": {
      "application/vnd.jupyter.widget-view+json": {
       "model_id": "a738a254cc044faab153c50dfda305fe",
       "version_major": 2,
       "version_minor": 0
      },
      "text/plain": [
       "  0%|          | 0/22 [00:00<?, ?it/s]"
      ]
     },
     "metadata": {},
     "output_type": "display_data"
    },
    {
     "data": {
      "application/vnd.jupyter.widget-view+json": {
       "model_id": "2a61b1c2fa974241914ef652ca149cf6",
       "version_major": 2,
       "version_minor": 0
      },
      "text/plain": [
       "  0%|          | 0/22 [00:00<?, ?it/s]"
      ]
     },
     "metadata": {},
     "output_type": "display_data"
    },
    {
     "data": {
      "application/vnd.jupyter.widget-view+json": {
       "model_id": "b7b9325acca54feeb01fd02a6eb2b0f3",
       "version_major": 2,
       "version_minor": 0
      },
      "text/plain": [
       "  0%|          | 0/22 [00:00<?, ?it/s]"
      ]
     },
     "metadata": {},
     "output_type": "display_data"
    },
    {
     "name": "stdout",
     "output_type": "stream",
     "text": [
      "Extraction succesfull\n",
      "Number of points extracted:32805\n",
      "Time for processing=49.164700508117676 seconds\n",
      "First 10 rows are printed below\n",
      "Number of points outside the raster extents: 27198\n",
      "The extraction assigns NaN.\n",
      "Number of points in NoData areas within the raster extents: 0\n",
      "The extraction assigns NaN.\n"
     ]
    },
    {
     "data": {
      "application/vnd.jupyter.widget-view+json": {
       "model_id": "4848985d308141f7bddf6dad60b94795",
       "version_major": 2,
       "version_minor": 0
      },
      "text/plain": [
       "  0%|          | 0/15 [00:00<?, ?it/s]"
      ]
     },
     "metadata": {},
     "output_type": "display_data"
    },
    {
     "name": "stderr",
     "output_type": "stream",
     "text": [
      "C:\\conda3\\envs\\sandpyper_env\\lib\\site-packages\\geopandas\\geodataframe.py:422: RuntimeWarning: Sequential read of iterator was interrupted. Resetting iterator. This can negatively impact the performance.\n",
      "  for feature in features_lst:\n"
     ]
    },
    {
     "data": {
      "application/vnd.jupyter.widget-view+json": {
       "model_id": "7601695551ab4551a7e03b98995c9acb",
       "version_major": 2,
       "version_minor": 0
      },
      "text/plain": [
       "  0%|          | 0/59 [00:00<?, ?it/s]"
      ]
     },
     "metadata": {},
     "output_type": "display_data"
    },
    {
     "data": {
      "application/vnd.jupyter.widget-view+json": {
       "model_id": "4af30e0adb3e42f99da6b8613b21c29a",
       "version_major": 2,
       "version_minor": 0
      },
      "text/plain": [
       "  0%|          | 0/59 [00:00<?, ?it/s]"
      ]
     },
     "metadata": {},
     "output_type": "display_data"
    },
    {
     "data": {
      "application/vnd.jupyter.widget-view+json": {
       "model_id": "c98343e736a642b3b6d59977cacbc392",
       "version_major": 2,
       "version_minor": 0
      },
      "text/plain": [
       "  0%|          | 0/59 [00:00<?, ?it/s]"
      ]
     },
     "metadata": {},
     "output_type": "display_data"
    },
    {
     "data": {
      "application/vnd.jupyter.widget-view+json": {
       "model_id": "4bef4eb7c7a547b7b811f2bd8e00593b",
       "version_major": 2,
       "version_minor": 0
      },
      "text/plain": [
       "  0%|          | 0/59 [00:00<?, ?it/s]"
      ]
     },
     "metadata": {},
     "output_type": "display_data"
    },
    {
     "data": {
      "application/vnd.jupyter.widget-view+json": {
       "model_id": "9ee8516180df46a8994988446eb32950",
       "version_major": 2,
       "version_minor": 0
      },
      "text/plain": [
       "  0%|          | 0/59 [00:00<?, ?it/s]"
      ]
     },
     "metadata": {},
     "output_type": "display_data"
    },
    {
     "data": {
      "application/vnd.jupyter.widget-view+json": {
       "model_id": "73f833fc6951463c951410e6d86d6153",
       "version_major": 2,
       "version_minor": 0
      },
      "text/plain": [
       "  0%|          | 0/59 [00:00<?, ?it/s]"
      ]
     },
     "metadata": {},
     "output_type": "display_data"
    },
    {
     "data": {
      "application/vnd.jupyter.widget-view+json": {
       "model_id": "2bbe90673ac64f42a8e0be3810ed51b1",
       "version_major": 2,
       "version_minor": 0
      },
      "text/plain": [
       "  0%|          | 0/22 [00:00<?, ?it/s]"
      ]
     },
     "metadata": {},
     "output_type": "display_data"
    },
    {
     "data": {
      "application/vnd.jupyter.widget-view+json": {
       "model_id": "1023bba25c55453f9638e7f7929331f3",
       "version_major": 2,
       "version_minor": 0
      },
      "text/plain": [
       "  0%|          | 0/22 [00:00<?, ?it/s]"
      ]
     },
     "metadata": {},
     "output_type": "display_data"
    },
    {
     "data": {
      "application/vnd.jupyter.widget-view+json": {
       "model_id": "89882aea876c4cb8b4cd3faeb1754ac5",
       "version_major": 2,
       "version_minor": 0
      },
      "text/plain": [
       "  0%|          | 0/22 [00:00<?, ?it/s]"
      ]
     },
     "metadata": {},
     "output_type": "display_data"
    },
    {
     "data": {
      "application/vnd.jupyter.widget-view+json": {
       "model_id": "9332ca5ff06441da81370f516e8c1679",
       "version_major": 2,
       "version_minor": 0
      },
      "text/plain": [
       "  0%|          | 0/22 [00:00<?, ?it/s]"
      ]
     },
     "metadata": {},
     "output_type": "display_data"
    },
    {
     "data": {
      "application/vnd.jupyter.widget-view+json": {
       "model_id": "29062edd59f44de982497d8f0b9459ab",
       "version_major": 2,
       "version_minor": 0
      },
      "text/plain": [
       "  0%|          | 0/22 [00:00<?, ?it/s]"
      ]
     },
     "metadata": {},
     "output_type": "display_data"
    },
    {
     "data": {
      "application/vnd.jupyter.widget-view+json": {
       "model_id": "8812fa872aa842beb07eb3f92689bcf2",
       "version_major": 2,
       "version_minor": 0
      },
      "text/plain": [
       "  0%|          | 0/22 [00:00<?, ?it/s]"
      ]
     },
     "metadata": {},
     "output_type": "display_data"
    },
    {
     "data": {
      "application/vnd.jupyter.widget-view+json": {
       "model_id": "655158b024a445d8a102cf1381dea66b",
       "version_major": 2,
       "version_minor": 0
      },
      "text/plain": [
       "  0%|          | 0/22 [00:00<?, ?it/s]"
      ]
     },
     "metadata": {},
     "output_type": "display_data"
    },
    {
     "data": {
      "application/vnd.jupyter.widget-view+json": {
       "model_id": "98527e4926bf41bba3f4ccc0f6e2295a",
       "version_major": 2,
       "version_minor": 0
      },
      "text/plain": [
       "  0%|          | 0/22 [00:00<?, ?it/s]"
      ]
     },
     "metadata": {},
     "output_type": "display_data"
    },
    {
     "data": {
      "application/vnd.jupyter.widget-view+json": {
       "model_id": "aa2b29c226b4483d847f9a4113d8b9f4",
       "version_major": 2,
       "version_minor": 0
      },
      "text/plain": [
       "  0%|          | 0/22 [00:00<?, ?it/s]"
      ]
     },
     "metadata": {},
     "output_type": "display_data"
    },
    {
     "name": "stdout",
     "output_type": "stream",
     "text": [
      "Extraction succesfull\n",
      "Number of points extracted:32805\n",
      "Time for processing=44.340404748916626 seconds\n",
      "First 10 rows are printed below\n",
      "Number of points outside the raster extents: 9066\n",
      "The extraction assigns NaN.\n",
      "Number of points in NoData areas within the raster extents: 250\n",
      "The extraction assigns NaN.\n",
      "Wall time: 1min 33s\n"
     ]
    }
   ],
   "source": [
    "%%time\n",
    "\n",
    "## Parameters to specify\n",
    "\n",
    "transect_folder=dirNameTrans\n",
    "sampling_step=1\n",
    "\n",
    "\n",
    "gdf_rgb=extract_from_folder(dataset_folder=dirNameOrtho,\n",
    "                        transect_folder=transect_folder,\n",
    "                        mode=\"ortho\",sampling_step=sampling_step,\n",
    "                        list_loc_codes=loc_codes,\n",
    "                        add_xy=True)\n",
    "\n",
    "gdf=extract_from_folder(dataset_folder=dirNameDSM,\n",
    "                        transect_folder=transect_folder,\n",
    "                        mode=\"dsm\",sampling_step=sampling_step,\n",
    "                        list_loc_codes=loc_codes,\n",
    "                        add_xy=True)\n"
   ]
  },
  {
   "cell_type": "code",
   "execution_count": 12,
   "metadata": {},
   "outputs": [
    {
     "data": {
      "text/html": [
       "<div>\n",
       "<style scoped>\n",
       "    .dataframe tbody tr th:only-of-type {\n",
       "        vertical-align: middle;\n",
       "    }\n",
       "\n",
       "    .dataframe tbody tr th {\n",
       "        vertical-align: top;\n",
       "    }\n",
       "\n",
       "    .dataframe thead th {\n",
       "        text-align: right;\n",
       "    }\n",
       "</style>\n",
       "<table border=\"1\" class=\"dataframe\">\n",
       "  <thead>\n",
       "    <tr style=\"text-align: right;\">\n",
       "      <th></th>\n",
       "      <th>distance</th>\n",
       "      <th>z</th>\n",
       "      <th>tr_id</th>\n",
       "      <th>raw_date</th>\n",
       "      <th>coordinates</th>\n",
       "      <th>location</th>\n",
       "      <th>survey_date</th>\n",
       "      <th>point_id</th>\n",
       "      <th>x</th>\n",
       "      <th>y</th>\n",
       "    </tr>\n",
       "  </thead>\n",
       "  <tbody>\n",
       "    <tr>\n",
       "      <th>0</th>\n",
       "      <td>0.0</td>\n",
       "      <td>-0.004195</td>\n",
       "      <td>21</td>\n",
       "      <td>20190516</td>\n",
       "      <td>POINT (731646.904 5705523.469)</td>\n",
       "      <td>mar</td>\n",
       "      <td>2019-05-16</td>\n",
       "      <td>61121091m2580400ar00</td>\n",
       "      <td>731646.903760</td>\n",
       "      <td>5.705523e+06</td>\n",
       "    </tr>\n",
       "    <tr>\n",
       "      <th>1</th>\n",
       "      <td>0.1</td>\n",
       "      <td>-0.004196</td>\n",
       "      <td>21</td>\n",
       "      <td>20190516</td>\n",
       "      <td>POINT (731646.821 5705523.525)</td>\n",
       "      <td>mar</td>\n",
       "      <td>2019-05-16</td>\n",
       "      <td>61126091m2590410ar00</td>\n",
       "      <td>731646.821214</td>\n",
       "      <td>5.705524e+06</td>\n",
       "    </tr>\n",
       "    <tr>\n",
       "      <th>2</th>\n",
       "      <td>0.2</td>\n",
       "      <td>-0.004195</td>\n",
       "      <td>21</td>\n",
       "      <td>20190516</td>\n",
       "      <td>POINT (731646.739 5705523.582)</td>\n",
       "      <td>mar</td>\n",
       "      <td>2019-05-16</td>\n",
       "      <td>61125091m2540920ar00</td>\n",
       "      <td>731646.738668</td>\n",
       "      <td>5.705524e+06</td>\n",
       "    </tr>\n",
       "    <tr>\n",
       "      <th>3</th>\n",
       "      <td>0.3</td>\n",
       "      <td>-0.004195</td>\n",
       "      <td>21</td>\n",
       "      <td>20190516</td>\n",
       "      <td>POINT (731646.656 5705523.638)</td>\n",
       "      <td>mar</td>\n",
       "      <td>2019-05-16</td>\n",
       "      <td>61124091m2500430ar00</td>\n",
       "      <td>731646.656122</td>\n",
       "      <td>5.705524e+06</td>\n",
       "    </tr>\n",
       "    <tr>\n",
       "      <th>4</th>\n",
       "      <td>0.4</td>\n",
       "      <td>-0.004196</td>\n",
       "      <td>21</td>\n",
       "      <td>20190516</td>\n",
       "      <td>POINT (731646.574 5705523.695)</td>\n",
       "      <td>mar</td>\n",
       "      <td>2019-05-16</td>\n",
       "      <td>61122091m2550840ar00</td>\n",
       "      <td>731646.573577</td>\n",
       "      <td>5.705524e+06</td>\n",
       "    </tr>\n",
       "  </tbody>\n",
       "</table>\n",
       "</div>"
      ],
      "text/plain": [
       "   distance         z  tr_id  raw_date                     coordinates  \\\n",
       "0       0.0 -0.004195     21  20190516  POINT (731646.904 5705523.469)   \n",
       "1       0.1 -0.004196     21  20190516  POINT (731646.821 5705523.525)   \n",
       "2       0.2 -0.004195     21  20190516  POINT (731646.739 5705523.582)   \n",
       "3       0.3 -0.004195     21  20190516  POINT (731646.656 5705523.638)   \n",
       "4       0.4 -0.004196     21  20190516  POINT (731646.574 5705523.695)   \n",
       "\n",
       "  location survey_date              point_id              x             y  \n",
       "0      mar  2019-05-16  61121091m2580400ar00  731646.903760  5.705523e+06  \n",
       "1      mar  2019-05-16  61126091m2590410ar00  731646.821214  5.705524e+06  \n",
       "2      mar  2019-05-16  61125091m2540920ar00  731646.738668  5.705524e+06  \n",
       "3      mar  2019-05-16  61124091m2500430ar00  731646.656122  5.705524e+06  \n",
       "4      mar  2019-05-16  61122091m2550840ar00  731646.573577  5.705524e+06  "
      ]
     },
     "execution_count": 12,
     "metadata": {},
     "output_type": "execute_result"
    }
   ],
   "source": [
    "gdf.head()"
   ]
  },
  {
   "cell_type": "markdown",
   "metadata": {},
   "source": [
    "### GOOD!\n",
    "\n",
    "save the Geodataframes (gdf and gdf_rgb) as a CSV file and head to the __SANDPYPER Labeling sand notebook__."
   ]
  },
  {
   "cell_type": "code",
   "execution_count": 8,
   "metadata": {},
   "outputs": [],
   "source": [
    "# Saving the files\n",
    "\n",
    "gdf.to_csv(r\"C:\\my_packages\\sandpyper\\tests\\test_outputs\\gdf.csv\",index=False)\n",
    "gdf_rgb.to_csv(r\"C:\\my_packages\\sandpyper\\tests\\test_outputs\\gdf_rgb.csv\",index=False)"
   ]
  },
  {
   "cell_type": "markdown",
   "metadata": {},
   "source": [
    "___"
   ]
  }
 ],
 "metadata": {
  "kernelspec": {
   "display_name": "Python 3",
   "language": "python",
   "name": "python3"
  },
  "language_info": {
   "codemirror_mode": {
    "name": "ipython",
    "version": 3
   },
   "file_extension": ".py",
   "mimetype": "text/x-python",
   "name": "python",
   "nbconvert_exporter": "python",
   "pygments_lexer": "ipython3",
   "version": "3.9.4"
  }
 },
 "nbformat": 4,
 "nbformat_minor": 2
}
