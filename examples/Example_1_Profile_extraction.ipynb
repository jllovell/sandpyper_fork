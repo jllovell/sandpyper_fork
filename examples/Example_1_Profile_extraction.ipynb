{
 "cells": [
  {
   "cell_type": "markdown",
   "metadata": {},
   "source": [
    "<font size=\"5\"><center> <b>Sandpyper: sandy beaches SfM-UAV analysis tools</b></center></font>\n",
    "<font size=\"4\"><center> <b> Example 1 - Profiles extraction </b></center> <br>\n",
    "\n",
    "    \n",
    "<center><img src=\"images/banner.png\" width=\"80%\"  /></center>\n",
    "\n",
    "<font face=\"Calibri\">\n",
    "<br>\n",
    "<font size=\"5\"> <b>Profiles creation and data extraction from DSM and orthophotos</b></font>\n",
    "\n",
    "<br>\n",
    "<font size=\"4\"> <b> Nicolas Pucino; PhD Student @ Deakin University, Australia </b> <br>\n",
    "\n",
    "<font size=\"3\">The first steps in a typical workflow is to create cross-shore transects in all the locations and extract elevation and RGB information along those transects. Sandpiper allows the data extraction from hundreds of rasters at once, in an organised way. <br>\n",
    "\n",
    "<b>This notebook covers the following concepts:</b>\n",
    "\n",
    "- Naming conventions and global parameters.\n",
    "- Setting up the folders.\n",
    "- Setting up the folders.\n",
    "</font>\n",
    "\n",
    "\n",
    "</font>"
   ]
  },
  {
   "cell_type": "markdown",
   "metadata": {},
   "source": [
    "Import all it is required."
   ]
  },
  {
   "cell_type": "code",
   "execution_count": 9,
   "metadata": {
    "scrolled": true
   },
   "outputs": [],
   "source": [
    "import matplotlib.pyplot as plt\n",
    "import numpy as np\n",
    "import pandas as pd\n",
    "import geopandas as gpd\n",
    "import os\n",
    "\n",
    "from sandpyper.outils import cross_ref,create_spatial_id\n",
    "from sandpyper.dynamics import compute_multitemporal\n",
    "from sandpyper.profile import extract_from_folder\n",
    "from sandpyper.space import create_transects\n",
    "\n",
    "pd.options.mode.chained_assignment = None  # default='warn'"
   ]
  },
  {
   "cell_type": "code",
   "execution_count": 2,
   "metadata": {},
   "outputs": [],
   "source": [
    "class ProfileSet():\n",
    "    \"\"\"\n",
    "    ciao\n",
    "    \"\"\"\n",
    "    def __init__(self,\n",
    "                 dirNameDSM,\n",
    "                 dirNameOrtho,\n",
    "                 dirNameTrans,\n",
    "                 loc_codes,\n",
    "                 loc_search_dict,\n",
    "                 crs_dict_string,\n",
    "                check='all'):\n",
    "        \n",
    "        \n",
    "        self.dirNameDSM=dirNameDSM\n",
    "        self.dirNameOrtho=dirNameOrtho\n",
    "        self.dirNameTrans=dirNameTrans\n",
    "        \n",
    "        self.loc_codes=loc_codes\n",
    "        self.loc_search_dict=loc_search_dict\n",
    "        self.crs_dict_string=crs_dict_string\n",
    "        \n",
    "        if check==\"dsm\":\n",
    "            path_in=self.dirNameDSM\n",
    "        elif check == \"ortho\":\n",
    "            path_in=self.dirNameOrtho\n",
    "        elif check == \"all\":\n",
    "            path_in=[self.dirNameDSM, self.dirNameOrtho]\n",
    "            \n",
    "        \n",
    "        self.check=cross_ref(path_in,\n",
    "                        self.dirNameTrans,\n",
    "                        print_info=True, \n",
    "                        loc_search_dict=self.loc_search_dict,\n",
    "                        list_loc_codes=self.loc_codes)\n",
    "\n",
    "        \n",
    "    def extract_profiles(self,\n",
    "                         mode,\n",
    "                         sampling_step,\n",
    "                         add_xy,\n",
    "                         add_slope=False,\n",
    "                         default_nan_values=-10000):\n",
    "        \n",
    "        if mode==\"dsm\":\n",
    "            path_in=self.dirNameDSM\n",
    "        elif mode == \"ortho\":\n",
    "            path_in=self.dirNameOrtho\n",
    "        elif mode == \"all\":\n",
    "            path_in=[self.dirNameDSM,self.dirNameOrtho]\n",
    "        else:\n",
    "            raise NameError(\"mode must be either 'dsm','ortho' or 'all'.\")\n",
    "        \n",
    "        if mode in [\"dsm\",\"ortho\"]:\n",
    "            \n",
    "            profiles=extract_from_folder(dataset_folder=path_in,\n",
    "                transect_folder=self.dirNameTrans,\n",
    "                mode=mode,sampling_step=sampling_step,\n",
    "                list_loc_codes=self.loc_codes,\n",
    "                add_xy=add_xy,\n",
    "                add_slope=add_slope,\n",
    "                default_nan_values=default_nan_values)\n",
    "            \n",
    "            profiles[\"distance\"]=np.round(profiles.loc[:,\"distance\"].values.astype(\"float\"),2)\n",
    "            \n",
    "        elif mode == \"all\":\n",
    "            \n",
    "            print(\"Extracting elevation from DSMs . . .\")\n",
    "            profiles_z=extract_from_folder( dataset_folder=path_in[0],\n",
    "                    transect_folder=self.dirNameTrans,\n",
    "                    mode=\"dsm\",\n",
    "                    sampling_step=sampling_step,\n",
    "                    list_loc_codes=self.loc_codes,\n",
    "                    add_xy=add_xy,\n",
    "                    add_slope=add_slope,\n",
    "                    default_nan_values=default_nan_values )\n",
    "                        \n",
    "            print(\"Extracting rgb values from orthos . . .\")\n",
    "            profiles_rgb=extract_from_folder(dataset_folder=path_in[1],\n",
    "                transect_folder=self.dirNameTrans,\n",
    "                mode=\"ortho\",sampling_step=sampling_step,\n",
    "                list_loc_codes=self.loc_codes,\n",
    "                add_xy=add_xy,\n",
    "                default_nan_values=default_nan_values)\n",
    "            \n",
    "            profiles_rgb[\"distance\"]=np.round(profiles_rgb.loc[:,\"distance\"].values.astype(\"float\"),2)\n",
    "            profiles_z[\"distance\"]=np.round(profiles_z.loc[:,\"distance\"].values.astype(\"float\"),2)\n",
    "\n",
    "            profiles_merged = pd.merge(profiles_z,profiles_rgb[[\"band1\",\"band2\",\"band3\",\"point_id\"]],on=\"point_id\",validate=\"one_to_one\")\n",
    "            profiles_merged=profiles_merged.replace(\"\", np.NaN)\n",
    "            profiles_merged['z']=profiles_merged.z.astype(\"float\")\n",
    "            \n",
    "            self.profiles=profiles_merged\n",
    "            \n",
    "        else:\n",
    "            raise NameError(\"mode must be either 'dsm','ortho' or 'all'.\")\n",
    "        \n",
    "        self.sampling_step=sampling_step\n",
    "        \n",
    "    def compute_multitemporal(self, date_field='raw_date',\n",
    "                              filter_sand=False,\n",
    "                             sand_label_field='label_sand'):\n",
    "        \n",
    "        dh_df=compute_multitemporal(self.profiles,\n",
    "                     date_field=date_field, filter_sand=filter_sand,\n",
    "                     sand_label_field=sand_label_field)\n",
    "            \n"
   ]
  },
  {
   "cell_type": "code",
   "execution_count": 3,
   "metadata": {},
   "outputs": [],
   "source": [
    "dirNameDSM=r'C:\\my_packages\\sandpyper\\tests\\test_data\\dsm_1m'\n",
    "\n",
    "dirNameOrtho=r'C:\\my_packages\\sandpyper\\tests\\test_data\\orthos_1m'\n",
    "\n",
    "dirNameTrans=r'C:\\my_packages\\sandpyper\\tests\\test_data\\transects'\n",
    "\n",
    "loc_codes=[\"mar\",\"leo\"]\n",
    "loc_search_dict = {   'leo': ['St','Leonards','leonards','leo'],\n",
    "                      'mar': ['Marengo','marengo','mar'] }\n",
    "crs_dict_string= {\n",
    "                 'mar': {'init': 'epsg:32754'},\n",
    "                 'leo':{'init': 'epsg:32755'}\n",
    "                 }\n"
   ]
  },
  {
   "cell_type": "code",
   "execution_count": 4,
   "metadata": {},
   "outputs": [
    {
     "name": "stderr",
     "output_type": "stream",
     "text": [
      "C:\\conda3\\envs\\sandpyper_env\\lib\\site-packages\\geopandas\\geodataframe.py:422: RuntimeWarning: Sequential read of iterator was interrupted. Resetting iterator. This can negatively impact the performance.\n",
      "  for feature in features_lst:\n"
     ]
    },
    {
     "name": "stdout",
     "output_type": "stream",
     "text": [
      "dsm from leo = 6\n",
      "\n",
      "ortho from leo = 6\n",
      "\n",
      "dsm from mar = 9\n",
      "\n",
      "ortho from mar = 9\n",
      "\n",
      "\n",
      "NUMBER OF DATASETS TO PROCESS: 30\n"
     ]
    }
   ],
   "source": [
    "P=ProfileSet(dirNameDSM,\n",
    "            dirNameOrtho,\n",
    "            dirNameTrans,\n",
    "            loc_codes,\n",
    "            loc_search_dict,\n",
    "            crs_dict_string,\n",
    "            check=\"all\")"
   ]
  },
  {
   "cell_type": "code",
   "execution_count": 5,
   "metadata": {
    "scrolled": false
   },
   "outputs": [
    {
     "name": "stdout",
     "output_type": "stream",
     "text": [
      "Extracting elevation from DSMs . . .\n"
     ]
    },
    {
     "data": {
      "application/vnd.jupyter.widget-view+json": {
       "model_id": "b9db5fac4a8b427e960fc34468eeb798",
       "version_major": 2,
       "version_minor": 0
      },
      "text/plain": [
       "  0%|          | 0/15 [00:00<?, ?it/s]"
      ]
     },
     "metadata": {},
     "output_type": "display_data"
    },
    {
     "data": {
      "application/vnd.jupyter.widget-view+json": {
       "model_id": "99446260754d47dfaecbec91c98d5054",
       "version_major": 2,
       "version_minor": 0
      },
      "text/plain": [
       "  0%|          | 0/59 [00:00<?, ?it/s]"
      ]
     },
     "metadata": {},
     "output_type": "display_data"
    },
    {
     "data": {
      "application/vnd.jupyter.widget-view+json": {
       "model_id": "5170cf9b782540e682584991c9cee09c",
       "version_major": 2,
       "version_minor": 0
      },
      "text/plain": [
       "  0%|          | 0/59 [00:00<?, ?it/s]"
      ]
     },
     "metadata": {},
     "output_type": "display_data"
    },
    {
     "data": {
      "application/vnd.jupyter.widget-view+json": {
       "model_id": "720a9a22d82f4f4d96b254b30897b4ca",
       "version_major": 2,
       "version_minor": 0
      },
      "text/plain": [
       "  0%|          | 0/59 [00:00<?, ?it/s]"
      ]
     },
     "metadata": {},
     "output_type": "display_data"
    },
    {
     "data": {
      "application/vnd.jupyter.widget-view+json": {
       "model_id": "24912f29cad443dba8d8143809297f3e",
       "version_major": 2,
       "version_minor": 0
      },
      "text/plain": [
       "  0%|          | 0/59 [00:00<?, ?it/s]"
      ]
     },
     "metadata": {},
     "output_type": "display_data"
    },
    {
     "data": {
      "application/vnd.jupyter.widget-view+json": {
       "model_id": "1692a0f7104b41f98815e2653aec4e14",
       "version_major": 2,
       "version_minor": 0
      },
      "text/plain": [
       "  0%|          | 0/59 [00:00<?, ?it/s]"
      ]
     },
     "metadata": {},
     "output_type": "display_data"
    },
    {
     "data": {
      "application/vnd.jupyter.widget-view+json": {
       "model_id": "e4634c98393e4cceb8be3a1c407dac65",
       "version_major": 2,
       "version_minor": 0
      },
      "text/plain": [
       "  0%|          | 0/59 [00:00<?, ?it/s]"
      ]
     },
     "metadata": {},
     "output_type": "display_data"
    },
    {
     "data": {
      "application/vnd.jupyter.widget-view+json": {
       "model_id": "0aae254c38ca4976ae9375a9d52b3049",
       "version_major": 2,
       "version_minor": 0
      },
      "text/plain": [
       "  0%|          | 0/22 [00:00<?, ?it/s]"
      ]
     },
     "metadata": {},
     "output_type": "display_data"
    },
    {
     "data": {
      "application/vnd.jupyter.widget-view+json": {
       "model_id": "574f72b2dc2b4d0c814f68c11e408f94",
       "version_major": 2,
       "version_minor": 0
      },
      "text/plain": [
       "  0%|          | 0/22 [00:00<?, ?it/s]"
      ]
     },
     "metadata": {},
     "output_type": "display_data"
    },
    {
     "data": {
      "application/vnd.jupyter.widget-view+json": {
       "model_id": "b4738ddfb2a64e4e9278fadda959079a",
       "version_major": 2,
       "version_minor": 0
      },
      "text/plain": [
       "  0%|          | 0/22 [00:00<?, ?it/s]"
      ]
     },
     "metadata": {},
     "output_type": "display_data"
    },
    {
     "data": {
      "application/vnd.jupyter.widget-view+json": {
       "model_id": "1663a925b2754a239475ccd83a04d843",
       "version_major": 2,
       "version_minor": 0
      },
      "text/plain": [
       "  0%|          | 0/22 [00:00<?, ?it/s]"
      ]
     },
     "metadata": {},
     "output_type": "display_data"
    },
    {
     "data": {
      "application/vnd.jupyter.widget-view+json": {
       "model_id": "26eedf33dbc84cb1a1a64a5da38dc213",
       "version_major": 2,
       "version_minor": 0
      },
      "text/plain": [
       "  0%|          | 0/22 [00:00<?, ?it/s]"
      ]
     },
     "metadata": {},
     "output_type": "display_data"
    },
    {
     "data": {
      "application/vnd.jupyter.widget-view+json": {
       "model_id": "17fb0408908d42a1b1295992bc3c9d8a",
       "version_major": 2,
       "version_minor": 0
      },
      "text/plain": [
       "  0%|          | 0/22 [00:00<?, ?it/s]"
      ]
     },
     "metadata": {},
     "output_type": "display_data"
    },
    {
     "data": {
      "application/vnd.jupyter.widget-view+json": {
       "model_id": "60d4ea9d47fa401ca031d01b0d61b54e",
       "version_major": 2,
       "version_minor": 0
      },
      "text/plain": [
       "  0%|          | 0/22 [00:00<?, ?it/s]"
      ]
     },
     "metadata": {},
     "output_type": "display_data"
    },
    {
     "data": {
      "application/vnd.jupyter.widget-view+json": {
       "model_id": "fd149481340e4f08a8c8a5e589b272ae",
       "version_major": 2,
       "version_minor": 0
      },
      "text/plain": [
       "  0%|          | 0/22 [00:00<?, ?it/s]"
      ]
     },
     "metadata": {},
     "output_type": "display_data"
    },
    {
     "data": {
      "application/vnd.jupyter.widget-view+json": {
       "model_id": "d779f3660ae041c497e8eedb1f50ff8b",
       "version_major": 2,
       "version_minor": 0
      },
      "text/plain": [
       "  0%|          | 0/22 [00:00<?, ?it/s]"
      ]
     },
     "metadata": {},
     "output_type": "display_data"
    },
    {
     "name": "stdout",
     "output_type": "stream",
     "text": [
      "Extraction succesfull\n",
      "Number of points extracted:32805\n",
      "Time for processing=55.330790758132935 seconds\n",
      "First 10 rows are printed below\n",
      "Number of points outside the raster extents: 9066\n",
      "The extraction assigns NaN.\n",
      "Number of points in NoData areas within the raster extents: 250\n",
      "The extraction assigns NaN.\n",
      "Extracting rgb values from orthos . . .\n"
     ]
    },
    {
     "data": {
      "application/vnd.jupyter.widget-view+json": {
       "model_id": "fea5d65dbe514d2ebd906af8147bd831",
       "version_major": 2,
       "version_minor": 0
      },
      "text/plain": [
       "  0%|          | 0/15 [00:00<?, ?it/s]"
      ]
     },
     "metadata": {},
     "output_type": "display_data"
    },
    {
     "name": "stderr",
     "output_type": "stream",
     "text": [
      "C:\\conda3\\envs\\sandpyper_env\\lib\\site-packages\\geopandas\\geodataframe.py:422: RuntimeWarning: Sequential read of iterator was interrupted. Resetting iterator. This can negatively impact the performance.\n",
      "  for feature in features_lst:\n"
     ]
    },
    {
     "data": {
      "application/vnd.jupyter.widget-view+json": {
       "model_id": "ca33ac876207489389950b288376eb6b",
       "version_major": 2,
       "version_minor": 0
      },
      "text/plain": [
       "  0%|          | 0/59 [00:00<?, ?it/s]"
      ]
     },
     "metadata": {},
     "output_type": "display_data"
    },
    {
     "data": {
      "application/vnd.jupyter.widget-view+json": {
       "model_id": "1a0092f3860b48e68db7a56e81f025bb",
       "version_major": 2,
       "version_minor": 0
      },
      "text/plain": [
       "  0%|          | 0/59 [00:00<?, ?it/s]"
      ]
     },
     "metadata": {},
     "output_type": "display_data"
    },
    {
     "data": {
      "application/vnd.jupyter.widget-view+json": {
       "model_id": "94e40c807c8f47deb9794ade9969f857",
       "version_major": 2,
       "version_minor": 0
      },
      "text/plain": [
       "  0%|          | 0/59 [00:00<?, ?it/s]"
      ]
     },
     "metadata": {},
     "output_type": "display_data"
    },
    {
     "data": {
      "application/vnd.jupyter.widget-view+json": {
       "model_id": "86dfb29120b740dab339569c3d68e28e",
       "version_major": 2,
       "version_minor": 0
      },
      "text/plain": [
       "  0%|          | 0/59 [00:00<?, ?it/s]"
      ]
     },
     "metadata": {},
     "output_type": "display_data"
    },
    {
     "data": {
      "application/vnd.jupyter.widget-view+json": {
       "model_id": "4ab28f5617ba419c8157940e0aaaf32e",
       "version_major": 2,
       "version_minor": 0
      },
      "text/plain": [
       "  0%|          | 0/59 [00:00<?, ?it/s]"
      ]
     },
     "metadata": {},
     "output_type": "display_data"
    },
    {
     "data": {
      "application/vnd.jupyter.widget-view+json": {
       "model_id": "bbaff4649321467f9bebb397565d8651",
       "version_major": 2,
       "version_minor": 0
      },
      "text/plain": [
       "  0%|          | 0/59 [00:00<?, ?it/s]"
      ]
     },
     "metadata": {},
     "output_type": "display_data"
    },
    {
     "data": {
      "application/vnd.jupyter.widget-view+json": {
       "model_id": "bcc89f45c97a4cd1b3ebf723657f8d1b",
       "version_major": 2,
       "version_minor": 0
      },
      "text/plain": [
       "  0%|          | 0/22 [00:00<?, ?it/s]"
      ]
     },
     "metadata": {},
     "output_type": "display_data"
    },
    {
     "data": {
      "application/vnd.jupyter.widget-view+json": {
       "model_id": "91dabe2ce2084bb18db185c720924bab",
       "version_major": 2,
       "version_minor": 0
      },
      "text/plain": [
       "  0%|          | 0/22 [00:00<?, ?it/s]"
      ]
     },
     "metadata": {},
     "output_type": "display_data"
    },
    {
     "data": {
      "application/vnd.jupyter.widget-view+json": {
       "model_id": "0a40df1a6f0c4b2a91e96d4e9e6db6b0",
       "version_major": 2,
       "version_minor": 0
      },
      "text/plain": [
       "  0%|          | 0/22 [00:00<?, ?it/s]"
      ]
     },
     "metadata": {},
     "output_type": "display_data"
    },
    {
     "data": {
      "application/vnd.jupyter.widget-view+json": {
       "model_id": "ef6ca5e5de1d43b4b1f6200bf16e172f",
       "version_major": 2,
       "version_minor": 0
      },
      "text/plain": [
       "  0%|          | 0/22 [00:00<?, ?it/s]"
      ]
     },
     "metadata": {},
     "output_type": "display_data"
    },
    {
     "data": {
      "application/vnd.jupyter.widget-view+json": {
       "model_id": "f27790ecea7346d1a2f7cfbeaed571b2",
       "version_major": 2,
       "version_minor": 0
      },
      "text/plain": [
       "  0%|          | 0/22 [00:00<?, ?it/s]"
      ]
     },
     "metadata": {},
     "output_type": "display_data"
    },
    {
     "data": {
      "application/vnd.jupyter.widget-view+json": {
       "model_id": "d3e097706e534313a3c2dc4c78fa4689",
       "version_major": 2,
       "version_minor": 0
      },
      "text/plain": [
       "  0%|          | 0/22 [00:00<?, ?it/s]"
      ]
     },
     "metadata": {},
     "output_type": "display_data"
    },
    {
     "data": {
      "application/vnd.jupyter.widget-view+json": {
       "model_id": "3d6296fe7d814fb988487792772c571a",
       "version_major": 2,
       "version_minor": 0
      },
      "text/plain": [
       "  0%|          | 0/22 [00:00<?, ?it/s]"
      ]
     },
     "metadata": {},
     "output_type": "display_data"
    },
    {
     "data": {
      "application/vnd.jupyter.widget-view+json": {
       "model_id": "1c148311a66649be841360dd99dd023c",
       "version_major": 2,
       "version_minor": 0
      },
      "text/plain": [
       "  0%|          | 0/22 [00:00<?, ?it/s]"
      ]
     },
     "metadata": {},
     "output_type": "display_data"
    },
    {
     "data": {
      "application/vnd.jupyter.widget-view+json": {
       "model_id": "fe9cedb75ddb4ed99307804ab8c22828",
       "version_major": 2,
       "version_minor": 0
      },
      "text/plain": [
       "  0%|          | 0/22 [00:00<?, ?it/s]"
      ]
     },
     "metadata": {},
     "output_type": "display_data"
    },
    {
     "name": "stdout",
     "output_type": "stream",
     "text": [
      "Extraction succesfull\n",
      "Number of points extracted:32805\n",
      "Time for processing=61.61892795562744 seconds\n",
      "First 10 rows are printed below\n",
      "Number of points outside the raster extents: 27198\n",
      "The extraction assigns NaN.\n",
      "Number of points in NoData areas within the raster extents: 0\n",
      "The extraction assigns NaN.\n"
     ]
    }
   ],
   "source": [
    "P.extract_profiles('all',1,True)"
   ]
  },
  {
   "cell_type": "code",
   "execution_count": 13,
   "metadata": {},
   "outputs": [],
   "source": [
    "df=P.profiles\n",
    "date_field=\"raw_date\"\n",
    "filter_sand=False\n",
    "sand_label_field='label_sand'\n",
    "from tqdm.notebook import tqdm\n"
   ]
  },
  {
   "cell_type": "code",
   "execution_count": 30,
   "metadata": {
    "scrolled": true
   },
   "outputs": [
    {
     "name": "stdout",
     "output_type": "stream",
     "text": [
      "0 distance_pre\n",
      "1 z_pre\n",
      "2 tr_id_pre\n",
      "3 raw_date_pre\n",
      "4 coordinates_pre\n",
      "5 location_pre\n",
      "6 survey_date_pre\n",
      "7 point_id_pre\n",
      "8 x_pre\n",
      "9 y_pre\n",
      "10 band1_pre\n",
      "11 band2_pre\n",
      "12 band3_pre\n",
      "13 spatial_id\n",
      "14 distance_post\n",
      "15 z_post\n",
      "16 tr_id_post\n",
      "17 raw_date_post\n",
      "18 coordinates_post\n",
      "19 location_post\n",
      "20 survey_date_post\n",
      "21 point_id_post\n",
      "22 x_post\n",
      "23 y_post\n",
      "24 band1_post\n",
      "25 band2_post\n",
      "26 band3_post\n",
      "27 dh\n"
     ]
    }
   ],
   "source": [
    "for i,col in enumerate(merged.columns):\n",
    "    print(i,col)"
   ]
  },
  {
   "cell_type": "code",
   "execution_count": 38,
   "metadata": {},
   "outputs": [
    {
     "data": {
      "text/plain": [
       "0       POINT (731646.904 5705523.469)\n",
       "1       POINT (731646.078 5705524.033)\n",
       "2       POINT (731645.253 5705524.598)\n",
       "3       POINT (731644.427 5705525.162)\n",
       "4       POINT (731643.602 5705525.727)\n",
       "                     ...              \n",
       "1674    POINT (731437.893 5705159.623)\n",
       "1675    POINT (731436.899 5705159.730)\n",
       "1676    POINT (731435.905 5705159.838)\n",
       "1677    POINT (731434.911 5705159.945)\n",
       "1678    POINT (731433.916 5705160.052)\n",
       "Name: coordinates_pre, Length: 1679, dtype: geometry"
      ]
     },
     "execution_count": 38,
     "metadata": {},
     "output_type": "execute_result"
    }
   ],
   "source": [
    "\n",
    "merged.filter(like=geometry_column).iloc[:,0]"
   ]
  },
  {
   "cell_type": "code",
   "execution_count": 14,
   "metadata": {},
   "outputs": [
    {
     "name": "stdout",
     "output_type": "stream",
     "text": [
      "working on mar\n"
     ]
    },
    {
     "data": {
      "application/vnd.jupyter.widget-view+json": {
       "model_id": "5beda0a78fcf49cc9bf627a48af2b283",
       "version_major": 2,
       "version_minor": 0
      },
      "text/plain": [
       "  0%|          | 0/9 [00:00<?, ?it/s]"
      ]
     },
     "metadata": {},
     "output_type": "display_data"
    },
    {
     "name": "stdout",
     "output_type": "stream",
     "text": [
      "Calculating dt0, from 20180601 to 20180621 in mar.\n"
     ]
    },
    {
     "ename": "AttributeError",
     "evalue": "'GeoDataFrame' object has no attribute 'geometry_pre'",
     "output_type": "error",
     "traceback": [
      "\u001b[1;31m---------------------------------------------------------------------------\u001b[0m",
      "\u001b[1;31mAttributeError\u001b[0m                            Traceback (most recent call last)",
      "\u001b[1;32m<ipython-input-14-375bfa57257c>\u001b[0m in \u001b[0;36m<module>\u001b[1;34m\u001b[0m\n\u001b[0;32m     26\u001b[0m             \u001b[0mmerged\u001b[0m\u001b[1;33m[\u001b[0m\u001b[1;34m\"dh\"\u001b[0m\u001b[1;33m]\u001b[0m\u001b[1;33m=\u001b[0m\u001b[0mmerged\u001b[0m\u001b[1;33m.\u001b[0m\u001b[0mz_post\u001b[0m\u001b[1;33m.\u001b[0m\u001b[0mastype\u001b[0m\u001b[1;33m(\u001b[0m\u001b[0mfloat\u001b[0m\u001b[1;33m)\u001b[0m \u001b[1;33m-\u001b[0m \u001b[0mmerged\u001b[0m\u001b[1;33m.\u001b[0m\u001b[0mz_pre\u001b[0m\u001b[1;33m.\u001b[0m\u001b[0mastype\u001b[0m\u001b[1;33m(\u001b[0m\u001b[0mfloat\u001b[0m\u001b[1;33m)\u001b[0m\u001b[1;33m\u001b[0m\u001b[1;33m\u001b[0m\u001b[0m\n\u001b[0;32m     27\u001b[0m \u001b[1;33m\u001b[0m\u001b[0m\n\u001b[1;32m---> 28\u001b[1;33m             dict_short={\"geometry\": merged.geometry_pre,\n\u001b[0m\u001b[0;32m     29\u001b[0m                         \u001b[1;34m\"location\"\u001b[0m\u001b[1;33m:\u001b[0m\u001b[0mlocation\u001b[0m\u001b[1;33m,\u001b[0m\u001b[1;33m\u001b[0m\u001b[1;33m\u001b[0m\u001b[0m\n\u001b[0;32m     30\u001b[0m                         \u001b[1;34m\"tr_id\"\u001b[0m\u001b[1;33m:\u001b[0m\u001b[0mmerged\u001b[0m\u001b[1;33m.\u001b[0m\u001b[0mtr_id_pre\u001b[0m\u001b[1;33m,\u001b[0m\u001b[1;33m\u001b[0m\u001b[1;33m\u001b[0m\u001b[0m\n",
      "\u001b[1;32mC:\\conda3\\envs\\sandpyper_env\\lib\\site-packages\\pandas\\core\\generic.py\u001b[0m in \u001b[0;36m__getattr__\u001b[1;34m(self, name)\u001b[0m\n\u001b[0;32m   5460\u001b[0m             \u001b[1;32mif\u001b[0m \u001b[0mself\u001b[0m\u001b[1;33m.\u001b[0m\u001b[0m_info_axis\u001b[0m\u001b[1;33m.\u001b[0m\u001b[0m_can_hold_identifiers_and_holds_name\u001b[0m\u001b[1;33m(\u001b[0m\u001b[0mname\u001b[0m\u001b[1;33m)\u001b[0m\u001b[1;33m:\u001b[0m\u001b[1;33m\u001b[0m\u001b[1;33m\u001b[0m\u001b[0m\n\u001b[0;32m   5461\u001b[0m                 \u001b[1;32mreturn\u001b[0m \u001b[0mself\u001b[0m\u001b[1;33m[\u001b[0m\u001b[0mname\u001b[0m\u001b[1;33m]\u001b[0m\u001b[1;33m\u001b[0m\u001b[1;33m\u001b[0m\u001b[0m\n\u001b[1;32m-> 5462\u001b[1;33m             \u001b[1;32mreturn\u001b[0m \u001b[0mobject\u001b[0m\u001b[1;33m.\u001b[0m\u001b[0m__getattribute__\u001b[0m\u001b[1;33m(\u001b[0m\u001b[0mself\u001b[0m\u001b[1;33m,\u001b[0m \u001b[0mname\u001b[0m\u001b[1;33m)\u001b[0m\u001b[1;33m\u001b[0m\u001b[1;33m\u001b[0m\u001b[0m\n\u001b[0m\u001b[0;32m   5463\u001b[0m \u001b[1;33m\u001b[0m\u001b[0m\n\u001b[0;32m   5464\u001b[0m     \u001b[1;32mdef\u001b[0m \u001b[0m__setattr__\u001b[0m\u001b[1;33m(\u001b[0m\u001b[0mself\u001b[0m\u001b[1;33m,\u001b[0m \u001b[0mname\u001b[0m\u001b[1;33m:\u001b[0m \u001b[0mstr\u001b[0m\u001b[1;33m,\u001b[0m \u001b[0mvalue\u001b[0m\u001b[1;33m)\u001b[0m \u001b[1;33m->\u001b[0m \u001b[1;32mNone\u001b[0m\u001b[1;33m:\u001b[0m\u001b[1;33m\u001b[0m\u001b[1;33m\u001b[0m\u001b[0m\n",
      "\u001b[1;31mAttributeError\u001b[0m: 'GeoDataFrame' object has no attribute 'geometry_pre'"
     ]
    }
   ],
   "source": [
    "df[\"spatial_id\"]=[create_spatial_id(df.iloc[i]) for i in range(df.shape[0])]\n",
    "fusion_long=pd.DataFrame()\n",
    "geometry_column=\"coordinates\"\n",
    "\n",
    "for location in df.location.unique():\n",
    "    print(f\"working on {location}\")\n",
    "    loc_data=df.query(f\"location=='{location}'\")\n",
    "    list_dates=loc_data.loc[:,date_field].unique()\n",
    "    list_dates.sort()\n",
    "\n",
    "\n",
    "    for i in tqdm(range(list_dates.shape[0])):\n",
    "\n",
    "        if i < list_dates.shape[0]-1:\n",
    "            date_pre=list_dates[i]\n",
    "            date_post=list_dates[i+1]\n",
    "            print(f\"Calculating dt{i}, from {date_pre} to {date_post} in {location}.\")\n",
    "\n",
    "            if filter_sand:\n",
    "                df_pre=loc_data.query(f\"{date_field} =='{date_pre}' & {sand_label_field} in {filter_classes}\").dropna(subset=['z'])\n",
    "                df_post=loc_data.query(f\"{date_field} =='{date_post}' & {sand_label_field} in {filter_classes}\").dropna(subset=['z'])\n",
    "            else:\n",
    "                df_pre=loc_data.query(f\"{date_field} =='{date_pre}'\").dropna(subset=['z'])\n",
    "                df_post=loc_data.query(f\"{date_field} =='{date_post}'\").dropna(subset=['z'])\n",
    "\n",
    "            merged=pd.merge(df_pre,df_post, how='inner', on='spatial_id', validate=\"one_to_one\",suffixes=('_pre','_post'))\n",
    "            merged[\"dh\"]=merged.z_post.astype(float) - merged.z_pre.astype(float)\n",
    "\n",
    "            dict_short={\"geometry\":merged.filter(like=geometry_column).iloc[:,0],\n",
    "                        \"location\":location,\n",
    "                        \"tr_id\":merged.tr_id_pre,\n",
    "                        \"distance\":merged.distance_pre,\n",
    "                        \"dt\":  f\"dt_{i}\",\n",
    "                        \"date_pre\":date_pre,\n",
    "                        \"date_post\":date_post,\n",
    "                        \"z_pre\":merged.z_pre.astype(float),\n",
    "                        \"z_post\":merged.z_post.astype(float),\n",
    "                        \"dh\":merged.dh}\n",
    "\n",
    "            short_df=pd.DataFrame(dict_short)\n",
    "            fusion_long=pd.concat([short_df,fusion_long],ignore_index=True)"
   ]
  },
  {
   "cell_type": "code",
   "execution_count": 16,
   "metadata": {},
   "outputs": [
    {
     "data": {
      "text/html": [
       "<div>\n",
       "<style scoped>\n",
       "    .dataframe tbody tr th:only-of-type {\n",
       "        vertical-align: middle;\n",
       "    }\n",
       "\n",
       "    .dataframe tbody tr th {\n",
       "        vertical-align: top;\n",
       "    }\n",
       "\n",
       "    .dataframe thead th {\n",
       "        text-align: right;\n",
       "    }\n",
       "</style>\n",
       "<table border=\"1\" class=\"dataframe\">\n",
       "  <thead>\n",
       "    <tr style=\"text-align: right;\">\n",
       "      <th></th>\n",
       "      <th>distance</th>\n",
       "      <th>z</th>\n",
       "      <th>tr_id</th>\n",
       "      <th>raw_date</th>\n",
       "      <th>coordinates</th>\n",
       "      <th>location</th>\n",
       "      <th>survey_date</th>\n",
       "      <th>point_id</th>\n",
       "      <th>x</th>\n",
       "      <th>y</th>\n",
       "      <th>band1</th>\n",
       "      <th>band2</th>\n",
       "      <th>band3</th>\n",
       "      <th>spatial_id</th>\n",
       "    </tr>\n",
       "  </thead>\n",
       "  <tbody>\n",
       "    <tr>\n",
       "      <th>0</th>\n",
       "      <td>0.0</td>\n",
       "      <td>0.007440</td>\n",
       "      <td>21</td>\n",
       "      <td>20190516</td>\n",
       "      <td>POINT (731646.904 5705523.469)</td>\n",
       "      <td>mar</td>\n",
       "      <td>2019-05-16</td>\n",
       "      <td>61121091m2580400ar00</td>\n",
       "      <td>731646.903760</td>\n",
       "      <td>5.705523e+06</td>\n",
       "      <td>114.0</td>\n",
       "      <td>139.0</td>\n",
       "      <td>128.0</td>\n",
       "      <td>0ma2r0100</td>\n",
       "    </tr>\n",
       "    <tr>\n",
       "      <th>1</th>\n",
       "      <td>1.0</td>\n",
       "      <td>0.008439</td>\n",
       "      <td>21</td>\n",
       "      <td>20190516</td>\n",
       "      <td>POINT (731646.078 5705524.033)</td>\n",
       "      <td>mar</td>\n",
       "      <td>2019-05-16</td>\n",
       "      <td>61123091m2580600ar10</td>\n",
       "      <td>731646.078301</td>\n",
       "      <td>5.705524e+06</td>\n",
       "      <td>117.0</td>\n",
       "      <td>139.0</td>\n",
       "      <td>127.0</td>\n",
       "      <td>0ma2r0110</td>\n",
       "    </tr>\n",
       "    <tr>\n",
       "      <th>2</th>\n",
       "      <td>2.0</td>\n",
       "      <td>0.010800</td>\n",
       "      <td>21</td>\n",
       "      <td>20190516</td>\n",
       "      <td>POINT (731645.253 5705524.598)</td>\n",
       "      <td>mar</td>\n",
       "      <td>2019-05-16</td>\n",
       "      <td>61129091m2530100ar20</td>\n",
       "      <td>731645.252842</td>\n",
       "      <td>5.705525e+06</td>\n",
       "      <td>122.0</td>\n",
       "      <td>140.0</td>\n",
       "      <td>127.0</td>\n",
       "      <td>0ma2r0120</td>\n",
       "    </tr>\n",
       "    <tr>\n",
       "      <th>3</th>\n",
       "      <td>3.0</td>\n",
       "      <td>0.011350</td>\n",
       "      <td>21</td>\n",
       "      <td>20190516</td>\n",
       "      <td>POINT (731644.427 5705525.162)</td>\n",
       "      <td>mar</td>\n",
       "      <td>2019-05-16</td>\n",
       "      <td>61124091m2570800ar30</td>\n",
       "      <td>731644.427383</td>\n",
       "      <td>5.705525e+06</td>\n",
       "      <td>125.0</td>\n",
       "      <td>144.0</td>\n",
       "      <td>133.0</td>\n",
       "      <td>0ma2r0130</td>\n",
       "    </tr>\n",
       "    <tr>\n",
       "      <th>4</th>\n",
       "      <td>4.0</td>\n",
       "      <td>0.028030</td>\n",
       "      <td>21</td>\n",
       "      <td>20190516</td>\n",
       "      <td>POINT (731643.602 5705525.727)</td>\n",
       "      <td>mar</td>\n",
       "      <td>2019-05-16</td>\n",
       "      <td>61120091m2520400ar40</td>\n",
       "      <td>731643.601924</td>\n",
       "      <td>5.705526e+06</td>\n",
       "      <td>126.0</td>\n",
       "      <td>145.0</td>\n",
       "      <td>133.0</td>\n",
       "      <td>0ma2r0140</td>\n",
       "    </tr>\n",
       "    <tr>\n",
       "      <th>...</th>\n",
       "      <td>...</td>\n",
       "      <td>...</td>\n",
       "      <td>...</td>\n",
       "      <td>...</td>\n",
       "      <td>...</td>\n",
       "      <td>...</td>\n",
       "      <td>...</td>\n",
       "      <td>...</td>\n",
       "      <td>...</td>\n",
       "      <td>...</td>\n",
       "      <td>...</td>\n",
       "      <td>...</td>\n",
       "      <td>...</td>\n",
       "      <td>...</td>\n",
       "    </tr>\n",
       "    <tr>\n",
       "      <th>32800</th>\n",
       "      <td>44.0</td>\n",
       "      <td>NaN</td>\n",
       "      <td>0</td>\n",
       "      <td>20180606</td>\n",
       "      <td>POINT (300201.502 5772859.891)</td>\n",
       "      <td>leo</td>\n",
       "      <td>2018-06-06</td>\n",
       "      <td>60101080l2624100eo40</td>\n",
       "      <td>300201.501848</td>\n",
       "      <td>5.772860e+06</td>\n",
       "      <td>NaN</td>\n",
       "      <td>NaN</td>\n",
       "      <td>NaN</td>\n",
       "      <td>0le0o0044</td>\n",
       "    </tr>\n",
       "    <tr>\n",
       "      <th>32801</th>\n",
       "      <td>45.0</td>\n",
       "      <td>NaN</td>\n",
       "      <td>0</td>\n",
       "      <td>20180606</td>\n",
       "      <td>POINT (300202.298 5772860.496)</td>\n",
       "      <td>leo</td>\n",
       "      <td>2018-06-06</td>\n",
       "      <td>60100080l2665200eo40</td>\n",
       "      <td>300202.298010</td>\n",
       "      <td>5.772860e+06</td>\n",
       "      <td>NaN</td>\n",
       "      <td>NaN</td>\n",
       "      <td>NaN</td>\n",
       "      <td>0le0o0045</td>\n",
       "    </tr>\n",
       "    <tr>\n",
       "      <th>32802</th>\n",
       "      <td>46.0</td>\n",
       "      <td>NaN</td>\n",
       "      <td>0</td>\n",
       "      <td>20180606</td>\n",
       "      <td>POINT (300203.094 5772861.101)</td>\n",
       "      <td>leo</td>\n",
       "      <td>2018-06-06</td>\n",
       "      <td>60100080l2606300eo40</td>\n",
       "      <td>300203.094172</td>\n",
       "      <td>5.772861e+06</td>\n",
       "      <td>NaN</td>\n",
       "      <td>NaN</td>\n",
       "      <td>NaN</td>\n",
       "      <td>0le0o0046</td>\n",
       "    </tr>\n",
       "    <tr>\n",
       "      <th>32803</th>\n",
       "      <td>47.0</td>\n",
       "      <td>NaN</td>\n",
       "      <td>0</td>\n",
       "      <td>20180606</td>\n",
       "      <td>POINT (300203.890 5772861.706)</td>\n",
       "      <td>leo</td>\n",
       "      <td>2018-06-06</td>\n",
       "      <td>60109080l2647400eo40</td>\n",
       "      <td>300203.890334</td>\n",
       "      <td>5.772862e+06</td>\n",
       "      <td>NaN</td>\n",
       "      <td>NaN</td>\n",
       "      <td>NaN</td>\n",
       "      <td>0le0o0047</td>\n",
       "    </tr>\n",
       "    <tr>\n",
       "      <th>32804</th>\n",
       "      <td>48.0</td>\n",
       "      <td>NaN</td>\n",
       "      <td>0</td>\n",
       "      <td>20180606</td>\n",
       "      <td>POINT (300204.686 5772862.311)</td>\n",
       "      <td>leo</td>\n",
       "      <td>2018-06-06</td>\n",
       "      <td>60108080l2688600eo40</td>\n",
       "      <td>300204.686497</td>\n",
       "      <td>5.772862e+06</td>\n",
       "      <td>NaN</td>\n",
       "      <td>NaN</td>\n",
       "      <td>NaN</td>\n",
       "      <td>0le0o0048</td>\n",
       "    </tr>\n",
       "  </tbody>\n",
       "</table>\n",
       "<p>32805 rows × 14 columns</p>\n",
       "</div>"
      ],
      "text/plain": [
       "       distance         z  tr_id  raw_date                     coordinates  \\\n",
       "0           0.0  0.007440     21  20190516  POINT (731646.904 5705523.469)   \n",
       "1           1.0  0.008439     21  20190516  POINT (731646.078 5705524.033)   \n",
       "2           2.0  0.010800     21  20190516  POINT (731645.253 5705524.598)   \n",
       "3           3.0  0.011350     21  20190516  POINT (731644.427 5705525.162)   \n",
       "4           4.0  0.028030     21  20190516  POINT (731643.602 5705525.727)   \n",
       "...         ...       ...    ...       ...                             ...   \n",
       "32800      44.0       NaN      0  20180606  POINT (300201.502 5772859.891)   \n",
       "32801      45.0       NaN      0  20180606  POINT (300202.298 5772860.496)   \n",
       "32802      46.0       NaN      0  20180606  POINT (300203.094 5772861.101)   \n",
       "32803      47.0       NaN      0  20180606  POINT (300203.890 5772861.706)   \n",
       "32804      48.0       NaN      0  20180606  POINT (300204.686 5772862.311)   \n",
       "\n",
       "      location survey_date              point_id              x             y  \\\n",
       "0          mar  2019-05-16  61121091m2580400ar00  731646.903760  5.705523e+06   \n",
       "1          mar  2019-05-16  61123091m2580600ar10  731646.078301  5.705524e+06   \n",
       "2          mar  2019-05-16  61129091m2530100ar20  731645.252842  5.705525e+06   \n",
       "3          mar  2019-05-16  61124091m2570800ar30  731644.427383  5.705525e+06   \n",
       "4          mar  2019-05-16  61120091m2520400ar40  731643.601924  5.705526e+06   \n",
       "...        ...         ...                   ...            ...           ...   \n",
       "32800      leo  2018-06-06  60101080l2624100eo40  300201.501848  5.772860e+06   \n",
       "32801      leo  2018-06-06  60100080l2665200eo40  300202.298010  5.772860e+06   \n",
       "32802      leo  2018-06-06  60100080l2606300eo40  300203.094172  5.772861e+06   \n",
       "32803      leo  2018-06-06  60109080l2647400eo40  300203.890334  5.772862e+06   \n",
       "32804      leo  2018-06-06  60108080l2688600eo40  300204.686497  5.772862e+06   \n",
       "\n",
       "       band1  band2  band3 spatial_id  \n",
       "0      114.0  139.0  128.0  0ma2r0100  \n",
       "1      117.0  139.0  127.0  0ma2r0110  \n",
       "2      122.0  140.0  127.0  0ma2r0120  \n",
       "3      125.0  144.0  133.0  0ma2r0130  \n",
       "4      126.0  145.0  133.0  0ma2r0140  \n",
       "...      ...    ...    ...        ...  \n",
       "32800    NaN    NaN    NaN  0le0o0044  \n",
       "32801    NaN    NaN    NaN  0le0o0045  \n",
       "32802    NaN    NaN    NaN  0le0o0046  \n",
       "32803    NaN    NaN    NaN  0le0o0047  \n",
       "32804    NaN    NaN    NaN  0le0o0048  \n",
       "\n",
       "[32805 rows x 14 columns]"
      ]
     },
     "execution_count": 16,
     "metadata": {},
     "output_type": "execute_result"
    }
   ],
   "source": [
    "df"
   ]
  },
  {
   "cell_type": "code",
   "execution_count": 15,
   "metadata": {},
   "outputs": [
    {
     "data": {
      "text/html": [
       "<div>\n",
       "<style scoped>\n",
       "    .dataframe tbody tr th:only-of-type {\n",
       "        vertical-align: middle;\n",
       "    }\n",
       "\n",
       "    .dataframe tbody tr th {\n",
       "        vertical-align: top;\n",
       "    }\n",
       "\n",
       "    .dataframe thead th {\n",
       "        text-align: right;\n",
       "    }\n",
       "</style>\n",
       "<table border=\"1\" class=\"dataframe\">\n",
       "  <thead>\n",
       "    <tr style=\"text-align: right;\">\n",
       "      <th></th>\n",
       "      <th>distance_pre</th>\n",
       "      <th>z_pre</th>\n",
       "      <th>tr_id_pre</th>\n",
       "      <th>raw_date_pre</th>\n",
       "      <th>coordinates_pre</th>\n",
       "      <th>location_pre</th>\n",
       "      <th>survey_date_pre</th>\n",
       "      <th>point_id_pre</th>\n",
       "      <th>x_pre</th>\n",
       "      <th>y_pre</th>\n",
       "      <th>...</th>\n",
       "      <th>coordinates_post</th>\n",
       "      <th>location_post</th>\n",
       "      <th>survey_date_post</th>\n",
       "      <th>point_id_post</th>\n",
       "      <th>x_post</th>\n",
       "      <th>y_post</th>\n",
       "      <th>band1_post</th>\n",
       "      <th>band2_post</th>\n",
       "      <th>band3_post</th>\n",
       "      <th>dh</th>\n",
       "    </tr>\n",
       "  </thead>\n",
       "  <tbody>\n",
       "    <tr>\n",
       "      <th>0</th>\n",
       "      <td>0.0</td>\n",
       "      <td>0.792593</td>\n",
       "      <td>21</td>\n",
       "      <td>20180601</td>\n",
       "      <td>POINT (731646.904 5705523.469)</td>\n",
       "      <td>mar</td>\n",
       "      <td>2018-06-01</td>\n",
       "      <td>11121080m2680400ar00</td>\n",
       "      <td>731646.903760</td>\n",
       "      <td>5.705523e+06</td>\n",
       "      <td>...</td>\n",
       "      <td>POINT (731646.904 5705523.469)</td>\n",
       "      <td>mar</td>\n",
       "      <td>2018-06-21</td>\n",
       "      <td>11121082m2680400ar00</td>\n",
       "      <td>731646.903760</td>\n",
       "      <td>5.705523e+06</td>\n",
       "      <td>117.0</td>\n",
       "      <td>154.0</td>\n",
       "      <td>153.0</td>\n",
       "      <td>-0.625075</td>\n",
       "    </tr>\n",
       "    <tr>\n",
       "      <th>1</th>\n",
       "      <td>1.0</td>\n",
       "      <td>0.781489</td>\n",
       "      <td>21</td>\n",
       "      <td>20180601</td>\n",
       "      <td>POINT (731646.078 5705524.033)</td>\n",
       "      <td>mar</td>\n",
       "      <td>2018-06-01</td>\n",
       "      <td>11123080m2680600ar10</td>\n",
       "      <td>731646.078301</td>\n",
       "      <td>5.705524e+06</td>\n",
       "      <td>...</td>\n",
       "      <td>POINT (731646.078 5705524.033)</td>\n",
       "      <td>mar</td>\n",
       "      <td>2018-06-21</td>\n",
       "      <td>11123082m2680600ar10</td>\n",
       "      <td>731646.078301</td>\n",
       "      <td>5.705524e+06</td>\n",
       "      <td>120.0</td>\n",
       "      <td>158.0</td>\n",
       "      <td>157.0</td>\n",
       "      <td>-0.613956</td>\n",
       "    </tr>\n",
       "    <tr>\n",
       "      <th>2</th>\n",
       "      <td>2.0</td>\n",
       "      <td>0.789588</td>\n",
       "      <td>21</td>\n",
       "      <td>20180601</td>\n",
       "      <td>POINT (731645.253 5705524.598)</td>\n",
       "      <td>mar</td>\n",
       "      <td>2018-06-01</td>\n",
       "      <td>11129080m2630100ar20</td>\n",
       "      <td>731645.252842</td>\n",
       "      <td>5.705525e+06</td>\n",
       "      <td>...</td>\n",
       "      <td>POINT (731645.253 5705524.598)</td>\n",
       "      <td>mar</td>\n",
       "      <td>2018-06-21</td>\n",
       "      <td>11129082m2630100ar20</td>\n",
       "      <td>731645.252842</td>\n",
       "      <td>5.705525e+06</td>\n",
       "      <td>110.0</td>\n",
       "      <td>147.0</td>\n",
       "      <td>143.0</td>\n",
       "      <td>-0.622113</td>\n",
       "    </tr>\n",
       "    <tr>\n",
       "      <th>3</th>\n",
       "      <td>3.0</td>\n",
       "      <td>0.776424</td>\n",
       "      <td>21</td>\n",
       "      <td>20180601</td>\n",
       "      <td>POINT (731644.427 5705525.162)</td>\n",
       "      <td>mar</td>\n",
       "      <td>2018-06-01</td>\n",
       "      <td>11124080m2670800ar30</td>\n",
       "      <td>731644.427383</td>\n",
       "      <td>5.705525e+06</td>\n",
       "      <td>...</td>\n",
       "      <td>POINT (731644.427 5705525.162)</td>\n",
       "      <td>mar</td>\n",
       "      <td>2018-06-21</td>\n",
       "      <td>11124082m2670800ar30</td>\n",
       "      <td>731644.427383</td>\n",
       "      <td>5.705525e+06</td>\n",
       "      <td>110.0</td>\n",
       "      <td>149.0</td>\n",
       "      <td>143.0</td>\n",
       "      <td>-0.609002</td>\n",
       "    </tr>\n",
       "    <tr>\n",
       "      <th>4</th>\n",
       "      <td>4.0</td>\n",
       "      <td>0.794274</td>\n",
       "      <td>21</td>\n",
       "      <td>20180601</td>\n",
       "      <td>POINT (731643.602 5705525.727)</td>\n",
       "      <td>mar</td>\n",
       "      <td>2018-06-01</td>\n",
       "      <td>11120080m2620400ar40</td>\n",
       "      <td>731643.601924</td>\n",
       "      <td>5.705526e+06</td>\n",
       "      <td>...</td>\n",
       "      <td>POINT (731643.602 5705525.727)</td>\n",
       "      <td>mar</td>\n",
       "      <td>2018-06-21</td>\n",
       "      <td>11120082m2620400ar40</td>\n",
       "      <td>731643.601924</td>\n",
       "      <td>5.705526e+06</td>\n",
       "      <td>113.0</td>\n",
       "      <td>151.0</td>\n",
       "      <td>146.0</td>\n",
       "      <td>-0.626869</td>\n",
       "    </tr>\n",
       "    <tr>\n",
       "      <th>...</th>\n",
       "      <td>...</td>\n",
       "      <td>...</td>\n",
       "      <td>...</td>\n",
       "      <td>...</td>\n",
       "      <td>...</td>\n",
       "      <td>...</td>\n",
       "      <td>...</td>\n",
       "      <td>...</td>\n",
       "      <td>...</td>\n",
       "      <td>...</td>\n",
       "      <td>...</td>\n",
       "      <td>...</td>\n",
       "      <td>...</td>\n",
       "      <td>...</td>\n",
       "      <td>...</td>\n",
       "      <td>...</td>\n",
       "      <td>...</td>\n",
       "      <td>...</td>\n",
       "      <td>...</td>\n",
       "      <td>...</td>\n",
       "      <td>...</td>\n",
       "    </tr>\n",
       "    <tr>\n",
       "      <th>1674</th>\n",
       "      <td>75.0</td>\n",
       "      <td>4.686693</td>\n",
       "      <td>0</td>\n",
       "      <td>20180601</td>\n",
       "      <td>POINT (731437.893 5705159.623)</td>\n",
       "      <td>mar</td>\n",
       "      <td>2018-06-01</td>\n",
       "      <td>10102080m2635900ar70</td>\n",
       "      <td>731437.893301</td>\n",
       "      <td>5.705160e+06</td>\n",
       "      <td>...</td>\n",
       "      <td>POINT (731437.893 5705159.623)</td>\n",
       "      <td>mar</td>\n",
       "      <td>2018-06-21</td>\n",
       "      <td>10102082m2635900ar70</td>\n",
       "      <td>731437.893301</td>\n",
       "      <td>5.705160e+06</td>\n",
       "      <td>79.0</td>\n",
       "      <td>96.0</td>\n",
       "      <td>90.0</td>\n",
       "      <td>7.601466</td>\n",
       "    </tr>\n",
       "    <tr>\n",
       "      <th>1675</th>\n",
       "      <td>76.0</td>\n",
       "      <td>4.493311</td>\n",
       "      <td>0</td>\n",
       "      <td>20180601</td>\n",
       "      <td>POINT (731436.899 5705159.730)</td>\n",
       "      <td>mar</td>\n",
       "      <td>2018-06-01</td>\n",
       "      <td>10109080m2666800ar70</td>\n",
       "      <td>731436.899062</td>\n",
       "      <td>5.705160e+06</td>\n",
       "      <td>...</td>\n",
       "      <td>POINT (731436.899 5705159.730)</td>\n",
       "      <td>mar</td>\n",
       "      <td>2018-06-21</td>\n",
       "      <td>10109082m2666800ar70</td>\n",
       "      <td>731436.899062</td>\n",
       "      <td>5.705160e+06</td>\n",
       "      <td>60.0</td>\n",
       "      <td>73.0</td>\n",
       "      <td>64.0</td>\n",
       "      <td>6.050527</td>\n",
       "    </tr>\n",
       "    <tr>\n",
       "      <th>1676</th>\n",
       "      <td>77.0</td>\n",
       "      <td>5.125780</td>\n",
       "      <td>0</td>\n",
       "      <td>20180601</td>\n",
       "      <td>POINT (731435.905 5705159.838)</td>\n",
       "      <td>mar</td>\n",
       "      <td>2018-06-01</td>\n",
       "      <td>10106080m2697800ar70</td>\n",
       "      <td>731435.904823</td>\n",
       "      <td>5.705160e+06</td>\n",
       "      <td>...</td>\n",
       "      <td>POINT (731435.905 5705159.838)</td>\n",
       "      <td>mar</td>\n",
       "      <td>2018-06-21</td>\n",
       "      <td>10106082m2697800ar70</td>\n",
       "      <td>731435.904823</td>\n",
       "      <td>5.705160e+06</td>\n",
       "      <td>45.0</td>\n",
       "      <td>57.0</td>\n",
       "      <td>53.0</td>\n",
       "      <td>2.428983</td>\n",
       "    </tr>\n",
       "    <tr>\n",
       "      <th>1677</th>\n",
       "      <td>78.0</td>\n",
       "      <td>8.266596</td>\n",
       "      <td>0</td>\n",
       "      <td>20180601</td>\n",
       "      <td>POINT (731434.911 5705159.945)</td>\n",
       "      <td>mar</td>\n",
       "      <td>2018-06-01</td>\n",
       "      <td>10104080m2628800ar70</td>\n",
       "      <td>731434.910584</td>\n",
       "      <td>5.705160e+06</td>\n",
       "      <td>...</td>\n",
       "      <td>POINT (731434.911 5705159.945)</td>\n",
       "      <td>mar</td>\n",
       "      <td>2018-06-21</td>\n",
       "      <td>10104082m2628800ar70</td>\n",
       "      <td>731434.910584</td>\n",
       "      <td>5.705160e+06</td>\n",
       "      <td>51.0</td>\n",
       "      <td>63.0</td>\n",
       "      <td>54.0</td>\n",
       "      <td>-0.840238</td>\n",
       "    </tr>\n",
       "    <tr>\n",
       "      <th>1678</th>\n",
       "      <td>79.0</td>\n",
       "      <td>8.512547</td>\n",
       "      <td>0</td>\n",
       "      <td>20180601</td>\n",
       "      <td>POINT (731433.916 5705160.052)</td>\n",
       "      <td>mar</td>\n",
       "      <td>2018-06-01</td>\n",
       "      <td>10101080m2659700ar70</td>\n",
       "      <td>731433.916345</td>\n",
       "      <td>5.705160e+06</td>\n",
       "      <td>...</td>\n",
       "      <td>POINT (731433.916 5705160.052)</td>\n",
       "      <td>mar</td>\n",
       "      <td>2018-06-21</td>\n",
       "      <td>10101082m2659700ar70</td>\n",
       "      <td>731433.916345</td>\n",
       "      <td>5.705160e+06</td>\n",
       "      <td>42.0</td>\n",
       "      <td>58.0</td>\n",
       "      <td>38.0</td>\n",
       "      <td>0.330168</td>\n",
       "    </tr>\n",
       "  </tbody>\n",
       "</table>\n",
       "<p>1679 rows × 28 columns</p>\n",
       "</div>"
      ],
      "text/plain": [
       "      distance_pre     z_pre  tr_id_pre raw_date_pre  \\\n",
       "0              0.0  0.792593         21     20180601   \n",
       "1              1.0  0.781489         21     20180601   \n",
       "2              2.0  0.789588         21     20180601   \n",
       "3              3.0  0.776424         21     20180601   \n",
       "4              4.0  0.794274         21     20180601   \n",
       "...            ...       ...        ...          ...   \n",
       "1674          75.0  4.686693          0     20180601   \n",
       "1675          76.0  4.493311          0     20180601   \n",
       "1676          77.0  5.125780          0     20180601   \n",
       "1677          78.0  8.266596          0     20180601   \n",
       "1678          79.0  8.512547          0     20180601   \n",
       "\n",
       "                     coordinates_pre location_pre survey_date_pre  \\\n",
       "0     POINT (731646.904 5705523.469)          mar      2018-06-01   \n",
       "1     POINT (731646.078 5705524.033)          mar      2018-06-01   \n",
       "2     POINT (731645.253 5705524.598)          mar      2018-06-01   \n",
       "3     POINT (731644.427 5705525.162)          mar      2018-06-01   \n",
       "4     POINT (731643.602 5705525.727)          mar      2018-06-01   \n",
       "...                              ...          ...             ...   \n",
       "1674  POINT (731437.893 5705159.623)          mar      2018-06-01   \n",
       "1675  POINT (731436.899 5705159.730)          mar      2018-06-01   \n",
       "1676  POINT (731435.905 5705159.838)          mar      2018-06-01   \n",
       "1677  POINT (731434.911 5705159.945)          mar      2018-06-01   \n",
       "1678  POINT (731433.916 5705160.052)          mar      2018-06-01   \n",
       "\n",
       "              point_id_pre          x_pre         y_pre  ...  \\\n",
       "0     11121080m2680400ar00  731646.903760  5.705523e+06  ...   \n",
       "1     11123080m2680600ar10  731646.078301  5.705524e+06  ...   \n",
       "2     11129080m2630100ar20  731645.252842  5.705525e+06  ...   \n",
       "3     11124080m2670800ar30  731644.427383  5.705525e+06  ...   \n",
       "4     11120080m2620400ar40  731643.601924  5.705526e+06  ...   \n",
       "...                    ...            ...           ...  ...   \n",
       "1674  10102080m2635900ar70  731437.893301  5.705160e+06  ...   \n",
       "1675  10109080m2666800ar70  731436.899062  5.705160e+06  ...   \n",
       "1676  10106080m2697800ar70  731435.904823  5.705160e+06  ...   \n",
       "1677  10104080m2628800ar70  731434.910584  5.705160e+06  ...   \n",
       "1678  10101080m2659700ar70  731433.916345  5.705160e+06  ...   \n",
       "\n",
       "                    coordinates_post  location_post  survey_date_post  \\\n",
       "0     POINT (731646.904 5705523.469)            mar        2018-06-21   \n",
       "1     POINT (731646.078 5705524.033)            mar        2018-06-21   \n",
       "2     POINT (731645.253 5705524.598)            mar        2018-06-21   \n",
       "3     POINT (731644.427 5705525.162)            mar        2018-06-21   \n",
       "4     POINT (731643.602 5705525.727)            mar        2018-06-21   \n",
       "...                              ...            ...               ...   \n",
       "1674  POINT (731437.893 5705159.623)            mar        2018-06-21   \n",
       "1675  POINT (731436.899 5705159.730)            mar        2018-06-21   \n",
       "1676  POINT (731435.905 5705159.838)            mar        2018-06-21   \n",
       "1677  POINT (731434.911 5705159.945)            mar        2018-06-21   \n",
       "1678  POINT (731433.916 5705160.052)            mar        2018-06-21   \n",
       "\n",
       "             point_id_post         x_post        y_post  band1_post  \\\n",
       "0     11121082m2680400ar00  731646.903760  5.705523e+06       117.0   \n",
       "1     11123082m2680600ar10  731646.078301  5.705524e+06       120.0   \n",
       "2     11129082m2630100ar20  731645.252842  5.705525e+06       110.0   \n",
       "3     11124082m2670800ar30  731644.427383  5.705525e+06       110.0   \n",
       "4     11120082m2620400ar40  731643.601924  5.705526e+06       113.0   \n",
       "...                    ...            ...           ...         ...   \n",
       "1674  10102082m2635900ar70  731437.893301  5.705160e+06        79.0   \n",
       "1675  10109082m2666800ar70  731436.899062  5.705160e+06        60.0   \n",
       "1676  10106082m2697800ar70  731435.904823  5.705160e+06        45.0   \n",
       "1677  10104082m2628800ar70  731434.910584  5.705160e+06        51.0   \n",
       "1678  10101082m2659700ar70  731433.916345  5.705160e+06        42.0   \n",
       "\n",
       "     band2_post band3_post        dh  \n",
       "0         154.0      153.0 -0.625075  \n",
       "1         158.0      157.0 -0.613956  \n",
       "2         147.0      143.0 -0.622113  \n",
       "3         149.0      143.0 -0.609002  \n",
       "4         151.0      146.0 -0.626869  \n",
       "...         ...        ...       ...  \n",
       "1674       96.0       90.0  7.601466  \n",
       "1675       73.0       64.0  6.050527  \n",
       "1676       57.0       53.0  2.428983  \n",
       "1677       63.0       54.0 -0.840238  \n",
       "1678       58.0       38.0  0.330168  \n",
       "\n",
       "[1679 rows x 28 columns]"
      ]
     },
     "execution_count": 15,
     "metadata": {},
     "output_type": "execute_result"
    }
   ],
   "source": [
    "merged"
   ]
  },
  {
   "cell_type": "code",
   "execution_count": null,
   "metadata": {},
   "outputs": [],
   "source": []
  },
  {
   "cell_type": "code",
   "execution_count": 6,
   "metadata": {},
   "outputs": [
    {
     "name": "stdout",
     "output_type": "stream",
     "text": [
      "working on mar\n"
     ]
    },
    {
     "data": {
      "application/vnd.jupyter.widget-view+json": {
       "model_id": "d30715769e2d495a8d8102cc9e96007c",
       "version_major": 2,
       "version_minor": 0
      },
      "text/plain": [
       "  0%|          | 0/9 [00:00<?, ?it/s]"
      ]
     },
     "metadata": {},
     "output_type": "display_data"
    },
    {
     "name": "stdout",
     "output_type": "stream",
     "text": [
      "Calculating dt0, from 20180601 to 20180621 in mar.\n"
     ]
    },
    {
     "ename": "AttributeError",
     "evalue": "'GeoDataFrame' object has no attribute 'geometry_pre'",
     "output_type": "error",
     "traceback": [
      "\u001b[1;31m---------------------------------------------------------------------------\u001b[0m",
      "\u001b[1;31mAttributeError\u001b[0m                            Traceback (most recent call last)",
      "\u001b[1;32m<ipython-input-6-28a424f1b468>\u001b[0m in \u001b[0;36m<module>\u001b[1;34m\u001b[0m\n\u001b[1;32m----> 1\u001b[1;33m \u001b[0mP\u001b[0m\u001b[1;33m.\u001b[0m\u001b[0mcompute_multitemporal\u001b[0m\u001b[1;33m(\u001b[0m\u001b[1;33m)\u001b[0m\u001b[1;33m\u001b[0m\u001b[1;33m\u001b[0m\u001b[0m\n\u001b[0m",
      "\u001b[1;32m<ipython-input-2-00e2fda769d5>\u001b[0m in \u001b[0;36mcompute_multitemporal\u001b[1;34m(self, date_field, filter_sand, sand_label_field)\u001b[0m\n\u001b[0;32m    102\u001b[0m                              sand_label_field='label_sand'):\n\u001b[0;32m    103\u001b[0m \u001b[1;33m\u001b[0m\u001b[0m\n\u001b[1;32m--> 104\u001b[1;33m         dh_df=compute_multitemporal(self.profiles,\n\u001b[0m\u001b[0;32m    105\u001b[0m                      \u001b[0mdate_field\u001b[0m\u001b[1;33m=\u001b[0m\u001b[0mdate_field\u001b[0m\u001b[1;33m,\u001b[0m \u001b[0mfilter_sand\u001b[0m\u001b[1;33m=\u001b[0m\u001b[0mfilter_sand\u001b[0m\u001b[1;33m,\u001b[0m\u001b[1;33m\u001b[0m\u001b[1;33m\u001b[0m\u001b[0m\n\u001b[0;32m    106\u001b[0m                      sand_label_field=sand_label_field)\n",
      "\u001b[1;32mC:\\conda3\\envs\\sandpyper_env\\lib\\site-packages\\sandpyper\\dynamics.py\u001b[0m in \u001b[0;36mcompute_multitemporal\u001b[1;34m(df, filter_sand, date_field, sand_label_field, filter_classes)\u001b[0m\n\u001b[0;32m    635\u001b[0m                 \u001b[0mmerged\u001b[0m\u001b[1;33m[\u001b[0m\u001b[1;34m\"dh\"\u001b[0m\u001b[1;33m]\u001b[0m\u001b[1;33m=\u001b[0m\u001b[0mmerged\u001b[0m\u001b[1;33m.\u001b[0m\u001b[0mz_post\u001b[0m\u001b[1;33m.\u001b[0m\u001b[0mastype\u001b[0m\u001b[1;33m(\u001b[0m\u001b[0mfloat\u001b[0m\u001b[1;33m)\u001b[0m \u001b[1;33m-\u001b[0m \u001b[0mmerged\u001b[0m\u001b[1;33m.\u001b[0m\u001b[0mz_pre\u001b[0m\u001b[1;33m.\u001b[0m\u001b[0mastype\u001b[0m\u001b[1;33m(\u001b[0m\u001b[0mfloat\u001b[0m\u001b[1;33m)\u001b[0m\u001b[1;33m\u001b[0m\u001b[1;33m\u001b[0m\u001b[0m\n\u001b[0;32m    636\u001b[0m \u001b[1;33m\u001b[0m\u001b[0m\n\u001b[1;32m--> 637\u001b[1;33m                 dict_short={\"geometry\": merged.geometry_pre,\n\u001b[0m\u001b[0;32m    638\u001b[0m                             \u001b[1;34m\"location\"\u001b[0m\u001b[1;33m:\u001b[0m\u001b[0mlocation\u001b[0m\u001b[1;33m,\u001b[0m\u001b[1;33m\u001b[0m\u001b[1;33m\u001b[0m\u001b[0m\n\u001b[0;32m    639\u001b[0m                             \u001b[1;34m\"tr_id\"\u001b[0m\u001b[1;33m:\u001b[0m\u001b[0mmerged\u001b[0m\u001b[1;33m.\u001b[0m\u001b[0mtr_id_pre\u001b[0m\u001b[1;33m,\u001b[0m\u001b[1;33m\u001b[0m\u001b[1;33m\u001b[0m\u001b[0m\n",
      "\u001b[1;32mC:\\conda3\\envs\\sandpyper_env\\lib\\site-packages\\pandas\\core\\generic.py\u001b[0m in \u001b[0;36m__getattr__\u001b[1;34m(self, name)\u001b[0m\n\u001b[0;32m   5460\u001b[0m             \u001b[1;32mif\u001b[0m \u001b[0mself\u001b[0m\u001b[1;33m.\u001b[0m\u001b[0m_info_axis\u001b[0m\u001b[1;33m.\u001b[0m\u001b[0m_can_hold_identifiers_and_holds_name\u001b[0m\u001b[1;33m(\u001b[0m\u001b[0mname\u001b[0m\u001b[1;33m)\u001b[0m\u001b[1;33m:\u001b[0m\u001b[1;33m\u001b[0m\u001b[1;33m\u001b[0m\u001b[0m\n\u001b[0;32m   5461\u001b[0m                 \u001b[1;32mreturn\u001b[0m \u001b[0mself\u001b[0m\u001b[1;33m[\u001b[0m\u001b[0mname\u001b[0m\u001b[1;33m]\u001b[0m\u001b[1;33m\u001b[0m\u001b[1;33m\u001b[0m\u001b[0m\n\u001b[1;32m-> 5462\u001b[1;33m             \u001b[1;32mreturn\u001b[0m \u001b[0mobject\u001b[0m\u001b[1;33m.\u001b[0m\u001b[0m__getattribute__\u001b[0m\u001b[1;33m(\u001b[0m\u001b[0mself\u001b[0m\u001b[1;33m,\u001b[0m \u001b[0mname\u001b[0m\u001b[1;33m)\u001b[0m\u001b[1;33m\u001b[0m\u001b[1;33m\u001b[0m\u001b[0m\n\u001b[0m\u001b[0;32m   5463\u001b[0m \u001b[1;33m\u001b[0m\u001b[0m\n\u001b[0;32m   5464\u001b[0m     \u001b[1;32mdef\u001b[0m \u001b[0m__setattr__\u001b[0m\u001b[1;33m(\u001b[0m\u001b[0mself\u001b[0m\u001b[1;33m,\u001b[0m \u001b[0mname\u001b[0m\u001b[1;33m:\u001b[0m \u001b[0mstr\u001b[0m\u001b[1;33m,\u001b[0m \u001b[0mvalue\u001b[0m\u001b[1;33m)\u001b[0m \u001b[1;33m->\u001b[0m \u001b[1;32mNone\u001b[0m\u001b[1;33m:\u001b[0m\u001b[1;33m\u001b[0m\u001b[1;33m\u001b[0m\u001b[0m\n",
      "\u001b[1;31mAttributeError\u001b[0m: 'GeoDataFrame' object has no attribute 'geometry_pre'"
     ]
    }
   ],
   "source": [
    "P.compute_multitemporal()"
   ]
  },
  {
   "cell_type": "code",
   "execution_count": null,
   "metadata": {},
   "outputs": [],
   "source": []
  },
  {
   "cell_type": "code",
   "execution_count": null,
   "metadata": {},
   "outputs": [],
   "source": []
  },
  {
   "cell_type": "code",
   "execution_count": null,
   "metadata": {},
   "outputs": [],
   "source": [
    "P.profiles_z.query(\"location=='mar'\").plot(column=\"z\")"
   ]
  },
  {
   "cell_type": "markdown",
   "metadata": {},
   "source": [
    "## Global parameters\n",
    "### Location codes\n",
    "When your analysis involves a multi-site approach, it is convenient to assign each location a __small code__ to easy the handling of every associated file and its coordinate reference system.\n",
    "\n",
    "Here are some examples:\n",
    "* Saint Leonards : __leo__\n",
    "* Marengo : __mar__"
   ]
  },
  {
   "cell_type": "code",
   "execution_count": null,
   "metadata": {},
   "outputs": [],
   "source": [
    "# The location codes used troughout the analysis\n",
    "loc_codes=[\"mar\",\"leo\"]"
   ]
  },
  {
   "cell_type": "markdown",
   "metadata": {},
   "source": [
    "### Location search dictionary\n",
    "Sometimes, we need to automatically obtain the right location code from raster files, either of Digital Surface Models (DSM) or Orthophotos (ORTO), whose filenames contains the original location name (e.g. Saint_Leonards or Warrnambool).\n",
    "\n",
    "An easy and fast way to do this, is to create a dictionary, where __keys are the location codes__ and the __values are lists of possible full names__ we expect to find in the files.\n",
    "Here are some examples:\n",
    "\n",
    "```python\n",
    "loc_search_dict = {   'leo': ['St','Leonards','leonards','leo'],\n",
    "                      'mar': ['Marengo','marengo','mar'] }\n",
    "```\n",
    "> __NOTE__: always include the location codes in the list of possible names, in case the original raster filenames are already formatted!\n"
   ]
  },
  {
   "cell_type": "code",
   "execution_count": null,
   "metadata": {},
   "outputs": [],
   "source": [
    "# The terms used in the original filenames.\n",
    "# These will be used to properly format files, extracting location codes and dates.\n",
    "\n",
    "loc_search_dict = {   'leo': ['St','Leonards','leonards','leo'],\n",
    "                      'mar': ['Marengo','marengo','mar'] }"
   ]
  },
  {
   "cell_type": "markdown",
   "metadata": {},
   "source": [
    "### Coordinate Reference Systems dictionary\n",
    "\n",
    "Working on a wide area, often requires dealing with multiple Coordinate Reference Systems (CRS). Therefore, it is important to assign __each location code with its appropriate CRS__ at the beginning, in order to always take it into account trhoughout the analysis.\n",
    "\n",
    "We do this with another dictionary, called `crs_dict_string`, where as keys we store the location codes and as values we store another dictionary, in this form `{'init': 'epsg:32754'}` .\n",
    "Modify the __EPSG code__ to change CRS. Here is an example of the resulting dictionary:\n",
    "\n",
    "```python\n",
    "crs_dict_string = {'wbl': {'init': 'epsg:32754'},\n",
    "                   'apo': {'init': 'epsg:32754'},\n",
    "                   'prd': {'init': 'epsg:32755'},\n",
    "                   'dem': {'init': 'epsg:32755'} }\n",
    "```\n",
    "\n",
    "\n",
    "\n",
    "> __NOTE:__ to specify the CRS, use the dictionary format supported by Geopandas 0.6.3. Only projected CRS are supported.\n"
   ]
  },
  {
   "cell_type": "code",
   "execution_count": null,
   "metadata": {},
   "outputs": [],
   "source": [
    "# The Coordinate Reference Systems used troughout this example\n",
    "\n",
    "crs_dict_string= {\n",
    "                 'mar': {'init': 'epsg:32754'},\n",
    "                 'leo':{'init': 'epsg:32755'}\n",
    "                 }"
   ]
  },
  {
   "cell_type": "markdown",
   "metadata": {},
   "source": [
    "## Transects creation\n",
    "### Shoreline baseline"
   ]
  },
  {
   "cell_type": "markdown",
   "metadata": {},
   "source": [
    "Any Shapely line or polyline object can be used as input as a transect. In coastal geomeorphometric studies, transects are usually equally spaced alongshore, and place normal to the shoreline. However, any type of line can be used to extract values from both orthophtos and DSMs.\n",
    "\n",
    "You can construct transects in 2 ways:\n",
    "1. **Any GIS**\n",
    "2. Using the function **create_transects**, starting from a __shoreline baseline__.\n",
    "\n",
    "If you use your favourite GIS (Qgis preferred), ensure that the output format is __geopackage (.gpkg)__, and:\n",
    "> **each transect must be in a separate row (geometry)**\n",
    "\n",
    "If you want to use in-built sandpyper function, see below:"
   ]
  },
  {
   "cell_type": "code",
   "execution_count": null,
   "metadata": {},
   "outputs": [],
   "source": [
    "# load and display the shoreline\n",
    "path_to_shoreline_mar=r'C:\\my_packages\\doc_data\\test_data\\shorelines\\leo_shoreline_short.gpkg' # Marengo shoreline\n",
    "\n",
    "shoreline=gpd.read_file(path_to_shoreline_mar)\n",
    "shoreline.plot()"
   ]
  },
  {
   "cell_type": "code",
   "execution_count": null,
   "metadata": {},
   "outputs": [],
   "source": [
    "# create and display the transects (in red)\n",
    "\n",
    "f,ax=plt.subplots(figsize=(10,10))  # Change figsize if you want bigger images\n",
    "location='mar'  # insert the location code for this transect.\n",
    "\n",
    "transects=create_transects(shoreline,\n",
    "                           sampling_step=20, # alongshore spacing\n",
    "                           tick_length=50, # transects length\n",
    "                           location=location,crs=crs_dict_string[location],\n",
    "                           side='both' # 'both':transect is centered at the interesction with the baseline\n",
    "                          )\n",
    "\n",
    "# Modify the figure by plotting shoreline, transects and transect IDs.\n",
    "shoreline.plot(ax=ax,color='b')\n",
    "transects.plot(ax=ax,color='r')\n",
    "\n",
    "for x, y, label in zip(transects.geometry.centroid.x, transects.geometry.centroid.y, transects.tr_id):\n",
    "    ax.annotate(label, xy=(x, y), xytext=(4, 1), textcoords=\"offset points\")\n",
    "\n",
    "transects.head()"
   ]
  },
  {
   "cell_type": "markdown",
   "metadata": {},
   "source": [
    "The following cell saves transect to file and name it as:\n",
    "\n",
    ">__locationCode_whateverYouWant.gpkg__\n",
    "\n",
    "(example: __leo_transects.gpkg__)\n",
    "\n",
    "and place it to a folder where you store all the transects for each location.\n",
    "\n",
    ">__Note:__ If the saving throws an error \"PLE_NotSupported in dataset leo_transects.gpkg does not support layer creation option ENCODING\", the file should be created and valid anyway. Double-check by opening it in Qgis."
   ]
  },
  {
   "cell_type": "code",
   "execution_count": null,
   "metadata": {},
   "outputs": [],
   "source": [
    "transects.to_file(filename=r'C:\\my_packages\\doc_data\\transects\\leo_transects.gpkg',driver='GPKG')"
   ]
  },
  {
   "cell_type": "markdown",
   "metadata": {},
   "source": [
    "## Elevation and RGB data extraction"
   ]
  },
  {
   "cell_type": "markdown",
   "metadata": {},
   "source": [
    "### Define the folders containing the datasets\n",
    "\n",
    "First, let's define the paths to the folders containing the raster DSMs or ORTOs and the transects.\n",
    "\n",
    "> __SUPPORTED FORMATS:__\n",
    ">* Rasters: __geotiffs (.tif, .tiff)__\n",
    ">* Transects: __geopackages (.gpkg).__\n",
    ">\n",
    ">__Transects filenames:__ when creating transects, save them with the location code as filename."
   ]
  },
  {
   "cell_type": "markdown",
   "metadata": {},
   "source": [
    "<img src=\"images/hill_ortho_profiles_cow.png\" width=\"85%\" />"
   ]
  },
  {
   "cell_type": "code",
   "execution_count": null,
   "metadata": {
    "scrolled": true
   },
   "outputs": [],
   "source": [
    "# Set the path to the folders containing the DSMs (dirNameDSM) and the transect files (dirNameTrans)\n",
    "\n",
    "dirNameDSM=r'C:\\my_packages\\sandpyper\\tests\\test_data\\dsm_1m'\n",
    "\n",
    "dirNameOrtho=r'C:\\my_packages\\sandpyper\\tests\\test_data\\orthos_1m'\n",
    "\n",
    "dirNameTrans=r'C:\\my_packages\\sandpyper\\tests\\test_data\\transects'\n"
   ]
  },
  {
   "cell_type": "markdown",
   "metadata": {},
   "source": [
    "###  Check cross-reference table and CRS matches\n",
    "\n",
    "The EPSG codes in the raster and transect columns __must match__.\n",
    "\n",
    "Please also check the dsm and date columns match transect file and dsm file paths."
   ]
  },
  {
   "cell_type": "code",
   "execution_count": null,
   "metadata": {
    "scrolled": false
   },
   "outputs": [],
   "source": [
    "check=cross_ref(dirNameDSM,dirNameTrans,print_info=True, loc_search_dict=loc_search_dict,list_loc_codes=loc_codes)\n",
    "check"
   ]
  },
  {
   "cell_type": "markdown",
   "metadata": {},
   "source": [
    "Nice! We are now ready to extract data from DSMs or ORTOs with the provided transect files."
   ]
  },
  {
   "cell_type": "markdown",
   "metadata": {},
   "source": [
    "### Extraction of profiles from folder\n",
    "\n",
    "This is the cell where the automatic extraction gets processed.\n",
    "The only parameter to set is the __sampling step__ variable, which indicates the __cross-shore sampling distance (m)__ that we want to use along our transects. Beware, although you could use a very small sampling distance (UAV datasets tend to be between few to 10 cm pixel size), file dimension will increase significantly!."
   ]
  },
  {
   "cell_type": "markdown",
   "metadata": {},
   "source": [
    "__Dealing with NaNs__\n",
    "\n",
    ">NaNs might come from two different cases:\n",
    ">1. extraction of points generated on transects falling __outside__ of the underlying raster extent\n",
    ">2. points sampled from transect __inside__ the raster extent but containing NoData cells.\n",
    ">\n",
    ">Conveniently, the extraction profile function makes sure that if points fall outside the raster extent (case 1), those >elevations are assigned a default nan value, in the NumPy np.nan form.\n",
    ">In case 2, however, the values extracted depends on the definition of NaNs of the source raster format."
   ]
  },
  {
   "cell_type": "code",
   "execution_count": null,
   "metadata": {
    "scrolled": false
   },
   "outputs": [],
   "source": [
    "%%time\n",
    "\n",
    "## Parameters to specify\n",
    "\n",
    "transect_folder=dirNameTrans\n",
    "sampling_step=1\n",
    "\n",
    "\n",
    "gdf_rgb=extract_from_folder(dataset_folder=dirNameOrtho,\n",
    "                        transect_folder=transect_folder,\n",
    "                        mode=\"ortho\",sampling_step=sampling_step,\n",
    "                        list_loc_codes=loc_codes,\n",
    "                        add_xy=True)\n",
    "\n",
    "gdf=extract_from_folder(dataset_folder=dirNameDSM,\n",
    "                        transect_folder=transect_folder,\n",
    "                        mode=\"dsm\",sampling_step=sampling_step,\n",
    "                        list_loc_codes=loc_codes,\n",
    "                        add_xy=True)\n"
   ]
  },
  {
   "cell_type": "code",
   "execution_count": null,
   "metadata": {},
   "outputs": [],
   "source": [
    "gdf.head()"
   ]
  },
  {
   "cell_type": "markdown",
   "metadata": {},
   "source": [
    "### GOOD!\n",
    "\n",
    "save the Geodataframes (gdf and gdf_rgb) as a CSV file and head to the __SANDPYPER Labeling sand notebook__."
   ]
  },
  {
   "cell_type": "code",
   "execution_count": null,
   "metadata": {},
   "outputs": [],
   "source": [
    "# Saving the files\n",
    "\n",
    "gdf.to_csv(r\"C:\\my_packages\\sandpyper\\tests\\test_outputs\\gdf.csv\",index=False)\n",
    "gdf_rgb.to_csv(r\"C:\\my_packages\\sandpyper\\tests\\test_outputs\\gdf_rgb.csv\",index=False)"
   ]
  },
  {
   "cell_type": "markdown",
   "metadata": {},
   "source": [
    "___"
   ]
  }
 ],
 "metadata": {
  "kernelspec": {
   "display_name": "Python 3",
   "language": "python",
   "name": "python3"
  },
  "language_info": {
   "codemirror_mode": {
    "name": "ipython",
    "version": 3
   },
   "file_extension": ".py",
   "mimetype": "text/x-python",
   "name": "python",
   "nbconvert_exporter": "python",
   "pygments_lexer": "ipython3",
   "version": "3.9.4"
  }
 },
 "nbformat": 4,
 "nbformat_minor": 2
}
