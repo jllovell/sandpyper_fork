{
 "cells": [
  {
   "cell_type": "markdown",
   "id": "5ca8c18a",
   "metadata": {},
   "source": [
    "<font size=\"5\"><center> <b>Sandpyper: sandy beaches SfM-UAV analysis tools</b></center></font>\n",
    "\n",
    "    \n",
    "<center><img src=\"images/banner.png\" width=\"80%\"  /></center>\n",
    "\n",
    "<font face=\"Calibri\">\n",
    "<br>\n",
    "<font size=\"5\"> <b> Multiscale sediment dynamics </b></font>\n",
    "\n",
    "<br>\n",
    "<font size=\"3\"> <b> Nicolas Pucino; PhD Student @ Deakin University, Australia </b> <br>\n",
    "\n",
    "<b>This notebook covers the following concepts:</b>\n",
    "\n",
    "- The ProfileDynamics class\n",
    "- Multiscale volumetric analysis and plotting\n",
    "- Hotspot analysis\n",
    "- Multiscale beachface Cluster Dynamics indices and plotting\n",
    "</font>"
   ]
  },
  {
   "cell_type": "markdown",
   "id": "aa08d5c7",
   "metadata": {},
   "source": [
    "___"
   ]
  },
  {
   "cell_type": "markdown",
   "id": "62cf4119",
   "metadata": {},
   "source": [
    "# Introduction"
   ]
  },
  {
   "cell_type": "code",
   "execution_count": 1,
   "id": "e1bcf483",
   "metadata": {},
   "outputs": [
    {
     "name": "stderr",
     "output_type": "stream",
     "text": [
      "C:\\conda3\\envs\\sandpyper_env\\lib\\site-packages\\pysal\\explore\\segregation\\network\\network.py:15: UserWarning: You need pandana and urbanaccess to work with segregation's network module\n",
      "You can install them with  `pip install urbanaccess pandana` or `conda install -c udst pandana urbanaccess`\n",
      "  warn(\n",
      "C:\\conda3\\envs\\sandpyper_env\\lib\\site-packages\\pysal\\model\\spvcm\\abstracts.py:10: UserWarning: The `dill` module is required to use the sqlite backend fully.\n",
      "  from .sqlite import head_to_sql, start_sql\n",
      "C:\\conda3\\envs\\sandpyper_env\\lib\\site-packages\\fuzzywuzzy\\fuzz.py:11: UserWarning: Using slow pure-python SequenceMatcher. Install python-Levenshtein to remove this warning\n",
      "  warnings.warn('Using slow pure-python SequenceMatcher. Install python-Levenshtein to remove this warning')\n"
     ]
    }
   ],
   "source": [
    "%matplotlib notebook\n",
    "\n",
    "import pickle\n",
    "from sandpyper.hotspot import ProfileDynamics\n",
    "\n",
    "pd.options.mode.chained_assignment = None  # default='warn'"
   ]
  },
  {
   "cell_type": "code",
   "execution_count": null,
   "id": "83df4a72",
   "metadata": {},
   "outputs": [],
   "source": [
    "P=pickle.load(open(r\"C:\\my_packages\\sandpyper\\tests\\test_data\\test.p\", \"rb\"))\n",
    "P"
   ]
  },
  {
   "cell_type": "markdown",
   "id": "069feee3",
   "metadata": {},
   "source": [
    "# ProfileDynamics class"
   ]
  },
  {
   "cell_type": "code",
   "execution_count": 2,
   "id": "e8559764",
   "metadata": {},
   "outputs": [],
   "source": [
    "labels=[\"Undefined\", \"Small\", \"Medium\", \"High\", \"Extreme\"]\n",
    "appendix=[\"_deposition\", \"_erosion\"]"
   ]
  },
  {
   "cell_type": "code",
   "execution_count": null,
   "id": "5819ebf6",
   "metadata": {},
   "outputs": [],
   "source": []
  },
  {
   "cell_type": "code",
   "execution_count": 7,
   "id": "a5eea37d",
   "metadata": {},
   "outputs": [],
   "source": [
    "D = ProfileDynamics(P, bins=5, method=\"JenksCaspall\", labels=labels)"
   ]
  },
  {
   "cell_type": "code",
   "execution_count": 8,
   "id": "591488ff",
   "metadata": {},
   "outputs": [],
   "source": []
  },
  {
   "cell_type": "code",
   "execution_count": 9,
   "id": "d635f3c0",
   "metadata": {},
   "outputs": [
    {
     "name": "stderr",
     "output_type": "stream",
     "text": [
      "C:\\conda3\\envs\\sandpyper_env\\lib\\site-packages\\geopandas\\geodataframe.py:422: RuntimeWarning: Sequential read of iterator was interrupted. Resetting iterator. This can negatively impact the performance.\n",
      "  for feature in features_lst:\n"
     ]
    },
    {
     "name": "stdout",
     "output_type": "stream",
     "text": [
      "dsm from leo = 6\n",
      "\n",
      "ortho from leo = 6\n",
      "\n",
      "dsm from mar = 9\n",
      "\n",
      "ortho from mar = 9\n",
      "\n",
      "\n",
      "NUMBER OF DATASETS TO PROCESS: 30\n"
     ]
    }
   ],
   "source": [
    "D.compute_multitemporal(loc_full={'mar': 'Marengo',\n",
    "         'leo': 'St. Leonards'}, filter_class='sand')"
   ]
  },
  {
   "cell_type": "markdown",
   "id": "d02b5c4d",
   "metadata": {},
   "source": [
    "# Multiscale volumetrics"
   ]
  },
  {
   "cell_type": "markdown",
   "id": "072a648d",
   "metadata": {},
   "source": [
    "The __Mean Elevation Change (MEC)__ is calculated with the totality of the valid points (sand-only, beyond LoD, within the beachface) that occurr both in the pre and post dataset in each location.<br>\n",
    "\n",
    "The __volumes of beachface change__, instead, are estimated, using the following procedure.\n",
    "\n",
    "* Along each transect, the non-sand ponts are eliminated and replaced by a linearly interpolated value.\n",
    "* We integrate the change along the cleaned transect to estimated volumetric change at each transect.\n",
    "* We multiply the sum of all transect volume change by the transect spacing, to obtain a location-level beachface change estimation.\n",
    "\n",
    "This approximation is necessary to go from transect change to beachface change."
   ]
  },
  {
   "cell_type": "code",
   "execution_count": null,
   "id": "866c204c",
   "metadata": {},
   "outputs": [],
   "source": [
    "D.compute_volumetrics(lod=D.lod_df)"
   ]
  },
  {
   "cell_type": "code",
   "execution_count": null,
   "id": "dc65b20d",
   "metadata": {},
   "outputs": [],
   "source": []
  },
  {
   "cell_type": "code",
   "execution_count": null,
   "id": "7f6f2507",
   "metadata": {},
   "outputs": [],
   "source": [
    "D.plot_transects(location='mar', tr_id=10, dt=['dt_0','dt_2'], classified=False)"
   ]
  },
  {
   "cell_type": "code",
   "execution_count": null,
   "id": "9047f912",
   "metadata": {},
   "outputs": [],
   "source": [
    "D.plot_transects(location='mar', tr_id=10, dt=['dt_0','dt_2'], classified=True)"
   ]
  },
  {
   "cell_type": "code",
   "execution_count": null,
   "id": "25864145",
   "metadata": {},
   "outputs": [],
   "source": [
    "D.plot_transect_mecs(location='leo',tr_id=28)"
   ]
  },
  {
   "cell_type": "code",
   "execution_count": null,
   "id": "a7a1bc27",
   "metadata": {},
   "outputs": [],
   "source": []
  },
  {
   "cell_type": "code",
   "execution_count": null,
   "id": "cff34611",
   "metadata": {},
   "outputs": [],
   "source": [
    "D.plot_single_loc([\"mar\"],None)"
   ]
  },
  {
   "cell_type": "code",
   "execution_count": null,
   "id": "ac98b3c4",
   "metadata": {},
   "outputs": [],
   "source": []
  },
  {
   "cell_type": "code",
   "execution_count": null,
   "id": "f930bf5e",
   "metadata": {},
   "outputs": [],
   "source": [
    "D.plot_mec_evolution(location_field=\"location\",\n",
    "                     loc_order=[\"leo\",\"mar\"])"
   ]
  },
  {
   "cell_type": "markdown",
   "id": "fef7331b",
   "metadata": {},
   "source": [
    "##  Altimetric heatmaps and alongshore estimated volume changes\n",
    "Here, we can display the alongshore estimated eroded/deposited volumes acrosse the surveyed beach.\n",
    "\n",
    "__Note:__ The net volume change is estimated by sweeping the transect-specific value to the next transect."
   ]
  },
  {
   "cell_type": "code",
   "execution_count": null,
   "id": "df8536a0",
   "metadata": {},
   "outputs": [],
   "source": [
    "D.plot_along"
   ]
  },
  {
   "cell_type": "code",
   "execution_count": null,
   "id": "0deb9955",
   "metadata": {},
   "outputs": [],
   "source": []
  },
  {
   "cell_type": "markdown",
   "id": "06b8c24b",
   "metadata": {},
   "source": [
    "# Hotspot analysis: Local Indicator of Spatial Association (LISA)"
   ]
  },
  {
   "cell_type": "markdown",
   "id": "917c1934",
   "metadata": {},
   "source": [
    "The function __LISA_site_level__ perform a Local Moran's I with False Discovery Rate (fdr) correction analysis for all the elevation change points in each survey in the dh_df table.\n",
    "\n",
    "This function can use KNN-based, inverse distance weighted or binary distance-based spatial weight matrices. In this example, we model spatial relationships with a distance-based row standardised binary weight matrix with neighborhood radius of 35 m, in order to include two adjacent transect and some points from obliques without getting too far from the focal point.\n",
    "\n",
    "we obtain a dataset containing the fdr threshold, local moran-s Is, p and z values and the quadrant in which each observation falls in a Moran's scatter plot, which represent High-High (HH, hotspot cluster), High-Low (HL, spatial outlier), Low-Low (LL, coldspot cluster) and Low-High (LH, spatial outlier) points.\n",
    "\n",
    "We are interested in HH and LL clusters, which we generally call hotspots, and discard LH and HL points are sptial outliers."
   ]
  },
  {
   "cell_type": "code",
   "execution_count": 10,
   "id": "f430e045",
   "metadata": {},
   "outputs": [],
   "source": [
    "D.LISA_site_level(mode=\"distance\", distance_value=35)"
   ]
  },
  {
   "cell_type": "markdown",
   "id": "1e4e2807",
   "metadata": {},
   "source": [
    "Now that we have statistically significant hotspots of change, we can use those points to capture the most interesting areas of beachface change which we use to model behaviour.\n",
    "\n",
    "However, there is a very important point to consider, which is relevant for our example.<br>\n",
    "Our beachfaces are narrow, and we use only reliable valid points using multiple levels of filtering (LoD, beachface area, sand-only), which significantly reduce the total number of usable points in each timestep.\n",
    "Because in our next step we will compute the Beachface Cluster Dynamics indices both at the location and transect scales, we need to create two different dataframes and (slightly different) transient-states classes:\n",
    "\n",
    "* hotspot-filtered: we discard spatial outliers to capture location scale behaviour. Used for location scale BCDs.\n",
    "* full: we disregard hotspot classification and retain all points beyond LoD. Used for transect scale BCDs.\n",
    "\n",
    "This is necessary to assure that we have enough points in each transect to model their behaviours. Moreover, the hotspot classification has been run at the location scale. Therefore, the HH and LL hotspots are only relevant for location-scale BCD analysis."
   ]
  },
  {
   "cell_type": "markdown",
   "id": "2f4ad505",
   "metadata": {},
   "source": [
    "The __labelled_hotspot_df__ dataframe holds all information about the LISA analysis for each point, including:\n",
    "* Moran's scatterplot quadrant (HH, HL, LL, LH) (lisa_q)\n",
    "* Local Moran's I (lisa_I)\n",
    "* False discovery rate threshold (lisa_fdr)\n",
    "* Simulated pseudo p-value and z-value (lisa_p_sim, lisa_z_value)\n",
    "\n",
    "Moreover, the transition states, absed on the dh classification, are stored in the __markov_tag__ column."
   ]
  },
  {
   "cell_type": "code",
   "execution_count": null,
   "id": "54009c7e",
   "metadata": {},
   "outputs": [],
   "source": []
  },
  {
   "cell_type": "markdown",
   "id": "38d568ec",
   "metadata": {},
   "source": [
    "# Multiscale Beachface Cluster Dynamics (BCDs) indices"
   ]
  },
  {
   "cell_type": "code",
   "execution_count": null,
   "id": "2493f429",
   "metadata": {},
   "outputs": [
    {
     "name": "stdout",
     "output_type": "stream",
     "text": [
      "Extracting elevation from DSMs . . .\n"
     ]
    },
    {
     "data": {
      "application/vnd.jupyter.widget-view+json": {
       "model_id": "7fa52d710b2440389940af16c2502009",
       "version_major": 2,
       "version_minor": 0
      },
      "text/plain": [
       "  0%|          | 0/15 [00:00<?, ?it/s]"
      ]
     },
     "metadata": {},
     "output_type": "display_data"
    },
    {
     "data": {
      "application/vnd.jupyter.widget-view+json": {
       "model_id": "fe142c1cea6d4c08ad2a18877b1eb5fb",
       "version_major": 2,
       "version_minor": 0
      },
      "text/plain": [
       "  0%|          | 0/59 [00:00<?, ?it/s]"
      ]
     },
     "metadata": {},
     "output_type": "display_data"
    },
    {
     "data": {
      "application/vnd.jupyter.widget-view+json": {
       "model_id": "2828513f1aae4efa8d89e0f71bfbc160",
       "version_major": 2,
       "version_minor": 0
      },
      "text/plain": [
       "  0%|          | 0/59 [00:00<?, ?it/s]"
      ]
     },
     "metadata": {},
     "output_type": "display_data"
    },
    {
     "data": {
      "application/vnd.jupyter.widget-view+json": {
       "model_id": "f4dd327e506046309f2d6ffd36c847db",
       "version_major": 2,
       "version_minor": 0
      },
      "text/plain": [
       "  0%|          | 0/59 [00:00<?, ?it/s]"
      ]
     },
     "metadata": {},
     "output_type": "display_data"
    },
    {
     "data": {
      "application/vnd.jupyter.widget-view+json": {
       "model_id": "12ee43bfdf514f57aeabae41f23396bd",
       "version_major": 2,
       "version_minor": 0
      },
      "text/plain": [
       "  0%|          | 0/59 [00:00<?, ?it/s]"
      ]
     },
     "metadata": {},
     "output_type": "display_data"
    },
    {
     "data": {
      "application/vnd.jupyter.widget-view+json": {
       "model_id": "b27fe6dfcfd64c6e8aa1207a2cd62a1d",
       "version_major": 2,
       "version_minor": 0
      },
      "text/plain": [
       "  0%|          | 0/59 [00:00<?, ?it/s]"
      ]
     },
     "metadata": {},
     "output_type": "display_data"
    }
   ],
   "source": [
    "D.discretise(absolute=True, print_summary=True, lod=D.lod_df)"
   ]
  },
  {
   "cell_type": "markdown",
   "id": "9b528a65",
   "metadata": {},
   "source": [
    "The __Empirical Beachface Cluster indices (e-BCD)__ uses weights to represent the importance of each transition.<br>\n",
    "A point that transitioned from small erosion to extreme erosion has more impact on the sediment budget than if it was transitioning to a medium erosion class.<br>\n",
    "The weights for each magnitude class can be specified manually using a dictionary. However, it is best to obtain an objective representation of the severity of change. As the magnitude classes are derived from the data (using Jenks-Caspall optimised natural breaks method), a simple yet robust solution is to use the medians of each magnitude class as weight.\n",
    "<br>\n",
    "<br>\n",
    "The function __infer_weights__ takes care of this."
   ]
  },
  {
   "cell_type": "code",
   "execution_count": null,
   "id": "6d0da020",
   "metadata": {},
   "outputs": [],
   "source": [
    "D.infer_weights()"
   ]
  },
  {
   "cell_type": "code",
   "execution_count": null,
   "id": "43651f1a",
   "metadata": {},
   "outputs": [],
   "source": []
  },
  {
   "cell_type": "code",
   "execution_count": null,
   "id": "5a9a8788",
   "metadata": {},
   "outputs": [],
   "source": [
    "D.BCD_compute_location(\"geometry\",\"all\",True, filterit='lod')"
   ]
  },
  {
   "cell_type": "code",
   "execution_count": null,
   "id": "cb305ef2",
   "metadata": {},
   "outputs": [],
   "source": []
  },
  {
   "cell_type": "code",
   "execution_count": null,
   "id": "4af1dd68",
   "metadata": {},
   "outputs": [],
   "source": [
    "D.plot_trans_matrices(relabel_dict)"
   ]
  },
  {
   "cell_type": "markdown",
   "id": "a4fecde5",
   "metadata": {},
   "source": [
    " Observations\n",
    "\n",
    "__The title__ informs about:\n",
    "* mar/leo = Location codes (leo = St. Leonards; mar = Marengo\n",
    "* n = Total number of points in the timeseries (valid and non-valid)\n",
    "* t = Total number of timesteps\n",
    "* trans = Total number of valid transitions considered\n",
    "\n",
    "__leo__\n",
    ">We chose St. Leonards as an example to demonstrates a few limitations, which are observable in this matrix.\n",
    "\n",
    "St. Leonards is located within Port Phillip bay. This narrrow beach is not embayed, but __fetch-limited__, meaning that it doesn't receive the highly energetic Souther Ocean swell, rather, it sees its morphodynamics impacted by considerably lower waves which are locally generated from within the bay. Moreover, seagrass meadows and reefs further reduce wave imapcts on the subaerial beachface.<br>\n",
    "Therefore, __changes are small__ and often below the limit of detections, thus, uncertain. If we consider that we filter points based on (1) only sand, (2) limit of detection, (3) spatial outliers, from an already narrow beach (short transects) this location is severly decimated in terms of behavioural modelling potential.<br>\n",
    "\n",
    "In fact, the submatrices have many zeroes, which indicate a zero probability of these transitions, because these have not been recorded.<br>\n",
    "Moreover, we note how most of the transitions tend to be __from lower magnitude classes to low magnitude classes.__\n",
    "<br>\n",
    "Another story for Marengo.\n",
    "\n",
    "__mar__\n",
    "\n",
    "Marengo is an open-ocean beach with a small southern section pretected by a small headland (tombolo-like). The section used for this example is also affected by sand nourishment, which injects considerable amount of sediment during the monitoring period.<br>\n",
    "Given in Marengo we have roughly 4 times the number of valid observations (trans=30'786) as compared to St. Leonards (trans=7'465), the submatrices better capture the stochastic behaviour of this beachface.\n",
    "\n"
   ]
  },
  {
   "cell_type": "code",
   "execution_count": null,
   "id": "553807a4",
   "metadata": {},
   "outputs": [],
   "source": []
  },
  {
   "cell_type": "markdown",
   "id": "cb8dfe7f",
   "metadata": {},
   "source": [
    "### Plotting the e-BCDs\n",
    "\n",
    "Let's plot the e-BCDs, which summarise the information contained in the submatrices."
   ]
  },
  {
   "cell_type": "markdown",
   "id": "817c99e2",
   "metadata": {},
   "source": [
    " Empirical Beachface Cluster Dynamics (e-BCDs)\n",
    "\n",
    "The function __BCDs_compute__ computes all the stochastic first-order transition matrices of sand dynamics, based on the sand-only hotspots of elevation change across beachface dataset, at the site level, which are the basis for the e-BCDs.\n",
    "\n",
    "It returns 2 dataframes:\n",
    "* __e-BCDs__\n",
    "* __steady-state distribution__\n",
    "\n",
    "Optionally, it also plots the transition matrices and save them in the specified output folder.\n",
    "\n",
    "\n",
    "Notes: <br>\n",
    ">These matrices discard all the __valid to non-valid transitions__. In other words, all transitions going from a valid point (non spatial outlier, classified as sand and beyond limit of detection) are labelled as \"nnn\" adn discarded.\n",
    "Moreover, __the colour ramp__ higher limit (vmax parameter) is set to a maximum of 3 times the standard deviation of all dataset without the nnn state."
   ]
  },
  {
   "cell_type": "code",
   "execution_count": null,
   "id": "f2d91cc2",
   "metadata": {},
   "outputs": [],
   "source": [
    "D.plot_location_ebcds()"
   ]
  },
  {
   "cell_type": "code",
   "execution_count": null,
   "id": "05e058c9",
   "metadata": {},
   "outputs": [],
   "source": []
  },
  {
   "cell_type": "markdown",
   "id": "dd44a759",
   "metadata": {},
   "source": [
    "## Residual Beachface Cluster Dynamics (r-BCD)"
   ]
  },
  {
   "cell_type": "markdown",
   "id": "2aae3b38",
   "metadata": {},
   "source": [
    "We already computed the __Steady State__ probability vectors for each location using the __BCDs_compute__ function, storing it in the __ss__ variable.<br>\n",
    "Here below we reorder the data and plot as an heatmap, where each columns is a location and each row a magnitude of change.\n"
   ]
  },
  {
   "cell_type": "code",
   "execution_count": null,
   "id": "a0d14115",
   "metadata": {},
   "outputs": [],
   "source": [
    "ss=D.location_ss\n",
    "order=[i for i in D.tags_order if i !='nnn']\n",
    "ss=ss.loc[order] # use set to extract rows with common names\n",
    "ss"
   ]
  },
  {
   "cell_type": "code",
   "execution_count": null,
   "id": "7e9e480a",
   "metadata": {},
   "outputs": [],
   "source": [
    "plt.rcParams['font.sans-serif'] = 'Arial'\n",
    "plt.rcParams['font.family'] = 'sans-serif'\n",
    "sb.set_context(\"paper\", font_scale=2)\n",
    "\n",
    "\n",
    "f,ax=plt.subplots(figsize=(12,10))\n",
    "\n",
    "sb.heatmap(ss, cmap=\"Blues\",annot=True,\n",
    "           annot_kws={'size':14},linewidths=1,linecolor=\"white\", cbar_kws={'label': 'Lim. Probabilities'});\n",
    "\n",
    "#f.savefig(r'E:\\\\path\\\\to\\\\save\\\\picture.png', dpi=600); "
   ]
  },
  {
   "cell_type": "markdown",
   "id": "1c8b8a4b",
   "metadata": {},
   "source": [
    "### Computing the r-BCDs\n",
    "\n",
    "The residual is simply the difference between erosional and depositional probabilities in the Steady-State distribution, __multiplicated by 100__ for readability purposes. Note that in this case, no weigths are applied as no transition is represented.\n",
    "\n",
    "\n",
    "Here below, the dataframe returns the residual column, which is what you might want to map in Qgis."
   ]
  },
  {
   "cell_type": "code",
   "execution_count": null,
   "id": "afab2a24",
   "metadata": {},
   "outputs": [],
   "source": [
    "D.location_ss"
   ]
  },
  {
   "cell_type": "markdown",
   "id": "319a3f8f",
   "metadata": {},
   "source": [
    "The above table, the row __r_bcds__ represent the r-BCD index for the locations, which we also call __behavioural regime__."
   ]
  },
  {
   "cell_type": "markdown",
   "id": "b384455c",
   "metadata": {},
   "source": [
    "Location level BCDs are good to compare multiple locations across wide areas. But what about getting a more detailed spatial-explicit view of the behaviour of a beachface system, at the transect-level?"
   ]
  },
  {
   "cell_type": "markdown",
   "id": "1bad3d1c",
   "metadata": {},
   "source": [
    "two parameters are important:\n",
    "* __min_points__: the minimum required valid points per transect to consider a transect reliable.\n",
    "* __thresh__: the minimum number of timesteps required to retain a transect.\n"
   ]
  },
  {
   "cell_type": "code",
   "execution_count": null,
   "id": "a6a9c68f",
   "metadata": {},
   "outputs": [],
   "source": [
    "loc_specs={'mar':{'thresh':6,\n",
    "       'min_points':6}}\n",
    "\n",
    "D.BCD_compute_transects(loc_specs=loc_specs,reliable_action='keep', dirNameTrans=D.ProfileSet.dirNameTrans)"
   ]
  },
  {
   "cell_type": "code",
   "execution_count": null,
   "id": "763f26d1",
   "metadata": {},
   "outputs": [],
   "source": []
  },
  {
   "cell_type": "code",
   "execution_count": null,
   "id": "826c61f1",
   "metadata": {},
   "outputs": [],
   "source": [
    "D.transects_rbcd.query(\"location=='leo'\").plot(column=\"residual\", cmap='RdBu_r')"
   ]
  },
  {
   "cell_type": "code",
   "execution_count": null,
   "id": "83024f55",
   "metadata": {},
   "outputs": [],
   "source": []
  },
  {
   "cell_type": "markdown",
   "id": "2ecc176d",
   "metadata": {},
   "source": [
    "# Sensitivity analysis"
   ]
  },
  {
   "cell_type": "markdown",
   "id": "0cb4ca0d",
   "metadata": {},
   "source": [
    "For a reliable computation of r-BCDs at the transect scale the Δh points within the subaerial beachface must be beyond the period-specific LoDs.\n",
    "\n",
    "This filtering process assures that only high quality data is used in the r-BCDs computation to the detriment of the total number of valid observations per transect. Moreover, two additional filtering steps are applied at the site-level, to ensure that are only retained:\n",
    "* points that remain valid for at least a certain amount of Δh periods (t)\n",
    "* transects that have a number of valid points greater than a determined minimum threshold (pt)\n",
    "\n",
    "This is done to ensure comparability across time and transects in a determined location.\n",
    "Therefore, __t is an important parameter that should ideally be as high as the available time periods__, in order to ensure that the maximum behavioural variability is captured.<br>\n",
    "Yet, setting this parameter very high can reduce considerably the number of valid points retained in a single transect, which in turn can fall below t, leading to the loss of transects from the final behavioural map.<br>\n",
    "It is also informative to monitor and try to minimise the number of transects that __passed from a depositional to erosional behavioral regime (or vice versa) in the last time period (i. e. changed sign from t-1 to t),__ for any chosen t. Those transects could signal a behaviour that only emerged by choosing a determined value for t, signaling a potentially __lower confidence in their r-BCD values__.<br>\n",
    "For these reasons, the sensitivity analysis helps in choosing a __sub-optimal combination of t and p such as__:\n",
    "* at least 85% (arbitrary) of the total transects are retained\n",
    "* a reasonably low number of sign changes occurred"
   ]
  },
  {
   "cell_type": "markdown",
   "id": "f0e40382",
   "metadata": {},
   "source": [
    "We start by defining all the combinations between the parameters __thresh (t)__ and __min_pts (pt)__, given ranges that we define.<br>\n",
    "The thresh parameter can be up to the total number of timesteps available, while the min_pts, we decide to test the values from 0 to 210, with a step of 10."
   ]
  },
  {
   "cell_type": "code",
   "execution_count": null,
   "id": "7ce2dd65",
   "metadata": {},
   "outputs": [],
   "source": [
    "ss_tr_big = sensitivity_tr_rbcd(D.df_labelled,\n",
    "                                test_thresholds='max',\n",
    "                                test_min_pts=[0,20,2])"
   ]
  },
  {
   "cell_type": "code",
   "execution_count": null,
   "id": "151c3da1",
   "metadata": {},
   "outputs": [],
   "source": [
    "f,ax=plt.subplots(figsize=(10,10))\n",
    "\n",
    "palette=sb.color_palette( n_colors=ss_tr_big.tr_id.unique().shape[0])\n",
    "sb.lineplot(data=ss_tr_big, x='thresh',y='residual', hue='tr_id', style='location',\n",
    "            palette=palette, legend=False, **dict(alpha=0.5),\n",
    "            ax=ax\n",
    ")\n",
    "ax.set_ylabel(\"r_bcd\")\n",
    "ax.axhline(y=0, lw=2, c='r');"
   ]
  },
  {
   "cell_type": "markdown",
   "id": "5ea9e12d",
   "metadata": {},
   "source": [
    "As we can see, there are only 3 transects that flipped their r-BCD sign (depo to ero or viceversa) as a consequence of an increase in the minimum number of timesteps.\n",
    "\n",
    "In order to better decide a sub-optimal combination of thresh and min_pts that retains the majority of the transects (while keeping an eye on transects that flipped r-BCD), here below we do some plotting.\n",
    "\n",
    "First, some preprocessing..."
   ]
  },
  {
   "cell_type": "code",
   "execution_count": null,
   "id": "da6cc1fb",
   "metadata": {},
   "outputs": [],
   "source": [
    "plot_sensitivity_rbcds_transects(ss_tr_big, location='mar')"
   ]
  },
  {
   "cell_type": "markdown",
   "id": "c5ced0b5",
   "metadata": {},
   "source": [
    "# Conclusion"
   ]
  },
  {
   "cell_type": "markdown",
   "id": "72446987",
   "metadata": {},
   "source": [
    "This lenghty notebook showed what Sandpyper needs to operate and what the input data should look like. In the next notebooks I will show how all this information will be analysed in a few lines of code using Sandpyper."
   ]
  }
 ],
 "metadata": {
  "kernelspec": {
   "display_name": "Python 3",
   "language": "python",
   "name": "python3"
  },
  "language_info": {
   "codemirror_mode": {
    "name": "ipython",
    "version": 3
   },
   "file_extension": ".py",
   "mimetype": "text/x-python",
   "name": "python",
   "nbconvert_exporter": "python",
   "pygments_lexer": "ipython3",
   "version": "3.9.4"
  }
 },
 "nbformat": 4,
 "nbformat_minor": 5
}
