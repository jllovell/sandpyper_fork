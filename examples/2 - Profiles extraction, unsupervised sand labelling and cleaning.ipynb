{
 "cells": [
  {
   "cell_type": "markdown",
   "id": "5ca8c18a",
   "metadata": {},
   "source": [
    "<font size=\"5\"><center> <b>Sandpyper: sandy beaches SfM-UAV analysis tools</b></center></font>\n",
    "\n",
    "![im](images/banner.png)\n",
    "\n",
    "\n",
    "<font face=\"Calibri\">"
   ]
  },
  {
   "cell_type": "markdown",
   "id": "f28f277f",
   "metadata": {},
   "source": [
    "# Profile extraction, LoD and data cleaning"
   ]
  },
  {
   "cell_type": "markdown",
   "id": "7eee748d",
   "metadata": {},
   "source": [
    "<font size=\"3\"> <b> Nicolas Pucino; PhD Student @ Deakin University, Australia </b> <br>\n",
    "\n",
    "<b>This notebook covers the following concepts:</b>\n",
    "\n",
    "- The ProfileSet class.\n",
    "- Data extraction.\n",
    "- Limit of Detections (LoDs).\n",
    "</font>\n",
    "\n",
    "\n",
    "</font>"
   ]
  },
  {
   "cell_type": "code",
   "execution_count": 1,
   "id": "d7d2c760",
   "metadata": {},
   "outputs": [
    {
     "name": "stderr",
     "output_type": "stream",
     "text": [
      "C:\\anaconda3\\envs\\sandpyper_env\\lib\\site-packages\\pysal\\explore\\segregation\\network\\network.py:15: UserWarning: You need pandana and urbanaccess to work with segregation's network module\n",
      "You can install them with  `pip install urbanaccess pandana` or `conda install -c udst pandana urbanaccess`\n",
      "  warn(\n",
      "C:\\anaconda3\\envs\\sandpyper_env\\lib\\site-packages\\pysal\\model\\spvcm\\abstracts.py:10: UserWarning: The `dill` module is required to use the sqlite backend fully.\n",
      "  from .sqlite import head_to_sql, start_sql\n"
     ]
    }
   ],
   "source": [
    "%matplotlib notebook\n",
    "\n",
    "from pathlib import Path\n",
    "import matplotlib.pyplot as plt\n",
    "import pandas as pd\n",
    "import rasterio as ras\n",
    "from rasterio.plot import show\n",
    "\n",
    "from sandpyper.sandpyper import ProfileSet\n",
    "from sandpyper.common import get_sil_location, get_opt_k\n",
    "\n",
    "pd.options.mode.chained_assignment = None  # default='warn'"
   ]
  },
  {
   "cell_type": "markdown",
   "id": "62cf4119",
   "metadata": {},
   "source": [
    "## Introduction"
   ]
  },
  {
   "cell_type": "markdown",
   "id": "d49ee8a3",
   "metadata": {},
   "source": [
    "The __ProfileSet__ class is an object that contains all the information necessary to carry a typical *sandpyper* analysis from start to end. Once instantiated, it will contains a number of global variables that store some fundamental monitoring charasteristics such as:\n",
    "\n",
    "* paths to the data directories\n",
    "* coordinate reference systems of each site\n",
    "* location codes and search keywords\n",
    "* some monitoring parameters such as alongshore transect spacing, acrosshore sampling step and cleaning steps used\n",
    "* and of course, the elevation and colour profile data.\n",
    "\n",
    "Moreover, a few key methods will:\n",
    "\n",
    "1. extract data from the provided transects\n",
    "2. cluster extracted points using unsupervised clustering algorithm KMeans\n",
    "3. clean the dataset with user-provided watermasks, shoremasks and fine-tuning polygons.\n",
    "\n",
    "Moreover, when the __ProfileSet__ class is instantiated, it prints out the number of DSMs and orthophotos found for each location in the provided folders and it also creates a dataframe storing filenames, CRSs, location codes and raw dates extracted from the filenames. This dataframe is useful as a sanity check to see if all the information are correct before proceeding with the actual profile extraction. It will be stored as the attribute *ProfileSet.check*.\n",
    "\n",
    "Let's see here how it all works...\n",
    "\n",
    "First, create the required monitoring global settings."
   ]
  },
  {
   "cell_type": "code",
   "execution_count": 2,
   "id": "61345684",
   "metadata": {},
   "outputs": [],
   "source": [
    "# set the path to the test data folder\n",
    "test_data_folder = r\"C:\\my_packages\\sandpyper\\examples\\test_data\""
   ]
  },
  {
   "cell_type": "code",
   "execution_count": 6,
   "id": "6445d6cd",
   "metadata": {},
   "outputs": [],
   "source": [
    "# the paths to the DSM, orthophotos and transect directories\n",
    "dirNameDSM=Path(test_data_folder + r\"\\dsm_1m\")\n",
    "dirNameOrtho=Path(test_data_folder + r\"\\orthos_1m\")\n",
    "dirNameTrans=Path(test_data_folder + r\"\\transects\")\n",
    "\n",
    "# path to the LoD transects\n",
    "\n",
    "lod_mode=Path(test_data_folder + r\"\\lod_transects\")\n",
    "\n",
    "\n",
    "# the location codes used for the monitored locations\n",
    "loc_codes=[\"mar\",\"leo\"]\n",
    "\n",
    "\n",
    "# the keyword search dictionary\n",
    "loc_search_dict = {   'leo': ['St','Leonards','leonards','leo'],\n",
    "                   'mar': ['Marengo','marengo','mar'] }\n",
    "\n",
    "\n",
    "# the EPSG codes of the coordinate reference systems for each location code (location) given in CRS string format\n",
    "crs_dict_string= {\n",
    "                 'mar': {'init': 'epsg:32754'},\n",
    "                 'leo':{'init': 'epsg:32755'}\n",
    "                 }\n",
    "\n",
    "# the transect spacing of the transects\n",
    "transects_spacing=20"
   ]
  },
  {
   "cell_type": "markdown",
   "id": "707dea5f",
   "metadata": {},
   "source": [
    "Then, create an instance of the ProfileSet class. Let's set 'check' parameter to 'all' to create the check dataframe\n",
    "and store it in the variable P.check.\n"
   ]
  },
  {
   "cell_type": "code",
   "execution_count": 5,
   "id": "39067452",
   "metadata": {},
   "outputs": [
    {
     "name": "stdout",
     "output_type": "stream",
     "text": [
      "C:\\my_packages\\sandpyper\\examples\\test_data\\dsm_1m\n",
      "C:\\my_packages\\sandpyper\\examples\\test_data\\orthos_1m\n",
      "dsm from leo = 6\n",
      "\n",
      "ortho from leo = 6\n",
      "\n",
      "dsm from mar = 9\n",
      "\n",
      "ortho from mar = 9\n",
      "\n",
      "\n",
      "umber OF DATASETS TO PROCESS: 30\n"
     ]
    }
   ],
   "source": [
    "P=ProfileSet(dirNameDSM=dirNameDSM,\n",
    "            dirNameOrtho=dirNameOrtho,\n",
    "            dirNameTrans=dirNameTrans,\n",
    "            transects_spacing=transects_spacing,\n",
    "            loc_codes=loc_codes,\n",
    "            loc_search_dict=loc_search_dict,\n",
    "            crs_dict_string=crs_dict_string,\n",
    "            check=\"all\")"
   ]
  },
  {
   "cell_type": "markdown",
   "id": "e8e738d0",
   "metadata": {},
   "source": [
    "Check the infromation extracted from the formatted filenames.\n",
    "All the CRSs in a line (survey) must match!"
   ]
  },
  {
   "cell_type": "markdown",
   "id": "5d66e350",
   "metadata": {},
   "source": [
    "## Extraction of profiles from folder\n",
    "\n",
    "After checking the check dataframe and all looks right, we are ready to actually extract the data from both DSMs and orhtophotos using the *.extract_profiles* method.\n",
    "Importantly, we also extract the data for the Limit of Detections (LoD) computation, using some transects digitised over areas we expect __NOT TO BE CHANGING__ in elevation during the monitoring period, also known as calibration zones.\n",
    "\n",
    "Thus, the most important parameters to set are:\n",
    "\n",
    "1. __sampling step__: indicates the __cross-shore sampling distance (m)__ that we want to use along our transects. Beware, although you could use a very small sampling distance (UAV datasets tend to be between few to 10 cm pixel size), file dimension will increase significantly!.\n",
    "\n",
    "2. __lod__: this can be the path to a directory containing the lod transects to use as lod, a number to use as lod for all surveys in all locations or None."
   ]
  },
  {
   "cell_type": "markdown",
   "id": "f05de363",
   "metadata": {},
   "source": [
    "The parameter __mode__ is here set to 'all' as we want to extract pixel values from both the DSMs and orthophotos, while the parameter __tr_ids__ specifies the name of the field in the transect file is used to store the transect IDs."
   ]
  },
  {
   "cell_type": "code",
   "execution_count": 7,
   "id": "032dde91",
   "metadata": {},
   "outputs": [
    {
     "name": "stdout",
     "output_type": "stream",
     "text": [
      "Extracting elevation from DSMs . . .\n"
     ]
    },
    {
     "data": {
      "application/vnd.jupyter.widget-view+json": {
       "model_id": "775ca14296b54c8cb6c8f6a7b58d0b74",
       "version_major": 2,
       "version_minor": 0
      },
      "text/plain": [
       "  0%|          | 0/15 [00:00<?, ?it/s]"
      ]
     },
     "metadata": {},
     "output_type": "display_data"
    },
    {
     "data": {
      "application/vnd.jupyter.widget-view+json": {
       "model_id": "e8486f0477014fa085bf78492f5db0fd",
       "version_major": 2,
       "version_minor": 0
      },
      "text/plain": [
       "  0%|          | 0/59 [00:00<?, ?it/s]"
      ]
     },
     "metadata": {},
     "output_type": "display_data"
    },
    {
     "data": {
      "application/vnd.jupyter.widget-view+json": {
       "model_id": "3854f073e86c4c42abdd256379865726",
       "version_major": 2,
       "version_minor": 0
      },
      "text/plain": [
       "  0%|          | 0/59 [00:00<?, ?it/s]"
      ]
     },
     "metadata": {},
     "output_type": "display_data"
    },
    {
     "data": {
      "application/vnd.jupyter.widget-view+json": {
       "model_id": "e89f8cf88ad64fdea0e906a1965faea7",
       "version_major": 2,
       "version_minor": 0
      },
      "text/plain": [
       "  0%|          | 0/59 [00:00<?, ?it/s]"
      ]
     },
     "metadata": {},
     "output_type": "display_data"
    },
    {
     "data": {
      "application/vnd.jupyter.widget-view+json": {
       "model_id": "544d7c3e0c20472b8133ac8c20230adf",
       "version_major": 2,
       "version_minor": 0
      },
      "text/plain": [
       "  0%|          | 0/59 [00:00<?, ?it/s]"
      ]
     },
     "metadata": {},
     "output_type": "display_data"
    },
    {
     "data": {
      "application/vnd.jupyter.widget-view+json": {
       "model_id": "b73275d30fa842b1b355e3725aaddb49",
       "version_major": 2,
       "version_minor": 0
      },
      "text/plain": [
       "  0%|          | 0/59 [00:00<?, ?it/s]"
      ]
     },
     "metadata": {},
     "output_type": "display_data"
    },
    {
     "data": {
      "application/vnd.jupyter.widget-view+json": {
       "model_id": "9c65d2a97cc54ff690e271ae6d1bcfbf",
       "version_major": 2,
       "version_minor": 0
      },
      "text/plain": [
       "  0%|          | 0/59 [00:00<?, ?it/s]"
      ]
     },
     "metadata": {},
     "output_type": "display_data"
    },
    {
     "data": {
      "application/vnd.jupyter.widget-view+json": {
       "model_id": "69c9da6ecf7347cc85897debbeaf11b3",
       "version_major": 2,
       "version_minor": 0
      },
      "text/plain": [
       "  0%|          | 0/22 [00:00<?, ?it/s]"
      ]
     },
     "metadata": {},
     "output_type": "display_data"
    },
    {
     "data": {
      "application/vnd.jupyter.widget-view+json": {
       "model_id": "6a8c2c8f68884f398adf9d7387ad7cfd",
       "version_major": 2,
       "version_minor": 0
      },
      "text/plain": [
       "  0%|          | 0/22 [00:00<?, ?it/s]"
      ]
     },
     "metadata": {},
     "output_type": "display_data"
    },
    {
     "data": {
      "application/vnd.jupyter.widget-view+json": {
       "model_id": "8732cd0f93eb4108afe3c7c7bb3dfcd6",
       "version_major": 2,
       "version_minor": 0
      },
      "text/plain": [
       "  0%|          | 0/22 [00:00<?, ?it/s]"
      ]
     },
     "metadata": {},
     "output_type": "display_data"
    },
    {
     "data": {
      "application/vnd.jupyter.widget-view+json": {
       "model_id": "8f839b76fd9e44c49c075609432f3847",
       "version_major": 2,
       "version_minor": 0
      },
      "text/plain": [
       "  0%|          | 0/22 [00:00<?, ?it/s]"
      ]
     },
     "metadata": {},
     "output_type": "display_data"
    },
    {
     "data": {
      "application/vnd.jupyter.widget-view+json": {
       "model_id": "d4a827373efd4dfabc0f1d938b8ea60f",
       "version_major": 2,
       "version_minor": 0
      },
      "text/plain": [
       "  0%|          | 0/22 [00:00<?, ?it/s]"
      ]
     },
     "metadata": {},
     "output_type": "display_data"
    },
    {
     "data": {
      "application/vnd.jupyter.widget-view+json": {
       "model_id": "9c6b3b6d140642048b7adbd5c054f93b",
       "version_major": 2,
       "version_minor": 0
      },
      "text/plain": [
       "  0%|          | 0/22 [00:00<?, ?it/s]"
      ]
     },
     "metadata": {},
     "output_type": "display_data"
    },
    {
     "data": {
      "application/vnd.jupyter.widget-view+json": {
       "model_id": "ebefd046d12c4f6ca2d9784dae264eeb",
       "version_major": 2,
       "version_minor": 0
      },
      "text/plain": [
       "  0%|          | 0/22 [00:00<?, ?it/s]"
      ]
     },
     "metadata": {},
     "output_type": "display_data"
    },
    {
     "data": {
      "application/vnd.jupyter.widget-view+json": {
       "model_id": "f9c97659f4854016af726a1311e92e3a",
       "version_major": 2,
       "version_minor": 0
      },
      "text/plain": [
       "  0%|          | 0/22 [00:00<?, ?it/s]"
      ]
     },
     "metadata": {},
     "output_type": "display_data"
    },
    {
     "data": {
      "application/vnd.jupyter.widget-view+json": {
       "model_id": "0dd6e39f347f447595deb857cec9658f",
       "version_major": 2,
       "version_minor": 0
      },
      "text/plain": [
       "  0%|          | 0/22 [00:00<?, ?it/s]"
      ]
     },
     "metadata": {},
     "output_type": "display_data"
    },
    {
     "name": "stdout",
     "output_type": "stream",
     "text": [
      "Extraction successful\n",
      "Number of points extracted:32805\n",
      "Time for processing=38.5213041305542 seconds\n",
      "First 10 rows are printed below\n",
      "Number of points outside the raster extents: 9066\n",
      "The extraction assigns NaN.\n",
      "Number of points in NoData areas within the raster extents: 250\n",
      "The extraction assigns NaN.\n",
      "Extracting rgb values from orthos . . .\n"
     ]
    },
    {
     "data": {
      "application/vnd.jupyter.widget-view+json": {
       "model_id": "14844cf161154921be201c67825fa66d",
       "version_major": 2,
       "version_minor": 0
      },
      "text/plain": [
       "  0%|          | 0/15 [00:00<?, ?it/s]"
      ]
     },
     "metadata": {},
     "output_type": "display_data"
    },
    {
     "name": "stderr",
     "output_type": "stream",
     "text": [
      "C:\\anaconda3\\envs\\sandpyper_env\\lib\\site-packages\\geopandas\\geodataframe.py:422: RuntimeWarning: Sequential read of iterator was interrupted. Resetting iterator. This can negatively impact the performance.\n",
      "  for feature in features_lst:\n"
     ]
    },
    {
     "data": {
      "application/vnd.jupyter.widget-view+json": {
       "model_id": "616b0189e9c349b2b6f09cc500639d0e",
       "version_major": 2,
       "version_minor": 0
      },
      "text/plain": [
       "  0%|          | 0/59 [00:00<?, ?it/s]"
      ]
     },
     "metadata": {},
     "output_type": "display_data"
    },
    {
     "data": {
      "application/vnd.jupyter.widget-view+json": {
       "model_id": "a10ca8dd588349ea927569a259f2c834",
       "version_major": 2,
       "version_minor": 0
      },
      "text/plain": [
       "  0%|          | 0/59 [00:00<?, ?it/s]"
      ]
     },
     "metadata": {},
     "output_type": "display_data"
    },
    {
     "data": {
      "application/vnd.jupyter.widget-view+json": {
       "model_id": "e81a2f6b6547407c84c808c9d6bc7382",
       "version_major": 2,
       "version_minor": 0
      },
      "text/plain": [
       "  0%|          | 0/59 [00:00<?, ?it/s]"
      ]
     },
     "metadata": {},
     "output_type": "display_data"
    },
    {
     "data": {
      "application/vnd.jupyter.widget-view+json": {
       "model_id": "9690c280dc374c24804421d711f68a17",
       "version_major": 2,
       "version_minor": 0
      },
      "text/plain": [
       "  0%|          | 0/59 [00:00<?, ?it/s]"
      ]
     },
     "metadata": {},
     "output_type": "display_data"
    },
    {
     "data": {
      "application/vnd.jupyter.widget-view+json": {
       "model_id": "2af3f9e9bd47466ea9093b74d4afb388",
       "version_major": 2,
       "version_minor": 0
      },
      "text/plain": [
       "  0%|          | 0/59 [00:00<?, ?it/s]"
      ]
     },
     "metadata": {},
     "output_type": "display_data"
    },
    {
     "data": {
      "application/vnd.jupyter.widget-view+json": {
       "model_id": "834cf8927a0145258946af78b6253372",
       "version_major": 2,
       "version_minor": 0
      },
      "text/plain": [
       "  0%|          | 0/59 [00:00<?, ?it/s]"
      ]
     },
     "metadata": {},
     "output_type": "display_data"
    },
    {
     "data": {
      "application/vnd.jupyter.widget-view+json": {
       "model_id": "70f586caf1dd4da389a857fd4085ebe2",
       "version_major": 2,
       "version_minor": 0
      },
      "text/plain": [
       "  0%|          | 0/22 [00:00<?, ?it/s]"
      ]
     },
     "metadata": {},
     "output_type": "display_data"
    },
    {
     "data": {
      "application/vnd.jupyter.widget-view+json": {
       "model_id": "5ac3d651eb404659852fd9d02977fdd0",
       "version_major": 2,
       "version_minor": 0
      },
      "text/plain": [
       "  0%|          | 0/22 [00:00<?, ?it/s]"
      ]
     },
     "metadata": {},
     "output_type": "display_data"
    },
    {
     "data": {
      "application/vnd.jupyter.widget-view+json": {
       "model_id": "1caf408485d5439d8e91008f51fc6cc3",
       "version_major": 2,
       "version_minor": 0
      },
      "text/plain": [
       "  0%|          | 0/22 [00:00<?, ?it/s]"
      ]
     },
     "metadata": {},
     "output_type": "display_data"
    },
    {
     "data": {
      "application/vnd.jupyter.widget-view+json": {
       "model_id": "5c3a2b048d304031ad42e02d05e58257",
       "version_major": 2,
       "version_minor": 0
      },
      "text/plain": [
       "  0%|          | 0/22 [00:00<?, ?it/s]"
      ]
     },
     "metadata": {},
     "output_type": "display_data"
    },
    {
     "data": {
      "application/vnd.jupyter.widget-view+json": {
       "model_id": "5abe56330b934c7197d073f239c617d3",
       "version_major": 2,
       "version_minor": 0
      },
      "text/plain": [
       "  0%|          | 0/22 [00:00<?, ?it/s]"
      ]
     },
     "metadata": {},
     "output_type": "display_data"
    },
    {
     "data": {
      "application/vnd.jupyter.widget-view+json": {
       "model_id": "fd6eb22516b54f26909ae4f176d2578f",
       "version_major": 2,
       "version_minor": 0
      },
      "text/plain": [
       "  0%|          | 0/22 [00:00<?, ?it/s]"
      ]
     },
     "metadata": {},
     "output_type": "display_data"
    },
    {
     "data": {
      "application/vnd.jupyter.widget-view+json": {
       "model_id": "c4f7f9403eb24aa198921f6202b68934",
       "version_major": 2,
       "version_minor": 0
      },
      "text/plain": [
       "  0%|          | 0/22 [00:00<?, ?it/s]"
      ]
     },
     "metadata": {},
     "output_type": "display_data"
    },
    {
     "data": {
      "application/vnd.jupyter.widget-view+json": {
       "model_id": "4c72be475cf2483da322eafdae7c26c2",
       "version_major": 2,
       "version_minor": 0
      },
      "text/plain": [
       "  0%|          | 0/22 [00:00<?, ?it/s]"
      ]
     },
     "metadata": {},
     "output_type": "display_data"
    },
    {
     "data": {
      "application/vnd.jupyter.widget-view+json": {
       "model_id": "9687de3b90b146238ed60ca6fad0d9b1",
       "version_major": 2,
       "version_minor": 0
      },
      "text/plain": [
       "  0%|          | 0/22 [00:00<?, ?it/s]"
      ]
     },
     "metadata": {},
     "output_type": "display_data"
    },
    {
     "name": "stdout",
     "output_type": "stream",
     "text": [
      "Extraction successful\n",
      "Number of points extracted:32805\n",
      "Time for processing=42.96605062484741 seconds\n",
      "First 10 rows are printed below\n",
      "Number of points outside the raster extents: 27198\n",
      "The extraction assigns NaN.\n",
      "Number of points in NoData areas within the raster extents: 0\n",
      "The extraction assigns NaN.\n",
      "Extracting LoD values\n"
     ]
    },
    {
     "data": {
      "application/vnd.jupyter.widget-view+json": {
       "model_id": "43bac1fe2ae749808a0b8f6099ed1d3b",
       "version_major": 2,
       "version_minor": 0
      },
      "text/plain": [
       "  0%|          | 0/15 [00:00<?, ?it/s]"
      ]
     },
     "metadata": {},
     "output_type": "display_data"
    },
    {
     "name": "stderr",
     "output_type": "stream",
     "text": [
      "C:\\anaconda3\\envs\\sandpyper_env\\lib\\site-packages\\geopandas\\geodataframe.py:422: RuntimeWarning: Sequential read of iterator was interrupted. Resetting iterator. This can negatively impact the performance.\n",
      "  for feature in features_lst:\n"
     ]
    },
    {
     "data": {
      "application/vnd.jupyter.widget-view+json": {
       "model_id": "65b02de61a0541a198920b903d940999",
       "version_major": 2,
       "version_minor": 0
      },
      "text/plain": [
       "  0%|          | 0/7 [00:00<?, ?it/s]"
      ]
     },
     "metadata": {},
     "output_type": "display_data"
    },
    {
     "data": {
      "application/vnd.jupyter.widget-view+json": {
       "model_id": "9ec35eceebd34937b7f3fd982feaa54d",
       "version_major": 2,
       "version_minor": 0
      },
      "text/plain": [
       "  0%|          | 0/7 [00:00<?, ?it/s]"
      ]
     },
     "metadata": {},
     "output_type": "display_data"
    },
    {
     "data": {
      "application/vnd.jupyter.widget-view+json": {
       "model_id": "6a47e609e8b84f89a790f33971bb89cf",
       "version_major": 2,
       "version_minor": 0
      },
      "text/plain": [
       "  0%|          | 0/7 [00:00<?, ?it/s]"
      ]
     },
     "metadata": {},
     "output_type": "display_data"
    },
    {
     "data": {
      "application/vnd.jupyter.widget-view+json": {
       "model_id": "3a68e2c0ea3f4882b0a1e43dd0dd2f00",
       "version_major": 2,
       "version_minor": 0
      },
      "text/plain": [
       "  0%|          | 0/7 [00:00<?, ?it/s]"
      ]
     },
     "metadata": {},
     "output_type": "display_data"
    },
    {
     "data": {
      "application/vnd.jupyter.widget-view+json": {
       "model_id": "f7007e86d0b04a69806935c2f4b70b6e",
       "version_major": 2,
       "version_minor": 0
      },
      "text/plain": [
       "  0%|          | 0/7 [00:00<?, ?it/s]"
      ]
     },
     "metadata": {},
     "output_type": "display_data"
    },
    {
     "data": {
      "application/vnd.jupyter.widget-view+json": {
       "model_id": "5720a0a4dd7246f5af217aff9b4a650e",
       "version_major": 2,
       "version_minor": 0
      },
      "text/plain": [
       "  0%|          | 0/7 [00:00<?, ?it/s]"
      ]
     },
     "metadata": {},
     "output_type": "display_data"
    },
    {
     "data": {
      "application/vnd.jupyter.widget-view+json": {
       "model_id": "3a45e5edb88c4b5a8171eaca9585cd8a",
       "version_major": 2,
       "version_minor": 0
      },
      "text/plain": [
       "  0%|          | 0/6 [00:00<?, ?it/s]"
      ]
     },
     "metadata": {},
     "output_type": "display_data"
    },
    {
     "data": {
      "application/vnd.jupyter.widget-view+json": {
       "model_id": "015e67acfe2b419dbfdbb9af31404fef",
       "version_major": 2,
       "version_minor": 0
      },
      "text/plain": [
       "  0%|          | 0/6 [00:00<?, ?it/s]"
      ]
     },
     "metadata": {},
     "output_type": "display_data"
    },
    {
     "data": {
      "application/vnd.jupyter.widget-view+json": {
       "model_id": "c22f92f524bc44c2bd39898cd7bffc28",
       "version_major": 2,
       "version_minor": 0
      },
      "text/plain": [
       "  0%|          | 0/6 [00:00<?, ?it/s]"
      ]
     },
     "metadata": {},
     "output_type": "display_data"
    },
    {
     "data": {
      "application/vnd.jupyter.widget-view+json": {
       "model_id": "add4cb42cc5240338e9fffa1fe77411a",
       "version_major": 2,
       "version_minor": 0
      },
      "text/plain": [
       "  0%|          | 0/6 [00:00<?, ?it/s]"
      ]
     },
     "metadata": {},
     "output_type": "display_data"
    },
    {
     "data": {
      "application/vnd.jupyter.widget-view+json": {
       "model_id": "4f35b77a6b9c488ab59e2387194c557e",
       "version_major": 2,
       "version_minor": 0
      },
      "text/plain": [
       "  0%|          | 0/6 [00:00<?, ?it/s]"
      ]
     },
     "metadata": {},
     "output_type": "display_data"
    },
    {
     "data": {
      "application/vnd.jupyter.widget-view+json": {
       "model_id": "627ecd3901964398813d45e3f7a5aa69",
       "version_major": 2,
       "version_minor": 0
      },
      "text/plain": [
       "  0%|          | 0/6 [00:00<?, ?it/s]"
      ]
     },
     "metadata": {},
     "output_type": "display_data"
    },
    {
     "data": {
      "application/vnd.jupyter.widget-view+json": {
       "model_id": "07247449af694d01bcc3849233a9ac9b",
       "version_major": 2,
       "version_minor": 0
      },
      "text/plain": [
       "  0%|          | 0/6 [00:00<?, ?it/s]"
      ]
     },
     "metadata": {},
     "output_type": "display_data"
    },
    {
     "data": {
      "application/vnd.jupyter.widget-view+json": {
       "model_id": "d8fe918701c44233a2239d5fc39f6d04",
       "version_major": 2,
       "version_minor": 0
      },
      "text/plain": [
       "  0%|          | 0/6 [00:00<?, ?it/s]"
      ]
     },
     "metadata": {},
     "output_type": "display_data"
    },
    {
     "data": {
      "application/vnd.jupyter.widget-view+json": {
       "model_id": "a730f28d0caa4d7ba19d9cf6221b3550",
       "version_major": 2,
       "version_minor": 0
      },
      "text/plain": [
       "  0%|          | 0/6 [00:00<?, ?it/s]"
      ]
     },
     "metadata": {},
     "output_type": "display_data"
    },
    {
     "name": "stdout",
     "output_type": "stream",
     "text": [
      "Extraction successful\n",
      "Number of points extracted:1395\n",
      "Time for processing=4.722121715545654 seconds\n",
      "First 10 rows are printed below\n",
      "Number of points outside the raster extents: 27\n",
      "The extraction assigns NaN.\n",
      "Number of points in NoData areas within the raster extents: 0\n",
      "The extraction assigns NaN.\n"
     ]
    }
   ],
   "source": [
    "# run extraction from DSMs and orthos with 1m sampling steps and add X and Y fields to output geodataframe.\n",
    "# use LoDs profiles provided.\n",
    "\n",
    "P.extract_profiles(mode='all',tr_ids='tr_id',sampling_step=1,add_xy=True,lod_mode=lod_mode)"
   ]
  },
  {
   "cell_type": "markdown",
   "id": "2cd09663",
   "metadata": {},
   "source": [
    "__Note about missing values (numpy.nan)__\n",
    "\n",
    ">NaNs might come from two different cases:\n",
    ">1. extraction of points generated on transects falling __outside__ of the underlying raster extent\n",
    ">2. points sampled from transect __inside__ the raster extent but containing NoData cells.\n",
    ">\n",
    ">Conveniently, the extraction profile function makes sure that if points fall outside the raster extent (case 1), those elevations are assigned a default nan value, in the NumPy np.nan form.\n",
    ">In case 2, however, the values extracted depends on the definition of NaNs of the source raster format. In case the rasters provided do not have an assigned nan value in their metadata, the paramter __default_nan_values__ can be used to specify one."
   ]
  },
  {
   "cell_type": "markdown",
   "id": "aec78cfe",
   "metadata": {},
   "source": [
    "Done!\n",
    "\n",
    "Now the profile attribute of the ProfileSet object we are working with (here, *P*) stores the geopandas.GeoDataFrame containing the extracted data."
   ]
  },
  {
   "cell_type": "code",
   "execution_count": 8,
   "id": "e567bfba",
   "metadata": {},
   "outputs": [
    {
     "data": {
      "application/javascript": [
       "/* Put everything inside the global mpl namespace */\n",
       "/* global mpl */\n",
       "window.mpl = {};\n",
       "\n",
       "mpl.get_websocket_type = function () {\n",
       "    if (typeof WebSocket !== 'undefined') {\n",
       "        return WebSocket;\n",
       "    } else if (typeof MozWebSocket !== 'undefined') {\n",
       "        return MozWebSocket;\n",
       "    } else {\n",
       "        alert(\n",
       "            'Your browser does not have WebSocket support. ' +\n",
       "                'Please try Chrome, Safari or Firefox ≥ 6. ' +\n",
       "                'Firefox 4 and 5 are also supported but you ' +\n",
       "                'have to enable WebSockets in about:config.'\n",
       "        );\n",
       "    }\n",
       "};\n",
       "\n",
       "mpl.figure = function (figure_id, websocket, ondownload, parent_element) {\n",
       "    this.id = figure_id;\n",
       "\n",
       "    this.ws = websocket;\n",
       "\n",
       "    this.supports_binary = this.ws.binaryType !== undefined;\n",
       "\n",
       "    if (!this.supports_binary) {\n",
       "        var warnings = document.getElementById('mpl-warnings');\n",
       "        if (warnings) {\n",
       "            warnings.style.display = 'block';\n",
       "            warnings.textContent =\n",
       "                'This browser does not support binary websocket messages. ' +\n",
       "                'Performance may be slow.';\n",
       "        }\n",
       "    }\n",
       "\n",
       "    this.imageObj = new Image();\n",
       "\n",
       "    this.context = undefined;\n",
       "    this.message = undefined;\n",
       "    this.canvas = undefined;\n",
       "    this.rubberband_canvas = undefined;\n",
       "    this.rubberband_context = undefined;\n",
       "    this.format_dropdown = undefined;\n",
       "\n",
       "    this.image_mode = 'full';\n",
       "\n",
       "    this.root = document.createElement('div');\n",
       "    this.root.setAttribute('style', 'display: inline-block');\n",
       "    this._root_extra_style(this.root);\n",
       "\n",
       "    parent_element.appendChild(this.root);\n",
       "\n",
       "    this._init_header(this);\n",
       "    this._init_canvas(this);\n",
       "    this._init_toolbar(this);\n",
       "\n",
       "    var fig = this;\n",
       "\n",
       "    this.waiting = false;\n",
       "\n",
       "    this.ws.onopen = function () {\n",
       "        fig.send_message('supports_binary', { value: fig.supports_binary });\n",
       "        fig.send_message('send_image_mode', {});\n",
       "        if (fig.ratio !== 1) {\n",
       "            fig.send_message('set_dpi_ratio', { dpi_ratio: fig.ratio });\n",
       "        }\n",
       "        fig.send_message('refresh', {});\n",
       "    };\n",
       "\n",
       "    this.imageObj.onload = function () {\n",
       "        if (fig.image_mode === 'full') {\n",
       "            // Full images could contain transparency (where diff images\n",
       "            // almost always do), so we need to clear the canvas so that\n",
       "            // there is no ghosting.\n",
       "            fig.context.clearRect(0, 0, fig.canvas.width, fig.canvas.height);\n",
       "        }\n",
       "        fig.context.drawImage(fig.imageObj, 0, 0);\n",
       "    };\n",
       "\n",
       "    this.imageObj.onunload = function () {\n",
       "        fig.ws.close();\n",
       "    };\n",
       "\n",
       "    this.ws.onmessage = this._make_on_message_function(this);\n",
       "\n",
       "    this.ondownload = ondownload;\n",
       "};\n",
       "\n",
       "mpl.figure.prototype._init_header = function () {\n",
       "    var titlebar = document.createElement('div');\n",
       "    titlebar.classList =\n",
       "        'ui-dialog-titlebar ui-widget-header ui-corner-all ui-helper-clearfix';\n",
       "    var titletext = document.createElement('div');\n",
       "    titletext.classList = 'ui-dialog-title';\n",
       "    titletext.setAttribute(\n",
       "        'style',\n",
       "        'width: 100%; text-align: center; padding: 3px;'\n",
       "    );\n",
       "    titlebar.appendChild(titletext);\n",
       "    this.root.appendChild(titlebar);\n",
       "    this.header = titletext;\n",
       "};\n",
       "\n",
       "mpl.figure.prototype._canvas_extra_style = function (_canvas_div) {};\n",
       "\n",
       "mpl.figure.prototype._root_extra_style = function (_canvas_div) {};\n",
       "\n",
       "mpl.figure.prototype._init_canvas = function () {\n",
       "    var fig = this;\n",
       "\n",
       "    var canvas_div = (this.canvas_div = document.createElement('div'));\n",
       "    canvas_div.setAttribute(\n",
       "        'style',\n",
       "        'border: 1px solid #ddd;' +\n",
       "            'box-sizing: content-box;' +\n",
       "            'clear: both;' +\n",
       "            'min-height: 1px;' +\n",
       "            'min-width: 1px;' +\n",
       "            'outline: 0;' +\n",
       "            'overflow: hidden;' +\n",
       "            'position: relative;' +\n",
       "            'resize: both;'\n",
       "    );\n",
       "\n",
       "    function on_keyboard_event_closure(name) {\n",
       "        return function (event) {\n",
       "            return fig.key_event(event, name);\n",
       "        };\n",
       "    }\n",
       "\n",
       "    canvas_div.addEventListener(\n",
       "        'keydown',\n",
       "        on_keyboard_event_closure('key_press')\n",
       "    );\n",
       "    canvas_div.addEventListener(\n",
       "        'keyup',\n",
       "        on_keyboard_event_closure('key_release')\n",
       "    );\n",
       "\n",
       "    this._canvas_extra_style(canvas_div);\n",
       "    this.root.appendChild(canvas_div);\n",
       "\n",
       "    var canvas = (this.canvas = document.createElement('canvas'));\n",
       "    canvas.classList.add('mpl-canvas');\n",
       "    canvas.setAttribute('style', 'box-sizing: content-box;');\n",
       "\n",
       "    this.context = canvas.getContext('2d');\n",
       "\n",
       "    var backingStore =\n",
       "        this.context.backingStorePixelRatio ||\n",
       "        this.context.webkitBackingStorePixelRatio ||\n",
       "        this.context.mozBackingStorePixelRatio ||\n",
       "        this.context.msBackingStorePixelRatio ||\n",
       "        this.context.oBackingStorePixelRatio ||\n",
       "        this.context.backingStorePixelRatio ||\n",
       "        1;\n",
       "\n",
       "    this.ratio = (window.devicePixelRatio || 1) / backingStore;\n",
       "\n",
       "    var rubberband_canvas = (this.rubberband_canvas = document.createElement(\n",
       "        'canvas'\n",
       "    ));\n",
       "    rubberband_canvas.setAttribute(\n",
       "        'style',\n",
       "        'box-sizing: content-box; position: absolute; left: 0; top: 0; z-index: 1;'\n",
       "    );\n",
       "\n",
       "    // Apply a ponyfill if ResizeObserver is not implemented by browser.\n",
       "    if (this.ResizeObserver === undefined) {\n",
       "        if (window.ResizeObserver !== undefined) {\n",
       "            this.ResizeObserver = window.ResizeObserver;\n",
       "        } else {\n",
       "            var obs = _JSXTOOLS_RESIZE_OBSERVER({});\n",
       "            this.ResizeObserver = obs.ResizeObserver;\n",
       "        }\n",
       "    }\n",
       "\n",
       "    this.resizeObserverInstance = new this.ResizeObserver(function (entries) {\n",
       "        var nentries = entries.length;\n",
       "        for (var i = 0; i < nentries; i++) {\n",
       "            var entry = entries[i];\n",
       "            var width, height;\n",
       "            if (entry.contentBoxSize) {\n",
       "                if (entry.contentBoxSize instanceof Array) {\n",
       "                    // Chrome 84 implements new version of spec.\n",
       "                    width = entry.contentBoxSize[0].inlineSize;\n",
       "                    height = entry.contentBoxSize[0].blockSize;\n",
       "                } else {\n",
       "                    // Firefox implements old version of spec.\n",
       "                    width = entry.contentBoxSize.inlineSize;\n",
       "                    height = entry.contentBoxSize.blockSize;\n",
       "                }\n",
       "            } else {\n",
       "                // Chrome <84 implements even older version of spec.\n",
       "                width = entry.contentRect.width;\n",
       "                height = entry.contentRect.height;\n",
       "            }\n",
       "\n",
       "            // Keep the size of the canvas and rubber band canvas in sync with\n",
       "            // the canvas container.\n",
       "            if (entry.devicePixelContentBoxSize) {\n",
       "                // Chrome 84 implements new version of spec.\n",
       "                canvas.setAttribute(\n",
       "                    'width',\n",
       "                    entry.devicePixelContentBoxSize[0].inlineSize\n",
       "                );\n",
       "                canvas.setAttribute(\n",
       "                    'height',\n",
       "                    entry.devicePixelContentBoxSize[0].blockSize\n",
       "                );\n",
       "            } else {\n",
       "                canvas.setAttribute('width', width * fig.ratio);\n",
       "                canvas.setAttribute('height', height * fig.ratio);\n",
       "            }\n",
       "            canvas.setAttribute(\n",
       "                'style',\n",
       "                'width: ' + width + 'px; height: ' + height + 'px;'\n",
       "            );\n",
       "\n",
       "            rubberband_canvas.setAttribute('width', width);\n",
       "            rubberband_canvas.setAttribute('height', height);\n",
       "\n",
       "            // And update the size in Python. We ignore the initial 0/0 size\n",
       "            // that occurs as the element is placed into the DOM, which should\n",
       "            // otherwise not happen due to the minimum size styling.\n",
       "            if (fig.ws.readyState == 1 && width != 0 && height != 0) {\n",
       "                fig.request_resize(width, height);\n",
       "            }\n",
       "        }\n",
       "    });\n",
       "    this.resizeObserverInstance.observe(canvas_div);\n",
       "\n",
       "    function on_mouse_event_closure(name) {\n",
       "        return function (event) {\n",
       "            return fig.mouse_event(event, name);\n",
       "        };\n",
       "    }\n",
       "\n",
       "    rubberband_canvas.addEventListener(\n",
       "        'mousedown',\n",
       "        on_mouse_event_closure('button_press')\n",
       "    );\n",
       "    rubberband_canvas.addEventListener(\n",
       "        'mouseup',\n",
       "        on_mouse_event_closure('button_release')\n",
       "    );\n",
       "    // Throttle sequential mouse events to 1 every 20ms.\n",
       "    rubberband_canvas.addEventListener(\n",
       "        'mousemove',\n",
       "        on_mouse_event_closure('motion_notify')\n",
       "    );\n",
       "\n",
       "    rubberband_canvas.addEventListener(\n",
       "        'mouseenter',\n",
       "        on_mouse_event_closure('figure_enter')\n",
       "    );\n",
       "    rubberband_canvas.addEventListener(\n",
       "        'mouseleave',\n",
       "        on_mouse_event_closure('figure_leave')\n",
       "    );\n",
       "\n",
       "    canvas_div.addEventListener('wheel', function (event) {\n",
       "        if (event.deltaY < 0) {\n",
       "            event.step = 1;\n",
       "        } else {\n",
       "            event.step = -1;\n",
       "        }\n",
       "        on_mouse_event_closure('scroll')(event);\n",
       "    });\n",
       "\n",
       "    canvas_div.appendChild(canvas);\n",
       "    canvas_div.appendChild(rubberband_canvas);\n",
       "\n",
       "    this.rubberband_context = rubberband_canvas.getContext('2d');\n",
       "    this.rubberband_context.strokeStyle = '#000000';\n",
       "\n",
       "    this._resize_canvas = function (width, height, forward) {\n",
       "        if (forward) {\n",
       "            canvas_div.style.width = width + 'px';\n",
       "            canvas_div.style.height = height + 'px';\n",
       "        }\n",
       "    };\n",
       "\n",
       "    // Disable right mouse context menu.\n",
       "    this.rubberband_canvas.addEventListener('contextmenu', function (_e) {\n",
       "        event.preventDefault();\n",
       "        return false;\n",
       "    });\n",
       "\n",
       "    function set_focus() {\n",
       "        canvas.focus();\n",
       "        canvas_div.focus();\n",
       "    }\n",
       "\n",
       "    window.setTimeout(set_focus, 100);\n",
       "};\n",
       "\n",
       "mpl.figure.prototype._init_toolbar = function () {\n",
       "    var fig = this;\n",
       "\n",
       "    var toolbar = document.createElement('div');\n",
       "    toolbar.classList = 'mpl-toolbar';\n",
       "    this.root.appendChild(toolbar);\n",
       "\n",
       "    function on_click_closure(name) {\n",
       "        return function (_event) {\n",
       "            return fig.toolbar_button_onclick(name);\n",
       "        };\n",
       "    }\n",
       "\n",
       "    function on_mouseover_closure(tooltip) {\n",
       "        return function (event) {\n",
       "            if (!event.currentTarget.disabled) {\n",
       "                return fig.toolbar_button_onmouseover(tooltip);\n",
       "            }\n",
       "        };\n",
       "    }\n",
       "\n",
       "    fig.buttons = {};\n",
       "    var buttonGroup = document.createElement('div');\n",
       "    buttonGroup.classList = 'mpl-button-group';\n",
       "    for (var toolbar_ind in mpl.toolbar_items) {\n",
       "        var name = mpl.toolbar_items[toolbar_ind][0];\n",
       "        var tooltip = mpl.toolbar_items[toolbar_ind][1];\n",
       "        var image = mpl.toolbar_items[toolbar_ind][2];\n",
       "        var method_name = mpl.toolbar_items[toolbar_ind][3];\n",
       "\n",
       "        if (!name) {\n",
       "            /* Instead of a spacer, we start a new button group. */\n",
       "            if (buttonGroup.hasChildNodes()) {\n",
       "                toolbar.appendChild(buttonGroup);\n",
       "            }\n",
       "            buttonGroup = document.createElement('div');\n",
       "            buttonGroup.classList = 'mpl-button-group';\n",
       "            continue;\n",
       "        }\n",
       "\n",
       "        var button = (fig.buttons[name] = document.createElement('button'));\n",
       "        button.classList = 'mpl-widget';\n",
       "        button.setAttribute('role', 'button');\n",
       "        button.setAttribute('aria-disabled', 'false');\n",
       "        button.addEventListener('click', on_click_closure(method_name));\n",
       "        button.addEventListener('mouseover', on_mouseover_closure(tooltip));\n",
       "\n",
       "        var icon_img = document.createElement('img');\n",
       "        icon_img.src = '_images/' + image + '.png';\n",
       "        icon_img.srcset = '_images/' + image + '_large.png 2x';\n",
       "        icon_img.alt = tooltip;\n",
       "        button.appendChild(icon_img);\n",
       "\n",
       "        buttonGroup.appendChild(button);\n",
       "    }\n",
       "\n",
       "    if (buttonGroup.hasChildNodes()) {\n",
       "        toolbar.appendChild(buttonGroup);\n",
       "    }\n",
       "\n",
       "    var fmt_picker = document.createElement('select');\n",
       "    fmt_picker.classList = 'mpl-widget';\n",
       "    toolbar.appendChild(fmt_picker);\n",
       "    this.format_dropdown = fmt_picker;\n",
       "\n",
       "    for (var ind in mpl.extensions) {\n",
       "        var fmt = mpl.extensions[ind];\n",
       "        var option = document.createElement('option');\n",
       "        option.selected = fmt === mpl.default_extension;\n",
       "        option.innerHTML = fmt;\n",
       "        fmt_picker.appendChild(option);\n",
       "    }\n",
       "\n",
       "    var status_bar = document.createElement('span');\n",
       "    status_bar.classList = 'mpl-message';\n",
       "    toolbar.appendChild(status_bar);\n",
       "    this.message = status_bar;\n",
       "};\n",
       "\n",
       "mpl.figure.prototype.request_resize = function (x_pixels, y_pixels) {\n",
       "    // Request matplotlib to resize the figure. Matplotlib will then trigger a resize in the client,\n",
       "    // which will in turn request a refresh of the image.\n",
       "    this.send_message('resize', { width: x_pixels, height: y_pixels });\n",
       "};\n",
       "\n",
       "mpl.figure.prototype.send_message = function (type, properties) {\n",
       "    properties['type'] = type;\n",
       "    properties['figure_id'] = this.id;\n",
       "    this.ws.send(JSON.stringify(properties));\n",
       "};\n",
       "\n",
       "mpl.figure.prototype.send_draw_message = function () {\n",
       "    if (!this.waiting) {\n",
       "        this.waiting = true;\n",
       "        this.ws.send(JSON.stringify({ type: 'draw', figure_id: this.id }));\n",
       "    }\n",
       "};\n",
       "\n",
       "mpl.figure.prototype.handle_save = function (fig, _msg) {\n",
       "    var format_dropdown = fig.format_dropdown;\n",
       "    var format = format_dropdown.options[format_dropdown.selectedIndex].value;\n",
       "    fig.ondownload(fig, format);\n",
       "};\n",
       "\n",
       "mpl.figure.prototype.handle_resize = function (fig, msg) {\n",
       "    var size = msg['size'];\n",
       "    if (size[0] !== fig.canvas.width || size[1] !== fig.canvas.height) {\n",
       "        fig._resize_canvas(size[0], size[1], msg['forward']);\n",
       "        fig.send_message('refresh', {});\n",
       "    }\n",
       "};\n",
       "\n",
       "mpl.figure.prototype.handle_rubberband = function (fig, msg) {\n",
       "    var x0 = msg['x0'] / fig.ratio;\n",
       "    var y0 = (fig.canvas.height - msg['y0']) / fig.ratio;\n",
       "    var x1 = msg['x1'] / fig.ratio;\n",
       "    var y1 = (fig.canvas.height - msg['y1']) / fig.ratio;\n",
       "    x0 = Math.floor(x0) + 0.5;\n",
       "    y0 = Math.floor(y0) + 0.5;\n",
       "    x1 = Math.floor(x1) + 0.5;\n",
       "    y1 = Math.floor(y1) + 0.5;\n",
       "    var min_x = Math.min(x0, x1);\n",
       "    var min_y = Math.min(y0, y1);\n",
       "    var width = Math.abs(x1 - x0);\n",
       "    var height = Math.abs(y1 - y0);\n",
       "\n",
       "    fig.rubberband_context.clearRect(\n",
       "        0,\n",
       "        0,\n",
       "        fig.canvas.width / fig.ratio,\n",
       "        fig.canvas.height / fig.ratio\n",
       "    );\n",
       "\n",
       "    fig.rubberband_context.strokeRect(min_x, min_y, width, height);\n",
       "};\n",
       "\n",
       "mpl.figure.prototype.handle_figure_label = function (fig, msg) {\n",
       "    // Updates the figure title.\n",
       "    fig.header.textContent = msg['label'];\n",
       "};\n",
       "\n",
       "mpl.figure.prototype.handle_cursor = function (fig, msg) {\n",
       "    var cursor = msg['cursor'];\n",
       "    switch (cursor) {\n",
       "        case 0:\n",
       "            cursor = 'pointer';\n",
       "            break;\n",
       "        case 1:\n",
       "            cursor = 'default';\n",
       "            break;\n",
       "        case 2:\n",
       "            cursor = 'crosshair';\n",
       "            break;\n",
       "        case 3:\n",
       "            cursor = 'move';\n",
       "            break;\n",
       "    }\n",
       "    fig.rubberband_canvas.style.cursor = cursor;\n",
       "};\n",
       "\n",
       "mpl.figure.prototype.handle_message = function (fig, msg) {\n",
       "    fig.message.textContent = msg['message'];\n",
       "};\n",
       "\n",
       "mpl.figure.prototype.handle_draw = function (fig, _msg) {\n",
       "    // Request the server to send over a new figure.\n",
       "    fig.send_draw_message();\n",
       "};\n",
       "\n",
       "mpl.figure.prototype.handle_image_mode = function (fig, msg) {\n",
       "    fig.image_mode = msg['mode'];\n",
       "};\n",
       "\n",
       "mpl.figure.prototype.handle_history_buttons = function (fig, msg) {\n",
       "    for (var key in msg) {\n",
       "        if (!(key in fig.buttons)) {\n",
       "            continue;\n",
       "        }\n",
       "        fig.buttons[key].disabled = !msg[key];\n",
       "        fig.buttons[key].setAttribute('aria-disabled', !msg[key]);\n",
       "    }\n",
       "};\n",
       "\n",
       "mpl.figure.prototype.handle_navigate_mode = function (fig, msg) {\n",
       "    if (msg['mode'] === 'PAN') {\n",
       "        fig.buttons['Pan'].classList.add('active');\n",
       "        fig.buttons['Zoom'].classList.remove('active');\n",
       "    } else if (msg['mode'] === 'ZOOM') {\n",
       "        fig.buttons['Pan'].classList.remove('active');\n",
       "        fig.buttons['Zoom'].classList.add('active');\n",
       "    } else {\n",
       "        fig.buttons['Pan'].classList.remove('active');\n",
       "        fig.buttons['Zoom'].classList.remove('active');\n",
       "    }\n",
       "};\n",
       "\n",
       "mpl.figure.prototype.updated_canvas_event = function () {\n",
       "    // Called whenever the canvas gets updated.\n",
       "    this.send_message('ack', {});\n",
       "};\n",
       "\n",
       "// A function to construct a web socket function for onmessage handling.\n",
       "// Called in the figure constructor.\n",
       "mpl.figure.prototype._make_on_message_function = function (fig) {\n",
       "    return function socket_on_message(evt) {\n",
       "        if (evt.data instanceof Blob) {\n",
       "            /* FIXME: We get \"Resource interpreted as Image but\n",
       "             * transferred with MIME type text/plain:\" errors on\n",
       "             * Chrome.  But how to set the MIME type?  It doesn't seem\n",
       "             * to be part of the websocket stream */\n",
       "            evt.data.type = 'image/png';\n",
       "\n",
       "            /* Free the memory for the previous frames */\n",
       "            if (fig.imageObj.src) {\n",
       "                (window.URL || window.webkitURL).revokeObjectURL(\n",
       "                    fig.imageObj.src\n",
       "                );\n",
       "            }\n",
       "\n",
       "            fig.imageObj.src = (window.URL || window.webkitURL).createObjectURL(\n",
       "                evt.data\n",
       "            );\n",
       "            fig.updated_canvas_event();\n",
       "            fig.waiting = false;\n",
       "            return;\n",
       "        } else if (\n",
       "            typeof evt.data === 'string' &&\n",
       "            evt.data.slice(0, 21) === 'data:image/png;base64'\n",
       "        ) {\n",
       "            fig.imageObj.src = evt.data;\n",
       "            fig.updated_canvas_event();\n",
       "            fig.waiting = false;\n",
       "            return;\n",
       "        }\n",
       "\n",
       "        var msg = JSON.parse(evt.data);\n",
       "        var msg_type = msg['type'];\n",
       "\n",
       "        // Call the  \"handle_{type}\" callback, which takes\n",
       "        // the figure and JSON message as its only arguments.\n",
       "        try {\n",
       "            var callback = fig['handle_' + msg_type];\n",
       "        } catch (e) {\n",
       "            console.log(\n",
       "                \"No handler for the '\" + msg_type + \"' message type: \",\n",
       "                msg\n",
       "            );\n",
       "            return;\n",
       "        }\n",
       "\n",
       "        if (callback) {\n",
       "            try {\n",
       "                // console.log(\"Handling '\" + msg_type + \"' message: \", msg);\n",
       "                callback(fig, msg);\n",
       "            } catch (e) {\n",
       "                console.log(\n",
       "                    \"Exception inside the 'handler_\" + msg_type + \"' callback:\",\n",
       "                    e,\n",
       "                    e.stack,\n",
       "                    msg\n",
       "                );\n",
       "            }\n",
       "        }\n",
       "    };\n",
       "};\n",
       "\n",
       "// from http://stackoverflow.com/questions/1114465/getting-mouse-location-in-canvas\n",
       "mpl.findpos = function (e) {\n",
       "    //this section is from http://www.quirksmode.org/js/events_properties.html\n",
       "    var targ;\n",
       "    if (!e) {\n",
       "        e = window.event;\n",
       "    }\n",
       "    if (e.target) {\n",
       "        targ = e.target;\n",
       "    } else if (e.srcElement) {\n",
       "        targ = e.srcElement;\n",
       "    }\n",
       "    if (targ.nodeType === 3) {\n",
       "        // defeat Safari bug\n",
       "        targ = targ.parentNode;\n",
       "    }\n",
       "\n",
       "    // pageX,Y are the mouse positions relative to the document\n",
       "    var boundingRect = targ.getBoundingClientRect();\n",
       "    var x = e.pageX - (boundingRect.left + document.body.scrollLeft);\n",
       "    var y = e.pageY - (boundingRect.top + document.body.scrollTop);\n",
       "\n",
       "    return { x: x, y: y };\n",
       "};\n",
       "\n",
       "/*\n",
       " * return a copy of an object with only non-object keys\n",
       " * we need this to avoid circular references\n",
       " * http://stackoverflow.com/a/24161582/3208463\n",
       " */\n",
       "function simpleKeys(original) {\n",
       "    return Object.keys(original).reduce(function (obj, key) {\n",
       "        if (typeof original[key] !== 'object') {\n",
       "            obj[key] = original[key];\n",
       "        }\n",
       "        return obj;\n",
       "    }, {});\n",
       "}\n",
       "\n",
       "mpl.figure.prototype.mouse_event = function (event, name) {\n",
       "    var canvas_pos = mpl.findpos(event);\n",
       "\n",
       "    if (name === 'button_press') {\n",
       "        this.canvas.focus();\n",
       "        this.canvas_div.focus();\n",
       "    }\n",
       "\n",
       "    var x = canvas_pos.x * this.ratio;\n",
       "    var y = canvas_pos.y * this.ratio;\n",
       "\n",
       "    this.send_message(name, {\n",
       "        x: x,\n",
       "        y: y,\n",
       "        button: event.button,\n",
       "        step: event.step,\n",
       "        guiEvent: simpleKeys(event),\n",
       "    });\n",
       "\n",
       "    /* This prevents the web browser from automatically changing to\n",
       "     * the text insertion cursor when the button is pressed.  We want\n",
       "     * to control all of the cursor setting manually through the\n",
       "     * 'cursor' event from matplotlib */\n",
       "    event.preventDefault();\n",
       "    return false;\n",
       "};\n",
       "\n",
       "mpl.figure.prototype._key_event_extra = function (_event, _name) {\n",
       "    // Handle any extra behaviour associated with a key event\n",
       "};\n",
       "\n",
       "mpl.figure.prototype.key_event = function (event, name) {\n",
       "    // Prevent repeat events\n",
       "    if (name === 'key_press') {\n",
       "        if (event.which === this._key) {\n",
       "            return;\n",
       "        } else {\n",
       "            this._key = event.which;\n",
       "        }\n",
       "    }\n",
       "    if (name === 'key_release') {\n",
       "        this._key = null;\n",
       "    }\n",
       "\n",
       "    var value = '';\n",
       "    if (event.ctrlKey && event.which !== 17) {\n",
       "        value += 'ctrl+';\n",
       "    }\n",
       "    if (event.altKey && event.which !== 18) {\n",
       "        value += 'alt+';\n",
       "    }\n",
       "    if (event.shiftKey && event.which !== 16) {\n",
       "        value += 'shift+';\n",
       "    }\n",
       "\n",
       "    value += 'k';\n",
       "    value += event.which.toString();\n",
       "\n",
       "    this._key_event_extra(event, name);\n",
       "\n",
       "    this.send_message(name, { key: value, guiEvent: simpleKeys(event) });\n",
       "    return false;\n",
       "};\n",
       "\n",
       "mpl.figure.prototype.toolbar_button_onclick = function (name) {\n",
       "    if (name === 'download') {\n",
       "        this.handle_save(this, null);\n",
       "    } else {\n",
       "        this.send_message('toolbar_button', { name: name });\n",
       "    }\n",
       "};\n",
       "\n",
       "mpl.figure.prototype.toolbar_button_onmouseover = function (tooltip) {\n",
       "    this.message.textContent = tooltip;\n",
       "};\n",
       "\n",
       "///////////////// REMAINING CONTENT GENERATED BY embed_js.py /////////////////\n",
       "// prettier-ignore\n",
       "var _JSXTOOLS_RESIZE_OBSERVER=function(A){var t,i=new WeakMap,n=new WeakMap,a=new WeakMap,r=new WeakMap,o=new Set;function s(e){if(!(this instanceof s))throw new TypeError(\"Constructor requires 'new' operator\");i.set(this,e)}function h(){throw new TypeError(\"Function is not a constructor\")}function c(e,t,i,n){e=0 in arguments?Number(arguments[0]):0,t=1 in arguments?Number(arguments[1]):0,i=2 in arguments?Number(arguments[2]):0,n=3 in arguments?Number(arguments[3]):0,this.right=(this.x=this.left=e)+(this.width=i),this.bottom=(this.y=this.top=t)+(this.height=n),Object.freeze(this)}function d(){t=requestAnimationFrame(d);var s=new WeakMap,p=new Set;o.forEach((function(t){r.get(t).forEach((function(i){var r=t instanceof window.SVGElement,o=a.get(t),d=r?0:parseFloat(o.paddingTop),f=r?0:parseFloat(o.paddingRight),l=r?0:parseFloat(o.paddingBottom),u=r?0:parseFloat(o.paddingLeft),g=r?0:parseFloat(o.borderTopWidth),m=r?0:parseFloat(o.borderRightWidth),w=r?0:parseFloat(o.borderBottomWidth),b=u+f,F=d+l,v=(r?0:parseFloat(o.borderLeftWidth))+m,W=g+w,y=r?0:t.offsetHeight-W-t.clientHeight,E=r?0:t.offsetWidth-v-t.clientWidth,R=b+v,z=F+W,M=r?t.width:parseFloat(o.width)-R-E,O=r?t.height:parseFloat(o.height)-z-y;if(n.has(t)){var k=n.get(t);if(k[0]===M&&k[1]===O)return}n.set(t,[M,O]);var S=Object.create(h.prototype);S.target=t,S.contentRect=new c(u,d,M,O),s.has(i)||(s.set(i,[]),p.add(i)),s.get(i).push(S)}))})),p.forEach((function(e){i.get(e).call(e,s.get(e),e)}))}return s.prototype.observe=function(i){if(i instanceof window.Element){r.has(i)||(r.set(i,new Set),o.add(i),a.set(i,window.getComputedStyle(i)));var n=r.get(i);n.has(this)||n.add(this),cancelAnimationFrame(t),t=requestAnimationFrame(d)}},s.prototype.unobserve=function(i){if(i instanceof window.Element&&r.has(i)){var n=r.get(i);n.has(this)&&(n.delete(this),n.size||(r.delete(i),o.delete(i))),n.size||r.delete(i),o.size||cancelAnimationFrame(t)}},A.DOMRectReadOnly=c,A.ResizeObserver=s,A.ResizeObserverEntry=h,A}; // eslint-disable-line\n",
       "mpl.toolbar_items = [[\"Home\", \"Reset original view\", \"fa fa-home icon-home\", \"home\"], [\"Back\", \"Back to previous view\", \"fa fa-arrow-left icon-arrow-left\", \"back\"], [\"Forward\", \"Forward to next view\", \"fa fa-arrow-right icon-arrow-right\", \"forward\"], [\"\", \"\", \"\", \"\"], [\"Pan\", \"Left button pans, Right button zooms\\nx/y fixes axis, CTRL fixes aspect\", \"fa fa-arrows icon-move\", \"pan\"], [\"Zoom\", \"Zoom to rectangle\\nx/y fixes axis, CTRL fixes aspect\", \"fa fa-square-o icon-check-empty\", \"zoom\"], [\"\", \"\", \"\", \"\"], [\"Download\", \"Download plot\", \"fa fa-floppy-o icon-save\", \"download\"]];\n",
       "\n",
       "mpl.extensions = [\"eps\", \"jpeg\", \"pdf\", \"png\", \"ps\", \"raw\", \"svg\", \"tif\"];\n",
       "\n",
       "mpl.default_extension = \"png\";/* global mpl */\n",
       "\n",
       "var comm_websocket_adapter = function (comm) {\n",
       "    // Create a \"websocket\"-like object which calls the given IPython comm\n",
       "    // object with the appropriate methods. Currently this is a non binary\n",
       "    // socket, so there is still some room for performance tuning.\n",
       "    var ws = {};\n",
       "\n",
       "    ws.close = function () {\n",
       "        comm.close();\n",
       "    };\n",
       "    ws.send = function (m) {\n",
       "        //console.log('sending', m);\n",
       "        comm.send(m);\n",
       "    };\n",
       "    // Register the callback with on_msg.\n",
       "    comm.on_msg(function (msg) {\n",
       "        //console.log('receiving', msg['content']['data'], msg);\n",
       "        // Pass the mpl event to the overridden (by mpl) onmessage function.\n",
       "        ws.onmessage(msg['content']['data']);\n",
       "    });\n",
       "    return ws;\n",
       "};\n",
       "\n",
       "mpl.mpl_figure_comm = function (comm, msg) {\n",
       "    // This is the function which gets called when the mpl process\n",
       "    // starts-up an IPython Comm through the \"matplotlib\" channel.\n",
       "\n",
       "    var id = msg.content.data.id;\n",
       "    // Get hold of the div created by the display call when the Comm\n",
       "    // socket was opened in Python.\n",
       "    var element = document.getElementById(id);\n",
       "    var ws_proxy = comm_websocket_adapter(comm);\n",
       "\n",
       "    function ondownload(figure, _format) {\n",
       "        window.open(figure.canvas.toDataURL());\n",
       "    }\n",
       "\n",
       "    var fig = new mpl.figure(id, ws_proxy, ondownload, element);\n",
       "\n",
       "    // Call onopen now - mpl needs it, as it is assuming we've passed it a real\n",
       "    // web socket which is closed, not our websocket->open comm proxy.\n",
       "    ws_proxy.onopen();\n",
       "\n",
       "    fig.parent_element = element;\n",
       "    fig.cell_info = mpl.find_output_cell(\"<div id='\" + id + \"'></div>\");\n",
       "    if (!fig.cell_info) {\n",
       "        console.error('Failed to find cell for figure', id, fig);\n",
       "        return;\n",
       "    }\n",
       "    fig.cell_info[0].output_area.element.on(\n",
       "        'cleared',\n",
       "        { fig: fig },\n",
       "        fig._remove_fig_handler\n",
       "    );\n",
       "};\n",
       "\n",
       "mpl.figure.prototype.handle_close = function (fig, msg) {\n",
       "    var width = fig.canvas.width / fig.ratio;\n",
       "    fig.cell_info[0].output_area.element.off(\n",
       "        'cleared',\n",
       "        fig._remove_fig_handler\n",
       "    );\n",
       "    fig.resizeObserverInstance.unobserve(fig.canvas_div);\n",
       "\n",
       "    // Update the output cell to use the data from the current canvas.\n",
       "    fig.push_to_output();\n",
       "    var dataURL = fig.canvas.toDataURL();\n",
       "    // Re-enable the keyboard manager in IPython - without this line, in FF,\n",
       "    // the notebook keyboard shortcuts fail.\n",
       "    IPython.keyboard_manager.enable();\n",
       "    fig.parent_element.innerHTML =\n",
       "        '<img src=\"' + dataURL + '\" width=\"' + width + '\">';\n",
       "    fig.close_ws(fig, msg);\n",
       "};\n",
       "\n",
       "mpl.figure.prototype.close_ws = function (fig, msg) {\n",
       "    fig.send_message('closing', msg);\n",
       "    // fig.ws.close()\n",
       "};\n",
       "\n",
       "mpl.figure.prototype.push_to_output = function (_remove_interactive) {\n",
       "    // Turn the data on the canvas into data in the output cell.\n",
       "    var width = this.canvas.width / this.ratio;\n",
       "    var dataURL = this.canvas.toDataURL();\n",
       "    this.cell_info[1]['text/html'] =\n",
       "        '<img src=\"' + dataURL + '\" width=\"' + width + '\">';\n",
       "};\n",
       "\n",
       "mpl.figure.prototype.updated_canvas_event = function () {\n",
       "    // Tell IPython that the notebook contents must change.\n",
       "    IPython.notebook.set_dirty(true);\n",
       "    this.send_message('ack', {});\n",
       "    var fig = this;\n",
       "    // Wait a second, then push the new image to the DOM so\n",
       "    // that it is saved nicely (might be nice to debounce this).\n",
       "    setTimeout(function () {\n",
       "        fig.push_to_output();\n",
       "    }, 1000);\n",
       "};\n",
       "\n",
       "mpl.figure.prototype._init_toolbar = function () {\n",
       "    var fig = this;\n",
       "\n",
       "    var toolbar = document.createElement('div');\n",
       "    toolbar.classList = 'btn-toolbar';\n",
       "    this.root.appendChild(toolbar);\n",
       "\n",
       "    function on_click_closure(name) {\n",
       "        return function (_event) {\n",
       "            return fig.toolbar_button_onclick(name);\n",
       "        };\n",
       "    }\n",
       "\n",
       "    function on_mouseover_closure(tooltip) {\n",
       "        return function (event) {\n",
       "            if (!event.currentTarget.disabled) {\n",
       "                return fig.toolbar_button_onmouseover(tooltip);\n",
       "            }\n",
       "        };\n",
       "    }\n",
       "\n",
       "    fig.buttons = {};\n",
       "    var buttonGroup = document.createElement('div');\n",
       "    buttonGroup.classList = 'btn-group';\n",
       "    var button;\n",
       "    for (var toolbar_ind in mpl.toolbar_items) {\n",
       "        var name = mpl.toolbar_items[toolbar_ind][0];\n",
       "        var tooltip = mpl.toolbar_items[toolbar_ind][1];\n",
       "        var image = mpl.toolbar_items[toolbar_ind][2];\n",
       "        var method_name = mpl.toolbar_items[toolbar_ind][3];\n",
       "\n",
       "        if (!name) {\n",
       "            /* Instead of a spacer, we start a new button group. */\n",
       "            if (buttonGroup.hasChildNodes()) {\n",
       "                toolbar.appendChild(buttonGroup);\n",
       "            }\n",
       "            buttonGroup = document.createElement('div');\n",
       "            buttonGroup.classList = 'btn-group';\n",
       "            continue;\n",
       "        }\n",
       "\n",
       "        button = fig.buttons[name] = document.createElement('button');\n",
       "        button.classList = 'btn btn-default';\n",
       "        button.href = '#';\n",
       "        button.title = name;\n",
       "        button.innerHTML = '<i class=\"fa ' + image + ' fa-lg\"></i>';\n",
       "        button.addEventListener('click', on_click_closure(method_name));\n",
       "        button.addEventListener('mouseover', on_mouseover_closure(tooltip));\n",
       "        buttonGroup.appendChild(button);\n",
       "    }\n",
       "\n",
       "    if (buttonGroup.hasChildNodes()) {\n",
       "        toolbar.appendChild(buttonGroup);\n",
       "    }\n",
       "\n",
       "    // Add the status bar.\n",
       "    var status_bar = document.createElement('span');\n",
       "    status_bar.classList = 'mpl-message pull-right';\n",
       "    toolbar.appendChild(status_bar);\n",
       "    this.message = status_bar;\n",
       "\n",
       "    // Add the close button to the window.\n",
       "    var buttongrp = document.createElement('div');\n",
       "    buttongrp.classList = 'btn-group inline pull-right';\n",
       "    button = document.createElement('button');\n",
       "    button.classList = 'btn btn-mini btn-primary';\n",
       "    button.href = '#';\n",
       "    button.title = 'Stop Interaction';\n",
       "    button.innerHTML = '<i class=\"fa fa-power-off icon-remove icon-large\"></i>';\n",
       "    button.addEventListener('click', function (_evt) {\n",
       "        fig.handle_close(fig, {});\n",
       "    });\n",
       "    button.addEventListener(\n",
       "        'mouseover',\n",
       "        on_mouseover_closure('Stop Interaction')\n",
       "    );\n",
       "    buttongrp.appendChild(button);\n",
       "    var titlebar = this.root.querySelector('.ui-dialog-titlebar');\n",
       "    titlebar.insertBefore(buttongrp, titlebar.firstChild);\n",
       "};\n",
       "\n",
       "mpl.figure.prototype._remove_fig_handler = function (event) {\n",
       "    var fig = event.data.fig;\n",
       "    if (event.target !== this) {\n",
       "        // Ignore bubbled events from children.\n",
       "        return;\n",
       "    }\n",
       "    fig.close_ws(fig, {});\n",
       "};\n",
       "\n",
       "mpl.figure.prototype._root_extra_style = function (el) {\n",
       "    el.style.boxSizing = 'content-box'; // override notebook setting of border-box.\n",
       "};\n",
       "\n",
       "mpl.figure.prototype._canvas_extra_style = function (el) {\n",
       "    // this is important to make the div 'focusable\n",
       "    el.setAttribute('tabindex', 0);\n",
       "    // reach out to IPython and tell the keyboard manager to turn it's self\n",
       "    // off when our div gets focus\n",
       "\n",
       "    // location in version 3\n",
       "    if (IPython.notebook.keyboard_manager) {\n",
       "        IPython.notebook.keyboard_manager.register_events(el);\n",
       "    } else {\n",
       "        // location in version 2\n",
       "        IPython.keyboard_manager.register_events(el);\n",
       "    }\n",
       "};\n",
       "\n",
       "mpl.figure.prototype._key_event_extra = function (event, _name) {\n",
       "    var manager = IPython.notebook.keyboard_manager;\n",
       "    if (!manager) {\n",
       "        manager = IPython.keyboard_manager;\n",
       "    }\n",
       "\n",
       "    // Check for shift+enter\n",
       "    if (event.shiftKey && event.which === 13) {\n",
       "        this.canvas_div.blur();\n",
       "        // select the cell after this one\n",
       "        var index = IPython.notebook.find_cell_index(this.cell_info[0]);\n",
       "        IPython.notebook.select(index + 1);\n",
       "    }\n",
       "};\n",
       "\n",
       "mpl.figure.prototype.handle_save = function (fig, _msg) {\n",
       "    fig.ondownload(fig, null);\n",
       "};\n",
       "\n",
       "mpl.find_output_cell = function (html_output) {\n",
       "    // Return the cell and output element which can be found *uniquely* in the notebook.\n",
       "    // Note - this is a bit hacky, but it is done because the \"notebook_saving.Notebook\"\n",
       "    // IPython event is triggered only after the cells have been serialised, which for\n",
       "    // our purposes (turning an active figure into a static one), is too late.\n",
       "    var cells = IPython.notebook.get_cells();\n",
       "    var ncells = cells.length;\n",
       "    for (var i = 0; i < ncells; i++) {\n",
       "        var cell = cells[i];\n",
       "        if (cell.cell_type === 'code') {\n",
       "            for (var j = 0; j < cell.output_area.outputs.length; j++) {\n",
       "                var data = cell.output_area.outputs[j];\n",
       "                if (data.data) {\n",
       "                    // IPython >= 3 moved mimebundle to data attribute of output\n",
       "                    data = data.data;\n",
       "                }\n",
       "                if (data['text/html'] === html_output) {\n",
       "                    return [cell, data, j];\n",
       "                }\n",
       "            }\n",
       "        }\n",
       "    }\n",
       "};\n",
       "\n",
       "// Register the function which deals with the matplotlib target/channel.\n",
       "// The kernel may be null if the page has been refreshed.\n",
       "if (IPython.notebook.kernel !== null) {\n",
       "    IPython.notebook.kernel.comm_manager.register_target(\n",
       "        'matplotlib',\n",
       "        mpl.mpl_figure_comm\n",
       "    );\n",
       "}\n"
      ],
      "text/plain": [
       "<IPython.core.display.Javascript object>"
      ]
     },
     "metadata": {},
     "output_type": "display_data"
    },
    {
     "data": {
      "text/html": [
       "<img src=\"data:image/png;base64,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\" width=\"898.8889127013131\">"
      ],
      "text/plain": [
       "<IPython.core.display.HTML object>"
      ]
     },
     "metadata": {},
     "output_type": "display_data"
    }
   ],
   "source": [
    "f,ax= plt.subplots(figsize=(10,8), squeeze=True)\n",
    "ortho_path=Path(test_data_folder + r\"\\orthos_1m\\leo_20180606_ortho_resampled_1m.tif\")\n",
    "\n",
    "with ras.open(ortho_path,'r') as ortho:\n",
    "\n",
    "    show(ortho, ax=ax)\n",
    "\n",
    "\n",
    "P.profiles.query(\"location=='leo' and raw_date==20180606\").plot(ax=ax,column='z', cmap='RdBu_r');"
   ]
  },
  {
   "cell_type": "markdown",
   "id": "d5de7ea2",
   "metadata": {},
   "source": [
    "As you can see, the profiles include points extracted over areas that are not beach sediment, such as water, swash (inaccurate modeled elevation), vegetation or anything else that can be found aôn or around a beach that is not sand.\n",
    "\n",
    "Computing mutitemporal elevation changes from a dataset of this kind would lead in very erroneous computation as it would include all the aforementioned non-sand points. Therefore, we need to clip out the water from each dataset, retain only a small area of interest landward that the principal foredune (if any) and classify each extracted point as sand or no-sand.\n",
    "\n",
    "Let's see how we can achieve this using sandpyper and Qgis."
   ]
  },
  {
   "cell_type": "markdown",
   "id": "07029ae3",
   "metadata": {},
   "source": [
    "## Unsupervised clustering and labelling\n",
    "( for method information, please check the documentation, [here](https://npucino.github.io/sandpyper/) )"
   ]
  },
  {
   "cell_type": "markdown",
   "id": "d0da4fac",
   "metadata": {},
   "source": [
    "### The challenge\n",
    "In order to help discriminate and deal with non-sand points in our dataset, we can use Machine Learning (ML) to classify which points are sand and which ones are not.\n",
    "\n",
    "Currently, sandpyper only facilitates the use of KMeans unsupervised clustering algorithm to accomplish this task. KMeans assigns points sharing similarities in the attribute space to one of a predefined number of clusters and assign these clusters one label. After the clustering is done, we, the human operator, need to visually look at the clustering results in a GIS, overlay the points on the orthophoto, visualise their color-coded labels and 'attach a meaning' to those clusters, which can be quite difficult as ML sees quite differently from us.\n",
    "\n",
    "Of course one could also be tempted to use supervised machine learning techniques, however, considering that the cameras mounted on UAVs are not calibrated and the RGB images are not corrected for illumination variations, the training process would require a very big training dataset which must capture as much as variance in the classes of interest as possible.\n",
    "In this case, the unsupervised procedure facilitated by sandpyper could help in constructing an high quality training dataset."
   ]
  },
  {
   "cell_type": "markdown",
   "id": "064b78f4",
   "metadata": {},
   "source": [
    "### Iterative Silhouette analysis with inflexion search\n",
    "One of the most important parameter we must set before running KMeans is how many clusters we want to partition our points in. Considering that the next step is our visual checking of each cluster, we should choose a number that is not too high, as it would require too much time to visually assign a class to each cluster, but neighter too low, as this would dramatically increase the likelyhood of finding mixed clusters containing both points that are sand and no-sand.\n",
    "\n",
    "In order to let the data guide our choice of number of clusters to use, sandpyper implements an automated iterative Silhouette analysis with inflexion search algorithm.\n",
    "This algorithms use Silhouette coefficients to compute the clustering performances and allows to return a sub-optimal number of clusters to use in each survey with KMeans which minimise the likelyhood of having mixed clusters while also retaining a low number of clusters.\n",
    "\n",
    "Sandpyper implements this in 3 steps:\n",
    "\n",
    "1. __get_sil_location__: iteratively perform KMeans clustering and Silhouette Analysis with increasing number of clusters (k, specified in the `ks` parameter) for every survey, using the feature set specified in the parameter `feature_set`\n",
    "2. __get_opt_k__ : uses the dataframe with Average Silhouette scores with different k for all surveys created by __get_sil_location__ function to find a sub-optimal number of clusters for each survey\n",
    "3. __kmeans_sa__ method: to run KMeans algorithm with the specified sub-optimal number of clusters (k)"
   ]
  },
  {
   "cell_type": "code",
   "execution_count": 9,
   "id": "9d8e2993",
   "metadata": {
    "scrolled": true
   },
   "outputs": [
    {
     "data": {
      "application/vnd.jupyter.widget-view+json": {
       "model_id": "4f56d37042394469b72d9f567b977104",
       "version_major": 2,
       "version_minor": 0
      },
      "text/plain": [
       "  0%|          | 0/2 [00:00<?, ?it/s]"
      ]
     },
     "metadata": {},
     "output_type": "display_data"
    },
    {
     "data": {
      "application/vnd.jupyter.widget-view+json": {
       "model_id": "12062a5de04c430fae50a58cc6476f28",
       "version_major": 2,
       "version_minor": 0
      },
      "text/plain": [
       "  0%|          | 0/9 [00:00<?, ?it/s]"
      ]
     },
     "metadata": {},
     "output_type": "display_data"
    },
    {
     "name": "stdout",
     "output_type": "stream",
     "text": [
      "Working on : mar, 20190516.\n"
     ]
    },
    {
     "data": {
      "application/vnd.jupyter.widget-view+json": {
       "model_id": "6e9bd0b592774a5a98e6ce1af5857f39",
       "version_major": 2,
       "version_minor": 0
      },
      "text/plain": [
       "  0%|          | 0/13 [00:00<?, ?it/s]"
      ]
     },
     "metadata": {},
     "output_type": "display_data"
    },
    {
     "name": "stdout",
     "output_type": "stream",
     "text": [
      "For n_clusters = 2 The average silhouette_score is : 0.6219865168763407\n",
      "For n_clusters = 3 The average silhouette_score is : 0.535782834177223\n",
      "For n_clusters = 4 The average silhouette_score is : 0.5360693626824162\n",
      "For n_clusters = 5 The average silhouette_score is : 0.4560535847617118\n",
      "For n_clusters = 6 The average silhouette_score is : 0.45529082978244856\n",
      "For n_clusters = 7 The average silhouette_score is : 0.44623104595368007\n",
      "For n_clusters = 8 The average silhouette_score is : 0.4276467073078296\n",
      "For n_clusters = 9 The average silhouette_score is : 0.39984472497160034\n",
      "For n_clusters = 10 The average silhouette_score is : 0.3944833658664287\n",
      "For n_clusters = 11 The average silhouette_score is : 0.39290037915600995\n",
      "For n_clusters = 12 The average silhouette_score is : 0.3626866522843635\n",
      "For n_clusters = 13 The average silhouette_score is : 0.3537214969510808\n",
      "For n_clusters = 14 The average silhouette_score is : 0.360049558138258\n",
      "Working on : mar, 20190313.\n"
     ]
    },
    {
     "data": {
      "application/vnd.jupyter.widget-view+json": {
       "model_id": "a238de2d11174c6283fab7b5fc1728e4",
       "version_major": 2,
       "version_minor": 0
      },
      "text/plain": [
       "  0%|          | 0/13 [00:00<?, ?it/s]"
      ]
     },
     "metadata": {},
     "output_type": "display_data"
    },
    {
     "name": "stdout",
     "output_type": "stream",
     "text": [
      "For n_clusters = 2 The average silhouette_score is : 0.557958595647791\n",
      "For n_clusters = 3 The average silhouette_score is : 0.5140648301846097\n",
      "For n_clusters = 4 The average silhouette_score is : 0.5018436513556769\n",
      "For n_clusters = 5 The average silhouette_score is : 0.433979206893076\n",
      "For n_clusters = 6 The average silhouette_score is : 0.417124057365699\n",
      "For n_clusters = 7 The average silhouette_score is : 0.41877526043796687\n",
      "For n_clusters = 8 The average silhouette_score is : 0.3813644990945346\n",
      "For n_clusters = 9 The average silhouette_score is : 0.38298598316290156\n",
      "For n_clusters = 10 The average silhouette_score is : 0.38780357139523025\n",
      "For n_clusters = 11 The average silhouette_score is : 0.3705944933198418\n",
      "For n_clusters = 12 The average silhouette_score is : 0.3651637741592011\n",
      "For n_clusters = 13 The average silhouette_score is : 0.3626901435079943\n",
      "For n_clusters = 14 The average silhouette_score is : 0.364312347054231\n",
      "Working on : mar, 20190205.\n"
     ]
    },
    {
     "data": {
      "application/vnd.jupyter.widget-view+json": {
       "model_id": "b42e802a9ed149f8adedb62fb1fe17cf",
       "version_major": 2,
       "version_minor": 0
      },
      "text/plain": [
       "  0%|          | 0/13 [00:00<?, ?it/s]"
      ]
     },
     "metadata": {},
     "output_type": "display_data"
    },
    {
     "name": "stdout",
     "output_type": "stream",
     "text": [
      "For n_clusters = 2 The average silhouette_score is : 0.5864811907668233\n",
      "For n_clusters = 3 The average silhouette_score is : 0.5287826504696901\n",
      "For n_clusters = 4 The average silhouette_score is : 0.5135421029464969\n",
      "For n_clusters = 5 The average silhouette_score is : 0.4307716357147362\n",
      "For n_clusters = 6 The average silhouette_score is : 0.4198951039452866\n",
      "For n_clusters = 7 The average silhouette_score is : 0.4216561839748987\n",
      "For n_clusters = 8 The average silhouette_score is : 0.4048963177852256\n",
      "For n_clusters = 9 The average silhouette_score is : 0.40309220394346107\n",
      "For n_clusters = 10 The average silhouette_score is : 0.3863324302013023\n",
      "For n_clusters = 11 The average silhouette_score is : 0.3797930282754271\n",
      "For n_clusters = 12 The average silhouette_score is : 0.38096229910474133\n",
      "For n_clusters = 13 The average silhouette_score is : 0.38270148296414735\n",
      "For n_clusters = 14 The average silhouette_score is : 0.38101196831610196\n",
      "Working on : mar, 20181211.\n"
     ]
    },
    {
     "data": {
      "application/vnd.jupyter.widget-view+json": {
       "model_id": "d192a48103d24ea58bac20fab7e461ee",
       "version_major": 2,
       "version_minor": 0
      },
      "text/plain": [
       "  0%|          | 0/13 [00:00<?, ?it/s]"
      ]
     },
     "metadata": {},
     "output_type": "display_data"
    },
    {
     "name": "stdout",
     "output_type": "stream",
     "text": [
      "For n_clusters = 2 The average silhouette_score is : 0.5408421089322027\n",
      "For n_clusters = 3 The average silhouette_score is : 0.5230591336669079\n",
      "For n_clusters = 4 The average silhouette_score is : 0.5212604455141028\n",
      "For n_clusters = 5 The average silhouette_score is : 0.4229400387683722\n",
      "For n_clusters = 6 The average silhouette_score is : 0.45245862927127983\n",
      "For n_clusters = 7 The average silhouette_score is : 0.4483238394769186\n",
      "For n_clusters = 8 The average silhouette_score is : 0.4196417680949735\n",
      "For n_clusters = 9 The average silhouette_score is : 0.40611511715414134\n",
      "For n_clusters = 10 The average silhouette_score is : 0.38659542553842996\n",
      "For n_clusters = 11 The average silhouette_score is : 0.3696055524901218\n",
      "For n_clusters = 12 The average silhouette_score is : 0.37009962399500085\n",
      "For n_clusters = 13 The average silhouette_score is : 0.35527656663572244\n",
      "For n_clusters = 14 The average silhouette_score is : 0.3465435289160837\n",
      "Working on : mar, 20181113.\n"
     ]
    },
    {
     "data": {
      "application/vnd.jupyter.widget-view+json": {
       "model_id": "7666fc34c87a49b59d0ed1eb76c90639",
       "version_major": 2,
       "version_minor": 0
      },
      "text/plain": [
       "  0%|          | 0/13 [00:00<?, ?it/s]"
      ]
     },
     "metadata": {},
     "output_type": "display_data"
    },
    {
     "name": "stdout",
     "output_type": "stream",
     "text": [
      "For n_clusters = 2 The average silhouette_score is : 0.5653353599190023\n",
      "For n_clusters = 3 The average silhouette_score is : 0.48082172651613736\n",
      "For n_clusters = 4 The average silhouette_score is : 0.4739355249881875\n",
      "For n_clusters = 5 The average silhouette_score is : 0.44998542160594424\n",
      "For n_clusters = 6 The average silhouette_score is : 0.46793686792032685\n",
      "For n_clusters = 7 The average silhouette_score is : 0.45141377362406754\n",
      "For n_clusters = 8 The average silhouette_score is : 0.4282875609756635\n",
      "For n_clusters = 9 The average silhouette_score is : 0.41407851845524357\n",
      "For n_clusters = 10 The average silhouette_score is : 0.40718423656045105\n",
      "For n_clusters = 11 The average silhouette_score is : 0.3903647922431344\n",
      "For n_clusters = 12 The average silhouette_score is : 0.3839833647433829\n",
      "For n_clusters = 13 The average silhouette_score is : 0.38065272471925277\n",
      "For n_clusters = 14 The average silhouette_score is : 0.3832072967705472\n",
      "Working on : mar, 20180925.\n"
     ]
    },
    {
     "data": {
      "application/vnd.jupyter.widget-view+json": {
       "model_id": "eec8abd9c6d340ddb0e7731780170b93",
       "version_major": 2,
       "version_minor": 0
      },
      "text/plain": [
       "  0%|          | 0/13 [00:00<?, ?it/s]"
      ]
     },
     "metadata": {},
     "output_type": "display_data"
    },
    {
     "name": "stdout",
     "output_type": "stream",
     "text": [
      "For n_clusters = 2 The average silhouette_score is : 0.5781993163219185\n",
      "For n_clusters = 3 The average silhouette_score is : 0.5170856406873439\n",
      "For n_clusters = 4 The average silhouette_score is : 0.48466929384434043\n",
      "For n_clusters = 5 The average silhouette_score is : 0.4373504056027659\n",
      "For n_clusters = 6 The average silhouette_score is : 0.39375906953445383\n",
      "For n_clusters = 7 The average silhouette_score is : 0.38864190848914665\n",
      "For n_clusters = 8 The average silhouette_score is : 0.4035256487664215\n",
      "For n_clusters = 9 The average silhouette_score is : 0.3798356038299367\n",
      "For n_clusters = 10 The average silhouette_score is : 0.37962054426443537\n",
      "For n_clusters = 11 The average silhouette_score is : 0.3644375001522226\n",
      "For n_clusters = 12 The average silhouette_score is : 0.3558265298038209\n",
      "For n_clusters = 13 The average silhouette_score is : 0.34528697717595713\n",
      "For n_clusters = 14 The average silhouette_score is : 0.35004508855406896\n",
      "Working on : mar, 20180727.\n"
     ]
    },
    {
     "data": {
      "application/vnd.jupyter.widget-view+json": {
       "model_id": "10dfb134bb4f4cc987baca1193de90df",
       "version_major": 2,
       "version_minor": 0
      },
      "text/plain": [
       "  0%|          | 0/13 [00:00<?, ?it/s]"
      ]
     },
     "metadata": {},
     "output_type": "display_data"
    },
    {
     "name": "stdout",
     "output_type": "stream",
     "text": [
      "For n_clusters = 2 The average silhouette_score is : 0.5803251747670938\n",
      "For n_clusters = 3 The average silhouette_score is : 0.48850610227959923\n",
      "For n_clusters = 4 The average silhouette_score is : 0.4772654299979584\n",
      "For n_clusters = 5 The average silhouette_score is : 0.4135001777584117\n",
      "For n_clusters = 6 The average silhouette_score is : 0.38283314263428714\n",
      "For n_clusters = 7 The average silhouette_score is : 0.3755827513627956\n",
      "For n_clusters = 8 The average silhouette_score is : 0.3486272625814806\n",
      "For n_clusters = 9 The average silhouette_score is : 0.3367906257895182\n",
      "For n_clusters = 10 The average silhouette_score is : 0.3273888373123684\n",
      "For n_clusters = 11 The average silhouette_score is : 0.30071888963336296\n",
      "For n_clusters = 12 The average silhouette_score is : 0.3219840164575009\n",
      "For n_clusters = 13 The average silhouette_score is : 0.3222155159146202\n",
      "For n_clusters = 14 The average silhouette_score is : 0.307958370621084\n",
      "Working on : mar, 20180621.\n"
     ]
    },
    {
     "data": {
      "application/vnd.jupyter.widget-view+json": {
       "model_id": "fd9f5ae3ac6c43139ff87ebb5c971973",
       "version_major": 2,
       "version_minor": 0
      },
      "text/plain": [
       "  0%|          | 0/13 [00:00<?, ?it/s]"
      ]
     },
     "metadata": {},
     "output_type": "display_data"
    },
    {
     "name": "stdout",
     "output_type": "stream",
     "text": [
      "For n_clusters = 2 The average silhouette_score is : 0.5439589764752933\n",
      "For n_clusters = 3 The average silhouette_score is : 0.4387708619085413\n",
      "For n_clusters = 4 The average silhouette_score is : 0.4501935908699898\n",
      "For n_clusters = 5 The average silhouette_score is : 0.3963414382040067\n",
      "For n_clusters = 6 The average silhouette_score is : 0.41807731086369254\n",
      "For n_clusters = 7 The average silhouette_score is : 0.3871968978951222\n",
      "For n_clusters = 8 The average silhouette_score is : 0.37393061831106983\n",
      "For n_clusters = 9 The average silhouette_score is : 0.3443142601476958\n",
      "For n_clusters = 10 The average silhouette_score is : 0.3585650473719073\n",
      "For n_clusters = 11 The average silhouette_score is : 0.35570748604269775\n",
      "For n_clusters = 12 The average silhouette_score is : 0.3575633171508779\n",
      "For n_clusters = 13 The average silhouette_score is : 0.37087632012718563\n",
      "For n_clusters = 14 The average silhouette_score is : 0.3795271430686032\n",
      "Working on : mar, 20180601.\n"
     ]
    },
    {
     "data": {
      "application/vnd.jupyter.widget-view+json": {
       "model_id": "7214f8965eaf41ec9e9c09822eb51715",
       "version_major": 2,
       "version_minor": 0
      },
      "text/plain": [
       "  0%|          | 0/13 [00:00<?, ?it/s]"
      ]
     },
     "metadata": {},
     "output_type": "display_data"
    },
    {
     "name": "stdout",
     "output_type": "stream",
     "text": [
      "For n_clusters = 2 The average silhouette_score is : 0.48270415311106846\n",
      "For n_clusters = 3 The average silhouette_score is : 0.3772084152830261\n",
      "For n_clusters = 4 The average silhouette_score is : 0.38234628609235827\n",
      "For n_clusters = 5 The average silhouette_score is : 0.38128225187445997\n",
      "For n_clusters = 6 The average silhouette_score is : 0.36428432858349613\n",
      "For n_clusters = 7 The average silhouette_score is : 0.36240034713437685\n",
      "For n_clusters = 8 The average silhouette_score is : 0.3701424025696913\n",
      "For n_clusters = 9 The average silhouette_score is : 0.37175207788683484\n",
      "For n_clusters = 10 The average silhouette_score is : 0.37676977350569846\n",
      "For n_clusters = 11 The average silhouette_score is : 0.37582649170780724\n",
      "For n_clusters = 12 The average silhouette_score is : 0.3619596723553155\n",
      "For n_clusters = 13 The average silhouette_score is : 0.360705274650356\n",
      "For n_clusters = 14 The average silhouette_score is : 0.3549151019500089\n"
     ]
    },
    {
     "data": {
      "application/vnd.jupyter.widget-view+json": {
       "model_id": "4be53804c6c948cb89f794b9bcbfcd40",
       "version_major": 2,
       "version_minor": 0
      },
      "text/plain": [
       "  0%|          | 0/6 [00:00<?, ?it/s]"
      ]
     },
     "metadata": {},
     "output_type": "display_data"
    },
    {
     "name": "stdout",
     "output_type": "stream",
     "text": [
      "Working on : leo, 20190731.\n"
     ]
    },
    {
     "data": {
      "application/vnd.jupyter.widget-view+json": {
       "model_id": "e7284615b5a44877b80ba9353c5eddc6",
       "version_major": 2,
       "version_minor": 0
      },
      "text/plain": [
       "  0%|          | 0/13 [00:00<?, ?it/s]"
      ]
     },
     "metadata": {},
     "output_type": "display_data"
    },
    {
     "name": "stdout",
     "output_type": "stream",
     "text": [
      "For n_clusters = 2 The average silhouette_score is : 0.3899198233106219\n",
      "For n_clusters = 3 The average silhouette_score is : 0.5071438060156596\n",
      "For n_clusters = 4 The average silhouette_score is : 0.47005119135652856\n",
      "For n_clusters = 5 The average silhouette_score is : 0.4481907289981238\n",
      "For n_clusters = 6 The average silhouette_score is : 0.42502882450684076\n",
      "For n_clusters = 7 The average silhouette_score is : 0.4011433092740131\n",
      "For n_clusters = 8 The average silhouette_score is : 0.38998808479733066\n",
      "For n_clusters = 9 The average silhouette_score is : 0.38559916622535073\n",
      "For n_clusters = 10 The average silhouette_score is : 0.38736594985557654\n",
      "For n_clusters = 11 The average silhouette_score is : 0.3788805356672864\n",
      "For n_clusters = 12 The average silhouette_score is : 0.37132878563783606\n",
      "For n_clusters = 13 The average silhouette_score is : 0.3728000521740459\n",
      "For n_clusters = 14 The average silhouette_score is : 0.37291633707910765\n",
      "Working on : leo, 20190328.\n"
     ]
    },
    {
     "data": {
      "application/vnd.jupyter.widget-view+json": {
       "model_id": "1001b8c276114450bcedc6f18e845861",
       "version_major": 2,
       "version_minor": 0
      },
      "text/plain": [
       "  0%|          | 0/13 [00:00<?, ?it/s]"
      ]
     },
     "metadata": {},
     "output_type": "display_data"
    },
    {
     "name": "stdout",
     "output_type": "stream",
     "text": [
      "For n_clusters = 2 The average silhouette_score is : 0.3988524141238273\n",
      "For n_clusters = 3 The average silhouette_score is : 0.4304685615621422\n",
      "For n_clusters = 4 The average silhouette_score is : 0.431227035737659\n",
      "For n_clusters = 5 The average silhouette_score is : 0.4509750902886234\n",
      "For n_clusters = 6 The average silhouette_score is : 0.42012497505273527\n",
      "For n_clusters = 7 The average silhouette_score is : 0.4094032569946379\n",
      "For n_clusters = 8 The average silhouette_score is : 0.42729379253757904\n",
      "For n_clusters = 9 The average silhouette_score is : 0.41690585873078206\n",
      "For n_clusters = 10 The average silhouette_score is : 0.4226788217215935\n",
      "For n_clusters = 11 The average silhouette_score is : 0.41351261817558693\n",
      "For n_clusters = 12 The average silhouette_score is : 0.4087415403998031\n",
      "For n_clusters = 13 The average silhouette_score is : 0.38543846003780563\n",
      "For n_clusters = 14 The average silhouette_score is : 0.3783301865582882\n",
      "Working on : leo, 20190211.\n"
     ]
    },
    {
     "data": {
      "application/vnd.jupyter.widget-view+json": {
       "model_id": "ee952e02fd0b4cbb80b14f4022db1c7d",
       "version_major": 2,
       "version_minor": 0
      },
      "text/plain": [
       "  0%|          | 0/13 [00:00<?, ?it/s]"
      ]
     },
     "metadata": {},
     "output_type": "display_data"
    },
    {
     "name": "stdout",
     "output_type": "stream",
     "text": [
      "For n_clusters = 2 The average silhouette_score is : 0.3811803323084047\n",
      "For n_clusters = 3 The average silhouette_score is : 0.48727929000883047\n",
      "For n_clusters = 4 The average silhouette_score is : 0.44313687819005354\n",
      "For n_clusters = 5 The average silhouette_score is : 0.45097582364485633\n",
      "For n_clusters = 6 The average silhouette_score is : 0.4320727369612193\n",
      "For n_clusters = 7 The average silhouette_score is : 0.4166514336483687\n",
      "For n_clusters = 8 The average silhouette_score is : 0.39445247084076124\n",
      "For n_clusters = 9 The average silhouette_score is : 0.3718047003108205\n",
      "For n_clusters = 10 The average silhouette_score is : 0.36905766574894283\n",
      "For n_clusters = 11 The average silhouette_score is : 0.3723670925736636\n",
      "For n_clusters = 12 The average silhouette_score is : 0.35518841237259613\n",
      "For n_clusters = 13 The average silhouette_score is : 0.35415290301652735\n",
      "For n_clusters = 14 The average silhouette_score is : 0.33383141602938693\n",
      "Working on : leo, 20180920.\n"
     ]
    },
    {
     "data": {
      "application/vnd.jupyter.widget-view+json": {
       "model_id": "805579e8d3454035a312a56245f313d6",
       "version_major": 2,
       "version_minor": 0
      },
      "text/plain": [
       "  0%|          | 0/13 [00:00<?, ?it/s]"
      ]
     },
     "metadata": {},
     "output_type": "display_data"
    },
    {
     "name": "stdout",
     "output_type": "stream",
     "text": [
      "For n_clusters = 2 The average silhouette_score is : 0.4039166622963731\n",
      "For n_clusters = 3 The average silhouette_score is : 0.4367493135688848\n",
      "For n_clusters = 4 The average silhouette_score is : 0.42434419318841404\n",
      "For n_clusters = 5 The average silhouette_score is : 0.4443994359362926\n",
      "For n_clusters = 6 The average silhouette_score is : 0.4175864662989779\n",
      "For n_clusters = 7 The average silhouette_score is : 0.38860870508958795\n",
      "For n_clusters = 8 The average silhouette_score is : 0.38880003508342514\n",
      "For n_clusters = 9 The average silhouette_score is : 0.3830287983992327\n",
      "For n_clusters = 10 The average silhouette_score is : 0.37353163965128733\n",
      "For n_clusters = 11 The average silhouette_score is : 0.36620965721819637\n",
      "For n_clusters = 12 The average silhouette_score is : 0.3536600836899299\n",
      "For n_clusters = 13 The average silhouette_score is : 0.3585083805642395\n",
      "For n_clusters = 14 The average silhouette_score is : 0.35672016047028215\n",
      "Working on : leo, 20180713.\n"
     ]
    },
    {
     "data": {
      "application/vnd.jupyter.widget-view+json": {
       "model_id": "a06204cc609343fb9a6eacfcc9159563",
       "version_major": 2,
       "version_minor": 0
      },
      "text/plain": [
       "  0%|          | 0/13 [00:00<?, ?it/s]"
      ]
     },
     "metadata": {},
     "output_type": "display_data"
    },
    {
     "name": "stdout",
     "output_type": "stream",
     "text": [
      "For n_clusters = 2 The average silhouette_score is : 0.49629965872244686\n",
      "For n_clusters = 3 The average silhouette_score is : 0.5092406492417487\n",
      "For n_clusters = 4 The average silhouette_score is : 0.46159478658042724\n",
      "For n_clusters = 5 The average silhouette_score is : 0.4488595142176017\n",
      "For n_clusters = 6 The average silhouette_score is : 0.4183623304561938\n",
      "For n_clusters = 7 The average silhouette_score is : 0.39004221840210485\n",
      "For n_clusters = 8 The average silhouette_score is : 0.3842278112748862\n",
      "For n_clusters = 9 The average silhouette_score is : 0.36304035595403583\n",
      "For n_clusters = 10 The average silhouette_score is : 0.3463760386521644\n",
      "For n_clusters = 11 The average silhouette_score is : 0.34841430296451464\n",
      "For n_clusters = 12 The average silhouette_score is : 0.3460546307634773\n",
      "For n_clusters = 13 The average silhouette_score is : 0.34457917043266856\n",
      "For n_clusters = 14 The average silhouette_score is : 0.3318667826222712\n",
      "Working on : leo, 20180606.\n"
     ]
    },
    {
     "data": {
      "application/vnd.jupyter.widget-view+json": {
       "model_id": "7280cca527bc42039f1731d16bc9dab5",
       "version_major": 2,
       "version_minor": 0
      },
      "text/plain": [
       "  0%|          | 0/13 [00:00<?, ?it/s]"
      ]
     },
     "metadata": {},
     "output_type": "display_data"
    },
    {
     "name": "stdout",
     "output_type": "stream",
     "text": [
      "For n_clusters = 2 The average silhouette_score is : 0.4012079287817844\n",
      "For n_clusters = 3 The average silhouette_score is : 0.4563078554750914\n",
      "For n_clusters = 4 The average silhouette_score is : 0.40640166442880776\n",
      "For n_clusters = 5 The average silhouette_score is : 0.4001757072050638\n",
      "For n_clusters = 6 The average silhouette_score is : 0.3890044660503746\n",
      "For n_clusters = 7 The average silhouette_score is : 0.3716889344520391\n",
      "For n_clusters = 8 The average silhouette_score is : 0.36600629265911533\n",
      "For n_clusters = 9 The average silhouette_score is : 0.3503569988098764\n",
      "For n_clusters = 10 The average silhouette_score is : 0.34651080656561367\n",
      "For n_clusters = 11 The average silhouette_score is : 0.34322073624826754\n",
      "For n_clusters = 12 The average silhouette_score is : 0.3439561998875081\n",
      "For n_clusters = 13 The average silhouette_score is : 0.347961415981389\n",
      "For n_clusters = 14 The average silhouette_score is : 0.33782737875946023\n"
     ]
    }
   ],
   "source": [
    "# Run interatively KMeans + SA using the feature_set provided\n",
    "#feel free to add \n",
    "\n",
    "feature_set=[\"band1\",\"band2\",\"band3\",\"distance\"]\n",
    "sil_df=get_sil_location(P.profiles,\n",
    "                        ks=(2,15), \n",
    "                        feature_set=feature_set,\n",
    "                       random_state=10)"
   ]
  },
  {
   "cell_type": "markdown",
   "id": "a1aad931",
   "metadata": {},
   "source": [
    "Find sub-optimal k by searching inflexion points where an additional cluster do not considerably degrade the overall clustering performance."
   ]
  },
  {
   "cell_type": "code",
   "execution_count": 10,
   "id": "b75a456a",
   "metadata": {},
   "outputs": [
    {
     "data": {
      "text/plain": [
       "{'leo_20180606': 11,\n",
       " 'leo_20180713': 10,\n",
       " 'leo_20180920': 4,\n",
       " 'leo_20190211': 4,\n",
       " 'leo_20190328': 7,\n",
       " 'leo_20190731': 9,\n",
       " 'mar_20180601': 3,\n",
       " 'mar_20180621': 3,\n",
       " 'mar_20180727': 11,\n",
       " 'mar_20180925': 7,\n",
       " 'mar_20181113': 5,\n",
       " 'mar_20181211': 5,\n",
       " 'mar_20190205': 6,\n",
       " 'mar_20190313': 6,\n",
       " 'mar_20190516': 3}"
      ]
     },
     "execution_count": 10,
     "metadata": {},
     "output_type": "execute_result"
    }
   ],
   "source": [
    "opt_k=get_opt_k(sil_df, sigma=0 )\n",
    "opt_k"
   ]
  },
  {
   "cell_type": "markdown",
   "id": "c851a6df",
   "metadata": {},
   "source": [
    "If we are not satisfied with the sub-optimal k returned by the algorithm, we can manually specify each survey k\n",
    "by defining a dictionary.\n",
    "\n",
    "Based on our observations on a dataset comprising 87 surveys, __10 clusters (k=10)__ is generally a good tradeoff, and set \n",
    "\n",
    "```python\n",
    "opt_k={'leo_20180606': 10,\n",
    " 'leo_20180713': 10,\n",
    " 'leo_20180920': 10,\n",
    " 'leo_20190211': 10,\n",
    " 'leo_20190328': 10,\n",
    " 'leo_20190731': 10,\n",
    " 'mar_20180601': 10,\n",
    " 'mar_20180621': 10,\n",
    " 'mar_20180727': 10,\n",
    " 'mar_20180925': 10,\n",
    " 'mar_20181113': 10,\n",
    " 'mar_20181211': 10,\n",
    " 'mar_20190205': 10,\n",
    " 'mar_20190313': 10,\n",
    " 'mar_20190516': 10}\n",
    "```\n",
    "or, we could update one value only. For instance, we could change __mar_2019-05-16 dataset__ to 10 clusters simply by updating the existing `òpt_k` dictionary:\n",
    "```python\n",
    "opt_k={'mar_20190516': 10}\n",
    "```\n",
    "\n",
    "However, for the purpose of this test workflow, __please keep the original opt_k dictionary that Sandpyper computed__."
   ]
  },
  {
   "cell_type": "code",
   "execution_count": 11,
   "id": "2cdfb9ba",
   "metadata": {},
   "outputs": [
    {
     "data": {
      "application/vnd.jupyter.widget-view+json": {
       "model_id": "05f10d5dad4142dbbaca38340fbb10b7",
       "version_major": 2,
       "version_minor": 0
      },
      "text/plain": [
       "  0%|          | 0/2 [00:00<?, ?it/s]"
      ]
     },
     "metadata": {},
     "output_type": "display_data"
    },
    {
     "data": {
      "application/vnd.jupyter.widget-view+json": {
       "model_id": "eb1a15a6affd41b7bedc5e86c82d1090",
       "version_major": 2,
       "version_minor": 0
      },
      "text/plain": [
       "  0%|          | 0/9 [00:00<?, ?it/s]"
      ]
     },
     "metadata": {},
     "output_type": "display_data"
    },
    {
     "data": {
      "application/vnd.jupyter.widget-view+json": {
       "model_id": "881f2502e9fb490c9ce5b431fe02e859",
       "version_major": 2,
       "version_minor": 0
      },
      "text/plain": [
       "  0%|          | 0/6 [00:00<?, ?it/s]"
      ]
     },
     "metadata": {},
     "output_type": "display_data"
    }
   ],
   "source": [
    "feature_set=[\"band1\",\"band2\",\"band3\",\"distance\"]\n",
    "\n",
    "P.kmeans_sa(opt_k,feature_set)"
   ]
  },
  {
   "cell_type": "markdown",
   "id": "9469cc1e",
   "metadata": {},
   "source": [
    "DONE! Now, the profile dataframe attribute has an additional column named __label_k__, which is the result of the survey specific KMeans algorithm."
   ]
  },
  {
   "cell_type": "markdown",
   "id": "12e9ddd0",
   "metadata": {},
   "source": [
    "We can now export the profile dataset as CSV in order to the open it as a comma-delimited file in your favourite GIS.\n",
    "Use this command to save it to your favourite path:\n",
    "\n",
    "```python\n",
    "P.profiles.to_csv(\"your/favourite/location/profiles.csv\")\n",
    "```"
   ]
  },
  {
   "cell_type": "markdown",
   "id": "c6d77d6d",
   "metadata": {},
   "source": [
    "Now that we have labelled the data points and exported as a CSV file, we need to:\n",
    "\n",
    "1. import it into your favourite GIS and use the __coordinates__ column as geometry\n",
    "2. using the filtering options, visualise only one survey at a time and assign one color per unique label_k value\n",
    "3. overlay these points on the orthophoto of the survey they were extracted from\n",
    "4. take notes of which label_k number is what class (sand, no_sand at least)\n",
    "5. create the label corrections file (polygons), following the specifications descirbed in the previous notebook."
   ]
  },
  {
   "cell_type": "markdown",
   "id": "c3825193",
   "metadata": {},
   "source": [
    "## Sand labeling and cleaning"
   ]
  },
  {
   "cell_type": "markdown",
   "id": "36ab27e4",
   "metadata": {},
   "source": [
    "Here below I provided the classes dictionaries of the demo data clustering results.\n",
    "\n",
    "Each class has its own dictionary. The keys store the survey identifier tag ('LocCode_yyyymmdd') and the values are lists of label_k associated with the dictionary class.\n",
    "\n",
    "For instance in this example:\n",
    "\n",
    "```python\n",
    "sand_dict = {'leo_20180606':[5],\n",
    "            'leo_20180713':[1,3,4],\n",
    "            'mar_20180920':[]}\n",
    "            \n",
    "water_dict = {'leo_20180606':[4],\n",
    "            'leo_20180713':[2,6],\n",
    "            'mar_20180920':[1,2,3,4]}\n",
    "```\n",
    "\n",
    "In the St. Leonards survey of the 13th July 2018, the label_k 1,3 and 4 are sand, while the label_k 2 and 6 are water.\n",
    "In Marengo, the 20th September 2018, no label_k represents sand while 1,2,3 and 4 are water.\n",
    "\n",
    "Here below are reported the label dictionaries of the demo data."
   ]
  },
  {
   "cell_type": "code",
   "execution_count": 12,
   "id": "f1b757b8",
   "metadata": {},
   "outputs": [],
   "source": [
    "water_dict={'leo_20180606':[0,9,10],\n",
    "'leo_20180713':[0,3,4,7],\n",
    "'leo_20180920':[0,2,6,7],\n",
    "'leo_20190211':[0,2,5],\n",
    "'leo_20190328':[2,4,5],\n",
    "'leo_20190731':[0,2,8,6],\n",
    "'mar_20180601':[1,6],\n",
    "'mar_20180621':[4,6],\n",
    "'mar_20180727':[0,5,9,10],\n",
    "'mar_20180925':[6],\n",
    "'mar_20181113':[1],\n",
    "'mar_20181211':[4],\n",
    "'mar_20190205':[],\n",
    "'mar_20190313':[],\n",
    "'mar_20190516':[4,7]}\n",
    "\n",
    "no_sand_dict={'leo_20180606':[5],\n",
    "'leo_20180713':[],\n",
    "'leo_20180920':[],\n",
    "'leo_20190211':[1],\n",
    "'leo_20190328':[],\n",
    "'leo_20190731':[1],\n",
    "'mar_20180601':[4,5],\n",
    "'mar_20180621':[3,5],\n",
    "'mar_20180727':[4,7],\n",
    "'mar_20180925':[5],\n",
    "'mar_20181113':[0],\n",
    "'mar_20181211':[0],\n",
    "'mar_20190205':[0,5],\n",
    "'mar_20190313':[4],\n",
    "'mar_20190516':[2,5]}\n",
    "\n",
    "veg_dict={'leo_20180606':[1,3,7,8],\n",
    "'leo_20180713':[1,5,9],\n",
    "'leo_20180920':[1,4,5],\n",
    "'leo_20190211':[4],\n",
    "'leo_20190328':[0,1,6],\n",
    "'leo_20190731':[3,7],\n",
    "'mar_20180601':[0,7],\n",
    "'mar_20180621':[1,7],\n",
    "'mar_20180727':[1,3],\n",
    "'mar_20180925':[1,3],\n",
    "'mar_20181113':[3],\n",
    "'mar_20181211':[2],\n",
    "'mar_20190205':[3],\n",
    "'mar_20190313':[1,5],\n",
    "'mar_20190516':[0]}\n",
    "\n",
    "sand_dict={'leo_20180606':[2,4,6],\n",
    "'leo_20180713':[2,6,8],\n",
    "'leo_20180920':[3],\n",
    "'leo_20190211':[3],\n",
    "'leo_20190328':[3],\n",
    "'leo_20190731':[4,5],\n",
    "'mar_20180601':[2,3],\n",
    "'mar_20180621':[0,2],\n",
    "'mar_20180727':[2,6,8],\n",
    "'mar_20180925':[0,4,2],\n",
    "'mar_20181113':[2,4],\n",
    "'mar_20181211':[3,1],\n",
    "'mar_20190205':[1,2,4],\n",
    "'mar_20190313':[0,2,3],\n",
    "'mar_20190516':[1,3,6]}"
   ]
  },
  {
   "cell_type": "markdown",
   "id": "b5418be7",
   "metadata": {},
   "source": [
    "Now that we have each class dictionary, let's put all of those in another dictionary in order to specify the name of the class.\n",
    "Like this:"
   ]
  },
  {
   "cell_type": "code",
   "execution_count": 13,
   "id": "9faac7bb",
   "metadata": {},
   "outputs": [],
   "source": [
    "l_dicts={'no_sand': no_sand_dict,\n",
    "         'sand': sand_dict,\n",
    "        'water': water_dict,\n",
    "        'veg':veg_dict}"
   ]
  },
  {
   "cell_type": "markdown",
   "id": "003b0935",
   "metadata": {},
   "source": [
    "Now, let's provide the paths to the geopackages (preferred, but also shapefiles are accepted) containing the label corrections, the watermasks and the shoremasks."
   ]
  },
  {
   "cell_type": "code",
   "execution_count": 14,
   "id": "5e509dae",
   "metadata": {},
   "outputs": [],
   "source": [
    "label_corrections_path=Path(test_data_folder + r\"\\clean\\label_corrections.gpkg\")\n",
    "watermasks_path=Path(test_data_folder + r\"\\clean\\watermasks.gpkg\")\n",
    "shoremasks_path=Path(test_data_folder + r\"\\clean\\shoremasks.gpkg\")"
   ]
  },
  {
   "cell_type": "markdown",
   "id": "ce4f004b",
   "metadata": {},
   "source": [
    "All set!\n",
    "\n",
    "Now we are ready to use the __.cleanit method__ to:\n",
    "\n",
    "1. classify each point using the dictionaries provided\n",
    "2. fine-tuning the label_k using the label correction polygons provided\n",
    "3. eliminate water/swash points using the watermasks provided\n",
    "4. clip to the shore area using the shoremasks provided\n"
   ]
  },
  {
   "cell_type": "code",
   "execution_count": 15,
   "id": "24dd7cfd",
   "metadata": {
    "scrolled": true
   },
   "outputs": [
    {
     "name": "stdout",
     "output_type": "stream",
     "text": [
      "Reclassifying dataset with the provided dictionaries.\n",
      "Label corrections provided in CRS: epsg:32754\n",
      "Fine tuning in leo.\n"
     ]
    },
    {
     "name": "stderr",
     "output_type": "stream",
     "text": [
      "C:\\anaconda3\\envs\\sandpyper_env\\lib\\site-packages\\geopandas\\geodataframe.py:422: RuntimeWarning: Sequential read of iterator was interrupted. Resetting iterator. This can negatively impact the performance.\n",
      "  for feature in features_lst:\n"
     ]
    },
    {
     "data": {
      "application/vnd.jupyter.widget-view+json": {
       "model_id": "618f1b9080e8492a8ed3389bfa1762ff",
       "version_major": 2,
       "version_minor": 0
      },
      "text/plain": [
       "  0%|          | 0/6 [00:00<?, ?it/s]"
      ]
     },
     "metadata": {},
     "output_type": "display_data"
    },
    {
     "name": "stdout",
     "output_type": "stream",
     "text": [
      "Fine-tuning label_k 3 to no_sand in leo-20180606, found 127 pts.\n",
      "Fine-tuning label_k 8 to no_sand in leo-20180606, found 73 pts.\n",
      "Fine-tuning label_k 5 to no_sand in leo-20180713, found 56 pts.\n",
      "Fine-tuning label_k 6 to no_sand in leo-20180713, found 7 pts.\n",
      "Fine-tuning label_k 1 to no_sand in leo-20180920, found 89 pts.\n",
      "Fine-tuning label_k 2 to sand in leo-20180920, found 9 pts.\n",
      "Fine-tuning label_k 2 to veg in leo-20180920, found 31 pts.\n",
      "Fine-tuning label_k 6 to sand in leo-20180920, found 17 pts.\n",
      "Fine-tuning label_k 2 to veg in leo-20190211, found 2 pts.\n",
      "Fine-tuning label_k 6 to veg in leo-20190211, found 29 pts.\n",
      "Fine-tuning label_k 6 to no_sand in leo-20190211, found 2 pts.\n",
      "Fine-tuning label_k 6 to veg in leo-20190211, found 6 pts.\n",
      "Fine-tuning label_k 6 to sand in leo-20190211, found 28 pts.\n",
      "Fine-tuning label_k 7 to no_sand in leo-20190211, found 41 pts.\n",
      "Fine-tuning label_k 0 to sand in leo-20190328, found 6 pts.\n",
      "Fine-tuning label_k 0 to no_sand in leo-20190328, found 52 pts.\n",
      "Fine-tuning label_k 1 to sand in leo-20190328, found 21 pts.\n",
      "Fine-tuning label_k 1 to no_sand in leo-20190328, found 2 pts.\n",
      "Fine-tuning label_k 2 to sand in leo-20190328, found 16 pts.\n",
      "Fine-tuning label_k 4 to sand in leo-20190328, found 25 pts.\n",
      "Fine-tuning label_k 5 to veg in leo-20190328, found 3 pts.\n",
      "Fine-tuning label_k 1 to sand in leo-20190731, found 5 pts.\n",
      "Fine-tuning label_k 3 to no_sand in leo-20190731, found 11 pts.\n",
      "Fine-tuning label_k 7 to no_sand in leo-20190731, found 72 pts.\n",
      "Fine-tuning label_k 6 to sand in leo-20190731, found 25 pts.\n",
      "Fine-tuning label_k 6 to veg in leo-20190731, found 42 pts.\n",
      "Fine tuning in mar.\n"
     ]
    },
    {
     "data": {
      "application/vnd.jupyter.widget-view+json": {
       "model_id": "55818734bafa47e09024ed8e124eee40",
       "version_major": 2,
       "version_minor": 0
      },
      "text/plain": [
       "  0%|          | 0/6 [00:00<?, ?it/s]"
      ]
     },
     "metadata": {},
     "output_type": "display_data"
    },
    {
     "name": "stdout",
     "output_type": "stream",
     "text": [
      "Fine-tuning label_k 3 to water in mar-20180601, found 163 pts.\n",
      "Fine-tuning label_k 7 to no_sand in mar-20180601, found 15 pts.\n",
      "Fine-tuning label_k 7 to sand in mar-20180601, found 53 pts.\n",
      "Fine-tuning label_k 1 to sand in mar-20180621, found 48 pts.\n",
      "Fine-tuning label_k 3 to sand in mar-20180621, found 42 pts.\n",
      "Fine-tuning label_k 2 to water in mar-20180727, found 98 pts.\n",
      "Fine-tuning label_k 4 to sand in mar-20180727, found 29 pts.\n",
      "Fine-tuning label_k 2 to no_sand in mar-20181211, found 45 pts.\n",
      "Fine-tuning label_k 1 to water in mar-20181211, found 149 pts.\n",
      "Fine-tuning label_k 2 to water in mar-20190205, found 304 pts.\n",
      "Fine-tuning label_k 3 to no_sand in mar-20190205, found 23 pts.\n",
      "Fine-tuning label_k 2 to water in mar-20190313, found 100 pts.\n",
      "Fine-tuning label_k 5 to no_sand in mar-20190313, found 77 pts.\n",
      "watermask  provided in CRS: epsg:32754\n",
      "Applying watermasks cleaning.\n",
      "Watermasking in mar.\n"
     ]
    },
    {
     "name": "stderr",
     "output_type": "stream",
     "text": [
      "C:\\anaconda3\\envs\\sandpyper_env\\lib\\site-packages\\geopandas\\geodataframe.py:422: RuntimeWarning: Sequential read of iterator was interrupted. Resetting iterator. This can negatively impact the performance.\n",
      "  for feature in features_lst:\n"
     ]
    },
    {
     "data": {
      "application/vnd.jupyter.widget-view+json": {
       "model_id": "c20a272d093648c09b611c6b641ce321",
       "version_major": 2,
       "version_minor": 0
      },
      "text/plain": [
       "  0%|          | 0/9 [00:00<?, ?it/s]"
      ]
     },
     "metadata": {},
     "output_type": "display_data"
    },
    {
     "name": "stderr",
     "output_type": "stream",
     "text": [
      "C:\\anaconda3\\envs\\sandpyper_env\\lib\\site-packages\\geopandas\\base.py:39: UserWarning: The indices of the two GeoSeries are different.\n",
      "  warn(\"The indices of the two GeoSeries are different.\")\n",
      "C:\\anaconda3\\envs\\sandpyper_env\\lib\\site-packages\\geopandas\\geodataframe.py:828: UserWarning: Boolean Series key will be reindexed to match DataFrame index.\n",
      "  result = super(GeoDataFrame, self).__getitem__(key)\n",
      "C:\\anaconda3\\envs\\sandpyper_env\\lib\\site-packages\\pyproj\\crs\\crs.py:131: FutureWarning: '+init=<authority>:<code>' syntax is deprecated. '<authority>:<code>' is the preferred initialization method. When making the change, be mindful of axis order changes: https://pyproj4.github.io/pyproj/stable/gotchas.html#axis-order-changes-in-proj-6\n",
      "  in_crs_string = _prepare_from_proj_string(in_crs_string)\n",
      "C:\\anaconda3\\envs\\sandpyper_env\\lib\\site-packages\\geopandas\\base.py:39: UserWarning: The indices of the two GeoSeries are different.\n",
      "  warn(\"The indices of the two GeoSeries are different.\")\n",
      "C:\\anaconda3\\envs\\sandpyper_env\\lib\\site-packages\\geopandas\\geodataframe.py:828: UserWarning: Boolean Series key will be reindexed to match DataFrame index.\n",
      "  result = super(GeoDataFrame, self).__getitem__(key)\n",
      "C:\\anaconda3\\envs\\sandpyper_env\\lib\\site-packages\\pyproj\\crs\\crs.py:131: FutureWarning: '+init=<authority>:<code>' syntax is deprecated. '<authority>:<code>' is the preferred initialization method. When making the change, be mindful of axis order changes: https://pyproj4.github.io/pyproj/stable/gotchas.html#axis-order-changes-in-proj-6\n",
      "  in_crs_string = _prepare_from_proj_string(in_crs_string)\n"
     ]
    },
    {
     "name": "stdout",
     "output_type": "stream",
     "text": [
      "Setting to water 750 pts overlapping provided watermasks.\n",
      "Setting to water 532 pts overlapping provided watermasks.\n"
     ]
    },
    {
     "name": "stderr",
     "output_type": "stream",
     "text": [
      "C:\\anaconda3\\envs\\sandpyper_env\\lib\\site-packages\\geopandas\\base.py:39: UserWarning: The indices of the two GeoSeries are different.\n",
      "  warn(\"The indices of the two GeoSeries are different.\")\n",
      "C:\\anaconda3\\envs\\sandpyper_env\\lib\\site-packages\\geopandas\\geodataframe.py:828: UserWarning: Boolean Series key will be reindexed to match DataFrame index.\n",
      "  result = super(GeoDataFrame, self).__getitem__(key)\n",
      "C:\\anaconda3\\envs\\sandpyper_env\\lib\\site-packages\\pyproj\\crs\\crs.py:131: FutureWarning: '+init=<authority>:<code>' syntax is deprecated. '<authority>:<code>' is the preferred initialization method. When making the change, be mindful of axis order changes: https://pyproj4.github.io/pyproj/stable/gotchas.html#axis-order-changes-in-proj-6\n",
      "  in_crs_string = _prepare_from_proj_string(in_crs_string)\n",
      "C:\\anaconda3\\envs\\sandpyper_env\\lib\\site-packages\\geopandas\\base.py:39: UserWarning: The indices of the two GeoSeries are different.\n",
      "  warn(\"The indices of the two GeoSeries are different.\")\n",
      "C:\\anaconda3\\envs\\sandpyper_env\\lib\\site-packages\\geopandas\\geodataframe.py:828: UserWarning: Boolean Series key will be reindexed to match DataFrame index.\n",
      "  result = super(GeoDataFrame, self).__getitem__(key)\n"
     ]
    },
    {
     "name": "stdout",
     "output_type": "stream",
     "text": [
      "Setting to water 710 pts overlapping provided watermasks.\n",
      "Setting to water 532 pts overlapping provided watermasks.\n"
     ]
    },
    {
     "name": "stderr",
     "output_type": "stream",
     "text": [
      "C:\\anaconda3\\envs\\sandpyper_env\\lib\\site-packages\\pyproj\\crs\\crs.py:131: FutureWarning: '+init=<authority>:<code>' syntax is deprecated. '<authority>:<code>' is the preferred initialization method. When making the change, be mindful of axis order changes: https://pyproj4.github.io/pyproj/stable/gotchas.html#axis-order-changes-in-proj-6\n",
      "  in_crs_string = _prepare_from_proj_string(in_crs_string)\n",
      "C:\\anaconda3\\envs\\sandpyper_env\\lib\\site-packages\\geopandas\\base.py:39: UserWarning: The indices of the two GeoSeries are different.\n",
      "  warn(\"The indices of the two GeoSeries are different.\")\n",
      "C:\\anaconda3\\envs\\sandpyper_env\\lib\\site-packages\\geopandas\\geodataframe.py:828: UserWarning: Boolean Series key will be reindexed to match DataFrame index.\n",
      "  result = super(GeoDataFrame, self).__getitem__(key)\n",
      "C:\\anaconda3\\envs\\sandpyper_env\\lib\\site-packages\\pyproj\\crs\\crs.py:131: FutureWarning: '+init=<authority>:<code>' syntax is deprecated. '<authority>:<code>' is the preferred initialization method. When making the change, be mindful of axis order changes: https://pyproj4.github.io/pyproj/stable/gotchas.html#axis-order-changes-in-proj-6\n",
      "  in_crs_string = _prepare_from_proj_string(in_crs_string)\n"
     ]
    },
    {
     "name": "stdout",
     "output_type": "stream",
     "text": [
      "Setting to water 599 pts overlapping provided watermasks.\n",
      "Setting to water 557 pts overlapping provided watermasks.\n"
     ]
    },
    {
     "name": "stderr",
     "output_type": "stream",
     "text": [
      "C:\\anaconda3\\envs\\sandpyper_env\\lib\\site-packages\\geopandas\\base.py:39: UserWarning: The indices of the two GeoSeries are different.\n",
      "  warn(\"The indices of the two GeoSeries are different.\")\n",
      "C:\\anaconda3\\envs\\sandpyper_env\\lib\\site-packages\\geopandas\\geodataframe.py:828: UserWarning: Boolean Series key will be reindexed to match DataFrame index.\n",
      "  result = super(GeoDataFrame, self).__getitem__(key)\n",
      "C:\\anaconda3\\envs\\sandpyper_env\\lib\\site-packages\\pyproj\\crs\\crs.py:131: FutureWarning: '+init=<authority>:<code>' syntax is deprecated. '<authority>:<code>' is the preferred initialization method. When making the change, be mindful of axis order changes: https://pyproj4.github.io/pyproj/stable/gotchas.html#axis-order-changes-in-proj-6\n",
      "  in_crs_string = _prepare_from_proj_string(in_crs_string)\n",
      "C:\\anaconda3\\envs\\sandpyper_env\\lib\\site-packages\\geopandas\\base.py:39: UserWarning: The indices of the two GeoSeries are different.\n",
      "  warn(\"The indices of the two GeoSeries are different.\")\n",
      "C:\\anaconda3\\envs\\sandpyper_env\\lib\\site-packages\\geopandas\\geodataframe.py:828: UserWarning: Boolean Series key will be reindexed to match DataFrame index.\n",
      "  result = super(GeoDataFrame, self).__getitem__(key)\n",
      "C:\\anaconda3\\envs\\sandpyper_env\\lib\\site-packages\\pyproj\\crs\\crs.py:131: FutureWarning: '+init=<authority>:<code>' syntax is deprecated. '<authority>:<code>' is the preferred initialization method. When making the change, be mindful of axis order changes: https://pyproj4.github.io/pyproj/stable/gotchas.html#axis-order-changes-in-proj-6\n",
      "  in_crs_string = _prepare_from_proj_string(in_crs_string)\n",
      "C:\\anaconda3\\envs\\sandpyper_env\\lib\\site-packages\\geopandas\\base.py:39: UserWarning: The indices of the two GeoSeries are different.\n",
      "  warn(\"The indices of the two GeoSeries are different.\")\n"
     ]
    },
    {
     "name": "stdout",
     "output_type": "stream",
     "text": [
      "Setting to water 339 pts overlapping provided watermasks.\n",
      "Setting to water 133 pts overlapping provided watermasks.\n"
     ]
    },
    {
     "name": "stderr",
     "output_type": "stream",
     "text": [
      "C:\\anaconda3\\envs\\sandpyper_env\\lib\\site-packages\\geopandas\\geodataframe.py:828: UserWarning: Boolean Series key will be reindexed to match DataFrame index.\n",
      "  result = super(GeoDataFrame, self).__getitem__(key)\n",
      "C:\\anaconda3\\envs\\sandpyper_env\\lib\\site-packages\\pyproj\\crs\\crs.py:131: FutureWarning: '+init=<authority>:<code>' syntax is deprecated. '<authority>:<code>' is the preferred initialization method. When making the change, be mindful of axis order changes: https://pyproj4.github.io/pyproj/stable/gotchas.html#axis-order-changes-in-proj-6\n",
      "  in_crs_string = _prepare_from_proj_string(in_crs_string)\n",
      "C:\\anaconda3\\envs\\sandpyper_env\\lib\\site-packages\\geopandas\\base.py:39: UserWarning: The indices of the two GeoSeries are different.\n",
      "  warn(\"The indices of the two GeoSeries are different.\")\n",
      "C:\\anaconda3\\envs\\sandpyper_env\\lib\\site-packages\\geopandas\\geodataframe.py:828: UserWarning: Boolean Series key will be reindexed to match DataFrame index.\n",
      "  result = super(GeoDataFrame, self).__getitem__(key)\n",
      "C:\\anaconda3\\envs\\sandpyper_env\\lib\\site-packages\\pyproj\\crs\\crs.py:131: FutureWarning: '+init=<authority>:<code>' syntax is deprecated. '<authority>:<code>' is the preferred initialization method. When making the change, be mindful of axis order changes: https://pyproj4.github.io/pyproj/stable/gotchas.html#axis-order-changes-in-proj-6\n",
      "  in_crs_string = _prepare_from_proj_string(in_crs_string)\n"
     ]
    },
    {
     "name": "stdout",
     "output_type": "stream",
     "text": [
      "Setting to water 441 pts overlapping provided watermasks.\n",
      "Watermasking in leo.\n"
     ]
    },
    {
     "data": {
      "application/vnd.jupyter.widget-view+json": {
       "model_id": "67507fb3c2ee4f11ad7fbcecfa1e2a4f",
       "version_major": 2,
       "version_minor": 0
      },
      "text/plain": [
       "  0%|          | 0/6 [00:00<?, ?it/s]"
      ]
     },
     "metadata": {},
     "output_type": "display_data"
    },
    {
     "name": "stderr",
     "output_type": "stream",
     "text": [
      "C:\\anaconda3\\envs\\sandpyper_env\\lib\\site-packages\\geopandas\\base.py:39: UserWarning: The indices of the two GeoSeries are different.\n",
      "  warn(\"The indices of the two GeoSeries are different.\")\n",
      "C:\\anaconda3\\envs\\sandpyper_env\\lib\\site-packages\\pyproj\\crs\\crs.py:131: FutureWarning: '+init=<authority>:<code>' syntax is deprecated. '<authority>:<code>' is the preferred initialization method. When making the change, be mindful of axis order changes: https://pyproj4.github.io/pyproj/stable/gotchas.html#axis-order-changes-in-proj-6\n",
      "  in_crs_string = _prepare_from_proj_string(in_crs_string)\n"
     ]
    },
    {
     "name": "stdout",
     "output_type": "stream",
     "text": [
      "Setting to water 652 pts overlapping provided watermasks.\n"
     ]
    },
    {
     "name": "stderr",
     "output_type": "stream",
     "text": [
      "C:\\anaconda3\\envs\\sandpyper_env\\lib\\site-packages\\geopandas\\base.py:39: UserWarning: The indices of the two GeoSeries are different.\n",
      "  warn(\"The indices of the two GeoSeries are different.\")\n",
      "C:\\anaconda3\\envs\\sandpyper_env\\lib\\site-packages\\geopandas\\geodataframe.py:828: UserWarning: Boolean Series key will be reindexed to match DataFrame index.\n",
      "  result = super(GeoDataFrame, self).__getitem__(key)\n",
      "C:\\anaconda3\\envs\\sandpyper_env\\lib\\site-packages\\pyproj\\crs\\crs.py:131: FutureWarning: '+init=<authority>:<code>' syntax is deprecated. '<authority>:<code>' is the preferred initialization method. When making the change, be mindful of axis order changes: https://pyproj4.github.io/pyproj/stable/gotchas.html#axis-order-changes-in-proj-6\n",
      "  in_crs_string = _prepare_from_proj_string(in_crs_string)\n",
      "C:\\anaconda3\\envs\\sandpyper_env\\lib\\site-packages\\geopandas\\base.py:39: UserWarning: The indices of the two GeoSeries are different.\n",
      "  warn(\"The indices of the two GeoSeries are different.\")\n",
      "C:\\anaconda3\\envs\\sandpyper_env\\lib\\site-packages\\geopandas\\geodataframe.py:828: UserWarning: Boolean Series key will be reindexed to match DataFrame index.\n",
      "  result = super(GeoDataFrame, self).__getitem__(key)\n",
      "C:\\anaconda3\\envs\\sandpyper_env\\lib\\site-packages\\pyproj\\crs\\crs.py:131: FutureWarning: '+init=<authority>:<code>' syntax is deprecated. '<authority>:<code>' is the preferred initialization method. When making the change, be mindful of axis order changes: https://pyproj4.github.io/pyproj/stable/gotchas.html#axis-order-changes-in-proj-6\n",
      "  in_crs_string = _prepare_from_proj_string(in_crs_string)\n"
     ]
    },
    {
     "name": "stdout",
     "output_type": "stream",
     "text": [
      "Setting to water 555 pts overlapping provided watermasks.\n",
      "Setting to water 638 pts overlapping provided watermasks.\n"
     ]
    },
    {
     "name": "stderr",
     "output_type": "stream",
     "text": [
      "C:\\anaconda3\\envs\\sandpyper_env\\lib\\site-packages\\geopandas\\base.py:39: UserWarning: The indices of the two GeoSeries are different.\n",
      "  warn(\"The indices of the two GeoSeries are different.\")\n",
      "C:\\anaconda3\\envs\\sandpyper_env\\lib\\site-packages\\geopandas\\geodataframe.py:828: UserWarning: Boolean Series key will be reindexed to match DataFrame index.\n",
      "  result = super(GeoDataFrame, self).__getitem__(key)\n",
      "C:\\anaconda3\\envs\\sandpyper_env\\lib\\site-packages\\pyproj\\crs\\crs.py:131: FutureWarning: '+init=<authority>:<code>' syntax is deprecated. '<authority>:<code>' is the preferred initialization method. When making the change, be mindful of axis order changes: https://pyproj4.github.io/pyproj/stable/gotchas.html#axis-order-changes-in-proj-6\n",
      "  in_crs_string = _prepare_from_proj_string(in_crs_string)\n"
     ]
    },
    {
     "name": "stdout",
     "output_type": "stream",
     "text": [
      "Setting to water 627 pts overlapping provided watermasks.\n",
      "Setting to water 583 pts overlapping provided watermasks.\n"
     ]
    },
    {
     "name": "stderr",
     "output_type": "stream",
     "text": [
      "C:\\anaconda3\\envs\\sandpyper_env\\lib\\site-packages\\geopandas\\base.py:39: UserWarning: The indices of the two GeoSeries are different.\n",
      "  warn(\"The indices of the two GeoSeries are different.\")\n",
      "C:\\anaconda3\\envs\\sandpyper_env\\lib\\site-packages\\geopandas\\geodataframe.py:828: UserWarning: Boolean Series key will be reindexed to match DataFrame index.\n",
      "  result = super(GeoDataFrame, self).__getitem__(key)\n",
      "C:\\anaconda3\\envs\\sandpyper_env\\lib\\site-packages\\pyproj\\crs\\crs.py:131: FutureWarning: '+init=<authority>:<code>' syntax is deprecated. '<authority>:<code>' is the preferred initialization method. When making the change, be mindful of axis order changes: https://pyproj4.github.io/pyproj/stable/gotchas.html#axis-order-changes-in-proj-6\n",
      "  in_crs_string = _prepare_from_proj_string(in_crs_string)\n",
      "C:\\anaconda3\\envs\\sandpyper_env\\lib\\site-packages\\geopandas\\base.py:39: UserWarning: The indices of the two GeoSeries are different.\n",
      "  warn(\"The indices of the two GeoSeries are different.\")\n",
      "C:\\anaconda3\\envs\\sandpyper_env\\lib\\site-packages\\geopandas\\geodataframe.py:828: UserWarning: Boolean Series key will be reindexed to match DataFrame index.\n",
      "  result = super(GeoDataFrame, self).__getitem__(key)\n",
      "C:\\anaconda3\\envs\\sandpyper_env\\lib\\site-packages\\pyproj\\crs\\crs.py:131: FutureWarning: '+init=<authority>:<code>' syntax is deprecated. '<authority>:<code>' is the preferred initialization method. When making the change, be mindful of axis order changes: https://pyproj4.github.io/pyproj/stable/gotchas.html#axis-order-changes-in-proj-6\n",
      "  in_crs_string = _prepare_from_proj_string(in_crs_string)\n"
     ]
    },
    {
     "name": "stdout",
     "output_type": "stream",
     "text": [
      "Setting to water 643 pts overlapping provided watermasks.\n",
      "shoremask  provided in CRS: epsg:32754\n",
      "Applying shoremasks cleaning.\n",
      "Shoremasking in mar.\n"
     ]
    },
    {
     "name": "stderr",
     "output_type": "stream",
     "text": [
      "C:\\anaconda3\\envs\\sandpyper_env\\lib\\site-packages\\geopandas\\geodataframe.py:422: RuntimeWarning: Sequential read of iterator was interrupted. Resetting iterator. This can negatively impact the performance.\n",
      "  for feature in features_lst:\n",
      "C:\\anaconda3\\envs\\sandpyper_env\\lib\\site-packages\\geopandas\\base.py:39: UserWarning: The indices of the two GeoSeries are different.\n",
      "  warn(\"The indices of the two GeoSeries are different.\")\n",
      "C:\\anaconda3\\envs\\sandpyper_env\\lib\\site-packages\\geopandas\\geodataframe.py:828: UserWarning: Boolean Series key will be reindexed to match DataFrame index.\n",
      "  result = super(GeoDataFrame, self).__getitem__(key)\n",
      "C:\\anaconda3\\envs\\sandpyper_env\\lib\\site-packages\\pyproj\\crs\\crs.py:131: FutureWarning: '+init=<authority>:<code>' syntax is deprecated. '<authority>:<code>' is the preferred initialization method. When making the change, be mindful of axis order changes: https://pyproj4.github.io/pyproj/stable/gotchas.html#axis-order-changes-in-proj-6\n",
      "  in_crs_string = _prepare_from_proj_string(in_crs_string)\n"
     ]
    },
    {
     "name": "stdout",
     "output_type": "stream",
     "text": [
      "Removing 3621 pts falling outside provided shore polygones.\n",
      "Shoremasking in leo.\n"
     ]
    },
    {
     "name": "stderr",
     "output_type": "stream",
     "text": [
      "C:\\anaconda3\\envs\\sandpyper_env\\lib\\site-packages\\geopandas\\base.py:39: UserWarning: The indices of the two GeoSeries are different.\n",
      "  warn(\"The indices of the two GeoSeries are different.\")\n",
      "C:\\anaconda3\\envs\\sandpyper_env\\lib\\site-packages\\pyproj\\crs\\crs.py:131: FutureWarning: '+init=<authority>:<code>' syntax is deprecated. '<authority>:<code>' is the preferred initialization method. When making the change, be mindful of axis order changes: https://pyproj4.github.io/pyproj/stable/gotchas.html#axis-order-changes-in-proj-6\n",
      "  in_crs_string = _prepare_from_proj_string(in_crs_string)\n"
     ]
    },
    {
     "name": "stdout",
     "output_type": "stream",
     "text": [
      "Removing 2358 pts falling outside provided shore polygones.\n",
      "['polygon finetuning', 'watermasking', 'shoremasking'] completed.\n"
     ]
    }
   ],
   "source": [
    "P.cleanit(l_dicts=l_dicts,\n",
    "          watermasks_path=watermasks_path,\n",
    "          shoremasks_path=shoremasks_path,\n",
    "          label_corrections_path=label_corrections_path)"
   ]
  },
  {
   "cell_type": "markdown",
   "id": "c006080d",
   "metadata": {},
   "source": [
    "DONE!\n",
    "\n",
    "Now we have a cleaned and tidy classified dataset of elevation profiles, ready to be analysed to extract sediment specific altimetric, volumetric and behavioural dynamics information.\n",
    "\n",
    "A new attribute has been stored, *ProfileSet.cleaning_steps*, which is a list of the cleaning steps applied to the current profiles."
   ]
  },
  {
   "cell_type": "code",
   "execution_count": 16,
   "id": "476e825f",
   "metadata": {},
   "outputs": [
    {
     "data": {
      "text/plain": [
       "['polygon finetuning', 'watermasking', 'shoremasking']"
      ]
     },
     "execution_count": 16,
     "metadata": {},
     "output_type": "execute_result"
    }
   ],
   "source": [
    "P.cleaning_steps"
   ]
  },
  {
   "cell_type": "markdown",
   "id": "f39ae1ac",
   "metadata": {},
   "source": [
    "## Save it"
   ]
  },
  {
   "cell_type": "markdown",
   "id": "2643bbb3",
   "metadata": {},
   "source": [
    "To save the objects, just call the method *ProfileSet.save* with only two arguments:\n",
    "1. the path to the folder where to save the data.\n",
    "2. the name of the file you want to create."
   ]
  },
  {
   "cell_type": "code",
   "execution_count": null,
   "id": "8118b97b",
   "metadata": {},
   "outputs": [],
   "source": [
    "dir_out=r'C:\\my_packages\\sandpyper\\examples\\test_data'\n",
    "\n",
    "name=\"test\"\n",
    "P.save(name,dir_out)\n",
    "P"
   ]
  },
  {
   "cell_type": "markdown",
   "id": "c5ced0b5",
   "metadata": {},
   "source": [
    "## Conclusion"
   ]
  },
  {
   "cell_type": "markdown",
   "id": "72446987",
   "metadata": {},
   "source": [
    "In this notebook we extracted the elevation and colour information from all our rasters and used it with an iterative Silhouette analysis and KMeans algorithm to unsupervisingly partition the data into clusters of similar points. Then, we assigned meaning of these labels using an external GIS and cleaned and clipped the data into our final slassified dataset. In the next notebook we will finally obtain multi-scale information about sediment dynamics in each site/transect."
   ]
  },
  {
   "cell_type": "markdown",
   "id": "007ed84a",
   "metadata": {},
   "source": [
    "___"
   ]
  }
 ],
 "metadata": {
  "kernelspec": {
   "display_name": "Python 3 (ipykernel)",
   "language": "python",
   "name": "python3"
  },
  "language_info": {
   "codemirror_mode": {
    "name": "ipython",
    "version": 3
   },
   "file_extension": ".py",
   "mimetype": "text/x-python",
   "name": "python",
   "nbconvert_exporter": "python",
   "pygments_lexer": "ipython3",
   "version": "3.8.10"
  }
 },
 "nbformat": 4,
 "nbformat_minor": 5
}
