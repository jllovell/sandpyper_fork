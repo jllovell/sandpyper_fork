{
 "cells": [
  {
   "cell_type": "markdown",
   "id": "5ca8c18a",
   "metadata": {},
   "source": [
    "<font size=\"5\"><center> <b>Sandpyper: sandy beaches SfM-UAV analysis tools</b></center></font>\n",
    "\n",
    "    \n",
    "<center><img src=\"images/banner.png\" width=\"80%\"  /></center>\n",
    "\n",
    "<font face=\"Calibri\">"
   ]
  },
  {
   "cell_type": "markdown",
   "id": "f28f277f",
   "metadata": {},
   "source": [
    "# Profile extraction, LoD and data cleaning"
   ]
  },
  {
   "cell_type": "markdown",
   "id": "7eee748d",
   "metadata": {},
   "source": [
    "<font size=\"3\"> <b> Nicolas Pucino; PhD Student @ Deakin University, Australia </b> <br>\n",
    "\n",
    "<b>This notebook covers the following concepts:</b>\n",
    "\n",
    "- The ProfileSet class.\n",
    "- Data extraction.\n",
    "- Limit of Detections (LoDs).\n",
    "</font>\n",
    "\n",
    "\n",
    "</font>"
   ]
  },
  {
   "cell_type": "code",
   "execution_count": 1,
   "id": "d7d2c760",
   "metadata": {},
   "outputs": [
    {
     "name": "stderr",
     "output_type": "stream",
     "text": [
      "C:\\conda3\\envs\\sandpyper_env\\lib\\site-packages\\pysal\\explore\\segregation\\network\\network.py:15: UserWarning: You need pandana and urbanaccess to work with segregation's network module\n",
      "You can install them with  `pip install urbanaccess pandana` or `conda install -c udst pandana urbanaccess`\n",
      "  warn(\n",
      "C:\\conda3\\envs\\sandpyper_env\\lib\\site-packages\\pysal\\model\\spvcm\\abstracts.py:10: UserWarning: The `dill` module is required to use the sqlite backend fully.\n",
      "  from .sqlite import head_to_sql, start_sql\n",
      "C:\\conda3\\envs\\sandpyper_env\\lib\\site-packages\\fuzzywuzzy\\fuzz.py:11: UserWarning: Using slow pure-python SequenceMatcher. Install python-Levenshtein to remove this warning\n",
      "  warnings.warn('Using slow pure-python SequenceMatcher. Install python-Levenshtein to remove this warning')\n"
     ]
    }
   ],
   "source": [
    "%matplotlib notebook\n",
    "\n",
    "import matplotlib.pyplot as plt\n",
    "import pandas as pd\n",
    "import rasterio as ras\n",
    "from rasterio.plot import show\n",
    "\n",
    "from sandpyper.sandpyper import ProfileSet\n",
    "from sandpyper.common import get_sil_location, get_opt_k\n",
    "\n",
    "pd.options.mode.chained_assignment = None  # default='warn'"
   ]
  },
  {
   "cell_type": "markdown",
   "id": "62cf4119",
   "metadata": {},
   "source": [
    "## Introduction"
   ]
  },
  {
   "cell_type": "markdown",
   "id": "d49ee8a3",
   "metadata": {},
   "source": [
    "The __ProfileSet__ class is an object that contains all the information necessary to carry a typical *sandpyper* analysis from start to end. Once instantiated, it will contains a number of global variables that store some fundamental monitoring charasteristics such as:\n",
    "\n",
    "* paths to the data directories\n",
    "* coordinate reference systems of each site\n",
    "* location codes and search keywords\n",
    "* some monitoring parameters such as alongshore transect spacing, acrosshore sampling step and cleaning steps used\n",
    "* and of course, the elevation and colour profile data.\n",
    "\n",
    "Moreover, a few key methods will:\n",
    "\n",
    "1. extract data from the provided transects\n",
    "2. cluster extracted points using unsupervised clustering algorithm KMeans\n",
    "3. clean the dataset with user-provided watermasks, shoremasks and fine-tuning polygons.\n",
    "\n",
    "Moreover, when the __ProfileSet__ class is instantiated, it prints out the number of DSMs and orthophotos found for each location in the provided folders and it also creates a dataframe storing filenames, CRSs, location codes and raw dates extracted from the filenames. This dataframe is useful as a sanity check to see if all the information are correct before proceeding with the actual profile extraction. It will be stored as the attribute *ProfileSet.check*.\n",
    "\n",
    "Let's see here how it all works...\n",
    "\n",
    "First, create the required monitoring global settings."
   ]
  },
  {
   "cell_type": "code",
   "execution_count": 2,
   "id": "6445d6cd",
   "metadata": {},
   "outputs": [],
   "source": [
    "# the paths to the DSM, orthophotos and transect directories\n",
    "dirNameDSM=r'C:\\my_packages\\sandpyper\\tests\\test_data\\dsm_1m'\n",
    "dirNameOrtho=r'C:\\my_packages\\sandpyper\\tests\\test_data\\orthos_1m'\n",
    "dirNameTrans=r'C:\\my_packages\\sandpyper\\tests\\test_data\\transects'\n",
    "\n",
    "# the location codes used for the monitored locations\n",
    "loc_codes=[\"mar\",\"leo\"]\n",
    "\n",
    "\n",
    "# the keyword search dictionary\n",
    "loc_search_dict = {   'leo': ['St','Leonards','leonards','leo'],\n",
    "                   'mar': ['Marengo','marengo','mar'] }\n",
    "\n",
    "\n",
    "# the EPSG codes of the coordinate reference systems for each location code (location) given in CRS string format\n",
    "crs_dict_string= {\n",
    "                 'mar': {'init': 'epsg:32754'},\n",
    "                 'leo':{'init': 'epsg:32755'}\n",
    "                 }\n",
    "\n",
    "# the transect spacing of the transects\n",
    "transects_spacing=20"
   ]
  },
  {
   "cell_type": "markdown",
   "id": "707dea5f",
   "metadata": {},
   "source": [
    "Then, create an instance of the ProfileSet class. Let's set 'check' parameter to 'all' to create the check dataframe\n",
    "and store it in the variable P.check.\n"
   ]
  },
  {
   "cell_type": "code",
   "execution_count": 3,
   "id": "39067452",
   "metadata": {},
   "outputs": [
    {
     "name": "stderr",
     "output_type": "stream",
     "text": [
      "C:\\conda3\\envs\\sandpyper_env\\lib\\site-packages\\geopandas\\geodataframe.py:422: RuntimeWarning: Sequential read of iterator was interrupted. Resetting iterator. This can negatively impact the performance.\n",
      "  for feature in features_lst:\n"
     ]
    },
    {
     "name": "stdout",
     "output_type": "stream",
     "text": [
      "dsm from leo = 6\n",
      "\n",
      "ortho from leo = 6\n",
      "\n",
      "dsm from mar = 9\n",
      "\n",
      "ortho from mar = 9\n",
      "\n",
      "\n",
      "NUMBER OF DATASETS TO PROCESS: 30\n"
     ]
    }
   ],
   "source": [
    "P=ProfileSet(dirNameDSM=dirNameDSM,\n",
    "            dirNameOrtho=dirNameOrtho,\n",
    "            dirNameTrans=dirNameTrans,\n",
    "            transects_spacing=transects_spacing,\n",
    "            loc_codes=loc_codes,\n",
    "            loc_search_dict=loc_search_dict,\n",
    "            crs_dict_string=crs_dict_string,\n",
    "            check=\"all\")"
   ]
  },
  {
   "cell_type": "markdown",
   "id": "e8e738d0",
   "metadata": {},
   "source": [
    "Check the infromation extracted from the formatted filenames.\n",
    "All the CRSs in a line (survey) must match!"
   ]
  },
  {
   "cell_type": "markdown",
   "id": "5d66e350",
   "metadata": {},
   "source": [
    "## Extraction of profiles from folder\n",
    "\n",
    "After checking the check dataframe and all looks right, we are ready to actually extract the data from both DSMs and orhtophotos using the *.extract_profiles* method.\n",
    "Importantly, we also extract the data for the Limit of Detections (LoD) computation, using some transects digitised over areas we expect __NOT TO BE CHANGING__ in elevation during the monitoring period, also known as calibration zones.\n",
    "\n",
    "Thus, the most important parameters to set are:\n",
    "\n",
    "1. __sampling step__: indicates the __cross-shore sampling distance (m)__ that we want to use along our transects. Beware, although you could use a very small sampling distance (UAV datasets tend to be between few to 10 cm pixel size), file dimension will increase significantly!.\n",
    "\n",
    "2. __lod__: this can be the path to a directory containing the lod transects to use as lod, a number to use as lod for all surveys in all locations or None."
   ]
  },
  {
   "cell_type": "code",
   "execution_count": 4,
   "id": "c01a5b49",
   "metadata": {},
   "outputs": [],
   "source": [
    "# path to the LoD transects\n",
    "\n",
    "lod_mode=r\"C:\\my_packages\\sandpyper\\tests\\test_data\\lod_transects\""
   ]
  },
  {
   "cell_type": "markdown",
   "id": "f05de363",
   "metadata": {},
   "source": [
    "The parameter __mode__ is here set to 'all' as we want to extract pixel values from both the DSMs and orthophotos, while the parameter __tr_ids__ specifies the name of the field in the transect file is used to store the transect IDs."
   ]
  },
  {
   "cell_type": "code",
   "execution_count": 5,
   "id": "032dde91",
   "metadata": {},
   "outputs": [
    {
     "name": "stdout",
     "output_type": "stream",
     "text": [
      "Extracting elevation from DSMs . . .\n"
     ]
    },
    {
     "data": {
      "application/vnd.jupyter.widget-view+json": {
       "model_id": "e6c573282b3b4075bbe3e223e71ff27f",
       "version_major": 2,
       "version_minor": 0
      },
      "text/plain": [
       "  0%|          | 0/15 [00:00<?, ?it/s]"
      ]
     },
     "metadata": {},
     "output_type": "display_data"
    },
    {
     "data": {
      "application/vnd.jupyter.widget-view+json": {
       "model_id": "c72b37fc1eab4973b7de1c10437b24c5",
       "version_major": 2,
       "version_minor": 0
      },
      "text/plain": [
       "  0%|          | 0/59 [00:00<?, ?it/s]"
      ]
     },
     "metadata": {},
     "output_type": "display_data"
    },
    {
     "data": {
      "application/vnd.jupyter.widget-view+json": {
       "model_id": "2684ad1e8fbb4cc5be64ae44bf39ac00",
       "version_major": 2,
       "version_minor": 0
      },
      "text/plain": [
       "  0%|          | 0/59 [00:00<?, ?it/s]"
      ]
     },
     "metadata": {},
     "output_type": "display_data"
    },
    {
     "data": {
      "application/vnd.jupyter.widget-view+json": {
       "model_id": "955595a4e1f94268b6e5d42c67c44abf",
       "version_major": 2,
       "version_minor": 0
      },
      "text/plain": [
       "  0%|          | 0/59 [00:00<?, ?it/s]"
      ]
     },
     "metadata": {},
     "output_type": "display_data"
    },
    {
     "data": {
      "application/vnd.jupyter.widget-view+json": {
       "model_id": "7bee358a0ef64e2790f39f7d74830d22",
       "version_major": 2,
       "version_minor": 0
      },
      "text/plain": [
       "  0%|          | 0/59 [00:00<?, ?it/s]"
      ]
     },
     "metadata": {},
     "output_type": "display_data"
    },
    {
     "data": {
      "application/vnd.jupyter.widget-view+json": {
       "model_id": "ae022feebac748249942d9b2bcc07f83",
       "version_major": 2,
       "version_minor": 0
      },
      "text/plain": [
       "  0%|          | 0/59 [00:00<?, ?it/s]"
      ]
     },
     "metadata": {},
     "output_type": "display_data"
    },
    {
     "data": {
      "application/vnd.jupyter.widget-view+json": {
       "model_id": "269dfb6967b54a989f717bf8cdd9c47a",
       "version_major": 2,
       "version_minor": 0
      },
      "text/plain": [
       "  0%|          | 0/59 [00:00<?, ?it/s]"
      ]
     },
     "metadata": {},
     "output_type": "display_data"
    },
    {
     "data": {
      "application/vnd.jupyter.widget-view+json": {
       "model_id": "d8c540eec5f042f1b0a936ba1dc72d94",
       "version_major": 2,
       "version_minor": 0
      },
      "text/plain": [
       "  0%|          | 0/22 [00:00<?, ?it/s]"
      ]
     },
     "metadata": {},
     "output_type": "display_data"
    },
    {
     "data": {
      "application/vnd.jupyter.widget-view+json": {
       "model_id": "e7827cc0c99048b3bb59213eeefe84b2",
       "version_major": 2,
       "version_minor": 0
      },
      "text/plain": [
       "  0%|          | 0/22 [00:00<?, ?it/s]"
      ]
     },
     "metadata": {},
     "output_type": "display_data"
    },
    {
     "data": {
      "application/vnd.jupyter.widget-view+json": {
       "model_id": "1ab481bb054f47a98e5b9ef477cbdc2c",
       "version_major": 2,
       "version_minor": 0
      },
      "text/plain": [
       "  0%|          | 0/22 [00:00<?, ?it/s]"
      ]
     },
     "metadata": {},
     "output_type": "display_data"
    },
    {
     "data": {
      "application/vnd.jupyter.widget-view+json": {
       "model_id": "46e6a96f9ced456daf79845decc929a4",
       "version_major": 2,
       "version_minor": 0
      },
      "text/plain": [
       "  0%|          | 0/22 [00:00<?, ?it/s]"
      ]
     },
     "metadata": {},
     "output_type": "display_data"
    },
    {
     "data": {
      "application/vnd.jupyter.widget-view+json": {
       "model_id": "6af0c1776985427f998908829e9a80cf",
       "version_major": 2,
       "version_minor": 0
      },
      "text/plain": [
       "  0%|          | 0/22 [00:00<?, ?it/s]"
      ]
     },
     "metadata": {},
     "output_type": "display_data"
    },
    {
     "data": {
      "application/vnd.jupyter.widget-view+json": {
       "model_id": "a0064d9294554edbb97eeeca97a03c6d",
       "version_major": 2,
       "version_minor": 0
      },
      "text/plain": [
       "  0%|          | 0/22 [00:00<?, ?it/s]"
      ]
     },
     "metadata": {},
     "output_type": "display_data"
    },
    {
     "data": {
      "application/vnd.jupyter.widget-view+json": {
       "model_id": "dde4692df85247df90903804067c1828",
       "version_major": 2,
       "version_minor": 0
      },
      "text/plain": [
       "  0%|          | 0/22 [00:00<?, ?it/s]"
      ]
     },
     "metadata": {},
     "output_type": "display_data"
    },
    {
     "data": {
      "application/vnd.jupyter.widget-view+json": {
       "model_id": "dbe4e0ccc21f4557a11e3be94916323e",
       "version_major": 2,
       "version_minor": 0
      },
      "text/plain": [
       "  0%|          | 0/22 [00:00<?, ?it/s]"
      ]
     },
     "metadata": {},
     "output_type": "display_data"
    },
    {
     "data": {
      "application/vnd.jupyter.widget-view+json": {
       "model_id": "0fb930bef99b484b90ca80916a3b78e0",
       "version_major": 2,
       "version_minor": 0
      },
      "text/plain": [
       "  0%|          | 0/22 [00:00<?, ?it/s]"
      ]
     },
     "metadata": {},
     "output_type": "display_data"
    },
    {
     "name": "stdout",
     "output_type": "stream",
     "text": [
      "Extraction succesfull\n",
      "Number of points extracted:32805\n",
      "Time for processing=38.80225157737732 seconds\n",
      "First 10 rows are printed below\n",
      "Number of points outside the raster extents: 9066\n",
      "The extraction assigns NaN.\n",
      "Number of points in NoData areas within the raster extents: 250\n",
      "The extraction assigns NaN.\n",
      "Extracting rgb values from orthos . . .\n"
     ]
    },
    {
     "data": {
      "application/vnd.jupyter.widget-view+json": {
       "model_id": "a0ec1538d4154b54b61a7622f31798d8",
       "version_major": 2,
       "version_minor": 0
      },
      "text/plain": [
       "  0%|          | 0/15 [00:00<?, ?it/s]"
      ]
     },
     "metadata": {},
     "output_type": "display_data"
    },
    {
     "name": "stderr",
     "output_type": "stream",
     "text": [
      "C:\\conda3\\envs\\sandpyper_env\\lib\\site-packages\\geopandas\\geodataframe.py:422: RuntimeWarning: Sequential read of iterator was interrupted. Resetting iterator. This can negatively impact the performance.\n",
      "  for feature in features_lst:\n"
     ]
    },
    {
     "data": {
      "application/vnd.jupyter.widget-view+json": {
       "model_id": "ec5b963eeadf4045ad91dee84cc7ebe3",
       "version_major": 2,
       "version_minor": 0
      },
      "text/plain": [
       "  0%|          | 0/59 [00:00<?, ?it/s]"
      ]
     },
     "metadata": {},
     "output_type": "display_data"
    },
    {
     "data": {
      "application/vnd.jupyter.widget-view+json": {
       "model_id": "515d5e10b5c34ef9b8c6e00d29f01453",
       "version_major": 2,
       "version_minor": 0
      },
      "text/plain": [
       "  0%|          | 0/59 [00:00<?, ?it/s]"
      ]
     },
     "metadata": {},
     "output_type": "display_data"
    },
    {
     "data": {
      "application/vnd.jupyter.widget-view+json": {
       "model_id": "7153990f416a40b48de2d758e2ae19e7",
       "version_major": 2,
       "version_minor": 0
      },
      "text/plain": [
       "  0%|          | 0/59 [00:00<?, ?it/s]"
      ]
     },
     "metadata": {},
     "output_type": "display_data"
    },
    {
     "data": {
      "application/vnd.jupyter.widget-view+json": {
       "model_id": "68a5d433773e41b4825b28a5273a2c84",
       "version_major": 2,
       "version_minor": 0
      },
      "text/plain": [
       "  0%|          | 0/59 [00:00<?, ?it/s]"
      ]
     },
     "metadata": {},
     "output_type": "display_data"
    },
    {
     "data": {
      "application/vnd.jupyter.widget-view+json": {
       "model_id": "a310849d682e4eb1b8c2c1ba12398d3a",
       "version_major": 2,
       "version_minor": 0
      },
      "text/plain": [
       "  0%|          | 0/59 [00:00<?, ?it/s]"
      ]
     },
     "metadata": {},
     "output_type": "display_data"
    },
    {
     "data": {
      "application/vnd.jupyter.widget-view+json": {
       "model_id": "70f12a39de984d3fa8e9533c2083ee9d",
       "version_major": 2,
       "version_minor": 0
      },
      "text/plain": [
       "  0%|          | 0/59 [00:00<?, ?it/s]"
      ]
     },
     "metadata": {},
     "output_type": "display_data"
    },
    {
     "data": {
      "application/vnd.jupyter.widget-view+json": {
       "model_id": "10e1753431f34f7d82ab2920a5d5f404",
       "version_major": 2,
       "version_minor": 0
      },
      "text/plain": [
       "  0%|          | 0/22 [00:00<?, ?it/s]"
      ]
     },
     "metadata": {},
     "output_type": "display_data"
    },
    {
     "data": {
      "application/vnd.jupyter.widget-view+json": {
       "model_id": "0ae2c462611f42dd9fb0a125a07f77b7",
       "version_major": 2,
       "version_minor": 0
      },
      "text/plain": [
       "  0%|          | 0/22 [00:00<?, ?it/s]"
      ]
     },
     "metadata": {},
     "output_type": "display_data"
    },
    {
     "data": {
      "application/vnd.jupyter.widget-view+json": {
       "model_id": "ed4b18d0b9154b9ca288dac49945d89d",
       "version_major": 2,
       "version_minor": 0
      },
      "text/plain": [
       "  0%|          | 0/22 [00:00<?, ?it/s]"
      ]
     },
     "metadata": {},
     "output_type": "display_data"
    },
    {
     "data": {
      "application/vnd.jupyter.widget-view+json": {
       "model_id": "5e54fbb58a144428848902314cddbcf2",
       "version_major": 2,
       "version_minor": 0
      },
      "text/plain": [
       "  0%|          | 0/22 [00:00<?, ?it/s]"
      ]
     },
     "metadata": {},
     "output_type": "display_data"
    },
    {
     "data": {
      "application/vnd.jupyter.widget-view+json": {
       "model_id": "c3539036768948829f4a5ee9331dded4",
       "version_major": 2,
       "version_minor": 0
      },
      "text/plain": [
       "  0%|          | 0/22 [00:00<?, ?it/s]"
      ]
     },
     "metadata": {},
     "output_type": "display_data"
    },
    {
     "data": {
      "application/vnd.jupyter.widget-view+json": {
       "model_id": "7f11af9b47754bc88ad46542bb1b70ef",
       "version_major": 2,
       "version_minor": 0
      },
      "text/plain": [
       "  0%|          | 0/22 [00:00<?, ?it/s]"
      ]
     },
     "metadata": {},
     "output_type": "display_data"
    },
    {
     "data": {
      "application/vnd.jupyter.widget-view+json": {
       "model_id": "e024af3c523f4013a2571959ee3059d2",
       "version_major": 2,
       "version_minor": 0
      },
      "text/plain": [
       "  0%|          | 0/22 [00:00<?, ?it/s]"
      ]
     },
     "metadata": {},
     "output_type": "display_data"
    },
    {
     "data": {
      "application/vnd.jupyter.widget-view+json": {
       "model_id": "383ef648a85440adb5d9abd9188086d7",
       "version_major": 2,
       "version_minor": 0
      },
      "text/plain": [
       "  0%|          | 0/22 [00:00<?, ?it/s]"
      ]
     },
     "metadata": {},
     "output_type": "display_data"
    },
    {
     "data": {
      "application/vnd.jupyter.widget-view+json": {
       "model_id": "df9cbee61c734f21a9cd15e6b1455494",
       "version_major": 2,
       "version_minor": 0
      },
      "text/plain": [
       "  0%|          | 0/22 [00:00<?, ?it/s]"
      ]
     },
     "metadata": {},
     "output_type": "display_data"
    },
    {
     "name": "stdout",
     "output_type": "stream",
     "text": [
      "Extraction succesfull\n",
      "Number of points extracted:32805\n",
      "Time for processing=43.51100826263428 seconds\n",
      "First 10 rows are printed below\n",
      "Number of points outside the raster extents: 27198\n",
      "The extraction assigns NaN.\n",
      "Number of points in NoData areas within the raster extents: 0\n",
      "The extraction assigns NaN.\n",
      "Extracting LoD values\n"
     ]
    },
    {
     "data": {
      "application/vnd.jupyter.widget-view+json": {
       "model_id": "ccf716dee6594bc1bb54e2904a007fff",
       "version_major": 2,
       "version_minor": 0
      },
      "text/plain": [
       "  0%|          | 0/15 [00:00<?, ?it/s]"
      ]
     },
     "metadata": {},
     "output_type": "display_data"
    },
    {
     "name": "stderr",
     "output_type": "stream",
     "text": [
      "C:\\conda3\\envs\\sandpyper_env\\lib\\site-packages\\geopandas\\geodataframe.py:422: RuntimeWarning: Sequential read of iterator was interrupted. Resetting iterator. This can negatively impact the performance.\n",
      "  for feature in features_lst:\n"
     ]
    },
    {
     "data": {
      "application/vnd.jupyter.widget-view+json": {
       "model_id": "fc397ad64b544961913ced0f5a0f39d5",
       "version_major": 2,
       "version_minor": 0
      },
      "text/plain": [
       "  0%|          | 0/7 [00:00<?, ?it/s]"
      ]
     },
     "metadata": {},
     "output_type": "display_data"
    },
    {
     "data": {
      "application/vnd.jupyter.widget-view+json": {
       "model_id": "c090a8dc0abb4bab9296bccee616285e",
       "version_major": 2,
       "version_minor": 0
      },
      "text/plain": [
       "  0%|          | 0/7 [00:00<?, ?it/s]"
      ]
     },
     "metadata": {},
     "output_type": "display_data"
    },
    {
     "data": {
      "application/vnd.jupyter.widget-view+json": {
       "model_id": "ff66885d017d4934b625aff403299f93",
       "version_major": 2,
       "version_minor": 0
      },
      "text/plain": [
       "  0%|          | 0/7 [00:00<?, ?it/s]"
      ]
     },
     "metadata": {},
     "output_type": "display_data"
    },
    {
     "data": {
      "application/vnd.jupyter.widget-view+json": {
       "model_id": "800da1e089134861a2439b715603c88a",
       "version_major": 2,
       "version_minor": 0
      },
      "text/plain": [
       "  0%|          | 0/7 [00:00<?, ?it/s]"
      ]
     },
     "metadata": {},
     "output_type": "display_data"
    },
    {
     "data": {
      "application/vnd.jupyter.widget-view+json": {
       "model_id": "ca475cf7048c43c993710c30482f0b70",
       "version_major": 2,
       "version_minor": 0
      },
      "text/plain": [
       "  0%|          | 0/7 [00:00<?, ?it/s]"
      ]
     },
     "metadata": {},
     "output_type": "display_data"
    },
    {
     "data": {
      "application/vnd.jupyter.widget-view+json": {
       "model_id": "e04cca027a624d979f6bb094bf7d0334",
       "version_major": 2,
       "version_minor": 0
      },
      "text/plain": [
       "  0%|          | 0/7 [00:00<?, ?it/s]"
      ]
     },
     "metadata": {},
     "output_type": "display_data"
    },
    {
     "data": {
      "application/vnd.jupyter.widget-view+json": {
       "model_id": "cd9f8d84351f4ef1b12ab5c48d352b37",
       "version_major": 2,
       "version_minor": 0
      },
      "text/plain": [
       "  0%|          | 0/6 [00:00<?, ?it/s]"
      ]
     },
     "metadata": {},
     "output_type": "display_data"
    },
    {
     "data": {
      "application/vnd.jupyter.widget-view+json": {
       "model_id": "bc16fe07180a427f929bac6a7dff34d8",
       "version_major": 2,
       "version_minor": 0
      },
      "text/plain": [
       "  0%|          | 0/6 [00:00<?, ?it/s]"
      ]
     },
     "metadata": {},
     "output_type": "display_data"
    },
    {
     "data": {
      "application/vnd.jupyter.widget-view+json": {
       "model_id": "1948b6c30a8c41d0b677f3531bfbad07",
       "version_major": 2,
       "version_minor": 0
      },
      "text/plain": [
       "  0%|          | 0/6 [00:00<?, ?it/s]"
      ]
     },
     "metadata": {},
     "output_type": "display_data"
    },
    {
     "data": {
      "application/vnd.jupyter.widget-view+json": {
       "model_id": "ab928d0b1e9a417ba1c85f9ab2f3b520",
       "version_major": 2,
       "version_minor": 0
      },
      "text/plain": [
       "  0%|          | 0/6 [00:00<?, ?it/s]"
      ]
     },
     "metadata": {},
     "output_type": "display_data"
    },
    {
     "data": {
      "application/vnd.jupyter.widget-view+json": {
       "model_id": "adda58fd35134c38a1d7127ac2bd3995",
       "version_major": 2,
       "version_minor": 0
      },
      "text/plain": [
       "  0%|          | 0/6 [00:00<?, ?it/s]"
      ]
     },
     "metadata": {},
     "output_type": "display_data"
    },
    {
     "data": {
      "application/vnd.jupyter.widget-view+json": {
       "model_id": "df277c7eb1f14ff98b62a5be4278a6e2",
       "version_major": 2,
       "version_minor": 0
      },
      "text/plain": [
       "  0%|          | 0/6 [00:00<?, ?it/s]"
      ]
     },
     "metadata": {},
     "output_type": "display_data"
    },
    {
     "data": {
      "application/vnd.jupyter.widget-view+json": {
       "model_id": "04c2295316b34322a25f8b133dd8c87a",
       "version_major": 2,
       "version_minor": 0
      },
      "text/plain": [
       "  0%|          | 0/6 [00:00<?, ?it/s]"
      ]
     },
     "metadata": {},
     "output_type": "display_data"
    },
    {
     "data": {
      "application/vnd.jupyter.widget-view+json": {
       "model_id": "8016054fc3a9477cbecb66dc2baa3b87",
       "version_major": 2,
       "version_minor": 0
      },
      "text/plain": [
       "  0%|          | 0/6 [00:00<?, ?it/s]"
      ]
     },
     "metadata": {},
     "output_type": "display_data"
    },
    {
     "data": {
      "application/vnd.jupyter.widget-view+json": {
       "model_id": "f412e5e31a3b45d9aebd2e59c793d411",
       "version_major": 2,
       "version_minor": 0
      },
      "text/plain": [
       "  0%|          | 0/6 [00:00<?, ?it/s]"
      ]
     },
     "metadata": {},
     "output_type": "display_data"
    },
    {
     "name": "stdout",
     "output_type": "stream",
     "text": [
      "Extraction succesfull\n",
      "Number of points extracted:1395\n",
      "Time for processing=5.472880125045776 seconds\n",
      "First 10 rows are printed below\n",
      "Number of points outside the raster extents: 27\n",
      "The extraction assigns NaN.\n",
      "Number of points in NoData areas within the raster extents: 0\n",
      "The extraction assigns NaN.\n"
     ]
    }
   ],
   "source": [
    "# run extraction from DSMs and orthos with 1m sampling steps and add X and Y fields to output geodataframe.\n",
    "# use LoDs profiles provided.\n",
    "\n",
    "P.extract_profiles(mode='all',tr_ids='tr_id',sampling_step=1,add_xy=True,lod_mode=lod_mode)"
   ]
  },
  {
   "cell_type": "markdown",
   "id": "2cd09663",
   "metadata": {},
   "source": [
    "__Note about missing values (numpy.nan)__\n",
    "\n",
    ">NaNs might come from two different cases:\n",
    ">1. extraction of points generated on transects falling __outside__ of the underlying raster extent\n",
    ">2. points sampled from transect __inside__ the raster extent but containing NoData cells.\n",
    ">\n",
    ">Conveniently, the extraction profile function makes sure that if points fall outside the raster extent (case 1), those elevations are assigned a default nan value, in the NumPy np.nan form.\n",
    ">In case 2, however, the values extracted depends on the definition of NaNs of the source raster format. In case the rasters provided do not have an assigned nan value in their metadata, the paramter __default_nan_values__ can be used to specify one."
   ]
  },
  {
   "cell_type": "markdown",
   "id": "aec78cfe",
   "metadata": {},
   "source": [
    "Done!\n",
    "\n",
    "Now the profile attribute of the ProfileSet object we are working with (here, *P*) stores the geopandas.GeoDataFrame containing the extracted data."
   ]
  },
  {
   "cell_type": "code",
   "execution_count": 6,
   "id": "e567bfba",
   "metadata": {},
   "outputs": [
    {
     "data": {
      "application/javascript": [
       "/* Put everything inside the global mpl namespace */\n",
       "/* global mpl */\n",
       "window.mpl = {};\n",
       "\n",
       "mpl.get_websocket_type = function () {\n",
       "    if (typeof WebSocket !== 'undefined') {\n",
       "        return WebSocket;\n",
       "    } else if (typeof MozWebSocket !== 'undefined') {\n",
       "        return MozWebSocket;\n",
       "    } else {\n",
       "        alert(\n",
       "            'Your browser does not have WebSocket support. ' +\n",
       "                'Please try Chrome, Safari or Firefox ≥ 6. ' +\n",
       "                'Firefox 4 and 5 are also supported but you ' +\n",
       "                'have to enable WebSockets in about:config.'\n",
       "        );\n",
       "    }\n",
       "};\n",
       "\n",
       "mpl.figure = function (figure_id, websocket, ondownload, parent_element) {\n",
       "    this.id = figure_id;\n",
       "\n",
       "    this.ws = websocket;\n",
       "\n",
       "    this.supports_binary = this.ws.binaryType !== undefined;\n",
       "\n",
       "    if (!this.supports_binary) {\n",
       "        var warnings = document.getElementById('mpl-warnings');\n",
       "        if (warnings) {\n",
       "            warnings.style.display = 'block';\n",
       "            warnings.textContent =\n",
       "                'This browser does not support binary websocket messages. ' +\n",
       "                'Performance may be slow.';\n",
       "        }\n",
       "    }\n",
       "\n",
       "    this.imageObj = new Image();\n",
       "\n",
       "    this.context = undefined;\n",
       "    this.message = undefined;\n",
       "    this.canvas = undefined;\n",
       "    this.rubberband_canvas = undefined;\n",
       "    this.rubberband_context = undefined;\n",
       "    this.format_dropdown = undefined;\n",
       "\n",
       "    this.image_mode = 'full';\n",
       "\n",
       "    this.root = document.createElement('div');\n",
       "    this.root.setAttribute('style', 'display: inline-block');\n",
       "    this._root_extra_style(this.root);\n",
       "\n",
       "    parent_element.appendChild(this.root);\n",
       "\n",
       "    this._init_header(this);\n",
       "    this._init_canvas(this);\n",
       "    this._init_toolbar(this);\n",
       "\n",
       "    var fig = this;\n",
       "\n",
       "    this.waiting = false;\n",
       "\n",
       "    this.ws.onopen = function () {\n",
       "        fig.send_message('supports_binary', { value: fig.supports_binary });\n",
       "        fig.send_message('send_image_mode', {});\n",
       "        if (fig.ratio !== 1) {\n",
       "            fig.send_message('set_dpi_ratio', { dpi_ratio: fig.ratio });\n",
       "        }\n",
       "        fig.send_message('refresh', {});\n",
       "    };\n",
       "\n",
       "    this.imageObj.onload = function () {\n",
       "        if (fig.image_mode === 'full') {\n",
       "            // Full images could contain transparency (where diff images\n",
       "            // almost always do), so we need to clear the canvas so that\n",
       "            // there is no ghosting.\n",
       "            fig.context.clearRect(0, 0, fig.canvas.width, fig.canvas.height);\n",
       "        }\n",
       "        fig.context.drawImage(fig.imageObj, 0, 0);\n",
       "    };\n",
       "\n",
       "    this.imageObj.onunload = function () {\n",
       "        fig.ws.close();\n",
       "    };\n",
       "\n",
       "    this.ws.onmessage = this._make_on_message_function(this);\n",
       "\n",
       "    this.ondownload = ondownload;\n",
       "};\n",
       "\n",
       "mpl.figure.prototype._init_header = function () {\n",
       "    var titlebar = document.createElement('div');\n",
       "    titlebar.classList =\n",
       "        'ui-dialog-titlebar ui-widget-header ui-corner-all ui-helper-clearfix';\n",
       "    var titletext = document.createElement('div');\n",
       "    titletext.classList = 'ui-dialog-title';\n",
       "    titletext.setAttribute(\n",
       "        'style',\n",
       "        'width: 100%; text-align: center; padding: 3px;'\n",
       "    );\n",
       "    titlebar.appendChild(titletext);\n",
       "    this.root.appendChild(titlebar);\n",
       "    this.header = titletext;\n",
       "};\n",
       "\n",
       "mpl.figure.prototype._canvas_extra_style = function (_canvas_div) {};\n",
       "\n",
       "mpl.figure.prototype._root_extra_style = function (_canvas_div) {};\n",
       "\n",
       "mpl.figure.prototype._init_canvas = function () {\n",
       "    var fig = this;\n",
       "\n",
       "    var canvas_div = (this.canvas_div = document.createElement('div'));\n",
       "    canvas_div.setAttribute(\n",
       "        'style',\n",
       "        'border: 1px solid #ddd;' +\n",
       "            'box-sizing: content-box;' +\n",
       "            'clear: both;' +\n",
       "            'min-height: 1px;' +\n",
       "            'min-width: 1px;' +\n",
       "            'outline: 0;' +\n",
       "            'overflow: hidden;' +\n",
       "            'position: relative;' +\n",
       "            'resize: both;'\n",
       "    );\n",
       "\n",
       "    function on_keyboard_event_closure(name) {\n",
       "        return function (event) {\n",
       "            return fig.key_event(event, name);\n",
       "        };\n",
       "    }\n",
       "\n",
       "    canvas_div.addEventListener(\n",
       "        'keydown',\n",
       "        on_keyboard_event_closure('key_press')\n",
       "    );\n",
       "    canvas_div.addEventListener(\n",
       "        'keyup',\n",
       "        on_keyboard_event_closure('key_release')\n",
       "    );\n",
       "\n",
       "    this._canvas_extra_style(canvas_div);\n",
       "    this.root.appendChild(canvas_div);\n",
       "\n",
       "    var canvas = (this.canvas = document.createElement('canvas'));\n",
       "    canvas.classList.add('mpl-canvas');\n",
       "    canvas.setAttribute('style', 'box-sizing: content-box;');\n",
       "\n",
       "    this.context = canvas.getContext('2d');\n",
       "\n",
       "    var backingStore =\n",
       "        this.context.backingStorePixelRatio ||\n",
       "        this.context.webkitBackingStorePixelRatio ||\n",
       "        this.context.mozBackingStorePixelRatio ||\n",
       "        this.context.msBackingStorePixelRatio ||\n",
       "        this.context.oBackingStorePixelRatio ||\n",
       "        this.context.backingStorePixelRatio ||\n",
       "        1;\n",
       "\n",
       "    this.ratio = (window.devicePixelRatio || 1) / backingStore;\n",
       "\n",
       "    var rubberband_canvas = (this.rubberband_canvas = document.createElement(\n",
       "        'canvas'\n",
       "    ));\n",
       "    rubberband_canvas.setAttribute(\n",
       "        'style',\n",
       "        'box-sizing: content-box; position: absolute; left: 0; top: 0; z-index: 1;'\n",
       "    );\n",
       "\n",
       "    // Apply a ponyfill if ResizeObserver is not implemented by browser.\n",
       "    if (this.ResizeObserver === undefined) {\n",
       "        if (window.ResizeObserver !== undefined) {\n",
       "            this.ResizeObserver = window.ResizeObserver;\n",
       "        } else {\n",
       "            var obs = _JSXTOOLS_RESIZE_OBSERVER({});\n",
       "            this.ResizeObserver = obs.ResizeObserver;\n",
       "        }\n",
       "    }\n",
       "\n",
       "    this.resizeObserverInstance = new this.ResizeObserver(function (entries) {\n",
       "        var nentries = entries.length;\n",
       "        for (var i = 0; i < nentries; i++) {\n",
       "            var entry = entries[i];\n",
       "            var width, height;\n",
       "            if (entry.contentBoxSize) {\n",
       "                if (entry.contentBoxSize instanceof Array) {\n",
       "                    // Chrome 84 implements new version of spec.\n",
       "                    width = entry.contentBoxSize[0].inlineSize;\n",
       "                    height = entry.contentBoxSize[0].blockSize;\n",
       "                } else {\n",
       "                    // Firefox implements old version of spec.\n",
       "                    width = entry.contentBoxSize.inlineSize;\n",
       "                    height = entry.contentBoxSize.blockSize;\n",
       "                }\n",
       "            } else {\n",
       "                // Chrome <84 implements even older version of spec.\n",
       "                width = entry.contentRect.width;\n",
       "                height = entry.contentRect.height;\n",
       "            }\n",
       "\n",
       "            // Keep the size of the canvas and rubber band canvas in sync with\n",
       "            // the canvas container.\n",
       "            if (entry.devicePixelContentBoxSize) {\n",
       "                // Chrome 84 implements new version of spec.\n",
       "                canvas.setAttribute(\n",
       "                    'width',\n",
       "                    entry.devicePixelContentBoxSize[0].inlineSize\n",
       "                );\n",
       "                canvas.setAttribute(\n",
       "                    'height',\n",
       "                    entry.devicePixelContentBoxSize[0].blockSize\n",
       "                );\n",
       "            } else {\n",
       "                canvas.setAttribute('width', width * fig.ratio);\n",
       "                canvas.setAttribute('height', height * fig.ratio);\n",
       "            }\n",
       "            canvas.setAttribute(\n",
       "                'style',\n",
       "                'width: ' + width + 'px; height: ' + height + 'px;'\n",
       "            );\n",
       "\n",
       "            rubberband_canvas.setAttribute('width', width);\n",
       "            rubberband_canvas.setAttribute('height', height);\n",
       "\n",
       "            // And update the size in Python. We ignore the initial 0/0 size\n",
       "            // that occurs as the element is placed into the DOM, which should\n",
       "            // otherwise not happen due to the minimum size styling.\n",
       "            if (fig.ws.readyState == 1 && width != 0 && height != 0) {\n",
       "                fig.request_resize(width, height);\n",
       "            }\n",
       "        }\n",
       "    });\n",
       "    this.resizeObserverInstance.observe(canvas_div);\n",
       "\n",
       "    function on_mouse_event_closure(name) {\n",
       "        return function (event) {\n",
       "            return fig.mouse_event(event, name);\n",
       "        };\n",
       "    }\n",
       "\n",
       "    rubberband_canvas.addEventListener(\n",
       "        'mousedown',\n",
       "        on_mouse_event_closure('button_press')\n",
       "    );\n",
       "    rubberband_canvas.addEventListener(\n",
       "        'mouseup',\n",
       "        on_mouse_event_closure('button_release')\n",
       "    );\n",
       "    // Throttle sequential mouse events to 1 every 20ms.\n",
       "    rubberband_canvas.addEventListener(\n",
       "        'mousemove',\n",
       "        on_mouse_event_closure('motion_notify')\n",
       "    );\n",
       "\n",
       "    rubberband_canvas.addEventListener(\n",
       "        'mouseenter',\n",
       "        on_mouse_event_closure('figure_enter')\n",
       "    );\n",
       "    rubberband_canvas.addEventListener(\n",
       "        'mouseleave',\n",
       "        on_mouse_event_closure('figure_leave')\n",
       "    );\n",
       "\n",
       "    canvas_div.addEventListener('wheel', function (event) {\n",
       "        if (event.deltaY < 0) {\n",
       "            event.step = 1;\n",
       "        } else {\n",
       "            event.step = -1;\n",
       "        }\n",
       "        on_mouse_event_closure('scroll')(event);\n",
       "    });\n",
       "\n",
       "    canvas_div.appendChild(canvas);\n",
       "    canvas_div.appendChild(rubberband_canvas);\n",
       "\n",
       "    this.rubberband_context = rubberband_canvas.getContext('2d');\n",
       "    this.rubberband_context.strokeStyle = '#000000';\n",
       "\n",
       "    this._resize_canvas = function (width, height, forward) {\n",
       "        if (forward) {\n",
       "            canvas_div.style.width = width + 'px';\n",
       "            canvas_div.style.height = height + 'px';\n",
       "        }\n",
       "    };\n",
       "\n",
       "    // Disable right mouse context menu.\n",
       "    this.rubberband_canvas.addEventListener('contextmenu', function (_e) {\n",
       "        event.preventDefault();\n",
       "        return false;\n",
       "    });\n",
       "\n",
       "    function set_focus() {\n",
       "        canvas.focus();\n",
       "        canvas_div.focus();\n",
       "    }\n",
       "\n",
       "    window.setTimeout(set_focus, 100);\n",
       "};\n",
       "\n",
       "mpl.figure.prototype._init_toolbar = function () {\n",
       "    var fig = this;\n",
       "\n",
       "    var toolbar = document.createElement('div');\n",
       "    toolbar.classList = 'mpl-toolbar';\n",
       "    this.root.appendChild(toolbar);\n",
       "\n",
       "    function on_click_closure(name) {\n",
       "        return function (_event) {\n",
       "            return fig.toolbar_button_onclick(name);\n",
       "        };\n",
       "    }\n",
       "\n",
       "    function on_mouseover_closure(tooltip) {\n",
       "        return function (event) {\n",
       "            if (!event.currentTarget.disabled) {\n",
       "                return fig.toolbar_button_onmouseover(tooltip);\n",
       "            }\n",
       "        };\n",
       "    }\n",
       "\n",
       "    fig.buttons = {};\n",
       "    var buttonGroup = document.createElement('div');\n",
       "    buttonGroup.classList = 'mpl-button-group';\n",
       "    for (var toolbar_ind in mpl.toolbar_items) {\n",
       "        var name = mpl.toolbar_items[toolbar_ind][0];\n",
       "        var tooltip = mpl.toolbar_items[toolbar_ind][1];\n",
       "        var image = mpl.toolbar_items[toolbar_ind][2];\n",
       "        var method_name = mpl.toolbar_items[toolbar_ind][3];\n",
       "\n",
       "        if (!name) {\n",
       "            /* Instead of a spacer, we start a new button group. */\n",
       "            if (buttonGroup.hasChildNodes()) {\n",
       "                toolbar.appendChild(buttonGroup);\n",
       "            }\n",
       "            buttonGroup = document.createElement('div');\n",
       "            buttonGroup.classList = 'mpl-button-group';\n",
       "            continue;\n",
       "        }\n",
       "\n",
       "        var button = (fig.buttons[name] = document.createElement('button'));\n",
       "        button.classList = 'mpl-widget';\n",
       "        button.setAttribute('role', 'button');\n",
       "        button.setAttribute('aria-disabled', 'false');\n",
       "        button.addEventListener('click', on_click_closure(method_name));\n",
       "        button.addEventListener('mouseover', on_mouseover_closure(tooltip));\n",
       "\n",
       "        var icon_img = document.createElement('img');\n",
       "        icon_img.src = '_images/' + image + '.png';\n",
       "        icon_img.srcset = '_images/' + image + '_large.png 2x';\n",
       "        icon_img.alt = tooltip;\n",
       "        button.appendChild(icon_img);\n",
       "\n",
       "        buttonGroup.appendChild(button);\n",
       "    }\n",
       "\n",
       "    if (buttonGroup.hasChildNodes()) {\n",
       "        toolbar.appendChild(buttonGroup);\n",
       "    }\n",
       "\n",
       "    var fmt_picker = document.createElement('select');\n",
       "    fmt_picker.classList = 'mpl-widget';\n",
       "    toolbar.appendChild(fmt_picker);\n",
       "    this.format_dropdown = fmt_picker;\n",
       "\n",
       "    for (var ind in mpl.extensions) {\n",
       "        var fmt = mpl.extensions[ind];\n",
       "        var option = document.createElement('option');\n",
       "        option.selected = fmt === mpl.default_extension;\n",
       "        option.innerHTML = fmt;\n",
       "        fmt_picker.appendChild(option);\n",
       "    }\n",
       "\n",
       "    var status_bar = document.createElement('span');\n",
       "    status_bar.classList = 'mpl-message';\n",
       "    toolbar.appendChild(status_bar);\n",
       "    this.message = status_bar;\n",
       "};\n",
       "\n",
       "mpl.figure.prototype.request_resize = function (x_pixels, y_pixels) {\n",
       "    // Request matplotlib to resize the figure. Matplotlib will then trigger a resize in the client,\n",
       "    // which will in turn request a refresh of the image.\n",
       "    this.send_message('resize', { width: x_pixels, height: y_pixels });\n",
       "};\n",
       "\n",
       "mpl.figure.prototype.send_message = function (type, properties) {\n",
       "    properties['type'] = type;\n",
       "    properties['figure_id'] = this.id;\n",
       "    this.ws.send(JSON.stringify(properties));\n",
       "};\n",
       "\n",
       "mpl.figure.prototype.send_draw_message = function () {\n",
       "    if (!this.waiting) {\n",
       "        this.waiting = true;\n",
       "        this.ws.send(JSON.stringify({ type: 'draw', figure_id: this.id }));\n",
       "    }\n",
       "};\n",
       "\n",
       "mpl.figure.prototype.handle_save = function (fig, _msg) {\n",
       "    var format_dropdown = fig.format_dropdown;\n",
       "    var format = format_dropdown.options[format_dropdown.selectedIndex].value;\n",
       "    fig.ondownload(fig, format);\n",
       "};\n",
       "\n",
       "mpl.figure.prototype.handle_resize = function (fig, msg) {\n",
       "    var size = msg['size'];\n",
       "    if (size[0] !== fig.canvas.width || size[1] !== fig.canvas.height) {\n",
       "        fig._resize_canvas(size[0], size[1], msg['forward']);\n",
       "        fig.send_message('refresh', {});\n",
       "    }\n",
       "};\n",
       "\n",
       "mpl.figure.prototype.handle_rubberband = function (fig, msg) {\n",
       "    var x0 = msg['x0'] / fig.ratio;\n",
       "    var y0 = (fig.canvas.height - msg['y0']) / fig.ratio;\n",
       "    var x1 = msg['x1'] / fig.ratio;\n",
       "    var y1 = (fig.canvas.height - msg['y1']) / fig.ratio;\n",
       "    x0 = Math.floor(x0) + 0.5;\n",
       "    y0 = Math.floor(y0) + 0.5;\n",
       "    x1 = Math.floor(x1) + 0.5;\n",
       "    y1 = Math.floor(y1) + 0.5;\n",
       "    var min_x = Math.min(x0, x1);\n",
       "    var min_y = Math.min(y0, y1);\n",
       "    var width = Math.abs(x1 - x0);\n",
       "    var height = Math.abs(y1 - y0);\n",
       "\n",
       "    fig.rubberband_context.clearRect(\n",
       "        0,\n",
       "        0,\n",
       "        fig.canvas.width / fig.ratio,\n",
       "        fig.canvas.height / fig.ratio\n",
       "    );\n",
       "\n",
       "    fig.rubberband_context.strokeRect(min_x, min_y, width, height);\n",
       "};\n",
       "\n",
       "mpl.figure.prototype.handle_figure_label = function (fig, msg) {\n",
       "    // Updates the figure title.\n",
       "    fig.header.textContent = msg['label'];\n",
       "};\n",
       "\n",
       "mpl.figure.prototype.handle_cursor = function (fig, msg) {\n",
       "    var cursor = msg['cursor'];\n",
       "    switch (cursor) {\n",
       "        case 0:\n",
       "            cursor = 'pointer';\n",
       "            break;\n",
       "        case 1:\n",
       "            cursor = 'default';\n",
       "            break;\n",
       "        case 2:\n",
       "            cursor = 'crosshair';\n",
       "            break;\n",
       "        case 3:\n",
       "            cursor = 'move';\n",
       "            break;\n",
       "    }\n",
       "    fig.rubberband_canvas.style.cursor = cursor;\n",
       "};\n",
       "\n",
       "mpl.figure.prototype.handle_message = function (fig, msg) {\n",
       "    fig.message.textContent = msg['message'];\n",
       "};\n",
       "\n",
       "mpl.figure.prototype.handle_draw = function (fig, _msg) {\n",
       "    // Request the server to send over a new figure.\n",
       "    fig.send_draw_message();\n",
       "};\n",
       "\n",
       "mpl.figure.prototype.handle_image_mode = function (fig, msg) {\n",
       "    fig.image_mode = msg['mode'];\n",
       "};\n",
       "\n",
       "mpl.figure.prototype.handle_history_buttons = function (fig, msg) {\n",
       "    for (var key in msg) {\n",
       "        if (!(key in fig.buttons)) {\n",
       "            continue;\n",
       "        }\n",
       "        fig.buttons[key].disabled = !msg[key];\n",
       "        fig.buttons[key].setAttribute('aria-disabled', !msg[key]);\n",
       "    }\n",
       "};\n",
       "\n",
       "mpl.figure.prototype.handle_navigate_mode = function (fig, msg) {\n",
       "    if (msg['mode'] === 'PAN') {\n",
       "        fig.buttons['Pan'].classList.add('active');\n",
       "        fig.buttons['Zoom'].classList.remove('active');\n",
       "    } else if (msg['mode'] === 'ZOOM') {\n",
       "        fig.buttons['Pan'].classList.remove('active');\n",
       "        fig.buttons['Zoom'].classList.add('active');\n",
       "    } else {\n",
       "        fig.buttons['Pan'].classList.remove('active');\n",
       "        fig.buttons['Zoom'].classList.remove('active');\n",
       "    }\n",
       "};\n",
       "\n",
       "mpl.figure.prototype.updated_canvas_event = function () {\n",
       "    // Called whenever the canvas gets updated.\n",
       "    this.send_message('ack', {});\n",
       "};\n",
       "\n",
       "// A function to construct a web socket function for onmessage handling.\n",
       "// Called in the figure constructor.\n",
       "mpl.figure.prototype._make_on_message_function = function (fig) {\n",
       "    return function socket_on_message(evt) {\n",
       "        if (evt.data instanceof Blob) {\n",
       "            /* FIXME: We get \"Resource interpreted as Image but\n",
       "             * transferred with MIME type text/plain:\" errors on\n",
       "             * Chrome.  But how to set the MIME type?  It doesn't seem\n",
       "             * to be part of the websocket stream */\n",
       "            evt.data.type = 'image/png';\n",
       "\n",
       "            /* Free the memory for the previous frames */\n",
       "            if (fig.imageObj.src) {\n",
       "                (window.URL || window.webkitURL).revokeObjectURL(\n",
       "                    fig.imageObj.src\n",
       "                );\n",
       "            }\n",
       "\n",
       "            fig.imageObj.src = (window.URL || window.webkitURL).createObjectURL(\n",
       "                evt.data\n",
       "            );\n",
       "            fig.updated_canvas_event();\n",
       "            fig.waiting = false;\n",
       "            return;\n",
       "        } else if (\n",
       "            typeof evt.data === 'string' &&\n",
       "            evt.data.slice(0, 21) === 'data:image/png;base64'\n",
       "        ) {\n",
       "            fig.imageObj.src = evt.data;\n",
       "            fig.updated_canvas_event();\n",
       "            fig.waiting = false;\n",
       "            return;\n",
       "        }\n",
       "\n",
       "        var msg = JSON.parse(evt.data);\n",
       "        var msg_type = msg['type'];\n",
       "\n",
       "        // Call the  \"handle_{type}\" callback, which takes\n",
       "        // the figure and JSON message as its only arguments.\n",
       "        try {\n",
       "            var callback = fig['handle_' + msg_type];\n",
       "        } catch (e) {\n",
       "            console.log(\n",
       "                \"No handler for the '\" + msg_type + \"' message type: \",\n",
       "                msg\n",
       "            );\n",
       "            return;\n",
       "        }\n",
       "\n",
       "        if (callback) {\n",
       "            try {\n",
       "                // console.log(\"Handling '\" + msg_type + \"' message: \", msg);\n",
       "                callback(fig, msg);\n",
       "            } catch (e) {\n",
       "                console.log(\n",
       "                    \"Exception inside the 'handler_\" + msg_type + \"' callback:\",\n",
       "                    e,\n",
       "                    e.stack,\n",
       "                    msg\n",
       "                );\n",
       "            }\n",
       "        }\n",
       "    };\n",
       "};\n",
       "\n",
       "// from http://stackoverflow.com/questions/1114465/getting-mouse-location-in-canvas\n",
       "mpl.findpos = function (e) {\n",
       "    //this section is from http://www.quirksmode.org/js/events_properties.html\n",
       "    var targ;\n",
       "    if (!e) {\n",
       "        e = window.event;\n",
       "    }\n",
       "    if (e.target) {\n",
       "        targ = e.target;\n",
       "    } else if (e.srcElement) {\n",
       "        targ = e.srcElement;\n",
       "    }\n",
       "    if (targ.nodeType === 3) {\n",
       "        // defeat Safari bug\n",
       "        targ = targ.parentNode;\n",
       "    }\n",
       "\n",
       "    // pageX,Y are the mouse positions relative to the document\n",
       "    var boundingRect = targ.getBoundingClientRect();\n",
       "    var x = e.pageX - (boundingRect.left + document.body.scrollLeft);\n",
       "    var y = e.pageY - (boundingRect.top + document.body.scrollTop);\n",
       "\n",
       "    return { x: x, y: y };\n",
       "};\n",
       "\n",
       "/*\n",
       " * return a copy of an object with only non-object keys\n",
       " * we need this to avoid circular references\n",
       " * http://stackoverflow.com/a/24161582/3208463\n",
       " */\n",
       "function simpleKeys(original) {\n",
       "    return Object.keys(original).reduce(function (obj, key) {\n",
       "        if (typeof original[key] !== 'object') {\n",
       "            obj[key] = original[key];\n",
       "        }\n",
       "        return obj;\n",
       "    }, {});\n",
       "}\n",
       "\n",
       "mpl.figure.prototype.mouse_event = function (event, name) {\n",
       "    var canvas_pos = mpl.findpos(event);\n",
       "\n",
       "    if (name === 'button_press') {\n",
       "        this.canvas.focus();\n",
       "        this.canvas_div.focus();\n",
       "    }\n",
       "\n",
       "    var x = canvas_pos.x * this.ratio;\n",
       "    var y = canvas_pos.y * this.ratio;\n",
       "\n",
       "    this.send_message(name, {\n",
       "        x: x,\n",
       "        y: y,\n",
       "        button: event.button,\n",
       "        step: event.step,\n",
       "        guiEvent: simpleKeys(event),\n",
       "    });\n",
       "\n",
       "    /* This prevents the web browser from automatically changing to\n",
       "     * the text insertion cursor when the button is pressed.  We want\n",
       "     * to control all of the cursor setting manually through the\n",
       "     * 'cursor' event from matplotlib */\n",
       "    event.preventDefault();\n",
       "    return false;\n",
       "};\n",
       "\n",
       "mpl.figure.prototype._key_event_extra = function (_event, _name) {\n",
       "    // Handle any extra behaviour associated with a key event\n",
       "};\n",
       "\n",
       "mpl.figure.prototype.key_event = function (event, name) {\n",
       "    // Prevent repeat events\n",
       "    if (name === 'key_press') {\n",
       "        if (event.which === this._key) {\n",
       "            return;\n",
       "        } else {\n",
       "            this._key = event.which;\n",
       "        }\n",
       "    }\n",
       "    if (name === 'key_release') {\n",
       "        this._key = null;\n",
       "    }\n",
       "\n",
       "    var value = '';\n",
       "    if (event.ctrlKey && event.which !== 17) {\n",
       "        value += 'ctrl+';\n",
       "    }\n",
       "    if (event.altKey && event.which !== 18) {\n",
       "        value += 'alt+';\n",
       "    }\n",
       "    if (event.shiftKey && event.which !== 16) {\n",
       "        value += 'shift+';\n",
       "    }\n",
       "\n",
       "    value += 'k';\n",
       "    value += event.which.toString();\n",
       "\n",
       "    this._key_event_extra(event, name);\n",
       "\n",
       "    this.send_message(name, { key: value, guiEvent: simpleKeys(event) });\n",
       "    return false;\n",
       "};\n",
       "\n",
       "mpl.figure.prototype.toolbar_button_onclick = function (name) {\n",
       "    if (name === 'download') {\n",
       "        this.handle_save(this, null);\n",
       "    } else {\n",
       "        this.send_message('toolbar_button', { name: name });\n",
       "    }\n",
       "};\n",
       "\n",
       "mpl.figure.prototype.toolbar_button_onmouseover = function (tooltip) {\n",
       "    this.message.textContent = tooltip;\n",
       "};\n",
       "\n",
       "///////////////// REMAINING CONTENT GENERATED BY embed_js.py /////////////////\n",
       "// prettier-ignore\n",
       "var _JSXTOOLS_RESIZE_OBSERVER=function(A){var t,i=new WeakMap,n=new WeakMap,a=new WeakMap,r=new WeakMap,o=new Set;function s(e){if(!(this instanceof s))throw new TypeError(\"Constructor requires 'new' operator\");i.set(this,e)}function h(){throw new TypeError(\"Function is not a constructor\")}function c(e,t,i,n){e=0 in arguments?Number(arguments[0]):0,t=1 in arguments?Number(arguments[1]):0,i=2 in arguments?Number(arguments[2]):0,n=3 in arguments?Number(arguments[3]):0,this.right=(this.x=this.left=e)+(this.width=i),this.bottom=(this.y=this.top=t)+(this.height=n),Object.freeze(this)}function d(){t=requestAnimationFrame(d);var s=new WeakMap,p=new Set;o.forEach((function(t){r.get(t).forEach((function(i){var r=t instanceof window.SVGElement,o=a.get(t),d=r?0:parseFloat(o.paddingTop),f=r?0:parseFloat(o.paddingRight),l=r?0:parseFloat(o.paddingBottom),u=r?0:parseFloat(o.paddingLeft),g=r?0:parseFloat(o.borderTopWidth),m=r?0:parseFloat(o.borderRightWidth),w=r?0:parseFloat(o.borderBottomWidth),b=u+f,F=d+l,v=(r?0:parseFloat(o.borderLeftWidth))+m,W=g+w,y=r?0:t.offsetHeight-W-t.clientHeight,E=r?0:t.offsetWidth-v-t.clientWidth,R=b+v,z=F+W,M=r?t.width:parseFloat(o.width)-R-E,O=r?t.height:parseFloat(o.height)-z-y;if(n.has(t)){var k=n.get(t);if(k[0]===M&&k[1]===O)return}n.set(t,[M,O]);var S=Object.create(h.prototype);S.target=t,S.contentRect=new c(u,d,M,O),s.has(i)||(s.set(i,[]),p.add(i)),s.get(i).push(S)}))})),p.forEach((function(e){i.get(e).call(e,s.get(e),e)}))}return s.prototype.observe=function(i){if(i instanceof window.Element){r.has(i)||(r.set(i,new Set),o.add(i),a.set(i,window.getComputedStyle(i)));var n=r.get(i);n.has(this)||n.add(this),cancelAnimationFrame(t),t=requestAnimationFrame(d)}},s.prototype.unobserve=function(i){if(i instanceof window.Element&&r.has(i)){var n=r.get(i);n.has(this)&&(n.delete(this),n.size||(r.delete(i),o.delete(i))),n.size||r.delete(i),o.size||cancelAnimationFrame(t)}},A.DOMRectReadOnly=c,A.ResizeObserver=s,A.ResizeObserverEntry=h,A}; // eslint-disable-line\n",
       "mpl.toolbar_items = [[\"Home\", \"Reset original view\", \"fa fa-home icon-home\", \"home\"], [\"Back\", \"Back to previous view\", \"fa fa-arrow-left icon-arrow-left\", \"back\"], [\"Forward\", \"Forward to next view\", \"fa fa-arrow-right icon-arrow-right\", \"forward\"], [\"\", \"\", \"\", \"\"], [\"Pan\", \"Left button pans, Right button zooms\\nx/y fixes axis, CTRL fixes aspect\", \"fa fa-arrows icon-move\", \"pan\"], [\"Zoom\", \"Zoom to rectangle\\nx/y fixes axis, CTRL fixes aspect\", \"fa fa-square-o icon-check-empty\", \"zoom\"], [\"\", \"\", \"\", \"\"], [\"Download\", \"Download plot\", \"fa fa-floppy-o icon-save\", \"download\"]];\n",
       "\n",
       "mpl.extensions = [\"eps\", \"jpeg\", \"pdf\", \"png\", \"ps\", \"raw\", \"svg\", \"tif\"];\n",
       "\n",
       "mpl.default_extension = \"png\";/* global mpl */\n",
       "\n",
       "var comm_websocket_adapter = function (comm) {\n",
       "    // Create a \"websocket\"-like object which calls the given IPython comm\n",
       "    // object with the appropriate methods. Currently this is a non binary\n",
       "    // socket, so there is still some room for performance tuning.\n",
       "    var ws = {};\n",
       "\n",
       "    ws.close = function () {\n",
       "        comm.close();\n",
       "    };\n",
       "    ws.send = function (m) {\n",
       "        //console.log('sending', m);\n",
       "        comm.send(m);\n",
       "    };\n",
       "    // Register the callback with on_msg.\n",
       "    comm.on_msg(function (msg) {\n",
       "        //console.log('receiving', msg['content']['data'], msg);\n",
       "        // Pass the mpl event to the overridden (by mpl) onmessage function.\n",
       "        ws.onmessage(msg['content']['data']);\n",
       "    });\n",
       "    return ws;\n",
       "};\n",
       "\n",
       "mpl.mpl_figure_comm = function (comm, msg) {\n",
       "    // This is the function which gets called when the mpl process\n",
       "    // starts-up an IPython Comm through the \"matplotlib\" channel.\n",
       "\n",
       "    var id = msg.content.data.id;\n",
       "    // Get hold of the div created by the display call when the Comm\n",
       "    // socket was opened in Python.\n",
       "    var element = document.getElementById(id);\n",
       "    var ws_proxy = comm_websocket_adapter(comm);\n",
       "\n",
       "    function ondownload(figure, _format) {\n",
       "        window.open(figure.canvas.toDataURL());\n",
       "    }\n",
       "\n",
       "    var fig = new mpl.figure(id, ws_proxy, ondownload, element);\n",
       "\n",
       "    // Call onopen now - mpl needs it, as it is assuming we've passed it a real\n",
       "    // web socket which is closed, not our websocket->open comm proxy.\n",
       "    ws_proxy.onopen();\n",
       "\n",
       "    fig.parent_element = element;\n",
       "    fig.cell_info = mpl.find_output_cell(\"<div id='\" + id + \"'></div>\");\n",
       "    if (!fig.cell_info) {\n",
       "        console.error('Failed to find cell for figure', id, fig);\n",
       "        return;\n",
       "    }\n",
       "    fig.cell_info[0].output_area.element.on(\n",
       "        'cleared',\n",
       "        { fig: fig },\n",
       "        fig._remove_fig_handler\n",
       "    );\n",
       "};\n",
       "\n",
       "mpl.figure.prototype.handle_close = function (fig, msg) {\n",
       "    var width = fig.canvas.width / fig.ratio;\n",
       "    fig.cell_info[0].output_area.element.off(\n",
       "        'cleared',\n",
       "        fig._remove_fig_handler\n",
       "    );\n",
       "    fig.resizeObserverInstance.unobserve(fig.canvas_div);\n",
       "\n",
       "    // Update the output cell to use the data from the current canvas.\n",
       "    fig.push_to_output();\n",
       "    var dataURL = fig.canvas.toDataURL();\n",
       "    // Re-enable the keyboard manager in IPython - without this line, in FF,\n",
       "    // the notebook keyboard shortcuts fail.\n",
       "    IPython.keyboard_manager.enable();\n",
       "    fig.parent_element.innerHTML =\n",
       "        '<img src=\"' + dataURL + '\" width=\"' + width + '\">';\n",
       "    fig.close_ws(fig, msg);\n",
       "};\n",
       "\n",
       "mpl.figure.prototype.close_ws = function (fig, msg) {\n",
       "    fig.send_message('closing', msg);\n",
       "    // fig.ws.close()\n",
       "};\n",
       "\n",
       "mpl.figure.prototype.push_to_output = function (_remove_interactive) {\n",
       "    // Turn the data on the canvas into data in the output cell.\n",
       "    var width = this.canvas.width / this.ratio;\n",
       "    var dataURL = this.canvas.toDataURL();\n",
       "    this.cell_info[1]['text/html'] =\n",
       "        '<img src=\"' + dataURL + '\" width=\"' + width + '\">';\n",
       "};\n",
       "\n",
       "mpl.figure.prototype.updated_canvas_event = function () {\n",
       "    // Tell IPython that the notebook contents must change.\n",
       "    IPython.notebook.set_dirty(true);\n",
       "    this.send_message('ack', {});\n",
       "    var fig = this;\n",
       "    // Wait a second, then push the new image to the DOM so\n",
       "    // that it is saved nicely (might be nice to debounce this).\n",
       "    setTimeout(function () {\n",
       "        fig.push_to_output();\n",
       "    }, 1000);\n",
       "};\n",
       "\n",
       "mpl.figure.prototype._init_toolbar = function () {\n",
       "    var fig = this;\n",
       "\n",
       "    var toolbar = document.createElement('div');\n",
       "    toolbar.classList = 'btn-toolbar';\n",
       "    this.root.appendChild(toolbar);\n",
       "\n",
       "    function on_click_closure(name) {\n",
       "        return function (_event) {\n",
       "            return fig.toolbar_button_onclick(name);\n",
       "        };\n",
       "    }\n",
       "\n",
       "    function on_mouseover_closure(tooltip) {\n",
       "        return function (event) {\n",
       "            if (!event.currentTarget.disabled) {\n",
       "                return fig.toolbar_button_onmouseover(tooltip);\n",
       "            }\n",
       "        };\n",
       "    }\n",
       "\n",
       "    fig.buttons = {};\n",
       "    var buttonGroup = document.createElement('div');\n",
       "    buttonGroup.classList = 'btn-group';\n",
       "    var button;\n",
       "    for (var toolbar_ind in mpl.toolbar_items) {\n",
       "        var name = mpl.toolbar_items[toolbar_ind][0];\n",
       "        var tooltip = mpl.toolbar_items[toolbar_ind][1];\n",
       "        var image = mpl.toolbar_items[toolbar_ind][2];\n",
       "        var method_name = mpl.toolbar_items[toolbar_ind][3];\n",
       "\n",
       "        if (!name) {\n",
       "            /* Instead of a spacer, we start a new button group. */\n",
       "            if (buttonGroup.hasChildNodes()) {\n",
       "                toolbar.appendChild(buttonGroup);\n",
       "            }\n",
       "            buttonGroup = document.createElement('div');\n",
       "            buttonGroup.classList = 'btn-group';\n",
       "            continue;\n",
       "        }\n",
       "\n",
       "        button = fig.buttons[name] = document.createElement('button');\n",
       "        button.classList = 'btn btn-default';\n",
       "        button.href = '#';\n",
       "        button.title = name;\n",
       "        button.innerHTML = '<i class=\"fa ' + image + ' fa-lg\"></i>';\n",
       "        button.addEventListener('click', on_click_closure(method_name));\n",
       "        button.addEventListener('mouseover', on_mouseover_closure(tooltip));\n",
       "        buttonGroup.appendChild(button);\n",
       "    }\n",
       "\n",
       "    if (buttonGroup.hasChildNodes()) {\n",
       "        toolbar.appendChild(buttonGroup);\n",
       "    }\n",
       "\n",
       "    // Add the status bar.\n",
       "    var status_bar = document.createElement('span');\n",
       "    status_bar.classList = 'mpl-message pull-right';\n",
       "    toolbar.appendChild(status_bar);\n",
       "    this.message = status_bar;\n",
       "\n",
       "    // Add the close button to the window.\n",
       "    var buttongrp = document.createElement('div');\n",
       "    buttongrp.classList = 'btn-group inline pull-right';\n",
       "    button = document.createElement('button');\n",
       "    button.classList = 'btn btn-mini btn-primary';\n",
       "    button.href = '#';\n",
       "    button.title = 'Stop Interaction';\n",
       "    button.innerHTML = '<i class=\"fa fa-power-off icon-remove icon-large\"></i>';\n",
       "    button.addEventListener('click', function (_evt) {\n",
       "        fig.handle_close(fig, {});\n",
       "    });\n",
       "    button.addEventListener(\n",
       "        'mouseover',\n",
       "        on_mouseover_closure('Stop Interaction')\n",
       "    );\n",
       "    buttongrp.appendChild(button);\n",
       "    var titlebar = this.root.querySelector('.ui-dialog-titlebar');\n",
       "    titlebar.insertBefore(buttongrp, titlebar.firstChild);\n",
       "};\n",
       "\n",
       "mpl.figure.prototype._remove_fig_handler = function (event) {\n",
       "    var fig = event.data.fig;\n",
       "    if (event.target !== this) {\n",
       "        // Ignore bubbled events from children.\n",
       "        return;\n",
       "    }\n",
       "    fig.close_ws(fig, {});\n",
       "};\n",
       "\n",
       "mpl.figure.prototype._root_extra_style = function (el) {\n",
       "    el.style.boxSizing = 'content-box'; // override notebook setting of border-box.\n",
       "};\n",
       "\n",
       "mpl.figure.prototype._canvas_extra_style = function (el) {\n",
       "    // this is important to make the div 'focusable\n",
       "    el.setAttribute('tabindex', 0);\n",
       "    // reach out to IPython and tell the keyboard manager to turn it's self\n",
       "    // off when our div gets focus\n",
       "\n",
       "    // location in version 3\n",
       "    if (IPython.notebook.keyboard_manager) {\n",
       "        IPython.notebook.keyboard_manager.register_events(el);\n",
       "    } else {\n",
       "        // location in version 2\n",
       "        IPython.keyboard_manager.register_events(el);\n",
       "    }\n",
       "};\n",
       "\n",
       "mpl.figure.prototype._key_event_extra = function (event, _name) {\n",
       "    var manager = IPython.notebook.keyboard_manager;\n",
       "    if (!manager) {\n",
       "        manager = IPython.keyboard_manager;\n",
       "    }\n",
       "\n",
       "    // Check for shift+enter\n",
       "    if (event.shiftKey && event.which === 13) {\n",
       "        this.canvas_div.blur();\n",
       "        // select the cell after this one\n",
       "        var index = IPython.notebook.find_cell_index(this.cell_info[0]);\n",
       "        IPython.notebook.select(index + 1);\n",
       "    }\n",
       "};\n",
       "\n",
       "mpl.figure.prototype.handle_save = function (fig, _msg) {\n",
       "    fig.ondownload(fig, null);\n",
       "};\n",
       "\n",
       "mpl.find_output_cell = function (html_output) {\n",
       "    // Return the cell and output element which can be found *uniquely* in the notebook.\n",
       "    // Note - this is a bit hacky, but it is done because the \"notebook_saving.Notebook\"\n",
       "    // IPython event is triggered only after the cells have been serialised, which for\n",
       "    // our purposes (turning an active figure into a static one), is too late.\n",
       "    var cells = IPython.notebook.get_cells();\n",
       "    var ncells = cells.length;\n",
       "    for (var i = 0; i < ncells; i++) {\n",
       "        var cell = cells[i];\n",
       "        if (cell.cell_type === 'code') {\n",
       "            for (var j = 0; j < cell.output_area.outputs.length; j++) {\n",
       "                var data = cell.output_area.outputs[j];\n",
       "                if (data.data) {\n",
       "                    // IPython >= 3 moved mimebundle to data attribute of output\n",
       "                    data = data.data;\n",
       "                }\n",
       "                if (data['text/html'] === html_output) {\n",
       "                    return [cell, data, j];\n",
       "                }\n",
       "            }\n",
       "        }\n",
       "    }\n",
       "};\n",
       "\n",
       "// Register the function which deals with the matplotlib target/channel.\n",
       "// The kernel may be null if the page has been refreshed.\n",
       "if (IPython.notebook.kernel !== null) {\n",
       "    IPython.notebook.kernel.comm_manager.register_target(\n",
       "        'matplotlib',\n",
       "        mpl.mpl_figure_comm\n",
       "    );\n",
       "}\n"
      ],
      "text/plain": [
       "<IPython.core.display.Javascript object>"
      ]
     },
     "metadata": {},
     "output_type": "display_data"
    },
    {
     "data": {
      "text/html": [
       "<img src=\"data:image/png;base64,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\" width=\"1000\">"
      ],
      "text/plain": [
       "<IPython.core.display.HTML object>"
      ]
     },
     "metadata": {},
     "output_type": "display_data"
    }
   ],
   "source": [
    "f,ax= plt.subplots(figsize=(10,8), squeeze=True)\n",
    "ortho_path=r\"C:\\my_packages\\sandpyper\\tests\\test_data\\orthos_1m\\leo_20180606_ortho_resampled_1m.tif\"\n",
    "\n",
    "with ras.open(ortho_path,'r') as ortho:\n",
    "\n",
    "    show(ortho, ax=ax)\n",
    "\n",
    "\n",
    "P.profiles.query(\"location=='leo' and raw_date==20180606\").plot(ax=ax,column='z', cmap='RdBu_r');"
   ]
  },
  {
   "cell_type": "markdown",
   "id": "d5de7ea2",
   "metadata": {},
   "source": [
    "As you can see, the profiles include points extracted over areas that are not beach sediment, such as water, swash (inaccurate modeled elevation), vegetation or anything else that can be found aôn or around a beach that is not sand.\n",
    "\n",
    "Computing mutitemporal elevation changes from a dataset of this kind would lead in very erroneous computation as it would include all the aforementioned non-sand points. Therefore, we need to clip out the water from each dataset, retain only a small area of interest landward that the principal foredune (if any) and classify each extracted point as sand or no-sand.\n",
    "\n",
    "Let's see how we can achieve this using sandpyper and Qgis."
   ]
  },
  {
   "cell_type": "markdown",
   "id": "07029ae3",
   "metadata": {},
   "source": [
    "## Unsupervised clustering and labelling\n",
    "( for method information, please check the documentation, [here](https://npucino.github.io/sandpyper/) )"
   ]
  },
  {
   "cell_type": "markdown",
   "id": "d0da4fac",
   "metadata": {},
   "source": [
    "### The challenge\n",
    "In order to help discriminate and deal with non-sand points in our dataset, we can use Machine Learning (ML) to classify which points are sand and which ones are not.\n",
    "\n",
    "Currently, sandpyper only facilitates the use of KMeans unsupervised clustering algorithm to accomplish this task. KMeans assigns points sharing similarities in the attribute space to one of a predefined number of clusters and assign these clusters one label. After the clustering is done, we, the human operator, need to visually look at the clustering results in a GIS, overlay the points on the orthophoto, visualise their color-coded labels and 'attach a meaning' to those clusters, which can be quite difficult as ML sees quite differently from us.\n",
    "\n",
    "Of course one could also be tempted to use supervised machine learning techniques, however, considering that the cameras mounted on UAVs are not calibrated and the RGB images are not corrected for illumination variations, the training process would require a very big training dataset which must capture as much as variance in the classes of interest as possible.\n",
    "In this case, the unsupervised procedure facilitated by sandpyper could help in constructing an high quality training dataset."
   ]
  },
  {
   "cell_type": "markdown",
   "id": "064b78f4",
   "metadata": {},
   "source": [
    "### Iterative Silhouette analysis with inflexion search\n",
    "One of the most important parameter we must set before running KMeans is how many clusters we want to partition our points in. Considering that the next step is our visual checking of each cluster, we should choose a number that is not too high, as it would require too much time to visually assign a class to each cluster, but neighter too low, as this would dramatically increase the likelyhood of finding mixed clusters containing both points that are sand and no-sand.\n",
    "\n",
    "In order to let the data guide our choice of number of clusters to use, sandpyper implements an automated iterative Silhouette analysis with inflexion search algorithm.\n",
    "This algorithms use Silhouette coefficients to compute the clustering performances and allows to return a sub-optimal number of clusters to use in each survey with KMeans which minimise the likelyhood of having mixed clusters while also retaining a low number of clusters.\n",
    "\n",
    "Sandpyper implements this in 3 steps:\n",
    "\n",
    "1. __get_sil_location__: iteratively perform KMeans clustering and Silhouette Analysis with increasing number of clusters (k, specified in the `ks` parameter) for every survey, using the feature set specified in the parameter `feature_set`\n",
    "2. __get_opt_k__ : uses the dataframe with Average Silhouette scores with different k for all surveys created by __get_sil_location__ function to find a sub-optimal number of clusters for each survey\n",
    "3. __kmeans_sa__ method: to run KMeans algorithm with the specified sub-optimal number of clusters (k)"
   ]
  },
  {
   "cell_type": "code",
   "execution_count": 7,
   "id": "9d8e2993",
   "metadata": {
    "scrolled": true
   },
   "outputs": [
    {
     "data": {
      "application/vnd.jupyter.widget-view+json": {
       "model_id": "f2102394d45f4872a4ad50373ff528fa",
       "version_major": 2,
       "version_minor": 0
      },
      "text/plain": [
       "  0%|          | 0/2 [00:00<?, ?it/s]"
      ]
     },
     "metadata": {},
     "output_type": "display_data"
    },
    {
     "data": {
      "application/vnd.jupyter.widget-view+json": {
       "model_id": "100df8ca60764b78b10ef594992bc170",
       "version_major": 2,
       "version_minor": 0
      },
      "text/plain": [
       "  0%|          | 0/9 [00:00<?, ?it/s]"
      ]
     },
     "metadata": {},
     "output_type": "display_data"
    },
    {
     "name": "stdout",
     "output_type": "stream",
     "text": [
      "Working on : mar, 20190516.\n"
     ]
    },
    {
     "data": {
      "application/vnd.jupyter.widget-view+json": {
       "model_id": "020162dc625f4c70b1a41d4c1e903e6b",
       "version_major": 2,
       "version_minor": 0
      },
      "text/plain": [
       "  0%|          | 0/13 [00:00<?, ?it/s]"
      ]
     },
     "metadata": {},
     "output_type": "display_data"
    },
    {
     "name": "stdout",
     "output_type": "stream",
     "text": [
      "For n_clusters = 2 The average silhouette_score is : 0.6219865168763407\n",
      "For n_clusters = 3 The average silhouette_score is : 0.535782834177223\n",
      "For n_clusters = 4 The average silhouette_score is : 0.5360693626824162\n",
      "For n_clusters = 5 The average silhouette_score is : 0.4560535847617118\n",
      "For n_clusters = 6 The average silhouette_score is : 0.45529082978244856\n",
      "For n_clusters = 7 The average silhouette_score is : 0.44623104595368007\n",
      "For n_clusters = 8 The average silhouette_score is : 0.4276467073078296\n",
      "For n_clusters = 9 The average silhouette_score is : 0.39984472497160034\n",
      "For n_clusters = 10 The average silhouette_score is : 0.3944833658664287\n",
      "For n_clusters = 11 The average silhouette_score is : 0.39290037915600995\n",
      "For n_clusters = 12 The average silhouette_score is : 0.3626866522843635\n",
      "For n_clusters = 13 The average silhouette_score is : 0.3537214969510808\n",
      "For n_clusters = 14 The average silhouette_score is : 0.360049558138258\n",
      "Working on : mar, 20190313.\n"
     ]
    },
    {
     "data": {
      "application/vnd.jupyter.widget-view+json": {
       "model_id": "43125f70b3b44e339a6b041c3868a1de",
       "version_major": 2,
       "version_minor": 0
      },
      "text/plain": [
       "  0%|          | 0/13 [00:00<?, ?it/s]"
      ]
     },
     "metadata": {},
     "output_type": "display_data"
    },
    {
     "name": "stdout",
     "output_type": "stream",
     "text": [
      "For n_clusters = 2 The average silhouette_score is : 0.557958595647791\n",
      "For n_clusters = 3 The average silhouette_score is : 0.5140648301846097\n",
      "For n_clusters = 4 The average silhouette_score is : 0.5018436513556769\n",
      "For n_clusters = 5 The average silhouette_score is : 0.433979206893076\n",
      "For n_clusters = 6 The average silhouette_score is : 0.417124057365699\n",
      "For n_clusters = 7 The average silhouette_score is : 0.41877526043796687\n",
      "For n_clusters = 8 The average silhouette_score is : 0.3813644990945346\n",
      "For n_clusters = 9 The average silhouette_score is : 0.38298598316290156\n",
      "For n_clusters = 10 The average silhouette_score is : 0.38780357139523025\n",
      "For n_clusters = 11 The average silhouette_score is : 0.3705944933198418\n",
      "For n_clusters = 12 The average silhouette_score is : 0.3651637741592011\n",
      "For n_clusters = 13 The average silhouette_score is : 0.3626901435079943\n",
      "For n_clusters = 14 The average silhouette_score is : 0.364312347054231\n",
      "Working on : mar, 20190205.\n"
     ]
    },
    {
     "data": {
      "application/vnd.jupyter.widget-view+json": {
       "model_id": "3fd8fe1dc62c41d5b4c160e73fd5473a",
       "version_major": 2,
       "version_minor": 0
      },
      "text/plain": [
       "  0%|          | 0/13 [00:00<?, ?it/s]"
      ]
     },
     "metadata": {},
     "output_type": "display_data"
    },
    {
     "name": "stdout",
     "output_type": "stream",
     "text": [
      "For n_clusters = 2 The average silhouette_score is : 0.5864811907668233\n",
      "For n_clusters = 3 The average silhouette_score is : 0.5287826504696901\n",
      "For n_clusters = 4 The average silhouette_score is : 0.5135421029464969\n",
      "For n_clusters = 5 The average silhouette_score is : 0.4307716357147362\n",
      "For n_clusters = 6 The average silhouette_score is : 0.4198951039452866\n",
      "For n_clusters = 7 The average silhouette_score is : 0.4216561839748987\n",
      "For n_clusters = 8 The average silhouette_score is : 0.4048963177852256\n",
      "For n_clusters = 9 The average silhouette_score is : 0.40309220394346107\n",
      "For n_clusters = 10 The average silhouette_score is : 0.3863324302013023\n",
      "For n_clusters = 11 The average silhouette_score is : 0.3797930282754271\n",
      "For n_clusters = 12 The average silhouette_score is : 0.38096229910474133\n",
      "For n_clusters = 13 The average silhouette_score is : 0.38270148296414735\n",
      "For n_clusters = 14 The average silhouette_score is : 0.38101196831610196\n",
      "Working on : mar, 20181211.\n"
     ]
    },
    {
     "data": {
      "application/vnd.jupyter.widget-view+json": {
       "model_id": "08a89ae372494ebc964a6442de4b8fb0",
       "version_major": 2,
       "version_minor": 0
      },
      "text/plain": [
       "  0%|          | 0/13 [00:00<?, ?it/s]"
      ]
     },
     "metadata": {},
     "output_type": "display_data"
    },
    {
     "name": "stdout",
     "output_type": "stream",
     "text": [
      "For n_clusters = 2 The average silhouette_score is : 0.5408421089322027\n",
      "For n_clusters = 3 The average silhouette_score is : 0.5230591336669079\n",
      "For n_clusters = 4 The average silhouette_score is : 0.5212604455141028\n",
      "For n_clusters = 5 The average silhouette_score is : 0.4229400387683722\n",
      "For n_clusters = 6 The average silhouette_score is : 0.45245862927127983\n",
      "For n_clusters = 7 The average silhouette_score is : 0.4483238394769186\n",
      "For n_clusters = 8 The average silhouette_score is : 0.4196417680949735\n",
      "For n_clusters = 9 The average silhouette_score is : 0.40611511715414134\n",
      "For n_clusters = 10 The average silhouette_score is : 0.38659542553842996\n",
      "For n_clusters = 11 The average silhouette_score is : 0.3696055524901218\n",
      "For n_clusters = 12 The average silhouette_score is : 0.37009962399500085\n",
      "For n_clusters = 13 The average silhouette_score is : 0.35527656663572244\n",
      "For n_clusters = 14 The average silhouette_score is : 0.3465435289160837\n",
      "Working on : mar, 20181113.\n"
     ]
    },
    {
     "data": {
      "application/vnd.jupyter.widget-view+json": {
       "model_id": "6e45e8f45cf2406987ae01c822b15359",
       "version_major": 2,
       "version_minor": 0
      },
      "text/plain": [
       "  0%|          | 0/13 [00:00<?, ?it/s]"
      ]
     },
     "metadata": {},
     "output_type": "display_data"
    },
    {
     "name": "stdout",
     "output_type": "stream",
     "text": [
      "For n_clusters = 2 The average silhouette_score is : 0.5653353599190023\n",
      "For n_clusters = 3 The average silhouette_score is : 0.48082172651613736\n",
      "For n_clusters = 4 The average silhouette_score is : 0.4739355249881875\n",
      "For n_clusters = 5 The average silhouette_score is : 0.44998542160594424\n",
      "For n_clusters = 6 The average silhouette_score is : 0.46793686792032685\n",
      "For n_clusters = 7 The average silhouette_score is : 0.45141377362406754\n",
      "For n_clusters = 8 The average silhouette_score is : 0.4282875609756635\n",
      "For n_clusters = 9 The average silhouette_score is : 0.41407851845524357\n",
      "For n_clusters = 10 The average silhouette_score is : 0.40718423656045105\n",
      "For n_clusters = 11 The average silhouette_score is : 0.3903647922431344\n",
      "For n_clusters = 12 The average silhouette_score is : 0.3839833647433829\n",
      "For n_clusters = 13 The average silhouette_score is : 0.38065272471925277\n",
      "For n_clusters = 14 The average silhouette_score is : 0.3832072967705472\n",
      "Working on : mar, 20180925.\n"
     ]
    },
    {
     "data": {
      "application/vnd.jupyter.widget-view+json": {
       "model_id": "a2876a379d334cafbd31fe276da39d8c",
       "version_major": 2,
       "version_minor": 0
      },
      "text/plain": [
       "  0%|          | 0/13 [00:00<?, ?it/s]"
      ]
     },
     "metadata": {},
     "output_type": "display_data"
    },
    {
     "name": "stdout",
     "output_type": "stream",
     "text": [
      "For n_clusters = 2 The average silhouette_score is : 0.5781993163219185\n",
      "For n_clusters = 3 The average silhouette_score is : 0.5170856406873439\n",
      "For n_clusters = 4 The average silhouette_score is : 0.48466929384434043\n",
      "For n_clusters = 5 The average silhouette_score is : 0.4373504056027659\n",
      "For n_clusters = 6 The average silhouette_score is : 0.39375906953445383\n",
      "For n_clusters = 7 The average silhouette_score is : 0.38864190848914665\n",
      "For n_clusters = 8 The average silhouette_score is : 0.4035256487664215\n",
      "For n_clusters = 9 The average silhouette_score is : 0.3798356038299367\n",
      "For n_clusters = 10 The average silhouette_score is : 0.37962054426443537\n",
      "For n_clusters = 11 The average silhouette_score is : 0.3644375001522226\n",
      "For n_clusters = 12 The average silhouette_score is : 0.3558265298038209\n",
      "For n_clusters = 13 The average silhouette_score is : 0.34528697717595713\n",
      "For n_clusters = 14 The average silhouette_score is : 0.35004508855406896\n",
      "Working on : mar, 20180727.\n"
     ]
    },
    {
     "data": {
      "application/vnd.jupyter.widget-view+json": {
       "model_id": "18838ef9aa1b40cd9c1f759a352edf77",
       "version_major": 2,
       "version_minor": 0
      },
      "text/plain": [
       "  0%|          | 0/13 [00:00<?, ?it/s]"
      ]
     },
     "metadata": {},
     "output_type": "display_data"
    },
    {
     "name": "stdout",
     "output_type": "stream",
     "text": [
      "For n_clusters = 2 The average silhouette_score is : 0.5803251747670938\n",
      "For n_clusters = 3 The average silhouette_score is : 0.48850610227959923\n",
      "For n_clusters = 4 The average silhouette_score is : 0.4772654299979584\n",
      "For n_clusters = 5 The average silhouette_score is : 0.4135001777584117\n",
      "For n_clusters = 6 The average silhouette_score is : 0.38283314263428714\n",
      "For n_clusters = 7 The average silhouette_score is : 0.3755827513627956\n",
      "For n_clusters = 8 The average silhouette_score is : 0.3486272625814806\n",
      "For n_clusters = 9 The average silhouette_score is : 0.3367906257895182\n",
      "For n_clusters = 10 The average silhouette_score is : 0.3273888373123684\n",
      "For n_clusters = 11 The average silhouette_score is : 0.30071888963336296\n",
      "For n_clusters = 12 The average silhouette_score is : 0.3219840164575009\n",
      "For n_clusters = 13 The average silhouette_score is : 0.3222155159146202\n",
      "For n_clusters = 14 The average silhouette_score is : 0.307958370621084\n",
      "Working on : mar, 20180621.\n"
     ]
    },
    {
     "data": {
      "application/vnd.jupyter.widget-view+json": {
       "model_id": "7a26a84c6c81420db143809f70b8b9af",
       "version_major": 2,
       "version_minor": 0
      },
      "text/plain": [
       "  0%|          | 0/13 [00:00<?, ?it/s]"
      ]
     },
     "metadata": {},
     "output_type": "display_data"
    },
    {
     "name": "stdout",
     "output_type": "stream",
     "text": [
      "For n_clusters = 2 The average silhouette_score is : 0.5439589764752933\n",
      "For n_clusters = 3 The average silhouette_score is : 0.4387708619085413\n",
      "For n_clusters = 4 The average silhouette_score is : 0.4501935908699898\n",
      "For n_clusters = 5 The average silhouette_score is : 0.3963414382040067\n",
      "For n_clusters = 6 The average silhouette_score is : 0.41807731086369254\n",
      "For n_clusters = 7 The average silhouette_score is : 0.3871968978951222\n",
      "For n_clusters = 8 The average silhouette_score is : 0.37393061831106983\n",
      "For n_clusters = 9 The average silhouette_score is : 0.3443142601476958\n",
      "For n_clusters = 10 The average silhouette_score is : 0.3585650473719073\n",
      "For n_clusters = 11 The average silhouette_score is : 0.35570748604269775\n",
      "For n_clusters = 12 The average silhouette_score is : 0.3575633171508779\n",
      "For n_clusters = 13 The average silhouette_score is : 0.37087632012718563\n",
      "For n_clusters = 14 The average silhouette_score is : 0.3795271430686032\n",
      "Working on : mar, 20180601.\n"
     ]
    },
    {
     "data": {
      "application/vnd.jupyter.widget-view+json": {
       "model_id": "eed576150cce41cb8d52225bfb4e29d3",
       "version_major": 2,
       "version_minor": 0
      },
      "text/plain": [
       "  0%|          | 0/13 [00:00<?, ?it/s]"
      ]
     },
     "metadata": {},
     "output_type": "display_data"
    },
    {
     "name": "stdout",
     "output_type": "stream",
     "text": [
      "For n_clusters = 2 The average silhouette_score is : 0.48270415311106846\n",
      "For n_clusters = 3 The average silhouette_score is : 0.3772084152830261\n",
      "For n_clusters = 4 The average silhouette_score is : 0.38234628609235827\n",
      "For n_clusters = 5 The average silhouette_score is : 0.38128225187445997\n",
      "For n_clusters = 6 The average silhouette_score is : 0.36428432858349613\n",
      "For n_clusters = 7 The average silhouette_score is : 0.36240034713437685\n",
      "For n_clusters = 8 The average silhouette_score is : 0.3701424025696913\n",
      "For n_clusters = 9 The average silhouette_score is : 0.37175207788683484\n",
      "For n_clusters = 10 The average silhouette_score is : 0.37676977350569846\n",
      "For n_clusters = 11 The average silhouette_score is : 0.37582649170780724\n",
      "For n_clusters = 12 The average silhouette_score is : 0.3619596723553155\n",
      "For n_clusters = 13 The average silhouette_score is : 0.360705274650356\n",
      "For n_clusters = 14 The average silhouette_score is : 0.3549151019500089\n"
     ]
    },
    {
     "data": {
      "application/vnd.jupyter.widget-view+json": {
       "model_id": "c734fa11562040d4a8d265e58ef75596",
       "version_major": 2,
       "version_minor": 0
      },
      "text/plain": [
       "  0%|          | 0/6 [00:00<?, ?it/s]"
      ]
     },
     "metadata": {},
     "output_type": "display_data"
    },
    {
     "name": "stdout",
     "output_type": "stream",
     "text": [
      "Working on : leo, 20190731.\n"
     ]
    },
    {
     "data": {
      "application/vnd.jupyter.widget-view+json": {
       "model_id": "e03b5ffb2ee8437a81cbb3cb36b4e84a",
       "version_major": 2,
       "version_minor": 0
      },
      "text/plain": [
       "  0%|          | 0/13 [00:00<?, ?it/s]"
      ]
     },
     "metadata": {},
     "output_type": "display_data"
    },
    {
     "name": "stdout",
     "output_type": "stream",
     "text": [
      "For n_clusters = 2 The average silhouette_score is : 0.3899198233106219\n",
      "For n_clusters = 3 The average silhouette_score is : 0.5071438060156596\n",
      "For n_clusters = 4 The average silhouette_score is : 0.47005119135652856\n",
      "For n_clusters = 5 The average silhouette_score is : 0.4481907289981238\n",
      "For n_clusters = 6 The average silhouette_score is : 0.42502882450684076\n",
      "For n_clusters = 7 The average silhouette_score is : 0.4011433092740131\n",
      "For n_clusters = 8 The average silhouette_score is : 0.38998808479733066\n",
      "For n_clusters = 9 The average silhouette_score is : 0.38559916622535073\n",
      "For n_clusters = 10 The average silhouette_score is : 0.38736594985557654\n",
      "For n_clusters = 11 The average silhouette_score is : 0.3788805356672864\n",
      "For n_clusters = 12 The average silhouette_score is : 0.37132878563783606\n",
      "For n_clusters = 13 The average silhouette_score is : 0.3728000521740459\n",
      "For n_clusters = 14 The average silhouette_score is : 0.37291633707910765\n",
      "Working on : leo, 20190328.\n"
     ]
    },
    {
     "data": {
      "application/vnd.jupyter.widget-view+json": {
       "model_id": "305e7d7cbefa4538a97b4d38b2c3ddb9",
       "version_major": 2,
       "version_minor": 0
      },
      "text/plain": [
       "  0%|          | 0/13 [00:00<?, ?it/s]"
      ]
     },
     "metadata": {},
     "output_type": "display_data"
    },
    {
     "name": "stdout",
     "output_type": "stream",
     "text": [
      "For n_clusters = 2 The average silhouette_score is : 0.3988524141238273\n",
      "For n_clusters = 3 The average silhouette_score is : 0.4304685615621422\n",
      "For n_clusters = 4 The average silhouette_score is : 0.431227035737659\n",
      "For n_clusters = 5 The average silhouette_score is : 0.4509750902886234\n",
      "For n_clusters = 6 The average silhouette_score is : 0.42012497505273527\n",
      "For n_clusters = 7 The average silhouette_score is : 0.4094032569946379\n",
      "For n_clusters = 8 The average silhouette_score is : 0.42729379253757904\n",
      "For n_clusters = 9 The average silhouette_score is : 0.41690585873078206\n",
      "For n_clusters = 10 The average silhouette_score is : 0.4226788217215935\n",
      "For n_clusters = 11 The average silhouette_score is : 0.41351261817558693\n",
      "For n_clusters = 12 The average silhouette_score is : 0.4087415403998031\n",
      "For n_clusters = 13 The average silhouette_score is : 0.38543846003780563\n",
      "For n_clusters = 14 The average silhouette_score is : 0.3783301865582882\n",
      "Working on : leo, 20190211.\n"
     ]
    },
    {
     "data": {
      "application/vnd.jupyter.widget-view+json": {
       "model_id": "6b72e20f2ec94b82a43f7f9283a8222a",
       "version_major": 2,
       "version_minor": 0
      },
      "text/plain": [
       "  0%|          | 0/13 [00:00<?, ?it/s]"
      ]
     },
     "metadata": {},
     "output_type": "display_data"
    },
    {
     "name": "stdout",
     "output_type": "stream",
     "text": [
      "For n_clusters = 2 The average silhouette_score is : 0.3811803323084047\n",
      "For n_clusters = 3 The average silhouette_score is : 0.48727929000883047\n",
      "For n_clusters = 4 The average silhouette_score is : 0.44313687819005354\n",
      "For n_clusters = 5 The average silhouette_score is : 0.45097582364485633\n",
      "For n_clusters = 6 The average silhouette_score is : 0.4320727369612193\n",
      "For n_clusters = 7 The average silhouette_score is : 0.4166514336483687\n",
      "For n_clusters = 8 The average silhouette_score is : 0.39445247084076124\n",
      "For n_clusters = 9 The average silhouette_score is : 0.3718047003108205\n",
      "For n_clusters = 10 The average silhouette_score is : 0.36905766574894283\n",
      "For n_clusters = 11 The average silhouette_score is : 0.3723670925736636\n",
      "For n_clusters = 12 The average silhouette_score is : 0.35518841237259613\n",
      "For n_clusters = 13 The average silhouette_score is : 0.35415290301652735\n",
      "For n_clusters = 14 The average silhouette_score is : 0.33383141602938693\n",
      "Working on : leo, 20180920.\n"
     ]
    },
    {
     "data": {
      "application/vnd.jupyter.widget-view+json": {
       "model_id": "507c461d32d148dcb1bfd9924507a805",
       "version_major": 2,
       "version_minor": 0
      },
      "text/plain": [
       "  0%|          | 0/13 [00:00<?, ?it/s]"
      ]
     },
     "metadata": {},
     "output_type": "display_data"
    },
    {
     "name": "stdout",
     "output_type": "stream",
     "text": [
      "For n_clusters = 2 The average silhouette_score is : 0.4039166622963731\n",
      "For n_clusters = 3 The average silhouette_score is : 0.4367493135688848\n",
      "For n_clusters = 4 The average silhouette_score is : 0.42434419318841404\n",
      "For n_clusters = 5 The average silhouette_score is : 0.4443994359362926\n",
      "For n_clusters = 6 The average silhouette_score is : 0.4175864662989779\n",
      "For n_clusters = 7 The average silhouette_score is : 0.38860870508958795\n",
      "For n_clusters = 8 The average silhouette_score is : 0.38880003508342514\n",
      "For n_clusters = 9 The average silhouette_score is : 0.3830287983992327\n",
      "For n_clusters = 10 The average silhouette_score is : 0.37353163965128733\n",
      "For n_clusters = 11 The average silhouette_score is : 0.36620965721819637\n",
      "For n_clusters = 12 The average silhouette_score is : 0.3536600836899299\n",
      "For n_clusters = 13 The average silhouette_score is : 0.3585083805642395\n",
      "For n_clusters = 14 The average silhouette_score is : 0.35672016047028215\n",
      "Working on : leo, 20180713.\n"
     ]
    },
    {
     "data": {
      "application/vnd.jupyter.widget-view+json": {
       "model_id": "eb7d93d9904649399aeb69a754651d80",
       "version_major": 2,
       "version_minor": 0
      },
      "text/plain": [
       "  0%|          | 0/13 [00:00<?, ?it/s]"
      ]
     },
     "metadata": {},
     "output_type": "display_data"
    },
    {
     "name": "stdout",
     "output_type": "stream",
     "text": [
      "For n_clusters = 2 The average silhouette_score is : 0.49629965872244686\n",
      "For n_clusters = 3 The average silhouette_score is : 0.5092406492417487\n",
      "For n_clusters = 4 The average silhouette_score is : 0.46159478658042724\n",
      "For n_clusters = 5 The average silhouette_score is : 0.4488595142176017\n",
      "For n_clusters = 6 The average silhouette_score is : 0.4183623304561938\n",
      "For n_clusters = 7 The average silhouette_score is : 0.39004221840210485\n",
      "For n_clusters = 8 The average silhouette_score is : 0.3842278112748862\n",
      "For n_clusters = 9 The average silhouette_score is : 0.36304035595403583\n",
      "For n_clusters = 10 The average silhouette_score is : 0.3463760386521644\n",
      "For n_clusters = 11 The average silhouette_score is : 0.34841430296451464\n",
      "For n_clusters = 12 The average silhouette_score is : 0.3460546307634773\n",
      "For n_clusters = 13 The average silhouette_score is : 0.34457917043266856\n",
      "For n_clusters = 14 The average silhouette_score is : 0.3318667826222712\n",
      "Working on : leo, 20180606.\n"
     ]
    },
    {
     "data": {
      "application/vnd.jupyter.widget-view+json": {
       "model_id": "203963bcb1d24dc98e9e0084450badfd",
       "version_major": 2,
       "version_minor": 0
      },
      "text/plain": [
       "  0%|          | 0/13 [00:00<?, ?it/s]"
      ]
     },
     "metadata": {},
     "output_type": "display_data"
    },
    {
     "name": "stdout",
     "output_type": "stream",
     "text": [
      "For n_clusters = 2 The average silhouette_score is : 0.4012079287817844\n",
      "For n_clusters = 3 The average silhouette_score is : 0.4563078554750914\n",
      "For n_clusters = 4 The average silhouette_score is : 0.40640166442880776\n",
      "For n_clusters = 5 The average silhouette_score is : 0.4001757072050638\n",
      "For n_clusters = 6 The average silhouette_score is : 0.3890044660503746\n",
      "For n_clusters = 7 The average silhouette_score is : 0.3716889344520391\n",
      "For n_clusters = 8 The average silhouette_score is : 0.36600629265911533\n",
      "For n_clusters = 9 The average silhouette_score is : 0.3503569988098764\n",
      "For n_clusters = 10 The average silhouette_score is : 0.34651080656561367\n",
      "For n_clusters = 11 The average silhouette_score is : 0.34322073624826754\n",
      "For n_clusters = 12 The average silhouette_score is : 0.3439561998875081\n",
      "For n_clusters = 13 The average silhouette_score is : 0.347961415981389\n",
      "For n_clusters = 14 The average silhouette_score is : 0.33782737875946023\n"
     ]
    }
   ],
   "source": [
    "# Run interatively KMeans + SA using the feature_set provided\n",
    "#feel free to add \n",
    "\n",
    "feature_set=[\"band1\",\"band2\",\"band3\",\"distance\"]\n",
    "sil_df=get_sil_location(P.profiles,\n",
    "                        ks=(2,15), \n",
    "                        feature_set=feature_set,\n",
    "                       random_state=10)"
   ]
  },
  {
   "cell_type": "markdown",
   "id": "a1aad931",
   "metadata": {},
   "source": [
    "Find sub-optimal k by searching inflexion points where an additional cluster do not considerably degrade the overall clustering performance."
   ]
  },
  {
   "cell_type": "code",
   "execution_count": 8,
   "id": "b75a456a",
   "metadata": {},
   "outputs": [
    {
     "data": {
      "text/plain": [
       "{'leo_20180606': 11,\n",
       " 'leo_20180713': 10,\n",
       " 'leo_20180920': 4,\n",
       " 'leo_20190211': 4,\n",
       " 'leo_20190328': 7,\n",
       " 'leo_20190731': 9,\n",
       " 'mar_20180601': 3,\n",
       " 'mar_20180621': 3,\n",
       " 'mar_20180727': 11,\n",
       " 'mar_20180925': 7,\n",
       " 'mar_20181113': 5,\n",
       " 'mar_20181211': 5,\n",
       " 'mar_20190205': 6,\n",
       " 'mar_20190313': 6,\n",
       " 'mar_20190516': 3}"
      ]
     },
     "execution_count": 8,
     "metadata": {},
     "output_type": "execute_result"
    }
   ],
   "source": [
    "opt_k=get_opt_k(sil_df, sigma=0 )\n",
    "opt_k"
   ]
  },
  {
   "cell_type": "markdown",
   "id": "c851a6df",
   "metadata": {},
   "source": [
    "If we are not satisfied with the sub-optimal k returned by the algorithm, we can manually specify each survey k\n",
    "by defining a dictionary."
   ]
  },
  {
   "cell_type": "code",
   "execution_count": 11,
   "id": "a540d094",
   "metadata": {},
   "outputs": [],
   "source": [
    "# Based on our observations on a dataset comprising 87 surveys, 10 clusters (k=10) is generally a good tradeoff.\n",
    "\n",
    "opt_k={'leo_20180606': 10,\n",
    " 'leo_20180713': 10,\n",
    " 'leo_20180920': 10,\n",
    " 'leo_20190211': 10,\n",
    " 'leo_20190328': 10,\n",
    " 'leo_20190731': 10,\n",
    " 'mar_20180601': 10,\n",
    " 'mar_20180621': 10,\n",
    " 'mar_20180727': 10,\n",
    " 'mar_20180925': 10,\n",
    " 'mar_20181113': 10,\n",
    " 'mar_20181211': 10,\n",
    " 'mar_20190205': 10,\n",
    " 'mar_20190313': 10,\n",
    " 'mar_20190516': 10}"
   ]
  },
  {
   "cell_type": "markdown",
   "id": "53fb1e68",
   "metadata": {},
   "source": [
    "or, update one value only. For instance, in mar_2019-05-16 dataset, it is unlikely that 3 clusters are enough.<br>\n",
    "So, we replace only that value with 10."
   ]
  },
  {
   "cell_type": "code",
   "execution_count": 9,
   "id": "2cdfb9ba",
   "metadata": {},
   "outputs": [
    {
     "data": {
      "application/vnd.jupyter.widget-view+json": {
       "model_id": "6b45948e1b454d8b9488713435695e03",
       "version_major": 2,
       "version_minor": 0
      },
      "text/plain": [
       "  0%|          | 0/2 [00:00<?, ?it/s]"
      ]
     },
     "metadata": {},
     "output_type": "display_data"
    },
    {
     "data": {
      "application/vnd.jupyter.widget-view+json": {
       "model_id": "6fec4b9024574296a0470ce6e35120d8",
       "version_major": 2,
       "version_minor": 0
      },
      "text/plain": [
       "  0%|          | 0/9 [00:00<?, ?it/s]"
      ]
     },
     "metadata": {},
     "output_type": "display_data"
    },
    {
     "data": {
      "application/vnd.jupyter.widget-view+json": {
       "model_id": "27f39dce893b429abd702e833a5a2d57",
       "version_major": 2,
       "version_minor": 0
      },
      "text/plain": [
       "  0%|          | 0/6 [00:00<?, ?it/s]"
      ]
     },
     "metadata": {},
     "output_type": "display_data"
    }
   ],
   "source": [
    "feature_set=[\"band1\",\"band2\",\"band3\",\"distance\"]\n",
    "\n",
    "P.kmeans_sa(opt_k,feature_set)"
   ]
  },
  {
   "cell_type": "markdown",
   "id": "9469cc1e",
   "metadata": {},
   "source": [
    "DONE! Now, the profile dataframe attribute has an additional column named __label_k__, which is the result of the survey specific KMeans algorithm."
   ]
  },
  {
   "cell_type": "markdown",
   "id": "c6d77d6d",
   "metadata": {},
   "source": [
    "Now that we have labelled the data points, we need to:\n",
    "1. export the dataframe as csv\n",
    "2. import it into your favourite GIS and use the __coordinates__ column as geometry\n",
    "3. using the filtering options, visualise only one survey at a time and assign one color per unique label_k value\n",
    "4. overlay these points on the orthophoto of the survey they were extracted from\n",
    "5. take notes of which label_k number is what class (sand, no_sand at least)\n",
    "6. create the label corrections file (polygons), following the specifications descirbed in the previous notebook."
   ]
  },
  {
   "cell_type": "markdown",
   "id": "c3825193",
   "metadata": {},
   "source": [
    "## Sand labeling and cleaning"
   ]
  },
  {
   "cell_type": "markdown",
   "id": "36ab27e4",
   "metadata": {},
   "source": [
    "Here below I provided the classes dictionaries of the demo data clustering results.\n",
    "\n",
    "Each class has its own dictionary. The keys store the survey identifier tag ('LocCode_yyyymmdd') and the values are lists of label_k associated with the dictionary class.\n",
    "\n",
    "For instance in this example:\n",
    "\n",
    "```python\n",
    "sand_dict = {'leo_20180606':[5],\n",
    "            'leo_20180713':[1,3,4],\n",
    "            'mar_20180920':[]}\n",
    "            \n",
    "water_dict = {'leo_20180606':[4],\n",
    "            'leo_20180713':[2,6],\n",
    "            'mar_20180920':[1,2,3,4]}\n",
    "```\n",
    "\n",
    "In the St. Leonards survey of the 13th July 2018, the label_k 1,3 and 4 are sand, while the label_k 2 and 6 are water.\n",
    "In Marengo, the 20th September 2018, no label_k represents sand while 1,2,3 and 4 are water.\n",
    "\n",
    "Here below are reported the label dictionaries of the demo data."
   ]
  },
  {
   "cell_type": "code",
   "execution_count": 11,
   "id": "f1b757b8",
   "metadata": {},
   "outputs": [],
   "source": [
    "water_dict={'leo_20180606':[0,9,10],\n",
    "'leo_20180713':[0,3,4,7],\n",
    "'leo_20180920':[0,2,6,7],\n",
    "'leo_20190211':[0,2,5],\n",
    "'leo_20190328':[2,4,5],\n",
    "'leo_20190731':[0,2,8,6],\n",
    "'mar_20180601':[1,6],\n",
    "'mar_20180621':[4,6],\n",
    "'mar_20180727':[0,5,9,10],\n",
    "'mar_20180925':[6],\n",
    "'mar_20181113':[1],\n",
    "'mar_20181211':[4],\n",
    "'mar_20190205':[],\n",
    "'mar_20190313':[],\n",
    "'mar_20190516':[4,7]}\n",
    "\n",
    "no_sand_dict={'leo_20180606':[5],\n",
    "'leo_20180713':[],\n",
    "'leo_20180920':[],\n",
    "'leo_20190211':[1],\n",
    "'leo_20190328':[],\n",
    "'leo_20190731':[1],\n",
    "'mar_20180601':[4,5],\n",
    "'mar_20180621':[3,5],\n",
    "'mar_20180727':[4,7],\n",
    "'mar_20180925':[5],\n",
    "'mar_20181113':[0],\n",
    "'mar_20181211':[0],\n",
    "'mar_20190205':[0,5],\n",
    "'mar_20190313':[4],\n",
    "'mar_20190516':[2,5]}\n",
    "\n",
    "veg_dict={'leo_20180606':[1,3,7,8],\n",
    "'leo_20180713':[1,5,9],\n",
    "'leo_20180920':[1,4,5],\n",
    "'leo_20190211':[4],\n",
    "'leo_20190328':[0,1,6],\n",
    "'leo_20190731':[3,7],\n",
    "'mar_20180601':[0,7],\n",
    "'mar_20180621':[1,7],\n",
    "'mar_20180727':[1,3],\n",
    "'mar_20180925':[1,3],\n",
    "'mar_20181113':[3],\n",
    "'mar_20181211':[2],\n",
    "'mar_20190205':[3],\n",
    "'mar_20190313':[1,5],\n",
    "'mar_20190516':[0]}\n",
    "\n",
    "sand_dict={'leo_20180606':[2,4,6],\n",
    "'leo_20180713':[2,6,8],\n",
    "'leo_20180920':[3],\n",
    "'leo_20190211':[3],\n",
    "'leo_20190328':[3],\n",
    "'leo_20190731':[4,5],\n",
    "'mar_20180601':[2,3],\n",
    "'mar_20180621':[0,2],\n",
    "'mar_20180727':[2,6,8],\n",
    "'mar_20180925':[0,4,2],\n",
    "'mar_20181113':[2,4],\n",
    "'mar_20181211':[3,1],\n",
    "'mar_20190205':[1,2,4],\n",
    "'mar_20190313':[0,2,3],\n",
    "'mar_20190516':[1,3,6]}"
   ]
  },
  {
   "cell_type": "markdown",
   "id": "b5418be7",
   "metadata": {},
   "source": [
    "Now that we have each class dictionary, let's put all of those in another dictionary in order to specify the name of the class.\n",
    "Like this:"
   ]
  },
  {
   "cell_type": "code",
   "execution_count": 12,
   "id": "9faac7bb",
   "metadata": {},
   "outputs": [],
   "source": [
    "l_dicts={'no_sand': no_sand_dict,\n",
    "         'sand': sand_dict,\n",
    "        'water': water_dict,\n",
    "        'veg':veg_dict}"
   ]
  },
  {
   "cell_type": "markdown",
   "id": "003b0935",
   "metadata": {},
   "source": [
    "Now, let's provide the paths to the geopackages (preferred, but also shapefiles are accepted) containing the label corrections, the watermasks and the shoremasks."
   ]
  },
  {
   "cell_type": "code",
   "execution_count": 13,
   "id": "5e509dae",
   "metadata": {},
   "outputs": [],
   "source": [
    "label_corrections_path=r\"C:\\my_packages\\sandpyper\\tests\\test_data\\clean\\label_corrections.gpkg\"\n",
    "watermasks_path=r\"C:\\my_packages\\sandpyper\\tests\\test_data\\clean\\watermasks.gpkg\"\n",
    "shoremasks_path=r\"C:\\my_packages\\sandpyper\\tests\\test_data\\clean\\shoremasks.gpkg\""
   ]
  },
  {
   "cell_type": "markdown",
   "id": "ce4f004b",
   "metadata": {},
   "source": [
    "All set!\n",
    "\n",
    "Now we are ready to use the __.cleanit method__ to:\n",
    "\n",
    "1. classify each point using the dictionaries provided\n",
    "2. fine-tuning the label_k using the label correction polygons provided\n",
    "3. eliminate water/swash points using the watermasks provided\n",
    "4. clip to the shore area using the shoremasks provided\n"
   ]
  },
  {
   "cell_type": "code",
   "execution_count": 14,
   "id": "24dd7cfd",
   "metadata": {},
   "outputs": [
    {
     "name": "stdout",
     "output_type": "stream",
     "text": [
      "Reclassifying dataset with the provided dictionaries.\n",
      "Label corrections provided in CRS: epsg:32754\n",
      "Fine tuning in leo.\n"
     ]
    },
    {
     "name": "stderr",
     "output_type": "stream",
     "text": [
      "C:\\conda3\\envs\\sandpyper_env\\lib\\site-packages\\geopandas\\geodataframe.py:422: RuntimeWarning: Sequential read of iterator was interrupted. Resetting iterator. This can negatively impact the performance.\n",
      "  for feature in features_lst:\n"
     ]
    },
    {
     "data": {
      "application/vnd.jupyter.widget-view+json": {
       "model_id": "82520112fec648909ef452f697e5bef9",
       "version_major": 2,
       "version_minor": 0
      },
      "text/plain": [
       "  0%|          | 0/6 [00:00<?, ?it/s]"
      ]
     },
     "metadata": {},
     "output_type": "display_data"
    },
    {
     "name": "stdout",
     "output_type": "stream",
     "text": [
      "Fine-tuning label_k 3 to no_sand in leo-20180606, found 127 pts.\n",
      "Fine-tuning label_k 8 to no_sand in leo-20180606, found 73 pts.\n",
      "Fine-tuning label_k 5 to no_sand in leo-20180713, found 56 pts.\n",
      "Fine-tuning label_k 6 to no_sand in leo-20180713, found 7 pts.\n",
      "Fine-tuning label_k 1 to no_sand in leo-20180920, found 89 pts.\n",
      "Fine-tuning label_k 2 to sand in leo-20180920, found 9 pts.\n",
      "Fine-tuning label_k 2 to veg in leo-20180920, found 31 pts.\n",
      "Fine-tuning label_k 6 to sand in leo-20180920, found 17 pts.\n",
      "Fine-tuning label_k 2 to veg in leo-20190211, found 2 pts.\n",
      "Fine-tuning label_k 6 to veg in leo-20190211, found 29 pts.\n",
      "Fine-tuning label_k 6 to no_sand in leo-20190211, found 2 pts.\n",
      "Fine-tuning label_k 6 to veg in leo-20190211, found 6 pts.\n",
      "Fine-tuning label_k 6 to sand in leo-20190211, found 28 pts.\n",
      "Fine-tuning label_k 7 to no_sand in leo-20190211, found 41 pts.\n",
      "Fine-tuning label_k 0 to sand in leo-20190328, found 6 pts.\n",
      "Fine-tuning label_k 0 to no_sand in leo-20190328, found 52 pts.\n",
      "Fine-tuning label_k 1 to sand in leo-20190328, found 21 pts.\n",
      "Fine-tuning label_k 1 to no_sand in leo-20190328, found 2 pts.\n",
      "Fine-tuning label_k 2 to sand in leo-20190328, found 16 pts.\n",
      "Fine-tuning label_k 4 to sand in leo-20190328, found 25 pts.\n",
      "Fine-tuning label_k 5 to veg in leo-20190328, found 3 pts.\n",
      "Fine-tuning label_k 1 to sand in leo-20190731, found 5 pts.\n",
      "Fine-tuning label_k 3 to no_sand in leo-20190731, found 11 pts.\n",
      "Fine-tuning label_k 7 to no_sand in leo-20190731, found 72 pts.\n",
      "Fine-tuning label_k 6 to sand in leo-20190731, found 25 pts.\n",
      "Fine-tuning label_k 6 to veg in leo-20190731, found 42 pts.\n",
      "Fine tuning in mar.\n"
     ]
    },
    {
     "data": {
      "application/vnd.jupyter.widget-view+json": {
       "model_id": "3199ea51a1fb4aa2bacc3d95f79d8f63",
       "version_major": 2,
       "version_minor": 0
      },
      "text/plain": [
       "  0%|          | 0/6 [00:00<?, ?it/s]"
      ]
     },
     "metadata": {},
     "output_type": "display_data"
    },
    {
     "name": "stdout",
     "output_type": "stream",
     "text": [
      "Fine-tuning label_k 3 to water in mar-20180601, found 163 pts.\n",
      "Fine-tuning label_k 7 to no_sand in mar-20180601, found 15 pts.\n",
      "Fine-tuning label_k 7 to sand in mar-20180601, found 53 pts.\n",
      "Fine-tuning label_k 1 to sand in mar-20180621, found 48 pts.\n",
      "Fine-tuning label_k 3 to sand in mar-20180621, found 42 pts.\n",
      "Fine-tuning label_k 2 to water in mar-20180727, found 98 pts.\n",
      "Fine-tuning label_k 4 to sand in mar-20180727, found 29 pts.\n",
      "Fine-tuning label_k 2 to no_sand in mar-20181211, found 45 pts.\n",
      "Fine-tuning label_k 1 to water in mar-20181211, found 149 pts.\n",
      "Fine-tuning label_k 2 to water in mar-20190205, found 304 pts.\n",
      "Fine-tuning label_k 3 to no_sand in mar-20190205, found 23 pts.\n",
      "Fine-tuning label_k 2 to water in mar-20190313, found 100 pts.\n",
      "Fine-tuning label_k 5 to no_sand in mar-20190313, found 77 pts.\n",
      "watermask  provided in CRS: epsg:32754\n",
      "Applying watermasks cleaning.\n",
      "Watermasking in mar.\n"
     ]
    },
    {
     "name": "stderr",
     "output_type": "stream",
     "text": [
      "C:\\conda3\\envs\\sandpyper_env\\lib\\site-packages\\geopandas\\geodataframe.py:422: RuntimeWarning: Sequential read of iterator was interrupted. Resetting iterator. This can negatively impact the performance.\n",
      "  for feature in features_lst:\n"
     ]
    },
    {
     "data": {
      "application/vnd.jupyter.widget-view+json": {
       "model_id": "eec0414a70d649d98a5fff8d620d5b6a",
       "version_major": 2,
       "version_minor": 0
      },
      "text/plain": [
       "  0%|          | 0/9 [00:00<?, ?it/s]"
      ]
     },
     "metadata": {},
     "output_type": "display_data"
    },
    {
     "name": "stderr",
     "output_type": "stream",
     "text": [
      "C:\\conda3\\envs\\sandpyper_env\\lib\\site-packages\\geopandas\\base.py:39: UserWarning: The indices of the two GeoSeries are different.\n",
      "  warn(\"The indices of the two GeoSeries are different.\")\n",
      "C:\\conda3\\envs\\sandpyper_env\\lib\\site-packages\\geopandas\\geodataframe.py:828: UserWarning: Boolean Series key will be reindexed to match DataFrame index.\n",
      "  result = super(GeoDataFrame, self).__getitem__(key)\n",
      "C:\\conda3\\envs\\sandpyper_env\\lib\\site-packages\\pyproj\\crs\\crs.py:53: FutureWarning: '+init=<authority>:<code>' syntax is deprecated. '<authority>:<code>' is the preferred initialization method. When making the change, be mindful of axis order changes: https://pyproj4.github.io/pyproj/stable/gotchas.html#axis-order-changes-in-proj-6\n",
      "  return _prepare_from_string(\" \".join(pjargs))\n",
      "C:\\conda3\\envs\\sandpyper_env\\lib\\site-packages\\geopandas\\base.py:39: UserWarning: The indices of the two GeoSeries are different.\n",
      "  warn(\"The indices of the two GeoSeries are different.\")\n",
      "C:\\conda3\\envs\\sandpyper_env\\lib\\site-packages\\geopandas\\geodataframe.py:828: UserWarning: Boolean Series key will be reindexed to match DataFrame index.\n",
      "  result = super(GeoDataFrame, self).__getitem__(key)\n"
     ]
    },
    {
     "name": "stdout",
     "output_type": "stream",
     "text": [
      "Setting to water 750 pts overlapping provided watermasks.\n",
      "Setting to water 532 pts overlapping provided watermasks.\n"
     ]
    },
    {
     "name": "stderr",
     "output_type": "stream",
     "text": [
      "C:\\conda3\\envs\\sandpyper_env\\lib\\site-packages\\pyproj\\crs\\crs.py:53: FutureWarning: '+init=<authority>:<code>' syntax is deprecated. '<authority>:<code>' is the preferred initialization method. When making the change, be mindful of axis order changes: https://pyproj4.github.io/pyproj/stable/gotchas.html#axis-order-changes-in-proj-6\n",
      "  return _prepare_from_string(\" \".join(pjargs))\n",
      "C:\\conda3\\envs\\sandpyper_env\\lib\\site-packages\\geopandas\\base.py:39: UserWarning: The indices of the two GeoSeries are different.\n",
      "  warn(\"The indices of the two GeoSeries are different.\")\n",
      "C:\\conda3\\envs\\sandpyper_env\\lib\\site-packages\\geopandas\\geodataframe.py:828: UserWarning: Boolean Series key will be reindexed to match DataFrame index.\n",
      "  result = super(GeoDataFrame, self).__getitem__(key)\n",
      "C:\\conda3\\envs\\sandpyper_env\\lib\\site-packages\\pyproj\\crs\\crs.py:53: FutureWarning: '+init=<authority>:<code>' syntax is deprecated. '<authority>:<code>' is the preferred initialization method. When making the change, be mindful of axis order changes: https://pyproj4.github.io/pyproj/stable/gotchas.html#axis-order-changes-in-proj-6\n",
      "  return _prepare_from_string(\" \".join(pjargs))\n"
     ]
    },
    {
     "name": "stdout",
     "output_type": "stream",
     "text": [
      "Setting to water 710 pts overlapping provided watermasks.\n",
      "Setting to water 532 pts overlapping provided watermasks.\n"
     ]
    },
    {
     "name": "stderr",
     "output_type": "stream",
     "text": [
      "C:\\conda3\\envs\\sandpyper_env\\lib\\site-packages\\geopandas\\base.py:39: UserWarning: The indices of the two GeoSeries are different.\n",
      "  warn(\"The indices of the two GeoSeries are different.\")\n",
      "C:\\conda3\\envs\\sandpyper_env\\lib\\site-packages\\geopandas\\geodataframe.py:828: UserWarning: Boolean Series key will be reindexed to match DataFrame index.\n",
      "  result = super(GeoDataFrame, self).__getitem__(key)\n",
      "C:\\conda3\\envs\\sandpyper_env\\lib\\site-packages\\pyproj\\crs\\crs.py:53: FutureWarning: '+init=<authority>:<code>' syntax is deprecated. '<authority>:<code>' is the preferred initialization method. When making the change, be mindful of axis order changes: https://pyproj4.github.io/pyproj/stable/gotchas.html#axis-order-changes-in-proj-6\n",
      "  return _prepare_from_string(\" \".join(pjargs))\n",
      "C:\\conda3\\envs\\sandpyper_env\\lib\\site-packages\\geopandas\\base.py:39: UserWarning: The indices of the two GeoSeries are different.\n",
      "  warn(\"The indices of the two GeoSeries are different.\")\n",
      "C:\\conda3\\envs\\sandpyper_env\\lib\\site-packages\\geopandas\\geodataframe.py:828: UserWarning: Boolean Series key will be reindexed to match DataFrame index.\n",
      "  result = super(GeoDataFrame, self).__getitem__(key)\n",
      "C:\\conda3\\envs\\sandpyper_env\\lib\\site-packages\\pyproj\\crs\\crs.py:53: FutureWarning: '+init=<authority>:<code>' syntax is deprecated. '<authority>:<code>' is the preferred initialization method. When making the change, be mindful of axis order changes: https://pyproj4.github.io/pyproj/stable/gotchas.html#axis-order-changes-in-proj-6\n",
      "  return _prepare_from_string(\" \".join(pjargs))\n"
     ]
    },
    {
     "name": "stdout",
     "output_type": "stream",
     "text": [
      "Setting to water 599 pts overlapping provided watermasks.\n",
      "Setting to water 557 pts overlapping provided watermasks.\n"
     ]
    },
    {
     "name": "stderr",
     "output_type": "stream",
     "text": [
      "C:\\conda3\\envs\\sandpyper_env\\lib\\site-packages\\geopandas\\base.py:39: UserWarning: The indices of the two GeoSeries are different.\n",
      "  warn(\"The indices of the two GeoSeries are different.\")\n",
      "C:\\conda3\\envs\\sandpyper_env\\lib\\site-packages\\geopandas\\geodataframe.py:828: UserWarning: Boolean Series key will be reindexed to match DataFrame index.\n",
      "  result = super(GeoDataFrame, self).__getitem__(key)\n",
      "C:\\conda3\\envs\\sandpyper_env\\lib\\site-packages\\pyproj\\crs\\crs.py:53: FutureWarning: '+init=<authority>:<code>' syntax is deprecated. '<authority>:<code>' is the preferred initialization method. When making the change, be mindful of axis order changes: https://pyproj4.github.io/pyproj/stable/gotchas.html#axis-order-changes-in-proj-6\n",
      "  return _prepare_from_string(\" \".join(pjargs))\n",
      "C:\\conda3\\envs\\sandpyper_env\\lib\\site-packages\\geopandas\\base.py:39: UserWarning: The indices of the two GeoSeries are different.\n",
      "  warn(\"The indices of the two GeoSeries are different.\")\n",
      "C:\\conda3\\envs\\sandpyper_env\\lib\\site-packages\\geopandas\\geodataframe.py:828: UserWarning: Boolean Series key will be reindexed to match DataFrame index.\n",
      "  result = super(GeoDataFrame, self).__getitem__(key)\n",
      "C:\\conda3\\envs\\sandpyper_env\\lib\\site-packages\\pyproj\\crs\\crs.py:53: FutureWarning: '+init=<authority>:<code>' syntax is deprecated. '<authority>:<code>' is the preferred initialization method. When making the change, be mindful of axis order changes: https://pyproj4.github.io/pyproj/stable/gotchas.html#axis-order-changes-in-proj-6\n",
      "  return _prepare_from_string(\" \".join(pjargs))\n"
     ]
    },
    {
     "name": "stdout",
     "output_type": "stream",
     "text": [
      "Setting to water 339 pts overlapping provided watermasks.\n",
      "Setting to water 133 pts overlapping provided watermasks.\n"
     ]
    },
    {
     "name": "stderr",
     "output_type": "stream",
     "text": [
      "C:\\conda3\\envs\\sandpyper_env\\lib\\site-packages\\geopandas\\base.py:39: UserWarning: The indices of the two GeoSeries are different.\n",
      "  warn(\"The indices of the two GeoSeries are different.\")\n",
      "C:\\conda3\\envs\\sandpyper_env\\lib\\site-packages\\geopandas\\geodataframe.py:828: UserWarning: Boolean Series key will be reindexed to match DataFrame index.\n",
      "  result = super(GeoDataFrame, self).__getitem__(key)\n",
      "C:\\conda3\\envs\\sandpyper_env\\lib\\site-packages\\pyproj\\crs\\crs.py:53: FutureWarning: '+init=<authority>:<code>' syntax is deprecated. '<authority>:<code>' is the preferred initialization method. When making the change, be mindful of axis order changes: https://pyproj4.github.io/pyproj/stable/gotchas.html#axis-order-changes-in-proj-6\n",
      "  return _prepare_from_string(\" \".join(pjargs))\n",
      "C:\\conda3\\envs\\sandpyper_env\\lib\\site-packages\\geopandas\\base.py:39: UserWarning: The indices of the two GeoSeries are different.\n",
      "  warn(\"The indices of the two GeoSeries are different.\")\n",
      "C:\\conda3\\envs\\sandpyper_env\\lib\\site-packages\\geopandas\\geodataframe.py:828: UserWarning: Boolean Series key will be reindexed to match DataFrame index.\n",
      "  result = super(GeoDataFrame, self).__getitem__(key)\n",
      "C:\\conda3\\envs\\sandpyper_env\\lib\\site-packages\\pyproj\\crs\\crs.py:53: FutureWarning: '+init=<authority>:<code>' syntax is deprecated. '<authority>:<code>' is the preferred initialization method. When making the change, be mindful of axis order changes: https://pyproj4.github.io/pyproj/stable/gotchas.html#axis-order-changes-in-proj-6\n",
      "  return _prepare_from_string(\" \".join(pjargs))\n"
     ]
    },
    {
     "name": "stdout",
     "output_type": "stream",
     "text": [
      "Setting to water 441 pts overlapping provided watermasks.\n",
      "Watermasking in leo.\n"
     ]
    },
    {
     "data": {
      "application/vnd.jupyter.widget-view+json": {
       "model_id": "f45bcee123e94a4da303bca783c1c8ec",
       "version_major": 2,
       "version_minor": 0
      },
      "text/plain": [
       "  0%|          | 0/6 [00:00<?, ?it/s]"
      ]
     },
     "metadata": {},
     "output_type": "display_data"
    },
    {
     "name": "stderr",
     "output_type": "stream",
     "text": [
      "C:\\conda3\\envs\\sandpyper_env\\lib\\site-packages\\geopandas\\base.py:39: UserWarning: The indices of the two GeoSeries are different.\n",
      "  warn(\"The indices of the two GeoSeries are different.\")\n",
      "C:\\conda3\\envs\\sandpyper_env\\lib\\site-packages\\pyproj\\crs\\crs.py:53: FutureWarning: '+init=<authority>:<code>' syntax is deprecated. '<authority>:<code>' is the preferred initialization method. When making the change, be mindful of axis order changes: https://pyproj4.github.io/pyproj/stable/gotchas.html#axis-order-changes-in-proj-6\n",
      "  return _prepare_from_string(\" \".join(pjargs))\n"
     ]
    },
    {
     "name": "stdout",
     "output_type": "stream",
     "text": [
      "Setting to water 652 pts overlapping provided watermasks.\n"
     ]
    },
    {
     "name": "stderr",
     "output_type": "stream",
     "text": [
      "C:\\conda3\\envs\\sandpyper_env\\lib\\site-packages\\geopandas\\base.py:39: UserWarning: The indices of the two GeoSeries are different.\n",
      "  warn(\"The indices of the two GeoSeries are different.\")\n",
      "C:\\conda3\\envs\\sandpyper_env\\lib\\site-packages\\geopandas\\geodataframe.py:828: UserWarning: Boolean Series key will be reindexed to match DataFrame index.\n",
      "  result = super(GeoDataFrame, self).__getitem__(key)\n",
      "C:\\conda3\\envs\\sandpyper_env\\lib\\site-packages\\pyproj\\crs\\crs.py:53: FutureWarning: '+init=<authority>:<code>' syntax is deprecated. '<authority>:<code>' is the preferred initialization method. When making the change, be mindful of axis order changes: https://pyproj4.github.io/pyproj/stable/gotchas.html#axis-order-changes-in-proj-6\n",
      "  return _prepare_from_string(\" \".join(pjargs))\n"
     ]
    },
    {
     "name": "stdout",
     "output_type": "stream",
     "text": [
      "Setting to water 555 pts overlapping provided watermasks.\n"
     ]
    },
    {
     "name": "stderr",
     "output_type": "stream",
     "text": [
      "C:\\conda3\\envs\\sandpyper_env\\lib\\site-packages\\geopandas\\base.py:39: UserWarning: The indices of the two GeoSeries are different.\n",
      "  warn(\"The indices of the two GeoSeries are different.\")\n",
      "C:\\conda3\\envs\\sandpyper_env\\lib\\site-packages\\geopandas\\geodataframe.py:828: UserWarning: Boolean Series key will be reindexed to match DataFrame index.\n",
      "  result = super(GeoDataFrame, self).__getitem__(key)\n",
      "C:\\conda3\\envs\\sandpyper_env\\lib\\site-packages\\pyproj\\crs\\crs.py:53: FutureWarning: '+init=<authority>:<code>' syntax is deprecated. '<authority>:<code>' is the preferred initialization method. When making the change, be mindful of axis order changes: https://pyproj4.github.io/pyproj/stable/gotchas.html#axis-order-changes-in-proj-6\n",
      "  return _prepare_from_string(\" \".join(pjargs))\n"
     ]
    },
    {
     "name": "stdout",
     "output_type": "stream",
     "text": [
      "Setting to water 638 pts overlapping provided watermasks.\n"
     ]
    },
    {
     "name": "stderr",
     "output_type": "stream",
     "text": [
      "C:\\conda3\\envs\\sandpyper_env\\lib\\site-packages\\geopandas\\base.py:39: UserWarning: The indices of the two GeoSeries are different.\n",
      "  warn(\"The indices of the two GeoSeries are different.\")\n",
      "C:\\conda3\\envs\\sandpyper_env\\lib\\site-packages\\geopandas\\geodataframe.py:828: UserWarning: Boolean Series key will be reindexed to match DataFrame index.\n",
      "  result = super(GeoDataFrame, self).__getitem__(key)\n",
      "C:\\conda3\\envs\\sandpyper_env\\lib\\site-packages\\pyproj\\crs\\crs.py:53: FutureWarning: '+init=<authority>:<code>' syntax is deprecated. '<authority>:<code>' is the preferred initialization method. When making the change, be mindful of axis order changes: https://pyproj4.github.io/pyproj/stable/gotchas.html#axis-order-changes-in-proj-6\n",
      "  return _prepare_from_string(\" \".join(pjargs))\n"
     ]
    },
    {
     "name": "stdout",
     "output_type": "stream",
     "text": [
      "Setting to water 627 pts overlapping provided watermasks.\n"
     ]
    },
    {
     "name": "stderr",
     "output_type": "stream",
     "text": [
      "C:\\conda3\\envs\\sandpyper_env\\lib\\site-packages\\geopandas\\base.py:39: UserWarning: The indices of the two GeoSeries are different.\n",
      "  warn(\"The indices of the two GeoSeries are different.\")\n",
      "C:\\conda3\\envs\\sandpyper_env\\lib\\site-packages\\geopandas\\geodataframe.py:828: UserWarning: Boolean Series key will be reindexed to match DataFrame index.\n",
      "  result = super(GeoDataFrame, self).__getitem__(key)\n",
      "C:\\conda3\\envs\\sandpyper_env\\lib\\site-packages\\pyproj\\crs\\crs.py:53: FutureWarning: '+init=<authority>:<code>' syntax is deprecated. '<authority>:<code>' is the preferred initialization method. When making the change, be mindful of axis order changes: https://pyproj4.github.io/pyproj/stable/gotchas.html#axis-order-changes-in-proj-6\n",
      "  return _prepare_from_string(\" \".join(pjargs))\n"
     ]
    },
    {
     "name": "stdout",
     "output_type": "stream",
     "text": [
      "Setting to water 583 pts overlapping provided watermasks.\n"
     ]
    },
    {
     "name": "stderr",
     "output_type": "stream",
     "text": [
      "C:\\conda3\\envs\\sandpyper_env\\lib\\site-packages\\geopandas\\base.py:39: UserWarning: The indices of the two GeoSeries are different.\n",
      "  warn(\"The indices of the two GeoSeries are different.\")\n",
      "C:\\conda3\\envs\\sandpyper_env\\lib\\site-packages\\geopandas\\geodataframe.py:828: UserWarning: Boolean Series key will be reindexed to match DataFrame index.\n",
      "  result = super(GeoDataFrame, self).__getitem__(key)\n",
      "C:\\conda3\\envs\\sandpyper_env\\lib\\site-packages\\pyproj\\crs\\crs.py:53: FutureWarning: '+init=<authority>:<code>' syntax is deprecated. '<authority>:<code>' is the preferred initialization method. When making the change, be mindful of axis order changes: https://pyproj4.github.io/pyproj/stable/gotchas.html#axis-order-changes-in-proj-6\n",
      "  return _prepare_from_string(\" \".join(pjargs))\n"
     ]
    },
    {
     "name": "stdout",
     "output_type": "stream",
     "text": [
      "Setting to water 643 pts overlapping provided watermasks.\n",
      "shoremask  provided in CRS: epsg:32754\n",
      "Applying shoremasks cleaning.\n",
      "Shoremasking in mar.\n"
     ]
    },
    {
     "name": "stderr",
     "output_type": "stream",
     "text": [
      "C:\\conda3\\envs\\sandpyper_env\\lib\\site-packages\\geopandas\\geodataframe.py:422: RuntimeWarning: Sequential read of iterator was interrupted. Resetting iterator. This can negatively impact the performance.\n",
      "  for feature in features_lst:\n",
      "C:\\conda3\\envs\\sandpyper_env\\lib\\site-packages\\geopandas\\base.py:39: UserWarning: The indices of the two GeoSeries are different.\n",
      "  warn(\"The indices of the two GeoSeries are different.\")\n",
      "C:\\conda3\\envs\\sandpyper_env\\lib\\site-packages\\geopandas\\geodataframe.py:828: UserWarning: Boolean Series key will be reindexed to match DataFrame index.\n",
      "  result = super(GeoDataFrame, self).__getitem__(key)\n",
      "C:\\conda3\\envs\\sandpyper_env\\lib\\site-packages\\pyproj\\crs\\crs.py:53: FutureWarning: '+init=<authority>:<code>' syntax is deprecated. '<authority>:<code>' is the preferred initialization method. When making the change, be mindful of axis order changes: https://pyproj4.github.io/pyproj/stable/gotchas.html#axis-order-changes-in-proj-6\n",
      "  return _prepare_from_string(\" \".join(pjargs))\n"
     ]
    },
    {
     "name": "stdout",
     "output_type": "stream",
     "text": [
      "Removing 3621 pts falling outside provided shore polygones.\n",
      "Shoremasking in leo.\n"
     ]
    },
    {
     "name": "stderr",
     "output_type": "stream",
     "text": [
      "C:\\conda3\\envs\\sandpyper_env\\lib\\site-packages\\geopandas\\base.py:39: UserWarning: The indices of the two GeoSeries are different.\n",
      "  warn(\"The indices of the two GeoSeries are different.\")\n",
      "C:\\conda3\\envs\\sandpyper_env\\lib\\site-packages\\pyproj\\crs\\crs.py:53: FutureWarning: '+init=<authority>:<code>' syntax is deprecated. '<authority>:<code>' is the preferred initialization method. When making the change, be mindful of axis order changes: https://pyproj4.github.io/pyproj/stable/gotchas.html#axis-order-changes-in-proj-6\n",
      "  return _prepare_from_string(\" \".join(pjargs))\n"
     ]
    },
    {
     "name": "stdout",
     "output_type": "stream",
     "text": [
      "Removing 2358 pts falling outside provided shore polygones.\n",
      "['polygon finetuning', 'watermasking', 'shoremasking'] completed.\n"
     ]
    }
   ],
   "source": [
    "P.cleanit(l_dicts=l_dicts,\n",
    "          watermasks_path=watermasks_path,\n",
    "          shoremasks_path=shoremasks_path,\n",
    "          label_corrections_path=label_corrections_path)"
   ]
  },
  {
   "cell_type": "markdown",
   "id": "c006080d",
   "metadata": {},
   "source": [
    "DONE!\n",
    "\n",
    "Now we have a cleaned and tidy classified dataset of elevation profiles, ready to be analysed to extract sediment specific altimetric, volumetric and behavioural dynamics information.\n",
    "\n",
    "A new attribute has been stored, *ProfileSet.cleaning_steps*, which is a list of the cleaning steps applied to the current profiles."
   ]
  },
  {
   "cell_type": "code",
   "execution_count": null,
   "id": "476e825f",
   "metadata": {},
   "outputs": [],
   "source": [
    "P.cleaning_steps"
   ]
  },
  {
   "cell_type": "markdown",
   "id": "f39ae1ac",
   "metadata": {},
   "source": [
    "## Save it"
   ]
  },
  {
   "cell_type": "markdown",
   "id": "2643bbb3",
   "metadata": {},
   "source": [
    "To save the objects, just call the method *ProfileSet.save* with only two arguments:\n",
    "1. the path to the folder where to save the data.\n",
    "2. the name of the file you want to create."
   ]
  },
  {
   "cell_type": "code",
   "execution_count": null,
   "id": "8118b97b",
   "metadata": {},
   "outputs": [],
   "source": [
    "dir_out=r'C:\\my_packages\\sandpyper\\tests\\test_data'\n",
    "\n",
    "name=\"test\"\n",
    "P.save(name,dir_out)\n",
    "P"
   ]
  },
  {
   "cell_type": "markdown",
   "id": "c5ced0b5",
   "metadata": {},
   "source": [
    "## Conclusion"
   ]
  },
  {
   "cell_type": "markdown",
   "id": "72446987",
   "metadata": {},
   "source": [
    "In this notebook we extracted the elevation and colour information from all our rasters and used it with an iterative Silhouette analysis and KMeans algorithm to unsupervisingly partition the data into clusters of similar points. Then, we assigned meaning of these labels using an external GIS and cleaned and clipped the data into our final slassified dataset. In the next notebook we will finally obtain multi-scale information about sediment dynamics in each site/transect."
   ]
  },
  {
   "cell_type": "markdown",
   "id": "007ed84a",
   "metadata": {},
   "source": [
    "___"
   ]
  }
 ],
 "metadata": {
  "kernelspec": {
   "display_name": "Python 3",
   "language": "python",
   "name": "python3"
  },
  "language_info": {
   "codemirror_mode": {
    "name": "ipython",
    "version": 3
   },
   "file_extension": ".py",
   "mimetype": "text/x-python",
   "name": "python",
   "nbconvert_exporter": "python",
   "pygments_lexer": "ipython3",
   "version": "3.9.4"
  }
 },
 "nbformat": 4,
 "nbformat_minor": 5
}
