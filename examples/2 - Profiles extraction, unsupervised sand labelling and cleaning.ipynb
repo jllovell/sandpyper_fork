{
 "cells": [
  {
   "cell_type": "markdown",
   "id": "5ca8c18a",
   "metadata": {},
   "source": [
    "<font size=\"5\"><center> <b>Sandpyper: sandy beaches SfM-UAV analysis tools</b></center></font>\n",
    "\n",
    "![im](images/banner.png)\n",
    "\n",
    "\n",
    "<font face=\"Calibri\">"
   ]
  },
  {
   "cell_type": "markdown",
   "id": "f28f277f",
   "metadata": {},
   "source": [
    "# Profile extraction, LoD and data cleaning"
   ]
  },
  {
   "cell_type": "markdown",
   "id": "7eee748d",
   "metadata": {},
   "source": [
    "<font size=\"3\"> <b> Nicolas Pucino; PhD Student @ Deakin University, Australia </b> <br>\n",
    "\n",
    "<b>This notebook covers the following concepts:</b>\n",
    "\n",
    "- The ProfileSet class.\n",
    "- Data extraction.\n",
    "- Limit of Detections (LoDs).\n",
    "</font>\n",
    "\n",
    "\n",
    "</font>"
   ]
  },
  {
   "cell_type": "code",
   "execution_count": 1,
   "id": "d7d2c760",
   "metadata": {},
   "outputs": [
    {
     "name": "stderr",
     "output_type": "stream",
     "text": [
      "C:\\conda3\\envs\\sandpyper_env\\lib\\site-packages\\pysal\\explore\\segregation\\network\\network.py:15: UserWarning: You need pandana and urbanaccess to work with segregation's network module\n",
      "You can install them with  `pip install urbanaccess pandana` or `conda install -c udst pandana urbanaccess`\n",
      "  warn(\n",
      "C:\\conda3\\envs\\sandpyper_env\\lib\\site-packages\\pysal\\model\\spvcm\\abstracts.py:10: UserWarning: The `dill` module is required to use the sqlite backend fully.\n",
      "  from .sqlite import head_to_sql, start_sql\n",
      "C:\\conda3\\envs\\sandpyper_env\\lib\\site-packages\\fuzzywuzzy\\fuzz.py:11: UserWarning: Using slow pure-python SequenceMatcher. Install python-Levenshtein to remove this warning\n",
      "  warnings.warn('Using slow pure-python SequenceMatcher. Install python-Levenshtein to remove this warning')\n"
     ]
    }
   ],
   "source": [
    "%matplotlib notebook\n",
    "\n",
    "import matplotlib.pyplot as plt\n",
    "import pandas as pd\n",
    "import rasterio as ras\n",
    "from rasterio.plot import show\n",
    "\n",
    "from sandpyper.sandpyper import ProfileSet\n",
    "from sandpyper.common import get_sil_location, get_opt_k\n",
    "\n",
    "pd.options.mode.chained_assignment = None  # default='warn'"
   ]
  },
  {
   "cell_type": "markdown",
   "id": "62cf4119",
   "metadata": {},
   "source": [
    "## Introduction"
   ]
  },
  {
   "cell_type": "markdown",
   "id": "d49ee8a3",
   "metadata": {},
   "source": [
    "The __ProfileSet__ class is an object that contains all the information necessary to carry a typical *sandpyper* analysis from start to end. Once instantiated, it will contains a number of global variables that store some fundamental monitoring charasteristics such as:\n",
    "\n",
    "* paths to the data directories\n",
    "* coordinate reference systems of each site\n",
    "* location codes and search keywords\n",
    "* some monitoring parameters such as alongshore transect spacing, acrosshore sampling step and cleaning steps used\n",
    "* and of course, the elevation and colour profile data.\n",
    "\n",
    "Moreover, a few key methods will:\n",
    "\n",
    "1. extract data from the provided transects\n",
    "2. cluster extracted points using unsupervised clustering algorithm KMeans\n",
    "3. clean the dataset with user-provided watermasks, shoremasks and fine-tuning polygons.\n",
    "\n",
    "Moreover, when the __ProfileSet__ class is instantiated, it prints out the number of DSMs and orthophotos found for each location in the provided folders and it also creates a dataframe storing filenames, CRSs, location codes and raw dates extracted from the filenames. This dataframe is useful as a sanity check to see if all the information are correct before proceeding with the actual profile extraction. It will be stored as the attribute *ProfileSet.check*.\n",
    "\n",
    "Let's see here how it all works...\n",
    "\n",
    "First, create the required monitoring global settings."
   ]
  },
  {
   "cell_type": "code",
   "execution_count": 2,
   "id": "6445d6cd",
   "metadata": {},
   "outputs": [],
   "source": [
    "# the paths to the DSM, orthophotos and transect directories\n",
    "dirNameDSM=r'C:\\my_packages\\sandpyper\\examples\\test_data\\dsm_1m'\n",
    "dirNameOrtho=r'C:\\my_packages\\sandpyper\\examples\\test_data\\orthos_1m'\n",
    "dirNameTrans=r'C:\\my_packages\\sandpyper\\examples\\test_data\\transects'\n",
    "\n",
    "# the location codes used for the monitored locations\n",
    "loc_codes=[\"mar\",\"leo\"]\n",
    "\n",
    "\n",
    "# the keyword search dictionary\n",
    "loc_search_dict = {   'leo': ['St','Leonards','leonards','leo'],\n",
    "                   'mar': ['Marengo','marengo','mar'] }\n",
    "\n",
    "\n",
    "# the EPSG codes of the coordinate reference systems for each location code (location) given in CRS string format\n",
    "crs_dict_string= {\n",
    "                 'mar': {'init': 'epsg:32754'},\n",
    "                 'leo':{'init': 'epsg:32755'}\n",
    "                 }\n",
    "\n",
    "# the transect spacing of the transects\n",
    "transects_spacing=20"
   ]
  },
  {
   "cell_type": "markdown",
   "id": "707dea5f",
   "metadata": {},
   "source": [
    "Then, create an instance of the ProfileSet class. Let's set 'check' parameter to 'all' to create the check dataframe\n",
    "and store it in the variable P.check.\n"
   ]
  },
  {
   "cell_type": "code",
   "execution_count": 3,
   "id": "39067452",
   "metadata": {},
   "outputs": [
    {
     "name": "stderr",
     "output_type": "stream",
     "text": [
      "C:\\conda3\\envs\\sandpyper_env\\lib\\site-packages\\geopandas\\geodataframe.py:422: RuntimeWarning: Sequential read of iterator was interrupted. Resetting iterator. This can negatively impact the performance.\n",
      "  for feature in features_lst:\n"
     ]
    },
    {
     "name": "stdout",
     "output_type": "stream",
     "text": [
      "dsm from leo = 6\n",
      "\n",
      "ortho from leo = 6\n",
      "\n",
      "dsm from mar = 9\n",
      "\n",
      "ortho from mar = 9\n",
      "\n",
      "\n",
      "NUMBER OF DATASETS TO PROCESS: 30\n"
     ]
    }
   ],
   "source": [
    "P=ProfileSet(dirNameDSM=dirNameDSM,\n",
    "            dirNameOrtho=dirNameOrtho,\n",
    "            dirNameTrans=dirNameTrans,\n",
    "            transects_spacing=transects_spacing,\n",
    "            loc_codes=loc_codes,\n",
    "            loc_search_dict=loc_search_dict,\n",
    "            crs_dict_string=crs_dict_string,\n",
    "            check=\"all\")"
   ]
  },
  {
   "cell_type": "markdown",
   "id": "e8e738d0",
   "metadata": {},
   "source": [
    "Check the infromation extracted from the formatted filenames.\n",
    "All the CRSs in a line (survey) must match!"
   ]
  },
  {
   "cell_type": "markdown",
   "id": "5d66e350",
   "metadata": {},
   "source": [
    "## Extraction of profiles from folder\n",
    "\n",
    "After checking the check dataframe and all looks right, we are ready to actually extract the data from both DSMs and orhtophotos using the *.extract_profiles* method.\n",
    "Importantly, we also extract the data for the Limit of Detections (LoD) computation, using some transects digitised over areas we expect __NOT TO BE CHANGING__ in elevation during the monitoring period, also known as calibration zones.\n",
    "\n",
    "Thus, the most important parameters to set are:\n",
    "\n",
    "1. __sampling step__: indicates the __cross-shore sampling distance (m)__ that we want to use along our transects. Beware, although you could use a very small sampling distance (UAV datasets tend to be between few to 10 cm pixel size), file dimension will increase significantly!.\n",
    "\n",
    "2. __lod__: this can be the path to a directory containing the lod transects to use as lod, a number to use as lod for all surveys in all locations or None."
   ]
  },
  {
   "cell_type": "code",
   "execution_count": 4,
   "id": "c01a5b49",
   "metadata": {},
   "outputs": [],
   "source": [
    "# path to the LoD transects\n",
    "\n",
    "lod_mode=r\"C:\\my_packages\\sandpyper\\examples\\test_data\\lod_transects\""
   ]
  },
  {
   "cell_type": "markdown",
   "id": "f05de363",
   "metadata": {},
   "source": [
    "The parameter __mode__ is here set to 'all' as we want to extract pixel values from both the DSMs and orthophotos, while the parameter __tr_ids__ specifies the name of the field in the transect file is used to store the transect IDs."
   ]
  },
  {
   "cell_type": "code",
   "execution_count": 5,
   "id": "032dde91",
   "metadata": {},
   "outputs": [
    {
     "name": "stdout",
     "output_type": "stream",
     "text": [
      "Extracting elevation from DSMs . . .\n"
     ]
    },
    {
     "data": {
      "application/vnd.jupyter.widget-view+json": {
       "model_id": "7fca35399aac4abc9a1e1ff74f87bbd5",
       "version_major": 2,
       "version_minor": 0
      },
      "text/plain": [
       "  0%|          | 0/15 [00:00<?, ?it/s]"
      ]
     },
     "metadata": {},
     "output_type": "display_data"
    },
    {
     "data": {
      "application/vnd.jupyter.widget-view+json": {
       "model_id": "6fd5dfb8e5d54bb3be6fd5a6f1d9fcae",
       "version_major": 2,
       "version_minor": 0
      },
      "text/plain": [
       "  0%|          | 0/59 [00:00<?, ?it/s]"
      ]
     },
     "metadata": {},
     "output_type": "display_data"
    },
    {
     "data": {
      "application/vnd.jupyter.widget-view+json": {
       "model_id": "764f56d1133344078efdcdd72d5a668a",
       "version_major": 2,
       "version_minor": 0
      },
      "text/plain": [
       "  0%|          | 0/59 [00:00<?, ?it/s]"
      ]
     },
     "metadata": {},
     "output_type": "display_data"
    },
    {
     "data": {
      "application/vnd.jupyter.widget-view+json": {
       "model_id": "5db2a39ca0cf49d8a68b315ea3b17759",
       "version_major": 2,
       "version_minor": 0
      },
      "text/plain": [
       "  0%|          | 0/59 [00:00<?, ?it/s]"
      ]
     },
     "metadata": {},
     "output_type": "display_data"
    },
    {
     "data": {
      "application/vnd.jupyter.widget-view+json": {
       "model_id": "737946861f72480ab26157128a306f0b",
       "version_major": 2,
       "version_minor": 0
      },
      "text/plain": [
       "  0%|          | 0/59 [00:00<?, ?it/s]"
      ]
     },
     "metadata": {},
     "output_type": "display_data"
    },
    {
     "data": {
      "application/vnd.jupyter.widget-view+json": {
       "model_id": "7d6c6d7298ab4f70ad5cc8e96ed15f31",
       "version_major": 2,
       "version_minor": 0
      },
      "text/plain": [
       "  0%|          | 0/59 [00:00<?, ?it/s]"
      ]
     },
     "metadata": {},
     "output_type": "display_data"
    },
    {
     "data": {
      "application/vnd.jupyter.widget-view+json": {
       "model_id": "7d56e9d90a844aa9b8b6e3bd4295360b",
       "version_major": 2,
       "version_minor": 0
      },
      "text/plain": [
       "  0%|          | 0/59 [00:00<?, ?it/s]"
      ]
     },
     "metadata": {},
     "output_type": "display_data"
    },
    {
     "data": {
      "application/vnd.jupyter.widget-view+json": {
       "model_id": "479c2e6735e24f5ebb7ff348bf3b1777",
       "version_major": 2,
       "version_minor": 0
      },
      "text/plain": [
       "  0%|          | 0/22 [00:00<?, ?it/s]"
      ]
     },
     "metadata": {},
     "output_type": "display_data"
    },
    {
     "data": {
      "application/vnd.jupyter.widget-view+json": {
       "model_id": "f8d87a130d8e436ca976fc0e882e088b",
       "version_major": 2,
       "version_minor": 0
      },
      "text/plain": [
       "  0%|          | 0/22 [00:00<?, ?it/s]"
      ]
     },
     "metadata": {},
     "output_type": "display_data"
    },
    {
     "data": {
      "application/vnd.jupyter.widget-view+json": {
       "model_id": "8662b58c8dde4ad9be841001b23d47fb",
       "version_major": 2,
       "version_minor": 0
      },
      "text/plain": [
       "  0%|          | 0/22 [00:00<?, ?it/s]"
      ]
     },
     "metadata": {},
     "output_type": "display_data"
    },
    {
     "data": {
      "application/vnd.jupyter.widget-view+json": {
       "model_id": "2248a4d700d94161a32c1527e0750943",
       "version_major": 2,
       "version_minor": 0
      },
      "text/plain": [
       "  0%|          | 0/22 [00:00<?, ?it/s]"
      ]
     },
     "metadata": {},
     "output_type": "display_data"
    },
    {
     "data": {
      "application/vnd.jupyter.widget-view+json": {
       "model_id": "a86d908402fa471fb788a1d986280997",
       "version_major": 2,
       "version_minor": 0
      },
      "text/plain": [
       "  0%|          | 0/22 [00:00<?, ?it/s]"
      ]
     },
     "metadata": {},
     "output_type": "display_data"
    },
    {
     "data": {
      "application/vnd.jupyter.widget-view+json": {
       "model_id": "821af6ab802a4699879b362c5fbd4240",
       "version_major": 2,
       "version_minor": 0
      },
      "text/plain": [
       "  0%|          | 0/22 [00:00<?, ?it/s]"
      ]
     },
     "metadata": {},
     "output_type": "display_data"
    },
    {
     "data": {
      "application/vnd.jupyter.widget-view+json": {
       "model_id": "4f0e23bcc52b4551b09479b670750c30",
       "version_major": 2,
       "version_minor": 0
      },
      "text/plain": [
       "  0%|          | 0/22 [00:00<?, ?it/s]"
      ]
     },
     "metadata": {},
     "output_type": "display_data"
    },
    {
     "data": {
      "application/vnd.jupyter.widget-view+json": {
       "model_id": "82ee501a5e654ee0b2414c92acfd2f5c",
       "version_major": 2,
       "version_minor": 0
      },
      "text/plain": [
       "  0%|          | 0/22 [00:00<?, ?it/s]"
      ]
     },
     "metadata": {},
     "output_type": "display_data"
    },
    {
     "data": {
      "application/vnd.jupyter.widget-view+json": {
       "model_id": "fca370de08d844fbb36ff8ef1434dba0",
       "version_major": 2,
       "version_minor": 0
      },
      "text/plain": [
       "  0%|          | 0/22 [00:00<?, ?it/s]"
      ]
     },
     "metadata": {},
     "output_type": "display_data"
    },
    {
     "name": "stdout",
     "output_type": "stream",
     "text": [
      "Extraction succesfull\n",
      "Number of points extracted:32805\n",
      "Time for processing=44.33336162567139 seconds\n",
      "First 10 rows are printed below\n",
      "Number of points outside the raster extents: 9066\n",
      "The extraction assigns NaN.\n",
      "Number of points in NoData areas within the raster extents: 250\n",
      "The extraction assigns NaN.\n",
      "Extracting rgb values from orthos . . .\n"
     ]
    },
    {
     "data": {
      "application/vnd.jupyter.widget-view+json": {
       "model_id": "4464142a1e5f4852900a62459fb45c2e",
       "version_major": 2,
       "version_minor": 0
      },
      "text/plain": [
       "  0%|          | 0/15 [00:00<?, ?it/s]"
      ]
     },
     "metadata": {},
     "output_type": "display_data"
    },
    {
     "name": "stderr",
     "output_type": "stream",
     "text": [
      "C:\\conda3\\envs\\sandpyper_env\\lib\\site-packages\\geopandas\\geodataframe.py:422: RuntimeWarning: Sequential read of iterator was interrupted. Resetting iterator. This can negatively impact the performance.\n",
      "  for feature in features_lst:\n"
     ]
    },
    {
     "data": {
      "application/vnd.jupyter.widget-view+json": {
       "model_id": "077ae7fd5e4349c4962aad18e79c98e9",
       "version_major": 2,
       "version_minor": 0
      },
      "text/plain": [
       "  0%|          | 0/59 [00:00<?, ?it/s]"
      ]
     },
     "metadata": {},
     "output_type": "display_data"
    },
    {
     "data": {
      "application/vnd.jupyter.widget-view+json": {
       "model_id": "6e869bdfed0243beb77efbf4fc7aba4f",
       "version_major": 2,
       "version_minor": 0
      },
      "text/plain": [
       "  0%|          | 0/59 [00:00<?, ?it/s]"
      ]
     },
     "metadata": {},
     "output_type": "display_data"
    },
    {
     "data": {
      "application/vnd.jupyter.widget-view+json": {
       "model_id": "bd8c7e2c1e29444aa5c06ccf899310d1",
       "version_major": 2,
       "version_minor": 0
      },
      "text/plain": [
       "  0%|          | 0/59 [00:00<?, ?it/s]"
      ]
     },
     "metadata": {},
     "output_type": "display_data"
    },
    {
     "data": {
      "application/vnd.jupyter.widget-view+json": {
       "model_id": "de69e3e886d34f949990af1238dccfb0",
       "version_major": 2,
       "version_minor": 0
      },
      "text/plain": [
       "  0%|          | 0/59 [00:00<?, ?it/s]"
      ]
     },
     "metadata": {},
     "output_type": "display_data"
    },
    {
     "data": {
      "application/vnd.jupyter.widget-view+json": {
       "model_id": "19a1597cbad14b2291083f64d0261692",
       "version_major": 2,
       "version_minor": 0
      },
      "text/plain": [
       "  0%|          | 0/59 [00:00<?, ?it/s]"
      ]
     },
     "metadata": {},
     "output_type": "display_data"
    },
    {
     "data": {
      "application/vnd.jupyter.widget-view+json": {
       "model_id": "34f4e90ec63248e591b4da097a074b74",
       "version_major": 2,
       "version_minor": 0
      },
      "text/plain": [
       "  0%|          | 0/59 [00:00<?, ?it/s]"
      ]
     },
     "metadata": {},
     "output_type": "display_data"
    },
    {
     "data": {
      "application/vnd.jupyter.widget-view+json": {
       "model_id": "bc32b965290949fbbf8af588b39023e3",
       "version_major": 2,
       "version_minor": 0
      },
      "text/plain": [
       "  0%|          | 0/22 [00:00<?, ?it/s]"
      ]
     },
     "metadata": {},
     "output_type": "display_data"
    },
    {
     "data": {
      "application/vnd.jupyter.widget-view+json": {
       "model_id": "7810d10ab93c438dacddf6a151c890a3",
       "version_major": 2,
       "version_minor": 0
      },
      "text/plain": [
       "  0%|          | 0/22 [00:00<?, ?it/s]"
      ]
     },
     "metadata": {},
     "output_type": "display_data"
    },
    {
     "data": {
      "application/vnd.jupyter.widget-view+json": {
       "model_id": "f78a84d24e8f4dc2a38ccd548ac54d61",
       "version_major": 2,
       "version_minor": 0
      },
      "text/plain": [
       "  0%|          | 0/22 [00:00<?, ?it/s]"
      ]
     },
     "metadata": {},
     "output_type": "display_data"
    },
    {
     "data": {
      "application/vnd.jupyter.widget-view+json": {
       "model_id": "b9a8172c2232471280fc97fcbc253a07",
       "version_major": 2,
       "version_minor": 0
      },
      "text/plain": [
       "  0%|          | 0/22 [00:00<?, ?it/s]"
      ]
     },
     "metadata": {},
     "output_type": "display_data"
    },
    {
     "data": {
      "application/vnd.jupyter.widget-view+json": {
       "model_id": "51cde7a6272f4072bb08e5e1f958f68c",
       "version_major": 2,
       "version_minor": 0
      },
      "text/plain": [
       "  0%|          | 0/22 [00:00<?, ?it/s]"
      ]
     },
     "metadata": {},
     "output_type": "display_data"
    },
    {
     "data": {
      "application/vnd.jupyter.widget-view+json": {
       "model_id": "b2451b2dc1fb4e6d9feaebd23315efa1",
       "version_major": 2,
       "version_minor": 0
      },
      "text/plain": [
       "  0%|          | 0/22 [00:00<?, ?it/s]"
      ]
     },
     "metadata": {},
     "output_type": "display_data"
    },
    {
     "data": {
      "application/vnd.jupyter.widget-view+json": {
       "model_id": "cbfcf5af8da4466eb07152c83f5fef1b",
       "version_major": 2,
       "version_minor": 0
      },
      "text/plain": [
       "  0%|          | 0/22 [00:00<?, ?it/s]"
      ]
     },
     "metadata": {},
     "output_type": "display_data"
    },
    {
     "data": {
      "application/vnd.jupyter.widget-view+json": {
       "model_id": "7977d30490db481bb4a711466320150e",
       "version_major": 2,
       "version_minor": 0
      },
      "text/plain": [
       "  0%|          | 0/22 [00:00<?, ?it/s]"
      ]
     },
     "metadata": {},
     "output_type": "display_data"
    },
    {
     "data": {
      "application/vnd.jupyter.widget-view+json": {
       "model_id": "1ab7d64003534150af6cf58b643a9d1d",
       "version_major": 2,
       "version_minor": 0
      },
      "text/plain": [
       "  0%|          | 0/22 [00:00<?, ?it/s]"
      ]
     },
     "metadata": {},
     "output_type": "display_data"
    },
    {
     "name": "stdout",
     "output_type": "stream",
     "text": [
      "Extraction succesfull\n",
      "Number of points extracted:32805\n",
      "Time for processing=49.02209138870239 seconds\n",
      "First 10 rows are printed below\n",
      "Number of points outside the raster extents: 27198\n",
      "The extraction assigns NaN.\n",
      "Number of points in NoData areas within the raster extents: 0\n",
      "The extraction assigns NaN.\n",
      "Extracting LoD values\n"
     ]
    },
    {
     "data": {
      "application/vnd.jupyter.widget-view+json": {
       "model_id": "af42887c7a034690919e1633ec23e464",
       "version_major": 2,
       "version_minor": 0
      },
      "text/plain": [
       "  0%|          | 0/15 [00:00<?, ?it/s]"
      ]
     },
     "metadata": {},
     "output_type": "display_data"
    },
    {
     "name": "stderr",
     "output_type": "stream",
     "text": [
      "C:\\conda3\\envs\\sandpyper_env\\lib\\site-packages\\geopandas\\geodataframe.py:422: RuntimeWarning: Sequential read of iterator was interrupted. Resetting iterator. This can negatively impact the performance.\n",
      "  for feature in features_lst:\n"
     ]
    },
    {
     "data": {
      "application/vnd.jupyter.widget-view+json": {
       "model_id": "a537b3bcb05c4dbb8ce609597e33803f",
       "version_major": 2,
       "version_minor": 0
      },
      "text/plain": [
       "  0%|          | 0/7 [00:00<?, ?it/s]"
      ]
     },
     "metadata": {},
     "output_type": "display_data"
    },
    {
     "data": {
      "application/vnd.jupyter.widget-view+json": {
       "model_id": "7df444fccc614dd39d86c168e12b7bf2",
       "version_major": 2,
       "version_minor": 0
      },
      "text/plain": [
       "  0%|          | 0/7 [00:00<?, ?it/s]"
      ]
     },
     "metadata": {},
     "output_type": "display_data"
    },
    {
     "data": {
      "application/vnd.jupyter.widget-view+json": {
       "model_id": "9db992a656ca4753ad08fdcbdc05a6a6",
       "version_major": 2,
       "version_minor": 0
      },
      "text/plain": [
       "  0%|          | 0/7 [00:00<?, ?it/s]"
      ]
     },
     "metadata": {},
     "output_type": "display_data"
    },
    {
     "data": {
      "application/vnd.jupyter.widget-view+json": {
       "model_id": "42dd1523f08747539f45c8267def10a5",
       "version_major": 2,
       "version_minor": 0
      },
      "text/plain": [
       "  0%|          | 0/7 [00:00<?, ?it/s]"
      ]
     },
     "metadata": {},
     "output_type": "display_data"
    },
    {
     "data": {
      "application/vnd.jupyter.widget-view+json": {
       "model_id": "269d3310ce164c2e95659c5577afddaf",
       "version_major": 2,
       "version_minor": 0
      },
      "text/plain": [
       "  0%|          | 0/7 [00:00<?, ?it/s]"
      ]
     },
     "metadata": {},
     "output_type": "display_data"
    },
    {
     "data": {
      "application/vnd.jupyter.widget-view+json": {
       "model_id": "15171df1a066495aaa1a5e26b1006fc7",
       "version_major": 2,
       "version_minor": 0
      },
      "text/plain": [
       "  0%|          | 0/7 [00:00<?, ?it/s]"
      ]
     },
     "metadata": {},
     "output_type": "display_data"
    },
    {
     "data": {
      "application/vnd.jupyter.widget-view+json": {
       "model_id": "fd7a310f66124ba3ae4f6033ee1977dc",
       "version_major": 2,
       "version_minor": 0
      },
      "text/plain": [
       "  0%|          | 0/6 [00:00<?, ?it/s]"
      ]
     },
     "metadata": {},
     "output_type": "display_data"
    },
    {
     "data": {
      "application/vnd.jupyter.widget-view+json": {
       "model_id": "82ec59ef715044b2bf2790feacb75934",
       "version_major": 2,
       "version_minor": 0
      },
      "text/plain": [
       "  0%|          | 0/6 [00:00<?, ?it/s]"
      ]
     },
     "metadata": {},
     "output_type": "display_data"
    },
    {
     "data": {
      "application/vnd.jupyter.widget-view+json": {
       "model_id": "28d15d32c8b44438949bf53ae22f662b",
       "version_major": 2,
       "version_minor": 0
      },
      "text/plain": [
       "  0%|          | 0/6 [00:00<?, ?it/s]"
      ]
     },
     "metadata": {},
     "output_type": "display_data"
    },
    {
     "data": {
      "application/vnd.jupyter.widget-view+json": {
       "model_id": "090021511f8f4f2eb98eb2eba92e38b9",
       "version_major": 2,
       "version_minor": 0
      },
      "text/plain": [
       "  0%|          | 0/6 [00:00<?, ?it/s]"
      ]
     },
     "metadata": {},
     "output_type": "display_data"
    },
    {
     "data": {
      "application/vnd.jupyter.widget-view+json": {
       "model_id": "980636cf37974280bf58cdb7f5028cf6",
       "version_major": 2,
       "version_minor": 0
      },
      "text/plain": [
       "  0%|          | 0/6 [00:00<?, ?it/s]"
      ]
     },
     "metadata": {},
     "output_type": "display_data"
    },
    {
     "data": {
      "application/vnd.jupyter.widget-view+json": {
       "model_id": "5613a8ec0a574847b6ce258f50e3ea66",
       "version_major": 2,
       "version_minor": 0
      },
      "text/plain": [
       "  0%|          | 0/6 [00:00<?, ?it/s]"
      ]
     },
     "metadata": {},
     "output_type": "display_data"
    },
    {
     "data": {
      "application/vnd.jupyter.widget-view+json": {
       "model_id": "b703b8259c0144d8845e646bb362181d",
       "version_major": 2,
       "version_minor": 0
      },
      "text/plain": [
       "  0%|          | 0/6 [00:00<?, ?it/s]"
      ]
     },
     "metadata": {},
     "output_type": "display_data"
    },
    {
     "data": {
      "application/vnd.jupyter.widget-view+json": {
       "model_id": "f2518cd2dd5546b095b3105af3c610b4",
       "version_major": 2,
       "version_minor": 0
      },
      "text/plain": [
       "  0%|          | 0/6 [00:00<?, ?it/s]"
      ]
     },
     "metadata": {},
     "output_type": "display_data"
    },
    {
     "data": {
      "application/vnd.jupyter.widget-view+json": {
       "model_id": "72883fd496b1405abfcfa183d1f914e4",
       "version_major": 2,
       "version_minor": 0
      },
      "text/plain": [
       "  0%|          | 0/6 [00:00<?, ?it/s]"
      ]
     },
     "metadata": {},
     "output_type": "display_data"
    },
    {
     "name": "stdout",
     "output_type": "stream",
     "text": [
      "Extraction succesfull\n",
      "Number of points extracted:1395\n",
      "Time for processing=5.547127962112427 seconds\n",
      "First 10 rows are printed below\n",
      "Number of points outside the raster extents: 27\n",
      "The extraction assigns NaN.\n",
      "Number of points in NoData areas within the raster extents: 0\n",
      "The extraction assigns NaN.\n"
     ]
    }
   ],
   "source": [
    "# run extraction from DSMs and orthos with 1m sampling steps and add X and Y fields to output geodataframe.\n",
    "# use LoDs profiles provided.\n",
    "\n",
    "P.extract_profiles(mode='all',tr_ids='tr_id',sampling_step=1,add_xy=True,lod_mode=lod_mode)"
   ]
  },
  {
   "cell_type": "markdown",
   "id": "2cd09663",
   "metadata": {},
   "source": [
    "__Note about missing values (numpy.nan)__\n",
    "\n",
    ">NaNs might come from two different cases:\n",
    ">1. extraction of points generated on transects falling __outside__ of the underlying raster extent\n",
    ">2. points sampled from transect __inside__ the raster extent but containing NoData cells.\n",
    ">\n",
    ">Conveniently, the extraction profile function makes sure that if points fall outside the raster extent (case 1), those elevations are assigned a default nan value, in the NumPy np.nan form.\n",
    ">In case 2, however, the values extracted depends on the definition of NaNs of the source raster format. In case the rasters provided do not have an assigned nan value in their metadata, the paramter __default_nan_values__ can be used to specify one."
   ]
  },
  {
   "cell_type": "markdown",
   "id": "aec78cfe",
   "metadata": {},
   "source": [
    "Done!\n",
    "\n",
    "Now the profile attribute of the ProfileSet object we are working with (here, *P*) stores the geopandas.GeoDataFrame containing the extracted data."
   ]
  },
  {
   "cell_type": "code",
   "execution_count": 6,
   "id": "e567bfba",
   "metadata": {},
   "outputs": [
    {
     "data": {
      "application/javascript": [
       "/* Put everything inside the global mpl namespace */\n",
       "/* global mpl */\n",
       "window.mpl = {};\n",
       "\n",
       "mpl.get_websocket_type = function () {\n",
       "    if (typeof WebSocket !== 'undefined') {\n",
       "        return WebSocket;\n",
       "    } else if (typeof MozWebSocket !== 'undefined') {\n",
       "        return MozWebSocket;\n",
       "    } else {\n",
       "        alert(\n",
       "            'Your browser does not have WebSocket support. ' +\n",
       "                'Please try Chrome, Safari or Firefox ≥ 6. ' +\n",
       "                'Firefox 4 and 5 are also supported but you ' +\n",
       "                'have to enable WebSockets in about:config.'\n",
       "        );\n",
       "    }\n",
       "};\n",
       "\n",
       "mpl.figure = function (figure_id, websocket, ondownload, parent_element) {\n",
       "    this.id = figure_id;\n",
       "\n",
       "    this.ws = websocket;\n",
       "\n",
       "    this.supports_binary = this.ws.binaryType !== undefined;\n",
       "\n",
       "    if (!this.supports_binary) {\n",
       "        var warnings = document.getElementById('mpl-warnings');\n",
       "        if (warnings) {\n",
       "            warnings.style.display = 'block';\n",
       "            warnings.textContent =\n",
       "                'This browser does not support binary websocket messages. ' +\n",
       "                'Performance may be slow.';\n",
       "        }\n",
       "    }\n",
       "\n",
       "    this.imageObj = new Image();\n",
       "\n",
       "    this.context = undefined;\n",
       "    this.message = undefined;\n",
       "    this.canvas = undefined;\n",
       "    this.rubberband_canvas = undefined;\n",
       "    this.rubberband_context = undefined;\n",
       "    this.format_dropdown = undefined;\n",
       "\n",
       "    this.image_mode = 'full';\n",
       "\n",
       "    this.root = document.createElement('div');\n",
       "    this.root.setAttribute('style', 'display: inline-block');\n",
       "    this._root_extra_style(this.root);\n",
       "\n",
       "    parent_element.appendChild(this.root);\n",
       "\n",
       "    this._init_header(this);\n",
       "    this._init_canvas(this);\n",
       "    this._init_toolbar(this);\n",
       "\n",
       "    var fig = this;\n",
       "\n",
       "    this.waiting = false;\n",
       "\n",
       "    this.ws.onopen = function () {\n",
       "        fig.send_message('supports_binary', { value: fig.supports_binary });\n",
       "        fig.send_message('send_image_mode', {});\n",
       "        if (fig.ratio !== 1) {\n",
       "            fig.send_message('set_dpi_ratio', { dpi_ratio: fig.ratio });\n",
       "        }\n",
       "        fig.send_message('refresh', {});\n",
       "    };\n",
       "\n",
       "    this.imageObj.onload = function () {\n",
       "        if (fig.image_mode === 'full') {\n",
       "            // Full images could contain transparency (where diff images\n",
       "            // almost always do), so we need to clear the canvas so that\n",
       "            // there is no ghosting.\n",
       "            fig.context.clearRect(0, 0, fig.canvas.width, fig.canvas.height);\n",
       "        }\n",
       "        fig.context.drawImage(fig.imageObj, 0, 0);\n",
       "    };\n",
       "\n",
       "    this.imageObj.onunload = function () {\n",
       "        fig.ws.close();\n",
       "    };\n",
       "\n",
       "    this.ws.onmessage = this._make_on_message_function(this);\n",
       "\n",
       "    this.ondownload = ondownload;\n",
       "};\n",
       "\n",
       "mpl.figure.prototype._init_header = function () {\n",
       "    var titlebar = document.createElement('div');\n",
       "    titlebar.classList =\n",
       "        'ui-dialog-titlebar ui-widget-header ui-corner-all ui-helper-clearfix';\n",
       "    var titletext = document.createElement('div');\n",
       "    titletext.classList = 'ui-dialog-title';\n",
       "    titletext.setAttribute(\n",
       "        'style',\n",
       "        'width: 100%; text-align: center; padding: 3px;'\n",
       "    );\n",
       "    titlebar.appendChild(titletext);\n",
       "    this.root.appendChild(titlebar);\n",
       "    this.header = titletext;\n",
       "};\n",
       "\n",
       "mpl.figure.prototype._canvas_extra_style = function (_canvas_div) {};\n",
       "\n",
       "mpl.figure.prototype._root_extra_style = function (_canvas_div) {};\n",
       "\n",
       "mpl.figure.prototype._init_canvas = function () {\n",
       "    var fig = this;\n",
       "\n",
       "    var canvas_div = (this.canvas_div = document.createElement('div'));\n",
       "    canvas_div.setAttribute(\n",
       "        'style',\n",
       "        'border: 1px solid #ddd;' +\n",
       "            'box-sizing: content-box;' +\n",
       "            'clear: both;' +\n",
       "            'min-height: 1px;' +\n",
       "            'min-width: 1px;' +\n",
       "            'outline: 0;' +\n",
       "            'overflow: hidden;' +\n",
       "            'position: relative;' +\n",
       "            'resize: both;'\n",
       "    );\n",
       "\n",
       "    function on_keyboard_event_closure(name) {\n",
       "        return function (event) {\n",
       "            return fig.key_event(event, name);\n",
       "        };\n",
       "    }\n",
       "\n",
       "    canvas_div.addEventListener(\n",
       "        'keydown',\n",
       "        on_keyboard_event_closure('key_press')\n",
       "    );\n",
       "    canvas_div.addEventListener(\n",
       "        'keyup',\n",
       "        on_keyboard_event_closure('key_release')\n",
       "    );\n",
       "\n",
       "    this._canvas_extra_style(canvas_div);\n",
       "    this.root.appendChild(canvas_div);\n",
       "\n",
       "    var canvas = (this.canvas = document.createElement('canvas'));\n",
       "    canvas.classList.add('mpl-canvas');\n",
       "    canvas.setAttribute('style', 'box-sizing: content-box;');\n",
       "\n",
       "    this.context = canvas.getContext('2d');\n",
       "\n",
       "    var backingStore =\n",
       "        this.context.backingStorePixelRatio ||\n",
       "        this.context.webkitBackingStorePixelRatio ||\n",
       "        this.context.mozBackingStorePixelRatio ||\n",
       "        this.context.msBackingStorePixelRatio ||\n",
       "        this.context.oBackingStorePixelRatio ||\n",
       "        this.context.backingStorePixelRatio ||\n",
       "        1;\n",
       "\n",
       "    this.ratio = (window.devicePixelRatio || 1) / backingStore;\n",
       "\n",
       "    var rubberband_canvas = (this.rubberband_canvas = document.createElement(\n",
       "        'canvas'\n",
       "    ));\n",
       "    rubberband_canvas.setAttribute(\n",
       "        'style',\n",
       "        'box-sizing: content-box; position: absolute; left: 0; top: 0; z-index: 1;'\n",
       "    );\n",
       "\n",
       "    // Apply a ponyfill if ResizeObserver is not implemented by browser.\n",
       "    if (this.ResizeObserver === undefined) {\n",
       "        if (window.ResizeObserver !== undefined) {\n",
       "            this.ResizeObserver = window.ResizeObserver;\n",
       "        } else {\n",
       "            var obs = _JSXTOOLS_RESIZE_OBSERVER({});\n",
       "            this.ResizeObserver = obs.ResizeObserver;\n",
       "        }\n",
       "    }\n",
       "\n",
       "    this.resizeObserverInstance = new this.ResizeObserver(function (entries) {\n",
       "        var nentries = entries.length;\n",
       "        for (var i = 0; i < nentries; i++) {\n",
       "            var entry = entries[i];\n",
       "            var width, height;\n",
       "            if (entry.contentBoxSize) {\n",
       "                if (entry.contentBoxSize instanceof Array) {\n",
       "                    // Chrome 84 implements new version of spec.\n",
       "                    width = entry.contentBoxSize[0].inlineSize;\n",
       "                    height = entry.contentBoxSize[0].blockSize;\n",
       "                } else {\n",
       "                    // Firefox implements old version of spec.\n",
       "                    width = entry.contentBoxSize.inlineSize;\n",
       "                    height = entry.contentBoxSize.blockSize;\n",
       "                }\n",
       "            } else {\n",
       "                // Chrome <84 implements even older version of spec.\n",
       "                width = entry.contentRect.width;\n",
       "                height = entry.contentRect.height;\n",
       "            }\n",
       "\n",
       "            // Keep the size of the canvas and rubber band canvas in sync with\n",
       "            // the canvas container.\n",
       "            if (entry.devicePixelContentBoxSize) {\n",
       "                // Chrome 84 implements new version of spec.\n",
       "                canvas.setAttribute(\n",
       "                    'width',\n",
       "                    entry.devicePixelContentBoxSize[0].inlineSize\n",
       "                );\n",
       "                canvas.setAttribute(\n",
       "                    'height',\n",
       "                    entry.devicePixelContentBoxSize[0].blockSize\n",
       "                );\n",
       "            } else {\n",
       "                canvas.setAttribute('width', width * fig.ratio);\n",
       "                canvas.setAttribute('height', height * fig.ratio);\n",
       "            }\n",
       "            canvas.setAttribute(\n",
       "                'style',\n",
       "                'width: ' + width + 'px; height: ' + height + 'px;'\n",
       "            );\n",
       "\n",
       "            rubberband_canvas.setAttribute('width', width);\n",
       "            rubberband_canvas.setAttribute('height', height);\n",
       "\n",
       "            // And update the size in Python. We ignore the initial 0/0 size\n",
       "            // that occurs as the element is placed into the DOM, which should\n",
       "            // otherwise not happen due to the minimum size styling.\n",
       "            if (fig.ws.readyState == 1 && width != 0 && height != 0) {\n",
       "                fig.request_resize(width, height);\n",
       "            }\n",
       "        }\n",
       "    });\n",
       "    this.resizeObserverInstance.observe(canvas_div);\n",
       "\n",
       "    function on_mouse_event_closure(name) {\n",
       "        return function (event) {\n",
       "            return fig.mouse_event(event, name);\n",
       "        };\n",
       "    }\n",
       "\n",
       "    rubberband_canvas.addEventListener(\n",
       "        'mousedown',\n",
       "        on_mouse_event_closure('button_press')\n",
       "    );\n",
       "    rubberband_canvas.addEventListener(\n",
       "        'mouseup',\n",
       "        on_mouse_event_closure('button_release')\n",
       "    );\n",
       "    // Throttle sequential mouse events to 1 every 20ms.\n",
       "    rubberband_canvas.addEventListener(\n",
       "        'mousemove',\n",
       "        on_mouse_event_closure('motion_notify')\n",
       "    );\n",
       "\n",
       "    rubberband_canvas.addEventListener(\n",
       "        'mouseenter',\n",
       "        on_mouse_event_closure('figure_enter')\n",
       "    );\n",
       "    rubberband_canvas.addEventListener(\n",
       "        'mouseleave',\n",
       "        on_mouse_event_closure('figure_leave')\n",
       "    );\n",
       "\n",
       "    canvas_div.addEventListener('wheel', function (event) {\n",
       "        if (event.deltaY < 0) {\n",
       "            event.step = 1;\n",
       "        } else {\n",
       "            event.step = -1;\n",
       "        }\n",
       "        on_mouse_event_closure('scroll')(event);\n",
       "    });\n",
       "\n",
       "    canvas_div.appendChild(canvas);\n",
       "    canvas_div.appendChild(rubberband_canvas);\n",
       "\n",
       "    this.rubberband_context = rubberband_canvas.getContext('2d');\n",
       "    this.rubberband_context.strokeStyle = '#000000';\n",
       "\n",
       "    this._resize_canvas = function (width, height, forward) {\n",
       "        if (forward) {\n",
       "            canvas_div.style.width = width + 'px';\n",
       "            canvas_div.style.height = height + 'px';\n",
       "        }\n",
       "    };\n",
       "\n",
       "    // Disable right mouse context menu.\n",
       "    this.rubberband_canvas.addEventListener('contextmenu', function (_e) {\n",
       "        event.preventDefault();\n",
       "        return false;\n",
       "    });\n",
       "\n",
       "    function set_focus() {\n",
       "        canvas.focus();\n",
       "        canvas_div.focus();\n",
       "    }\n",
       "\n",
       "    window.setTimeout(set_focus, 100);\n",
       "};\n",
       "\n",
       "mpl.figure.prototype._init_toolbar = function () {\n",
       "    var fig = this;\n",
       "\n",
       "    var toolbar = document.createElement('div');\n",
       "    toolbar.classList = 'mpl-toolbar';\n",
       "    this.root.appendChild(toolbar);\n",
       "\n",
       "    function on_click_closure(name) {\n",
       "        return function (_event) {\n",
       "            return fig.toolbar_button_onclick(name);\n",
       "        };\n",
       "    }\n",
       "\n",
       "    function on_mouseover_closure(tooltip) {\n",
       "        return function (event) {\n",
       "            if (!event.currentTarget.disabled) {\n",
       "                return fig.toolbar_button_onmouseover(tooltip);\n",
       "            }\n",
       "        };\n",
       "    }\n",
       "\n",
       "    fig.buttons = {};\n",
       "    var buttonGroup = document.createElement('div');\n",
       "    buttonGroup.classList = 'mpl-button-group';\n",
       "    for (var toolbar_ind in mpl.toolbar_items) {\n",
       "        var name = mpl.toolbar_items[toolbar_ind][0];\n",
       "        var tooltip = mpl.toolbar_items[toolbar_ind][1];\n",
       "        var image = mpl.toolbar_items[toolbar_ind][2];\n",
       "        var method_name = mpl.toolbar_items[toolbar_ind][3];\n",
       "\n",
       "        if (!name) {\n",
       "            /* Instead of a spacer, we start a new button group. */\n",
       "            if (buttonGroup.hasChildNodes()) {\n",
       "                toolbar.appendChild(buttonGroup);\n",
       "            }\n",
       "            buttonGroup = document.createElement('div');\n",
       "            buttonGroup.classList = 'mpl-button-group';\n",
       "            continue;\n",
       "        }\n",
       "\n",
       "        var button = (fig.buttons[name] = document.createElement('button'));\n",
       "        button.classList = 'mpl-widget';\n",
       "        button.setAttribute('role', 'button');\n",
       "        button.setAttribute('aria-disabled', 'false');\n",
       "        button.addEventListener('click', on_click_closure(method_name));\n",
       "        button.addEventListener('mouseover', on_mouseover_closure(tooltip));\n",
       "\n",
       "        var icon_img = document.createElement('img');\n",
       "        icon_img.src = '_images/' + image + '.png';\n",
       "        icon_img.srcset = '_images/' + image + '_large.png 2x';\n",
       "        icon_img.alt = tooltip;\n",
       "        button.appendChild(icon_img);\n",
       "\n",
       "        buttonGroup.appendChild(button);\n",
       "    }\n",
       "\n",
       "    if (buttonGroup.hasChildNodes()) {\n",
       "        toolbar.appendChild(buttonGroup);\n",
       "    }\n",
       "\n",
       "    var fmt_picker = document.createElement('select');\n",
       "    fmt_picker.classList = 'mpl-widget';\n",
       "    toolbar.appendChild(fmt_picker);\n",
       "    this.format_dropdown = fmt_picker;\n",
       "\n",
       "    for (var ind in mpl.extensions) {\n",
       "        var fmt = mpl.extensions[ind];\n",
       "        var option = document.createElement('option');\n",
       "        option.selected = fmt === mpl.default_extension;\n",
       "        option.innerHTML = fmt;\n",
       "        fmt_picker.appendChild(option);\n",
       "    }\n",
       "\n",
       "    var status_bar = document.createElement('span');\n",
       "    status_bar.classList = 'mpl-message';\n",
       "    toolbar.appendChild(status_bar);\n",
       "    this.message = status_bar;\n",
       "};\n",
       "\n",
       "mpl.figure.prototype.request_resize = function (x_pixels, y_pixels) {\n",
       "    // Request matplotlib to resize the figure. Matplotlib will then trigger a resize in the client,\n",
       "    // which will in turn request a refresh of the image.\n",
       "    this.send_message('resize', { width: x_pixels, height: y_pixels });\n",
       "};\n",
       "\n",
       "mpl.figure.prototype.send_message = function (type, properties) {\n",
       "    properties['type'] = type;\n",
       "    properties['figure_id'] = this.id;\n",
       "    this.ws.send(JSON.stringify(properties));\n",
       "};\n",
       "\n",
       "mpl.figure.prototype.send_draw_message = function () {\n",
       "    if (!this.waiting) {\n",
       "        this.waiting = true;\n",
       "        this.ws.send(JSON.stringify({ type: 'draw', figure_id: this.id }));\n",
       "    }\n",
       "};\n",
       "\n",
       "mpl.figure.prototype.handle_save = function (fig, _msg) {\n",
       "    var format_dropdown = fig.format_dropdown;\n",
       "    var format = format_dropdown.options[format_dropdown.selectedIndex].value;\n",
       "    fig.ondownload(fig, format);\n",
       "};\n",
       "\n",
       "mpl.figure.prototype.handle_resize = function (fig, msg) {\n",
       "    var size = msg['size'];\n",
       "    if (size[0] !== fig.canvas.width || size[1] !== fig.canvas.height) {\n",
       "        fig._resize_canvas(size[0], size[1], msg['forward']);\n",
       "        fig.send_message('refresh', {});\n",
       "    }\n",
       "};\n",
       "\n",
       "mpl.figure.prototype.handle_rubberband = function (fig, msg) {\n",
       "    var x0 = msg['x0'] / fig.ratio;\n",
       "    var y0 = (fig.canvas.height - msg['y0']) / fig.ratio;\n",
       "    var x1 = msg['x1'] / fig.ratio;\n",
       "    var y1 = (fig.canvas.height - msg['y1']) / fig.ratio;\n",
       "    x0 = Math.floor(x0) + 0.5;\n",
       "    y0 = Math.floor(y0) + 0.5;\n",
       "    x1 = Math.floor(x1) + 0.5;\n",
       "    y1 = Math.floor(y1) + 0.5;\n",
       "    var min_x = Math.min(x0, x1);\n",
       "    var min_y = Math.min(y0, y1);\n",
       "    var width = Math.abs(x1 - x0);\n",
       "    var height = Math.abs(y1 - y0);\n",
       "\n",
       "    fig.rubberband_context.clearRect(\n",
       "        0,\n",
       "        0,\n",
       "        fig.canvas.width / fig.ratio,\n",
       "        fig.canvas.height / fig.ratio\n",
       "    );\n",
       "\n",
       "    fig.rubberband_context.strokeRect(min_x, min_y, width, height);\n",
       "};\n",
       "\n",
       "mpl.figure.prototype.handle_figure_label = function (fig, msg) {\n",
       "    // Updates the figure title.\n",
       "    fig.header.textContent = msg['label'];\n",
       "};\n",
       "\n",
       "mpl.figure.prototype.handle_cursor = function (fig, msg) {\n",
       "    var cursor = msg['cursor'];\n",
       "    switch (cursor) {\n",
       "        case 0:\n",
       "            cursor = 'pointer';\n",
       "            break;\n",
       "        case 1:\n",
       "            cursor = 'default';\n",
       "            break;\n",
       "        case 2:\n",
       "            cursor = 'crosshair';\n",
       "            break;\n",
       "        case 3:\n",
       "            cursor = 'move';\n",
       "            break;\n",
       "    }\n",
       "    fig.rubberband_canvas.style.cursor = cursor;\n",
       "};\n",
       "\n",
       "mpl.figure.prototype.handle_message = function (fig, msg) {\n",
       "    fig.message.textContent = msg['message'];\n",
       "};\n",
       "\n",
       "mpl.figure.prototype.handle_draw = function (fig, _msg) {\n",
       "    // Request the server to send over a new figure.\n",
       "    fig.send_draw_message();\n",
       "};\n",
       "\n",
       "mpl.figure.prototype.handle_image_mode = function (fig, msg) {\n",
       "    fig.image_mode = msg['mode'];\n",
       "};\n",
       "\n",
       "mpl.figure.prototype.handle_history_buttons = function (fig, msg) {\n",
       "    for (var key in msg) {\n",
       "        if (!(key in fig.buttons)) {\n",
       "            continue;\n",
       "        }\n",
       "        fig.buttons[key].disabled = !msg[key];\n",
       "        fig.buttons[key].setAttribute('aria-disabled', !msg[key]);\n",
       "    }\n",
       "};\n",
       "\n",
       "mpl.figure.prototype.handle_navigate_mode = function (fig, msg) {\n",
       "    if (msg['mode'] === 'PAN') {\n",
       "        fig.buttons['Pan'].classList.add('active');\n",
       "        fig.buttons['Zoom'].classList.remove('active');\n",
       "    } else if (msg['mode'] === 'ZOOM') {\n",
       "        fig.buttons['Pan'].classList.remove('active');\n",
       "        fig.buttons['Zoom'].classList.add('active');\n",
       "    } else {\n",
       "        fig.buttons['Pan'].classList.remove('active');\n",
       "        fig.buttons['Zoom'].classList.remove('active');\n",
       "    }\n",
       "};\n",
       "\n",
       "mpl.figure.prototype.updated_canvas_event = function () {\n",
       "    // Called whenever the canvas gets updated.\n",
       "    this.send_message('ack', {});\n",
       "};\n",
       "\n",
       "// A function to construct a web socket function for onmessage handling.\n",
       "// Called in the figure constructor.\n",
       "mpl.figure.prototype._make_on_message_function = function (fig) {\n",
       "    return function socket_on_message(evt) {\n",
       "        if (evt.data instanceof Blob) {\n",
       "            /* FIXME: We get \"Resource interpreted as Image but\n",
       "             * transferred with MIME type text/plain:\" errors on\n",
       "             * Chrome.  But how to set the MIME type?  It doesn't seem\n",
       "             * to be part of the websocket stream */\n",
       "            evt.data.type = 'image/png';\n",
       "\n",
       "            /* Free the memory for the previous frames */\n",
       "            if (fig.imageObj.src) {\n",
       "                (window.URL || window.webkitURL).revokeObjectURL(\n",
       "                    fig.imageObj.src\n",
       "                );\n",
       "            }\n",
       "\n",
       "            fig.imageObj.src = (window.URL || window.webkitURL).createObjectURL(\n",
       "                evt.data\n",
       "            );\n",
       "            fig.updated_canvas_event();\n",
       "            fig.waiting = false;\n",
       "            return;\n",
       "        } else if (\n",
       "            typeof evt.data === 'string' &&\n",
       "            evt.data.slice(0, 21) === 'data:image/png;base64'\n",
       "        ) {\n",
       "            fig.imageObj.src = evt.data;\n",
       "            fig.updated_canvas_event();\n",
       "            fig.waiting = false;\n",
       "            return;\n",
       "        }\n",
       "\n",
       "        var msg = JSON.parse(evt.data);\n",
       "        var msg_type = msg['type'];\n",
       "\n",
       "        // Call the  \"handle_{type}\" callback, which takes\n",
       "        // the figure and JSON message as its only arguments.\n",
       "        try {\n",
       "            var callback = fig['handle_' + msg_type];\n",
       "        } catch (e) {\n",
       "            console.log(\n",
       "                \"No handler for the '\" + msg_type + \"' message type: \",\n",
       "                msg\n",
       "            );\n",
       "            return;\n",
       "        }\n",
       "\n",
       "        if (callback) {\n",
       "            try {\n",
       "                // console.log(\"Handling '\" + msg_type + \"' message: \", msg);\n",
       "                callback(fig, msg);\n",
       "            } catch (e) {\n",
       "                console.log(\n",
       "                    \"Exception inside the 'handler_\" + msg_type + \"' callback:\",\n",
       "                    e,\n",
       "                    e.stack,\n",
       "                    msg\n",
       "                );\n",
       "            }\n",
       "        }\n",
       "    };\n",
       "};\n",
       "\n",
       "// from http://stackoverflow.com/questions/1114465/getting-mouse-location-in-canvas\n",
       "mpl.findpos = function (e) {\n",
       "    //this section is from http://www.quirksmode.org/js/events_properties.html\n",
       "    var targ;\n",
       "    if (!e) {\n",
       "        e = window.event;\n",
       "    }\n",
       "    if (e.target) {\n",
       "        targ = e.target;\n",
       "    } else if (e.srcElement) {\n",
       "        targ = e.srcElement;\n",
       "    }\n",
       "    if (targ.nodeType === 3) {\n",
       "        // defeat Safari bug\n",
       "        targ = targ.parentNode;\n",
       "    }\n",
       "\n",
       "    // pageX,Y are the mouse positions relative to the document\n",
       "    var boundingRect = targ.getBoundingClientRect();\n",
       "    var x = e.pageX - (boundingRect.left + document.body.scrollLeft);\n",
       "    var y = e.pageY - (boundingRect.top + document.body.scrollTop);\n",
       "\n",
       "    return { x: x, y: y };\n",
       "};\n",
       "\n",
       "/*\n",
       " * return a copy of an object with only non-object keys\n",
       " * we need this to avoid circular references\n",
       " * http://stackoverflow.com/a/24161582/3208463\n",
       " */\n",
       "function simpleKeys(original) {\n",
       "    return Object.keys(original).reduce(function (obj, key) {\n",
       "        if (typeof original[key] !== 'object') {\n",
       "            obj[key] = original[key];\n",
       "        }\n",
       "        return obj;\n",
       "    }, {});\n",
       "}\n",
       "\n",
       "mpl.figure.prototype.mouse_event = function (event, name) {\n",
       "    var canvas_pos = mpl.findpos(event);\n",
       "\n",
       "    if (name === 'button_press') {\n",
       "        this.canvas.focus();\n",
       "        this.canvas_div.focus();\n",
       "    }\n",
       "\n",
       "    var x = canvas_pos.x * this.ratio;\n",
       "    var y = canvas_pos.y * this.ratio;\n",
       "\n",
       "    this.send_message(name, {\n",
       "        x: x,\n",
       "        y: y,\n",
       "        button: event.button,\n",
       "        step: event.step,\n",
       "        guiEvent: simpleKeys(event),\n",
       "    });\n",
       "\n",
       "    /* This prevents the web browser from automatically changing to\n",
       "     * the text insertion cursor when the button is pressed.  We want\n",
       "     * to control all of the cursor setting manually through the\n",
       "     * 'cursor' event from matplotlib */\n",
       "    event.preventDefault();\n",
       "    return false;\n",
       "};\n",
       "\n",
       "mpl.figure.prototype._key_event_extra = function (_event, _name) {\n",
       "    // Handle any extra behaviour associated with a key event\n",
       "};\n",
       "\n",
       "mpl.figure.prototype.key_event = function (event, name) {\n",
       "    // Prevent repeat events\n",
       "    if (name === 'key_press') {\n",
       "        if (event.which === this._key) {\n",
       "            return;\n",
       "        } else {\n",
       "            this._key = event.which;\n",
       "        }\n",
       "    }\n",
       "    if (name === 'key_release') {\n",
       "        this._key = null;\n",
       "    }\n",
       "\n",
       "    var value = '';\n",
       "    if (event.ctrlKey && event.which !== 17) {\n",
       "        value += 'ctrl+';\n",
       "    }\n",
       "    if (event.altKey && event.which !== 18) {\n",
       "        value += 'alt+';\n",
       "    }\n",
       "    if (event.shiftKey && event.which !== 16) {\n",
       "        value += 'shift+';\n",
       "    }\n",
       "\n",
       "    value += 'k';\n",
       "    value += event.which.toString();\n",
       "\n",
       "    this._key_event_extra(event, name);\n",
       "\n",
       "    this.send_message(name, { key: value, guiEvent: simpleKeys(event) });\n",
       "    return false;\n",
       "};\n",
       "\n",
       "mpl.figure.prototype.toolbar_button_onclick = function (name) {\n",
       "    if (name === 'download') {\n",
       "        this.handle_save(this, null);\n",
       "    } else {\n",
       "        this.send_message('toolbar_button', { name: name });\n",
       "    }\n",
       "};\n",
       "\n",
       "mpl.figure.prototype.toolbar_button_onmouseover = function (tooltip) {\n",
       "    this.message.textContent = tooltip;\n",
       "};\n",
       "\n",
       "///////////////// REMAINING CONTENT GENERATED BY embed_js.py /////////////////\n",
       "// prettier-ignore\n",
       "var _JSXTOOLS_RESIZE_OBSERVER=function(A){var t,i=new WeakMap,n=new WeakMap,a=new WeakMap,r=new WeakMap,o=new Set;function s(e){if(!(this instanceof s))throw new TypeError(\"Constructor requires 'new' operator\");i.set(this,e)}function h(){throw new TypeError(\"Function is not a constructor\")}function c(e,t,i,n){e=0 in arguments?Number(arguments[0]):0,t=1 in arguments?Number(arguments[1]):0,i=2 in arguments?Number(arguments[2]):0,n=3 in arguments?Number(arguments[3]):0,this.right=(this.x=this.left=e)+(this.width=i),this.bottom=(this.y=this.top=t)+(this.height=n),Object.freeze(this)}function d(){t=requestAnimationFrame(d);var s=new WeakMap,p=new Set;o.forEach((function(t){r.get(t).forEach((function(i){var r=t instanceof window.SVGElement,o=a.get(t),d=r?0:parseFloat(o.paddingTop),f=r?0:parseFloat(o.paddingRight),l=r?0:parseFloat(o.paddingBottom),u=r?0:parseFloat(o.paddingLeft),g=r?0:parseFloat(o.borderTopWidth),m=r?0:parseFloat(o.borderRightWidth),w=r?0:parseFloat(o.borderBottomWidth),b=u+f,F=d+l,v=(r?0:parseFloat(o.borderLeftWidth))+m,W=g+w,y=r?0:t.offsetHeight-W-t.clientHeight,E=r?0:t.offsetWidth-v-t.clientWidth,R=b+v,z=F+W,M=r?t.width:parseFloat(o.width)-R-E,O=r?t.height:parseFloat(o.height)-z-y;if(n.has(t)){var k=n.get(t);if(k[0]===M&&k[1]===O)return}n.set(t,[M,O]);var S=Object.create(h.prototype);S.target=t,S.contentRect=new c(u,d,M,O),s.has(i)||(s.set(i,[]),p.add(i)),s.get(i).push(S)}))})),p.forEach((function(e){i.get(e).call(e,s.get(e),e)}))}return s.prototype.observe=function(i){if(i instanceof window.Element){r.has(i)||(r.set(i,new Set),o.add(i),a.set(i,window.getComputedStyle(i)));var n=r.get(i);n.has(this)||n.add(this),cancelAnimationFrame(t),t=requestAnimationFrame(d)}},s.prototype.unobserve=function(i){if(i instanceof window.Element&&r.has(i)){var n=r.get(i);n.has(this)&&(n.delete(this),n.size||(r.delete(i),o.delete(i))),n.size||r.delete(i),o.size||cancelAnimationFrame(t)}},A.DOMRectReadOnly=c,A.ResizeObserver=s,A.ResizeObserverEntry=h,A}; // eslint-disable-line\n",
       "mpl.toolbar_items = [[\"Home\", \"Reset original view\", \"fa fa-home icon-home\", \"home\"], [\"Back\", \"Back to previous view\", \"fa fa-arrow-left icon-arrow-left\", \"back\"], [\"Forward\", \"Forward to next view\", \"fa fa-arrow-right icon-arrow-right\", \"forward\"], [\"\", \"\", \"\", \"\"], [\"Pan\", \"Left button pans, Right button zooms\\nx/y fixes axis, CTRL fixes aspect\", \"fa fa-arrows icon-move\", \"pan\"], [\"Zoom\", \"Zoom to rectangle\\nx/y fixes axis, CTRL fixes aspect\", \"fa fa-square-o icon-check-empty\", \"zoom\"], [\"\", \"\", \"\", \"\"], [\"Download\", \"Download plot\", \"fa fa-floppy-o icon-save\", \"download\"]];\n",
       "\n",
       "mpl.extensions = [\"eps\", \"jpeg\", \"pdf\", \"png\", \"ps\", \"raw\", \"svg\", \"tif\"];\n",
       "\n",
       "mpl.default_extension = \"png\";/* global mpl */\n",
       "\n",
       "var comm_websocket_adapter = function (comm) {\n",
       "    // Create a \"websocket\"-like object which calls the given IPython comm\n",
       "    // object with the appropriate methods. Currently this is a non binary\n",
       "    // socket, so there is still some room for performance tuning.\n",
       "    var ws = {};\n",
       "\n",
       "    ws.close = function () {\n",
       "        comm.close();\n",
       "    };\n",
       "    ws.send = function (m) {\n",
       "        //console.log('sending', m);\n",
       "        comm.send(m);\n",
       "    };\n",
       "    // Register the callback with on_msg.\n",
       "    comm.on_msg(function (msg) {\n",
       "        //console.log('receiving', msg['content']['data'], msg);\n",
       "        // Pass the mpl event to the overridden (by mpl) onmessage function.\n",
       "        ws.onmessage(msg['content']['data']);\n",
       "    });\n",
       "    return ws;\n",
       "};\n",
       "\n",
       "mpl.mpl_figure_comm = function (comm, msg) {\n",
       "    // This is the function which gets called when the mpl process\n",
       "    // starts-up an IPython Comm through the \"matplotlib\" channel.\n",
       "\n",
       "    var id = msg.content.data.id;\n",
       "    // Get hold of the div created by the display call when the Comm\n",
       "    // socket was opened in Python.\n",
       "    var element = document.getElementById(id);\n",
       "    var ws_proxy = comm_websocket_adapter(comm);\n",
       "\n",
       "    function ondownload(figure, _format) {\n",
       "        window.open(figure.canvas.toDataURL());\n",
       "    }\n",
       "\n",
       "    var fig = new mpl.figure(id, ws_proxy, ondownload, element);\n",
       "\n",
       "    // Call onopen now - mpl needs it, as it is assuming we've passed it a real\n",
       "    // web socket which is closed, not our websocket->open comm proxy.\n",
       "    ws_proxy.onopen();\n",
       "\n",
       "    fig.parent_element = element;\n",
       "    fig.cell_info = mpl.find_output_cell(\"<div id='\" + id + \"'></div>\");\n",
       "    if (!fig.cell_info) {\n",
       "        console.error('Failed to find cell for figure', id, fig);\n",
       "        return;\n",
       "    }\n",
       "    fig.cell_info[0].output_area.element.on(\n",
       "        'cleared',\n",
       "        { fig: fig },\n",
       "        fig._remove_fig_handler\n",
       "    );\n",
       "};\n",
       "\n",
       "mpl.figure.prototype.handle_close = function (fig, msg) {\n",
       "    var width = fig.canvas.width / fig.ratio;\n",
       "    fig.cell_info[0].output_area.element.off(\n",
       "        'cleared',\n",
       "        fig._remove_fig_handler\n",
       "    );\n",
       "    fig.resizeObserverInstance.unobserve(fig.canvas_div);\n",
       "\n",
       "    // Update the output cell to use the data from the current canvas.\n",
       "    fig.push_to_output();\n",
       "    var dataURL = fig.canvas.toDataURL();\n",
       "    // Re-enable the keyboard manager in IPython - without this line, in FF,\n",
       "    // the notebook keyboard shortcuts fail.\n",
       "    IPython.keyboard_manager.enable();\n",
       "    fig.parent_element.innerHTML =\n",
       "        '<img src=\"' + dataURL + '\" width=\"' + width + '\">';\n",
       "    fig.close_ws(fig, msg);\n",
       "};\n",
       "\n",
       "mpl.figure.prototype.close_ws = function (fig, msg) {\n",
       "    fig.send_message('closing', msg);\n",
       "    // fig.ws.close()\n",
       "};\n",
       "\n",
       "mpl.figure.prototype.push_to_output = function (_remove_interactive) {\n",
       "    // Turn the data on the canvas into data in the output cell.\n",
       "    var width = this.canvas.width / this.ratio;\n",
       "    var dataURL = this.canvas.toDataURL();\n",
       "    this.cell_info[1]['text/html'] =\n",
       "        '<img src=\"' + dataURL + '\" width=\"' + width + '\">';\n",
       "};\n",
       "\n",
       "mpl.figure.prototype.updated_canvas_event = function () {\n",
       "    // Tell IPython that the notebook contents must change.\n",
       "    IPython.notebook.set_dirty(true);\n",
       "    this.send_message('ack', {});\n",
       "    var fig = this;\n",
       "    // Wait a second, then push the new image to the DOM so\n",
       "    // that it is saved nicely (might be nice to debounce this).\n",
       "    setTimeout(function () {\n",
       "        fig.push_to_output();\n",
       "    }, 1000);\n",
       "};\n",
       "\n",
       "mpl.figure.prototype._init_toolbar = function () {\n",
       "    var fig = this;\n",
       "\n",
       "    var toolbar = document.createElement('div');\n",
       "    toolbar.classList = 'btn-toolbar';\n",
       "    this.root.appendChild(toolbar);\n",
       "\n",
       "    function on_click_closure(name) {\n",
       "        return function (_event) {\n",
       "            return fig.toolbar_button_onclick(name);\n",
       "        };\n",
       "    }\n",
       "\n",
       "    function on_mouseover_closure(tooltip) {\n",
       "        return function (event) {\n",
       "            if (!event.currentTarget.disabled) {\n",
       "                return fig.toolbar_button_onmouseover(tooltip);\n",
       "            }\n",
       "        };\n",
       "    }\n",
       "\n",
       "    fig.buttons = {};\n",
       "    var buttonGroup = document.createElement('div');\n",
       "    buttonGroup.classList = 'btn-group';\n",
       "    var button;\n",
       "    for (var toolbar_ind in mpl.toolbar_items) {\n",
       "        var name = mpl.toolbar_items[toolbar_ind][0];\n",
       "        var tooltip = mpl.toolbar_items[toolbar_ind][1];\n",
       "        var image = mpl.toolbar_items[toolbar_ind][2];\n",
       "        var method_name = mpl.toolbar_items[toolbar_ind][3];\n",
       "\n",
       "        if (!name) {\n",
       "            /* Instead of a spacer, we start a new button group. */\n",
       "            if (buttonGroup.hasChildNodes()) {\n",
       "                toolbar.appendChild(buttonGroup);\n",
       "            }\n",
       "            buttonGroup = document.createElement('div');\n",
       "            buttonGroup.classList = 'btn-group';\n",
       "            continue;\n",
       "        }\n",
       "\n",
       "        button = fig.buttons[name] = document.createElement('button');\n",
       "        button.classList = 'btn btn-default';\n",
       "        button.href = '#';\n",
       "        button.title = name;\n",
       "        button.innerHTML = '<i class=\"fa ' + image + ' fa-lg\"></i>';\n",
       "        button.addEventListener('click', on_click_closure(method_name));\n",
       "        button.addEventListener('mouseover', on_mouseover_closure(tooltip));\n",
       "        buttonGroup.appendChild(button);\n",
       "    }\n",
       "\n",
       "    if (buttonGroup.hasChildNodes()) {\n",
       "        toolbar.appendChild(buttonGroup);\n",
       "    }\n",
       "\n",
       "    // Add the status bar.\n",
       "    var status_bar = document.createElement('span');\n",
       "    status_bar.classList = 'mpl-message pull-right';\n",
       "    toolbar.appendChild(status_bar);\n",
       "    this.message = status_bar;\n",
       "\n",
       "    // Add the close button to the window.\n",
       "    var buttongrp = document.createElement('div');\n",
       "    buttongrp.classList = 'btn-group inline pull-right';\n",
       "    button = document.createElement('button');\n",
       "    button.classList = 'btn btn-mini btn-primary';\n",
       "    button.href = '#';\n",
       "    button.title = 'Stop Interaction';\n",
       "    button.innerHTML = '<i class=\"fa fa-power-off icon-remove icon-large\"></i>';\n",
       "    button.addEventListener('click', function (_evt) {\n",
       "        fig.handle_close(fig, {});\n",
       "    });\n",
       "    button.addEventListener(\n",
       "        'mouseover',\n",
       "        on_mouseover_closure('Stop Interaction')\n",
       "    );\n",
       "    buttongrp.appendChild(button);\n",
       "    var titlebar = this.root.querySelector('.ui-dialog-titlebar');\n",
       "    titlebar.insertBefore(buttongrp, titlebar.firstChild);\n",
       "};\n",
       "\n",
       "mpl.figure.prototype._remove_fig_handler = function (event) {\n",
       "    var fig = event.data.fig;\n",
       "    if (event.target !== this) {\n",
       "        // Ignore bubbled events from children.\n",
       "        return;\n",
       "    }\n",
       "    fig.close_ws(fig, {});\n",
       "};\n",
       "\n",
       "mpl.figure.prototype._root_extra_style = function (el) {\n",
       "    el.style.boxSizing = 'content-box'; // override notebook setting of border-box.\n",
       "};\n",
       "\n",
       "mpl.figure.prototype._canvas_extra_style = function (el) {\n",
       "    // this is important to make the div 'focusable\n",
       "    el.setAttribute('tabindex', 0);\n",
       "    // reach out to IPython and tell the keyboard manager to turn it's self\n",
       "    // off when our div gets focus\n",
       "\n",
       "    // location in version 3\n",
       "    if (IPython.notebook.keyboard_manager) {\n",
       "        IPython.notebook.keyboard_manager.register_events(el);\n",
       "    } else {\n",
       "        // location in version 2\n",
       "        IPython.keyboard_manager.register_events(el);\n",
       "    }\n",
       "};\n",
       "\n",
       "mpl.figure.prototype._key_event_extra = function (event, _name) {\n",
       "    var manager = IPython.notebook.keyboard_manager;\n",
       "    if (!manager) {\n",
       "        manager = IPython.keyboard_manager;\n",
       "    }\n",
       "\n",
       "    // Check for shift+enter\n",
       "    if (event.shiftKey && event.which === 13) {\n",
       "        this.canvas_div.blur();\n",
       "        // select the cell after this one\n",
       "        var index = IPython.notebook.find_cell_index(this.cell_info[0]);\n",
       "        IPython.notebook.select(index + 1);\n",
       "    }\n",
       "};\n",
       "\n",
       "mpl.figure.prototype.handle_save = function (fig, _msg) {\n",
       "    fig.ondownload(fig, null);\n",
       "};\n",
       "\n",
       "mpl.find_output_cell = function (html_output) {\n",
       "    // Return the cell and output element which can be found *uniquely* in the notebook.\n",
       "    // Note - this is a bit hacky, but it is done because the \"notebook_saving.Notebook\"\n",
       "    // IPython event is triggered only after the cells have been serialised, which for\n",
       "    // our purposes (turning an active figure into a static one), is too late.\n",
       "    var cells = IPython.notebook.get_cells();\n",
       "    var ncells = cells.length;\n",
       "    for (var i = 0; i < ncells; i++) {\n",
       "        var cell = cells[i];\n",
       "        if (cell.cell_type === 'code') {\n",
       "            for (var j = 0; j < cell.output_area.outputs.length; j++) {\n",
       "                var data = cell.output_area.outputs[j];\n",
       "                if (data.data) {\n",
       "                    // IPython >= 3 moved mimebundle to data attribute of output\n",
       "                    data = data.data;\n",
       "                }\n",
       "                if (data['text/html'] === html_output) {\n",
       "                    return [cell, data, j];\n",
       "                }\n",
       "            }\n",
       "        }\n",
       "    }\n",
       "};\n",
       "\n",
       "// Register the function which deals with the matplotlib target/channel.\n",
       "// The kernel may be null if the page has been refreshed.\n",
       "if (IPython.notebook.kernel !== null) {\n",
       "    IPython.notebook.kernel.comm_manager.register_target(\n",
       "        'matplotlib',\n",
       "        mpl.mpl_figure_comm\n",
       "    );\n",
       "}\n"
      ],
      "text/plain": [
       "<IPython.core.display.Javascript object>"
      ]
     },
     "metadata": {},
     "output_type": "display_data"
    },
    {
     "data": {
      "text/html": [
       "<img src=\"data:image/png;base64,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\" width=\"999.999985098839\">"
      ],
      "text/plain": [
       "<IPython.core.display.HTML object>"
      ]
     },
     "metadata": {},
     "output_type": "display_data"
    }
   ],
   "source": [
    "f,ax= plt.subplots(figsize=(10,8), squeeze=True)\n",
    "ortho_path=r\"C:\\my_packages\\sandpyper\\examples\\test_data\\orthos_1m\\leo_20180606_ortho_resampled_1m.tif\"\n",
    "\n",
    "with ras.open(ortho_path,'r') as ortho:\n",
    "\n",
    "    show(ortho, ax=ax)\n",
    "\n",
    "\n",
    "P.profiles.query(\"location=='leo' and raw_date==20180606\").plot(ax=ax,column='z', cmap='RdBu_r');"
   ]
  },
  {
   "cell_type": "markdown",
   "id": "d5de7ea2",
   "metadata": {},
   "source": [
    "As you can see, the profiles include points extracted over areas that are not beach sediment, such as water, swash (inaccurate modeled elevation), vegetation or anything else that can be found aôn or around a beach that is not sand.\n",
    "\n",
    "Computing mutitemporal elevation changes from a dataset of this kind would lead in very erroneous computation as it would include all the aforementioned non-sand points. Therefore, we need to clip out the water from each dataset, retain only a small area of interest landward that the principal foredune (if any) and classify each extracted point as sand or no-sand.\n",
    "\n",
    "Let's see how we can achieve this using sandpyper and Qgis."
   ]
  },
  {
   "cell_type": "markdown",
   "id": "07029ae3",
   "metadata": {},
   "source": [
    "## Unsupervised clustering and labelling\n",
    "( for method information, please check the documentation, [here](https://npucino.github.io/sandpyper/) )"
   ]
  },
  {
   "cell_type": "markdown",
   "id": "d0da4fac",
   "metadata": {},
   "source": [
    "### The challenge\n",
    "In order to help discriminate and deal with non-sand points in our dataset, we can use Machine Learning (ML) to classify which points are sand and which ones are not.\n",
    "\n",
    "Currently, sandpyper only facilitates the use of KMeans unsupervised clustering algorithm to accomplish this task. KMeans assigns points sharing similarities in the attribute space to one of a predefined number of clusters and assign these clusters one label. After the clustering is done, we, the human operator, need to visually look at the clustering results in a GIS, overlay the points on the orthophoto, visualise their color-coded labels and 'attach a meaning' to those clusters, which can be quite difficult as ML sees quite differently from us.\n",
    "\n",
    "Of course one could also be tempted to use supervised machine learning techniques, however, considering that the cameras mounted on UAVs are not calibrated and the RGB images are not corrected for illumination variations, the training process would require a very big training dataset which must capture as much as variance in the classes of interest as possible.\n",
    "In this case, the unsupervised procedure facilitated by sandpyper could help in constructing an high quality training dataset."
   ]
  },
  {
   "cell_type": "markdown",
   "id": "064b78f4",
   "metadata": {},
   "source": [
    "### Iterative Silhouette analysis with inflexion search\n",
    "One of the most important parameter we must set before running KMeans is how many clusters we want to partition our points in. Considering that the next step is our visual checking of each cluster, we should choose a number that is not too high, as it would require too much time to visually assign a class to each cluster, but neighter too low, as this would dramatically increase the likelyhood of finding mixed clusters containing both points that are sand and no-sand.\n",
    "\n",
    "In order to let the data guide our choice of number of clusters to use, sandpyper implements an automated iterative Silhouette analysis with inflexion search algorithm.\n",
    "This algorithms use Silhouette coefficients to compute the clustering performances and allows to return a sub-optimal number of clusters to use in each survey with KMeans which minimise the likelyhood of having mixed clusters while also retaining a low number of clusters.\n",
    "\n",
    "Sandpyper implements this in 3 steps:\n",
    "\n",
    "1. __get_sil_location__: iteratively perform KMeans clustering and Silhouette Analysis with increasing number of clusters (k, specified in the `ks` parameter) for every survey, using the feature set specified in the parameter `feature_set`\n",
    "2. __get_opt_k__ : uses the dataframe with Average Silhouette scores with different k for all surveys created by __get_sil_location__ function to find a sub-optimal number of clusters for each survey\n",
    "3. __kmeans_sa__ method: to run KMeans algorithm with the specified sub-optimal number of clusters (k)"
   ]
  },
  {
   "cell_type": "code",
   "execution_count": 7,
   "id": "9d8e2993",
   "metadata": {
    "scrolled": true
   },
   "outputs": [
    {
     "data": {
      "application/vnd.jupyter.widget-view+json": {
       "model_id": "70423da5d7744b5ea1eb2f10206fbae2",
       "version_major": 2,
       "version_minor": 0
      },
      "text/plain": [
       "  0%|          | 0/2 [00:00<?, ?it/s]"
      ]
     },
     "metadata": {},
     "output_type": "display_data"
    },
    {
     "data": {
      "application/vnd.jupyter.widget-view+json": {
       "model_id": "6036cb908d0f44c1bd2d6c541ddc7cee",
       "version_major": 2,
       "version_minor": 0
      },
      "text/plain": [
       "  0%|          | 0/9 [00:00<?, ?it/s]"
      ]
     },
     "metadata": {},
     "output_type": "display_data"
    },
    {
     "name": "stdout",
     "output_type": "stream",
     "text": [
      "Working on : mar, 20190516.\n"
     ]
    },
    {
     "data": {
      "application/vnd.jupyter.widget-view+json": {
       "model_id": "4fda1cc8483c41269269ccd2ab604408",
       "version_major": 2,
       "version_minor": 0
      },
      "text/plain": [
       "  0%|          | 0/13 [00:00<?, ?it/s]"
      ]
     },
     "metadata": {},
     "output_type": "display_data"
    },
    {
     "name": "stdout",
     "output_type": "stream",
     "text": [
      "For n_clusters = 2 The average silhouette_score is : 0.6219865168763407\n",
      "For n_clusters = 3 The average silhouette_score is : 0.535782834177223\n",
      "For n_clusters = 4 The average silhouette_score is : 0.5360693626824162\n",
      "For n_clusters = 5 The average silhouette_score is : 0.4560535847617118\n",
      "For n_clusters = 6 The average silhouette_score is : 0.45529082978244856\n",
      "For n_clusters = 7 The average silhouette_score is : 0.44623104595368007\n",
      "For n_clusters = 8 The average silhouette_score is : 0.4276467073078296\n",
      "For n_clusters = 9 The average silhouette_score is : 0.39984472497160034\n",
      "For n_clusters = 10 The average silhouette_score is : 0.3944833658664287\n",
      "For n_clusters = 11 The average silhouette_score is : 0.39290037915600995\n",
      "For n_clusters = 12 The average silhouette_score is : 0.3626866522843635\n",
      "For n_clusters = 13 The average silhouette_score is : 0.3537214969510808\n",
      "For n_clusters = 14 The average silhouette_score is : 0.360049558138258\n",
      "Working on : mar, 20190313.\n"
     ]
    },
    {
     "data": {
      "application/vnd.jupyter.widget-view+json": {
       "model_id": "efef8895d808453b93d2e2b3eea2cb5a",
       "version_major": 2,
       "version_minor": 0
      },
      "text/plain": [
       "  0%|          | 0/13 [00:00<?, ?it/s]"
      ]
     },
     "metadata": {},
     "output_type": "display_data"
    },
    {
     "name": "stdout",
     "output_type": "stream",
     "text": [
      "For n_clusters = 2 The average silhouette_score is : 0.557958595647791\n",
      "For n_clusters = 3 The average silhouette_score is : 0.5140648301846097\n",
      "For n_clusters = 4 The average silhouette_score is : 0.5018436513556769\n",
      "For n_clusters = 5 The average silhouette_score is : 0.433979206893076\n",
      "For n_clusters = 6 The average silhouette_score is : 0.417124057365699\n",
      "For n_clusters = 7 The average silhouette_score is : 0.41877526043796687\n",
      "For n_clusters = 8 The average silhouette_score is : 0.3813644990945346\n",
      "For n_clusters = 9 The average silhouette_score is : 0.38298598316290156\n",
      "For n_clusters = 10 The average silhouette_score is : 0.38780357139523025\n",
      "For n_clusters = 11 The average silhouette_score is : 0.3705944933198418\n",
      "For n_clusters = 12 The average silhouette_score is : 0.3651637741592011\n",
      "For n_clusters = 13 The average silhouette_score is : 0.3626901435079943\n",
      "For n_clusters = 14 The average silhouette_score is : 0.364312347054231\n",
      "Working on : mar, 20190205.\n"
     ]
    },
    {
     "data": {
      "application/vnd.jupyter.widget-view+json": {
       "model_id": "e7a09d1b656f4f11b6af410ca655ae01",
       "version_major": 2,
       "version_minor": 0
      },
      "text/plain": [
       "  0%|          | 0/13 [00:00<?, ?it/s]"
      ]
     },
     "metadata": {},
     "output_type": "display_data"
    },
    {
     "name": "stdout",
     "output_type": "stream",
     "text": [
      "For n_clusters = 2 The average silhouette_score is : 0.5864811907668233\n",
      "For n_clusters = 3 The average silhouette_score is : 0.5287826504696901\n",
      "For n_clusters = 4 The average silhouette_score is : 0.5135421029464969\n",
      "For n_clusters = 5 The average silhouette_score is : 0.4307716357147362\n",
      "For n_clusters = 6 The average silhouette_score is : 0.4198951039452866\n",
      "For n_clusters = 7 The average silhouette_score is : 0.4216561839748987\n",
      "For n_clusters = 8 The average silhouette_score is : 0.4048963177852256\n",
      "For n_clusters = 9 The average silhouette_score is : 0.40309220394346107\n",
      "For n_clusters = 10 The average silhouette_score is : 0.3863324302013023\n",
      "For n_clusters = 11 The average silhouette_score is : 0.3797930282754271\n",
      "For n_clusters = 12 The average silhouette_score is : 0.38096229910474133\n",
      "For n_clusters = 13 The average silhouette_score is : 0.38270148296414735\n",
      "For n_clusters = 14 The average silhouette_score is : 0.38101196831610196\n",
      "Working on : mar, 20181211.\n"
     ]
    },
    {
     "data": {
      "application/vnd.jupyter.widget-view+json": {
       "model_id": "6aaaf95f88314604994fbc21f803d0b9",
       "version_major": 2,
       "version_minor": 0
      },
      "text/plain": [
       "  0%|          | 0/13 [00:00<?, ?it/s]"
      ]
     },
     "metadata": {},
     "output_type": "display_data"
    },
    {
     "name": "stdout",
     "output_type": "stream",
     "text": [
      "For n_clusters = 2 The average silhouette_score is : 0.5408421089322027\n",
      "For n_clusters = 3 The average silhouette_score is : 0.5230591336669079\n",
      "For n_clusters = 4 The average silhouette_score is : 0.5212604455141028\n",
      "For n_clusters = 5 The average silhouette_score is : 0.4229400387683722\n",
      "For n_clusters = 6 The average silhouette_score is : 0.45245862927127983\n",
      "For n_clusters = 7 The average silhouette_score is : 0.4483238394769186\n",
      "For n_clusters = 8 The average silhouette_score is : 0.4196417680949735\n",
      "For n_clusters = 9 The average silhouette_score is : 0.40611511715414134\n",
      "For n_clusters = 10 The average silhouette_score is : 0.38659542553842996\n",
      "For n_clusters = 11 The average silhouette_score is : 0.3696055524901218\n",
      "For n_clusters = 12 The average silhouette_score is : 0.37009962399500085\n",
      "For n_clusters = 13 The average silhouette_score is : 0.35527656663572244\n",
      "For n_clusters = 14 The average silhouette_score is : 0.3465435289160837\n",
      "Working on : mar, 20181113.\n"
     ]
    },
    {
     "data": {
      "application/vnd.jupyter.widget-view+json": {
       "model_id": "ca1f1e664339481bb9ab222fa0748bc5",
       "version_major": 2,
       "version_minor": 0
      },
      "text/plain": [
       "  0%|          | 0/13 [00:00<?, ?it/s]"
      ]
     },
     "metadata": {},
     "output_type": "display_data"
    },
    {
     "name": "stdout",
     "output_type": "stream",
     "text": [
      "For n_clusters = 2 The average silhouette_score is : 0.5653353599190023\n",
      "For n_clusters = 3 The average silhouette_score is : 0.48082172651613736\n",
      "For n_clusters = 4 The average silhouette_score is : 0.4739355249881875\n",
      "For n_clusters = 5 The average silhouette_score is : 0.44998542160594424\n",
      "For n_clusters = 6 The average silhouette_score is : 0.46793686792032685\n",
      "For n_clusters = 7 The average silhouette_score is : 0.45141377362406754\n",
      "For n_clusters = 8 The average silhouette_score is : 0.4282875609756635\n",
      "For n_clusters = 9 The average silhouette_score is : 0.41407851845524357\n",
      "For n_clusters = 10 The average silhouette_score is : 0.40718423656045105\n",
      "For n_clusters = 11 The average silhouette_score is : 0.3903647922431344\n",
      "For n_clusters = 12 The average silhouette_score is : 0.3839833647433829\n",
      "For n_clusters = 13 The average silhouette_score is : 0.38065272471925277\n",
      "For n_clusters = 14 The average silhouette_score is : 0.3832072967705472\n",
      "Working on : mar, 20180925.\n"
     ]
    },
    {
     "data": {
      "application/vnd.jupyter.widget-view+json": {
       "model_id": "cd5abf3298a54236b82d191d650d192f",
       "version_major": 2,
       "version_minor": 0
      },
      "text/plain": [
       "  0%|          | 0/13 [00:00<?, ?it/s]"
      ]
     },
     "metadata": {},
     "output_type": "display_data"
    },
    {
     "name": "stdout",
     "output_type": "stream",
     "text": [
      "For n_clusters = 2 The average silhouette_score is : 0.5781993163219185\n",
      "For n_clusters = 3 The average silhouette_score is : 0.5170856406873439\n",
      "For n_clusters = 4 The average silhouette_score is : 0.48466929384434043\n",
      "For n_clusters = 5 The average silhouette_score is : 0.4373504056027659\n",
      "For n_clusters = 6 The average silhouette_score is : 0.39375906953445383\n",
      "For n_clusters = 7 The average silhouette_score is : 0.38864190848914665\n",
      "For n_clusters = 8 The average silhouette_score is : 0.4035256487664215\n",
      "For n_clusters = 9 The average silhouette_score is : 0.3798356038299367\n",
      "For n_clusters = 10 The average silhouette_score is : 0.37962054426443537\n",
      "For n_clusters = 11 The average silhouette_score is : 0.3644375001522226\n",
      "For n_clusters = 12 The average silhouette_score is : 0.3558265298038209\n",
      "For n_clusters = 13 The average silhouette_score is : 0.34528697717595713\n",
      "For n_clusters = 14 The average silhouette_score is : 0.35004508855406896\n",
      "Working on : mar, 20180727.\n"
     ]
    },
    {
     "data": {
      "application/vnd.jupyter.widget-view+json": {
       "model_id": "c0fa68f33c864e5e88f8739613aeb8a7",
       "version_major": 2,
       "version_minor": 0
      },
      "text/plain": [
       "  0%|          | 0/13 [00:00<?, ?it/s]"
      ]
     },
     "metadata": {},
     "output_type": "display_data"
    },
    {
     "name": "stdout",
     "output_type": "stream",
     "text": [
      "For n_clusters = 2 The average silhouette_score is : 0.5803251747670938\n",
      "For n_clusters = 3 The average silhouette_score is : 0.48850610227959923\n",
      "For n_clusters = 4 The average silhouette_score is : 0.4772654299979584\n",
      "For n_clusters = 5 The average silhouette_score is : 0.4135001777584117\n",
      "For n_clusters = 6 The average silhouette_score is : 0.38283314263428714\n",
      "For n_clusters = 7 The average silhouette_score is : 0.3755827513627956\n",
      "For n_clusters = 8 The average silhouette_score is : 0.3486272625814806\n",
      "For n_clusters = 9 The average silhouette_score is : 0.3367906257895182\n",
      "For n_clusters = 10 The average silhouette_score is : 0.3273888373123684\n",
      "For n_clusters = 11 The average silhouette_score is : 0.30071888963336296\n",
      "For n_clusters = 12 The average silhouette_score is : 0.3219840164575009\n",
      "For n_clusters = 13 The average silhouette_score is : 0.3222155159146202\n",
      "For n_clusters = 14 The average silhouette_score is : 0.307958370621084\n",
      "Working on : mar, 20180621.\n"
     ]
    },
    {
     "data": {
      "application/vnd.jupyter.widget-view+json": {
       "model_id": "42e9cdf26c7546e6aaca40b11746c332",
       "version_major": 2,
       "version_minor": 0
      },
      "text/plain": [
       "  0%|          | 0/13 [00:00<?, ?it/s]"
      ]
     },
     "metadata": {},
     "output_type": "display_data"
    },
    {
     "name": "stdout",
     "output_type": "stream",
     "text": [
      "For n_clusters = 2 The average silhouette_score is : 0.5439589764752933\n",
      "For n_clusters = 3 The average silhouette_score is : 0.4387708619085413\n",
      "For n_clusters = 4 The average silhouette_score is : 0.4501935908699898\n",
      "For n_clusters = 5 The average silhouette_score is : 0.3963414382040067\n",
      "For n_clusters = 6 The average silhouette_score is : 0.41807731086369254\n",
      "For n_clusters = 7 The average silhouette_score is : 0.3871968978951222\n",
      "For n_clusters = 8 The average silhouette_score is : 0.37393061831106983\n",
      "For n_clusters = 9 The average silhouette_score is : 0.3443142601476958\n",
      "For n_clusters = 10 The average silhouette_score is : 0.3585650473719073\n",
      "For n_clusters = 11 The average silhouette_score is : 0.35570748604269775\n",
      "For n_clusters = 12 The average silhouette_score is : 0.3575633171508779\n",
      "For n_clusters = 13 The average silhouette_score is : 0.37087632012718563\n",
      "For n_clusters = 14 The average silhouette_score is : 0.3795271430686032\n",
      "Working on : mar, 20180601.\n"
     ]
    },
    {
     "data": {
      "application/vnd.jupyter.widget-view+json": {
       "model_id": "537b3ca87f56485c88b1914368ff045c",
       "version_major": 2,
       "version_minor": 0
      },
      "text/plain": [
       "  0%|          | 0/13 [00:00<?, ?it/s]"
      ]
     },
     "metadata": {},
     "output_type": "display_data"
    },
    {
     "name": "stdout",
     "output_type": "stream",
     "text": [
      "For n_clusters = 2 The average silhouette_score is : 0.48270415311106846\n",
      "For n_clusters = 3 The average silhouette_score is : 0.3772084152830261\n",
      "For n_clusters = 4 The average silhouette_score is : 0.38234628609235827\n",
      "For n_clusters = 5 The average silhouette_score is : 0.38128225187445997\n",
      "For n_clusters = 6 The average silhouette_score is : 0.36428432858349613\n",
      "For n_clusters = 7 The average silhouette_score is : 0.36240034713437685\n",
      "For n_clusters = 8 The average silhouette_score is : 0.3701424025696913\n",
      "For n_clusters = 9 The average silhouette_score is : 0.37175207788683484\n",
      "For n_clusters = 10 The average silhouette_score is : 0.37676977350569846\n",
      "For n_clusters = 11 The average silhouette_score is : 0.37582649170780724\n",
      "For n_clusters = 12 The average silhouette_score is : 0.3619596723553155\n",
      "For n_clusters = 13 The average silhouette_score is : 0.360705274650356\n",
      "For n_clusters = 14 The average silhouette_score is : 0.3549151019500089\n"
     ]
    },
    {
     "data": {
      "application/vnd.jupyter.widget-view+json": {
       "model_id": "6c45bd624dbc49a99546eb30abc1d9c4",
       "version_major": 2,
       "version_minor": 0
      },
      "text/plain": [
       "  0%|          | 0/6 [00:00<?, ?it/s]"
      ]
     },
     "metadata": {},
     "output_type": "display_data"
    },
    {
     "name": "stdout",
     "output_type": "stream",
     "text": [
      "Working on : leo, 20190731.\n"
     ]
    },
    {
     "data": {
      "application/vnd.jupyter.widget-view+json": {
       "model_id": "71209053f0c24d569e9e866913513dc7",
       "version_major": 2,
       "version_minor": 0
      },
      "text/plain": [
       "  0%|          | 0/13 [00:00<?, ?it/s]"
      ]
     },
     "metadata": {},
     "output_type": "display_data"
    },
    {
     "name": "stdout",
     "output_type": "stream",
     "text": [
      "For n_clusters = 2 The average silhouette_score is : 0.3899198233106219\n",
      "For n_clusters = 3 The average silhouette_score is : 0.5071438060156596\n",
      "For n_clusters = 4 The average silhouette_score is : 0.47005119135652856\n",
      "For n_clusters = 5 The average silhouette_score is : 0.4481907289981238\n",
      "For n_clusters = 6 The average silhouette_score is : 0.42502882450684076\n",
      "For n_clusters = 7 The average silhouette_score is : 0.4011433092740131\n",
      "For n_clusters = 8 The average silhouette_score is : 0.38998808479733066\n",
      "For n_clusters = 9 The average silhouette_score is : 0.38559916622535073\n",
      "For n_clusters = 10 The average silhouette_score is : 0.38736594985557654\n",
      "For n_clusters = 11 The average silhouette_score is : 0.3788805356672864\n",
      "For n_clusters = 12 The average silhouette_score is : 0.37132878563783606\n",
      "For n_clusters = 13 The average silhouette_score is : 0.3728000521740459\n",
      "For n_clusters = 14 The average silhouette_score is : 0.37291633707910765\n",
      "Working on : leo, 20190328.\n"
     ]
    },
    {
     "data": {
      "application/vnd.jupyter.widget-view+json": {
       "model_id": "1913a832a6254b60aa3f585d6c12ea10",
       "version_major": 2,
       "version_minor": 0
      },
      "text/plain": [
       "  0%|          | 0/13 [00:00<?, ?it/s]"
      ]
     },
     "metadata": {},
     "output_type": "display_data"
    },
    {
     "name": "stdout",
     "output_type": "stream",
     "text": [
      "For n_clusters = 2 The average silhouette_score is : 0.3988524141238273\n",
      "For n_clusters = 3 The average silhouette_score is : 0.4304685615621422\n",
      "For n_clusters = 4 The average silhouette_score is : 0.431227035737659\n",
      "For n_clusters = 5 The average silhouette_score is : 0.4509750902886234\n",
      "For n_clusters = 6 The average silhouette_score is : 0.42012497505273527\n",
      "For n_clusters = 7 The average silhouette_score is : 0.4094032569946379\n",
      "For n_clusters = 8 The average silhouette_score is : 0.42729379253757904\n",
      "For n_clusters = 9 The average silhouette_score is : 0.41690585873078206\n",
      "For n_clusters = 10 The average silhouette_score is : 0.4226788217215935\n",
      "For n_clusters = 11 The average silhouette_score is : 0.41351261817558693\n",
      "For n_clusters = 12 The average silhouette_score is : 0.4087415403998031\n",
      "For n_clusters = 13 The average silhouette_score is : 0.38543846003780563\n",
      "For n_clusters = 14 The average silhouette_score is : 0.3783301865582882\n",
      "Working on : leo, 20190211.\n"
     ]
    },
    {
     "data": {
      "application/vnd.jupyter.widget-view+json": {
       "model_id": "ad2ef675aedf49b3a24a64c10c5229c5",
       "version_major": 2,
       "version_minor": 0
      },
      "text/plain": [
       "  0%|          | 0/13 [00:00<?, ?it/s]"
      ]
     },
     "metadata": {},
     "output_type": "display_data"
    },
    {
     "name": "stdout",
     "output_type": "stream",
     "text": [
      "For n_clusters = 2 The average silhouette_score is : 0.3811803323084047\n",
      "For n_clusters = 3 The average silhouette_score is : 0.48727929000883047\n",
      "For n_clusters = 4 The average silhouette_score is : 0.44313687819005354\n",
      "For n_clusters = 5 The average silhouette_score is : 0.45097582364485633\n",
      "For n_clusters = 6 The average silhouette_score is : 0.4320727369612193\n",
      "For n_clusters = 7 The average silhouette_score is : 0.4166514336483687\n",
      "For n_clusters = 8 The average silhouette_score is : 0.39445247084076124\n",
      "For n_clusters = 9 The average silhouette_score is : 0.3718047003108205\n",
      "For n_clusters = 10 The average silhouette_score is : 0.36905766574894283\n",
      "For n_clusters = 11 The average silhouette_score is : 0.3723670925736636\n",
      "For n_clusters = 12 The average silhouette_score is : 0.35518841237259613\n",
      "For n_clusters = 13 The average silhouette_score is : 0.35415290301652735\n",
      "For n_clusters = 14 The average silhouette_score is : 0.33383141602938693\n",
      "Working on : leo, 20180920.\n"
     ]
    },
    {
     "data": {
      "application/vnd.jupyter.widget-view+json": {
       "model_id": "637061549c8a4e6a96a78b4dc219f84e",
       "version_major": 2,
       "version_minor": 0
      },
      "text/plain": [
       "  0%|          | 0/13 [00:00<?, ?it/s]"
      ]
     },
     "metadata": {},
     "output_type": "display_data"
    },
    {
     "name": "stdout",
     "output_type": "stream",
     "text": [
      "For n_clusters = 2 The average silhouette_score is : 0.4039166622963731\n",
      "For n_clusters = 3 The average silhouette_score is : 0.4367493135688848\n",
      "For n_clusters = 4 The average silhouette_score is : 0.42434419318841404\n",
      "For n_clusters = 5 The average silhouette_score is : 0.4443994359362926\n",
      "For n_clusters = 6 The average silhouette_score is : 0.4175864662989779\n",
      "For n_clusters = 7 The average silhouette_score is : 0.38860870508958795\n",
      "For n_clusters = 8 The average silhouette_score is : 0.38880003508342514\n",
      "For n_clusters = 9 The average silhouette_score is : 0.3830287983992327\n",
      "For n_clusters = 10 The average silhouette_score is : 0.37353163965128733\n",
      "For n_clusters = 11 The average silhouette_score is : 0.36620965721819637\n",
      "For n_clusters = 12 The average silhouette_score is : 0.3536600836899299\n",
      "For n_clusters = 13 The average silhouette_score is : 0.3585083805642395\n",
      "For n_clusters = 14 The average silhouette_score is : 0.35672016047028215\n",
      "Working on : leo, 20180713.\n"
     ]
    },
    {
     "data": {
      "application/vnd.jupyter.widget-view+json": {
       "model_id": "47aaeda4c5884b7aa91704e1c6b573e6",
       "version_major": 2,
       "version_minor": 0
      },
      "text/plain": [
       "  0%|          | 0/13 [00:00<?, ?it/s]"
      ]
     },
     "metadata": {},
     "output_type": "display_data"
    },
    {
     "name": "stdout",
     "output_type": "stream",
     "text": [
      "For n_clusters = 2 The average silhouette_score is : 0.49629965872244686\n",
      "For n_clusters = 3 The average silhouette_score is : 0.5092406492417487\n",
      "For n_clusters = 4 The average silhouette_score is : 0.46159478658042724\n",
      "For n_clusters = 5 The average silhouette_score is : 0.4488595142176017\n",
      "For n_clusters = 6 The average silhouette_score is : 0.4183623304561938\n",
      "For n_clusters = 7 The average silhouette_score is : 0.39004221840210485\n",
      "For n_clusters = 8 The average silhouette_score is : 0.3842278112748862\n",
      "For n_clusters = 9 The average silhouette_score is : 0.36304035595403583\n",
      "For n_clusters = 10 The average silhouette_score is : 0.3463760386521644\n",
      "For n_clusters = 11 The average silhouette_score is : 0.34841430296451464\n",
      "For n_clusters = 12 The average silhouette_score is : 0.3460546307634773\n",
      "For n_clusters = 13 The average silhouette_score is : 0.34457917043266856\n",
      "For n_clusters = 14 The average silhouette_score is : 0.3318667826222712\n",
      "Working on : leo, 20180606.\n"
     ]
    },
    {
     "data": {
      "application/vnd.jupyter.widget-view+json": {
       "model_id": "88a29b507fe942d49dbc7924792d049b",
       "version_major": 2,
       "version_minor": 0
      },
      "text/plain": [
       "  0%|          | 0/13 [00:00<?, ?it/s]"
      ]
     },
     "metadata": {},
     "output_type": "display_data"
    },
    {
     "name": "stdout",
     "output_type": "stream",
     "text": [
      "For n_clusters = 2 The average silhouette_score is : 0.4012079287817844\n",
      "For n_clusters = 3 The average silhouette_score is : 0.4563078554750914\n",
      "For n_clusters = 4 The average silhouette_score is : 0.40640166442880776\n",
      "For n_clusters = 5 The average silhouette_score is : 0.4001757072050638\n",
      "For n_clusters = 6 The average silhouette_score is : 0.3890044660503746\n",
      "For n_clusters = 7 The average silhouette_score is : 0.3716889344520391\n",
      "For n_clusters = 8 The average silhouette_score is : 0.36600629265911533\n",
      "For n_clusters = 9 The average silhouette_score is : 0.3503569988098764\n",
      "For n_clusters = 10 The average silhouette_score is : 0.34651080656561367\n",
      "For n_clusters = 11 The average silhouette_score is : 0.34322073624826754\n",
      "For n_clusters = 12 The average silhouette_score is : 0.3439561998875081\n",
      "For n_clusters = 13 The average silhouette_score is : 0.347961415981389\n",
      "For n_clusters = 14 The average silhouette_score is : 0.33782737875946023\n"
     ]
    }
   ],
   "source": [
    "# Run interatively KMeans + SA using the feature_set provided\n",
    "#feel free to add \n",
    "\n",
    "feature_set=[\"band1\",\"band2\",\"band3\",\"distance\"]\n",
    "sil_df=get_sil_location(P.profiles,\n",
    "                        ks=(2,15), \n",
    "                        feature_set=feature_set,\n",
    "                       random_state=10)"
   ]
  },
  {
   "cell_type": "markdown",
   "id": "a1aad931",
   "metadata": {},
   "source": [
    "Find sub-optimal k by searching inflexion points where an additional cluster do not considerably degrade the overall clustering performance."
   ]
  },
  {
   "cell_type": "code",
   "execution_count": 8,
   "id": "b75a456a",
   "metadata": {},
   "outputs": [
    {
     "data": {
      "text/plain": [
       "{'leo_20180606': 11,\n",
       " 'leo_20180713': 10,\n",
       " 'leo_20180920': 4,\n",
       " 'leo_20190211': 4,\n",
       " 'leo_20190328': 7,\n",
       " 'leo_20190731': 9,\n",
       " 'mar_20180601': 3,\n",
       " 'mar_20180621': 3,\n",
       " 'mar_20180727': 11,\n",
       " 'mar_20180925': 7,\n",
       " 'mar_20181113': 5,\n",
       " 'mar_20181211': 5,\n",
       " 'mar_20190205': 6,\n",
       " 'mar_20190313': 6,\n",
       " 'mar_20190516': 3}"
      ]
     },
     "execution_count": 8,
     "metadata": {},
     "output_type": "execute_result"
    }
   ],
   "source": [
    "opt_k=get_opt_k(sil_df, sigma=0 )\n",
    "opt_k"
   ]
  },
  {
   "cell_type": "markdown",
   "id": "c851a6df",
   "metadata": {},
   "source": [
    "If we are not satisfied with the sub-optimal k returned by the algorithm, we can manually specify each survey k\n",
    "by defining a dictionary."
   ]
  },
  {
   "cell_type": "code",
   "execution_count": null,
   "id": "a540d094",
   "metadata": {},
   "outputs": [],
   "source": [
    "# Based on our observations on a dataset comprising 87 surveys, 10 clusters (k=10) is generally a good tradeoff.\n",
    "\n",
    "opt_k={'leo_20180606': 10,\n",
    " 'leo_20180713': 10,\n",
    " 'leo_20180920': 10,\n",
    " 'leo_20190211': 10,\n",
    " 'leo_20190328': 10,\n",
    " 'leo_20190731': 10,\n",
    " 'mar_20180601': 10,\n",
    " 'mar_20180621': 10,\n",
    " 'mar_20180727': 10,\n",
    " 'mar_20180925': 10,\n",
    " 'mar_20181113': 10,\n",
    " 'mar_20181211': 10,\n",
    " 'mar_20190205': 10,\n",
    " 'mar_20190313': 10,\n",
    " 'mar_20190516': 10}"
   ]
  },
  {
   "cell_type": "markdown",
   "id": "53fb1e68",
   "metadata": {},
   "source": [
    "or, update one value only. For instance, in mar_2019-05-16 dataset, it is unlikely that 3 clusters are enough.<br>\n",
    "So, we replace only that value with 10."
   ]
  },
  {
   "cell_type": "code",
   "execution_count": 9,
   "id": "2cdfb9ba",
   "metadata": {},
   "outputs": [
    {
     "data": {
      "application/vnd.jupyter.widget-view+json": {
       "model_id": "d6b72d92723c4538a6d9570cd09a85c1",
       "version_major": 2,
       "version_minor": 0
      },
      "text/plain": [
       "  0%|          | 0/2 [00:00<?, ?it/s]"
      ]
     },
     "metadata": {},
     "output_type": "display_data"
    },
    {
     "data": {
      "application/vnd.jupyter.widget-view+json": {
       "model_id": "376fd00f955a4935b3fcfa85b26f0271",
       "version_major": 2,
       "version_minor": 0
      },
      "text/plain": [
       "  0%|          | 0/9 [00:00<?, ?it/s]"
      ]
     },
     "metadata": {},
     "output_type": "display_data"
    },
    {
     "data": {
      "application/vnd.jupyter.widget-view+json": {
       "model_id": "d0a40e373e0142fa8331fb1303ac8e91",
       "version_major": 2,
       "version_minor": 0
      },
      "text/plain": [
       "  0%|          | 0/6 [00:00<?, ?it/s]"
      ]
     },
     "metadata": {},
     "output_type": "display_data"
    }
   ],
   "source": [
    "feature_set=[\"band1\",\"band2\",\"band3\",\"distance\"]\n",
    "\n",
    "P.kmeans_sa(opt_k,feature_set)"
   ]
  },
  {
   "cell_type": "markdown",
   "id": "9469cc1e",
   "metadata": {},
   "source": [
    "DONE! Now, the profile dataframe attribute has an additional column named __label_k__, which is the result of the survey specific KMeans algorithm."
   ]
  },
  {
   "cell_type": "markdown",
   "id": "c6d77d6d",
   "metadata": {},
   "source": [
    "Now that we have labelled the data points, we need to:\n",
    "1. export the dataframe as csv\n",
    "2. import it into your favourite GIS and use the __coordinates__ column as geometry\n",
    "3. using the filtering options, visualise only one survey at a time and assign one color per unique label_k value\n",
    "4. overlay these points on the orthophoto of the survey they were extracted from\n",
    "5. take notes of which label_k number is what class (sand, no_sand at least)\n",
    "6. create the label corrections file (polygons), following the specifications descirbed in the previous notebook."
   ]
  },
  {
   "cell_type": "markdown",
   "id": "c3825193",
   "metadata": {},
   "source": [
    "## Sand labeling and cleaning"
   ]
  },
  {
   "cell_type": "markdown",
   "id": "36ab27e4",
   "metadata": {},
   "source": [
    "Here below I provided the classes dictionaries of the demo data clustering results.\n",
    "\n",
    "Each class has its own dictionary. The keys store the survey identifier tag ('LocCode_yyyymmdd') and the values are lists of label_k associated with the dictionary class.\n",
    "\n",
    "For instance in this example:\n",
    "\n",
    "```python\n",
    "sand_dict = {'leo_20180606':[5],\n",
    "            'leo_20180713':[1,3,4],\n",
    "            'mar_20180920':[]}\n",
    "            \n",
    "water_dict = {'leo_20180606':[4],\n",
    "            'leo_20180713':[2,6],\n",
    "            'mar_20180920':[1,2,3,4]}\n",
    "```\n",
    "\n",
    "In the St. Leonards survey of the 13th July 2018, the label_k 1,3 and 4 are sand, while the label_k 2 and 6 are water.\n",
    "In Marengo, the 20th September 2018, no label_k represents sand while 1,2,3 and 4 are water.\n",
    "\n",
    "Here below are reported the label dictionaries of the demo data."
   ]
  },
  {
   "cell_type": "code",
   "execution_count": 12,
   "id": "f1b757b8",
   "metadata": {},
   "outputs": [],
   "source": [
    "water_dict={'leo_20180606':[0,9,10],\n",
    "'leo_20180713':[0,3,4,7],\n",
    "'leo_20180920':[0,2,6,7],\n",
    "'leo_20190211':[0,2,5],\n",
    "'leo_20190328':[2,4,5],\n",
    "'leo_20190731':[0,2,8,6],\n",
    "'mar_20180601':[1,6],\n",
    "'mar_20180621':[4,6],\n",
    "'mar_20180727':[0,5,9,10],\n",
    "'mar_20180925':[6],\n",
    "'mar_20181113':[1],\n",
    "'mar_20181211':[4],\n",
    "'mar_20190205':[],\n",
    "'mar_20190313':[],\n",
    "'mar_20190516':[4,7]}\n",
    "\n",
    "no_sand_dict={'leo_20180606':[5],\n",
    "'leo_20180713':[],\n",
    "'leo_20180920':[],\n",
    "'leo_20190211':[1],\n",
    "'leo_20190328':[],\n",
    "'leo_20190731':[1],\n",
    "'mar_20180601':[4,5],\n",
    "'mar_20180621':[3,5],\n",
    "'mar_20180727':[4,7],\n",
    "'mar_20180925':[5],\n",
    "'mar_20181113':[0],\n",
    "'mar_20181211':[0],\n",
    "'mar_20190205':[0,5],\n",
    "'mar_20190313':[4],\n",
    "'mar_20190516':[2,5]}\n",
    "\n",
    "veg_dict={'leo_20180606':[1,3,7,8],\n",
    "'leo_20180713':[1,5,9],\n",
    "'leo_20180920':[1,4,5],\n",
    "'leo_20190211':[4],\n",
    "'leo_20190328':[0,1,6],\n",
    "'leo_20190731':[3,7],\n",
    "'mar_20180601':[0,7],\n",
    "'mar_20180621':[1,7],\n",
    "'mar_20180727':[1,3],\n",
    "'mar_20180925':[1,3],\n",
    "'mar_20181113':[3],\n",
    "'mar_20181211':[2],\n",
    "'mar_20190205':[3],\n",
    "'mar_20190313':[1,5],\n",
    "'mar_20190516':[0]}\n",
    "\n",
    "sand_dict={'leo_20180606':[2,4,6],\n",
    "'leo_20180713':[2,6,8],\n",
    "'leo_20180920':[3],\n",
    "'leo_20190211':[3],\n",
    "'leo_20190328':[3],\n",
    "'leo_20190731':[4,5],\n",
    "'mar_20180601':[2,3],\n",
    "'mar_20180621':[0,2],\n",
    "'mar_20180727':[2,6,8],\n",
    "'mar_20180925':[0,4,2],\n",
    "'mar_20181113':[2,4],\n",
    "'mar_20181211':[3,1],\n",
    "'mar_20190205':[1,2,4],\n",
    "'mar_20190313':[0,2,3],\n",
    "'mar_20190516':[1,3,6]}"
   ]
  },
  {
   "cell_type": "markdown",
   "id": "b5418be7",
   "metadata": {},
   "source": [
    "Now that we have each class dictionary, let's put all of those in another dictionary in order to specify the name of the class.\n",
    "Like this:"
   ]
  },
  {
   "cell_type": "code",
   "execution_count": 13,
   "id": "9faac7bb",
   "metadata": {},
   "outputs": [],
   "source": [
    "l_dicts={'no_sand': no_sand_dict,\n",
    "         'sand': sand_dict,\n",
    "        'water': water_dict,\n",
    "        'veg':veg_dict}"
   ]
  },
  {
   "cell_type": "markdown",
   "id": "003b0935",
   "metadata": {},
   "source": [
    "Now, let's provide the paths to the geopackages (preferred, but also shapefiles are accepted) containing the label corrections, the watermasks and the shoremasks."
   ]
  },
  {
   "cell_type": "code",
   "execution_count": 14,
   "id": "5e509dae",
   "metadata": {},
   "outputs": [],
   "source": [
    "label_corrections_path=r\"C:\\my_packages\\sandpyper\\examples\\test_data\\clean\\label_corrections.gpkg\"\n",
    "watermasks_path=r\"C:\\my_packages\\sandpyper\\examples\\test_data\\clean\\watermasks.gpkg\"\n",
    "shoremasks_path=r\"C:\\my_packages\\sandpyper\\examples\\test_data\\clean\\shoremasks.gpkg\""
   ]
  },
  {
   "cell_type": "markdown",
   "id": "ce4f004b",
   "metadata": {},
   "source": [
    "All set!\n",
    "\n",
    "Now we are ready to use the __.cleanit method__ to:\n",
    "\n",
    "1. classify each point using the dictionaries provided\n",
    "2. fine-tuning the label_k using the label correction polygons provided\n",
    "3. eliminate water/swash points using the watermasks provided\n",
    "4. clip to the shore area using the shoremasks provided\n"
   ]
  },
  {
   "cell_type": "code",
   "execution_count": 15,
   "id": "24dd7cfd",
   "metadata": {
    "scrolled": true
   },
   "outputs": [
    {
     "name": "stdout",
     "output_type": "stream",
     "text": [
      "Reclassifying dataset with the provided dictionaries.\n",
      "Label corrections provided in CRS: epsg:32754\n",
      "Fine tuning in leo.\n"
     ]
    },
    {
     "name": "stderr",
     "output_type": "stream",
     "text": [
      "C:\\conda3\\envs\\sandpyper_env\\lib\\site-packages\\geopandas\\geodataframe.py:422: RuntimeWarning: Sequential read of iterator was interrupted. Resetting iterator. This can negatively impact the performance.\n",
      "  for feature in features_lst:\n"
     ]
    },
    {
     "data": {
      "application/vnd.jupyter.widget-view+json": {
       "model_id": "07fa2fef07c74c439b5741afb57a5ec2",
       "version_major": 2,
       "version_minor": 0
      },
      "text/plain": [
       "  0%|          | 0/6 [00:00<?, ?it/s]"
      ]
     },
     "metadata": {},
     "output_type": "display_data"
    },
    {
     "name": "stdout",
     "output_type": "stream",
     "text": [
      "Fine-tuning label_k 3 to no_sand in leo-20180606, found 127 pts.\n",
      "Fine-tuning label_k 8 to no_sand in leo-20180606, found 73 pts.\n",
      "Fine-tuning label_k 5 to no_sand in leo-20180713, found 56 pts.\n",
      "Fine-tuning label_k 6 to no_sand in leo-20180713, found 7 pts.\n",
      "Fine-tuning label_k 1 to no_sand in leo-20180920, found 89 pts.\n",
      "Fine-tuning label_k 2 to sand in leo-20180920, found 9 pts.\n",
      "Fine-tuning label_k 2 to veg in leo-20180920, found 31 pts.\n",
      "Fine-tuning label_k 6 to sand in leo-20180920, found 17 pts.\n",
      "Fine-tuning label_k 2 to veg in leo-20190211, found 2 pts.\n",
      "Fine-tuning label_k 6 to veg in leo-20190211, found 29 pts.\n",
      "Fine-tuning label_k 6 to no_sand in leo-20190211, found 2 pts.\n",
      "Fine-tuning label_k 6 to veg in leo-20190211, found 6 pts.\n",
      "Fine-tuning label_k 6 to sand in leo-20190211, found 28 pts.\n",
      "Fine-tuning label_k 7 to no_sand in leo-20190211, found 41 pts.\n",
      "Fine-tuning label_k 0 to sand in leo-20190328, found 6 pts.\n",
      "Fine-tuning label_k 0 to no_sand in leo-20190328, found 52 pts.\n",
      "Fine-tuning label_k 1 to sand in leo-20190328, found 21 pts.\n",
      "Fine-tuning label_k 1 to no_sand in leo-20190328, found 2 pts.\n",
      "Fine-tuning label_k 2 to sand in leo-20190328, found 16 pts.\n",
      "Fine-tuning label_k 4 to sand in leo-20190328, found 25 pts.\n",
      "Fine-tuning label_k 5 to veg in leo-20190328, found 3 pts.\n",
      "Fine-tuning label_k 1 to sand in leo-20190731, found 5 pts.\n",
      "Fine-tuning label_k 3 to no_sand in leo-20190731, found 11 pts.\n",
      "Fine-tuning label_k 7 to no_sand in leo-20190731, found 72 pts.\n",
      "Fine-tuning label_k 6 to sand in leo-20190731, found 25 pts.\n",
      "Fine-tuning label_k 6 to veg in leo-20190731, found 42 pts.\n",
      "Fine tuning in mar.\n"
     ]
    },
    {
     "data": {
      "application/vnd.jupyter.widget-view+json": {
       "model_id": "5a80af0421984a7081084f5f8ea9038c",
       "version_major": 2,
       "version_minor": 0
      },
      "text/plain": [
       "  0%|          | 0/6 [00:00<?, ?it/s]"
      ]
     },
     "metadata": {},
     "output_type": "display_data"
    },
    {
     "name": "stdout",
     "output_type": "stream",
     "text": [
      "Fine-tuning label_k 3 to water in mar-20180601, found 163 pts.\n",
      "Fine-tuning label_k 7 to no_sand in mar-20180601, found 15 pts.\n",
      "Fine-tuning label_k 7 to sand in mar-20180601, found 53 pts.\n",
      "Fine-tuning label_k 1 to sand in mar-20180621, found 48 pts.\n",
      "Fine-tuning label_k 3 to sand in mar-20180621, found 42 pts.\n",
      "Fine-tuning label_k 2 to water in mar-20180727, found 98 pts.\n",
      "Fine-tuning label_k 4 to sand in mar-20180727, found 29 pts.\n",
      "Fine-tuning label_k 2 to no_sand in mar-20181211, found 45 pts.\n",
      "Fine-tuning label_k 1 to water in mar-20181211, found 149 pts.\n",
      "Fine-tuning label_k 2 to water in mar-20190205, found 304 pts.\n",
      "Fine-tuning label_k 3 to no_sand in mar-20190205, found 23 pts.\n",
      "Fine-tuning label_k 2 to water in mar-20190313, found 100 pts.\n",
      "Fine-tuning label_k 5 to no_sand in mar-20190313, found 77 pts.\n",
      "watermask  provided in CRS: epsg:32754\n",
      "Applying watermasks cleaning.\n",
      "Watermasking in mar.\n"
     ]
    },
    {
     "name": "stderr",
     "output_type": "stream",
     "text": [
      "C:\\conda3\\envs\\sandpyper_env\\lib\\site-packages\\geopandas\\geodataframe.py:422: RuntimeWarning: Sequential read of iterator was interrupted. Resetting iterator. This can negatively impact the performance.\n",
      "  for feature in features_lst:\n"
     ]
    },
    {
     "data": {
      "application/vnd.jupyter.widget-view+json": {
       "model_id": "4b46fae1e03d4ad184265af16846c48d",
       "version_major": 2,
       "version_minor": 0
      },
      "text/plain": [
       "  0%|          | 0/9 [00:00<?, ?it/s]"
      ]
     },
     "metadata": {},
     "output_type": "display_data"
    },
    {
     "name": "stderr",
     "output_type": "stream",
     "text": [
      "C:\\conda3\\envs\\sandpyper_env\\lib\\site-packages\\geopandas\\base.py:39: UserWarning: The indices of the two GeoSeries are different.\n",
      "  warn(\"The indices of the two GeoSeries are different.\")\n",
      "C:\\conda3\\envs\\sandpyper_env\\lib\\site-packages\\geopandas\\geodataframe.py:828: UserWarning: Boolean Series key will be reindexed to match DataFrame index.\n",
      "  result = super(GeoDataFrame, self).__getitem__(key)\n",
      "C:\\conda3\\envs\\sandpyper_env\\lib\\site-packages\\pyproj\\crs\\crs.py:53: FutureWarning: '+init=<authority>:<code>' syntax is deprecated. '<authority>:<code>' is the preferred initialization method. When making the change, be mindful of axis order changes: https://pyproj4.github.io/pyproj/stable/gotchas.html#axis-order-changes-in-proj-6\n",
      "  return _prepare_from_string(\" \".join(pjargs))\n",
      "C:\\conda3\\envs\\sandpyper_env\\lib\\site-packages\\geopandas\\base.py:39: UserWarning: The indices of the two GeoSeries are different.\n",
      "  warn(\"The indices of the two GeoSeries are different.\")\n",
      "C:\\conda3\\envs\\sandpyper_env\\lib\\site-packages\\geopandas\\geodataframe.py:828: UserWarning: Boolean Series key will be reindexed to match DataFrame index.\n",
      "  result = super(GeoDataFrame, self).__getitem__(key)\n",
      "C:\\conda3\\envs\\sandpyper_env\\lib\\site-packages\\pyproj\\crs\\crs.py:53: FutureWarning: '+init=<authority>:<code>' syntax is deprecated. '<authority>:<code>' is the preferred initialization method. When making the change, be mindful of axis order changes: https://pyproj4.github.io/pyproj/stable/gotchas.html#axis-order-changes-in-proj-6\n",
      "  return _prepare_from_string(\" \".join(pjargs))\n"
     ]
    },
    {
     "name": "stdout",
     "output_type": "stream",
     "text": [
      "Setting to water 750 pts overlapping provided watermasks.\n",
      "Setting to water 532 pts overlapping provided watermasks.\n"
     ]
    },
    {
     "name": "stderr",
     "output_type": "stream",
     "text": [
      "C:\\conda3\\envs\\sandpyper_env\\lib\\site-packages\\geopandas\\base.py:39: UserWarning: The indices of the two GeoSeries are different.\n",
      "  warn(\"The indices of the two GeoSeries are different.\")\n",
      "C:\\conda3\\envs\\sandpyper_env\\lib\\site-packages\\geopandas\\geodataframe.py:828: UserWarning: Boolean Series key will be reindexed to match DataFrame index.\n",
      "  result = super(GeoDataFrame, self).__getitem__(key)\n",
      "C:\\conda3\\envs\\sandpyper_env\\lib\\site-packages\\pyproj\\crs\\crs.py:53: FutureWarning: '+init=<authority>:<code>' syntax is deprecated. '<authority>:<code>' is the preferred initialization method. When making the change, be mindful of axis order changes: https://pyproj4.github.io/pyproj/stable/gotchas.html#axis-order-changes-in-proj-6\n",
      "  return _prepare_from_string(\" \".join(pjargs))\n",
      "C:\\conda3\\envs\\sandpyper_env\\lib\\site-packages\\geopandas\\base.py:39: UserWarning: The indices of the two GeoSeries are different.\n",
      "  warn(\"The indices of the two GeoSeries are different.\")\n",
      "C:\\conda3\\envs\\sandpyper_env\\lib\\site-packages\\geopandas\\geodataframe.py:828: UserWarning: Boolean Series key will be reindexed to match DataFrame index.\n",
      "  result = super(GeoDataFrame, self).__getitem__(key)\n",
      "C:\\conda3\\envs\\sandpyper_env\\lib\\site-packages\\pyproj\\crs\\crs.py:53: FutureWarning: '+init=<authority>:<code>' syntax is deprecated. '<authority>:<code>' is the preferred initialization method. When making the change, be mindful of axis order changes: https://pyproj4.github.io/pyproj/stable/gotchas.html#axis-order-changes-in-proj-6\n",
      "  return _prepare_from_string(\" \".join(pjargs))\n"
     ]
    },
    {
     "name": "stdout",
     "output_type": "stream",
     "text": [
      "Setting to water 710 pts overlapping provided watermasks.\n",
      "Setting to water 532 pts overlapping provided watermasks.\n"
     ]
    },
    {
     "name": "stderr",
     "output_type": "stream",
     "text": [
      "C:\\conda3\\envs\\sandpyper_env\\lib\\site-packages\\geopandas\\base.py:39: UserWarning: The indices of the two GeoSeries are different.\n",
      "  warn(\"The indices of the two GeoSeries are different.\")\n",
      "C:\\conda3\\envs\\sandpyper_env\\lib\\site-packages\\geopandas\\geodataframe.py:828: UserWarning: Boolean Series key will be reindexed to match DataFrame index.\n",
      "  result = super(GeoDataFrame, self).__getitem__(key)\n",
      "C:\\conda3\\envs\\sandpyper_env\\lib\\site-packages\\pyproj\\crs\\crs.py:53: FutureWarning: '+init=<authority>:<code>' syntax is deprecated. '<authority>:<code>' is the preferred initialization method. When making the change, be mindful of axis order changes: https://pyproj4.github.io/pyproj/stable/gotchas.html#axis-order-changes-in-proj-6\n",
      "  return _prepare_from_string(\" \".join(pjargs))\n",
      "C:\\conda3\\envs\\sandpyper_env\\lib\\site-packages\\geopandas\\base.py:39: UserWarning: The indices of the two GeoSeries are different.\n",
      "  warn(\"The indices of the two GeoSeries are different.\")\n",
      "C:\\conda3\\envs\\sandpyper_env\\lib\\site-packages\\geopandas\\geodataframe.py:828: UserWarning: Boolean Series key will be reindexed to match DataFrame index.\n",
      "  result = super(GeoDataFrame, self).__getitem__(key)\n",
      "C:\\conda3\\envs\\sandpyper_env\\lib\\site-packages\\pyproj\\crs\\crs.py:53: FutureWarning: '+init=<authority>:<code>' syntax is deprecated. '<authority>:<code>' is the preferred initialization method. When making the change, be mindful of axis order changes: https://pyproj4.github.io/pyproj/stable/gotchas.html#axis-order-changes-in-proj-6\n",
      "  return _prepare_from_string(\" \".join(pjargs))\n"
     ]
    },
    {
     "name": "stdout",
     "output_type": "stream",
     "text": [
      "Setting to water 599 pts overlapping provided watermasks.\n",
      "Setting to water 557 pts overlapping provided watermasks.\n"
     ]
    },
    {
     "name": "stderr",
     "output_type": "stream",
     "text": [
      "C:\\conda3\\envs\\sandpyper_env\\lib\\site-packages\\geopandas\\base.py:39: UserWarning: The indices of the two GeoSeries are different.\n",
      "  warn(\"The indices of the two GeoSeries are different.\")\n",
      "C:\\conda3\\envs\\sandpyper_env\\lib\\site-packages\\geopandas\\geodataframe.py:828: UserWarning: Boolean Series key will be reindexed to match DataFrame index.\n",
      "  result = super(GeoDataFrame, self).__getitem__(key)\n",
      "C:\\conda3\\envs\\sandpyper_env\\lib\\site-packages\\pyproj\\crs\\crs.py:53: FutureWarning: '+init=<authority>:<code>' syntax is deprecated. '<authority>:<code>' is the preferred initialization method. When making the change, be mindful of axis order changes: https://pyproj4.github.io/pyproj/stable/gotchas.html#axis-order-changes-in-proj-6\n",
      "  return _prepare_from_string(\" \".join(pjargs))\n",
      "C:\\conda3\\envs\\sandpyper_env\\lib\\site-packages\\geopandas\\base.py:39: UserWarning: The indices of the two GeoSeries are different.\n",
      "  warn(\"The indices of the two GeoSeries are different.\")\n",
      "C:\\conda3\\envs\\sandpyper_env\\lib\\site-packages\\geopandas\\geodataframe.py:828: UserWarning: Boolean Series key will be reindexed to match DataFrame index.\n",
      "  result = super(GeoDataFrame, self).__getitem__(key)\n",
      "C:\\conda3\\envs\\sandpyper_env\\lib\\site-packages\\pyproj\\crs\\crs.py:53: FutureWarning: '+init=<authority>:<code>' syntax is deprecated. '<authority>:<code>' is the preferred initialization method. When making the change, be mindful of axis order changes: https://pyproj4.github.io/pyproj/stable/gotchas.html#axis-order-changes-in-proj-6\n",
      "  return _prepare_from_string(\" \".join(pjargs))\n"
     ]
    },
    {
     "name": "stdout",
     "output_type": "stream",
     "text": [
      "Setting to water 339 pts overlapping provided watermasks.\n",
      "Setting to water 133 pts overlapping provided watermasks.\n"
     ]
    },
    {
     "name": "stderr",
     "output_type": "stream",
     "text": [
      "C:\\conda3\\envs\\sandpyper_env\\lib\\site-packages\\geopandas\\base.py:39: UserWarning: The indices of the two GeoSeries are different.\n",
      "  warn(\"The indices of the two GeoSeries are different.\")\n",
      "C:\\conda3\\envs\\sandpyper_env\\lib\\site-packages\\geopandas\\geodataframe.py:828: UserWarning: Boolean Series key will be reindexed to match DataFrame index.\n",
      "  result = super(GeoDataFrame, self).__getitem__(key)\n",
      "C:\\conda3\\envs\\sandpyper_env\\lib\\site-packages\\pyproj\\crs\\crs.py:53: FutureWarning: '+init=<authority>:<code>' syntax is deprecated. '<authority>:<code>' is the preferred initialization method. When making the change, be mindful of axis order changes: https://pyproj4.github.io/pyproj/stable/gotchas.html#axis-order-changes-in-proj-6\n",
      "  return _prepare_from_string(\" \".join(pjargs))\n"
     ]
    },
    {
     "name": "stdout",
     "output_type": "stream",
     "text": [
      "Setting to water 441 pts overlapping provided watermasks.\n",
      "Watermasking in leo.\n"
     ]
    },
    {
     "data": {
      "application/vnd.jupyter.widget-view+json": {
       "model_id": "c575f7028ca54937887ef19ddaa7ed22",
       "version_major": 2,
       "version_minor": 0
      },
      "text/plain": [
       "  0%|          | 0/6 [00:00<?, ?it/s]"
      ]
     },
     "metadata": {},
     "output_type": "display_data"
    },
    {
     "name": "stderr",
     "output_type": "stream",
     "text": [
      "C:\\conda3\\envs\\sandpyper_env\\lib\\site-packages\\geopandas\\base.py:39: UserWarning: The indices of the two GeoSeries are different.\n",
      "  warn(\"The indices of the two GeoSeries are different.\")\n",
      "C:\\conda3\\envs\\sandpyper_env\\lib\\site-packages\\pyproj\\crs\\crs.py:53: FutureWarning: '+init=<authority>:<code>' syntax is deprecated. '<authority>:<code>' is the preferred initialization method. When making the change, be mindful of axis order changes: https://pyproj4.github.io/pyproj/stable/gotchas.html#axis-order-changes-in-proj-6\n",
      "  return _prepare_from_string(\" \".join(pjargs))\n"
     ]
    },
    {
     "name": "stdout",
     "output_type": "stream",
     "text": [
      "Setting to water 652 pts overlapping provided watermasks.\n"
     ]
    },
    {
     "name": "stderr",
     "output_type": "stream",
     "text": [
      "C:\\conda3\\envs\\sandpyper_env\\lib\\site-packages\\geopandas\\base.py:39: UserWarning: The indices of the two GeoSeries are different.\n",
      "  warn(\"The indices of the two GeoSeries are different.\")\n",
      "C:\\conda3\\envs\\sandpyper_env\\lib\\site-packages\\geopandas\\geodataframe.py:828: UserWarning: Boolean Series key will be reindexed to match DataFrame index.\n",
      "  result = super(GeoDataFrame, self).__getitem__(key)\n",
      "C:\\conda3\\envs\\sandpyper_env\\lib\\site-packages\\pyproj\\crs\\crs.py:53: FutureWarning: '+init=<authority>:<code>' syntax is deprecated. '<authority>:<code>' is the preferred initialization method. When making the change, be mindful of axis order changes: https://pyproj4.github.io/pyproj/stable/gotchas.html#axis-order-changes-in-proj-6\n",
      "  return _prepare_from_string(\" \".join(pjargs))\n"
     ]
    },
    {
     "name": "stdout",
     "output_type": "stream",
     "text": [
      "Setting to water 555 pts overlapping provided watermasks.\n"
     ]
    },
    {
     "name": "stderr",
     "output_type": "stream",
     "text": [
      "C:\\conda3\\envs\\sandpyper_env\\lib\\site-packages\\geopandas\\base.py:39: UserWarning: The indices of the two GeoSeries are different.\n",
      "  warn(\"The indices of the two GeoSeries are different.\")\n",
      "C:\\conda3\\envs\\sandpyper_env\\lib\\site-packages\\geopandas\\geodataframe.py:828: UserWarning: Boolean Series key will be reindexed to match DataFrame index.\n",
      "  result = super(GeoDataFrame, self).__getitem__(key)\n",
      "C:\\conda3\\envs\\sandpyper_env\\lib\\site-packages\\pyproj\\crs\\crs.py:53: FutureWarning: '+init=<authority>:<code>' syntax is deprecated. '<authority>:<code>' is the preferred initialization method. When making the change, be mindful of axis order changes: https://pyproj4.github.io/pyproj/stable/gotchas.html#axis-order-changes-in-proj-6\n",
      "  return _prepare_from_string(\" \".join(pjargs))\n"
     ]
    },
    {
     "name": "stdout",
     "output_type": "stream",
     "text": [
      "Setting to water 638 pts overlapping provided watermasks.\n"
     ]
    },
    {
     "name": "stderr",
     "output_type": "stream",
     "text": [
      "C:\\conda3\\envs\\sandpyper_env\\lib\\site-packages\\geopandas\\base.py:39: UserWarning: The indices of the two GeoSeries are different.\n",
      "  warn(\"The indices of the two GeoSeries are different.\")\n",
      "C:\\conda3\\envs\\sandpyper_env\\lib\\site-packages\\geopandas\\geodataframe.py:828: UserWarning: Boolean Series key will be reindexed to match DataFrame index.\n",
      "  result = super(GeoDataFrame, self).__getitem__(key)\n",
      "C:\\conda3\\envs\\sandpyper_env\\lib\\site-packages\\pyproj\\crs\\crs.py:53: FutureWarning: '+init=<authority>:<code>' syntax is deprecated. '<authority>:<code>' is the preferred initialization method. When making the change, be mindful of axis order changes: https://pyproj4.github.io/pyproj/stable/gotchas.html#axis-order-changes-in-proj-6\n",
      "  return _prepare_from_string(\" \".join(pjargs))\n"
     ]
    },
    {
     "name": "stdout",
     "output_type": "stream",
     "text": [
      "Setting to water 627 pts overlapping provided watermasks.\n"
     ]
    },
    {
     "name": "stderr",
     "output_type": "stream",
     "text": [
      "C:\\conda3\\envs\\sandpyper_env\\lib\\site-packages\\geopandas\\base.py:39: UserWarning: The indices of the two GeoSeries are different.\n",
      "  warn(\"The indices of the two GeoSeries are different.\")\n",
      "C:\\conda3\\envs\\sandpyper_env\\lib\\site-packages\\geopandas\\geodataframe.py:828: UserWarning: Boolean Series key will be reindexed to match DataFrame index.\n",
      "  result = super(GeoDataFrame, self).__getitem__(key)\n",
      "C:\\conda3\\envs\\sandpyper_env\\lib\\site-packages\\pyproj\\crs\\crs.py:53: FutureWarning: '+init=<authority>:<code>' syntax is deprecated. '<authority>:<code>' is the preferred initialization method. When making the change, be mindful of axis order changes: https://pyproj4.github.io/pyproj/stable/gotchas.html#axis-order-changes-in-proj-6\n",
      "  return _prepare_from_string(\" \".join(pjargs))\n"
     ]
    },
    {
     "name": "stdout",
     "output_type": "stream",
     "text": [
      "Setting to water 583 pts overlapping provided watermasks.\n"
     ]
    },
    {
     "name": "stderr",
     "output_type": "stream",
     "text": [
      "C:\\conda3\\envs\\sandpyper_env\\lib\\site-packages\\geopandas\\base.py:39: UserWarning: The indices of the two GeoSeries are different.\n",
      "  warn(\"The indices of the two GeoSeries are different.\")\n",
      "C:\\conda3\\envs\\sandpyper_env\\lib\\site-packages\\geopandas\\geodataframe.py:828: UserWarning: Boolean Series key will be reindexed to match DataFrame index.\n",
      "  result = super(GeoDataFrame, self).__getitem__(key)\n",
      "C:\\conda3\\envs\\sandpyper_env\\lib\\site-packages\\pyproj\\crs\\crs.py:53: FutureWarning: '+init=<authority>:<code>' syntax is deprecated. '<authority>:<code>' is the preferred initialization method. When making the change, be mindful of axis order changes: https://pyproj4.github.io/pyproj/stable/gotchas.html#axis-order-changes-in-proj-6\n",
      "  return _prepare_from_string(\" \".join(pjargs))\n"
     ]
    },
    {
     "name": "stdout",
     "output_type": "stream",
     "text": [
      "Setting to water 643 pts overlapping provided watermasks.\n",
      "shoremask  provided in CRS: epsg:32754\n",
      "Applying shoremasks cleaning.\n",
      "Shoremasking in mar.\n"
     ]
    },
    {
     "name": "stderr",
     "output_type": "stream",
     "text": [
      "C:\\conda3\\envs\\sandpyper_env\\lib\\site-packages\\geopandas\\geodataframe.py:422: RuntimeWarning: Sequential read of iterator was interrupted. Resetting iterator. This can negatively impact the performance.\n",
      "  for feature in features_lst:\n",
      "C:\\conda3\\envs\\sandpyper_env\\lib\\site-packages\\geopandas\\base.py:39: UserWarning: The indices of the two GeoSeries are different.\n",
      "  warn(\"The indices of the two GeoSeries are different.\")\n",
      "C:\\conda3\\envs\\sandpyper_env\\lib\\site-packages\\geopandas\\geodataframe.py:828: UserWarning: Boolean Series key will be reindexed to match DataFrame index.\n",
      "  result = super(GeoDataFrame, self).__getitem__(key)\n",
      "C:\\conda3\\envs\\sandpyper_env\\lib\\site-packages\\pyproj\\crs\\crs.py:53: FutureWarning: '+init=<authority>:<code>' syntax is deprecated. '<authority>:<code>' is the preferred initialization method. When making the change, be mindful of axis order changes: https://pyproj4.github.io/pyproj/stable/gotchas.html#axis-order-changes-in-proj-6\n",
      "  return _prepare_from_string(\" \".join(pjargs))\n"
     ]
    },
    {
     "name": "stdout",
     "output_type": "stream",
     "text": [
      "Removing 3621 pts falling outside provided shore polygones.\n",
      "Shoremasking in leo.\n"
     ]
    },
    {
     "name": "stderr",
     "output_type": "stream",
     "text": [
      "C:\\conda3\\envs\\sandpyper_env\\lib\\site-packages\\geopandas\\base.py:39: UserWarning: The indices of the two GeoSeries are different.\n",
      "  warn(\"The indices of the two GeoSeries are different.\")\n",
      "C:\\conda3\\envs\\sandpyper_env\\lib\\site-packages\\pyproj\\crs\\crs.py:53: FutureWarning: '+init=<authority>:<code>' syntax is deprecated. '<authority>:<code>' is the preferred initialization method. When making the change, be mindful of axis order changes: https://pyproj4.github.io/pyproj/stable/gotchas.html#axis-order-changes-in-proj-6\n",
      "  return _prepare_from_string(\" \".join(pjargs))\n"
     ]
    },
    {
     "name": "stdout",
     "output_type": "stream",
     "text": [
      "Removing 2358 pts falling outside provided shore polygones.\n",
      "['polygon finetuning', 'watermasking', 'shoremasking'] completed.\n"
     ]
    }
   ],
   "source": [
    "P.cleanit(l_dicts=l_dicts,\n",
    "          watermasks_path=watermasks_path,\n",
    "          shoremasks_path=shoremasks_path,\n",
    "          label_corrections_path=label_corrections_path)"
   ]
  },
  {
   "cell_type": "markdown",
   "id": "c006080d",
   "metadata": {},
   "source": [
    "DONE!\n",
    "\n",
    "Now we have a cleaned and tidy classified dataset of elevation profiles, ready to be analysed to extract sediment specific altimetric, volumetric and behavioural dynamics information.\n",
    "\n",
    "A new attribute has been stored, *ProfileSet.cleaning_steps*, which is a list of the cleaning steps applied to the current profiles."
   ]
  },
  {
   "cell_type": "code",
   "execution_count": null,
   "id": "476e825f",
   "metadata": {},
   "outputs": [],
   "source": [
    "P.cleaning_steps"
   ]
  },
  {
   "cell_type": "markdown",
   "id": "f39ae1ac",
   "metadata": {},
   "source": [
    "## Save it"
   ]
  },
  {
   "cell_type": "markdown",
   "id": "2643bbb3",
   "metadata": {},
   "source": [
    "To save the objects, just call the method *ProfileSet.save* with only two arguments:\n",
    "1. the path to the folder where to save the data.\n",
    "2. the name of the file you want to create."
   ]
  },
  {
   "cell_type": "code",
   "execution_count": null,
   "id": "8118b97b",
   "metadata": {},
   "outputs": [],
   "source": [
    "dir_out=r'C:\\my_packages\\sandpyper\\examples\\test_data'\n",
    "\n",
    "name=\"test\"\n",
    "P.save(name,dir_out)\n",
    "P"
   ]
  },
  {
   "cell_type": "markdown",
   "id": "c5ced0b5",
   "metadata": {},
   "source": [
    "## Conclusion"
   ]
  },
  {
   "cell_type": "markdown",
   "id": "72446987",
   "metadata": {},
   "source": [
    "In this notebook we extracted the elevation and colour information from all our rasters and used it with an iterative Silhouette analysis and KMeans algorithm to unsupervisingly partition the data into clusters of similar points. Then, we assigned meaning of these labels using an external GIS and cleaned and clipped the data into our final slassified dataset. In the next notebook we will finally obtain multi-scale information about sediment dynamics in each site/transect."
   ]
  },
  {
   "cell_type": "markdown",
   "id": "007ed84a",
   "metadata": {},
   "source": [
    "___"
   ]
  }
 ],
 "metadata": {
  "kernelspec": {
   "display_name": "Python 3",
   "language": "python",
   "name": "python3"
  },
  "language_info": {
   "codemirror_mode": {
    "name": "ipython",
    "version": 3
   },
   "file_extension": ".py",
   "mimetype": "text/x-python",
   "name": "python",
   "nbconvert_exporter": "python",
   "pygments_lexer": "ipython3",
   "version": "3.9.4"
  }
 },
 "nbformat": 4,
 "nbformat_minor": 5
}
