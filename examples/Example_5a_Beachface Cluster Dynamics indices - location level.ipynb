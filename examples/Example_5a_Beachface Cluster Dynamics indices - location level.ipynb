{
 "cells": [
  {
   "cell_type": "markdown",
   "id": "99241f55",
   "metadata": {},
   "source": [
    "# Example 5a - Beachface Cluster Dynamics indices - location level"
   ]
  },
  {
   "cell_type": "markdown",
   "id": "e0fe31a6",
   "metadata": {},
   "source": [
    "<img src=\"images/banner3.png\" width=\"100%\" />\n",
    "\n",
    "<font face=\"Calibri\">\n",
    "<br>\n",
    "<font size=\"5\"> <b>Multiscale beachface behavioural modelling: Beachface Cluster Dynamics indices</b></font>\n",
    "\n",
    "<br>\n",
    "<font size=\"4\"> <b> Nicolas Pucino; PhD Student @ Deakin University, Australia </b> <br>\n",
    "<img style=\"padding:7px;\" src=\"images/sandpiper_sand_retouched.png\" width=\"170\" align=\"right\" /></font>\n",
    "\n",
    "<font size=\"3\">These indices represents the tendency of the location, or transect, to either erode or accrete, based on the temporal succession of sand-only change.<br>\n",
    "\n",
    "<b>This notebook covers the following concepts:</b>\n",
    "\n",
    "- Modelling BCDs both at the location and transect scales.\n",
    "- Plotting.\n",
    "- Sensitivity analysis for transect-level r-BCD.\n",
    "</font>\n",
    "\n",
    "\n",
    "</font>"
   ]
  },
  {
   "cell_type": "code",
   "execution_count": 1,
   "id": "7a87fcb8",
   "metadata": {},
   "outputs": [
    {
     "name": "stderr",
     "output_type": "stream",
     "text": [
      "C:\\conda3\\envs\\sandpyper_env\\lib\\site-packages\\pysal\\explore\\segregation\\network\\network.py:15: UserWarning: You need pandana and urbanaccess to work with segregation's network module\n",
      "You can install them with  `pip install urbanaccess pandana` or `conda install -c udst pandana urbanaccess`\n",
      "  warn(\n",
      "C:\\conda3\\envs\\sandpyper_env\\lib\\site-packages\\pysal\\model\\spvcm\\abstracts.py:10: UserWarning: The `dill` module is required to use the sqlite backend fully.\n",
      "  from .sqlite import head_to_sql, start_sql\n"
     ]
    }
   ],
   "source": [
    "import pandas as pd\n",
    "import geopandas as gpd\n",
    "import numpy as np\n",
    "import matplotlib.pyplot as plt\n",
    "import seaborn as sb\n",
    "\n",
    "from sandpyper.outils import getLoc, getDate,coords_to_points\n",
    "from sandpyper.dynamics import  BCDs_compute, steady_state_transect, compute_rBCD_transects, infer_weights\n",
    "\n",
    "crs_dict_string={\"mar\":{'init': 'epsg:32754'},\n",
    "         \"leo\":{'init': 'epsg:32755'}}"
   ]
  },
  {
   "cell_type": "markdown",
   "id": "4b95eb89",
   "metadata": {},
   "source": [
    "We use the __hotspot sand-only beachface points__ that have been previously classified into dh magnitude classes (transient states)"
   ]
  },
  {
   "cell_type": "code",
   "execution_count": 2,
   "id": "5d30a8a1",
   "metadata": {},
   "outputs": [
    {
     "name": "stderr",
     "output_type": "stream",
     "text": [
      "C:\\conda3\\envs\\sandpyper_env\\lib\\site-packages\\pyproj\\crs\\crs.py:53: FutureWarning: '+init=<authority>:<code>' syntax is deprecated. '<authority>:<code>' is the preferred initialization method. When making the change, be mindful of axis order changes: https://pyproj4.github.io/pyproj/stable/gotchas.html#axis-order-changes-in-proj-6\n",
      "  return _prepare_from_string(\" \".join(pjargs))\n"
     ]
    }
   ],
   "source": [
    "in_file=r\"C:\\my_packages\\doc_data\\profiles\\markov_tagged_df.csv\"\n",
    "dataset=pd.read_csv(in_file)\n",
    "\n",
    "dataset[\"coordinates\"]=dataset.geometry.apply(coords_to_points)\n",
    "dataset_gdf=gpd.GeoDataFrame(dataset, geometry=\"coordinates\",crs=crs_dict_string['mar'])\n",
    "dataset_gdf.sort_values(['date_pre'], inplace=True)"
   ]
  },
  {
   "cell_type": "markdown",
   "id": "f796e9a9",
   "metadata": {},
   "source": [
    "## Empirical Beachface Cluster Dynamics (e-BCDs)\n",
    "\n",
    "The function __BCDs_compute__ computes all the stochastic first-order transition matrices of sand dynamics, based on the sand-only hotspots of elevation change across beachface dataset, at the site level, which are the basis for the e-BCDs.\n",
    "\n",
    "It returns 2 dataframes:\n",
    "* __e-BCDs__\n",
    "* __steady-state distribution__\n",
    "\n",
    "Optionally, it also plots the transition matrices and save them in the specified output folder.\n",
    "\n",
    "\n",
    "Notes: <br>\n",
    ">These matrices discard all the __valid to non-valid transitions__. In other words, all transitions going from a valid point (non spatial outlier, classified as sand and beyond limit of detection) are labelled as \"nnn\" adn discarded.\n",
    "Moreover, __the colour ramp__ higher limit (vmax parameter) is set to a maximum of 3 times the standard deviation of all dataset without the nnn state."
   ]
  },
  {
   "cell_type": "markdown",
   "id": "cea88bc0",
   "metadata": {},
   "source": [
    "The __Empirical Beachface Cluster indices (e-BCD)__ uses weights to represent the importance of each transition.<br>\n",
    "A point that transitioned from small erosion to extreme erosion has more impact on the sediment budget than if it was transitioning to a medium erosion class.<br>\n",
    "The weights for each magnitude class can be specified manually using a dictionary. However, it is best to obtain an objective representation of the severity of change. As the magnitude classes are derived from the data (using Jenks-Caspall optimised natural breaks method), a simple yet robust solution is to use the medians of each magnitude class as weight.\n",
    "<br>\n",
    "<br>\n",
    "The function __infer_weights__ takes care of this.\n"
   ]
  },
  {
   "cell_type": "code",
   "execution_count": 3,
   "id": "41327cb1",
   "metadata": {
    "scrolled": true
   },
   "outputs": [
    {
     "data": {
      "text/plain": [
       "se    0.24\n",
       "sd    0.24\n",
       "ue    0.10\n",
       "ud    0.10\n",
       "me    0.41\n",
       "md    0.41\n",
       "he    0.67\n",
       "hd    0.67\n",
       "ee    1.76\n",
       "ed    1.76\n",
       "Name: weight, dtype: float64"
      ]
     },
     "execution_count": 3,
     "metadata": {},
     "output_type": "execute_result"
    }
   ],
   "source": [
    "# Create the weights dictionary for the classes\n",
    "weights_dict=infer_weights(dataset)\n",
    "\n",
    "weigths_series=pd.Series(weights_dict,weights_dict.keys(), name=\"weight\" )\n",
    "\n",
    "\n",
    "# Order of the columns\n",
    "label_order=['ed','hd','md','sd','ud','nnn','ue','se','me','he','ee']\n",
    "\n",
    "weigths_series"
   ]
  },
  {
   "cell_type": "code",
   "execution_count": 4,
   "id": "9f873084",
   "metadata": {
    "scrolled": false
   },
   "outputs": [
    {
     "ename": "NameError",
     "evalue": "name 'product' is not defined",
     "output_type": "error",
     "traceback": [
      "\u001b[1;31m---------------------------------------------------------------------------\u001b[0m",
      "\u001b[1;31mNameError\u001b[0m                                 Traceback (most recent call last)",
      "\u001b[1;32m<timed exec>\u001b[0m in \u001b[0;36m<module>\u001b[1;34m\u001b[0m\n",
      "\u001b[1;32mC:\\conda3\\envs\\sandpyper_env\\lib\\site-packages\\sandpyper\\dynamics.py\u001b[0m in \u001b[0;36mBCDs_compute\u001b[1;34m(dataset, weights_dict, mode, unique_field, label_order, store_neg, plot_it, fig_size, font_scale, dpi, save_it, save_output)\u001b[0m\n\u001b[0;32m    297\u001b[0m         \u001b[1;32mfor\u001b[0m \u001b[0marr_markov\u001b[0m \u001b[1;32min\u001b[0m \u001b[0mdict_markovs\u001b[0m\u001b[1;33m.\u001b[0m\u001b[0mkeys\u001b[0m\u001b[1;33m(\u001b[0m\u001b[1;33m)\u001b[0m\u001b[1;33m:\u001b[0m\u001b[1;33m\u001b[0m\u001b[1;33m\u001b[0m\u001b[0m\n\u001b[0;32m    298\u001b[0m \u001b[1;33m\u001b[0m\u001b[0m\n\u001b[1;32m--> 299\u001b[1;33m             idx, trend, sign = get_coastal_Markov(\n\u001b[0m\u001b[0;32m    300\u001b[0m                 dict_markovs[arr_markov], weights_dict=weights_dict, store_neg=store_neg)\n\u001b[0;32m    301\u001b[0m \u001b[1;33m\u001b[0m\u001b[0m\n",
      "\u001b[1;32mC:\\conda3\\envs\\sandpyper_env\\lib\\site-packages\\sandpyper\\dynamics.py\u001b[0m in \u001b[0;36mget_coastal_Markov\u001b[1;34m(arr_markov, weights_dict, store_neg)\u001b[0m\n\u001b[0;32m    114\u001b[0m     \"\"\"\n\u001b[0;32m    115\u001b[0m \u001b[1;33m\u001b[0m\u001b[0m\n\u001b[1;32m--> 116\u001b[1;33m     \u001b[0mcombs\u001b[0m \u001b[1;33m=\u001b[0m \u001b[0mpd\u001b[0m\u001b[1;33m.\u001b[0m\u001b[0mSeries\u001b[0m\u001b[1;33m(\u001b[0m\u001b[0mproduct\u001b[0m\u001b[1;33m(\u001b[0m\u001b[0marr_markov\u001b[0m\u001b[1;33m.\u001b[0m\u001b[0mindex\u001b[0m\u001b[1;33m,\u001b[0m \u001b[1;33m(\u001b[0m\u001b[0marr_markov\u001b[0m\u001b[1;33m.\u001b[0m\u001b[0mcolumns\u001b[0m\u001b[1;33m)\u001b[0m\u001b[1;33m)\u001b[0m\u001b[1;33m)\u001b[0m\u001b[1;33m\u001b[0m\u001b[1;33m\u001b[0m\u001b[0m\n\u001b[0m\u001b[0;32m    117\u001b[0m \u001b[1;33m\u001b[0m\u001b[0m\n\u001b[0;32m    118\u001b[0m     \u001b[0mvalue_trans\u001b[0m \u001b[1;33m=\u001b[0m \u001b[1;36m0\u001b[0m\u001b[1;33m\u001b[0m\u001b[1;33m\u001b[0m\u001b[0m\n",
      "\u001b[1;31mNameError\u001b[0m: name 'product' is not defined"
     ]
    }
   ],
   "source": [
    "%%time\n",
    "\n",
    "# For all the locations, compute e-BCD indices and Steady-States at the location level.\n",
    "\n",
    "e_bcds,ss = BCDs_compute(dataset, weights_dict=weights_dict,\n",
    "                         mode='all',\n",
    "                         plot_it=True, unique_field=\"geometry\", label_order=label_order,\n",
    "                        save_it=False,fig_size=(8, 8),\n",
    "                         save_output=None)"
   ]
  },
  {
   "cell_type": "markdown",
   "id": "c9c951ad",
   "metadata": {},
   "source": [
    "### Observations\n",
    "\n",
    "__The title__ informs about:\n",
    "* mar/leo = Location codes (leo = St. Leonards; mar = Marengo\n",
    "* n = Total number of points in the timeseries (valid and non-valid)\n",
    "* t = Total number of timesteps\n",
    "* trans = Total number of valid transitions considered\n",
    "\n",
    "__leo__\n",
    ">We chose St. Leonards as an example to demonstrates a few limitations, which are observable in this matrix.\n",
    "\n",
    "St. Leonards is located within Port Phillip bay. This narrrow beach is not embayed, but __fetch-limited__, meaning that it doesn't receive the highly energetic Souther Ocean swell, rather, it sees its morphodynamics impacted by considerably lower waves which are locally generated from within the bay. Moreover, seagrass meadows and reefs further reduce wave imapcts on the subaerial beachface.<br>\n",
    "Therefore, __changes are small__ and often below the limit of detections, thus, uncertain. If we consider that we filter points based on (1) only sand, (2) limit of detection, (3) spatial outliers, from an already narrow beach (short transects) this location is severly decimated in terms of behavioural modelling potential.<br>\n",
    "\n",
    "In fact, the submatrices have many zeroes, which indicate a zero probability of these transitions, because these have not been recorded.<br>\n",
    "Moreover, we note how most of the transitions tend to be __from lower magnitude classes to low magnitude classes.__\n",
    "<br>\n",
    "Another story for Marengo.\n",
    "\n",
    "__mar__\n",
    "\n",
    "Marengo is an open-ocean beach with a small southern section pretected by a small headland (tombolo-like). The section used for this example is also affected by sand nourishment, which injects considerable amount of sediment during the monitoring period.<br>\n",
    "Given in Marengo we have roughly 4 times the number of valid observations (trans=30'786) as compared to St. Leonards (trans=7'465), the submatrices better capture the stochastic behaviour of this beachface.\n",
    "\n"
   ]
  },
  {
   "cell_type": "markdown",
   "id": "9d11572f",
   "metadata": {},
   "source": [
    "### Plotting the e-BCDs\n",
    "\n",
    "Let's plot the e-BCDs, which summarise the information contained in the submatrices."
   ]
  },
  {
   "cell_type": "code",
   "execution_count": 5,
   "id": "4198d2f4",
   "metadata": {},
   "outputs": [
    {
     "ename": "NameError",
     "evalue": "name 'e_bcds' is not defined",
     "output_type": "error",
     "traceback": [
      "\u001b[1;31m---------------------------------------------------------------------------\u001b[0m",
      "\u001b[1;31mNameError\u001b[0m                                 Traceback (most recent call last)",
      "\u001b[1;32m<ipython-input-5-61ed9fda81a7>\u001b[0m in \u001b[0;36m<module>\u001b[1;34m\u001b[0m\n\u001b[0;32m      4\u001b[0m \u001b[1;33m\u001b[0m\u001b[0m\n\u001b[0;32m      5\u001b[0m \u001b[0mtranslation\u001b[0m\u001b[1;33m=\u001b[0m\u001b[0mdict\u001b[0m\u001b[1;33m(\u001b[0m\u001b[0mzip\u001b[0m\u001b[1;33m(\u001b[0m\u001b[1;33m[\u001b[0m\u001b[1;34m\"ee\"\u001b[0m\u001b[1;33m,\u001b[0m\u001b[1;34m\"ed\"\u001b[0m\u001b[1;33m,\u001b[0m\u001b[1;34m\"dd\"\u001b[0m\u001b[1;33m,\u001b[0m\u001b[1;34m\"de\"\u001b[0m\u001b[1;33m]\u001b[0m\u001b[1;33m,\u001b[0m\u001b[0mtitles\u001b[0m\u001b[1;33m)\u001b[0m\u001b[1;33m)\u001b[0m\u001b[1;33m\u001b[0m\u001b[1;33m\u001b[0m\u001b[0m\n\u001b[1;32m----> 6\u001b[1;33m \u001b[0me_bcds\u001b[0m\u001b[1;33m[\u001b[0m\u001b[1;34m\"states_labels\"\u001b[0m\u001b[1;33m]\u001b[0m\u001b[1;33m=\u001b[0m\u001b[0me_bcds\u001b[0m\u001b[1;33m[\u001b[0m\u001b[1;34m\"sub_matrix\"\u001b[0m\u001b[1;33m]\u001b[0m\u001b[1;33m.\u001b[0m\u001b[0mmap\u001b[0m\u001b[1;33m(\u001b[0m\u001b[0mtranslation\u001b[0m\u001b[1;33m)\u001b[0m\u001b[1;33m\u001b[0m\u001b[1;33m\u001b[0m\u001b[0m\n\u001b[0m\u001b[0;32m      7\u001b[0m \u001b[1;33m\u001b[0m\u001b[0m\n\u001b[0;32m      8\u001b[0m \u001b[0me_bcds\u001b[0m\u001b[1;33m.\u001b[0m\u001b[0mquery\u001b[0m\u001b[1;33m(\u001b[0m\u001b[1;34m\"location=='leo'\"\u001b[0m\u001b[1;33m)\u001b[0m\u001b[1;33m\u001b[0m\u001b[1;33m\u001b[0m\u001b[0m\n",
      "\u001b[1;31mNameError\u001b[0m: name 'e_bcds' is not defined"
     ]
    }
   ],
   "source": [
    "# here I translate the submatrix codes into the names and store them in a column\n",
    "\n",
    "titles=[\"Erosional\", \"Recovery\", \"Depositional\",\"Vulnerability\"]\n",
    "\n",
    "translation=dict(zip([\"ee\",\"ed\",\"dd\",\"de\"],titles))\n",
    "e_bcds[\"states_labels\"]=e_bcds[\"sub_matrix\"].map(translation)\n",
    "\n",
    "e_bcds.query(\"location=='leo'\")"
   ]
  },
  {
   "cell_type": "code",
   "execution_count": 63,
   "id": "8aed77b9",
   "metadata": {},
   "outputs": [
    {
     "data": {
      "image/png": "[encoded data removed]",
      "text/plain": [
       "<Figure size 576x288 with 1 Axes>"
      ]
     },
     "metadata": {},
     "output_type": "display_data"
    }
   ],
   "source": [
    "plt.rcParams['font.sans-serif'] = 'Arial'\n",
    "plt.rcParams['font.family'] = 'sans-serif'\n",
    "\n",
    "f,ax=plt.subplots(figsize=(8,4))\n",
    "\n",
    "sb.set_context(\"paper\", font_scale=0.8)\n",
    "sb.set_style(\"whitegrid\")\n",
    "\n",
    "loc_order=[\"mar\",\"leo\"]\n",
    "\n",
    "palette_dyn_states ={\"Erosional\":\"r\",\"Recovery\":\"g\",\"Depositional\":\"b\",\"Vulnerability\":\"purple\"}\n",
    "orders=[\"Erosional\",\"Recovery\",\"Depositional\",\"Vulnerability\"]\n",
    "\n",
    "plot_bars=sb.barplot(data=e_bcds,x=\"location\", y=e_bcds.coastal_markov_idx,hue=\"states_labels\", hue_order=orders,\n",
    "          order=loc_order, palette=palette_dyn_states)\n",
    "\n",
    "\n",
    "ax.set_xticklabels(labels=[\"Marengo\",\"St. Leo.\"])\n",
    "ax.set_xlabel(\"\")\n",
    "ax.set_ylabel(\"e-BCD\")\n",
    "\n",
    "\n",
    "txt_heights=[i.get_height() for i in ax.patches]\n",
    "\n",
    "signs=[]\n",
    "for i in orders:\n",
    "    for j in loc_order:\n",
    "        sign=e_bcds.query(f\"location == '{j}' & states_labels=='{i}'\").sign.values\n",
    "        signs.append(sign)\n",
    "        \n",
    "\n",
    "for p,txt_height,sign in zip(ax.patches,txt_heights,signs):\n",
    "    width, height = p.get_width(), p.get_height()\n",
    "    x, y = p.get_xy()\n",
    "    ax.text(x+width/2,\n",
    "         txt_height - 0.095, \n",
    "         sign[0], \n",
    "         horizontalalignment='center', \n",
    "         verticalalignment='center',\n",
    "            color=\"white\",\n",
    "           fontsize=13,\n",
    "           fontweight='heavy')\n",
    "    \n",
    "handles, labels = ax.get_legend_handles_labels()\n",
    "ax.legend(handles=handles[:], labels=labels[:], loc=0)\n",
    "\n",
    "plt.tight_layout()\n",
    "\n",
    "#f.savefig(r'E:\\\\path\\\\to\\\\save\\\\picture.png', dpi=600); "
   ]
  },
  {
   "cell_type": "markdown",
   "id": "dd44a759",
   "metadata": {},
   "source": [
    "## Residual Beachface Cluster Dynamics (r-BCD)"
   ]
  },
  {
   "cell_type": "markdown",
   "id": "2aae3b38",
   "metadata": {},
   "source": [
    "We already computed the __Steady State__ probability vectors for each location using the __BCDs_compute__ function, storing it in the __ss__ variable.<br>\n",
    "Here below we reorder the data and plot as an heatmap, where each columns is a location and each row a magnitude of change.\n"
   ]
  },
  {
   "cell_type": "code",
   "execution_count": 64,
   "id": "41428d3f",
   "metadata": {},
   "outputs": [
    {
     "data": {
      "image/png": "[encoded data removed]",
      "text/plain": [
       "<Figure size 864x720 with 2 Axes>"
      ]
     },
     "metadata": {},
     "output_type": "display_data"
    }
   ],
   "source": [
    "plt.rcParams['font.sans-serif'] = 'Arial'\n",
    "plt.rcParams['font.family'] = 'sans-serif'\n",
    "sb.set_context(\"paper\", font_scale=2)\n",
    "\n",
    "ss_victoria_ordered=ss.loc[label_order,loc_order]\n",
    "ss_victoria_ordered.drop(\"nnn\",inplace=True)\n",
    "ss_victoria_ordered\n",
    "\n",
    "plt.rcParams['font.sans-serif'] = 'Arial'\n",
    "plt.rcParams['font.family'] = 'sans-serif'\n",
    "sb.set_context(\"paper\", font_scale=2)\n",
    "\n",
    "\n",
    "f,ax=plt.subplots(figsize=(12,10))\n",
    "\n",
    "sb.heatmap(ss_victoria_ordered, cmap=\"Blues\",annot=True,\n",
    "           annot_kws={'size':14},linewidths=1,linecolor=\"white\", cbar_kws={'label': 'Lim. Probabilities'});\n",
    "\n",
    "#f.savefig(r'E:\\\\path\\\\to\\\\save\\\\picture.png', dpi=600); "
   ]
  },
  {
   "cell_type": "markdown",
   "id": "82fc0d0f",
   "metadata": {},
   "source": [
    "### Computing the e-BCDs\n",
    "\n",
    "The residual is simply the difference between erosional and depositional probabilities in the Steady-State distribution, __multiplicated by 100__ for readability purposes. Note that in this case, no weigths are applied as no transition is represented.\n",
    "\n",
    "\n",
    "Here below, the dataframe returns the residual column, which is what you might want to map in Qgis."
   ]
  },
  {
   "cell_type": "code",
   "execution_count": 65,
   "id": "0d37b372",
   "metadata": {},
   "outputs": [
    {
     "data": {
      "text/html": [
       "<div>\n",
       "<style scoped>\n",
       "    .dataframe tbody tr th:only-of-type {\n",
       "        vertical-align: middle;\n",
       "    }\n",
       "\n",
       "    .dataframe tbody tr th {\n",
       "        vertical-align: top;\n",
       "    }\n",
       "\n",
       "    .dataframe thead th {\n",
       "        text-align: right;\n",
       "    }\n",
       "</style>\n",
       "<table border=\"1\" class=\"dataframe\">\n",
       "  <thead>\n",
       "    <tr style=\"text-align: right;\">\n",
       "      <th></th>\n",
       "      <th>location</th>\n",
       "      <th>deposition</th>\n",
       "      <th>erosion</th>\n",
       "      <th>residual</th>\n",
       "    </tr>\n",
       "  </thead>\n",
       "  <tbody>\n",
       "    <tr>\n",
       "      <th>0</th>\n",
       "      <td>mar</td>\n",
       "      <td>0.243289</td>\n",
       "      <td>0.186929</td>\n",
       "      <td>5.635999</td>\n",
       "    </tr>\n",
       "    <tr>\n",
       "      <th>1</th>\n",
       "      <td>leo</td>\n",
       "      <td>0.189379</td>\n",
       "      <td>0.160689</td>\n",
       "      <td>2.869018</td>\n",
       "    </tr>\n",
       "  </tbody>\n",
       "</table>\n",
       "</div>"
      ],
      "text/plain": [
       "  location  deposition   erosion  residual\n",
       "0      mar    0.243289  0.186929  5.635999\n",
       "1      leo    0.189379  0.160689  2.869018"
      ]
     },
     "execution_count": 65,
     "metadata": {},
     "output_type": "execute_result"
    }
   ],
   "source": [
    "# No weight are needed for the r-BCD index. Thus, we set a weigth dictionary of 1 (FUNCTION TO BE UPDATED).\n",
    "\n",
    "weights_dict={\"ee\":1,\"ed\":1,\n",
    "        \"he\":1,\"hd\":1,\n",
    "        \"me\":1,\"md\":1,\n",
    "        \"se\":1,\"sd\":1,\n",
    "        \"ue\":1,\"ud\":1}\n",
    "\n",
    "weigths_series=pd.Series(weights_dict,weights_dict.keys(), name=\"weight\" )\n",
    "\n",
    "\n",
    "# Apply the weights (USELESS, to UPDATE)\n",
    "steady_state_victoria_ordered_w=ss_victoria_ordered.join(weigths_series, how=\"inner\")\n",
    "weighted_matrix=steady_state_victoria_ordered_w.iloc[:,:-1].multiply(steady_state_victoria_ordered_w.weight, axis=\"index\")\n",
    "\n",
    "# Create erosion and deposition sub-matrix\n",
    "erosion=weighted_matrix.iloc[5:,:].transpose()\n",
    "erosion[\"erosion\"]=erosion.sum(axis=1)\n",
    "\n",
    "deposition=weighted_matrix.iloc[:-5,:].transpose()\n",
    "deposition[\"deposition\"]=deposition.sum(axis=1)\n",
    "\n",
    "# Compute erosion residuals\n",
    "indexes_vic=(deposition.deposition -erosion.erosion) * 100    # to make the indexes more readable\n",
    "indexes_vic=pd.DataFrame(pd.Series(indexes_vic, name=\"residual\"))\n",
    "indexes_vic.reset_index(inplace=True)\n",
    "indexes_vic.rename({\"index\":\"location\"},axis=1, inplace=True)\n",
    "\n",
    "# Put all into one table\n",
    "deposition[\"erosion\"]=erosion.erosion\n",
    "to_plot=deposition.reset_index()[[\"index\",\"deposition\",\"erosion\"]].rename({\"index\":\"location\"},axis=1)\n",
    "\n",
    "to_print_table=to_plot.merge(indexes_vic, on=\"location\", how=\"left\")\n",
    "to_plot=to_print_table.melt(id_vars=[\"location\"],var_name=\"process\",value_name=\"coastal_index\")\n",
    "\n",
    "\n",
    "to_print_table"
   ]
  },
  {
   "cell_type": "markdown",
   "id": "d5bd741b",
   "metadata": {},
   "source": [
    "___"
   ]
  },
  {
   "cell_type": "markdown",
   "id": "f0939998",
   "metadata": {},
   "source": [
    "### GOOD!\n",
    "\n",
    "Location level BCDs are good to compare multiple locations across wide areas. But what about getting a more detailed spatial-explicit view of the behaviour of a beachface system, at the transect-level?\n",
    "\n",
    "Continue to the next notebook: __Example 5b - Beachface Cluster Dynamics indices - Transect level__"
   ]
  }
 ],
 "metadata": {
  "kernelspec": {
   "display_name": "Python 3",
   "language": "python",
   "name": "python3"
  },
  "language_info": {
   "codemirror_mode": {
    "name": "ipython",
    "version": 3
   },
   "file_extension": ".py",
   "mimetype": "text/x-python",
   "name": "python",
   "nbconvert_exporter": "python",
   "pygments_lexer": "ipython3",
   "version": "3.9.4"
  }
 },
 "nbformat": 4,
 "nbformat_minor": 5
}
