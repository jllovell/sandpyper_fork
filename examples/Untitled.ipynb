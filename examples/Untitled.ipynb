{
 "cells": [
  {
   "cell_type": "code",
   "execution_count": 2,
   "id": "b4878add",
   "metadata": {},
   "outputs": [],
   "source": [
    "%matplotlib notebook\n",
    "import numpy as np\n",
    "import pandas as pd\n",
    "import geopandas as gpd\n",
    "from itertools import combinations as comb\n",
    "from geopandas.tools import overlay\n",
    "import os\n",
    "from sandpyper.common import coords_to_points\n",
    "\n",
    "\n",
    "from pathlib import Path\n",
    "import matplotlib.pyplot as plt\n",
    "import pandas as pd\n",
    "import rasterio as ras\n",
    "from rasterio.plot import show\n",
    "\n",
    "from sandpyper.sandpyper import ProfileSet\n",
    "from sandpyper.common import get_sil_location, get_opt_k\n",
    "from sklearn.cluster import KMeans\n",
    "from sklearn.preprocessing import MinMaxScaler\n",
    "from tqdm.notebook import tqdm_notebook as tqdm\n",
    "\n",
    "pd.options.mode.chained_assignment = None  # default='warn'\n",
    "\n",
    "crs_dict_string= {\n",
    "                 'mar': {'init': 'epsg:32754'},\n",
    "                 'leo':{'init': 'epsg:32755'}\n",
    "                 }\n",
    "\n",
    "\n",
    "def kmeans_sa(merged_df, ks, feature_set, thresh_k=5, random_state=10):\n",
    "    \"\"\"\n",
    "    Function to use KMeans on all surveys with the optimal k obtained from the Silhouette Analysis.\n",
    "    It uses KMeans as a clusterer.\n",
    "\n",
    "    Args:\n",
    "        merged_df (Pandas dataframe): The clean and merged dataframe containing the features. Must contain the columns point_id, location and survey_date, as well as the\n",
    "        ks (int, dict): number of clusters (k) or dictionary containing the optimal k for each survey. See get_opt_k function.\n",
    "        feature_set (list): List of names of features in the dataframe to use for clustering.\n",
    "        thresh_k (int): Minimim k to be used. If survey-specific optimal k is below this value, then k equals the average k of all above threshold values.\n",
    "        random_state (int): Random seed used to make the randomisation deterministic.\n",
    "\n",
    "    Returns:\n",
    "        data_classified (pd.DataFrame): A dataframe containing the label_k column, with point_id, location, survey_date and the features used to cluster the data.\n",
    "    \"\"\"\n",
    "\n",
    "\n",
    "    merged_df.dropna(inplace=True)\n",
    "    list_locs = merged_df.location.unique()\n",
    "\n",
    "    scaler = MinMaxScaler()\n",
    "    data_classified = pd.DataFrame()\n",
    "\n",
    "    # Set a threshold k, in case a k is lower than 5, use the mean optimal k\n",
    "    # of the other surveys above threshold\n",
    "\n",
    "    # # Compute the mean optimal k of above threshold ks\n",
    "    if isinstance(ks, dict):\n",
    "        arr_k = np.array([i for i in ks.values() if i > thresh_k])\n",
    "        mean_threshold_k = np.int(np.round(np.mean(arr_k), 0))\n",
    "    else:\n",
    "        pass\n",
    "\n",
    "    for location in tqdm(list_locs):\n",
    "\n",
    "        list_dates = merged_df.query(f\"location=='{location}'\").raw_date.unique()\n",
    "\n",
    "        for survey_date_in in tqdm(list_dates):\n",
    "\n",
    "            data_in = merged_df.query(\n",
    "                f\"location=='{location}'& raw_date == {survey_date_in}\"\n",
    "            )\n",
    "            data_clean = data_in[feature_set].apply(pd.to_numeric)\n",
    "\n",
    "            if isinstance(ks, dict):\n",
    "                k = ks[f\"{location}_{survey_date_in}\"]\n",
    "            else:\n",
    "                k=ks\n",
    "\n",
    "            if k < thresh_k:\n",
    "                k = mean_threshold_k\n",
    "            else:\n",
    "                pass\n",
    "\n",
    "            minmax_scaled_df = scaler.fit_transform(np.nan_to_num(data_clean))\n",
    "\n",
    "            clusterer = KMeans(\n",
    "                n_clusters=k,\n",
    "                init=\"k-means++\",\n",
    "                algorithm=\"elkan\",\n",
    "                tol=0.0001,\n",
    "                random_state=random_state,\n",
    "            )\n",
    "\n",
    "            data_in[\"label_k\"] = clusterer.fit_predict(minmax_scaled_df)\n",
    "\n",
    "            data_classified = pd.concat(\n",
    "                [data_in, data_classified], ignore_index=True\n",
    "            )\n",
    "\n",
    "    return data_classified\n",
    "\n",
    "\n",
    "def check_dicts_duplicated_values(l_dicts):\n",
    "\n",
    "    dict_check = {}\n",
    "    dict_dups = {}\n",
    "    all_dicts=[dicto for dicto in l_dicts.values()]\n",
    "\n",
    "    for dict_in in all_dicts:\n",
    "        for key in set().union(*all_dicts):\n",
    "            if key in dict_in:\n",
    "                dict_check.setdefault(key, []).extend(dict_in[key])\n",
    "\n",
    "    for survey, labels in dict_check.items():\n",
    "        duplicated=[x for x in labels if labels.count(x) > 1]\n",
    "        if len(duplicated)>=1:\n",
    "            dict_dups.update({survey:set(set(duplicated))})\n",
    "\n",
    "    if len(dict_dups)>0:\n",
    "        raise ValueError(f\"Duplicated label_k found in the following dictionaries.\\n\\n{dict_dups}\\n\\nPlease revise and assigned those labels_k to only one class dictionary.\")\n",
    "\n",
    "\n",
    "\n",
    "def classify_labelk(labelled_dataset,l_dicts, cluster_field='label_k', fill_class='sand'):\n",
    "\n",
    "    check_dicts_duplicated_values(l_dicts)\n",
    "\n",
    "    labelled_dataset[\"pt_class\"]=np.nan\n",
    "\n",
    "    all_keys = set().union(*(d.keys() for d in [i for i in l_dicts.values()]))\n",
    "    class_names=l_dicts.keys()\n",
    "\n",
    "    classed_df=pd.DataFrame()\n",
    "\n",
    "    for loc in labelled_dataset.location.unique():\n",
    "        data_in_loc=labelled_dataset.query(f\"location=='{loc}'\")[[\"location\",\"raw_date\",cluster_field,\"pt_class\",'point_id']]\n",
    "\n",
    "        for raw_date in data_in_loc.raw_date.unique():\n",
    "            loc_date_tag=f\"{loc}_{raw_date}\"\n",
    "            data_in=data_in_loc.query(f\"raw_date=={raw_date}\")\n",
    "\n",
    "            if loc_date_tag in all_keys:\n",
    "\n",
    "                for class_in in class_names:\n",
    "\n",
    "                    if loc_date_tag in l_dicts[class_in].keys():\n",
    "                        loc_date_class_values=l_dicts[class_in][loc_date_tag]\n",
    "\n",
    "                        if len(loc_date_class_values)>=1:\n",
    "                            tmp_dict={label_k:class_in for label_k in loc_date_class_values}\n",
    "                            data_in['pt_class'].update(data_in[cluster_field].map(tmp_dict))\n",
    "\n",
    "                        else:\n",
    "                            pass\n",
    "                    else:\n",
    "                        pass\n",
    "            else:\n",
    "                print(f\"{loc_date_tag} not in the class dictionaries. All their labels assigned to fill_class {fill_class}.\")\n",
    "                data_in[\"pt_class\"].fillna(fill_class, inplace=True)\n",
    "\n",
    "            classed_df=pd.concat([classed_df,data_in], ignore_index=True)\n",
    "\n",
    "    merged=labelled_dataset.iloc[:,:-1].merge(right=classed_df[['point_id','pt_class']], on='point_id', how='left')\n",
    "\n",
    "    merged[\"pt_class\"].fillna(fill_class, inplace=True)\n",
    "    return merged\n",
    "\n",
    "def cleanit(to_clean, l_dicts, cluster_field='label_k', fill_class='sand',\n",
    "            watermasks_path=None, water_label='water',\n",
    "            shoremasks_path=None, label_corrections_path=None,\n",
    "            crs_dict_string=None,\n",
    "           geometry_field='coordinates'):\n",
    "\n",
    "    print(\"Reclassifying dataset with the provided dictionaries.\" )\n",
    "    to_clean_classified=classify_labelk(to_clean, l_dicts)\n",
    "\n",
    "    if watermasks_path==None and shoremasks_path==None and label_corrections_path==None:\n",
    "        print(\"No cleaning polygones have been passed. Returning classified dataset.\")\n",
    "        return to_clean_classified\n",
    "\n",
    "    processes=[]\n",
    "\n",
    "    #______ LABELS FINETUNING_______________\n",
    "\n",
    "    if label_corrections_path != None:\n",
    "        if os.path.isfile(label_corrections_path):\n",
    "            label_corrections=gpd.read_file(label_corrections_path)\n",
    "            print(f\"Label corrections provided in CRS: {label_corrections.crs}\")\n",
    "\n",
    "            # validate label correction polygons\n",
    "            #if crs_dict_string != None:\n",
    "            #    check_overlaps_poly_label(label_corrections,to_clean_classified,crs_dict_string)\n",
    "            #else:\n",
    "            #    check_overlaps_poly_label(label_corrections,to_clean_classified,label_corrections.crs.to_epsg())\n",
    "\n",
    "            processes.append(\"polygon finetuning\")\n",
    "            to_update_finetune=pd.DataFrame()\n",
    "\n",
    "\n",
    "            for loc in label_corrections.location.unique():\n",
    "                print(f\"Fine tuning in {loc}.\")\n",
    "\n",
    "                to_clean_subset_loc=to_clean_classified.query(f\" location == '{loc}'\")\n",
    "\n",
    "                for raw_date in tqdm(label_corrections.query(f\"location=='{loc}'\").raw_date.unique()):\n",
    "\n",
    "                    subset_finetune_polys=label_corrections.query(f\"location=='{loc}' and raw_date== {raw_date}\")\n",
    "\n",
    "                    for i,row in subset_finetune_polys.iterrows(): # loops through all the polygones\n",
    "\n",
    "                        target_k=int(row['target_label_k'])\n",
    "                        new_class=row['new_class']\n",
    "\n",
    "                        if target_k != 999:\n",
    "                            data_in=to_clean_subset_loc.query(f\"raw_date == {raw_date} and label_k== {target_k}\")\n",
    "\n",
    "                        elif target_k == 999:\n",
    "                            data_in=to_clean_subset_loc.query(f\"raw_date == {raw_date}\")\n",
    "\n",
    "                        selection=data_in[data_in.coordinates.intersects(row.geometry)]\n",
    "\n",
    "                        if selection.shape[0]==0:\n",
    "                            selection=data_in[data_in.to_crs(crs_dict_string[loc]).coordinates.intersects(row.geometry)]\n",
    "                        else:\n",
    "                            pass\n",
    "                        selection[\"finetuned_label\"]=new_class\n",
    "\n",
    "                        print(f\"Fine-tuning label_k {target_k} to {new_class} in {loc}-{raw_date}, found {selection.shape[0]} pts.\")\n",
    "                        to_update_finetune=pd.concat([selection,to_update_finetune], ignore_index=True)\n",
    "\n",
    "            classed_df_finetuned=to_clean_classified.merge(right=to_update_finetune.loc[:,['point_id','finetuned_label']], # Left Join\n",
    "                                         how='left', validate='one_to_one')\n",
    "\n",
    "            classed_df_finetuned.finetuned_label.fillna(classed_df_finetuned.pt_class, inplace=True) # Fill NaN with previous sand labels\n",
    "        else:\n",
    "            raise NameError(\"Label correction file path is invalid.\")\n",
    "\n",
    "\n",
    "    else:\n",
    "        pass\n",
    "\n",
    "    if shoremasks_path == None and watermasks_path == None:\n",
    "        print(f\"{processes} completed.\")\n",
    "\n",
    "        if 'watermasked_label' in classed_df_finetuned.columns and 'finetuned_label' not in classed_df_finetuned.columns:\n",
    "            classed_df_finetuned['pt_class']=classed_df_finetuned.watermasked_label\n",
    "            classed_df_finetuned.drop(['watermasked_label'], axis=1, inplace=True)\n",
    "\n",
    "        elif 'finetuned_label' in classed_df_finetuned.columns and 'watermasked_label' not in classed_df_finetuned.columns:\n",
    "            classed_df_finetuned['pt_class']=classed_df_finetuned.finetuned_label\n",
    "            classed_df_finetuned.drop(['finetuned_label'], axis=1, inplace=True)\n",
    "\n",
    "        elif 'finetuned_label' in classed_df_finetuned.columns and 'watermasked_label' in classed_df_finetuned.columns:\n",
    "            classed_df_finetuned['pt_class']=classed_df_finetuned.watermasked_label\n",
    "            classed_df_finetuned.drop(['finetuned_label','watermasked_label'], axis=1, inplace=True)\n",
    "\n",
    "        else:\n",
    "            pass\n",
    "\n",
    "        return classed_df_finetuned\n",
    "    else:\n",
    "        pass\n",
    "\n",
    "    #______ WATERMASKING_______________\n",
    "\n",
    "    if watermasks_path != None:\n",
    "        if os.path.isfile(watermasks_path):\n",
    "            # apply watermasks\n",
    "            watermask=gpd.read_file(watermasks_path)\n",
    "            print(f\"watermask  provided in CRS: {watermask.crs}\")\n",
    "\n",
    "\n",
    "            print(\"Applying watermasks cleaning.\")\n",
    "            processes.append(\"watermasking\")\n",
    "\n",
    "            if \"polygon finetuning\" in processes:\n",
    "                dataset_to_clean=classed_df_finetuned\n",
    "                starting_labels='finetuned_label'\n",
    "            else:\n",
    "                dataset_to_clean=to_clean_classified\n",
    "                starting_labels='pt_class'\n",
    "\n",
    "\n",
    "            to_update_watermasked=pd.DataFrame()\n",
    "\n",
    "            for loc in watermask.location.unique():\n",
    "                print(f\"Watermasking in {loc}.\")\n",
    "\n",
    "                for raw_date in tqdm(watermask.query(f\"location=='{loc}'\").raw_date.unique()):\n",
    "\n",
    "                    subset_data=dataset_to_clean.query(f\"location=='{loc}' and raw_date == {raw_date}\")\n",
    "                    subset_masks=watermask.query(f\"location=='{loc}' and raw_date == {raw_date}\")\n",
    "\n",
    "                    selection=subset_data[subset_data.geometry.intersects(subset_masks.geometry)]\n",
    "                    if selection.shape[0]==0:\n",
    "                        selection=subset_data[subset_data.geometry.intersects(subset_masks.to_crs(crs_dict_string[loc]).geometry.any())]\n",
    "                    else:\n",
    "                        pass\n",
    "\n",
    "                    print(f\"Setting to {water_label} {selection.shape[0]} pts overlapping provided watermasks.\")\n",
    "\n",
    "                    selection[\"watermasked_label\"]=water_label\n",
    "\n",
    "                    to_update_watermasked=pd.concat([selection,to_update_watermasked], ignore_index=True)\n",
    "\n",
    "            classed_df_watermasked=dataset_to_clean.merge(right=to_update_watermasked.loc[:,['point_id','watermasked_label']], # Left Join\n",
    "                                         how='left', validate='one_to_one')\n",
    "            classed_df_watermasked.watermasked_label.fillna(classed_df_watermasked.loc[:,starting_labels], inplace=True) # Fill NaN with previous sand labels\n",
    "\n",
    "            if shoremasks_path == None:\n",
    "                print(f\"{processes} completed.\")\n",
    "\n",
    "                if 'watermasked_label' in classed_df_watermasked.columns and 'finetuned_label' not in classed_df_watermasked.columns:\n",
    "                    classed_df_watermasked['pt_class']=classed_df_watermasked.watermasked_label\n",
    "                    classed_df_watermasked.drop(['watermasked_label'], axis=1, inplace=True)\n",
    "\n",
    "                elif 'finetuned_label' in classed_df_watermasked.columns and 'watermasked_label' not in classed_df_watermasked.columns:\n",
    "                    classed_df_watermasked['pt_class']=classed_df_watermasked.finetuned_label\n",
    "                    classed_df_watermasked.drop(['finetuned_label'], axis=1, inplace=True)\n",
    "\n",
    "                elif 'finetuned_label' in classed_df_watermasked.columns and 'watermasked_label' in classed_df_watermasked.columns:\n",
    "                    classed_df_watermasked['pt_class']=classed_df_watermasked.watermasked_label\n",
    "                    classed_df_watermasked.drop(['finetuned_label','watermasked_label'], axis=1, inplace=True)\n",
    "\n",
    "                else:\n",
    "                    pass\n",
    "\n",
    "                return classed_df_watermasked\n",
    "        else:\n",
    "            raise NameError(\"watermask file path is invalid.\")\n",
    "\n",
    "    else:\n",
    "        pass\n",
    "\n",
    "    #______ SHOREMASKING_______________\n",
    "\n",
    "    if shoremasks_path != None:\n",
    "        if os.path.isfile(shoremasks_path):\n",
    "            # apply shoremasks\n",
    "            shoremask=gpd.read_file(shoremasks_path)\n",
    "            print(f\"shoremask  provided in CRS: {shoremask.crs}\")\n",
    "            print(\"Applying shoremasks cleaning.\")\n",
    "            processes.append(\"shoremasking\")\n",
    "\n",
    "\n",
    "            if \"polygon finetuning\" in processes and \"watermasking\" not in processes:\n",
    "                dataset_to_clean=classed_df_finetuned\n",
    "            elif \"polygon finetuning\" not in processes and \"watermasking\" in processes:\n",
    "                dataset_to_clean=classed_df_watermasked\n",
    "            elif \"polygon finetuning\"  in processes and \"watermasking\" in processes:\n",
    "                dataset_to_clean=classed_df_watermasked\n",
    "            else:\n",
    "                dataset_to_clean=to_clean_classified\n",
    "\n",
    "            inshore_cleaned=gpd.GeoDataFrame()\n",
    "            for loc in shoremask.location.unique():\n",
    "                print(f\"Shoremasking in {loc}.\")\n",
    "\n",
    "                shore=shoremask.query(f\"location=='{loc}'\")\n",
    "                loc_selection=dataset_to_clean.query(f\"location=='{loc}'\")\n",
    "                in_shore=loc_selection[loc_selection.geometry.intersects(shore.geometry)]\n",
    "                if in_shore.shape[0]>=1:\n",
    "                    pass\n",
    "                else:\n",
    "                    in_shore=loc_selection[loc_selection.geometry.intersects(shore.to_crs(crs_dict_string[loc]).geometry.any())]\n",
    "\n",
    "                print(f\"Removing {loc_selection.shape[0] - in_shore.shape[0]} pts falling outside provided shore polygones.\")\n",
    "                inshore_cleaned=pd.concat([in_shore,inshore_cleaned], ignore_index=True)\n",
    "\n",
    "            print(f\"{processes} completed.\")\n",
    "\n",
    "            if 'watermasked_label' in inshore_cleaned.columns and 'finetuned_label' not in inshore_cleaned.columns:\n",
    "                inshore_cleaned['pt_class']=inshore_cleaned.watermasked_label\n",
    "                inshore_cleaned.drop(['watermasked_label'], axis=1, inplace=True)\n",
    "\n",
    "            elif 'finetuned_label' in inshore_cleaned.columns and 'watermasked_label' not in inshore_cleaned.columns:\n",
    "                inshore_cleaned['pt_class']=inshore_cleaned.finetuned_label\n",
    "                inshore_cleaned.drop(['finetuned_label'], axis=1, inplace=True)\n",
    "\n",
    "            elif 'finetuned_label' in inshore_cleaned.columns and 'watermasked_label' in inshore_cleaned.columns:\n",
    "                inshore_cleaned['pt_class']=inshore_cleaned.watermasked_label\n",
    "                inshore_cleaned.drop(['finetuned_label','watermasked_label'], axis=1, inplace=True)\n",
    "\n",
    "            else:\n",
    "                pass\n",
    "\n",
    "            return inshore_cleaned\n",
    "        else:\n",
    "            raise NameError(\"shoremask file path is invalid.\")"
   ]
  },
  {
   "cell_type": "code",
   "execution_count": 3,
   "id": "f9aef294",
   "metadata": {},
   "outputs": [],
   "source": [
    "water_dict={'leo_20180606':[0,9,10],\n",
    "'leo_20180713':[0,3,4,7],\n",
    "'leo_20180920':[0,2,6,7],\n",
    "'leo_20190211':[0,2,5],\n",
    "'leo_20190328':[2,4,5],\n",
    "'leo_20190731':[0,2,8,6],\n",
    "'mar_20180601':[1,6],\n",
    "'mar_20180621':[4,6],\n",
    "'mar_20180727':[0,5,9,10],\n",
    "'mar_20180925':[6],\n",
    "'mar_20181113':[1],\n",
    "'mar_20181211':[4],\n",
    "'mar_20190205':[],\n",
    "'mar_20190313':[],\n",
    "'mar_20190516':[4,7]}\n",
    "\n",
    "no_sand_dict={'leo_20180606':[5],\n",
    "'leo_20180713':[],\n",
    "'leo_20180920':[],\n",
    "'leo_20190211':[1],\n",
    "'leo_20190328':[],\n",
    "'leo_20190731':[1],\n",
    "'mar_20180601':[4,5],\n",
    "'mar_20180621':[3,5],\n",
    "'mar_20180727':[4,7],\n",
    "'mar_20180925':[5],\n",
    "'mar_20181113':[0],\n",
    "'mar_20181211':[0],\n",
    "'mar_20190205':[0,5],\n",
    "'mar_20190313':[4],\n",
    "'mar_20190516':[2,5]}\n",
    "\n",
    "veg_dict={'leo_20180606':[1,3,7,8],\n",
    "'leo_20180713':[1,5,9],\n",
    "'leo_20180920':[1,4,5],\n",
    "'leo_20190211':[4],\n",
    "'leo_20190328':[0,1,6],\n",
    "'leo_20190731':[3,7],\n",
    "'mar_20180601':[0,7],\n",
    "'mar_20180621':[1,7],\n",
    "'mar_20180727':[1,3],\n",
    "'mar_20180925':[1,3],\n",
    "'mar_20181113':[3],\n",
    "'mar_20181211':[2],\n",
    "'mar_20190205':[3],\n",
    "'mar_20190313':[1,5],\n",
    "'mar_20190516':[0]}\n",
    "\n",
    "sand_dict={'leo_20180606':[2,4,6],\n",
    "'leo_20180713':[2,6,8],\n",
    "'leo_20180920':[3],\n",
    "'leo_20190211':[3],\n",
    "'leo_20190328':[3],\n",
    "'leo_20190731':[4,5],\n",
    "'mar_20180601':[2,3],\n",
    "'mar_20180621':[0,2],\n",
    "'mar_20180727':[2,6,8],\n",
    "'mar_20180925':[0,4,2],\n",
    "'mar_20181113':[2,4],\n",
    "'mar_20181211':[3,1],\n",
    "'mar_20190205':[1,2,4],\n",
    "'mar_20190313':[0,2,3],\n",
    "'mar_20190516':[1,3,6]}\n",
    "\n",
    "l_dicts={'no_sand': no_sand_dict,\n",
    "         'sand': sand_dict,\n",
    "        'water': water_dict,\n",
    "        'veg':veg_dict}# set the path to the test data folder\n",
    "test_data_folder = r\"C:\\my_packages\\sandpyper\\examples\\test_data\"\n",
    "\n",
    "# the paths to the DSM, orthophotos and transect directories\n",
    "dirNameDSM=Path(test_data_folder + r\"\\dsm_1m\")\n",
    "dirNameOrtho=Path(test_data_folder + r\"\\orthos_1m\")\n",
    "dirNameTrans=Path(test_data_folder + r\"\\transects\")\n",
    "\n",
    "# path to the LoD transects\n",
    "\n",
    "lod_mode=Path(test_data_folder + r\"\\lod_transects\")\n",
    "\n",
    "\n",
    "# the location codes used for the monitored locations\n",
    "loc_codes=[\"mar\",\"leo\"]\n",
    "\n",
    "\n",
    "# the keyword search dictionary\n",
    "loc_search_dict = {   'leo': ['St','Leonards','leonards','leo'],\n",
    "                   'mar': ['Marengo','marengo','mar'] }\n",
    "\n",
    "\n",
    "# the EPSG codes of the coordinate reference systems for each location code (location) given in CRS string format\n",
    "crs_dict_string= {\n",
    "                 'mar': {'init': 'epsg:32754'},\n",
    "                 'leo':{'init': 'epsg:32755'}\n",
    "                 }\n",
    "\n",
    "# the transect spacing of the transects\n",
    "transects_spacing=20"
   ]
  },
  {
   "cell_type": "code",
   "execution_count": 4,
   "id": "d10c44d7",
   "metadata": {},
   "outputs": [
    {
     "name": "stderr",
     "output_type": "stream",
     "text": [
      "C:\\anaconda3\\envs\\sandpyper_env\\lib\\site-packages\\geopandas\\geodataframe.py:422: RuntimeWarning: Sequential read of iterator was interrupted. Resetting iterator. This can negatively impact the performance.\n",
      "  for feature in features_lst:\n"
     ]
    },
    {
     "name": "stdout",
     "output_type": "stream",
     "text": [
      "C:\\my_packages\\sandpyper\\examples\\test_data\\dsm_1m\n",
      "C:\\my_packages\\sandpyper\\examples\\test_data\\orthos_1m\n",
      "dsm from leo = 6\n",
      "\n",
      "ortho from leo = 6\n",
      "\n",
      "dsm from mar = 9\n",
      "\n",
      "ortho from mar = 9\n",
      "\n",
      "\n",
      "umber OF DATASETS TO PROCESS: 30\n",
      "Extracting elevation from DSMs . . .\n"
     ]
    },
    {
     "data": {
      "application/vnd.jupyter.widget-view+json": {
       "model_id": "239cc21b65b3443ca03821d99a35c55d",
       "version_major": 2,
       "version_minor": 0
      },
      "text/plain": [
       "  0%|          | 0/15 [00:00<?, ?it/s]"
      ]
     },
     "metadata": {},
     "output_type": "display_data"
    },
    {
     "data": {
      "application/vnd.jupyter.widget-view+json": {
       "model_id": "82805d6f514c4612b5bde64d0ba8d7e1",
       "version_major": 2,
       "version_minor": 0
      },
      "text/plain": [
       "  0%|          | 0/59 [00:00<?, ?it/s]"
      ]
     },
     "metadata": {},
     "output_type": "display_data"
    },
    {
     "data": {
      "application/vnd.jupyter.widget-view+json": {
       "model_id": "b519c2b25fb1467795661d8fd1cf7382",
       "version_major": 2,
       "version_minor": 0
      },
      "text/plain": [
       "  0%|          | 0/59 [00:00<?, ?it/s]"
      ]
     },
     "metadata": {},
     "output_type": "display_data"
    },
    {
     "data": {
      "application/vnd.jupyter.widget-view+json": {
       "model_id": "837abfde6b774f07b0bc26965b1f3fd1",
       "version_major": 2,
       "version_minor": 0
      },
      "text/plain": [
       "  0%|          | 0/59 [00:00<?, ?it/s]"
      ]
     },
     "metadata": {},
     "output_type": "display_data"
    },
    {
     "data": {
      "application/vnd.jupyter.widget-view+json": {
       "model_id": "416af1c10cec411c883ea6f560e5ea3b",
       "version_major": 2,
       "version_minor": 0
      },
      "text/plain": [
       "  0%|          | 0/59 [00:00<?, ?it/s]"
      ]
     },
     "metadata": {},
     "output_type": "display_data"
    },
    {
     "data": {
      "application/vnd.jupyter.widget-view+json": {
       "model_id": "24a73b22aeac427d9876f56bcc04c1d1",
       "version_major": 2,
       "version_minor": 0
      },
      "text/plain": [
       "  0%|          | 0/59 [00:00<?, ?it/s]"
      ]
     },
     "metadata": {},
     "output_type": "display_data"
    },
    {
     "data": {
      "application/vnd.jupyter.widget-view+json": {
       "model_id": "cc1dcd3cd65b4b64897f9dce0443b769",
       "version_major": 2,
       "version_minor": 0
      },
      "text/plain": [
       "  0%|          | 0/59 [00:00<?, ?it/s]"
      ]
     },
     "metadata": {},
     "output_type": "display_data"
    },
    {
     "data": {
      "application/vnd.jupyter.widget-view+json": {
       "model_id": "96021c2488674d35a18cd9bd632017c8",
       "version_major": 2,
       "version_minor": 0
      },
      "text/plain": [
       "  0%|          | 0/22 [00:00<?, ?it/s]"
      ]
     },
     "metadata": {},
     "output_type": "display_data"
    },
    {
     "data": {
      "application/vnd.jupyter.widget-view+json": {
       "model_id": "21724a3fd9a04b6c812dfc92789e4003",
       "version_major": 2,
       "version_minor": 0
      },
      "text/plain": [
       "  0%|          | 0/22 [00:00<?, ?it/s]"
      ]
     },
     "metadata": {},
     "output_type": "display_data"
    },
    {
     "data": {
      "application/vnd.jupyter.widget-view+json": {
       "model_id": "a77a667393ce4b96b6e040fe5efc2334",
       "version_major": 2,
       "version_minor": 0
      },
      "text/plain": [
       "  0%|          | 0/22 [00:00<?, ?it/s]"
      ]
     },
     "metadata": {},
     "output_type": "display_data"
    },
    {
     "data": {
      "application/vnd.jupyter.widget-view+json": {
       "model_id": "7bf553f858b647b78626afcfb0947637",
       "version_major": 2,
       "version_minor": 0
      },
      "text/plain": [
       "  0%|          | 0/22 [00:00<?, ?it/s]"
      ]
     },
     "metadata": {},
     "output_type": "display_data"
    },
    {
     "data": {
      "application/vnd.jupyter.widget-view+json": {
       "model_id": "d57cd84428674e3185c6753e30baff30",
       "version_major": 2,
       "version_minor": 0
      },
      "text/plain": [
       "  0%|          | 0/22 [00:00<?, ?it/s]"
      ]
     },
     "metadata": {},
     "output_type": "display_data"
    },
    {
     "data": {
      "application/vnd.jupyter.widget-view+json": {
       "model_id": "a73311d7dedd451f8dffe408ce669ea8",
       "version_major": 2,
       "version_minor": 0
      },
      "text/plain": [
       "  0%|          | 0/22 [00:00<?, ?it/s]"
      ]
     },
     "metadata": {},
     "output_type": "display_data"
    },
    {
     "data": {
      "application/vnd.jupyter.widget-view+json": {
       "model_id": "93875c70fef14ebaa128a861599a004d",
       "version_major": 2,
       "version_minor": 0
      },
      "text/plain": [
       "  0%|          | 0/22 [00:00<?, ?it/s]"
      ]
     },
     "metadata": {},
     "output_type": "display_data"
    },
    {
     "data": {
      "application/vnd.jupyter.widget-view+json": {
       "model_id": "8ff92b2265af48b186fd4b7b328c9434",
       "version_major": 2,
       "version_minor": 0
      },
      "text/plain": [
       "  0%|          | 0/22 [00:00<?, ?it/s]"
      ]
     },
     "metadata": {},
     "output_type": "display_data"
    },
    {
     "data": {
      "application/vnd.jupyter.widget-view+json": {
       "model_id": "81e1dc0b821540d18366d0c11b40232f",
       "version_major": 2,
       "version_minor": 0
      },
      "text/plain": [
       "  0%|          | 0/22 [00:00<?, ?it/s]"
      ]
     },
     "metadata": {},
     "output_type": "display_data"
    },
    {
     "name": "stdout",
     "output_type": "stream",
     "text": [
      "Extraction successful\n",
      "Number of points extracted:32805\n",
      "Time for processing=43.831400871276855 seconds\n",
      "First 10 rows are printed below\n",
      "Number of points outside the raster extents: 9066\n",
      "The extraction assigns NaN.\n",
      "Number of points in NoData areas within the raster extents: 250\n",
      "The extraction assigns NaN.\n",
      "Extracting rgb values from orthos . . .\n"
     ]
    },
    {
     "data": {
      "application/vnd.jupyter.widget-view+json": {
       "model_id": "63fc908820e447e8939136df5fce8d82",
       "version_major": 2,
       "version_minor": 0
      },
      "text/plain": [
       "  0%|          | 0/15 [00:00<?, ?it/s]"
      ]
     },
     "metadata": {},
     "output_type": "display_data"
    },
    {
     "name": "stderr",
     "output_type": "stream",
     "text": [
      "C:\\anaconda3\\envs\\sandpyper_env\\lib\\site-packages\\geopandas\\geodataframe.py:422: RuntimeWarning: Sequential read of iterator was interrupted. Resetting iterator. This can negatively impact the performance.\n",
      "  for feature in features_lst:\n"
     ]
    },
    {
     "data": {
      "application/vnd.jupyter.widget-view+json": {
       "model_id": "1704554e096845fdb290a26b069f3193",
       "version_major": 2,
       "version_minor": 0
      },
      "text/plain": [
       "  0%|          | 0/59 [00:00<?, ?it/s]"
      ]
     },
     "metadata": {},
     "output_type": "display_data"
    },
    {
     "data": {
      "application/vnd.jupyter.widget-view+json": {
       "model_id": "f5c6aad43ed440fc9aff3c1fa107c984",
       "version_major": 2,
       "version_minor": 0
      },
      "text/plain": [
       "  0%|          | 0/59 [00:00<?, ?it/s]"
      ]
     },
     "metadata": {},
     "output_type": "display_data"
    },
    {
     "data": {
      "application/vnd.jupyter.widget-view+json": {
       "model_id": "34056dd06da744f8a49d53c30d399ee8",
       "version_major": 2,
       "version_minor": 0
      },
      "text/plain": [
       "  0%|          | 0/59 [00:00<?, ?it/s]"
      ]
     },
     "metadata": {},
     "output_type": "display_data"
    },
    {
     "data": {
      "application/vnd.jupyter.widget-view+json": {
       "model_id": "6b7ae46e5240489dbeff31cf418f0962",
       "version_major": 2,
       "version_minor": 0
      },
      "text/plain": [
       "  0%|          | 0/59 [00:00<?, ?it/s]"
      ]
     },
     "metadata": {},
     "output_type": "display_data"
    },
    {
     "data": {
      "application/vnd.jupyter.widget-view+json": {
       "model_id": "5cecf41024964e219c250dbb1ee02b89",
       "version_major": 2,
       "version_minor": 0
      },
      "text/plain": [
       "  0%|          | 0/59 [00:00<?, ?it/s]"
      ]
     },
     "metadata": {},
     "output_type": "display_data"
    },
    {
     "data": {
      "application/vnd.jupyter.widget-view+json": {
       "model_id": "2f52d40c5f564ffbbc4c29381695c622",
       "version_major": 2,
       "version_minor": 0
      },
      "text/plain": [
       "  0%|          | 0/59 [00:00<?, ?it/s]"
      ]
     },
     "metadata": {},
     "output_type": "display_data"
    },
    {
     "data": {
      "application/vnd.jupyter.widget-view+json": {
       "model_id": "0df1f156041d4c41966d9cc60ffaccc4",
       "version_major": 2,
       "version_minor": 0
      },
      "text/plain": [
       "  0%|          | 0/22 [00:00<?, ?it/s]"
      ]
     },
     "metadata": {},
     "output_type": "display_data"
    },
    {
     "data": {
      "application/vnd.jupyter.widget-view+json": {
       "model_id": "e6fceb5c4b2940ab82d74f76010b7d60",
       "version_major": 2,
       "version_minor": 0
      },
      "text/plain": [
       "  0%|          | 0/22 [00:00<?, ?it/s]"
      ]
     },
     "metadata": {},
     "output_type": "display_data"
    },
    {
     "data": {
      "application/vnd.jupyter.widget-view+json": {
       "model_id": "cce9d0ad05484a728b9c7db382e1e24e",
       "version_major": 2,
       "version_minor": 0
      },
      "text/plain": [
       "  0%|          | 0/22 [00:00<?, ?it/s]"
      ]
     },
     "metadata": {},
     "output_type": "display_data"
    },
    {
     "data": {
      "application/vnd.jupyter.widget-view+json": {
       "model_id": "362b26f17afd4389b22b8cd7de7b6d08",
       "version_major": 2,
       "version_minor": 0
      },
      "text/plain": [
       "  0%|          | 0/22 [00:00<?, ?it/s]"
      ]
     },
     "metadata": {},
     "output_type": "display_data"
    },
    {
     "data": {
      "application/vnd.jupyter.widget-view+json": {
       "model_id": "11c9d48c9bf446be9c0108412fd59d78",
       "version_major": 2,
       "version_minor": 0
      },
      "text/plain": [
       "  0%|          | 0/22 [00:00<?, ?it/s]"
      ]
     },
     "metadata": {},
     "output_type": "display_data"
    },
    {
     "data": {
      "application/vnd.jupyter.widget-view+json": {
       "model_id": "46de81ee76d0448eb07acadafed98c6d",
       "version_major": 2,
       "version_minor": 0
      },
      "text/plain": [
       "  0%|          | 0/22 [00:00<?, ?it/s]"
      ]
     },
     "metadata": {},
     "output_type": "display_data"
    },
    {
     "data": {
      "application/vnd.jupyter.widget-view+json": {
       "model_id": "077f852d7cb24d228f814537be97623d",
       "version_major": 2,
       "version_minor": 0
      },
      "text/plain": [
       "  0%|          | 0/22 [00:00<?, ?it/s]"
      ]
     },
     "metadata": {},
     "output_type": "display_data"
    },
    {
     "data": {
      "application/vnd.jupyter.widget-view+json": {
       "model_id": "307732fab7d0422294a1dbe2ee5c327f",
       "version_major": 2,
       "version_minor": 0
      },
      "text/plain": [
       "  0%|          | 0/22 [00:00<?, ?it/s]"
      ]
     },
     "metadata": {},
     "output_type": "display_data"
    },
    {
     "data": {
      "application/vnd.jupyter.widget-view+json": {
       "model_id": "f39293ccf5a242b09ee41419b74c749e",
       "version_major": 2,
       "version_minor": 0
      },
      "text/plain": [
       "  0%|          | 0/22 [00:00<?, ?it/s]"
      ]
     },
     "metadata": {},
     "output_type": "display_data"
    },
    {
     "name": "stdout",
     "output_type": "stream",
     "text": [
      "Extraction successful\n",
      "Number of points extracted:32805\n",
      "Time for processing=49.325127601623535 seconds\n",
      "First 10 rows are printed below\n",
      "Number of points outside the raster extents: 27198\n",
      "The extraction assigns NaN.\n",
      "Number of points in NoData areas within the raster extents: 0\n",
      "The extraction assigns NaN.\n",
      "Extracting LoD values\n"
     ]
    },
    {
     "data": {
      "application/vnd.jupyter.widget-view+json": {
       "model_id": "74c911519ed24d0d8edcbdb3f3169b7d",
       "version_major": 2,
       "version_minor": 0
      },
      "text/plain": [
       "  0%|          | 0/15 [00:00<?, ?it/s]"
      ]
     },
     "metadata": {},
     "output_type": "display_data"
    },
    {
     "name": "stderr",
     "output_type": "stream",
     "text": [
      "C:\\anaconda3\\envs\\sandpyper_env\\lib\\site-packages\\geopandas\\geodataframe.py:422: RuntimeWarning: Sequential read of iterator was interrupted. Resetting iterator. This can negatively impact the performance.\n",
      "  for feature in features_lst:\n"
     ]
    },
    {
     "data": {
      "application/vnd.jupyter.widget-view+json": {
       "model_id": "ad5e7926b8f44937b474c862c70f65d1",
       "version_major": 2,
       "version_minor": 0
      },
      "text/plain": [
       "  0%|          | 0/7 [00:00<?, ?it/s]"
      ]
     },
     "metadata": {},
     "output_type": "display_data"
    },
    {
     "data": {
      "application/vnd.jupyter.widget-view+json": {
       "model_id": "17f1795d68044d76b92e2af45012f685",
       "version_major": 2,
       "version_minor": 0
      },
      "text/plain": [
       "  0%|          | 0/7 [00:00<?, ?it/s]"
      ]
     },
     "metadata": {},
     "output_type": "display_data"
    },
    {
     "data": {
      "application/vnd.jupyter.widget-view+json": {
       "model_id": "fa103cf1696d4ff1921cc484210a4b18",
       "version_major": 2,
       "version_minor": 0
      },
      "text/plain": [
       "  0%|          | 0/7 [00:00<?, ?it/s]"
      ]
     },
     "metadata": {},
     "output_type": "display_data"
    },
    {
     "data": {
      "application/vnd.jupyter.widget-view+json": {
       "model_id": "d771cf16c06849c7902a0583c23300c4",
       "version_major": 2,
       "version_minor": 0
      },
      "text/plain": [
       "  0%|          | 0/7 [00:00<?, ?it/s]"
      ]
     },
     "metadata": {},
     "output_type": "display_data"
    },
    {
     "data": {
      "application/vnd.jupyter.widget-view+json": {
       "model_id": "5a9302dab52a4a869f9cfb23810e8c79",
       "version_major": 2,
       "version_minor": 0
      },
      "text/plain": [
       "  0%|          | 0/7 [00:00<?, ?it/s]"
      ]
     },
     "metadata": {},
     "output_type": "display_data"
    },
    {
     "data": {
      "application/vnd.jupyter.widget-view+json": {
       "model_id": "a8cb15d8e6fd49f1b0dfb990683b6546",
       "version_major": 2,
       "version_minor": 0
      },
      "text/plain": [
       "  0%|          | 0/7 [00:00<?, ?it/s]"
      ]
     },
     "metadata": {},
     "output_type": "display_data"
    },
    {
     "data": {
      "application/vnd.jupyter.widget-view+json": {
       "model_id": "a4edeb90a2254419b8a287134ed34f5f",
       "version_major": 2,
       "version_minor": 0
      },
      "text/plain": [
       "  0%|          | 0/6 [00:00<?, ?it/s]"
      ]
     },
     "metadata": {},
     "output_type": "display_data"
    },
    {
     "data": {
      "application/vnd.jupyter.widget-view+json": {
       "model_id": "c8a0cd93ea25498fbdd1eb2389a75a69",
       "version_major": 2,
       "version_minor": 0
      },
      "text/plain": [
       "  0%|          | 0/6 [00:00<?, ?it/s]"
      ]
     },
     "metadata": {},
     "output_type": "display_data"
    },
    {
     "data": {
      "application/vnd.jupyter.widget-view+json": {
       "model_id": "d9f2829824e549558cd9f22b0f587bec",
       "version_major": 2,
       "version_minor": 0
      },
      "text/plain": [
       "  0%|          | 0/6 [00:00<?, ?it/s]"
      ]
     },
     "metadata": {},
     "output_type": "display_data"
    },
    {
     "data": {
      "application/vnd.jupyter.widget-view+json": {
       "model_id": "c1a8f279650a4210bf458cf00773f212",
       "version_major": 2,
       "version_minor": 0
      },
      "text/plain": [
       "  0%|          | 0/6 [00:00<?, ?it/s]"
      ]
     },
     "metadata": {},
     "output_type": "display_data"
    },
    {
     "data": {
      "application/vnd.jupyter.widget-view+json": {
       "model_id": "7607f60d386244808cecb6bff2543d81",
       "version_major": 2,
       "version_minor": 0
      },
      "text/plain": [
       "  0%|          | 0/6 [00:00<?, ?it/s]"
      ]
     },
     "metadata": {},
     "output_type": "display_data"
    },
    {
     "data": {
      "application/vnd.jupyter.widget-view+json": {
       "model_id": "01aae514f5954971b111b652802e30fa",
       "version_major": 2,
       "version_minor": 0
      },
      "text/plain": [
       "  0%|          | 0/6 [00:00<?, ?it/s]"
      ]
     },
     "metadata": {},
     "output_type": "display_data"
    },
    {
     "data": {
      "application/vnd.jupyter.widget-view+json": {
       "model_id": "18ef94443e8342c891b285832e14cabe",
       "version_major": 2,
       "version_minor": 0
      },
      "text/plain": [
       "  0%|          | 0/6 [00:00<?, ?it/s]"
      ]
     },
     "metadata": {},
     "output_type": "display_data"
    },
    {
     "data": {
      "application/vnd.jupyter.widget-view+json": {
       "model_id": "09b59f415cc04357b34210b19124dff3",
       "version_major": 2,
       "version_minor": 0
      },
      "text/plain": [
       "  0%|          | 0/6 [00:00<?, ?it/s]"
      ]
     },
     "metadata": {},
     "output_type": "display_data"
    },
    {
     "data": {
      "application/vnd.jupyter.widget-view+json": {
       "model_id": "5c2a679213b44dee99e7140973b5fac0",
       "version_major": 2,
       "version_minor": 0
      },
      "text/plain": [
       "  0%|          | 0/6 [00:00<?, ?it/s]"
      ]
     },
     "metadata": {},
     "output_type": "display_data"
    },
    {
     "name": "stdout",
     "output_type": "stream",
     "text": [
      "Extraction successful\n",
      "Number of points extracted:1395\n",
      "Time for processing=6.02780818939209 seconds\n",
      "First 10 rows are printed below\n",
      "Number of points outside the raster extents: 27\n",
      "The extraction assigns NaN.\n",
      "Number of points in NoData areas within the raster extents: 0\n",
      "The extraction assigns NaN.\n"
     ]
    },
    {
     "data": {
      "application/vnd.jupyter.widget-view+json": {
       "model_id": "92b06ee2fb7947a0bc6b72a72a021eac",
       "version_major": 2,
       "version_minor": 0
      },
      "text/plain": [
       "  0%|          | 0/2 [00:00<?, ?it/s]"
      ]
     },
     "metadata": {},
     "output_type": "display_data"
    },
    {
     "data": {
      "application/vnd.jupyter.widget-view+json": {
       "model_id": "d17a122e27c84868b8e49672aefb19a4",
       "version_major": 2,
       "version_minor": 0
      },
      "text/plain": [
       "  0%|          | 0/9 [00:00<?, ?it/s]"
      ]
     },
     "metadata": {},
     "output_type": "display_data"
    },
    {
     "name": "stdout",
     "output_type": "stream",
     "text": [
      "Working on : mar, 20190516.\n"
     ]
    },
    {
     "data": {
      "application/vnd.jupyter.widget-view+json": {
       "model_id": "eddc82de0f6e4213be8be0a729def698",
       "version_major": 2,
       "version_minor": 0
      },
      "text/plain": [
       "  0%|          | 0/13 [00:00<?, ?it/s]"
      ]
     },
     "metadata": {},
     "output_type": "display_data"
    },
    {
     "name": "stdout",
     "output_type": "stream",
     "text": [
      "For n_clusters = 2 The average silhouette_score is : 0.6219865168763407\n",
      "For n_clusters = 3 The average silhouette_score is : 0.535782834177223\n",
      "For n_clusters = 4 The average silhouette_score is : 0.5360693626824162\n",
      "For n_clusters = 5 The average silhouette_score is : 0.4560535847617118\n",
      "For n_clusters = 6 The average silhouette_score is : 0.45529082978244856\n",
      "For n_clusters = 7 The average silhouette_score is : 0.44623104595368007\n",
      "For n_clusters = 8 The average silhouette_score is : 0.4276467073078296\n",
      "For n_clusters = 9 The average silhouette_score is : 0.39984472497160034\n",
      "For n_clusters = 10 The average silhouette_score is : 0.3944833658664287\n",
      "For n_clusters = 11 The average silhouette_score is : 0.39290037915600995\n",
      "For n_clusters = 12 The average silhouette_score is : 0.3626866522843635\n",
      "For n_clusters = 13 The average silhouette_score is : 0.3537214969510808\n",
      "For n_clusters = 14 The average silhouette_score is : 0.360049558138258\n",
      "Working on : mar, 20190313.\n"
     ]
    },
    {
     "data": {
      "application/vnd.jupyter.widget-view+json": {
       "model_id": "c45ee202481e496ab817c545397ef945",
       "version_major": 2,
       "version_minor": 0
      },
      "text/plain": [
       "  0%|          | 0/13 [00:00<?, ?it/s]"
      ]
     },
     "metadata": {},
     "output_type": "display_data"
    },
    {
     "name": "stdout",
     "output_type": "stream",
     "text": [
      "For n_clusters = 2 The average silhouette_score is : 0.557958595647791\n",
      "For n_clusters = 3 The average silhouette_score is : 0.5140648301846097\n",
      "For n_clusters = 4 The average silhouette_score is : 0.5018436513556769\n",
      "For n_clusters = 5 The average silhouette_score is : 0.433979206893076\n",
      "For n_clusters = 6 The average silhouette_score is : 0.417124057365699\n",
      "For n_clusters = 7 The average silhouette_score is : 0.41877526043796687\n",
      "For n_clusters = 8 The average silhouette_score is : 0.3813644990945346\n",
      "For n_clusters = 9 The average silhouette_score is : 0.38298598316290156\n",
      "For n_clusters = 10 The average silhouette_score is : 0.38780357139523025\n",
      "For n_clusters = 11 The average silhouette_score is : 0.3705944933198418\n",
      "For n_clusters = 12 The average silhouette_score is : 0.3651637741592011\n",
      "For n_clusters = 13 The average silhouette_score is : 0.3626901435079943\n",
      "For n_clusters = 14 The average silhouette_score is : 0.364312347054231\n",
      "Working on : mar, 20190205.\n"
     ]
    },
    {
     "data": {
      "application/vnd.jupyter.widget-view+json": {
       "model_id": "37a556c9310241598a76bb7a3aaabae1",
       "version_major": 2,
       "version_minor": 0
      },
      "text/plain": [
       "  0%|          | 0/13 [00:00<?, ?it/s]"
      ]
     },
     "metadata": {},
     "output_type": "display_data"
    },
    {
     "name": "stdout",
     "output_type": "stream",
     "text": [
      "For n_clusters = 2 The average silhouette_score is : 0.5864811907668233\n",
      "For n_clusters = 3 The average silhouette_score is : 0.5287826504696901\n",
      "For n_clusters = 4 The average silhouette_score is : 0.5135421029464969\n",
      "For n_clusters = 5 The average silhouette_score is : 0.4307716357147362\n",
      "For n_clusters = 6 The average silhouette_score is : 0.4198951039452866\n",
      "For n_clusters = 7 The average silhouette_score is : 0.4216561839748987\n",
      "For n_clusters = 8 The average silhouette_score is : 0.4048963177852256\n",
      "For n_clusters = 9 The average silhouette_score is : 0.40309220394346107\n",
      "For n_clusters = 10 The average silhouette_score is : 0.3863324302013023\n",
      "For n_clusters = 11 The average silhouette_score is : 0.3797930282754271\n",
      "For n_clusters = 12 The average silhouette_score is : 0.38096229910474133\n",
      "For n_clusters = 13 The average silhouette_score is : 0.38270148296414735\n",
      "For n_clusters = 14 The average silhouette_score is : 0.38101196831610196\n",
      "Working on : mar, 20181211.\n"
     ]
    },
    {
     "data": {
      "application/vnd.jupyter.widget-view+json": {
       "model_id": "2375560ebbe247c5a9aefddad43d9392",
       "version_major": 2,
       "version_minor": 0
      },
      "text/plain": [
       "  0%|          | 0/13 [00:00<?, ?it/s]"
      ]
     },
     "metadata": {},
     "output_type": "display_data"
    },
    {
     "name": "stdout",
     "output_type": "stream",
     "text": [
      "For n_clusters = 2 The average silhouette_score is : 0.5408421089322027\n",
      "For n_clusters = 3 The average silhouette_score is : 0.5230591336669079\n",
      "For n_clusters = 4 The average silhouette_score is : 0.5212604455141028\n",
      "For n_clusters = 5 The average silhouette_score is : 0.4229400387683722\n",
      "For n_clusters = 6 The average silhouette_score is : 0.45245862927127983\n",
      "For n_clusters = 7 The average silhouette_score is : 0.4483238394769186\n",
      "For n_clusters = 8 The average silhouette_score is : 0.4196417680949735\n",
      "For n_clusters = 9 The average silhouette_score is : 0.40611511715414134\n",
      "For n_clusters = 10 The average silhouette_score is : 0.38659542553842996\n",
      "For n_clusters = 11 The average silhouette_score is : 0.3696055524901218\n",
      "For n_clusters = 12 The average silhouette_score is : 0.37009962399500085\n",
      "For n_clusters = 13 The average silhouette_score is : 0.35527656663572244\n",
      "For n_clusters = 14 The average silhouette_score is : 0.3465435289160837\n",
      "Working on : mar, 20181113.\n"
     ]
    },
    {
     "data": {
      "application/vnd.jupyter.widget-view+json": {
       "model_id": "0322afe3761f49509c4140a8d701a6d7",
       "version_major": 2,
       "version_minor": 0
      },
      "text/plain": [
       "  0%|          | 0/13 [00:00<?, ?it/s]"
      ]
     },
     "metadata": {},
     "output_type": "display_data"
    },
    {
     "name": "stdout",
     "output_type": "stream",
     "text": [
      "For n_clusters = 2 The average silhouette_score is : 0.5653353599190023\n",
      "For n_clusters = 3 The average silhouette_score is : 0.48082172651613736\n",
      "For n_clusters = 4 The average silhouette_score is : 0.4739355249881875\n",
      "For n_clusters = 5 The average silhouette_score is : 0.44998542160594424\n",
      "For n_clusters = 6 The average silhouette_score is : 0.46793686792032685\n",
      "For n_clusters = 7 The average silhouette_score is : 0.45141377362406754\n",
      "For n_clusters = 8 The average silhouette_score is : 0.4282875609756635\n",
      "For n_clusters = 9 The average silhouette_score is : 0.41407851845524357\n",
      "For n_clusters = 10 The average silhouette_score is : 0.40718423656045105\n",
      "For n_clusters = 11 The average silhouette_score is : 0.3903647922431344\n",
      "For n_clusters = 12 The average silhouette_score is : 0.3839833647433829\n",
      "For n_clusters = 13 The average silhouette_score is : 0.38065272471925277\n",
      "For n_clusters = 14 The average silhouette_score is : 0.3832072967705472\n",
      "Working on : mar, 20180925.\n"
     ]
    },
    {
     "data": {
      "application/vnd.jupyter.widget-view+json": {
       "model_id": "37cd5d07a70040fb9dd788ed66ad4b7b",
       "version_major": 2,
       "version_minor": 0
      },
      "text/plain": [
       "  0%|          | 0/13 [00:00<?, ?it/s]"
      ]
     },
     "metadata": {},
     "output_type": "display_data"
    },
    {
     "name": "stdout",
     "output_type": "stream",
     "text": [
      "For n_clusters = 2 The average silhouette_score is : 0.5781993163219185\n",
      "For n_clusters = 3 The average silhouette_score is : 0.5170856406873439\n",
      "For n_clusters = 4 The average silhouette_score is : 0.48466929384434043\n",
      "For n_clusters = 5 The average silhouette_score is : 0.4373504056027659\n",
      "For n_clusters = 6 The average silhouette_score is : 0.39375906953445383\n",
      "For n_clusters = 7 The average silhouette_score is : 0.38864190848914665\n",
      "For n_clusters = 8 The average silhouette_score is : 0.4035256487664215\n",
      "For n_clusters = 9 The average silhouette_score is : 0.3798356038299367\n",
      "For n_clusters = 10 The average silhouette_score is : 0.37962054426443537\n",
      "For n_clusters = 11 The average silhouette_score is : 0.3644375001522226\n",
      "For n_clusters = 12 The average silhouette_score is : 0.3558265298038209\n",
      "For n_clusters = 13 The average silhouette_score is : 0.34528697717595713\n",
      "For n_clusters = 14 The average silhouette_score is : 0.35004508855406896\n",
      "Working on : mar, 20180727.\n"
     ]
    },
    {
     "data": {
      "application/vnd.jupyter.widget-view+json": {
       "model_id": "799eef7a5e7f4f3483ede49c1231db3b",
       "version_major": 2,
       "version_minor": 0
      },
      "text/plain": [
       "  0%|          | 0/13 [00:00<?, ?it/s]"
      ]
     },
     "metadata": {},
     "output_type": "display_data"
    },
    {
     "name": "stdout",
     "output_type": "stream",
     "text": [
      "For n_clusters = 2 The average silhouette_score is : 0.5803251747670938\n",
      "For n_clusters = 3 The average silhouette_score is : 0.48850610227959923\n",
      "For n_clusters = 4 The average silhouette_score is : 0.4772654299979584\n",
      "For n_clusters = 5 The average silhouette_score is : 0.4135001777584117\n",
      "For n_clusters = 6 The average silhouette_score is : 0.38283314263428714\n",
      "For n_clusters = 7 The average silhouette_score is : 0.3755827513627956\n",
      "For n_clusters = 8 The average silhouette_score is : 0.3486272625814806\n",
      "For n_clusters = 9 The average silhouette_score is : 0.3367906257895182\n",
      "For n_clusters = 10 The average silhouette_score is : 0.3273888373123684\n",
      "For n_clusters = 11 The average silhouette_score is : 0.30071888963336296\n",
      "For n_clusters = 12 The average silhouette_score is : 0.3219840164575009\n",
      "For n_clusters = 13 The average silhouette_score is : 0.3222155159146202\n",
      "For n_clusters = 14 The average silhouette_score is : 0.307958370621084\n",
      "Working on : mar, 20180621.\n"
     ]
    },
    {
     "data": {
      "application/vnd.jupyter.widget-view+json": {
       "model_id": "06cc597c512943e483c02ff12032b2b6",
       "version_major": 2,
       "version_minor": 0
      },
      "text/plain": [
       "  0%|          | 0/13 [00:00<?, ?it/s]"
      ]
     },
     "metadata": {},
     "output_type": "display_data"
    },
    {
     "name": "stdout",
     "output_type": "stream",
     "text": [
      "For n_clusters = 2 The average silhouette_score is : 0.5439589764752933\n",
      "For n_clusters = 3 The average silhouette_score is : 0.4387708619085413\n",
      "For n_clusters = 4 The average silhouette_score is : 0.4501935908699898\n",
      "For n_clusters = 5 The average silhouette_score is : 0.3963414382040067\n",
      "For n_clusters = 6 The average silhouette_score is : 0.41807731086369254\n",
      "For n_clusters = 7 The average silhouette_score is : 0.3871968978951222\n",
      "For n_clusters = 8 The average silhouette_score is : 0.37393061831106983\n",
      "For n_clusters = 9 The average silhouette_score is : 0.3443142601476958\n",
      "For n_clusters = 10 The average silhouette_score is : 0.3585650473719073\n",
      "For n_clusters = 11 The average silhouette_score is : 0.35570748604269775\n",
      "For n_clusters = 12 The average silhouette_score is : 0.3575633171508779\n",
      "For n_clusters = 13 The average silhouette_score is : 0.37087632012718563\n",
      "For n_clusters = 14 The average silhouette_score is : 0.3795271430686032\n",
      "Working on : mar, 20180601.\n"
     ]
    },
    {
     "data": {
      "application/vnd.jupyter.widget-view+json": {
       "model_id": "a713dd07ef5f41c88a669513b7995ed9",
       "version_major": 2,
       "version_minor": 0
      },
      "text/plain": [
       "  0%|          | 0/13 [00:00<?, ?it/s]"
      ]
     },
     "metadata": {},
     "output_type": "display_data"
    },
    {
     "name": "stdout",
     "output_type": "stream",
     "text": [
      "For n_clusters = 2 The average silhouette_score is : 0.48270415311106846\n",
      "For n_clusters = 3 The average silhouette_score is : 0.3772084152830261\n",
      "For n_clusters = 4 The average silhouette_score is : 0.38234628609235827\n",
      "For n_clusters = 5 The average silhouette_score is : 0.38128225187445997\n",
      "For n_clusters = 6 The average silhouette_score is : 0.36428432858349613\n",
      "For n_clusters = 7 The average silhouette_score is : 0.36240034713437685\n",
      "For n_clusters = 8 The average silhouette_score is : 0.3701424025696913\n",
      "For n_clusters = 9 The average silhouette_score is : 0.37175207788683484\n",
      "For n_clusters = 10 The average silhouette_score is : 0.37676977350569846\n",
      "For n_clusters = 11 The average silhouette_score is : 0.37582649170780724\n",
      "For n_clusters = 12 The average silhouette_score is : 0.3619596723553155\n",
      "For n_clusters = 13 The average silhouette_score is : 0.360705274650356\n",
      "For n_clusters = 14 The average silhouette_score is : 0.3549151019500089\n"
     ]
    },
    {
     "data": {
      "application/vnd.jupyter.widget-view+json": {
       "model_id": "9a1bbb8cfbb049d9a22632356427923b",
       "version_major": 2,
       "version_minor": 0
      },
      "text/plain": [
       "  0%|          | 0/6 [00:00<?, ?it/s]"
      ]
     },
     "metadata": {},
     "output_type": "display_data"
    },
    {
     "name": "stdout",
     "output_type": "stream",
     "text": [
      "Working on : leo, 20190731.\n"
     ]
    },
    {
     "data": {
      "application/vnd.jupyter.widget-view+json": {
       "model_id": "8d10efc351884243a87730cbca134773",
       "version_major": 2,
       "version_minor": 0
      },
      "text/plain": [
       "  0%|          | 0/13 [00:00<?, ?it/s]"
      ]
     },
     "metadata": {},
     "output_type": "display_data"
    },
    {
     "name": "stdout",
     "output_type": "stream",
     "text": [
      "For n_clusters = 2 The average silhouette_score is : 0.3899198233106219\n",
      "For n_clusters = 3 The average silhouette_score is : 0.5071438060156596\n",
      "For n_clusters = 4 The average silhouette_score is : 0.47005119135652856\n",
      "For n_clusters = 5 The average silhouette_score is : 0.4481907289981238\n",
      "For n_clusters = 6 The average silhouette_score is : 0.42502882450684076\n",
      "For n_clusters = 7 The average silhouette_score is : 0.4011433092740131\n",
      "For n_clusters = 8 The average silhouette_score is : 0.38998808479733066\n",
      "For n_clusters = 9 The average silhouette_score is : 0.38559916622535073\n",
      "For n_clusters = 10 The average silhouette_score is : 0.38736594985557654\n",
      "For n_clusters = 11 The average silhouette_score is : 0.3788805356672864\n",
      "For n_clusters = 12 The average silhouette_score is : 0.37132878563783606\n",
      "For n_clusters = 13 The average silhouette_score is : 0.3728000521740459\n",
      "For n_clusters = 14 The average silhouette_score is : 0.37291633707910765\n",
      "Working on : leo, 20190328.\n"
     ]
    },
    {
     "data": {
      "application/vnd.jupyter.widget-view+json": {
       "model_id": "0abe5f28a16746e3a223694971ffc828",
       "version_major": 2,
       "version_minor": 0
      },
      "text/plain": [
       "  0%|          | 0/13 [00:00<?, ?it/s]"
      ]
     },
     "metadata": {},
     "output_type": "display_data"
    },
    {
     "name": "stdout",
     "output_type": "stream",
     "text": [
      "For n_clusters = 2 The average silhouette_score is : 0.3988524141238273\n",
      "For n_clusters = 3 The average silhouette_score is : 0.4304685615621422\n",
      "For n_clusters = 4 The average silhouette_score is : 0.431227035737659\n",
      "For n_clusters = 5 The average silhouette_score is : 0.4509750902886234\n",
      "For n_clusters = 6 The average silhouette_score is : 0.42012497505273527\n",
      "For n_clusters = 7 The average silhouette_score is : 0.4094032569946379\n",
      "For n_clusters = 8 The average silhouette_score is : 0.42729379253757904\n",
      "For n_clusters = 9 The average silhouette_score is : 0.41690585873078206\n",
      "For n_clusters = 10 The average silhouette_score is : 0.4226788217215935\n",
      "For n_clusters = 11 The average silhouette_score is : 0.41351261817558693\n",
      "For n_clusters = 12 The average silhouette_score is : 0.4087415403998031\n",
      "For n_clusters = 13 The average silhouette_score is : 0.38543846003780563\n",
      "For n_clusters = 14 The average silhouette_score is : 0.3783301865582882\n",
      "Working on : leo, 20190211.\n"
     ]
    },
    {
     "data": {
      "application/vnd.jupyter.widget-view+json": {
       "model_id": "fb9bd8ca5f0342fd99bbccfa42ec60fb",
       "version_major": 2,
       "version_minor": 0
      },
      "text/plain": [
       "  0%|          | 0/13 [00:00<?, ?it/s]"
      ]
     },
     "metadata": {},
     "output_type": "display_data"
    },
    {
     "name": "stdout",
     "output_type": "stream",
     "text": [
      "For n_clusters = 2 The average silhouette_score is : 0.3811803323084047\n",
      "For n_clusters = 3 The average silhouette_score is : 0.48727929000883047\n",
      "For n_clusters = 4 The average silhouette_score is : 0.44313687819005354\n",
      "For n_clusters = 5 The average silhouette_score is : 0.45097582364485633\n",
      "For n_clusters = 6 The average silhouette_score is : 0.4320727369612193\n",
      "For n_clusters = 7 The average silhouette_score is : 0.4166514336483687\n",
      "For n_clusters = 8 The average silhouette_score is : 0.39445247084076124\n",
      "For n_clusters = 9 The average silhouette_score is : 0.3718047003108205\n",
      "For n_clusters = 10 The average silhouette_score is : 0.36905766574894283\n",
      "For n_clusters = 11 The average silhouette_score is : 0.3723670925736636\n",
      "For n_clusters = 12 The average silhouette_score is : 0.35518841237259613\n",
      "For n_clusters = 13 The average silhouette_score is : 0.35415290301652735\n",
      "For n_clusters = 14 The average silhouette_score is : 0.33383141602938693\n",
      "Working on : leo, 20180920.\n"
     ]
    },
    {
     "data": {
      "application/vnd.jupyter.widget-view+json": {
       "model_id": "d5861800bf8d4ea3be95b2b4f50c838c",
       "version_major": 2,
       "version_minor": 0
      },
      "text/plain": [
       "  0%|          | 0/13 [00:00<?, ?it/s]"
      ]
     },
     "metadata": {},
     "output_type": "display_data"
    },
    {
     "name": "stdout",
     "output_type": "stream",
     "text": [
      "For n_clusters = 2 The average silhouette_score is : 0.4039166622963731\n",
      "For n_clusters = 3 The average silhouette_score is : 0.4367493135688848\n",
      "For n_clusters = 4 The average silhouette_score is : 0.42434419318841404\n",
      "For n_clusters = 5 The average silhouette_score is : 0.4443994359362926\n",
      "For n_clusters = 6 The average silhouette_score is : 0.4175864662989779\n",
      "For n_clusters = 7 The average silhouette_score is : 0.38860870508958795\n",
      "For n_clusters = 8 The average silhouette_score is : 0.38880003508342514\n",
      "For n_clusters = 9 The average silhouette_score is : 0.3830287983992327\n",
      "For n_clusters = 10 The average silhouette_score is : 0.37353163965128733\n",
      "For n_clusters = 11 The average silhouette_score is : 0.36620965721819637\n",
      "For n_clusters = 12 The average silhouette_score is : 0.3536600836899299\n",
      "For n_clusters = 13 The average silhouette_score is : 0.3585083805642395\n",
      "For n_clusters = 14 The average silhouette_score is : 0.35672016047028215\n",
      "Working on : leo, 20180713.\n"
     ]
    },
    {
     "data": {
      "application/vnd.jupyter.widget-view+json": {
       "model_id": "dc9a0065740142be8d40be05ca8ec5da",
       "version_major": 2,
       "version_minor": 0
      },
      "text/plain": [
       "  0%|          | 0/13 [00:00<?, ?it/s]"
      ]
     },
     "metadata": {},
     "output_type": "display_data"
    },
    {
     "name": "stdout",
     "output_type": "stream",
     "text": [
      "For n_clusters = 2 The average silhouette_score is : 0.49629965872244686\n",
      "For n_clusters = 3 The average silhouette_score is : 0.5092406492417487\n",
      "For n_clusters = 4 The average silhouette_score is : 0.46159478658042724\n",
      "For n_clusters = 5 The average silhouette_score is : 0.4488595142176017\n",
      "For n_clusters = 6 The average silhouette_score is : 0.4183623304561938\n",
      "For n_clusters = 7 The average silhouette_score is : 0.39004221840210485\n",
      "For n_clusters = 8 The average silhouette_score is : 0.3842278112748862\n",
      "For n_clusters = 9 The average silhouette_score is : 0.36304035595403583\n",
      "For n_clusters = 10 The average silhouette_score is : 0.3463760386521644\n",
      "For n_clusters = 11 The average silhouette_score is : 0.34841430296451464\n",
      "For n_clusters = 12 The average silhouette_score is : 0.3460546307634773\n",
      "For n_clusters = 13 The average silhouette_score is : 0.34457917043266856\n",
      "For n_clusters = 14 The average silhouette_score is : 0.3318667826222712\n",
      "Working on : leo, 20180606.\n"
     ]
    },
    {
     "data": {
      "application/vnd.jupyter.widget-view+json": {
       "model_id": "8a355acf84c741549658aebbfda1d20e",
       "version_major": 2,
       "version_minor": 0
      },
      "text/plain": [
       "  0%|          | 0/13 [00:00<?, ?it/s]"
      ]
     },
     "metadata": {},
     "output_type": "display_data"
    },
    {
     "name": "stdout",
     "output_type": "stream",
     "text": [
      "For n_clusters = 2 The average silhouette_score is : 0.4012079287817844\n",
      "For n_clusters = 3 The average silhouette_score is : 0.4563078554750914\n",
      "For n_clusters = 4 The average silhouette_score is : 0.40640166442880776\n",
      "For n_clusters = 5 The average silhouette_score is : 0.4001757072050638\n",
      "For n_clusters = 6 The average silhouette_score is : 0.3890044660503746\n",
      "For n_clusters = 7 The average silhouette_score is : 0.3716889344520391\n",
      "For n_clusters = 8 The average silhouette_score is : 0.36600629265911533\n",
      "For n_clusters = 9 The average silhouette_score is : 0.3503569988098764\n",
      "For n_clusters = 10 The average silhouette_score is : 0.34651080656561367\n",
      "For n_clusters = 11 The average silhouette_score is : 0.34322073624826754\n",
      "For n_clusters = 12 The average silhouette_score is : 0.3439561998875081\n",
      "For n_clusters = 13 The average silhouette_score is : 0.347961415981389\n",
      "For n_clusters = 14 The average silhouette_score is : 0.33782737875946023\n"
     ]
    },
    {
     "data": {
      "text/plain": [
       "{'leo_20180606': 11,\n",
       " 'leo_20180713': 10,\n",
       " 'leo_20180920': 4,\n",
       " 'leo_20190211': 4,\n",
       " 'leo_20190328': 7,\n",
       " 'leo_20190731': 9,\n",
       " 'mar_20180601': 3,\n",
       " 'mar_20180621': 3,\n",
       " 'mar_20180727': 11,\n",
       " 'mar_20180925': 7,\n",
       " 'mar_20181113': 5,\n",
       " 'mar_20181211': 5,\n",
       " 'mar_20190205': 6,\n",
       " 'mar_20190313': 6,\n",
       " 'mar_20190516': 3}"
      ]
     },
     "execution_count": 4,
     "metadata": {},
     "output_type": "execute_result"
    }
   ],
   "source": [
    "P=ProfileSet(dirNameDSM=dirNameDSM,\n",
    "            dirNameOrtho=dirNameOrtho,\n",
    "            dirNameTrans=dirNameTrans,\n",
    "            transects_spacing=transects_spacing,\n",
    "            loc_codes=loc_codes,\n",
    "            loc_search_dict=loc_search_dict,\n",
    "            crs_dict_string=crs_dict_string,\n",
    "            check=\"all\")\n",
    "\n",
    "# run extraction from DSMs and orthos with 1m sampling steps and add X and Y fields to output geodataframe.\n",
    "# use LoDs profiles provided.\n",
    "\n",
    "P.extract_profiles(mode='all',tr_ids='tr_id',sampling_step=1,add_xy=True,lod_mode=lod_mode)\n",
    "\n",
    "# Run interatively KMeans + SA using the feature_set provided\n",
    "#feel free to add \n",
    "\n",
    "feature_set=[\"band1\",\"band2\",\"band3\",\"distance\"]\n",
    "sil_df=get_sil_location(P.profiles,\n",
    "                        ks=(2,15), \n",
    "                        feature_set=feature_set,\n",
    "                       random_state=10)\n",
    "\n",
    "opt_k=get_opt_k(sil_df, sigma=0 )\n",
    "opt_k"
   ]
  },
  {
   "cell_type": "code",
   "execution_count": null,
   "id": "ac0b9532",
   "metadata": {},
   "outputs": [],
   "source": [
    "opt_k_broke={'leo_20180606': 10,\n",
    " 'leo_20180713': 10,\n",
    " 'leo_20180920': 10,\n",
    " 'leo_20190211': 10,\n",
    " 'leo_20190328': 10,\n",
    " 'leo_20190731': 10,\n",
    " 'mar_20180601': 10,\n",
    " 'mar_20180621': 10,\n",
    " 'mar_20180727': 10,\n",
    " 'mar_20180925': 10,\n",
    " 'mar_20181113': 10,\n",
    " 'mar_20181211': 10,\n",
    " 'mar_20190205': 10,\n",
    " 'mar_20190313': 10,\n",
    " 'mar_20190516': 10}"
   ]
  },
  {
   "cell_type": "code",
   "execution_count": null,
   "id": "57c84e11",
   "metadata": {
    "scrolled": true
   },
   "outputs": [],
   "source": [
    "profiles=pd.read_csv(r\"C:\\my_packages\\tmp\\check_cleanit.csv\")\n",
    "profiles"
   ]
  },
  {
   "cell_type": "code",
   "execution_count": 5,
   "id": "58b43210",
   "metadata": {},
   "outputs": [
    {
     "data": {
      "application/vnd.jupyter.widget-view+json": {
       "model_id": "99622f99edee4ce681c744885140beb7",
       "version_major": 2,
       "version_minor": 0
      },
      "text/plain": [
       "  0%|          | 0/2 [00:00<?, ?it/s]"
      ]
     },
     "metadata": {},
     "output_type": "display_data"
    },
    {
     "data": {
      "application/vnd.jupyter.widget-view+json": {
       "model_id": "6e6e121378ad4f1d88cb8953e697f358",
       "version_major": 2,
       "version_minor": 0
      },
      "text/plain": [
       "  0%|          | 0/9 [00:00<?, ?it/s]"
      ]
     },
     "metadata": {},
     "output_type": "display_data"
    },
    {
     "data": {
      "application/vnd.jupyter.widget-view+json": {
       "model_id": "dbed2049d7e14defa6a126ab199cc8c1",
       "version_major": 2,
       "version_minor": 0
      },
      "text/plain": [
       "  0%|          | 0/6 [00:00<?, ?it/s]"
      ]
     },
     "metadata": {},
     "output_type": "display_data"
    }
   ],
   "source": [
    "feature_set=[\"band1\",\"band2\",\"band3\",\"distance\"]\n",
    "P.kmeans_sa(opt_k, feature_set=feature_set)"
   ]
  },
  {
   "cell_type": "code",
   "execution_count": null,
   "id": "2951b314",
   "metadata": {},
   "outputs": [],
   "source": [
    "feature_set=[\"band1\",\"band2\",\"band3\",\"distance\"]\n",
    "\n",
    "prof_works=P.kmeans_sa(a, ks=opt_k,feature_set=feature_set )\n",
    "#prof_broke=kmeans_sa(profiles, ks=opt_k_broke,feature_set=feature_set )"
   ]
  },
  {
   "cell_type": "code",
   "execution_count": 7,
   "id": "2be003ff",
   "metadata": {},
   "outputs": [],
   "source": [
    "from sandpyper.common import coords_to_points\n",
    "from shapely.geometry.point import Point\n",
    "\n",
    "test=P.profiles.copy()"
   ]
  },
  {
   "cell_type": "code",
   "execution_count": 6,
   "id": "b7e917b4",
   "metadata": {},
   "outputs": [],
   "source": [
    "\n",
    "label_corrections_path=Path(test_data_folder + r\"\\clean\\label_corrections.gpkg\")\n",
    "watermasks_path=Path(test_data_folder + r\"\\clean\\watermasks.gpkg\")\n",
    "shoremasks_path=Path(test_data_folder + r\"\\clean\\shoremasks.gpkg\")"
   ]
  },
  {
   "cell_type": "code",
   "execution_count": 8,
   "id": "e5df32e3",
   "metadata": {},
   "outputs": [
    {
     "name": "stdout",
     "output_type": "stream",
     "text": [
      "Reclassifying dataset with the provided dictionaries.\n"
     ]
    }
   ],
   "source": [
    "print(\"Reclassifying dataset with the provided dictionaries.\" )\n",
    "to_clean_classified=classify_labelk(test, l_dicts)"
   ]
  },
  {
   "cell_type": "code",
   "execution_count": 9,
   "id": "5eba599c",
   "metadata": {},
   "outputs": [
    {
     "name": "stderr",
     "output_type": "stream",
     "text": [
      "C:\\anaconda3\\envs\\sandpyper_env\\lib\\site-packages\\geopandas\\geodataframe.py:422: RuntimeWarning: Sequential read of iterator was interrupted. Resetting iterator. This can negatively impact the performance.\n",
      "  for feature in features_lst:\n"
     ]
    }
   ],
   "source": [
    "label_corrections=gpd.read_file(label_corrections_path)"
   ]
  },
  {
   "cell_type": "code",
   "execution_count": 12,
   "id": "299b1ce8",
   "metadata": {
    "scrolled": true
   },
   "outputs": [
    {
     "name": "stdout",
     "output_type": "stream",
     "text": [
      "Reclassifying dataset with the provided dictionaries.\n",
      "Label corrections provided in CRS: epsg:32754\n",
      "Fine tuning in leo.\n"
     ]
    },
    {
     "name": "stderr",
     "output_type": "stream",
     "text": [
      "C:\\anaconda3\\envs\\sandpyper_env\\lib\\site-packages\\geopandas\\geodataframe.py:422: RuntimeWarning: Sequential read of iterator was interrupted. Resetting iterator. This can negatively impact the performance.\n",
      "  for feature in features_lst:\n"
     ]
    },
    {
     "data": {
      "application/vnd.jupyter.widget-view+json": {
       "model_id": "27426e64faec4ddb94cd36c22dc82609",
       "version_major": 2,
       "version_minor": 0
      },
      "text/plain": [
       "  0%|          | 0/6 [00:00<?, ?it/s]"
      ]
     },
     "metadata": {},
     "output_type": "display_data"
    },
    {
     "name": "stdout",
     "output_type": "stream",
     "text": [
      "Fine-tuning label_k 3 to no_sand in leo-20180606, found 127 pts.\n",
      "Fine-tuning label_k 8 to no_sand in leo-20180606, found 73 pts.\n",
      "Fine-tuning label_k 5 to no_sand in leo-20180713, found 56 pts.\n",
      "Fine-tuning label_k 6 to no_sand in leo-20180713, found 7 pts.\n",
      "Fine-tuning label_k 1 to no_sand in leo-20180920, found 89 pts.\n",
      "Fine-tuning label_k 2 to sand in leo-20180920, found 9 pts.\n",
      "Fine-tuning label_k 2 to veg in leo-20180920, found 31 pts.\n",
      "Fine-tuning label_k 6 to sand in leo-20180920, found 17 pts.\n",
      "Fine-tuning label_k 2 to veg in leo-20190211, found 2 pts.\n",
      "Fine-tuning label_k 6 to veg in leo-20190211, found 29 pts.\n",
      "Fine-tuning label_k 6 to no_sand in leo-20190211, found 2 pts.\n",
      "Fine-tuning label_k 6 to veg in leo-20190211, found 6 pts.\n",
      "Fine-tuning label_k 6 to sand in leo-20190211, found 28 pts.\n",
      "Fine-tuning label_k 7 to no_sand in leo-20190211, found 41 pts.\n",
      "Fine-tuning label_k 0 to sand in leo-20190328, found 6 pts.\n",
      "Fine-tuning label_k 0 to no_sand in leo-20190328, found 52 pts.\n",
      "Fine-tuning label_k 1 to sand in leo-20190328, found 21 pts.\n",
      "Fine-tuning label_k 1 to no_sand in leo-20190328, found 2 pts.\n",
      "Fine-tuning label_k 2 to sand in leo-20190328, found 16 pts.\n",
      "Fine-tuning label_k 4 to sand in leo-20190328, found 25 pts.\n",
      "Fine-tuning label_k 5 to veg in leo-20190328, found 3 pts.\n",
      "Fine-tuning label_k 1 to sand in leo-20190731, found 5 pts.\n",
      "Fine-tuning label_k 3 to no_sand in leo-20190731, found 11 pts.\n",
      "Fine-tuning label_k 7 to no_sand in leo-20190731, found 72 pts.\n",
      "Fine-tuning label_k 6 to sand in leo-20190731, found 25 pts.\n",
      "Fine-tuning label_k 6 to veg in leo-20190731, found 42 pts.\n",
      "Fine tuning in mar.\n"
     ]
    },
    {
     "data": {
      "application/vnd.jupyter.widget-view+json": {
       "model_id": "6904795111cb4b33b9d435acaa33ea09",
       "version_major": 2,
       "version_minor": 0
      },
      "text/plain": [
       "  0%|          | 0/6 [00:00<?, ?it/s]"
      ]
     },
     "metadata": {},
     "output_type": "display_data"
    },
    {
     "name": "stdout",
     "output_type": "stream",
     "text": [
      "Fine-tuning label_k 3 to water in mar-20180601, found 161 pts.\n",
      "Fine-tuning label_k 7 to no_sand in mar-20180601, found 15 pts.\n",
      "Fine-tuning label_k 7 to sand in mar-20180601, found 53 pts.\n",
      "Fine-tuning label_k 1 to sand in mar-20180621, found 48 pts.\n",
      "Fine-tuning label_k 3 to sand in mar-20180621, found 42 pts.\n",
      "Fine-tuning label_k 2 to water in mar-20180727, found 98 pts.\n",
      "Fine-tuning label_k 4 to sand in mar-20180727, found 29 pts.\n",
      "Fine-tuning label_k 2 to no_sand in mar-20181211, found 45 pts.\n",
      "Fine-tuning label_k 1 to water in mar-20181211, found 149 pts.\n",
      "Fine-tuning label_k 2 to water in mar-20190205, found 304 pts.\n",
      "Fine-tuning label_k 3 to no_sand in mar-20190205, found 23 pts.\n",
      "Fine-tuning label_k 2 to water in mar-20190313, found 100 pts.\n",
      "Fine-tuning label_k 5 to no_sand in mar-20190313, found 77 pts.\n",
      "watermask  provided in CRS: epsg:32754\n",
      "Applying watermasks cleaning.\n",
      "Watermasking in mar.\n"
     ]
    },
    {
     "name": "stderr",
     "output_type": "stream",
     "text": [
      "C:\\anaconda3\\envs\\sandpyper_env\\lib\\site-packages\\geopandas\\geodataframe.py:422: RuntimeWarning: Sequential read of iterator was interrupted. Resetting iterator. This can negatively impact the performance.\n",
      "  for feature in features_lst:\n"
     ]
    },
    {
     "data": {
      "application/vnd.jupyter.widget-view+json": {
       "model_id": "456760caafcb4f11a0d0513a5122a627",
       "version_major": 2,
       "version_minor": 0
      },
      "text/plain": [
       "  0%|          | 0/9 [00:00<?, ?it/s]"
      ]
     },
     "metadata": {},
     "output_type": "display_data"
    },
    {
     "name": "stderr",
     "output_type": "stream",
     "text": [
      "C:\\anaconda3\\envs\\sandpyper_env\\lib\\site-packages\\geopandas\\base.py:39: UserWarning: The indices of the two GeoSeries are different.\n",
      "  warn(\"The indices of the two GeoSeries are different.\")\n",
      "C:\\anaconda3\\envs\\sandpyper_env\\lib\\site-packages\\geopandas\\geodataframe.py:828: UserWarning: Boolean Series key will be reindexed to match DataFrame index.\n",
      "  result = super(GeoDataFrame, self).__getitem__(key)\n",
      "C:\\anaconda3\\envs\\sandpyper_env\\lib\\site-packages\\pyproj\\crs\\crs.py:131: FutureWarning: '+init=<authority>:<code>' syntax is deprecated. '<authority>:<code>' is the preferred initialization method. When making the change, be mindful of axis order changes: https://pyproj4.github.io/pyproj/stable/gotchas.html#axis-order-changes-in-proj-6\n",
      "  in_crs_string = _prepare_from_proj_string(in_crs_string)\n",
      "C:\\anaconda3\\envs\\sandpyper_env\\lib\\site-packages\\geopandas\\base.py:39: UserWarning: The indices of the two GeoSeries are different.\n",
      "  warn(\"The indices of the two GeoSeries are different.\")\n"
     ]
    },
    {
     "name": "stdout",
     "output_type": "stream",
     "text": [
      "Setting to water 750 pts overlapping provided watermasks.\n",
      "Setting to water 532 pts overlapping provided watermasks.\n"
     ]
    },
    {
     "name": "stderr",
     "output_type": "stream",
     "text": [
      "C:\\anaconda3\\envs\\sandpyper_env\\lib\\site-packages\\geopandas\\geodataframe.py:828: UserWarning: Boolean Series key will be reindexed to match DataFrame index.\n",
      "  result = super(GeoDataFrame, self).__getitem__(key)\n",
      "C:\\anaconda3\\envs\\sandpyper_env\\lib\\site-packages\\pyproj\\crs\\crs.py:131: FutureWarning: '+init=<authority>:<code>' syntax is deprecated. '<authority>:<code>' is the preferred initialization method. When making the change, be mindful of axis order changes: https://pyproj4.github.io/pyproj/stable/gotchas.html#axis-order-changes-in-proj-6\n",
      "  in_crs_string = _prepare_from_proj_string(in_crs_string)\n",
      "C:\\anaconda3\\envs\\sandpyper_env\\lib\\site-packages\\geopandas\\base.py:39: UserWarning: The indices of the two GeoSeries are different.\n",
      "  warn(\"The indices of the two GeoSeries are different.\")\n",
      "C:\\anaconda3\\envs\\sandpyper_env\\lib\\site-packages\\geopandas\\geodataframe.py:828: UserWarning: Boolean Series key will be reindexed to match DataFrame index.\n",
      "  result = super(GeoDataFrame, self).__getitem__(key)\n",
      "C:\\anaconda3\\envs\\sandpyper_env\\lib\\site-packages\\pyproj\\crs\\crs.py:131: FutureWarning: '+init=<authority>:<code>' syntax is deprecated. '<authority>:<code>' is the preferred initialization method. When making the change, be mindful of axis order changes: https://pyproj4.github.io/pyproj/stable/gotchas.html#axis-order-changes-in-proj-6\n",
      "  in_crs_string = _prepare_from_proj_string(in_crs_string)\n",
      "C:\\anaconda3\\envs\\sandpyper_env\\lib\\site-packages\\geopandas\\base.py:39: UserWarning: The indices of the two GeoSeries are different.\n",
      "  warn(\"The indices of the two GeoSeries are different.\")\n",
      "C:\\anaconda3\\envs\\sandpyper_env\\lib\\site-packages\\geopandas\\geodataframe.py:828: UserWarning: Boolean Series key will be reindexed to match DataFrame index.\n",
      "  result = super(GeoDataFrame, self).__getitem__(key)\n",
      "C:\\anaconda3\\envs\\sandpyper_env\\lib\\site-packages\\pyproj\\crs\\crs.py:131: FutureWarning: '+init=<authority>:<code>' syntax is deprecated. '<authority>:<code>' is the preferred initialization method. When making the change, be mindful of axis order changes: https://pyproj4.github.io/pyproj/stable/gotchas.html#axis-order-changes-in-proj-6\n",
      "  in_crs_string = _prepare_from_proj_string(in_crs_string)\n"
     ]
    },
    {
     "name": "stdout",
     "output_type": "stream",
     "text": [
      "Setting to water 710 pts overlapping provided watermasks.\n",
      "Setting to water 532 pts overlapping provided watermasks.\n"
     ]
    },
    {
     "name": "stderr",
     "output_type": "stream",
     "text": [
      "C:\\anaconda3\\envs\\sandpyper_env\\lib\\site-packages\\geopandas\\base.py:39: UserWarning: The indices of the two GeoSeries are different.\n",
      "  warn(\"The indices of the two GeoSeries are different.\")\n",
      "C:\\anaconda3\\envs\\sandpyper_env\\lib\\site-packages\\geopandas\\geodataframe.py:828: UserWarning: Boolean Series key will be reindexed to match DataFrame index.\n",
      "  result = super(GeoDataFrame, self).__getitem__(key)\n",
      "C:\\anaconda3\\envs\\sandpyper_env\\lib\\site-packages\\pyproj\\crs\\crs.py:131: FutureWarning: '+init=<authority>:<code>' syntax is deprecated. '<authority>:<code>' is the preferred initialization method. When making the change, be mindful of axis order changes: https://pyproj4.github.io/pyproj/stable/gotchas.html#axis-order-changes-in-proj-6\n",
      "  in_crs_string = _prepare_from_proj_string(in_crs_string)\n",
      "C:\\anaconda3\\envs\\sandpyper_env\\lib\\site-packages\\geopandas\\base.py:39: UserWarning: The indices of the two GeoSeries are different.\n",
      "  warn(\"The indices of the two GeoSeries are different.\")\n",
      "C:\\anaconda3\\envs\\sandpyper_env\\lib\\site-packages\\geopandas\\geodataframe.py:828: UserWarning: Boolean Series key will be reindexed to match DataFrame index.\n",
      "  result = super(GeoDataFrame, self).__getitem__(key)\n"
     ]
    },
    {
     "name": "stdout",
     "output_type": "stream",
     "text": [
      "Setting to water 599 pts overlapping provided watermasks.\n",
      "Setting to water 557 pts overlapping provided watermasks.\n"
     ]
    },
    {
     "name": "stderr",
     "output_type": "stream",
     "text": [
      "C:\\anaconda3\\envs\\sandpyper_env\\lib\\site-packages\\pyproj\\crs\\crs.py:131: FutureWarning: '+init=<authority>:<code>' syntax is deprecated. '<authority>:<code>' is the preferred initialization method. When making the change, be mindful of axis order changes: https://pyproj4.github.io/pyproj/stable/gotchas.html#axis-order-changes-in-proj-6\n",
      "  in_crs_string = _prepare_from_proj_string(in_crs_string)\n",
      "C:\\anaconda3\\envs\\sandpyper_env\\lib\\site-packages\\geopandas\\base.py:39: UserWarning: The indices of the two GeoSeries are different.\n",
      "  warn(\"The indices of the two GeoSeries are different.\")\n",
      "C:\\anaconda3\\envs\\sandpyper_env\\lib\\site-packages\\geopandas\\geodataframe.py:828: UserWarning: Boolean Series key will be reindexed to match DataFrame index.\n",
      "  result = super(GeoDataFrame, self).__getitem__(key)\n",
      "C:\\anaconda3\\envs\\sandpyper_env\\lib\\site-packages\\pyproj\\crs\\crs.py:131: FutureWarning: '+init=<authority>:<code>' syntax is deprecated. '<authority>:<code>' is the preferred initialization method. When making the change, be mindful of axis order changes: https://pyproj4.github.io/pyproj/stable/gotchas.html#axis-order-changes-in-proj-6\n",
      "  in_crs_string = _prepare_from_proj_string(in_crs_string)\n"
     ]
    },
    {
     "name": "stdout",
     "output_type": "stream",
     "text": [
      "Setting to water 339 pts overlapping provided watermasks.\n",
      "Setting to water 133 pts overlapping provided watermasks.\n"
     ]
    },
    {
     "name": "stderr",
     "output_type": "stream",
     "text": [
      "C:\\anaconda3\\envs\\sandpyper_env\\lib\\site-packages\\geopandas\\base.py:39: UserWarning: The indices of the two GeoSeries are different.\n",
      "  warn(\"The indices of the two GeoSeries are different.\")\n",
      "C:\\anaconda3\\envs\\sandpyper_env\\lib\\site-packages\\geopandas\\geodataframe.py:828: UserWarning: Boolean Series key will be reindexed to match DataFrame index.\n",
      "  result = super(GeoDataFrame, self).__getitem__(key)\n",
      "C:\\anaconda3\\envs\\sandpyper_env\\lib\\site-packages\\pyproj\\crs\\crs.py:131: FutureWarning: '+init=<authority>:<code>' syntax is deprecated. '<authority>:<code>' is the preferred initialization method. When making the change, be mindful of axis order changes: https://pyproj4.github.io/pyproj/stable/gotchas.html#axis-order-changes-in-proj-6\n",
      "  in_crs_string = _prepare_from_proj_string(in_crs_string)\n",
      "C:\\anaconda3\\envs\\sandpyper_env\\lib\\site-packages\\geopandas\\base.py:39: UserWarning: The indices of the two GeoSeries are different.\n",
      "  warn(\"The indices of the two GeoSeries are different.\")\n",
      "C:\\anaconda3\\envs\\sandpyper_env\\lib\\site-packages\\geopandas\\geodataframe.py:828: UserWarning: Boolean Series key will be reindexed to match DataFrame index.\n",
      "  result = super(GeoDataFrame, self).__getitem__(key)\n",
      "C:\\anaconda3\\envs\\sandpyper_env\\lib\\site-packages\\pyproj\\crs\\crs.py:131: FutureWarning: '+init=<authority>:<code>' syntax is deprecated. '<authority>:<code>' is the preferred initialization method. When making the change, be mindful of axis order changes: https://pyproj4.github.io/pyproj/stable/gotchas.html#axis-order-changes-in-proj-6\n",
      "  in_crs_string = _prepare_from_proj_string(in_crs_string)\n"
     ]
    },
    {
     "name": "stdout",
     "output_type": "stream",
     "text": [
      "Setting to water 441 pts overlapping provided watermasks.\n",
      "Watermasking in leo.\n"
     ]
    },
    {
     "data": {
      "application/vnd.jupyter.widget-view+json": {
       "model_id": "82e574c8bb5f4023945359e56386ee51",
       "version_major": 2,
       "version_minor": 0
      },
      "text/plain": [
       "  0%|          | 0/6 [00:00<?, ?it/s]"
      ]
     },
     "metadata": {},
     "output_type": "display_data"
    },
    {
     "name": "stderr",
     "output_type": "stream",
     "text": [
      "C:\\anaconda3\\envs\\sandpyper_env\\lib\\site-packages\\geopandas\\base.py:39: UserWarning: The indices of the two GeoSeries are different.\n",
      "  warn(\"The indices of the two GeoSeries are different.\")\n",
      "C:\\anaconda3\\envs\\sandpyper_env\\lib\\site-packages\\pyproj\\crs\\crs.py:131: FutureWarning: '+init=<authority>:<code>' syntax is deprecated. '<authority>:<code>' is the preferred initialization method. When making the change, be mindful of axis order changes: https://pyproj4.github.io/pyproj/stable/gotchas.html#axis-order-changes-in-proj-6\n",
      "  in_crs_string = _prepare_from_proj_string(in_crs_string)\n"
     ]
    },
    {
     "name": "stdout",
     "output_type": "stream",
     "text": [
      "Setting to water 652 pts overlapping provided watermasks.\n"
     ]
    },
    {
     "name": "stderr",
     "output_type": "stream",
     "text": [
      "C:\\anaconda3\\envs\\sandpyper_env\\lib\\site-packages\\geopandas\\base.py:39: UserWarning: The indices of the two GeoSeries are different.\n",
      "  warn(\"The indices of the two GeoSeries are different.\")\n",
      "C:\\anaconda3\\envs\\sandpyper_env\\lib\\site-packages\\geopandas\\geodataframe.py:828: UserWarning: Boolean Series key will be reindexed to match DataFrame index.\n",
      "  result = super(GeoDataFrame, self).__getitem__(key)\n",
      "C:\\anaconda3\\envs\\sandpyper_env\\lib\\site-packages\\pyproj\\crs\\crs.py:131: FutureWarning: '+init=<authority>:<code>' syntax is deprecated. '<authority>:<code>' is the preferred initialization method. When making the change, be mindful of axis order changes: https://pyproj4.github.io/pyproj/stable/gotchas.html#axis-order-changes-in-proj-6\n",
      "  in_crs_string = _prepare_from_proj_string(in_crs_string)\n"
     ]
    },
    {
     "name": "stdout",
     "output_type": "stream",
     "text": [
      "Setting to water 555 pts overlapping provided watermasks.\n"
     ]
    },
    {
     "name": "stderr",
     "output_type": "stream",
     "text": [
      "C:\\anaconda3\\envs\\sandpyper_env\\lib\\site-packages\\geopandas\\base.py:39: UserWarning: The indices of the two GeoSeries are different.\n",
      "  warn(\"The indices of the two GeoSeries are different.\")\n",
      "C:\\anaconda3\\envs\\sandpyper_env\\lib\\site-packages\\geopandas\\geodataframe.py:828: UserWarning: Boolean Series key will be reindexed to match DataFrame index.\n",
      "  result = super(GeoDataFrame, self).__getitem__(key)\n",
      "C:\\anaconda3\\envs\\sandpyper_env\\lib\\site-packages\\pyproj\\crs\\crs.py:131: FutureWarning: '+init=<authority>:<code>' syntax is deprecated. '<authority>:<code>' is the preferred initialization method. When making the change, be mindful of axis order changes: https://pyproj4.github.io/pyproj/stable/gotchas.html#axis-order-changes-in-proj-6\n",
      "  in_crs_string = _prepare_from_proj_string(in_crs_string)\n"
     ]
    },
    {
     "name": "stdout",
     "output_type": "stream",
     "text": [
      "Setting to water 638 pts overlapping provided watermasks.\n"
     ]
    },
    {
     "name": "stderr",
     "output_type": "stream",
     "text": [
      "C:\\anaconda3\\envs\\sandpyper_env\\lib\\site-packages\\geopandas\\base.py:39: UserWarning: The indices of the two GeoSeries are different.\n",
      "  warn(\"The indices of the two GeoSeries are different.\")\n",
      "C:\\anaconda3\\envs\\sandpyper_env\\lib\\site-packages\\geopandas\\geodataframe.py:828: UserWarning: Boolean Series key will be reindexed to match DataFrame index.\n",
      "  result = super(GeoDataFrame, self).__getitem__(key)\n",
      "C:\\anaconda3\\envs\\sandpyper_env\\lib\\site-packages\\pyproj\\crs\\crs.py:131: FutureWarning: '+init=<authority>:<code>' syntax is deprecated. '<authority>:<code>' is the preferred initialization method. When making the change, be mindful of axis order changes: https://pyproj4.github.io/pyproj/stable/gotchas.html#axis-order-changes-in-proj-6\n",
      "  in_crs_string = _prepare_from_proj_string(in_crs_string)\n"
     ]
    },
    {
     "name": "stdout",
     "output_type": "stream",
     "text": [
      "Setting to water 627 pts overlapping provided watermasks.\n"
     ]
    },
    {
     "name": "stderr",
     "output_type": "stream",
     "text": [
      "C:\\anaconda3\\envs\\sandpyper_env\\lib\\site-packages\\geopandas\\base.py:39: UserWarning: The indices of the two GeoSeries are different.\n",
      "  warn(\"The indices of the two GeoSeries are different.\")\n",
      "C:\\anaconda3\\envs\\sandpyper_env\\lib\\site-packages\\geopandas\\geodataframe.py:828: UserWarning: Boolean Series key will be reindexed to match DataFrame index.\n",
      "  result = super(GeoDataFrame, self).__getitem__(key)\n",
      "C:\\anaconda3\\envs\\sandpyper_env\\lib\\site-packages\\pyproj\\crs\\crs.py:131: FutureWarning: '+init=<authority>:<code>' syntax is deprecated. '<authority>:<code>' is the preferred initialization method. When making the change, be mindful of axis order changes: https://pyproj4.github.io/pyproj/stable/gotchas.html#axis-order-changes-in-proj-6\n",
      "  in_crs_string = _prepare_from_proj_string(in_crs_string)\n",
      "C:\\anaconda3\\envs\\sandpyper_env\\lib\\site-packages\\geopandas\\base.py:39: UserWarning: The indices of the two GeoSeries are different.\n",
      "  warn(\"The indices of the two GeoSeries are different.\")\n",
      "C:\\anaconda3\\envs\\sandpyper_env\\lib\\site-packages\\geopandas\\geodataframe.py:828: UserWarning: Boolean Series key will be reindexed to match DataFrame index.\n",
      "  result = super(GeoDataFrame, self).__getitem__(key)\n",
      "C:\\anaconda3\\envs\\sandpyper_env\\lib\\site-packages\\pyproj\\crs\\crs.py:131: FutureWarning: '+init=<authority>:<code>' syntax is deprecated. '<authority>:<code>' is the preferred initialization method. When making the change, be mindful of axis order changes: https://pyproj4.github.io/pyproj/stable/gotchas.html#axis-order-changes-in-proj-6\n",
      "  in_crs_string = _prepare_from_proj_string(in_crs_string)\n"
     ]
    },
    {
     "name": "stdout",
     "output_type": "stream",
     "text": [
      "Setting to water 583 pts overlapping provided watermasks.\n",
      "Setting to water 643 pts overlapping provided watermasks.\n",
      "shoremask  provided in CRS: epsg:32754\n",
      "Applying shoremasks cleaning.\n",
      "Shoremasking in mar.\n"
     ]
    },
    {
     "name": "stderr",
     "output_type": "stream",
     "text": [
      "C:\\anaconda3\\envs\\sandpyper_env\\lib\\site-packages\\geopandas\\geodataframe.py:422: RuntimeWarning: Sequential read of iterator was interrupted. Resetting iterator. This can negatively impact the performance.\n",
      "  for feature in features_lst:\n",
      "C:\\anaconda3\\envs\\sandpyper_env\\lib\\site-packages\\geopandas\\base.py:39: UserWarning: The indices of the two GeoSeries are different.\n",
      "  warn(\"The indices of the two GeoSeries are different.\")\n",
      "C:\\anaconda3\\envs\\sandpyper_env\\lib\\site-packages\\geopandas\\geodataframe.py:828: UserWarning: Boolean Series key will be reindexed to match DataFrame index.\n",
      "  result = super(GeoDataFrame, self).__getitem__(key)\n",
      "C:\\anaconda3\\envs\\sandpyper_env\\lib\\site-packages\\pyproj\\crs\\crs.py:131: FutureWarning: '+init=<authority>:<code>' syntax is deprecated. '<authority>:<code>' is the preferred initialization method. When making the change, be mindful of axis order changes: https://pyproj4.github.io/pyproj/stable/gotchas.html#axis-order-changes-in-proj-6\n",
      "  in_crs_string = _prepare_from_proj_string(in_crs_string)\n"
     ]
    },
    {
     "name": "stdout",
     "output_type": "stream",
     "text": [
      "Removing 3621 pts falling outside provided shore polygones.\n",
      "Shoremasking in leo.\n"
     ]
    },
    {
     "name": "stderr",
     "output_type": "stream",
     "text": [
      "C:\\anaconda3\\envs\\sandpyper_env\\lib\\site-packages\\geopandas\\base.py:39: UserWarning: The indices of the two GeoSeries are different.\n",
      "  warn(\"The indices of the two GeoSeries are different.\")\n",
      "C:\\anaconda3\\envs\\sandpyper_env\\lib\\site-packages\\pyproj\\crs\\crs.py:131: FutureWarning: '+init=<authority>:<code>' syntax is deprecated. '<authority>:<code>' is the preferred initialization method. When making the change, be mindful of axis order changes: https://pyproj4.github.io/pyproj/stable/gotchas.html#axis-order-changes-in-proj-6\n",
      "  in_crs_string = _prepare_from_proj_string(in_crs_string)\n"
     ]
    },
    {
     "name": "stdout",
     "output_type": "stream",
     "text": [
      "Removing 2358 pts falling outside provided shore polygones.\n",
      "['polygon finetuning', 'watermasking', 'shoremasking'] completed.\n"
     ]
    },
    {
     "data": {
      "text/html": [
       "<div>\n",
       "<style scoped>\n",
       "    .dataframe tbody tr th:only-of-type {\n",
       "        vertical-align: middle;\n",
       "    }\n",
       "\n",
       "    .dataframe tbody tr th {\n",
       "        vertical-align: top;\n",
       "    }\n",
       "\n",
       "    .dataframe thead th {\n",
       "        text-align: right;\n",
       "    }\n",
       "</style>\n",
       "<table border=\"1\" class=\"dataframe\">\n",
       "  <thead>\n",
       "    <tr style=\"text-align: right;\">\n",
       "      <th></th>\n",
       "      <th>distance</th>\n",
       "      <th>z</th>\n",
       "      <th>coordinates</th>\n",
       "      <th>location</th>\n",
       "      <th>survey_date</th>\n",
       "      <th>raw_date</th>\n",
       "      <th>tr_id</th>\n",
       "      <th>point_id</th>\n",
       "      <th>x</th>\n",
       "      <th>y</th>\n",
       "      <th>band1</th>\n",
       "      <th>band2</th>\n",
       "      <th>band3</th>\n",
       "      <th>label_k</th>\n",
       "      <th>pt_class</th>\n",
       "    </tr>\n",
       "  </thead>\n",
       "  <tbody>\n",
       "    <tr>\n",
       "      <th>0</th>\n",
       "      <td>16.0</td>\n",
       "      <td>1.173529</td>\n",
       "      <td>POINT (299891.349 5773713.769)</td>\n",
       "      <td>leo</td>\n",
       "      <td>2018-06-06</td>\n",
       "      <td>20180606</td>\n",
       "      <td>46</td>\n",
       "      <td>0400o21665066708le106</td>\n",
       "      <td>299891.349005</td>\n",
       "      <td>5.773714e+06</td>\n",
       "      <td>105.0</td>\n",
       "      <td>113.0</td>\n",
       "      <td>101.0</td>\n",
       "      <td>8</td>\n",
       "      <td>no_sand</td>\n",
       "    </tr>\n",
       "    <tr>\n",
       "      <th>1</th>\n",
       "      <td>17.0</td>\n",
       "      <td>1.494270</td>\n",
       "      <td>POINT (299892.343 5773713.881)</td>\n",
       "      <td>leo</td>\n",
       "      <td>2018-06-06</td>\n",
       "      <td>20180606</td>\n",
       "      <td>46</td>\n",
       "      <td>0400o21666017508le106</td>\n",
       "      <td>299892.342765</td>\n",
       "      <td>5.773714e+06</td>\n",
       "      <td>84.0</td>\n",
       "      <td>91.0</td>\n",
       "      <td>77.0</td>\n",
       "      <td>1</td>\n",
       "      <td>veg</td>\n",
       "    </tr>\n",
       "    <tr>\n",
       "      <th>2</th>\n",
       "      <td>18.0</td>\n",
       "      <td>2.086379</td>\n",
       "      <td>POINT (299893.337 5773713.992)</td>\n",
       "      <td>leo</td>\n",
       "      <td>2018-06-06</td>\n",
       "      <td>20180606</td>\n",
       "      <td>46</td>\n",
       "      <td>0400o21667068308le106</td>\n",
       "      <td>299893.336524</td>\n",
       "      <td>5.773714e+06</td>\n",
       "      <td>73.0</td>\n",
       "      <td>81.0</td>\n",
       "      <td>86.0</td>\n",
       "      <td>1</td>\n",
       "      <td>veg</td>\n",
       "    </tr>\n",
       "    <tr>\n",
       "      <th>3</th>\n",
       "      <td>19.0</td>\n",
       "      <td>2.528307</td>\n",
       "      <td>POINT (299894.330 5773714.104)</td>\n",
       "      <td>leo</td>\n",
       "      <td>2018-06-06</td>\n",
       "      <td>20180606</td>\n",
       "      <td>46</td>\n",
       "      <td>0400o21667019108le106</td>\n",
       "      <td>299894.330284</td>\n",
       "      <td>5.773714e+06</td>\n",
       "      <td>51.0</td>\n",
       "      <td>58.0</td>\n",
       "      <td>66.0</td>\n",
       "      <td>7</td>\n",
       "      <td>veg</td>\n",
       "    </tr>\n",
       "    <tr>\n",
       "      <th>4</th>\n",
       "      <td>20.0</td>\n",
       "      <td>2.864518</td>\n",
       "      <td>POINT (299895.324 5773714.215)</td>\n",
       "      <td>leo</td>\n",
       "      <td>2018-06-06</td>\n",
       "      <td>20180606</td>\n",
       "      <td>46</td>\n",
       "      <td>0400o21668050908le206</td>\n",
       "      <td>299895.324043</td>\n",
       "      <td>5.773714e+06</td>\n",
       "      <td>96.0</td>\n",
       "      <td>102.0</td>\n",
       "      <td>107.0</td>\n",
       "      <td>3</td>\n",
       "      <td>veg</td>\n",
       "    </tr>\n",
       "    <tr>\n",
       "      <th>...</th>\n",
       "      <td>...</td>\n",
       "      <td>...</td>\n",
       "      <td>...</td>\n",
       "      <td>...</td>\n",
       "      <td>...</td>\n",
       "      <td>...</td>\n",
       "      <td>...</td>\n",
       "      <td>...</td>\n",
       "      <td>...</td>\n",
       "      <td>...</td>\n",
       "      <td>...</td>\n",
       "      <td>...</td>\n",
       "      <td>...</td>\n",
       "      <td>...</td>\n",
       "      <td>...</td>\n",
       "    </tr>\n",
       "    <tr>\n",
       "      <th>17503</th>\n",
       "      <td>53.0</td>\n",
       "      <td>5.703146</td>\n",
       "      <td>POINT (731459.767 5705157.265)</td>\n",
       "      <td>mar</td>\n",
       "      <td>2019-05-16</td>\n",
       "      <td>20190516</td>\n",
       "      <td>3</td>\n",
       "      <td>63101091m2583400ar50</td>\n",
       "      <td>731459.766560</td>\n",
       "      <td>5.705157e+06</td>\n",
       "      <td>184.0</td>\n",
       "      <td>185.0</td>\n",
       "      <td>165.0</td>\n",
       "      <td>3</td>\n",
       "      <td>sand</td>\n",
       "    </tr>\n",
       "    <tr>\n",
       "      <th>17504</th>\n",
       "      <td>54.0</td>\n",
       "      <td>5.908031</td>\n",
       "      <td>POINT (731458.772 5705157.372)</td>\n",
       "      <td>mar</td>\n",
       "      <td>2019-05-16</td>\n",
       "      <td>20190516</td>\n",
       "      <td>3</td>\n",
       "      <td>63109091m2514400ar50</td>\n",
       "      <td>731458.772321</td>\n",
       "      <td>5.705157e+06</td>\n",
       "      <td>183.0</td>\n",
       "      <td>181.0</td>\n",
       "      <td>163.0</td>\n",
       "      <td>3</td>\n",
       "      <td>sand</td>\n",
       "    </tr>\n",
       "    <tr>\n",
       "      <th>17505</th>\n",
       "      <td>55.0</td>\n",
       "      <td>6.420247</td>\n",
       "      <td>POINT (731457.778 5705157.480)</td>\n",
       "      <td>mar</td>\n",
       "      <td>2019-05-16</td>\n",
       "      <td>20190516</td>\n",
       "      <td>3</td>\n",
       "      <td>63106091m2545300ar50</td>\n",
       "      <td>731457.778082</td>\n",
       "      <td>5.705157e+06</td>\n",
       "      <td>119.0</td>\n",
       "      <td>119.0</td>\n",
       "      <td>109.0</td>\n",
       "      <td>5</td>\n",
       "      <td>no_sand</td>\n",
       "    </tr>\n",
       "    <tr>\n",
       "      <th>17506</th>\n",
       "      <td>56.0</td>\n",
       "      <td>7.128323</td>\n",
       "      <td>POINT (731456.784 5705157.587)</td>\n",
       "      <td>mar</td>\n",
       "      <td>2019-05-16</td>\n",
       "      <td>20190516</td>\n",
       "      <td>3</td>\n",
       "      <td>63103091m2576300ar50</td>\n",
       "      <td>731456.783843</td>\n",
       "      <td>5.705158e+06</td>\n",
       "      <td>106.0</td>\n",
       "      <td>108.0</td>\n",
       "      <td>93.0</td>\n",
       "      <td>5</td>\n",
       "      <td>no_sand</td>\n",
       "    </tr>\n",
       "    <tr>\n",
       "      <th>17507</th>\n",
       "      <td>57.0</td>\n",
       "      <td>5.907796</td>\n",
       "      <td>POINT (731455.790 5705157.694)</td>\n",
       "      <td>mar</td>\n",
       "      <td>2019-05-16</td>\n",
       "      <td>20190516</td>\n",
       "      <td>3</td>\n",
       "      <td>63101091m2507300ar50</td>\n",
       "      <td>731455.789604</td>\n",
       "      <td>5.705158e+06</td>\n",
       "      <td>159.0</td>\n",
       "      <td>158.0</td>\n",
       "      <td>135.0</td>\n",
       "      <td>2</td>\n",
       "      <td>no_sand</td>\n",
       "    </tr>\n",
       "  </tbody>\n",
       "</table>\n",
       "<p>17508 rows × 15 columns</p>\n",
       "</div>"
      ],
      "text/plain": [
       "       distance         z                     coordinates location  \\\n",
       "0          16.0  1.173529  POINT (299891.349 5773713.769)      leo   \n",
       "1          17.0  1.494270  POINT (299892.343 5773713.881)      leo   \n",
       "2          18.0  2.086379  POINT (299893.337 5773713.992)      leo   \n",
       "3          19.0  2.528307  POINT (299894.330 5773714.104)      leo   \n",
       "4          20.0  2.864518  POINT (299895.324 5773714.215)      leo   \n",
       "...         ...       ...                             ...      ...   \n",
       "17503      53.0  5.703146  POINT (731459.767 5705157.265)      mar   \n",
       "17504      54.0  5.908031  POINT (731458.772 5705157.372)      mar   \n",
       "17505      55.0  6.420247  POINT (731457.778 5705157.480)      mar   \n",
       "17506      56.0  7.128323  POINT (731456.784 5705157.587)      mar   \n",
       "17507      57.0  5.907796  POINT (731455.790 5705157.694)      mar   \n",
       "\n",
       "      survey_date  raw_date  tr_id               point_id              x  \\\n",
       "0      2018-06-06  20180606     46  0400o21665066708le106  299891.349005   \n",
       "1      2018-06-06  20180606     46  0400o21666017508le106  299892.342765   \n",
       "2      2018-06-06  20180606     46  0400o21667068308le106  299893.336524   \n",
       "3      2018-06-06  20180606     46  0400o21667019108le106  299894.330284   \n",
       "4      2018-06-06  20180606     46  0400o21668050908le206  299895.324043   \n",
       "...           ...       ...    ...                    ...            ...   \n",
       "17503  2019-05-16  20190516      3   63101091m2583400ar50  731459.766560   \n",
       "17504  2019-05-16  20190516      3   63109091m2514400ar50  731458.772321   \n",
       "17505  2019-05-16  20190516      3   63106091m2545300ar50  731457.778082   \n",
       "17506  2019-05-16  20190516      3   63103091m2576300ar50  731456.783843   \n",
       "17507  2019-05-16  20190516      3   63101091m2507300ar50  731455.789604   \n",
       "\n",
       "                  y  band1  band2  band3  label_k pt_class  \n",
       "0      5.773714e+06  105.0  113.0  101.0        8  no_sand  \n",
       "1      5.773714e+06   84.0   91.0   77.0        1      veg  \n",
       "2      5.773714e+06   73.0   81.0   86.0        1      veg  \n",
       "3      5.773714e+06   51.0   58.0   66.0        7      veg  \n",
       "4      5.773714e+06   96.0  102.0  107.0        3      veg  \n",
       "...             ...    ...    ...    ...      ...      ...  \n",
       "17503  5.705157e+06  184.0  185.0  165.0        3     sand  \n",
       "17504  5.705157e+06  183.0  181.0  163.0        3     sand  \n",
       "17505  5.705157e+06  119.0  119.0  109.0        5  no_sand  \n",
       "17506  5.705158e+06  106.0  108.0   93.0        5  no_sand  \n",
       "17507  5.705158e+06  159.0  158.0  135.0        2  no_sand  \n",
       "\n",
       "[17508 rows x 15 columns]"
      ]
     },
     "execution_count": 12,
     "metadata": {},
     "output_type": "execute_result"
    }
   ],
   "source": [
    "cleanit(test, l_dicts, cluster_field='label_k', fill_class='sand',\n",
    "                watermasks_path=watermasks_path, water_label='water',\n",
    "                shoremasks_path=shoremasks_path, label_corrections_path=label_corrections_path,\n",
    "                crs_dict_string=crs_dict_string,\n",
    "               geometry_field='coordinates')"
   ]
  },
  {
   "cell_type": "code",
   "execution_count": null,
   "id": "d5183014",
   "metadata": {},
   "outputs": [],
   "source": []
  },
  {
   "cell_type": "code",
   "execution_count": null,
   "id": "083089a6",
   "metadata": {},
   "outputs": [],
   "source": []
  },
  {
   "cell_type": "code",
   "execution_count": null,
   "id": "f13bf758",
   "metadata": {},
   "outputs": [],
   "source": []
  },
  {
   "cell_type": "code",
   "execution_count": null,
   "id": "e1c39ff6",
   "metadata": {},
   "outputs": [],
   "source": []
  },
  {
   "cell_type": "code",
   "execution_count": null,
   "id": "0ecfd5ec",
   "metadata": {},
   "outputs": [],
   "source": []
  },
  {
   "cell_type": "code",
   "execution_count": null,
   "id": "46b8c871",
   "metadata": {},
   "outputs": [],
   "source": []
  },
  {
   "cell_type": "code",
   "execution_count": null,
   "id": "abe620e9",
   "metadata": {},
   "outputs": [],
   "source": [
    "f,ax=plt.subplots()\n",
    "pts_gdf.plot(ax=ax)\n",
    "intersection_gdf.boundary.plot(ax=ax, color='r')"
   ]
  },
  {
   "cell_type": "code",
   "execution_count": 15,
   "id": "7f4f0336",
   "metadata": {},
   "outputs": [],
   "source": [
    "label_corrections=label_corrections\n",
    "profiles=to_clean_classified\n",
    "crs=crs_dict_string\n",
    "\n",
    "def check_overlaps_poly_label(label_corrections, profiles,crs):\n",
    "    \"\"\"\n",
    "    Function to check wether overlapping areas of label correction polygons targeting the same label_k in the same surveys but assigning different new classes do not contain points that would be affected by those polygons.\n",
    "    Args:\n",
    "        label_corrections (gpd.GeoDataFrame): GeodataFrame of the label correction polygons.\n",
    "        profiles (gpd.GeoDataFrame): Geodataframe of the extracted elevation profiles.\n",
    "        crs (dict, int): Either an EPSG code (int) or a dictionary. If dictionary, it must store location codes as keys and crs information as values, in dictionary form (example: {'init' :'epsg:4326'}).\n",
    "\n",
    "    \"\"\"\n",
    "    for loc in label_corrections.location.unique():\n",
    "        for raw_date in label_corrections.query(f\"location=='{loc}'\").raw_date.unique():\n",
    "            for target_label_k in label_corrections.query(f\"location=='{loc}' and raw_date=={raw_date}\").target_label_k.unique():\n",
    "\n",
    "                date_labelk_subset=label_corrections.query(f\"location=='{loc}' and raw_date=={raw_date} and target_label_k=={int(target_label_k)}\")\n",
    "\n",
    "                # if more than one polygons target the same label k, check if they overlap\n",
    "                if len(date_labelk_subset)>1:\n",
    "\n",
    "                    # check if there are any one of them that overlaps\n",
    "                    for i,z in comb(range(len(date_labelk_subset)),2):\n",
    "                        intersection_gdf = overlay(date_labelk_subset.iloc[[i]], date_labelk_subset.iloc[[z]], how='intersection')\n",
    "\n",
    "                        if not intersection_gdf.empty:\n",
    "\n",
    "                           # check if the overlapping polygons have assigns different new_classes\n",
    "                            if any(intersection_gdf.new_class_1 != intersection_gdf.new_class_2):\n",
    "\n",
    "                                # if overlap areas assign different classes, check if this area contains points with label_k equal to both polygons target_label_k..\n",
    "                                # if contains points, raise an error as it does not make sense and the polygons must be corrected\n",
    "                                # by the user\n",
    "\n",
    "                                pts=profiles.query(f\"location=='{loc}' and raw_date=={raw_date} and label_k=={int(target_label_k)}\")\n",
    "\n",
    "                                if isinstance(pts.iloc[0]['coordinates'],Point):\n",
    "                                    pts_gdf=pts\n",
    "                                elif isinstance(pts.iloc[0]['coordinates'],str):\n",
    "                                    pts['coordinates']=pts.coordinates.apply(coords_to_points)\n",
    "                                    if isinstance(crs, dict):\n",
    "                                        pts_gdf=gpd.GeoDataFrame(pts, geometry='coordinates', crs=crs[loc])\n",
    "                                    elif isinstance(crs, int):\n",
    "                                        crs_adhoc={'init': f'epsg:{crs}'}\n",
    "                                        pts_gdf=gpd.GeoDataFrame(pts, geometry='coordinates', crs=crs_adhoc)\n",
    "                                else:\n",
    "                                    raise ValueError(f\"profiles coordinates field must contain points coordinates either as Shapely Point geometry objects or as a string representing a Shapely Point geometry in well known text. Found {type(pts.iloc[0]['coordinates'])} type instead.\")\n",
    "\n",
    "                                fully_contains = [intersection_gdf.geometry.contains(mask_geom)[0] for mask_geom in pts_gdf.geometry]\n",
    "\n",
    "                                if True in fully_contains:\n",
    "                                    idx_true=[i for i, x in enumerate(fully_contains) if x]\n",
    "                                    raise ValueError(f\"There are {len(intersection_gdf)} points in the overlap area of two label correction polygons (location: {loc}, raw_date: {raw_date}, target_label_k = {target_label_k}) which assign two different classes: {intersection_gdf.loc[:,'new_class_1'][0], intersection_gdf.loc[:,'new_class_2'][0]}. This doesn't make sense, please correct your label correction polygons. You can have overlapping polygons which act on the same target label k, but if they overlap points with such target_label_k, then they MUST assign the same new class.\")\n",
    "\n",
    "    print(\"Check label correction polygons overlap inconsistencies terminated successfully\")"
   ]
  },
  {
   "cell_type": "code",
   "execution_count": 17,
   "id": "16daac57",
   "metadata": {},
   "outputs": [
    {
     "name": "stdout",
     "output_type": "stream",
     "text": [
      "Check label correction polygons overlap inconsistencies terminated successfully\n"
     ]
    }
   ],
   "source": [
    "check_overlaps_poly_label(label_corrections=label_corrections,profiles=to_clean_classified,crs=crs_dict_string)"
   ]
  },
  {
   "cell_type": "code",
   "execution_count": 25,
   "id": "e8c33940",
   "metadata": {},
   "outputs": [
    {
     "data": {
      "text/html": [
       "<div>\n",
       "<style scoped>\n",
       "    .dataframe tbody tr th:only-of-type {\n",
       "        vertical-align: middle;\n",
       "    }\n",
       "\n",
       "    .dataframe tbody tr th {\n",
       "        vertical-align: top;\n",
       "    }\n",
       "\n",
       "    .dataframe thead th {\n",
       "        text-align: right;\n",
       "    }\n",
       "</style>\n",
       "<table border=\"1\" class=\"dataframe\">\n",
       "  <thead>\n",
       "    <tr style=\"text-align: right;\">\n",
       "      <th></th>\n",
       "      <th>distance</th>\n",
       "      <th>z</th>\n",
       "      <th>coordinates</th>\n",
       "      <th>location</th>\n",
       "      <th>survey_date</th>\n",
       "      <th>raw_date</th>\n",
       "      <th>tr_id</th>\n",
       "      <th>point_id</th>\n",
       "      <th>x</th>\n",
       "      <th>y</th>\n",
       "      <th>band1</th>\n",
       "      <th>band2</th>\n",
       "      <th>band3</th>\n",
       "      <th>label_k</th>\n",
       "    </tr>\n",
       "  </thead>\n",
       "  <tbody>\n",
       "    <tr>\n",
       "      <th>0</th>\n",
       "      <td>0.0</td>\n",
       "      <td>1.130296</td>\n",
       "      <td>POINT (299873.218 5773731.860)</td>\n",
       "      <td>leo</td>\n",
       "      <td>2018-06-06</td>\n",
       "      <td>20180606</td>\n",
       "      <td>47</td>\n",
       "      <td>67144080l2610600eo00</td>\n",
       "      <td>299873.217965</td>\n",
       "      <td>5.773732e+06</td>\n",
       "      <td>133.0</td>\n",
       "      <td>143.0</td>\n",
       "      <td>104.0</td>\n",
       "      <td>8</td>\n",
       "    </tr>\n",
       "    <tr>\n",
       "      <th>1</th>\n",
       "      <td>1.0</td>\n",
       "      <td>1.085163</td>\n",
       "      <td>POINT (299874.212 5773731.971)</td>\n",
       "      <td>leo</td>\n",
       "      <td>2018-06-06</td>\n",
       "      <td>20180606</td>\n",
       "      <td>47</td>\n",
       "      <td>67148080l2690700eo10</td>\n",
       "      <td>299874.211725</td>\n",
       "      <td>5.773732e+06</td>\n",
       "      <td>109.0</td>\n",
       "      <td>107.0</td>\n",
       "      <td>106.0</td>\n",
       "      <td>8</td>\n",
       "    </tr>\n",
       "    <tr>\n",
       "      <th>2</th>\n",
       "      <td>2.0</td>\n",
       "      <td>1.033864</td>\n",
       "      <td>POINT (299875.205 5773732.083)</td>\n",
       "      <td>leo</td>\n",
       "      <td>2018-06-06</td>\n",
       "      <td>20180606</td>\n",
       "      <td>47</td>\n",
       "      <td>67143080l2670800eo20</td>\n",
       "      <td>299875.205484</td>\n",
       "      <td>5.773732e+06</td>\n",
       "      <td>98.0</td>\n",
       "      <td>94.0</td>\n",
       "      <td>105.0</td>\n",
       "      <td>8</td>\n",
       "    </tr>\n",
       "    <tr>\n",
       "      <th>3</th>\n",
       "      <td>3.0</td>\n",
       "      <td>1.025817</td>\n",
       "      <td>POINT (299876.199 5773732.194)</td>\n",
       "      <td>leo</td>\n",
       "      <td>2018-06-06</td>\n",
       "      <td>20180606</td>\n",
       "      <td>47</td>\n",
       "      <td>67148080l2650800eo30</td>\n",
       "      <td>299876.199244</td>\n",
       "      <td>5.773732e+06</td>\n",
       "      <td>99.0</td>\n",
       "      <td>97.0</td>\n",
       "      <td>108.0</td>\n",
       "      <td>8</td>\n",
       "    </tr>\n",
       "    <tr>\n",
       "      <th>4</th>\n",
       "      <td>4.0</td>\n",
       "      <td>1.041824</td>\n",
       "      <td>POINT (299877.193 5773732.306)</td>\n",
       "      <td>leo</td>\n",
       "      <td>2018-06-06</td>\n",
       "      <td>20180606</td>\n",
       "      <td>47</td>\n",
       "      <td>67143080l2630900eo40</td>\n",
       "      <td>299877.193003</td>\n",
       "      <td>5.773732e+06</td>\n",
       "      <td>103.0</td>\n",
       "      <td>109.0</td>\n",
       "      <td>127.0</td>\n",
       "      <td>8</td>\n",
       "    </tr>\n",
       "    <tr>\n",
       "      <th>...</th>\n",
       "      <td>...</td>\n",
       "      <td>...</td>\n",
       "      <td>...</td>\n",
       "      <td>...</td>\n",
       "      <td>...</td>\n",
       "      <td>...</td>\n",
       "      <td>...</td>\n",
       "      <td>...</td>\n",
       "      <td>...</td>\n",
       "      <td>...</td>\n",
       "      <td>...</td>\n",
       "      <td>...</td>\n",
       "      <td>...</td>\n",
       "      <td>...</td>\n",
       "    </tr>\n",
       "    <tr>\n",
       "      <th>23482</th>\n",
       "      <td>75.0</td>\n",
       "      <td>9.786558</td>\n",
       "      <td>POINT (731437.893 5705159.623)</td>\n",
       "      <td>mar</td>\n",
       "      <td>2019-05-16</td>\n",
       "      <td>20190516</td>\n",
       "      <td>3</td>\n",
       "      <td>63102091m2535900ar70</td>\n",
       "      <td>731437.893301</td>\n",
       "      <td>5.705160e+06</td>\n",
       "      <td>92.0</td>\n",
       "      <td>107.0</td>\n",
       "      <td>92.0</td>\n",
       "      <td>5</td>\n",
       "    </tr>\n",
       "    <tr>\n",
       "      <th>23483</th>\n",
       "      <td>76.0</td>\n",
       "      <td>12.814320</td>\n",
       "      <td>POINT (731436.899 5705159.730)</td>\n",
       "      <td>mar</td>\n",
       "      <td>2019-05-16</td>\n",
       "      <td>20190516</td>\n",
       "      <td>3</td>\n",
       "      <td>63109091m2566800ar70</td>\n",
       "      <td>731436.899062</td>\n",
       "      <td>5.705160e+06</td>\n",
       "      <td>75.0</td>\n",
       "      <td>86.0</td>\n",
       "      <td>72.0</td>\n",
       "      <td>5</td>\n",
       "    </tr>\n",
       "    <tr>\n",
       "      <th>23484</th>\n",
       "      <td>77.0</td>\n",
       "      <td>9.619781</td>\n",
       "      <td>POINT (731435.905 5705159.838)</td>\n",
       "      <td>mar</td>\n",
       "      <td>2019-05-16</td>\n",
       "      <td>20190516</td>\n",
       "      <td>3</td>\n",
       "      <td>63106091m2597800ar70</td>\n",
       "      <td>731435.904823</td>\n",
       "      <td>5.705160e+06</td>\n",
       "      <td>64.0</td>\n",
       "      <td>73.0</td>\n",
       "      <td>58.0</td>\n",
       "      <td>0</td>\n",
       "    </tr>\n",
       "    <tr>\n",
       "      <th>23485</th>\n",
       "      <td>78.0</td>\n",
       "      <td>8.493135</td>\n",
       "      <td>POINT (731434.911 5705159.945)</td>\n",
       "      <td>mar</td>\n",
       "      <td>2019-05-16</td>\n",
       "      <td>20190516</td>\n",
       "      <td>3</td>\n",
       "      <td>63104091m2528800ar70</td>\n",
       "      <td>731434.910584</td>\n",
       "      <td>5.705160e+06</td>\n",
       "      <td>56.0</td>\n",
       "      <td>70.0</td>\n",
       "      <td>50.0</td>\n",
       "      <td>0</td>\n",
       "    </tr>\n",
       "    <tr>\n",
       "      <th>23486</th>\n",
       "      <td>79.0</td>\n",
       "      <td>8.593991</td>\n",
       "      <td>POINT (731433.916 5705160.052)</td>\n",
       "      <td>mar</td>\n",
       "      <td>2019-05-16</td>\n",
       "      <td>20190516</td>\n",
       "      <td>3</td>\n",
       "      <td>63101091m2559700ar70</td>\n",
       "      <td>731433.916345</td>\n",
       "      <td>5.705160e+06</td>\n",
       "      <td>50.0</td>\n",
       "      <td>70.0</td>\n",
       "      <td>42.0</td>\n",
       "      <td>0</td>\n",
       "    </tr>\n",
       "  </tbody>\n",
       "</table>\n",
       "<p>23487 rows × 14 columns</p>\n",
       "</div>"
      ],
      "text/plain": [
       "       distance          z                     coordinates location  \\\n",
       "0           0.0   1.130296  POINT (299873.218 5773731.860)      leo   \n",
       "1           1.0   1.085163  POINT (299874.212 5773731.971)      leo   \n",
       "2           2.0   1.033864  POINT (299875.205 5773732.083)      leo   \n",
       "3           3.0   1.025817  POINT (299876.199 5773732.194)      leo   \n",
       "4           4.0   1.041824  POINT (299877.193 5773732.306)      leo   \n",
       "...         ...        ...                             ...      ...   \n",
       "23482      75.0   9.786558  POINT (731437.893 5705159.623)      mar   \n",
       "23483      76.0  12.814320  POINT (731436.899 5705159.730)      mar   \n",
       "23484      77.0   9.619781  POINT (731435.905 5705159.838)      mar   \n",
       "23485      78.0   8.493135  POINT (731434.911 5705159.945)      mar   \n",
       "23486      79.0   8.593991  POINT (731433.916 5705160.052)      mar   \n",
       "\n",
       "      survey_date  raw_date  tr_id              point_id              x  \\\n",
       "0      2018-06-06  20180606     47  67144080l2610600eo00  299873.217965   \n",
       "1      2018-06-06  20180606     47  67148080l2690700eo10  299874.211725   \n",
       "2      2018-06-06  20180606     47  67143080l2670800eo20  299875.205484   \n",
       "3      2018-06-06  20180606     47  67148080l2650800eo30  299876.199244   \n",
       "4      2018-06-06  20180606     47  67143080l2630900eo40  299877.193003   \n",
       "...           ...       ...    ...                   ...            ...   \n",
       "23482  2019-05-16  20190516      3  63102091m2535900ar70  731437.893301   \n",
       "23483  2019-05-16  20190516      3  63109091m2566800ar70  731436.899062   \n",
       "23484  2019-05-16  20190516      3  63106091m2597800ar70  731435.904823   \n",
       "23485  2019-05-16  20190516      3  63104091m2528800ar70  731434.910584   \n",
       "23486  2019-05-16  20190516      3  63101091m2559700ar70  731433.916345   \n",
       "\n",
       "                  y  band1  band2  band3  label_k  \n",
       "0      5.773732e+06  133.0  143.0  104.0        8  \n",
       "1      5.773732e+06  109.0  107.0  106.0        8  \n",
       "2      5.773732e+06   98.0   94.0  105.0        8  \n",
       "3      5.773732e+06   99.0   97.0  108.0        8  \n",
       "4      5.773732e+06  103.0  109.0  127.0        8  \n",
       "...             ...    ...    ...    ...      ...  \n",
       "23482  5.705160e+06   92.0  107.0   92.0        5  \n",
       "23483  5.705160e+06   75.0   86.0   72.0        5  \n",
       "23484  5.705160e+06   64.0   73.0   58.0        0  \n",
       "23485  5.705160e+06   56.0   70.0   50.0        0  \n",
       "23486  5.705160e+06   50.0   70.0   42.0        0  \n",
       "\n",
       "[23487 rows x 14 columns]"
      ]
     },
     "execution_count": 25,
     "metadata": {},
     "output_type": "execute_result"
    }
   ],
   "source": [
    "P.profiles"
   ]
  },
  {
   "cell_type": "code",
   "execution_count": 26,
   "id": "25947660",
   "metadata": {},
   "outputs": [
    {
     "name": "stdout",
     "output_type": "stream",
     "text": [
      "(159, 14)\n",
      "(144, 14)\n",
      "(145, 14)\n",
      "(84, 14)\n",
      "(170, 14)\n",
      "(138, 14)\n",
      "(206, 14)\n",
      "(164, 14)\n",
      "(144, 14)\n",
      "(184, 14)\n",
      "(204, 14)\n",
      "(192, 14)\n",
      "(252, 14)\n",
      "(215, 14)\n",
      "(204, 14)\n",
      "(70, 14)\n",
      "(190, 14)\n",
      "(208, 14)\n",
      "(165, 14)\n",
      "(327, 14)\n",
      "(99, 14)\n",
      "(106, 14)\n",
      "(140, 14)\n",
      "(177, 14)\n",
      "(101, 14)\n",
      "(246, 14)\n",
      "(367, 14)\n",
      "(500, 14)\n",
      "(188, 14)\n",
      "(239, 14)\n",
      "(188, 14)\n"
     ]
    }
   ],
   "source": [
    "for loc in label_corrections.location.unique():\n",
    "    for raw_date in label_corrections.query(f\"location=='{loc}'\").raw_date.unique():\n",
    "        for target_label_k in label_corrections.query(f\"location=='{loc}' and raw_date=={raw_date}\").target_label_k.unique():\n",
    "            pts=P.profiles.query(f\"location=='{loc}' and raw_date=={raw_date} and label_k=={int(target_label_k)}\")\n",
    "            print(pts.shape)"
   ]
  },
  {
   "cell_type": "code",
   "execution_count": 22,
   "id": "5a414bfa",
   "metadata": {},
   "outputs": [
    {
     "data": {
      "text/html": [
       "<div>\n",
       "<style scoped>\n",
       "    .dataframe tbody tr th:only-of-type {\n",
       "        vertical-align: middle;\n",
       "    }\n",
       "\n",
       "    .dataframe tbody tr th {\n",
       "        vertical-align: top;\n",
       "    }\n",
       "\n",
       "    .dataframe thead th {\n",
       "        text-align: right;\n",
       "    }\n",
       "</style>\n",
       "<table border=\"1\" class=\"dataframe\">\n",
       "  <thead>\n",
       "    <tr style=\"text-align: right;\">\n",
       "      <th></th>\n",
       "      <th>distance</th>\n",
       "      <th>z</th>\n",
       "      <th>coordinates</th>\n",
       "      <th>location</th>\n",
       "      <th>survey_date</th>\n",
       "      <th>raw_date</th>\n",
       "      <th>tr_id</th>\n",
       "      <th>point_id</th>\n",
       "      <th>x</th>\n",
       "      <th>y</th>\n",
       "      <th>band1</th>\n",
       "      <th>band2</th>\n",
       "      <th>band3</th>\n",
       "      <th>label_k</th>\n",
       "      <th>pt_class</th>\n",
       "    </tr>\n",
       "  </thead>\n",
       "  <tbody>\n",
       "    <tr>\n",
       "      <th>20579</th>\n",
       "      <td>53.0</td>\n",
       "      <td>6.776581</td>\n",
       "      <td>POINT (731591.976 5705536.337)</td>\n",
       "      <td>mar</td>\n",
       "      <td>2019-03-13</td>\n",
       "      <td>20190313</td>\n",
       "      <td>23</td>\n",
       "      <td>1200r21338003209ma503</td>\n",
       "      <td>731591.976176</td>\n",
       "      <td>5.705536e+06</td>\n",
       "      <td>90.0</td>\n",
       "      <td>98.0</td>\n",
       "      <td>84.0</td>\n",
       "      <td>5</td>\n",
       "      <td>veg</td>\n",
       "    </tr>\n",
       "    <tr>\n",
       "      <th>20580</th>\n",
       "      <td>54.0</td>\n",
       "      <td>7.038528</td>\n",
       "      <td>POINT (731591.134 5705536.877)</td>\n",
       "      <td>mar</td>\n",
       "      <td>2019-03-13</td>\n",
       "      <td>20190313</td>\n",
       "      <td>23</td>\n",
       "      <td>1200r21336074909ma503</td>\n",
       "      <td>731591.133974</td>\n",
       "      <td>5.705537e+06</td>\n",
       "      <td>79.0</td>\n",
       "      <td>90.0</td>\n",
       "      <td>75.0</td>\n",
       "      <td>5</td>\n",
       "      <td>veg</td>\n",
       "    </tr>\n",
       "    <tr>\n",
       "      <th>20581</th>\n",
       "      <td>55.0</td>\n",
       "      <td>7.552044</td>\n",
       "      <td>POINT (731590.292 5705537.416)</td>\n",
       "      <td>mar</td>\n",
       "      <td>2019-03-13</td>\n",
       "      <td>20190313</td>\n",
       "      <td>23</td>\n",
       "      <td>1200r21332085909ma503</td>\n",
       "      <td>731590.291772</td>\n",
       "      <td>5.705537e+06</td>\n",
       "      <td>71.0</td>\n",
       "      <td>85.0</td>\n",
       "      <td>70.0</td>\n",
       "      <td>5</td>\n",
       "      <td>veg</td>\n",
       "    </tr>\n",
       "    <tr>\n",
       "      <th>20586</th>\n",
       "      <td>60.0</td>\n",
       "      <td>8.144909</td>\n",
       "      <td>POINT (731586.081 5705540.112)</td>\n",
       "      <td>mar</td>\n",
       "      <td>2019-03-13</td>\n",
       "      <td>20190313</td>\n",
       "      <td>23</td>\n",
       "      <td>1200r21333050509ma603</td>\n",
       "      <td>731586.080761</td>\n",
       "      <td>5.705540e+06</td>\n",
       "      <td>67.0</td>\n",
       "      <td>93.0</td>\n",
       "      <td>56.0</td>\n",
       "      <td>5</td>\n",
       "      <td>veg</td>\n",
       "    </tr>\n",
       "    <tr>\n",
       "      <th>20590</th>\n",
       "      <td>64.0</td>\n",
       "      <td>9.042209</td>\n",
       "      <td>POINT (731582.712 5705542.268)</td>\n",
       "      <td>mar</td>\n",
       "      <td>2019-03-13</td>\n",
       "      <td>20190313</td>\n",
       "      <td>23</td>\n",
       "      <td>1200r21332024809ma603</td>\n",
       "      <td>731582.711952</td>\n",
       "      <td>5.705542e+06</td>\n",
       "      <td>79.0</td>\n",
       "      <td>105.0</td>\n",
       "      <td>67.0</td>\n",
       "      <td>5</td>\n",
       "      <td>veg</td>\n",
       "    </tr>\n",
       "    <tr>\n",
       "      <th>...</th>\n",
       "      <td>...</td>\n",
       "      <td>...</td>\n",
       "      <td>...</td>\n",
       "      <td>...</td>\n",
       "      <td>...</td>\n",
       "      <td>...</td>\n",
       "      <td>...</td>\n",
       "      <td>...</td>\n",
       "      <td>...</td>\n",
       "      <td>...</td>\n",
       "      <td>...</td>\n",
       "      <td>...</td>\n",
       "      <td>...</td>\n",
       "      <td>...</td>\n",
       "      <td>...</td>\n",
       "    </tr>\n",
       "    <tr>\n",
       "      <th>21764</th>\n",
       "      <td>51.0</td>\n",
       "      <td>6.610341</td>\n",
       "      <td>POINT (731471.379 5705237.447)</td>\n",
       "      <td>mar</td>\n",
       "      <td>2019-03-13</td>\n",
       "      <td>20190313</td>\n",
       "      <td>7</td>\n",
       "      <td>37101091m2331700ar50</td>\n",
       "      <td>731471.378647</td>\n",
       "      <td>5.705237e+06</td>\n",
       "      <td>111.0</td>\n",
       "      <td>113.0</td>\n",
       "      <td>103.0</td>\n",
       "      <td>5</td>\n",
       "      <td>veg</td>\n",
       "    </tr>\n",
       "    <tr>\n",
       "      <th>21765</th>\n",
       "      <td>52.0</td>\n",
       "      <td>7.216864</td>\n",
       "      <td>POINT (731470.399 5705237.647)</td>\n",
       "      <td>mar</td>\n",
       "      <td>2019-03-13</td>\n",
       "      <td>20190313</td>\n",
       "      <td>7</td>\n",
       "      <td>37100091m2352500ar50</td>\n",
       "      <td>731470.398793</td>\n",
       "      <td>5.705238e+06</td>\n",
       "      <td>73.0</td>\n",
       "      <td>79.0</td>\n",
       "      <td>80.0</td>\n",
       "      <td>5</td>\n",
       "      <td>veg</td>\n",
       "    </tr>\n",
       "    <tr>\n",
       "      <th>21770</th>\n",
       "      <td>57.0</td>\n",
       "      <td>6.564970</td>\n",
       "      <td>POINT (731465.500 5705238.645)</td>\n",
       "      <td>mar</td>\n",
       "      <td>2019-03-13</td>\n",
       "      <td>20190313</td>\n",
       "      <td>7</td>\n",
       "      <td>37106091m2347600ar50</td>\n",
       "      <td>731465.499524</td>\n",
       "      <td>5.705239e+06</td>\n",
       "      <td>78.0</td>\n",
       "      <td>83.0</td>\n",
       "      <td>68.0</td>\n",
       "      <td>5</td>\n",
       "      <td>veg</td>\n",
       "    </tr>\n",
       "    <tr>\n",
       "      <th>21771</th>\n",
       "      <td>58.0</td>\n",
       "      <td>5.864155</td>\n",
       "      <td>POINT (731464.520 5705238.845)</td>\n",
       "      <td>mar</td>\n",
       "      <td>2019-03-13</td>\n",
       "      <td>20190313</td>\n",
       "      <td>7</td>\n",
       "      <td>37105091m2368500ar50</td>\n",
       "      <td>731464.519670</td>\n",
       "      <td>5.705239e+06</td>\n",
       "      <td>117.0</td>\n",
       "      <td>116.0</td>\n",
       "      <td>104.0</td>\n",
       "      <td>5</td>\n",
       "      <td>veg</td>\n",
       "    </tr>\n",
       "    <tr>\n",
       "      <th>21772</th>\n",
       "      <td>59.0</td>\n",
       "      <td>5.813148</td>\n",
       "      <td>POINT (731463.540 5705239.045)</td>\n",
       "      <td>mar</td>\n",
       "      <td>2019-03-13</td>\n",
       "      <td>20190313</td>\n",
       "      <td>7</td>\n",
       "      <td>37104091m2389300ar50</td>\n",
       "      <td>731463.539816</td>\n",
       "      <td>5.705239e+06</td>\n",
       "      <td>86.0</td>\n",
       "      <td>102.0</td>\n",
       "      <td>81.0</td>\n",
       "      <td>5</td>\n",
       "      <td>veg</td>\n",
       "    </tr>\n",
       "  </tbody>\n",
       "</table>\n",
       "<p>188 rows × 15 columns</p>\n",
       "</div>"
      ],
      "text/plain": [
       "       distance         z                     coordinates location  \\\n",
       "20579      53.0  6.776581  POINT (731591.976 5705536.337)      mar   \n",
       "20580      54.0  7.038528  POINT (731591.134 5705536.877)      mar   \n",
       "20581      55.0  7.552044  POINT (731590.292 5705537.416)      mar   \n",
       "20586      60.0  8.144909  POINT (731586.081 5705540.112)      mar   \n",
       "20590      64.0  9.042209  POINT (731582.712 5705542.268)      mar   \n",
       "...         ...       ...                             ...      ...   \n",
       "21764      51.0  6.610341  POINT (731471.379 5705237.447)      mar   \n",
       "21765      52.0  7.216864  POINT (731470.399 5705237.647)      mar   \n",
       "21770      57.0  6.564970  POINT (731465.500 5705238.645)      mar   \n",
       "21771      58.0  5.864155  POINT (731464.520 5705238.845)      mar   \n",
       "21772      59.0  5.813148  POINT (731463.540 5705239.045)      mar   \n",
       "\n",
       "      survey_date  raw_date  tr_id               point_id              x  \\\n",
       "20579  2019-03-13  20190313     23  1200r21338003209ma503  731591.976176   \n",
       "20580  2019-03-13  20190313     23  1200r21336074909ma503  731591.133974   \n",
       "20581  2019-03-13  20190313     23  1200r21332085909ma503  731590.291772   \n",
       "20586  2019-03-13  20190313     23  1200r21333050509ma603  731586.080761   \n",
       "20590  2019-03-13  20190313     23  1200r21332024809ma603  731582.711952   \n",
       "...           ...       ...    ...                    ...            ...   \n",
       "21764  2019-03-13  20190313      7   37101091m2331700ar50  731471.378647   \n",
       "21765  2019-03-13  20190313      7   37100091m2352500ar50  731470.398793   \n",
       "21770  2019-03-13  20190313      7   37106091m2347600ar50  731465.499524   \n",
       "21771  2019-03-13  20190313      7   37105091m2368500ar50  731464.519670   \n",
       "21772  2019-03-13  20190313      7   37104091m2389300ar50  731463.539816   \n",
       "\n",
       "                  y  band1  band2  band3  label_k pt_class  \n",
       "20579  5.705536e+06   90.0   98.0   84.0        5      veg  \n",
       "20580  5.705537e+06   79.0   90.0   75.0        5      veg  \n",
       "20581  5.705537e+06   71.0   85.0   70.0        5      veg  \n",
       "20586  5.705540e+06   67.0   93.0   56.0        5      veg  \n",
       "20590  5.705542e+06   79.0  105.0   67.0        5      veg  \n",
       "...             ...    ...    ...    ...      ...      ...  \n",
       "21764  5.705237e+06  111.0  113.0  103.0        5      veg  \n",
       "21765  5.705238e+06   73.0   79.0   80.0        5      veg  \n",
       "21770  5.705239e+06   78.0   83.0   68.0        5      veg  \n",
       "21771  5.705239e+06  117.0  116.0  104.0        5      veg  \n",
       "21772  5.705239e+06   86.0  102.0   81.0        5      veg  \n",
       "\n",
       "[188 rows x 15 columns]"
      ]
     },
     "execution_count": 22,
     "metadata": {},
     "output_type": "execute_result"
    }
   ],
   "source": [
    "pts"
   ]
  },
  {
   "cell_type": "code",
   "execution_count": null,
   "id": "c0b5769e",
   "metadata": {},
   "outputs": [],
   "source": []
  },
  {
   "cell_type": "code",
   "execution_count": null,
   "id": "776652f5",
   "metadata": {},
   "outputs": [],
   "source": [
    "from shapely.geometry.point import Point"
   ]
  },
  {
   "cell_type": "code",
   "execution_count": null,
   "id": "7e943ba0",
   "metadata": {
    "scrolled": true
   },
   "outputs": [],
   "source": [
    "test=check_overlaps_poly_label(label_corrections,prof_works, crs=crs_dict_string)"
   ]
  },
  {
   "cell_type": "code",
   "execution_count": null,
   "id": "d0d59e5c",
   "metadata": {},
   "outputs": [],
   "source": [
    "test.plot()"
   ]
  },
  {
   "cell_type": "code",
   "execution_count": null,
   "id": "c299ad23",
   "metadata": {},
   "outputs": [],
   "source": []
  },
  {
   "cell_type": "code",
   "execution_count": null,
   "id": "a7dcf9d1",
   "metadata": {},
   "outputs": [],
   "source": []
  },
  {
   "cell_type": "code",
   "execution_count": null,
   "id": "de62f92f",
   "metadata": {},
   "outputs": [],
   "source": [
    "type(pts_gdf.iloc[0]['coordinates'])"
   ]
  },
  {
   "cell_type": "code",
   "execution_count": null,
   "id": "9ffa8849",
   "metadata": {},
   "outputs": [],
   "source": [
    "from shapely.geometry import Point"
   ]
  },
  {
   "cell_type": "code",
   "execution_count": null,
   "id": "31f46e0d",
   "metadata": {},
   "outputs": [],
   "source": [
    "isinstance(pts_gdf.iloc[0]['location'],str)"
   ]
  },
  {
   "cell_type": "code",
   "execution_count": null,
   "id": "41fec3e8",
   "metadata": {},
   "outputs": [],
   "source": [
    "f,ax=plt.subplots()\n",
    "\n",
    "#to_clean_classified.query(\"point_id=='3300o21753081509le201'\").plot(ax=ax)\n",
    "#subset_finetune_polys[-2:].plot(column='index', alpha=.3, ax=ax)\n",
    "intersection_gdf.reset_index().plot(ax=ax, column='index')"
   ]
  },
  {
   "cell_type": "code",
   "execution_count": null,
   "id": "901517fb",
   "metadata": {},
   "outputs": [],
   "source": [
    "to_update_finetune.query(\"point_id=='3300o21753081509le201'\")"
   ]
  },
  {
   "cell_type": "code",
   "execution_count": null,
   "id": "d5dd7029",
   "metadata": {},
   "outputs": [],
   "source": [
    "crs_dict_string\n"
   ]
  },
  {
   "cell_type": "code",
   "execution_count": null,
   "id": "b44d212e",
   "metadata": {},
   "outputs": [],
   "source": []
  },
  {
   "cell_type": "code",
   "execution_count": null,
   "id": "be0d71b8",
   "metadata": {},
   "outputs": [],
   "source": []
  }
 ],
 "metadata": {
  "kernelspec": {
   "display_name": "Python 3 (ipykernel)",
   "language": "python",
   "name": "python3"
  },
  "language_info": {
   "codemirror_mode": {
    "name": "ipython",
    "version": 3
   },
   "file_extension": ".py",
   "mimetype": "text/x-python",
   "name": "python",
   "nbconvert_exporter": "python",
   "pygments_lexer": "ipython3",
   "version": "3.8.10"
  }
 },
 "nbformat": 4,
 "nbformat_minor": 5
}
