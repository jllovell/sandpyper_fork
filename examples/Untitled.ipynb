{
 "cells": [
  {
   "cell_type": "code",
   "execution_count": 1,
   "id": "ecf3929a",
   "metadata": {},
   "outputs": [
    {
     "name": "stderr",
     "output_type": "stream",
     "text": [
      "C:\\anaconda3\\envs\\sandpyper_env\\lib\\site-packages\\pysal\\explore\\segregation\\network\\network.py:15: UserWarning: You need pandana and urbanaccess to work with segregation's network module\n",
      "You can install them with  `pip install urbanaccess pandana` or `conda install -c udst pandana urbanaccess`\n",
      "  warn(\n",
      "C:\\anaconda3\\envs\\sandpyper_env\\lib\\site-packages\\pysal\\model\\spvcm\\abstracts.py:10: UserWarning: The `dill` module is required to use the sqlite backend fully.\n",
      "  from .sqlite import head_to_sql, start_sql\n"
     ]
    }
   ],
   "source": [
    "%matplotlib notebook\n",
    "import numpy as np\n",
    "import pandas as pd\n",
    "import geopandas as gpd\n",
    "from itertools import combinations as comb\n",
    "from geopandas.tools import overlay\n",
    "import os\n",
    "from sandpyper.common import coords_to_points\n",
    "\n",
    "\n",
    "from pathlib import Path\n",
    "import matplotlib.pyplot as plt\n",
    "import pandas as pd\n",
    "import rasterio as ras\n",
    "from rasterio.plot import show\n",
    "\n",
    "from sandpyper.sandpyper import ProfileSet\n",
    "from sandpyper.common import get_sil_location, get_opt_k\n",
    "from sklearn.cluster import KMeans\n",
    "from sklearn.preprocessing import MinMaxScaler\n",
    "from tqdm.notebook import tqdm_notebook as tqdm\n",
    "\n",
    "pd.options.mode.chained_assignment = None  # default='warn'\n",
    "\n",
    "crs_dict_string= {\n",
    "                 'mar': {'init': 'epsg:32754'},\n",
    "                 'leo':{'init': 'epsg:32755'}\n",
    "                 }\n",
    "\n",
    "\n",
    "def kmeans_sa(merged_df, ks, feature_set, thresh_k=5, random_state=10):\n",
    "    \"\"\"\n",
    "    Function to use KMeans on all surveys with the optimal k obtained from the Silhouette Analysis.\n",
    "    It uses KMeans as a clusterer.\n",
    "\n",
    "    Args:\n",
    "        merged_df (Pandas dataframe): The clean and merged dataframe containing the features. Must contain the columns point_id, location and survey_date, as well as the\n",
    "        ks (int, dict): number of clusters (k) or dictionary containing the optimal k for each survey. See get_opt_k function.\n",
    "        feature_set (list): List of names of features in the dataframe to use for clustering.\n",
    "        thresh_k (int): Minimim k to be used. If survey-specific optimal k is below this value, then k equals the average k of all above threshold values.\n",
    "        random_state (int): Random seed used to make the randomisation deterministic.\n",
    "\n",
    "    Returns:\n",
    "        data_classified (pd.DataFrame): A dataframe containing the label_k column, with point_id, location, survey_date and the features used to cluster the data.\n",
    "    \"\"\"\n",
    "\n",
    "\n",
    "    merged_df.dropna(inplace=True)\n",
    "    list_locs = merged_df.location.unique()\n",
    "\n",
    "    scaler = MinMaxScaler()\n",
    "    data_classified = pd.DataFrame()\n",
    "\n",
    "    # Set a threshold k, in case a k is lower than 5, use the mean optimal k\n",
    "    # of the other surveys above threshold\n",
    "\n",
    "    # # Compute the mean optimal k of above threshold ks\n",
    "    if isinstance(ks, dict):\n",
    "        arr_k = np.array([i for i in ks.values() if i > thresh_k])\n",
    "        mean_threshold_k = np.int(np.round(np.mean(arr_k), 0))\n",
    "    else:\n",
    "        pass\n",
    "\n",
    "    for location in tqdm(list_locs):\n",
    "\n",
    "        list_dates = merged_df.query(f\"location=='{location}'\").raw_date.unique()\n",
    "\n",
    "        for survey_date_in in tqdm(list_dates):\n",
    "\n",
    "            data_in = merged_df.query(\n",
    "                f\"location=='{location}'& raw_date == {survey_date_in}\"\n",
    "            )\n",
    "            data_clean = data_in[feature_set].apply(pd.to_numeric)\n",
    "\n",
    "            if isinstance(ks, dict):\n",
    "                k = ks[f\"{location}_{survey_date_in}\"]\n",
    "            else:\n",
    "                k=ks\n",
    "\n",
    "            if k < thresh_k:\n",
    "                k = mean_threshold_k\n",
    "            else:\n",
    "                pass\n",
    "\n",
    "            minmax_scaled_df = scaler.fit_transform(np.nan_to_num(data_clean))\n",
    "\n",
    "            clusterer = KMeans(\n",
    "                n_clusters=k,\n",
    "                init=\"k-means++\",\n",
    "                algorithm=\"elkan\",\n",
    "                tol=0.0001,\n",
    "                random_state=random_state,\n",
    "            )\n",
    "\n",
    "            data_in[\"label_k\"] = clusterer.fit_predict(minmax_scaled_df)\n",
    "\n",
    "            data_classified = pd.concat(\n",
    "                [data_in, data_classified], ignore_index=True\n",
    "            )\n",
    "\n",
    "    return data_classified\n",
    "\n",
    "\n",
    "def check_dicts_duplicated_values(l_dicts):\n",
    "\n",
    "    dict_check = {}\n",
    "    dict_dups = {}\n",
    "    all_dicts=[dicto for dicto in l_dicts.values()]\n",
    "\n",
    "    for dict_in in all_dicts:\n",
    "        for key in set().union(*all_dicts):\n",
    "            if key in dict_in:\n",
    "                dict_check.setdefault(key, []).extend(dict_in[key])\n",
    "\n",
    "    for survey, labels in dict_check.items():\n",
    "        duplicated=[x for x in labels if labels.count(x) > 1]\n",
    "        if len(duplicated)>=1:\n",
    "            dict_dups.update({survey:set(set(duplicated))})\n",
    "\n",
    "    if len(dict_dups)>0:\n",
    "        raise ValueError(f\"Duplicated label_k found in the following dictionaries.\\n\\n{dict_dups}\\n\\nPlease revise and assigned those labels_k to only one class dictionary.\")\n",
    "\n",
    "\n",
    "\n",
    "def classify_labelk(labelled_dataset,l_dicts, cluster_field='label_k', fill_class='sand'):\n",
    "\n",
    "    check_dicts_duplicated_values(l_dicts)\n",
    "\n",
    "    labelled_dataset[\"pt_class\"]=np.nan\n",
    "\n",
    "    all_keys = set().union(*(d.keys() for d in [i for i in l_dicts.values()]))\n",
    "    class_names=l_dicts.keys()\n",
    "\n",
    "    classed_df=pd.DataFrame()\n",
    "\n",
    "    for loc in labelled_dataset.location.unique():\n",
    "        data_in_loc=labelled_dataset.query(f\"location=='{loc}'\")[[\"location\",\"raw_date\",cluster_field,\"pt_class\",'point_id']]\n",
    "\n",
    "        for raw_date in data_in_loc.raw_date.unique():\n",
    "            loc_date_tag=f\"{loc}_{raw_date}\"\n",
    "            data_in=data_in_loc.query(f\"raw_date=={raw_date}\")\n",
    "\n",
    "            if loc_date_tag in all_keys:\n",
    "\n",
    "                for class_in in class_names:\n",
    "\n",
    "                    if loc_date_tag in l_dicts[class_in].keys():\n",
    "                        loc_date_class_values=l_dicts[class_in][loc_date_tag]\n",
    "\n",
    "                        if len(loc_date_class_values)>=1:\n",
    "                            tmp_dict={label_k:class_in for label_k in loc_date_class_values}\n",
    "                            data_in['pt_class'].update(data_in[cluster_field].map(tmp_dict))\n",
    "\n",
    "                        else:\n",
    "                            pass\n",
    "                    else:\n",
    "                        pass\n",
    "            else:\n",
    "                print(f\"{loc_date_tag} not in the class dictionaries. All their labels assigned to fill_class {fill_class}.\")\n",
    "                data_in[\"pt_class\"].fillna(fill_class, inplace=True)\n",
    "\n",
    "            classed_df=pd.concat([classed_df,data_in], ignore_index=True)\n",
    "\n",
    "    merged=labelled_dataset.iloc[:,:-1].merge(right=classed_df[['point_id','pt_class']], on='point_id', how='left')\n",
    "\n",
    "    merged[\"pt_class\"].fillna(fill_class, inplace=True)\n",
    "    return merged\n",
    "\n",
    "\n",
    "def cleanit(to_clean, l_dicts, cluster_field='label_k', fill_class='sand',\n",
    "            watermasks_path=None, water_label='water',\n",
    "            shoremasks_path=None, label_corrections_path=None,\n",
    "            default_crs={'init': 'epsg:32754'}, crs_dict_string=None,\n",
    "           geometry_field='coordinates'):\n",
    "\n",
    "    print(\"Reclassifying dataset with the provided dictionaries.\" )\n",
    "    to_clean_classified=classify_labelk(to_clean, l_dicts)\n",
    "\n",
    "    if watermasks_path==None and shoremasks_path==None and label_corrections_path==None:\n",
    "        print(\"No cleaning polygones have been passed. Returning classified dataset.\")\n",
    "        return to_clean_classified\n",
    "\n",
    "    processes=[]\n",
    "\n",
    "    #______ LABELS FINETUNING_______________\n",
    "\n",
    "    if label_corrections_path != None:\n",
    "        if os.path.isfile(label_corrections_path):\n",
    "            label_corrections=gpd.read_file(label_corrections_path)\n",
    "            print(f\"Label corrections provided in CRS: {label_corrections.crs}\")\n",
    "            processes.append(\"polygon finetuning\")\n",
    "            to_update_finetune=pd.DataFrame()\n",
    "\n",
    "\n",
    "            for loc in label_corrections.location.unique():\n",
    "                print(f\"Fine tuning in {loc}.\")\n",
    "\n",
    "                to_clean_subset_loc=to_clean_classified.query(f\" location == '{loc}'\")\n",
    "\n",
    "                for raw_date in tqdm(label_corrections.query(f\"location=='{loc}'\").raw_date.unique()):\n",
    "\n",
    "                    subset_finetune_polys=label_corrections.query(f\"location=='{loc}' and raw_date== {raw_date}\")\n",
    "\n",
    "                    for i,row in subset_finetune_polys.iterrows(): # loops through all the polygones\n",
    "\n",
    "                        target_k=int(row['target_label_k'])\n",
    "                        new_class=row['new_class']\n",
    "\n",
    "                        if target_k != 999:\n",
    "                            data_in=to_clean_subset_loc.query(f\"raw_date == {raw_date} and label_k== {target_k}\")\n",
    "\n",
    "                        elif target_k == 999:\n",
    "                            data_in=to_clean_subset_loc.query(f\"raw_date == {raw_date}\")\n",
    "\n",
    "                        selection=data_in[data_in.coordinates.intersects(row.geometry)]\n",
    "\n",
    "                        if selection.shape[0]==0:\n",
    "                            selection=data_in[data_in.to_crs(crs_dict_string[loc]).coordinates.intersects(row.geometry)]\n",
    "                        else:\n",
    "                            pass\n",
    "                        selection[\"finetuned_label\"]=new_class\n",
    "\n",
    "                        print(f\"Fine-tuning label_k {target_k} to {new_class} in {loc}-{raw_date}, found {selection.shape[0]} pts.\")\n",
    "                        to_update_finetune=pd.concat([selection,to_update_finetune], ignore_index=True)\n",
    "\n",
    "            classed_df_finetuned=to_clean_classified.merge(right=to_update_finetune.loc[:,['point_id','finetuned_label']], # Left Join\n",
    "                                         how='left', validate='one_to_one')\n",
    "\n",
    "            classed_df_finetuned.finetuned_label.fillna(classed_df_finetuned.pt_class, inplace=True) # Fill NaN with previous sand labels\n",
    "        else:\n",
    "            raise NameError(\"Label correction file path is invalid.\")\n",
    "\n",
    "\n",
    "    else:\n",
    "        pass\n",
    "\n",
    "    if shoremasks_path == None and watermasks_path == None:\n",
    "        print(f\"{processes} completed.\")\n",
    "\n",
    "        if 'watermasked_label' in classed_df_finetuned.columns and 'finetuned_label' not in classed_df_finetuned.columns:\n",
    "            classed_df_finetuned['pt_class']=classed_df_finetuned.watermasked_label\n",
    "            classed_df_finetuned.drop(['watermasked_label'], axis=1, inplace=True)\n",
    "\n",
    "        elif 'finetuned_label' in classed_df_finetuned.columns and 'watermasked_label' not in classed_df_finetuned.columns:\n",
    "            classed_df_finetuned['pt_class']=classed_df_finetuned.finetuned_label\n",
    "            classed_df_finetuned.drop(['finetuned_label'], axis=1, inplace=True)\n",
    "\n",
    "        elif 'finetuned_label' in classed_df_finetuned.columns and 'watermasked_label' in classed_df_finetuned.columns:\n",
    "            classed_df_finetuned['pt_class']=classed_df_finetuned.watermasked_label\n",
    "            classed_df_finetuned.drop(['finetuned_label','watermasked_label'], axis=1, inplace=True)\n",
    "\n",
    "        else:\n",
    "            pass\n",
    "\n",
    "        return classed_df_finetuned\n",
    "    else:\n",
    "        pass\n",
    "\n",
    "    #______ WATERMASKING_______________\n",
    "\n",
    "    if watermasks_path != None:\n",
    "        if os.path.isfile(watermasks_path):\n",
    "            # apply watermasks\n",
    "            watermask=gpd.read_file(watermasks_path)\n",
    "            print(f\"watermask  provided in CRS: {watermask.crs}\")\n",
    "\n",
    "\n",
    "            print(\"Applying watermasks cleaning.\")\n",
    "            processes.append(\"watermasking\")\n",
    "\n",
    "            if \"polygon finetuning\" in processes:\n",
    "                dataset_to_clean=classed_df_finetuned\n",
    "                starting_labels='finetuned_label'\n",
    "            else:\n",
    "                dataset_to_clean=to_clean_classified\n",
    "                starting_labels='pt_class'\n",
    "\n",
    "\n",
    "            to_update_watermasked=pd.DataFrame()\n",
    "\n",
    "            for loc in watermask.location.unique():\n",
    "                print(f\"Watermasking in {loc}.\")\n",
    "\n",
    "                for raw_date in tqdm(watermask.query(f\"location=='{loc}'\").raw_date.unique()):\n",
    "\n",
    "                    subset_data=dataset_to_clean.query(f\"location=='{loc}' and raw_date == {raw_date}\")\n",
    "                    subset_masks=watermask.query(f\"location=='{loc}' and raw_date == {raw_date}\")\n",
    "\n",
    "                    selection=subset_data[subset_data.geometry.intersects(subset_masks.geometry)]\n",
    "                    if selection.shape[0]==0:\n",
    "                        selection=subset_data[subset_data.geometry.intersects(subset_masks.to_crs(crs_dict_string[loc]).geometry.any())]\n",
    "                    else:\n",
    "                        pass\n",
    "\n",
    "                    print(f\"Setting to {water_label} {selection.shape[0]} pts overlapping provided watermasks.\")\n",
    "\n",
    "                    selection[\"watermasked_label\"]=water_label\n",
    "\n",
    "                    to_update_watermasked=pd.concat([selection,to_update_watermasked], ignore_index=True)\n",
    "\n",
    "            classed_df_watermasked=dataset_to_clean.merge(right=to_update_watermasked.loc[:,['point_id','watermasked_label']], # Left Join\n",
    "                                         how='left', validate='one_to_one')\n",
    "            classed_df_watermasked.watermasked_label.fillna(classed_df_watermasked.loc[:,starting_labels], inplace=True) # Fill NaN with previous sand labels\n",
    "\n",
    "            if shoremasks_path == None:\n",
    "                print(f\"{processes} completed.\")\n",
    "\n",
    "                if 'watermasked_label' in classed_df_watermasked.columns and 'finetuned_label' not in classed_df_watermasked.columns:\n",
    "                    classed_df_watermasked['pt_class']=classed_df_watermasked.watermasked_label\n",
    "                    classed_df_watermasked.drop(['watermasked_label'], axis=1, inplace=True)\n",
    "\n",
    "                elif 'finetuned_label' in classed_df_watermasked.columns and 'watermasked_label' not in classed_df_watermasked.columns:\n",
    "                    classed_df_watermasked['pt_class']=classed_df_watermasked.finetuned_label\n",
    "                    classed_df_watermasked.drop(['finetuned_label'], axis=1, inplace=True)\n",
    "\n",
    "                elif 'finetuned_label' in classed_df_watermasked.columns and 'watermasked_label' in classed_df_watermasked.columns:\n",
    "                    classed_df_watermasked['pt_class']=classed_df_watermasked.watermasked_label\n",
    "                    classed_df_watermasked.drop(['finetuned_label','watermasked_label'], axis=1, inplace=True)\n",
    "\n",
    "                else:\n",
    "                    pass\n",
    "\n",
    "                return classed_df_watermasked\n",
    "        else:\n",
    "            raise NameError(\"watermask file path is invalid.\")\n",
    "\n",
    "    else:\n",
    "        pass\n",
    "\n",
    "    #______ SHOREMASKING_______________\n",
    "\n",
    "    if shoremasks_path != None:\n",
    "        if os.path.isfile(shoremasks_path):\n",
    "            # apply shoremasks\n",
    "            shoremask=gpd.read_file(shoremasks_path)\n",
    "            print(f\"shoremask  provided in CRS: {shoremask.crs}\")\n",
    "            print(\"Applying shoremasks cleaning.\")\n",
    "            processes.append(\"shoremasking\")\n",
    "\n",
    "\n",
    "            if \"polygon finetuning\" in processes and \"watermasking\" not in processes:\n",
    "                dataset_to_clean=classed_df_finetuned\n",
    "            elif \"polygon finetuning\" not in processes and \"watermasking\" in processes:\n",
    "                dataset_to_clean=classed_df_watermasked\n",
    "            elif \"polygon finetuning\"  in processes and \"watermasking\" in processes:\n",
    "                dataset_to_clean=classed_df_watermasked\n",
    "            else:\n",
    "                dataset_to_clean=to_clean_classified\n",
    "\n",
    "            inshore_cleaned=gpd.GeoDataFrame()\n",
    "            for loc in shoremask.location.unique():\n",
    "                print(f\"Shoremasking in {loc}.\")\n",
    "\n",
    "                shore=shoremask.query(f\"location=='{loc}'\")\n",
    "                loc_selection=dataset_to_clean.query(f\"location=='{loc}'\")\n",
    "                in_shore=loc_selection[loc_selection.geometry.intersects(shore.geometry)]\n",
    "                if in_shore.shape[0]>=1:\n",
    "                    pass\n",
    "                else:\n",
    "                    in_shore=loc_selection[loc_selection.geometry.intersects(shore.to_crs(crs_dict_string[loc]).geometry.any())]\n",
    "\n",
    "                print(f\"Removing {loc_selection.shape[0] - in_shore.shape[0]} pts falling outside provided shore polygones.\")\n",
    "                inshore_cleaned=pd.concat([in_shore,inshore_cleaned], ignore_index=True)\n",
    "\n",
    "            print(f\"{processes} completed.\")\n",
    "\n",
    "            if 'watermasked_label' in inshore_cleaned.columns and 'finetuned_label' not in inshore_cleaned.columns:\n",
    "                inshore_cleaned['pt_class']=inshore_cleaned.watermasked_label\n",
    "                inshore_cleaned.drop(['watermasked_label'], axis=1, inplace=True)\n",
    "\n",
    "            elif 'finetuned_label' in inshore_cleaned.columns and 'watermasked_label' not in inshore_cleaned.columns:\n",
    "                inshore_cleaned['pt_class']=inshore_cleaned.finetuned_label\n",
    "                inshore_cleaned.drop(['finetuned_label'], axis=1, inplace=True)\n",
    "\n",
    "            elif 'finetuned_label' in inshore_cleaned.columns and 'watermasked_label' in inshore_cleaned.columns:\n",
    "                inshore_cleaned['pt_class']=inshore_cleaned.watermasked_label\n",
    "                inshore_cleaned.drop(['finetuned_label','watermasked_label'], axis=1, inplace=True)\n",
    "\n",
    "            else:\n",
    "                pass\n",
    "\n",
    "            return inshore_cleaned\n",
    "        else:\n",
    "            raise NameError(\"shoremask file path is invalid.\")"
   ]
  },
  {
   "cell_type": "code",
   "execution_count": 2,
   "id": "5b83002a",
   "metadata": {},
   "outputs": [],
   "source": [
    "water_dict={'leo_20180606':[0,9,10],\n",
    "'leo_20180713':[0,3,4,7],\n",
    "'leo_20180920':[0,2,6,7],\n",
    "'leo_20190211':[0,2,5],\n",
    "'leo_20190328':[2,4,5],\n",
    "'leo_20190731':[0,2,8,6],\n",
    "'mar_20180601':[1,6],\n",
    "'mar_20180621':[4,6],\n",
    "'mar_20180727':[0,5,9,10],\n",
    "'mar_20180925':[6],\n",
    "'mar_20181113':[1],\n",
    "'mar_20181211':[4],\n",
    "'mar_20190205':[],\n",
    "'mar_20190313':[],\n",
    "'mar_20190516':[4,7]}\n",
    "\n",
    "no_sand_dict={'leo_20180606':[5],\n",
    "'leo_20180713':[],\n",
    "'leo_20180920':[],\n",
    "'leo_20190211':[1],\n",
    "'leo_20190328':[],\n",
    "'leo_20190731':[1],\n",
    "'mar_20180601':[4,5],\n",
    "'mar_20180621':[3,5],\n",
    "'mar_20180727':[4,7],\n",
    "'mar_20180925':[5],\n",
    "'mar_20181113':[0],\n",
    "'mar_20181211':[0],\n",
    "'mar_20190205':[0,5],\n",
    "'mar_20190313':[4],\n",
    "'mar_20190516':[2,5]}\n",
    "\n",
    "veg_dict={'leo_20180606':[1,3,7,8],\n",
    "'leo_20180713':[1,5,9],\n",
    "'leo_20180920':[1,4,5],\n",
    "'leo_20190211':[4],\n",
    "'leo_20190328':[0,1,6],\n",
    "'leo_20190731':[3,7],\n",
    "'mar_20180601':[0,7],\n",
    "'mar_20180621':[1,7],\n",
    "'mar_20180727':[1,3],\n",
    "'mar_20180925':[1,3],\n",
    "'mar_20181113':[3],\n",
    "'mar_20181211':[2],\n",
    "'mar_20190205':[3],\n",
    "'mar_20190313':[1,5],\n",
    "'mar_20190516':[0]}\n",
    "\n",
    "sand_dict={'leo_20180606':[2,4,6],\n",
    "'leo_20180713':[2,6,8],\n",
    "'leo_20180920':[3],\n",
    "'leo_20190211':[3],\n",
    "'leo_20190328':[3],\n",
    "'leo_20190731':[4,5],\n",
    "'mar_20180601':[2,3],\n",
    "'mar_20180621':[0,2],\n",
    "'mar_20180727':[2,6,8],\n",
    "'mar_20180925':[0,4,2],\n",
    "'mar_20181113':[2,4],\n",
    "'mar_20181211':[3,1],\n",
    "'mar_20190205':[1,2,4],\n",
    "'mar_20190313':[0,2,3],\n",
    "'mar_20190516':[1,3,6]}\n",
    "\n",
    "l_dicts={'no_sand': no_sand_dict,\n",
    "         'sand': sand_dict,\n",
    "        'water': water_dict,\n",
    "        'veg':veg_dict}# set the path to the test data folder\n",
    "test_data_folder = r\"C:\\my_packages\\sandpyper\\examples\\test_data\"\n",
    "\n",
    "# the paths to the DSM, orthophotos and transect directories\n",
    "dirNameDSM=Path(test_data_folder + r\"\\dsm_1m\")\n",
    "dirNameOrtho=Path(test_data_folder + r\"\\orthos_1m\")\n",
    "dirNameTrans=Path(test_data_folder + r\"\\transects\")\n",
    "\n",
    "# path to the LoD transects\n",
    "\n",
    "lod_mode=Path(test_data_folder + r\"\\lod_transects\")\n",
    "\n",
    "\n",
    "# the location codes used for the monitored locations\n",
    "loc_codes=[\"mar\",\"leo\"]\n",
    "\n",
    "\n",
    "# the keyword search dictionary\n",
    "loc_search_dict = {   'leo': ['St','Leonards','leonards','leo'],\n",
    "                   'mar': ['Marengo','marengo','mar'] }\n",
    "\n",
    "\n",
    "# the EPSG codes of the coordinate reference systems for each location code (location) given in CRS string format\n",
    "crs_dict_string= {\n",
    "                 'mar': {'init': 'epsg:32754'},\n",
    "                 'leo':{'init': 'epsg:32755'}\n",
    "                 }\n",
    "\n",
    "# the transect spacing of the transects\n",
    "transects_spacing=20"
   ]
  },
  {
   "cell_type": "code",
   "execution_count": 3,
   "id": "b788c94c",
   "metadata": {},
   "outputs": [],
   "source": [
    "# set the path to the test data folder\n",
    "test_data_folder = r\"C:\\my_packages\\sandpyper\\examples\\test_data\"\n",
    "\n",
    "# the paths to the DSM, orthophotos and transect directories\n",
    "dirNameDSM=Path(test_data_folder + r\"\\dsm_1m\")\n",
    "dirNameOrtho=Path(test_data_folder + r\"\\orthos_1m\")\n",
    "dirNameTrans=Path(test_data_folder + r\"\\transects\")\n",
    "\n",
    "# path to the LoD transects\n",
    "\n",
    "lod_mode=Path(test_data_folder + r\"\\lod_transects\")\n",
    "\n",
    "\n",
    "# the location codes used for the monitored locations\n",
    "loc_codes=[\"mar\",\"leo\"]\n",
    "\n",
    "\n",
    "# the keyword search dictionary\n",
    "loc_search_dict = {   'leo': ['St','Leonards','leonards','leo'],\n",
    "                   'mar': ['Marengo','marengo','mar'] }\n",
    "\n",
    "\n",
    "# the transect spacing of the transects\n",
    "transects_spacing=20"
   ]
  },
  {
   "cell_type": "code",
   "execution_count": 4,
   "id": "d7938761",
   "metadata": {},
   "outputs": [
    {
     "name": "stderr",
     "output_type": "stream",
     "text": [
      "C:\\anaconda3\\envs\\sandpyper_env\\lib\\site-packages\\geopandas\\geodataframe.py:422: RuntimeWarning: Sequential read of iterator was interrupted. Resetting iterator. This can negatively impact the performance.\n",
      "  for feature in features_lst:\n"
     ]
    },
    {
     "name": "stdout",
     "output_type": "stream",
     "text": [
      "C:\\my_packages\\sandpyper\\examples\\test_data\\dsm_1m\n",
      "C:\\my_packages\\sandpyper\\examples\\test_data\\orthos_1m\n",
      "dsm from leo = 6\n",
      "\n",
      "ortho from leo = 6\n",
      "\n",
      "dsm from mar = 9\n",
      "\n",
      "ortho from mar = 9\n",
      "\n",
      "\n",
      "umber OF DATASETS TO PROCESS: 30\n",
      "Extracting elevation from DSMs . . .\n"
     ]
    },
    {
     "data": {
      "application/vnd.jupyter.widget-view+json": {
       "model_id": "caf75c931e0e4e579052bdbb9cabd99d",
       "version_major": 2,
       "version_minor": 0
      },
      "text/plain": [
       "  0%|          | 0/15 [00:00<?, ?it/s]"
      ]
     },
     "metadata": {},
     "output_type": "display_data"
    },
    {
     "data": {
      "application/vnd.jupyter.widget-view+json": {
       "model_id": "20192e2432714340b20f25e05c12cfec",
       "version_major": 2,
       "version_minor": 0
      },
      "text/plain": [
       "  0%|          | 0/59 [00:00<?, ?it/s]"
      ]
     },
     "metadata": {},
     "output_type": "display_data"
    },
    {
     "data": {
      "application/vnd.jupyter.widget-view+json": {
       "model_id": "4e34a80c3a3a42f79a0d68f4bcb3dc8a",
       "version_major": 2,
       "version_minor": 0
      },
      "text/plain": [
       "  0%|          | 0/59 [00:00<?, ?it/s]"
      ]
     },
     "metadata": {},
     "output_type": "display_data"
    },
    {
     "data": {
      "application/vnd.jupyter.widget-view+json": {
       "model_id": "86c17957b655443e994f5a4834cc73a2",
       "version_major": 2,
       "version_minor": 0
      },
      "text/plain": [
       "  0%|          | 0/59 [00:00<?, ?it/s]"
      ]
     },
     "metadata": {},
     "output_type": "display_data"
    },
    {
     "data": {
      "application/vnd.jupyter.widget-view+json": {
       "model_id": "b8dc07b7986f49b5b7a96e4f52e98498",
       "version_major": 2,
       "version_minor": 0
      },
      "text/plain": [
       "  0%|          | 0/59 [00:00<?, ?it/s]"
      ]
     },
     "metadata": {},
     "output_type": "display_data"
    },
    {
     "data": {
      "application/vnd.jupyter.widget-view+json": {
       "model_id": "bdde3a2bcf514afe87e5c6dfa26eef0b",
       "version_major": 2,
       "version_minor": 0
      },
      "text/plain": [
       "  0%|          | 0/59 [00:00<?, ?it/s]"
      ]
     },
     "metadata": {},
     "output_type": "display_data"
    },
    {
     "data": {
      "application/vnd.jupyter.widget-view+json": {
       "model_id": "0c088f250e4c4fd5a1c6ff266a1b650a",
       "version_major": 2,
       "version_minor": 0
      },
      "text/plain": [
       "  0%|          | 0/59 [00:00<?, ?it/s]"
      ]
     },
     "metadata": {},
     "output_type": "display_data"
    },
    {
     "data": {
      "application/vnd.jupyter.widget-view+json": {
       "model_id": "ef5ce037b4264176954ca2f34fdf62aa",
       "version_major": 2,
       "version_minor": 0
      },
      "text/plain": [
       "  0%|          | 0/22 [00:00<?, ?it/s]"
      ]
     },
     "metadata": {},
     "output_type": "display_data"
    },
    {
     "data": {
      "application/vnd.jupyter.widget-view+json": {
       "model_id": "63e10f2aad2e4f25b90d83271c7ed4e8",
       "version_major": 2,
       "version_minor": 0
      },
      "text/plain": [
       "  0%|          | 0/22 [00:00<?, ?it/s]"
      ]
     },
     "metadata": {},
     "output_type": "display_data"
    },
    {
     "data": {
      "application/vnd.jupyter.widget-view+json": {
       "model_id": "ac7e82f607d94f5cb7df3569e1a54460",
       "version_major": 2,
       "version_minor": 0
      },
      "text/plain": [
       "  0%|          | 0/22 [00:00<?, ?it/s]"
      ]
     },
     "metadata": {},
     "output_type": "display_data"
    },
    {
     "data": {
      "application/vnd.jupyter.widget-view+json": {
       "model_id": "593f02c6c26e4721ba6e676a26f76e00",
       "version_major": 2,
       "version_minor": 0
      },
      "text/plain": [
       "  0%|          | 0/22 [00:00<?, ?it/s]"
      ]
     },
     "metadata": {},
     "output_type": "display_data"
    },
    {
     "data": {
      "application/vnd.jupyter.widget-view+json": {
       "model_id": "93e2909589a2402f8d42a0ee6239b28a",
       "version_major": 2,
       "version_minor": 0
      },
      "text/plain": [
       "  0%|          | 0/22 [00:00<?, ?it/s]"
      ]
     },
     "metadata": {},
     "output_type": "display_data"
    },
    {
     "data": {
      "application/vnd.jupyter.widget-view+json": {
       "model_id": "c94b3de0088f4d66bb4ba4454388a4d6",
       "version_major": 2,
       "version_minor": 0
      },
      "text/plain": [
       "  0%|          | 0/22 [00:00<?, ?it/s]"
      ]
     },
     "metadata": {},
     "output_type": "display_data"
    },
    {
     "data": {
      "application/vnd.jupyter.widget-view+json": {
       "model_id": "919cdb0a0a8e430b89e5afd15b718abd",
       "version_major": 2,
       "version_minor": 0
      },
      "text/plain": [
       "  0%|          | 0/22 [00:00<?, ?it/s]"
      ]
     },
     "metadata": {},
     "output_type": "display_data"
    },
    {
     "data": {
      "application/vnd.jupyter.widget-view+json": {
       "model_id": "0d49cdaa9d37493781e8ba2b43f9db02",
       "version_major": 2,
       "version_minor": 0
      },
      "text/plain": [
       "  0%|          | 0/22 [00:00<?, ?it/s]"
      ]
     },
     "metadata": {},
     "output_type": "display_data"
    },
    {
     "data": {
      "application/vnd.jupyter.widget-view+json": {
       "model_id": "e28a2549ed7d4e39ad739d0b640a9be6",
       "version_major": 2,
       "version_minor": 0
      },
      "text/plain": [
       "  0%|          | 0/22 [00:00<?, ?it/s]"
      ]
     },
     "metadata": {},
     "output_type": "display_data"
    },
    {
     "name": "stdout",
     "output_type": "stream",
     "text": [
      "Extraction successful\n",
      "Number of points extracted:32805\n",
      "Time for processing=39.72982096672058 seconds\n",
      "First 10 rows are printed below\n",
      "Number of points outside the raster extents: 9066\n",
      "The extraction assigns NaN.\n",
      "Number of points in NoData areas within the raster extents: 250\n",
      "The extraction assigns NaN.\n",
      "Extracting rgb values from orthos . . .\n"
     ]
    },
    {
     "data": {
      "application/vnd.jupyter.widget-view+json": {
       "model_id": "0a30ea4bfe3242d084a8fa3a36ff64b1",
       "version_major": 2,
       "version_minor": 0
      },
      "text/plain": [
       "  0%|          | 0/15 [00:00<?, ?it/s]"
      ]
     },
     "metadata": {},
     "output_type": "display_data"
    },
    {
     "name": "stderr",
     "output_type": "stream",
     "text": [
      "C:\\anaconda3\\envs\\sandpyper_env\\lib\\site-packages\\geopandas\\geodataframe.py:422: RuntimeWarning: Sequential read of iterator was interrupted. Resetting iterator. This can negatively impact the performance.\n",
      "  for feature in features_lst:\n"
     ]
    },
    {
     "data": {
      "application/vnd.jupyter.widget-view+json": {
       "model_id": "546afc8201834891825a76ee18188efe",
       "version_major": 2,
       "version_minor": 0
      },
      "text/plain": [
       "  0%|          | 0/59 [00:00<?, ?it/s]"
      ]
     },
     "metadata": {},
     "output_type": "display_data"
    },
    {
     "data": {
      "application/vnd.jupyter.widget-view+json": {
       "model_id": "3918d8500bed47ca861df70d9c30e55d",
       "version_major": 2,
       "version_minor": 0
      },
      "text/plain": [
       "  0%|          | 0/59 [00:00<?, ?it/s]"
      ]
     },
     "metadata": {},
     "output_type": "display_data"
    },
    {
     "data": {
      "application/vnd.jupyter.widget-view+json": {
       "model_id": "98a4376164e74ca59be31452d7fbf848",
       "version_major": 2,
       "version_minor": 0
      },
      "text/plain": [
       "  0%|          | 0/59 [00:00<?, ?it/s]"
      ]
     },
     "metadata": {},
     "output_type": "display_data"
    },
    {
     "data": {
      "application/vnd.jupyter.widget-view+json": {
       "model_id": "2e02b1967ec348af9797061b71c3b0bc",
       "version_major": 2,
       "version_minor": 0
      },
      "text/plain": [
       "  0%|          | 0/59 [00:00<?, ?it/s]"
      ]
     },
     "metadata": {},
     "output_type": "display_data"
    },
    {
     "data": {
      "application/vnd.jupyter.widget-view+json": {
       "model_id": "ddb31d4adbac41c6a34f5439d0db6842",
       "version_major": 2,
       "version_minor": 0
      },
      "text/plain": [
       "  0%|          | 0/59 [00:00<?, ?it/s]"
      ]
     },
     "metadata": {},
     "output_type": "display_data"
    },
    {
     "data": {
      "application/vnd.jupyter.widget-view+json": {
       "model_id": "a55bdfb351b04c56a0d178b8aa500758",
       "version_major": 2,
       "version_minor": 0
      },
      "text/plain": [
       "  0%|          | 0/59 [00:00<?, ?it/s]"
      ]
     },
     "metadata": {},
     "output_type": "display_data"
    },
    {
     "data": {
      "application/vnd.jupyter.widget-view+json": {
       "model_id": "190e0051dc814cc0970962f43e4f5f17",
       "version_major": 2,
       "version_minor": 0
      },
      "text/plain": [
       "  0%|          | 0/22 [00:00<?, ?it/s]"
      ]
     },
     "metadata": {},
     "output_type": "display_data"
    },
    {
     "data": {
      "application/vnd.jupyter.widget-view+json": {
       "model_id": "2a99acc2e9cf4ee1aa4a7950002ec525",
       "version_major": 2,
       "version_minor": 0
      },
      "text/plain": [
       "  0%|          | 0/22 [00:00<?, ?it/s]"
      ]
     },
     "metadata": {},
     "output_type": "display_data"
    },
    {
     "data": {
      "application/vnd.jupyter.widget-view+json": {
       "model_id": "b49034682d2043f0bb94876265baea0e",
       "version_major": 2,
       "version_minor": 0
      },
      "text/plain": [
       "  0%|          | 0/22 [00:00<?, ?it/s]"
      ]
     },
     "metadata": {},
     "output_type": "display_data"
    },
    {
     "data": {
      "application/vnd.jupyter.widget-view+json": {
       "model_id": "ced69f7425054dce9141c6e1005cd539",
       "version_major": 2,
       "version_minor": 0
      },
      "text/plain": [
       "  0%|          | 0/22 [00:00<?, ?it/s]"
      ]
     },
     "metadata": {},
     "output_type": "display_data"
    },
    {
     "data": {
      "application/vnd.jupyter.widget-view+json": {
       "model_id": "1d9ec18efd9243d4a0388385fff14ae0",
       "version_major": 2,
       "version_minor": 0
      },
      "text/plain": [
       "  0%|          | 0/22 [00:00<?, ?it/s]"
      ]
     },
     "metadata": {},
     "output_type": "display_data"
    },
    {
     "data": {
      "application/vnd.jupyter.widget-view+json": {
       "model_id": "1d67d4d2ab934c78b4ef8c593009b3f7",
       "version_major": 2,
       "version_minor": 0
      },
      "text/plain": [
       "  0%|          | 0/22 [00:00<?, ?it/s]"
      ]
     },
     "metadata": {},
     "output_type": "display_data"
    },
    {
     "data": {
      "application/vnd.jupyter.widget-view+json": {
       "model_id": "7934f3ccbe454b74a32c71a6bdb65ff0",
       "version_major": 2,
       "version_minor": 0
      },
      "text/plain": [
       "  0%|          | 0/22 [00:00<?, ?it/s]"
      ]
     },
     "metadata": {},
     "output_type": "display_data"
    },
    {
     "data": {
      "application/vnd.jupyter.widget-view+json": {
       "model_id": "4b87cf1b3af24f7b8e78cbc98055c604",
       "version_major": 2,
       "version_minor": 0
      },
      "text/plain": [
       "  0%|          | 0/22 [00:00<?, ?it/s]"
      ]
     },
     "metadata": {},
     "output_type": "display_data"
    },
    {
     "data": {
      "application/vnd.jupyter.widget-view+json": {
       "model_id": "ef7a9d12b4e14230a18cd5b23a3b224b",
       "version_major": 2,
       "version_minor": 0
      },
      "text/plain": [
       "  0%|          | 0/22 [00:00<?, ?it/s]"
      ]
     },
     "metadata": {},
     "output_type": "display_data"
    },
    {
     "name": "stdout",
     "output_type": "stream",
     "text": [
      "Extraction successful\n",
      "Number of points extracted:32805\n",
      "Time for processing=43.90751624107361 seconds\n",
      "First 10 rows are printed below\n",
      "Number of points outside the raster extents: 27198\n",
      "The extraction assigns NaN.\n",
      "Number of points in NoData areas within the raster extents: 0\n",
      "The extraction assigns NaN.\n",
      "Extracting LoD values\n"
     ]
    },
    {
     "data": {
      "application/vnd.jupyter.widget-view+json": {
       "model_id": "66f63e2fdb5b429abef226c88de752ff",
       "version_major": 2,
       "version_minor": 0
      },
      "text/plain": [
       "  0%|          | 0/15 [00:00<?, ?it/s]"
      ]
     },
     "metadata": {},
     "output_type": "display_data"
    },
    {
     "name": "stderr",
     "output_type": "stream",
     "text": [
      "C:\\anaconda3\\envs\\sandpyper_env\\lib\\site-packages\\geopandas\\geodataframe.py:422: RuntimeWarning: Sequential read of iterator was interrupted. Resetting iterator. This can negatively impact the performance.\n",
      "  for feature in features_lst:\n"
     ]
    },
    {
     "data": {
      "application/vnd.jupyter.widget-view+json": {
       "model_id": "5b6af55f114f47cd8f0bb196f0817904",
       "version_major": 2,
       "version_minor": 0
      },
      "text/plain": [
       "  0%|          | 0/7 [00:00<?, ?it/s]"
      ]
     },
     "metadata": {},
     "output_type": "display_data"
    },
    {
     "data": {
      "application/vnd.jupyter.widget-view+json": {
       "model_id": "e9f543d2308c4071997ea11e4ebee2b9",
       "version_major": 2,
       "version_minor": 0
      },
      "text/plain": [
       "  0%|          | 0/7 [00:00<?, ?it/s]"
      ]
     },
     "metadata": {},
     "output_type": "display_data"
    },
    {
     "data": {
      "application/vnd.jupyter.widget-view+json": {
       "model_id": "456f1cca4f3942829c0ebe052507cc82",
       "version_major": 2,
       "version_minor": 0
      },
      "text/plain": [
       "  0%|          | 0/7 [00:00<?, ?it/s]"
      ]
     },
     "metadata": {},
     "output_type": "display_data"
    },
    {
     "data": {
      "application/vnd.jupyter.widget-view+json": {
       "model_id": "849968439c084dc3bc378b5644dc3a94",
       "version_major": 2,
       "version_minor": 0
      },
      "text/plain": [
       "  0%|          | 0/7 [00:00<?, ?it/s]"
      ]
     },
     "metadata": {},
     "output_type": "display_data"
    },
    {
     "data": {
      "application/vnd.jupyter.widget-view+json": {
       "model_id": "87bbfc8f6d734f6ea93096e226f4f956",
       "version_major": 2,
       "version_minor": 0
      },
      "text/plain": [
       "  0%|          | 0/7 [00:00<?, ?it/s]"
      ]
     },
     "metadata": {},
     "output_type": "display_data"
    },
    {
     "data": {
      "application/vnd.jupyter.widget-view+json": {
       "model_id": "88d23d74c7594136b7c59319171b4d95",
       "version_major": 2,
       "version_minor": 0
      },
      "text/plain": [
       "  0%|          | 0/7 [00:00<?, ?it/s]"
      ]
     },
     "metadata": {},
     "output_type": "display_data"
    },
    {
     "data": {
      "application/vnd.jupyter.widget-view+json": {
       "model_id": "1caee057c4d74d6fa7cd8d8685a67c94",
       "version_major": 2,
       "version_minor": 0
      },
      "text/plain": [
       "  0%|          | 0/6 [00:00<?, ?it/s]"
      ]
     },
     "metadata": {},
     "output_type": "display_data"
    },
    {
     "data": {
      "application/vnd.jupyter.widget-view+json": {
       "model_id": "f459a8d4ecda45249580b27fc06b0288",
       "version_major": 2,
       "version_minor": 0
      },
      "text/plain": [
       "  0%|          | 0/6 [00:00<?, ?it/s]"
      ]
     },
     "metadata": {},
     "output_type": "display_data"
    },
    {
     "data": {
      "application/vnd.jupyter.widget-view+json": {
       "model_id": "889ce53d02f749b3b2843798a7419b56",
       "version_major": 2,
       "version_minor": 0
      },
      "text/plain": [
       "  0%|          | 0/6 [00:00<?, ?it/s]"
      ]
     },
     "metadata": {},
     "output_type": "display_data"
    },
    {
     "data": {
      "application/vnd.jupyter.widget-view+json": {
       "model_id": "f5d61ccf486c49f2b4b150432532a1ed",
       "version_major": 2,
       "version_minor": 0
      },
      "text/plain": [
       "  0%|          | 0/6 [00:00<?, ?it/s]"
      ]
     },
     "metadata": {},
     "output_type": "display_data"
    },
    {
     "data": {
      "application/vnd.jupyter.widget-view+json": {
       "model_id": "9d4ba5e509394ce99fc2e284393d6eae",
       "version_major": 2,
       "version_minor": 0
      },
      "text/plain": [
       "  0%|          | 0/6 [00:00<?, ?it/s]"
      ]
     },
     "metadata": {},
     "output_type": "display_data"
    },
    {
     "data": {
      "application/vnd.jupyter.widget-view+json": {
       "model_id": "aae7bdee38644251b7ece5f573fe7d27",
       "version_major": 2,
       "version_minor": 0
      },
      "text/plain": [
       "  0%|          | 0/6 [00:00<?, ?it/s]"
      ]
     },
     "metadata": {},
     "output_type": "display_data"
    },
    {
     "data": {
      "application/vnd.jupyter.widget-view+json": {
       "model_id": "edcda0506a1f426dbae7cb2d05fb539e",
       "version_major": 2,
       "version_minor": 0
      },
      "text/plain": [
       "  0%|          | 0/6 [00:00<?, ?it/s]"
      ]
     },
     "metadata": {},
     "output_type": "display_data"
    },
    {
     "data": {
      "application/vnd.jupyter.widget-view+json": {
       "model_id": "fd3551a4df5d49719827c6267bf41088",
       "version_major": 2,
       "version_minor": 0
      },
      "text/plain": [
       "  0%|          | 0/6 [00:00<?, ?it/s]"
      ]
     },
     "metadata": {},
     "output_type": "display_data"
    },
    {
     "data": {
      "application/vnd.jupyter.widget-view+json": {
       "model_id": "73466f0f5c9648e688c1da90eb317dc4",
       "version_major": 2,
       "version_minor": 0
      },
      "text/plain": [
       "  0%|          | 0/6 [00:00<?, ?it/s]"
      ]
     },
     "metadata": {},
     "output_type": "display_data"
    },
    {
     "name": "stdout",
     "output_type": "stream",
     "text": [
      "Extraction successful\n",
      "Number of points extracted:1395\n",
      "Time for processing=5.094757318496704 seconds\n",
      "First 10 rows are printed below\n",
      "Number of points outside the raster extents: 27\n",
      "The extraction assigns NaN.\n",
      "Number of points in NoData areas within the raster extents: 0\n",
      "The extraction assigns NaN.\n"
     ]
    },
    {
     "data": {
      "application/vnd.jupyter.widget-view+json": {
       "model_id": "cd5e5d5d62b342b48cd8a9a5697b47c0",
       "version_major": 2,
       "version_minor": 0
      },
      "text/plain": [
       "  0%|          | 0/2 [00:00<?, ?it/s]"
      ]
     },
     "metadata": {},
     "output_type": "display_data"
    },
    {
     "data": {
      "application/vnd.jupyter.widget-view+json": {
       "model_id": "96f8b55e00514e5288f7214ff1a434e1",
       "version_major": 2,
       "version_minor": 0
      },
      "text/plain": [
       "  0%|          | 0/9 [00:00<?, ?it/s]"
      ]
     },
     "metadata": {},
     "output_type": "display_data"
    },
    {
     "name": "stdout",
     "output_type": "stream",
     "text": [
      "Working on : mar, 20190516.\n"
     ]
    },
    {
     "data": {
      "application/vnd.jupyter.widget-view+json": {
       "model_id": "f28782a4505843aa9afc7bf399ec9f41",
       "version_major": 2,
       "version_minor": 0
      },
      "text/plain": [
       "  0%|          | 0/13 [00:00<?, ?it/s]"
      ]
     },
     "metadata": {},
     "output_type": "display_data"
    },
    {
     "name": "stdout",
     "output_type": "stream",
     "text": [
      "For n_clusters = 2 The average silhouette_score is : 0.6219865168763407\n",
      "For n_clusters = 3 The average silhouette_score is : 0.535782834177223\n",
      "For n_clusters = 4 The average silhouette_score is : 0.5360693626824162\n",
      "For n_clusters = 5 The average silhouette_score is : 0.4560535847617118\n",
      "For n_clusters = 6 The average silhouette_score is : 0.45529082978244856\n",
      "For n_clusters = 7 The average silhouette_score is : 0.44623104595368007\n",
      "For n_clusters = 8 The average silhouette_score is : 0.4276467073078296\n",
      "For n_clusters = 9 The average silhouette_score is : 0.39984472497160034\n",
      "For n_clusters = 10 The average silhouette_score is : 0.3944833658664287\n",
      "For n_clusters = 11 The average silhouette_score is : 0.39290037915600995\n",
      "For n_clusters = 12 The average silhouette_score is : 0.3626866522843635\n",
      "For n_clusters = 13 The average silhouette_score is : 0.3537214969510808\n",
      "For n_clusters = 14 The average silhouette_score is : 0.360049558138258\n",
      "Working on : mar, 20190313.\n"
     ]
    },
    {
     "data": {
      "application/vnd.jupyter.widget-view+json": {
       "model_id": "0b34f8db12984c42aaaab2cd99ffbaea",
       "version_major": 2,
       "version_minor": 0
      },
      "text/plain": [
       "  0%|          | 0/13 [00:00<?, ?it/s]"
      ]
     },
     "metadata": {},
     "output_type": "display_data"
    },
    {
     "name": "stdout",
     "output_type": "stream",
     "text": [
      "For n_clusters = 2 The average silhouette_score is : 0.557958595647791\n",
      "For n_clusters = 3 The average silhouette_score is : 0.5140648301846097\n",
      "For n_clusters = 4 The average silhouette_score is : 0.5018436513556769\n",
      "For n_clusters = 5 The average silhouette_score is : 0.433979206893076\n",
      "For n_clusters = 6 The average silhouette_score is : 0.417124057365699\n",
      "For n_clusters = 7 The average silhouette_score is : 0.41877526043796687\n",
      "For n_clusters = 8 The average silhouette_score is : 0.3813644990945346\n",
      "For n_clusters = 9 The average silhouette_score is : 0.38298598316290156\n",
      "For n_clusters = 10 The average silhouette_score is : 0.38780357139523025\n",
      "For n_clusters = 11 The average silhouette_score is : 0.3705944933198418\n",
      "For n_clusters = 12 The average silhouette_score is : 0.3651637741592011\n",
      "For n_clusters = 13 The average silhouette_score is : 0.3626901435079943\n",
      "For n_clusters = 14 The average silhouette_score is : 0.364312347054231\n",
      "Working on : mar, 20190205.\n"
     ]
    },
    {
     "data": {
      "application/vnd.jupyter.widget-view+json": {
       "model_id": "f63ca48de6324d619bd431bb6c1d3991",
       "version_major": 2,
       "version_minor": 0
      },
      "text/plain": [
       "  0%|          | 0/13 [00:00<?, ?it/s]"
      ]
     },
     "metadata": {},
     "output_type": "display_data"
    },
    {
     "name": "stdout",
     "output_type": "stream",
     "text": [
      "For n_clusters = 2 The average silhouette_score is : 0.5864811907668233\n",
      "For n_clusters = 3 The average silhouette_score is : 0.5287826504696901\n",
      "For n_clusters = 4 The average silhouette_score is : 0.5135421029464969\n",
      "For n_clusters = 5 The average silhouette_score is : 0.4307716357147362\n",
      "For n_clusters = 6 The average silhouette_score is : 0.4198951039452866\n",
      "For n_clusters = 7 The average silhouette_score is : 0.4216561839748987\n",
      "For n_clusters = 8 The average silhouette_score is : 0.4048963177852256\n",
      "For n_clusters = 9 The average silhouette_score is : 0.40309220394346107\n",
      "For n_clusters = 10 The average silhouette_score is : 0.3863324302013023\n",
      "For n_clusters = 11 The average silhouette_score is : 0.3797930282754271\n",
      "For n_clusters = 12 The average silhouette_score is : 0.38096229910474133\n",
      "For n_clusters = 13 The average silhouette_score is : 0.38270148296414735\n",
      "For n_clusters = 14 The average silhouette_score is : 0.38101196831610196\n",
      "Working on : mar, 20181211.\n"
     ]
    },
    {
     "data": {
      "application/vnd.jupyter.widget-view+json": {
       "model_id": "11033d85825043eeb4c7b852afc01d6f",
       "version_major": 2,
       "version_minor": 0
      },
      "text/plain": [
       "  0%|          | 0/13 [00:00<?, ?it/s]"
      ]
     },
     "metadata": {},
     "output_type": "display_data"
    },
    {
     "name": "stdout",
     "output_type": "stream",
     "text": [
      "For n_clusters = 2 The average silhouette_score is : 0.5408421089322027\n",
      "For n_clusters = 3 The average silhouette_score is : 0.5230591336669079\n",
      "For n_clusters = 4 The average silhouette_score is : 0.5212604455141028\n",
      "For n_clusters = 5 The average silhouette_score is : 0.4229400387683722\n",
      "For n_clusters = 6 The average silhouette_score is : 0.45245862927127983\n",
      "For n_clusters = 7 The average silhouette_score is : 0.4483238394769186\n",
      "For n_clusters = 8 The average silhouette_score is : 0.4196417680949735\n",
      "For n_clusters = 9 The average silhouette_score is : 0.40611511715414134\n",
      "For n_clusters = 10 The average silhouette_score is : 0.38659542553842996\n",
      "For n_clusters = 11 The average silhouette_score is : 0.3696055524901218\n",
      "For n_clusters = 12 The average silhouette_score is : 0.37009962399500085\n",
      "For n_clusters = 13 The average silhouette_score is : 0.35527656663572244\n",
      "For n_clusters = 14 The average silhouette_score is : 0.3465435289160837\n",
      "Working on : mar, 20181113.\n"
     ]
    },
    {
     "data": {
      "application/vnd.jupyter.widget-view+json": {
       "model_id": "6c8b1a556fa84c8caa6d0eb7b4207240",
       "version_major": 2,
       "version_minor": 0
      },
      "text/plain": [
       "  0%|          | 0/13 [00:00<?, ?it/s]"
      ]
     },
     "metadata": {},
     "output_type": "display_data"
    },
    {
     "name": "stdout",
     "output_type": "stream",
     "text": [
      "For n_clusters = 2 The average silhouette_score is : 0.5653353599190023\n",
      "For n_clusters = 3 The average silhouette_score is : 0.48082172651613736\n",
      "For n_clusters = 4 The average silhouette_score is : 0.4739355249881875\n",
      "For n_clusters = 5 The average silhouette_score is : 0.44998542160594424\n",
      "For n_clusters = 6 The average silhouette_score is : 0.46793686792032685\n",
      "For n_clusters = 7 The average silhouette_score is : 0.45141377362406754\n",
      "For n_clusters = 8 The average silhouette_score is : 0.4282875609756635\n",
      "For n_clusters = 9 The average silhouette_score is : 0.41407851845524357\n",
      "For n_clusters = 10 The average silhouette_score is : 0.40718423656045105\n",
      "For n_clusters = 11 The average silhouette_score is : 0.3903647922431344\n",
      "For n_clusters = 12 The average silhouette_score is : 0.3839833647433829\n",
      "For n_clusters = 13 The average silhouette_score is : 0.38065272471925277\n",
      "For n_clusters = 14 The average silhouette_score is : 0.3832072967705472\n",
      "Working on : mar, 20180925.\n"
     ]
    },
    {
     "data": {
      "application/vnd.jupyter.widget-view+json": {
       "model_id": "839ae5bcd8c74f658f41012b0b6c15a9",
       "version_major": 2,
       "version_minor": 0
      },
      "text/plain": [
       "  0%|          | 0/13 [00:00<?, ?it/s]"
      ]
     },
     "metadata": {},
     "output_type": "display_data"
    },
    {
     "name": "stdout",
     "output_type": "stream",
     "text": [
      "For n_clusters = 2 The average silhouette_score is : 0.5781993163219185\n",
      "For n_clusters = 3 The average silhouette_score is : 0.5170856406873439\n",
      "For n_clusters = 4 The average silhouette_score is : 0.48466929384434043\n",
      "For n_clusters = 5 The average silhouette_score is : 0.4373504056027659\n",
      "For n_clusters = 6 The average silhouette_score is : 0.39375906953445383\n",
      "For n_clusters = 7 The average silhouette_score is : 0.38864190848914665\n",
      "For n_clusters = 8 The average silhouette_score is : 0.4035256487664215\n",
      "For n_clusters = 9 The average silhouette_score is : 0.3798356038299367\n",
      "For n_clusters = 10 The average silhouette_score is : 0.37962054426443537\n",
      "For n_clusters = 11 The average silhouette_score is : 0.3644375001522226\n",
      "For n_clusters = 12 The average silhouette_score is : 0.3558265298038209\n",
      "For n_clusters = 13 The average silhouette_score is : 0.34528697717595713\n",
      "For n_clusters = 14 The average silhouette_score is : 0.35004508855406896\n",
      "Working on : mar, 20180727.\n"
     ]
    },
    {
     "data": {
      "application/vnd.jupyter.widget-view+json": {
       "model_id": "13e0c025696c432c8a6e5e7c9b966c3b",
       "version_major": 2,
       "version_minor": 0
      },
      "text/plain": [
       "  0%|          | 0/13 [00:00<?, ?it/s]"
      ]
     },
     "metadata": {},
     "output_type": "display_data"
    },
    {
     "name": "stdout",
     "output_type": "stream",
     "text": [
      "For n_clusters = 2 The average silhouette_score is : 0.5803251747670938\n",
      "For n_clusters = 3 The average silhouette_score is : 0.48850610227959923\n",
      "For n_clusters = 4 The average silhouette_score is : 0.4772654299979584\n",
      "For n_clusters = 5 The average silhouette_score is : 0.4135001777584117\n",
      "For n_clusters = 6 The average silhouette_score is : 0.38283314263428714\n",
      "For n_clusters = 7 The average silhouette_score is : 0.3755827513627956\n",
      "For n_clusters = 8 The average silhouette_score is : 0.3486272625814806\n",
      "For n_clusters = 9 The average silhouette_score is : 0.3367906257895182\n",
      "For n_clusters = 10 The average silhouette_score is : 0.3273888373123684\n",
      "For n_clusters = 11 The average silhouette_score is : 0.30071888963336296\n",
      "For n_clusters = 12 The average silhouette_score is : 0.3219840164575009\n",
      "For n_clusters = 13 The average silhouette_score is : 0.3222155159146202\n",
      "For n_clusters = 14 The average silhouette_score is : 0.307958370621084\n",
      "Working on : mar, 20180621.\n"
     ]
    },
    {
     "data": {
      "application/vnd.jupyter.widget-view+json": {
       "model_id": "ace37f02a03a49f3a62d2a918aa28d2c",
       "version_major": 2,
       "version_minor": 0
      },
      "text/plain": [
       "  0%|          | 0/13 [00:00<?, ?it/s]"
      ]
     },
     "metadata": {},
     "output_type": "display_data"
    },
    {
     "name": "stdout",
     "output_type": "stream",
     "text": [
      "For n_clusters = 2 The average silhouette_score is : 0.5439589764752933\n",
      "For n_clusters = 3 The average silhouette_score is : 0.4387708619085413\n",
      "For n_clusters = 4 The average silhouette_score is : 0.4501935908699898\n",
      "For n_clusters = 5 The average silhouette_score is : 0.3963414382040067\n",
      "For n_clusters = 6 The average silhouette_score is : 0.41807731086369254\n",
      "For n_clusters = 7 The average silhouette_score is : 0.3871968978951222\n",
      "For n_clusters = 8 The average silhouette_score is : 0.37393061831106983\n",
      "For n_clusters = 9 The average silhouette_score is : 0.3443142601476958\n",
      "For n_clusters = 10 The average silhouette_score is : 0.3585650473719073\n",
      "For n_clusters = 11 The average silhouette_score is : 0.35570748604269775\n",
      "For n_clusters = 12 The average silhouette_score is : 0.3575633171508779\n",
      "For n_clusters = 13 The average silhouette_score is : 0.37087632012718563\n",
      "For n_clusters = 14 The average silhouette_score is : 0.3795271430686032\n",
      "Working on : mar, 20180601.\n"
     ]
    },
    {
     "data": {
      "application/vnd.jupyter.widget-view+json": {
       "model_id": "021ee8ad0b1248b8a927ab265850b534",
       "version_major": 2,
       "version_minor": 0
      },
      "text/plain": [
       "  0%|          | 0/13 [00:00<?, ?it/s]"
      ]
     },
     "metadata": {},
     "output_type": "display_data"
    },
    {
     "name": "stdout",
     "output_type": "stream",
     "text": [
      "For n_clusters = 2 The average silhouette_score is : 0.48270415311106846\n",
      "For n_clusters = 3 The average silhouette_score is : 0.3772084152830261\n",
      "For n_clusters = 4 The average silhouette_score is : 0.38234628609235827\n",
      "For n_clusters = 5 The average silhouette_score is : 0.38128225187445997\n",
      "For n_clusters = 6 The average silhouette_score is : 0.36428432858349613\n",
      "For n_clusters = 7 The average silhouette_score is : 0.36240034713437685\n",
      "For n_clusters = 8 The average silhouette_score is : 0.3701424025696913\n",
      "For n_clusters = 9 The average silhouette_score is : 0.37175207788683484\n",
      "For n_clusters = 10 The average silhouette_score is : 0.37676977350569846\n",
      "For n_clusters = 11 The average silhouette_score is : 0.37582649170780724\n",
      "For n_clusters = 12 The average silhouette_score is : 0.3619596723553155\n",
      "For n_clusters = 13 The average silhouette_score is : 0.360705274650356\n",
      "For n_clusters = 14 The average silhouette_score is : 0.3549151019500089\n"
     ]
    },
    {
     "data": {
      "application/vnd.jupyter.widget-view+json": {
       "model_id": "9dd0e4200c074a3085c72d9268940c5e",
       "version_major": 2,
       "version_minor": 0
      },
      "text/plain": [
       "  0%|          | 0/6 [00:00<?, ?it/s]"
      ]
     },
     "metadata": {},
     "output_type": "display_data"
    },
    {
     "name": "stdout",
     "output_type": "stream",
     "text": [
      "Working on : leo, 20190731.\n"
     ]
    },
    {
     "data": {
      "application/vnd.jupyter.widget-view+json": {
       "model_id": "cc3cea602b1b4d8991b938b92fd13247",
       "version_major": 2,
       "version_minor": 0
      },
      "text/plain": [
       "  0%|          | 0/13 [00:00<?, ?it/s]"
      ]
     },
     "metadata": {},
     "output_type": "display_data"
    },
    {
     "name": "stdout",
     "output_type": "stream",
     "text": [
      "For n_clusters = 2 The average silhouette_score is : 0.3899198233106219\n",
      "For n_clusters = 3 The average silhouette_score is : 0.5071438060156596\n",
      "For n_clusters = 4 The average silhouette_score is : 0.47005119135652856\n",
      "For n_clusters = 5 The average silhouette_score is : 0.4481907289981238\n",
      "For n_clusters = 6 The average silhouette_score is : 0.42502882450684076\n",
      "For n_clusters = 7 The average silhouette_score is : 0.4011433092740131\n",
      "For n_clusters = 8 The average silhouette_score is : 0.38998808479733066\n",
      "For n_clusters = 9 The average silhouette_score is : 0.38559916622535073\n",
      "For n_clusters = 10 The average silhouette_score is : 0.38736594985557654\n",
      "For n_clusters = 11 The average silhouette_score is : 0.3788805356672864\n",
      "For n_clusters = 12 The average silhouette_score is : 0.37132878563783606\n",
      "For n_clusters = 13 The average silhouette_score is : 0.3728000521740459\n",
      "For n_clusters = 14 The average silhouette_score is : 0.37291633707910765\n",
      "Working on : leo, 20190328.\n"
     ]
    },
    {
     "data": {
      "application/vnd.jupyter.widget-view+json": {
       "model_id": "7c523d38d18b44a7b573a0c5f0a18c41",
       "version_major": 2,
       "version_minor": 0
      },
      "text/plain": [
       "  0%|          | 0/13 [00:00<?, ?it/s]"
      ]
     },
     "metadata": {},
     "output_type": "display_data"
    },
    {
     "name": "stdout",
     "output_type": "stream",
     "text": [
      "For n_clusters = 2 The average silhouette_score is : 0.3988524141238273\n",
      "For n_clusters = 3 The average silhouette_score is : 0.4304685615621422\n",
      "For n_clusters = 4 The average silhouette_score is : 0.431227035737659\n",
      "For n_clusters = 5 The average silhouette_score is : 0.4509750902886234\n",
      "For n_clusters = 6 The average silhouette_score is : 0.42012497505273527\n",
      "For n_clusters = 7 The average silhouette_score is : 0.4094032569946379\n",
      "For n_clusters = 8 The average silhouette_score is : 0.42729379253757904\n",
      "For n_clusters = 9 The average silhouette_score is : 0.41690585873078206\n",
      "For n_clusters = 10 The average silhouette_score is : 0.4226788217215935\n",
      "For n_clusters = 11 The average silhouette_score is : 0.41351261817558693\n",
      "For n_clusters = 12 The average silhouette_score is : 0.4087415403998031\n",
      "For n_clusters = 13 The average silhouette_score is : 0.38543846003780563\n",
      "For n_clusters = 14 The average silhouette_score is : 0.3783301865582882\n",
      "Working on : leo, 20190211.\n"
     ]
    },
    {
     "data": {
      "application/vnd.jupyter.widget-view+json": {
       "model_id": "f33d08a7206c4f2ba0ebc292491a142d",
       "version_major": 2,
       "version_minor": 0
      },
      "text/plain": [
       "  0%|          | 0/13 [00:00<?, ?it/s]"
      ]
     },
     "metadata": {},
     "output_type": "display_data"
    },
    {
     "name": "stdout",
     "output_type": "stream",
     "text": [
      "For n_clusters = 2 The average silhouette_score is : 0.3811803323084047\n",
      "For n_clusters = 3 The average silhouette_score is : 0.48727929000883047\n",
      "For n_clusters = 4 The average silhouette_score is : 0.44313687819005354\n",
      "For n_clusters = 5 The average silhouette_score is : 0.45097582364485633\n",
      "For n_clusters = 6 The average silhouette_score is : 0.4320727369612193\n",
      "For n_clusters = 7 The average silhouette_score is : 0.4166514336483687\n",
      "For n_clusters = 8 The average silhouette_score is : 0.39445247084076124\n",
      "For n_clusters = 9 The average silhouette_score is : 0.3718047003108205\n",
      "For n_clusters = 10 The average silhouette_score is : 0.36905766574894283\n",
      "For n_clusters = 11 The average silhouette_score is : 0.3723670925736636\n",
      "For n_clusters = 12 The average silhouette_score is : 0.35518841237259613\n",
      "For n_clusters = 13 The average silhouette_score is : 0.35415290301652735\n",
      "For n_clusters = 14 The average silhouette_score is : 0.33383141602938693\n",
      "Working on : leo, 20180920.\n"
     ]
    },
    {
     "data": {
      "application/vnd.jupyter.widget-view+json": {
       "model_id": "6a10033a0bf74440a49534b3d0e3615b",
       "version_major": 2,
       "version_minor": 0
      },
      "text/plain": [
       "  0%|          | 0/13 [00:00<?, ?it/s]"
      ]
     },
     "metadata": {},
     "output_type": "display_data"
    },
    {
     "name": "stdout",
     "output_type": "stream",
     "text": [
      "For n_clusters = 2 The average silhouette_score is : 0.4039166622963731\n",
      "For n_clusters = 3 The average silhouette_score is : 0.4367493135688848\n",
      "For n_clusters = 4 The average silhouette_score is : 0.42434419318841404\n",
      "For n_clusters = 5 The average silhouette_score is : 0.4443994359362926\n",
      "For n_clusters = 6 The average silhouette_score is : 0.4175864662989779\n",
      "For n_clusters = 7 The average silhouette_score is : 0.38860870508958795\n",
      "For n_clusters = 8 The average silhouette_score is : 0.38880003508342514\n",
      "For n_clusters = 9 The average silhouette_score is : 0.3830287983992327\n",
      "For n_clusters = 10 The average silhouette_score is : 0.37353163965128733\n",
      "For n_clusters = 11 The average silhouette_score is : 0.36620965721819637\n",
      "For n_clusters = 12 The average silhouette_score is : 0.3536600836899299\n",
      "For n_clusters = 13 The average silhouette_score is : 0.3585083805642395\n",
      "For n_clusters = 14 The average silhouette_score is : 0.35672016047028215\n",
      "Working on : leo, 20180713.\n"
     ]
    },
    {
     "data": {
      "application/vnd.jupyter.widget-view+json": {
       "model_id": "a834df4662a74c2195aa5668444f80b9",
       "version_major": 2,
       "version_minor": 0
      },
      "text/plain": [
       "  0%|          | 0/13 [00:00<?, ?it/s]"
      ]
     },
     "metadata": {},
     "output_type": "display_data"
    },
    {
     "name": "stdout",
     "output_type": "stream",
     "text": [
      "For n_clusters = 2 The average silhouette_score is : 0.49629965872244686\n",
      "For n_clusters = 3 The average silhouette_score is : 0.5092406492417487\n",
      "For n_clusters = 4 The average silhouette_score is : 0.46159478658042724\n",
      "For n_clusters = 5 The average silhouette_score is : 0.4488595142176017\n",
      "For n_clusters = 6 The average silhouette_score is : 0.4183623304561938\n",
      "For n_clusters = 7 The average silhouette_score is : 0.39004221840210485\n",
      "For n_clusters = 8 The average silhouette_score is : 0.3842278112748862\n",
      "For n_clusters = 9 The average silhouette_score is : 0.36304035595403583\n",
      "For n_clusters = 10 The average silhouette_score is : 0.3463760386521644\n",
      "For n_clusters = 11 The average silhouette_score is : 0.34841430296451464\n",
      "For n_clusters = 12 The average silhouette_score is : 0.3460546307634773\n",
      "For n_clusters = 13 The average silhouette_score is : 0.34457917043266856\n",
      "For n_clusters = 14 The average silhouette_score is : 0.3318667826222712\n",
      "Working on : leo, 20180606.\n"
     ]
    },
    {
     "data": {
      "application/vnd.jupyter.widget-view+json": {
       "model_id": "65e8609de762479d8b7d9d31049e7629",
       "version_major": 2,
       "version_minor": 0
      },
      "text/plain": [
       "  0%|          | 0/13 [00:00<?, ?it/s]"
      ]
     },
     "metadata": {},
     "output_type": "display_data"
    },
    {
     "name": "stdout",
     "output_type": "stream",
     "text": [
      "For n_clusters = 2 The average silhouette_score is : 0.4012079287817844\n",
      "For n_clusters = 3 The average silhouette_score is : 0.4563078554750914\n",
      "For n_clusters = 4 The average silhouette_score is : 0.40640166442880776\n",
      "For n_clusters = 5 The average silhouette_score is : 0.4001757072050638\n",
      "For n_clusters = 6 The average silhouette_score is : 0.3890044660503746\n",
      "For n_clusters = 7 The average silhouette_score is : 0.3716889344520391\n",
      "For n_clusters = 8 The average silhouette_score is : 0.36600629265911533\n",
      "For n_clusters = 9 The average silhouette_score is : 0.3503569988098764\n",
      "For n_clusters = 10 The average silhouette_score is : 0.34651080656561367\n",
      "For n_clusters = 11 The average silhouette_score is : 0.34322073624826754\n",
      "For n_clusters = 12 The average silhouette_score is : 0.3439561998875081\n",
      "For n_clusters = 13 The average silhouette_score is : 0.347961415981389\n",
      "For n_clusters = 14 The average silhouette_score is : 0.33782737875946023\n"
     ]
    },
    {
     "data": {
      "text/plain": [
       "{'leo_20180606': 11,\n",
       " 'leo_20180713': 10,\n",
       " 'leo_20180920': 4,\n",
       " 'leo_20190211': 4,\n",
       " 'leo_20190328': 7,\n",
       " 'leo_20190731': 9,\n",
       " 'mar_20180601': 3,\n",
       " 'mar_20180621': 3,\n",
       " 'mar_20180727': 11,\n",
       " 'mar_20180925': 7,\n",
       " 'mar_20181113': 5,\n",
       " 'mar_20181211': 5,\n",
       " 'mar_20190205': 6,\n",
       " 'mar_20190313': 6,\n",
       " 'mar_20190516': 3}"
      ]
     },
     "execution_count": 4,
     "metadata": {},
     "output_type": "execute_result"
    }
   ],
   "source": [
    "P=ProfileSet(dirNameDSM=dirNameDSM,\n",
    "            dirNameOrtho=dirNameOrtho,\n",
    "            dirNameTrans=dirNameTrans,\n",
    "            transects_spacing=transects_spacing,\n",
    "            loc_codes=loc_codes,\n",
    "            loc_search_dict=loc_search_dict,\n",
    "            crs_dict_string=crs_dict_string,\n",
    "            check=\"all\")\n",
    "\n",
    "# run extraction from DSMs and orthos with 1m sampling steps and add X and Y fields to output geodataframe.\n",
    "# use LoDs profiles provided.\n",
    "\n",
    "P.extract_profiles(mode='all',tr_ids='tr_id',sampling_step=1,add_xy=True,lod_mode=lod_mode)\n",
    "\n",
    "# Run interatively KMeans + SA using the feature_set provided\n",
    "#feel free to add \n",
    "\n",
    "feature_set=[\"band1\",\"band2\",\"band3\",\"distance\"]\n",
    "sil_df=get_sil_location(P.profiles,\n",
    "                        ks=(2,15), \n",
    "                        feature_set=feature_set,\n",
    "                       random_state=10)\n",
    "\n",
    "opt_k=get_opt_k(sil_df, sigma=0 )\n",
    "opt_k"
   ]
  },
  {
   "cell_type": "code",
   "execution_count": null,
   "id": "cf654de3",
   "metadata": {},
   "outputs": [],
   "source": [
    "opt_k_broke={'leo_20180606': 10,\n",
    " 'leo_20180713': 10,\n",
    " 'leo_20180920': 10,\n",
    " 'leo_20190211': 10,\n",
    " 'leo_20190328': 10,\n",
    " 'leo_20190731': 10,\n",
    " 'mar_20180601': 10,\n",
    " 'mar_20180621': 10,\n",
    " 'mar_20180727': 10,\n",
    " 'mar_20180925': 10,\n",
    " 'mar_20181113': 10,\n",
    " 'mar_20181211': 10,\n",
    " 'mar_20190205': 10,\n",
    " 'mar_20190313': 10,\n",
    " 'mar_20190516': 10}"
   ]
  },
  {
   "cell_type": "code",
   "execution_count": null,
   "id": "ebeef982",
   "metadata": {
    "scrolled": true
   },
   "outputs": [],
   "source": [
    "profiles=pd.read_csv(r\"C:\\my_packages\\tmp\\check_cleanit.csv\")\n",
    "profiles"
   ]
  },
  {
   "cell_type": "code",
   "execution_count": 17,
   "id": "033c4640",
   "metadata": {},
   "outputs": [],
   "source": [
    "a=P.profiles.copy()"
   ]
  },
  {
   "cell_type": "code",
   "execution_count": 14,
   "id": "3d6821c2",
   "metadata": {},
   "outputs": [
    {
     "name": "stderr",
     "output_type": "stream",
     "text": [
      "C:\\new_temp/ipykernel_33612/322651387.py:60: DeprecationWarning: `np.int` is a deprecated alias for the builtin `int`. To silence this warning, use `int` by itself. Doing this will not modify any behavior and is safe. When replacing `np.int`, you may wish to use e.g. `np.int64` or `np.int32` to specify the precision. If you wish to review your current use, check the release note link for additional information.\n",
      "Deprecated in NumPy 1.20; for more details and guidance: https://numpy.org/devdocs/release/1.20.0-notes.html#deprecations\n",
      "  mean_threshold_k = np.int(np.round(np.mean(arr_k), 0))\n"
     ]
    },
    {
     "data": {
      "application/vnd.jupyter.widget-view+json": {
       "model_id": "d799e5d0fa834f619c336bfd98f21450",
       "version_major": 2,
       "version_minor": 0
      },
      "text/plain": [
       "  0%|          | 0/2 [00:00<?, ?it/s]"
      ]
     },
     "metadata": {},
     "output_type": "display_data"
    },
    {
     "data": {
      "application/vnd.jupyter.widget-view+json": {
       "model_id": "1e7ef90c9dba4201b53ceb53c508b291",
       "version_major": 2,
       "version_minor": 0
      },
      "text/plain": [
       "  0%|          | 0/9 [00:00<?, ?it/s]"
      ]
     },
     "metadata": {},
     "output_type": "display_data"
    },
    {
     "data": {
      "application/vnd.jupyter.widget-view+json": {
       "model_id": "bc5d78b317e2486cafb4502e84a24bf5",
       "version_major": 2,
       "version_minor": 0
      },
      "text/plain": [
       "  0%|          | 0/6 [00:00<?, ?it/s]"
      ]
     },
     "metadata": {},
     "output_type": "display_data"
    }
   ],
   "source": [
    "feature_set=[\"band1\",\"band2\",\"band3\",\"distance\"]\n",
    "\n",
    "prof_works=kmeans_sa(a, ks=opt_k,feature_set=feature_set )\n",
    "#prof_broke=kmeans_sa(profiles, ks=opt_k_broke,feature_set=feature_set )"
   ]
  },
  {
   "cell_type": "code",
   "execution_count": null,
   "id": "d2d4b953",
   "metadata": {},
   "outputs": [],
   "source": [
    "from sandpyper.common import coords_to_points\n",
    "\n",
    "prof_broke['coordinates']=prof_broke.coordinates.apply(coords_to_points)"
   ]
  },
  {
   "cell_type": "code",
   "execution_count": null,
   "id": "494456ce",
   "metadata": {},
   "outputs": [],
   "source": [
    "cluster_field='label_k'\n",
    "fill_class='ciao'\n",
    "watermasks_path=None\n",
    "water_label='ciao'\n",
    "shoremasks_path=None\n",
    "label_corrections_path=None\n",
    "default_crs={'init': 'epsg:32754'}\n",
    "crs_dict_string=None\n",
    "geometry_field='coordinates'"
   ]
  },
  {
   "cell_type": "code",
   "execution_count": null,
   "id": "f95fba05",
   "metadata": {},
   "outputs": [],
   "source": [
    "# the EPSG codes of the coordinate reference systems for each location code (location) given in CRS string format\n",
    "crs_dict_string= {\n",
    "                 'mar': {'init': 'epsg:32754'},\n",
    "                 'leo':{'init': 'epsg:32755'}\n",
    "                 }\n",
    "\n",
    "\n",
    "prof_broke=gpd.GeoDataFrame(prof_broke, crs=crs_dict_string['mar'], geometry='coordinates')"
   ]
  },
  {
   "cell_type": "code",
   "execution_count": 5,
   "id": "31039dce",
   "metadata": {},
   "outputs": [],
   "source": [
    "\n",
    "label_corrections_path=Path(test_data_folder + r\"\\clean\\label_corrections.gpkg\")\n",
    "watermasks_path=Path(test_data_folder + r\"\\clean\\watermasks.gpkg\")\n",
    "shoremasks_path=Path(test_data_folder + r\"\\clean\\shoremasks.gpkg\")"
   ]
  },
  {
   "cell_type": "code",
   "execution_count": 7,
   "id": "f19640ce",
   "metadata": {},
   "outputs": [],
   "source": [
    "profiles=P.profiles.copy()"
   ]
  },
  {
   "cell_type": "code",
   "execution_count": null,
   "id": "e4d4669d",
   "metadata": {},
   "outputs": [],
   "source": [
    "P."
   ]
  },
  {
   "cell_type": "code",
   "execution_count": 8,
   "id": "0d715ac5",
   "metadata": {},
   "outputs": [
    {
     "name": "stdout",
     "output_type": "stream",
     "text": [
      "Reclassifying dataset with the provided dictionaries.\n"
     ]
    },
    {
     "ename": "KeyError",
     "evalue": "\"['label_k'] not in index\"",
     "output_type": "error",
     "traceback": [
      "\u001b[1;31m---------------------------------------------------------------------------\u001b[0m",
      "\u001b[1;31mKeyError\u001b[0m                                  Traceback (most recent call last)",
      "\u001b[1;32mC:\\new_temp/ipykernel_33612/4192654723.py\u001b[0m in \u001b[0;36m<module>\u001b[1;34m\u001b[0m\n\u001b[0;32m      1\u001b[0m \u001b[0mprint\u001b[0m\u001b[1;33m(\u001b[0m\u001b[1;34m\"Reclassifying dataset with the provided dictionaries.\"\u001b[0m \u001b[1;33m)\u001b[0m\u001b[1;33m\u001b[0m\u001b[1;33m\u001b[0m\u001b[0m\n\u001b[1;32m----> 2\u001b[1;33m \u001b[0mto_clean_classified\u001b[0m\u001b[1;33m=\u001b[0m\u001b[0mclassify_labelk\u001b[0m\u001b[1;33m(\u001b[0m\u001b[0mprofiles\u001b[0m\u001b[1;33m,\u001b[0m \u001b[0ml_dicts\u001b[0m\u001b[1;33m)\u001b[0m\u001b[1;33m\u001b[0m\u001b[1;33m\u001b[0m\u001b[0m\n\u001b[0m",
      "\u001b[1;32mC:\\new_temp/ipykernel_33612/322651387.py\u001b[0m in \u001b[0;36mclassify_labelk\u001b[1;34m(labelled_dataset, l_dicts, cluster_field, fill_class)\u001b[0m\n\u001b[0;32m    135\u001b[0m \u001b[1;33m\u001b[0m\u001b[0m\n\u001b[0;32m    136\u001b[0m     \u001b[1;32mfor\u001b[0m \u001b[0mloc\u001b[0m \u001b[1;32min\u001b[0m \u001b[0mlabelled_dataset\u001b[0m\u001b[1;33m.\u001b[0m\u001b[0mlocation\u001b[0m\u001b[1;33m.\u001b[0m\u001b[0munique\u001b[0m\u001b[1;33m(\u001b[0m\u001b[1;33m)\u001b[0m\u001b[1;33m:\u001b[0m\u001b[1;33m\u001b[0m\u001b[1;33m\u001b[0m\u001b[0m\n\u001b[1;32m--> 137\u001b[1;33m         \u001b[0mdata_in_loc\u001b[0m\u001b[1;33m=\u001b[0m\u001b[0mlabelled_dataset\u001b[0m\u001b[1;33m.\u001b[0m\u001b[0mquery\u001b[0m\u001b[1;33m(\u001b[0m\u001b[1;34mf\"location=='{loc}'\"\u001b[0m\u001b[1;33m)\u001b[0m\u001b[1;33m[\u001b[0m\u001b[1;33m[\u001b[0m\u001b[1;34m\"location\"\u001b[0m\u001b[1;33m,\u001b[0m\u001b[1;34m\"raw_date\"\u001b[0m\u001b[1;33m,\u001b[0m\u001b[0mcluster_field\u001b[0m\u001b[1;33m,\u001b[0m\u001b[1;34m\"pt_class\"\u001b[0m\u001b[1;33m,\u001b[0m\u001b[1;34m'point_id'\u001b[0m\u001b[1;33m]\u001b[0m\u001b[1;33m]\u001b[0m\u001b[1;33m\u001b[0m\u001b[1;33m\u001b[0m\u001b[0m\n\u001b[0m\u001b[0;32m    138\u001b[0m \u001b[1;33m\u001b[0m\u001b[0m\n\u001b[0;32m    139\u001b[0m         \u001b[1;32mfor\u001b[0m \u001b[0mraw_date\u001b[0m \u001b[1;32min\u001b[0m \u001b[0mdata_in_loc\u001b[0m\u001b[1;33m.\u001b[0m\u001b[0mraw_date\u001b[0m\u001b[1;33m.\u001b[0m\u001b[0munique\u001b[0m\u001b[1;33m(\u001b[0m\u001b[1;33m)\u001b[0m\u001b[1;33m:\u001b[0m\u001b[1;33m\u001b[0m\u001b[1;33m\u001b[0m\u001b[0m\n",
      "\u001b[1;32mC:\\anaconda3\\envs\\sandpyper_env\\lib\\site-packages\\geopandas\\geodataframe.py\u001b[0m in \u001b[0;36m__getitem__\u001b[1;34m(self, key)\u001b[0m\n\u001b[0;32m    826\u001b[0m         \u001b[0mGeoDataFrame\u001b[0m\u001b[1;33m.\u001b[0m\u001b[1;33m\u001b[0m\u001b[1;33m\u001b[0m\u001b[0m\n\u001b[0;32m    827\u001b[0m         \"\"\"\n\u001b[1;32m--> 828\u001b[1;33m         \u001b[0mresult\u001b[0m \u001b[1;33m=\u001b[0m \u001b[0msuper\u001b[0m\u001b[1;33m(\u001b[0m\u001b[0mGeoDataFrame\u001b[0m\u001b[1;33m,\u001b[0m \u001b[0mself\u001b[0m\u001b[1;33m)\u001b[0m\u001b[1;33m.\u001b[0m\u001b[0m__getitem__\u001b[0m\u001b[1;33m(\u001b[0m\u001b[0mkey\u001b[0m\u001b[1;33m)\u001b[0m\u001b[1;33m\u001b[0m\u001b[1;33m\u001b[0m\u001b[0m\n\u001b[0m\u001b[0;32m    829\u001b[0m         \u001b[0mgeo_col\u001b[0m \u001b[1;33m=\u001b[0m \u001b[0mself\u001b[0m\u001b[1;33m.\u001b[0m\u001b[0m_geometry_column_name\u001b[0m\u001b[1;33m\u001b[0m\u001b[1;33m\u001b[0m\u001b[0m\n\u001b[0;32m    830\u001b[0m         \u001b[1;32mif\u001b[0m \u001b[0misinstance\u001b[0m\u001b[1;33m(\u001b[0m\u001b[0mresult\u001b[0m\u001b[1;33m,\u001b[0m \u001b[0mSeries\u001b[0m\u001b[1;33m)\u001b[0m \u001b[1;32mand\u001b[0m \u001b[0misinstance\u001b[0m\u001b[1;33m(\u001b[0m\u001b[0mresult\u001b[0m\u001b[1;33m.\u001b[0m\u001b[0mdtype\u001b[0m\u001b[1;33m,\u001b[0m \u001b[0mGeometryDtype\u001b[0m\u001b[1;33m)\u001b[0m\u001b[1;33m:\u001b[0m\u001b[1;33m\u001b[0m\u001b[1;33m\u001b[0m\u001b[0m\n",
      "\u001b[1;32mC:\\anaconda3\\envs\\sandpyper_env\\lib\\site-packages\\pandas\\core\\frame.py\u001b[0m in \u001b[0;36m__getitem__\u001b[1;34m(self, key)\u001b[0m\n\u001b[0;32m   3028\u001b[0m             \u001b[1;32mif\u001b[0m \u001b[0mis_iterator\u001b[0m\u001b[1;33m(\u001b[0m\u001b[0mkey\u001b[0m\u001b[1;33m)\u001b[0m\u001b[1;33m:\u001b[0m\u001b[1;33m\u001b[0m\u001b[1;33m\u001b[0m\u001b[0m\n\u001b[0;32m   3029\u001b[0m                 \u001b[0mkey\u001b[0m \u001b[1;33m=\u001b[0m \u001b[0mlist\u001b[0m\u001b[1;33m(\u001b[0m\u001b[0mkey\u001b[0m\u001b[1;33m)\u001b[0m\u001b[1;33m\u001b[0m\u001b[1;33m\u001b[0m\u001b[0m\n\u001b[1;32m-> 3030\u001b[1;33m             \u001b[0mindexer\u001b[0m \u001b[1;33m=\u001b[0m \u001b[0mself\u001b[0m\u001b[1;33m.\u001b[0m\u001b[0mloc\u001b[0m\u001b[1;33m.\u001b[0m\u001b[0m_get_listlike_indexer\u001b[0m\u001b[1;33m(\u001b[0m\u001b[0mkey\u001b[0m\u001b[1;33m,\u001b[0m \u001b[0maxis\u001b[0m\u001b[1;33m=\u001b[0m\u001b[1;36m1\u001b[0m\u001b[1;33m,\u001b[0m \u001b[0mraise_missing\u001b[0m\u001b[1;33m=\u001b[0m\u001b[1;32mTrue\u001b[0m\u001b[1;33m)\u001b[0m\u001b[1;33m[\u001b[0m\u001b[1;36m1\u001b[0m\u001b[1;33m]\u001b[0m\u001b[1;33m\u001b[0m\u001b[1;33m\u001b[0m\u001b[0m\n\u001b[0m\u001b[0;32m   3031\u001b[0m \u001b[1;33m\u001b[0m\u001b[0m\n\u001b[0;32m   3032\u001b[0m         \u001b[1;31m# take() does not accept boolean indexers\u001b[0m\u001b[1;33m\u001b[0m\u001b[1;33m\u001b[0m\u001b[1;33m\u001b[0m\u001b[0m\n",
      "\u001b[1;32mC:\\anaconda3\\envs\\sandpyper_env\\lib\\site-packages\\pandas\\core\\indexing.py\u001b[0m in \u001b[0;36m_get_listlike_indexer\u001b[1;34m(self, key, axis, raise_missing)\u001b[0m\n\u001b[0;32m   1264\u001b[0m             \u001b[0mkeyarr\u001b[0m\u001b[1;33m,\u001b[0m \u001b[0mindexer\u001b[0m\u001b[1;33m,\u001b[0m \u001b[0mnew_indexer\u001b[0m \u001b[1;33m=\u001b[0m \u001b[0max\u001b[0m\u001b[1;33m.\u001b[0m\u001b[0m_reindex_non_unique\u001b[0m\u001b[1;33m(\u001b[0m\u001b[0mkeyarr\u001b[0m\u001b[1;33m)\u001b[0m\u001b[1;33m\u001b[0m\u001b[1;33m\u001b[0m\u001b[0m\n\u001b[0;32m   1265\u001b[0m \u001b[1;33m\u001b[0m\u001b[0m\n\u001b[1;32m-> 1266\u001b[1;33m         \u001b[0mself\u001b[0m\u001b[1;33m.\u001b[0m\u001b[0m_validate_read_indexer\u001b[0m\u001b[1;33m(\u001b[0m\u001b[0mkeyarr\u001b[0m\u001b[1;33m,\u001b[0m \u001b[0mindexer\u001b[0m\u001b[1;33m,\u001b[0m \u001b[0maxis\u001b[0m\u001b[1;33m,\u001b[0m \u001b[0mraise_missing\u001b[0m\u001b[1;33m=\u001b[0m\u001b[0mraise_missing\u001b[0m\u001b[1;33m)\u001b[0m\u001b[1;33m\u001b[0m\u001b[1;33m\u001b[0m\u001b[0m\n\u001b[0m\u001b[0;32m   1267\u001b[0m         \u001b[1;32mreturn\u001b[0m \u001b[0mkeyarr\u001b[0m\u001b[1;33m,\u001b[0m \u001b[0mindexer\u001b[0m\u001b[1;33m\u001b[0m\u001b[1;33m\u001b[0m\u001b[0m\n\u001b[0;32m   1268\u001b[0m \u001b[1;33m\u001b[0m\u001b[0m\n",
      "\u001b[1;32mC:\\anaconda3\\envs\\sandpyper_env\\lib\\site-packages\\pandas\\core\\indexing.py\u001b[0m in \u001b[0;36m_validate_read_indexer\u001b[1;34m(self, key, indexer, axis, raise_missing)\u001b[0m\n\u001b[0;32m   1314\u001b[0m             \u001b[1;32mif\u001b[0m \u001b[0mraise_missing\u001b[0m\u001b[1;33m:\u001b[0m\u001b[1;33m\u001b[0m\u001b[1;33m\u001b[0m\u001b[0m\n\u001b[0;32m   1315\u001b[0m                 \u001b[0mnot_found\u001b[0m \u001b[1;33m=\u001b[0m \u001b[0mlist\u001b[0m\u001b[1;33m(\u001b[0m\u001b[0mset\u001b[0m\u001b[1;33m(\u001b[0m\u001b[0mkey\u001b[0m\u001b[1;33m)\u001b[0m \u001b[1;33m-\u001b[0m \u001b[0mset\u001b[0m\u001b[1;33m(\u001b[0m\u001b[0max\u001b[0m\u001b[1;33m)\u001b[0m\u001b[1;33m)\u001b[0m\u001b[1;33m\u001b[0m\u001b[1;33m\u001b[0m\u001b[0m\n\u001b[1;32m-> 1316\u001b[1;33m                 \u001b[1;32mraise\u001b[0m \u001b[0mKeyError\u001b[0m\u001b[1;33m(\u001b[0m\u001b[1;34mf\"{not_found} not in index\"\u001b[0m\u001b[1;33m)\u001b[0m\u001b[1;33m\u001b[0m\u001b[1;33m\u001b[0m\u001b[0m\n\u001b[0m\u001b[0;32m   1317\u001b[0m \u001b[1;33m\u001b[0m\u001b[0m\n\u001b[0;32m   1318\u001b[0m             \u001b[0mnot_found\u001b[0m \u001b[1;33m=\u001b[0m \u001b[0mkey\u001b[0m\u001b[1;33m[\u001b[0m\u001b[0mmissing_mask\u001b[0m\u001b[1;33m]\u001b[0m\u001b[1;33m\u001b[0m\u001b[1;33m\u001b[0m\u001b[0m\n",
      "\u001b[1;31mKeyError\u001b[0m: \"['label_k'] not in index\""
     ]
    }
   ],
   "source": [
    "print(\"Reclassifying dataset with the provided dictionaries.\" )\n",
    "to_clean_classified=classify_labelk(profiles, l_dicts)"
   ]
  },
  {
   "cell_type": "code",
   "execution_count": null,
   "id": "5a1961e2",
   "metadata": {
    "scrolled": true
   },
   "outputs": [],
   "source": [
    "\n",
    "if watermasks_path==None and shoremasks_path==None and label_corrections_path==None:\n",
    "    print(\"No cleaning polygones have been passed. Returning classified dataset.\")\n",
    "\n",
    "processes=[]\n",
    "\n",
    "#______ LABELS FINETUNING_______________\n",
    "\n",
    "if label_corrections_path != None:\n",
    "    if os.path.isfile(label_corrections_path):\n",
    "        label_corrections=gpd.read_file(label_corrections_path)\n",
    "        print(f\"Label corrections provided in CRS: {label_corrections.crs}\")\n",
    "        processes.append(\"polygon finetuning\")\n",
    "        to_update_finetune=pd.DataFrame()\n",
    "\n",
    "\n",
    "        for loc in label_corrections.location.unique():\n",
    "            print(f\"Fine tuning in {loc}.\")\n",
    "\n",
    "            to_clean_subset_loc=to_clean_classified.query(f\" location == '{loc}'\")\n",
    "\n",
    "            for raw_date in tqdm(label_corrections.query(f\"location=='{loc}'\").raw_date.unique()):\n",
    "\n",
    "                subset_finetune_polys=label_corrections.query(f\"location=='{loc}' and raw_date== {raw_date}\")\n",
    "                print(loc)\n",
    "                print(raw_date)\n",
    "\n",
    "                for i,row in subset_finetune_polys.iterrows(): # loops through all the polygones\n",
    "\n",
    "                    target_k=int(row['target_label_k'])\n",
    "                    new_class=row['new_class']\n",
    "                    print(target_k)\n",
    "                    print(new_class)\n",
    "\n",
    "                    if target_k != 999:\n",
    "                        data_in=to_clean_subset_loc.query(f\"raw_date == {raw_date} and label_k== {target_k}\")\n",
    "\n",
    "                    elif target_k == 999:\n",
    "                        data_in=to_clean_subset_loc.query(f\"raw_date == {raw_date}\")\n",
    "\n",
    "                    selection=data_in[data_in.coordinates.intersects(row.geometry)]\n",
    "\n",
    "                    if selection.shape[0]==0:\n",
    "                        selection=data_in[data_in.to_crs(crs_dict_string[loc]).coordinates.intersects(row.geometry)]\n",
    "                        \n",
    "                        if selection.shape[0]==0:\n",
    "                            print(f\"The label correction file provids polygons to transform label_k {target_k} into {new_class} in {loc} in date {raw_date}, but these polygons do not overlap any points with such target k! Double check your files if this is unwanted.\")\n",
    "                        else:\n",
    "                            pass\n",
    "                    else:\n",
    "                        pass\n",
    "                    selection[\"finetuned_label\"]=new_class\n",
    "\n",
    "                    print(f\"Fine-tuning label_k {target_k} to {new_class} in {loc}-{raw_date}, found {selection.shape[0]} pts.\")\n",
    "                    to_update_finetune=pd.concat([selection,to_update_finetune], ignore_index=True)\n",
    "\n",
    "        classed_df_finetuned=to_clean_classified.merge(right=to_update_finetune.loc[:,['point_id','finetuned_label']], # Left Join\n",
    "                                     how='left', validate='one_to_one')\n",
    "\n",
    "        classed_df_finetuned.finetuned_label.fillna(classed_df_finetuned.pt_class, inplace=True) # Fill NaN with previous sand labels\n",
    "    else:\n",
    "        raise NameError(\"Label correction file path is invalid.\")\n",
    "\n",
    "\n",
    "else:\n",
    "    pass"
   ]
  },
  {
   "cell_type": "code",
   "execution_count": null,
   "id": "35262623",
   "metadata": {},
   "outputs": [],
   "source": [
    "for loc in label_corrections.query(\"location=='leo' and raw_date==20190731\").location.unique():\n",
    "    print(loc)\n",
    "    for raw_date in label_corrections.query(\"location=='leo' and raw_date==20190731\").raw_date.unique():\n",
    "        print(f\"Check raw_date {raw_date}\")\n",
    "        for target_label_k in label_corrections.query(f\"raw_date=={raw_date}\").target_label_k.unique():\n",
    "            print(f\"Check target_label_k {target_label_k}\")\n",
    "\n",
    "            date_labelk_subset=label_corrections.query(f\"raw_date=={raw_date} and target_label_k=={int(target_label_k)}\")\n",
    "\n",
    "            # if more than one polygons target the same label k, check if they overlap\n",
    "            if len(date_labelk_subset)>1:\n",
    "                print(f\"There are {len(date_labelk_subset)} corr polys\")\n",
    "\n",
    "                # check if there are any one of them that overlaps       \n",
    "                for i,z in comb(range(len(date_labelk_subset)),2):\n",
    "                    intersection_gdf = overlay(date_labelk_subset.iloc[[i]], date_labelk_subset.iloc[[z]], how='intersection')\n",
    "\n",
    "                    if not intersection_gdf.empty:\n",
    "\n",
    "                        # check if the overlapping polygons have assigns different new_classes \n",
    "                        if any(intersection_gdf.new_class_1 != intersection_gdf.new_class_2):\n",
    "\n",
    "                            # if overlap areas assign different classes, check if this area contains points.\n",
    "                            # if contains points, raise an error as it does not make sense and the polygons must be corrected\n",
    "                            # by the user\n",
    "\n",
    "                            pts=profiles.query(f\"location=='{loc}' and raw_date=={raw_date}\")\n",
    "                            pts['coordinates']=pts.coordinates.apply(coords_to_points)\n",
    "                            pts_gdf=gpd.GeoDataFrame(pts, geometry='coordinates', crs=crs_dict_string[loc])\n",
    "                            \n",
    "                            fully_contains = [intersection_gdf.geometry.contains(mask_geom)[0] for mask_geom in pts_gdf.geometry]\n",
    "\n",
    "                            if True in fully_contains:\n",
    "                                idx_true=[i for i, x in enumerate(fully_contains) if x]\n",
    "                                raise ValueError(f\"There are {len(intersection_gdf)} overlapping polygons in {loc} raw_date {raw_date} targeting label_k = {target_label_k} that assign to the same points different the classes {intersection_gdf.loc[:,'new_class_1'][0], intersection_gdf.loc[:,'new_class_2'][0]}. This doesn't make sense, please correct your label correction polygons. You can have overlapping polygons which act on the same target label k, but in this case they MUST assign the same new class to these points.\")\n",
    "\n",
    "print(\"Check terminated successfully\")"
   ]
  },
  {
   "cell_type": "code",
   "execution_count": 21,
   "id": "9a0d8da6",
   "metadata": {},
   "outputs": [
    {
     "name": "stderr",
     "output_type": "stream",
     "text": [
      "C:\\anaconda3\\envs\\sandpyper_env\\lib\\site-packages\\geopandas\\geodataframe.py:422: RuntimeWarning: Sequential read of iterator was interrupted. Resetting iterator. This can negatively impact the performance.\n",
      "  for feature in features_lst:\n"
     ]
    }
   ],
   "source": [
    "label_corrections=gpd.read_file(label_corrections_path)"
   ]
  },
  {
   "cell_type": "code",
   "execution_count": null,
   "id": "315f9491",
   "metadata": {},
   "outputs": [],
   "source": [
    "f,ax=plt.subplots()\n",
    "pts_gdf.plot(ax=ax)\n",
    "intersection_gdf.boundary.plot(ax=ax, color='r')"
   ]
  },
  {
   "cell_type": "code",
   "execution_count": 58,
   "id": "6b126de9",
   "metadata": {},
   "outputs": [
    {
     "ename": "NameError",
     "evalue": "name 'label_k' is not defined",
     "output_type": "error",
     "traceback": [
      "\u001b[1;31m---------------------------------------------------------------------------\u001b[0m",
      "\u001b[1;31mNameError\u001b[0m                                 Traceback (most recent call last)",
      "\u001b[1;32mC:\\new_temp/ipykernel_33612/3166197646.py\u001b[0m in \u001b[0;36m<module>\u001b[1;34m\u001b[0m\n\u001b[0;32m     25\u001b[0m                             \u001b[1;31m# by the user\u001b[0m\u001b[1;33m\u001b[0m\u001b[1;33m\u001b[0m\u001b[1;33m\u001b[0m\u001b[0m\n\u001b[0;32m     26\u001b[0m \u001b[1;33m\u001b[0m\u001b[0m\n\u001b[1;32m---> 27\u001b[1;33m                             \u001b[0mpts\u001b[0m\u001b[1;33m=\u001b[0m\u001b[0mprofiles\u001b[0m\u001b[1;33m.\u001b[0m\u001b[0mquery\u001b[0m\u001b[1;33m(\u001b[0m\u001b[1;34mf\"location=='{loc}' and raw_date=={raw_date} and label_k={int(label_k)}\"\u001b[0m\u001b[1;33m)\u001b[0m\u001b[1;33m\u001b[0m\u001b[1;33m\u001b[0m\u001b[0m\n\u001b[0m\u001b[0;32m     28\u001b[0m \u001b[1;33m\u001b[0m\u001b[0m\n\u001b[0;32m     29\u001b[0m                             \u001b[1;32mif\u001b[0m \u001b[0misinstance\u001b[0m\u001b[1;33m(\u001b[0m\u001b[0mpts\u001b[0m\u001b[1;33m.\u001b[0m\u001b[0miloc\u001b[0m\u001b[1;33m[\u001b[0m\u001b[1;36m0\u001b[0m\u001b[1;33m]\u001b[0m\u001b[1;33m[\u001b[0m\u001b[1;34m'coordinates'\u001b[0m\u001b[1;33m]\u001b[0m\u001b[1;33m,\u001b[0m\u001b[0mPoint\u001b[0m\u001b[1;33m)\u001b[0m\u001b[1;33m:\u001b[0m\u001b[1;33m\u001b[0m\u001b[1;33m\u001b[0m\u001b[0m\n",
      "\u001b[1;31mNameError\u001b[0m: name 'label_k' is not defined"
     ]
    }
   ],
   "source": [
    "label_corrections=label_corrections\n",
    "profiles=prof_works\n",
    "crs=crs_dict_string\n",
    "\n",
    "for loc in label_corrections.location.unique():\n",
    "    for raw_date in label_corrections.query(f\"location=='{loc}'\").raw_date.unique():\n",
    "        for target_label_k in label_corrections.query(f\"location=='{loc}' and raw_date=={raw_date}\").target_label_k.unique():\n",
    "\n",
    "            date_labelk_subset=label_corrections.query(f\"location=='{loc}' and raw_date=={raw_date} and target_label_k=={int(target_label_k)}\")\n",
    "\n",
    "            # if more than one polygons target the same label k, check if they overlap\n",
    "            if len(date_labelk_subset)>1:\n",
    "\n",
    "                # check if there are any one of them that overlaps\n",
    "                for i,z in comb(range(len(date_labelk_subset)),2):\n",
    "                    intersection_gdf = overlay(date_labelk_subset.iloc[[i]], date_labelk_subset.iloc[[z]], how='intersection')\n",
    "\n",
    "                    if not intersection_gdf.empty:\n",
    "\n",
    "                       # check if the overlapping polygons have assigns different new_classes\n",
    "                        if any(intersection_gdf.new_class_1 != intersection_gdf.new_class_2):\n",
    "\n",
    "                            # if overlap areas assign different classes, check if this area contains points with label_k equal to both polygons target_label_k..\n",
    "                            # if contains points, raise an error as it does not make sense and the polygons must be corrected\n",
    "                            # by the user\n",
    "\n",
    "                            pts=profiles.query(f\"location=='{loc}' and raw_date=={raw_date} and label_k={int(label_k)}\")\n",
    "\n",
    "                            if isinstance(pts.iloc[0]['coordinates'],Point):\n",
    "                                pts_gdf=pts\n",
    "                            elif isinstance(pts.iloc[0]['coordinates'],str):\n",
    "                                pts['coordinates']=pts.coordinates.apply(coords_to_points)\n",
    "                                if isinstance(crs, dict):\n",
    "                                    pts_gdf=gpd.GeoDataFrame(pts, geometry='coordinates', crs=crs[loc])\n",
    "                                elif isinstance(crs, int):\n",
    "                                    crs_adhoc={'init': f'epsg:{crs}'}\n",
    "                                    pts_gdf=gpd.GeoDataFrame(pts, geometry='coordinates', crs=crs_adhoc)\n",
    "                            else:\n",
    "                                raise ValueError(f\"profiles coordinates field must contain points coordinates either as Shapely Point geometry objects or as a string representing a Shapely Point geometry in well known text. Found {type(pts.iloc[0]['coordinates'])} type instead.\")\n",
    "\n",
    "                            fully_contains = [intersection_gdf.geometry.contains(mask_geom)[0] for mask_geom in pts_gdf.geometry]\n",
    "\n",
    "                            if True in fully_contains:\n",
    "                                idx_true=[i for i, x in enumerate(fully_contains) if x]\n",
    "                                raise ValueError(f\"There are {len(intersection_gdf)} points in the overlap area of two label correction polygons (location: {loc}, raw_date: {raw_date}, target_label_k = {target_label_k}) which assign two different classes: {intersection_gdf.loc[:,'new_class_1'][0], intersection_gdf.loc[:,'new_class_2'][0]}. This doesn't make sense, please correct your label correction polygons. You can have overlapping polygons which act on the same target label k, but if they overlap points with such target_label_k, then they MUST assign the same new class.\")\n",
    "\n",
    "print(\"Check label correction polygons overlap inconsistencies terminated successfully\")"
   ]
  },
  {
   "cell_type": "code",
   "execution_count": 55,
   "id": "c1fd192a",
   "metadata": {},
   "outputs": [
    {
     "data": {
      "text/html": [
       "<div>\n",
       "<style scoped>\n",
       "    .dataframe tbody tr th:only-of-type {\n",
       "        vertical-align: middle;\n",
       "    }\n",
       "\n",
       "    .dataframe tbody tr th {\n",
       "        vertical-align: top;\n",
       "    }\n",
       "\n",
       "    .dataframe thead th {\n",
       "        text-align: right;\n",
       "    }\n",
       "</style>\n",
       "<table border=\"1\" class=\"dataframe\">\n",
       "  <thead>\n",
       "    <tr style=\"text-align: right;\">\n",
       "      <th></th>\n",
       "      <th>location_1</th>\n",
       "      <th>raw_date_1</th>\n",
       "      <th>target_label_k_1</th>\n",
       "      <th>new_class_1</th>\n",
       "      <th>location_2</th>\n",
       "      <th>raw_date_2</th>\n",
       "      <th>target_label_k_2</th>\n",
       "      <th>new_class_2</th>\n",
       "      <th>geometry</th>\n",
       "    </tr>\n",
       "  </thead>\n",
       "  <tbody>\n",
       "    <tr>\n",
       "      <th>0</th>\n",
       "      <td>leo</td>\n",
       "      <td>20190731</td>\n",
       "      <td>6</td>\n",
       "      <td>sand</td>\n",
       "      <td>leo</td>\n",
       "      <td>20190731</td>\n",
       "      <td>6</td>\n",
       "      <td>veg</td>\n",
       "      <td>MULTIPOLYGON (((299934.154 5773513.302, 299931...</td>\n",
       "    </tr>\n",
       "  </tbody>\n",
       "</table>\n",
       "</div>"
      ],
      "text/plain": [
       "  location_1  raw_date_1  target_label_k_1 new_class_1 location_2  raw_date_2  \\\n",
       "0        leo    20190731                 6        sand        leo    20190731   \n",
       "\n",
       "   target_label_k_2 new_class_2  \\\n",
       "0                 6         veg   \n",
       "\n",
       "                                            geometry  \n",
       "0  MULTIPOLYGON (((299934.154 5773513.302, 299931...  "
      ]
     },
     "execution_count": 55,
     "metadata": {},
     "output_type": "execute_result"
    }
   ],
   "source": [
    "intersection_gdf.contains()"
   ]
  },
  {
   "cell_type": "code",
   "execution_count": 59,
   "id": "eb76128d",
   "metadata": {},
   "outputs": [
    {
     "data": {
      "text/html": [
       "<div>\n",
       "<style scoped>\n",
       "    .dataframe tbody tr th:only-of-type {\n",
       "        vertical-align: middle;\n",
       "    }\n",
       "\n",
       "    .dataframe tbody tr th {\n",
       "        vertical-align: top;\n",
       "    }\n",
       "\n",
       "    .dataframe thead th {\n",
       "        text-align: right;\n",
       "    }\n",
       "</style>\n",
       "<table border=\"1\" class=\"dataframe\">\n",
       "  <thead>\n",
       "    <tr style=\"text-align: right;\">\n",
       "      <th></th>\n",
       "      <th>distance</th>\n",
       "      <th>z</th>\n",
       "      <th>coordinates</th>\n",
       "      <th>location</th>\n",
       "      <th>survey_date</th>\n",
       "      <th>raw_date</th>\n",
       "      <th>tr_id</th>\n",
       "      <th>point_id</th>\n",
       "      <th>x</th>\n",
       "      <th>y</th>\n",
       "      <th>band1</th>\n",
       "      <th>band2</th>\n",
       "      <th>band3</th>\n",
       "      <th>label_k</th>\n",
       "    </tr>\n",
       "  </thead>\n",
       "  <tbody>\n",
       "    <tr>\n",
       "      <th>0</th>\n",
       "      <td>0.0</td>\n",
       "      <td>1.130296</td>\n",
       "      <td>POINT (299873.218 5773731.860)</td>\n",
       "      <td>leo</td>\n",
       "      <td>2018-06-06</td>\n",
       "      <td>20180606</td>\n",
       "      <td>47</td>\n",
       "      <td>67144080l2610600eo00</td>\n",
       "      <td>299873.217965</td>\n",
       "      <td>5.773732e+06</td>\n",
       "      <td>133.0</td>\n",
       "      <td>143.0</td>\n",
       "      <td>104.0</td>\n",
       "      <td>8</td>\n",
       "    </tr>\n",
       "    <tr>\n",
       "      <th>1</th>\n",
       "      <td>1.0</td>\n",
       "      <td>1.085163</td>\n",
       "      <td>POINT (299874.212 5773731.971)</td>\n",
       "      <td>leo</td>\n",
       "      <td>2018-06-06</td>\n",
       "      <td>20180606</td>\n",
       "      <td>47</td>\n",
       "      <td>67148080l2690700eo10</td>\n",
       "      <td>299874.211725</td>\n",
       "      <td>5.773732e+06</td>\n",
       "      <td>109.0</td>\n",
       "      <td>107.0</td>\n",
       "      <td>106.0</td>\n",
       "      <td>8</td>\n",
       "    </tr>\n",
       "    <tr>\n",
       "      <th>2</th>\n",
       "      <td>2.0</td>\n",
       "      <td>1.033864</td>\n",
       "      <td>POINT (299875.205 5773732.083)</td>\n",
       "      <td>leo</td>\n",
       "      <td>2018-06-06</td>\n",
       "      <td>20180606</td>\n",
       "      <td>47</td>\n",
       "      <td>67143080l2670800eo20</td>\n",
       "      <td>299875.205484</td>\n",
       "      <td>5.773732e+06</td>\n",
       "      <td>98.0</td>\n",
       "      <td>94.0</td>\n",
       "      <td>105.0</td>\n",
       "      <td>8</td>\n",
       "    </tr>\n",
       "    <tr>\n",
       "      <th>3</th>\n",
       "      <td>3.0</td>\n",
       "      <td>1.025817</td>\n",
       "      <td>POINT (299876.199 5773732.194)</td>\n",
       "      <td>leo</td>\n",
       "      <td>2018-06-06</td>\n",
       "      <td>20180606</td>\n",
       "      <td>47</td>\n",
       "      <td>67148080l2650800eo30</td>\n",
       "      <td>299876.199244</td>\n",
       "      <td>5.773732e+06</td>\n",
       "      <td>99.0</td>\n",
       "      <td>97.0</td>\n",
       "      <td>108.0</td>\n",
       "      <td>8</td>\n",
       "    </tr>\n",
       "    <tr>\n",
       "      <th>4</th>\n",
       "      <td>4.0</td>\n",
       "      <td>1.041824</td>\n",
       "      <td>POINT (299877.193 5773732.306)</td>\n",
       "      <td>leo</td>\n",
       "      <td>2018-06-06</td>\n",
       "      <td>20180606</td>\n",
       "      <td>47</td>\n",
       "      <td>67143080l2630900eo40</td>\n",
       "      <td>299877.193003</td>\n",
       "      <td>5.773732e+06</td>\n",
       "      <td>103.0</td>\n",
       "      <td>109.0</td>\n",
       "      <td>127.0</td>\n",
       "      <td>8</td>\n",
       "    </tr>\n",
       "    <tr>\n",
       "      <th>...</th>\n",
       "      <td>...</td>\n",
       "      <td>...</td>\n",
       "      <td>...</td>\n",
       "      <td>...</td>\n",
       "      <td>...</td>\n",
       "      <td>...</td>\n",
       "      <td>...</td>\n",
       "      <td>...</td>\n",
       "      <td>...</td>\n",
       "      <td>...</td>\n",
       "      <td>...</td>\n",
       "      <td>...</td>\n",
       "      <td>...</td>\n",
       "      <td>...</td>\n",
       "    </tr>\n",
       "    <tr>\n",
       "      <th>23482</th>\n",
       "      <td>75.0</td>\n",
       "      <td>9.786558</td>\n",
       "      <td>POINT (731437.893 5705159.623)</td>\n",
       "      <td>mar</td>\n",
       "      <td>2019-05-16</td>\n",
       "      <td>20190516</td>\n",
       "      <td>3</td>\n",
       "      <td>63102091m2535900ar70</td>\n",
       "      <td>731437.893301</td>\n",
       "      <td>5.705160e+06</td>\n",
       "      <td>92.0</td>\n",
       "      <td>107.0</td>\n",
       "      <td>92.0</td>\n",
       "      <td>5</td>\n",
       "    </tr>\n",
       "    <tr>\n",
       "      <th>23483</th>\n",
       "      <td>76.0</td>\n",
       "      <td>12.814320</td>\n",
       "      <td>POINT (731436.899 5705159.730)</td>\n",
       "      <td>mar</td>\n",
       "      <td>2019-05-16</td>\n",
       "      <td>20190516</td>\n",
       "      <td>3</td>\n",
       "      <td>63109091m2566800ar70</td>\n",
       "      <td>731436.899062</td>\n",
       "      <td>5.705160e+06</td>\n",
       "      <td>75.0</td>\n",
       "      <td>86.0</td>\n",
       "      <td>72.0</td>\n",
       "      <td>5</td>\n",
       "    </tr>\n",
       "    <tr>\n",
       "      <th>23484</th>\n",
       "      <td>77.0</td>\n",
       "      <td>9.619781</td>\n",
       "      <td>POINT (731435.905 5705159.838)</td>\n",
       "      <td>mar</td>\n",
       "      <td>2019-05-16</td>\n",
       "      <td>20190516</td>\n",
       "      <td>3</td>\n",
       "      <td>63106091m2597800ar70</td>\n",
       "      <td>731435.904823</td>\n",
       "      <td>5.705160e+06</td>\n",
       "      <td>64.0</td>\n",
       "      <td>73.0</td>\n",
       "      <td>58.0</td>\n",
       "      <td>0</td>\n",
       "    </tr>\n",
       "    <tr>\n",
       "      <th>23485</th>\n",
       "      <td>78.0</td>\n",
       "      <td>8.493135</td>\n",
       "      <td>POINT (731434.911 5705159.945)</td>\n",
       "      <td>mar</td>\n",
       "      <td>2019-05-16</td>\n",
       "      <td>20190516</td>\n",
       "      <td>3</td>\n",
       "      <td>63104091m2528800ar70</td>\n",
       "      <td>731434.910584</td>\n",
       "      <td>5.705160e+06</td>\n",
       "      <td>56.0</td>\n",
       "      <td>70.0</td>\n",
       "      <td>50.0</td>\n",
       "      <td>0</td>\n",
       "    </tr>\n",
       "    <tr>\n",
       "      <th>23486</th>\n",
       "      <td>79.0</td>\n",
       "      <td>8.593991</td>\n",
       "      <td>POINT (731433.916 5705160.052)</td>\n",
       "      <td>mar</td>\n",
       "      <td>2019-05-16</td>\n",
       "      <td>20190516</td>\n",
       "      <td>3</td>\n",
       "      <td>63101091m2559700ar70</td>\n",
       "      <td>731433.916345</td>\n",
       "      <td>5.705160e+06</td>\n",
       "      <td>50.0</td>\n",
       "      <td>70.0</td>\n",
       "      <td>42.0</td>\n",
       "      <td>0</td>\n",
       "    </tr>\n",
       "  </tbody>\n",
       "</table>\n",
       "<p>23487 rows × 14 columns</p>\n",
       "</div>"
      ],
      "text/plain": [
       "       distance          z                     coordinates location  \\\n",
       "0           0.0   1.130296  POINT (299873.218 5773731.860)      leo   \n",
       "1           1.0   1.085163  POINT (299874.212 5773731.971)      leo   \n",
       "2           2.0   1.033864  POINT (299875.205 5773732.083)      leo   \n",
       "3           3.0   1.025817  POINT (299876.199 5773732.194)      leo   \n",
       "4           4.0   1.041824  POINT (299877.193 5773732.306)      leo   \n",
       "...         ...        ...                             ...      ...   \n",
       "23482      75.0   9.786558  POINT (731437.893 5705159.623)      mar   \n",
       "23483      76.0  12.814320  POINT (731436.899 5705159.730)      mar   \n",
       "23484      77.0   9.619781  POINT (731435.905 5705159.838)      mar   \n",
       "23485      78.0   8.493135  POINT (731434.911 5705159.945)      mar   \n",
       "23486      79.0   8.593991  POINT (731433.916 5705160.052)      mar   \n",
       "\n",
       "      survey_date  raw_date  tr_id              point_id              x  \\\n",
       "0      2018-06-06  20180606     47  67144080l2610600eo00  299873.217965   \n",
       "1      2018-06-06  20180606     47  67148080l2690700eo10  299874.211725   \n",
       "2      2018-06-06  20180606     47  67143080l2670800eo20  299875.205484   \n",
       "3      2018-06-06  20180606     47  67148080l2650800eo30  299876.199244   \n",
       "4      2018-06-06  20180606     47  67143080l2630900eo40  299877.193003   \n",
       "...           ...       ...    ...                   ...            ...   \n",
       "23482  2019-05-16  20190516      3  63102091m2535900ar70  731437.893301   \n",
       "23483  2019-05-16  20190516      3  63109091m2566800ar70  731436.899062   \n",
       "23484  2019-05-16  20190516      3  63106091m2597800ar70  731435.904823   \n",
       "23485  2019-05-16  20190516      3  63104091m2528800ar70  731434.910584   \n",
       "23486  2019-05-16  20190516      3  63101091m2559700ar70  731433.916345   \n",
       "\n",
       "                  y  band1  band2  band3  label_k  \n",
       "0      5.773732e+06  133.0  143.0  104.0        8  \n",
       "1      5.773732e+06  109.0  107.0  106.0        8  \n",
       "2      5.773732e+06   98.0   94.0  105.0        8  \n",
       "3      5.773732e+06   99.0   97.0  108.0        8  \n",
       "4      5.773732e+06  103.0  109.0  127.0        8  \n",
       "...             ...    ...    ...    ...      ...  \n",
       "23482  5.705160e+06   92.0  107.0   92.0        5  \n",
       "23483  5.705160e+06   75.0   86.0   72.0        5  \n",
       "23484  5.705160e+06   64.0   73.0   58.0        0  \n",
       "23485  5.705160e+06   56.0   70.0   50.0        0  \n",
       "23486  5.705160e+06   50.0   70.0   42.0        0  \n",
       "\n",
       "[23487 rows x 14 columns]"
      ]
     },
     "execution_count": 59,
     "metadata": {},
     "output_type": "execute_result"
    }
   ],
   "source": [
    "prof_works"
   ]
  },
  {
   "cell_type": "code",
   "execution_count": null,
   "id": "4f2854a5",
   "metadata": {},
   "outputs": [],
   "source": []
  },
  {
   "cell_type": "code",
   "execution_count": null,
   "id": "24d14441",
   "metadata": {},
   "outputs": [],
   "source": []
  },
  {
   "cell_type": "code",
   "execution_count": 42,
   "id": "53959542",
   "metadata": {},
   "outputs": [],
   "source": [
    "def check_overlaps_poly_label(label_corrections, profiles,crs):\n",
    "    \"\"\"\n",
    "    Function to check wether overlapping areas of label correction polygons targeting the same label_k in the same surveys but assigning different new classes do not contain points that would be affected by those polygons.\n",
    "    Args:\n",
    "        label_corrections (gpd.GeoDataFrame): GeodataFrame of the label correction polygons.\n",
    "        profiles (gpd.GeoDataFrame): Geodataframe of the extracted elevation profiles.\n",
    "        crs (dict, int): Either an EPSG code (int) or a dictionary. If dictionary, it must store location codes as keys and crs information as values, in dictionary form (example: {'init' :'epsg:4326'}).\n",
    "\n",
    "    \"\"\"\n",
    "    for loc in label_corrections.location.unique():\n",
    "        for raw_date in label_corrections.query(f\"location=='{loc}'\").raw_date.unique():\n",
    "            for target_label_k in label_corrections.query(f\"location=='{loc}' and raw_date=={raw_date}\").target_label_k.unique():\n",
    "\n",
    "                date_labelk_subset=label_corrections.query(f\"location=='{loc}' and raw_date=={raw_date} and target_label_k=={int(target_label_k)}\")\n",
    "\n",
    "                # if more than one polygons target the same label k, check if they overlap\n",
    "                if len(date_labelk_subset)>1:\n",
    "\n",
    "                    # check if there are any one of them that overlaps\n",
    "                    for i,z in comb(range(len(date_labelk_subset)),2):\n",
    "                        intersection_gdf = overlay(date_labelk_subset.iloc[[i]], date_labelk_subset.iloc[[z]], how='intersection')\n",
    "                        \n",
    "                        if not intersection_gdf.empty:\n",
    "\n",
    "                           # check if the overlapping polygons have assigns different new_classes\n",
    "                            if any(intersection_gdf.new_class_1 != intersection_gdf.new_class_2):\n",
    "\n",
    "                                # if overlap areas assign different classes, check if this area contains points with label_k equal to both polygons target_label_k..\n",
    "                                # if contains points, raise an error as it does not make sense and the polygons must be corrected\n",
    "                                # by the user\n",
    "\n",
    "                                pts=profiles.query(f\"location=='{loc}' and raw_date=={raw_date}\")\n",
    "\n",
    "                                if isinstance(pts.iloc[0]['coordinates'],Point):\n",
    "                                    pts_gdf=pts\n",
    "                                elif isinstance(pts.iloc[0]['coordinates'],str):\n",
    "                                    pts['coordinates']=pts.coordinates.apply(coords_to_points)\n",
    "                                    if isinstance(crs, dict):\n",
    "                                        pts_gdf=gpd.GeoDataFrame(pts, geometry='coordinates', crs=crs[loc])\n",
    "                                    elif isinstance(crs, int):\n",
    "                                        crs_adhoc={'init': f'epsg:{crs}'}\n",
    "                                        pts_gdf=gpd.GeoDataFrame(pts, geometry='coordinates', crs=crs_adhoc)\n",
    "                                else:\n",
    "                                    raise ValueError(f\"profiles coordinates field must contain points coordinates either as Shapely Point geometry objects or as a string representing a Shapely Point geometry in well known text. Found {type(pts.iloc[0]['coordinates'])} type instead.\")\n",
    "\n",
    "                                fully_contains = [intersection_gdf.geometry.contains(mask_geom)[0] for mask_geom in pts_gdf.geometry]\n",
    "                                \n",
    "                                if True in fully_contains:\n",
    "                                    return fully_contains\n",
    "                                    idx_true=[i for i, x in enumerate(fully_contains) if x]\n",
    "                                    raise ValueError(f\"There are {len(intersection_gdf)} points in the overlap area of two label correction polygons (location: {loc}, raw_date: {raw_date}, target_label_k = {target_label_k}) which assign two different classes: {intersection_gdf.loc[:,'new_class_1'][0], intersection_gdf.loc[:,'new_class_2'][0]}. This doesn't make sense, please correct your label correction polygons. You can have overlapping polygons which act on the same target label k, but if they overlap points with such target_label_k, then they MUST assign the same new class.\")\n",
    "\n",
    "    print(\"Check label correction polygons overlap inconsistencies terminated successfully\")"
   ]
  },
  {
   "cell_type": "code",
   "execution_count": 43,
   "id": "d8768d6a",
   "metadata": {},
   "outputs": [],
   "source": [
    "from shapely.geometry.point import Point"
   ]
  },
  {
   "cell_type": "code",
   "execution_count": 44,
   "id": "3b1e2bbc",
   "metadata": {
    "scrolled": true
   },
   "outputs": [],
   "source": [
    "test=check_overlaps_poly_label(label_corrections,prof_works, crs=crs_dict_string)"
   ]
  },
  {
   "cell_type": "code",
   "execution_count": 46,
   "id": "82beb42b",
   "metadata": {},
   "outputs": [
    {
     "data": {
      "application/javascript": [
       "/* Put everything inside the global mpl namespace */\n",
       "/* global mpl */\n",
       "window.mpl = {};\n",
       "\n",
       "mpl.get_websocket_type = function () {\n",
       "    if (typeof WebSocket !== 'undefined') {\n",
       "        return WebSocket;\n",
       "    } else if (typeof MozWebSocket !== 'undefined') {\n",
       "        return MozWebSocket;\n",
       "    } else {\n",
       "        alert(\n",
       "            'Your browser does not have WebSocket support. ' +\n",
       "                'Please try Chrome, Safari or Firefox ≥ 6. ' +\n",
       "                'Firefox 4 and 5 are also supported but you ' +\n",
       "                'have to enable WebSockets in about:config.'\n",
       "        );\n",
       "    }\n",
       "};\n",
       "\n",
       "mpl.figure = function (figure_id, websocket, ondownload, parent_element) {\n",
       "    this.id = figure_id;\n",
       "\n",
       "    this.ws = websocket;\n",
       "\n",
       "    this.supports_binary = this.ws.binaryType !== undefined;\n",
       "\n",
       "    if (!this.supports_binary) {\n",
       "        var warnings = document.getElementById('mpl-warnings');\n",
       "        if (warnings) {\n",
       "            warnings.style.display = 'block';\n",
       "            warnings.textContent =\n",
       "                'This browser does not support binary websocket messages. ' +\n",
       "                'Performance may be slow.';\n",
       "        }\n",
       "    }\n",
       "\n",
       "    this.imageObj = new Image();\n",
       "\n",
       "    this.context = undefined;\n",
       "    this.message = undefined;\n",
       "    this.canvas = undefined;\n",
       "    this.rubberband_canvas = undefined;\n",
       "    this.rubberband_context = undefined;\n",
       "    this.format_dropdown = undefined;\n",
       "\n",
       "    this.image_mode = 'full';\n",
       "\n",
       "    this.root = document.createElement('div');\n",
       "    this.root.setAttribute('style', 'display: inline-block');\n",
       "    this._root_extra_style(this.root);\n",
       "\n",
       "    parent_element.appendChild(this.root);\n",
       "\n",
       "    this._init_header(this);\n",
       "    this._init_canvas(this);\n",
       "    this._init_toolbar(this);\n",
       "\n",
       "    var fig = this;\n",
       "\n",
       "    this.waiting = false;\n",
       "\n",
       "    this.ws.onopen = function () {\n",
       "        fig.send_message('supports_binary', { value: fig.supports_binary });\n",
       "        fig.send_message('send_image_mode', {});\n",
       "        if (fig.ratio !== 1) {\n",
       "            fig.send_message('set_dpi_ratio', { dpi_ratio: fig.ratio });\n",
       "        }\n",
       "        fig.send_message('refresh', {});\n",
       "    };\n",
       "\n",
       "    this.imageObj.onload = function () {\n",
       "        if (fig.image_mode === 'full') {\n",
       "            // Full images could contain transparency (where diff images\n",
       "            // almost always do), so we need to clear the canvas so that\n",
       "            // there is no ghosting.\n",
       "            fig.context.clearRect(0, 0, fig.canvas.width, fig.canvas.height);\n",
       "        }\n",
       "        fig.context.drawImage(fig.imageObj, 0, 0);\n",
       "    };\n",
       "\n",
       "    this.imageObj.onunload = function () {\n",
       "        fig.ws.close();\n",
       "    };\n",
       "\n",
       "    this.ws.onmessage = this._make_on_message_function(this);\n",
       "\n",
       "    this.ondownload = ondownload;\n",
       "};\n",
       "\n",
       "mpl.figure.prototype._init_header = function () {\n",
       "    var titlebar = document.createElement('div');\n",
       "    titlebar.classList =\n",
       "        'ui-dialog-titlebar ui-widget-header ui-corner-all ui-helper-clearfix';\n",
       "    var titletext = document.createElement('div');\n",
       "    titletext.classList = 'ui-dialog-title';\n",
       "    titletext.setAttribute(\n",
       "        'style',\n",
       "        'width: 100%; text-align: center; padding: 3px;'\n",
       "    );\n",
       "    titlebar.appendChild(titletext);\n",
       "    this.root.appendChild(titlebar);\n",
       "    this.header = titletext;\n",
       "};\n",
       "\n",
       "mpl.figure.prototype._canvas_extra_style = function (_canvas_div) {};\n",
       "\n",
       "mpl.figure.prototype._root_extra_style = function (_canvas_div) {};\n",
       "\n",
       "mpl.figure.prototype._init_canvas = function () {\n",
       "    var fig = this;\n",
       "\n",
       "    var canvas_div = (this.canvas_div = document.createElement('div'));\n",
       "    canvas_div.setAttribute(\n",
       "        'style',\n",
       "        'border: 1px solid #ddd;' +\n",
       "            'box-sizing: content-box;' +\n",
       "            'clear: both;' +\n",
       "            'min-height: 1px;' +\n",
       "            'min-width: 1px;' +\n",
       "            'outline: 0;' +\n",
       "            'overflow: hidden;' +\n",
       "            'position: relative;' +\n",
       "            'resize: both;'\n",
       "    );\n",
       "\n",
       "    function on_keyboard_event_closure(name) {\n",
       "        return function (event) {\n",
       "            return fig.key_event(event, name);\n",
       "        };\n",
       "    }\n",
       "\n",
       "    canvas_div.addEventListener(\n",
       "        'keydown',\n",
       "        on_keyboard_event_closure('key_press')\n",
       "    );\n",
       "    canvas_div.addEventListener(\n",
       "        'keyup',\n",
       "        on_keyboard_event_closure('key_release')\n",
       "    );\n",
       "\n",
       "    this._canvas_extra_style(canvas_div);\n",
       "    this.root.appendChild(canvas_div);\n",
       "\n",
       "    var canvas = (this.canvas = document.createElement('canvas'));\n",
       "    canvas.classList.add('mpl-canvas');\n",
       "    canvas.setAttribute('style', 'box-sizing: content-box;');\n",
       "\n",
       "    this.context = canvas.getContext('2d');\n",
       "\n",
       "    var backingStore =\n",
       "        this.context.backingStorePixelRatio ||\n",
       "        this.context.webkitBackingStorePixelRatio ||\n",
       "        this.context.mozBackingStorePixelRatio ||\n",
       "        this.context.msBackingStorePixelRatio ||\n",
       "        this.context.oBackingStorePixelRatio ||\n",
       "        this.context.backingStorePixelRatio ||\n",
       "        1;\n",
       "\n",
       "    this.ratio = (window.devicePixelRatio || 1) / backingStore;\n",
       "\n",
       "    var rubberband_canvas = (this.rubberband_canvas = document.createElement(\n",
       "        'canvas'\n",
       "    ));\n",
       "    rubberband_canvas.setAttribute(\n",
       "        'style',\n",
       "        'box-sizing: content-box; position: absolute; left: 0; top: 0; z-index: 1;'\n",
       "    );\n",
       "\n",
       "    // Apply a ponyfill if ResizeObserver is not implemented by browser.\n",
       "    if (this.ResizeObserver === undefined) {\n",
       "        if (window.ResizeObserver !== undefined) {\n",
       "            this.ResizeObserver = window.ResizeObserver;\n",
       "        } else {\n",
       "            var obs = _JSXTOOLS_RESIZE_OBSERVER({});\n",
       "            this.ResizeObserver = obs.ResizeObserver;\n",
       "        }\n",
       "    }\n",
       "\n",
       "    this.resizeObserverInstance = new this.ResizeObserver(function (entries) {\n",
       "        var nentries = entries.length;\n",
       "        for (var i = 0; i < nentries; i++) {\n",
       "            var entry = entries[i];\n",
       "            var width, height;\n",
       "            if (entry.contentBoxSize) {\n",
       "                if (entry.contentBoxSize instanceof Array) {\n",
       "                    // Chrome 84 implements new version of spec.\n",
       "                    width = entry.contentBoxSize[0].inlineSize;\n",
       "                    height = entry.contentBoxSize[0].blockSize;\n",
       "                } else {\n",
       "                    // Firefox implements old version of spec.\n",
       "                    width = entry.contentBoxSize.inlineSize;\n",
       "                    height = entry.contentBoxSize.blockSize;\n",
       "                }\n",
       "            } else {\n",
       "                // Chrome <84 implements even older version of spec.\n",
       "                width = entry.contentRect.width;\n",
       "                height = entry.contentRect.height;\n",
       "            }\n",
       "\n",
       "            // Keep the size of the canvas and rubber band canvas in sync with\n",
       "            // the canvas container.\n",
       "            if (entry.devicePixelContentBoxSize) {\n",
       "                // Chrome 84 implements new version of spec.\n",
       "                canvas.setAttribute(\n",
       "                    'width',\n",
       "                    entry.devicePixelContentBoxSize[0].inlineSize\n",
       "                );\n",
       "                canvas.setAttribute(\n",
       "                    'height',\n",
       "                    entry.devicePixelContentBoxSize[0].blockSize\n",
       "                );\n",
       "            } else {\n",
       "                canvas.setAttribute('width', width * fig.ratio);\n",
       "                canvas.setAttribute('height', height * fig.ratio);\n",
       "            }\n",
       "            canvas.setAttribute(\n",
       "                'style',\n",
       "                'width: ' + width + 'px; height: ' + height + 'px;'\n",
       "            );\n",
       "\n",
       "            rubberband_canvas.setAttribute('width', width);\n",
       "            rubberband_canvas.setAttribute('height', height);\n",
       "\n",
       "            // And update the size in Python. We ignore the initial 0/0 size\n",
       "            // that occurs as the element is placed into the DOM, which should\n",
       "            // otherwise not happen due to the minimum size styling.\n",
       "            if (fig.ws.readyState == 1 && width != 0 && height != 0) {\n",
       "                fig.request_resize(width, height);\n",
       "            }\n",
       "        }\n",
       "    });\n",
       "    this.resizeObserverInstance.observe(canvas_div);\n",
       "\n",
       "    function on_mouse_event_closure(name) {\n",
       "        return function (event) {\n",
       "            return fig.mouse_event(event, name);\n",
       "        };\n",
       "    }\n",
       "\n",
       "    rubberband_canvas.addEventListener(\n",
       "        'mousedown',\n",
       "        on_mouse_event_closure('button_press')\n",
       "    );\n",
       "    rubberband_canvas.addEventListener(\n",
       "        'mouseup',\n",
       "        on_mouse_event_closure('button_release')\n",
       "    );\n",
       "    // Throttle sequential mouse events to 1 every 20ms.\n",
       "    rubberband_canvas.addEventListener(\n",
       "        'mousemove',\n",
       "        on_mouse_event_closure('motion_notify')\n",
       "    );\n",
       "\n",
       "    rubberband_canvas.addEventListener(\n",
       "        'mouseenter',\n",
       "        on_mouse_event_closure('figure_enter')\n",
       "    );\n",
       "    rubberband_canvas.addEventListener(\n",
       "        'mouseleave',\n",
       "        on_mouse_event_closure('figure_leave')\n",
       "    );\n",
       "\n",
       "    canvas_div.addEventListener('wheel', function (event) {\n",
       "        if (event.deltaY < 0) {\n",
       "            event.step = 1;\n",
       "        } else {\n",
       "            event.step = -1;\n",
       "        }\n",
       "        on_mouse_event_closure('scroll')(event);\n",
       "    });\n",
       "\n",
       "    canvas_div.appendChild(canvas);\n",
       "    canvas_div.appendChild(rubberband_canvas);\n",
       "\n",
       "    this.rubberband_context = rubberband_canvas.getContext('2d');\n",
       "    this.rubberband_context.strokeStyle = '#000000';\n",
       "\n",
       "    this._resize_canvas = function (width, height, forward) {\n",
       "        if (forward) {\n",
       "            canvas_div.style.width = width + 'px';\n",
       "            canvas_div.style.height = height + 'px';\n",
       "        }\n",
       "    };\n",
       "\n",
       "    // Disable right mouse context menu.\n",
       "    this.rubberband_canvas.addEventListener('contextmenu', function (_e) {\n",
       "        event.preventDefault();\n",
       "        return false;\n",
       "    });\n",
       "\n",
       "    function set_focus() {\n",
       "        canvas.focus();\n",
       "        canvas_div.focus();\n",
       "    }\n",
       "\n",
       "    window.setTimeout(set_focus, 100);\n",
       "};\n",
       "\n",
       "mpl.figure.prototype._init_toolbar = function () {\n",
       "    var fig = this;\n",
       "\n",
       "    var toolbar = document.createElement('div');\n",
       "    toolbar.classList = 'mpl-toolbar';\n",
       "    this.root.appendChild(toolbar);\n",
       "\n",
       "    function on_click_closure(name) {\n",
       "        return function (_event) {\n",
       "            return fig.toolbar_button_onclick(name);\n",
       "        };\n",
       "    }\n",
       "\n",
       "    function on_mouseover_closure(tooltip) {\n",
       "        return function (event) {\n",
       "            if (!event.currentTarget.disabled) {\n",
       "                return fig.toolbar_button_onmouseover(tooltip);\n",
       "            }\n",
       "        };\n",
       "    }\n",
       "\n",
       "    fig.buttons = {};\n",
       "    var buttonGroup = document.createElement('div');\n",
       "    buttonGroup.classList = 'mpl-button-group';\n",
       "    for (var toolbar_ind in mpl.toolbar_items) {\n",
       "        var name = mpl.toolbar_items[toolbar_ind][0];\n",
       "        var tooltip = mpl.toolbar_items[toolbar_ind][1];\n",
       "        var image = mpl.toolbar_items[toolbar_ind][2];\n",
       "        var method_name = mpl.toolbar_items[toolbar_ind][3];\n",
       "\n",
       "        if (!name) {\n",
       "            /* Instead of a spacer, we start a new button group. */\n",
       "            if (buttonGroup.hasChildNodes()) {\n",
       "                toolbar.appendChild(buttonGroup);\n",
       "            }\n",
       "            buttonGroup = document.createElement('div');\n",
       "            buttonGroup.classList = 'mpl-button-group';\n",
       "            continue;\n",
       "        }\n",
       "\n",
       "        var button = (fig.buttons[name] = document.createElement('button'));\n",
       "        button.classList = 'mpl-widget';\n",
       "        button.setAttribute('role', 'button');\n",
       "        button.setAttribute('aria-disabled', 'false');\n",
       "        button.addEventListener('click', on_click_closure(method_name));\n",
       "        button.addEventListener('mouseover', on_mouseover_closure(tooltip));\n",
       "\n",
       "        var icon_img = document.createElement('img');\n",
       "        icon_img.src = '_images/' + image + '.png';\n",
       "        icon_img.srcset = '_images/' + image + '_large.png 2x';\n",
       "        icon_img.alt = tooltip;\n",
       "        button.appendChild(icon_img);\n",
       "\n",
       "        buttonGroup.appendChild(button);\n",
       "    }\n",
       "\n",
       "    if (buttonGroup.hasChildNodes()) {\n",
       "        toolbar.appendChild(buttonGroup);\n",
       "    }\n",
       "\n",
       "    var fmt_picker = document.createElement('select');\n",
       "    fmt_picker.classList = 'mpl-widget';\n",
       "    toolbar.appendChild(fmt_picker);\n",
       "    this.format_dropdown = fmt_picker;\n",
       "\n",
       "    for (var ind in mpl.extensions) {\n",
       "        var fmt = mpl.extensions[ind];\n",
       "        var option = document.createElement('option');\n",
       "        option.selected = fmt === mpl.default_extension;\n",
       "        option.innerHTML = fmt;\n",
       "        fmt_picker.appendChild(option);\n",
       "    }\n",
       "\n",
       "    var status_bar = document.createElement('span');\n",
       "    status_bar.classList = 'mpl-message';\n",
       "    toolbar.appendChild(status_bar);\n",
       "    this.message = status_bar;\n",
       "};\n",
       "\n",
       "mpl.figure.prototype.request_resize = function (x_pixels, y_pixels) {\n",
       "    // Request matplotlib to resize the figure. Matplotlib will then trigger a resize in the client,\n",
       "    // which will in turn request a refresh of the image.\n",
       "    this.send_message('resize', { width: x_pixels, height: y_pixels });\n",
       "};\n",
       "\n",
       "mpl.figure.prototype.send_message = function (type, properties) {\n",
       "    properties['type'] = type;\n",
       "    properties['figure_id'] = this.id;\n",
       "    this.ws.send(JSON.stringify(properties));\n",
       "};\n",
       "\n",
       "mpl.figure.prototype.send_draw_message = function () {\n",
       "    if (!this.waiting) {\n",
       "        this.waiting = true;\n",
       "        this.ws.send(JSON.stringify({ type: 'draw', figure_id: this.id }));\n",
       "    }\n",
       "};\n",
       "\n",
       "mpl.figure.prototype.handle_save = function (fig, _msg) {\n",
       "    var format_dropdown = fig.format_dropdown;\n",
       "    var format = format_dropdown.options[format_dropdown.selectedIndex].value;\n",
       "    fig.ondownload(fig, format);\n",
       "};\n",
       "\n",
       "mpl.figure.prototype.handle_resize = function (fig, msg) {\n",
       "    var size = msg['size'];\n",
       "    if (size[0] !== fig.canvas.width || size[1] !== fig.canvas.height) {\n",
       "        fig._resize_canvas(size[0], size[1], msg['forward']);\n",
       "        fig.send_message('refresh', {});\n",
       "    }\n",
       "};\n",
       "\n",
       "mpl.figure.prototype.handle_rubberband = function (fig, msg) {\n",
       "    var x0 = msg['x0'] / fig.ratio;\n",
       "    var y0 = (fig.canvas.height - msg['y0']) / fig.ratio;\n",
       "    var x1 = msg['x1'] / fig.ratio;\n",
       "    var y1 = (fig.canvas.height - msg['y1']) / fig.ratio;\n",
       "    x0 = Math.floor(x0) + 0.5;\n",
       "    y0 = Math.floor(y0) + 0.5;\n",
       "    x1 = Math.floor(x1) + 0.5;\n",
       "    y1 = Math.floor(y1) + 0.5;\n",
       "    var min_x = Math.min(x0, x1);\n",
       "    var min_y = Math.min(y0, y1);\n",
       "    var width = Math.abs(x1 - x0);\n",
       "    var height = Math.abs(y1 - y0);\n",
       "\n",
       "    fig.rubberband_context.clearRect(\n",
       "        0,\n",
       "        0,\n",
       "        fig.canvas.width / fig.ratio,\n",
       "        fig.canvas.height / fig.ratio\n",
       "    );\n",
       "\n",
       "    fig.rubberband_context.strokeRect(min_x, min_y, width, height);\n",
       "};\n",
       "\n",
       "mpl.figure.prototype.handle_figure_label = function (fig, msg) {\n",
       "    // Updates the figure title.\n",
       "    fig.header.textContent = msg['label'];\n",
       "};\n",
       "\n",
       "mpl.figure.prototype.handle_cursor = function (fig, msg) {\n",
       "    var cursor = msg['cursor'];\n",
       "    switch (cursor) {\n",
       "        case 0:\n",
       "            cursor = 'pointer';\n",
       "            break;\n",
       "        case 1:\n",
       "            cursor = 'default';\n",
       "            break;\n",
       "        case 2:\n",
       "            cursor = 'crosshair';\n",
       "            break;\n",
       "        case 3:\n",
       "            cursor = 'move';\n",
       "            break;\n",
       "    }\n",
       "    fig.rubberband_canvas.style.cursor = cursor;\n",
       "};\n",
       "\n",
       "mpl.figure.prototype.handle_message = function (fig, msg) {\n",
       "    fig.message.textContent = msg['message'];\n",
       "};\n",
       "\n",
       "mpl.figure.prototype.handle_draw = function (fig, _msg) {\n",
       "    // Request the server to send over a new figure.\n",
       "    fig.send_draw_message();\n",
       "};\n",
       "\n",
       "mpl.figure.prototype.handle_image_mode = function (fig, msg) {\n",
       "    fig.image_mode = msg['mode'];\n",
       "};\n",
       "\n",
       "mpl.figure.prototype.handle_history_buttons = function (fig, msg) {\n",
       "    for (var key in msg) {\n",
       "        if (!(key in fig.buttons)) {\n",
       "            continue;\n",
       "        }\n",
       "        fig.buttons[key].disabled = !msg[key];\n",
       "        fig.buttons[key].setAttribute('aria-disabled', !msg[key]);\n",
       "    }\n",
       "};\n",
       "\n",
       "mpl.figure.prototype.handle_navigate_mode = function (fig, msg) {\n",
       "    if (msg['mode'] === 'PAN') {\n",
       "        fig.buttons['Pan'].classList.add('active');\n",
       "        fig.buttons['Zoom'].classList.remove('active');\n",
       "    } else if (msg['mode'] === 'ZOOM') {\n",
       "        fig.buttons['Pan'].classList.remove('active');\n",
       "        fig.buttons['Zoom'].classList.add('active');\n",
       "    } else {\n",
       "        fig.buttons['Pan'].classList.remove('active');\n",
       "        fig.buttons['Zoom'].classList.remove('active');\n",
       "    }\n",
       "};\n",
       "\n",
       "mpl.figure.prototype.updated_canvas_event = function () {\n",
       "    // Called whenever the canvas gets updated.\n",
       "    this.send_message('ack', {});\n",
       "};\n",
       "\n",
       "// A function to construct a web socket function for onmessage handling.\n",
       "// Called in the figure constructor.\n",
       "mpl.figure.prototype._make_on_message_function = function (fig) {\n",
       "    return function socket_on_message(evt) {\n",
       "        if (evt.data instanceof Blob) {\n",
       "            /* FIXME: We get \"Resource interpreted as Image but\n",
       "             * transferred with MIME type text/plain:\" errors on\n",
       "             * Chrome.  But how to set the MIME type?  It doesn't seem\n",
       "             * to be part of the websocket stream */\n",
       "            evt.data.type = 'image/png';\n",
       "\n",
       "            /* Free the memory for the previous frames */\n",
       "            if (fig.imageObj.src) {\n",
       "                (window.URL || window.webkitURL).revokeObjectURL(\n",
       "                    fig.imageObj.src\n",
       "                );\n",
       "            }\n",
       "\n",
       "            fig.imageObj.src = (window.URL || window.webkitURL).createObjectURL(\n",
       "                evt.data\n",
       "            );\n",
       "            fig.updated_canvas_event();\n",
       "            fig.waiting = false;\n",
       "            return;\n",
       "        } else if (\n",
       "            typeof evt.data === 'string' &&\n",
       "            evt.data.slice(0, 21) === 'data:image/png;base64'\n",
       "        ) {\n",
       "            fig.imageObj.src = evt.data;\n",
       "            fig.updated_canvas_event();\n",
       "            fig.waiting = false;\n",
       "            return;\n",
       "        }\n",
       "\n",
       "        var msg = JSON.parse(evt.data);\n",
       "        var msg_type = msg['type'];\n",
       "\n",
       "        // Call the  \"handle_{type}\" callback, which takes\n",
       "        // the figure and JSON message as its only arguments.\n",
       "        try {\n",
       "            var callback = fig['handle_' + msg_type];\n",
       "        } catch (e) {\n",
       "            console.log(\n",
       "                \"No handler for the '\" + msg_type + \"' message type: \",\n",
       "                msg\n",
       "            );\n",
       "            return;\n",
       "        }\n",
       "\n",
       "        if (callback) {\n",
       "            try {\n",
       "                // console.log(\"Handling '\" + msg_type + \"' message: \", msg);\n",
       "                callback(fig, msg);\n",
       "            } catch (e) {\n",
       "                console.log(\n",
       "                    \"Exception inside the 'handler_\" + msg_type + \"' callback:\",\n",
       "                    e,\n",
       "                    e.stack,\n",
       "                    msg\n",
       "                );\n",
       "            }\n",
       "        }\n",
       "    };\n",
       "};\n",
       "\n",
       "// from http://stackoverflow.com/questions/1114465/getting-mouse-location-in-canvas\n",
       "mpl.findpos = function (e) {\n",
       "    //this section is from http://www.quirksmode.org/js/events_properties.html\n",
       "    var targ;\n",
       "    if (!e) {\n",
       "        e = window.event;\n",
       "    }\n",
       "    if (e.target) {\n",
       "        targ = e.target;\n",
       "    } else if (e.srcElement) {\n",
       "        targ = e.srcElement;\n",
       "    }\n",
       "    if (targ.nodeType === 3) {\n",
       "        // defeat Safari bug\n",
       "        targ = targ.parentNode;\n",
       "    }\n",
       "\n",
       "    // pageX,Y are the mouse positions relative to the document\n",
       "    var boundingRect = targ.getBoundingClientRect();\n",
       "    var x = e.pageX - (boundingRect.left + document.body.scrollLeft);\n",
       "    var y = e.pageY - (boundingRect.top + document.body.scrollTop);\n",
       "\n",
       "    return { x: x, y: y };\n",
       "};\n",
       "\n",
       "/*\n",
       " * return a copy of an object with only non-object keys\n",
       " * we need this to avoid circular references\n",
       " * http://stackoverflow.com/a/24161582/3208463\n",
       " */\n",
       "function simpleKeys(original) {\n",
       "    return Object.keys(original).reduce(function (obj, key) {\n",
       "        if (typeof original[key] !== 'object') {\n",
       "            obj[key] = original[key];\n",
       "        }\n",
       "        return obj;\n",
       "    }, {});\n",
       "}\n",
       "\n",
       "mpl.figure.prototype.mouse_event = function (event, name) {\n",
       "    var canvas_pos = mpl.findpos(event);\n",
       "\n",
       "    if (name === 'button_press') {\n",
       "        this.canvas.focus();\n",
       "        this.canvas_div.focus();\n",
       "    }\n",
       "\n",
       "    var x = canvas_pos.x * this.ratio;\n",
       "    var y = canvas_pos.y * this.ratio;\n",
       "\n",
       "    this.send_message(name, {\n",
       "        x: x,\n",
       "        y: y,\n",
       "        button: event.button,\n",
       "        step: event.step,\n",
       "        guiEvent: simpleKeys(event),\n",
       "    });\n",
       "\n",
       "    /* This prevents the web browser from automatically changing to\n",
       "     * the text insertion cursor when the button is pressed.  We want\n",
       "     * to control all of the cursor setting manually through the\n",
       "     * 'cursor' event from matplotlib */\n",
       "    event.preventDefault();\n",
       "    return false;\n",
       "};\n",
       "\n",
       "mpl.figure.prototype._key_event_extra = function (_event, _name) {\n",
       "    // Handle any extra behaviour associated with a key event\n",
       "};\n",
       "\n",
       "mpl.figure.prototype.key_event = function (event, name) {\n",
       "    // Prevent repeat events\n",
       "    if (name === 'key_press') {\n",
       "        if (event.which === this._key) {\n",
       "            return;\n",
       "        } else {\n",
       "            this._key = event.which;\n",
       "        }\n",
       "    }\n",
       "    if (name === 'key_release') {\n",
       "        this._key = null;\n",
       "    }\n",
       "\n",
       "    var value = '';\n",
       "    if (event.ctrlKey && event.which !== 17) {\n",
       "        value += 'ctrl+';\n",
       "    }\n",
       "    if (event.altKey && event.which !== 18) {\n",
       "        value += 'alt+';\n",
       "    }\n",
       "    if (event.shiftKey && event.which !== 16) {\n",
       "        value += 'shift+';\n",
       "    }\n",
       "\n",
       "    value += 'k';\n",
       "    value += event.which.toString();\n",
       "\n",
       "    this._key_event_extra(event, name);\n",
       "\n",
       "    this.send_message(name, { key: value, guiEvent: simpleKeys(event) });\n",
       "    return false;\n",
       "};\n",
       "\n",
       "mpl.figure.prototype.toolbar_button_onclick = function (name) {\n",
       "    if (name === 'download') {\n",
       "        this.handle_save(this, null);\n",
       "    } else {\n",
       "        this.send_message('toolbar_button', { name: name });\n",
       "    }\n",
       "};\n",
       "\n",
       "mpl.figure.prototype.toolbar_button_onmouseover = function (tooltip) {\n",
       "    this.message.textContent = tooltip;\n",
       "};\n",
       "\n",
       "///////////////// REMAINING CONTENT GENERATED BY embed_js.py /////////////////\n",
       "// prettier-ignore\n",
       "var _JSXTOOLS_RESIZE_OBSERVER=function(A){var t,i=new WeakMap,n=new WeakMap,a=new WeakMap,r=new WeakMap,o=new Set;function s(e){if(!(this instanceof s))throw new TypeError(\"Constructor requires 'new' operator\");i.set(this,e)}function h(){throw new TypeError(\"Function is not a constructor\")}function c(e,t,i,n){e=0 in arguments?Number(arguments[0]):0,t=1 in arguments?Number(arguments[1]):0,i=2 in arguments?Number(arguments[2]):0,n=3 in arguments?Number(arguments[3]):0,this.right=(this.x=this.left=e)+(this.width=i),this.bottom=(this.y=this.top=t)+(this.height=n),Object.freeze(this)}function d(){t=requestAnimationFrame(d);var s=new WeakMap,p=new Set;o.forEach((function(t){r.get(t).forEach((function(i){var r=t instanceof window.SVGElement,o=a.get(t),d=r?0:parseFloat(o.paddingTop),f=r?0:parseFloat(o.paddingRight),l=r?0:parseFloat(o.paddingBottom),u=r?0:parseFloat(o.paddingLeft),g=r?0:parseFloat(o.borderTopWidth),m=r?0:parseFloat(o.borderRightWidth),w=r?0:parseFloat(o.borderBottomWidth),b=u+f,F=d+l,v=(r?0:parseFloat(o.borderLeftWidth))+m,W=g+w,y=r?0:t.offsetHeight-W-t.clientHeight,E=r?0:t.offsetWidth-v-t.clientWidth,R=b+v,z=F+W,M=r?t.width:parseFloat(o.width)-R-E,O=r?t.height:parseFloat(o.height)-z-y;if(n.has(t)){var k=n.get(t);if(k[0]===M&&k[1]===O)return}n.set(t,[M,O]);var S=Object.create(h.prototype);S.target=t,S.contentRect=new c(u,d,M,O),s.has(i)||(s.set(i,[]),p.add(i)),s.get(i).push(S)}))})),p.forEach((function(e){i.get(e).call(e,s.get(e),e)}))}return s.prototype.observe=function(i){if(i instanceof window.Element){r.has(i)||(r.set(i,new Set),o.add(i),a.set(i,window.getComputedStyle(i)));var n=r.get(i);n.has(this)||n.add(this),cancelAnimationFrame(t),t=requestAnimationFrame(d)}},s.prototype.unobserve=function(i){if(i instanceof window.Element&&r.has(i)){var n=r.get(i);n.has(this)&&(n.delete(this),n.size||(r.delete(i),o.delete(i))),n.size||r.delete(i),o.size||cancelAnimationFrame(t)}},A.DOMRectReadOnly=c,A.ResizeObserver=s,A.ResizeObserverEntry=h,A}; // eslint-disable-line\n",
       "mpl.toolbar_items = [[\"Home\", \"Reset original view\", \"fa fa-home icon-home\", \"home\"], [\"Back\", \"Back to previous view\", \"fa fa-arrow-left icon-arrow-left\", \"back\"], [\"Forward\", \"Forward to next view\", \"fa fa-arrow-right icon-arrow-right\", \"forward\"], [\"\", \"\", \"\", \"\"], [\"Pan\", \"Left button pans, Right button zooms\\nx/y fixes axis, CTRL fixes aspect\", \"fa fa-arrows icon-move\", \"pan\"], [\"Zoom\", \"Zoom to rectangle\\nx/y fixes axis, CTRL fixes aspect\", \"fa fa-square-o icon-check-empty\", \"zoom\"], [\"\", \"\", \"\", \"\"], [\"Download\", \"Download plot\", \"fa fa-floppy-o icon-save\", \"download\"]];\n",
       "\n",
       "mpl.extensions = [\"eps\", \"jpeg\", \"pdf\", \"png\", \"ps\", \"raw\", \"svg\", \"tif\"];\n",
       "\n",
       "mpl.default_extension = \"png\";/* global mpl */\n",
       "\n",
       "var comm_websocket_adapter = function (comm) {\n",
       "    // Create a \"websocket\"-like object which calls the given IPython comm\n",
       "    // object with the appropriate methods. Currently this is a non binary\n",
       "    // socket, so there is still some room for performance tuning.\n",
       "    var ws = {};\n",
       "\n",
       "    ws.close = function () {\n",
       "        comm.close();\n",
       "    };\n",
       "    ws.send = function (m) {\n",
       "        //console.log('sending', m);\n",
       "        comm.send(m);\n",
       "    };\n",
       "    // Register the callback with on_msg.\n",
       "    comm.on_msg(function (msg) {\n",
       "        //console.log('receiving', msg['content']['data'], msg);\n",
       "        // Pass the mpl event to the overridden (by mpl) onmessage function.\n",
       "        ws.onmessage(msg['content']['data']);\n",
       "    });\n",
       "    return ws;\n",
       "};\n",
       "\n",
       "mpl.mpl_figure_comm = function (comm, msg) {\n",
       "    // This is the function which gets called when the mpl process\n",
       "    // starts-up an IPython Comm through the \"matplotlib\" channel.\n",
       "\n",
       "    var id = msg.content.data.id;\n",
       "    // Get hold of the div created by the display call when the Comm\n",
       "    // socket was opened in Python.\n",
       "    var element = document.getElementById(id);\n",
       "    var ws_proxy = comm_websocket_adapter(comm);\n",
       "\n",
       "    function ondownload(figure, _format) {\n",
       "        window.open(figure.canvas.toDataURL());\n",
       "    }\n",
       "\n",
       "    var fig = new mpl.figure(id, ws_proxy, ondownload, element);\n",
       "\n",
       "    // Call onopen now - mpl needs it, as it is assuming we've passed it a real\n",
       "    // web socket which is closed, not our websocket->open comm proxy.\n",
       "    ws_proxy.onopen();\n",
       "\n",
       "    fig.parent_element = element;\n",
       "    fig.cell_info = mpl.find_output_cell(\"<div id='\" + id + \"'></div>\");\n",
       "    if (!fig.cell_info) {\n",
       "        console.error('Failed to find cell for figure', id, fig);\n",
       "        return;\n",
       "    }\n",
       "    fig.cell_info[0].output_area.element.on(\n",
       "        'cleared',\n",
       "        { fig: fig },\n",
       "        fig._remove_fig_handler\n",
       "    );\n",
       "};\n",
       "\n",
       "mpl.figure.prototype.handle_close = function (fig, msg) {\n",
       "    var width = fig.canvas.width / fig.ratio;\n",
       "    fig.cell_info[0].output_area.element.off(\n",
       "        'cleared',\n",
       "        fig._remove_fig_handler\n",
       "    );\n",
       "    fig.resizeObserverInstance.unobserve(fig.canvas_div);\n",
       "\n",
       "    // Update the output cell to use the data from the current canvas.\n",
       "    fig.push_to_output();\n",
       "    var dataURL = fig.canvas.toDataURL();\n",
       "    // Re-enable the keyboard manager in IPython - without this line, in FF,\n",
       "    // the notebook keyboard shortcuts fail.\n",
       "    IPython.keyboard_manager.enable();\n",
       "    fig.parent_element.innerHTML =\n",
       "        '<img src=\"' + dataURL + '\" width=\"' + width + '\">';\n",
       "    fig.close_ws(fig, msg);\n",
       "};\n",
       "\n",
       "mpl.figure.prototype.close_ws = function (fig, msg) {\n",
       "    fig.send_message('closing', msg);\n",
       "    // fig.ws.close()\n",
       "};\n",
       "\n",
       "mpl.figure.prototype.push_to_output = function (_remove_interactive) {\n",
       "    // Turn the data on the canvas into data in the output cell.\n",
       "    var width = this.canvas.width / this.ratio;\n",
       "    var dataURL = this.canvas.toDataURL();\n",
       "    this.cell_info[1]['text/html'] =\n",
       "        '<img src=\"' + dataURL + '\" width=\"' + width + '\">';\n",
       "};\n",
       "\n",
       "mpl.figure.prototype.updated_canvas_event = function () {\n",
       "    // Tell IPython that the notebook contents must change.\n",
       "    IPython.notebook.set_dirty(true);\n",
       "    this.send_message('ack', {});\n",
       "    var fig = this;\n",
       "    // Wait a second, then push the new image to the DOM so\n",
       "    // that it is saved nicely (might be nice to debounce this).\n",
       "    setTimeout(function () {\n",
       "        fig.push_to_output();\n",
       "    }, 1000);\n",
       "};\n",
       "\n",
       "mpl.figure.prototype._init_toolbar = function () {\n",
       "    var fig = this;\n",
       "\n",
       "    var toolbar = document.createElement('div');\n",
       "    toolbar.classList = 'btn-toolbar';\n",
       "    this.root.appendChild(toolbar);\n",
       "\n",
       "    function on_click_closure(name) {\n",
       "        return function (_event) {\n",
       "            return fig.toolbar_button_onclick(name);\n",
       "        };\n",
       "    }\n",
       "\n",
       "    function on_mouseover_closure(tooltip) {\n",
       "        return function (event) {\n",
       "            if (!event.currentTarget.disabled) {\n",
       "                return fig.toolbar_button_onmouseover(tooltip);\n",
       "            }\n",
       "        };\n",
       "    }\n",
       "\n",
       "    fig.buttons = {};\n",
       "    var buttonGroup = document.createElement('div');\n",
       "    buttonGroup.classList = 'btn-group';\n",
       "    var button;\n",
       "    for (var toolbar_ind in mpl.toolbar_items) {\n",
       "        var name = mpl.toolbar_items[toolbar_ind][0];\n",
       "        var tooltip = mpl.toolbar_items[toolbar_ind][1];\n",
       "        var image = mpl.toolbar_items[toolbar_ind][2];\n",
       "        var method_name = mpl.toolbar_items[toolbar_ind][3];\n",
       "\n",
       "        if (!name) {\n",
       "            /* Instead of a spacer, we start a new button group. */\n",
       "            if (buttonGroup.hasChildNodes()) {\n",
       "                toolbar.appendChild(buttonGroup);\n",
       "            }\n",
       "            buttonGroup = document.createElement('div');\n",
       "            buttonGroup.classList = 'btn-group';\n",
       "            continue;\n",
       "        }\n",
       "\n",
       "        button = fig.buttons[name] = document.createElement('button');\n",
       "        button.classList = 'btn btn-default';\n",
       "        button.href = '#';\n",
       "        button.title = name;\n",
       "        button.innerHTML = '<i class=\"fa ' + image + ' fa-lg\"></i>';\n",
       "        button.addEventListener('click', on_click_closure(method_name));\n",
       "        button.addEventListener('mouseover', on_mouseover_closure(tooltip));\n",
       "        buttonGroup.appendChild(button);\n",
       "    }\n",
       "\n",
       "    if (buttonGroup.hasChildNodes()) {\n",
       "        toolbar.appendChild(buttonGroup);\n",
       "    }\n",
       "\n",
       "    // Add the status bar.\n",
       "    var status_bar = document.createElement('span');\n",
       "    status_bar.classList = 'mpl-message pull-right';\n",
       "    toolbar.appendChild(status_bar);\n",
       "    this.message = status_bar;\n",
       "\n",
       "    // Add the close button to the window.\n",
       "    var buttongrp = document.createElement('div');\n",
       "    buttongrp.classList = 'btn-group inline pull-right';\n",
       "    button = document.createElement('button');\n",
       "    button.classList = 'btn btn-mini btn-primary';\n",
       "    button.href = '#';\n",
       "    button.title = 'Stop Interaction';\n",
       "    button.innerHTML = '<i class=\"fa fa-power-off icon-remove icon-large\"></i>';\n",
       "    button.addEventListener('click', function (_evt) {\n",
       "        fig.handle_close(fig, {});\n",
       "    });\n",
       "    button.addEventListener(\n",
       "        'mouseover',\n",
       "        on_mouseover_closure('Stop Interaction')\n",
       "    );\n",
       "    buttongrp.appendChild(button);\n",
       "    var titlebar = this.root.querySelector('.ui-dialog-titlebar');\n",
       "    titlebar.insertBefore(buttongrp, titlebar.firstChild);\n",
       "};\n",
       "\n",
       "mpl.figure.prototype._remove_fig_handler = function (event) {\n",
       "    var fig = event.data.fig;\n",
       "    if (event.target !== this) {\n",
       "        // Ignore bubbled events from children.\n",
       "        return;\n",
       "    }\n",
       "    fig.close_ws(fig, {});\n",
       "};\n",
       "\n",
       "mpl.figure.prototype._root_extra_style = function (el) {\n",
       "    el.style.boxSizing = 'content-box'; // override notebook setting of border-box.\n",
       "};\n",
       "\n",
       "mpl.figure.prototype._canvas_extra_style = function (el) {\n",
       "    // this is important to make the div 'focusable\n",
       "    el.setAttribute('tabindex', 0);\n",
       "    // reach out to IPython and tell the keyboard manager to turn it's self\n",
       "    // off when our div gets focus\n",
       "\n",
       "    // location in version 3\n",
       "    if (IPython.notebook.keyboard_manager) {\n",
       "        IPython.notebook.keyboard_manager.register_events(el);\n",
       "    } else {\n",
       "        // location in version 2\n",
       "        IPython.keyboard_manager.register_events(el);\n",
       "    }\n",
       "};\n",
       "\n",
       "mpl.figure.prototype._key_event_extra = function (event, _name) {\n",
       "    var manager = IPython.notebook.keyboard_manager;\n",
       "    if (!manager) {\n",
       "        manager = IPython.keyboard_manager;\n",
       "    }\n",
       "\n",
       "    // Check for shift+enter\n",
       "    if (event.shiftKey && event.which === 13) {\n",
       "        this.canvas_div.blur();\n",
       "        // select the cell after this one\n",
       "        var index = IPython.notebook.find_cell_index(this.cell_info[0]);\n",
       "        IPython.notebook.select(index + 1);\n",
       "    }\n",
       "};\n",
       "\n",
       "mpl.figure.prototype.handle_save = function (fig, _msg) {\n",
       "    fig.ondownload(fig, null);\n",
       "};\n",
       "\n",
       "mpl.find_output_cell = function (html_output) {\n",
       "    // Return the cell and output element which can be found *uniquely* in the notebook.\n",
       "    // Note - this is a bit hacky, but it is done because the \"notebook_saving.Notebook\"\n",
       "    // IPython event is triggered only after the cells have been serialised, which for\n",
       "    // our purposes (turning an active figure into a static one), is too late.\n",
       "    var cells = IPython.notebook.get_cells();\n",
       "    var ncells = cells.length;\n",
       "    for (var i = 0; i < ncells; i++) {\n",
       "        var cell = cells[i];\n",
       "        if (cell.cell_type === 'code') {\n",
       "            for (var j = 0; j < cell.output_area.outputs.length; j++) {\n",
       "                var data = cell.output_area.outputs[j];\n",
       "                if (data.data) {\n",
       "                    // IPython >= 3 moved mimebundle to data attribute of output\n",
       "                    data = data.data;\n",
       "                }\n",
       "                if (data['text/html'] === html_output) {\n",
       "                    return [cell, data, j];\n",
       "                }\n",
       "            }\n",
       "        }\n",
       "    }\n",
       "};\n",
       "\n",
       "// Register the function which deals with the matplotlib target/channel.\n",
       "// The kernel may be null if the page has been refreshed.\n",
       "if (IPython.notebook.kernel !== null) {\n",
       "    IPython.notebook.kernel.comm_manager.register_target(\n",
       "        'matplotlib',\n",
       "        mpl.mpl_figure_comm\n",
       "    );\n",
       "}\n"
      ],
      "text/plain": [
       "<IPython.core.display.Javascript object>"
      ]
     },
     "metadata": {},
     "output_type": "display_data"
    },
    {
     "data": {
      "text/html": [
       "<img src=\"data:image/png;base64,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\" width=\"575.5555708025713\">"
      ],
      "text/plain": [
       "<IPython.core.display.HTML object>"
      ]
     },
     "metadata": {},
     "output_type": "display_data"
    },
    {
     "data": {
      "text/plain": [
       "<AxesSubplot:>"
      ]
     },
     "execution_count": 46,
     "metadata": {},
     "output_type": "execute_result"
    }
   ],
   "source": [
    "test.plot()"
   ]
  },
  {
   "cell_type": "code",
   "execution_count": null,
   "id": "439c442e",
   "metadata": {},
   "outputs": [],
   "source": []
  },
  {
   "cell_type": "code",
   "execution_count": null,
   "id": "e2e10d84",
   "metadata": {},
   "outputs": [],
   "source": []
  },
  {
   "cell_type": "code",
   "execution_count": null,
   "id": "ee31f01e",
   "metadata": {},
   "outputs": [],
   "source": [
    "type(pts_gdf.iloc[0]['coordinates'])"
   ]
  },
  {
   "cell_type": "code",
   "execution_count": null,
   "id": "6b06a601",
   "metadata": {},
   "outputs": [],
   "source": [
    "from shapely.geometry import Point"
   ]
  },
  {
   "cell_type": "code",
   "execution_count": null,
   "id": "2f836b11",
   "metadata": {},
   "outputs": [],
   "source": [
    "isinstance(pts_gdf.iloc[0]['location'],str)"
   ]
  },
  {
   "cell_type": "code",
   "execution_count": null,
   "id": "0d77d6ea",
   "metadata": {},
   "outputs": [],
   "source": [
    "f,ax=plt.subplots()\n",
    "\n",
    "#to_clean_classified.query(\"point_id=='3300o21753081509le201'\").plot(ax=ax)\n",
    "#subset_finetune_polys[-2:].plot(column='index', alpha=.3, ax=ax)\n",
    "intersection_gdf.reset_index().plot(ax=ax, column='index')"
   ]
  },
  {
   "cell_type": "code",
   "execution_count": null,
   "id": "08ce398b",
   "metadata": {},
   "outputs": [],
   "source": [
    "to_update_finetune.query(\"point_id=='3300o21753081509le201'\")"
   ]
  },
  {
   "cell_type": "code",
   "execution_count": null,
   "id": "4fa82dfb",
   "metadata": {},
   "outputs": [],
   "source": [
    "crs_dict_string\n"
   ]
  },
  {
   "cell_type": "code",
   "execution_count": null,
   "id": "6ad2e2d8",
   "metadata": {},
   "outputs": [],
   "source": []
  },
  {
   "cell_type": "code",
   "execution_count": null,
   "id": "cf4ce3c0",
   "metadata": {},
   "outputs": [],
   "source": []
  }
 ],
 "metadata": {
  "kernelspec": {
   "display_name": "Python 3 (ipykernel)",
   "language": "python",
   "name": "python3"
  },
  "language_info": {
   "codemirror_mode": {
    "name": "ipython",
    "version": 3
   },
   "file_extension": ".py",
   "mimetype": "text/x-python",
   "name": "python",
   "nbconvert_exporter": "python",
   "pygments_lexer": "ipython3",
   "version": "3.8.10"
  }
 },
 "nbformat": 4,
 "nbformat_minor": 5
}
