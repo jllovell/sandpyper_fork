{
 "cells": [
  {
   "cell_type": "markdown",
   "metadata": {},
   "source": [
    "<font size=\"5\"><center> <b>Sandpyper: sandy beaches SfM-UAV analysis tools</b></center></font>\n",
    "<font size=\"4\"><center> <b> Example 2 - Sand labelling </b></center> <br>\n",
    "\n",
    "    \n",
    "<center><img src=\"images/banner.png\" width=\"80%\"  /></center>\n",
    "\n",
    "<font face=\"Calibri\">\n",
    "<br>\n",
    "<font size=\"5\"> <b>Sand clustering with Silhouette Analysis and KMeans notebook</b></font>\n",
    "\n",
    "<br>\n",
    "<font size=\"4\"> <b> Nicolas Pucino; PhD Student @ Deakin University, Australia </b> <br>\n",
    "\n",
    "<font size=\"3\">This notebook illustrates how to use Sandpyper to perform Silhouette Analysis and KMeans on all previously extracted points. <br>\n",
    "\n",
    "<b>This notebook covers the following concepts:</b>\n",
    "\n",
    "- Silhouete Analysis.\n",
    "- KMeans clustering.\n",
    "</font>\n",
    "\n",
    "\n",
    "</font>"
   ]
  },
  {
   "cell_type": "code",
   "execution_count": 1,
   "metadata": {},
   "outputs": [],
   "source": [
    "import pandas as pd\n",
    "import geopandas as gpd\n",
    "import numpy as np\n",
    "\n",
    "from sandpyper.outils import coords_to_points \n",
    "from sandpyper.labels import get_sil_location, get_opt_k, kmeans_sa\n",
    "\n",
    "pd.options.mode.chained_assignment = None  # default='warn'"
   ]
  },
  {
   "cell_type": "markdown",
   "metadata": {},
   "source": [
    "Loading the project-related lists\n",
    "\n",
    "- loc codes\n",
    "- crs dict string"
   ]
  },
  {
   "cell_type": "code",
   "execution_count": 2,
   "metadata": {},
   "outputs": [],
   "source": [
    "# The location codes used troughout the analysis\n",
    "loc_codes=[\"mar\",\"leo\"]\n",
    "\n",
    "# The Coordinate Reference Systems used troughout this study\n",
    "crs_dict_string= {\n",
    "                 'mar': {'init': 'epsg:32754'},\n",
    "                 'leo': {'init': 'epsg:32755'},\n",
    "                 }"
   ]
  },
  {
   "cell_type": "markdown",
   "metadata": {},
   "source": [
    "## Loading, merging and preparing the tables\n",
    "\n",
    "The function __get_merged_table__ merge the rgb and z tables together and format it in a way it is digestible for further analysis."
   ]
  },
  {
   "cell_type": "code",
   "execution_count": 3,
   "metadata": {
    "scrolled": false
   },
   "outputs": [
    {
     "name": "stderr",
     "output_type": "stream",
     "text": [
      "C:\\conda3\\envs\\sandpyper_env\\lib\\site-packages\\geopandas\\geodataframe.py:422: RuntimeWarning: Sequential read of iterator was interrupted. Resetting iterator. This can negatively impact the performance.\n",
      "  for feature in features_lst:\n"
     ]
    },
    {
     "name": "stdout",
     "output_type": "stream",
     "text": [
      "Wall time: 53.6 s\n"
     ]
    }
   ],
   "source": [
    "%%time\n",
    "\n",
    "#Loading the tables\n",
    "\n",
    "rgb_table_path=r\"C:\\my_packages\\doc_data\\profiles\\rgb.csv\"\n",
    "z_table_path=r\"C:\\my_packages\\doc_data\\profiles\\elevation.csv\"\n",
    "\n",
    "rgb_table=gpd.read_file(rgb_table_path)\n",
    "z_table=gpd.read_file(z_table_path)\n",
    "\n",
    "# As the distance (across-transect) comes from an interpolation, it has too many digits.\n",
    "# let's round both tables distance columns to 2 significant values and assign their data type as \"float\".\n",
    "\n",
    "rgb_table[\"distance\"]=np.round(rgb_table.loc[:,\"distance\"].values.astype(\"float\"),2)\n",
    "z_table[\"distance\"]=np.round(z_table.loc[:,\"distance\"].values.astype(\"float\"),2)"
   ]
  },
  {
   "cell_type": "markdown",
   "metadata": {},
   "source": [
    "Storing Geodataframes as CSV is handy, but __we lose the column data type information__.\n",
    "Especially important is the __geometry column__, which we need to convert back into __Shapely Point object format__.\n",
    "To do that, the function __coords_to_points__ can be used across a Series ('geometry'). It can take quite a bit of time, so, if you have a lot of points, get ready!"
   ]
  },
  {
   "cell_type": "code",
   "execution_count": 4,
   "metadata": {},
   "outputs": [
    {
     "data": {
      "text/html": [
       "<div>\n",
       "<style scoped>\n",
       "    .dataframe tbody tr th:only-of-type {\n",
       "        vertical-align: middle;\n",
       "    }\n",
       "\n",
       "    .dataframe tbody tr th {\n",
       "        vertical-align: top;\n",
       "    }\n",
       "\n",
       "    .dataframe thead th {\n",
       "        text-align: right;\n",
       "    }\n",
       "</style>\n",
       "<table border=\"1\" class=\"dataframe\">\n",
       "  <thead>\n",
       "    <tr style=\"text-align: right;\">\n",
       "      <th></th>\n",
       "      <th>distance</th>\n",
       "      <th>z</th>\n",
       "      <th>tr_id</th>\n",
       "      <th>raw_date</th>\n",
       "      <th>coordinates</th>\n",
       "      <th>location</th>\n",
       "      <th>survey_date</th>\n",
       "      <th>point_id</th>\n",
       "      <th>x</th>\n",
       "      <th>y</th>\n",
       "      <th>geometry</th>\n",
       "    </tr>\n",
       "  </thead>\n",
       "  <tbody>\n",
       "    <tr>\n",
       "      <th>0</th>\n",
       "      <td>0.0</td>\n",
       "      <td>-0.00419507035985589</td>\n",
       "      <td>21</td>\n",
       "      <td>20190516</td>\n",
       "      <td>POINT (731646.903760184 5705523.468988597)</td>\n",
       "      <td>mar</td>\n",
       "      <td>2019-05-16</td>\n",
       "      <td>61121091m2580400ar00</td>\n",
       "      <td>731646.903760184</td>\n",
       "      <td>5705523.468988597</td>\n",
       "      <td>POINT (731646.904 5705523.469)</td>\n",
       "    </tr>\n",
       "    <tr>\n",
       "      <th>1</th>\n",
       "      <td>0.1</td>\n",
       "      <td>-0.004195598419755697</td>\n",
       "      <td>21</td>\n",
       "      <td>20190516</td>\n",
       "      <td>POINT (731646.8212142694 5705523.525434784)</td>\n",
       "      <td>mar</td>\n",
       "      <td>2019-05-16</td>\n",
       "      <td>61126091m2590410ar00</td>\n",
       "      <td>731646.8212142694</td>\n",
       "      <td>5705523.525434784</td>\n",
       "      <td>POINT (731646.821 5705523.525)</td>\n",
       "    </tr>\n",
       "    <tr>\n",
       "      <th>2</th>\n",
       "      <td>0.2</td>\n",
       "      <td>-0.0041948105208575726</td>\n",
       "      <td>21</td>\n",
       "      <td>20190516</td>\n",
       "      <td>POINT (731646.7386683549 5705523.581880971)</td>\n",
       "      <td>mar</td>\n",
       "      <td>2019-05-16</td>\n",
       "      <td>61125091m2540920ar00</td>\n",
       "      <td>731646.7386683549</td>\n",
       "      <td>5705523.581880971</td>\n",
       "      <td>POINT (731646.739 5705523.582)</td>\n",
       "    </tr>\n",
       "    <tr>\n",
       "      <th>3</th>\n",
       "      <td>0.3</td>\n",
       "      <td>-0.00419514998793602</td>\n",
       "      <td>21</td>\n",
       "      <td>20190516</td>\n",
       "      <td>POINT (731646.6561224404 5705523.638327157)</td>\n",
       "      <td>mar</td>\n",
       "      <td>2019-05-16</td>\n",
       "      <td>61124091m2500430ar00</td>\n",
       "      <td>731646.6561224404</td>\n",
       "      <td>5705523.638327157</td>\n",
       "      <td>POINT (731646.656 5705523.638)</td>\n",
       "    </tr>\n",
       "    <tr>\n",
       "      <th>4</th>\n",
       "      <td>0.4</td>\n",
       "      <td>-0.004195665940642357</td>\n",
       "      <td>21</td>\n",
       "      <td>20190516</td>\n",
       "      <td>POINT (731646.5735765258 5705523.694773344)</td>\n",
       "      <td>mar</td>\n",
       "      <td>2019-05-16</td>\n",
       "      <td>61122091m2550840ar00</td>\n",
       "      <td>731646.5735765258</td>\n",
       "      <td>5705523.694773344</td>\n",
       "      <td>POINT (731646.574 5705523.695)</td>\n",
       "    </tr>\n",
       "  </tbody>\n",
       "</table>\n",
       "</div>"
      ],
      "text/plain": [
       "   distance                       z tr_id  raw_date  \\\n",
       "0       0.0    -0.00419507035985589    21  20190516   \n",
       "1       0.1   -0.004195598419755697    21  20190516   \n",
       "2       0.2  -0.0041948105208575726    21  20190516   \n",
       "3       0.3    -0.00419514998793602    21  20190516   \n",
       "4       0.4   -0.004195665940642357    21  20190516   \n",
       "\n",
       "                                   coordinates location survey_date  \\\n",
       "0   POINT (731646.903760184 5705523.468988597)      mar  2019-05-16   \n",
       "1  POINT (731646.8212142694 5705523.525434784)      mar  2019-05-16   \n",
       "2  POINT (731646.7386683549 5705523.581880971)      mar  2019-05-16   \n",
       "3  POINT (731646.6561224404 5705523.638327157)      mar  2019-05-16   \n",
       "4  POINT (731646.5735765258 5705523.694773344)      mar  2019-05-16   \n",
       "\n",
       "               point_id                  x                  y  \\\n",
       "0  61121091m2580400ar00   731646.903760184  5705523.468988597   \n",
       "1  61126091m2590410ar00  731646.8212142694  5705523.525434784   \n",
       "2  61125091m2540920ar00  731646.7386683549  5705523.581880971   \n",
       "3  61124091m2500430ar00  731646.6561224404  5705523.638327157   \n",
       "4  61122091m2550840ar00  731646.5735765258  5705523.694773344   \n",
       "\n",
       "                         geometry  \n",
       "0  POINT (731646.904 5705523.469)  \n",
       "1  POINT (731646.821 5705523.525)  \n",
       "2  POINT (731646.739 5705523.582)  \n",
       "3  POINT (731646.656 5705523.638)  \n",
       "4  POINT (731646.574 5705523.695)  "
      ]
     },
     "execution_count": 4,
     "metadata": {},
     "output_type": "execute_result"
    }
   ],
   "source": [
    "rgb_table['geometry']=rgb_table.coordinates.apply(coords_to_points)\n",
    "z_table['geometry']=z_table.coordinates.apply(coords_to_points)\n",
    "\n",
    "z_table.head()"
   ]
  },
  {
   "cell_type": "code",
   "execution_count": 5,
   "metadata": {},
   "outputs": [
    {
     "data": {
      "text/html": [
       "<div>\n",
       "<style scoped>\n",
       "    .dataframe tbody tr th:only-of-type {\n",
       "        vertical-align: middle;\n",
       "    }\n",
       "\n",
       "    .dataframe tbody tr th {\n",
       "        vertical-align: top;\n",
       "    }\n",
       "\n",
       "    .dataframe thead th {\n",
       "        text-align: right;\n",
       "    }\n",
       "</style>\n",
       "<table border=\"1\" class=\"dataframe\">\n",
       "  <thead>\n",
       "    <tr style=\"text-align: right;\">\n",
       "      <th></th>\n",
       "      <th>distance</th>\n",
       "      <th>z</th>\n",
       "      <th>tr_id</th>\n",
       "      <th>raw_date</th>\n",
       "      <th>coordinates</th>\n",
       "      <th>location</th>\n",
       "      <th>survey_date</th>\n",
       "      <th>point_id</th>\n",
       "      <th>x</th>\n",
       "      <th>y</th>\n",
       "      <th>geometry</th>\n",
       "      <th>band1</th>\n",
       "      <th>band2</th>\n",
       "      <th>band3</th>\n",
       "    </tr>\n",
       "  </thead>\n",
       "  <tbody>\n",
       "    <tr>\n",
       "      <th>0</th>\n",
       "      <td>0.0</td>\n",
       "      <td>-0.004195</td>\n",
       "      <td>21</td>\n",
       "      <td>20190516</td>\n",
       "      <td>POINT (731646.903760184 5705523.468988597)</td>\n",
       "      <td>mar</td>\n",
       "      <td>2019-05-16</td>\n",
       "      <td>61121091m2580400ar00</td>\n",
       "      <td>731646.903760184</td>\n",
       "      <td>5705523.468988597</td>\n",
       "      <td>POINT (731646.904 5705523.469)</td>\n",
       "      <td>110.0</td>\n",
       "      <td>131.0</td>\n",
       "      <td>119.0</td>\n",
       "    </tr>\n",
       "    <tr>\n",
       "      <th>1</th>\n",
       "      <td>0.1</td>\n",
       "      <td>-0.004196</td>\n",
       "      <td>21</td>\n",
       "      <td>20190516</td>\n",
       "      <td>POINT (731646.8212142694 5705523.525434784)</td>\n",
       "      <td>mar</td>\n",
       "      <td>2019-05-16</td>\n",
       "      <td>61126091m2590410ar00</td>\n",
       "      <td>731646.8212142694</td>\n",
       "      <td>5705523.525434784</td>\n",
       "      <td>POINT (731646.821 5705523.525)</td>\n",
       "      <td>124.0</td>\n",
       "      <td>145.0</td>\n",
       "      <td>133.0</td>\n",
       "    </tr>\n",
       "    <tr>\n",
       "      <th>2</th>\n",
       "      <td>0.2</td>\n",
       "      <td>-0.004195</td>\n",
       "      <td>21</td>\n",
       "      <td>20190516</td>\n",
       "      <td>POINT (731646.7386683549 5705523.581880971)</td>\n",
       "      <td>mar</td>\n",
       "      <td>2019-05-16</td>\n",
       "      <td>61125091m2540920ar00</td>\n",
       "      <td>731646.7386683549</td>\n",
       "      <td>5705523.581880971</td>\n",
       "      <td>POINT (731646.739 5705523.582)</td>\n",
       "      <td>113.0</td>\n",
       "      <td>133.0</td>\n",
       "      <td>121.0</td>\n",
       "    </tr>\n",
       "    <tr>\n",
       "      <th>3</th>\n",
       "      <td>0.3</td>\n",
       "      <td>-0.004195</td>\n",
       "      <td>21</td>\n",
       "      <td>20190516</td>\n",
       "      <td>POINT (731646.6561224404 5705523.638327157)</td>\n",
       "      <td>mar</td>\n",
       "      <td>2019-05-16</td>\n",
       "      <td>61124091m2500430ar00</td>\n",
       "      <td>731646.6561224404</td>\n",
       "      <td>5705523.638327157</td>\n",
       "      <td>POINT (731646.656 5705523.638)</td>\n",
       "      <td>124.0</td>\n",
       "      <td>143.0</td>\n",
       "      <td>132.0</td>\n",
       "    </tr>\n",
       "    <tr>\n",
       "      <th>4</th>\n",
       "      <td>0.4</td>\n",
       "      <td>-0.004196</td>\n",
       "      <td>21</td>\n",
       "      <td>20190516</td>\n",
       "      <td>POINT (731646.5735765258 5705523.694773344)</td>\n",
       "      <td>mar</td>\n",
       "      <td>2019-05-16</td>\n",
       "      <td>61122091m2550840ar00</td>\n",
       "      <td>731646.5735765258</td>\n",
       "      <td>5705523.694773344</td>\n",
       "      <td>POINT (731646.574 5705523.695)</td>\n",
       "      <td>117.0</td>\n",
       "      <td>137.0</td>\n",
       "      <td>125.0</td>\n",
       "    </tr>\n",
       "  </tbody>\n",
       "</table>\n",
       "</div>"
      ],
      "text/plain": [
       "   distance         z tr_id  raw_date  \\\n",
       "0       0.0 -0.004195    21  20190516   \n",
       "1       0.1 -0.004196    21  20190516   \n",
       "2       0.2 -0.004195    21  20190516   \n",
       "3       0.3 -0.004195    21  20190516   \n",
       "4       0.4 -0.004196    21  20190516   \n",
       "\n",
       "                                   coordinates location survey_date  \\\n",
       "0   POINT (731646.903760184 5705523.468988597)      mar  2019-05-16   \n",
       "1  POINT (731646.8212142694 5705523.525434784)      mar  2019-05-16   \n",
       "2  POINT (731646.7386683549 5705523.581880971)      mar  2019-05-16   \n",
       "3  POINT (731646.6561224404 5705523.638327157)      mar  2019-05-16   \n",
       "4  POINT (731646.5735765258 5705523.694773344)      mar  2019-05-16   \n",
       "\n",
       "               point_id                  x                  y  \\\n",
       "0  61121091m2580400ar00   731646.903760184  5705523.468988597   \n",
       "1  61126091m2590410ar00  731646.8212142694  5705523.525434784   \n",
       "2  61125091m2540920ar00  731646.7386683549  5705523.581880971   \n",
       "3  61124091m2500430ar00  731646.6561224404  5705523.638327157   \n",
       "4  61122091m2550840ar00  731646.5735765258  5705523.694773344   \n",
       "\n",
       "                         geometry  band1  band2  band3  \n",
       "0  POINT (731646.904 5705523.469)  110.0  131.0  119.0  \n",
       "1  POINT (731646.821 5705523.525)  124.0  145.0  133.0  \n",
       "2  POINT (731646.739 5705523.582)  113.0  133.0  121.0  \n",
       "3  POINT (731646.656 5705523.638)  124.0  143.0  132.0  \n",
       "4  POINT (731646.574 5705523.695)  117.0  137.0  125.0  "
      ]
     },
     "execution_count": 5,
     "metadata": {},
     "output_type": "execute_result"
    }
   ],
   "source": [
    "# Here, we merge the two tables (storing elevation and rgb information)\n",
    "\n",
    "data_merged = pd.merge(z_table,rgb_table[[\"band1\",\"band2\",\"band3\",\"point_id\"]],on=\"point_id\",validate=\"one_to_one\")\n",
    "\n",
    "# replace empty values with np.NaN\n",
    "data_merged=data_merged.replace(\"\", np.NaN)\n",
    "\n",
    "# and convert the z column into floats.\n",
    "data_merged['z']=data_merged.z.astype(\"float\")\n",
    "\n",
    "data_merged.head()"
   ]
  },
  {
   "cell_type": "code",
   "execution_count": 6,
   "metadata": {},
   "outputs": [
    {
     "data": {
      "text/html": [
       "<div>\n",
       "<style scoped>\n",
       "    .dataframe tbody tr th:only-of-type {\n",
       "        vertical-align: middle;\n",
       "    }\n",
       "\n",
       "    .dataframe tbody tr th {\n",
       "        vertical-align: top;\n",
       "    }\n",
       "\n",
       "    .dataframe thead th {\n",
       "        text-align: right;\n",
       "    }\n",
       "</style>\n",
       "<table border=\"1\" class=\"dataframe\">\n",
       "  <thead>\n",
       "    <tr style=\"text-align: right;\">\n",
       "      <th></th>\n",
       "      <th>distance</th>\n",
       "      <th>z</th>\n",
       "      <th>tr_id</th>\n",
       "      <th>raw_date</th>\n",
       "      <th>coordinates</th>\n",
       "      <th>location</th>\n",
       "      <th>survey_date</th>\n",
       "      <th>point_id</th>\n",
       "      <th>x</th>\n",
       "      <th>y</th>\n",
       "      <th>geometry</th>\n",
       "      <th>band1</th>\n",
       "      <th>band2</th>\n",
       "      <th>band3</th>\n",
       "      <th>slope</th>\n",
       "      <th>curve</th>\n",
       "    </tr>\n",
       "  </thead>\n",
       "  <tbody>\n",
       "    <tr>\n",
       "      <th>0</th>\n",
       "      <td>0.0</td>\n",
       "      <td>-0.004195</td>\n",
       "      <td>21</td>\n",
       "      <td>20190516</td>\n",
       "      <td>POINT (731646.903760184 5705523.468988597)</td>\n",
       "      <td>mar</td>\n",
       "      <td>2019-05-16</td>\n",
       "      <td>61121091m2580400ar00</td>\n",
       "      <td>731646.903760184</td>\n",
       "      <td>5705523.468988597</td>\n",
       "      <td>POINT (731646.904 5705523.469)</td>\n",
       "      <td>110.0</td>\n",
       "      <td>131.0</td>\n",
       "      <td>119.0</td>\n",
       "      <td>-5.280599e-07</td>\n",
       "      <td>6.579794e-07</td>\n",
       "    </tr>\n",
       "    <tr>\n",
       "      <th>1</th>\n",
       "      <td>0.1</td>\n",
       "      <td>-0.004196</td>\n",
       "      <td>21</td>\n",
       "      <td>20190516</td>\n",
       "      <td>POINT (731646.8212142694 5705523.525434784)</td>\n",
       "      <td>mar</td>\n",
       "      <td>2019-05-16</td>\n",
       "      <td>61126091m2590410ar00</td>\n",
       "      <td>731646.8212142694</td>\n",
       "      <td>5705523.525434784</td>\n",
       "      <td>POINT (731646.821 5705523.525)</td>\n",
       "      <td>124.0</td>\n",
       "      <td>145.0</td>\n",
       "      <td>133.0</td>\n",
       "      <td>1.299195e-07</td>\n",
       "      <td>3.761379e-07</td>\n",
       "    </tr>\n",
       "    <tr>\n",
       "      <th>2</th>\n",
       "      <td>0.2</td>\n",
       "      <td>-0.004195</td>\n",
       "      <td>21</td>\n",
       "      <td>20190516</td>\n",
       "      <td>POINT (731646.7386683549 5705523.581880971)</td>\n",
       "      <td>mar</td>\n",
       "      <td>2019-05-16</td>\n",
       "      <td>61125091m2540920ar00</td>\n",
       "      <td>731646.7386683549</td>\n",
       "      <td>5705523.581880971</td>\n",
       "      <td>POINT (731646.739 5705523.582)</td>\n",
       "      <td>113.0</td>\n",
       "      <td>133.0</td>\n",
       "      <td>121.0</td>\n",
       "      <td>2.242159e-07</td>\n",
       "      <td>-2.788147e-07</td>\n",
       "    </tr>\n",
       "    <tr>\n",
       "      <th>3</th>\n",
       "      <td>0.3</td>\n",
       "      <td>-0.004195</td>\n",
       "      <td>21</td>\n",
       "      <td>20190516</td>\n",
       "      <td>POINT (731646.6561224404 5705523.638327157)</td>\n",
       "      <td>mar</td>\n",
       "      <td>2019-05-16</td>\n",
       "      <td>61124091m2500430ar00</td>\n",
       "      <td>731646.6561224404</td>\n",
       "      <td>5705523.638327157</td>\n",
       "      <td>POINT (731646.656 5705523.638)</td>\n",
       "      <td>124.0</td>\n",
       "      <td>143.0</td>\n",
       "      <td>132.0</td>\n",
       "      <td>-4.277099e-07</td>\n",
       "      <td>-2.410961e-07</td>\n",
       "    </tr>\n",
       "    <tr>\n",
       "      <th>4</th>\n",
       "      <td>0.4</td>\n",
       "      <td>-0.004196</td>\n",
       "      <td>21</td>\n",
       "      <td>20190516</td>\n",
       "      <td>POINT (731646.5735765258 5705523.694773344)</td>\n",
       "      <td>mar</td>\n",
       "      <td>2019-05-16</td>\n",
       "      <td>61122091m2550840ar00</td>\n",
       "      <td>731646.5735765258</td>\n",
       "      <td>5705523.694773344</td>\n",
       "      <td>POINT (731646.574 5705523.695)</td>\n",
       "      <td>117.0</td>\n",
       "      <td>137.0</td>\n",
       "      <td>125.0</td>\n",
       "      <td>-2.579764e-07</td>\n",
       "      <td>-4.051253e-08</td>\n",
       "    </tr>\n",
       "  </tbody>\n",
       "</table>\n",
       "</div>"
      ],
      "text/plain": [
       "   distance         z tr_id  raw_date  \\\n",
       "0       0.0 -0.004195    21  20190516   \n",
       "1       0.1 -0.004196    21  20190516   \n",
       "2       0.2 -0.004195    21  20190516   \n",
       "3       0.3 -0.004195    21  20190516   \n",
       "4       0.4 -0.004196    21  20190516   \n",
       "\n",
       "                                   coordinates location survey_date  \\\n",
       "0   POINT (731646.903760184 5705523.468988597)      mar  2019-05-16   \n",
       "1  POINT (731646.8212142694 5705523.525434784)      mar  2019-05-16   \n",
       "2  POINT (731646.7386683549 5705523.581880971)      mar  2019-05-16   \n",
       "3  POINT (731646.6561224404 5705523.638327157)      mar  2019-05-16   \n",
       "4  POINT (731646.5735765258 5705523.694773344)      mar  2019-05-16   \n",
       "\n",
       "               point_id                  x                  y  \\\n",
       "0  61121091m2580400ar00   731646.903760184  5705523.468988597   \n",
       "1  61126091m2590410ar00  731646.8212142694  5705523.525434784   \n",
       "2  61125091m2540920ar00  731646.7386683549  5705523.581880971   \n",
       "3  61124091m2500430ar00  731646.6561224404  5705523.638327157   \n",
       "4  61122091m2550840ar00  731646.5735765258  5705523.694773344   \n",
       "\n",
       "                         geometry  band1  band2  band3         slope  \\\n",
       "0  POINT (731646.904 5705523.469)  110.0  131.0  119.0 -5.280599e-07   \n",
       "1  POINT (731646.821 5705523.525)  124.0  145.0  133.0  1.299195e-07   \n",
       "2  POINT (731646.739 5705523.582)  113.0  133.0  121.0  2.242159e-07   \n",
       "3  POINT (731646.656 5705523.638)  124.0  143.0  132.0 -4.277099e-07   \n",
       "4  POINT (731646.574 5705523.695)  117.0  137.0  125.0 -2.579764e-07   \n",
       "\n",
       "          curve  \n",
       "0  6.579794e-07  \n",
       "1  3.761379e-07  \n",
       "2 -2.788147e-07  \n",
       "3 -2.410961e-07  \n",
       "4 -4.051253e-08  "
      ]
     },
     "execution_count": 6,
     "metadata": {},
     "output_type": "execute_result"
    }
   ],
   "source": [
    "# Here, we add two features, slope and curvature, computed from the elevation series,\n",
    "# in case we wnat to use for KMeans clustering.\n",
    "# Note that when passing from one transect to another, slope and curvature computations are wrong.\n",
    "# However, we will clip those areas as they are in the water or in the backdune.\n",
    "\n",
    "data_merged[\"slope\"]=np.gradient(data_merged.z)\n",
    "data_merged[\"curve\"]=np.gradient(data_merged.slope)\n",
    "\n",
    "data_merged.head()"
   ]
  },
  {
   "cell_type": "code",
   "execution_count": 7,
   "metadata": {},
   "outputs": [],
   "source": [
    "# Our rasters have NaN values set to -32767.0. Thus, we replace them with np.Nan.\n",
    "data_merged.z.replace(-32767.0,np.nan,inplace=True)"
   ]
  },
  {
   "cell_type": "markdown",
   "metadata": {},
   "source": [
    "## Iterative silhouette analysis"
   ]
  },
  {
   "cell_type": "markdown",
   "metadata": {},
   "source": [
    "\n",
    "The __get_sil_location__ function will iteratively perform KMeans clustering and Silhouette Analysis with increasing number of clusters (k, specified in the `ks` parameter) for every survey, using the feature set specified in the parameter `feature_set`.\n",
    "\n",
    "This will return a dataframe with Average Silhouette scores with different k for all surveys, which we use to find sub-optimal number of clusters with __get_opt_k__ function.\n",
    "\n",
    "Then, with the sub-optimal k, we finally run KMeans with __kmeans_sa__ function on all the surveys to obtain clustered points to visually discriminate between sand and non-sand in a Qgis environment."
   ]
  },
  {
   "cell_type": "code",
   "execution_count": 8,
   "metadata": {
    "scrolled": true
   },
   "outputs": [
    {
     "data": {
      "application/vnd.jupyter.widget-view+json": {
       "model_id": "cdacf625b9fa4a81827ff250c70f8937",
       "version_major": 2,
       "version_minor": 0
      },
      "text/plain": [
       "  0%|          | 0/2 [00:00<?, ?it/s]"
      ]
     },
     "metadata": {},
     "output_type": "display_data"
    },
    {
     "data": {
      "application/vnd.jupyter.widget-view+json": {
       "model_id": "0bacfdc6c0f04df5bfbc35c6950579fa",
       "version_major": 2,
       "version_minor": 0
      },
      "text/plain": [
       "  0%|          | 0/9 [00:00<?, ?it/s]"
      ]
     },
     "metadata": {},
     "output_type": "display_data"
    },
    {
     "name": "stdout",
     "output_type": "stream",
     "text": [
      "Working on : mar, 2019-05-16.\n"
     ]
    },
    {
     "data": {
      "application/vnd.jupyter.widget-view+json": {
       "model_id": "2b088b1194e447e1a7d5966669099c94",
       "version_major": 2,
       "version_minor": 0
      },
      "text/plain": [
       "  0%|          | 0/28 [00:00<?, ?it/s]"
      ]
     },
     "metadata": {},
     "output_type": "display_data"
    },
    {
     "name": "stdout",
     "output_type": "stream",
     "text": [
      "For n_clusters = 2 The average silhouette_score is : 0.6862075501506316\n",
      "For n_clusters = 3 The average silhouette_score is : 0.513965444380363\n",
      "For n_clusters = 4 The average silhouette_score is : 0.5428028774353153\n",
      "For n_clusters = 5 The average silhouette_score is : 0.5083834521453034\n",
      "For n_clusters = 6 The average silhouette_score is : 0.47467070127521116\n",
      "For n_clusters = 7 The average silhouette_score is : 0.465572322824415\n",
      "For n_clusters = 8 The average silhouette_score is : 0.4364300120091992\n",
      "For n_clusters = 9 The average silhouette_score is : 0.44206467829932033\n",
      "For n_clusters = 10 The average silhouette_score is : 0.41485117577947894\n",
      "For n_clusters = 11 The average silhouette_score is : 0.41251112197505874\n",
      "For n_clusters = 12 The average silhouette_score is : 0.3962539435788235\n",
      "For n_clusters = 13 The average silhouette_score is : 0.41004443532804863\n",
      "For n_clusters = 14 The average silhouette_score is : 0.4143684457737213\n",
      "For n_clusters = 15 The average silhouette_score is : 0.41233898556164944\n",
      "For n_clusters = 16 The average silhouette_score is : 0.3935337795000377\n",
      "For n_clusters = 17 The average silhouette_score is : 0.38483451559726545\n",
      "For n_clusters = 18 The average silhouette_score is : 0.3748985561157502\n",
      "For n_clusters = 19 The average silhouette_score is : 0.36947469041892783\n",
      "For n_clusters = 20 The average silhouette_score is : 0.3736090785018159\n",
      "For n_clusters = 21 The average silhouette_score is : 0.37735897849610267\n",
      "For n_clusters = 22 The average silhouette_score is : 0.36565575197603656\n",
      "For n_clusters = 23 The average silhouette_score is : 0.3727435476974753\n",
      "For n_clusters = 24 The average silhouette_score is : 0.36930296027456055\n",
      "For n_clusters = 25 The average silhouette_score is : 0.37080980368228494\n",
      "For n_clusters = 26 The average silhouette_score is : 0.3735035492724989\n",
      "For n_clusters = 27 The average silhouette_score is : 0.3523617530603995\n",
      "For n_clusters = 28 The average silhouette_score is : 0.36751516076433366\n",
      "For n_clusters = 29 The average silhouette_score is : 0.3533740588056932\n",
      "Working on : mar, 2019-03-13.\n"
     ]
    },
    {
     "data": {
      "application/vnd.jupyter.widget-view+json": {
       "model_id": "62b69a3a724a40b58b7fbd98d48f391a",
       "version_major": 2,
       "version_minor": 0
      },
      "text/plain": [
       "  0%|          | 0/28 [00:00<?, ?it/s]"
      ]
     },
     "metadata": {},
     "output_type": "display_data"
    },
    {
     "name": "stdout",
     "output_type": "stream",
     "text": [
      "For n_clusters = 2 The average silhouette_score is : 0.6170867984187076\n",
      "For n_clusters = 3 The average silhouette_score is : 0.5142944562633687\n",
      "For n_clusters = 4 The average silhouette_score is : 0.5195153673762395\n",
      "For n_clusters = 5 The average silhouette_score is : 0.47126418883658083\n",
      "For n_clusters = 6 The average silhouette_score is : 0.465070736254574\n",
      "For n_clusters = 7 The average silhouette_score is : 0.43477801971798896\n",
      "For n_clusters = 8 The average silhouette_score is : 0.4175784024938606\n",
      "For n_clusters = 9 The average silhouette_score is : 0.40440453681363747\n",
      "For n_clusters = 10 The average silhouette_score is : 0.39952388915266024\n",
      "For n_clusters = 11 The average silhouette_score is : 0.39487531935869014\n",
      "For n_clusters = 12 The average silhouette_score is : 0.38658389129783677\n",
      "For n_clusters = 13 The average silhouette_score is : 0.38709288253414315\n",
      "For n_clusters = 14 The average silhouette_score is : 0.3696316187549434\n",
      "For n_clusters = 15 The average silhouette_score is : 0.3951898094557506\n",
      "For n_clusters = 16 The average silhouette_score is : 0.37299608527751543\n",
      "For n_clusters = 17 The average silhouette_score is : 0.3770700894766363\n",
      "For n_clusters = 18 The average silhouette_score is : 0.3613807838749929\n",
      "For n_clusters = 19 The average silhouette_score is : 0.36315159303276096\n",
      "For n_clusters = 20 The average silhouette_score is : 0.36849932854527273\n",
      "For n_clusters = 21 The average silhouette_score is : 0.37200261943545426\n",
      "For n_clusters = 22 The average silhouette_score is : 0.35688975363664716\n",
      "For n_clusters = 23 The average silhouette_score is : 0.3572312315559716\n",
      "For n_clusters = 24 The average silhouette_score is : 0.35361425827985943\n",
      "For n_clusters = 25 The average silhouette_score is : 0.3574992147154818\n",
      "For n_clusters = 26 The average silhouette_score is : 0.35522537446017804\n",
      "For n_clusters = 27 The average silhouette_score is : 0.3606909052437971\n",
      "For n_clusters = 28 The average silhouette_score is : 0.3583456307807083\n",
      "For n_clusters = 29 The average silhouette_score is : 0.3458995257535087\n",
      "Working on : mar, 2019-02-05.\n"
     ]
    },
    {
     "data": {
      "application/vnd.jupyter.widget-view+json": {
       "model_id": "d879fc97548c4250a19213d28098f597",
       "version_major": 2,
       "version_minor": 0
      },
      "text/plain": [
       "  0%|          | 0/28 [00:00<?, ?it/s]"
      ]
     },
     "metadata": {},
     "output_type": "display_data"
    },
    {
     "name": "stdout",
     "output_type": "stream",
     "text": [
      "For n_clusters = 2 The average silhouette_score is : 0.6430665563715819\n",
      "For n_clusters = 3 The average silhouette_score is : 0.540039551346565\n",
      "For n_clusters = 4 The average silhouette_score is : 0.5131406007273728\n",
      "For n_clusters = 5 The average silhouette_score is : 0.4823729912655783\n",
      "For n_clusters = 6 The average silhouette_score is : 0.44326176339783124\n",
      "For n_clusters = 7 The average silhouette_score is : 0.4430877286284131\n",
      "For n_clusters = 8 The average silhouette_score is : 0.42034826101945183\n",
      "For n_clusters = 9 The average silhouette_score is : 0.4080092826522824\n",
      "For n_clusters = 10 The average silhouette_score is : 0.38283631423484177\n",
      "For n_clusters = 11 The average silhouette_score is : 0.39722587925891\n",
      "For n_clusters = 12 The average silhouette_score is : 0.38979063459562935\n",
      "For n_clusters = 13 The average silhouette_score is : 0.39812841463089454\n",
      "For n_clusters = 14 The average silhouette_score is : 0.38572229388337054\n",
      "For n_clusters = 15 The average silhouette_score is : 0.3903898167628041\n",
      "For n_clusters = 16 The average silhouette_score is : 0.37349993685590155\n",
      "For n_clusters = 17 The average silhouette_score is : 0.38354218011178437\n",
      "For n_clusters = 18 The average silhouette_score is : 0.38676746993119027\n",
      "For n_clusters = 19 The average silhouette_score is : 0.38367125158392124\n",
      "For n_clusters = 20 The average silhouette_score is : 0.391622447990845\n",
      "For n_clusters = 21 The average silhouette_score is : 0.37761872248086137\n",
      "For n_clusters = 22 The average silhouette_score is : 0.3764731300531481\n",
      "For n_clusters = 23 The average silhouette_score is : 0.36787663548301014\n",
      "For n_clusters = 24 The average silhouette_score is : 0.36735541603301514\n",
      "For n_clusters = 25 The average silhouette_score is : 0.35551947837131026\n",
      "For n_clusters = 26 The average silhouette_score is : 0.36486093232816513\n",
      "For n_clusters = 27 The average silhouette_score is : 0.35217464288176775\n",
      "For n_clusters = 28 The average silhouette_score is : 0.35297685959958996\n",
      "For n_clusters = 29 The average silhouette_score is : 0.34455524892016304\n",
      "Working on : mar, 2018-12-11.\n"
     ]
    },
    {
     "data": {
      "application/vnd.jupyter.widget-view+json": {
       "model_id": "5c582735372444989b3ac6eb0035a3a2",
       "version_major": 2,
       "version_minor": 0
      },
      "text/plain": [
       "  0%|          | 0/28 [00:00<?, ?it/s]"
      ]
     },
     "metadata": {},
     "output_type": "display_data"
    },
    {
     "name": "stdout",
     "output_type": "stream",
     "text": [
      "For n_clusters = 2 The average silhouette_score is : 0.5630097229928264\n",
      "For n_clusters = 3 The average silhouette_score is : 0.5212375993013656\n",
      "For n_clusters = 4 The average silhouette_score is : 0.515813102750951\n",
      "For n_clusters = 5 The average silhouette_score is : 0.48753135114687446\n",
      "For n_clusters = 6 The average silhouette_score is : 0.44070920054583995\n",
      "For n_clusters = 7 The average silhouette_score is : 0.4153087651471306\n",
      "For n_clusters = 8 The average silhouette_score is : 0.4015114960444891\n",
      "For n_clusters = 9 The average silhouette_score is : 0.38862800052782553\n",
      "For n_clusters = 10 The average silhouette_score is : 0.3774256997879442\n",
      "For n_clusters = 11 The average silhouette_score is : 0.3546759907264308\n",
      "For n_clusters = 12 The average silhouette_score is : 0.370541646606475\n",
      "For n_clusters = 13 The average silhouette_score is : 0.35309092574367906\n",
      "For n_clusters = 14 The average silhouette_score is : 0.37434755814504844\n",
      "For n_clusters = 15 The average silhouette_score is : 0.36783169378208697\n",
      "For n_clusters = 16 The average silhouette_score is : 0.36662673864613676\n",
      "For n_clusters = 17 The average silhouette_score is : 0.36405590689529055\n",
      "For n_clusters = 18 The average silhouette_score is : 0.36050208715650217\n",
      "For n_clusters = 19 The average silhouette_score is : 0.35493370879882546\n",
      "For n_clusters = 20 The average silhouette_score is : 0.3610761444387414\n",
      "For n_clusters = 21 The average silhouette_score is : 0.3495562983700115\n",
      "For n_clusters = 22 The average silhouette_score is : 0.3461640464883765\n",
      "For n_clusters = 23 The average silhouette_score is : 0.33705537261169993\n",
      "For n_clusters = 24 The average silhouette_score is : 0.33624258934996953\n",
      "For n_clusters = 25 The average silhouette_score is : 0.3363584315592351\n",
      "For n_clusters = 26 The average silhouette_score is : 0.33133788396517766\n",
      "For n_clusters = 27 The average silhouette_score is : 0.3272304426065525\n",
      "For n_clusters = 28 The average silhouette_score is : 0.3158834974548302\n",
      "For n_clusters = 29 The average silhouette_score is : 0.3193497996644717\n",
      "Working on : mar, 2018-11-13.\n"
     ]
    },
    {
     "data": {
      "application/vnd.jupyter.widget-view+json": {
       "model_id": "c7ae1922e69c4e5294c18c7e58c09ba9",
       "version_major": 2,
       "version_minor": 0
      },
      "text/plain": [
       "  0%|          | 0/28 [00:00<?, ?it/s]"
      ]
     },
     "metadata": {},
     "output_type": "display_data"
    },
    {
     "name": "stdout",
     "output_type": "stream",
     "text": [
      "For n_clusters = 2 The average silhouette_score is : 0.5960483359838735\n",
      "For n_clusters = 3 The average silhouette_score is : 0.5041751378059506\n",
      "For n_clusters = 4 The average silhouette_score is : 0.5159081118620653\n",
      "For n_clusters = 5 The average silhouette_score is : 0.4489234699169147\n",
      "For n_clusters = 6 The average silhouette_score is : 0.4270668438861502\n",
      "For n_clusters = 7 The average silhouette_score is : 0.4131069945187734\n",
      "For n_clusters = 8 The average silhouette_score is : 0.41345300302916316\n",
      "For n_clusters = 9 The average silhouette_score is : 0.4004290027534702\n",
      "For n_clusters = 10 The average silhouette_score is : 0.39701403124493245\n",
      "For n_clusters = 11 The average silhouette_score is : 0.4040245059489679\n",
      "For n_clusters = 12 The average silhouette_score is : 0.39192378247864457\n",
      "For n_clusters = 13 The average silhouette_score is : 0.3936816845507242\n",
      "For n_clusters = 14 The average silhouette_score is : 0.3936020360388745\n",
      "For n_clusters = 15 The average silhouette_score is : 0.3878089863142632\n",
      "For n_clusters = 16 The average silhouette_score is : 0.3832863238912582\n",
      "For n_clusters = 17 The average silhouette_score is : 0.3820590035013264\n",
      "For n_clusters = 18 The average silhouette_score is : 0.3824888998019748\n",
      "For n_clusters = 19 The average silhouette_score is : 0.37702768002083326\n",
      "For n_clusters = 20 The average silhouette_score is : 0.381272351626801\n",
      "For n_clusters = 21 The average silhouette_score is : 0.3785491610544815\n",
      "For n_clusters = 22 The average silhouette_score is : 0.36222032964560114\n",
      "For n_clusters = 23 The average silhouette_score is : 0.3584557538293359\n",
      "For n_clusters = 24 The average silhouette_score is : 0.3595893687893889\n",
      "For n_clusters = 25 The average silhouette_score is : 0.36229108910870017\n",
      "For n_clusters = 26 The average silhouette_score is : 0.35954099428329706\n",
      "For n_clusters = 27 The average silhouette_score is : 0.34901359297111345\n",
      "For n_clusters = 28 The average silhouette_score is : 0.35510658515900767\n",
      "For n_clusters = 29 The average silhouette_score is : 0.34824853799748695\n",
      "Working on : mar, 2018-09-25.\n"
     ]
    },
    {
     "data": {
      "application/vnd.jupyter.widget-view+json": {
       "model_id": "d63aa44217f84f2dbaa9d407ba1d6979",
       "version_major": 2,
       "version_minor": 0
      },
      "text/plain": [
       "  0%|          | 0/28 [00:00<?, ?it/s]"
      ]
     },
     "metadata": {},
     "output_type": "display_data"
    },
    {
     "name": "stdout",
     "output_type": "stream",
     "text": [
      "For n_clusters = 2 The average silhouette_score is : 0.5850268976114777\n",
      "For n_clusters = 3 The average silhouette_score is : 0.49315265038659256\n",
      "For n_clusters = 4 The average silhouette_score is : 0.48929570479528917\n",
      "For n_clusters = 5 The average silhouette_score is : 0.46559444988644716\n",
      "For n_clusters = 6 The average silhouette_score is : 0.4393599391404145\n",
      "For n_clusters = 7 The average silhouette_score is : 0.42526360173099664\n",
      "For n_clusters = 8 The average silhouette_score is : 0.39568582176959\n",
      "For n_clusters = 9 The average silhouette_score is : 0.37132838162298826\n",
      "For n_clusters = 10 The average silhouette_score is : 0.3612246555121027\n",
      "For n_clusters = 11 The average silhouette_score is : 0.34867917063091836\n",
      "For n_clusters = 12 The average silhouette_score is : 0.35258864437000526\n",
      "For n_clusters = 13 The average silhouette_score is : 0.36597918644405864\n",
      "For n_clusters = 14 The average silhouette_score is : 0.37134537967310943\n",
      "For n_clusters = 15 The average silhouette_score is : 0.3681996209949026\n",
      "For n_clusters = 16 The average silhouette_score is : 0.3713917402616884\n",
      "For n_clusters = 17 The average silhouette_score is : 0.36962153197049125\n",
      "For n_clusters = 18 The average silhouette_score is : 0.3678416823338286\n",
      "For n_clusters = 19 The average silhouette_score is : 0.3663609603989668\n",
      "For n_clusters = 20 The average silhouette_score is : 0.36405548840278407\n",
      "For n_clusters = 21 The average silhouette_score is : 0.36505100488900466\n",
      "For n_clusters = 22 The average silhouette_score is : 0.36589769077095197\n",
      "For n_clusters = 23 The average silhouette_score is : 0.3551635119173418\n",
      "For n_clusters = 24 The average silhouette_score is : 0.35403290631892936\n",
      "For n_clusters = 25 The average silhouette_score is : 0.3455681968952032\n",
      "For n_clusters = 26 The average silhouette_score is : 0.35685249759694504\n",
      "For n_clusters = 27 The average silhouette_score is : 0.3419740600272358\n",
      "For n_clusters = 28 The average silhouette_score is : 0.34617896731401665\n",
      "For n_clusters = 29 The average silhouette_score is : 0.3369702088250418\n",
      "Working on : mar, 2018-07-27.\n"
     ]
    },
    {
     "data": {
      "application/vnd.jupyter.widget-view+json": {
       "model_id": "ab3b769be0fb44da84e3ea11a0e082e4",
       "version_major": 2,
       "version_minor": 0
      },
      "text/plain": [
       "  0%|          | 0/28 [00:00<?, ?it/s]"
      ]
     },
     "metadata": {},
     "output_type": "display_data"
    },
    {
     "name": "stdout",
     "output_type": "stream",
     "text": [
      "For n_clusters = 2 The average silhouette_score is : 0.5677145662920096\n",
      "For n_clusters = 3 The average silhouette_score is : 0.48182655237293553\n",
      "For n_clusters = 4 The average silhouette_score is : 0.42523725543229224\n",
      "For n_clusters = 5 The average silhouette_score is : 0.3834221826431047\n",
      "For n_clusters = 6 The average silhouette_score is : 0.40465753675032734\n",
      "For n_clusters = 7 The average silhouette_score is : 0.37021218431083175\n",
      "For n_clusters = 8 The average silhouette_score is : 0.37197001169108596\n",
      "For n_clusters = 9 The average silhouette_score is : 0.3656554148141353\n",
      "For n_clusters = 10 The average silhouette_score is : 0.35679455551789435\n",
      "For n_clusters = 11 The average silhouette_score is : 0.3534434482651074\n",
      "For n_clusters = 12 The average silhouette_score is : 0.35974696682495977\n",
      "For n_clusters = 13 The average silhouette_score is : 0.3614984412200758\n",
      "For n_clusters = 14 The average silhouette_score is : 0.35599229486107076\n",
      "For n_clusters = 15 The average silhouette_score is : 0.35236237050040764\n",
      "For n_clusters = 16 The average silhouette_score is : 0.3465181327222462\n",
      "For n_clusters = 17 The average silhouette_score is : 0.3467220272847178\n",
      "For n_clusters = 18 The average silhouette_score is : 0.3506342106944456\n",
      "For n_clusters = 19 The average silhouette_score is : 0.3409299120076442\n",
      "For n_clusters = 20 The average silhouette_score is : 0.3417533172761562\n",
      "For n_clusters = 21 The average silhouette_score is : 0.3318653158736339\n",
      "For n_clusters = 22 The average silhouette_score is : 0.3345950912889665\n",
      "For n_clusters = 23 The average silhouette_score is : 0.32815842664845524\n",
      "For n_clusters = 24 The average silhouette_score is : 0.33093382076000355\n",
      "For n_clusters = 25 The average silhouette_score is : 0.3292382789959992\n",
      "For n_clusters = 26 The average silhouette_score is : 0.3267361096288008\n",
      "For n_clusters = 27 The average silhouette_score is : 0.3243260618926557\n",
      "For n_clusters = 28 The average silhouette_score is : 0.3292822986034385\n",
      "For n_clusters = 29 The average silhouette_score is : 0.3275032283073149\n",
      "Working on : mar, 2018-06-21.\n"
     ]
    },
    {
     "data": {
      "application/vnd.jupyter.widget-view+json": {
       "model_id": "d2135790152b4c73903e307534fea29b",
       "version_major": 2,
       "version_minor": 0
      },
      "text/plain": [
       "  0%|          | 0/28 [00:00<?, ?it/s]"
      ]
     },
     "metadata": {},
     "output_type": "display_data"
    },
    {
     "name": "stdout",
     "output_type": "stream",
     "text": [
      "For n_clusters = 2 The average silhouette_score is : 0.5899185922864892\n",
      "For n_clusters = 3 The average silhouette_score is : 0.5030361512719422\n",
      "For n_clusters = 4 The average silhouette_score is : 0.4690920099023971\n",
      "For n_clusters = 5 The average silhouette_score is : 0.4295523520949522\n",
      "For n_clusters = 6 The average silhouette_score is : 0.4085400116379133\n",
      "For n_clusters = 7 The average silhouette_score is : 0.3863089140731913\n",
      "For n_clusters = 8 The average silhouette_score is : 0.3885856913871781\n",
      "For n_clusters = 9 The average silhouette_score is : 0.3847808822897427\n",
      "For n_clusters = 10 The average silhouette_score is : 0.38179005393001697\n",
      "For n_clusters = 11 The average silhouette_score is : 0.3726650417791217\n",
      "For n_clusters = 12 The average silhouette_score is : 0.38476572079195365\n",
      "For n_clusters = 13 The average silhouette_score is : 0.3910547209526152\n",
      "For n_clusters = 14 The average silhouette_score is : 0.3855257121492227\n",
      "For n_clusters = 15 The average silhouette_score is : 0.3778741813905077\n",
      "For n_clusters = 16 The average silhouette_score is : 0.3812415544361009\n",
      "For n_clusters = 17 The average silhouette_score is : 0.3798030108059324\n",
      "For n_clusters = 18 The average silhouette_score is : 0.371954892161545\n",
      "For n_clusters = 19 The average silhouette_score is : 0.36578570719937803\n",
      "For n_clusters = 20 The average silhouette_score is : 0.36915292946767936\n",
      "For n_clusters = 21 The average silhouette_score is : 0.36917833686962404\n",
      "For n_clusters = 22 The average silhouette_score is : 0.35317323701677694\n",
      "For n_clusters = 23 The average silhouette_score is : 0.36193845494872334\n",
      "For n_clusters = 24 The average silhouette_score is : 0.35725820701048955\n",
      "For n_clusters = 25 The average silhouette_score is : 0.35807123971159366\n",
      "For n_clusters = 26 The average silhouette_score is : 0.3565877303151287\n",
      "For n_clusters = 27 The average silhouette_score is : 0.35796227378011863\n",
      "For n_clusters = 28 The average silhouette_score is : 0.3527534878526367\n",
      "For n_clusters = 29 The average silhouette_score is : 0.34454025002220473\n",
      "Working on : mar, 2018-06-01.\n"
     ]
    },
    {
     "data": {
      "application/vnd.jupyter.widget-view+json": {
       "model_id": "7084901a84954f5ca9f9f6dc54fed311",
       "version_major": 2,
       "version_minor": 0
      },
      "text/plain": [
       "  0%|          | 0/28 [00:00<?, ?it/s]"
      ]
     },
     "metadata": {},
     "output_type": "display_data"
    },
    {
     "name": "stdout",
     "output_type": "stream",
     "text": [
      "For n_clusters = 2 The average silhouette_score is : 0.49802906322677315\n",
      "For n_clusters = 3 The average silhouette_score is : 0.44517633936665313\n",
      "For n_clusters = 4 The average silhouette_score is : 0.4127366590784887\n",
      "For n_clusters = 5 The average silhouette_score is : 0.4026213761920998\n",
      "For n_clusters = 6 The average silhouette_score is : 0.4224054523373244\n",
      "For n_clusters = 7 The average silhouette_score is : 0.4091357659823786\n",
      "For n_clusters = 8 The average silhouette_score is : 0.37320364236212517\n",
      "For n_clusters = 9 The average silhouette_score is : 0.37357626448765896\n",
      "For n_clusters = 10 The average silhouette_score is : 0.3512254783761634\n",
      "For n_clusters = 11 The average silhouette_score is : 0.3537975626263718\n",
      "For n_clusters = 12 The average silhouette_score is : 0.3377821186320535\n",
      "For n_clusters = 13 The average silhouette_score is : 0.3445844338558182\n",
      "For n_clusters = 14 The average silhouette_score is : 0.3482585781428525\n",
      "For n_clusters = 15 The average silhouette_score is : 0.35602617516609103\n",
      "For n_clusters = 16 The average silhouette_score is : 0.34038682116771735\n",
      "For n_clusters = 17 The average silhouette_score is : 0.3532543974076854\n",
      "For n_clusters = 18 The average silhouette_score is : 0.354373208680104\n",
      "For n_clusters = 19 The average silhouette_score is : 0.34464384911914203\n",
      "For n_clusters = 20 The average silhouette_score is : 0.3467199960345171\n",
      "For n_clusters = 21 The average silhouette_score is : 0.35117400595280945\n",
      "For n_clusters = 22 The average silhouette_score is : 0.34985286672210436\n",
      "For n_clusters = 23 The average silhouette_score is : 0.3388015945675864\n",
      "For n_clusters = 24 The average silhouette_score is : 0.33945484701421735\n",
      "For n_clusters = 25 The average silhouette_score is : 0.3432607547441672\n",
      "For n_clusters = 26 The average silhouette_score is : 0.3455030521752822\n",
      "For n_clusters = 27 The average silhouette_score is : 0.34067386080958867\n",
      "For n_clusters = 28 The average silhouette_score is : 0.32948260169084226\n",
      "For n_clusters = 29 The average silhouette_score is : 0.324373113451849\n"
     ]
    },
    {
     "data": {
      "application/vnd.jupyter.widget-view+json": {
       "model_id": "e06a3c4d6037422b9a5767c93aa32ce4",
       "version_major": 2,
       "version_minor": 0
      },
      "text/plain": [
       "  0%|          | 0/6 [00:00<?, ?it/s]"
      ]
     },
     "metadata": {},
     "output_type": "display_data"
    },
    {
     "name": "stdout",
     "output_type": "stream",
     "text": [
      "Working on : leo, 2019-07-31.\n"
     ]
    },
    {
     "data": {
      "application/vnd.jupyter.widget-view+json": {
       "model_id": "8e9da2b5b8284100bbb5a12a42d198ad",
       "version_major": 2,
       "version_minor": 0
      },
      "text/plain": [
       "  0%|          | 0/28 [00:00<?, ?it/s]"
      ]
     },
     "metadata": {},
     "output_type": "display_data"
    },
    {
     "name": "stdout",
     "output_type": "stream",
     "text": [
      "For n_clusters = 2 The average silhouette_score is : 0.5537258657124402\n",
      "For n_clusters = 3 The average silhouette_score is : 0.5177407685037151\n",
      "For n_clusters = 4 The average silhouette_score is : 0.5167720744184553\n",
      "For n_clusters = 5 The average silhouette_score is : 0.4815125611135174\n",
      "For n_clusters = 6 The average silhouette_score is : 0.4628011840773116\n",
      "For n_clusters = 7 The average silhouette_score is : 0.44677692947421815\n",
      "For n_clusters = 8 The average silhouette_score is : 0.4171614892200843\n",
      "For n_clusters = 9 The average silhouette_score is : 0.38729088161528974\n",
      "For n_clusters = 10 The average silhouette_score is : 0.37243951421691646\n",
      "For n_clusters = 11 The average silhouette_score is : 0.380213143912599\n",
      "For n_clusters = 12 The average silhouette_score is : 0.3670635692266302\n",
      "For n_clusters = 13 The average silhouette_score is : 0.34735539138787785\n",
      "For n_clusters = 14 The average silhouette_score is : 0.3380966453389417\n",
      "For n_clusters = 15 The average silhouette_score is : 0.34228263725088515\n",
      "For n_clusters = 16 The average silhouette_score is : 0.3275716815600216\n",
      "For n_clusters = 17 The average silhouette_score is : 0.3258663980278317\n",
      "For n_clusters = 18 The average silhouette_score is : 0.3219960575230527\n",
      "For n_clusters = 19 The average silhouette_score is : 0.330556982313914\n",
      "For n_clusters = 20 The average silhouette_score is : 0.3252676270008382\n",
      "For n_clusters = 21 The average silhouette_score is : 0.3307846451150297\n",
      "For n_clusters = 22 The average silhouette_score is : 0.3195822309736423\n",
      "For n_clusters = 23 The average silhouette_score is : 0.326465231770175\n",
      "For n_clusters = 24 The average silhouette_score is : 0.3234850649104876\n",
      "For n_clusters = 25 The average silhouette_score is : 0.32140712400357774\n",
      "For n_clusters = 26 The average silhouette_score is : 0.32201787619209943\n",
      "For n_clusters = 27 The average silhouette_score is : 0.3209781850855842\n",
      "For n_clusters = 28 The average silhouette_score is : 0.3222617840764394\n",
      "For n_clusters = 29 The average silhouette_score is : 0.3111084181316166\n",
      "Working on : leo, 2019-03-28.\n"
     ]
    },
    {
     "data": {
      "application/vnd.jupyter.widget-view+json": {
       "model_id": "8dba39f9ad40401aa1d94b0f4148b3d1",
       "version_major": 2,
       "version_minor": 0
      },
      "text/plain": [
       "  0%|          | 0/28 [00:00<?, ?it/s]"
      ]
     },
     "metadata": {},
     "output_type": "display_data"
    },
    {
     "name": "stdout",
     "output_type": "stream",
     "text": [
      "For n_clusters = 2 The average silhouette_score is : 0.5652039307064745\n",
      "For n_clusters = 3 The average silhouette_score is : 0.526924872537257\n",
      "For n_clusters = 4 The average silhouette_score is : 0.5239379279701714\n",
      "For n_clusters = 5 The average silhouette_score is : 0.4961925568052785\n",
      "For n_clusters = 6 The average silhouette_score is : 0.47059412380663285\n",
      "For n_clusters = 7 The average silhouette_score is : 0.4517789308888665\n",
      "For n_clusters = 8 The average silhouette_score is : 0.423384512994583\n",
      "For n_clusters = 9 The average silhouette_score is : 0.40174825227003436\n",
      "For n_clusters = 10 The average silhouette_score is : 0.3850894418732941\n",
      "For n_clusters = 11 The average silhouette_score is : 0.39302650512903176\n",
      "For n_clusters = 12 The average silhouette_score is : 0.377691706527494\n",
      "For n_clusters = 13 The average silhouette_score is : 0.3679601889414671\n",
      "For n_clusters = 14 The average silhouette_score is : 0.35692784866326766\n",
      "For n_clusters = 15 The average silhouette_score is : 0.3622031160144498\n",
      "For n_clusters = 16 The average silhouette_score is : 0.3503876256247578\n",
      "For n_clusters = 17 The average silhouette_score is : 0.34147955506239125\n",
      "For n_clusters = 18 The average silhouette_score is : 0.34296206449311706\n",
      "For n_clusters = 19 The average silhouette_score is : 0.34368154255235145\n",
      "For n_clusters = 20 The average silhouette_score is : 0.3326639956355032\n",
      "For n_clusters = 21 The average silhouette_score is : 0.32955949332930495\n",
      "For n_clusters = 22 The average silhouette_score is : 0.3238056320680728\n",
      "For n_clusters = 23 The average silhouette_score is : 0.3328781795188147\n",
      "For n_clusters = 24 The average silhouette_score is : 0.33079149989495166\n",
      "For n_clusters = 25 The average silhouette_score is : 0.329317051575749\n",
      "For n_clusters = 26 The average silhouette_score is : 0.32447538166064976\n",
      "For n_clusters = 27 The average silhouette_score is : 0.3281322583791651\n",
      "For n_clusters = 28 The average silhouette_score is : 0.32946804982253214\n",
      "For n_clusters = 29 The average silhouette_score is : 0.3257690809829093\n",
      "Working on : leo, 2019-02-11.\n"
     ]
    },
    {
     "data": {
      "application/vnd.jupyter.widget-view+json": {
       "model_id": "e02e7dc0294446d68fd82782043334d1",
       "version_major": 2,
       "version_minor": 0
      },
      "text/plain": [
       "  0%|          | 0/28 [00:00<?, ?it/s]"
      ]
     },
     "metadata": {},
     "output_type": "display_data"
    },
    {
     "name": "stdout",
     "output_type": "stream",
     "text": [
      "For n_clusters = 2 The average silhouette_score is : 0.5303977888701271\n",
      "For n_clusters = 3 The average silhouette_score is : 0.5330102976116967\n",
      "For n_clusters = 4 The average silhouette_score is : 0.4783306251840546\n",
      "For n_clusters = 5 The average silhouette_score is : 0.4391254436069971\n",
      "For n_clusters = 6 The average silhouette_score is : 0.42575635782077553\n",
      "For n_clusters = 7 The average silhouette_score is : 0.4073990648366254\n",
      "For n_clusters = 8 The average silhouette_score is : 0.38499838109541684\n",
      "For n_clusters = 9 The average silhouette_score is : 0.3613124544957026\n",
      "For n_clusters = 10 The average silhouette_score is : 0.34451985967041115\n",
      "For n_clusters = 11 The average silhouette_score is : 0.3288394734794644\n",
      "For n_clusters = 12 The average silhouette_score is : 0.33739410157497585\n",
      "For n_clusters = 13 The average silhouette_score is : 0.3441156474070476\n",
      "For n_clusters = 14 The average silhouette_score is : 0.3313715726054466\n",
      "For n_clusters = 15 The average silhouette_score is : 0.3365373154767988\n",
      "For n_clusters = 16 The average silhouette_score is : 0.32475442868534937\n",
      "For n_clusters = 17 The average silhouette_score is : 0.33368878748356534\n",
      "For n_clusters = 18 The average silhouette_score is : 0.32574742367492737\n",
      "For n_clusters = 19 The average silhouette_score is : 0.32368833698734006\n",
      "For n_clusters = 20 The average silhouette_score is : 0.32343737862751903\n",
      "For n_clusters = 21 The average silhouette_score is : 0.3188849059495862\n",
      "For n_clusters = 22 The average silhouette_score is : 0.31502790939857545\n",
      "For n_clusters = 23 The average silhouette_score is : 0.3125631491281781\n",
      "For n_clusters = 24 The average silhouette_score is : 0.3109823739880931\n",
      "For n_clusters = 25 The average silhouette_score is : 0.3059011962523963\n",
      "For n_clusters = 26 The average silhouette_score is : 0.31168505246296835\n",
      "For n_clusters = 27 The average silhouette_score is : 0.30500211118824283\n",
      "For n_clusters = 28 The average silhouette_score is : 0.30563834407196744\n",
      "For n_clusters = 29 The average silhouette_score is : 0.30539034274290283\n",
      "Working on : leo, 2018-09-20.\n"
     ]
    },
    {
     "data": {
      "application/vnd.jupyter.widget-view+json": {
       "model_id": "8f48de753f1749bfb097d8644972bab9",
       "version_major": 2,
       "version_minor": 0
      },
      "text/plain": [
       "  0%|          | 0/28 [00:00<?, ?it/s]"
      ]
     },
     "metadata": {},
     "output_type": "display_data"
    },
    {
     "name": "stdout",
     "output_type": "stream",
     "text": [
      "For n_clusters = 2 The average silhouette_score is : 0.5303765573565244\n",
      "For n_clusters = 3 The average silhouette_score is : 0.506647014614286\n",
      "For n_clusters = 4 The average silhouette_score is : 0.489517974998391\n",
      "For n_clusters = 5 The average silhouette_score is : 0.48127873193593995\n",
      "For n_clusters = 6 The average silhouette_score is : 0.4551861980473739\n",
      "For n_clusters = 7 The average silhouette_score is : 0.42838128524178654\n",
      "For n_clusters = 8 The average silhouette_score is : 0.40240360948455717\n",
      "For n_clusters = 9 The average silhouette_score is : 0.3807123138810468\n",
      "For n_clusters = 10 The average silhouette_score is : 0.3604613090845088\n",
      "For n_clusters = 11 The average silhouette_score is : 0.3436523534532629\n",
      "For n_clusters = 12 The average silhouette_score is : 0.3320747627640658\n",
      "For n_clusters = 13 The average silhouette_score is : 0.33308432363315504\n",
      "For n_clusters = 14 The average silhouette_score is : 0.33970719585904346\n",
      "For n_clusters = 15 The average silhouette_score is : 0.33838370061786943\n",
      "For n_clusters = 16 The average silhouette_score is : 0.32242723444251864\n",
      "For n_clusters = 17 The average silhouette_score is : 0.3301132256752443\n",
      "For n_clusters = 18 The average silhouette_score is : 0.3269090373511289\n",
      "For n_clusters = 19 The average silhouette_score is : 0.3297883997851132\n",
      "For n_clusters = 20 The average silhouette_score is : 0.31579964175095476\n",
      "For n_clusters = 21 The average silhouette_score is : 0.32102294205578547\n",
      "For n_clusters = 22 The average silhouette_score is : 0.32523668541943557\n",
      "For n_clusters = 23 The average silhouette_score is : 0.31647002952223985\n",
      "For n_clusters = 24 The average silhouette_score is : 0.3184283823685663\n",
      "For n_clusters = 25 The average silhouette_score is : 0.31731258731323136\n",
      "For n_clusters = 26 The average silhouette_score is : 0.31157506599560203\n",
      "For n_clusters = 27 The average silhouette_score is : 0.31871998992912987\n",
      "For n_clusters = 28 The average silhouette_score is : 0.3115433881732042\n",
      "For n_clusters = 29 The average silhouette_score is : 0.31670428493515945\n",
      "Working on : leo, 2018-07-13.\n"
     ]
    },
    {
     "data": {
      "application/vnd.jupyter.widget-view+json": {
       "model_id": "b830cb32be3749c69d18213003bc1282",
       "version_major": 2,
       "version_minor": 0
      },
      "text/plain": [
       "  0%|          | 0/28 [00:00<?, ?it/s]"
      ]
     },
     "metadata": {},
     "output_type": "display_data"
    },
    {
     "name": "stdout",
     "output_type": "stream",
     "text": [
      "For n_clusters = 2 The average silhouette_score is : 0.5770775116128227\n",
      "For n_clusters = 3 The average silhouette_score is : 0.5399930541104823\n",
      "For n_clusters = 4 The average silhouette_score is : 0.5052394102224822\n",
      "For n_clusters = 5 The average silhouette_score is : 0.48075078602488874\n",
      "For n_clusters = 6 The average silhouette_score is : 0.45526850728131896\n",
      "For n_clusters = 7 The average silhouette_score is : 0.43226460854840604\n",
      "For n_clusters = 8 The average silhouette_score is : 0.414915883032894\n",
      "For n_clusters = 9 The average silhouette_score is : 0.39669300717981393\n",
      "For n_clusters = 10 The average silhouette_score is : 0.4033361407068592\n",
      "For n_clusters = 11 The average silhouette_score is : 0.390160235211496\n",
      "For n_clusters = 12 The average silhouette_score is : 0.40192663962505204\n",
      "For n_clusters = 13 The average silhouette_score is : 0.40118846203627984\n",
      "For n_clusters = 14 The average silhouette_score is : 0.3875015482465485\n",
      "For n_clusters = 15 The average silhouette_score is : 0.39162079666575084\n",
      "For n_clusters = 16 The average silhouette_score is : 0.3862947493472822\n",
      "For n_clusters = 17 The average silhouette_score is : 0.3769140048838302\n",
      "For n_clusters = 18 The average silhouette_score is : 0.37805995295045514\n",
      "For n_clusters = 19 The average silhouette_score is : 0.3700782242417614\n",
      "For n_clusters = 20 The average silhouette_score is : 0.3688268631641776\n",
      "For n_clusters = 21 The average silhouette_score is : 0.3566628038056517\n",
      "For n_clusters = 22 The average silhouette_score is : 0.357398020086345\n",
      "For n_clusters = 23 The average silhouette_score is : 0.3463606903289164\n",
      "For n_clusters = 24 The average silhouette_score is : 0.3551371578616615\n",
      "For n_clusters = 25 The average silhouette_score is : 0.3499068150414987\n",
      "For n_clusters = 26 The average silhouette_score is : 0.34171357718862133\n",
      "For n_clusters = 27 The average silhouette_score is : 0.3449751936375776\n",
      "For n_clusters = 28 The average silhouette_score is : 0.3459916545375308\n",
      "For n_clusters = 29 The average silhouette_score is : 0.3424678990514013\n",
      "Working on : leo, 2018-06-06.\n"
     ]
    },
    {
     "data": {
      "application/vnd.jupyter.widget-view+json": {
       "model_id": "809bc85d58204a32af698acf01c9a2e9",
       "version_major": 2,
       "version_minor": 0
      },
      "text/plain": [
       "  0%|          | 0/28 [00:00<?, ?it/s]"
      ]
     },
     "metadata": {},
     "output_type": "display_data"
    },
    {
     "name": "stdout",
     "output_type": "stream",
     "text": [
      "For n_clusters = 2 The average silhouette_score is : 0.5026712292122081\n",
      "For n_clusters = 3 The average silhouette_score is : 0.5204076376663338\n",
      "For n_clusters = 4 The average silhouette_score is : 0.4930681188022711\n",
      "For n_clusters = 5 The average silhouette_score is : 0.47433821590270814\n",
      "For n_clusters = 6 The average silhouette_score is : 0.45318465731011304\n",
      "For n_clusters = 7 The average silhouette_score is : 0.4264582747356895\n",
      "For n_clusters = 8 The average silhouette_score is : 0.409395488173577\n",
      "For n_clusters = 9 The average silhouette_score is : 0.39060635412536227\n",
      "For n_clusters = 10 The average silhouette_score is : 0.3802600529763615\n",
      "For n_clusters = 11 The average silhouette_score is : 0.3864671495205191\n",
      "For n_clusters = 12 The average silhouette_score is : 0.3707382391134763\n",
      "For n_clusters = 13 The average silhouette_score is : 0.3553489614160111\n",
      "For n_clusters = 14 The average silhouette_score is : 0.3583010107783304\n",
      "For n_clusters = 15 The average silhouette_score is : 0.37103493490091854\n",
      "For n_clusters = 16 The average silhouette_score is : 0.37614984261874224\n",
      "For n_clusters = 17 The average silhouette_score is : 0.3687921656493602\n",
      "For n_clusters = 18 The average silhouette_score is : 0.3552555802928379\n",
      "For n_clusters = 19 The average silhouette_score is : 0.3457672637245607\n",
      "For n_clusters = 20 The average silhouette_score is : 0.35426144357962386\n",
      "For n_clusters = 21 The average silhouette_score is : 0.3567554797811821\n",
      "For n_clusters = 22 The average silhouette_score is : 0.34485103761343305\n",
      "For n_clusters = 23 The average silhouette_score is : 0.33469031872937566\n",
      "For n_clusters = 24 The average silhouette_score is : 0.3309631948825118\n",
      "For n_clusters = 25 The average silhouette_score is : 0.3269364528850026\n",
      "For n_clusters = 26 The average silhouette_score is : 0.334593285837869\n",
      "For n_clusters = 27 The average silhouette_score is : 0.33109577914116484\n",
      "For n_clusters = 28 The average silhouette_score is : 0.3343177339557132\n",
      "For n_clusters = 29 The average silhouette_score is : 0.32382788016835334\n",
      "Wall time: 33min 30s\n"
     ]
    }
   ],
   "source": [
    "%%time\n",
    "# Run interatively KMeans + SA\n",
    "\n",
    "feature_set=[\"band1\",\"band2\",\"band3\"]\n",
    "sil_df=get_sil_location(data_merged,\n",
    "                        ks=(2,30), \n",
    "                        feature_set=feature_set,\n",
    "                       random_state=10)"
   ]
  },
  {
   "cell_type": "code",
   "execution_count": 9,
   "metadata": {},
   "outputs": [
    {
     "data": {
      "text/html": [
       "<div>\n",
       "<style scoped>\n",
       "    .dataframe tbody tr th:only-of-type {\n",
       "        vertical-align: middle;\n",
       "    }\n",
       "\n",
       "    .dataframe tbody tr th {\n",
       "        vertical-align: top;\n",
       "    }\n",
       "\n",
       "    .dataframe thead th {\n",
       "        text-align: right;\n",
       "    }\n",
       "</style>\n",
       "<table border=\"1\" class=\"dataframe\">\n",
       "  <thead>\n",
       "    <tr style=\"text-align: right;\">\n",
       "      <th></th>\n",
       "      <th>location</th>\n",
       "      <th>survey_date</th>\n",
       "      <th>k</th>\n",
       "      <th>silhouette_mean</th>\n",
       "    </tr>\n",
       "  </thead>\n",
       "  <tbody>\n",
       "    <tr>\n",
       "      <th>0</th>\n",
       "      <td>mar</td>\n",
       "      <td>2019-05-16</td>\n",
       "      <td>2</td>\n",
       "      <td>0.686208</td>\n",
       "    </tr>\n",
       "    <tr>\n",
       "      <th>1</th>\n",
       "      <td>mar</td>\n",
       "      <td>2019-05-16</td>\n",
       "      <td>3</td>\n",
       "      <td>0.513965</td>\n",
       "    </tr>\n",
       "    <tr>\n",
       "      <th>2</th>\n",
       "      <td>mar</td>\n",
       "      <td>2019-05-16</td>\n",
       "      <td>4</td>\n",
       "      <td>0.542803</td>\n",
       "    </tr>\n",
       "    <tr>\n",
       "      <th>3</th>\n",
       "      <td>mar</td>\n",
       "      <td>2019-05-16</td>\n",
       "      <td>5</td>\n",
       "      <td>0.508383</td>\n",
       "    </tr>\n",
       "    <tr>\n",
       "      <th>4</th>\n",
       "      <td>mar</td>\n",
       "      <td>2019-05-16</td>\n",
       "      <td>6</td>\n",
       "      <td>0.474671</td>\n",
       "    </tr>\n",
       "  </tbody>\n",
       "</table>\n",
       "</div>"
      ],
      "text/plain": [
       "  location survey_date  k  silhouette_mean\n",
       "0      mar  2019-05-16  2         0.686208\n",
       "1      mar  2019-05-16  3         0.513965\n",
       "2      mar  2019-05-16  4         0.542803\n",
       "3      mar  2019-05-16  5         0.508383\n",
       "4      mar  2019-05-16  6         0.474671"
      ]
     },
     "execution_count": 9,
     "metadata": {},
     "output_type": "execute_result"
    }
   ],
   "source": [
    "sil_df.head()"
   ]
  },
  {
   "cell_type": "markdown",
   "metadata": {},
   "source": [
    "##  Sub-optimal k\n",
    "\n",
    "Find sub-optimal k by searching inflexion points where an additional cluster do not considerably degrade the overall clustering performance."
   ]
  },
  {
   "cell_type": "code",
   "execution_count": 10,
   "metadata": {
    "scrolled": true
   },
   "outputs": [
    {
     "data": {
      "text/plain": [
       "{'leo_2018-06-06': 10,\n",
       " 'leo_2018-07-13': 9,\n",
       " 'leo_2018-09-20': 12,\n",
       " 'leo_2019-02-11': 11,\n",
       " 'leo_2019-03-28': 10,\n",
       " 'leo_2019-07-31': 10,\n",
       " 'mar_2018-06-01': 5,\n",
       " 'mar_2018-06-21': 7,\n",
       " 'mar_2018-07-27': 5,\n",
       " 'mar_2018-09-25': 11,\n",
       " 'mar_2018-11-13': 3,\n",
       " 'mar_2018-12-11': 11,\n",
       " 'mar_2019-02-05': 10,\n",
       " 'mar_2019-03-13': 3,\n",
       " 'mar_2019-05-16': 3}"
      ]
     },
     "execution_count": 10,
     "metadata": {},
     "output_type": "execute_result"
    }
   ],
   "source": [
    "opt_k=get_opt_k(sil_df, sigma=0 )\n",
    "opt_k"
   ]
  },
  {
   "cell_type": "markdown",
   "metadata": {},
   "source": [
    "If we are not satisfied with the sub-optimal k returned by the algorithm, we can manually specify each survey k\n",
    "by defining a dictionary."
   ]
  },
  {
   "cell_type": "code",
   "execution_count": 11,
   "metadata": {},
   "outputs": [
    {
     "data": {
      "text/plain": [
       "{'leo_2018-06-06': 10,\n",
       " 'leo_2018-07-13': 10,\n",
       " 'leo_2018-09-20': 10,\n",
       " 'leo_2019-02-11': 10,\n",
       " 'leo_2019-03-28': 10,\n",
       " 'leo_2019-07-31': 10,\n",
       " 'mar_2018-06-01': 10,\n",
       " 'mar_2018-06-21': 10,\n",
       " 'mar_2018-07-27': 10,\n",
       " 'mar_2018-09-25': 10,\n",
       " 'mar_2018-11-13': 10,\n",
       " 'mar_2018-12-11': 10,\n",
       " 'mar_2019-02-05': 10,\n",
       " 'mar_2019-03-13': 10,\n",
       " 'mar_2019-05-16': 10}"
      ]
     },
     "execution_count": 11,
     "metadata": {},
     "output_type": "execute_result"
    }
   ],
   "source": [
    "# Based on our observations on a dataset comprising 87 surveys, 10 clusters (k=10) is generally a good tradeoff.\n",
    "\n",
    "opt_k={'leo_2018-06-06': 10,\n",
    " 'leo_2018-07-13': 10,\n",
    " 'leo_2018-09-20': 10,\n",
    " 'leo_2019-02-11': 10,\n",
    " 'leo_2019-03-28': 10,\n",
    " 'leo_2019-07-31': 10,\n",
    " 'mar_2018-06-01': 10,\n",
    " 'mar_2018-06-21': 10,\n",
    " 'mar_2018-07-27': 10,\n",
    " 'mar_2018-09-25': 10,\n",
    " 'mar_2018-11-13': 10,\n",
    " 'mar_2018-12-11': 10,\n",
    " 'mar_2019-02-05': 10,\n",
    " 'mar_2019-03-13': 10,\n",
    " 'mar_2019-05-16': 10}\n",
    "\n",
    "opt_k"
   ]
  },
  {
   "cell_type": "markdown",
   "metadata": {},
   "source": [
    "or, update one value only. For instance, in mar_2019-05-16 dataset, it is unlikely that 3 clusters are enough.<br>\n",
    "So, we replace only that value with 10.\n"
   ]
  },
  {
   "cell_type": "code",
   "execution_count": 12,
   "metadata": {},
   "outputs": [
    {
     "data": {
      "text/plain": [
       "{'leo_2018-06-06': 10,\n",
       " 'leo_2018-07-13': 10,\n",
       " 'leo_2018-09-20': 10,\n",
       " 'leo_2019-02-11': 10,\n",
       " 'leo_2019-03-28': 10,\n",
       " 'leo_2019-07-31': 10,\n",
       " 'mar_2018-06-01': 10,\n",
       " 'mar_2018-06-21': 10,\n",
       " 'mar_2018-07-27': 10,\n",
       " 'mar_2018-09-25': 10,\n",
       " 'mar_2018-11-13': 10,\n",
       " 'mar_2018-12-11': 10,\n",
       " 'mar_2019-02-05': 10,\n",
       " 'mar_2019-03-13': 10,\n",
       " 'mar_2019-05-16': 10}"
      ]
     },
     "execution_count": 12,
     "metadata": {},
     "output_type": "execute_result"
    }
   ],
   "source": [
    "opt_k['mar_2019-05-16']=10\n",
    "opt_k"
   ]
  },
  {
   "cell_type": "markdown",
   "metadata": {},
   "source": [
    "## Optimised K-Means clustering\n",
    "\n",
    "With the sub-optimal k dictionary and keeping the same feature set, we finally cluster the dataset."
   ]
  },
  {
   "cell_type": "code",
   "execution_count": 13,
   "metadata": {
    "scrolled": true
   },
   "outputs": [
    {
     "data": {
      "application/vnd.jupyter.widget-view+json": {
       "model_id": "0b63b0ba33a948e292358f2ada143d2a",
       "version_major": 2,
       "version_minor": 0
      },
      "text/plain": [
       "  0%|          | 0/2 [00:00<?, ?it/s]"
      ]
     },
     "metadata": {},
     "output_type": "display_data"
    },
    {
     "data": {
      "application/vnd.jupyter.widget-view+json": {
       "model_id": "76621381fdea4cb4a66d7c629e0967b1",
       "version_major": 2,
       "version_minor": 0
      },
      "text/plain": [
       "  0%|          | 0/9 [00:00<?, ?it/s]"
      ]
     },
     "metadata": {},
     "output_type": "display_data"
    },
    {
     "data": {
      "application/vnd.jupyter.widget-view+json": {
       "model_id": "b8292b1056af47d7b2b342406348739e",
       "version_major": 2,
       "version_minor": 0
      },
      "text/plain": [
       "  0%|          | 0/6 [00:00<?, ?it/s]"
      ]
     },
     "metadata": {},
     "output_type": "display_data"
    }
   ],
   "source": [
    "feature_set=[\"band1\",\"band2\",\"band3\"]\n",
    "data_classified=kmeans_sa(data_merged,opt_k, feature_set=feature_set)"
   ]
  },
  {
   "cell_type": "code",
   "execution_count": 14,
   "metadata": {},
   "outputs": [
    {
     "data": {
      "text/html": [
       "<div>\n",
       "<style scoped>\n",
       "    .dataframe tbody tr th:only-of-type {\n",
       "        vertical-align: middle;\n",
       "    }\n",
       "\n",
       "    .dataframe tbody tr th {\n",
       "        vertical-align: top;\n",
       "    }\n",
       "\n",
       "    .dataframe thead th {\n",
       "        text-align: right;\n",
       "    }\n",
       "</style>\n",
       "<table border=\"1\" class=\"dataframe\">\n",
       "  <thead>\n",
       "    <tr style=\"text-align: right;\">\n",
       "      <th></th>\n",
       "      <th>point_id</th>\n",
       "      <th>label_k</th>\n",
       "      <th>distance</th>\n",
       "      <th>z</th>\n",
       "      <th>tr_id</th>\n",
       "      <th>raw_date</th>\n",
       "      <th>coordinates</th>\n",
       "      <th>location</th>\n",
       "      <th>survey_date</th>\n",
       "      <th>x</th>\n",
       "      <th>y</th>\n",
       "      <th>geometry</th>\n",
       "      <th>band1</th>\n",
       "      <th>band2</th>\n",
       "      <th>band3</th>\n",
       "      <th>slope</th>\n",
       "      <th>curve</th>\n",
       "    </tr>\n",
       "  </thead>\n",
       "  <tbody>\n",
       "    <tr>\n",
       "      <th>0</th>\n",
       "      <td>67143080l2610320eo00</td>\n",
       "      <td>3</td>\n",
       "      <td>0.2</td>\n",
       "      <td>1.105616</td>\n",
       "      <td>47</td>\n",
       "      <td>20180606</td>\n",
       "      <td>POINT (299873.4167173313 5773731.881880409)</td>\n",
       "      <td>leo</td>\n",
       "      <td>2018-06-06</td>\n",
       "      <td>299873.4167173313</td>\n",
       "      <td>5773731.881880409</td>\n",
       "      <td>POINT (299873.417 5773731.882)</td>\n",
       "      <td>141.0</td>\n",
       "      <td>142.0</td>\n",
       "      <td>132.0</td>\n",
       "      <td>-0.006003</td>\n",
       "      <td>0.002122</td>\n",
       "    </tr>\n",
       "    <tr>\n",
       "      <th>1</th>\n",
       "      <td>67142080l2670630eo00</td>\n",
       "      <td>3</td>\n",
       "      <td>0.3</td>\n",
       "      <td>1.101189</td>\n",
       "      <td>47</td>\n",
       "      <td>20180606</td>\n",
       "      <td>POINT (299873.516093276 5773731.893034852)</td>\n",
       "      <td>leo</td>\n",
       "      <td>2018-06-06</td>\n",
       "      <td>299873.51609327603</td>\n",
       "      <td>5773731.893034852</td>\n",
       "      <td>POINT (299873.516 5773731.893)</td>\n",
       "      <td>148.0</td>\n",
       "      <td>148.0</td>\n",
       "      <td>143.0</td>\n",
       "      <td>-0.003264</td>\n",
       "      <td>0.001769</td>\n",
       "    </tr>\n",
       "    <tr>\n",
       "      <th>2</th>\n",
       "      <td>67142080l2600940eo00</td>\n",
       "      <td>3</td>\n",
       "      <td>0.4</td>\n",
       "      <td>1.099089</td>\n",
       "      <td>47</td>\n",
       "      <td>20180606</td>\n",
       "      <td>POINT (299873.6154692209 5773731.904189295)</td>\n",
       "      <td>leo</td>\n",
       "      <td>2018-06-06</td>\n",
       "      <td>299873.61546922085</td>\n",
       "      <td>5773731.904189295</td>\n",
       "      <td>POINT (299873.615 5773731.904)</td>\n",
       "      <td>140.0</td>\n",
       "      <td>142.0</td>\n",
       "      <td>129.0</td>\n",
       "      <td>-0.002465</td>\n",
       "      <td>0.001138</td>\n",
       "    </tr>\n",
       "    <tr>\n",
       "      <th>3</th>\n",
       "      <td>67146080l2650750eo00</td>\n",
       "      <td>6</td>\n",
       "      <td>0.5</td>\n",
       "      <td>1.096259</td>\n",
       "      <td>47</td>\n",
       "      <td>20180606</td>\n",
       "      <td>POINT (299873.7148451657 5773731.915343738)</td>\n",
       "      <td>leo</td>\n",
       "      <td>2018-06-06</td>\n",
       "      <td>299873.71484516567</td>\n",
       "      <td>5773731.915343738</td>\n",
       "      <td>POINT (299873.715 5773731.915)</td>\n",
       "      <td>162.0</td>\n",
       "      <td>165.0</td>\n",
       "      <td>155.0</td>\n",
       "      <td>-0.000988</td>\n",
       "      <td>0.001301</td>\n",
       "    </tr>\n",
       "    <tr>\n",
       "      <th>4</th>\n",
       "      <td>67141080l2600560eo00</td>\n",
       "      <td>3</td>\n",
       "      <td>0.6</td>\n",
       "      <td>1.097113</td>\n",
       "      <td>47</td>\n",
       "      <td>20180606</td>\n",
       "      <td>POINT (299873.8142211105 5773731.92649818)</td>\n",
       "      <td>leo</td>\n",
       "      <td>2018-06-06</td>\n",
       "      <td>299873.8142211105</td>\n",
       "      <td>5773731.92649818</td>\n",
       "      <td>POINT (299873.814 5773731.926)</td>\n",
       "      <td>152.0</td>\n",
       "      <td>154.0</td>\n",
       "      <td>137.0</td>\n",
       "      <td>0.000136</td>\n",
       "      <td>0.001117</td>\n",
       "    </tr>\n",
       "    <tr>\n",
       "      <th>...</th>\n",
       "      <td>...</td>\n",
       "      <td>...</td>\n",
       "      <td>...</td>\n",
       "      <td>...</td>\n",
       "      <td>...</td>\n",
       "      <td>...</td>\n",
       "      <td>...</td>\n",
       "      <td>...</td>\n",
       "      <td>...</td>\n",
       "      <td>...</td>\n",
       "      <td>...</td>\n",
       "      <td>...</td>\n",
       "      <td>...</td>\n",
       "      <td>...</td>\n",
       "      <td>...</td>\n",
       "      <td>...</td>\n",
       "      <td>...</td>\n",
       "    </tr>\n",
       "    <tr>\n",
       "      <th>234347</th>\n",
       "      <td>60100091m2529300ar75</td>\n",
       "      <td>2</td>\n",
       "      <td>79.5</td>\n",
       "      <td>8.513124</td>\n",
       "      <td>0</td>\n",
       "      <td>20190516</td>\n",
       "      <td>POINT (731433.4192254023 5705160.105556185)</td>\n",
       "      <td>mar</td>\n",
       "      <td>2019-05-16</td>\n",
       "      <td>731433.4192254023</td>\n",
       "      <td>5705160.105556185</td>\n",
       "      <td>POINT (731433.419 5705160.106)</td>\n",
       "      <td>40.0</td>\n",
       "      <td>59.0</td>\n",
       "      <td>28.0</td>\n",
       "      <td>-0.001998</td>\n",
       "      <td>-0.004390</td>\n",
       "    </tr>\n",
       "    <tr>\n",
       "      <th>234348</th>\n",
       "      <td>60109091m2599500ar76</td>\n",
       "      <td>7</td>\n",
       "      <td>79.6</td>\n",
       "      <td>8.510223</td>\n",
       "      <td>0</td>\n",
       "      <td>20190516</td>\n",
       "      <td>POINT (731433.3198014995 5705160.116274748)</td>\n",
       "      <td>mar</td>\n",
       "      <td>2019-05-16</td>\n",
       "      <td>731433.3198014995</td>\n",
       "      <td>5705160.116274748</td>\n",
       "      <td>POINT (731433.320 5705160.116)</td>\n",
       "      <td>70.0</td>\n",
       "      <td>98.0</td>\n",
       "      <td>59.0</td>\n",
       "      <td>-0.009601</td>\n",
       "      <td>-0.125342</td>\n",
       "    </tr>\n",
       "    <tr>\n",
       "      <th>234349</th>\n",
       "      <td>60109091m2569800ar77</td>\n",
       "      <td>6</td>\n",
       "      <td>79.7</td>\n",
       "      <td>8.493922</td>\n",
       "      <td>0</td>\n",
       "      <td>20190516</td>\n",
       "      <td>POINT (731433.2203775968 5705160.12699331)</td>\n",
       "      <td>mar</td>\n",
       "      <td>2019-05-16</td>\n",
       "      <td>731433.2203775968</td>\n",
       "      <td>5705160.12699331</td>\n",
       "      <td>POINT (731433.220 5705160.127)</td>\n",
       "      <td>58.0</td>\n",
       "      <td>89.0</td>\n",
       "      <td>49.0</td>\n",
       "      <td>-0.252682</td>\n",
       "      <td>-0.117465</td>\n",
       "    </tr>\n",
       "    <tr>\n",
       "      <th>234350</th>\n",
       "      <td>60109091m2549100ar78</td>\n",
       "      <td>7</td>\n",
       "      <td>79.8</td>\n",
       "      <td>8.004859</td>\n",
       "      <td>0</td>\n",
       "      <td>20190516</td>\n",
       "      <td>POINT (731433.1209536941 5705160.137711871)</td>\n",
       "      <td>mar</td>\n",
       "      <td>2019-05-16</td>\n",
       "      <td>731433.1209536941</td>\n",
       "      <td>5705160.137711871</td>\n",
       "      <td>POINT (731433.121 5705160.138)</td>\n",
       "      <td>75.0</td>\n",
       "      <td>105.0</td>\n",
       "      <td>66.0</td>\n",
       "      <td>-0.244532</td>\n",
       "      <td>-1.599625</td>\n",
       "    </tr>\n",
       "    <tr>\n",
       "      <th>234351</th>\n",
       "      <td>60109091m2519400ar79</td>\n",
       "      <td>6</td>\n",
       "      <td>79.9</td>\n",
       "      <td>8.004859</td>\n",
       "      <td>0</td>\n",
       "      <td>20190516</td>\n",
       "      <td>POINT (731433.0215297914 5705160.148430434)</td>\n",
       "      <td>mar</td>\n",
       "      <td>2019-05-16</td>\n",
       "      <td>731433.0215297914</td>\n",
       "      <td>5705160.148430434</td>\n",
       "      <td>POINT (731433.022 5705160.148)</td>\n",
       "      <td>47.0</td>\n",
       "      <td>80.0</td>\n",
       "      <td>42.0</td>\n",
       "      <td>-3.451932</td>\n",
       "      <td>-1.603700</td>\n",
       "    </tr>\n",
       "  </tbody>\n",
       "</table>\n",
       "<p>234352 rows × 17 columns</p>\n",
       "</div>"
      ],
      "text/plain": [
       "                    point_id  label_k  distance         z tr_id  raw_date  \\\n",
       "0       67143080l2610320eo00        3       0.2  1.105616    47  20180606   \n",
       "1       67142080l2670630eo00        3       0.3  1.101189    47  20180606   \n",
       "2       67142080l2600940eo00        3       0.4  1.099089    47  20180606   \n",
       "3       67146080l2650750eo00        6       0.5  1.096259    47  20180606   \n",
       "4       67141080l2600560eo00        3       0.6  1.097113    47  20180606   \n",
       "...                      ...      ...       ...       ...   ...       ...   \n",
       "234347  60100091m2529300ar75        2      79.5  8.513124     0  20190516   \n",
       "234348  60109091m2599500ar76        7      79.6  8.510223     0  20190516   \n",
       "234349  60109091m2569800ar77        6      79.7  8.493922     0  20190516   \n",
       "234350  60109091m2549100ar78        7      79.8  8.004859     0  20190516   \n",
       "234351  60109091m2519400ar79        6      79.9  8.004859     0  20190516   \n",
       "\n",
       "                                        coordinates location survey_date  \\\n",
       "0       POINT (299873.4167173313 5773731.881880409)      leo  2018-06-06   \n",
       "1        POINT (299873.516093276 5773731.893034852)      leo  2018-06-06   \n",
       "2       POINT (299873.6154692209 5773731.904189295)      leo  2018-06-06   \n",
       "3       POINT (299873.7148451657 5773731.915343738)      leo  2018-06-06   \n",
       "4        POINT (299873.8142211105 5773731.92649818)      leo  2018-06-06   \n",
       "...                                             ...      ...         ...   \n",
       "234347  POINT (731433.4192254023 5705160.105556185)      mar  2019-05-16   \n",
       "234348  POINT (731433.3198014995 5705160.116274748)      mar  2019-05-16   \n",
       "234349   POINT (731433.2203775968 5705160.12699331)      mar  2019-05-16   \n",
       "234350  POINT (731433.1209536941 5705160.137711871)      mar  2019-05-16   \n",
       "234351  POINT (731433.0215297914 5705160.148430434)      mar  2019-05-16   \n",
       "\n",
       "                         x                  y                        geometry  \\\n",
       "0        299873.4167173313  5773731.881880409  POINT (299873.417 5773731.882)   \n",
       "1       299873.51609327603  5773731.893034852  POINT (299873.516 5773731.893)   \n",
       "2       299873.61546922085  5773731.904189295  POINT (299873.615 5773731.904)   \n",
       "3       299873.71484516567  5773731.915343738  POINT (299873.715 5773731.915)   \n",
       "4        299873.8142211105   5773731.92649818  POINT (299873.814 5773731.926)   \n",
       "...                    ...                ...                             ...   \n",
       "234347   731433.4192254023  5705160.105556185  POINT (731433.419 5705160.106)   \n",
       "234348   731433.3198014995  5705160.116274748  POINT (731433.320 5705160.116)   \n",
       "234349   731433.2203775968   5705160.12699331  POINT (731433.220 5705160.127)   \n",
       "234350   731433.1209536941  5705160.137711871  POINT (731433.121 5705160.138)   \n",
       "234351   731433.0215297914  5705160.148430434  POINT (731433.022 5705160.148)   \n",
       "\n",
       "        band1  band2  band3     slope     curve  \n",
       "0       141.0  142.0  132.0 -0.006003  0.002122  \n",
       "1       148.0  148.0  143.0 -0.003264  0.001769  \n",
       "2       140.0  142.0  129.0 -0.002465  0.001138  \n",
       "3       162.0  165.0  155.0 -0.000988  0.001301  \n",
       "4       152.0  154.0  137.0  0.000136  0.001117  \n",
       "...       ...    ...    ...       ...       ...  \n",
       "234347   40.0   59.0   28.0 -0.001998 -0.004390  \n",
       "234348   70.0   98.0   59.0 -0.009601 -0.125342  \n",
       "234349   58.0   89.0   49.0 -0.252682 -0.117465  \n",
       "234350   75.0  105.0   66.0 -0.244532 -1.599625  \n",
       "234351   47.0   80.0   42.0 -3.451932 -1.603700  \n",
       "\n",
       "[234352 rows x 17 columns]"
      ]
     },
     "execution_count": 14,
     "metadata": {},
     "output_type": "execute_result"
    }
   ],
   "source": [
    "data_classified=pd.merge(data_classified[[\"point_id\",\"label_k\"]],data_merged, how=\"left\", on=\"point_id\", validate=\"one_to_one\")\n",
    "data_classified"
   ]
  },
  {
   "cell_type": "markdown",
   "metadata": {},
   "source": [
    "### GOOD!\n",
    "\n",
    "save the __data_classified__ dataframe as a CSV file and head to the __Example_3_Labels_correction_and_multitemporal_table notebook__."
   ]
  },
  {
   "cell_type": "code",
   "execution_count": 15,
   "metadata": {},
   "outputs": [],
   "source": [
    "#data_classified.to_csv(r\"C:\\my_packages\\doc_data\\labels\\data_classified.csv\", index=False)"
   ]
  },
  {
   "cell_type": "markdown",
   "metadata": {
    "collapsed": true
   },
   "source": [
    "___"
   ]
  }
 ],
 "metadata": {
  "kernelspec": {
   "display_name": "Python 3",
   "language": "python",
   "name": "python3"
  },
  "language_info": {
   "codemirror_mode": {
    "name": "ipython",
    "version": 3
   },
   "file_extension": ".py",
   "mimetype": "text/x-python",
   "name": "python",
   "nbconvert_exporter": "python",
   "pygments_lexer": "ipython3",
   "version": "3.9.4"
  }
 },
 "nbformat": 4,
 "nbformat_minor": 2
}
